{
 "cells": [
  {
   "cell_type": "code",
   "execution_count": null,
   "metadata": {},
   "outputs": [],
   "source": [
    "import os\n",
    "import pathlib  # for filepath path tooling\n",
    "import lzma  # to decompress the iCOM file\n",
    "import time\n",
    "import asyncio\n",
    "\n",
    "import numpy as np  # for array tooling\n",
    "import pandas as pd\n",
    "import matplotlib.pyplot as plt  # for plotting\n",
    "\n",
    "import traitlets\n",
    "import IPython\n",
    "import ipywidgets"
   ]
  },
  {
   "cell_type": "code",
   "execution_count": null,
   "metadata": {},
   "outputs": [],
   "source": [
    "# Makes it so that any changes in pymedphys is automatically\n",
    "# propagated into the notebook without needing a kernel reset.\n",
    "from IPython.lib.deepreload import reload\n",
    "%load_ext autoreload\n",
    "%autoreload 2"
   ]
  },
  {
   "cell_type": "code",
   "execution_count": null,
   "metadata": {},
   "outputs": [],
   "source": [
    "import pymedphys"
   ]
  },
  {
   "cell_type": "code",
   "execution_count": null,
   "metadata": {},
   "outputs": [],
   "source": [
    "icom_directory = pathlib.Path(r'\\\\physics-server\\iComLogFiles\\patients')\n",
    "monaco_directory = pathlib.Path(r'\\\\monacoda\\FocalData\\RCCC\\1~Clinical')"
   ]
  },
  {
   "cell_type": "code",
   "execution_count": null,
   "metadata": {},
   "outputs": [],
   "source": [
    "output_directory = pathlib.Path(r'S:\\Physics\\Patient Specific Logfile Fluence')\n",
    "pdf_directory = pathlib.Path(r'P:\\Scanned Documents\\RT\\PhysChecks\\Logfile PDFs')"
   ]
  },
  {
   "cell_type": "code",
   "execution_count": null,
   "metadata": {},
   "outputs": [],
   "source": [
    "GRID = pymedphys.mudensity.grid()\n",
    "COORDS = (GRID[\"jaw\"], GRID[\"mlc\"])\n",
    "\n",
    "GAMMA_OPTIONS = {\n",
    "    'dose_percent_threshold': 2,  # Not actually comparing dose though\n",
    "    'distance_mm_threshold': 0.5,\n",
    "    'local_gamma': True,\n",
    "    'quiet': True,\n",
    "    'max_gamma': 2,\n",
    "}"
   ]
  },
  {
   "cell_type": "code",
   "execution_count": null,
   "metadata": {},
   "outputs": [],
   "source": [
    "patient_id = '015231'"
   ]
  },
  {
   "cell_type": "code",
   "execution_count": null,
   "metadata": {},
   "outputs": [],
   "source": [
    "def select_plans(patient_id):\n",
    "    all_tel_paths = list(monaco_directory.glob(f'*~{patient_id}/plan/*/*tel.1'))\n",
    "    all_tel_paths = sorted(all_tel_paths, key=os.path.getmtime)\n",
    "\n",
    "    plan_names_to_choose_from = [\n",
    "        f'{path.parent.name}/{path.name}' for path in all_tel_paths\n",
    "    ]\n",
    "    \n",
    "    IPython.display.display(\n",
    "        ipywidgets.SelectMultiple(\n",
    "            options=plan_names_to_choose_from,\n",
    "            description='Monaco',\n",
    "            disabled=False\n",
    "        )\n",
    "    )"
   ]
  },
  {
   "cell_type": "code",
   "execution_count": null,
   "metadata": {},
   "outputs": [],
   "source": []
  },
  {
   "cell_type": "code",
   "execution_count": null,
   "metadata": {},
   "outputs": [],
   "source": [
    "select_plans(patient_id)"
   ]
  },
  {
   "cell_type": "code",
   "execution_count": null,
   "metadata": {},
   "outputs": [],
   "source": [
    "def select_icom(patient_id):\n",
    "    icom_deliveries = list(icom_directory.glob(f'{patient_id}_*/*.xz'))\n",
    "    icom_deliveries = sorted(icom_deliveries, key=os.path.getmtime)\n",
    "    \n",
    "    icom_files_to_choose_from = [\n",
    "        path.stem for path in icom_deliveries\n",
    "    ]\n",
    "    \n",
    "    timestamps = pd.to_datetime(icom_files_to_choose_from, format='%Y%m%d_%H%M%S')\n",
    "    \n",
    "    IPython.display.display(\n",
    "        ipywidgets.SelectMultiple(\n",
    "            options=timestamps,\n",
    "            description='Delivery',\n",
    "            disabled=False\n",
    "        )\n",
    "    )"
   ]
  },
  {
   "cell_type": "code",
   "execution_count": null,
   "metadata": {},
   "outputs": [],
   "source": [
    "list(pd.to_datetime(['20200202_111111'], format='%Y%m%d_%H%M%S').astype(str))"
   ]
  },
  {
   "cell_type": "code",
   "execution_count": null,
   "metadata": {},
   "outputs": [],
   "source": [
    "select_icom(patient_id)"
   ]
  },
  {
   "cell_type": "code",
   "execution_count": null,
   "metadata": {},
   "outputs": [],
   "source": [
    "def update_patient_id(patient_id):\n",
    "    select_plans(patient_id)\n",
    "    select_icom(patient_id)"
   ]
  },
  {
   "cell_type": "code",
   "execution_count": null,
   "metadata": {},
   "outputs": [],
   "source": [
    "update_patient_id(patient_id)"
   ]
  },
  {
   "cell_type": "code",
   "execution_count": null,
   "metadata": {},
   "outputs": [],
   "source": [
    "class Data(traitlets.HasTraits):\n",
    "    patient_id = traitlets.Unicode()\n",
    "    delivery_timestamp = traitlets.List(traitlets.Unicode())\n",
    "    plan_names = traitlets.List(traitlets.Unicode())\n",
    "    \n",
    "data = Data()\n",
    "\n",
    "\n",
    "def update_file_paths(change):\n",
    "    patient_id = data.patient_id\n",
    "    \n",
    "    \n",
    "    all_tel_paths = list(monaco_directory.glob(f'*~{patient_id}/plan/*/*tel.1'))\n",
    "    all_tel_paths = sorted(all_tel_paths, key=os.path.getmtime)\n",
    "\n",
    "    plan_names_to_choose_from = [\n",
    "        f'{path.parent.name}/{path.name}' for path in all_tel_paths\n",
    "    ]\n",
    "    \n",
    "    icom_deliveries = list(icom_directory.glob(f'{patient_id}_*/*.xz'))\n",
    "    icom_deliveries = sorted(icom_deliveries, key=os.path.getmtime)\n",
    "    \n",
    "    icom_files_to_choose_from = [\n",
    "        path.stem for path in icom_deliveries\n",
    "    ]\n",
    "    \n",
    "    timestamps = list(pd.to_datetime(icom_files_to_choose_from, format='%Y%m%d_%H%M%S').astype(str))\n",
    "    \n",
    "    data.delivery_timestamp = timestamps\n",
    "    data.plan_names = plan_names_to_choose_from\n",
    "    \n",
    "    \n",
    "data.observe(update_file_paths, names=['patient_id'])"
   ]
  },
  {
   "cell_type": "code",
   "execution_count": null,
   "metadata": {},
   "outputs": [],
   "source": []
  },
  {
   "cell_type": "code",
   "execution_count": null,
   "metadata": {},
   "outputs": [],
   "source": [
    "data.patient_id = '015231'"
   ]
  },
  {
   "cell_type": "code",
   "execution_count": null,
   "metadata": {},
   "outputs": [],
   "source": [
    "data.plan_names"
   ]
  },
  {
   "cell_type": "code",
   "execution_count": null,
   "metadata": {},
   "outputs": [],
   "source": [
    "data.delivery_timestamp"
   ]
  },
  {
   "cell_type": "code",
   "execution_count": null,
   "metadata": {},
   "outputs": [],
   "source": [
    "monaco_select = ipywidgets.SelectMultiple(\n",
    "    options=data.plan_names,\n",
    "    description='Monaco',\n",
    "    disabled=False\n",
    ")\n",
    "\n",
    "def handle_monaco_select_change(change):\n",
    "    monaco_select.options = data.plan_names\n",
    "    \n",
    "\n",
    "data.observe(handle_monaco_select_change, names=['plan_names'])"
   ]
  },
  {
   "cell_type": "code",
   "execution_count": null,
   "metadata": {},
   "outputs": [],
   "source": [
    "icom_select = ipywidgets.SelectMultiple(\n",
    "    options=data.delivery_timestamp,\n",
    "    description='Delivery',\n",
    "    disabled=False\n",
    ")\n",
    "\n",
    "def handle_icom_select_change(change):\n",
    "    icom_select.options = data.delivery_timestamp\n",
    "    \n",
    "\n",
    "data.observe(handle_icom_select_change, names=['delivery_timestamp'])"
   ]
  },
  {
   "cell_type": "code",
   "execution_count": null,
   "metadata": {},
   "outputs": [],
   "source": [
    "data.patient_id = '014877'"
   ]
  },
  {
   "cell_type": "code",
   "execution_count": null,
   "metadata": {},
   "outputs": [],
   "source": [
    "monaco_select"
   ]
  },
  {
   "cell_type": "code",
   "execution_count": null,
   "metadata": {},
   "outputs": [],
   "source": [
    "icom_select"
   ]
  },
  {
   "cell_type": "code",
   "execution_count": null,
   "metadata": {},
   "outputs": [],
   "source": [
    "\n",
    "\n",
    "class Timer:\n",
    "    def __init__(self, timeout, callback):\n",
    "        self._timeout = timeout\n",
    "        self._callback = callback\n",
    "        self._task = asyncio.ensure_future(self._job())\n",
    "\n",
    "    async def _job(self):\n",
    "        await asyncio.sleep(self._timeout)\n",
    "        self._callback()\n",
    "\n",
    "    def cancel(self):\n",
    "        self._task.cancel()\n",
    "\n",
    "def debounce(wait):\n",
    "    \"\"\" Decorator that will postpone a function's\n",
    "        execution until after `wait` seconds\n",
    "        have elapsed since the last time it was invoked. \"\"\"\n",
    "    def decorator(fn):\n",
    "        timer = None\n",
    "        def debounced(*args, **kwargs):\n",
    "            nonlocal timer\n",
    "            def call_it():\n",
    "                fn(*args, **kwargs)\n",
    "            if timer is not None:\n",
    "                timer.cancel()\n",
    "            timer = Timer(wait, call_it)\n",
    "        return debounced\n",
    "    return decorator"
   ]
  },
  {
   "cell_type": "code",
   "execution_count": null,
   "metadata": {},
   "outputs": [],
   "source": []
  },
  {
   "cell_type": "code",
   "execution_count": null,
   "metadata": {},
   "outputs": [],
   "source": []
  },
  {
   "cell_type": "code",
   "execution_count": null,
   "metadata": {},
   "outputs": [],
   "source": []
  },
  {
   "cell_type": "code",
   "execution_count": null,
   "metadata": {},
   "outputs": [],
   "source": [
    "monaco_select.value"
   ]
  },
  {
   "cell_type": "code",
   "execution_count": null,
   "metadata": {},
   "outputs": [],
   "source": [
    "IPython.display.display(\n",
    "\n",
    ")"
   ]
  },
  {
   "cell_type": "code",
   "execution_count": null,
   "metadata": {},
   "outputs": [],
   "source": [
    "IPython.display.display(\n",
    "\n",
    ")"
   ]
  },
  {
   "cell_type": "code",
   "execution_count": null,
   "metadata": {},
   "outputs": [],
   "source": []
  },
  {
   "cell_type": "code",
   "execution_count": null,
   "metadata": {},
   "outputs": [],
   "source": [
    "monaco_plan_and_file_name = 'nosereplan/tel.1'  # plan directory and file name\n",
    "icom_deliveries = ['20200326_111939']  # iCOM timestamps"
   ]
  },
  {
   "cell_type": "code",
   "execution_count": null,
   "metadata": {},
   "outputs": [],
   "source": [
    "tel_path = list(monaco_directory.glob(f'*~{patient_id}/plan/{monaco_plan_and_file_name}'))[-1]\n",
    "tel_path"
   ]
  },
  {
   "cell_type": "code",
   "execution_count": null,
   "metadata": {},
   "outputs": [],
   "source": [
    "icom_paths = []\n",
    "\n",
    "for icom_delivery in icom_deliveries:\n",
    "    icom_paths += list(icom_directory.glob(f'{patient_id}_*/{icom_delivery}.xz'))\n",
    "\n",
    "icom_paths"
   ]
  },
  {
   "cell_type": "code",
   "execution_count": null,
   "metadata": {},
   "outputs": [],
   "source": [
    "icom_streams = []\n",
    "\n",
    "for icom_path in icom_paths:\n",
    "    with lzma.open(icom_path, 'r') as f:\n",
    "        icom_streams += [f.read()]"
   ]
  },
  {
   "cell_type": "code",
   "execution_count": null,
   "metadata": {},
   "outputs": [],
   "source": [
    "# Print out available methods and attributes on the Delivery object\n",
    "[command for command in dir(pymedphys.Delivery) if not command.startswith('_')]"
   ]
  },
  {
   "cell_type": "code",
   "execution_count": null,
   "metadata": {},
   "outputs": [],
   "source": [
    "deliveries_icom = []\n",
    "\n",
    "for icom_stream in icom_streams:\n",
    "    deliveries_icom += [pymedphys.Delivery.from_icom(icom_stream)]"
   ]
  },
  {
   "cell_type": "code",
   "execution_count": null,
   "metadata": {},
   "outputs": [],
   "source": [
    "delivery_tel = pymedphys.Delivery.from_monaco(tel_path)"
   ]
  },
  {
   "cell_type": "code",
   "execution_count": null,
   "metadata": {},
   "outputs": [],
   "source": [
    "mudensity_tel = delivery_tel.mudensity()"
   ]
  },
  {
   "cell_type": "code",
   "execution_count": null,
   "metadata": {},
   "outputs": [],
   "source": [
    "mudensity_icom = np.zeros_like(mudensity_tel)\n",
    "\n",
    "for path, delivery_icom in zip(icom_paths, deliveries_icom):\n",
    "    print(path)\n",
    "    mudensity_icom = mudensity_icom + delivery_icom.mudensity()"
   ]
  },
  {
   "cell_type": "code",
   "execution_count": null,
   "metadata": {},
   "outputs": [],
   "source": [
    "def to_tuple(array):\n",
    "    return tuple(map(tuple, array))\n",
    "\n",
    "gamma = pymedphys.gamma(\n",
    "    COORDS,\n",
    "    to_tuple(mudensity_tel),\n",
    "    COORDS,\n",
    "    to_tuple(mudensity_icom),\n",
    "    **GAMMA_OPTIONS\n",
    ")"
   ]
  },
  {
   "cell_type": "code",
   "execution_count": null,
   "metadata": {},
   "outputs": [],
   "source": [
    "def plot_gamma_hist(gamma, percent, dist):\n",
    "    valid_gamma = gamma[~np.isnan(gamma)]\n",
    "\n",
    "    plt.hist(valid_gamma, 50, density=True)\n",
    "    pass_ratio = np.sum(valid_gamma <= 1) / len(valid_gamma)\n",
    "\n",
    "    plt.title(\n",
    "        \"Local Gamma ({0}%/{1}mm) | Percent Pass: {2:.2f} % | Max Gamma: {3:.2f}\".format(\n",
    "            percent, dist, pass_ratio * 100, np.max(valid_gamma)\n",
    "        )\n",
    "    )"
   ]
  },
  {
   "cell_type": "code",
   "execution_count": null,
   "metadata": {},
   "outputs": [],
   "source": [
    "def plot_and_save_results(\n",
    "    mudensity_tel,\n",
    "    mudensity_icom,\n",
    "    gamma,\n",
    "    png_filepath,\n",
    "    pdf_filepath,\n",
    "    header_text=\"\",\n",
    "    footer_text=\"\",\n",
    "):\n",
    "    diff = mudensity_icom - mudensity_tel\n",
    "    largest_item = np.max(np.abs(diff))\n",
    "\n",
    "    widths = [1, 1]\n",
    "    heights = [0.3, 1, 1, 1, 0.1]\n",
    "    gs_kw = dict(width_ratios=widths, height_ratios=heights)\n",
    "\n",
    "    fig, axs = plt.subplots(5, 2, figsize=(10, 16), gridspec_kw=gs_kw)\n",
    "    gs = axs[0, 0].get_gridspec()\n",
    "\n",
    "    for ax in axs[0, 0:]:\n",
    "        ax.remove()\n",
    "\n",
    "    for ax in axs[1, 0:]:\n",
    "        ax.remove()\n",
    "\n",
    "    for ax in axs[4, 0:]:\n",
    "        ax.remove()\n",
    "\n",
    "    axheader = fig.add_subplot(gs[0, :])\n",
    "    axhist = fig.add_subplot(gs[1, :])\n",
    "    axfooter = fig.add_subplot(gs[4, :])\n",
    "\n",
    "    axheader.axis(\"off\")\n",
    "    axfooter.axis(\"off\")\n",
    "\n",
    "    axheader.text(0, 0, header_text, ha=\"left\", wrap=True, fontsize=30)\n",
    "    axfooter.text(0, 1, footer_text, ha=\"left\", va=\"top\", wrap=True, fontsize=6)\n",
    "\n",
    "    plt.sca(axs[2, 0])\n",
    "    pymedphys.mudensity.display(GRID, mudensity_tel)\n",
    "    axs[2, 0].set_title(\"Monaco Plan MU Density\")\n",
    "\n",
    "    plt.sca(axs[2, 1])\n",
    "    pymedphys.mudensity.display(GRID, mudensity_icom)\n",
    "    axs[2, 1].set_title(\"Recorded iCOM MU Density\")\n",
    "\n",
    "    plt.sca(axs[3, 0])\n",
    "    pymedphys.mudensity.display(\n",
    "        GRID, diff, cmap=\"seismic\", vmin=-largest_item, vmax=largest_item\n",
    "    )\n",
    "    plt.title(\"iCOM - Monaco\")\n",
    "\n",
    "    plt.sca(axs[3, 1])\n",
    "    pymedphys.mudensity.display(GRID, gamma, cmap=\"coolwarm\", vmin=0, vmax=2)\n",
    "    plt.title(\n",
    "        \"Local Gamma | \"\n",
    "        f\"{GAMMA_OPTIONS['dose_percent_threshold']}%/\"\n",
    "        f\"{GAMMA_OPTIONS['distance_mm_threshold']}mm\")\n",
    "\n",
    "    plt.sca(axhist)\n",
    "    plot_gamma_hist(\n",
    "        gamma, \n",
    "        GAMMA_OPTIONS['dose_percent_threshold'], \n",
    "        GAMMA_OPTIONS['distance_mm_threshold'])\n",
    "\n",
    "    return fig"
   ]
  },
  {
   "cell_type": "code",
   "execution_count": null,
   "metadata": {},
   "outputs": [],
   "source": [
    "results_dir = output_directory.joinpath(patient_id, tel_path.parent.name, icom_path.stem)\n",
    "results_dir.mkdir(exist_ok=True, parents=True)\n",
    "\n",
    "header_text = (\n",
    "    f\"Patient ID: {patient_id}\\n\"\n",
    "    f\"Plan Name: {tel_path.parent.name}\\n\"\n",
    ")\n",
    "\n",
    "icom_path_strings = '\\n    '.join([str(icom_path) for icom_path in icom_paths])\n",
    "\n",
    "footer_text = (\n",
    "    f\"tel.1 file path: {str(tel_path)}\\n\"\n",
    "    f\"icom file path(s): {icom_path_strings}\\n\"\n",
    "    f\"results path: {str(results_dir)}\"\n",
    ")\n",
    "\n",
    "png_filepath = str(results_dir.joinpath(\"result.png\").resolve())\n",
    "pdf_filepath = str(pdf_directory.joinpath(f\"{patient_id}-{monaco_plan_and_file_name.replace('/','-')}.pdf\").resolve())\n",
    "\n",
    "fig = plot_and_save_results(\n",
    "    mudensity_tel, mudensity_icom, \n",
    "    gamma, png_filepath, pdf_filepath, \n",
    "    header_text=header_text, footer_text=footer_text\n",
    ")\n",
    "\n",
    "fig.tight_layout()\n",
    "plt.savefig(png_filepath, dpi=300)\n",
    "plt.show()"
   ]
  },
  {
   "cell_type": "code",
   "execution_count": null,
   "metadata": {},
   "outputs": [],
   "source": [
    "!magick convert \"{png_filepath}\" \"{pdf_filepath}\""
   ]
  }
 ],
 "metadata": {
  "kernelspec": {
   "display_name": "Python 3",
   "language": "python",
   "name": "python3"
  },
  "language_info": {
   "codemirror_mode": {
    "name": "ipython",
    "version": 3
   },
   "file_extension": ".py",
   "mimetype": "text/x-python",
   "name": "python",
   "nbconvert_exporter": "python",
   "pygments_lexer": "ipython3",
   "version": "3.7.0"
  }
 },
 "nbformat": 4,
 "nbformat_minor": 4
}
