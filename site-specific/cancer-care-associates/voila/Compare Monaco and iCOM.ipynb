{
 "cells": [
  {
   "cell_type": "code",
   "execution_count": null,
   "metadata": {},
   "outputs": [],
   "source": [
    "import os\n",
    "import pathlib  # for filepath path tooling\n",
    "import lzma  # to decompress the iCOM file\n",
    "import time\n",
    "import asyncio\n",
    "\n",
    "import numpy as np  # for array tooling\n",
    "import pandas as pd\n",
    "import matplotlib.pyplot as plt  # for plotting\n",
    "\n",
    "# import ipyvuetify\n",
    "import traitlets\n",
    "import IPython.display as display\n",
    "import ipywidgets"
   ]
  },
  {
   "cell_type": "code",
   "execution_count": null,
   "metadata": {},
   "outputs": [],
   "source": [
    "# Makes it so that any changes in pymedphys is automatically\n",
    "# propagated into the notebook without needing a kernel reset.\n",
    "from IPython.lib.deepreload import reload\n",
    "%load_ext autoreload\n",
    "%autoreload 2"
   ]
  },
  {
   "cell_type": "code",
   "execution_count": null,
   "metadata": {},
   "outputs": [],
   "source": [
    "import pymedphys"
   ]
  },
  {
   "cell_type": "code",
   "execution_count": null,
   "metadata": {},
   "outputs": [],
   "source": [
    "SITE_DIRECTORIES = {\n",
    "    'rccc': {\n",
    "        'monaco': pathlib.Path(r'\\\\monacoda\\FocalData\\RCCC\\1~Clinical'),\n",
    "        'escan': pathlib.Path(r'\\\\pdc\\Shared\\Scanned Documents\\RT\\PhysChecks\\Logfile PDFs')\n",
    "    },\n",
    "    'nbcc': {\n",
    "        'monaco': pathlib.Path(r'\\\\tunnel-nbcc-monaco\\FOCALDATA\\NBCCC\\1~Clinical'),\n",
    "        'escan': pathlib.Path(r'\\\\tunnel-nbcc-pdc\\Shared\\SCAN\\ESCAN\\Phys\\Logfile PDFs')\n",
    "    },\n",
    "    'sash': {\n",
    "        'monaco': pathlib.Path(r'\\\\tunnel-sash-monaco\\Users\\Public\\Documents\\CMS\\FocalData\\SASH\\1~Clinical'),\n",
    "        'escan': pathlib.Path(r'\\\\tunnel-sash-physics-server\\SASH-Mosaiq-eScan\\Logfile PDFs')\n",
    "    }\n",
    "}"
   ]
  },
  {
   "cell_type": "code",
   "execution_count": null,
   "metadata": {},
   "outputs": [],
   "source": [
    "icom_directory = pathlib.Path(r'\\\\rccc-physicssvr\\iComLogFiles\\patients')\n",
    "output_directory = pathlib.Path(r'\\\\pdc\\PExIT\\Physics\\Patient Specific Logfile Fluence')"
   ]
  },
  {
   "cell_type": "code",
   "execution_count": null,
   "metadata": {},
   "outputs": [],
   "source": [
    "# monaco_directory = pathlib.Path(r'\\\\monacoda\\FocalData\\RCCC\\1~Clinical')\n",
    "# pdf_directory = pathlib.Path(r'P:\\Scanned Documents\\RT\\PhysChecks\\Logfile PDFs')"
   ]
  },
  {
   "cell_type": "code",
   "execution_count": null,
   "metadata": {},
   "outputs": [],
   "source": [
    "GRID = pymedphys.mudensity.grid()\n",
    "COORDS = (GRID[\"jaw\"], GRID[\"mlc\"])\n",
    "\n",
    "GAMMA_OPTIONS = {\n",
    "    'dose_percent_threshold': 2,  # Not actually comparing dose though\n",
    "    'distance_mm_threshold': 0.5,\n",
    "    'local_gamma': True,\n",
    "    'quiet': True,\n",
    "    'max_gamma': 5,\n",
    "}"
   ]
  },
  {
   "cell_type": "code",
   "execution_count": null,
   "metadata": {},
   "outputs": [],
   "source": [
    "class Data(traitlets.HasTraits):\n",
    "    monaco_site = traitlets.Unicode()\n",
    "    escan_site = traitlets.Unicode()\n",
    "    \n",
    "    patient_id = traitlets.Unicode()\n",
    "    delivery_timestamp = traitlets.List(traitlets.Unicode())\n",
    "    plan_names = traitlets.List(traitlets.Unicode())\n",
    "    \n",
    "data = Data()\n",
    "\n",
    "\n",
    "output = ipywidgets.Output()\n",
    "def clear_output(_):\n",
    "    with output:\n",
    "        display.clear_output()\n",
    "        \n",
    "data.observe(clear_output)"
   ]
  },
  {
   "cell_type": "code",
   "execution_count": null,
   "metadata": {},
   "outputs": [],
   "source": [
    "# data.observe?"
   ]
  },
  {
   "cell_type": "code",
   "execution_count": null,
   "metadata": {},
   "outputs": [],
   "source": [
    "def update_file_paths(change):\n",
    "    patient_id = data.patient_id\n",
    "    monaco_site = data.monaco_site\n",
    "    \n",
    "    monaco_directory = SITE_DIRECTORIES[monaco_site]['monaco']\n",
    "    \n",
    "    \n",
    "    all_tel_paths = list(monaco_directory.glob(f'*~{patient_id}/plan/*/*tel.1'))\n",
    "    all_tel_paths = sorted(all_tel_paths, key=os.path.getmtime)\n",
    "\n",
    "    plan_names_to_choose_from = [\n",
    "        f'{path.parent.name}/{path.name}' for path in all_tel_paths\n",
    "    ]\n",
    "    \n",
    "    icom_deliveries = list(icom_directory.glob(f'{patient_id}_*/*.xz'))\n",
    "    icom_deliveries = sorted(icom_deliveries, key=os.path.getmtime)\n",
    "    \n",
    "    icom_files_to_choose_from = [\n",
    "        path.stem for path in icom_deliveries\n",
    "    ]\n",
    "    \n",
    "    timestamps = list(pd.to_datetime(\n",
    "        icom_files_to_choose_from, format='%Y%m%d_%H%M%S').astype(str))\n",
    "    \n",
    "    data.delivery_timestamp = timestamps\n",
    "    data.plan_names = plan_names_to_choose_from\n",
    "    \n",
    "    \n",
    "data.observe(update_file_paths, names=['patient_id'])"
   ]
  },
  {
   "cell_type": "code",
   "execution_count": null,
   "metadata": {},
   "outputs": [],
   "source": [
    "monaco_select = ipywidgets.SelectMultiple(\n",
    "    options=data.plan_names,\n",
    "    description='Monaco',\n",
    "    disabled=False,\n",
    "    rows=len(data.plan_names)\n",
    ")\n",
    "\n",
    "def handle_monaco_select_change(change):\n",
    "    monaco_select.options = data.plan_names\n",
    "    monaco_select.rows = len(data.plan_names)\n",
    "    \n",
    "\n",
    "data.observe(handle_monaco_select_change, names=['plan_names'])\n",
    "monaco_select.observe(clear_output)"
   ]
  },
  {
   "cell_type": "code",
   "execution_count": null,
   "metadata": {},
   "outputs": [],
   "source": [
    "# ipywidgets.SelectMultiple?"
   ]
  },
  {
   "cell_type": "code",
   "execution_count": null,
   "metadata": {},
   "outputs": [],
   "source": [
    "icom_select = ipywidgets.SelectMultiple(\n",
    "    options=data.delivery_timestamp,\n",
    "    description='Delivery',\n",
    "    disabled=False,\n",
    "    rows=len(data.delivery_timestamp)\n",
    ")\n",
    "\n",
    "def handle_icom_select_change(change):\n",
    "    icom_select.options = data.delivery_timestamp\n",
    "    icom_select.rows = len(data.delivery_timestamp)\n",
    "\n",
    "data.observe(handle_icom_select_change, names=['delivery_timestamp'])\n",
    "icom_select.observe(clear_output)"
   ]
  },
  {
   "cell_type": "code",
   "execution_count": null,
   "metadata": {},
   "outputs": [],
   "source": [
    "patient_id_text = ipywidgets.Text(\n",
    "    description=\"Patient ID\",\n",
    "    disabled=True\n",
    ")\n",
    "\n",
    "def handle_patient_id_change(change):\n",
    "    data.patient_id = change.new.zfill(6)\n",
    "    \n",
    "patient_id_text.observe(handle_patient_id_change, names=['value'])"
   ]
  },
  {
   "cell_type": "code",
   "execution_count": null,
   "metadata": {},
   "outputs": [],
   "source": [
    "monaco_site_select = ipywidgets.Select(\n",
    "    options=SITE_DIRECTORIES.keys(),\n",
    "    value=None,\n",
    "    rows=len(SITE_DIRECTORIES.keys()),\n",
    "    description='Site',\n",
    "    disabled=False\n",
    ")\n",
    "\n",
    "def handle_monaco_site_change(change):\n",
    "    if change.new:\n",
    "        patient_id_text.disabled = False\n",
    "    \n",
    "    patient_id_text.value = ''\n",
    "    data.patient_id = ''\n",
    "    \n",
    "    data.monaco_site = monaco_site_select.value\n",
    "    \n",
    "monaco_site_select.observe(handle_monaco_site_change, names=['value'])"
   ]
  },
  {
   "cell_type": "code",
   "execution_count": null,
   "metadata": {},
   "outputs": [],
   "source": [
    "escan_site_select = ipywidgets.Select(\n",
    "    options=SITE_DIRECTORIES.keys(),\n",
    "    value=None,\n",
    "    rows=len(SITE_DIRECTORIES.keys()),\n",
    "    description='Site',\n",
    "    disabled=False\n",
    ")\n",
    "\n",
    "def handle_escan_site_change(change):    \n",
    "    data.escan_site = escan_site_select.value\n",
    "    \n",
    "escan_site_select.observe(handle_escan_site_change, names=['value'])"
   ]
  },
  {
   "cell_type": "code",
   "execution_count": null,
   "metadata": {},
   "outputs": [],
   "source": [
    "def to_tuple(array):\n",
    "    return tuple(map(tuple, array))\n",
    "\n"
   ]
  },
  {
   "cell_type": "code",
   "execution_count": null,
   "metadata": {},
   "outputs": [],
   "source": [
    "def plot_gamma_hist(gamma, percent, dist):\n",
    "    valid_gamma = gamma[~np.isnan(gamma)]\n",
    "\n",
    "    plt.hist(valid_gamma, 50, density=True)\n",
    "    pass_ratio = np.sum(valid_gamma <= 1) / len(valid_gamma)\n",
    "\n",
    "    plt.title(\n",
    "        \"Local Gamma ({0}%/{1}mm) | Percent Pass: {2:.2f} % | Mean Gamma: {3:.2f} | Max Gamma: {4:.2f}\".format(\n",
    "            percent, dist, pass_ratio * 100, np.mean(valid_gamma), np.max(valid_gamma)\n",
    "        )\n",
    "    )"
   ]
  },
  {
   "cell_type": "code",
   "execution_count": null,
   "metadata": {},
   "outputs": [],
   "source": [
    "def plot_and_save_results(\n",
    "    mudensity_tel,\n",
    "    mudensity_icom,\n",
    "    gamma,\n",
    "    png_filepath,\n",
    "    pdf_filepath,\n",
    "    header_text=\"\",\n",
    "    footer_text=\"\",\n",
    "):\n",
    "    diff = mudensity_icom - mudensity_tel\n",
    "    largest_item = np.max(np.abs(diff))\n",
    "\n",
    "    widths = [1, 1]\n",
    "    heights = [0.3, 1, 1, 1, 0.1]\n",
    "    gs_kw = dict(width_ratios=widths, height_ratios=heights)\n",
    "\n",
    "    fig, axs = plt.subplots(5, 2, figsize=(10, 16), gridspec_kw=gs_kw)\n",
    "    gs = axs[0, 0].get_gridspec()\n",
    "\n",
    "    for ax in axs[0, 0:]:\n",
    "        ax.remove()\n",
    "\n",
    "    for ax in axs[1, 0:]:\n",
    "        ax.remove()\n",
    "\n",
    "    for ax in axs[4, 0:]:\n",
    "        ax.remove()\n",
    "\n",
    "    axheader = fig.add_subplot(gs[0, :])\n",
    "    axhist = fig.add_subplot(gs[1, :])\n",
    "    axfooter = fig.add_subplot(gs[4, :])\n",
    "\n",
    "    axheader.axis(\"off\")\n",
    "    axfooter.axis(\"off\")\n",
    "\n",
    "    axheader.text(0, 0, header_text, ha=\"left\", wrap=True, fontsize=30)\n",
    "    axfooter.text(0, 1, footer_text, ha=\"left\", va=\"top\", wrap=True, fontsize=6)\n",
    "\n",
    "    plt.sca(axs[2, 0])\n",
    "    pymedphys.mudensity.display(GRID, mudensity_tel)\n",
    "    axs[2, 0].set_title(\"Monaco Plan MU Density\")\n",
    "\n",
    "    plt.sca(axs[2, 1])\n",
    "    pymedphys.mudensity.display(GRID, mudensity_icom)\n",
    "    axs[2, 1].set_title(\"Recorded iCOM MU Density\")\n",
    "\n",
    "    plt.sca(axs[3, 0])\n",
    "    pymedphys.mudensity.display(\n",
    "        GRID, diff, cmap=\"seismic\", vmin=-largest_item, vmax=largest_item\n",
    "    )\n",
    "    plt.title(\"iCOM - Monaco\")\n",
    "\n",
    "    plt.sca(axs[3, 1])\n",
    "    pymedphys.mudensity.display(GRID, gamma, cmap=\"coolwarm\", vmin=0, vmax=2)\n",
    "    plt.title(\n",
    "        \"Local Gamma | \"\n",
    "        f\"{GAMMA_OPTIONS['dose_percent_threshold']}%/\"\n",
    "        f\"{GAMMA_OPTIONS['distance_mm_threshold']}mm\")\n",
    "\n",
    "    plt.sca(axhist)\n",
    "    plot_gamma_hist(\n",
    "        gamma, \n",
    "        GAMMA_OPTIONS['dose_percent_threshold'], \n",
    "        GAMMA_OPTIONS['distance_mm_threshold'])\n",
    "\n",
    "    return fig"
   ]
  },
  {
   "cell_type": "code",
   "execution_count": null,
   "metadata": {},
   "outputs": [],
   "source": []
  },
  {
   "cell_type": "code",
   "execution_count": null,
   "metadata": {},
   "outputs": [],
   "source": [
    "def display_content(header, result):\n",
    "    with output:\n",
    "        display.display(\n",
    "            display.Markdown(header)\n",
    "        )\n",
    "        display.display(result)\n",
    "        \n",
    "def print_markdown(markdown):\n",
    "    with output:\n",
    "        display.display(\n",
    "            display.Markdown(markdown)\n",
    "        )\n",
    "        \n",
    "\n",
    "def run_calculation():\n",
    "    patient_id = data.patient_id\n",
    "    \n",
    "    monaco_plans = monaco_select.value\n",
    "    icom_deliveries = icom_select.value\n",
    "    \n",
    "    monaco_site = data.monaco_site\n",
    "    escan_site = data.escan_site\n",
    "    \n",
    "    monaco_directory = SITE_DIRECTORIES[monaco_site]['monaco']\n",
    "    pdf_directory = SITE_DIRECTORIES[escan_site]['escan']\n",
    "    \n",
    "    print_markdown('## Output')\n",
    "    \n",
    "    tel_paths = []\n",
    "    \n",
    "    for plan in monaco_plans:\n",
    "        current_plans = list(monaco_directory.glob(f'*~{patient_id}/plan/{plan}'))\n",
    "        assert len(current_plans) == 1\n",
    "        tel_paths += current_plans\n",
    "    \n",
    "    display_content('### Monaco plan paths', tel_paths)\n",
    "        \n",
    "    icom_paths = []\n",
    "\n",
    "    for icom_delivery in icom_deliveries:\n",
    "        icom_filename = icom_delivery.replace(' ', '_').replace('-', '').replace(':', '')\n",
    "        icom_paths += list(icom_directory.glob(f'{patient_id}_*/{icom_filename}.xz'))\n",
    "\n",
    "    \n",
    "    display_content('### iCOM log file paths', icom_paths)\n",
    "        \n",
    "    icom_streams = []\n",
    "\n",
    "    for icom_path in icom_paths:\n",
    "        with lzma.open(icom_path, 'r') as f:\n",
    "            icom_streams += [f.read()]\n",
    "            \n",
    "            \n",
    "    deliveries_icom = []\n",
    "\n",
    "    for icom_stream in icom_streams:\n",
    "        deliveries_icom += [pymedphys.Delivery.from_icom(icom_stream)]\n",
    "\n",
    "        \n",
    "    deliveries_tel = []\n",
    "\n",
    "    for tel_path in tel_paths:\n",
    "        deliveries_tel += [pymedphys.Delivery.from_monaco(tel_path)]\n",
    "        \n",
    "    \n",
    "    print_markdown('### Beginning calculation')\n",
    "    print_markdown('Calculating Monaco MU Density...')\n",
    "    mudensity_tel = deliveries_tel[0].mudensity()\n",
    "\n",
    "    for delivery_tel in deliveries_tel[1::]:\n",
    "        mudensity_tel = mudensity_tel + delivery_tel.mudensity()\n",
    "        \n",
    "    print_markdown('Calculating iCOM MU Density...')\n",
    "    mudensity_icom = np.zeros_like(mudensity_tel)\n",
    "\n",
    "    for path, delivery_icom in zip(icom_paths, deliveries_icom):\n",
    "        mudensity_icom = mudensity_icom + delivery_icom.mudensity()\n",
    "        \n",
    "    print_markdown('Calculating Gamma...')\n",
    "    gamma = pymedphys.gamma(\n",
    "        COORDS,\n",
    "        to_tuple(mudensity_tel),\n",
    "        COORDS,\n",
    "        to_tuple(mudensity_icom),\n",
    "        **GAMMA_OPTIONS\n",
    "    )\n",
    "    \n",
    "    print_markdown('Creating figure...')\n",
    "    results_dir = output_directory.joinpath(\n",
    "        patient_id, tel_path.parent.name, icom_path.stem)\n",
    "    results_dir.mkdir(exist_ok=True, parents=True)\n",
    "\n",
    "    header_text = (\n",
    "        f\"Patient ID: {data.patient_id}\\n\"\n",
    "        f\"Plan Name: {tel_path.parent.name}\\n\"\n",
    "    )\n",
    "\n",
    "    icom_path_strings = '\\n    '.join([str(icom_path) for icom_path in icom_paths])\n",
    "    tel_path_strings = '\\n    '.join([str(tel_path) for tel_path in tel_paths])\n",
    "\n",
    "    footer_text = (\n",
    "        f\"tel.1 file path(s): {tel_path_strings}\\n\"\n",
    "        f\"icom file path(s): {icom_path_strings}\\n\"\n",
    "        f\"results path: {str(results_dir)}\"\n",
    "    )\n",
    "\n",
    "    png_filepath = str(results_dir.joinpath(\"result.png\").resolve())\n",
    "    pdf_filepath = str(pdf_directory.joinpath(\n",
    "        f\"{patient_id}-{monaco_plans[0].replace('/','-')}.pdf\").resolve())\n",
    "\n",
    "    fig = plot_and_save_results(\n",
    "        mudensity_tel, mudensity_icom, \n",
    "        gamma, png_filepath, pdf_filepath, \n",
    "        header_text=header_text, footer_text=footer_text\n",
    "    )\n",
    "\n",
    "    fig.tight_layout()\n",
    "    \n",
    "    print_markdown('Saving figure...')\n",
    "    plt.savefig(png_filepath, dpi=300)\n",
    "    \n",
    "    print_markdown('## Results')\n",
    "    \n",
    "    with output:\n",
    "        plt.show()\n",
    "    \n",
    "    !magick convert \"{png_filepath}\" \"{pdf_filepath}\""
   ]
  },
  {
   "cell_type": "code",
   "execution_count": null,
   "metadata": {},
   "outputs": [],
   "source": [
    "run_calc_button = ipywidgets.Button(\n",
    "    description=' Run Calculation',\n",
    "    button_style='success',\n",
    "    icon='play'\n",
    ")\n",
    "\n",
    "def handle_run_calc_button_press(_):\n",
    "    with output:\n",
    "        run_calculation()\n",
    "    \n",
    "run_calc_button.on_click(handle_run_calc_button_press)"
   ]
  },
  {
   "cell_type": "markdown",
   "metadata": {},
   "source": [
    "# Monaco to iCOM comparison tool\n",
    "\n",
    "Here is a tool to compare Monaco plans to the iCOM delivery log."
   ]
  },
  {
   "cell_type": "markdown",
   "metadata": {},
   "source": [
    "## Monaco Site\n",
    "\n",
    "Choose the site to search for patient data"
   ]
  },
  {
   "cell_type": "code",
   "execution_count": null,
   "metadata": {},
   "outputs": [],
   "source": [
    "monaco_site_select"
   ]
  },
  {
   "cell_type": "markdown",
   "metadata": {},
   "source": [
    "## eSCAN Site\n",
    "\n",
    "Chose the site to save the eSCAN PDF"
   ]
  },
  {
   "cell_type": "code",
   "execution_count": null,
   "metadata": {},
   "outputs": [],
   "source": [
    "escan_site_select"
   ]
  },
  {
   "cell_type": "markdown",
   "metadata": {},
   "source": [
    "## Patient ID\n",
    "\n",
    "Provide the Patient ID for the plan you wish to check"
   ]
  },
  {
   "cell_type": "code",
   "execution_count": null,
   "metadata": {},
   "outputs": [],
   "source": [
    "patient_id_text"
   ]
  },
  {
   "cell_type": "markdown",
   "metadata": {},
   "source": [
    "## Monaco Plan\n",
    "\n",
    "Select which Monaco plan to compare, multiple plans can be selected by `Ctrl + Click`."
   ]
  },
  {
   "cell_type": "code",
   "execution_count": null,
   "metadata": {},
   "outputs": [],
   "source": [
    "monaco_select"
   ]
  },
  {
   "cell_type": "markdown",
   "metadata": {},
   "source": [
    "## iCOM Plan\n",
    "\n",
    "Select the time(s) for a delivery that would match a single fraction of the plan selected above. As before, `Ctrl + Click` can be used to select multiple logs."
   ]
  },
  {
   "cell_type": "code",
   "execution_count": null,
   "metadata": {},
   "outputs": [],
   "source": [
    "icom_select"
   ]
  },
  {
   "cell_type": "code",
   "execution_count": null,
   "metadata": {},
   "outputs": [],
   "source": [
    "run_calc_button"
   ]
  },
  {
   "cell_type": "code",
   "execution_count": null,
   "metadata": {},
   "outputs": [],
   "source": [
    "output"
   ]
  },
  {
   "cell_type": "code",
   "execution_count": null,
   "metadata": {},
   "outputs": [],
   "source": []
  }
 ],
 "metadata": {
  "kernelspec": {
   "display_name": "Python 3",
   "language": "python",
   "name": "python3"
  },
  "language_info": {
   "codemirror_mode": {
    "name": "ipython",
    "version": 3
   },
   "file_extension": ".py",
   "mimetype": "text/x-python",
   "name": "python",
   "nbconvert_exporter": "python",
   "pygments_lexer": "ipython3",
   "version": "3.7.0"
  }
 },
 "nbformat": 4,
 "nbformat_minor": 4
}
