{
 "cells": [
  {
   "cell_type": "code",
   "execution_count": null,
   "metadata": {},
   "outputs": [],
   "source": [
    "import numpy as np\n",
    "\n",
    "import msq_field2csv as mq\n",
    "import create_report as cr\n",
    "\n",
    "import mosaiq_field_export as export\n",
    "import mosaiq_connection as connect"
   ]
  },
  {
   "cell_type": "code",
   "execution_count": null,
   "metadata": {},
   "outputs": [],
   "source": [
    "patient_ids = {\n",
    "    'nbccc': '000000',\n",
    "    'rccc': '999998'\n",
    "}\n",
    "\n",
    "sql_users = {\n",
    "    'nbccc': 'physics',\n",
    "    'rccc': 'physics'\n",
    "}\n",
    "\n",
    "sql_servers = {\n",
    "    'nbccc': 'nbccc-msq',\n",
    "    'rccc': 'msqsql'\n",
    "}\n",
    "\n",
    "qa_centre = 'rccc'\n",
    "clinical_centre = 'nbccc'\n",
    "\n",
    "qa_site_name = patient_ids[clinical_centre]\n",
    "# qa_site_name = 'BLADDER Fx6to25'"
   ]
  },
  {
   "cell_type": "code",
   "execution_count": null,
   "metadata": {},
   "outputs": [],
   "source": [
    "qa_user = sql_users[qa_centre]\n",
    "qa_server = sql_servers[qa_centre]\n",
    "qa_id = patient_ids[qa_centre]\n",
    "\n",
    "patient_id = patient_ids[clinical_centre]\n",
    "\n",
    "with connect.mosaiq_connect(qa_user, qa_server) as cursor:\n",
    "    qa_fields = np.array(export.patient_fields(cursor, qa_id))\n",
    "\n",
    "site_name = qa_fields[:,5]\n",
    "field_ids = qa_fields[:,0]\n",
    "mu = qa_fields[:,4]\n",
    "reference = site_name == qa_site_name\n",
    "\n",
    "qa_field_ids = field_ids[reference]\n",
    "total_qa_mu = np.sum(mu[reference])\n",
    "total_qa_mu"
   ]
  },
  {
   "cell_type": "code",
   "execution_count": null,
   "metadata": {},
   "outputs": [],
   "source": [
    "clinical_user = sql_users[clinical_centre]\n",
    "clinical_server = sql_servers[clinical_centre]\n",
    "\n",
    "with connect.mosaiq_connect(clinical_user, clinical_server) as cursor:\n",
    "    fields = np.array(export.patient_fields(cursor, patient_id))\n",
    "    \n",
    "valid_field = fields[:,3] == 0\n",
    "has_mu = fields[:,4] != 0\n",
    "clinical_fields = fields[valid_field & has_mu]\n",
    "\n",
    "total_clinical_mu = np.sum(clinical_fields[:,4])\n",
    "mu_diff = total_clinical_mu - total_qa_mu\n",
    "\n",
    "clinical_field_ids = clinical_fields[:,0]\n",
    "\n",
    "print(total_clinical_mu)\n",
    "# clinical_fields"
   ]
  },
  {
   "cell_type": "code",
   "execution_count": null,
   "metadata": {},
   "outputs": [],
   "source": [
    "clinical_field_ids"
   ]
  },
  {
   "cell_type": "code",
   "execution_count": null,
   "metadata": {},
   "outputs": [],
   "source": [
    "fields = {\n",
    "    'nbccc': [clinical_field_ids[0]],\n",
    "    'rccc': qa_field_ids\n",
    "}\n",
    "\n",
    "mq.display_fields_overview(fields, sql_users, sql_servers)"
   ]
  },
  {
   "cell_type": "code",
   "execution_count": null,
   "metadata": {},
   "outputs": [],
   "source": [
    "input_directory = r'S:\\IMRT_QA\\RCCC_to_NBCCC_Transfer_Checks\\mosaiq_exports\\{}'.format(patient_id)\n",
    "\n",
    "mq.save_data_to_csv(input_directory, fields, sql_users, sql_servers)"
   ]
  },
  {
   "cell_type": "code",
   "execution_count": null,
   "metadata": {},
   "outputs": [],
   "source": [
    "output_directory = r'S:\\IMRT_QA\\RCCC_to_NBCCC_Transfer_Checks\\reports'\n",
    "\n",
    "cr.create_reports(input_directory, output_directory)"
   ]
  },
  {
   "cell_type": "code",
   "execution_count": null,
   "metadata": {},
   "outputs": [],
   "source": [
    "# from mosaiq_sql.execution import _get_raw_field_item\n",
    "# from mosaiq_sql import sql_connection\n",
    "\n",
    "# from IPython.display import display\n",
    "\n",
    "# SQL_USERS = {\n",
    "#     'nbccc': 'physics',\n",
    "#     'rccc': 'physics'\n",
    "# }\n",
    "# SQL_SERVERS = {\n",
    "#     'nbccc': 'physsvr',\n",
    "#     'rccc': 'msqsql'\n",
    "# }"
   ]
  },
  {
   "cell_type": "code",
   "execution_count": null,
   "metadata": {},
   "outputs": [],
   "source": [
    "# field_id = 0\n",
    "# field_label = 'Version'\n",
    "\n",
    "# with sql_connection(SQL_USERS, SQL_SERVERS) as cursors:\n",
    "#     cursors['nbccc']\n",
    "#     display(_get_raw_field_item(cursors['nbccc'], field_label, field_id))"
   ]
  }
 ],
 "metadata": {
  "anaconda-cloud": {},
  "kernelspec": {
   "display_name": "Python 3",
   "language": "python",
   "name": "python3"
  },
  "language_info": {
   "codemirror_mode": {
    "name": "ipython",
    "version": 3
   },
   "file_extension": ".py",
   "mimetype": "text/x-python",
   "name": "python",
   "nbconvert_exporter": "python",
   "pygments_lexer": "ipython3",
   "version": "3.5.5"
  }
 },
 "nbformat": 4,
 "nbformat_minor": 2
}
