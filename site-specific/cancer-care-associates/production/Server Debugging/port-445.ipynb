{
 "cells": [
  {
   "cell_type": "markdown",
   "metadata": {},
   "source": [
    "# Debugging Remote File Sharing"
   ]
  },
  {
   "cell_type": "markdown",
   "metadata": {},
   "source": [
    "The following commands are from \n",
    "\n",
    "https://www.nikhef.nl/~janjust/CifsOverSSH/Win10Loopback.html"
   ]
  },
  {
   "cell_type": "raw",
   "metadata": {},
   "source": [
    "Listen on ipv4:             Connect to ipv4:\n",
    "\n",
    "Address         Port        Address         Port\n",
    "--------------- ----------  --------------- ----------\n",
    "10.0.0.1        445         10.0.0.1        44445\n",
    "10.0.0.2        445         10.0.0.2        44446\n",
    "10.0.0.3        445         10.0.0.3        44447\n",
    "10.0.0.4        445         10.0.0.4        44448\n",
    "10.0.0.5        445         10.0.0.5        44449\n",
    "10.0.0.6        445         10.0.0.6        44450"
   ]
  },
  {
   "cell_type": "code",
   "execution_count": null,
   "metadata": {},
   "outputs": [],
   "source": [
    "# !netsh interface portproxy show v4tov4"
   ]
  },
  {
   "cell_type": "code",
   "execution_count": null,
   "metadata": {},
   "outputs": [],
   "source": [
    "# !netstat -an | find \":445 \""
   ]
  },
  {
   "cell_type": "code",
   "execution_count": null,
   "metadata": {},
   "outputs": [],
   "source": [
    "!dir V:"
   ]
  },
  {
   "cell_type": "code",
   "execution_count": null,
   "metadata": {},
   "outputs": [],
   "source": [
    "!dir W:"
   ]
  },
  {
   "cell_type": "code",
   "execution_count": null,
   "metadata": {},
   "outputs": [],
   "source": [
    "!dir X:"
   ]
  },
  {
   "cell_type": "code",
   "execution_count": null,
   "metadata": {},
   "outputs": [],
   "source": [
    "!dir Y:"
   ]
  },
  {
   "cell_type": "code",
   "execution_count": null,
   "metadata": {},
   "outputs": [],
   "source": [
    "!dir Z:"
   ]
  }
 ],
 "metadata": {
  "kernelspec": {
   "display_name": "pymedphys-master",
   "language": "python",
   "name": "pymedphys-master"
  },
  "language_info": {
   "codemirror_mode": {
    "name": "ipython",
    "version": 3
   },
   "file_extension": ".py",
   "mimetype": "text/x-python",
   "name": "python",
   "nbconvert_exporter": "python",
   "pygments_lexer": "ipython3",
   "version": "3.7.5"
  }
 },
 "nbformat": 4,
 "nbformat_minor": 4
}
