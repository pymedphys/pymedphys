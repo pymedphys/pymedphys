{
 "cells": [
  {
   "cell_type": "code",
   "execution_count": null,
   "metadata": {},
   "outputs": [],
   "source": [
    "%load_ext autoreload\n",
    "%autoreload 2"
   ]
  },
  {
   "cell_type": "code",
   "execution_count": null,
   "metadata": {},
   "outputs": [],
   "source": [
    "import pathlib\n",
    "import json\n",
    "\n",
    "import IPython.display\n",
    "\n",
    "import numpy as np\n",
    "import pandas as pd\n",
    "import matplotlib.pyplot as plt\n",
    "\n",
    "import scipy.interpolate\n",
    "import scipy.signal\n",
    "\n",
    "import pymedphys\n",
    "import pymedphys._wlutz.bbpredict\n",
    "import pymedphys._wlutz.pylinac\n",
    "import pymedphys._wlutz.iview\n",
    "import pymedphys._wlutz.imginterp\n",
    "import pymedphys._wlutz.findfield\n",
    "import pymedphys._wlutz.findbb\n",
    "import pymedphys._wlutz.reporting"
   ]
  },
  {
   "cell_type": "code",
   "execution_count": null,
   "metadata": {},
   "outputs": [],
   "source": [
    "working_dir = pathlib.Path(r\"\\\\pdc\\OneDrive$\\RCCC Specific Files\\Linac Beam Data Record\\Synergy 2694\\QA\\20200807_unstable_6FFF_investigation\\wlutz\")\n",
    "output_dir = working_dir.joinpath('results')\n",
    "output_dir.mkdir(exist_ok=True)"
   ]
  },
  {
   "cell_type": "code",
   "execution_count": null,
   "metadata": {},
   "outputs": [],
   "source": [
    "cache_path = working_dir.joinpath(\"cache.json\")"
   ]
  },
  {
   "cell_type": "code",
   "execution_count": null,
   "metadata": {},
   "outputs": [],
   "source": [
    "penumbra = 2\n",
    "edge_lengths = [20, 24]\n",
    "initial_rotation = 0\n",
    "bb_diameter = 8\n",
    "\n",
    "bb_predictor_tol = 0.2\n",
    "\n",
    "pd.set_option(\"display.max_rows\", 101)"
   ]
  },
  {
   "cell_type": "code",
   "execution_count": null,
   "metadata": {},
   "outputs": [],
   "source": [
    "clockwise_string = \"00_CW\"\n",
    "counter_clockwise_string = \"01_CC\""
   ]
  },
  {
   "cell_type": "code",
   "execution_count": null,
   "metadata": {},
   "outputs": [],
   "source": [
    "directions_map = {\n",
    "    clockwise_string: \"clockwise\",\n",
    "    counter_clockwise_string: \"counter-clockwise\"\n",
    "}"
   ]
  },
  {
   "cell_type": "code",
   "execution_count": null,
   "metadata": {},
   "outputs": [],
   "source": [
    "frame_paths_list = list(working_dir.joinpath(\"frames\").glob(\"**/*.tif\"))\n",
    "# frame_paths_list"
   ]
  },
  {
   "cell_type": "code",
   "execution_count": null,
   "metadata": {},
   "outputs": [],
   "source": [
    "frame = [path.stem.split('_')[1] for path in frame_paths_list]\n",
    "timestamps = [path.parent.stem for path in frame_paths_list]\n",
    "directions = [directions_map[path.parent.parent.stem] for path in frame_paths_list]\n",
    "beams = [path.parent.parent.parent.stem for path in frame_paths_list]\n",
    "\n",
    "keys = list(zip(beams, directions, timestamps, frame))\n",
    "\n",
    "image_paths = {\n",
    "    key: path for key, path in zip(keys, frame_paths_list)\n",
    "}"
   ]
  },
  {
   "cell_type": "code",
   "execution_count": null,
   "metadata": {},
   "outputs": [],
   "source": [
    "# image_paths"
   ]
  },
  {
   "cell_type": "code",
   "execution_count": null,
   "metadata": {},
   "outputs": [],
   "source": [
    "key_map = {\n",
    "    key: '-'.join(key) for key in keys\n",
    "}\n",
    "\n",
    "inv_key_map = {\n",
    "    item: key for key, item in key_map.items()\n",
    "}"
   ]
  },
  {
   "cell_type": "code",
   "execution_count": null,
   "metadata": {},
   "outputs": [],
   "source": [
    "movie_keys = list({\n",
    "    key[0:3] for key in keys\n",
    "})"
   ]
  },
  {
   "cell_type": "code",
   "execution_count": null,
   "metadata": {},
   "outputs": [],
   "source": [
    "movie_output_dirs = {}\n",
    "\n",
    "for key in movie_keys:\n",
    "    movie_output_dirs[key] = output_dir.joinpath(f\"{key[0]} {key[1]} {key[2]}\")\n",
    "    movie_output_dirs[key].mkdir(exist_ok=True)\n",
    "    movie_output_dirs[key].joinpath('images').mkdir(exist_ok=True)"
   ]
  },
  {
   "cell_type": "code",
   "execution_count": null,
   "metadata": {},
   "outputs": [],
   "source": [
    "data = {}"
   ]
  },
  {
   "cell_type": "code",
   "execution_count": null,
   "metadata": {},
   "outputs": [],
   "source": [
    "try:\n",
    "    with open(cache_path, 'r') as a_file:\n",
    "        data_string_keys = json.load(a_file)\n",
    "    \n",
    "    data = {\n",
    "        inv_key_map[key]: item for key, item in data_string_keys.items()\n",
    "    }\n",
    "except FileNotFoundError:\n",
    "    data = {}"
   ]
  },
  {
   "cell_type": "code",
   "execution_count": null,
   "metadata": {},
   "outputs": [],
   "source": [
    "def plot_pylinac_comparison(field, bb_diameter, edge_lengths, penumbra, field_centre, field_rotation, pylinac):\n",
    "    try:\n",
    "        bb_centre = pymedphys._wlutz.findbb.optimise_bb_centre(\n",
    "            field, bb_diameter, edge_lengths, penumbra, field_centre, field_rotation, pylinac_tol=np.inf\n",
    "        )\n",
    "\n",
    "        fig = pymedphys._wlutz.reporting.image_analysis_figure(\n",
    "            x,\n",
    "            y,\n",
    "            img,\n",
    "            bb_centre,\n",
    "            field_centre,\n",
    "            field_rotation,\n",
    "            bb_diameter,\n",
    "            edge_lengths,\n",
    "            penumbra,\n",
    "        )\n",
    "\n",
    "        plt.title('PyMedPhys Basinhopping Method')\n",
    "    except Exception as e:\n",
    "        print(e)\n",
    "\n",
    "    try:\n",
    "        fig = pymedphys._wlutz.reporting.image_analysis_figure(\n",
    "            x,\n",
    "            y,\n",
    "            img,\n",
    "            pylinac['v2.2.6']['bb_centre'],\n",
    "            pylinac['v2.2.6']['field_centre'],\n",
    "            field_rotation,\n",
    "            bb_diameter,\n",
    "            edge_lengths,\n",
    "            penumbra,\n",
    "        )\n",
    "\n",
    "        plt.title('Pylinac v2.2.6 Filter and Profile Method')\n",
    "    except Exception as e:\n",
    "        print(e)\n",
    "        \n",
    "    try:\n",
    "        fig = pymedphys._wlutz.reporting.image_analysis_figure(\n",
    "            x,\n",
    "            y,\n",
    "            img,\n",
    "            pylinac['v2.2.7']['bb_centre'],\n",
    "            pylinac['v2.2.7']['field_centre'],\n",
    "            field_rotation,\n",
    "            bb_diameter,\n",
    "            edge_lengths,\n",
    "            penumbra,\n",
    "        )\n",
    "\n",
    "        plt.title('Pylinac v2.2.7 Filter and Scikit-Image Method')\n",
    "    except Exception as e:\n",
    "        print(e)\n",
    "    \n",
    "    \n",
    "    plt.show()"
   ]
  },
  {
   "cell_type": "code",
   "execution_count": null,
   "metadata": {},
   "outputs": [],
   "source": [
    "for key, image_path in image_paths.items():\n",
    "    try:\n",
    "        this_data = data[key]\n",
    "        pymedphys_data = this_data['pymedphys']\n",
    "    except KeyError:\n",
    "        this_data = {}\n",
    "        pymedphys_data = {}\n",
    "        this_data['pymedphys'] = pymedphys_data\n",
    "        data[key] = this_data\n",
    "    \n",
    "    try:\n",
    "        pymedphys_data['field_centre']\n",
    "        pymedphys_data['field_rotation']\n",
    "        this_data['pylinac']\n",
    "        pymedphys_data['bb_centre']\n",
    "    except KeyError:\n",
    "        print(key)\n",
    "        x, y, img = pymedphys._wlutz.iview.iview_image_transform_from_path(image_path)\n",
    "\n",
    "        field = pymedphys._wlutz.imginterp.create_interpolated_field(x, y, img)\n",
    "        initial_centre = pymedphys._wlutz.findfield.get_centre_of_mass(x, y, img)\n",
    "    \n",
    "    try:\n",
    "        pymedphys_data['field_centre']\n",
    "        pymedphys_data['field_rotation']\n",
    "    except KeyError:\n",
    "    \n",
    "        try:\n",
    "            pymedphys_data['field_centre'], pymedphys_data['field_rotation'] = pymedphys._wlutz.findfield.field_centre_and_rotation_refining(\n",
    "                field, edge_lengths, penumbra, initial_centre\n",
    "            )            \n",
    "        except ValueError as e:\n",
    "            print(e)\n",
    "            continue  \n",
    "        \n",
    "        pymedphys_data['field_centre'] = pymedphys_data['field_centre']\n",
    "        pymedphys_data['field_rotation'] = pymedphys_data['field_rotation']\n",
    "    \n",
    "    try:\n",
    "        this_data['pylinac']\n",
    "    except KeyError:\n",
    "        try:\n",
    "            this_data['pylinac'] = pymedphys._wlutz.pylinac.run_wlutz(\n",
    "                field, edge_lengths, penumbra, pymedphys_data['field_centre'], pymedphys_data['field_rotation'])\n",
    "        except Exception as e:\n",
    "            print(e)\n",
    "            pass\n",
    "    \n",
    "    \n",
    "    try:\n",
    "        pymedphys_data['bb_centre']\n",
    "    except KeyError:\n",
    "        try:\n",
    "            pymedphys_data['bb_centre'] = pymedphys._wlutz.findbb.optimise_bb_centre(\n",
    "                field, bb_diameter, edge_lengths, penumbra, pymedphys_data['field_centre'], pymedphys_data['field_rotation']\n",
    "            )\n",
    "        except pymedphys._wlutz.pylinac.PylinacComparisonDeviation as e:\n",
    "            print(e)\n",
    "            \n",
    "            try:\n",
    "                plot_pylinac_comparison(\n",
    "                    field, bb_diameter, edge_lengths, penumbra, pymedphys_data['field_centre'], pymedphys_data['field_rotation'],\n",
    "                    this_data['pylinac']\n",
    "                )\n",
    "            except ValueError as e:\n",
    "                print(e)\n",
    "                continue\n",
    "\n",
    "            continue\n",
    "        except ValueError as e:\n",
    "            print(e)\n",
    "            continue\n",
    "    \n",
    "        pymedphys_data['bb_centre'] = pymedphys_data['bb_centre']"
   ]
  },
  {
   "cell_type": "code",
   "execution_count": null,
   "metadata": {},
   "outputs": [],
   "source": [
    "data_for_json = {\n",
    "    key_map[key]: item for key, item in data.items()\n",
    "}\n",
    "\n",
    "with open(cache_path, 'w') as a_file:\n",
    "    json.dump(data_for_json, a_file, indent=2)"
   ]
  },
  {
   "cell_type": "code",
   "execution_count": null,
   "metadata": {},
   "outputs": [],
   "source": [
    "# data.keys()"
   ]
  },
  {
   "cell_type": "code",
   "execution_count": null,
   "metadata": {},
   "outputs": [],
   "source": [
    "# key_map"
   ]
  },
  {
   "cell_type": "code",
   "execution_count": null,
   "metadata": {},
   "outputs": [],
   "source": []
  },
  {
   "cell_type": "code",
   "execution_count": null,
   "metadata": {},
   "outputs": [],
   "source": []
  },
  {
   "cell_type": "code",
   "execution_count": null,
   "metadata": {},
   "outputs": [],
   "source": [
    "\n",
    "movie_data_dicts = {\n",
    "    movie_key: {\n",
    "        int(key[3]): item for key, item in data.items()\n",
    "        if key[0:3] == movie_key\n",
    "    }\n",
    "    for movie_key in movie_keys\n",
    "}"
   ]
  },
  {
   "cell_type": "code",
   "execution_count": null,
   "metadata": {},
   "outputs": [],
   "source": [
    "for key, item in movie_data_dicts.items():\n",
    "    assert list(sorted(item.keys())) == list(range(len(item.keys())))"
   ]
  },
  {
   "cell_type": "code",
   "execution_count": null,
   "metadata": {},
   "outputs": [],
   "source": [
    "movie_data = {\n",
    "    movie_key: [item[frame_key] for frame_key in sorted(item.keys())]\n",
    "    for movie_key, item in movie_data_dicts.items()\n",
    "}"
   ]
  },
  {
   "cell_type": "code",
   "execution_count": null,
   "metadata": {},
   "outputs": [],
   "source": []
  },
  {
   "cell_type": "code",
   "execution_count": null,
   "metadata": {},
   "outputs": [],
   "source": [
    "\n"
   ]
  },
  {
   "cell_type": "code",
   "execution_count": null,
   "metadata": {},
   "outputs": [],
   "source": [
    "def extract_data(keys, data, lookup_func):\n",
    "    result = {}\n",
    "\n",
    "    for key in keys:\n",
    "        result[key] = []\n",
    "        for item in data[key]:\n",
    "            try:\n",
    "                result[key].append(lookup_func(item))\n",
    "            except KeyError:\n",
    "                result[key].append(np.nan)\n",
    "\n",
    "        result[key] = np.array(result[key])\n",
    "        \n",
    "    return result"
   ]
  },
  {
   "cell_type": "code",
   "execution_count": null,
   "metadata": {},
   "outputs": [],
   "source": [
    "pymedphys_field_rotations = extract_data(movie_keys, movie_data, lambda x: x['pymedphys']['field_rotation'])"
   ]
  },
  {
   "cell_type": "code",
   "execution_count": null,
   "metadata": {},
   "outputs": [],
   "source": []
  },
  {
   "cell_type": "code",
   "execution_count": null,
   "metadata": {},
   "outputs": [],
   "source": []
  },
  {
   "cell_type": "code",
   "execution_count": null,
   "metadata": {},
   "outputs": [],
   "source": []
  },
  {
   "cell_type": "code",
   "execution_count": null,
   "metadata": {},
   "outputs": [],
   "source": []
  },
  {
   "cell_type": "code",
   "execution_count": null,
   "metadata": {},
   "outputs": [],
   "source": [
    "def check_for_changed_not_nan(diff, not_nan):\n",
    "    unreasonable = np.abs(diff) > 60\n",
    "    new_not_nan = np.copy(not_nan)\n",
    "    new_not_nan[new_not_nan] = np.invert(unreasonable)\n",
    "\n",
    "    diff = diff[np.invert(unreasonable)]\n",
    "    \n",
    "    return new_not_nan"
   ]
  },
  {
   "cell_type": "code",
   "execution_count": null,
   "metadata": {},
   "outputs": [],
   "source": [
    "def calc_gantry(rotation, not_nan, direction_key):\n",
    "    nan_removed_rotation = rotation[not_nan]\n",
    "    \n",
    "    if direction_key == 'clockwise':\n",
    "        diff = np.diff(np.concatenate([[-180], nan_removed_rotation]))\n",
    "        diff[diff > 0] = diff[diff > 0] - 180\n",
    "               \n",
    "        new_not_nan = check_for_changed_not_nan(diff, not_nan)\n",
    "        if np.any(new_not_nan != not_nan):\n",
    "            gantry, not_nan = calc_gantry(rotation, new_not_nan, direction_key)\n",
    "        else:\n",
    "            gantry = -180 - np.cumsum(diff * 2)\n",
    "    elif direction_key == 'counter-clockwise':\n",
    "        diff = np.diff(np.concatenate([[0], nan_removed_rotation]))\n",
    "        diff[diff < 0] = diff[diff < 0] + 180\n",
    "        \n",
    "        new_not_nan = check_for_changed_not_nan(diff, not_nan)\n",
    "        if np.any(new_not_nan != not_nan):\n",
    "            gantry, not_nan = calc_gantry(rotation, new_not_nan, direction_key)\n",
    "        else:\n",
    "            gantry = 180 - np.cumsum(diff * 2)\n",
    "    else:\n",
    "        raise ValueError(\"Expected one of 'clockwise' or 'counter-clockwise'\")\n",
    "        \n",
    "    return gantry, not_nan\n",
    "        \n",
    "    "
   ]
  },
  {
   "cell_type": "code",
   "execution_count": null,
   "metadata": {},
   "outputs": [],
   "source": [
    "def determine_gantry_angle(direction_key, rotation):\n",
    "    not_nan = np.invert(np.isnan(rotation))\n",
    "    gantry, not_nan = calc_gantry(rotation, not_nan, direction_key)\n",
    "        \n",
    "    gantry_with_nans = np.ones_like(rotation) * np.nan\n",
    "    out_of_bounds = np.logical_or(gantry < -180, gantry > 180)\n",
    "    gantry[out_of_bounds] = np.nan\n",
    "    gantry_with_nans[not_nan] = gantry\n",
    "        \n",
    "    return gantry_with_nans"
   ]
  },
  {
   "cell_type": "code",
   "execution_count": null,
   "metadata": {},
   "outputs": [],
   "source": [
    "gantry_angles = {}\n",
    "\n",
    "for key in movie_keys:\n",
    "    direction_key = key[1]\n",
    "    rotation = pymedphys_field_rotations[key]\n",
    "\n",
    "    if len(rotation) != 0:\n",
    "        gantry_angles[key] = determine_gantry_angle(direction_key, rotation)"
   ]
  },
  {
   "cell_type": "code",
   "execution_count": null,
   "metadata": {},
   "outputs": [],
   "source": [
    "len(gantry_angles.keys())\n",
    "\n",
    "movie_keys = list(gantry_angles.keys())"
   ]
  },
  {
   "cell_type": "code",
   "execution_count": null,
   "metadata": {},
   "outputs": [],
   "source": [
    "movie_keys"
   ]
  },
  {
   "cell_type": "code",
   "execution_count": null,
   "metadata": {},
   "outputs": [],
   "source": [
    "# pymedphys_field_rotations"
   ]
  },
  {
   "cell_type": "code",
   "execution_count": null,
   "metadata": {},
   "outputs": [],
   "source": [
    "columns=[\n",
    "    'Image Frame', 'Gantry Angle (deg)', 'Field x (mm)', 'Field y (mm)', 'BB x (mm)', 'BB y (mm)'\n",
    "]"
   ]
  },
  {
   "cell_type": "code",
   "execution_count": null,
   "metadata": {},
   "outputs": [],
   "source": [
    "# prep_for_dataframe"
   ]
  },
  {
   "cell_type": "code",
   "execution_count": null,
   "metadata": {},
   "outputs": [],
   "source": [
    "movie_keys"
   ]
  },
  {
   "cell_type": "code",
   "execution_count": null,
   "metadata": {},
   "outputs": [],
   "source": []
  },
  {
   "cell_type": "code",
   "execution_count": null,
   "metadata": {},
   "outputs": [],
   "source": []
  },
  {
   "cell_type": "code",
   "execution_count": null,
   "metadata": {},
   "outputs": [],
   "source": [
    "len(movie_keys)"
   ]
  },
  {
   "cell_type": "code",
   "execution_count": null,
   "metadata": {},
   "outputs": [],
   "source": [
    "prep_for_dataframe = [\n",
    "    gantry_angles,\n",
    "    extract_data(movie_keys, movie_data, lambda x: x['pymedphys']['field_centre'][0]),\n",
    "    extract_data(movie_keys, movie_data, lambda x: x['pymedphys']['field_centre'][1]),\n",
    "    extract_data(movie_keys, movie_data, lambda x: x['pymedphys']['bb_centre'][0]),\n",
    "    extract_data(movie_keys, movie_data, lambda x: x['pymedphys']['bb_centre'][1]),\n",
    "]\n",
    "\n",
    "len(prep_for_dataframe[3].keys())"
   ]
  },
  {
   "cell_type": "code",
   "execution_count": null,
   "metadata": {},
   "outputs": [],
   "source": [
    "\n",
    "\n",
    "\n",
    "\n",
    "dataframes = {}\n",
    "\n",
    "\n",
    "\n",
    "for key in movie_keys:\n",
    "    print(key)\n",
    "    prepped_data = [item[key] for item in prep_for_dataframe]\n",
    "    frames = [list(range(len(prepped_data[0])))]\n",
    "    \n",
    "    dataframe_data = np.vstack(frames + prepped_data).T\n",
    "    \n",
    "    dataframe = pd.DataFrame(\n",
    "        columns=columns,\n",
    "        data=dataframe_data\n",
    "    )\n",
    "    \n",
    "    dataframe['Image Frame'] = dataframe['Image Frame'].astype(np.int64)\n",
    "    dataframe = dataframe.set_index('Image Frame')\n",
    "    \n",
    "    dataframes[key] = dataframe"
   ]
  },
  {
   "cell_type": "code",
   "execution_count": null,
   "metadata": {},
   "outputs": [],
   "source": [
    "# dataframes[key]"
   ]
  },
  {
   "cell_type": "code",
   "execution_count": null,
   "metadata": {},
   "outputs": [],
   "source": [
    "bb_x_predictor_data = [\n",
    "    dataframes[key]['BB x (mm)'] for key in movie_keys\n",
    "]\n",
    "bb_y_predictor_data = [\n",
    "    dataframes[key]['BB y (mm)'] for key in movie_keys\n",
    "]\n",
    "gantry_predictor_data = [\n",
    "    gantry_angles[key] for key in movie_keys\n",
    "]\n",
    "direction_predictor_data = [key[1] for key in movie_keys]\n",
    "\n",
    "predict_bb = pymedphys._wlutz.bbpredict.create_bb_predictor(\n",
    "    bb_x_predictor_data, bb_y_predictor_data, gantry_predictor_data, direction_predictor_data, default_tol=bb_predictor_tol)\n",
    "\n",
    "predict_bb([0, 2], 'clockwise')"
   ]
  },
  {
   "cell_type": "code",
   "execution_count": null,
   "metadata": {},
   "outputs": [],
   "source": [
    "gantry_i = np.linspace(-180, 180, 401)"
   ]
  },
  {
   "cell_type": "code",
   "execution_count": null,
   "metadata": {},
   "outputs": [],
   "source": [
    "plt.figure(figsize=(12,10))\n",
    "\n",
    "for g, x, key in zip(gantry_predictor_data, bb_x_predictor_data, movie_keys):\n",
    "    if key[1] == 'clockwise':\n",
    "        prop = '-'\n",
    "    else:\n",
    "        prop = '--'\n",
    "        \n",
    "    plt.plot(g, x, prop, alpha=0.5, label=key[0:2])\n",
    "    \n",
    "plt.plot(gantry_i, predict_bb(gantry_i, 'clockwise')[0], 'k')\n",
    "plt.plot(gantry_i, predict_bb(gantry_i, 'counter-clockwise')[0], 'k--')\n",
    "plt.legend()\n",
    "\n",
    "plt.title(\"Absolute BB iView x position predictor\")\n",
    "plt.xlabel(\"Gantry Angle (deg)\")\n",
    "plt.ylabel(\"iView absolute x-position (mm)\")\n",
    "\n",
    "plt.savefig(output_dir.joinpath(\"Absolute BB x position predictor.png\"))"
   ]
  },
  {
   "cell_type": "code",
   "execution_count": null,
   "metadata": {},
   "outputs": [],
   "source": [
    "plt.figure(figsize=(12,10))\n",
    "\n",
    "for g, y, key in zip(gantry_predictor_data, bb_y_predictor_data, movie_keys):\n",
    "    if key[1] == 'clockwise':\n",
    "        prop = '-'\n",
    "    else:\n",
    "        prop = '--'\n",
    "        \n",
    "    plt.plot(g, y, prop, alpha=0.5, label=key[0:2])\n",
    "    \n",
    "plt.plot(gantry_i, predict_bb(gantry_i, 'clockwise')[1], 'k')\n",
    "plt.plot(gantry_i, predict_bb(gantry_i, 'counter-clockwise')[1], 'k--')\n",
    "plt.legend()\n",
    "\n",
    "plt.title(\"Absolute BB iView y position predictor\")\n",
    "plt.xlabel(\"Gantry Angle (deg)\")\n",
    "plt.ylabel(\"iView absolute y-position (mm)\")\n",
    "\n",
    "plt.savefig(output_dir.joinpath(\"Absolute BB y position predictor.png\"))"
   ]
  },
  {
   "cell_type": "code",
   "execution_count": null,
   "metadata": {},
   "outputs": [],
   "source": [
    "for key in movie_keys:\n",
    "    bb_x = dataframes[key]['BB x (mm)'].copy()\n",
    "    bb_y = dataframes[key]['BB y (mm)'].copy()\n",
    "    gantry = dataframes[key]['Gantry Angle (deg)']\n",
    "    direction = key[1]\n",
    "    \n",
    "    isnan = np.isnan(bb_x)\n",
    "    assert np.all(isnan == np.isnan(bb_y))\n",
    "    \n",
    "    bb_x_prediction, bb_y_prediction = predict_bb(gantry[isnan], direction)\n",
    "    \n",
    "    bb_x[isnan] = bb_x_prediction\n",
    "    bb_y[isnan] = bb_y_prediction\n",
    "    \n",
    "    dataframes[key]['BB x [with predictions] (mm)'] = bb_x\n",
    "    dataframes[key]['BB y [with predictions] (mm)'] = bb_y"
   ]
  },
  {
   "cell_type": "code",
   "execution_count": null,
   "metadata": {},
   "outputs": [],
   "source": [
    "pylinac_columns = [\n",
    "    'Pylinac Field x (mm)', 'Pylinac Field y (mm)',\n",
    "    'Pylinac v2.2.6 BB x (mm)', 'Pylinac v2.2.6 BB y (mm)',\n",
    "    'Pylinac v2.2.7 BB x (mm)', 'Pylinac v2.2.7 BB y (mm)'\n",
    "]\n",
    "\n",
    "\n",
    "pylinac_data_extract = [\n",
    "    extract_data(movie_keys, movie_data, lambda x: x['pylinac']['v2.2.7']['field_centre'][0]),\n",
    "    extract_data(movie_keys, movie_data, lambda x: x['pylinac']['v2.2.7']['field_centre'][1]),\n",
    "    extract_data(movie_keys, movie_data, lambda x: x['pylinac']['v2.2.6']['bb_centre'][0]),\n",
    "    extract_data(movie_keys, movie_data, lambda x: x['pylinac']['v2.2.6']['bb_centre'][1]),\n",
    "    extract_data(movie_keys, movie_data, lambda x: x['pylinac']['v2.2.7']['bb_centre'][0]),\n",
    "    extract_data(movie_keys, movie_data, lambda x: x['pylinac']['v2.2.7']['bb_centre'][1]),\n",
    "]\n",
    "\n",
    "for key in movie_keys:\n",
    "    for column, pylinac_data in zip(pylinac_columns, pylinac_data_extract):\n",
    "        dataframes[key][column] = pylinac_data[key]"
   ]
  },
  {
   "cell_type": "code",
   "execution_count": null,
   "metadata": {},
   "outputs": [],
   "source": [
    "for key in movie_keys:   \n",
    "    dataframes[key]['Field - BB x (mm)'] = dataframes[key]['Field x (mm)'] - dataframes[key]['BB x (mm)']\n",
    "    dataframes[key]['Field - BB y (mm)'] = dataframes[key]['Field y (mm)'] - dataframes[key]['BB y (mm)']"
   ]
  },
  {
   "cell_type": "code",
   "execution_count": null,
   "metadata": {},
   "outputs": [],
   "source": []
  },
  {
   "cell_type": "code",
   "execution_count": null,
   "metadata": {},
   "outputs": [],
   "source": [
    "def plot_enery_axis(energy, axis, dataframes):\n",
    "    plt.figure(figsize=(12,10))\n",
    "\n",
    "    for key in movie_keys:\n",
    "        if energy in key[0]:\n",
    "            if key[1] == 'clockwise':\n",
    "                prop = '-'\n",
    "            else:\n",
    "                prop = '--'\n",
    "\n",
    "            plt.plot(\n",
    "                dataframes[key]['Gantry Angle (deg)'], \n",
    "                dataframes[key][f'Field - BB {axis} (mm)'], \n",
    "                prop, label=key[0:3], alpha=0.8)\n",
    "            \n",
    "    x = np.linspace(-180, 180)\n",
    "\n",
    "#     if axis == 'y':\n",
    "#         plt.plot(x, 0.6*np.cos(x*np.pi/180), 'k', label='\"Ideal\"')\n",
    "#         plt.plot(x, 0.6*np.cos(x*np.pi/180)-0.5, 'r', label='0.5 mm \"bounds\"', alpha=0.2)\n",
    "#         plt.plot(x, 0.6*np.cos(x*np.pi/180)+0.5, 'r', alpha=0.2)\n",
    "        \n",
    "#     elif axis == 'x':\n",
    "#         plt.plot(x, np.zeros_like(x), 'k', label='\"Ideal\"')\n",
    "#         plt.plot(x, np.zeros_like(x)-0.5, 'r', label='0.5 mm \"bounds\"', alpha=0.2)\n",
    "#         plt.plot(x, np.zeros_like(x)+0.5, 'r', alpha=0.2)\n",
    "\n",
    "    plt.grid(True)\n",
    "#     plt.ylim([-2,2])\n",
    "\n",
    "    \n",
    "    plt.legend()\n",
    "    plt.title(f\"{energy} | iView panel {axis}-axis\")\n",
    "    plt.xlabel('Gantry (deg)')\n",
    "    plt.ylabel(f'Field centre {axis} - BB centre {axis} (mm)')\n",
    "    "
   ]
  },
  {
   "cell_type": "code",
   "execution_count": null,
   "metadata": {},
   "outputs": [],
   "source": [
    "energies = ['06MV', '10MV', '06FFF']\n",
    "axes = ['x', 'y']\n",
    "\n",
    "dose_rate_ranges = {\n",
    "    \"06MV\": {\n",
    "        \"low\": (0, 200),\n",
    "        \"half\": (200, 400),\n",
    "        \"full\": (400, 700)\n",
    "    },\n",
    "    \"10MV\": {\n",
    "        \"low\": (0, 200),\n",
    "        \"half\": (200, 400),\n",
    "        \"full\": (400, 700)\n",
    "    },\n",
    "    \"06FFF\": {\n",
    "        \"low\": (0, 500),\n",
    "        \"half\": (500, 1100),\n",
    "        \"full\": (1100, 2000)\n",
    "    },\n",
    "}"
   ]
  },
  {
   "cell_type": "code",
   "execution_count": null,
   "metadata": {},
   "outputs": [],
   "source": [
    "def get_energy_and_dose_rate_label_from_key(key):\n",
    "    split_key = key[0].split('_')\n",
    "    energy = split_key[1]\n",
    "    \n",
    "    dose_rate = int(split_key[-1].replace('DR', ''))\n",
    "    ranges = dose_rate_ranges[energy]\n",
    "    \n",
    "    dose_rate_label = None\n",
    "    for label, dose_rates in ranges.items():\n",
    "        if dose_rate >= dose_rates[0] and dose_rate < dose_rates[1]:\n",
    "            dose_rate_label = label\n",
    "            break\n",
    "            \n",
    "    return energy, dose_rate_label"
   ]
  },
  {
   "cell_type": "code",
   "execution_count": null,
   "metadata": {},
   "outputs": [],
   "source": [
    "df_key_to_stat_key = {\n",
    "    key: get_energy_and_dose_rate_label_from_key(key)\n",
    "    for key in dataframes.keys()\n",
    "}\n",
    "\n",
    "df_keys = df_key_to_stat_key.keys()\n",
    "\n",
    "# energy_and_dose_rate_labels"
   ]
  },
  {
   "cell_type": "code",
   "execution_count": null,
   "metadata": {},
   "outputs": [],
   "source": [
    "df_key_to_stat_key.values()"
   ]
  },
  {
   "cell_type": "code",
   "execution_count": null,
   "metadata": {},
   "outputs": [],
   "source": [
    "stat_key_to_df_key = {}\n",
    "\n",
    "for stat_key in set(df_key_to_stat_key.values()):    \n",
    "    stat_key_to_df_key[stat_key] = [\n",
    "        df_key for df_key in df_keys if df_key_to_stat_key[df_key] == stat_key\n",
    "    ]\n",
    "    \n",
    "# stat_key_to_df_key"
   ]
  },
  {
   "cell_type": "code",
   "execution_count": null,
   "metadata": {},
   "outputs": [],
   "source": [
    "statistics = {}\n",
    "\n",
    "for stat_key, df_keys in stat_key_to_df_key.items():\n",
    "    x_panel_data = []\n",
    "    y_panel_data = []\n",
    "    \n",
    "    for df_key in df_keys:\n",
    "        x_panel_data += dataframes[df_key]['Field - BB x (mm)'].values.tolist()\n",
    "        y_panel_data += dataframes[df_key]['Field - BB y (mm)'].values.tolist()\n",
    "        \n",
    "    statistics[stat_key] = {\n",
    "        \"x\": {\n",
    "            \"min\": np.nanmin(x_panel_data).round(2),\n",
    "            \"mean\": np.nanmean(x_panel_data).round(2),\n",
    "            \"max\": np.nanmax(x_panel_data).round(2),\n",
    "        },\n",
    "        \"y\": {\n",
    "            \"min\": np.nanmin(y_panel_data).round(2),\n",
    "            \"mean\": np.nanmean(y_panel_data).round(2),\n",
    "            \"max\": np.nanmax(y_panel_data).round(2),\n",
    "        }\n",
    "    }"
   ]
  },
  {
   "cell_type": "code",
   "execution_count": null,
   "metadata": {},
   "outputs": [],
   "source": [
    "# del statistics[('06FFF', 'low')]"
   ]
  },
  {
   "cell_type": "code",
   "execution_count": null,
   "metadata": {},
   "outputs": [],
   "source": [
    "statistics"
   ]
  },
  {
   "cell_type": "code",
   "execution_count": null,
   "metadata": {},
   "outputs": [],
   "source": [
    "stat_columns = [\n",
    "    'Full DR | min', 'Full DR | mean', 'Full DR | max', \n",
    "    'Half DR | min', 'Half DR | mean', 'Half DR | max', \n",
    "    'Low DR | min', 'Low DR | mean', 'Low DR | max'\n",
    "]\n",
    "\n",
    "stat_index = [\n",
    "    '06MV | x', '06MV | y',\n",
    "    '10MV | x', '10MV | y',\n",
    "    '06FFF | x', '06FFF | y',\n",
    "]"
   ]
  },
  {
   "cell_type": "code",
   "execution_count": null,
   "metadata": {},
   "outputs": [],
   "source": [
    "table = []\n",
    "\n",
    "for beam in energies:\n",
    "    for axis in ['x', 'y']:\n",
    "        current_row = []\n",
    "        for label in ['full', 'half', 'low']:\n",
    "            for stat in ['min', 'mean', 'max']:\n",
    "                try:\n",
    "                    current_row.append(statistics[(beam, label)][axis][stat])\n",
    "                except KeyError:\n",
    "                    current_row.append(np.nan)\n",
    "        table.append(current_row)\n",
    "        \n",
    "table"
   ]
  },
  {
   "cell_type": "code",
   "execution_count": null,
   "metadata": {},
   "outputs": [],
   "source": [
    "statistics_table = pd.DataFrame(data=table, columns=stat_columns, index=stat_index)"
   ]
  },
  {
   "cell_type": "code",
   "execution_count": null,
   "metadata": {},
   "outputs": [],
   "source": [
    "statistics_table"
   ]
  },
  {
   "cell_type": "code",
   "execution_count": null,
   "metadata": {},
   "outputs": [],
   "source": [
    "# Can select and copy the following table and use \"paste special > text\" to put into Excel\n",
    "\n",
    "statistics_table.index = ['x (mm)', 'y (mm)']*3\n",
    "statistics_table"
   ]
  },
  {
   "cell_type": "code",
   "execution_count": null,
   "metadata": {},
   "outputs": [],
   "source": []
  },
  {
   "cell_type": "code",
   "execution_count": null,
   "metadata": {},
   "outputs": [],
   "source": [
    "for energy in energies:\n",
    "    for axis in axes:\n",
    "        plot_enery_axis(energy, axis, dataframes)\n",
    "        \n",
    "        plt.savefig(output_dir.joinpath(f\"{energy}_{axis}-axis.png\"))"
   ]
  },
  {
   "cell_type": "code",
   "execution_count": null,
   "metadata": {},
   "outputs": [],
   "source": []
  },
  {
   "cell_type": "code",
   "execution_count": null,
   "metadata": {},
   "outputs": [],
   "source": []
  },
  {
   "cell_type": "code",
   "execution_count": null,
   "metadata": {},
   "outputs": [],
   "source": []
  },
  {
   "cell_type": "code",
   "execution_count": null,
   "metadata": {},
   "outputs": [],
   "source": []
  },
  {
   "cell_type": "code",
   "execution_count": null,
   "metadata": {},
   "outputs": [],
   "source": []
  },
  {
   "cell_type": "code",
   "execution_count": null,
   "metadata": {},
   "outputs": [],
   "source": [
    "for key in movie_keys:\n",
    "    print(key)\n",
    "    IPython.display.display(dataframes[key])\n",
    "    \n",
    "    dataframes[key].round(2).to_csv(movie_output_dirs[key].joinpath('raw_results.csv'))"
   ]
  },
  {
   "cell_type": "code",
   "execution_count": null,
   "metadata": {},
   "outputs": [],
   "source": []
  },
  {
   "cell_type": "code",
   "execution_count": null,
   "metadata": {},
   "outputs": [],
   "source": []
  },
  {
   "cell_type": "code",
   "execution_count": null,
   "metadata": {},
   "outputs": [],
   "source": [
    "# RENABLE THE FOLLOWING TO SEE ALL FAILURES"
   ]
  },
  {
   "cell_type": "code",
   "execution_count": null,
   "metadata": {},
   "outputs": [],
   "source": [
    "# try:\n",
    "#     with open('session_cache.json', 'r') as a_file:\n",
    "#         data_string_keys = json.load(a_file)\n",
    "    \n",
    "#     data = {\n",
    "#         inv_key_map[key]: item for key, item in data_string_keys.items()\n",
    "#     }\n",
    "# except FileNotFoundError:\n",
    "#     data = {}"
   ]
  },
  {
   "cell_type": "code",
   "execution_count": null,
   "metadata": {},
   "outputs": [],
   "source": [
    "# for key, image_path in image_paths.items():   \n",
    "#     images_dir = movie_output_dirs[key[0:3]].joinpath('images')\n",
    "    \n",
    "#     try:\n",
    "#         this_data = data[key]\n",
    "#         pymedphys_data = this_data['pymedphys']\n",
    "#     except KeyError:\n",
    "#         continue\n",
    "        \n",
    "#     x, y, img = pymedphys._wlutz.iview.iview_image_transform(image_path)\n",
    "    \n",
    "#     try:\n",
    "#         pymedphys_data['bb_centre']\n",
    "#         continue\n",
    "#     except KeyError:\n",
    "#         pass\n",
    "    \n",
    "    \n",
    "#     try:\n",
    "#         fig = pymedphys._wlutz.reporting.image_analysis_figure(\n",
    "#             x,\n",
    "#             y,\n",
    "#             img,\n",
    "#             None,\n",
    "#             pymedphys_data['field_centre'],\n",
    "#             pymedphys_data['field_rotation'],\n",
    "#             bb_diameter,\n",
    "#             edge_lengths,\n",
    "#             penumbra,\n",
    "#         )\n",
    "\n",
    "#         plt.title('PyMedPhys Basinhopping Method')\n",
    "#         plt.tight_layout()\n",
    "#         filepath = images_dir.joinpath(f\"frame_{key[3]}_PyMedPhys_field_only.png\")\n",
    "#         plt.savefig(filepath)\n",
    "#         print(f\"Saved {filepath}\")\n",
    "#         plt.close()\n",
    "#     except KeyError:\n",
    "#         pass"
   ]
  },
  {
   "cell_type": "code",
   "execution_count": null,
   "metadata": {},
   "outputs": [],
   "source": []
  },
  {
   "cell_type": "code",
   "execution_count": null,
   "metadata": {},
   "outputs": [],
   "source": []
  },
  {
   "cell_type": "code",
   "execution_count": null,
   "metadata": {},
   "outputs": [],
   "source": []
  },
  {
   "cell_type": "code",
   "execution_count": null,
   "metadata": {},
   "outputs": [],
   "source": []
  },
  {
   "cell_type": "code",
   "execution_count": null,
   "metadata": {},
   "outputs": [],
   "source": []
  },
  {
   "cell_type": "code",
   "execution_count": null,
   "metadata": {},
   "outputs": [],
   "source": []
  },
  {
   "cell_type": "code",
   "execution_count": null,
   "metadata": {},
   "outputs": [],
   "source": [
    "# RENABLE BELOW FOR DIAGNOSTIC IMAGE SAVING"
   ]
  },
  {
   "cell_type": "code",
   "execution_count": null,
   "metadata": {},
   "outputs": [],
   "source": [
    "# for key, image_path in image_paths.items():\n",
    "#     print(key)\n",
    "    \n",
    "#     images_dir = movie_output_dirs[key[0:3]].joinpath('images')\n",
    "    \n",
    "#     try:\n",
    "#         this_data = data[key]\n",
    "#         pymedphys_data = this_data['pymedphys']\n",
    "#     except KeyError:\n",
    "#         continue\n",
    "        \n",
    "#     x, y, img = pymedphys._wlutz.iview.iview_image_transform(image_path)\n",
    "\n",
    "#     try:\n",
    "#         fig = pymedphys._wlutz.reporting.image_analysis_figure(\n",
    "#             x,\n",
    "#             y,\n",
    "#             img,\n",
    "#             pymedphys_data['bb_centre'],\n",
    "#             pymedphys_data['field_centre'],\n",
    "#             pymedphys_data['field_rotation'],\n",
    "#             bb_diameter,\n",
    "#             edge_lengths,\n",
    "#             penumbra,\n",
    "#         )\n",
    "\n",
    "#         plt.title('PyMedPhys Basinhopping Method')\n",
    "#         plt.tight_layout()\n",
    "#         plt.savefig(images_dir.joinpath(f\"frame_{key[3]}_PyMedPhys.png\"))\n",
    "#         plt.close()\n",
    "#     except KeyError:\n",
    "#         pass\n",
    "    \n",
    "#     try:\n",
    "#         pylinac = this_data['pylinac']\n",
    "#     except KeyError:\n",
    "#         continue\n",
    "    \n",
    "\n",
    "#     fig = pymedphys._wlutz.reporting.image_analysis_figure(\n",
    "#         x,\n",
    "#         y,\n",
    "#         img,\n",
    "#         pylinac['v2.2.6']['bb_centre'],\n",
    "#         pylinac['v2.2.6']['field_centre'],\n",
    "#         pymedphys_data['field_rotation'],\n",
    "#         bb_diameter,\n",
    "#         edge_lengths,\n",
    "#         penumbra,\n",
    "#     )\n",
    "\n",
    "#     plt.title('Pylinac v2.2.6 Filter and Profile Method')\n",
    "#     plt.tight_layout()\n",
    "#     plt.savefig(images_dir.joinpath(f\"frame_{key[3]}_Pylinac_v2.2.6.png\"))\n",
    "#     plt.close()\n",
    "\n",
    "\n",
    "\n",
    "#     fig = pymedphys._wlutz.reporting.image_analysis_figure(\n",
    "#         x,\n",
    "#         y,\n",
    "#         img,\n",
    "#         pylinac['v2.2.7']['bb_centre'],\n",
    "#         pylinac['v2.2.7']['field_centre'],\n",
    "#         pymedphys_data['field_rotation'],\n",
    "#         bb_diameter,\n",
    "#         edge_lengths,\n",
    "#         penumbra,\n",
    "#     )\n",
    "\n",
    "#     plt.title('Pylinac v2.2.7 Filter and Scikit-Image Method')\n",
    "#     plt.tight_layout()\n",
    "#     plt.savefig(images_dir.joinpath(f\"frame_{key[3]}_Pylinac_v2.2.7.png\"))\n",
    "#     plt.close()\n",
    "\n",
    "    "
   ]
  },
  {
   "cell_type": "code",
   "execution_count": null,
   "metadata": {},
   "outputs": [],
   "source": []
  }
 ],
 "metadata": {
  "kernelspec": {
   "display_name": "pymedphys-master",
   "language": "python",
   "name": "pymedphys-master"
  },
  "language_info": {
   "codemirror_mode": {
    "name": "ipython",
    "version": 3
   },
   "file_extension": ".py",
   "mimetype": "text/x-python",
   "name": "python",
   "nbconvert_exporter": "python",
   "pygments_lexer": "ipython3",
   "version": "3.7.0"
  }
 },
 "nbformat": 4,
 "nbformat_minor": 4
}
