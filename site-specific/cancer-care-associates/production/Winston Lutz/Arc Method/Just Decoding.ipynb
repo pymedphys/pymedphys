{
 "cells": [
  {
   "cell_type": "code",
   "execution_count": null,
   "metadata": {},
   "outputs": [],
   "source": [
    "import pathlib\n",
    "import shutil\n",
    "import os\n",
    "import datetime\n",
    "import time\n",
    "\n",
    "import dateutil.tz\n",
    "\n",
    "import numpy as np\n",
    "import pandas as pd"
   ]
  },
  {
   "cell_type": "code",
   "execution_count": null,
   "metadata": {},
   "outputs": [],
   "source": [
    "# Makes it so any changes in pymedphys is automatically\n",
    "# propagated into the notebook without needing a kernel reset.\n",
    "from IPython.lib.deepreload import reload\n",
    "%load_ext autoreload\n",
    "%autoreload 2"
   ]
  },
  {
   "cell_type": "code",
   "execution_count": null,
   "metadata": {},
   "outputs": [],
   "source": [
    "import pymedphys._losslessjpeg"
   ]
  },
  {
   "cell_type": "code",
   "execution_count": null,
   "metadata": {},
   "outputs": [],
   "source": [
    "original_files = list(pathlib.Path(r'S:\\Temp').glob('**/*.jpg'))\n",
    "\n",
    "new_location = pathlib.Path(r'D:\\OneDrive - Cancer Care Associates\\RawWlutzImages\\images')"
   ]
  },
  {
   "cell_type": "code",
   "execution_count": null,
   "metadata": {},
   "outputs": [],
   "source": [
    "dateutil.tz.tzwinlocal().display()"
   ]
  },
  {
   "cell_type": "code",
   "execution_count": null,
   "metadata": {},
   "outputs": [],
   "source": [
    "datetime.datetime.fromtimestamp?"
   ]
  },
  {
   "cell_type": "code",
   "execution_count": null,
   "metadata": {},
   "outputs": [],
   "source": [
    "time.ctime(os.path.getctime(original_files[-1]))"
   ]
  },
  {
   "cell_type": "code",
   "execution_count": null,
   "metadata": {},
   "outputs": [],
   "source": [
    "len(original_files)"
   ]
  },
  {
   "cell_type": "code",
   "execution_count": null,
   "metadata": {},
   "outputs": [],
   "source": [
    "# old_timestamps = [\n",
    "#     datetime.datetime.fromtimestamp(os.path.getctime(path), ).strftime('%Y%m%d_%H%M%S_%f')\n",
    "#     for path in original_files\n",
    "# ]\n",
    "# # "
   ]
  },
  {
   "cell_type": "code",
   "execution_count": null,
   "metadata": {},
   "outputs": [],
   "source": [
    "timestamps = [\n",
    "    datetime.datetime.fromtimestamp(os.path.getmtime(path), ).strftime('%Y%m%d_%H%M%S_%f')\n",
    "    for path in original_files\n",
    "]\n",
    "# timestamps"
   ]
  },
  {
   "cell_type": "code",
   "execution_count": null,
   "metadata": {},
   "outputs": [],
   "source": [
    "new_ppm_paths = [\n",
    "    new_location.joinpath(timestamp).with_suffix('.ppm') for timestamp in timestamps\n",
    "]\n",
    "new_png_paths = [\n",
    "    path.with_suffix('.png') for path in new_ppm_paths\n",
    "]"
   ]
  },
  {
   "cell_type": "code",
   "execution_count": null,
   "metadata": {},
   "outputs": [],
   "source": [
    "for original, ppm, png in zip(original_files, new_ppm_paths, new_png_paths):\n",
    "    if not png.exists():       \n",
    "        pymedphys._losslessjpeg.convert_lossless_jpeg(original, ppm)\n",
    "        !magick convert \"{ppm}\" \"{png}\"\n",
    "        ppm.unlink()"
   ]
  },
  {
   "cell_type": "code",
   "execution_count": null,
   "metadata": {},
   "outputs": [],
   "source": [
    "# for old_ts, new_ts in zip(old_timestamps, timestamps):\n",
    "#     shutil.move(\n",
    "#         new_location.joinpath(old_ts).with_suffix('.png'),\n",
    "#         new_location.joinpath(new_ts).with_suffix('.png'),\n",
    "#     )"
   ]
  }
 ],
 "metadata": {
  "kernelspec": {
   "display_name": "pymedphys-master",
   "language": "python",
   "name": "pymedphys-master"
  },
  "language_info": {
   "codemirror_mode": {
    "name": "ipython",
    "version": 3
   },
   "file_extension": ".py",
   "mimetype": "text/x-python",
   "name": "python",
   "nbconvert_exporter": "python",
   "pygments_lexer": "ipython3",
   "version": "3.7.0"
  }
 },
 "nbformat": 4,
 "nbformat_minor": 4
}
