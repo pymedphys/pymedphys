{
 "cells": [
  {
   "cell_type": "code",
   "execution_count": null,
   "metadata": {},
   "outputs": [],
   "source": [
    "import pathlib\n",
    "import tempfile\n",
    "import datetime\n",
    "import os\n",
    "import time\n",
    "\n",
    "import numpy as np\n",
    "import pandas as pd\n",
    "import matplotlib.pyplot as plt\n",
    "\n",
    "import scipy.interpolate"
   ]
  },
  {
   "cell_type": "code",
   "execution_count": null,
   "metadata": {},
   "outputs": [],
   "source": [
    "# Makes it so any changes in pymedphys is automatically\n",
    "# propagated into the notebook without needing a kernel reset.\n",
    "from IPython.lib.deepreload import reload\n",
    "%load_ext autoreload\n",
    "%autoreload 2"
   ]
  },
  {
   "cell_type": "code",
   "execution_count": null,
   "metadata": {},
   "outputs": [],
   "source": [
    "import pymedphys._losslessjpeg\n",
    "import pymedphys._wlutz.core\n",
    "import pymedphys._wlutz.reporting\n",
    "import pymedphys._wlutz.iview\n",
    "import pymedphys._vendor.pylinac.winstonlutz"
   ]
  },
  {
   "cell_type": "code",
   "execution_count": null,
   "metadata": {},
   "outputs": [],
   "source": [
    "results_dir = pathlib.Path(r'S:\\Physics\\Programming\\results\\Wlutz_Arc\\2020-01-16_4299')"
   ]
  },
  {
   "cell_type": "code",
   "execution_count": null,
   "metadata": {},
   "outputs": [],
   "source": [
    "image_paths = list(pathlib.Path(r'S:\\Temp').glob('**/*.jpg'))\n",
    "# images"
   ]
  },
  {
   "cell_type": "code",
   "execution_count": null,
   "metadata": {},
   "outputs": [],
   "source": [
    "mechanical_icom_data_path = pathlib.Path(r'\\\\physics-server\\iComLogFiles\\mechanical\\4299\\20200116.csv')\n",
    "icom_data = pd.read_csv(mechanical_icom_data_path)\n",
    "icom_data"
   ]
  },
  {
   "cell_type": "code",
   "execution_count": null,
   "metadata": {},
   "outputs": [],
   "source": []
  },
  {
   "cell_type": "code",
   "execution_count": null,
   "metadata": {},
   "outputs": [],
   "source": [
    "diff = np.diff(icom_data['Monitor Units'])\n",
    "diff[diff<0] = 0 \n",
    "\n",
    "diff = diff[diff!=0]\n",
    "\n",
    "plt.hist(diff, 100)"
   ]
  },
  {
   "cell_type": "code",
   "execution_count": null,
   "metadata": {},
   "outputs": [],
   "source": [
    "initial_image_timestamps = np.array([\n",
    "    datetime.datetime.fromtimestamp(os.path.getmtime(path))\n",
    "    for path in image_paths\n",
    "]).astype(np.datetime64)\n",
    "# timestamps"
   ]
  },
  {
   "cell_type": "code",
   "execution_count": null,
   "metadata": {},
   "outputs": [],
   "source": [
    "approximate_saving_time = np.timedelta64(1500, 'ms')"
   ]
  },
  {
   "cell_type": "code",
   "execution_count": null,
   "metadata": {},
   "outputs": [],
   "source": [
    "time_diff = np.diff(initial_image_timestamps)\n",
    "time_diff = np.concatenate([time_diff, [time_diff[-1]]])\n",
    "image_adjusted_timestamps = initial_image_timestamps + approximate_saving_time"
   ]
  },
  {
   "cell_type": "code",
   "execution_count": null,
   "metadata": {},
   "outputs": [],
   "source": []
  },
  {
   "cell_type": "code",
   "execution_count": null,
   "metadata": {},
   "outputs": [],
   "source": [
    "icom_unique_timestamps, counts = np.unique(icom_data['Timestamp'], return_counts=True)\n",
    "icom_unique_timestamps = icom_unique_timestamps.astype(np.datetime64)"
   ]
  },
  {
   "cell_type": "code",
   "execution_count": null,
   "metadata": {},
   "outputs": [],
   "source": [
    "icom_adjusted_timestamps = []\n",
    "\n",
    "for base_timestamp, count in zip(icom_unique_timestamps, counts):\n",
    "    time_dt = 1000 / (count)\n",
    "    \n",
    "    current_dt = time_dt / 2\n",
    "    for i in range(count):\n",
    "        icom_adjusted_timestamps.append(base_timestamp + np.timedelta64(int(current_dt), 'ms'))\n",
    "        current_dt += time_dt\n",
    "        \n",
    "        \n",
    "icom_adjusted_timestamps = np.array(icom_adjusted_timestamps).astype('datetime64[ms]')"
   ]
  },
  {
   "cell_type": "code",
   "execution_count": null,
   "metadata": {},
   "outputs": [],
   "source": []
  },
  {
   "cell_type": "code",
   "execution_count": null,
   "metadata": {},
   "outputs": [],
   "source": [
    "# adjusted_timestamps = np.array(adjusted_timestamps).astype('datetime64[ms]').astype('uint64')"
   ]
  },
  {
   "cell_type": "code",
   "execution_count": null,
   "metadata": {},
   "outputs": [],
   "source": [
    "def convert_timestamp(timestamp):\n",
    "    return np.array(timestamp).astype('datetime64[ms]').astype('float64') / 60000\n",
    "\n",
    "class Interpolator:\n",
    "    def __init__(self, timestamps, data):\n",
    "        interpolation = scipy.interpolate.UnivariateSpline(\n",
    "            convert_timestamp(timestamps), data, k=1, s=0)\n",
    "        self._interpolation = interpolation\n",
    "\n",
    "    def __call__(self, timestamp):\n",
    "        return self._interpolation(convert_timestamp(timestamp))\n",
    "\n",
    "    def derivative(self, timestamp):\n",
    "        dt = 1/60\n",
    "        minutes = convert_timestamp(timestamp)\n",
    "        return (self._interpolation(minutes + dt/2) - self._interpolation(minutes - dt/2)) / dt\n",
    "\n",
    "keys = ['Gantry', 'Collimator', 'MLC distance at CRA', 'Jaw distance', 'Monitor Units']\n",
    "\n",
    "interpolators = {\n",
    "    key: Interpolator(icom_adjusted_timestamps, icom_data[key])\n",
    "    for key in keys\n",
    "}"
   ]
  },
  {
   "cell_type": "code",
   "execution_count": null,
   "metadata": {},
   "outputs": [],
   "source": [
    "match_mask = np.abs(icom_adjusted_timestamps[:, None] - image_adjusted_timestamps[None, :]) < np.timedelta64(510, 'ms')"
   ]
  },
  {
   "cell_type": "code",
   "execution_count": null,
   "metadata": {},
   "outputs": [],
   "source": [
    "icom_index, image_index = np.where(match_mask)"
   ]
  },
  {
   "cell_type": "code",
   "execution_count": null,
   "metadata": {},
   "outputs": [],
   "source": [
    "_, unique_index = np.unique(image_index, return_index=True)\n",
    "icom_index = icom_index[unique_index]\n",
    "image_index = image_index[unique_index]"
   ]
  },
  {
   "cell_type": "code",
   "execution_count": null,
   "metadata": {},
   "outputs": [],
   "source": [
    "energies = icom_data['Energy'][icom_index]"
   ]
  },
  {
   "cell_type": "code",
   "execution_count": null,
   "metadata": {},
   "outputs": [],
   "source": [
    "valid_image_timestamps = np.array(image_adjusted_timestamps).astype(np.datetime64)[image_index]"
   ]
  },
  {
   "cell_type": "code",
   "execution_count": null,
   "metadata": {},
   "outputs": [],
   "source": [
    "valid_image_paths = np.array(image_paths).astype(str)[image_index]"
   ]
  },
  {
   "cell_type": "code",
   "execution_count": null,
   "metadata": {},
   "outputs": [],
   "source": [
    "def get_direction(timestamps):\n",
    "    gantry_derivative = interpolators['Gantry'].derivative(valid_image_timestamps)\n",
    "    result = np.ones_like(timestamps).astype(str)\n",
    "    result[:] = ''\n",
    "    result[gantry_derivative<-1] = 'counter-clockwise'\n",
    "    result[gantry_derivative>1] = 'clockwise'\n",
    "    \n",
    "    return result"
   ]
  },
  {
   "cell_type": "code",
   "execution_count": null,
   "metadata": {},
   "outputs": [],
   "source": [
    "image_values = {\n",
    "    'Timestamp': valid_image_timestamps,\n",
    "    'Path': valid_image_paths,\n",
    "    'Energy': np.array(energies).astype(str),\n",
    "    'Rough Dose Rate': interpolators['Monitor Units'].derivative(valid_image_timestamps),\n",
    "    'Direction': get_direction(valid_image_timestamps),\n",
    "    'Gantry': interpolators['Gantry'](valid_image_timestamps),\n",
    "    'Collimator': interpolators['Collimator'](valid_image_timestamps),\n",
    "    'Width': interpolators['MLC distance at CRA'](valid_image_timestamps) * 10,\n",
    "    'Length': interpolators['Jaw distance'](valid_image_timestamps) * 10\n",
    "}\n",
    "\n",
    "per_image_data = pd.DataFrame(image_values)\n",
    "per_image_data.to_csv(results_dir.joinpath('interpolated_iCom_results.csv'), index=False)"
   ]
  },
  {
   "cell_type": "code",
   "execution_count": null,
   "metadata": {},
   "outputs": [],
   "source": [
    "image_results = {}"
   ]
  },
  {
   "cell_type": "code",
   "execution_count": null,
   "metadata": {},
   "outputs": [],
   "source": [
    "bb_diameter = 8\n",
    "penumbra = 2\n",
    "\n",
    "# image_results = {}\n",
    "\n",
    "for i, path in enumerate(valid_image_paths):\n",
    "    current_data = per_image_data.iloc[i]\n",
    "    timestamp = current_data['Timestamp']\n",
    "    \n",
    "    try:\n",
    "        image_results[timestamp]\n",
    "        continue\n",
    "    except KeyError:\n",
    "        pass    \n",
    "    \n",
    "    print(path)\n",
    "    loaded_image = pymedphys._losslessjpeg.imread(path)\n",
    "    x, y, img = pymedphys._wlutz.iview.iview_image_transform(loaded_image)\n",
    "\n",
    "    print(current_data)\n",
    "    edge_lengths = [current_data['Width'], current_data['Length']]\n",
    "    rotation = current_data['Collimator']\n",
    "    \n",
    "\n",
    "    try:\n",
    "        bb_centre, field_centre, field_rotation = pymedphys._wlutz.core.find_field_and_bb(\n",
    "            x, y, img, edge_lengths, bb_diameter, penumbra=penumbra, fixed_rotation=rotation, rounding=False, ignore_pylinac=True)\n",
    "        \n",
    "        image_results[timestamp] = {\n",
    "            'BB Centre': bb_centre,\n",
    "            'Field Centre': field_centre\n",
    "        }\n",
    "\n",
    "        pymedphys._wlutz.reporting.image_analysis_figure(\n",
    "            x,\n",
    "            y,\n",
    "            img,\n",
    "            bb_centre,\n",
    "            field_centre,\n",
    "            field_rotation,\n",
    "            bb_diameter,\n",
    "            edge_lengths,\n",
    "            penumbra,\n",
    "        )\n",
    "\n",
    "        plt.show()\n",
    "    except Exception as e:\n",
    "        print(e)\n",
    "        pass"
   ]
  },
  {
   "cell_type": "code",
   "execution_count": null,
   "metadata": {},
   "outputs": [],
   "source": [
    "i = 50\n",
    "loaded_image = pymedphys._losslessjpeg.imread(image_paths[i])\n",
    "x, y, img = pymedphys._wlutz.iview.iview_image_transform(loaded_image)\n"
   ]
  },
  {
   "cell_type": "code",
   "execution_count": null,
   "metadata": {},
   "outputs": [],
   "source": [
    "current_data = per_image_data.iloc[i]\n",
    "current_data"
   ]
  },
  {
   "cell_type": "code",
   "execution_count": null,
   "metadata": {},
   "outputs": [],
   "source": [
    "edge_lengths = [current_data['Width'], current_data['Length']]\n",
    "edge_lengths"
   ]
  },
  {
   "cell_type": "code",
   "execution_count": null,
   "metadata": {},
   "outputs": [],
   "source": [
    "bb_diameter = 8\n",
    "penumbra = 2"
   ]
  },
  {
   "cell_type": "code",
   "execution_count": null,
   "metadata": {},
   "outputs": [],
   "source": [
    "rotation = current_data['Collimator']\n",
    "rotation"
   ]
  },
  {
   "cell_type": "code",
   "execution_count": null,
   "metadata": {},
   "outputs": [],
   "source": []
  },
  {
   "cell_type": "code",
   "execution_count": null,
   "metadata": {},
   "outputs": [],
   "source": [
    "bb_centre, field_centre, field_rotation = pymedphys._wlutz.core.find_field_and_bb(\n",
    "    x, y, img, edge_lengths, bb_diameter, penumbra=penumbra, fixed_rotation=rotation, rounding=False, ignore_pylinac=True)"
   ]
  },
  {
   "cell_type": "code",
   "execution_count": null,
   "metadata": {},
   "outputs": [],
   "source": [
    "pymedphys._wlutz.reporting.image_analysis_figure(\n",
    "    x,\n",
    "    y,\n",
    "    img,\n",
    "    bb_centre,\n",
    "    field_centre,\n",
    "    field_rotation,\n",
    "    bb_diameter,\n",
    "    edge_lengths,\n",
    "    penumbra,\n",
    ")"
   ]
  },
  {
   "cell_type": "code",
   "execution_count": null,
   "metadata": {},
   "outputs": [],
   "source": []
  }
 ],
 "metadata": {
  "kernelspec": {
   "display_name": "pymedphys-master",
   "language": "python",
   "name": "pymedphys-master"
  },
  "language_info": {
   "codemirror_mode": {
    "name": "ipython",
    "version": 3
   },
   "file_extension": ".py",
   "mimetype": "text/x-python",
   "name": "python",
   "nbconvert_exporter": "python",
   "pygments_lexer": "ipython3",
   "version": "3.7.0"
  }
 },
 "nbformat": 4,
 "nbformat_minor": 4
}
