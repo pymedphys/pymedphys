{
 "cells": [
  {
   "cell_type": "code",
   "execution_count": null,
   "metadata": {},
   "outputs": [],
   "source": [
    "import matplotlib.pyplot as plt\n",
    "\n",
    "import pymedphys\n",
    "import pymedphys._wlutz.pylinac\n",
    "import pymedphys._wlutz.iview\n",
    "import pymedphys._wlutz.imginterp\n",
    "import pymedphys._wlutz.findfield\n",
    "import pymedphys._wlutz.findbb\n",
    "import pymedphys._wlutz.reporting"
   ]
  },
  {
   "cell_type": "code",
   "execution_count": null,
   "metadata": {},
   "outputs": [],
   "source": [
    "image_path = pymedphys.data_path(\"pylinac_wlutz_regression_image.jpg\")"
   ]
  },
  {
   "cell_type": "code",
   "execution_count": null,
   "metadata": {},
   "outputs": [],
   "source": [
    "penumbra = 2\n",
    "edge_lengths = [20, 24]\n",
    "bb_diameter = 8"
   ]
  },
  {
   "cell_type": "code",
   "execution_count": null,
   "metadata": {},
   "outputs": [],
   "source": [
    "x, y, img = pymedphys._wlutz.iview.iview_image_transform(image_path)\n",
    "\n",
    "field = pymedphys._wlutz.imginterp.create_interpolated_field(x, y, img)\n",
    "initial_centre = pymedphys._wlutz.findfield._initial_centre(x, y, img)\n",
    "\n",
    "field_centre, field_rotation = pymedphys._wlutz.findfield.field_centre_and_rotation_refining(\n",
    "    field, edge_lengths, penumbra, initial_centre\n",
    ")    \n",
    "\n",
    "bb_centre = pymedphys._wlutz.findbb.optimise_bb_centre( \n",
    "    field, bb_diameter, edge_lengths, penumbra, field_centre, field_rotation, pylinac_tol=0.5\n",
    ")"
   ]
  },
  {
   "cell_type": "code",
   "execution_count": null,
   "metadata": {},
   "outputs": [],
   "source": [
    "pylinac = pymedphys._wlutz.pylinac.run_wlutz(\n",
    "    field, edge_lengths, penumbra, field_centre, field_rotation)"
   ]
  },
  {
   "cell_type": "code",
   "execution_count": null,
   "metadata": {},
   "outputs": [],
   "source": [
    "pymedphys._wlutz.reporting.image_analysis_figure(\n",
    "    x,\n",
    "    y,\n",
    "    img,\n",
    "    bb_centre,\n",
    "    field_centre,\n",
    "    field_rotation,\n",
    "    bb_diameter,\n",
    "    edge_lengths,\n",
    "    penumbra,\n",
    ")\n",
    "\n",
    "plt.title('PyMedPhys Basinhopping Method')\n",
    "plt.tight_layout()\n",
    "plt.savefig('PyMedPhys.png')"
   ]
  },
  {
   "cell_type": "code",
   "execution_count": null,
   "metadata": {},
   "outputs": [],
   "source": [
    "pymedphys._wlutz.reporting.image_analysis_figure(\n",
    "    x,\n",
    "    y,\n",
    "    img,\n",
    "    pylinac['v2.2.6']['bb_centre'],\n",
    "    pylinac['v2.2.6']['field_centre'],\n",
    "    field_rotation,\n",
    "    bb_diameter,\n",
    "    edge_lengths,\n",
    "    penumbra,\n",
    ")\n",
    "\n",
    "plt.title('Pylinac v2.2.6 Filter and Profile Method')\n",
    "plt.tight_layout()\n",
    "plt.savefig('Pylinac v2.2.6.png')"
   ]
  },
  {
   "cell_type": "code",
   "execution_count": null,
   "metadata": {},
   "outputs": [],
   "source": [
    "pymedphys._wlutz.reporting.image_analysis_figure(\n",
    "    x,\n",
    "    y,\n",
    "    img,\n",
    "    pylinac['v2.2.7']['bb_centre'],\n",
    "    pylinac['v2.2.7']['field_centre'],\n",
    "    field_rotation,\n",
    "    bb_diameter,\n",
    "    edge_lengths,\n",
    "    penumbra,\n",
    ")\n",
    "\n",
    "plt.title('Pylinac v2.2.7 Filter and Scikit-Image Method')\n",
    "plt.tight_layout()\n",
    "plt.savefig('Pylinac v2.2.7.png')"
   ]
  }
 ],
 "metadata": {
  "kernelspec": {
   "display_name": "pymedphys-master",
   "language": "python",
   "name": "pymedphys-master"
  },
  "language_info": {
   "codemirror_mode": {
    "name": "ipython",
    "version": 3
   },
   "file_extension": ".py",
   "mimetype": "text/x-python",
   "name": "python",
   "nbconvert_exporter": "python",
   "pygments_lexer": "ipython3",
   "version": "3.7.5"
  }
 },
 "nbformat": 4,
 "nbformat_minor": 4
}
