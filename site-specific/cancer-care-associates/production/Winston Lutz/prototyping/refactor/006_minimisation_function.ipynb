{
 "cells": [
  {
   "cell_type": "code",
   "execution_count": null,
   "metadata": {},
   "outputs": [],
   "source": [
    "%load_ext autoreload\n",
    "%autoreload 2"
   ]
  },
  {
   "cell_type": "code",
   "execution_count": null,
   "metadata": {},
   "outputs": [],
   "source": [
    "import pathlib\n",
    "import urllib.request\n",
    "\n",
    "import numpy as np\n",
    "import matplotlib.pyplot as plt\n",
    "import matplotlib.transforms\n",
    "import scipy.ndimage.measurements\n",
    "import scipy.interpolate\n",
    "import scipy.optimize\n",
    "\n",
    "import imageio\n",
    "\n",
    "import pymedphys._mocks.profiles\n",
    "import pymedphys._wlutz.findfield\n",
    "import pymedphys._wlutz.createaxis\n",
    "import pymedphys._wlutz.interppoints"
   ]
  },
  {
   "cell_type": "code",
   "execution_count": null,
   "metadata": {},
   "outputs": [],
   "source": [
    "degrees = 20\n",
    "edge_lengths = [8, 12]\n",
    "penumbra = 1\n",
    "centre = [15, 4]\n",
    "\n",
    "offset_centre = [15, 4.1]\n",
    "\n",
    "field = pymedphys._mocks.profiles.create_rectangular_field_function(centre, edge_lengths, penumbra, degrees)"
   ]
  },
  {
   "cell_type": "code",
   "execution_count": null,
   "metadata": {},
   "outputs": [],
   "source": [
    "x = np.arange(-15, 30, 0.1)\n",
    "y = np.arange(-15, 15, 0.1)\n",
    "\n",
    "xx, yy = np.meshgrid(x, y)\n",
    "\n",
    "zz = field(xx, yy)\n",
    "plt.pcolormesh(xx, yy, zz)\n",
    "plt.axis('equal')"
   ]
  },
  {
   "cell_type": "code",
   "execution_count": null,
   "metadata": {},
   "outputs": [],
   "source": [
    "xx_left_right, yy_left_right, xx_top_bot, yy_top_bot = pymedphys._wlutz.interppoints.define_penumbra_points(centre, edge_lengths, penumbra, degrees)\n",
    "\n",
    "plt.pcolormesh(xx, yy, zz)\n",
    "plt.scatter(xx_left_right, yy_left_right, s=1)\n",
    "plt.scatter(xx_top_bot, yy_top_bot, s=1)"
   ]
  },
  {
   "cell_type": "code",
   "execution_count": null,
   "metadata": {},
   "outputs": [],
   "source": [
    "offset_xx_left_right, offset_yy_left_right, offset_xx_top_bot, offset_yy_top_bot = pymedphys._wlutz.interppoints.define_penumbra_points(\n",
    "    offset_centre, edge_lengths, penumbra, degrees)\n",
    "\n",
    "plt.pcolormesh(xx, yy, zz)\n",
    "plt.scatter(offset_xx_left_right, offset_yy_left_right, s=1)\n",
    "plt.scatter(offset_xx_top_bot, offset_yy_top_bot, s=1)"
   ]
  },
  {
   "cell_type": "code",
   "execution_count": null,
   "metadata": {},
   "outputs": [],
   "source": [
    "left_right_interpolated = field(offset_xx_left_right, offset_yy_left_right)\n",
    "\n",
    "left_right_interpolated - left_right_interpolated[:, ::-1]"
   ]
  },
  {
   "cell_type": "code",
   "execution_count": null,
   "metadata": {},
   "outputs": [],
   "source": [
    "top_bot_interpolated = field(offset_xx_top_bot, offset_yy_top_bot)"
   ]
  },
  {
   "cell_type": "code",
   "execution_count": null,
   "metadata": {},
   "outputs": [],
   "source": [
    "weighted_diff = 2*(left_right_interpolated - left_right_interpolated[:, ::-1]) / (left_right_interpolated + left_right_interpolated[:, ::-1])\n",
    "np.sum((weighted_diff)**2)"
   ]
  },
  {
   "cell_type": "code",
   "execution_count": null,
   "metadata": {},
   "outputs": [],
   "source": [
    "weighted_diff = 2*(top_bot_interpolated - top_bot_interpolated[::-1, :]) / (top_bot_interpolated + top_bot_interpolated[::-1, :])\n",
    "np.sum((weighted_diff)**2)"
   ]
  },
  {
   "cell_type": "code",
   "execution_count": null,
   "metadata": {},
   "outputs": [],
   "source": [
    "def create_penumbra_minimisation(field, edge_lengths, penumbra):\n",
    "    def to_minimise(inputs):\n",
    "        centre = [inputs[0], inputs[1]]\n",
    "        rotation = inputs[2]\n",
    "        \n",
    "        xx_left_right, yy_left_right, xx_top_bot, yy_top_bot = pymedphys._wlutz.interppoints.define_penumbra_points(\n",
    "            centre, edge_lengths, penumbra, rotation)\n",
    "        \n",
    "        left_right_interpolated = field(xx_left_right, yy_left_right)\n",
    "        top_bot_interpolated = field(xx_top_bot, yy_top_bot)\n",
    "        \n",
    "        left_right_weighted_diff = 2*(left_right_interpolated - left_right_interpolated[:, ::-1]) / (left_right_interpolated + left_right_interpolated[:, ::-1])\n",
    "        top_bot_weighted_diff = 2*(top_bot_interpolated - top_bot_interpolated[::-1, :]) / (top_bot_interpolated + top_bot_interpolated[::-1, :])\n",
    "        \n",
    "        return np.sum(left_right_weighted_diff**2) + np.sum(top_bot_weighted_diff**2)\n",
    "    \n",
    "    return to_minimise"
   ]
  },
  {
   "cell_type": "code",
   "execution_count": null,
   "metadata": {},
   "outputs": [],
   "source": [
    "def create_rotation_only_to_minimise(centre, to_minimise_all):\n",
    "    def to_minimise(rotation):\n",
    "        return to_minimise_all([centre[0], centre[1], rotation])\n",
    "    \n",
    "    return to_minimise\n",
    "\n",
    "def create_shift_only_to_minimise(rotation, to_minimise_all):\n",
    "    def to_minimise(centre):\n",
    "        return to_minimise_all([centre[0], centre[1], rotation])\n",
    "    \n",
    "    return to_minimise"
   ]
  },
  {
   "cell_type": "code",
   "execution_count": null,
   "metadata": {},
   "outputs": [],
   "source": [
    "to_minimise_all = create_penumbra_minimisation(field, edge_lengths, penumbra)\n",
    "\n",
    "\n"
   ]
  },
  {
   "cell_type": "code",
   "execution_count": null,
   "metadata": {},
   "outputs": [],
   "source": [
    "to_minimise([15, 4, 20])"
   ]
  },
  {
   "cell_type": "code",
   "execution_count": null,
   "metadata": {},
   "outputs": [],
   "source": [
    "to_minimise([15.1, 4, 20])"
   ]
  },
  {
   "cell_type": "code",
   "execution_count": null,
   "metadata": {},
   "outputs": [],
   "source": [
    "to_minimise([15, 4.1, 20])"
   ]
  },
  {
   "cell_type": "code",
   "execution_count": null,
   "metadata": {},
   "outputs": [],
   "source": [
    "to_minimise([15, 4, 20.1])"
   ]
  },
  {
   "cell_type": "code",
   "execution_count": null,
   "metadata": {},
   "outputs": [],
   "source": [
    "to_minimise([15, 4, 19.9])"
   ]
  },
  {
   "cell_type": "code",
   "execution_count": null,
   "metadata": {},
   "outputs": [],
   "source": [
    "initial_centre = pymedphys._wlutz.findfield.initial_centre(x, y, zz)\n",
    "\n",
    "# rotation_only_to_minimise = create_rotation_only_to_minimise(initial_centre, to_minimise_all)"
   ]
  },
  {
   "cell_type": "code",
   "execution_count": null,
   "metadata": {},
   "outputs": [],
   "source": [
    "def optimise_rotation(predicted_centre, initial_rotation, to_minimise_all):\n",
    "    rotation_only_to_minimise = create_rotation_only_to_minimise(predicted_centre, to_minimise_all)\n",
    "    result = scipy.optimize.basinhopping(\n",
    "        rotation_only_to_minimise, initial_rotation, T=1, niter=200, niter_success=3, stepsize=30,\n",
    "        minimizer_kwargs={\n",
    "            'method': 'L-BFGS-B'\n",
    "        }\n",
    "    )\n",
    "\n",
    "    predicted_rotation = result.x[0]\n",
    "    return predicted_rotation % 90"
   ]
  },
  {
   "cell_type": "code",
   "execution_count": null,
   "metadata": {},
   "outputs": [],
   "source": [
    "def optimise_centre(initial_centre, predicted_rotation, to_minimise_all, penumbra):\n",
    "    bounds = [\n",
    "        (initial_centre[0] - penumbra, initial_centre[0] + penumbra),\n",
    "        (initial_centre[1] - penumbra, initial_centre[1] + penumbra)\n",
    "    ]\n",
    "    \n",
    "    shift_only_to_minimise = create_shift_only_to_minimise(predicted_rotation, to_minimise_all)\n",
    "\n",
    "    result = scipy.optimize.basinhopping(\n",
    "            shift_only_to_minimise, initial_centre, T=1, niter=200, niter_success=5, stepsize=0.25, \n",
    "            minimizer_kwargs={\n",
    "                'method': 'L-BFGS-B',\n",
    "                'bounds': bounds\n",
    "            }\n",
    "        )\n",
    "\n",
    "    predicted_centre = result.x\n",
    "    return predicted_centre"
   ]
  },
  {
   "cell_type": "code",
   "execution_count": null,
   "metadata": {},
   "outputs": [],
   "source": [
    "def field_finding_loop(field, edge_lengths, penumbra, initial_centre=[0,0], initial_rotation=0):\n",
    "    to_minimise_all = create_penumbra_minimisation(field, edge_lengths, penumbra)\n",
    "    \n",
    "    predicted_rotation = optimise_rotation(initial_centre, initial_rotation, to_minimise_all)\n",
    "    initial_rotation = predicted_rotation\n",
    "    \n",
    "    while True:\n",
    "        while True:\n",
    "            predicted_centre = optimise_centre(initial_centre, predicted_rotation, to_minimise_all, penumbra)\n",
    "\n",
    "            if np.allclose(predicted_centre, initial_centre):\n",
    "                break\n",
    "            else:\n",
    "                initial_centre = predicted_centre\n",
    "\n",
    "            predicted_rotation = optimise_rotation(predicted_centre, initial_rotation, to_minimise_all)\n",
    "\n",
    "            if np.allclose(predicted_rotation, initial_rotation):\n",
    "                break\n",
    "            else:\n",
    "                initial_rotation = predicted_rotation\n",
    "\n",
    "        verification_centre = optimise_centre(predicted_centre, predicted_rotation, to_minimise_all, penumbra)\n",
    "        verification_rotation = optimise_rotation(predicted_centre, predicted_rotation, to_minimise_all)\n",
    "        \n",
    "        if np.allclose(verification_centre, predicted_centre) and np.allclose(verification_rotation, predicted_rotation):\n",
    "            break\n",
    "        else:\n",
    "            print(\"Field finding did not agree during verification, repeating...\")\n",
    "            \n",
    "    centre = predicted_centre.tolist()\n",
    "    return centre, predicted_rotation\n"
   ]
  },
  {
   "cell_type": "code",
   "execution_count": null,
   "metadata": {},
   "outputs": [],
   "source": [
    "x = np.arange(-15, 30, 0.1)\n",
    "y = np.arange(-15, 15, 0.1)\n",
    "\n",
    "xx, yy = np.meshgrid(x, y)\n",
    "\n",
    "zz = field(xx, yy)\n",
    "\n",
    "initial_centre = pymedphys._wlutz.findfield._initial_centre(x, y, zz)\n",
    "\n",
    "field_finding_loop(field, edge_lengths, penumbra, initial_centre=initial_centre)"
   ]
  },
  {
   "cell_type": "code",
   "execution_count": null,
   "metadata": {},
   "outputs": [],
   "source": [
    "field_finding_loop(field, edge_lengths, penumbra)"
   ]
  },
  {
   "cell_type": "code",
   "execution_count": null,
   "metadata": {},
   "outputs": [],
   "source": [
    "%timeit field_finding_loop()"
   ]
  },
  {
   "cell_type": "code",
   "execution_count": null,
   "metadata": {},
   "outputs": [],
   "source": [
    "-70 % 90"
   ]
  },
  {
   "cell_type": "code",
   "execution_count": null,
   "metadata": {},
   "outputs": [],
   "source": [
    "predicted_rotation"
   ]
  },
  {
   "cell_type": "code",
   "execution_count": null,
   "metadata": {},
   "outputs": [],
   "source": [
    "predicted_centre"
   ]
  },
  {
   "cell_type": "code",
   "execution_count": null,
   "metadata": {},
   "outputs": [],
   "source": [
    "predicted_centre"
   ]
  },
  {
   "cell_type": "code",
   "execution_count": null,
   "metadata": {},
   "outputs": [],
   "source": [
    "predicted_rotation"
   ]
  },
  {
   "cell_type": "code",
   "execution_count": null,
   "metadata": {},
   "outputs": [],
   "source": []
  },
  {
   "cell_type": "code",
   "execution_count": null,
   "metadata": {},
   "outputs": [],
   "source": [
    "%timeit optimise_rotation(predicted_centre, to_minimise_all, 0.001)"
   ]
  },
  {
   "cell_type": "code",
   "execution_count": null,
   "metadata": {},
   "outputs": [],
   "source": [
    "%timeit optimise_rotation(predicted_centre, to_minimise_all, None)"
   ]
  },
  {
   "cell_type": "code",
   "execution_count": null,
   "metadata": {},
   "outputs": [],
   "source": [
    "%timeit optimise_rotation(predicted_centre, to_minimise_all, 1)"
   ]
  },
  {
   "cell_type": "code",
   "execution_count": null,
   "metadata": {},
   "outputs": [],
   "source": []
  },
  {
   "cell_type": "code",
   "execution_count": null,
   "metadata": {},
   "outputs": [],
   "source": [
    "bounds = [\n",
    "    (initial_centre[0] - penumbra, initial_centre[0] + penumbra),\n",
    "    (initial_centre[1] - penumbra, initial_centre[1] + penumbra)\n",
    "]\n",
    "\n",
    "x0 = [centre[0], centre[1], 0]"
   ]
  },
  {
   "cell_type": "code",
   "execution_count": null,
   "metadata": {},
   "outputs": [],
   "source": [
    "result = scipy.optimize.basinhopping(\n",
    "    rotation_only_to_minimise, 0, T=1, niter=200, niter_success=5, stepsize=30\n",
    ")\n",
    "\n",
    "predicted_rotation = result.x[0]\n",
    "predicted_rotation"
   ]
  },
  {
   "cell_type": "code",
   "execution_count": null,
   "metadata": {},
   "outputs": [],
   "source": [
    "shift_only_to_minimise = create_shift_only_to_minimise(predicted_rotation, to_minimise_all)\n",
    "\n",
    "result = scipy.optimize.basinhopping(\n",
    "        shift_only_to_minimise, initial_centre, T=1, niter=200, niter_success=5, stepsize=0.25, \n",
    "        minimizer_kwargs={\n",
    "            'method': 'L-BFGS-B',\n",
    "            'bounds': bounds\n",
    "        }\n",
    "    )\n",
    "\n",
    "\n",
    "predicted_centre = result.x\n",
    "\n"
   ]
  },
  {
   "cell_type": "code",
   "execution_count": null,
   "metadata": {},
   "outputs": [],
   "source": []
  },
  {
   "cell_type": "code",
   "execution_count": null,
   "metadata": {},
   "outputs": [],
   "source": []
  },
  {
   "cell_type": "code",
   "execution_count": null,
   "metadata": {},
   "outputs": [],
   "source": []
  },
  {
   "cell_type": "code",
   "execution_count": null,
   "metadata": {},
   "outputs": [],
   "source": [
    "to_minimise([15, 4, 20])"
   ]
  },
  {
   "cell_type": "code",
   "execution_count": null,
   "metadata": {},
   "outputs": [],
   "source": [
    "to_minimise([15.00000007,  4.00000002, -8.14087076])"
   ]
  }
 ],
 "metadata": {
  "kernelspec": {
   "display_name": "pymedphys-master",
   "language": "python",
   "name": "pymedphys-master"
  },
  "language_info": {
   "codemirror_mode": {
    "name": "ipython",
    "version": 3
   },
   "file_extension": ".py",
   "mimetype": "text/x-python",
   "name": "python",
   "nbconvert_exporter": "python",
   "pygments_lexer": "ipython3",
   "version": "3.7.0"
  }
 },
 "nbformat": 4,
 "nbformat_minor": 4
}
