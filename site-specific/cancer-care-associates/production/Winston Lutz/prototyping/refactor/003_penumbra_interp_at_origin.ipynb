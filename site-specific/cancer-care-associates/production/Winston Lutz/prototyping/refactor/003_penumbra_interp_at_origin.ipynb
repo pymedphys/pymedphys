{
 "cells": [
  {
   "cell_type": "code",
   "execution_count": null,
   "metadata": {},
   "outputs": [],
   "source": [
    "%load_ext autoreload\n",
    "%autoreload 2"
   ]
  },
  {
   "cell_type": "code",
   "execution_count": null,
   "metadata": {},
   "outputs": [],
   "source": [
    "import pathlib\n",
    "import urllib.request\n",
    "\n",
    "import numpy as np\n",
    "import matplotlib.pyplot as plt\n",
    "import matplotlib.transforms\n",
    "import scipy.ndimage.measurements\n",
    "import scipy.interpolate\n",
    "\n",
    "import imageio\n",
    "\n",
    "import pymedphys._mocks.profiles\n",
    "import pymedphys._wlutz.findfield\n",
    "import pymedphys._wlutz.createaxis"
   ]
  },
  {
   "cell_type": "code",
   "execution_count": null,
   "metadata": {},
   "outputs": [],
   "source": [
    "image_name = '00000B94.png'\n",
    "image_path = pathlib.Path('.').resolve().parent.joinpath('data', 'images', 'lossless', image_name)\n",
    "\n",
    "if not image_path.exists():\n",
    "    url = f'https://zenodo.org/record/3520266/files/{image_name}?download=1'\n",
    "    urllib.request.urlretrieve(url, image_path)"
   ]
  },
  {
   "cell_type": "code",
   "execution_count": null,
   "metadata": {},
   "outputs": [],
   "source": [
    "degrees = 0\n",
    "edge_lengths = [8, 12]\n",
    "penumbra = 1\n",
    "centre = [0, 0]\n",
    "\n",
    "field = pymedphys._mocks.profiles.create_rectangular_field_function(centre, edge_lengths, penumbra, degrees)\n",
    "x_profile = pymedphys._mocks.profiles.create_profile_function(\n",
    "    0, edge_lengths[0], penumbra\n",
    ")\n",
    "y_profile = pymedphys._mocks.profiles.create_profile_function(\n",
    "    0, edge_lengths[1], penumbra\n",
    ")"
   ]
  },
  {
   "cell_type": "code",
   "execution_count": null,
   "metadata": {},
   "outputs": [],
   "source": [
    "x = np.arange(-15, 30, 0.1)\n",
    "y = np.arange(-15, 15, 0.1)\n",
    "\n",
    "xx, yy = np.meshgrid(x, y)\n",
    "\n",
    "zz = field(xx, yy)\n",
    "plt.pcolormesh(xx, yy, zz)\n",
    "plt.axis('equal')"
   ]
  },
  {
   "cell_type": "code",
   "execution_count": null,
   "metadata": {},
   "outputs": [],
   "source": [
    "mock_initial_centre = pymedphys._wlutz.findfield.initial_centre(x, y, zz_simple)\n",
    "mock_initial_centre"
   ]
  },
  {
   "cell_type": "code",
   "execution_count": null,
   "metadata": {},
   "outputs": [],
   "source": [
    "interp_size = 20\n",
    "\n",
    "x_len = 30\n",
    "y_len = 40\n",
    "\n",
    "field_x_interp = np.linspace(-interp_size/2, interp_size/2, x_len)\n",
    "field_y_interp = np.linspace(-interp_size/2, interp_size/2, y_len)"
   ]
  },
  {
   "cell_type": "code",
   "execution_count": null,
   "metadata": {},
   "outputs": [],
   "source": [
    "x_interp, y_interp = pymedphys._wlutz.createaxis.transform_axis(field_x_interp, field_y_interp, mock_initial_centre, degrees)\n",
    "\n",
    "plt.plot(x_interp[0], x_interp[1], label='x-axis')\n",
    "plt.plot(y_interp[0], y_interp[1], label='y-axis')\n",
    "plt.pcolormesh(xx, yy, zz)\n",
    "\n",
    "plt.legend()\n",
    "plt.axis('equal')"
   ]
  },
  {
   "cell_type": "code",
   "execution_count": null,
   "metadata": {},
   "outputs": [],
   "source": [
    "def define_penumbra_points_at_origin(edge_lengths):\n",
    "    penumbra_range = np.linspace(-penumbra, penumbra, 11)\n",
    "    \n",
    "    def _each_edge(current_edge_length, orthogonal_edge_length):\n",
    "        half_field_range = np.linspace(-orthogonal_edge_length/4, orthogonal_edge_length/4, 51)\n",
    "        \n",
    "        a_side_lookup = -current_edge_length/2 + penumbra_range\n",
    "        b_side_lookup = current_edge_length/2 + penumbra_range\n",
    "        current_axis_lookup = np.concatenate([a_side_lookup, b_side_lookup])\n",
    "        \n",
    "        return current_axis_lookup, half_field_range\n",
    "    \n",
    "    edge_points_left_right = _each_edge(edge_lengths[0], edge_lengths[1])\n",
    "    edge_points_top_bot = _each_edge(edge_lengths[1], edge_lengths[0])\n",
    "    \n",
    "    xx_left_right, yy_left_right = np.meshgrid(*edge_points_left_right)\n",
    "    xx_top_bot, yy_top_bot = np.meshgrid(*edge_points_top_bot[::-1])\n",
    "    \n",
    "    return xx_left_right, yy_left_right, xx_top_bot, yy_top_bot"
   ]
  },
  {
   "cell_type": "code",
   "execution_count": null,
   "metadata": {},
   "outputs": [],
   "source": [
    "xx_left_right, yy_left_right, xx_top_bot, yy_top_bot = define_penumbra_points_at_origin(edge_lengths)\n",
    "\n",
    "plt.pcolormesh(xx, yy, zz)\n",
    "plt.scatter(xx_left_right, yy_left_right, s=1)\n",
    "plt.scatter(xx_top_bot, yy_top_bot, s=1)"
   ]
  },
  {
   "cell_type": "code",
   "execution_count": null,
   "metadata": {},
   "outputs": [],
   "source": [
    "penumbra_range = np.linspace(-penumbra, penumbra, 11)\n",
    "\n",
    "x_penumbra_left_lookup = -edge_lengths[0]/2 + penumbra_range\n",
    "y_penumbra_bot_lookup = -edge_lengths[1]/2 + penumbra_range"
   ]
  },
  {
   "cell_type": "code",
   "execution_count": null,
   "metadata": {},
   "outputs": [],
   "source": [
    "plt.plot(x_penumbra_left_lookup, x_profile(x_penumbra_left_lookup))\n",
    "plt.plot(x_penumbra_left_lookup, x_profile(-x_penumbra_left_lookup))\n",
    "\n",
    "plt.plot(y_penumbra_bot_lookup, y_profile(y_penumbra_bot_lookup))\n",
    "plt.plot(y_penumbra_bot_lookup, y_profile(-y_penumbra_bot_lookup))"
   ]
  },
  {
   "cell_type": "code",
   "execution_count": null,
   "metadata": {},
   "outputs": [],
   "source": [
    "np.all(np.abs(np.diff(field(xx_left_right, yy_left_right), axis=0)) < 0.001)"
   ]
  },
  {
   "cell_type": "code",
   "execution_count": null,
   "metadata": {},
   "outputs": [],
   "source": [
    "np.all(np.abs(np.diff(field(xx_top_bot, yy_top_bot), axis=1)) < 0.001)"
   ]
  },
  {
   "cell_type": "code",
   "execution_count": null,
   "metadata": {},
   "outputs": [],
   "source": [
    "left_right = np.mean(field(xx_left_right, yy_left_right), axis=0)\n",
    "top_bot = np.mean(field(xx_top_bot, yy_top_bot), axis=1)"
   ]
  },
  {
   "cell_type": "code",
   "execution_count": null,
   "metadata": {},
   "outputs": [],
   "source": [
    "np.allclose(left_right, left_right[::-1])"
   ]
  },
  {
   "cell_type": "code",
   "execution_count": null,
   "metadata": {},
   "outputs": [],
   "source": [
    "np.allclose(top_bot, top_bot[::-1])"
   ]
  },
  {
   "cell_type": "code",
   "execution_count": null,
   "metadata": {},
   "outputs": [],
   "source": [
    "x_profile_penumbra = np.concatenate([x_profile(x_penumbra_left_lookup), x_profile(-x_penumbra_left_lookup[::-1])])\n",
    "y_profile_penumbra = np.concatenate([y_profile(y_penumbra_bot_lookup), y_profile(-y_penumbra_bot_lookup[::-1])])"
   ]
  },
  {
   "cell_type": "code",
   "execution_count": null,
   "metadata": {},
   "outputs": [],
   "source": [
    "np.allclose(left_right, x_profile_penumbra, rtol=0.001, atol=0.001)"
   ]
  },
  {
   "cell_type": "code",
   "execution_count": null,
   "metadata": {},
   "outputs": [],
   "source": [
    "np.allclose(top_bot, y_profile_penumbra, rtol=0.001, atol=0.001)"
   ]
  },
  {
   "cell_type": "code",
   "execution_count": null,
   "metadata": {},
   "outputs": [],
   "source": [
    "top_bot - y_profile_penumbra"
   ]
  },
  {
   "cell_type": "code",
   "execution_count": null,
   "metadata": {},
   "outputs": [],
   "source": [
    "plt.plot(top_bot)\n",
    "plt.plot(y_profile_penumbra)"
   ]
  },
  {
   "cell_type": "code",
   "execution_count": null,
   "metadata": {},
   "outputs": [],
   "source": []
  },
  {
   "cell_type": "code",
   "execution_count": null,
   "metadata": {},
   "outputs": [],
   "source": [
    "current_edge_length = edge_lengths[0]\n",
    "orthogonal_edge_length = edge_lengths[1]\n",
    "\n",
    "penumbra_range = np.linspace(-penumbra/2, penumbra/2, 11)\n",
    "half_field_range = np.linspace(-orthogonal_edge_length/4, orthogonal_edge_length/4, 51)\n",
    "\n",
    "a_side_lookup = -current_edge_length/2 + penumbra_range\n",
    "b_side_lookup = current_edge_length/2 + penumbra_range\n",
    "\n",
    "current_axis_lookup = np.concatenate([a_side_lookup, b_side_lookup])\n",
    "curr_axis, orthog_axis = np.meshgrid(current_axis_lookup, half_field_range)\n",
    "\n",
    "plt.pcolormesh(xx, yy, zz)\n",
    "plt.scatter(curr_axis, orthog_axis)"
   ]
  },
  {
   "cell_type": "code",
   "execution_count": null,
   "metadata": {},
   "outputs": [],
   "source": [
    "current_edge_length = edge_lengths[1]\n",
    "orthogonal_edge_length = edge_lengths[0]\n",
    "\n",
    "penumbra_range = np.linspace(-penumbra/2, penumbra/2, 11)\n",
    "half_field_range = np.linspace(-orthogonal_edge_length/4, orthogonal_edge_length/4, 51)\n",
    "\n",
    "a_side_lookup = -current_edge_length/2 + penumbra_range\n",
    "b_side_lookup = current_edge_length/2 + penumbra_range\n",
    "\n",
    "current_axis_lookup = np.concatenate([a_side_lookup, b_side_lookup])\n",
    "curr_axis, orthog_axis = np.meshgrid(half_field_range, current_axis_lookup)\n",
    "\n",
    "plt.pcolormesh(xx, yy, zz)\n",
    "plt.scatter(curr_axis, orthog_axis)"
   ]
  },
  {
   "cell_type": "code",
   "execution_count": null,
   "metadata": {},
   "outputs": [],
   "source": []
  },
  {
   "cell_type": "code",
   "execution_count": null,
   "metadata": {},
   "outputs": [],
   "source": []
  },
  {
   "cell_type": "code",
   "execution_count": null,
   "metadata": {},
   "outputs": [],
   "source": []
  },
  {
   "cell_type": "code",
   "execution_count": null,
   "metadata": {},
   "outputs": [],
   "source": []
  },
  {
   "cell_type": "code",
   "execution_count": null,
   "metadata": {},
   "outputs": [],
   "source": []
  },
  {
   "cell_type": "code",
   "execution_count": null,
   "metadata": {},
   "outputs": [],
   "source": []
  },
  {
   "cell_type": "code",
   "execution_count": null,
   "metadata": {},
   "outputs": [],
   "source": [
    "img = imageio.imread(image_path)"
   ]
  },
  {
   "cell_type": "code",
   "execution_count": null,
   "metadata": {},
   "outputs": [],
   "source": [
    "assert img.dtype == np.dtype('uint16')\n",
    "assert np.shape(img) == (1024, 1024)"
   ]
  },
  {
   "cell_type": "code",
   "execution_count": null,
   "metadata": {},
   "outputs": [],
   "source": [
    "shape = np.shape(img)\n",
    "x_axis = np.arange(-shape[1]/2, shape[1]/2)/4\n",
    "y_axis = np.arange(-shape[0]/2, shape[0]/2)/4"
   ]
  },
  {
   "cell_type": "code",
   "execution_count": null,
   "metadata": {},
   "outputs": [],
   "source": [
    "plt.imshow(img)\n",
    "plt.xlim([400, 600])\n",
    "plt.ylim([600, 400])\n",
    "plt.colorbar()"
   ]
  },
  {
   "cell_type": "code",
   "execution_count": null,
   "metadata": {},
   "outputs": [],
   "source": [
    "scale_and_flip = 1 - img[::-1,:] / 2**16\n",
    "plt.contourf(x_axis, y_axis, scale_and_flip, 30)\n",
    "plt.axis('equal')\n",
    "plt.xlim([-25, 25])\n",
    "plt.ylim([-25, 25])\n",
    "plt.colorbar()"
   ]
  },
  {
   "cell_type": "code",
   "execution_count": null,
   "metadata": {},
   "outputs": [],
   "source": [
    "initial_centre = pymedphys._wlutz.findfield.initial_centre(x_axis, y_axis, scale_and_flip)\n",
    "initial_centre"
   ]
  },
  {
   "cell_type": "code",
   "execution_count": null,
   "metadata": {},
   "outputs": [],
   "source": [
    "interpolation = scipy.interpolate.RectBivariateSpline(x_axis, y_axis, scale_and_flip, kx=1, ky=1)"
   ]
  },
  {
   "cell_type": "code",
   "execution_count": null,
   "metadata": {},
   "outputs": [],
   "source": [
    "scipy.ndimage.measurements.standard_deviation(scale_and_flip)"
   ]
  },
  {
   "cell_type": "code",
   "execution_count": null,
   "metadata": {},
   "outputs": [],
   "source": [
    "\n"
   ]
  },
  {
   "cell_type": "code",
   "execution_count": null,
   "metadata": {},
   "outputs": [],
   "source": []
  },
  {
   "cell_type": "code",
   "execution_count": null,
   "metadata": {},
   "outputs": [],
   "source": []
  },
  {
   "cell_type": "code",
   "execution_count": null,
   "metadata": {},
   "outputs": [],
   "source": []
  },
  {
   "cell_type": "code",
   "execution_count": null,
   "metadata": {},
   "outputs": [],
   "source": []
  },
  {
   "cell_type": "code",
   "execution_count": null,
   "metadata": {},
   "outputs": [],
   "source": []
  },
  {
   "cell_type": "code",
   "execution_count": null,
   "metadata": {},
   "outputs": [],
   "source": []
  }
 ],
 "metadata": {
  "kernelspec": {
   "display_name": "pymedphys-master",
   "language": "python",
   "name": "pymedphys-master"
  },
  "language_info": {
   "codemirror_mode": {
    "name": "ipython",
    "version": 3
   },
   "file_extension": ".py",
   "mimetype": "text/x-python",
   "name": "python",
   "nbconvert_exporter": "python",
   "pygments_lexer": "ipython3",
   "version": "3.7.0"
  }
 },
 "nbformat": 4,
 "nbformat_minor": 4
}
