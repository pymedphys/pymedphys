{
 "cells": [
  {
   "cell_type": "code",
   "execution_count": null,
   "metadata": {},
   "outputs": [],
   "source": [
    "%load_ext autoreload\n",
    "%autoreload 2"
   ]
  },
  {
   "cell_type": "code",
   "execution_count": null,
   "metadata": {},
   "outputs": [],
   "source": [
    "import pathlib\n",
    "import json\n",
    "\n",
    "import IPython.display\n",
    "\n",
    "import numpy as np\n",
    "import pandas as pd\n",
    "import matplotlib.pyplot as plt\n",
    "\n",
    "import scipy.interpolate\n",
    "import scipy.signal\n",
    "\n",
    "import pymedphys\n",
    "import pymedphys._wlutz.bbpredict\n",
    "import pymedphys._wlutz.pylinac\n",
    "import pymedphys._wlutz.iview\n",
    "import pymedphys._wlutz.imginterp\n",
    "import pymedphys._wlutz.findfield\n",
    "import pymedphys._wlutz.findbb\n",
    "import pymedphys._wlutz.reporting"
   ]
  },
  {
   "cell_type": "code",
   "execution_count": null,
   "metadata": {},
   "outputs": [],
   "source": [
    "intput_dir = pathlib.Path(r'S:\\DataExchange\\SASH\\iViewDB_decoded\\indexed')\n",
    "output_dir = pathlib.Path(r'S:\\DataExchange\\SASH\\iViewDB_decoded\\indexed\\results')\n",
    "\n",
    "output_dir.mkdir(exist_ok=True)"
   ]
  },
  {
   "cell_type": "code",
   "execution_count": null,
   "metadata": {},
   "outputs": [],
   "source": [
    "penumbra = 2\n",
    "edge_lengths = [30, 30]\n",
    "initial_rotation = 0\n",
    "bb_diameter = 8\n",
    "\n",
    "pd.set_option(\"display.max_rows\", 101)"
   ]
  },
  {
   "cell_type": "code",
   "execution_count": null,
   "metadata": {},
   "outputs": [],
   "source": [
    "frame_paths_list = list(intput_dir.glob('*.png'))"
   ]
  },
  {
   "cell_type": "code",
   "execution_count": null,
   "metadata": {},
   "outputs": [],
   "source": [
    "frame_number = [\n",
    "    int(path.stem.split('_')[1]) for path in frame_paths_list\n",
    "]\n",
    "\n",
    "\n",
    "\n",
    "sorted_paths = np.array(frame_paths_list)[np.argsort(frame_number)]"
   ]
  },
  {
   "cell_type": "code",
   "execution_count": null,
   "metadata": {},
   "outputs": [],
   "source": [
    "# def plot_pylinac_comparison(field, bb_diameter, edge_lengths, penumbra, field_centre, field_rotation, pylinac):\n",
    "#     bb_centre = pymedphys._wlutz.findbb.optimise_bb_centre(\n",
    "#         field, bb_diameter, edge_lengths, penumbra, field_centre, field_rotation, pylinac_tol=np.inf\n",
    "#     )\n",
    "    \n",
    "#     fig = pymedphys._wlutz.reporting.image_analysis_figure(\n",
    "#         x,\n",
    "#         y,\n",
    "#         img,\n",
    "#         bb_centre,\n",
    "#         field_centre,\n",
    "#         field_rotation,\n",
    "#         bb_diameter,\n",
    "#         edge_lengths,\n",
    "#         penumbra,\n",
    "#     )\n",
    "\n",
    "#     plt.title('PyMedPhys Basinhopping Method')\n",
    "    \n",
    "    \n",
    "#     plt.show()"
   ]
  },
  {
   "cell_type": "code",
   "execution_count": null,
   "metadata": {},
   "outputs": [],
   "source": [
    "import imageio\n",
    "\n",
    "def iview_image_transform(image_path):\n",
    "    img = imageio.imread(image_path)\n",
    "    if np.shape(img) != (512, 512):\n",
    "        raise ValueError(\n",
    "            f\"Expect iView images to be 512x512 pixels\\nShhape = {np.shape(img)}\"\n",
    "        )\n",
    "    img = img[:, 1:-1]\n",
    "\n",
    "    if img.dtype != np.dtype(\"uint16\"):\n",
    "        raise ValueError(\"Expect iView images to have a pixel type of unsigned 16 bit\")\n",
    "    img = 1 - img[::-1, :] / 2 ** 16\n",
    "\n",
    "    shape = np.shape(img)\n",
    "    x = np.arange(-shape[1] / 2, shape[1] / 2) / 2\n",
    "    y = np.arange(-shape[0] / 2, shape[0] / 2) / 2\n",
    "\n",
    "    return x, y, img"
   ]
  },
  {
   "cell_type": "code",
   "execution_count": null,
   "metadata": {
    "jupyter": {
     "outputs_hidden": true
    }
   },
   "outputs": [],
   "source": [
    "field_centres = []\n",
    "bb_centres = []\n",
    "\n",
    "\n",
    "\n",
    "for image_path in sorted_paths:\n",
    "    print(image_path)\n",
    "    x, y, img = iview_image_transform(image_path)\n",
    "\n",
    "    field = pymedphys._wlutz.imginterp.create_interpolated_field(x, y, img)\n",
    "    initial_centre = pymedphys._wlutz.findfield._initial_centre(x, y, img)\n",
    "    \n",
    "    try:\n",
    "        field_centre, field_rotation = pymedphys._wlutz.findfield.field_centre_and_rotation_refining(\n",
    "            field, edge_lengths, penumbra, initial_centre, initial_rotation=initial_rotation\n",
    "        )            \n",
    "\n",
    "        bb_centre = pymedphys._wlutz.findbb.optimise_bb_centre(\n",
    "            field, bb_diameter, edge_lengths, penumbra, field_centre, field_rotation\n",
    "        )\n",
    "        \n",
    "        field_centres.append(field_centre)\n",
    "        bb_centres.append(bb_centre)\n",
    "    except Exception as e:\n",
    "        print(e)\n",
    "    \n",
    "    "
   ]
  },
  {
   "cell_type": "code",
   "execution_count": null,
   "metadata": {},
   "outputs": [],
   "source": [
    "field_centres = np.array(field_centres)\n",
    "bb_centres = np.array(bb_centres)"
   ]
  },
  {
   "cell_type": "code",
   "execution_count": null,
   "metadata": {},
   "outputs": [],
   "source": [
    "deviations = field_centres - bb_centres"
   ]
  },
  {
   "cell_type": "code",
   "execution_count": null,
   "metadata": {},
   "outputs": [],
   "source": [
    "plt.figure(figsize=(8,5))\n",
    "plt.plot(deviations[:,0])\n",
    "plt.xlabel('Frame number')\n",
    "plt.ylabel('Transverse Field position - BB position (mm)')"
   ]
  },
  {
   "cell_type": "code",
   "execution_count": null,
   "metadata": {},
   "outputs": [],
   "source": [
    "np.max(deviations) - np.min(deviations)"
   ]
  }
 ],
 "metadata": {
  "kernelspec": {
   "display_name": "pymedphys-master",
   "language": "python",
   "name": "pymedphys-master"
  },
  "language_info": {
   "codemirror_mode": {
    "name": "ipython",
    "version": 3
   },
   "file_extension": ".py",
   "mimetype": "text/x-python",
   "name": "python",
   "nbconvert_exporter": "python",
   "pygments_lexer": "ipython3",
   "version": "3.7.0"
  }
 },
 "nbformat": 4,
 "nbformat_minor": 4
}
