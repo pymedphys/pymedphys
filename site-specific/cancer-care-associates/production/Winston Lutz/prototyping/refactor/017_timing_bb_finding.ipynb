{
 "cells": [
  {
   "cell_type": "code",
   "execution_count": null,
   "metadata": {},
   "outputs": [],
   "source": [
    "%load_ext autoreload\n",
    "%autoreload 2"
   ]
  },
  {
   "cell_type": "code",
   "execution_count": null,
   "metadata": {},
   "outputs": [],
   "source": [
    "import pathlib\n",
    "import urllib.request\n",
    "\n",
    "import numpy as np\n",
    "import matplotlib.pyplot as plt\n",
    "import matplotlib.transforms\n",
    "import scipy.ndimage.measurements\n",
    "import scipy.interpolate\n",
    "import scipy.optimize\n",
    "\n",
    "import imageio\n",
    "\n",
    "import pymedphys\n",
    "import pymedphys._mocks.profiles\n",
    "import pymedphys._gamma.implementation.shell\n",
    "import pymedphys._wlutz.findfield\n",
    "import pymedphys._wlutz.createaxis\n",
    "import pymedphys._wlutz.interppoints\n",
    "import pymedphys._wlutz.iview\n",
    "import pymedphys._wlutz.imginterp\n",
    "import pymedphys._wlutz.findbb\n",
    "import pymedphys._wlutz.core\n",
    "import pymedphys._wlutz.reporting"
   ]
  },
  {
   "cell_type": "code",
   "execution_count": null,
   "metadata": {},
   "outputs": [],
   "source": [
    "image_path = pymedphys.data_path('wlutz_image.png')\n",
    "image_path"
   ]
  },
  {
   "cell_type": "code",
   "execution_count": null,
   "metadata": {},
   "outputs": [],
   "source": [
    "x, y, img = pymedphys._wlutz.iview.iview_image_transform(image_path)\n",
    "field = pymedphys._wlutz.imginterp.create_interpolated_field(x, y, img)\n",
    "\n",
    "edge_lengths = [20, 20]\n",
    "bb_diameter = 8\n",
    "bb_radius = bb_diameter / 2\n",
    "penumbra = 2\n",
    "\n",
    "bb_centre, field_centre, field_rotation = pymedphys._wlutz.core.find_field_and_bb(\n",
    "    x, y, img, edge_lengths, bb_diameter, penumbra=penumbra\n",
    ")\n",
    "\n",
    "bb_centre, field_centre, field_rotation"
   ]
  },
  {
   "cell_type": "code",
   "execution_count": null,
   "metadata": {},
   "outputs": [],
   "source": [
    "pymedphys._wlutz.reporting.image_analysis_figure(\n",
    "    x,\n",
    "    y,\n",
    "    img,\n",
    "    bb_centre,\n",
    "    field_centre,\n",
    "    field_rotation,\n",
    "    bb_diameter,\n",
    "    edge_lengths,\n",
    "    penumbra,\n",
    ")"
   ]
  }
 ],
 "metadata": {
  "kernelspec": {
   "display_name": "pymedphys-master",
   "language": "python",
   "name": "pymedphys-master"
  },
  "language_info": {
   "codemirror_mode": {
    "name": "ipython",
    "version": 3
   },
   "file_extension": ".py",
   "mimetype": "text/x-python",
   "name": "python",
   "nbconvert_exporter": "python",
   "pygments_lexer": "ipython3",
   "version": "3.7.4"
  }
 },
 "nbformat": 4,
 "nbformat_minor": 4
}
