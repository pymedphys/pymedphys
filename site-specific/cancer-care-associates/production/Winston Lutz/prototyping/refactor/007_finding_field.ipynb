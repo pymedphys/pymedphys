{
 "cells": [
  {
   "cell_type": "code",
   "execution_count": null,
   "metadata": {},
   "outputs": [],
   "source": [
    "%load_ext autoreload\n",
    "%autoreload 2"
   ]
  },
  {
   "cell_type": "code",
   "execution_count": null,
   "metadata": {},
   "outputs": [],
   "source": [
    "import pathlib\n",
    "import urllib.request\n",
    "\n",
    "import numpy as np\n",
    "import matplotlib.pyplot as plt\n",
    "import matplotlib.transforms\n",
    "import scipy.ndimage.measurements\n",
    "import scipy.interpolate\n",
    "import scipy.optimize\n",
    "\n",
    "import imageio\n",
    "\n",
    "import pymedphys._mocks.profiles\n",
    "import pymedphys._wlutz.findfield\n",
    "import pymedphys._wlutz.createaxis\n",
    "import pymedphys._wlutz.interppoints"
   ]
  },
  {
   "cell_type": "code",
   "execution_count": null,
   "metadata": {},
   "outputs": [],
   "source": [
    "x_centre=-5.597107643053333\n",
    "y_centre=14.88603370568775\n",
    "x_edge=10\n",
    "y_edge=10\n",
    "penumbra=0.5\n",
    "actual_rotation=263.3971055572235\n",
    "\n",
    "\n",
    "\n",
    "actual_rotation = actual_rotation\n",
    "edge_lengths = [x_edge, y_edge]\n",
    "# penumbra = 0.5\n",
    "actual_centre = [x_centre, y_centre]\n",
    "\n",
    "field = pymedphys._mocks.profiles.create_rectangular_field_function(actual_centre, edge_lengths, penumbra, actual_rotation)"
   ]
  },
  {
   "cell_type": "code",
   "execution_count": null,
   "metadata": {},
   "outputs": [],
   "source": [
    "(180 - 90) % 90"
   ]
  },
  {
   "cell_type": "code",
   "execution_count": null,
   "metadata": {},
   "outputs": [],
   "source": [
    "x = np.arange(-50, 50, 0.1)\n",
    "y = np.arange(-50, 50, 0.1)\n",
    "xx, yy = np.meshgrid(x, y)\n",
    "zz = field(xx, yy)\n",
    "plt.pcolormesh(xx, yy, zz)\n",
    "plt.axis('equal')"
   ]
  },
  {
   "cell_type": "code",
   "execution_count": null,
   "metadata": {},
   "outputs": [],
   "source": [
    "initial_centre = pymedphys._wlutz.findfield._initial_centre(x, y, zz)\n",
    "centre, rotation = pymedphys._wlutz.findfield.field_centre_and_rotation_refining(field, edge_lengths, penumbra, initial_centre)\n",
    "centre, rotation"
   ]
  },
  {
   "cell_type": "code",
   "execution_count": null,
   "metadata": {},
   "outputs": [],
   "source": [
    "while True:\n",
    "    centre, rotation = pymedphys._wlutz.findfield.field_centre_and_rotation_refining(field, edge_lengths, penumbra, initial_centre)"
   ]
  },
  {
   "cell_type": "code",
   "execution_count": null,
   "metadata": {},
   "outputs": [],
   "source": [
    "# rotation = 25.01728363860255"
   ]
  },
  {
   "cell_type": "code",
   "execution_count": null,
   "metadata": {},
   "outputs": [],
   "source": [
    "def draw_by_diff(dx, dy, transform):\n",
    "    draw_x = np.cumsum(dx)\n",
    "    draw_y = np.cumsum(dy)\n",
    "\n",
    "    draw_x, draw_y = pymedphys._wlutz.interppoints.apply_transform(draw_x, draw_y, transform)\n",
    "    \n",
    "    return draw_x, draw_y"
   ]
  },
  {
   "cell_type": "code",
   "execution_count": null,
   "metadata": {},
   "outputs": [],
   "source": [
    "transform = matplotlib.transforms.Affine2D()\n",
    "transform.rotate_deg(-rotation)\n",
    "transform.translate(*centre)"
   ]
  },
  {
   "cell_type": "code",
   "execution_count": null,
   "metadata": {},
   "outputs": [],
   "source": [
    "rotation_x_points = np.linspace(-edge_lengths[0]/2, edge_lengths[0]/2, 51)\n",
    "rotation_y_points = np.linspace(-edge_lengths[1]/2, edge_lengths[1]/2, 61)\n",
    "\n",
    "rot_xx_points, rot_yy_points = np.meshgrid(rotation_x_points, rotation_y_points)\n",
    "\n",
    "rot_xx_points, rot_yy_points = pymedphys._wlutz.interppoints.apply_transform(rot_xx_points, rot_yy_points, transform)"
   ]
  },
  {
   "cell_type": "code",
   "execution_count": null,
   "metadata": {},
   "outputs": [],
   "source": [
    "rotation_points = pymedphys._wlutz.interppoints.define_rotation_field_points(centre, edge_lengths, penumbra, rotation)"
   ]
  },
  {
   "cell_type": "code",
   "execution_count": null,
   "metadata": {},
   "outputs": [],
   "source": [
    "rect_dx = [-edge_lengths[0]/2, 0, edge_lengths[0], 0, -edge_lengths[0]]\n",
    "rect_dy = [-edge_lengths[1]/2, edge_lengths[1], 0, -edge_lengths[1], 0]\n",
    "\n",
    "rect_crosshair_dx = [-edge_lengths[0]/2, edge_lengths[0], -edge_lengths[0], edge_lengths[0]]\n",
    "rect_crosshair_dy = [-edge_lengths[1]/2, edge_lengths[1], 0, -edge_lengths[1]]\n",
    "\n",
    "plt.figure(figsize=(10,10))\n",
    "plt.pcolormesh(xx, yy, zz)\n",
    "plt.plot(*draw_by_diff(rect_dx, rect_dy, transform), 'k', lw=2)\n",
    "plt.plot(*draw_by_diff(rect_crosshair_dx, rect_crosshair_dy, transform), 'k', lw=0.5)\n",
    "\n",
    "# plt.plot(rot_xx_points, rot_yy_points, '.')\n",
    "plt.scatter(rotation_points[0], rotation_points[1], s=1)\n",
    "\n",
    "plt.scatter(centre[0], centre[1], c='r', s=1)\n",
    "plt.axis('equal')"
   ]
  },
  {
   "cell_type": "code",
   "execution_count": null,
   "metadata": {},
   "outputs": [],
   "source": [
    "np.allclose(actual_centre, centre)"
   ]
  },
  {
   "cell_type": "code",
   "execution_count": null,
   "metadata": {},
   "outputs": [],
   "source": [
    "np.allclose(actual_rotation, rotation)"
   ]
  },
  {
   "cell_type": "code",
   "execution_count": null,
   "metadata": {},
   "outputs": [],
   "source": [
    "actual_rotation, rotation"
   ]
  },
  {
   "cell_type": "code",
   "execution_count": null,
   "metadata": {},
   "outputs": [],
   "source": []
  }
 ],
 "metadata": {
  "kernelspec": {
   "display_name": "pymedphys-master",
   "language": "python",
   "name": "pymedphys-master"
  },
  "language_info": {
   "codemirror_mode": {
    "name": "ipython",
    "version": 3
   },
   "file_extension": ".py",
   "mimetype": "text/x-python",
   "name": "python",
   "nbconvert_exporter": "python",
   "pygments_lexer": "ipython3",
   "version": "3.7.0"
  }
 },
 "nbformat": 4,
 "nbformat_minor": 4
}
