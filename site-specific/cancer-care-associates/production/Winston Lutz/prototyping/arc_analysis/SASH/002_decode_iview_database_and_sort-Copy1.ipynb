{
 "cells": [
  {
   "cell_type": "code",
   "execution_count": null,
   "metadata": {},
   "outputs": [],
   "source": [
    "import pathlib\n",
    "import shutil\n",
    "import os\n",
    "\n",
    "import numpy as np\n",
    "import pandas as pd\n",
    "\n",
    "import dbfread"
   ]
  },
  {
   "cell_type": "code",
   "execution_count": null,
   "metadata": {},
   "outputs": [],
   "source": [
    "original_dir = pathlib.Path(r'S:\\DataExchange\\SASH\\iViewDB')\n",
    "decoded_dir = pathlib.Path(r'S:\\DataExchange\\SASH\\iViewDB_decoded')\n",
    "\n",
    "decoded_dir.mkdir(exist_ok=True)"
   ]
  },
  {
   "cell_type": "code",
   "execution_count": null,
   "metadata": {},
   "outputs": [],
   "source": [
    "# table_ids['frame']"
   ]
  },
  {
   "cell_type": "code",
   "execution_count": null,
   "metadata": {},
   "outputs": [],
   "source": [
    "for i, encoded_image_path in enumerate(images_to_be_indexed):\n",
    "    frame_index = table_ids['frame'].index(file_image_ids[i])\n",
    "    pimg_dbid = table_records['frame'][frame_index]['PIMG_DBID']\n",
    "    image_data = table_records['patient_image'][table_ids['patient_image'].index(pimg_dbid)]\n",
    "    port_dpid = image_data['PORT_DBID']\n",
    "\n",
    "    image_date_time = f\"{image_data['IMG_DATE']}_{image_data['IMG_TIME']}\"\n",
    "\n",
    "    machine = image_data['ORG_DTL']\n",
    "    \n",
    "    unique_index = pimg_id_unique.index(pimg_dbid)\n",
    "\n",
    "    first_index = pimg_id_first_index[unique_index]\n",
    "    total_frames = pimg_id_counts[unique_index]\n",
    "\n",
    "    frame_number_str_length = len(str(total_frames))\n",
    "    \n",
    "    current_frame = frame_index - first_index\n",
    "    current_frame_str = str(current_frame).zfill(frame_number_str_length)\n",
    "    \n",
    "    port_data = table_records['port'][table_ids['port'].index(port_dpid)]\n",
    "\n",
    "    port_name = port_data['ID']\n",
    "    treatment_dbid = port_data['TRT_DBID']\n",
    "    \n",
    "    treatment_data = table_records['treatment'][table_ids['treatment'].index(treatment_dbid)]\n",
    "\n",
    "    treatment_name = treatment_data['ID']\n",
    "    patient_dbid = treatment_data['PAT_DBID']\n",
    "    \n",
    "    patient_data = table_records['patient'][table_ids['patient'].index(patient_dbid)]\n",
    "    patient_dir = f\"{patient_data['ID']}_{patient_data['LAST_NAME']}_{patient_data['FIRST_NAME']}\"\n",
    "    \n",
    "    save_dir = indexed_dir.joinpath(machine, patient_dir, treatment_name, port_name, image_date_time)\n",
    "    save_dir.mkdir(parents=True, exist_ok=True)\n",
    "    \n",
    "    new_path = save_dir.joinpath(f'frame_{current_frame_str}.png')\n",
    "    \n",
    "    shutil.copy2(encoded_image_path, home.joinpath('temp_encoded.jpg'))\n",
    "    \n",
    "    !bash -c \"~/bin/wavelet/jpeg /mnt/c/Users/sbiggs/temp_encoded.jpg /mnt/c/Users/sbiggs/temp_decoded.jpg\"\n",
    "    !bash -c \"convert -depth 16 /mnt/c/Users/sbiggs/temp_decoded.jpg /mnt/c/Users/sbiggs/temp_decoded.png\"\n",
    "    \n",
    "    shutil.copy2(home.joinpath('temp_decoded.png'), new_path)\n",
    "    encoded_image_path.unlink()"
   ]
  },
  {
   "cell_type": "code",
   "execution_count": null,
   "metadata": {},
   "outputs": [],
   "source": []
  }
 ],
 "metadata": {
  "kernelspec": {
   "display_name": "pymedphys-master",
   "language": "python",
   "name": "pymedphys-master"
  },
  "language_info": {
   "codemirror_mode": {
    "name": "ipython",
    "version": 3
   },
   "file_extension": ".py",
   "mimetype": "text/x-python",
   "name": "python",
   "nbconvert_exporter": "python",
   "pygments_lexer": "ipython3",
   "version": "3.7.0"
  }
 },
 "nbformat": 4,
 "nbformat_minor": 4
}
