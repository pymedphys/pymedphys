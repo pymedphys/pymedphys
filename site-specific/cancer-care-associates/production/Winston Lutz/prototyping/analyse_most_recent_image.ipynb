{
 "cells": [
  {
   "cell_type": "code",
   "execution_count": null,
   "metadata": {},
   "outputs": [],
   "source": [
    "import pathlib\n",
    "import shutil\n",
    "import os\n",
    "\n",
    "import numpy as np\n",
    "import pandas as pd\n",
    "import matplotlib.pyplot as plt\n",
    "\n",
    "import pymedphys\n",
    "import pymedphys._wlutz.bbpredict\n",
    "import pymedphys._wlutz.pylinac\n",
    "import pymedphys._wlutz.iview\n",
    "import pymedphys._wlutz.imginterp\n",
    "import pymedphys._wlutz.findfield\n",
    "import pymedphys._wlutz.findbb\n",
    "import pymedphys._wlutz.reporting"
   ]
  },
  {
   "cell_type": "code",
   "execution_count": null,
   "metadata": {},
   "outputs": [],
   "source": [
    "penumbra = 2\n",
    "edge_lengths = [100, 100]\n",
    "initial_rotation = 0\n",
    "bb_diameter = 8\n",
    "\n",
    "bb_predictor_tol = 0.2\n",
    "\n",
    "pd.set_option(\"display.max_rows\", 101)"
   ]
  },
  {
   "cell_type": "code",
   "execution_count": null,
   "metadata": {},
   "outputs": [],
   "source": [
    "original_dir = pathlib.Path(r'S:\\DataExchange\\iViewDB')"
   ]
  },
  {
   "cell_type": "code",
   "execution_count": null,
   "metadata": {},
   "outputs": [],
   "source": [
    "images_dir = original_dir.joinpath('img')"
   ]
  },
  {
   "cell_type": "code",
   "execution_count": null,
   "metadata": {},
   "outputs": [],
   "source": [
    "most_recent_two_images = list(images_dir.glob('*.jpg'))[-2::]\n",
    "most_recent_two_images"
   ]
  },
  {
   "cell_type": "code",
   "execution_count": null,
   "metadata": {},
   "outputs": [],
   "source": [
    "home = pathlib.Path.home()"
   ]
  },
  {
   "cell_type": "code",
   "execution_count": null,
   "metadata": {},
   "outputs": [],
   "source": []
  },
  {
   "cell_type": "code",
   "execution_count": null,
   "metadata": {},
   "outputs": [],
   "source": [
    "decoded_paths = []\n",
    "\n",
    "for image_path in most_recent_two_images:\n",
    "    filename_jpg = image_path.name\n",
    "    filename_png = f\"{image_path.stem}.png\"\n",
    "    \n",
    "    home_jpg_location = home.joinpath(filename_jpg)\n",
    "    home_png_location = home.joinpath(filename_png)\n",
    "    \n",
    "    print(f\"{image_path} --> {home_jpg_location}\")\n",
    "    print(f\"{home_jpg_location} --> {home_png_location}\")   \n",
    "    \n",
    "    shutil.copy2(image_path, home_jpg_location)\n",
    "\n",
    "    !bash -c \"~/bin/wavelet/jpeg /mnt/c/Users/sbiggs/{filename_jpg} /mnt/c/Users/sbiggs/{filename_jpg}\"\n",
    "    !bash -c \"convert -depth 16 /mnt/c/Users/sbiggs/{filename_jpg} /mnt/c/Users/sbiggs/{filename_png}\"\n",
    "    \n",
    "    home_jpg_location.unlink()\n",
    "    \n",
    "    decoded_paths.append(home_png_location)"
   ]
  },
  {
   "cell_type": "code",
   "execution_count": null,
   "metadata": {},
   "outputs": [],
   "source": [
    "field_centres = []\n",
    "bb_centres = []\n",
    "\n",
    "for decoded_path in decoded_paths:\n",
    "\n",
    "    x, y, img = pymedphys._wlutz.iview.iview_image_transform_from_path(decoded_path)\n",
    "\n",
    "    field = pymedphys._wlutz.imginterp.create_interpolated_field(x, y, img)\n",
    "    initial_centre = pymedphys._wlutz.findfield.get_centre_of_mass(x, y, img)\n",
    "\n",
    "    field_centre, field_rotation = pymedphys._wlutz.findfield.field_centre_and_rotation_refining(\n",
    "        field, edge_lengths, penumbra, initial_centre, fixed_rotation=0, pylinac_tol=np.inf\n",
    "    )   \n",
    "\n",
    "    bb_centre = pymedphys._wlutz.findbb.optimise_bb_centre(\n",
    "        field, bb_diameter, edge_lengths, penumbra, field_centre, field_rotation\n",
    "    )\n",
    "    \n",
    "    field_centres.append(field_centre)\n",
    "    bb_centres.append(bb_centre)\n",
    "    \n",
    "    print(field_centre)\n",
    "    print(bb_centre)\n",
    "    print(np.array(field_centre) - np.array(bb_centre))\n",
    "    \n",
    "    fig = pymedphys._wlutz.reporting.image_analysis_figure(\n",
    "        x,\n",
    "        y,\n",
    "        img,\n",
    "        bb_centre,\n",
    "        field_centre,\n",
    "        field_rotation,\n",
    "        bb_diameter,\n",
    "        edge_lengths,\n",
    "        penumbra,\n",
    "    )\n",
    "    \n",
    "    plt.show()"
   ]
  },
  {
   "cell_type": "code",
   "execution_count": null,
   "metadata": {},
   "outputs": [],
   "source": [
    "np.array(field_centres) - np.array(bb_centres)"
   ]
  },
  {
   "cell_type": "code",
   "execution_count": null,
   "metadata": {},
   "outputs": [],
   "source": [
    "np.mean(np.array(field_centres) - np.array(bb_centres), axis=0)"
   ]
  },
  {
   "cell_type": "code",
   "execution_count": null,
   "metadata": {},
   "outputs": [],
   "source": []
  }
 ],
 "metadata": {
  "kernelspec": {
   "display_name": "pymedphys-master",
   "language": "python",
   "name": "pymedphys-master"
  },
  "language_info": {
   "codemirror_mode": {
    "name": "ipython",
    "version": 3
   },
   "file_extension": ".py",
   "mimetype": "text/x-python",
   "name": "python",
   "nbconvert_exporter": "python",
   "pygments_lexer": "ipython3",
   "version": "3.7.0"
  }
 },
 "nbformat": 4,
 "nbformat_minor": 4
}
