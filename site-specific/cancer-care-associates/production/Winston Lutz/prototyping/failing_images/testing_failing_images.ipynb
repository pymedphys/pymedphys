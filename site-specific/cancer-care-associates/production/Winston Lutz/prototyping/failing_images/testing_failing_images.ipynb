{
 "cells": [
  {
   "cell_type": "code",
   "execution_count": null,
   "metadata": {},
   "outputs": [],
   "source": [
    "import numpy as np\n",
    "import matplotlib.pyplot as plt\n",
    "import imageio"
   ]
  },
  {
   "cell_type": "code",
   "execution_count": null,
   "metadata": {},
   "outputs": [],
   "source": [
    "# Makes it so any changes in pymedphys is automatically\n",
    "# propagated into the notebook without needing a kernel reset.\n",
    "from IPython.lib.deepreload import reload\n",
    "%load_ext autoreload\n",
    "%autoreload 2"
   ]
  },
  {
   "cell_type": "code",
   "execution_count": null,
   "metadata": {},
   "outputs": [],
   "source": [
    "import pymedphys\n",
    "import pymedphys.wlutz"
   ]
  },
  {
   "cell_type": "code",
   "execution_count": null,
   "metadata": {},
   "outputs": [],
   "source": [
    "image_path = pymedphys.data_path(\"difficult_wlutz_image.ppm\")\n",
    "image_path"
   ]
  },
  {
   "cell_type": "code",
   "execution_count": null,
   "metadata": {},
   "outputs": [],
   "source": [
    "penumbra = 2\n",
    "bb_diameter = 8\n",
    "edge_lengths = [20, 26]"
   ]
  },
  {
   "cell_type": "code",
   "execution_count": null,
   "metadata": {},
   "outputs": [],
   "source": [
    "img_raw = imageio.imread(image_path)\n",
    "x, y, img = pymedphys.wlutz.iview_image_transform(img_raw)"
   ]
  },
  {
   "cell_type": "code",
   "execution_count": null,
   "metadata": {},
   "outputs": [],
   "source": [
    "bb_centre_original, field_centre_original, field_rotation_original = pymedphys.wlutz.find_field_and_bb(\n",
    "    x,\n",
    "    y,\n",
    "    img,\n",
    "    edge_lengths,\n",
    "    bb_diameter,\n",
    "    penumbra=penumbra,\n",
    "    pylinac_tol=None\n",
    ")"
   ]
  },
  {
   "cell_type": "code",
   "execution_count": null,
   "metadata": {},
   "outputs": [],
   "source": [
    "original = np.hstack([bb_centre_original, field_centre_original, field_rotation_original])\n",
    "original"
   ]
  },
  {
   "cell_type": "code",
   "execution_count": null,
   "metadata": {},
   "outputs": [],
   "source": [
    "while True:\n",
    "    bb_centre, field_centre, field_rotation = pymedphys.wlutz.find_field_and_bb(\n",
    "        x,\n",
    "        y,\n",
    "        img,\n",
    "        edge_lengths,\n",
    "        bb_diameter,\n",
    "        penumbra=penumbra,\n",
    "        pylinac_tol=None\n",
    "    )\n",
    "    \n",
    "    new = np.hstack([bb_centre, field_centre, field_rotation])\n",
    "    \n",
    "    if not np.allclose(original, new, rtol=0.1, atol=0.1):\n",
    "        pymedphys.wlutz.reporting( \n",
    "            x,\n",
    "            y,\n",
    "            img,\n",
    "            bb_centre,\n",
    "            field_centre,\n",
    "            field_rotation,\n",
    "            bb_diameter,\n",
    "            edge_lengths,\n",
    "            penumbra,\n",
    "        )\n",
    "        plt.show()"
   ]
  }
 ],
 "metadata": {
  "kernelspec": {
   "display_name": "pymedphys-master",
   "language": "python",
   "name": "pymedphys-master"
  },
  "language_info": {
   "codemirror_mode": {
    "name": "ipython",
    "version": 3
   },
   "file_extension": ".py",
   "mimetype": "text/x-python",
   "name": "python",
   "nbconvert_exporter": "python",
   "pygments_lexer": "ipython3",
   "version": "3.7.0"
  }
 },
 "nbformat": 4,
 "nbformat_minor": 4
}
