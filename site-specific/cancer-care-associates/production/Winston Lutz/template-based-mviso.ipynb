{
 "cells": [
  {
   "cell_type": "code",
   "execution_count": null,
   "metadata": {},
   "outputs": [],
   "source": [
    "%load_ext autoreload\n",
    "%autoreload 2"
   ]
  },
  {
   "cell_type": "code",
   "execution_count": null,
   "metadata": {},
   "outputs": [],
   "source": [
    "import os\n",
    "import datetime\n",
    "from glob import glob\n",
    "import IPython.display\n",
    "\n",
    "import numpy as np\n",
    "import pandas as pd\n",
    "import matplotlib.pyplot as plt\n",
    "\n",
    "import scipy.optimize\n",
    "import scipy.interpolate\n",
    "\n",
    "import pydicom"
   ]
  },
  {
   "cell_type": "code",
   "execution_count": null,
   "metadata": {},
   "outputs": [],
   "source": [
    "np.__version__"
   ]
  },
  {
   "cell_type": "code",
   "execution_count": null,
   "metadata": {},
   "outputs": [],
   "source": [
    "needs_restart = False\n",
    "\n",
    "try:\n",
    "    import pymedphys\n",
    "    assert pymedphys.__version__ == '0.17.0'\n",
    "except:\n",
    "    !pip install pymedphys==0.17.0\n",
    "    needs_restart = True\n",
    "\n",
    "if pydicom.__version__ != '1.2.0':\n",
    "    !pip install pydicom==1.2.0\n",
    "    needs_restart = True\n",
    "\n",
    "if needs_restart:\n",
    "    raise(ImportError(\"Please restart kernel to use pydicom 1.2.0 and pymedphys 0.17.0\"))"
   ]
  },
  {
   "cell_type": "code",
   "execution_count": null,
   "metadata": {},
   "outputs": [],
   "source": [
    "pymedphys.__version__"
   ]
  },
  {
   "cell_type": "code",
   "execution_count": null,
   "metadata": {},
   "outputs": [],
   "source": [
    "pydicom.__version__"
   ]
  },
  {
   "cell_type": "code",
   "execution_count": null,
   "metadata": {},
   "outputs": [],
   "source": [
    "import pymedphys._wlutz.core\n",
    "import pymedphys._wlutz.reporting"
   ]
  },
  {
   "cell_type": "code",
   "execution_count": null,
   "metadata": {},
   "outputs": [],
   "source": [
    "edge_lengths = [20, 20]\n",
    "bb_diameter = 8\n",
    "penumbra = 2"
   ]
  },
  {
   "cell_type": "code",
   "execution_count": null,
   "metadata": {},
   "outputs": [],
   "source": [
    "data_root = r'\\\\pdc\\OneDrive$\\NBCCC Specific Files\\Linac Beam Data Record\\VersaHD 4299\\QA\\20191217_monthly\\wltest'"
   ]
  },
  {
   "cell_type": "code",
   "execution_count": null,
   "metadata": {},
   "outputs": [],
   "source": [
    "output_csv = os.path.join(data_root, 'results.csv')"
   ]
  },
  {
   "cell_type": "code",
   "execution_count": null,
   "metadata": {},
   "outputs": [],
   "source": [
    "data_record = glob(os.path.join(data_root, 'iView*.xlsx'))[0]\n",
    "dicom_files = np.array(glob(os.path.join(data_root, '*.dcm')))"
   ]
  },
  {
   "cell_type": "code",
   "execution_count": null,
   "metadata": {},
   "outputs": [],
   "source": [
    "dicom_files"
   ]
  },
  {
   "cell_type": "code",
   "execution_count": null,
   "metadata": {},
   "outputs": [],
   "source": [
    "record = pd.read_excel(data_record, skiprows=4)\n",
    "timestamps_initial = record['Datetime']\n",
    "timestamps = timestamps_initial[timestamps_initial.notnull()].values\n",
    "gantry = record['Gantry'][timestamps_initial.notnull()].values\n",
    "collimator = record['Col'][timestamps_initial.notnull()].values\n",
    "turntable = record['TT'][timestamps_initial.notnull()].values\n",
    "beam = record['Energy'][timestamps_initial.notnull()].values\n",
    "note = record['Note'][timestamps_initial.notnull()].values"
   ]
  },
  {
   "cell_type": "code",
   "execution_count": null,
   "metadata": {},
   "outputs": [],
   "source": [
    "datasets = np.array([\n",
    "    pydicom.read_file(dicom_file, force=True)\n",
    "    for dicom_file in dicom_files\n",
    "])"
   ]
  },
  {
   "cell_type": "code",
   "execution_count": null,
   "metadata": {},
   "outputs": [],
   "source": [
    "acquisition_datetimes = np.array([\n",
    "    datetime.datetime.strptime(dataset.AcquisitionDate + dataset.AcquisitionTime, '%Y%m%d%H%M%S.%f')\n",
    "    for dataset in datasets\n",
    "], dtype=np.datetime64)"
   ]
  },
  {
   "cell_type": "code",
   "execution_count": null,
   "metadata": {},
   "outputs": [],
   "source": [
    "diff_map = np.abs(acquisition_datetimes[None,:] - timestamps[:, None]) < np.timedelta64(2, 's')\n",
    "timestamp_index, acquisition_index = np.where(diff_map)"
   ]
  },
  {
   "cell_type": "code",
   "execution_count": null,
   "metadata": {},
   "outputs": [],
   "source": [
    "assert len(set(acquisition_index)) == len(acquisition_index)\n",
    "assert len(acquisition_index) == len(acquisition_datetimes)"
   ]
  },
  {
   "cell_type": "code",
   "execution_count": null,
   "metadata": {},
   "outputs": [],
   "source": [
    "acquisition_index"
   ]
  },
  {
   "cell_type": "code",
   "execution_count": null,
   "metadata": {},
   "outputs": [],
   "source": [
    "datasets = datasets[acquisition_index]\n",
    "dicom_files = dicom_files[acquisition_index]\n",
    "timestamps = timestamps[timestamp_index]\n",
    "gantry = gantry[timestamp_index]\n",
    "collimator = collimator[timestamp_index]\n",
    "turntable = turntable[timestamp_index]\n",
    "beam = beam[timestamp_index]\n",
    "note = note[timestamp_index]\n",
    "\n",
    "acquisition_datetimes = np.array([\n",
    "    datetime.datetime.strptime(dataset.AcquisitionDate + dataset.AcquisitionTime, '%Y%m%d%H%M%S.%f')\n",
    "    for dataset in datasets\n",
    "], dtype=np.datetime64)\n",
    "\n",
    "diff_map = np.abs(acquisition_datetimes[None,:] - timestamps[:, None]) < np.timedelta64(2, 's')\n",
    "timestamp_index, acquisition_index = np.where(diff_map)\n",
    "\n",
    "assert np.all(timestamp_index == acquisition_index)"
   ]
  },
  {
   "cell_type": "code",
   "execution_count": null,
   "metadata": {},
   "outputs": [],
   "source": [
    "def get_x_y_img(dataset):\n",
    "    img = dataset.pixel_array\n",
    "    img = 1 - img[::-1, :] / 2 ** 16\n",
    "    \n",
    "    shape = np.shape(img)\n",
    "    x = np.arange(-shape[1] / 2, shape[1] / 2) / 4\n",
    "    y = np.arange(-shape[0] / 2, shape[0] / 2) / 4\n",
    "    \n",
    "    return x, y, img"
   ]
  },
  {
   "cell_type": "code",
   "execution_count": null,
   "metadata": {},
   "outputs": [],
   "source": [
    "bb_centres = []\n",
    "field_centres = []\n",
    "field_rotations = []\n",
    "\n",
    "for i, dataset in enumerate(datasets):\n",
    "    x, y, img = get_x_y_img(dataset)\n",
    "    \n",
    "    print(gantry[i], collimator[i], turntable[i])\n",
    "    \n",
    "    try:\n",
    "        bb_centre, field_centre, field_rotation = pymedphys._wlutz.core.find_field_and_bb(\n",
    "            x, y, img, edge_lengths, bb_diameter)\n",
    "    except ValueError as e:\n",
    "        print(e)\n",
    "        bb_centre = [None, None]\n",
    "        field_centre = [None, None]\n",
    "        field_rotation = None\n",
    "    \n",
    "    bb_centres.append(bb_centre)\n",
    "    field_centres.append(field_centre)\n",
    "    field_rotations.append(field_rotation)"
   ]
  },
  {
   "cell_type": "code",
   "execution_count": null,
   "metadata": {},
   "outputs": [],
   "source": [
    "field_centres = np.array(field_centres)\n",
    "bb_centres = np.array(bb_centres)\n",
    "\n",
    "field_centres[field_centres == None] = np.nan\n",
    "bb_centres[bb_centres == None] = np.nan\n",
    "field_displacements = field_centres - bb_centres"
   ]
  },
  {
   "cell_type": "code",
   "execution_count": null,
   "metadata": {},
   "outputs": [],
   "source": [
    "tabulated_data = pd.DataFrame(\n",
    "    index=timestamps,\n",
    "    data=np.array([\n",
    "        beam, gantry, collimator, turntable, \n",
    "        field_centres[:, 0], field_centres[:, 1],\n",
    "        bb_centres[:, 0], bb_centres[:, 1],\n",
    "        field_displacements[:, 0], field_displacements[:, 1],  note\n",
    "    ]).T,\n",
    "    columns=[\n",
    "        'Beam', 'Gantry', 'Collimator', 'Turn Table', \n",
    "        'Field Centre x (mm)', 'Field Centre y (mm)',\n",
    "        'BB Centre x (mm)', 'BB Centre y (mm)',\n",
    "        'Field - BB x (mm)', 'Field - BB y (mm)', 'Note'\n",
    "    ]\n",
    ")"
   ]
  },
  {
   "cell_type": "code",
   "execution_count": null,
   "metadata": {},
   "outputs": [],
   "source": [
    "tabulated_data.to_csv(output_csv)"
   ]
  },
  {
   "cell_type": "code",
   "execution_count": null,
   "metadata": {},
   "outputs": [],
   "source": [
    "string_timestamps = tabulated_data.index.strftime('%Y%m%d_%H%M%S').values"
   ]
  },
  {
   "cell_type": "code",
   "execution_count": null,
   "metadata": {},
   "outputs": [],
   "source": [
    "for i, (dataset, bb_centre, field_centre, field_rotation) in enumerate(zip(datasets, bb_centres, field_centres, field_rotations)):\n",
    "    x, y, img = get_x_y_img(dataset)\n",
    "    \n",
    "    if np.isnan(bb_centre[0]):\n",
    "        plt.contourf(x,y, img, 100)\n",
    "        plt.xlim([-20,20])\n",
    "        plt.ylim([-20,20])\n",
    "        plt.axis('equal')\n",
    "        \n",
    "    else:\n",
    "        pymedphys._wlutz.reporting.image_analysis_figure(\n",
    "            x,\n",
    "            y,\n",
    "            img,\n",
    "            bb_centre,\n",
    "            field_centre,\n",
    "            field_rotation,\n",
    "            bb_diameter,\n",
    "            edge_lengths,\n",
    "            penumbra,\n",
    "        )\n",
    "\n",
    "        file_name = \"{}_{}_G{:+04.0f}_C{:+04.0f}_TT{:+03.0f}\".format(\n",
    "            string_timestamps[i], beam[i], gantry[i], collimator[i], turntable[i])\n",
    "\n",
    "        file_path = os.path.join(data_root, file_name)\n",
    "\n",
    "        plt.savefig(file_path)    \n",
    "\n",
    "    plt.show()"
   ]
  },
  {
   "cell_type": "code",
   "execution_count": null,
   "metadata": {},
   "outputs": [],
   "source": []
  }
 ],
 "metadata": {
  "kernelspec": {
   "display_name": "Python 3",
   "language": "python",
   "name": "python3"
  },
  "language_info": {
   "codemirror_mode": {
    "name": "ipython",
    "version": 3
   },
   "file_extension": ".py",
   "mimetype": "text/x-python",
   "name": "python",
   "nbconvert_exporter": "python",
   "pygments_lexer": "ipython3",
   "version": "3.7.3"
  }
 },
 "nbformat": 4,
 "nbformat_minor": 4
}
