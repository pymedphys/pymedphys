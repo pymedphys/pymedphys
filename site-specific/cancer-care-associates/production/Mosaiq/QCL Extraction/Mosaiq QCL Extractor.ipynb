{
 "cells": [
  {
   "cell_type": "code",
   "execution_count": null,
   "metadata": {},
   "outputs": [],
   "source": [
    "import numpy as np\n",
    "import pandas as pd\n",
    "\n",
    "from IPython.display import display, Markdown"
   ]
  },
  {
   "cell_type": "code",
   "execution_count": null,
   "metadata": {},
   "outputs": [],
   "source": [
    "%load_ext autoreload\n",
    "%autoreload 2"
   ]
  },
  {
   "cell_type": "code",
   "execution_count": null,
   "metadata": {},
   "outputs": [],
   "source": [
    "import pymedphys.mosaiq"
   ]
  },
  {
   "cell_type": "code",
   "execution_count": null,
   "metadata": {},
   "outputs": [],
   "source": [
    "start = '2019-11-01 00:00:00'\n",
    "end = '2019-12-01 00:00:00'"
   ]
  },
  {
   "cell_type": "code",
   "execution_count": null,
   "metadata": {},
   "outputs": [],
   "source": [
    "centres = ['rccc', 'nbcc', 'sash']\n",
    "\n",
    "servers = {\n",
    "    'rccc': 'msqsql', \n",
    "    'nbcc': 'physics-server:31433',\n",
    "    'sash': 'physics-server'\n",
    "}\n",
    "\n",
    "servers_list = [\n",
    "    item for _, item in servers.items()\n",
    "]\n",
    "\n",
    "physics_location = {\n",
    "    'rccc': 'Physics_Check',\n",
    "    'nbcc': 'Physics',\n",
    "    'sash': 'Physics_Check'\n",
    "}\n",
    "\n",
    "imrt_task_names = {\n",
    "    'nbcc': ['Physics Check IMRT'],\n",
    "    'rccc': ['IMRT Physics Check']\n",
    "}\n",
    "\n",
    "non_imrt_task_names = {\n",
    "    'nbcc': ['Physics Check 3DCRT'],\n",
    "    'rccc': ['3D Physics Check', 'Electron Factor']\n",
    "}\n",
    "\n",
    "\n",
    "\n",
    "sash_physics_task_name = 'Physics QA           '"
   ]
  },
  {
   "cell_type": "code",
   "execution_count": null,
   "metadata": {},
   "outputs": [],
   "source": [
    "def get_staff_name(cursor, staff_id):\n",
    "    data = pymedphys.mosaiq.execute(\n",
    "        cursor,\n",
    "        \"\"\"\n",
    "        SELECT\n",
    "            Staff.Initials,\n",
    "            Staff.User_Name,\n",
    "            Staff.Type,\n",
    "            Staff.Category,\n",
    "            Staff.Last_Name,\n",
    "            Staff.First_Name\n",
    "        FROM Staff\n",
    "        WHERE\n",
    "            Staff.Staff_ID = %(staff_id)s\n",
    "        \"\"\",\n",
    "        {\"staff_id\": staff_id},\n",
    "    )\n",
    "\n",
    "    results = pd.DataFrame(\n",
    "        data=data,\n",
    "        columns=[\n",
    "            \"initials\",\n",
    "            \"user_name\",\n",
    "            \"type\",\n",
    "            \"category\",\n",
    "            \"last_name\",\n",
    "            \"first_name\",\n",
    "        ],\n",
    "    )\n",
    "\n",
    "    return results\n",
    "\n",
    "\n",
    "def get_qcls_by_date(cursor, location, start, end):\n",
    "    data = pymedphys.mosaiq.execute(\n",
    "        cursor,\n",
    "        \"\"\"\n",
    "        SELECT\n",
    "            Ident.IDA,\n",
    "            Patient.Last_Name,\n",
    "            Patient.First_Name,\n",
    "            Chklist.Due_DtTm,\n",
    "            Chklist.Act_DtTm,\n",
    "            Chklist.Instructions,\n",
    "            Chklist.Notes,\n",
    "            QCLTask.Description\n",
    "        FROM Chklist, Staff, QCLTask, Ident, Patient\n",
    "        WHERE\n",
    "            Chklist.Pat_ID1 = Ident.Pat_ID1 AND\n",
    "            Patient.Pat_ID1 = Ident.Pat_ID1 AND\n",
    "            QCLTask.TSK_ID = Chklist.TSK_ID AND\n",
    "            Staff.Staff_ID = Chklist.Rsp_Staff_ID AND\n",
    "            Staff.Last_Name = %(location)s AND\n",
    "            Chklist.Act_DtTm >= %(start)s AND\n",
    "            Chklist.Act_DtTm < %(end)s\n",
    "        \"\"\",\n",
    "        {\"location\": location, \"start\": start, \"end\": end},\n",
    "    )\n",
    "\n",
    "    results = pd.DataFrame(\n",
    "        data=data,\n",
    "        columns=[\n",
    "            \"patient_id\",\n",
    "            \"last_name\",\n",
    "            \"first_name\",\n",
    "            \"due\",\n",
    "            \"actual_completed_time\",\n",
    "            \"instructions\",\n",
    "            \"comment\",\n",
    "            \"task\",\n",
    "        ],\n",
    "    )\n",
    "\n",
    "    results = results.sort_values(by=[\"actual_completed_time\"])\n",
    "\n",
    "    return results"
   ]
  },
  {
   "cell_type": "code",
   "execution_count": null,
   "metadata": {},
   "outputs": [],
   "source": [
    "# with multi_mosaiq_connect(servers_list) as cursors:\n",
    "#     for centre in centres:\n",
    "#         display(Markdown('### {}'.format(centre)))\n",
    "#         cursor = cursors[servers[centre]]\n",
    "#         display(get_staff_name(cursor, physics_ids[centre]))"
   ]
  },
  {
   "cell_type": "code",
   "execution_count": null,
   "metadata": {},
   "outputs": [],
   "source": [
    "# Working out physics_id\n",
    "\n",
    "# with mosaiq_connect(servers['sash']) as cursor:\n",
    "#     display(get_qcls_by_date(cursor, start, end))\n",
    "    "
   ]
  },
  {
   "cell_type": "code",
   "execution_count": null,
   "metadata": {},
   "outputs": [],
   "source": [
    "with pymedphys.mosaiq.connect(servers_list) as cursors:\n",
    "    \n",
    "    results = {\n",
    "        centre: get_qcls_by_date(\n",
    "            cursors[servers[centre]], physics_location[centre], start, end\n",
    "        )\n",
    "        for centre in centres\n",
    "    }"
   ]
  },
  {
   "cell_type": "code",
   "execution_count": null,
   "metadata": {},
   "outputs": [],
   "source": [
    "for server in servers:\n",
    "    results[server] = results[server].drop_duplicates(subset='actual_completed_time', keep='first')"
   ]
  },
  {
   "cell_type": "code",
   "execution_count": null,
   "metadata": {},
   "outputs": [],
   "source": [
    "for server in servers:\n",
    "    display(Markdown(\"### {}\".format(server)))\n",
    "    \n",
    "    display(results[server])"
   ]
  },
  {
   "cell_type": "code",
   "execution_count": null,
   "metadata": {},
   "outputs": [],
   "source": [
    "def count_results(results, imrt_task_names, non_imrt_task_names, server):\n",
    "    \n",
    "    imrt_results = 0\n",
    "    non_imrt_results = 0\n",
    "    \n",
    "    for task in results[server]['task']:\n",
    "        trimmed_task = task.strip()\n",
    "        if trimmed_task in imrt_task_names[server]:\n",
    "            imrt_results = imrt_results + 1\n",
    "        elif trimmed_task in non_imrt_task_names[server]:\n",
    "            non_imrt_results = non_imrt_results + 1\n",
    "        else:\n",
    "            print(trimmed_task)\n",
    "    \n",
    "    \n",
    "    return {\n",
    "        'imrt_results': imrt_results,\n",
    "        'non_imrt_results': non_imrt_results\n",
    "    }"
   ]
  },
  {
   "cell_type": "code",
   "execution_count": null,
   "metadata": {},
   "outputs": [],
   "source": [
    "counts = {\n",
    "    server: count_results(results, imrt_task_names, non_imrt_task_names, server)\n",
    "    for server in ['rccc', 'nbcc']\n",
    "}\n",
    "\n",
    "counts"
   ]
  },
  {
   "cell_type": "code",
   "execution_count": null,
   "metadata": {},
   "outputs": [],
   "source": [
    "# SASH results\n",
    "len(results['sash']['task'])"
   ]
  },
  {
   "cell_type": "code",
   "execution_count": null,
   "metadata": {},
   "outputs": [],
   "source": []
  }
 ],
 "metadata": {
  "anaconda-cloud": {},
  "kernelspec": {
   "display_name": "pymedphys-master",
   "language": "python",
   "name": "pymedphys-master"
  },
  "language_info": {
   "codemirror_mode": {
    "name": "ipython",
    "version": 3
   },
   "file_extension": ".py",
   "mimetype": "text/x-python",
   "name": "python",
   "nbconvert_exporter": "python",
   "pygments_lexer": "ipython3",
   "version": "3.7.0"
  }
 },
 "nbformat": 4,
 "nbformat_minor": 4
}
