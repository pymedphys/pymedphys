{
 "cells": [
  {
   "cell_type": "code",
   "execution_count": null,
   "metadata": {},
   "outputs": [],
   "source": [
    "%load_ext autoreload\n",
    "%autoreload 2"
   ]
  },
  {
   "cell_type": "code",
   "execution_count": null,
   "metadata": {},
   "outputs": [],
   "source": [
    "import numpy as np\n",
    "import pandas as pd\n",
    "\n",
    "from IPython.display import display, Markdown\n",
    "\n",
    "from pymedphys.msq import (\n",
    "    multi_mosaiq_connect, get_qcls_by_date,\n",
    "    mosaiq_connect, get_staff_name,\n",
    "    get_patient_fields)"
   ]
  },
  {
   "cell_type": "code",
   "execution_count": null,
   "metadata": {},
   "outputs": [],
   "source": [
    "import datetime\n",
    "\n",
    "\n",
    "now = datetime.datetime.now()\n",
    "days_ago = now - datetime.timedelta(days=7)\n",
    "tomorrow = now + datetime.timedelta(days=1)\n",
    "\"{} 00:00:00\".format(days_ago.strftime(\"%Y-%m-%d\"))"
   ]
  },
  {
   "cell_type": "code",
   "execution_count": null,
   "metadata": {},
   "outputs": [],
   "source": [
    "np.array(datetime.now())"
   ]
  },
  {
   "cell_type": "code",
   "execution_count": null,
   "metadata": {},
   "outputs": [],
   "source": [
    "start = '2018-04-01 00:00:00'\n",
    "end = '2018-12-01 00:00:00'"
   ]
  },
  {
   "cell_type": "code",
   "execution_count": null,
   "metadata": {},
   "outputs": [],
   "source": [
    "centres = ['sash']\n",
    "\n",
    "servers = {\n",
    "#     'rccc': 'msqsql', \n",
    "#     'nbcc': 'nbccc-msq',\n",
    "    'sash': 'physics-server'\n",
    "}\n",
    "\n",
    "servers_list = [\n",
    "    item for _, item in servers.items()\n",
    "]\n",
    "\n",
    "server = servers['sash']\n",
    "\n",
    "physics_location = 'Physics_Check'\n",
    "\n",
    "imrt_task_names = {\n",
    "    'nbcc': 'Physics Check IMRT',\n",
    "    'rccc': 'IMRT Physics Check'\n",
    "}\n",
    "\n",
    "non_imrt_task_names = {\n",
    "    'nbcc': 'Physics Check 3DCRT',\n",
    "    'rccc': '3D Physics Check'\n",
    "}\n",
    "\n",
    "sash_physics_task_name = 'Physics QA           '"
   ]
  },
  {
   "cell_type": "code",
   "execution_count": null,
   "metadata": {},
   "outputs": [],
   "source": [
    "# with multi_mosaiq_connect(servers_list) as cursors:\n",
    "#     for centre in centres:\n",
    "#         display(Markdown('### {}'.format(centre)))\n",
    "#         cursor = cursors[servers[centre]]\n",
    "#         display(get_staff_name(cursor, physics_ids[centre]))"
   ]
  },
  {
   "cell_type": "code",
   "execution_count": null,
   "metadata": {},
   "outputs": [],
   "source": [
    "# Working out physics_id\n",
    "\n",
    "# with mosaiq_connect(servers['sash']) as cursor:\n",
    "#     display(get_qcls_by_date(cursor, start, end))\n",
    "    "
   ]
  },
  {
   "cell_type": "code",
   "execution_count": null,
   "metadata": {},
   "outputs": [],
   "source": [
    "with mosaiq_connect(server) as cursor:\n",
    "    \n",
    "    results = get_qcls_by_date(\n",
    "            cursor, physics_location, start, end)"
   ]
  },
  {
   "cell_type": "code",
   "execution_count": null,
   "metadata": {},
   "outputs": [],
   "source": [
    "   \n",
    "display(results)"
   ]
  },
  {
   "cell_type": "code",
   "execution_count": null,
   "metadata": {},
   "outputs": [],
   "source": [
    "patient_ids = results['patient_id'].values"
   ]
  },
  {
   "cell_type": "code",
   "execution_count": null,
   "metadata": {},
   "outputs": [],
   "source": [
    "with mosaiq_connect(server) as cursor:\n",
    "    for patient_id in patient_ids:\n",
    "        display(Markdown('### {}'.format(patient_id)))\n",
    "        display(get_patient_fields(cursor, patient_id))"
   ]
  },
  {
   "cell_type": "code",
   "execution_count": null,
   "metadata": {},
   "outputs": [],
   "source": [
    "def count_results(results, imrt_task_names, non_imrt_task_names, server):\n",
    "    imrt_results = np.sum(results[server]['task'] == imrt_task_names[server])\n",
    "    non_imrt_results = np.sum(results[server]['task'] == non_imrt_task_names[server])\n",
    "    \n",
    "    return {\n",
    "        'imrt_results': imrt_results,\n",
    "        'non_imrt_results': non_imrt_results\n",
    "    }"
   ]
  },
  {
   "cell_type": "code",
   "execution_count": null,
   "metadata": {},
   "outputs": [],
   "source": [
    "# SASH results\n",
    "len(results['sash']['task'])"
   ]
  },
  {
   "cell_type": "code",
   "execution_count": null,
   "metadata": {},
   "outputs": [],
   "source": []
  }
 ],
 "metadata": {
  "anaconda-cloud": {},
  "kernelspec": {
   "display_name": "Python 3",
   "language": "python",
   "name": "python3"
  },
  "language_info": {
   "codemirror_mode": {
    "name": "ipython",
    "version": 3
   },
   "file_extension": ".py",
   "mimetype": "text/x-python",
   "name": "python",
   "nbconvert_exporter": "python",
   "pygments_lexer": "ipython3",
   "version": "3.7.0"
  }
 },
 "nbformat": 4,
 "nbformat_minor": 2
}
