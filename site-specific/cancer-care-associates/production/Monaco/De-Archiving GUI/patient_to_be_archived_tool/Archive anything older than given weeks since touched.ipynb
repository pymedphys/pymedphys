{
 "cells": [
  {
   "cell_type": "code",
   "execution_count": null,
   "metadata": {},
   "outputs": [],
   "source": [
    "import os\n",
    "import numpy as np\n",
    "from glob import glob\n",
    "import re\n",
    "import time\n",
    "import shutil\n",
    "from tqdm import tqdm"
   ]
  },
  {
   "cell_type": "code",
   "execution_count": null,
   "metadata": {},
   "outputs": [],
   "source": [
    "centre = 'rccc'\n",
    "\n",
    "number_of_weeks_to_keep = 25"
   ]
  },
  {
   "cell_type": "code",
   "execution_count": null,
   "metadata": {},
   "outputs": [],
   "source": [
    "directory_map = {\n",
    "    'rccc': {\n",
    "        'search_string': r'\\\\monacoda\\FocalData\\RCCC\\1~Clinical\\*~*\\demographic.*',\n",
    "        'holding': r'\\\\monacoda\\FocalData\\ToBeArchived',\n",
    "        'archived': r'\\\\UTILSVR\\PhysBack\\MONACO_ARCHIVE_1'\n",
    "    },\n",
    "    'nbcc': {\n",
    "        'search_string': r'\\\\nbccc-monaco\\Users\\Public\\Documents\\CMS\\FocalData\\NBCCC\\1~Clinical\\*~*\\demographic.*',\n",
    "        'holding': r'\\\\nbccc-monaco\\Users\\Public\\Documents\\HoldingDirectory',\n",
    "        'archived': r'\\\\nbccc-monaco\\Archive\\Patients'\n",
    "    }\n",
    "}"
   ]
  },
  {
   "cell_type": "code",
   "execution_count": null,
   "metadata": {},
   "outputs": [],
   "source": [
    "patient_demographic_files = np.array(glob(directory_map[centre]['search_string']))\n",
    "patient_demographic_files"
   ]
  },
  {
   "cell_type": "code",
   "execution_count": null,
   "metadata": {},
   "outputs": [],
   "source": [
    "patient_directories = np.array([\n",
    "    os.path.dirname(item) \n",
    "    for item in patient_demographic_files])\n",
    "patient_directories"
   ]
  },
  {
   "cell_type": "code",
   "execution_count": null,
   "metadata": {},
   "outputs": [],
   "source": [
    "corresponding_number_of_weeks_ago = []\n",
    "\n",
    "for current_patient_directory in patient_directories:\n",
    "    files_and_folders_one_level = glob(os.path.join(current_patient_directory, '*'))\n",
    "    all_date_modified = np.array([\n",
    "        os.path.getmtime(item) for item in files_and_folders_one_level])\n",
    "    \n",
    "    number_of_weeks_ago = (time.time() - all_date_modified) / (60 * 60 * 24 * 7)\n",
    "    \n",
    "    minimum_number_of_weeks_ago = np.min(number_of_weeks_ago)\n",
    "    \n",
    "    corresponding_number_of_weeks_ago.append(minimum_number_of_weeks_ago)"
   ]
  },
  {
   "cell_type": "code",
   "execution_count": null,
   "metadata": {},
   "outputs": [],
   "source": [
    "corresponding_number_of_weeks_ago = np.array(corresponding_number_of_weeks_ago)\n",
    "corresponding_number_of_weeks_ago"
   ]
  },
  {
   "cell_type": "code",
   "execution_count": null,
   "metadata": {},
   "outputs": [],
   "source": [
    "archive_reference = corresponding_number_of_weeks_ago > number_of_weeks_to_keep\n",
    "directories_to_be_archived = patient_directories[archive_reference]\n",
    "directories_to_be_archived"
   ]
  },
  {
   "cell_type": "code",
   "execution_count": null,
   "metadata": {},
   "outputs": [],
   "source": [
    "corresponding_number_of_weeks_ago[archive_reference]"
   ]
  },
  {
   "cell_type": "code",
   "execution_count": null,
   "metadata": {},
   "outputs": [],
   "source": [
    "len(corresponding_number_of_weeks_ago[archive_reference])"
   ]
  },
  {
   "cell_type": "code",
   "execution_count": null,
   "metadata": {},
   "outputs": [],
   "source": [
    "patient_folder_name = [\n",
    "    os.path.basename(item) for item in directories_to_be_archived]\n",
    "patient_folder_name"
   ]
  },
  {
   "cell_type": "code",
   "execution_count": null,
   "metadata": {},
   "outputs": [],
   "source": [
    "test_archive_directory = directory_map[centre]['archived']\n",
    "test_location_to_move_to = [\n",
    "    os.path.join(test_archive_directory, item) for item in patient_folder_name]\n",
    "test_location_to_move_to"
   ]
  },
  {
   "cell_type": "code",
   "execution_count": null,
   "metadata": {},
   "outputs": [],
   "source": [
    "for i in tqdm(range(len(directories_to_be_archived))):\n",
    "    assert os.path.exists(directories_to_be_archived[i]), \"Error {} doesnt exist anymore!\".format(directories_to_be_archived[i])\n",
    "    assert not(os.path.exists(test_location_to_move_to[i])), \"Error {} exists already!\".format(test_location_to_move_to[i])\n",
    "    \n",
    "    print(\"{} => {}\".format(directories_to_be_archived[i], test_location_to_move_to[i]))"
   ]
  },
  {
   "cell_type": "code",
   "execution_count": null,
   "metadata": {},
   "outputs": [],
   "source": [
    "archive_directory = directory_map[centre]['holding']\n",
    "location_to_move_to = [\n",
    "    os.path.join(archive_directory, item) for item in patient_folder_name]\n",
    "location_to_move_to"
   ]
  },
  {
   "cell_type": "code",
   "execution_count": null,
   "metadata": {},
   "outputs": [],
   "source": [
    "for i in tqdm(range(len(directories_to_be_archived))):\n",
    "    assert os.path.exists(directories_to_be_archived[i]), \"Error {} doesnt exist anymore!\".format(directories_to_be_archived[i])\n",
    "    assert not(os.path.exists(location_to_move_to[i])), \"Error {} exists already!\".format(location_to_move_to[i])\n",
    "    \n",
    "    print(\"{} => {}\".format(directories_to_be_archived[i], location_to_move_to[i]))"
   ]
  },
  {
   "cell_type": "code",
   "execution_count": null,
   "metadata": {},
   "outputs": [],
   "source": []
  },
  {
   "cell_type": "code",
   "execution_count": null,
   "metadata": {},
   "outputs": [],
   "source": [
    "location_to_move_to"
   ]
  },
  {
   "cell_type": "code",
   "execution_count": null,
   "metadata": {},
   "outputs": [],
   "source": [
    "for i in tqdm(range(len(directories_to_be_archived))):\n",
    "    assert os.path.exists(directories_to_be_archived[i]), \"Error {} doesnt exist anymore!\".format(directories_to_be_archived[i])\n",
    "    assert not(os.path.exists(location_to_move_to[i])), \"Error {} exists already!\".format(location_to_move_to[i])\n",
    "    \n",
    "    print(\"{} => {}\".format(directories_to_be_archived[i], location_to_move_to[i]))\n",
    "    shutil.move(directories_to_be_archived[i], location_to_move_to[i])\n",
    "    \n",
    "    assert not(os.path.exists(directories_to_be_archived[i])), \"The move failed to delete the clinical file!\"\n",
    "    assert os.path.exists(location_to_move_to[i]), \"Failed to archive!\"\n",
    "    \n",
    "    print(\"    Done\\n\")"
   ]
  },
  {
   "cell_type": "markdown",
   "metadata": {},
   "source": [
    "## Move the the result across to its final location via system tools\n",
    "\n",
    "Use system tools to move across the data within `\\\\monacoda\\FocalData\\ToBeArchived` to \n",
    "`\\\\UTILSVR\\PhysBack\\MONACO_ARCHIVE_1` then verify that the data was successfully moved\n",
    "by running the following.\n",
    "\n"
   ]
  },
  {
   "cell_type": "code",
   "execution_count": null,
   "metadata": {},
   "outputs": [],
   "source": [
    "for i in tqdm(range(len(directories_to_be_archived))):    \n",
    "    assert not(os.path.exists(directories_to_be_archived[i])), \"The move failed to delete the clinical file!\"\n",
    "    assert not(os.path.exists(location_to_move_to[i])), \"The move failed to delete the holding location!\"\n",
    "    assert os.path.exists(test_location_to_move_to[i]), \"File not found within archive!\"\n",
    "    \n",
    "    print(\"    Done\\n\")"
   ]
  }
 ],
 "metadata": {
  "anaconda-cloud": {},
  "kernelspec": {
   "display_name": "Python 3",
   "language": "python",
   "name": "python3"
  },
  "language_info": {
   "codemirror_mode": {
    "name": "ipython",
    "version": 3
   },
   "file_extension": ".py",
   "mimetype": "text/x-python",
   "name": "python",
   "nbconvert_exporter": "python",
   "pygments_lexer": "ipython3",
   "version": "3.7.0"
  }
 },
 "nbformat": 4,
 "nbformat_minor": 4
}
