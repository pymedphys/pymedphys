{
 "cells": [
  {
   "cell_type": "code",
   "execution_count": null,
   "metadata": {},
   "outputs": [],
   "source": [
    "import pathlib\n",
    "\n",
    "import numpy as np\n",
    "import matplotlib.pyplot as plt\n",
    "import pandas as pd\n",
    "\n",
    "import seaborn as sns"
   ]
  },
  {
   "cell_type": "code",
   "execution_count": null,
   "metadata": {},
   "outputs": [],
   "source": [
    "# Makes it so any changes in pymedphys is automatically\n",
    "# propagated into the notebook without needing a kernel reset.\n",
    "from IPython.lib.deepreload import reload\n",
    "%load_ext autoreload\n",
    "%autoreload 2"
   ]
  },
  {
   "cell_type": "code",
   "execution_count": null,
   "metadata": {},
   "outputs": [],
   "source": [
    "import pymedphys"
   ]
  },
  {
   "cell_type": "code",
   "execution_count": null,
   "metadata": {},
   "outputs": [],
   "source": [
    "root_monaco = pathlib.Path(r'W:\\SASH\\1~Clinical\\1~196309\\plan')\n",
    "tel_files = list(root_monaco.glob('*/tel.1'))\n",
    "tel_files"
   ]
  },
  {
   "cell_type": "code",
   "execution_count": null,
   "metadata": {},
   "outputs": [],
   "source": [
    "root_logfiles = pathlib.Path(r'D:\\LinacLogFiles\\indexed')\n",
    "patient_id = '999993'\n",
    "field_label = '9309A'\n",
    "\n",
    "logfile_paths_a = list(root_logfiles.glob(f'*/{patient_id}_*/*/*{field_label}*/*/*.trf'))\n",
    "logfile_paths_a"
   ]
  },
  {
   "cell_type": "code",
   "execution_count": null,
   "metadata": {},
   "outputs": [],
   "source": [
    "field_label = '9309B'\n",
    "\n",
    "logfile_paths_b = list(root_logfiles.glob(f'*/{patient_id}_*/*/*{field_label}*/*/*.trf'))\n",
    "logfile_paths_b"
   ]
  },
  {
   "cell_type": "code",
   "execution_count": null,
   "metadata": {},
   "outputs": [],
   "source": [
    "all_logfiles = logfile_paths_a + logfile_paths_b\n",
    "\n",
    "deliveries = {}\n",
    "for path in all_logfiles:\n",
    "    timestamp = path.parent.name\n",
    "    beam_name = path.parent.parent.name\n",
    "    \n",
    "    key = (beam_name, timestamp)\n",
    "    deliveries[key] = pymedphys.Delivery.from_logfile(path)"
   ]
  },
  {
   "cell_type": "code",
   "execution_count": null,
   "metadata": {},
   "outputs": [],
   "source": [
    "deliveries.keys()"
   ]
  },
  {
   "cell_type": "code",
   "execution_count": null,
   "metadata": {},
   "outputs": [],
   "source": [
    "mudensities = {}\n",
    "\n",
    "for key, delivery in deliveries.items():\n",
    "    mudensities[key] = delivery.mudensity()"
   ]
  },
  {
   "cell_type": "code",
   "execution_count": null,
   "metadata": {},
   "outputs": [],
   "source": [
    "monaco_deliveries = [\n",
    "    pymedphys.Delivery.from_monaco(tel_file) for tel_file in tel_files\n",
    "]\n"
   ]
  },
  {
   "cell_type": "code",
   "execution_count": null,
   "metadata": {},
   "outputs": [],
   "source": [
    "monaco_mudensities = [\n",
    "    delivery.mudensity() for delivery in monaco_deliveries\n",
    "]"
   ]
  },
  {
   "cell_type": "code",
   "execution_count": null,
   "metadata": {},
   "outputs": [],
   "source": [
    "GRID = pymedphys.mudensity.grid()\n",
    "COORDS = (GRID[\"jaw\"], GRID[\"mlc\"])\n",
    "COLOUR_MAGNITUDE = 10"
   ]
  },
  {
   "cell_type": "code",
   "execution_count": null,
   "metadata": {},
   "outputs": [],
   "source": [
    "def run_comparison(evaluation, reference):\n",
    "    diff = evaluation - reference\n",
    "    print(\n",
    "        f\"Mean:   {np.mean(diff)}\\n\"\n",
    "        f\"Median: {np.median(diff)}\\n\"\n",
    "        f\"Std:    {np.std(diff)}\\n\"\n",
    "        f\"Max:    {np.max(diff)}\\n\"\n",
    "        f\"Min:    {np.min(diff)}\\n\"\n",
    "    )\n",
    "    pymedphys.mudensity.display(\n",
    "        GRID, diff, cmap=\"seismic\", vmin=-COLOUR_MAGNITUDE, vmax=COLOUR_MAGNITUDE\n",
    "    )\n",
    "    \n",
    "    return diff"
   ]
  },
  {
   "cell_type": "code",
   "execution_count": null,
   "metadata": {},
   "outputs": [],
   "source": [
    "monaco_map = {\n",
    "    '86951_9309A_CW_VMAT': 0,\n",
    "    '86961_9309B_CW-Replan_VMAT': 1\n",
    "}"
   ]
  },
  {
   "cell_type": "code",
   "execution_count": null,
   "metadata": {},
   "outputs": [],
   "source": [
    "tuning_type = {\n",
    "    '2020-01-08_144045_2619': 'tuned',\n",
    "    '2020-01-08_145240_2619': 'tuned',\n",
    "    '2020-01-08_151409_2619': 'tuned',\n",
    "    '2020-01-10_172546_2619': 'original',\n",
    "    '2020-01-10_152553_2619': 'tuned',\n",
    "    '2020-01-10_164453_2619': 'original'\n",
    "}"
   ]
  },
  {
   "cell_type": "code",
   "execution_count": null,
   "metadata": {},
   "outputs": [],
   "source": [
    "diffs = []\n",
    "plan_names = []\n",
    "timestamps = []\n",
    "keys = list(deliveries.keys())[0:-1]\n",
    "all_tuning = []\n",
    "\n",
    "for key in keys:\n",
    "    plan_name, timestamp = key\n",
    "    monaco_mudensity = monaco_mudensities[monaco_map[plan_name]]\n",
    "    logfile_mudensity = mudensities[key]\n",
    "    \n",
    "    diff = logfile_mudensity - monaco_mudensity\n",
    "    diff = diff[monaco_mudensity > 20].tolist()\n",
    "    \n",
    "    tuning = tuning_type[timestamp]\n",
    "    \n",
    "    diffs += diff\n",
    "    plan_names += [plan_name,]*len(diff)\n",
    "    timestamps += [timestamp,]*len(diff)\n",
    "    all_tuning += [tuning,]*len(diff)\n"
   ]
  },
  {
   "cell_type": "code",
   "execution_count": null,
   "metadata": {},
   "outputs": [],
   "source": [
    "diffs = np.array(diffs).astype(float)\n",
    "plan_names = np.array(plan_names).astype(str)\n",
    "all_tuning = np.array(all_tuning).astype(str)\n",
    "\n",
    "df = pd.DataFrame(\n",
    "    data={\n",
    "        'MU Density [Logfile - Monaco]': diffs,\n",
    "        'Plan Name': plan_names,\n",
    "        'Tuning': all_tuning\n",
    "    }\n",
    ")\n",
    "df"
   ]
  },
  {
   "cell_type": "code",
   "execution_count": null,
   "metadata": {},
   "outputs": [],
   "source": [
    "plt.figure(figsize=(10,10))\n",
    "sns.violinplot(\n",
    "    x='Plan Name', y='MU Density [Logfile - Monaco]', hue=\"Tuning\", \n",
    "    data=df, palette=\"muted\", split=True, inner='quartile')"
   ]
  },
  {
   "cell_type": "code",
   "execution_count": null,
   "metadata": {},
   "outputs": [],
   "source": [
    "plt.figure(figsize=(10,10))\n",
    "sns.violinplot(\n",
    "    x='Plan Name', y='MU Density [Logfile - Monaco]', hue=\"Tuning\", \n",
    "    data=df, palette=\"muted\", split=True, inner='quartile')\n",
    "\n",
    "plt.ylim([-2, 2])"
   ]
  }
 ],
 "metadata": {
  "kernelspec": {
   "display_name": "pymedphys-master",
   "language": "python",
   "name": "pymedphys-master"
  },
  "language_info": {
   "codemirror_mode": {
    "name": "ipython",
    "version": 3
   },
   "file_extension": ".py",
   "mimetype": "text/x-python",
   "name": "python",
   "nbconvert_exporter": "python",
   "pygments_lexer": "ipython3",
   "version": "3.7.5"
  }
 },
 "nbformat": 4,
 "nbformat_minor": 4
}
