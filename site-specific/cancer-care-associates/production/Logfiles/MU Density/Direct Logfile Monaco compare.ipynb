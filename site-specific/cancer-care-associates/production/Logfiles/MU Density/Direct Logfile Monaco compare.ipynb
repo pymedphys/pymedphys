{
 "cells": [
  {
   "cell_type": "code",
   "execution_count": null,
   "metadata": {},
   "outputs": [],
   "source": [
    "import pathlib\n",
    "import json\n",
    "\n",
    "import pandas as pd"
   ]
  },
  {
   "cell_type": "code",
   "execution_count": null,
   "metadata": {},
   "outputs": [],
   "source": [
    "# Makes it so any changes in pymedphys is automatically\n",
    "# propagated into the notebook without needing a kernel reset.\n",
    "from IPython.lib.deepreload import reload\n",
    "%load_ext autoreload\n",
    "%autoreload 2"
   ]
  },
  {
   "cell_type": "code",
   "execution_count": null,
   "metadata": {},
   "outputs": [],
   "source": [
    "import pymedphys\n",
    "import pymedphys._utilities.filehash\n",
    "\n",
    "from prototyping import *"
   ]
  },
  {
   "cell_type": "code",
   "execution_count": null,
   "metadata": {},
   "outputs": [],
   "source": [
    "logfile_directory = pathlib.Path(r'\\\\physics-server\\LinacLogFiles')\n",
    "monaco_directory = pathlib.Path(r'\\\\monacoda\\FocalData\\RCCC\\1~Clinical')\n",
    "output_directory = pathlib.Path(r'S:\\Physics\\Patient Specific Logfile Fluence')\n",
    "\n",
    "pdf_directory = pathlib.Path(r'P:\\Scanned Documents\\RT\\PhysChecks\\Logfile PDFs')"
   ]
  },
  {
   "cell_type": "code",
   "execution_count": null,
   "metadata": {},
   "outputs": [],
   "source": [
    "# additional_path = pathlib.Path(input())"
   ]
  },
  {
   "cell_type": "code",
   "execution_count": null,
   "metadata": {},
   "outputs": [],
   "source": [
    "# custom_logfile_paths = [pathlib.Path(r'\\\\physics-server\\LinacLogFiles\\archive\\20_01_15 06_22_56 Z .trf')]\n",
    "# custom_logfile_paths = [additional_path]\n",
    "custom_logfile_paths = []"
   ]
  },
  {
   "cell_type": "markdown",
   "metadata": {},
   "source": [
    "## Patient ID Cell"
   ]
  },
  {
   "cell_type": "code",
   "execution_count": null,
   "metadata": {},
   "outputs": [],
   "source": [
    "patient_id = '015086'\n",
    "\n",
    "percent_deviation = 2\n",
    "mm_dist_threshold = 0.5"
   ]
  },
  {
   "cell_type": "markdown",
   "metadata": {},
   "source": [
    "## Available Monaco Plans and Mosaiq Sites"
   ]
  },
  {
   "cell_type": "markdown",
   "metadata": {},
   "source": [
    "### Mosaiq Sites"
   ]
  },
  {
   "cell_type": "code",
   "execution_count": null,
   "metadata": {},
   "outputs": [],
   "source": [
    "with pymedphys.mosaiq.connect('msqsql') as cursor:\n",
    "    fields = get_patient_fields(cursor, patient_id)\n",
    "    \n",
    "valid_fields = fields[(fields['field_version'] == 0) & (fields['monitor_units'] != 0)]\n",
    "valid_fields"
   ]
  },
  {
   "cell_type": "markdown",
   "metadata": {},
   "source": [
    "### Monaco Plans"
   ]
  },
  {
   "cell_type": "code",
   "execution_count": null,
   "metadata": {},
   "outputs": [],
   "source": [
    "all_tel_paths = list(monaco_directory.glob(f'*~{patient_id}/plan/*/tel.1'))\n",
    "all_tel_paths"
   ]
  },
  {
   "cell_type": "markdown",
   "metadata": {},
   "source": [
    "## Custom Monaco/Mosaiq Alignment"
   ]
  },
  {
   "cell_type": "code",
   "execution_count": null,
   "metadata": {},
   "outputs": [],
   "source": [
    "monaco_plan_name = 'PROSTATE'\n",
    "mosaiq_site = 'PROSTATE'"
   ]
  },
  {
   "cell_type": "code",
   "execution_count": null,
   "metadata": {},
   "outputs": [],
   "source": [
    "paths = list(logfile_directory.joinpath('indexed').glob(f'*/{patient_id}_*/*/*/*/*.trf'))\n",
    "file_hashes = [pymedphys._utilities.filehash.hash_file(path) for path in paths]"
   ]
  },
  {
   "cell_type": "code",
   "execution_count": null,
   "metadata": {},
   "outputs": [],
   "source": [
    "with open(logfile_directory.joinpath('index.json')) as f:\n",
    "    index = json.load(f)\n",
    "\n",
    "\n",
    "index_records = [\n",
    "    index[key] for key in file_hashes\n",
    "]"
   ]
  },
  {
   "cell_type": "code",
   "execution_count": null,
   "metadata": {},
   "outputs": [],
   "source": [
    "# index_records"
   ]
  },
  {
   "cell_type": "code",
   "execution_count": null,
   "metadata": {},
   "outputs": [],
   "source": [
    "field_ids = [record['delivery_details']['field_id'] for record in index_records]\n",
    "# field_ids"
   ]
  },
  {
   "cell_type": "code",
   "execution_count": null,
   "metadata": {},
   "outputs": [],
   "source": [
    "fields_at_site = valid_fields[valid_fields['site'] == mosaiq_site]\n",
    "fields_at_site"
   ]
  },
  {
   "cell_type": "code",
   "execution_count": null,
   "metadata": {},
   "outputs": [],
   "source": [
    "logfiles_to_check = [path for path, field_id in zip(paths, field_ids) if field_id in fields_at_site['field_id'].array] + custom_logfile_paths\n",
    "# logfiles_to_check = [logfiles_to_check[-1]]\n",
    "logfiles_to_check"
   ]
  },
  {
   "cell_type": "code",
   "execution_count": null,
   "metadata": {},
   "outputs": [],
   "source": [
    "tel_paths = list(monaco_directory.glob(f'*~{patient_id}/plan/{monaco_plan_name}/tel.1'))\n",
    "tel_paths"
   ]
  },
  {
   "cell_type": "code",
   "execution_count": null,
   "metadata": {},
   "outputs": [],
   "source": [
    "for tel_file in tel_paths:\n",
    "    markdown_print(f\"## `{tel_file}`\")\n",
    "\n",
    "    try:\n",
    "        mudensity_tel = get_mu_density_from_file(tel_file)\n",
    "\n",
    "        for trf_file in logfiles_to_check:\n",
    "            markdown_print(f\"### `{trf_file}`\")\n",
    "            \n",
    "            try:\n",
    "                mudensity_trf = get_mu_density_from_file(trf_file)\n",
    "            except Exception as e:\n",
    "                traceback.print_exc()\n",
    "                continue\n",
    "\n",
    "            gamma = calc_gamma(to_tuple(mudensity_tel), to_tuple(mudensity_trf))\n",
    "\n",
    "            results_dir = output_directory.joinpath(patient_id, tel_file.parent.name, trf_file.stem)\n",
    "            results_dir.mkdir(exist_ok=True, parents=True)\n",
    "\n",
    "            header_text = (\n",
    "                f\"Patient ID: {patient_id}\\n\"\n",
    "                f\"Plan Name: {tel_file.parent.name}\\n\"\n",
    "            )\n",
    "\n",
    "            footer_text = (\n",
    "                f\"tel.1 file path: {str(tel_file)}\\n\"\n",
    "                f\"trf file path: {str(trf_file)}\\n\"\n",
    "                f\"results path: {str(results_dir)}\"\n",
    "            )\n",
    "\n",
    "            png_filepath = str(results_dir.joinpath(\"result.png\").resolve())\n",
    "            pdf_filepath = str(pdf_directory.joinpath(f\"{patient_id}.pdf\").resolve())\n",
    "\n",
    "            fig = plot_and_save_results(\n",
    "                mudensity_tel, mudensity_trf, \n",
    "                gamma, png_filepath, pdf_filepath, \n",
    "                header_text=header_text, footer_text=footer_text\n",
    "            )\n",
    "            \n",
    "            fig.tight_layout()\n",
    "            plt.savefig(png_filepath, dpi=300)\n",
    "            plt.show()\n",
    "\n",
    "            !magick convert \"{png_filepath}\" \"{pdf_filepath}\"\n",
    "\n",
    "\n",
    "    except Exception as e:\n",
    "        traceback.print_exc()"
   ]
  },
  {
   "cell_type": "code",
   "execution_count": null,
   "metadata": {},
   "outputs": [],
   "source": []
  }
 ],
 "metadata": {
  "kernelspec": {
   "display_name": "Python 3",
   "language": "python",
   "name": "python3"
  },
  "language_info": {
   "codemirror_mode": {
    "name": "ipython",
    "version": 3
   },
   "file_extension": ".py",
   "mimetype": "text/x-python",
   "name": "python",
   "nbconvert_exporter": "python",
   "pygments_lexer": "ipython3",
   "version": "3.7.0"
  }
 },
 "nbformat": 4,
 "nbformat_minor": 4
}
