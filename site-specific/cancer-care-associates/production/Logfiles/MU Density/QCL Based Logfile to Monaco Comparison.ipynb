{
 "cells": [
  {
   "cell_type": "code",
   "execution_count": null,
   "metadata": {},
   "outputs": [],
   "source": [
    "import re\n",
    "import sys\n",
    "import pathlib\n",
    "import functools\n",
    "import traceback\n",
    "\n",
    "import numpy as np\n",
    "import matplotlib.pyplot as plt\n",
    "import pandas as pd\n",
    "\n",
    "import imageio\n",
    "import img2pdf\n",
    "\n",
    "import IPython.display\n",
    "\n",
    "import pydicom"
   ]
  },
  {
   "cell_type": "code",
   "execution_count": null,
   "metadata": {},
   "outputs": [],
   "source": [
    "# Makes it so any changes in pymedphys is automatically\n",
    "# propagated into the notebook without needing a kernel reset.\n",
    "from IPython.lib.deepreload import reload\n",
    "%load_ext autoreload\n",
    "%autoreload 2"
   ]
  },
  {
   "cell_type": "code",
   "execution_count": null,
   "metadata": {},
   "outputs": [],
   "source": [
    "import pymedphys\n",
    "from prototyping import *"
   ]
  },
  {
   "cell_type": "code",
   "execution_count": null,
   "metadata": {},
   "outputs": [],
   "source": [
    "percent_deviation = 2\n",
    "mm_dist_threshold = 0.5\n",
    "\n",
    "logfile_directory = pathlib.Path(r'D:\\LinacLogFiles')\n",
    "monaco_directory = pathlib.Path(r'\\\\monacoda\\FocalData\\RCCC\\1~Clinical')\n",
    "output_directory = pathlib.Path(r'S:\\Physics\\Patient Specific Logfile Fluence')\n",
    "\n",
    "pdf_directory = pathlib.Path(r'P:\\Scanned Documents\\RT\\PhysChecks\\Logfile PDFs')"
   ]
  },
  {
   "cell_type": "code",
   "execution_count": null,
   "metadata": {},
   "outputs": [],
   "source": [
    "extra_patient_ids_to_check = []"
   ]
  },
  {
   "cell_type": "code",
   "execution_count": null,
   "metadata": {},
   "outputs": [],
   "source": [
    "with pymedphys.mosaiq.connect('msqsql') as cursor:\n",
    "    qcls = get_incomplete_qcls(cursor, 'Physics_Check')"
   ]
  },
  {
   "cell_type": "code",
   "execution_count": null,
   "metadata": {},
   "outputs": [],
   "source": [
    "qcls"
   ]
  },
  {
   "cell_type": "code",
   "execution_count": null,
   "metadata": {},
   "outputs": [],
   "source": [
    "patient_ids = extra_patient_ids_to_check + list(qcls['patient_id'])\n",
    "patient_ids"
   ]
  },
  {
   "cell_type": "code",
   "execution_count": null,
   "metadata": {},
   "outputs": [],
   "source": [
    "logfile_paths = {}\n",
    "\n",
    "for patient_id in patient_ids:\n",
    "    paths = list(logfile_directory.joinpath('indexed').glob(f'*/{patient_id}_*/*/*/*/*.trf'))\n",
    "    if paths:\n",
    "        logfile_paths[patient_id] = paths"
   ]
  },
  {
   "cell_type": "code",
   "execution_count": null,
   "metadata": {},
   "outputs": [],
   "source": [
    "logfile_paths"
   ]
  },
  {
   "cell_type": "code",
   "execution_count": null,
   "metadata": {},
   "outputs": [],
   "source": [
    "patiend_ids_with_logfiles = list(logfile_paths.keys())"
   ]
  },
  {
   "cell_type": "code",
   "execution_count": null,
   "metadata": {},
   "outputs": [],
   "source": [
    "patient_id = patiend_ids_with_logfiles[0]"
   ]
  },
  {
   "cell_type": "code",
   "execution_count": null,
   "metadata": {},
   "outputs": [],
   "source": [
    "monaco_approval_comments = {}\n",
    "\n",
    "for patient_id in patiend_ids_with_logfiles:\n",
    "    paths = list(monaco_directory.glob(f'*~{patient_id}/plan/*/*plan_comment'))\n",
    "    if paths:\n",
    "        monaco_approval_comments[patient_id] = paths"
   ]
  },
  {
   "cell_type": "code",
   "execution_count": null,
   "metadata": {},
   "outputs": [],
   "source": [
    "monaco_approval_comments"
   ]
  },
  {
   "cell_type": "code",
   "execution_count": null,
   "metadata": {},
   "outputs": [],
   "source": [
    "patient_ids_with_approved_plans = list(monaco_approval_comments.keys())"
   ]
  },
  {
   "cell_type": "code",
   "execution_count": null,
   "metadata": {},
   "outputs": [],
   "source": [
    "tel_files = {}\n",
    "\n",
    "for patient_id in patient_ids_with_approved_plans:\n",
    "    paths = list(monaco_directory.glob(f'*~{patient_id}/plan/*/tel.1'))\n",
    "    if paths:\n",
    "        tel_files[patient_id] = paths"
   ]
  },
  {
   "cell_type": "code",
   "execution_count": null,
   "metadata": {},
   "outputs": [],
   "source": [
    "tel_files"
   ]
  },
  {
   "cell_type": "code",
   "execution_count": null,
   "metadata": {},
   "outputs": [],
   "source": [
    "patient_ids_to_check = list(tel_files.keys())"
   ]
  },
  {
   "cell_type": "code",
   "execution_count": null,
   "metadata": {},
   "outputs": [],
   "source": [
    "def run_for_a_patient_id(patient_id):\n",
    "    markdown_print(f\"# {patient_id}\")\n",
    "    \n",
    "    for tel_file in tel_files[patient_id]:\n",
    "        markdown_print(f\"## `{tel_file}`\")\n",
    "        \n",
    "        try:\n",
    "            mudensity_tel = get_mu_density_from_file(tel_file)\n",
    "\n",
    "            for trf_file in logfile_paths[patient_id]:\n",
    "                markdown_print(f\"### `{trf_file}`\")\n",
    "\n",
    "                mudensity_trf = get_mu_density_from_file(trf_file)\n",
    "\n",
    "                gamma = calc_gamma(to_tuple(mudensity_tel), to_tuple(mudensity_trf))\n",
    "\n",
    "                results_dir = output_directory.joinpath(patient_id, tel_file.parent.name, trf_file.stem)\n",
    "                results_dir.mkdir(exist_ok=True, parents=True)\n",
    "                \n",
    "                header_text = (\n",
    "                    f\"Patient ID: {patient_id}\\n\"\n",
    "                    f\"Plan Name: {tel_file.parent.name}\\n\"\n",
    "                )\n",
    "                \n",
    "                footer_text = (\n",
    "                    f\"tel.1 file path: {str(tel_file)}\\n\"\n",
    "                    f\"trf file path: {str(trf_file)}\\n\"\n",
    "                    f\"results path: {str(results_dir)}\"\n",
    "                )\n",
    "                \n",
    "                png_filepath = str(results_dir.joinpath(\"result.png\").resolve())\n",
    "                pdf_filepath = str(pdf_directory.joinpath(f\"{patient_id}.pdf\").resolve())\n",
    "                \n",
    "                fig = plot_and_save_results(\n",
    "                    mudensity_tel, mudensity_trf, \n",
    "                    gamma, png_filepath, pdf_filepath, \n",
    "                    header_text=header_text, footer_text=footer_text\n",
    "                )\n",
    "                \n",
    "                fig.tight_layout()\n",
    "                plt.savefig(png_filepath, dpi=300)\n",
    "                plt.show()\n",
    "\n",
    "                !magick convert \"{png_filepath}\" \"{pdf_filepath}\"\n",
    "                \n",
    "        \n",
    "        except Exception as e:\n",
    "            traceback.print_exc()\n",
    "\n",
    "\n",
    "for patient_id in patient_ids_to_check:\n",
    "    run_for_a_patient_id(patient_id)"
   ]
  }
 ],
 "metadata": {
  "kernelspec": {
   "display_name": "pymedphys-master",
   "language": "python",
   "name": "pymedphys-master"
  },
  "language_info": {
   "codemirror_mode": {
    "name": "ipython",
    "version": 3
   },
   "file_extension": ".py",
   "mimetype": "text/x-python",
   "name": "python",
   "nbconvert_exporter": "python",
   "pygments_lexer": "ipython3",
   "version": "3.7.0"
  }
 },
 "nbformat": 4,
 "nbformat_minor": 4
}
