{
 "cells": [
  {
   "cell_type": "code",
   "execution_count": null,
   "metadata": {},
   "outputs": [],
   "source": [
    "import os\n",
    "import lzma\n",
    "import pathlib\n",
    "\n",
    "import pymedphys"
   ]
  },
  {
   "cell_type": "code",
   "execution_count": null,
   "metadata": {},
   "outputs": [],
   "source": [
    "icom_dir = pathlib.Path(r'\\\\physics-server\\iComLogFiles\\patients')"
   ]
  },
  {
   "cell_type": "code",
   "execution_count": null,
   "metadata": {},
   "outputs": [],
   "source": [
    "icom_records = list(icom_dir.glob('*/*.xz'))"
   ]
  },
  {
   "cell_type": "code",
   "execution_count": null,
   "metadata": {},
   "outputs": [],
   "source": [
    "error_in_record = []\n",
    "\n",
    "for icom_path in icom_records:\n",
    "\n",
    "    with lzma.open(icom_path, \"r\") as f:\n",
    "        contents = f.read()\n",
    "    \n",
    "    try:\n",
    "        delivery = pymedphys.Delivery.from_icom(contents)\n",
    "        if len(delivery.mu) == 0:\n",
    "            print(f\"Unlinked {icom_path}\")\n",
    "            icom_path.unlink()\n",
    "        elif delivery.mu[-1] == 0:\n",
    "            print(f\"Unlinked {icom_path}\")\n",
    "            icom_path.unlink()\n",
    "    except:\n",
    "        error_in_record.append(icom_path)"
   ]
  },
  {
   "cell_type": "code",
   "execution_count": null,
   "metadata": {},
   "outputs": [],
   "source": [
    "error_in_record"
   ]
  },
  {
   "cell_type": "code",
   "execution_count": null,
   "metadata": {},
   "outputs": [],
   "source": [
    "for record in error_in_record:\n",
    "\n",
    "    new_location = record.parent.parent.joinpath('unknown_error_in_record', record.parent.name, record.name)\n",
    "    new_dir = new_location.parent\n",
    "    new_dir.mkdir(parents=True, exist_ok=True)\n",
    "    \n",
    "    os.rename(record, new_location)"
   ]
  }
 ],
 "metadata": {
  "kernelspec": {
   "display_name": "pymedphys-master",
   "language": "python",
   "name": "pymedphys-master"
  },
  "language_info": {
   "codemirror_mode": {
    "name": "ipython",
    "version": 3
   },
   "file_extension": ".py",
   "mimetype": "text/x-python",
   "name": "python",
   "nbconvert_exporter": "python",
   "pygments_lexer": "ipython3",
   "version": "3.7.0"
  }
 },
 "nbformat": 4,
 "nbformat_minor": 4
}
