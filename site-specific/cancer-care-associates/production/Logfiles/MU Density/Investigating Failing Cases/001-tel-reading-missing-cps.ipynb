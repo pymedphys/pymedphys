{
 "cells": [
  {
   "cell_type": "code",
   "execution_count": null,
   "metadata": {},
   "outputs": [],
   "source": [
    "import pandas as pd\n",
    "import numpy as np\n",
    "import matplotlib.pyplot as plt\n",
    "\n",
    "import pydicom"
   ]
  },
  {
   "cell_type": "code",
   "execution_count": null,
   "metadata": {},
   "outputs": [],
   "source": [
    "# Makes it so that any changes in pymedphys is automatically\n",
    "# propagated into the notebook without needing a kernel reset.\n",
    "from IPython.lib.deepreload import reload\n",
    "%load_ext autoreload\n",
    "%autoreload 2"
   ]
  },
  {
   "cell_type": "code",
   "execution_count": null,
   "metadata": {},
   "outputs": [],
   "source": [
    "import pymedphys\n",
    "from pymedphys._mosaiq.helpers import FIELD_TYPES"
   ]
  },
  {
   "cell_type": "code",
   "execution_count": null,
   "metadata": {},
   "outputs": [],
   "source": [
    "data_paths = pymedphys.zip_data_paths(\"tel-dicom-pairs.zip\")\n",
    "dir_name = [path.parent.name for path in data_paths if 'BreastAndBoost' in path.parent.name][0]\n",
    "\n",
    "dir_name"
   ]
  },
  {
   "cell_type": "code",
   "execution_count": null,
   "metadata": {},
   "outputs": [],
   "source": [
    "def get_file_type(input_paths, file_type, exact_name=False):\n",
    "    if exact_name:\n",
    "        paths = [path for path in input_paths if path.name == file_type]\n",
    "    else:\n",
    "        paths = [path for path in input_paths if file_type in path.name]\n",
    "        \n",
    "    assert len(paths) == 1\n",
    "    return paths[0]"
   ]
  },
  {
   "cell_type": "code",
   "execution_count": null,
   "metadata": {},
   "outputs": [],
   "source": [
    "current_paths = [path for path in data_paths if path.parent.name == dir_name]\n",
    "current_paths"
   ]
  },
  {
   "cell_type": "code",
   "execution_count": null,
   "metadata": {},
   "outputs": [],
   "source": [
    "tel_path_fraction_1 = get_file_type(current_paths, \"tel.1\", exact_name=True)\n",
    "tel_path_fraction_2 = get_file_type(current_paths, \"rxB_tel.1\", exact_name=True)\n",
    "dcm_path = get_file_type(current_paths, \"dcm\")"
   ]
  },
  {
   "cell_type": "code",
   "execution_count": null,
   "metadata": {},
   "outputs": [],
   "source": []
  },
  {
   "cell_type": "code",
   "execution_count": null,
   "metadata": {},
   "outputs": [],
   "source": [
    "tel_path_fraction_1"
   ]
  },
  {
   "cell_type": "code",
   "execution_count": null,
   "metadata": {},
   "outputs": [],
   "source": [
    "dcm_path"
   ]
  },
  {
   "cell_type": "code",
   "execution_count": null,
   "metadata": {},
   "outputs": [],
   "source": [
    "delivery_dcm = pymedphys.Delivery.from_dicom(\n",
    "    pydicom.read_file(str(dcm_path), force=True),\n",
    "    fraction_number=1\n",
    ")\n",
    "\n",
    "delivery_monaco = pymedphys.Delivery.from_monaco(tel_path_fraction_1)"
   ]
  },
  {
   "cell_type": "code",
   "execution_count": null,
   "metadata": {},
   "outputs": [],
   "source": [
    "plt.plot(delivery_monaco.gantry)\n",
    "plt.plot(delivery_dcm.gantry)"
   ]
  },
  {
   "cell_type": "code",
   "execution_count": null,
   "metadata": {},
   "outputs": [],
   "source": [
    "dcm_mudensity = delivery_dcm.mudensity()\n",
    "monaco_mudensity = delivery_monaco.mudensity()"
   ]
  },
  {
   "cell_type": "code",
   "execution_count": null,
   "metadata": {},
   "outputs": [],
   "source": [
    "GRID = pymedphys.mudensity.grid()"
   ]
  },
  {
   "cell_type": "code",
   "execution_count": null,
   "metadata": {},
   "outputs": [],
   "source": [
    "pymedphys.mudensity.display(GRID, dcm_mudensity)"
   ]
  },
  {
   "cell_type": "code",
   "execution_count": null,
   "metadata": {},
   "outputs": [],
   "source": [
    "pymedphys.mudensity.display(GRID, monaco_mudensity)"
   ]
  },
  {
   "cell_type": "code",
   "execution_count": null,
   "metadata": {},
   "outputs": [],
   "source": [
    "diff = monaco_mudensity - dcm_mudensity"
   ]
  },
  {
   "cell_type": "code",
   "execution_count": null,
   "metadata": {},
   "outputs": [],
   "source": [
    "pymedphys.mudensity.display(GRID, diff)"
   ]
  },
  {
   "cell_type": "code",
   "execution_count": null,
   "metadata": {},
   "outputs": [],
   "source": [
    "def get_patient_fields(cursor, patient_id):\n",
    "    \"\"\"Returns all of the patient fields for a given Patient ID.\n",
    "    \"\"\"\n",
    "    patient_id = str(patient_id)\n",
    "\n",
    "    patient_field_results = pymedphys.mosaiq.execute(\n",
    "        cursor,\n",
    "        \"\"\"\n",
    "        SELECT\n",
    "            TxField.FLD_ID,\n",
    "            TxField.Field_Label,\n",
    "            TxField.Field_Name,\n",
    "            TxField.Version,\n",
    "            TxField.Meterset,\n",
    "            TxField.Type_Enum,\n",
    "            Site.Site_Name\n",
    "        FROM Ident, TxField, Site\n",
    "        WHERE\n",
    "            TxField.Pat_ID1 = Ident.Pat_ID1 AND\n",
    "            TxField.SIT_Set_ID = Site.SIT_Set_ID AND\n",
    "            Ident.IDA = %(patient_id)s\n",
    "        \"\"\",\n",
    "        {\"patient_id\": patient_id},\n",
    "    )\n",
    "\n",
    "    table = pd.DataFrame(\n",
    "        data=patient_field_results,\n",
    "        columns=[\n",
    "            \"field_id\",\n",
    "            \"field_label\",\n",
    "            \"field_name\",\n",
    "            \"field_version\",\n",
    "            \"monitor_units\",\n",
    "            \"field_type\",\n",
    "            \"site\",\n",
    "        ],\n",
    "    )\n",
    "\n",
    "    table.drop_duplicates(inplace=True)\n",
    "\n",
    "    table[\"field_type\"] = [FIELD_TYPES[item] for item in table[\"field_type\"]]\n",
    "\n",
    "    return table"
   ]
  },
  {
   "cell_type": "code",
   "execution_count": null,
   "metadata": {},
   "outputs": [],
   "source": [
    "mosaiq_sql_host = 'physics-server:31433'\n",
    "patient_id = '200054'\n",
    "\n",
    "with pymedphys.mosaiq.connect(mosaiq_sql_host) as cursor:\n",
    "    patient_fields = get_patient_fields(cursor, patient_id)\n",
    "    \n",
    "patient_fields"
   ]
  },
  {
   "cell_type": "code",
   "execution_count": null,
   "metadata": {},
   "outputs": [],
   "source": [
    "with pymedphys.mosaiq.connect(mosaiq_sql_host) as cursor:\n",
    "    mosaiq_delivery = pymedphys.Delivery.from_mosaiq(cursor, 7115)"
   ]
  },
  {
   "cell_type": "code",
   "execution_count": null,
   "metadata": {},
   "outputs": [],
   "source": [
    "mosaiq_mudensity = mosaiq_delivery.mudensity()"
   ]
  },
  {
   "cell_type": "code",
   "execution_count": null,
   "metadata": {},
   "outputs": [],
   "source": [
    "pymedphys.mudensity.display(GRID, mosaiq_mudensity)"
   ]
  },
  {
   "cell_type": "code",
   "execution_count": null,
   "metadata": {},
   "outputs": [],
   "source": [
    "pymedphys.mudensity.display(GRID, mosaiq_mudensity - dcm_mudensity)"
   ]
  },
  {
   "cell_type": "code",
   "execution_count": null,
   "metadata": {},
   "outputs": [],
   "source": []
  },
  {
   "cell_type": "code",
   "execution_count": null,
   "metadata": {},
   "outputs": [],
   "source": []
  },
  {
   "cell_type": "code",
   "execution_count": null,
   "metadata": {},
   "outputs": [],
   "source": []
  },
  {
   "cell_type": "code",
   "execution_count": null,
   "metadata": {},
   "outputs": [],
   "source": [
    "# delivery_dcm.gantry"
   ]
  },
  {
   "cell_type": "code",
   "execution_count": null,
   "metadata": {},
   "outputs": [],
   "source": [
    "len(delivery_monaco.gantry)"
   ]
  },
  {
   "cell_type": "code",
   "execution_count": null,
   "metadata": {},
   "outputs": [],
   "source": [
    "len(delivery_dcm.gantry)"
   ]
  },
  {
   "cell_type": "code",
   "execution_count": null,
   "metadata": {},
   "outputs": [],
   "source": [
    "len(delivery_monaco.mlc)"
   ]
  },
  {
   "cell_type": "code",
   "execution_count": null,
   "metadata": {},
   "outputs": [],
   "source": [
    "len(delivery_dcm.mlc)"
   ]
  },
  {
   "cell_type": "code",
   "execution_count": null,
   "metadata": {},
   "outputs": [],
   "source": [
    "monaco_mlc = np.array(delivery_monaco.mlc)\n",
    "dcm_mlc = np.array(delivery_dcm.mlc)"
   ]
  },
  {
   "cell_type": "code",
   "execution_count": null,
   "metadata": {},
   "outputs": [],
   "source": [
    "diff = monaco_mlc - dcm_mlc"
   ]
  },
  {
   "cell_type": "code",
   "execution_count": null,
   "metadata": {},
   "outputs": [],
   "source": [
    "np.shape(diff)"
   ]
  },
  {
   "cell_type": "code",
   "execution_count": null,
   "metadata": {},
   "outputs": [],
   "source": [
    "monaco_mlc[0,:,:]"
   ]
  },
  {
   "cell_type": "code",
   "execution_count": null,
   "metadata": {},
   "outputs": [],
   "source": [
    "dcm_mlc[0,:,:]"
   ]
  },
  {
   "cell_type": "code",
   "execution_count": null,
   "metadata": {},
   "outputs": [],
   "source": [
    "diff[0,:,:]"
   ]
  },
  {
   "cell_type": "code",
   "execution_count": null,
   "metadata": {},
   "outputs": [],
   "source": [
    "np.where(np.abs(diff) > 0.09)"
   ]
  },
  {
   "cell_type": "code",
   "execution_count": null,
   "metadata": {},
   "outputs": [],
   "source": []
  }
 ],
 "metadata": {
  "kernelspec": {
   "display_name": "pymedphys-master",
   "language": "python",
   "name": "pymedphys-master"
  },
  "language_info": {
   "codemirror_mode": {
    "name": "ipython",
    "version": 3
   },
   "file_extension": ".py",
   "mimetype": "text/x-python",
   "name": "python",
   "nbconvert_exporter": "python",
   "pygments_lexer": "ipython3",
   "version": "3.7.0"
  }
 },
 "nbformat": 4,
 "nbformat_minor": 4
}
