{
 "cells": [
  {
   "cell_type": "markdown",
   "metadata": {},
   "source": [
    "# Directly compare Monaco to Elekta Linac iCOM\n",
    "\n",
    "This notebook uses the PyMedPhys library to compare the collected iCOM delivery data directly to the recorded plan within Monaco's tel files.\n",
    "\n",
    "![PyMedPhys](https://docs.pymedphys.com/_static/pymedphys.svg)"
   ]
  },
  {
   "cell_type": "markdown",
   "metadata": {},
   "source": [
    "## Description of method\n",
    "\n",
    "There are a few key stages required to make this notebook work. Firstly the iCOM stream from the Linac needs to be recorded to disk, this iCOM stream then needs to be archived and grouped by patient.\n",
    "\n",
    "Once these iCOM streams are running the plan needs to be delivered on the machine being listened to. From this point the iCOM stream is then able to be compared directly to the Monaco tel file.\n",
    "\n",
    "This comparison is done by calculating an MU Density upon which the difference is reported on using the Gamma comparison tool.\n",
    "\n",
    "### iCOM stream service\n",
    "\n",
    "A Windows service is created to listen to the iCOM stream. This service is made from a `.bat` file, an example of which can be seen at:\n",
    "\n",
    "> https://github.com/CCA-Physics/physics-server/blob/69c06ad/RCCC/icom/harry_listening.bat\n",
    "\n",
    "To create this service the [`nssm`](https://nssm.cc/) tool is used, with an example of its usage available at:\n",
    "\n",
    "> https://github.com/CCA-Physics/physics-server/blob/69c06ad/RCCC/icom/services-install.bat\n",
    "\n",
    "**Warning: Take Note**\n",
    "\n",
    "A force closing of the service which is listening to the iCOM stream done in such a way that it is not able to properly close down the listening socket will cause the Linac being listened to raise an interlock which won't interupt the beam, but it will not let a new beam be delivered until the machine is logged out of and re-logged back in.\n",
    "\n",
    "This can happen when the service is force killed, the host machine is force shutdown, or the network connection is abruptly disconnected. Normal shutdown of the service or machine should not have this effect.\n",
    "\n",
    "### Grouping iCOM stream by patient\n",
    "\n",
    "For the iCOM stream to be easily indexed in the future deliveries are stored by patient id and name. This is done by setting up a `.bat` file to run on machine boot. An example `.bat` file that achieves this can be seen at:\n",
    "\n",
    "> https://github.com/CCA-Physics/physics-server/blob/69c06ad/RCCC/icom/patient_archiving.bat\n",
    "\n",
    "### Reading the iCOM file, Monaco file, and comparing them\n",
    "\n",
    "The resulting files are then loaded into a PyMedPhys Delivery object from which an MU Density can be calculated and used as a comparison and reporting tool.\n",
    "\n",
    "These steps will be further expanded on below, prior to the lines of code that implement them."
   ]
  },
  {
   "cell_type": "markdown",
   "metadata": {},
   "source": [
    "## Importing the required libraries"
   ]
  },
  {
   "cell_type": "markdown",
   "metadata": {},
   "source": [
    "### Third party libraries"
   ]
  },
  {
   "cell_type": "code",
   "execution_count": null,
   "metadata": {},
   "outputs": [],
   "source": [
    "import os\n",
    "import pathlib  # for filepath path tooling\n",
    "import lzma  # to decompress the iCOM file\n",
    "\n",
    "import numpy as np  # for array tooling\n",
    "import matplotlib.pyplot as plt  # for plotting"
   ]
  },
  {
   "cell_type": "markdown",
   "metadata": {},
   "source": [
    "### Importing PyMedPhys\n",
    "\n",
    "PyMedPhys contains all the tooling to log the iCOM stream, read the iCOM stream, read Monaco tel files, create an MU Density, and compare the results using a Gamma implementation\n",
    "\n",
    "![PyMedPhys](https://docs.pymedphys.com/_static/pymedphys.svg)"
   ]
  },
  {
   "cell_type": "code",
   "execution_count": null,
   "metadata": {},
   "outputs": [],
   "source": [
    "# Makes it so that any changes in pymedphys is automatically\n",
    "# propagated into the notebook without needing a kernel reset.\n",
    "from IPython.lib.deepreload import reload\n",
    "%load_ext autoreload\n",
    "%autoreload 2"
   ]
  },
  {
   "cell_type": "code",
   "execution_count": null,
   "metadata": {},
   "outputs": [],
   "source": [
    "import pymedphys"
   ]
  },
  {
   "cell_type": "markdown",
   "metadata": {},
   "source": [
    "## Patient ID Configuration\n",
    "\n",
    "Provide here the Patient ID, this will be used to look up the iCOM file record as well as the Monaco tel file record."
   ]
  },
  {
   "cell_type": "code",
   "execution_count": null,
   "metadata": {},
   "outputs": [],
   "source": [
    "patient_id = '015231'"
   ]
  },
  {
   "cell_type": "markdown",
   "metadata": {},
   "source": [
    "## File Path Configurations\n",
    "\n",
    "Here is where the various root paths of the data has been stored."
   ]
  },
  {
   "cell_type": "markdown",
   "metadata": {},
   "source": [
    "### Input directories"
   ]
  },
  {
   "cell_type": "code",
   "execution_count": null,
   "metadata": {},
   "outputs": [],
   "source": [
    "icom_directory = pathlib.Path(r'\\\\physics-server\\iComLogFiles\\patients')\n",
    "monaco_directory = pathlib.Path(r'\\\\monacoda\\FocalData\\RCCC\\1~Clinical')"
   ]
  },
  {
   "cell_type": "markdown",
   "metadata": {},
   "source": [
    "### Output directories\n",
    "\n",
    "The `output_directory` below presents the location where raw results are saved for the permanent record.\n",
    "\n",
    "The `pdf_directory` is designed to be a sub-directory of the Mosaiq eScan directory so that created PDFs can be easily imported into Mosaiq for reporting purposes."
   ]
  },
  {
   "cell_type": "code",
   "execution_count": null,
   "metadata": {},
   "outputs": [],
   "source": [
    "output_directory = pathlib.Path(r'S:\\Physics\\Patient Specific Logfile Fluence')\n",
    "pdf_directory = pathlib.Path(r'P:\\Scanned Documents\\RT\\PhysChecks\\Logfile PDFs')"
   ]
  },
  {
   "cell_type": "markdown",
   "metadata": {},
   "source": [
    "## MU Density and Gamma configuration\n",
    "\n",
    "MU Density and Gamma have a range of options available to them. Here are is where those options are configured."
   ]
  },
  {
   "cell_type": "code",
   "execution_count": null,
   "metadata": {},
   "outputs": [],
   "source": [
    "GRID = pymedphys.mudensity.grid()\n",
    "COORDS = (GRID[\"jaw\"], GRID[\"mlc\"])\n",
    "\n",
    "GAMMA_OPTIONS = {\n",
    "    'dose_percent_threshold': 2,  # Not actually comparing dose though\n",
    "    'distance_mm_threshold': 0.5,\n",
    "    'local_gamma': True,\n",
    "    'quiet': True,\n",
    "    'max_gamma': 2,\n",
    "}"
   ]
  },
  {
   "cell_type": "markdown",
   "metadata": {},
   "source": [
    "## Choosing from the available Monaco Plans and iCOM Deliveries\n",
    "\n",
    "For the Patient ID provided the following two cells list out all the `tel` files and `iCOM` delivery files that were found. Run both of these cells below and then choose the appropriate plan and delivery in the third cell."
   ]
  },
  {
   "cell_type": "markdown",
   "metadata": {},
   "source": [
    "### Monaco Plans"
   ]
  },
  {
   "cell_type": "code",
   "execution_count": null,
   "metadata": {},
   "outputs": [],
   "source": [
    "all_tel_paths = list(monaco_directory.glob(f'*~{patient_id}/plan/*/*tel.1'))\n",
    "all_tel_paths = sorted(all_tel_paths, key=os.path.getmtime)\n",
    "all_tel_paths"
   ]
  },
  {
   "cell_type": "code",
   "execution_count": null,
   "metadata": {},
   "outputs": [],
   "source": [
    "plan_names_to_choose_from = [\n",
    "    f'{path.parent.name}/{path.name}' for path in all_tel_paths\n",
    "]\n",
    "plan_names_to_choose_from"
   ]
  },
  {
   "cell_type": "markdown",
   "metadata": {},
   "source": [
    "### iCOM Deliveries"
   ]
  },
  {
   "cell_type": "code",
   "execution_count": null,
   "metadata": {},
   "outputs": [],
   "source": [
    "icom_deliveries = list(icom_directory.glob(f'{patient_id}_*/*.xz'))\n",
    "icom_deliveries = sorted(icom_deliveries, key=os.path.getmtime)\n",
    "icom_deliveries"
   ]
  },
  {
   "cell_type": "code",
   "execution_count": null,
   "metadata": {},
   "outputs": [],
   "source": [
    "icom_files_to_choose_from = [\n",
    "    path.stem for path in icom_deliveries\n",
    "]\n",
    "icom_files_to_choose_from"
   ]
  },
  {
   "cell_type": "markdown",
   "metadata": {},
   "source": [
    "### Plan and iCOM choice\n",
    "\n",
    "Provide the directory name for the monaco plan and the timestamp for the iCOM delivery which you wish to compare."
   ]
  },
  {
   "cell_type": "code",
   "execution_count": null,
   "metadata": {},
   "outputs": [],
   "source": [
    "monaco_plan_and_file_name = 'nosereplan/tel.1'  # plan directory and file name\n",
    "icom_deliveries = ['20200326_111939']  # iCOM timestamps"
   ]
  },
  {
   "cell_type": "markdown",
   "metadata": {},
   "source": [
    "### Resulting paths found matching provided search query"
   ]
  },
  {
   "cell_type": "code",
   "execution_count": null,
   "metadata": {},
   "outputs": [],
   "source": [
    "tel_path = list(monaco_directory.glob(f'*~{patient_id}/plan/{monaco_plan_and_file_name}'))[-1]\n",
    "tel_path"
   ]
  },
  {
   "cell_type": "code",
   "execution_count": null,
   "metadata": {},
   "outputs": [],
   "source": [
    "icom_paths = []\n",
    "\n",
    "for icom_delivery in icom_deliveries:\n",
    "    icom_paths += list(icom_directory.glob(f'{patient_id}_*/{icom_delivery}.xz'))\n",
    "\n",
    "icom_paths"
   ]
  },
  {
   "cell_type": "markdown",
   "metadata": {},
   "source": [
    "## Loading the iCOM file\n",
    "\n",
    "In order to save space on disk the patient iCOM streams are compressed using `lzma`. The following code opens these compressed files and gets the raw iCOM stream."
   ]
  },
  {
   "cell_type": "code",
   "execution_count": null,
   "metadata": {},
   "outputs": [],
   "source": [
    "icom_streams = []\n",
    "\n",
    "for icom_path in icom_paths:\n",
    "    with lzma.open(icom_path, 'r') as f:\n",
    "        icom_streams += [f.read()]"
   ]
  },
  {
   "cell_type": "markdown",
   "metadata": {},
   "source": [
    "## Delivery Objects\n",
    "\n",
    "Within PyMedPhys there is a `Delivery` object. This object can be created from a range of sources such as RT Plan DICOM files, Mosaiq SQL queries, iCOM data, trf log files, as well as Monaco tel files.\n",
    "\n",
    "From this `Delivery` object many tasks can be undergone. The available methods and attributes on the `Delivery` object are given below:"
   ]
  },
  {
   "cell_type": "code",
   "execution_count": null,
   "metadata": {},
   "outputs": [],
   "source": [
    "# Print out available methods and attributes on the Delivery object\n",
    "[command for command in dir(pymedphys.Delivery) if not command.startswith('_')]"
   ]
  },
  {
   "cell_type": "markdown",
   "metadata": {},
   "source": [
    "### Creating the Delivery Objects\n",
    "\n",
    "We can create two of these `Delivery` objects, one from the iCOM stream, and the other from the Monaco tel file."
   ]
  },
  {
   "cell_type": "code",
   "execution_count": null,
   "metadata": {},
   "outputs": [],
   "source": [
    "deliveries_icom = []\n",
    "\n",
    "for icom_stream in icom_streams:\n",
    "    deliveries_icom += [pymedphys.Delivery.from_icom(icom_stream)]"
   ]
  },
  {
   "cell_type": "code",
   "execution_count": null,
   "metadata": {},
   "outputs": [],
   "source": [
    "delivery_tel = pymedphys.Delivery.from_monaco(tel_path)"
   ]
  },
  {
   "cell_type": "markdown",
   "metadata": {},
   "source": [
    "### Using the Delivery Objects\n",
    "\n",
    "Once we have two Delivery objects we can calculate the MU Density of these. Of note, this same method of using the `Delivery` object can also be employed to compare to an RT Plan file, Elekta Linac TRF log file, or Mosaiq SQL."
   ]
  },
  {
   "cell_type": "code",
   "execution_count": null,
   "metadata": {},
   "outputs": [],
   "source": [
    "mudensity_tel = delivery_tel.mudensity()"
   ]
  },
  {
   "cell_type": "code",
   "execution_count": null,
   "metadata": {},
   "outputs": [],
   "source": [
    "mudensity_icom = np.zeros_like(mudensity_tel)\n",
    "\n",
    "for path, delivery_icom in zip(icom_paths, deliveries_icom):\n",
    "    print(path)\n",
    "    mudensity_icom = mudensity_icom + delivery_icom.mudensity()"
   ]
  },
  {
   "cell_type": "markdown",
   "metadata": {},
   "source": [
    "## Calculating Gamma\n",
    "\n",
    "PyMedPhys also has within it tooling to calculate Gamma. This is done below."
   ]
  },
  {
   "cell_type": "code",
   "execution_count": null,
   "metadata": {},
   "outputs": [],
   "source": [
    "def to_tuple(array):\n",
    "    return tuple(map(tuple, array))\n",
    "\n",
    "gamma = pymedphys.gamma(\n",
    "    COORDS,\n",
    "    to_tuple(mudensity_tel),\n",
    "    COORDS,\n",
    "    to_tuple(mudensity_icom),\n",
    "    **GAMMA_OPTIONS\n",
    ")"
   ]
  },
  {
   "cell_type": "markdown",
   "metadata": {},
   "source": [
    "## Create Plotting and Reporting Functions\n",
    "\n",
    "So that we can view the result as well as create a PDF that can be stored within Mosaiq the following functions create these plots using the `matplotlib` library."
   ]
  },
  {
   "cell_type": "code",
   "execution_count": null,
   "metadata": {},
   "outputs": [],
   "source": [
    "def plot_gamma_hist(gamma, percent, dist):\n",
    "    valid_gamma = gamma[~np.isnan(gamma)]\n",
    "\n",
    "    plt.hist(valid_gamma, 50, density=True)\n",
    "    pass_ratio = np.sum(valid_gamma <= 1) / len(valid_gamma)\n",
    "\n",
    "    plt.title(\n",
    "        \"Local Gamma ({0}%/{1}mm) | Percent Pass: {2:.2f} % | Max Gamma: {3:.2f}\".format(\n",
    "            percent, dist, pass_ratio * 100, np.max(valid_gamma)\n",
    "        )\n",
    "    )"
   ]
  },
  {
   "cell_type": "code",
   "execution_count": null,
   "metadata": {},
   "outputs": [],
   "source": [
    "def plot_and_save_results(\n",
    "    mudensity_tel,\n",
    "    mudensity_icom,\n",
    "    gamma,\n",
    "    png_filepath,\n",
    "    pdf_filepath,\n",
    "    header_text=\"\",\n",
    "    footer_text=\"\",\n",
    "):\n",
    "    diff = mudensity_icom - mudensity_tel\n",
    "    largest_item = np.max(np.abs(diff))\n",
    "\n",
    "    widths = [1, 1]\n",
    "    heights = [0.3, 1, 1, 1, 0.1]\n",
    "    gs_kw = dict(width_ratios=widths, height_ratios=heights)\n",
    "\n",
    "    fig, axs = plt.subplots(5, 2, figsize=(10, 16), gridspec_kw=gs_kw)\n",
    "    gs = axs[0, 0].get_gridspec()\n",
    "\n",
    "    for ax in axs[0, 0:]:\n",
    "        ax.remove()\n",
    "\n",
    "    for ax in axs[1, 0:]:\n",
    "        ax.remove()\n",
    "\n",
    "    for ax in axs[4, 0:]:\n",
    "        ax.remove()\n",
    "\n",
    "    axheader = fig.add_subplot(gs[0, :])\n",
    "    axhist = fig.add_subplot(gs[1, :])\n",
    "    axfooter = fig.add_subplot(gs[4, :])\n",
    "\n",
    "    axheader.axis(\"off\")\n",
    "    axfooter.axis(\"off\")\n",
    "\n",
    "    axheader.text(0, 0, header_text, ha=\"left\", wrap=True, fontsize=30)\n",
    "    axfooter.text(0, 1, footer_text, ha=\"left\", va=\"top\", wrap=True, fontsize=6)\n",
    "\n",
    "    plt.sca(axs[2, 0])\n",
    "    pymedphys.mudensity.display(GRID, mudensity_tel)\n",
    "    axs[2, 0].set_title(\"Monaco Plan MU Density\")\n",
    "\n",
    "    plt.sca(axs[2, 1])\n",
    "    pymedphys.mudensity.display(GRID, mudensity_icom)\n",
    "    axs[2, 1].set_title(\"Recorded iCOM MU Density\")\n",
    "\n",
    "    plt.sca(axs[3, 0])\n",
    "    pymedphys.mudensity.display(\n",
    "        GRID, diff, cmap=\"seismic\", vmin=-largest_item, vmax=largest_item\n",
    "    )\n",
    "    plt.title(\"iCOM - Monaco\")\n",
    "\n",
    "    plt.sca(axs[3, 1])\n",
    "    pymedphys.mudensity.display(GRID, gamma, cmap=\"coolwarm\", vmin=0, vmax=2)\n",
    "    plt.title(\n",
    "        \"Local Gamma | \"\n",
    "        f\"{GAMMA_OPTIONS['dose_percent_threshold']}%/\"\n",
    "        f\"{GAMMA_OPTIONS['distance_mm_threshold']}mm\")\n",
    "\n",
    "    plt.sca(axhist)\n",
    "    plot_gamma_hist(\n",
    "        gamma, \n",
    "        GAMMA_OPTIONS['dose_percent_threshold'], \n",
    "        GAMMA_OPTIONS['distance_mm_threshold'])\n",
    "\n",
    "    return fig"
   ]
  },
  {
   "cell_type": "markdown",
   "metadata": {},
   "source": [
    "## Plotting and saving the report\n",
    "\n",
    "Now that have our data, and have formatted our report as we wish let's create and save this report as a png."
   ]
  },
  {
   "cell_type": "code",
   "execution_count": null,
   "metadata": {},
   "outputs": [],
   "source": [
    "results_dir = output_directory.joinpath(patient_id, tel_path.parent.name, icom_path.stem)\n",
    "results_dir.mkdir(exist_ok=True, parents=True)\n",
    "\n",
    "header_text = (\n",
    "    f\"Patient ID: {patient_id}\\n\"\n",
    "    f\"Plan Name: {tel_path.parent.name}\\n\"\n",
    ")\n",
    "\n",
    "icom_path_strings = '\\n    '.join([str(icom_path) for icom_path in icom_paths])\n",
    "\n",
    "footer_text = (\n",
    "    f\"tel.1 file path: {str(tel_path)}\\n\"\n",
    "    f\"icom file path(s): {icom_path_strings}\\n\"\n",
    "    f\"results path: {str(results_dir)}\"\n",
    ")\n",
    "\n",
    "png_filepath = str(results_dir.joinpath(\"result.png\").resolve())\n",
    "pdf_filepath = str(pdf_directory.joinpath(f\"{patient_id}-{monaco_plan_and_file_name.replace('/','-')}.pdf\").resolve())\n",
    "\n",
    "fig = plot_and_save_results(\n",
    "    mudensity_tel, mudensity_icom, \n",
    "    gamma, png_filepath, pdf_filepath, \n",
    "    header_text=header_text, footer_text=footer_text\n",
    ")\n",
    "\n",
    "fig.tight_layout()\n",
    "plt.savefig(png_filepath, dpi=300)\n",
    "plt.show()"
   ]
  },
  {
   "cell_type": "markdown",
   "metadata": {},
   "source": [
    "## Converting PNG to PDF for importing into Mosaiq\n",
    "\n",
    "To create a pdf, the just created png file can be converted to pdf. To do this the tool [`imagemagick`](https://imagemagick.org/) needs to be installed on your system. If you install this now you will need to reset your Jupyter server in a new command prompt so that the `magick` command is available within your path."
   ]
  },
  {
   "cell_type": "code",
   "execution_count": null,
   "metadata": {},
   "outputs": [],
   "source": [
    "!magick convert \"{png_filepath}\" \"{pdf_filepath}\""
   ]
  },
  {
   "cell_type": "markdown",
   "metadata": {},
   "source": [
    "## Uploading to Mosaiq\n",
    "\n",
    "This created PDF should now be within your eSCAN directory and it can be uploaded onto the patient record."
   ]
  },
  {
   "cell_type": "markdown",
   "metadata": {},
   "source": [
    "## Further work\n",
    "\n",
    "All of the above is able to be automated as long as there is a robust way to align iCOM delivery records to the correct corresponding Monaco tel file."
   ]
  }
 ],
 "metadata": {
  "kernelspec": {
   "display_name": "pymedphys-master",
   "language": "python",
   "name": "pymedphys-master"
  },
  "language_info": {
   "codemirror_mode": {
    "name": "ipython",
    "version": 3
   },
   "file_extension": ".py",
   "mimetype": "text/x-python",
   "name": "python",
   "nbconvert_exporter": "python",
   "pygments_lexer": "ipython3",
   "version": "3.7.0"
  }
 },
 "nbformat": 4,
 "nbformat_minor": 4
}
