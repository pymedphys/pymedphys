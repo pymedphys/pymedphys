{
 "cells": [
  {
   "cell_type": "code",
   "execution_count": null,
   "metadata": {},
   "outputs": [],
   "source": [
    "%load_ext autoreload\n",
    "%autoreload 2"
   ]
  },
  {
   "cell_type": "code",
   "execution_count": null,
   "metadata": {},
   "outputs": [],
   "source": [
    "import re\n",
    "from glob import glob\n",
    "\n",
    "import numpy as np\n",
    "import pandas as pd\n",
    "import matplotlib.pyplot as plt\n",
    "% matplotlib inline\n",
    "\n",
    "import pymedphys.electronfactors as electronfactors"
   ]
  },
  {
   "cell_type": "code",
   "execution_count": null,
   "metadata": {},
   "outputs": [],
   "source": [
    "data_filename = r'S:\\Physics\\RCCC Specific Files\\Dosimetry\\Elekta_EFacs\\electron_factor_measured_data.csv'\n",
    "data = pd.read_csv(data_filename)"
   ]
  },
  {
   "cell_type": "code",
   "execution_count": null,
   "metadata": {},
   "outputs": [],
   "source": [
    "width_data = data['Width (cm @ 100SSD)']\n",
    "length_data = data['Length (cm @ 100SSD)']\n",
    "factor_data = data['RCCC Inverse factor (dose open / dose cutout)']\n",
    "\n",
    "p_on_a_data = electronfactors.convert2_ratio_perim_area(\n",
    "    width_data, length_data)"
   ]
  },
  {
   "cell_type": "code",
   "execution_count": null,
   "metadata": {},
   "outputs": [],
   "source": [
    "rect_width = 5 / .95\n",
    "rect_length = 8 / .95"
   ]
  },
  {
   "cell_type": "code",
   "execution_count": null,
   "metadata": {},
   "outputs": [],
   "source": [
    "x = [\n",
    "    -rect_width/2, rect_width/2, rect_width/2, -rect_width/2, -rect_width/2\n",
    "]\n",
    "\n",
    "y = [\n",
    "    rect_length/2, rect_length/2, -rect_length/2, -rect_length/2, rect_length/2\n",
    "]"
   ]
  },
  {
   "cell_type": "code",
   "execution_count": null,
   "metadata": {},
   "outputs": [],
   "source": [
    "rect_width"
   ]
  },
  {
   "cell_type": "code",
   "execution_count": null,
   "metadata": {},
   "outputs": [],
   "source": [
    "width, length = electronfactors.model_and_display(\n",
    "    x, y\n",
    ")"
   ]
  },
  {
   "cell_type": "code",
   "execution_count": null,
   "metadata": {},
   "outputs": [],
   "source": [
    "assert np.allclose(rect_width, width)"
   ]
  },
  {
   "cell_type": "code",
   "execution_count": null,
   "metadata": {},
   "outputs": [],
   "source": [
    "p_on_a = electronfactors.convert2_ratio_perim_area(width, length)"
   ]
  },
  {
   "cell_type": "code",
   "execution_count": null,
   "metadata": {},
   "outputs": [],
   "source": [
    "energy = 12\n",
    "applicator = 10\n",
    "ssd = 100\n",
    "\n",
    "reference = (\n",
    "    (data['Energy (MeV)'] == energy) &\n",
    "    (data['Applicator (cm)'] == applicator) &\n",
    "    (data['SSD (cm)'] == ssd)\n",
    ")\n",
    "\n",
    "electronfactors.spline_model_with_deformability(\n",
    "    width,\n",
    "    p_on_a,\n",
    "    width_data[reference], \n",
    "    p_on_a_data[reference],\n",
    "    factor_data[reference]\n",
    ")"
   ]
  },
  {
   "cell_type": "code",
   "execution_count": null,
   "metadata": {},
   "outputs": [],
   "source": [
    "number_of_measurements = np.sum(reference)\n",
    "number_of_measurements"
   ]
  },
  {
   "cell_type": "code",
   "execution_count": null,
   "metadata": {},
   "outputs": [],
   "source": [
    "electronfactors.plot_model(width_data[reference], length_data[reference], factor_data[reference])"
   ]
  },
  {
   "cell_type": "code",
   "execution_count": null,
   "metadata": {},
   "outputs": [],
   "source": [
    "weighted_difference_squares = (\n",
    "    (width_data[reference] - width) ** 2 + \n",
    "    0.5 * (length_data[reference] - length) ** 2\n",
    ")\n",
    "closest_cutout = np.argmin(weighted_difference_squares)\n",
    "closest_width = width_data[reference][closest_cutout]\n",
    "closest_length = length_data[reference][closest_cutout]\n",
    "closest_factor = factor_data[reference][closest_cutout]\n",
    "print('')\n",
    "print(\n",
    "    \"Closest cutout within data\\n\"\n",
    "    \"  Width: {0:0.2f} cm\\n\"\n",
    "    \"  Length: {1:0.2f} cm\\n\"\n",
    "    \"  Factor: {2:0.3f}\".format(closest_width, closest_length, closest_factor)\n",
    ")"
   ]
  },
  {
   "cell_type": "code",
   "execution_count": null,
   "metadata": {},
   "outputs": [],
   "source": []
  },
  {
   "cell_type": "code",
   "execution_count": null,
   "metadata": {},
   "outputs": [],
   "source": []
  }
 ],
 "metadata": {
  "anaconda-cloud": {},
  "kernelspec": {
   "display_name": "Python 3",
   "language": "python",
   "name": "python3"
  },
  "language_info": {
   "codemirror_mode": {
    "name": "ipython",
    "version": 3
   },
   "file_extension": ".py",
   "mimetype": "text/x-python",
   "name": "python",
   "nbconvert_exporter": "python",
   "pygments_lexer": "ipython3",
   "version": "3.7.1"
  }
 },
 "nbformat": 4,
 "nbformat_minor": 2
}
