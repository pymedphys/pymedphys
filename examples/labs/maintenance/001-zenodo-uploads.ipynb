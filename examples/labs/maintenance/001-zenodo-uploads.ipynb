{
 "cells": [
  {
   "cell_type": "code",
   "execution_count": null,
   "metadata": {},
   "outputs": [],
   "source": [
    "import pathlib\n",
    "import hashlib\n",
    "import json\n",
    "import functools\n",
    "import getpass\n",
    "import urllib\n",
    "\n",
    "import requests\n",
    "import keyring"
   ]
  },
  {
   "cell_type": "code",
   "execution_count": null,
   "metadata": {},
   "outputs": [],
   "source": [
    "def get_zenodo_access_token(hostname):\n",
    "    access_token = keyring.get_password(\"Zenodo\", hostname)\n",
    "\n",
    "    if access_token is None or access_token == \"\":\n",
    "        print(\n",
    "            \"To upload files to Zenodo you need to provide a Zenodo \"\n",
    "            \"access token. Please go to \"\n",
    "            f\"<https://{hostname}/account/settings/applications/tokens/new/>, \"\n",
    "            \"login to Zenodo and create a new access token.\\n\"\n",
    "            \"When creating the access token use the scopes `deposit:actions`, `deposit:write`, \"\n",
    "            \"and `user:email`. Once you have your token copy it into the prompt below \"\n",
    "            \"to continue with the upload.\"\n",
    "        )\n",
    "        access_token = getpass.getpass()\n",
    "        keyring.set_password(\"Zenodo\", hostname, access_token)\n",
    "\n",
    "    return access_token"
   ]
  },
  {
   "cell_type": "code",
   "execution_count": null,
   "metadata": {},
   "outputs": [],
   "source": [
    "def zenodo_api_with_helpful_fallback(url, method, **kwargs):\n",
    "    hostname = urllib.parse.urlparse(url).hostname \n",
    "    \n",
    "    access_token = get_zenodo_access_token(hostname)\n",
    "    kwargs['params'] = {'access_token': access_token}\n",
    "    \n",
    "    r = getattr(requests, method)(url, **kwargs)\n",
    "    if r.status_code == 401:\n",
    "        print(\"The access token you provided is invalid.\\n\")\n",
    "        keyring.delete_password(\"Zenodo\", hostname)\n",
    "        return zenodo_api_with_helpful_fallback(url, **kwargs)\n",
    "    if r.status_code == 403:\n",
    "        print(\n",
    "            \"The access token you provided doesn't appear to have the right scopes. \"\n",
    "            \"Make sure that the access token you provide has the scopes \"\n",
    "            \"`deposit:actions`, `deposit:write`, and `user:email`.\\n\"\n",
    "        )\n",
    "        keyring.delete_password(\"Zenodo\", hostname)\n",
    "        return zenodo_api_with_helpful_fallback(url, **kwargs)\n",
    "    \n",
    "    return r"
   ]
  },
  {
   "cell_type": "code",
   "execution_count": null,
   "metadata": {},
   "outputs": [],
   "source": [
    "def create_metadata(title, author=None):\n",
    "    if author is None:\n",
    "        author = 'PyMedPhys Contributors'\n",
    "    \n",
    "    metadata = {\n",
    "        'metadata': {\n",
    "            'title': title,\n",
    "            'upload_type': 'dataset',\n",
    "            'creators': [{'name': author}],\n",
    "            'description': \"<p>This is an automated upload from the PyMedPhys library.</p>\",\n",
    "            'license': 'Apache-2.0',\n",
    "            'access_right': 'open',\n",
    "        }\n",
    "    }\n",
    "    \n",
    "    return json.dumps(metadata)"
   ]
  },
  {
   "cell_type": "code",
   "execution_count": null,
   "metadata": {},
   "outputs": [],
   "source": [
    "def upload_zenodo_file(filepath, title, author=None, use_sandbox=False):\n",
    "    filepath = pathlib.Path(filepath)\n",
    "    \n",
    "    if use_sandbox:\n",
    "        zenodo_url = 'https://sandbox.zenodo.org/'\n",
    "    else:\n",
    "        zenodo_url = 'https://zenodo.org/'\n",
    "    \n",
    "    depositions_url = f\"{zenodo_url}api/deposit/depositions\"\n",
    "    \n",
    "    headers = {\"Content-Type\": \"application/json\"}\n",
    "    r = zenodo_api_with_helpful_fallback(\n",
    "        depositions_url, 'post', json={}, headers=headers)\n",
    "    \n",
    "    deposition_id = r.json()['id']\n",
    "    deposition_url = f\"{depositions_url}/{deposition_id}\"\n",
    "    files_url = f\"{deposition_url}/files\"\n",
    "    \n",
    "    md5 = hashlib.md5()\n",
    "    with open(filepath, 'rb') as upload_file:\n",
    "        md5.update(upload_file.read())\n",
    "        \n",
    "        upload_file.seek(0)\n",
    "        r = zenodo_api_with_helpful_fallback(\n",
    "            files_url,\n",
    "            'post',\n",
    "            data={'name': filepath.name},\n",
    "            files={'file': upload_file}\n",
    "        )\n",
    "        \n",
    "    if md5.hexdigest() != r.json()['checksum']:\n",
    "        raise ValueError(\n",
    "            \"The uploaded Zenodo's checksum does not match the local checksum.\\n\"\n",
    "            f\"  Zenodo's Checksum: {r.json()['checksum']}\\n\"\n",
    "            f\"  Local Checksum: {md5.hexdigest()}\"\n",
    "        )\n",
    "        \n",
    "    zenodo_api_with_helpful_fallback(\n",
    "        deposition_url,\n",
    "        'put',\n",
    "        data=create_metadata(title, author),\n",
    "        headers=headers\n",
    "    )\n",
    "    \n",
    "    publish_url = f\"{deposition_url}/actions/publish\"\n",
    "    r = zenodo_api_with_helpful_fallback(publish_url, 'post')\n",
    "    \n",
    "    if r.status_code != 202:\n",
    "        raise ValueError(\n",
    "            f\"Unexpected status code when publishing the file. Expected 202, got {r.status_code}.\"\n",
    "        )\n"
   ]
  },
  {
   "cell_type": "code",
   "execution_count": null,
   "metadata": {},
   "outputs": [],
   "source": [
    "upload_zenodo_file('test.txt', 'a_test', author='Biggs, Simon', use_sandbox=True)"
   ]
  },
  {
   "cell_type": "code",
   "execution_count": null,
   "metadata": {},
   "outputs": [],
   "source": []
  },
  {
   "cell_type": "code",
   "execution_count": null,
   "metadata": {},
   "outputs": [],
   "source": []
  },
  {
   "cell_type": "code",
   "execution_count": null,
   "metadata": {},
   "outputs": [],
   "source": []
  },
  {
   "cell_type": "code",
   "execution_count": null,
   "metadata": {},
   "outputs": [],
   "source": []
  }
 ],
 "metadata": {
  "kernelspec": {
   "display_name": "pymedphys-master",
   "language": "python",
   "name": "pymedphys-master"
  },
  "language_info": {
   "codemirror_mode": {
    "name": "ipython",
    "version": 3
   },
   "file_extension": ".py",
   "mimetype": "text/x-python",
   "name": "python",
   "nbconvert_exporter": "python",
   "pygments_lexer": "ipython3",
   "version": "3.7.5"
  }
 },
 "nbformat": 4,
 "nbformat_minor": 4
}
