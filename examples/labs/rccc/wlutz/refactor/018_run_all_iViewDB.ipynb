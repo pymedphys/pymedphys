{
 "cells": [
  {
   "cell_type": "code",
   "execution_count": null,
   "metadata": {},
   "outputs": [],
   "source": [
    "%load_ext autoreload\n",
    "%autoreload 2"
   ]
  },
  {
   "cell_type": "code",
   "execution_count": null,
   "metadata": {},
   "outputs": [],
   "source": [
    "import pathlib\n",
    "\n",
    "import IPython.display\n",
    "\n",
    "import numpy as np\n",
    "import pandas as pd\n",
    "import matplotlib.pyplot as plt\n",
    "\n",
    "import scipy.interpolate\n",
    "import scipy.signal\n",
    "\n",
    "import pymedphys\n",
    "import pymedphys._wlutz.iview"
   ]
  },
  {
   "cell_type": "code",
   "execution_count": null,
   "metadata": {},
   "outputs": [],
   "source": [
    "indexed_dir = pathlib.Path(r'S:\\DataExchange\\iViewDB_decoded\\indexed')\n",
    "movie_dirs = list(indexed_dir.glob('*/*/*/*/*'))\n",
    "movie_dirs"
   ]
  },
  {
   "cell_type": "code",
   "execution_count": null,
   "metadata": {},
   "outputs": [],
   "source": [
    "wlutz_results = {}"
   ]
  },
  {
   "cell_type": "code",
   "execution_count": null,
   "metadata": {},
   "outputs": [],
   "source": [
    "edge_lengths = [20, 24]\n",
    "pd.set_option(\"display.max_rows\", 101)"
   ]
  },
  {
   "cell_type": "code",
   "execution_count": null,
   "metadata": {},
   "outputs": [],
   "source": [
    "for directory in movie_dirs:\n",
    "    image_paths = list(directory.glob('*.png'))\n",
    "    print(image_paths)\n",
    "    wlutz_results[directory] = pymedphys._wlutz.iview.batch_process(image_paths, edge_lengths, display_figure=True)\n",
    "    \n",
    "    IPython.display.display(wlutz_results[directory])"
   ]
  },
  {
   "cell_type": "code",
   "execution_count": null,
   "metadata": {
    "jupyter": {
     "outputs_hidden": true
    }
   },
   "outputs": [],
   "source": [
    "for directory in movie_dirs:\n",
    "    try:\n",
    "        wlutz_results[directory]\n",
    "    except KeyError:\n",
    "        image_paths = list(directory.glob('*.png'))\n",
    "        print(image_paths)\n",
    "        \n",
    "        try:\n",
    "            wlutz_results[directory] = pymedphys._wlutz.iview.batch_process(image_paths, edge_lengths, display_figure=True)\n",
    "            IPython.display.display(wlutz_results[directory])\n",
    "        except ValueError:\n",
    "            continue"
   ]
  },
  {
   "cell_type": "code",
   "execution_count": null,
   "metadata": {},
   "outputs": [],
   "source": [
    "for directory in movie_dirs:\n",
    "    try:\n",
    "        wlutz_results[directory]\n",
    "    except KeyError:\n",
    "        image_paths = list(directory.glob('*.png'))\n",
    "        print(image_paths)\n",
    "        \n",
    "        try:\n",
    "            wlutz_results[directory] = pymedphys._wlutz.iview.batch_process(image_paths, edge_lengths, display_figure=True)\n",
    "            IPython.display.display(wlutz_results[directory])\n",
    "        except ValueError:\n",
    "            continue"
   ]
  },
  {
   "cell_type": "code",
   "execution_count": null,
   "metadata": {},
   "outputs": [],
   "source": [
    "for directory in movie_dirs:\n",
    "    try:\n",
    "        wlutz_results[directory]\n",
    "    except KeyError:\n",
    "        image_paths = list(directory.glob('*.png'))\n",
    "        print(image_paths)\n",
    "        \n",
    "        try:\n",
    "            wlutz_results[directory] = pymedphys._wlutz.iview.batch_process(image_paths, edge_lengths, display_figure=True)\n",
    "            IPython.display.display(wlutz_results[directory])\n",
    "        except ValueError:\n",
    "            continue"
   ]
  },
  {
   "cell_type": "code",
   "execution_count": null,
   "metadata": {},
   "outputs": [],
   "source": [
    "for key, table in wlutz_results.items():\n",
    "    print(key)\n",
    "    IPython.display.display(table)"
   ]
  },
  {
   "cell_type": "code",
   "execution_count": null,
   "metadata": {},
   "outputs": [],
   "source": [
    "keys = list(wlutz_results.keys())\n",
    "keys"
   ]
  },
  {
   "cell_type": "code",
   "execution_count": null,
   "metadata": {},
   "outputs": [],
   "source": [
    "direction_keys = [\n",
    "    key.parent.stem for key in keys\n",
    "]\n",
    "\n",
    "direction_keys"
   ]
  },
  {
   "cell_type": "code",
   "execution_count": null,
   "metadata": {},
   "outputs": [],
   "source": [
    "rotations = [\n",
    "    wlutz_results[key]['Rotation']\n",
    "    for key in keys\n",
    "]\n",
    "\n",
    "\n",
    "\n",
    "\n",
    "lt_zero = rotations[0] < 0\n",
    "\n",
    "gantry = np.empty_like(rotations[0])\n",
    "gantry[lt_zero] = -180 - rotations[0][lt_zero]\n",
    "\n",
    "gte_zero = np.invert(lt_zero)\n",
    "\n",
    "gantry[gte_zero] = 180 - rotations[0][gte_zero]\n",
    "\n",
    "gantry"
   ]
  },
  {
   "cell_type": "code",
   "execution_count": null,
   "metadata": {},
   "outputs": [],
   "source": [
    "gantry = []\n",
    "\n",
    "for i, direction_key in enumerate(direction_keys):\n",
    "\n",
    "    if direction_keys[i] == '00_CW':\n",
    "        diff = np.diff(np.concatenate([[-180], rotations[i]]))\n",
    "        diff[diff > 0] = diff[diff > 0] - 180\n",
    "\n",
    "        gantry.append(-180 - np.cumsum(diff * 2))\n",
    "    elif direction_keys[i] == '01_CC':\n",
    "        diff = np.diff(np.concatenate([[0], rotations[i]]))\n",
    "        diff[diff < 0] = diff[diff < 0] + 180\n",
    "\n",
    "        gantry.append(180 - np.cumsum(diff * 2))\n",
    "    else:\n",
    "        raise ValueError(\"Expected one of '00_CW' or '01_CC'\")\n",
    "\n",
    "\n",
    "    \n",
    "gantry"
   ]
  },
  {
   "cell_type": "code",
   "execution_count": null,
   "metadata": {},
   "outputs": [],
   "source": [
    "bb_x = [\n",
    "    wlutz_results[key]['BB x'] for key in keys\n",
    "]\n",
    "bb_y = [\n",
    "    wlutz_results[key]['BB y'] for key in keys\n",
    "]"
   ]
  },
  {
   "cell_type": "code",
   "execution_count": null,
   "metadata": {},
   "outputs": [],
   "source": [
    "gantry"
   ]
  },
  {
   "cell_type": "code",
   "execution_count": null,
   "metadata": {},
   "outputs": [],
   "source": [
    "bb_x"
   ]
  },
  {
   "cell_type": "code",
   "execution_count": null,
   "metadata": {},
   "outputs": [],
   "source": [
    "scipy.interpolate.interp1d?"
   ]
  },
  {
   "cell_type": "code",
   "execution_count": null,
   "metadata": {},
   "outputs": [],
   "source": [
    "interp_bb_x = [\n",
    "    scipy.interpolate.interp1d(g, x, bounds_error=False, fill_value='extrapolate')\n",
    "    for g, x in zip(gantry, bb_x)\n",
    "]\n",
    "\n",
    "def get_avg_bb_x(gantry):\n",
    "    results = []\n",
    "    \n",
    "    for interp in interp_bb_x:\n",
    "        results.append(interp(gantry))\n",
    "        \n",
    "    return (np.min(results, axis=0) + np.max(results, axis=0))/2\n",
    "\n",
    "\n",
    "interp_bb_y = [\n",
    "    scipy.interpolate.interp1d(g, y, bounds_error=False, fill_value='extrapolate')\n",
    "    for g, y in zip(gantry, bb_y)\n",
    "]\n",
    "\n",
    "def get_avg_bb_y(gantry):\n",
    "    results = []\n",
    "    \n",
    "    for interp in interp_bb_y:\n",
    "        results.append(interp(gantry))\n",
    "    \n",
    "    return (np.min(results, axis=0) + np.max(results, axis=0))/2\n",
    "\n",
    "get_avg_bb_y([0, 2])"
   ]
  },
  {
   "cell_type": "code",
   "execution_count": null,
   "metadata": {},
   "outputs": [],
   "source": []
  },
  {
   "cell_type": "code",
   "execution_count": null,
   "metadata": {},
   "outputs": [],
   "source": [
    "# gantry_all = np.concatenate(gantry)\n",
    "# ind = np.argsort(gantry_all)\n",
    "# sorted_gantry = gantry_all[ind]\n",
    "\n",
    "# within_bounds = np.logical_and(sorted_gantry <= 180, sorted_gantry >= -180)\n",
    "# sorted_gantry = sorted_gantry[within_bounds]\n",
    "\n",
    "# sorted_bb_x = np.concatenate(bb_x)[ind][within_bounds]\n",
    "# sorted_bb_y = np.concatenate(bb_y)[ind][within_bounds]"
   ]
  },
  {
   "cell_type": "code",
   "execution_count": null,
   "metadata": {},
   "outputs": [],
   "source": [
    "# b, a = scipy.signal.butter(3, 0.05)\n",
    "# filtered_bb_x = scipy.signal.filtfilt(b, a, sorted_bb_x)\n",
    "# filtered_bb_y = scipy.signal.filtfilt(b, a, sorted_bb_y)"
   ]
  },
  {
   "cell_type": "code",
   "execution_count": null,
   "metadata": {},
   "outputs": [],
   "source": [
    "# plt.plot(sorted_gantry, filtered_bb_x)"
   ]
  },
  {
   "cell_type": "code",
   "execution_count": null,
   "metadata": {},
   "outputs": [],
   "source": [
    "# unique_gantry, unique_inverse = np.unique(sorted_gantry, return_inverse=True)\n",
    "# inc = np.arange(len(unique_inverse))\n",
    "\n",
    "# make_unique = np.ones((len(unique_gantry), len(unique_inverse))) * np.nan\n",
    "# make_unique[unique_inverse, inc] = sorted_bb_x\n",
    "# striclty_increasing_bb_x = np.nanmean(make_unique, axis=1)\n",
    "\n",
    "# make_unique[unique_inverse, inc] = sorted_bb_y\n",
    "# striclty_increasing_bb_y = np.nanmean(make_unique, axis=1)"
   ]
  },
  {
   "cell_type": "code",
   "execution_count": null,
   "metadata": {},
   "outputs": [],
   "source": [
    "# def predict_bb_pos(gantry, gantry_range=10):\n",
    "#     gantry = np.array(gantry)\n",
    "    \n",
    "#     lte = gantry[:,None] - gantry_range <= gantry_all[None,:]\n",
    "#     gte = gantry[:,None] + gantry_range >= gantry_all[None,:]\n",
    "#     in_range = np.logical_and(lte, gte)\n",
    "    \n",
    "#     sorted_bb_x\n",
    "    \n",
    "#     return in_range\n",
    "    \n",
    "    \n",
    "# predict_bb_pos([0, 1], gantry_range=10)"
   ]
  },
  {
   "cell_type": "code",
   "execution_count": null,
   "metadata": {},
   "outputs": [],
   "source": [
    "# unique_gantry = np.unique(sorted_gantry)\n",
    "# bb_x_interp = scipy.interpolate.interp1d(sorted_gantry, filtered_bb_x, bounds_error=False)\n",
    "# bb_y_interp = scipy.interpolate.interp1d(sorted_gantry, filtered_bb_y, bounds_error=False)"
   ]
  },
  {
   "cell_type": "code",
   "execution_count": null,
   "metadata": {},
   "outputs": [],
   "source": [
    "# bb_x_interp = scipy.interpolate.UnivariateSpline(unique_gantry, strictly_increasing_bb_x, s=0.1)\n",
    "# bb_y_interp = scipy.interpolate.UnivariateSpline(unique_gantry, strictly_increasing_bb_y, s=1)\n",
    "\n",
    "gantry_i = np.linspace(-180, 180, 91)"
   ]
  },
  {
   "cell_type": "code",
   "execution_count": null,
   "metadata": {},
   "outputs": [],
   "source": [
    "for i, key in enumerate(keys):   \n",
    "    plt.plot(gantry[i], bb_x[i], '.')\n",
    "    \n",
    "plt.plot(gantry_i, get_avg_bb_x(gantry_i))\n",
    "plt.xlim([-180, 180])"
   ]
  },
  {
   "cell_type": "code",
   "execution_count": null,
   "metadata": {},
   "outputs": [],
   "source": [
    "for i, key in enumerate(keys):\n",
    "    plt.plot(gantry[i], bb_y[i], '.')\n",
    "\n",
    "plt.plot(gantry_i, get_avg_bb_y(gantry_i))\n",
    "plt.xlim([-180, 180])"
   ]
  },
  {
   "cell_type": "code",
   "execution_count": null,
   "metadata": {},
   "outputs": [],
   "source": []
  }
 ],
 "metadata": {
  "kernelspec": {
   "display_name": "pymedphys-master",
   "language": "python",
   "name": "pymedphys-master"
  },
  "language_info": {
   "codemirror_mode": {
    "name": "ipython",
    "version": 3
   },
   "file_extension": ".py",
   "mimetype": "text/x-python",
   "name": "python",
   "nbconvert_exporter": "python",
   "pygments_lexer": "ipython3",
   "version": "3.7.5"
  }
 },
 "nbformat": 4,
 "nbformat_minor": 4
}
