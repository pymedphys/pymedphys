{
 "cells": [
  {
   "cell_type": "code",
   "execution_count": null,
   "metadata": {},
   "outputs": [],
   "source": [
    "%load_ext autoreload\n",
    "%autoreload 2"
   ]
  },
  {
   "cell_type": "code",
   "execution_count": null,
   "metadata": {},
   "outputs": [],
   "source": [
    "import pathlib\n",
    "import json\n",
    "\n",
    "import IPython.display\n",
    "\n",
    "import numpy as np\n",
    "import pandas as pd\n",
    "import matplotlib.pyplot as plt\n",
    "\n",
    "import scipy.interpolate\n",
    "import scipy.signal\n",
    "\n",
    "import pymedphys\n",
    "import pymedphys._wlutz.bbpredict\n",
    "import pymedphys._wlutz.pylinac\n",
    "import pymedphys._wlutz.iview\n",
    "import pymedphys._wlutz.imginterp\n",
    "import pymedphys._wlutz.findfield\n",
    "import pymedphys._wlutz.findbb\n",
    "import pymedphys._wlutz.reporting"
   ]
  },
  {
   "cell_type": "code",
   "execution_count": null,
   "metadata": {},
   "outputs": [],
   "source": [
    "output_dir = pathlib.Path('results')"
   ]
  },
  {
   "cell_type": "code",
   "execution_count": null,
   "metadata": {},
   "outputs": [],
   "source": [
    "penumbra = 2\n",
    "edge_lengths = [20, 24]\n",
    "initial_rotation = 0\n",
    "bb_diameter = 8\n",
    "\n",
    "pd.set_option(\"display.max_rows\", 101)"
   ]
  },
  {
   "cell_type": "code",
   "execution_count": null,
   "metadata": {},
   "outputs": [],
   "source": [
    "frame_paths_list = pymedphys.zip_data_paths(\"wlutz_arc_session.zip\", check_hashes=False)\n",
    "\n",
    "frame = [path.stem.split('_')[1] for path in frame_paths_list]\n",
    "timestamps = [path.parent.stem for path in frame_paths_list]\n",
    "directions = [path.parent.parent.stem for path in frame_paths_list]\n",
    "beams = [path.parent.parent.parent.stem for path in frame_paths_list]\n",
    "\n",
    "keys = list(zip(beams, directions, timestamps, frame))\n",
    "\n",
    "image_paths = {\n",
    "    key: path for key, path in zip(keys, frame_paths_list)\n",
    "}"
   ]
  },
  {
   "cell_type": "code",
   "execution_count": null,
   "metadata": {},
   "outputs": [],
   "source": [
    "key_map = {\n",
    "    key: '-'.join(key) for key in keys\n",
    "}\n",
    "\n",
    "inv_key_map = {\n",
    "    item: key for key, item in key_map.items()\n",
    "}"
   ]
  },
  {
   "cell_type": "code",
   "execution_count": null,
   "metadata": {},
   "outputs": [],
   "source": [
    "movie_keys = list({\n",
    "    key[0:3] for key in keys\n",
    "})"
   ]
  },
  {
   "cell_type": "code",
   "execution_count": null,
   "metadata": {},
   "outputs": [],
   "source": [
    "movie_output_dirs = {}\n",
    "\n",
    "for key in movie_keys:\n",
    "    movie_output_dirs[key] = output_dir.joinpath(f\"{key[0]} {key[1]} {key[2]}\")\n",
    "    movie_output_dirs[key].mkdir(exist_ok=True)"
   ]
  },
  {
   "cell_type": "code",
   "execution_count": null,
   "metadata": {},
   "outputs": [],
   "source": [
    "try:\n",
    "    with open('session_cache.json', 'r') as a_file:\n",
    "        data_string_keys = json.load(a_file)\n",
    "    \n",
    "    data = {\n",
    "        inv_key_map[key]: item for key, item in data_string_keys.items()\n",
    "    }\n",
    "except FileNotFoundError:\n",
    "    data = {}"
   ]
  },
  {
   "cell_type": "code",
   "execution_count": null,
   "metadata": {},
   "outputs": [],
   "source": [
    "def plot_pylinac_comparison(field, bb_diameter, edge_lengths, penumbra, field_centre, field_rotation, pylinac):\n",
    "    bb_centre = pymedphys._wlutz.findbb.optimise_bb_centre(\n",
    "        field, bb_diameter, edge_lengths, penumbra, field_centre, field_rotation, pylinac_tol=np.inf\n",
    "    )\n",
    "    \n",
    "    fig = pymedphys._wlutz.reporting.image_analysis_figure(\n",
    "        x,\n",
    "        y,\n",
    "        img,\n",
    "        bb_centre,\n",
    "        field_centre,\n",
    "        field_rotation,\n",
    "        bb_diameter,\n",
    "        edge_lengths,\n",
    "        penumbra,\n",
    "    )\n",
    "\n",
    "    plt.title('PyMedPhys Basinhopping Method')\n",
    "\n",
    "    \n",
    "    fig = pymedphys._wlutz.reporting.image_analysis_figure(\n",
    "        x,\n",
    "        y,\n",
    "        img,\n",
    "        pylinac['v2.2.6']['bb_centre'],\n",
    "        pylinac['v2.2.6']['field_centre'],\n",
    "        field_rotation,\n",
    "        bb_diameter,\n",
    "        edge_lengths,\n",
    "        penumbra,\n",
    "    )\n",
    "\n",
    "    plt.title('Pylinac v2.2.6 Filter and Profile Method')\n",
    "\n",
    "\n",
    "    fig = pymedphys._wlutz.reporting.image_analysis_figure(\n",
    "        x,\n",
    "        y,\n",
    "        img,\n",
    "        pylinac['v2.2.7']['bb_centre'],\n",
    "        pylinac['v2.2.7']['field_centre'],\n",
    "        field_rotation,\n",
    "        bb_diameter,\n",
    "        edge_lengths,\n",
    "        penumbra,\n",
    "    )\n",
    "\n",
    "    plt.title('Pylinac v2.2.7 Filter and Scikit-Image Method')\n",
    "\n",
    "    \n",
    "    \n",
    "    plt.show()"
   ]
  },
  {
   "cell_type": "code",
   "execution_count": null,
   "metadata": {
    "jupyter": {
     "outputs_hidden": true
    }
   },
   "outputs": [],
   "source": [
    "for key, image_path in image_paths.items():\n",
    "    try:\n",
    "        this_data = data[key]\n",
    "        pymedphys_data = this_data['pymedphys']\n",
    "    except KeyError:\n",
    "        this_data = {}\n",
    "        pymedphys_data = {}\n",
    "        this_data['pymedphys'] = pymedphys_data\n",
    "        data[key] = this_data\n",
    "    \n",
    "    try:\n",
    "        pymedphys_data['field_centre']\n",
    "        pymedphys_data['field_rotation']\n",
    "        this_data['pylinac']\n",
    "        pymedphys_data['bb_centre']\n",
    "    except KeyError:\n",
    "        print(key)\n",
    "        x, y, img = pymedphys._wlutz.iview.iview_image_transform(image_path)\n",
    "\n",
    "        field = pymedphys._wlutz.imginterp.create_interpolated_field(x, y, img)\n",
    "        initial_centre = pymedphys._wlutz.findfield._initial_centre(x, y, img)\n",
    "    \n",
    "    try:\n",
    "        pymedphys_data['field_centre']\n",
    "        pymedphys_data['field_rotation']\n",
    "    except KeyError:\n",
    "    \n",
    "        try:\n",
    "            pymedphys_data['field_centre'], pymedphys_data['field_rotation'] = pymedphys._wlutz.findfield.field_centre_and_rotation_refining(\n",
    "                field, edge_lengths, penumbra, initial_centre, initial_rotation=initial_rotation\n",
    "            )            \n",
    "        except ValueError as e:\n",
    "            print(e)\n",
    "            continue  \n",
    "        \n",
    "        pymedphys_data['field_centre'] = pymedphys_data['field_centre']\n",
    "        pymedphys_data['field_rotation'] = pymedphys_data['field_rotation']\n",
    "    \n",
    "    try:\n",
    "        this_data['pylinac']\n",
    "    except KeyError:\n",
    "        try:\n",
    "            this_data['pylinac'] = pymedphys._wlutz.pylinac.run_wlutz(\n",
    "                field, edge_lengths, penumbra, pymedphys_data['field_centre'], pymedphys_data['field_rotation'])\n",
    "        except Exception as e:\n",
    "            print(e)\n",
    "            pass\n",
    "    \n",
    "    \n",
    "    try:\n",
    "        pymedphys_data['bb_centre']\n",
    "    except KeyError:\n",
    "        try:\n",
    "            pymedphys_data['bb_centre'] = pymedphys._wlutz.findbb.optimise_bb_centre(\n",
    "                field, bb_diameter, edge_lengths, penumbra, pymedphys_data['field_centre'], pymedphys_data['field_rotation']\n",
    "            )\n",
    "        except pymedphys._wlutz.pylinac.PylinacComparisonDeviation as e:\n",
    "            print(e)\n",
    " \n",
    "            plot_pylinac_comparison(\n",
    "                field, bb_diameter, edge_lengths, penumbra, pymedphys_data['field_centre'], pymedphys_data['field_rotation'],\n",
    "                this_data['pylinac']\n",
    "            )\n",
    "\n",
    "            continue\n",
    "        except ValueError as e:\n",
    "            print(e)\n",
    "            continue\n",
    "    \n",
    "        pymedphys_data['bb_centre'] = pymedphys_data['bb_centre']"
   ]
  },
  {
   "cell_type": "code",
   "execution_count": null,
   "metadata": {},
   "outputs": [],
   "source": []
  },
  {
   "cell_type": "code",
   "execution_count": null,
   "metadata": {},
   "outputs": [],
   "source": [
    "data_for_json = {\n",
    "    key_map[key]: item for key, item in data.items()\n",
    "}\n",
    "\n",
    "with open('session_cache.json', 'w') as a_file:\n",
    "    json.dump(data_for_json, a_file, indent=2)"
   ]
  },
  {
   "cell_type": "code",
   "execution_count": null,
   "metadata": {},
   "outputs": [],
   "source": []
  },
  {
   "cell_type": "code",
   "execution_count": null,
   "metadata": {},
   "outputs": [],
   "source": [
    "for key, image_path in image_paths.items():\n",
    "    print(key)\n",
    "    try:\n",
    "        this_data = data[key]\n",
    "        pymedphys_data = this_data['pymedphys']\n",
    "    except KeyError:\n",
    "        continue\n",
    "        \n",
    "    x, y, img = pymedphys._wlutz.iview.iview_image_transform(image_path)\n",
    "\n",
    "    try:\n",
    "        fig = pymedphys._wlutz.reporting.image_analysis_figure(\n",
    "            x,\n",
    "            y,\n",
    "            img,\n",
    "            pymedphys_data['bb_centre'],\n",
    "            pymedphys_data['field_centre'],\n",
    "            pymedphys_data['field_rotation'],\n",
    "            bb_diameter,\n",
    "            edge_lengths,\n",
    "            penumbra,\n",
    "        )\n",
    "\n",
    "        plt.title('PyMedPhys Basinhopping Method')\n",
    "        plt.tight_layout()\n",
    "        plt.savefig(movie_output_dirs[key[0:3]].joinpath(f\"frame_{key[3]}_PyMedPhys.png\"))\n",
    "        plt.close()\n",
    "    except KeyError:\n",
    "        pass\n",
    "    \n",
    "    try:\n",
    "        pylinac = this_data['pylinac']\n",
    "    except KeyError:\n",
    "        continue\n",
    "    \n",
    "\n",
    "    fig = pymedphys._wlutz.reporting.image_analysis_figure(\n",
    "        x,\n",
    "        y,\n",
    "        img,\n",
    "        pylinac['v2.2.6']['bb_centre'],\n",
    "        pylinac['v2.2.6']['field_centre'],\n",
    "        pymedphys_data['field_rotation'],\n",
    "        bb_diameter,\n",
    "        edge_lengths,\n",
    "        penumbra,\n",
    "    )\n",
    "\n",
    "    plt.title('Pylinac v2.2.6 Filter and Profile Method')\n",
    "    plt.tight_layout()\n",
    "    plt.savefig(movie_output_dirs[key[0:3]].joinpath(f\"frame_{key[3]}_Pylinac_v2.2.6.png\"))\n",
    "    plt.close()\n",
    "\n",
    "\n",
    "\n",
    "    fig = pymedphys._wlutz.reporting.image_analysis_figure(\n",
    "        x,\n",
    "        y,\n",
    "        img,\n",
    "        pylinac['v2.2.7']['bb_centre'],\n",
    "        pylinac['v2.2.7']['field_centre'],\n",
    "        pymedphys_data['field_rotation'],\n",
    "        bb_diameter,\n",
    "        edge_lengths,\n",
    "        penumbra,\n",
    "    )\n",
    "\n",
    "    plt.title('Pylinac v2.2.7 Filter and Scikit-Image Method')\n",
    "    plt.tight_layout()\n",
    "    plt.savefig(movie_output_dirs[key[0:3]].joinpath(f\"frame_{key[3]}_Pylinac_v2.2.7.png\"))\n",
    "    plt.close()\n",
    "\n",
    "    "
   ]
  },
  {
   "cell_type": "code",
   "execution_count": null,
   "metadata": {},
   "outputs": [],
   "source": []
  },
  {
   "cell_type": "code",
   "execution_count": null,
   "metadata": {},
   "outputs": [],
   "source": []
  },
  {
   "cell_type": "code",
   "execution_count": null,
   "metadata": {},
   "outputs": [],
   "source": []
  },
  {
   "cell_type": "code",
   "execution_count": null,
   "metadata": {},
   "outputs": [],
   "source": [
    "\n",
    "movie_data_dicts = {\n",
    "    movie_key: {\n",
    "        int(key[3]): item for key, item in data.items()\n",
    "        if key[0:3] == movie_key\n",
    "    }\n",
    "    for movie_key in movie_keys\n",
    "}\n",
    "\n",
    "# movie_data_dicts[movie_keys[0]]"
   ]
  },
  {
   "cell_type": "code",
   "execution_count": null,
   "metadata": {},
   "outputs": [],
   "source": [
    "movie_data = {\n",
    "    movie_key: [item[frame_key] for frame_key in sorted(item.keys())]\n",
    "    for movie_key, item in movie_data_dicts.items()\n",
    "}\n",
    "\n",
    "# movie_data"
   ]
  },
  {
   "cell_type": "code",
   "execution_count": null,
   "metadata": {},
   "outputs": [],
   "source": [
    "# movie_keys"
   ]
  },
  {
   "cell_type": "code",
   "execution_count": null,
   "metadata": {},
   "outputs": [],
   "source": []
  },
  {
   "cell_type": "code",
   "execution_count": null,
   "metadata": {},
   "outputs": [],
   "source": [
    "def extract_data(keys, data, lookup_func):\n",
    "    result = {}\n",
    "\n",
    "    for key in keys:\n",
    "        result[key] = []\n",
    "        for item in data[key]:\n",
    "            try:\n",
    "                result[key].append(lookup_func(item))\n",
    "            except KeyError:\n",
    "                result[key].append(np.nan)\n",
    "\n",
    "        result[key] = np.array(result[key])\n",
    "        \n",
    "    return result\n"
   ]
  },
  {
   "cell_type": "code",
   "execution_count": null,
   "metadata": {},
   "outputs": [],
   "source": []
  },
  {
   "cell_type": "code",
   "execution_count": null,
   "metadata": {},
   "outputs": [],
   "source": [
    "pymedphys_field_rotations = extract_data(movie_keys, movie_data, lambda x: x['pymedphys']['field_rotation'])"
   ]
  },
  {
   "cell_type": "code",
   "execution_count": null,
   "metadata": {},
   "outputs": [],
   "source": [
    "# pymedphys_field_rotations"
   ]
  },
  {
   "cell_type": "code",
   "execution_count": null,
   "metadata": {},
   "outputs": [],
   "source": [
    "# pymedphys_field_rotations = {}\n",
    "\n",
    "# for key in movie_keys:\n",
    "#     pymedphys_field_rotations[key] = []\n",
    "#     for item in movie_data[key]:\n",
    "#         try:\n",
    "#             pymedphys_field_rotations[key].append(item['pymedphys']['field_rotation'])\n",
    "#         except KeyError:\n",
    "#             pass\n",
    "        \n",
    "#     pymedphys_field_rotations[key] = np.array(rotations[key])"
   ]
  },
  {
   "cell_type": "code",
   "execution_count": null,
   "metadata": {},
   "outputs": [],
   "source": [
    "def determine_gantry_angle(direction_key, rotation):\n",
    "    not_nan = np.invert(np.isnan(rotation))\n",
    "    nan_removed_rotation = rotation[not_nan]\n",
    "    \n",
    "    if direction_key == 'clockwise':\n",
    "        diff = np.diff(np.concatenate([[-180], nan_removed_rotation]))\n",
    "        diff[diff > 0] = diff[diff > 0] - 180\n",
    "\n",
    "        gantry = -180 - np.cumsum(diff * 2)\n",
    "    elif direction_key == 'counter-clockwise':\n",
    "        diff = np.diff(np.concatenate([[0], nan_removed_rotation]))\n",
    "        diff[diff < 0] = diff[diff < 0] + 180\n",
    "\n",
    "        gantry = 180 - np.cumsum(diff * 2)\n",
    "    else:\n",
    "        raise ValueError(\"Expected one of 'clockwise' or 'counter-clockwise'\")\n",
    "        \n",
    "    gantry_with_nans = np.ones_like(rotation) * np.nan\n",
    "    out_of_bounds = np.logical_or(gantry < -180, gantry > 180)\n",
    "    gantry[out_of_bounds] = np.nan\n",
    "    gantry_with_nans[not_nan] = gantry\n",
    "        \n",
    "    return gantry_with_nans"
   ]
  },
  {
   "cell_type": "code",
   "execution_count": null,
   "metadata": {},
   "outputs": [],
   "source": [
    "# movie_keys[2]"
   ]
  },
  {
   "cell_type": "code",
   "execution_count": null,
   "metadata": {},
   "outputs": [],
   "source": [
    "# pymedphys_field_rotations[movie_keys[2]]"
   ]
  },
  {
   "cell_type": "code",
   "execution_count": null,
   "metadata": {},
   "outputs": [],
   "source": [
    "gantry_angles = {}\n",
    "\n",
    "for key in movie_keys:\n",
    "    direction_key = key[1]\n",
    "    rotation = pymedphys_field_rotations[key]\n",
    "    \n",
    "    gantry_angles[key] = determine_gantry_angle(direction_key, rotation)\n",
    "    \n",
    "# gantry_angles"
   ]
  },
  {
   "cell_type": "code",
   "execution_count": null,
   "metadata": {},
   "outputs": [],
   "source": [
    "columns=[\n",
    "    'gantry_angle', 'field_x', 'field_y', 'bb_x', 'bb_y'\n",
    "]"
   ]
  },
  {
   "cell_type": "code",
   "execution_count": null,
   "metadata": {},
   "outputs": [],
   "source": [
    "prep_for_dataframe = [\n",
    "    gantry_angles,\n",
    "    extract_data(movie_keys, movie_data, lambda x: x['pymedphys']['field_centre'][0]),\n",
    "    extract_data(movie_keys, movie_data, lambda x: x['pymedphys']['field_centre'][1]),\n",
    "    extract_data(movie_keys, movie_data, lambda x: x['pymedphys']['bb_centre'][0]),\n",
    "    extract_data(movie_keys, movie_data, lambda x: x['pymedphys']['bb_centre'][1]),\n",
    "]"
   ]
  },
  {
   "cell_type": "code",
   "execution_count": null,
   "metadata": {},
   "outputs": [],
   "source": [
    "dataframes = {}\n",
    "\n",
    "for key in movie_keys:\n",
    "    dataframe = pd.DataFrame(\n",
    "        columns=columns,\n",
    "        data=np.vstack([\n",
    "            item[key] for item in prep_for_dataframe\n",
    "        ]).T\n",
    "    )\n",
    "    \n",
    "    dataframes[key] = dataframe"
   ]
  },
  {
   "cell_type": "code",
   "execution_count": null,
   "metadata": {},
   "outputs": [],
   "source": [
    "# for key in movie_keys:\n",
    "#     print(key)\n",
    "#     IPython.display.display(dataframes[key])"
   ]
  },
  {
   "cell_type": "code",
   "execution_count": null,
   "metadata": {},
   "outputs": [],
   "source": []
  },
  {
   "cell_type": "code",
   "execution_count": null,
   "metadata": {},
   "outputs": [],
   "source": [
    "bb_x_predictor_data = [\n",
    "    dataframes[key]['bb_x'] for key in movie_keys\n",
    "]\n",
    "bb_y_predictor_data = [\n",
    "    dataframes[key]['bb_y'] for key in movie_keys\n",
    "]\n",
    "gantry_predictor_data = [\n",
    "    gantry_angles[key] for key in movie_keys\n",
    "]\n",
    "direction_predictor_data = [key[1] for key in movie_keys]\n",
    "\n",
    "predict_bb = pymedphys._wlutz.bbpredict.create_bb_predictor(\n",
    "    bb_x_predictor_data, bb_y_predictor_data, gantry_predictor_data, direction_predictor_data)\n",
    "\n",
    "predict_bb([0, 2], 'clockwise')"
   ]
  },
  {
   "cell_type": "code",
   "execution_count": null,
   "metadata": {},
   "outputs": [],
   "source": [
    "# gantry_i = np.linspace(-180, 180, 91)\n",
    "# predict_bb(gantry_i, 'clockwise')"
   ]
  },
  {
   "cell_type": "code",
   "execution_count": null,
   "metadata": {},
   "outputs": [],
   "source": [
    "gantry_i = np.linspace(-180, 180, 401)"
   ]
  },
  {
   "cell_type": "code",
   "execution_count": null,
   "metadata": {},
   "outputs": [],
   "source": [
    "plt.figure(figsize=(12,10))\n",
    "\n",
    "for g, x, key in zip(gantry_predictor_data, bb_x_predictor_data, movie_keys):\n",
    "    if key[1] == 'clockwise':\n",
    "        prop = '-'\n",
    "    else:\n",
    "        prop = '--'\n",
    "        \n",
    "    plt.plot(g, x, prop, alpha=0.5, label=key[0:2])\n",
    "    \n",
    "plt.plot(gantry_i, predict_bb(gantry_i, 'clockwise')[0], 'k')\n",
    "plt.plot(gantry_i, predict_bb(gantry_i, 'counter-clockwise')[0], 'k--')\n",
    "plt.legend()\n",
    "\n",
    "plt.title(\"Absolute BB iView x position predictor\")\n",
    "plt.xlabel(\"Gantry Angle (deg)\")\n",
    "plt.ylabel(\"iView absolute x-position (mm)\")\n",
    "\n",
    "plt.savefig(output_dir.joinpath(\"Absolute BB x position predictor.png\"))"
   ]
  },
  {
   "cell_type": "code",
   "execution_count": null,
   "metadata": {},
   "outputs": [],
   "source": [
    "plt.figure(figsize=(12,10))\n",
    "\n",
    "for g, y, key in zip(gantry_predictor_data, bb_y_predictor_data, movie_keys):\n",
    "    if key[1] == 'clockwise':\n",
    "        prop = '-'\n",
    "    else:\n",
    "        prop = '--'\n",
    "        \n",
    "    plt.plot(g, y, prop, alpha=0.5, label=key[0:2])\n",
    "    \n",
    "plt.plot(gantry_i, predict_bb(gantry_i, 'clockwise')[1], 'k')\n",
    "plt.plot(gantry_i, predict_bb(gantry_i, 'counter-clockwise')[1], 'k--')\n",
    "plt.legend()\n",
    "\n",
    "plt.title(\"Absolute BB iView y position predictor\")\n",
    "plt.xlabel(\"Gantry Angle (deg)\")\n",
    "plt.ylabel(\"iView absolute y-position (mm)\")\n",
    "\n",
    "plt.savefig(output_dir.joinpath(\"Absolute BB y position predictor.png\"))"
   ]
  },
  {
   "cell_type": "code",
   "execution_count": null,
   "metadata": {},
   "outputs": [],
   "source": [
    "for key in movie_keys:\n",
    "    bb_x = dataframes[key]['bb_x'].copy()\n",
    "    bb_y = dataframes[key]['bb_y'].copy()\n",
    "    gantry = dataframes[key]['gantry_angle']\n",
    "    direction = key[1]\n",
    "    \n",
    "    isnan = np.isnan(bb_x)\n",
    "    assert np.all(isnan == np.isnan(bb_y))\n",
    "    \n",
    "    bb_x_prediction, bb_y_prediction = predict_bb(gantry[isnan], direction)\n",
    "    \n",
    "    bb_x[isnan] = bb_x_prediction\n",
    "    bb_y[isnan] = bb_y_prediction\n",
    "    \n",
    "    dataframes[key]['bb_x_with_predictions'] = bb_x\n",
    "    dataframes[key]['bb_y_with_predictions'] = bb_y"
   ]
  },
  {
   "cell_type": "code",
   "execution_count": null,
   "metadata": {},
   "outputs": [],
   "source": []
  },
  {
   "cell_type": "code",
   "execution_count": null,
   "metadata": {},
   "outputs": [],
   "source": [
    "for key in movie_keys:\n",
    "#     print(key)\n",
    "    \n",
    "    dataframes[key]['Field - BB x'] = dataframes[key]['field_x'] - dataframes[key]['bb_x_with_predictions']\n",
    "    dataframes[key]['Field - BB y'] = dataframes[key]['field_y'] - dataframes[key]['bb_y_with_predictions']\n",
    "    \n",
    "#     IPython.display.display(dataframes[key])"
   ]
  },
  {
   "cell_type": "code",
   "execution_count": null,
   "metadata": {},
   "outputs": [],
   "source": []
  },
  {
   "cell_type": "code",
   "execution_count": null,
   "metadata": {},
   "outputs": [],
   "source": [
    "def plot_enery_axis(energy, axis):\n",
    "    plt.figure(figsize=(12,10))\n",
    "\n",
    "    for key in movie_keys:\n",
    "        if key[0] == energy:\n",
    "            if key[1] == 'clockwise':\n",
    "                prop = '-'\n",
    "            else:\n",
    "                prop = '--'\n",
    "\n",
    "            plt.plot(\n",
    "                analysis_dataframes[key]['Gantry Angle'], \n",
    "                analysis_dataframes[key][f'Field - BB {axis}'], \n",
    "                prop, label=key[0:2], alpha=0.8)\n",
    "            \n",
    "    x = np.linspace(-180, 180)\n",
    "\n",
    "    if axis == 'y':\n",
    "        plt.plot(x, 0.6*np.cos(x*np.pi/180), 'k', label='\"Ideal\"')\n",
    "        plt.plot(x, 0.6*np.cos(x*np.pi/180)-0.5, 'r', label='0.5 mm \"bounds\"', alpha=0.2)\n",
    "        plt.plot(x, 0.6*np.cos(x*np.pi/180)+0.5, 'r', alpha=0.2)\n",
    "        \n",
    "    elif axis == 'x':\n",
    "        plt.plot(x, np.zeros_like(x), 'k', label='\"Ideal\"')\n",
    "        plt.plot(x, np.zeros_like(x)-0.5, 'r', label='0.5 mm \"bounds\"', alpha=0.2)\n",
    "        plt.plot(x, np.zeros_like(x)+0.5, 'r', alpha=0.2)\n",
    "\n",
    "    \n",
    "    plt.legend()\n",
    "    plt.title(f\"{energy} | iView panel {axis}-axis\")\n",
    "    plt.xlabel('Gantry (deg)')\n",
    "    plt.ylabel(f'Field centre - BB centre (mm)')\n",
    "    "
   ]
  },
  {
   "cell_type": "code",
   "execution_count": null,
   "metadata": {},
   "outputs": [],
   "source": [
    "energies = ['06MV', '10MV', '06FFF', '10FFF']\n",
    "axes = ['x', 'y']\n",
    "\n",
    "for energy in energies:\n",
    "    for axis in axes:\n",
    "        plot_enery_axis(energy, axis)\n",
    "        \n",
    "        plt.savefig(output_dir.joinpath(f\"{energy}_{axis}-axis.png\"))"
   ]
  },
  {
   "cell_type": "code",
   "execution_count": null,
   "metadata": {},
   "outputs": [],
   "source": [
    "for key in movie_keys:\n",
    "    print(key)\n",
    "    IPython.display.display(dataframes[key])\n",
    "    \n",
    "    dataframes[key].to_csv()"
   ]
  },
  {
   "cell_type": "code",
   "execution_count": null,
   "metadata": {},
   "outputs": [],
   "source": [
    "pd.DataFrame.to"
   ]
  }
 ],
 "metadata": {
  "kernelspec": {
   "display_name": "pymedphys-master",
   "language": "python",
   "name": "pymedphys-master"
  },
  "language_info": {
   "codemirror_mode": {
    "name": "ipython",
    "version": 3
   },
   "file_extension": ".py",
   "mimetype": "text/x-python",
   "name": "python",
   "nbconvert_exporter": "python",
   "pygments_lexer": "ipython3",
   "version": "3.7.0"
  }
 },
 "nbformat": 4,
 "nbformat_minor": 4
}
