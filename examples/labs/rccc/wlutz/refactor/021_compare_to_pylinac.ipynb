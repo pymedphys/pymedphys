{
 "cells": [
  {
   "cell_type": "code",
   "execution_count": null,
   "metadata": {},
   "outputs": [],
   "source": [
    "%load_ext autoreload\n",
    "%autoreload 2"
   ]
  },
  {
   "cell_type": "code",
   "execution_count": null,
   "metadata": {},
   "outputs": [],
   "source": [
    "import IPython.display\n",
    "\n",
    "import numpy as np\n",
    "import pandas as pd\n",
    "import matplotlib.pyplot as plt\n",
    "\n",
    "import pymedphys\n",
    "import pymedphys._wlutz.iview\n",
    "import pymedphys._wlutz.imginterp\n",
    "import pymedphys._wlutz.findfield\n",
    "import pymedphys._wlutz.findbb\n",
    "import pymedphys._wlutz.reporting\n",
    "\n",
    "import pymedphys._vendor.pylinac.winstonlutz"
   ]
  },
  {
   "cell_type": "code",
   "execution_count": null,
   "metadata": {},
   "outputs": [],
   "source": [
    "image_path = pymedphys.data_path('wlutz_image.png')"
   ]
  },
  {
   "cell_type": "code",
   "execution_count": null,
   "metadata": {},
   "outputs": [],
   "source": [
    "penumbra = 2\n",
    "edge_lengths = [20, 20]\n",
    "initial_rotation = 0\n",
    "bb_diameter = 8\n",
    "\n",
    "pd.set_option(\"display.max_rows\", 101)"
   ]
  },
  {
   "cell_type": "code",
   "execution_count": null,
   "metadata": {},
   "outputs": [],
   "source": [
    "x, y, img = pymedphys._wlutz.iview.iview_image_transform(image_path)\n",
    "\n",
    "field = pymedphys._wlutz.imginterp.create_interpolated_field(x, y, img)\n",
    "initial_centre = pymedphys._wlutz.findfield._initial_centre(x, y, img)\n",
    "\n",
    "\n",
    "field_centre, field_rotation = pymedphys._wlutz.findfield.field_centre_and_rotation_refining(\n",
    "    field, edge_lengths, penumbra, initial_centre, initial_rotation=initial_rotation\n",
    ")\n",
    "\n",
    "field_centre = np.round(field_centre, decimals=2).tolist()\n",
    "field_rotation = np.round(field_rotation, decimals=1)\n",
    "\n",
    "bb_centre = pymedphys._wlutz.findbb.optimise_bb_centre(\n",
    "    field, bb_diameter, edge_lengths, penumbra, field_centre, field_rotation\n",
    ")\n",
    "\n",
    "bb_centre = np.round(bb_centre, decimals=2).tolist()"
   ]
  },
  {
   "cell_type": "code",
   "execution_count": null,
   "metadata": {},
   "outputs": [],
   "source": [
    "bb_centre"
   ]
  },
  {
   "cell_type": "code",
   "execution_count": null,
   "metadata": {},
   "outputs": [],
   "source": [
    "field_centre"
   ]
  },
  {
   "cell_type": "code",
   "execution_count": null,
   "metadata": {},
   "outputs": [],
   "source": [
    "centralised_straight_field = pymedphys._wlutz.findbb.create_centralised_field(field, field_centre, field_rotation)\n",
    "half_x_range = edge_lengths[0]/2 + penumbra * 3\n",
    "half_y_range = edge_lengths[1]/2 + penumbra * 3\n",
    "\n",
    "pixel_size = 0.1\n",
    "\n",
    "x_range = np.arange(-half_x_range, half_x_range + pixel_size, pixel_size)\n",
    "y_range = np.arange(-half_y_range, half_y_range + pixel_size, pixel_size)\n",
    "\n",
    "xx_range, yy_range = np.meshgrid(x_range, y_range)\n",
    "centralised_image = centralised_straight_field(xx_range, yy_range)"
   ]
  },
  {
   "cell_type": "code",
   "execution_count": null,
   "metadata": {},
   "outputs": [],
   "source": [
    "half_x_range"
   ]
  },
  {
   "cell_type": "code",
   "execution_count": null,
   "metadata": {},
   "outputs": [],
   "source": [
    "np.shape(centralised_image)"
   ]
  },
  {
   "cell_type": "code",
   "execution_count": null,
   "metadata": {},
   "outputs": [],
   "source": [
    "pylinac_wlutz = pymedphys._vendor.pylinac.winstonlutz.WLImage(centralised_image)"
   ]
  },
  {
   "cell_type": "code",
   "execution_count": null,
   "metadata": {},
   "outputs": [],
   "source": [
    "centralised_pylinac_field_centre = [\n",
    "    pylinac_wlutz.field_cax.x * pixel_size - half_x_range,\n",
    "    pylinac_wlutz.field_cax.y * pixel_size - half_y_range\n",
    "]\n",
    "\n",
    "centralised_pylinac_bb_centre = [\n",
    "    pylinac_wlutz.bb.x * pixel_size - half_x_range,\n",
    "    pylinac_wlutz.bb.y * pixel_size - half_y_range\n",
    "]"
   ]
  },
  {
   "cell_type": "code",
   "execution_count": null,
   "metadata": {},
   "outputs": [],
   "source": [
    "centralised_pylinac_field_centre"
   ]
  },
  {
   "cell_type": "code",
   "execution_count": null,
   "metadata": {},
   "outputs": [],
   "source": [
    "pylinac_field_centre = pymedphys._wlutz.findbb.transform_bb_centre(centralised_pylinac_field_centre, field_centre, field_rotation)\n",
    "pylinac_bb_centre = pymedphys._wlutz.findbb.transform_bb_centre(centralised_pylinac_bb_centre, field_centre, field_rotation)\n",
    "\n",
    "pylinac_field_centre = np.round(pylinac_field_centre, decimals=2).tolist()\n",
    "pylinac_bb_centre = np.round(pylinac_bb_centre, decimals=2).tolist()"
   ]
  },
  {
   "cell_type": "code",
   "execution_count": null,
   "metadata": {},
   "outputs": [],
   "source": [
    "pylinac_bb_centre"
   ]
  },
  {
   "cell_type": "code",
   "execution_count": null,
   "metadata": {},
   "outputs": [],
   "source": [
    "pylinac_field_centre"
   ]
  },
  {
   "cell_type": "code",
   "execution_count": null,
   "metadata": {},
   "outputs": [],
   "source": [
    "field_centre"
   ]
  },
  {
   "cell_type": "code",
   "execution_count": null,
   "metadata": {},
   "outputs": [],
   "source": [
    "bb_centre"
   ]
  },
  {
   "cell_type": "code",
   "execution_count": null,
   "metadata": {},
   "outputs": [],
   "source": []
  },
  {
   "cell_type": "code",
   "execution_count": null,
   "metadata": {},
   "outputs": [],
   "source": []
  },
  {
   "cell_type": "code",
   "execution_count": null,
   "metadata": {},
   "outputs": [],
   "source": []
  },
  {
   "cell_type": "code",
   "execution_count": null,
   "metadata": {},
   "outputs": [],
   "source": []
  },
  {
   "cell_type": "code",
   "execution_count": null,
   "metadata": {},
   "outputs": [],
   "source": [
    "fig = pymedphys._wlutz.reporting.image_analysis_figure(\n",
    "    x,\n",
    "    y,\n",
    "    img,\n",
    "    bb_centre,\n",
    "    field_centre,\n",
    "    field_rotation,\n",
    "    bb_diameter,\n",
    "    edge_lengths,\n",
    "    penumbra,\n",
    ")"
   ]
  },
  {
   "cell_type": "code",
   "execution_count": null,
   "metadata": {},
   "outputs": [],
   "source": []
  },
  {
   "cell_type": "code",
   "execution_count": null,
   "metadata": {},
   "outputs": [],
   "source": []
  },
  {
   "cell_type": "code",
   "execution_count": null,
   "metadata": {},
   "outputs": [],
   "source": []
  },
  {
   "cell_type": "code",
   "execution_count": null,
   "metadata": {},
   "outputs": [],
   "source": []
  },
  {
   "cell_type": "code",
   "execution_count": null,
   "metadata": {},
   "outputs": [],
   "source": []
  },
  {
   "cell_type": "code",
   "execution_count": null,
   "metadata": {},
   "outputs": [],
   "source": []
  },
  {
   "cell_type": "code",
   "execution_count": null,
   "metadata": {},
   "outputs": [],
   "source": []
  },
  {
   "cell_type": "code",
   "execution_count": null,
   "metadata": {},
   "outputs": [],
   "source": []
  },
  {
   "cell_type": "code",
   "execution_count": null,
   "metadata": {},
   "outputs": [],
   "source": [
    "bb_bounds = pymedphys._wlutz.findbb.define_bb_bounds(bb_diameter, edge_lengths, penumbra)\n",
    "bb_bounds"
   ]
  },
  {
   "cell_type": "code",
   "execution_count": null,
   "metadata": {},
   "outputs": [],
   "source": [
    "bb_centre = (0, -7.5)\n",
    "pymedphys._wlutz.findbb.check_if_at_bounds(bb_centre, bb_bounds)"
   ]
  },
  {
   "cell_type": "code",
   "execution_count": null,
   "metadata": {},
   "outputs": [],
   "source": [
    "penumbra = 2\n",
    "edge_lengths = [20, 24]\n",
    "bb_diameter = 8\n",
    "\n",
    "bb_bounds = pymedphys._wlutz.findbb.define_bb_bounds(\n",
    "    bb_diameter, edge_lengths, penumbra\n",
    ")\n",
    "assert pymedphys._wlutz.findbb.check_if_at_bounds((0, -7.5), bb_bounds)\n",
    "assert not pymedphys._wlutz.findbb.check_if_at_bounds(\n",
    "    (0, -5.5), bb_bounds\n",
    ")\n",
    "assert pymedphys._wlutz.findbb.check_if_at_bounds((5.5, 0), bb_bounds)"
   ]
  },
  {
   "cell_type": "code",
   "execution_count": null,
   "metadata": {},
   "outputs": [],
   "source": []
  },
  {
   "cell_type": "code",
   "execution_count": null,
   "metadata": {},
   "outputs": [],
   "source": [
    "np.any(np.array(bb_centre[0]) == np.array(bb_bounds[0]))\n",
    "np.any(np.array(bb_centre[1]) == np.array(bb_bounds[1]))"
   ]
  },
  {
   "cell_type": "code",
   "execution_count": null,
   "metadata": {},
   "outputs": [],
   "source": [
    "np.any(np.array(bb_centre)[:,None,None] == np.array(bb_bounds)[None,:,:])"
   ]
  },
  {
   "cell_type": "code",
   "execution_count": null,
   "metadata": {},
   "outputs": [],
   "source": []
  }
 ],
 "metadata": {
  "kernelspec": {
   "display_name": "pymedphys-master",
   "language": "python",
   "name": "pymedphys-master"
  },
  "language_info": {
   "codemirror_mode": {
    "name": "ipython",
    "version": 3
   },
   "file_extension": ".py",
   "mimetype": "text/x-python",
   "name": "python",
   "nbconvert_exporter": "python",
   "pygments_lexer": "ipython3",
   "version": "3.7.5"
  }
 },
 "nbformat": 4,
 "nbformat_minor": 4
}
