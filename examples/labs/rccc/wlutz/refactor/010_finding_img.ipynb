{
 "cells": [
  {
   "cell_type": "code",
   "execution_count": null,
   "metadata": {},
   "outputs": [],
   "source": [
    "%load_ext autoreload\n",
    "%autoreload 2"
   ]
  },
  {
   "cell_type": "code",
   "execution_count": null,
   "metadata": {},
   "outputs": [],
   "source": [
    "import pathlib\n",
    "import urllib.request\n",
    "\n",
    "import numpy as np\n",
    "import matplotlib.pyplot as plt\n",
    "import matplotlib.transforms\n",
    "import scipy.ndimage.measurements\n",
    "import scipy.interpolate\n",
    "import scipy.optimize\n",
    "\n",
    "import imageio\n",
    "\n",
    "import pymedphys\n",
    "import pymedphys._mocks.profiles\n",
    "import pymedphys._wlutz.findfield\n",
    "import pymedphys._wlutz.createaxis\n",
    "import pymedphys._wlutz.interppoints\n",
    "import pymedphys._wlutz.imginterp"
   ]
  },
  {
   "cell_type": "code",
   "execution_count": null,
   "metadata": {},
   "outputs": [],
   "source": [
    "image_path = pymedphys.data_path('wlutz_image.png')\n",
    "image_path"
   ]
  },
  {
   "cell_type": "code",
   "execution_count": null,
   "metadata": {},
   "outputs": [],
   "source": [
    "img = imageio.imread(image_path)\n",
    "assert np.shape(img) == (1024, 1024)\n",
    "img = img[:, 1:-1]\n",
    "assert np.shape(img) == (1024, 1022)\n",
    "assert img.dtype == np.dtype('uint16')\n",
    "img = 1 - img[::-1,:] / 2**16\n",
    "assert img.dtype == np.dtype('float64')"
   ]
  },
  {
   "cell_type": "code",
   "execution_count": null,
   "metadata": {},
   "outputs": [],
   "source": [
    "shape = np.shape(img)\n",
    "x = np.arange(-shape[1]/2, shape[1]/2)/4\n",
    "y = np.arange(-shape[0]/2, shape[0]/2)/4"
   ]
  },
  {
   "cell_type": "code",
   "execution_count": null,
   "metadata": {},
   "outputs": [],
   "source": [
    "# def img_centre_and_rotation(x, y, img, edge_lengths, penumbra=2, initial_rotation=0, rounding=True):\n",
    "#     field = pymedphys._wlutz.imginterp.create_interpolated_field(x, y, img)\n",
    "#     initial_centre = pymedphys._wlutz.findfield._initial_centre(x, y, img)\n",
    "    \n",
    "#     (\n",
    "#         centre, rotation\n",
    "#     ) = pymedphys._wlutz.findfield.field_centre_and_rotation_refining(\n",
    "#         field, edge_lengths, penumbra, initial_centre, initial_rotation=initial_rotation\n",
    "#     )\n",
    "    \n",
    "#     if rounding:\n",
    "#         centre = np.round(centre, decimals=2).tolist()\n",
    "#         rotation = np.round(rotation, decimals=1)\n",
    "    \n",
    "#     return centre, rotation"
   ]
  },
  {
   "cell_type": "code",
   "execution_count": null,
   "metadata": {},
   "outputs": [],
   "source": [
    "edge_lengths = [20, 20]\n",
    "\n",
    "centre, rotation = pymedphys._wlutz.findfield.find_centre_and_rotation(x, y, img, edge_lengths)\n",
    "centre, rotation"
   ]
  },
  {
   "cell_type": "code",
   "execution_count": null,
   "metadata": {},
   "outputs": [],
   "source": [
    "centre_rounded, rotation_rounded = img_centre_and_rotation(x, y, img, edge_lengths, rounding=False)\n",
    "centre_rounded, rotation_rounded"
   ]
  },
  {
   "cell_type": "code",
   "execution_count": null,
   "metadata": {},
   "outputs": [],
   "source": [
    "centre, rotation"
   ]
  },
  {
   "cell_type": "code",
   "execution_count": null,
   "metadata": {},
   "outputs": [],
   "source": []
  },
  {
   "cell_type": "code",
   "execution_count": null,
   "metadata": {},
   "outputs": [],
   "source": [
    "def draw_by_diff(dx, dy, transform):\n",
    "    draw_x = np.cumsum(dx)\n",
    "    draw_y = np.cumsum(dy)\n",
    "\n",
    "    draw_x, draw_y = pymedphys._wlutz.interppoints.apply_transform(draw_x, draw_y, transform)\n",
    "    \n",
    "    return draw_x, draw_y"
   ]
  },
  {
   "cell_type": "code",
   "execution_count": null,
   "metadata": {},
   "outputs": [],
   "source": [
    "transform = matplotlib.transforms.Affine2D()\n",
    "transform.rotate_deg(-rotation)\n",
    "transform.translate(*centre)"
   ]
  },
  {
   "cell_type": "code",
   "execution_count": null,
   "metadata": {},
   "outputs": [],
   "source": [
    "rotation_x_points = np.linspace(-edge_lengths[0]/2, edge_lengths[0]/2, 51)\n",
    "rotation_y_points = np.linspace(-edge_lengths[1]/2, edge_lengths[1]/2, 61)\n",
    "\n",
    "rot_xx_points, rot_yy_points = np.meshgrid(rotation_x_points, rotation_y_points)\n",
    "\n",
    "rot_xx_points, rot_yy_points = pymedphys._wlutz.interppoints.apply_transform(rot_xx_points, rot_yy_points, transform)"
   ]
  },
  {
   "cell_type": "code",
   "execution_count": null,
   "metadata": {},
   "outputs": [],
   "source": [
    "rotation_points = pymedphys._wlutz.interppoints.define_rotation_field_points(centre, [20, 20], 2, rotation)"
   ]
  },
  {
   "cell_type": "code",
   "execution_count": null,
   "metadata": {},
   "outputs": [],
   "source": [
    "rect_dx = [-edge_lengths[0]/2, 0, edge_lengths[0], 0, -edge_lengths[0]]\n",
    "rect_dy = [-edge_lengths[1]/2, edge_lengths[1], 0, -edge_lengths[1], 0]\n",
    "\n",
    "rect_crosshair_dx = [-edge_lengths[0]/2, edge_lengths[0], -edge_lengths[0], edge_lengths[0]]\n",
    "rect_crosshair_dy = [-edge_lengths[1]/2, edge_lengths[1], 0, -edge_lengths[1]]\n",
    "\n",
    "plt.figure(figsize=(10,10))\n",
    "plt.pcolormesh(x, y, img)\n",
    "plt.plot(*draw_by_diff(rect_dx, rect_dy, transform), 'k', lw=2)\n",
    "plt.plot(*draw_by_diff(rect_crosshair_dx, rect_crosshair_dy, transform), 'k', lw=0.5)\n",
    "\n",
    "# plt.plot(rot_xx_points, rot_yy_points, '.')\n",
    "\n",
    "plt.scatter(centre[0], centre[1], c='r', s=1)\n",
    "\n",
    "plt.scatter(rotation_points[0], rotation_points[1], s=1)\n",
    "\n",
    "plt.axis('equal')\n",
    "plt.xlim([-20, 20])\n",
    "plt.ylim([-20, 20])"
   ]
  },
  {
   "cell_type": "code",
   "execution_count": null,
   "metadata": {},
   "outputs": [],
   "source": [
    "rect_dx = [-edge_lengths[0]/2, 0, edge_lengths[0], 0, -edge_lengths[0]]\n",
    "rect_dy = [-edge_lengths[1]/2, edge_lengths[1], 0, -edge_lengths[1], 0]\n",
    "\n",
    "rect_crosshair_dx = [-edge_lengths[0]/2, edge_lengths[0], -edge_lengths[0], edge_lengths[0]]\n",
    "rect_crosshair_dy = [-edge_lengths[1]/2, edge_lengths[1], 0, -edge_lengths[1]]\n",
    "\n",
    "plt.figure(figsize=(10,10))\n",
    "plt.pcolormesh(x, y, img)\n",
    "plt.plot(*draw_by_diff(rect_dx, rect_dy, transform), 'k', lw=2)\n",
    "plt.plot(*draw_by_diff(rect_crosshair_dx, rect_crosshair_dy, transform), 'k', lw=0.5)\n",
    "\n",
    "# plt.plot(rot_xx_points, rot_yy_points, '.')\n",
    "\n",
    "plt.scatter(centre[0], centre[1], c='r', s=1)\n",
    "\n",
    "plt.axis('equal')\n",
    "plt.xlim([-20, 20])\n",
    "plt.ylim([-20, 20])"
   ]
  },
  {
   "cell_type": "code",
   "execution_count": null,
   "metadata": {},
   "outputs": [],
   "source": []
  },
  {
   "cell_type": "code",
   "execution_count": null,
   "metadata": {},
   "outputs": [],
   "source": []
  },
  {
   "cell_type": "code",
   "execution_count": null,
   "metadata": {},
   "outputs": [],
   "source": [
    "plt.contourf(x, y, img, 30)\n",
    "plt.axis('equal')\n",
    "plt.xlim([-25, 25])\n",
    "plt.ylim([-25, 25])\n",
    "plt.colorbar()"
   ]
  },
  {
   "cell_type": "code",
   "execution_count": null,
   "metadata": {},
   "outputs": [],
   "source": [
    "xx, yy = np.meshgrid(x, y)"
   ]
  },
  {
   "cell_type": "code",
   "execution_count": null,
   "metadata": {},
   "outputs": [],
   "source": [
    "plt.contourf(x, y, field(xx, yy), 30)\n",
    "plt.axis('equal')\n",
    "plt.xlim([-25, 25])\n",
    "plt.ylim([-25, 25])\n",
    "plt.colorbar()"
   ]
  },
  {
   "cell_type": "code",
   "execution_count": null,
   "metadata": {},
   "outputs": [],
   "source": [
    "assert np.all(field(xx, yy) == img)"
   ]
  },
  {
   "cell_type": "code",
   "execution_count": null,
   "metadata": {},
   "outputs": [],
   "source": []
  }
 ],
 "metadata": {
  "kernelspec": {
   "display_name": "pymedphys-master",
   "language": "python",
   "name": "pymedphys-master"
  },
  "language_info": {
   "codemirror_mode": {
    "name": "ipython",
    "version": 3
   },
   "file_extension": ".py",
   "mimetype": "text/x-python",
   "name": "python",
   "nbconvert_exporter": "python",
   "pygments_lexer": "ipython3",
   "version": "3.7.5"
  }
 },
 "nbformat": 4,
 "nbformat_minor": 4
}
