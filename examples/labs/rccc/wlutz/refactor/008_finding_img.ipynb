{
 "cells": [
  {
   "cell_type": "code",
   "execution_count": null,
   "metadata": {},
   "outputs": [],
   "source": [
    "%load_ext autoreload\n",
    "%autoreload 2"
   ]
  },
  {
   "cell_type": "code",
   "execution_count": null,
   "metadata": {},
   "outputs": [],
   "source": [
    "import pathlib\n",
    "import urllib.request\n",
    "\n",
    "import numpy as np\n",
    "import matplotlib.pyplot as plt\n",
    "import matplotlib.transforms\n",
    "import scipy.ndimage.measurements\n",
    "import scipy.interpolate\n",
    "import scipy.optimize\n",
    "\n",
    "import imageio\n",
    "\n",
    "import pymedphys._mocks.profiles\n",
    "import pymedphys._wlutz.findfield\n",
    "import pymedphys._wlutz.createaxis\n",
    "import pymedphys._wlutz.interppoints"
   ]
  },
  {
   "cell_type": "code",
   "execution_count": null,
   "metadata": {},
   "outputs": [],
   "source": [
    "image_name = '00000B94.png'\n",
    "image_path = pathlib.Path('.').resolve().parent.joinpath('data', 'images', 'lossless', image_name)\n",
    "\n",
    "if not image_path.exists():\n",
    "    url = f'https://zenodo.org/record/3520266/files/{image_name}?download=1'\n",
    "    urllib.request.urlretrieve(url, image_path)"
   ]
  },
  {
   "cell_type": "code",
   "execution_count": null,
   "metadata": {},
   "outputs": [],
   "source": [
    "img = imageio.imread(image_path)\n",
    "img = img[:, 1:-1]"
   ]
  },
  {
   "cell_type": "code",
   "execution_count": null,
   "metadata": {},
   "outputs": [],
   "source": [
    "assert img.dtype == np.dtype('uint16')\n",
    "assert np.shape(img) == (1024, 1022)"
   ]
  },
  {
   "cell_type": "code",
   "execution_count": null,
   "metadata": {},
   "outputs": [],
   "source": [
    "shape = np.shape(img)\n",
    "x_axis = np.arange(-shape[1]/2, shape[1]/2)/4\n",
    "y_axis = np.arange(-shape[0]/2, shape[0]/2)/4"
   ]
  },
  {
   "cell_type": "code",
   "execution_count": null,
   "metadata": {},
   "outputs": [],
   "source": [
    "np.shape(x_axis)"
   ]
  },
  {
   "cell_type": "code",
   "execution_count": null,
   "metadata": {},
   "outputs": [],
   "source": [
    "plt.imshow(img)\n",
    "plt.xlim([400, 600])\n",
    "plt.ylim([600, 400])\n",
    "plt.colorbar()"
   ]
  },
  {
   "cell_type": "code",
   "execution_count": null,
   "metadata": {},
   "outputs": [],
   "source": [
    "scale_and_flip = 1 - img[::-1,:] / 2**16\n",
    "plt.contourf(x_axis, y_axis, scale_and_flip, 30)\n",
    "plt.axis('equal')\n",
    "plt.xlim([-25, 25])\n",
    "plt.ylim([-25, 25])\n",
    "plt.colorbar()"
   ]
  },
  {
   "cell_type": "code",
   "execution_count": null,
   "metadata": {},
   "outputs": [],
   "source": [
    "interpolation = scipy.interpolate.RectBivariateSpline(x_axis, y_axis, scale_and_flip.T, kx=1, ky=1)"
   ]
  },
  {
   "cell_type": "code",
   "execution_count": null,
   "metadata": {},
   "outputs": [],
   "source": [
    "x_axis[:, None], y_axis[None, :]"
   ]
  },
  {
   "cell_type": "code",
   "execution_count": null,
   "metadata": {},
   "outputs": [],
   "source": [
    "interpolated = np.swapaxes(interpolation(x_axis, y_axis), 0, 1)\n",
    "np.shape(interpolated)"
   ]
  },
  {
   "cell_type": "code",
   "execution_count": null,
   "metadata": {},
   "outputs": [],
   "source": [
    "np.allclose(interpolated, scale_and_flip)"
   ]
  },
  {
   "cell_type": "code",
   "execution_count": null,
   "metadata": {},
   "outputs": [],
   "source": [
    "plt.contourf(x_axis, y_axis, interpolated, 30)\n",
    "plt.axis('equal')\n",
    "plt.xlim([-25, 25])\n",
    "plt.ylim([-25, 25])\n",
    "plt.colorbar()"
   ]
  },
  {
   "cell_type": "code",
   "execution_count": null,
   "metadata": {},
   "outputs": [],
   "source": [
    "xx, yy = np.meshgrid(x_axis, y_axis)"
   ]
  },
  {
   "cell_type": "code",
   "execution_count": null,
   "metadata": {},
   "outputs": [],
   "source": [
    "np.shape(y_axis[:, None])"
   ]
  },
  {
   "cell_type": "code",
   "execution_count": null,
   "metadata": {},
   "outputs": [],
   "source": [
    "%timeit np.swapaxes(interpolation(x_axis, y_axis), 0, 1)"
   ]
  },
  {
   "cell_type": "code",
   "execution_count": null,
   "metadata": {},
   "outputs": [],
   "source": [
    "%timeit interpolation.ev(np.ravel(xx), np.ravel(yy))"
   ]
  },
  {
   "cell_type": "code",
   "execution_count": null,
   "metadata": {},
   "outputs": [],
   "source": [
    "def create_interpolated_field(x, y, img):\n",
    "    interpolation = scipy.interpolate.RectBivariateSpline(x, y, img.T, kx=1, ky=1)\n",
    "    \n",
    "    def field(x, y):\n",
    "        if np.shape(x) != np.shape(y):\n",
    "            raise ValueError(\"x and y required to be the same shape\")\n",
    "            \n",
    "        result = interpolation.ev(np.ravel(x), np.ravel(y))\n",
    "        result.shape = x.shape\n",
    "        \n",
    "        return result\n",
    "    \n",
    "    return field"
   ]
  },
  {
   "cell_type": "code",
   "execution_count": null,
   "metadata": {},
   "outputs": [],
   "source": [
    "# field = create_interpolated_field(x, y, img)"
   ]
  },
  {
   "cell_type": "code",
   "execution_count": null,
   "metadata": {},
   "outputs": [],
   "source": []
  },
  {
   "cell_type": "code",
   "execution_count": null,
   "metadata": {},
   "outputs": [],
   "source": []
  },
  {
   "cell_type": "code",
   "execution_count": null,
   "metadata": {},
   "outputs": [],
   "source": [
    "interpolated = interpolation.ev(np.ravel(xx), np.ravel(yy))\n",
    "interpolated.shape = xx.shape"
   ]
  },
  {
   "cell_type": "code",
   "execution_count": null,
   "metadata": {},
   "outputs": [],
   "source": [
    "plt.contourf(x_axis, y_axis, interpolated, 30)\n",
    "plt.axis('equal')\n",
    "plt.xlim([-25, 25])\n",
    "plt.ylim([-25, 25])\n",
    "plt.colorbar()"
   ]
  },
  {
   "cell_type": "code",
   "execution_count": null,
   "metadata": {},
   "outputs": [],
   "source": [
    "field = pymedphys._mocks.profiles.create_rectangular_field_function([0,0], [10,10], 1, 0)"
   ]
  },
  {
   "cell_type": "code",
   "execution_count": null,
   "metadata": {},
   "outputs": [],
   "source": [
    "np.shape(field(x_axis[:, None], y_axis[None, :]))"
   ]
  },
  {
   "cell_type": "code",
   "execution_count": null,
   "metadata": {},
   "outputs": [],
   "source": []
  },
  {
   "cell_type": "code",
   "execution_count": null,
   "metadata": {},
   "outputs": [],
   "source": []
  },
  {
   "cell_type": "code",
   "execution_count": null,
   "metadata": {},
   "outputs": [],
   "source": []
  },
  {
   "cell_type": "code",
   "execution_count": null,
   "metadata": {},
   "outputs": [],
   "source": [
    "x_centre=-16.45827370949386\n",
    "y_centre=0.0\n",
    "x_edge=16.73970349084719\n",
    "y_edge=15.002190875079133\n",
    "penumbra=1.1355210572766254\n",
    "actual_rotation=-88.07256317492568\n",
    "\n",
    "\n",
    "\n",
    "actual_rotation = actual_rotation\n",
    "edge_lengths = [x_edge, y_edge]\n",
    "# penumbra = 0.5\n",
    "actual_centre = [x_centre, y_centre]\n",
    "\n",
    "field = pymedphys._mocks.profiles.create_rectangular_field_function(actual_centre, edge_lengths, penumbra, actual_rotation)"
   ]
  },
  {
   "cell_type": "code",
   "execution_count": null,
   "metadata": {},
   "outputs": [],
   "source": [
    "(180 - 90) % 90"
   ]
  },
  {
   "cell_type": "code",
   "execution_count": null,
   "metadata": {},
   "outputs": [],
   "source": [
    "x = np.arange(-50, 50, 0.1)\n",
    "y = np.arange(-50, 50, 0.1)\n",
    "xx, yy = np.meshgrid(x, y)\n",
    "zz = field(xx, yy)\n",
    "plt.pcolormesh(xx, yy, zz)\n",
    "plt.axis('equal')"
   ]
  },
  {
   "cell_type": "code",
   "execution_count": null,
   "metadata": {},
   "outputs": [],
   "source": [
    "initial_centre = pymedphys._wlutz.findfield._initial_centre(x, y, zz)\n",
    "centre, rotation = pymedphys._wlutz.findfield.field_finding_loop(field, edge_lengths, penumbra, initial_centre)\n",
    "centre, rotation"
   ]
  },
  {
   "cell_type": "code",
   "execution_count": null,
   "metadata": {},
   "outputs": [],
   "source": [
    "def draw_by_diff(dx, dy, transform):\n",
    "    draw_x = np.cumsum(dx)\n",
    "    draw_y = np.cumsum(dy)\n",
    "\n",
    "    draw_x, draw_y = pymedphys._wlutz.interppoints.apply_transform(draw_x, draw_y, transform)\n",
    "    \n",
    "    return draw_x, draw_y"
   ]
  },
  {
   "cell_type": "code",
   "execution_count": null,
   "metadata": {},
   "outputs": [],
   "source": [
    "transform = matplotlib.transforms.Affine2D()\n",
    "transform.rotate_deg(-rotation)\n",
    "transform.translate(*centre)"
   ]
  },
  {
   "cell_type": "code",
   "execution_count": null,
   "metadata": {},
   "outputs": [],
   "source": [
    "rotation_x_points = np.linspace(-edge_lengths[0]/2, edge_lengths[0]/2, 51)\n",
    "rotation_y_points = np.linspace(-edge_lengths[1]/2, edge_lengths[1]/2, 61)\n",
    "\n",
    "rot_xx_points, rot_yy_points = np.meshgrid(rotation_x_points, rotation_y_points)\n",
    "\n",
    "rot_xx_points, rot_yy_points = pymedphys._wlutz.interppoints.apply_transform(rot_xx_points, rot_yy_points, transform)"
   ]
  },
  {
   "cell_type": "code",
   "execution_count": null,
   "metadata": {},
   "outputs": [],
   "source": [
    "rect_dx = [-edge_lengths[0]/2, 0, edge_lengths[0], 0, -edge_lengths[0]]\n",
    "rect_dy = [-edge_lengths[1]/2, edge_lengths[1], 0, -edge_lengths[1], 0]\n",
    "\n",
    "rect_crosshair_dx = [-edge_lengths[0]/2, edge_lengths[0], -edge_lengths[0], edge_lengths[0]]\n",
    "rect_crosshair_dy = [-edge_lengths[1]/2, edge_lengths[1], 0, -edge_lengths[1]]\n",
    "\n",
    "plt.figure(figsize=(10,10))\n",
    "plt.pcolormesh(xx, yy, zz)\n",
    "plt.plot(*draw_by_diff(rect_dx, rect_dy, transform), 'k', lw=2)\n",
    "plt.plot(*draw_by_diff(rect_crosshair_dx, rect_crosshair_dy, transform), 'k', lw=0.5)\n",
    "\n",
    "# plt.plot(rot_xx_points, rot_yy_points, '.')\n",
    "\n",
    "plt.scatter(centre[0], centre[1], c='r', s=1)\n",
    "plt.axis('equal')"
   ]
  },
  {
   "cell_type": "code",
   "execution_count": null,
   "metadata": {},
   "outputs": [],
   "source": [
    "np.allclose(actual_centre, centre)"
   ]
  },
  {
   "cell_type": "code",
   "execution_count": null,
   "metadata": {},
   "outputs": [],
   "source": [
    "np.allclose(actual_rotation, rotation)"
   ]
  },
  {
   "cell_type": "code",
   "execution_count": null,
   "metadata": {},
   "outputs": [],
   "source": []
  }
 ],
 "metadata": {
  "kernelspec": {
   "display_name": "pymedphys-master",
   "language": "python",
   "name": "pymedphys-master"
  },
  "language_info": {
   "codemirror_mode": {
    "name": "ipython",
    "version": 3
   },
   "file_extension": ".py",
   "mimetype": "text/x-python",
   "name": "python",
   "nbconvert_exporter": "python",
   "pygments_lexer": "ipython3",
   "version": "3.7.0"
  }
 },
 "nbformat": 4,
 "nbformat_minor": 4
}
