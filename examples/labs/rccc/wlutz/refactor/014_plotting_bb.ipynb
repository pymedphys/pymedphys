{
 "cells": [
  {
   "cell_type": "code",
   "execution_count": null,
   "metadata": {},
   "outputs": [],
   "source": [
    "%load_ext autoreload\n",
    "%autoreload 2"
   ]
  },
  {
   "cell_type": "code",
   "execution_count": null,
   "metadata": {},
   "outputs": [],
   "source": [
    "import pathlib\n",
    "import urllib.request\n",
    "\n",
    "import numpy as np\n",
    "import matplotlib.pyplot as plt\n",
    "import matplotlib.transforms\n",
    "import scipy.ndimage.measurements\n",
    "import scipy.interpolate\n",
    "import scipy.optimize\n",
    "\n",
    "import imageio\n",
    "\n",
    "import pymedphys\n",
    "import pymedphys._mocks.profiles\n",
    "import pymedphys._gamma.implementation.shell\n",
    "import pymedphys._wlutz.findfield\n",
    "import pymedphys._wlutz.createaxis\n",
    "import pymedphys._wlutz.interppoints\n",
    "import pymedphys._wlutz.iview\n",
    "import pymedphys._wlutz.imginterp\n",
    "import pymedphys._wlutz.findbb\n",
    "import pymedphys._wlutz.core\n",
    "import pymedphys._wlutz.reporting"
   ]
  },
  {
   "cell_type": "code",
   "execution_count": null,
   "metadata": {},
   "outputs": [],
   "source": [
    "image_path = pymedphys.data_path('wlutz_image.png')\n",
    "image_path"
   ]
  },
  {
   "cell_type": "code",
   "execution_count": null,
   "metadata": {},
   "outputs": [],
   "source": [
    "x, y, img = pymedphys._wlutz.iview.iview_image_transform(image_path)\n",
    "field = pymedphys._wlutz.imginterp.create_interpolated_field(x, y, img)\n",
    "\n",
    "edge_lengths = [20, 20]\n",
    "bb_diameter = 8\n",
    "bb_radius = bb_diameter / 2\n",
    "penumbra = 2\n",
    "\n",
    "bb_centre, field_centre, field_rotation = pymedphys._wlutz.core.find_field_and_bb(\n",
    "    x, y, img, edge_lengths, bb_diameter, penumbra=penumbra\n",
    ")\n",
    "\n",
    "bb_centre, field_centre, field_rotation"
   ]
  },
  {
   "cell_type": "code",
   "execution_count": null,
   "metadata": {},
   "outputs": [],
   "source": [
    "%timeit pymedphys._wlutz.core.find_field_and_bb(x, y, img, edge_lengths, bb_diameter, penumbra=penumbra)"
   ]
  },
  {
   "cell_type": "code",
   "execution_count": null,
   "metadata": {},
   "outputs": [],
   "source": []
  },
  {
   "cell_type": "code",
   "execution_count": null,
   "metadata": {},
   "outputs": [],
   "source": [
    "def create_bb_to_minimise(field, bb_diameter):\n",
    "\n",
    "    points_to_check, dist = pymedphys._wlutz.interppoints.create_bb_points_function(bb_diameter)\n",
    "    dist_mask = np.unique(dist)[:, None] == dist[None, :]\n",
    "\n",
    "    def to_minimise(centre):\n",
    "        x, y = points_to_check(centre)\n",
    "\n",
    "        total_minimisation = 0\n",
    "\n",
    "        for current_mask in dist_mask[1::]:\n",
    "            current_layer = field(x[current_mask], y[current_mask])\n",
    "            total_minimisation += np.mean((current_layer - np.mean(current_layer)) ** 2)\n",
    "\n",
    "        return total_minimisation / (len(dist_mask) - 1)\n",
    "\n",
    "    return to_minimise"
   ]
  },
  {
   "cell_type": "code",
   "execution_count": null,
   "metadata": {},
   "outputs": [],
   "source": [
    "to_minimise = create_bb_to_minimise(field, bb_diameter)"
   ]
  },
  {
   "cell_type": "code",
   "execution_count": null,
   "metadata": {},
   "outputs": [],
   "source": [
    "%timeit to_minimise(bb_centre)"
   ]
  },
  {
   "cell_type": "code",
   "execution_count": null,
   "metadata": {},
   "outputs": [],
   "source": [
    "reference_val = to_minimise(bb_centre)\n",
    "reference_val"
   ]
  },
  {
   "cell_type": "code",
   "execution_count": null,
   "metadata": {},
   "outputs": [],
   "source": [
    "points_to_check, dist = pymedphys._wlutz.interppoints.create_bb_points_function(bb_diameter)\n",
    "dist_mask = np.unique(dist)[:, None] == dist[None, :]"
   ]
  },
  {
   "cell_type": "code",
   "execution_count": null,
   "metadata": {
    "jupyter": {
     "outputs_hidden": true
    }
   },
   "outputs": [],
   "source": [
    "x, y = points_to_check(bb_centre)\n",
    "results = field(x, y)\n",
    "results"
   ]
  },
  {
   "cell_type": "code",
   "execution_count": null,
   "metadata": {},
   "outputs": [],
   "source": [
    "num_in_mask = np.sum(dist_mask, axis=1)\n",
    "mask_count_per_item = np.sum(num_in_mask[:,None] * dist_mask, axis=0)\n",
    "mask_count_per_item"
   ]
  },
  {
   "cell_type": "code",
   "execution_count": null,
   "metadata": {},
   "outputs": [],
   "source": [
    "masked_results = results * dist_mask\n",
    "masked_results"
   ]
  },
  {
   "cell_type": "code",
   "execution_count": null,
   "metadata": {},
   "outputs": [],
   "source": [
    "mask_mean = np.sum(masked_results, axis=1) / num_in_mask\n",
    "mask_mean"
   ]
  },
  {
   "cell_type": "code",
   "execution_count": null,
   "metadata": {
    "jupyter": {
     "outputs_hidden": true
    }
   },
   "outputs": [],
   "source": [
    "mask_mean_lookup = np.where(dist_mask)[0]\n",
    "mask_mean_lookup"
   ]
  },
  {
   "cell_type": "code",
   "execution_count": null,
   "metadata": {},
   "outputs": [],
   "source": [
    "diff_to_mean_square = (results - mask_mean[mask_mean_lookup])**2\n",
    "np.sum(diff_to_mean_square / mask_count_per_item) / (len(mask_mean) - 1)"
   ]
  },
  {
   "cell_type": "code",
   "execution_count": null,
   "metadata": {},
   "outputs": [],
   "source": [
    "def create_bb_to_minimise_fast(field, bb_diameter):\n",
    "\n",
    "    points_to_check, dist = pymedphys._wlutz.interppoints.create_bb_points_function(bb_diameter)\n",
    "    dist_mask = np.unique(dist)[:, None] == dist[None, :]\n",
    "    num_in_mask = np.sum(dist_mask, axis=1)\n",
    "    mask_count_per_item = np.sum(num_in_mask[:,None] * dist_mask, axis=0)\n",
    "    mask_mean_lookup = np.where(dist_mask)[0]\n",
    "\n",
    "    def to_minimise(centre):\n",
    "        x, y = points_to_check(centre)\n",
    "        \n",
    "        results = field(x, y)\n",
    "        masked_results = results * dist_mask\n",
    "        mask_mean = np.sum(masked_results, axis=1) / num_in_mask\n",
    "        diff_to_mean_square = (results - mask_mean[mask_mean_lookup])**2\n",
    "        mean_of_layers = np.sum(diff_to_mean_square[1::] / mask_count_per_item[1::]) / (len(mask_mean) - 1)\n",
    "        \n",
    "        return mean_of_layers\n",
    "\n",
    "    return to_minimise"
   ]
  },
  {
   "cell_type": "code",
   "execution_count": null,
   "metadata": {},
   "outputs": [],
   "source": [
    "to_minimise_fast = create_bb_to_minimise_fast(field, bb_diameter)"
   ]
  },
  {
   "cell_type": "code",
   "execution_count": null,
   "metadata": {},
   "outputs": [],
   "source": [
    "%timeit to_minimise(bb_centre)"
   ]
  },
  {
   "cell_type": "code",
   "execution_count": null,
   "metadata": {},
   "outputs": [],
   "source": [
    "%timeit to_minimise_fast(bb_centre)"
   ]
  },
  {
   "cell_type": "code",
   "execution_count": null,
   "metadata": {},
   "outputs": [],
   "source": []
  },
  {
   "cell_type": "code",
   "execution_count": null,
   "metadata": {},
   "outputs": [],
   "source": []
  },
  {
   "cell_type": "code",
   "execution_count": null,
   "metadata": {},
   "outputs": [],
   "source": []
  },
  {
   "cell_type": "code",
   "execution_count": null,
   "metadata": {},
   "outputs": [],
   "source": []
  },
  {
   "cell_type": "code",
   "execution_count": null,
   "metadata": {},
   "outputs": [],
   "source": []
  },
  {
   "cell_type": "code",
   "execution_count": null,
   "metadata": {},
   "outputs": [],
   "source": [
    "pymedphys._wlutz.reporting.image_analysis_figure(\n",
    "    x,\n",
    "    y,\n",
    "    img,\n",
    "    bb_centre,\n",
    "    field_centre,\n",
    "    field_rotation,\n",
    "    bb_diameter,\n",
    "    edge_lengths,\n",
    "    penumbra,\n",
    ")"
   ]
  }
 ],
 "metadata": {
  "kernelspec": {
   "display_name": "pymedphys-master",
   "language": "python",
   "name": "pymedphys-master"
  },
  "language_info": {
   "codemirror_mode": {
    "name": "ipython",
    "version": 3
   },
   "file_extension": ".py",
   "mimetype": "text/x-python",
   "name": "python",
   "nbconvert_exporter": "python",
   "pygments_lexer": "ipython3",
   "version": "3.7.4"
  }
 },
 "nbformat": 4,
 "nbformat_minor": 4
}
