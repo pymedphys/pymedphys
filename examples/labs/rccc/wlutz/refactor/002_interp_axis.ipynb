{
 "cells": [
  {
   "cell_type": "code",
   "execution_count": null,
   "metadata": {},
   "outputs": [],
   "source": [
    "%load_ext autoreload\n",
    "%autoreload 2"
   ]
  },
  {
   "cell_type": "code",
   "execution_count": null,
   "metadata": {},
   "outputs": [],
   "source": [
    "import pathlib\n",
    "import urllib.request\n",
    "\n",
    "import numpy as np\n",
    "import matplotlib.pyplot as plt\n",
    "import matplotlib.transforms\n",
    "import scipy.ndimage.measurements\n",
    "import scipy.interpolate\n",
    "\n",
    "import imageio\n",
    "\n",
    "import pymedphys._mocks.profiles\n",
    "import pymedphys._wlutz.findfield\n",
    "import pymedphys._wlutz.createaxis"
   ]
  },
  {
   "cell_type": "code",
   "execution_count": null,
   "metadata": {},
   "outputs": [],
   "source": [
    "# image_name = '00000B94.png'\n",
    "# image_path = pathlib.Path('.').parent.joinpath('data', 'images', 'lossless', image_name)\n",
    "\n",
    "# if not image_path.exists():\n",
    "#     url = f'https://zenodo.org/record/3520266/files/{image_name}?download=1'\n",
    "#     urllib.request.urlretrieve(url, image_path)"
   ]
  },
  {
   "cell_type": "code",
   "execution_count": null,
   "metadata": {},
   "outputs": [],
   "source": [
    "degrees = 20\n",
    "edge_lengths = [8, 12]\n",
    "penumbra = 1\n",
    "\n",
    "field = pymedphys._mocks.profiles.create_rectangular_field_function([20, 5], edge_lengths, penumbra, degrees)"
   ]
  },
  {
   "cell_type": "code",
   "execution_count": null,
   "metadata": {},
   "outputs": [],
   "source": [
    "x = np.arange(-15, 30, 0.1)\n",
    "y = np.arange(-15, 15, 0.1)\n",
    "\n",
    "xx, yy = np.meshgrid(x, y)\n",
    "\n",
    "zz = field(xx, yy)\n",
    "plt.pcolormesh(xx, yy, zz)\n",
    "plt.axis('equal')"
   ]
  },
  {
   "cell_type": "code",
   "execution_count": null,
   "metadata": {},
   "outputs": [],
   "source": [
    "mock_initial_centre = pymedphys._wlutz.findfield.initial_centre(x, y, zz)\n",
    "mock_initial_centre"
   ]
  },
  {
   "cell_type": "code",
   "execution_count": null,
   "metadata": {},
   "outputs": [],
   "source": []
  },
  {
   "cell_type": "code",
   "execution_count": null,
   "metadata": {},
   "outputs": [],
   "source": [
    "transform = matplotlib.transforms.Affine2D()\n",
    "transform.translate(*mock_initial_centre)\n",
    "transform.rotate_deg_around(*mock_initial_centre, -degrees)\n",
    "\n",
    "interp_size = 20\n",
    "\n",
    "x_len = 30\n",
    "y_len = 40\n",
    "\n",
    "field_x_interp = np.linspace(-interp_size/2, interp_size/2, x_len)\n",
    "field_y_interp = np.linspace(-interp_size/2, interp_size/2, y_len)\n",
    "\n",
    "transformed_x = transform @ np.vstack([field_x_interp, np.zeros(x_len), np.ones(x_len)])\n",
    "transformed_y = transform @ np.vstack([np.zeros(y_len), field_y_interp, np.ones(y_len)])"
   ]
  },
  {
   "cell_type": "code",
   "execution_count": null,
   "metadata": {},
   "outputs": [],
   "source": [
    "transform.get_matrix()"
   ]
  },
  {
   "cell_type": "code",
   "execution_count": null,
   "metadata": {},
   "outputs": [],
   "source": [
    "plt.plot(transformed_x[0], transformed_x[1], label='x-axis')\n",
    "plt.plot(transformed_y[0], transformed_y[1], label='y-axis')\n",
    "\n",
    "plt.legend()\n",
    "plt.axis('equal');"
   ]
  },
  {
   "cell_type": "code",
   "execution_count": null,
   "metadata": {},
   "outputs": [],
   "source": [
    "transformed_x[0:2][1]"
   ]
  },
  {
   "cell_type": "code",
   "execution_count": null,
   "metadata": {},
   "outputs": [],
   "source": [
    "plt.plot(transformed_x[0], transformed_x[1], label='x-axis')\n",
    "plt.plot(transformed_y[0], transformed_y[1], label='y-axis')\n",
    "plt.pcolormesh(xx, yy, zz)\n",
    "\n",
    "plt.legend()\n",
    "plt.axis('equal')"
   ]
  },
  {
   "cell_type": "code",
   "execution_count": null,
   "metadata": {},
   "outputs": [],
   "source": [
    "x_interp, y_interp = pymedphys._wlutz.createaxis.transform_axis(field_x_interp, field_y_interp, mock_initial_centre, degrees)\n",
    "\n",
    "plt.plot(x_interp[0], x_interp[1], label='x-axis')\n",
    "plt.plot(y_interp[0], y_interp[1], label='y-axis')\n",
    "plt.pcolormesh(xx, yy, zz)\n",
    "\n",
    "plt.legend()\n",
    "plt.axis('equal')"
   ]
  },
  {
   "cell_type": "code",
   "execution_count": null,
   "metadata": {},
   "outputs": [],
   "source": []
  },
  {
   "cell_type": "code",
   "execution_count": null,
   "metadata": {},
   "outputs": [],
   "source": [
    "x_profile = pymedphys._mocks.profiles.create_profile_function(0, edge_lengths[0], penumbra)\n",
    "\n",
    "\n",
    "plt.plot(field_x_interp, x_profile(field_x_interp))\n",
    "plt.plot(field_x_interp, field(*x_interp))\n"
   ]
  },
  {
   "cell_type": "code",
   "execution_count": null,
   "metadata": {},
   "outputs": [],
   "source": [
    "y_profile = pymedphys._mocks.profiles.create_profile_function(0, edge_lengths[1], penumbra)\n",
    "\n",
    "plt.plot(field_y_interp, y_profile(field_y_interp))\n",
    "plt.plot(field_y_interp, field(*y_interp), '.')"
   ]
  },
  {
   "cell_type": "code",
   "execution_count": null,
   "metadata": {},
   "outputs": [],
   "source": [
    "x_profile(field_x_interp)"
   ]
  },
  {
   "cell_type": "code",
   "execution_count": null,
   "metadata": {},
   "outputs": [],
   "source": [
    "field(*x_interp)"
   ]
  },
  {
   "cell_type": "code",
   "execution_count": null,
   "metadata": {},
   "outputs": [],
   "source": [
    "np.allclose(x_profile(field_x_interp), field(*x_interp))"
   ]
  },
  {
   "cell_type": "code",
   "execution_count": null,
   "metadata": {},
   "outputs": [],
   "source": [
    "np.allclose(y_profile(field_y_interp), field(*y_interp))"
   ]
  },
  {
   "cell_type": "code",
   "execution_count": null,
   "metadata": {},
   "outputs": [],
   "source": [
    "edge_lengths"
   ]
  },
  {
   "cell_type": "code",
   "execution_count": null,
   "metadata": {},
   "outputs": [],
   "source": []
  },
  {
   "cell_type": "code",
   "execution_count": null,
   "metadata": {},
   "outputs": [],
   "source": [
    "img = imageio.imread(image_path)"
   ]
  },
  {
   "cell_type": "code",
   "execution_count": null,
   "metadata": {},
   "outputs": [],
   "source": [
    "assert img.dtype == np.dtype('uint16')\n",
    "assert np.shape(img) == (1024, 1024)"
   ]
  },
  {
   "cell_type": "code",
   "execution_count": null,
   "metadata": {},
   "outputs": [],
   "source": [
    "shape = np.shape(img)\n",
    "x_axis = np.arange(-shape[1]/2, shape[1]/2)/4\n",
    "y_axis = np.arange(-shape[0]/2, shape[0]/2)/4"
   ]
  },
  {
   "cell_type": "code",
   "execution_count": null,
   "metadata": {},
   "outputs": [],
   "source": [
    "plt.imshow(img)\n",
    "plt.xlim([400, 600])\n",
    "plt.ylim([600, 400])\n",
    "plt.colorbar()"
   ]
  },
  {
   "cell_type": "code",
   "execution_count": null,
   "metadata": {},
   "outputs": [],
   "source": [
    "scale_and_flip = 1 - img[::-1,:] / 2**16\n",
    "plt.contourf(x_axis, y_axis, scale_and_flip, 30)\n",
    "plt.axis('equal')\n",
    "plt.xlim([-25, 25])\n",
    "plt.ylim([-25, 25])\n",
    "plt.colorbar()"
   ]
  },
  {
   "cell_type": "code",
   "execution_count": null,
   "metadata": {},
   "outputs": [],
   "source": [
    "initial_centre = pymedphys._wlutz.findfield.initial_centre(x_axis, y_axis, scale_and_flip)\n",
    "initial_centre"
   ]
  },
  {
   "cell_type": "code",
   "execution_count": null,
   "metadata": {},
   "outputs": [],
   "source": [
    "interpolation = scipy.interpolate.RectBivariateSpline(x_axis, y_axis, scale_and_flip, kx=1, ky=1)"
   ]
  },
  {
   "cell_type": "code",
   "execution_count": null,
   "metadata": {},
   "outputs": [],
   "source": [
    "scipy.ndimage.measurements.standard_deviation(scale_and_flip)"
   ]
  },
  {
   "cell_type": "code",
   "execution_count": null,
   "metadata": {},
   "outputs": [],
   "source": [
    "\n"
   ]
  },
  {
   "cell_type": "code",
   "execution_count": null,
   "metadata": {},
   "outputs": [],
   "source": []
  },
  {
   "cell_type": "code",
   "execution_count": null,
   "metadata": {},
   "outputs": [],
   "source": []
  },
  {
   "cell_type": "code",
   "execution_count": null,
   "metadata": {},
   "outputs": [],
   "source": []
  },
  {
   "cell_type": "code",
   "execution_count": null,
   "metadata": {},
   "outputs": [],
   "source": []
  },
  {
   "cell_type": "code",
   "execution_count": null,
   "metadata": {},
   "outputs": [],
   "source": []
  },
  {
   "cell_type": "code",
   "execution_count": null,
   "metadata": {},
   "outputs": [],
   "source": []
  }
 ],
 "metadata": {
  "kernelspec": {
   "display_name": "pymedphys-master",
   "language": "python",
   "name": "pymedphys-master"
  },
  "language_info": {
   "codemirror_mode": {
    "name": "ipython",
    "version": 3
   },
   "file_extension": ".py",
   "mimetype": "text/x-python",
   "name": "python",
   "nbconvert_exporter": "python",
   "pygments_lexer": "ipython3",
   "version": "3.7.0"
  }
 },
 "nbformat": 4,
 "nbformat_minor": 4
}
