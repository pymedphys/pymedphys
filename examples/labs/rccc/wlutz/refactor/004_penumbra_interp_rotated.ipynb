{
 "cells": [
  {
   "cell_type": "code",
   "execution_count": null,
   "metadata": {},
   "outputs": [],
   "source": [
    "%load_ext autoreload\n",
    "%autoreload 2"
   ]
  },
  {
   "cell_type": "code",
   "execution_count": null,
   "metadata": {},
   "outputs": [],
   "source": [
    "import pathlib\n",
    "import urllib.request\n",
    "\n",
    "import numpy as np\n",
    "import matplotlib.pyplot as plt\n",
    "import matplotlib.transforms\n",
    "import scipy.ndimage.measurements\n",
    "import scipy.interpolate\n",
    "\n",
    "import imageio\n",
    "\n",
    "import pymedphys._mocks.profiles\n",
    "import pymedphys._wlutz.findfield\n",
    "import pymedphys._wlutz.createaxis\n",
    "import pymedphys._wlutz.interppoints"
   ]
  },
  {
   "cell_type": "code",
   "execution_count": null,
   "metadata": {},
   "outputs": [],
   "source": [
    "degrees = 0\n",
    "edge_lengths = [8, 12]\n",
    "penumbra = 1\n",
    "centre = [0, 0]\n",
    "\n",
    "field = pymedphys._mocks.profiles.create_rectangular_field_function(centre, edge_lengths, penumbra, degrees)\n",
    "x_profile = pymedphys._mocks.profiles.create_profile_function(\n",
    "    0, edge_lengths[0], penumbra\n",
    ")\n",
    "y_profile = pymedphys._mocks.profiles.create_profile_function(\n",
    "    0, edge_lengths[1], penumbra\n",
    ")"
   ]
  },
  {
   "cell_type": "code",
   "execution_count": null,
   "metadata": {},
   "outputs": [],
   "source": [
    "x = np.arange(-15, 30, 0.1)\n",
    "y = np.arange(-15, 15, 0.1)\n",
    "\n",
    "xx, yy = np.meshgrid(x, y)\n",
    "\n",
    "zz = field(xx, yy)\n",
    "plt.pcolormesh(xx, yy, zz)\n",
    "plt.axis('equal')"
   ]
  },
  {
   "cell_type": "code",
   "execution_count": null,
   "metadata": {},
   "outputs": [],
   "source": [
    "mock_initial_centre = pymedphys._wlutz.findfield.initial_centre(x, y, zz)\n",
    "mock_initial_centre"
   ]
  },
  {
   "cell_type": "code",
   "execution_count": null,
   "metadata": {},
   "outputs": [],
   "source": [
    "xx_left_right, yy_left_right, xx_top_bot, yy_top_bot = pymedphys._wlutz.interppoints.define_penumbra_points_at_origin(edge_lengths, penumbra)\n",
    "\n",
    "plt.pcolormesh(xx, yy, zz)\n",
    "plt.scatter(xx_left_right, yy_left_right, s=1)\n",
    "plt.scatter(xx_top_bot, yy_top_bot, s=1)"
   ]
  },
  {
   "cell_type": "code",
   "execution_count": null,
   "metadata": {},
   "outputs": [],
   "source": []
  },
  {
   "cell_type": "code",
   "execution_count": null,
   "metadata": {},
   "outputs": [],
   "source": []
  },
  {
   "cell_type": "code",
   "execution_count": null,
   "metadata": {},
   "outputs": [],
   "source": []
  },
  {
   "cell_type": "code",
   "execution_count": null,
   "metadata": {},
   "outputs": [],
   "source": []
  },
  {
   "cell_type": "code",
   "execution_count": null,
   "metadata": {},
   "outputs": [],
   "source": []
  },
  {
   "cell_type": "code",
   "execution_count": null,
   "metadata": {},
   "outputs": [],
   "source": []
  },
  {
   "cell_type": "code",
   "execution_count": null,
   "metadata": {},
   "outputs": [],
   "source": []
  },
  {
   "cell_type": "code",
   "execution_count": null,
   "metadata": {},
   "outputs": [],
   "source": [
    "\n"
   ]
  },
  {
   "cell_type": "code",
   "execution_count": null,
   "metadata": {},
   "outputs": [],
   "source": []
  },
  {
   "cell_type": "code",
   "execution_count": null,
   "metadata": {},
   "outputs": [],
   "source": []
  },
  {
   "cell_type": "code",
   "execution_count": null,
   "metadata": {},
   "outputs": [],
   "source": []
  },
  {
   "cell_type": "code",
   "execution_count": null,
   "metadata": {},
   "outputs": [],
   "source": []
  },
  {
   "cell_type": "code",
   "execution_count": null,
   "metadata": {},
   "outputs": [],
   "source": []
  },
  {
   "cell_type": "code",
   "execution_count": null,
   "metadata": {},
   "outputs": [],
   "source": []
  }
 ],
 "metadata": {
  "kernelspec": {
   "display_name": "pymedphys-master",
   "language": "python",
   "name": "pymedphys-master"
  },
  "language_info": {
   "codemirror_mode": {
    "name": "ipython",
    "version": 3
   },
   "file_extension": ".py",
   "mimetype": "text/x-python",
   "name": "python",
   "nbconvert_exporter": "python",
   "pygments_lexer": "ipython3",
   "version": "3.7.0"
  }
 },
 "nbformat": 4,
 "nbformat_minor": 4
}
