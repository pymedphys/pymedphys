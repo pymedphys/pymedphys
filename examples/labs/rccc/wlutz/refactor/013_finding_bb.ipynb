{
 "cells": [
  {
   "cell_type": "code",
   "execution_count": null,
   "metadata": {},
   "outputs": [],
   "source": [
    "%load_ext autoreload\n",
    "%autoreload 2"
   ]
  },
  {
   "cell_type": "code",
   "execution_count": null,
   "metadata": {},
   "outputs": [],
   "source": [
    "import pathlib\n",
    "import urllib.request\n",
    "\n",
    "import numpy as np\n",
    "import matplotlib.pyplot as plt\n",
    "import matplotlib.transforms\n",
    "import scipy.ndimage.measurements\n",
    "import scipy.interpolate\n",
    "import scipy.optimize\n",
    "\n",
    "import imageio\n",
    "\n",
    "import pymedphys\n",
    "import pymedphys._mocks.profiles\n",
    "import pymedphys._gamma.implementation.shell\n",
    "import pymedphys._wlutz.findfield\n",
    "import pymedphys._wlutz.createaxis\n",
    "import pymedphys._wlutz.interppoints\n",
    "import pymedphys._wlutz.iview\n",
    "import pymedphys._wlutz.imginterp\n",
    "import pymedphys._wlutz.findbb"
   ]
  },
  {
   "cell_type": "code",
   "execution_count": null,
   "metadata": {},
   "outputs": [],
   "source": [
    "image_path = pymedphys.data_path('wlutz_image.png')\n",
    "image_path"
   ]
  },
  {
   "cell_type": "code",
   "execution_count": null,
   "metadata": {},
   "outputs": [],
   "source": [
    "x, y, img = pymedphys._wlutz.iview.iview_image_transform(image_path)\n",
    "field = pymedphys._wlutz.imginterp.create_interpolated_field(x, y, img)"
   ]
  },
  {
   "cell_type": "code",
   "execution_count": null,
   "metadata": {},
   "outputs": [],
   "source": [
    "edge_lengths = [20, 20]\n",
    "\n",
    "field_centre, field_rotation = pymedphys._wlutz.findfield.find_centre_and_rotation(x, y, img, edge_lengths)\n",
    "field_centre, field_rotation"
   ]
  },
  {
   "cell_type": "code",
   "execution_count": null,
   "metadata": {},
   "outputs": [],
   "source": [
    "bb_diameter = 8\n",
    "bb_radius = bb_diameter / 2\n",
    "penumbra = 2\n",
    "\n",
    "bb_centre = pymedphys._wlutz.findbb.optimise_bb_centre(field, bb_diameter, edge_lengths, penumbra, field_centre, field_rotation)\n",
    "bb_centre"
   ]
  },
  {
   "cell_type": "code",
   "execution_count": null,
   "metadata": {},
   "outputs": [],
   "source": [
    "x_half_bound = edge_lengths[0]/2 + penumbra * 3\n",
    "y_half_bound = edge_lengths[1]/2 + penumbra * 3\n",
    "\n",
    "x_axis = np.linspace(-x_half_bound, x_half_bound, 200)\n",
    "y_axis = np.linspace(-y_half_bound, y_half_bound, 200)\n",
    "\n",
    "field_transform = pymedphys._wlutz.interppoints.translate_and_rotate_transform(field_centre, field_rotation)\n",
    "bb_transform = pymedphys._wlutz.interppoints.translate_and_rotate_transform(bb_centre, 0)\n",
    "\n",
    "x_field_interp, y_field_interp = pymedphys._wlutz.createaxis.transform_axis(x_axis, y_axis, field_transform)\n",
    "x_bb_interp, y_bb_interp = pymedphys._wlutz.createaxis.transform_axis(x_axis, y_axis, bb_transform)"
   ]
  },
  {
   "cell_type": "code",
   "execution_count": null,
   "metadata": {},
   "outputs": [],
   "source": [
    "def draw_by_diff(dx, dy, transform):\n",
    "    draw_x = np.cumsum(dx)\n",
    "    draw_y = np.cumsum(dy)\n",
    "\n",
    "    draw_x, draw_y = pymedphys._wlutz.interppoints.apply_transform(draw_x, draw_y, transform)\n",
    "    \n",
    "    return draw_x, draw_y"
   ]
  },
  {
   "cell_type": "code",
   "execution_count": null,
   "metadata": {},
   "outputs": [],
   "source": [
    "t = np.linspace(0, 2*np.pi)\n",
    "circle_x_origin = bb_diameter/2 * np.sin(t)\n",
    "circle_y_origin = bb_diameter/2 * np.cos(t)"
   ]
  },
  {
   "cell_type": "code",
   "execution_count": null,
   "metadata": {},
   "outputs": [],
   "source": [
    "circle_x = circle_x_origin + bb_centre[0]\n",
    "circle_y = circle_y_origin + bb_centre[1]\n",
    "\n",
    "rect_dx = [-edge_lengths[0]/2, 0, edge_lengths[0], 0, -edge_lengths[0]]\n",
    "rect_dy = [-edge_lengths[1]/2, edge_lengths[1], 0, -edge_lengths[1], 0]\n",
    "\n",
    "rect_crosshair_dx = [-edge_lengths[0]/2, edge_lengths[0], -edge_lengths[0], edge_lengths[0]]\n",
    "rect_crosshair_dy = [-edge_lengths[1]/2, edge_lengths[1], 0, -edge_lengths[1]]\n",
    "\n",
    "bb_crosshair = np.array([-bb_radius, bb_radius])\n",
    "\n",
    "plt.figure(figsize=(10,10))\n",
    "plt.contourf(x, y, img, 100)\n",
    "\n",
    "plt.plot([bb_centre[0], ]*2, bb_crosshair + bb_centre[1], 'k', lw=1)\n",
    "plt.plot(bb_crosshair + bb_centre[0], [bb_centre[1], ]*2, 'k', lw=1)\n",
    "\n",
    "plt.plot(*draw_by_diff(rect_dx, rect_dy, field_transform), 'k', lw=3)\n",
    "plt.plot(*draw_by_diff(rect_crosshair_dx, rect_crosshair_dy, field_transform), 'k', lw=1)\n",
    "\n",
    "plt.plot([field_centre[0], bb_centre[0]], [field_centre[1], bb_centre[1]], c='C3', lw=3)\n",
    "\n",
    "plt.plot(circle_x, circle_y, 'k', lw=3)\n",
    "\n",
    "plt.plot(x_field_interp[0], x_field_interp[1], 'k', lw=0.5, alpha=0.3)\n",
    "plt.plot(y_field_interp[0], y_field_interp[1], 'k', lw=0.5, alpha=0.3)\n",
    "\n",
    "plt.plot(x_bb_interp[0], x_bb_interp[1], 'k', lw=0.5, alpha=0.3)\n",
    "plt.plot(y_bb_interp[0], y_bb_interp[1], 'k', lw=0.5, alpha=0.3)\n",
    "\n",
    "plt.axis('equal')\n",
    "plt.xlim([-20, 20])\n",
    "plt.ylim([-20, 20])\n",
    "\n",
    "plt.colorbar()"
   ]
  },
  {
   "cell_type": "code",
   "execution_count": null,
   "metadata": {},
   "outputs": [],
   "source": [
    "plt.plot(x_axis, field(*x_field_interp))\n",
    "plt.plot(-x_axis, field(*x_field_interp))"
   ]
  },
  {
   "cell_type": "code",
   "execution_count": null,
   "metadata": {},
   "outputs": [],
   "source": [
    "plt.plot(y_axis, field(*y_field_interp))\n",
    "plt.plot(-y_axis, field(*y_field_interp))"
   ]
  },
  {
   "cell_type": "code",
   "execution_count": null,
   "metadata": {},
   "outputs": [],
   "source": [
    "plt.plot(x_axis, field(*x_bb_interp))\n",
    "plt.plot(-x_axis, field(*x_bb_interp))"
   ]
  },
  {
   "cell_type": "code",
   "execution_count": null,
   "metadata": {},
   "outputs": [],
   "source": [
    "plt.plot(y_axis, field(*y_bb_interp))\n",
    "plt.plot(-y_axis, field(*y_bb_interp))\n",
    "# plt.plot([-bb_diameter/2, bb_diameter/2], [0.6, 0.6])"
   ]
  }
 ],
 "metadata": {
  "kernelspec": {
   "display_name": "pymedphys-master",
   "language": "python",
   "name": "pymedphys-master"
  },
  "language_info": {
   "codemirror_mode": {
    "name": "ipython",
    "version": 3
   },
   "file_extension": ".py",
   "mimetype": "text/x-python",
   "name": "python",
   "nbconvert_exporter": "python",
   "pygments_lexer": "ipython3",
   "version": "3.7.0"
  }
 },
 "nbformat": 4,
 "nbformat_minor": 4
}
