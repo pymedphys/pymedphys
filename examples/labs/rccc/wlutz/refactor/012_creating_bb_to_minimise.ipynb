{
 "cells": [
  {
   "cell_type": "code",
   "execution_count": null,
   "metadata": {},
   "outputs": [],
   "source": [
    "%load_ext autoreload\n",
    "%autoreload 2"
   ]
  },
  {
   "cell_type": "code",
   "execution_count": null,
   "metadata": {},
   "outputs": [],
   "source": [
    "import pathlib\n",
    "import urllib.request\n",
    "\n",
    "import numpy as np\n",
    "import matplotlib.pyplot as plt\n",
    "import matplotlib.transforms\n",
    "import scipy.ndimage.measurements\n",
    "import scipy.interpolate\n",
    "import scipy.optimize\n",
    "\n",
    "import imageio\n",
    "\n",
    "import pymedphys\n",
    "import pymedphys._mocks.profiles\n",
    "import pymedphys._gamma.implementation.shell\n",
    "import pymedphys._wlutz.findfield\n",
    "import pymedphys._wlutz.createaxis\n",
    "import pymedphys._wlutz.interppoints\n",
    "import pymedphys._wlutz.iview\n",
    "import pymedphys._wlutz.imginterp\n",
    "import pymedphys._wlutz.findbb\n"
   ]
  },
  {
   "cell_type": "code",
   "execution_count": null,
   "metadata": {},
   "outputs": [],
   "source": [
    "image_path = pymedphys.data_path('wlutz_image.png')\n",
    "image_path"
   ]
  },
  {
   "cell_type": "code",
   "execution_count": null,
   "metadata": {},
   "outputs": [],
   "source": [
    "# img = imageio.imread(image_path)\n",
    "# assert np.shape(img) == (1024, 1024)\n",
    "# img = img[:, 1:-1]\n",
    "# assert np.shape(img) == (1024, 1022)\n",
    "# assert img.dtype == np.dtype('uint16')\n",
    "# img = 1 - img[::-1,:] / 2**16\n",
    "# assert img.dtype == np.dtype('float64')"
   ]
  },
  {
   "cell_type": "code",
   "execution_count": null,
   "metadata": {},
   "outputs": [],
   "source": [
    "x, y, img = pymedphys._wlutz.iview.iview_image_transform(image_path)\n",
    "field = pymedphys._wlutz.imginterp.create_interpolated_field(x, y, img)"
   ]
  },
  {
   "cell_type": "code",
   "execution_count": null,
   "metadata": {},
   "outputs": [],
   "source": [
    "edge_lengths = [20, 20]\n",
    "\n",
    "centre, rotation = pymedphys._wlutz.findfield.find_centre_and_rotation(x, y, img, edge_lengths)\n",
    "centre, rotation"
   ]
  },
  {
   "cell_type": "code",
   "execution_count": null,
   "metadata": {},
   "outputs": [],
   "source": []
  },
  {
   "cell_type": "code",
   "execution_count": null,
   "metadata": {},
   "outputs": [],
   "source": [
    "def draw_by_diff(dx, dy, transform):\n",
    "    draw_x = np.cumsum(dx)\n",
    "    draw_y = np.cumsum(dy)\n",
    "\n",
    "    draw_x, draw_y = pymedphys._wlutz.interppoints.apply_transform(draw_x, draw_y, transform)\n",
    "    \n",
    "    return draw_x, draw_y"
   ]
  },
  {
   "cell_type": "code",
   "execution_count": null,
   "metadata": {},
   "outputs": [],
   "source": [
    "transform = matplotlib.transforms.Affine2D()\n",
    "transform.rotate_deg(-rotation)\n",
    "transform.translate(*centre)"
   ]
  },
  {
   "cell_type": "code",
   "execution_count": null,
   "metadata": {},
   "outputs": [],
   "source": [
    "rotation_x_points = np.linspace(-edge_lengths[0]/2, edge_lengths[0]/2, 51)\n",
    "rotation_y_points = np.linspace(-edge_lengths[1]/2, edge_lengths[1]/2, 61)\n",
    "\n",
    "rot_xx_points, rot_yy_points = np.meshgrid(rotation_x_points, rotation_y_points)\n",
    "\n",
    "rot_xx_points, rot_yy_points = pymedphys._wlutz.interppoints.apply_transform(rot_xx_points, rot_yy_points, transform)"
   ]
  },
  {
   "cell_type": "code",
   "execution_count": null,
   "metadata": {},
   "outputs": [],
   "source": [
    "\n",
    "rotation_points_at_origin = pymedphys._wlutz.interppoints.define_rotation_field_points_at_origin([20, 20], 2)\n",
    "rotation_points = pymedphys._wlutz.interppoints.transform_rotation_field_points(rotation_points_at_origin, centre, rotation)"
   ]
  },
  {
   "cell_type": "code",
   "execution_count": null,
   "metadata": {},
   "outputs": [],
   "source": [
    "rect_dx = [-edge_lengths[0]/2, 0, edge_lengths[0], 0, -edge_lengths[0]]\n",
    "rect_dy = [-edge_lengths[1]/2, edge_lengths[1], 0, -edge_lengths[1], 0]\n",
    "\n",
    "rect_crosshair_dx = [-edge_lengths[0]/2, edge_lengths[0], -edge_lengths[0], edge_lengths[0]]\n",
    "rect_crosshair_dy = [-edge_lengths[1]/2, edge_lengths[1], 0, -edge_lengths[1]]\n",
    "\n",
    "plt.figure(figsize=(10,10))\n",
    "plt.pcolormesh(x, y, img)\n",
    "plt.plot(*draw_by_diff(rect_dx, rect_dy, transform), 'k', lw=2)\n",
    "plt.plot(*draw_by_diff(rect_crosshair_dx, rect_crosshair_dy, transform), 'k', lw=0.5)\n",
    "\n",
    "plt.scatter(centre[0], centre[1], c='r', s=1)\n",
    "\n",
    "plt.scatter(rotation_points[0], rotation_points[1], s=1)\n",
    "\n",
    "plt.axis('equal')\n",
    "plt.xlim([-20, 20])\n",
    "plt.ylim([-20, 20])"
   ]
  },
  {
   "cell_type": "code",
   "execution_count": null,
   "metadata": {},
   "outputs": [],
   "source": []
  },
  {
   "cell_type": "code",
   "execution_count": null,
   "metadata": {},
   "outputs": [],
   "source": [
    "# def create_points_to_check(ball_bearing_diameter):\n",
    "#     min_dist = 0.5\n",
    "#     distances = np.arange(0, ball_bearing_diameter, min_dist)\n",
    "\n",
    "#     x = []\n",
    "#     y = []\n",
    "#     dist = []\n",
    "    \n",
    "#     for _, distance in enumerate(distances):\n",
    "#         new_x, new_y = pymedphys._gamma.implementation.shell.calculate_coordinates_shell_2d(distance, min_dist)\n",
    "#         x.append(new_x)\n",
    "#         y.append(new_y)\n",
    "#         dist.append(distance * np.ones_like(new_x))\n",
    "\n",
    "#     x = np.concatenate(x)\n",
    "#     y = np.concatenate(y)\n",
    "#     dist = np.concatenate(dist)\n",
    "    \n",
    "#     def points_to_check(bb_centre):\n",
    "#         x_shifted = x + bb_centre[0]\n",
    "#         y_shifted = y + bb_centre[1]\n",
    "        \n",
    "#         return x_shifted, y_shifted\n",
    "    \n",
    "#     return points_to_check, dist\n",
    "\n",
    "\n",
    "# points_to_check, dist = create_points_to_check(8)\n",
    "# x, y = points_to_check([1.46, -1.9])\n",
    "# plt.scatter(x, y, s=3)\n",
    "# plt.axis('equal')"
   ]
  },
  {
   "cell_type": "code",
   "execution_count": null,
   "metadata": {},
   "outputs": [],
   "source": [
    "# dist_mask = (np.unique(dist)[:, None] == dist[None, :])\n",
    "\n",
    "# x[dist_mask[1]]"
   ]
  },
  {
   "cell_type": "code",
   "execution_count": null,
   "metadata": {},
   "outputs": [],
   "source": [
    "# total_minimisation = 0\n",
    "\n",
    "# previous_mask = dist_mask[0]\n",
    "# previous_field = field(x[previous_mask], y[previous_mask])\n",
    "# mean_previous_field = np.mean(previous_field)\n",
    "\n",
    "# for current_mask in dist_mask[1::]:\n",
    "#     current_field = field(x[current_mask], y[current_mask])\n",
    "#     mean_current_field = np.mean(current_field)\n",
    "\n",
    "#     between_layer_diff = np.mean((mean_previous_field - current_field) ** 3)\n",
    "#     current_layer_sim = np.mean((current_field - mean_current_field)**2)\n",
    "    \n",
    "#     total_minimisation += between_layer_diff + current_layer_sim\n",
    "    \n",
    "#     mean_previous_field = mean_current_field\n",
    "\n",
    "    \n",
    "# total_minimisation"
   ]
  },
  {
   "cell_type": "code",
   "execution_count": null,
   "metadata": {},
   "outputs": [],
   "source": []
  },
  {
   "cell_type": "code",
   "execution_count": null,
   "metadata": {},
   "outputs": [],
   "source": []
  },
  {
   "cell_type": "code",
   "execution_count": null,
   "metadata": {},
   "outputs": [],
   "source": [
    "# dist[None, :] == dist[:, None]"
   ]
  },
  {
   "cell_type": "code",
   "execution_count": null,
   "metadata": {},
   "outputs": [],
   "source": [
    "# def create_bb_to_minimise(field, ball_bearing_diameter):\n",
    "    \n",
    "#     points_to_check, dist = create_points_to_check(ball_bearing_diameter)\n",
    "#     dist_mask = np.unique(dist)[:, None] == dist[None, :]\n",
    "    \n",
    "#     def to_minimise(centre):\n",
    "#         x, y = points_to_check(centre)\n",
    "        \n",
    "#         total_minimisation = 0\n",
    "\n",
    "#         previous_mask = dist_mask[0]\n",
    "#         previous_field = field(x[previous_mask], y[previous_mask])\n",
    "#         mean_previous_field = np.mean(previous_field)\n",
    "\n",
    "#         for current_mask in dist_mask[1::]:\n",
    "#             current_field = field(x[current_mask], y[current_mask])\n",
    "#             mean_current_field = np.mean(current_field)\n",
    "\n",
    "#             between_layer_diff = np.mean(((mean_previous_field - current_field) / mean_previous_field) ** 3)\n",
    "#             current_layer_sim = np.mean(((current_field - mean_current_field) / mean_current_field)**2)\n",
    "\n",
    "#             total_minimisation += between_layer_diff + current_layer_sim\n",
    "\n",
    "#             mean_previous_field = mean_current_field\n",
    "        \n",
    "#         return total_minimisation\n",
    "    \n",
    "#     return to_minimise"
   ]
  },
  {
   "cell_type": "code",
   "execution_count": null,
   "metadata": {},
   "outputs": [],
   "source": []
  },
  {
   "cell_type": "code",
   "execution_count": null,
   "metadata": {},
   "outputs": [],
   "source": []
  },
  {
   "cell_type": "code",
   "execution_count": null,
   "metadata": {},
   "outputs": [],
   "source": []
  },
  {
   "cell_type": "code",
   "execution_count": null,
   "metadata": {},
   "outputs": [],
   "source": [
    "ball_bearing_diameter = 8\n",
    "to_minimise = pymedphys._wlutz.findbb.create_bb_to_minimise(field, ball_bearing_diameter)"
   ]
  },
  {
   "cell_type": "code",
   "execution_count": null,
   "metadata": {},
   "outputs": [],
   "source": [
    "t = np.linspace(0, 2*np.pi)\n",
    "circle_x_origin = ball_bearing_diameter/2 * np.sin(t)\n",
    "circle_y_origin = ball_bearing_diameter/2 * np.cos(t)"
   ]
  },
  {
   "cell_type": "code",
   "execution_count": null,
   "metadata": {},
   "outputs": [],
   "source": []
  },
  {
   "cell_type": "code",
   "execution_count": null,
   "metadata": {},
   "outputs": [],
   "source": [
    "def rect_points(edge_lengths):\n",
    "    rect_dx = [-edge_lengths[0]/2, 0, edge_lengths[0], 0, -edge_lengths[0]]\n",
    "    rect_dy = [-edge_lengths[1]/2, edge_lengths[1], 0, -edge_lengths[1], 0]\n",
    "    \n",
    "    draw_x = np.cumsum(dx)\n",
    "    draw_y = np.cumsum(dy)\n",
    "    \n",
    "    return draw_x, draw_y"
   ]
  },
  {
   "cell_type": "code",
   "execution_count": null,
   "metadata": {},
   "outputs": [],
   "source": [
    "bb_centre = [2, -1]\n",
    "\n",
    "circle_x = circle_x_origin + bb_centre[0]\n",
    "circle_y = circle_y_origin + bb_centre[1]\n",
    "\n",
    "\n",
    "rect_dx = [-edge_lengths[0]/2, 0, edge_lengths[0], 0, -edge_lengths[0]]\n",
    "rect_dy = [-edge_lengths[1]/2, edge_lengths[1], 0, -edge_lengths[1], 0]\n",
    "\n",
    "rect_crosshair_dx = [-edge_lengths[0]/2, edge_lengths[0], -edge_lengths[0], edge_lengths[0]]\n",
    "rect_crosshair_dy = [-edge_lengths[1]/2, edge_lengths[1], 0, -edge_lengths[1]]\n",
    "\n",
    "plt.figure(figsize=(10,10))\n",
    "plt.pcolormesh(x, y, img)\n",
    "plt.plot(*draw_by_diff(rect_dx, rect_dy, transform), 'k', lw=2)\n",
    "plt.plot(*draw_by_diff(rect_crosshair_dx, rect_crosshair_dy, transform), 'k', lw=0.5)\n",
    "\n",
    "plt.scatter(centre[0], centre[1], c='r', s=1)\n",
    "\n",
    "plt.scatter(rotation_points[0], rotation_points[1], s=1)\n",
    "\n",
    "plt.scatter(*bb_centre)\n",
    "plt.plot(circle_x, circle_y, 'k', lw=2)\n",
    "\n",
    "plt.axis('equal')\n",
    "plt.xlim([-20, 20])\n",
    "plt.ylim([-20, 20])\n",
    "\n",
    "\n",
    "to_minimise(bb_centre)"
   ]
  },
  {
   "cell_type": "code",
   "execution_count": null,
   "metadata": {},
   "outputs": [],
   "source": [
    "to_minimise"
   ]
  },
  {
   "cell_type": "code",
   "execution_count": null,
   "metadata": {},
   "outputs": [],
   "source": [
    "def create_centralised_field(field, centre, rotation):\n",
    "    \n",
    "    transform = pymedphys._wlutz.interppoints.translate_and_rotate_transform(centre, rotation)\n",
    "    \n",
    "    def new_field(x, y):\n",
    "        x_prime, y_prime = pymedphys._wlutz.interppoints.apply_transform(x, y, transform)\n",
    "        return field(x_prime, y_prime)\n",
    "    \n",
    "    return new_field\n"
   ]
  },
  {
   "cell_type": "code",
   "execution_count": null,
   "metadata": {},
   "outputs": [],
   "source": [
    "centralised_field = create_centralised_field(field, centre, rotation)"
   ]
  },
  {
   "cell_type": "code",
   "execution_count": null,
   "metadata": {},
   "outputs": [],
   "source": [
    "xx, yy = np.meshgrid(x, y)\n",
    "\n",
    "plt.pcolormesh(x, y, centralised_field(xx, yy))\n",
    "plt.axis('equal')\n",
    "plt.xlim([-20, 20])\n",
    "plt.ylim([-20, 20])"
   ]
  },
  {
   "cell_type": "code",
   "execution_count": null,
   "metadata": {},
   "outputs": [],
   "source": [
    "penumbra = 2\n",
    "bb_diameter =8"
   ]
  },
  {
   "cell_type": "code",
   "execution_count": null,
   "metadata": {},
   "outputs": [],
   "source": [
    "half_field_bounds = [\n",
    "    (edge_lengths[0] - penumbra / 2) / 2, (edge_lengths[1] - penumbra / 2) / 2]\n",
    "\n",
    "bb_radius = bb_diameter / 2\n",
    "\n",
    "circle_centre_bounds = [\n",
    "    (\n",
    "        -half_field_bounds[0] + bb_radius,\n",
    "        half_field_bounds[0] - bb_radius\n",
    "    ),\n",
    "    (\n",
    "        -half_field_bounds[1] + bb_radius,\n",
    "        half_field_bounds[1] - bb_radius\n",
    "    ),\n",
    "]\n",
    "\n"
   ]
  },
  {
   "cell_type": "code",
   "execution_count": null,
   "metadata": {},
   "outputs": [],
   "source": [
    "ball_bearing_diameter = 8\n",
    "centralised_to_minimise = pymedphys._wlutz.findbb.create_bb_to_minimise(centralised_field, ball_bearing_diameter)\n",
    "to_minimise = pymedphys._wlutz.findbb.create_bb_to_minimise(field, ball_bearing_diameter)"
   ]
  },
  {
   "cell_type": "code",
   "execution_count": null,
   "metadata": {},
   "outputs": [],
   "source": []
  },
  {
   "cell_type": "code",
   "execution_count": null,
   "metadata": {},
   "outputs": [],
   "source": []
  },
  {
   "cell_type": "code",
   "execution_count": null,
   "metadata": {},
   "outputs": [],
   "source": [
    "bb_results = scipy.optimize.basinhopping(\n",
    "    centralised_to_minimise, [0, 0], T=1, niter=200, niter_success=5, stepsize=0.25,\n",
    "    minimizer_kwargs={\n",
    "        'method': 'L-BFGS-B',\n",
    "        'bounds': circle_centre_bounds\n",
    "    }\n",
    ")\n",
    "bb_centre_in_centralised_field = bb_results.x\n",
    "\n",
    "bb_centre_in_centralised_field"
   ]
  },
  {
   "cell_type": "code",
   "execution_count": null,
   "metadata": {},
   "outputs": [],
   "source": [
    "transform = pymedphys._wlutz.interppoints.translate_and_rotate_transform(centre, rotation)\n",
    "bb_centre = pymedphys._wlutz.interppoints.apply_transform(*bb_centre_in_centralised_field, transform)\n",
    "bb_centre"
   ]
  },
  {
   "cell_type": "code",
   "execution_count": null,
   "metadata": {},
   "outputs": [],
   "source": [
    "to_minimise(bb_centre)"
   ]
  },
  {
   "cell_type": "code",
   "execution_count": null,
   "metadata": {},
   "outputs": [],
   "source": [
    "to_minimise([1.49, 2])"
   ]
  },
  {
   "cell_type": "code",
   "execution_count": null,
   "metadata": {},
   "outputs": [],
   "source": []
  },
  {
   "cell_type": "code",
   "execution_count": null,
   "metadata": {},
   "outputs": [],
   "source": []
  },
  {
   "cell_type": "code",
   "execution_count": null,
   "metadata": {},
   "outputs": [],
   "source": [
    "x_half_bound = edge_lengths[0]/2 + penumbra * 3\n",
    "y_half_bound = edge_lengths[1]/2 + penumbra * 3\n",
    "\n",
    "\n",
    "x_axis = np.linspace(-x_half_bound, x_half_bound, 200)\n",
    "y_axis = np.linspace(-y_half_bound, y_half_bound, 200)\n",
    "\n",
    "x_field_interp, y_field_interp = pymedphys._wlutz.createaxis.transform_axis(x_axis, y_axis, centre, rotation)\n",
    "x_bb_interp, y_bb_interp = pymedphys._wlutz.createaxis.transform_axis(x_axis, y_axis, bb_centre, 0)\n",
    "\n",
    "# plt.plot(x_interp[0], x_interp[1], label='x-axis')\n",
    "# plt.plot(y_interp[0], y_interp[1], label='y-axis')\n",
    "# # plt.pcolormesh(xx, yy, zz)\n",
    "\n",
    "# plt.legend()\n",
    "# plt.axis('equal')"
   ]
  },
  {
   "cell_type": "code",
   "execution_count": null,
   "metadata": {},
   "outputs": [],
   "source": []
  },
  {
   "cell_type": "code",
   "execution_count": null,
   "metadata": {},
   "outputs": [],
   "source": []
  },
  {
   "cell_type": "code",
   "execution_count": null,
   "metadata": {},
   "outputs": [],
   "source": [
    "# bb_centre = [1.5, 1]\n",
    "\n",
    "bb_radius = bb_diameter / 2\n",
    "\n",
    "circle_x = circle_x_origin + bb_centre[0]\n",
    "circle_y = circle_y_origin + bb_centre[1]\n",
    "\n",
    "\n",
    "rect_dx = [-edge_lengths[0]/2, 0, edge_lengths[0], 0, -edge_lengths[0]]\n",
    "rect_dy = [-edge_lengths[1]/2, edge_lengths[1], 0, -edge_lengths[1], 0]\n",
    "\n",
    "rect_crosshair_dx = [-edge_lengths[0]/2, edge_lengths[0], -edge_lengths[0], edge_lengths[0]]\n",
    "rect_crosshair_dy = [-edge_lengths[1]/2, edge_lengths[1], 0, -edge_lengths[1]]\n",
    "\n",
    "bb_crosshair = np.array([-bb_radius, bb_radius])\n",
    "\n",
    "plt.figure(figsize=(10,10))\n",
    "plt.contourf(x, y, img, 100)\n",
    "\n",
    "plt.plot([bb_centre[0], ]*2, bb_crosshair + bb_centre[1], 'k', lw=1)\n",
    "plt.plot(bb_crosshair + bb_centre[0], [bb_centre[1], ]*2, 'k', lw=1)\n",
    "\n",
    "plt.plot(*draw_by_diff(rect_dx, rect_dy, transform), 'k', lw=3)\n",
    "plt.plot(*draw_by_diff(rect_crosshair_dx, rect_crosshair_dy, transform), 'k', lw=1)\n",
    "\n",
    "plt.plot([centre[0], bb_centre[0]], [centre[1], bb_centre[1]], c='C3', lw=3)\n",
    "\n",
    "# plt.scatter(rotation_points[0], rotation_points[1], s=1)\n",
    "\n",
    "# plt.scatter(*bb_centre)\n",
    "plt.plot(circle_x, circle_y, 'k', lw=3)\n",
    "\n",
    "plt.plot(x_field_interp[0], x_field_interp[1], 'k', lw=0.5, alpha=0.3)\n",
    "plt.plot(y_field_interp[0], y_field_interp[1], 'k', lw=0.5, alpha=0.3)\n",
    "\n",
    "plt.plot(x_bb_interp[0], x_bb_interp[1], 'k', lw=0.5, alpha=0.3)\n",
    "plt.plot(y_bb_interp[0], y_bb_interp[1], 'k', lw=0.5, alpha=0.3)\n",
    "\n",
    "plt.axis('equal')\n",
    "plt.xlim([-20, 20])\n",
    "plt.ylim([-20, 20])\n",
    "\n",
    "plt.colorbar()\n",
    "\n",
    "to_minimise(bb_centre)\n",
    "\n"
   ]
  },
  {
   "cell_type": "code",
   "execution_count": null,
   "metadata": {},
   "outputs": [],
   "source": [
    "plt.plot(x_axis, field(*x_field_interp))\n",
    "plt.plot(-x_axis, field(*x_field_interp))"
   ]
  },
  {
   "cell_type": "code",
   "execution_count": null,
   "metadata": {},
   "outputs": [],
   "source": [
    "plt.plot(y_axis, field(*y_field_interp))\n",
    "plt.plot(-y_axis, field(*y_field_interp))"
   ]
  },
  {
   "cell_type": "code",
   "execution_count": null,
   "metadata": {},
   "outputs": [],
   "source": [
    "plt.plot(x_axis, field(*x_bb_interp))\n",
    "plt.plot(-x_axis, field(*x_bb_interp))"
   ]
  },
  {
   "cell_type": "code",
   "execution_count": null,
   "metadata": {},
   "outputs": [],
   "source": [
    "plt.plot(y_axis, field(*y_bb_interp))\n",
    "plt.plot(-y_axis, field(*y_bb_interp))\n",
    "plt.plot([-bb_diameter/2, bb_diameter/2], [0.6, 0.6])"
   ]
  },
  {
   "cell_type": "code",
   "execution_count": null,
   "metadata": {},
   "outputs": [],
   "source": []
  },
  {
   "cell_type": "code",
   "execution_count": null,
   "metadata": {},
   "outputs": [],
   "source": []
  },
  {
   "cell_type": "code",
   "execution_count": null,
   "metadata": {},
   "outputs": [],
   "source": []
  },
  {
   "cell_type": "code",
   "execution_count": null,
   "metadata": {},
   "outputs": [],
   "source": [
    "x_bb_interp"
   ]
  },
  {
   "cell_type": "code",
   "execution_count": null,
   "metadata": {},
   "outputs": [],
   "source": []
  },
  {
   "cell_type": "code",
   "execution_count": null,
   "metadata": {},
   "outputs": [],
   "source": []
  },
  {
   "cell_type": "code",
   "execution_count": null,
   "metadata": {},
   "outputs": [],
   "source": [
    "np.array(bb_centre) - np.array(centre)"
   ]
  },
  {
   "cell_type": "code",
   "execution_count": null,
   "metadata": {},
   "outputs": [],
   "source": []
  },
  {
   "cell_type": "code",
   "execution_count": null,
   "metadata": {},
   "outputs": [],
   "source": []
  },
  {
   "cell_type": "code",
   "execution_count": null,
   "metadata": {},
   "outputs": [],
   "source": []
  },
  {
   "cell_type": "code",
   "execution_count": null,
   "metadata": {},
   "outputs": [],
   "source": [
    "bb_centre"
   ]
  },
  {
   "cell_type": "code",
   "execution_count": null,
   "metadata": {},
   "outputs": [],
   "source": [
    "plt.pcolormesh(x, y, centralised_field(xx, yy))\n",
    "\n",
    "\n",
    "plt.plot(circle_centre_bounds[0], circle_centre_bounds[1], '.')\n",
    "plt.plot(circle_centre_bounds[0][::-1], circle_centre_bounds[1], '.')\n",
    "\n",
    "plt.plot(half_field_bounds[0], half_field_bounds[1], '.')\n",
    "\n",
    "plt.axis('equal')\n",
    "plt.xlim([-20, 20])\n",
    "plt.ylim([-20, 20])"
   ]
  },
  {
   "cell_type": "code",
   "execution_count": null,
   "metadata": {},
   "outputs": [],
   "source": []
  }
 ],
 "metadata": {
  "kernelspec": {
   "display_name": "pymedphys-master",
   "language": "python",
   "name": "pymedphys-master"
  },
  "language_info": {
   "codemirror_mode": {
    "name": "ipython",
    "version": 3
   },
   "file_extension": ".py",
   "mimetype": "text/x-python",
   "name": "python",
   "nbconvert_exporter": "python",
   "pygments_lexer": "ipython3",
   "version": "3.7.0"
  }
 },
 "nbformat": 4,
 "nbformat_minor": 4
}
