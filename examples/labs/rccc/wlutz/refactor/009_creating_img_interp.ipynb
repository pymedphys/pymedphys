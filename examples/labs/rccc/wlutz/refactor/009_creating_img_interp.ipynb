{
 "cells": [
  {
   "cell_type": "code",
   "execution_count": null,
   "metadata": {},
   "outputs": [],
   "source": [
    "%load_ext autoreload\n",
    "%autoreload 2"
   ]
  },
  {
   "cell_type": "code",
   "execution_count": null,
   "metadata": {},
   "outputs": [],
   "source": [
    "import pathlib\n",
    "import urllib.request\n",
    "\n",
    "import numpy as np\n",
    "import matplotlib.pyplot as plt\n",
    "import matplotlib.transforms\n",
    "import scipy.ndimage.measurements\n",
    "import scipy.interpolate\n",
    "import scipy.optimize\n",
    "\n",
    "import imageio\n",
    "\n",
    "import pymedphys\n",
    "import pymedphys._mocks.profiles\n",
    "import pymedphys._wlutz.findfield\n",
    "import pymedphys._wlutz.createaxis\n",
    "import pymedphys._wlutz.interppoints\n"
   ]
  },
  {
   "cell_type": "code",
   "execution_count": null,
   "metadata": {},
   "outputs": [],
   "source": [
    "image_path = pymedphys.data_path('wlutz_image.png')\n",
    "image_path"
   ]
  },
  {
   "cell_type": "code",
   "execution_count": null,
   "metadata": {},
   "outputs": [],
   "source": [
    "img = imageio.imread(image_path)\n",
    "assert np.shape(img) == (1024, 1024)\n",
    "img = img[:, 1:-1]\n",
    "assert np.shape(img) == (1024, 1022)\n",
    "assert img.dtype == np.dtype('uint16')\n",
    "img = 1 - img[::-1,:] / 2**16\n",
    "assert img.dtype == np.dtype('float64')"
   ]
  },
  {
   "cell_type": "code",
   "execution_count": null,
   "metadata": {},
   "outputs": [],
   "source": [
    "shape = np.shape(img)\n",
    "x = np.arange(-shape[1]/2, shape[1]/2)/4\n",
    "y = np.arange(-shape[0]/2, shape[0]/2)/4"
   ]
  },
  {
   "cell_type": "code",
   "execution_count": null,
   "metadata": {},
   "outputs": [],
   "source": [
    "def create_interpolated_field(x, y, img):\n",
    "    interpolation = scipy.interpolate.RectBivariateSpline(x, y, img.T, kx=1, ky=1)\n",
    "    \n",
    "    def field(x, y):\n",
    "        if np.shape(x) != np.shape(y):\n",
    "            raise ValueError(\"x and y required to be the same shape\")\n",
    "            \n",
    "        result = interpolation.ev(np.ravel(x), np.ravel(y))\n",
    "        result.shape = x.shape\n",
    "        \n",
    "        return result\n",
    "    \n",
    "    return field"
   ]
  },
  {
   "cell_type": "code",
   "execution_count": null,
   "metadata": {},
   "outputs": [],
   "source": [
    "field = create_interpolated_field(x, y, img)"
   ]
  },
  {
   "cell_type": "code",
   "execution_count": null,
   "metadata": {},
   "outputs": [],
   "source": [
    "plt.contourf(x, y, img, 30)\n",
    "plt.axis('equal')\n",
    "plt.xlim([-25, 25])\n",
    "plt.ylim([-25, 25])\n",
    "plt.colorbar()"
   ]
  },
  {
   "cell_type": "code",
   "execution_count": null,
   "metadata": {},
   "outputs": [],
   "source": [
    "xx, yy = np.meshgrid(x, y)"
   ]
  },
  {
   "cell_type": "code",
   "execution_count": null,
   "metadata": {},
   "outputs": [],
   "source": [
    "plt.contourf(x, y, field(xx, yy), 30)\n",
    "plt.axis('equal')\n",
    "plt.xlim([-25, 25])\n",
    "plt.ylim([-25, 25])\n",
    "plt.colorbar()"
   ]
  },
  {
   "cell_type": "code",
   "execution_count": null,
   "metadata": {},
   "outputs": [],
   "source": [
    "assert np.all(field(xx, yy) == img)"
   ]
  },
  {
   "cell_type": "code",
   "execution_count": null,
   "metadata": {},
   "outputs": [],
   "source": []
  }
 ],
 "metadata": {
  "kernelspec": {
   "display_name": "pymedphys-master",
   "language": "python",
   "name": "pymedphys-master"
  },
  "language_info": {
   "codemirror_mode": {
    "name": "ipython",
    "version": 3
   },
   "file_extension": ".py",
   "mimetype": "text/x-python",
   "name": "python",
   "nbconvert_exporter": "python",
   "pygments_lexer": "ipython3",
   "version": "3.7.0"
  }
 },
 "nbformat": 4,
 "nbformat_minor": 4
}
