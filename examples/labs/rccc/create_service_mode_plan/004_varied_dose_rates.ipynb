{
 "cells": [
  {
   "cell_type": "code",
   "execution_count": null,
   "metadata": {},
   "outputs": [],
   "source": [
    "%load_ext autoreload\n",
    "%autoreload 2"
   ]
  },
  {
   "cell_type": "code",
   "execution_count": null,
   "metadata": {},
   "outputs": [],
   "source": [
    "import time"
   ]
  },
  {
   "cell_type": "code",
   "execution_count": null,
   "metadata": {},
   "outputs": [],
   "source": [
    "import pydicom\n",
    "import pynetdicom"
   ]
  },
  {
   "cell_type": "code",
   "execution_count": null,
   "metadata": {},
   "outputs": [],
   "source": [
    "# time.sleep(1)"
   ]
  },
  {
   "cell_type": "code",
   "execution_count": null,
   "metadata": {},
   "outputs": [],
   "source": [
    "import pymedphys.labs.serviceplans.create"
   ]
  },
  {
   "cell_type": "code",
   "execution_count": null,
   "metadata": {},
   "outputs": [],
   "source": [
    "pynetdicom.AE"
   ]
  },
  {
   "cell_type": "code",
   "execution_count": null,
   "metadata": {},
   "outputs": [],
   "source": [
    "pynetdicom.sop_class.RTPlanStorage"
   ]
  },
  {
   "cell_type": "code",
   "execution_count": null,
   "metadata": {},
   "outputs": [],
   "source": [
    "pydicom.uid.ExplicitVRLittleEndian"
   ]
  },
  {
   "cell_type": "code",
   "execution_count": null,
   "metadata": {},
   "outputs": [],
   "source": [
    "ae = pynetdicom.AE(ae_title=b'CMS_SCU')"
   ]
  },
  {
   "cell_type": "code",
   "execution_count": null,
   "metadata": {},
   "outputs": [],
   "source": [
    "ae.requested_contexts = pynetdicom .VerificationPresentationContexts\n",
    "ae.add_requested_context(\n",
    "    pynetdicom.sop_class.RTPlanStorage,\n",
    "    transfer_syntax=pydicom.uid.ExplicitVRLittleEndian\n",
    ")"
   ]
  },
  {
   "cell_type": "code",
   "execution_count": null,
   "metadata": {},
   "outputs": [],
   "source": []
  },
  {
   "cell_type": "code",
   "execution_count": null,
   "metadata": {},
   "outputs": [],
   "source": [
    "# pymedphys.labs.serviceplans.create.main()"
   ]
  },
  {
   "cell_type": "code",
   "execution_count": null,
   "metadata": {},
   "outputs": [],
   "source": [
    "full_dose_rates = {\n",
    "    '06MV': 600,\n",
    "    '06FFF': 1560,\n",
    "    '10MV': 480,\n",
    "    '10FFF': 2300\n",
    "}\n",
    "\n",
    "half_dose_rates = {\n",
    "    key: item // 2 for key, item in full_dose_rates.items()\n",
    "}\n",
    "eighth_dose_rates = {\n",
    "    key: item // 8 for key, item in full_dose_rates.items()\n",
    "}\n",
    "\n",
    "dose_rate_options = [full_dose_rates, half_dose_rates, eighth_dose_rates]"
   ]
  },
  {
   "cell_type": "code",
   "execution_count": null,
   "metadata": {},
   "outputs": [],
   "source": [
    "plans = {}\n",
    "\n",
    "for dose_rate_lookup in dose_rate_options:\n",
    "    for energy, dose_rate in dose_rate_lookup.items():\n",
    "#         plans[(energy, dose_rate)] = pymedphys.labs.serviceplans.create.main(energy, dose_rate)\n",
    "        plans[(energy, dose_rate)] = None\n",
    "        "
   ]
  },
  {
   "cell_type": "code",
   "execution_count": null,
   "metadata": {},
   "outputs": [],
   "source": [
    "# plans"
   ]
  },
  {
   "cell_type": "code",
   "execution_count": null,
   "metadata": {},
   "outputs": [],
   "source": [
    "keys = list(plans.keys())\n",
    "key = keys[0]\n",
    "energy, dose_rate = key"
   ]
  },
  {
   "cell_type": "code",
   "execution_count": null,
   "metadata": {},
   "outputs": [],
   "source": [
    "\n"
   ]
  },
  {
   "cell_type": "code",
   "execution_count": null,
   "metadata": {},
   "outputs": [],
   "source": [
    "assoc.is_established"
   ]
  },
  {
   "cell_type": "code",
   "execution_count": null,
   "metadata": {},
   "outputs": [],
   "source": [
    "plan_file_name = f\"VMAT_MVISOArc_{energy}-{dose_rate}.dcm\"\n",
    "plan_file_name"
   ]
  },
  {
   "cell_type": "code",
   "execution_count": null,
   "metadata": {},
   "outputs": [],
   "source": [
    "plan = pydicom.dcmread(plan_file_name, force=True)\n",
    "plan.TransferSyntaxUID"
   ]
  },
  {
   "cell_type": "code",
   "execution_count": null,
   "metadata": {},
   "outputs": [],
   "source": [
    "plan.TransferSyntaxUID = pydicom.uid.ExplicitVRLittleEndian"
   ]
  },
  {
   "cell_type": "code",
   "execution_count": null,
   "metadata": {},
   "outputs": [],
   "source": [
    "plan.fix_meta_info(enforce_standard=True)"
   ]
  },
  {
   "cell_type": "code",
   "execution_count": null,
   "metadata": {},
   "outputs": [],
   "source": [
    "# 127.0.0.1 44104\n",
    "assoc = ae.associate('127.0.0.1', 44104, ae_title='EOS_RTD')\n",
    "assoc.is_established\n",
    "assoc.release()"
   ]
  },
  {
   "cell_type": "code",
   "execution_count": null,
   "metadata": {},
   "outputs": [],
   "source": [
    "assoc = ae.associate('192.168.100.200', 104, ae_title='EOS_RTD')\n",
    "status = assoc.send_c_store(plan)\n",
    "assoc.release()\n",
    "pynetdicom.status.code_to_category(status.Status)\n"
   ]
  },
  {
   "cell_type": "code",
   "execution_count": null,
   "metadata": {},
   "outputs": [],
   "source": []
  },
  {
   "cell_type": "code",
   "execution_count": null,
   "metadata": {},
   "outputs": [],
   "source": []
  },
  {
   "cell_type": "code",
   "execution_count": null,
   "metadata": {},
   "outputs": [],
   "source": [
    "status.Status"
   ]
  },
  {
   "cell_type": "code",
   "execution_count": null,
   "metadata": {},
   "outputs": [],
   "source": [
    "# for (energy, dose_rate), plan in plans.items():\n",
    "#     plan_file_name = f\"VMAT_MVISOArc_{energy}-{dose_rate}.dcm\"\n",
    "# #     plan.save_as(plan_file_name)\n",
    "# #     !dcmsend 192.168.100.200 104 {plan_file_name} --read-dataset --aetitle CMS_SCU --call EOS_RTD -d\n",
    "# #     !dcmsend 192.168.100.201 104 {plan_file_name} --read-dataset --aetitle CMS_SCU --call EOS_RTD -d\n",
    "# #     !dcmsend 127.0.0.1 44104 {plan_file_name} --read-dataset --aetitle CMS_SCU --call EOS_RTD -d\n",
    "#     !dcmsend 127.0.0.1 43104 {plan_file_name} --read-dataset --aetitle CMS_SCU --call EOS_RTD -d\n",
    "# #     time.sleep(2)\n",
    "#     break"
   ]
  },
  {
   "cell_type": "raw",
   "metadata": {},
   "source": [
    "## PETER ##\n",
    "\n",
    "D: $dcmtk: dcmsend v3.6.4 2018-11-29 $\n",
    "D: \n",
    "I: checking input files ...\n",
    "D: adding DICOM file 'VMAT_MVISOArc_06MV-600.dcm'\n",
    "D: getting SOP Class UID, SOP Instance UID and Transfer Syntax UID from DICOM file\n",
    "D: no SOP Class UID and/or SOP Instance UID found in meta-header, checking dataset instead\n",
    "D: DcmDataset::read() trying to detect transfer syntax of data set (because it is unknown)\n",
    "D: DcmDataset::read() TransferSyntax=\"Little Endian Implicit\"\n",
    "D: no Transfer Syntax UID found in meta-header, trying to determine from dataset instead\n",
    "D: successfully added SOP instance 2.16.840.1.114337.1.1.1568332762.0 to the transfer list\n",
    "D: in total, there are 1 SOP instances to be sent, 0 invalid files are ignored\n",
    "D: multiple associations allowed (option --multi-associations used)\n",
    "D: preparing presentation context for SOP Class / Transfer Syntax: RTPlanStorage / Little Endian Implicit\n",
    "D: added new presentation context with ID 1\n",
    "D: -----------------------------------------------------------------\n",
    "D: starting association #1\n",
    "I: initializing network ...\n",
    "D: Configured a total of 1 presentation contexts for SCU\n",
    "I: negotiating network association ...\n",
    "D: Request Parameters:\n",
    "D: ====================== BEGIN A-ASSOCIATE-RQ =====================\n",
    "D: Our Implementation Class UID:      1.2.276.0.7230010.3.0.3.6.4\n",
    "D: Our Implementation Version Name:   OFFIS_DCMTK_364\n",
    "D: Their Implementation Class UID:    \n",
    "D: Their Implementation Version Name: \n",
    "D: Application Context Name:    1.2.840.10008.3.1.1.1\n",
    "D: Calling Application Name:    CMS_SCU\n",
    "D: Called Application Name:     EOS_RTD\n",
    "D: Responding Application Name: EOS_RTD\n",
    "D: Our Max PDU Receive Size:    16384\n",
    "D: Their Max PDU Receive Size:  0\n",
    "D: Presentation Contexts:\n",
    "D:   Context ID:        1 (Proposed)\n",
    "D:     Abstract Syntax: =RTPlanStorage\n",
    "D:     Proposed SCP/SCU Role: Default\n",
    "D:     Proposed Transfer Syntax(es):\n",
    "D:       =LittleEndianExplicit\n",
    "D:       =BigEndianExplicit\n",
    "D:       =LittleEndianImplicit\n",
    "D: Requested Extended Negotiation: none\n",
    "D: Accepted Extended Negotiation:  none\n",
    "D: Requested User Identity Negotiation: none\n",
    "D: User Identity Negotiation Response:  none\n",
    "D: ======================= END A-ASSOCIATE-RQ ======================\n",
    "I: Requesting Association\n",
    "D: setting network send timeout to 60 seconds\n",
    "D: setting network receive timeout to 60 seconds\n",
    "D: Constructing Associate RQ PDU\n",
    "D: PDU Type: Associate Accept, PDU Length: 185 + 6 bytes PDU header\n",
    "D:   02  00  00  00  00  b9  00  01  00  00  45  4f  53  5f  52  54\n",
    "D:   44  20  20  20  20  20  20  20  20  20  43  4d  53  5f  53  43\n",
    "D:   55  20  20  20  20  20  20  20  20  20  00  00  00  00  00  00\n",
    "D:   00  00  00  00  00  00  00  00  00  00  00  00  00  00  00  00\n",
    "D:   00  00  00  00  00  00  00  00  00  00  10  00  00  15  31  2e\n",
    "D:   32  2e  38  34  30  2e  31  30  30  30  38  2e  33  2e  31  2e\n",
    "D:   31  2e  31  21  00  00  1b  01  00  00  00  40  00  00  13  31\n",
    "D:   2e  32  2e  38  34  30  2e  31  30  30  30  38  2e  31  2e  32\n",
    "D:   2e  31  50  00  00  39  51  00  00  04  00  00  40  00  52  00\n",
    "D:   00  1a  31  2e  33  2e  34  36  2e  34  32  33  36  33  32  2e\n",
    "D:   31  32  39  30  30  30  2e  33  2e  31  2e  30  55  00  00  0f\n",
    "D:   49  6e  74  65  67  72  69  74  79  5f  33  2e  31  2e  30\n",
    "D: Parsing an A-ASSOCIATE PDU\n",
    "D: Association Parameters Negotiated:\n",
    "D: ====================== BEGIN A-ASSOCIATE-AC =====================\n",
    "D: Our Implementation Class UID:      1.2.276.0.7230010.3.0.3.6.4\n",
    "D: Our Implementation Version Name:   OFFIS_DCMTK_364\n",
    "D: Their Implementation Class UID:    1.3.46.423632.129000.3.1.0\n",
    "D: Their Implementation Version Name: Integrity_3.1.0\n",
    "D: Application Context Name:    1.2.840.10008.3.1.1.1\n",
    "D: Calling Application Name:    CMS_SCU\n",
    "D: Called Application Name:     EOS_RTD\n",
    "D: Responding Application Name: EOS_RTD\n",
    "D: Our Max PDU Receive Size:    16384\n",
    "D: Their Max PDU Receive Size:  16384\n",
    "D: Presentation Contexts:\n",
    "D:   Context ID:        1 (Accepted)\n",
    "D:     Abstract Syntax: =RTPlanStorage\n",
    "D:     Proposed SCP/SCU Role: Default\n",
    "D:     Accepted SCP/SCU Role: Default\n",
    "D:     Accepted Transfer Syntax: =LittleEndianExplicit\n",
    "D: Requested Extended Negotiation: none\n",
    "D: Accepted Extended Negotiation:  none\n",
    "D: Requested User Identity Negotiation: none\n",
    "D: User Identity Negotiation Response:  none\n",
    "D: ======================= END A-ASSOCIATE-AC ======================\n",
    "I: Association Accepted (Max Send PDV: 16372)\n",
    "I: sending SOP instances ...\n",
    "D: sending SOP instance from file: VMAT_MVISOArc_06MV-600.dcm\n",
    "D: DcmDataset::read() trying to detect transfer syntax of data set (because it is unknown)\n",
    "D: DcmDataset::read() TransferSyntax=\"Little Endian Implicit\"\n",
    "D: checking whether SOP Class UID and SOP Instance UID in dataset are consistent with transfer list\n",
    "D: getting SOP Class UID, SOP Instance UID and Transfer Syntax UID from DICOM dataset\n",
    "I: Converting transfer syntax: Little Endian Implicit -> Little Endian Explicit\n",
    "I: Sending C-STORE Request\n",
    "D: ===================== OUTGOING DIMSE MESSAGE ====================\n",
    "D: Message Type                  : C-STORE RQ\n",
    "D: Presentation Context ID       : 1\n",
    "D: Message ID                    : 1\n",
    "D: Affected SOP Class UID        : RTPlanStorage\n",
    "D: Affected SOP Instance UID     : 2.16.840.1.114337.1.1.1568332762.0\n",
    "D: Data Set                      : present\n",
    "D: Priority                      : medium\n",
    "D: ======================= END DIMSE MESSAGE =======================\n",
    "D: DcmDataset::read() TransferSyntax=\"Little Endian Implicit\"\n",
    "I: Received C-STORE Response\n",
    "D: ===================== INCOMING DIMSE MESSAGE ====================\n",
    "D: Message Type                  : C-STORE RSP\n",
    "D: Presentation Context ID       : 1\n",
    "D: Message ID Being Responded To : 1\n",
    "D: Affected SOP Class UID        : RTPlanStorage\n",
    "D: Affected SOP Instance UID     : 2.16.840.1.114337.1.1.1568332762.0\n",
    "D: Data Set                      : none\n",
    "D: DIMSE Status                  : 0xb000: Warning: Coercion of data elements\n",
    "D: ======================= END DIMSE MESSAGE =======================\n",
    "I: Releasing Association\n",
    "D: Cleaning up internal association and network structures\n",
    "I: \n",
    "I: Status Summary\n",
    "I: --------------\n",
    "I: Number of associations   : 1\n",
    "I: Number of pres. contexts : 1\n",
    "I: Number of SOP instances  : 1\n",
    "I: - sent to the peer       : 1\n",
    "I:   * with status WARNING  : 1"
   ]
  },
  {
   "cell_type": "raw",
   "metadata": {},
   "source": [
    "### HARRY ###\n",
    "\n",
    "D: $dcmtk: dcmsend v3.6.4 2018-11-29 $\n",
    "D: \n",
    "I: checking input files ...\n",
    "D: adding DICOM file 'VMAT_MVISOArc_06MV-600.dcm'\n",
    "D: getting SOP Class UID, SOP Instance UID and Transfer Syntax UID from DICOM file\n",
    "D: no SOP Class UID and/or SOP Instance UID found in meta-header, checking dataset instead\n",
    "D: DcmDataset::read() trying to detect transfer syntax of data set (because it is unknown)\n",
    "D: DcmDataset::read() TransferSyntax=\"Little Endian Implicit\"\n",
    "D: no Transfer Syntax UID found in meta-header, trying to determine from dataset instead\n",
    "D: successfully added SOP instance 2.16.840.1.114337.1.1.1568332762.0 to the transfer list\n",
    "D: in total, there are 1 SOP instances to be sent, 0 invalid files are ignored\n",
    "D: multiple associations allowed (option --multi-associations used)\n",
    "D: preparing presentation context for SOP Class / Transfer Syntax: RTPlanStorage / Little Endian Implicit\n",
    "D: added new presentation context with ID 1\n",
    "D: -----------------------------------------------------------------\n",
    "D: starting association #1\n",
    "I: initializing network ...\n",
    "D: Configured a total of 1 presentation contexts for SCU\n",
    "I: negotiating network association ...\n",
    "D: Request Parameters:\n",
    "D: ====================== BEGIN A-ASSOCIATE-RQ =====================\n",
    "D: Our Implementation Class UID:      1.2.276.0.7230010.3.0.3.6.4\n",
    "D: Our Implementation Version Name:   OFFIS_DCMTK_364\n",
    "D: Their Implementation Class UID:    \n",
    "D: Their Implementation Version Name: \n",
    "D: Application Context Name:    1.2.840.10008.3.1.1.1\n",
    "D: Calling Application Name:    CMS_SCU\n",
    "D: Called Application Name:     EOS_RTD\n",
    "D: Responding Application Name: EOS_RTD\n",
    "D: Our Max PDU Receive Size:    16384\n",
    "D: Their Max PDU Receive Size:  0\n",
    "D: Presentation Contexts:\n",
    "D:   Context ID:        1 (Proposed)\n",
    "D:     Abstract Syntax: =RTPlanStorage\n",
    "D:     Proposed SCP/SCU Role: Default\n",
    "D:     Proposed Transfer Syntax(es):\n",
    "D:       =LittleEndianExplicit\n",
    "D:       =BigEndianExplicit\n",
    "D:       =LittleEndianImplicit\n",
    "D: Requested Extended Negotiation: none\n",
    "D: Accepted Extended Negotiation:  none\n",
    "D: Requested User Identity Negotiation: none\n",
    "D: User Identity Negotiation Response:  none\n",
    "D: ======================= END A-ASSOCIATE-RQ ======================\n",
    "I: Requesting Association\n",
    "D: setting network send timeout to 60 seconds\n",
    "D: setting network receive timeout to 60 seconds\n",
    "D: Constructing Associate RQ PDU\n",
    "D: PDU Type: Associate Accept, PDU Length: 185 + 6 bytes PDU header\n",
    "D:   02  00  00  00  00  b9  00  01  00  00  45  4f  53  5f  52  54\n",
    "D:   44  20  20  20  20  20  20  20  20  20  43  4d  53  5f  53  43\n",
    "D:   55  20  20  20  20  20  20  20  20  20  00  00  00  00  00  00\n",
    "D:   00  00  00  00  00  00  00  00  00  00  00  00  00  00  00  00\n",
    "D:   00  00  00  00  00  00  00  00  00  00  10  00  00  15  31  2e\n",
    "D:   32  2e  38  34  30  2e  31  30  30  30  38  2e  33  2e  31  2e\n",
    "D:   31  2e  31  21  00  00  1b  01  00  00  00  40  00  00  13  31\n",
    "D:   2e  32  2e  38  34  30  2e  31  30  30  30  38  2e  31  2e  32\n",
    "D:   2e  31  50  00  00  39  51  00  00  04  00  00  40  00  52  00\n",
    "D:   00  1a  31  2e  33  2e  34  36  2e  34  32  33  36  33  32  2e\n",
    "D:   31  32  39  30  30  30  2e  33  2e  31  2e  30  55  00  00  0f\n",
    "D:   49  6e  74  65  67  72  69  74  79  5f  33  2e  31  2e  30\n",
    "D: Parsing an A-ASSOCIATE PDU\n",
    "D: Association Parameters Negotiated:\n",
    "D: ====================== BEGIN A-ASSOCIATE-AC =====================\n",
    "D: Our Implementation Class UID:      1.2.276.0.7230010.3.0.3.6.4\n",
    "D: Our Implementation Version Name:   OFFIS_DCMTK_364\n",
    "D: Their Implementation Class UID:    1.3.46.423632.129000.3.1.0\n",
    "D: Their Implementation Version Name: Integrity_3.1.0\n",
    "D: Application Context Name:    1.2.840.10008.3.1.1.1\n",
    "D: Calling Application Name:    CMS_SCU\n",
    "D: Called Application Name:     EOS_RTD\n",
    "D: Responding Application Name: EOS_RTD\n",
    "D: Our Max PDU Receive Size:    16384\n",
    "D: Their Max PDU Receive Size:  16384\n",
    "D: Presentation Contexts:\n",
    "D:   Context ID:        1 (Accepted)\n",
    "D:     Abstract Syntax: =RTPlanStorage\n",
    "D:     Proposed SCP/SCU Role: Default\n",
    "D:     Accepted SCP/SCU Role: Default\n",
    "D:     Accepted Transfer Syntax: =LittleEndianExplicit\n",
    "D: Requested Extended Negotiation: none\n",
    "D: Accepted Extended Negotiation:  none\n",
    "D: Requested User Identity Negotiation: none\n",
    "D: User Identity Negotiation Response:  none\n",
    "D: ======================= END A-ASSOCIATE-AC ======================\n",
    "I: Association Accepted (Max Send PDV: 16372)\n",
    "I: sending SOP instances ...\n",
    "D: sending SOP instance from file: VMAT_MVISOArc_06MV-600.dcm\n",
    "D: DcmDataset::read() trying to detect transfer syntax of data set (because it is unknown)\n",
    "D: DcmDataset::read() TransferSyntax=\"Little Endian Implicit\"\n",
    "D: checking whether SOP Class UID and SOP Instance UID in dataset are consistent with transfer list\n",
    "D: getting SOP Class UID, SOP Instance UID and Transfer Syntax UID from DICOM dataset\n",
    "I: Converting transfer syntax: Little Endian Implicit -> Little Endian Explicit\n",
    "I: Sending C-STORE Request\n",
    "D: ===================== OUTGOING DIMSE MESSAGE ====================\n",
    "D: Message Type                  : C-STORE RQ\n",
    "D: Presentation Context ID       : 1\n",
    "D: Message ID                    : 1\n",
    "D: Affected SOP Class UID        : RTPlanStorage\n",
    "D: Affected SOP Instance UID     : 2.16.840.1.114337.1.1.1568332762.0\n",
    "D: Data Set                      : present\n",
    "D: Priority                      : medium\n",
    "D: ======================= END DIMSE MESSAGE =======================\n",
    "D: DcmDataset::read() TransferSyntax=\"Little Endian Implicit\"\n",
    "I: Received C-STORE Response\n",
    "D: ===================== INCOMING DIMSE MESSAGE ====================\n",
    "D: Message Type                  : C-STORE RSP\n",
    "D: Presentation Context ID       : 1\n",
    "D: Message ID Being Responded To : 1\n",
    "D: Affected SOP Class UID        : RTPlanStorage\n",
    "D: Affected SOP Instance UID     : 2.16.840.1.114337.1.1.1568332762.0\n",
    "D: Data Set                      : none\n",
    "D: DIMSE Status                  : 0xc004: Error: Cannot understand\n",
    "D: ======================= END DIMSE MESSAGE =======================\n",
    "I: Releasing Association\n",
    "D: Cleaning up internal association and network structures\n",
    "I: \n",
    "I: Status Summary\n",
    "I: --------------\n",
    "I: Number of associations   : 1\n",
    "I: Number of pres. contexts : 1\n",
    "I: Number of SOP instances  : 1\n",
    "I: - sent to the peer       : 1\n",
    "I:   * with status ERROR    : 1"
   ]
  },
  {
   "cell_type": "code",
   "execution_count": null,
   "metadata": {},
   "outputs": [],
   "source": [
    "# new_plan"
   ]
  },
  {
   "cell_type": "code",
   "execution_count": null,
   "metadata": {},
   "outputs": [],
   "source": [
    "# timestamp = datetime.now().isoformat(sep='_').split('.')[0].replace('-', '').replace(':', '')\n",
    "# plan_file_name = f\"VMAT_MVISOArc_{energy}.dcm\"\n",
    "# plan_file_name"
   ]
  },
  {
   "cell_type": "code",
   "execution_count": null,
   "metadata": {},
   "outputs": [],
   "source": [
    "# new_plan.save_as(plan_file_name)"
   ]
  },
  {
   "cell_type": "code",
   "execution_count": null,
   "metadata": {},
   "outputs": [],
   "source": [
    "# !echo {plan_file_name}"
   ]
  },
  {
   "cell_type": "code",
   "execution_count": null,
   "metadata": {},
   "outputs": [],
   "source": [
    "# !dcmsend 192.168.100.200 104 {plan_file_name} --read-dataset --aetitle CMS_SCU --call EOS_RTD -d"
   ]
  },
  {
   "cell_type": "code",
   "execution_count": null,
   "metadata": {},
   "outputs": [],
   "source": [
    "# !dcmsend --help"
   ]
  }
 ],
 "metadata": {
  "anaconda-cloud": {},
  "kernelspec": {
   "display_name": "pymedphys-master",
   "language": "python",
   "name": "pymedphys-master"
  },
  "language_info": {
   "codemirror_mode": {
    "name": "ipython",
    "version": 3
   },
   "file_extension": ".py",
   "mimetype": "text/x-python",
   "name": "python",
   "nbconvert_exporter": "python",
   "pygments_lexer": "ipython3",
   "version": "3.7.0"
  }
 },
 "nbformat": 4,
 "nbformat_minor": 4
}
