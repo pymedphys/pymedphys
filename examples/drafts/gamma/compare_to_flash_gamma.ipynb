{
 "cells": [
  {
   "cell_type": "code",
   "execution_count": null,
   "metadata": {},
   "outputs": [],
   "source": [
    "# Example modified from https://github.com/samuelpeet/flashgamma/blob/c00f388856cd3651b706a7b117ff90930aa5ee54/examples/eg3_gamma_surface.py\n",
    "# Source is licensed under the MIT license\n",
    "# Original author is Samuel Peet"
   ]
  },
  {
   "cell_type": "code",
   "execution_count": null,
   "metadata": {},
   "outputs": [],
   "source": [
    "!pip install flashgamma pymedphys"
   ]
  },
  {
   "cell_type": "code",
   "execution_count": null,
   "metadata": {},
   "outputs": [],
   "source": [
    "import urllib.request\n",
    "\n",
    "import numpy as np\n",
    "import matplotlib.pyplot as plt\n",
    "\n",
    "import flashgamma\n",
    "import pymedphys"
   ]
  },
  {
   "cell_type": "markdown",
   "metadata": {},
   "source": [
    "## Download data files"
   ]
  },
  {
   "cell_type": "code",
   "execution_count": null,
   "metadata": {},
   "outputs": [],
   "source": [
    "file_details = {\n",
    "    'snc': {\n",
    "        'url': 'https://raw.githubusercontent.com/samuelpeet/flashgamma/c00f388856cd3651b706a7b117ff90930aa5ee54/examples/sample_snc_extracted_data.snc',\n",
    "        'filetype': 'snc_extracted'\n",
    "    },\n",
    "    'arccheck': {\n",
    "        'url': 'https://raw.githubusercontent.com/samuelpeet/flashgamma/c00f388856cd3651b706a7b117ff90930aa5ee54/examples/sample_arccheck_measurement.txt',\n",
    "        'filetype': 'arccheck'\n",
    "    }\n",
    "}"
   ]
  },
  {
   "cell_type": "code",
   "execution_count": null,
   "metadata": {},
   "outputs": [],
   "source": [
    "for key, item in file_details.items():\n",
    "    url = item['url']\n",
    "    \n",
    "    filename = url.split('/')[-1]\n",
    "    item['filename'] = filename\n",
    "    \n",
    "    urllib.request.urlretrieve(url, filename)"
   ]
  },
  {
   "cell_type": "code",
   "execution_count": null,
   "metadata": {},
   "outputs": [],
   "source": [
    "file_details"
   ]
  },
  {
   "cell_type": "markdown",
   "metadata": {},
   "source": [
    "## Load and investigate data"
   ]
  },
  {
   "cell_type": "code",
   "execution_count": null,
   "metadata": {},
   "outputs": [],
   "source": [
    "distributions = {\n",
    "    key: flashgamma.load_file(item['filename'], item['filetype'])\n",
    "    for key, item in file_details.items()\n",
    "}\n",
    "\n",
    "ref_dist = distributions['arccheck']\n",
    "eval_dist = distributions['snc']\n",
    "\n",
    "ref_xx, ref_yy = ref_dist.position\n",
    "eval_xx, eval_yy = eval_dist.position\n",
    "\n",
    "ref_dist_numpy = ref_dist.data.copy()\n",
    "eval_dist_numpy = eval_dist.data.copy()"
   ]
  },
  {
   "cell_type": "code",
   "execution_count": null,
   "metadata": {},
   "outputs": [],
   "source": [
    "coords_ref = (ref_yy[:,0], ref_xx[0,:])\n",
    "coords_eval = (eval_yy[:,0], eval_xx[0,:])"
   ]
  },
  {
   "cell_type": "code",
   "execution_count": null,
   "metadata": {},
   "outputs": [],
   "source": [
    "np.shape(ref_dist_numpy)"
   ]
  },
  {
   "cell_type": "code",
   "execution_count": null,
   "metadata": {},
   "outputs": [],
   "source": [
    "np.shape(eval_dist_numpy)"
   ]
  },
  {
   "cell_type": "code",
   "execution_count": null,
   "metadata": {},
   "outputs": [],
   "source": [
    "eval_dist = eval_dist.scale_grid(\n",
    "    reference_distribution=ref_dist, new_resolution=3\n",
    ")"
   ]
  },
  {
   "cell_type": "code",
   "execution_count": null,
   "metadata": {},
   "outputs": [],
   "source": [
    "np.shape(eval_dist.data)"
   ]
  },
  {
   "cell_type": "code",
   "execution_count": null,
   "metadata": {},
   "outputs": [],
   "source": [
    "np.shape(ref_dist.data)"
   ]
  },
  {
   "cell_type": "markdown",
   "metadata": {},
   "source": [
    "## Calculation configurations"
   ]
  },
  {
   "cell_type": "code",
   "execution_count": null,
   "metadata": {},
   "outputs": [],
   "source": [
    "dose_criteria = np.arange(0.1, 3.01, 0.01)  # %\n",
    "distance_criteria = np.arange(0.1, 2.01, 0.01)  # mm\n",
    "\n",
    "lower_percent_dose_cutoff = 20\n",
    "local = False"
   ]
  },
  {
   "cell_type": "code",
   "execution_count": null,
   "metadata": {},
   "outputs": [],
   "source": [
    "pymedphys_gamma_options = {\n",
    "    'dose_percent_threshold': dose_criteria,\n",
    "    'distance_mm_threshold': distance_criteria,\n",
    "    'lower_percent_dose_cutoff': lower_percent_dose_cutoff,\n",
    "    'interp_fraction': 10,  # Should be 10 or more for more accurate results\n",
    "    'max_gamma': 1.1,\n",
    "    'random_subset': None,\n",
    "    'local_gamma': local,\n",
    "    'ram_available': 2**29,  # 1/2 GB\n",
    "    'quiet': False\n",
    "}"
   ]
  },
  {
   "cell_type": "markdown",
   "metadata": {},
   "source": [
    "## FlashGamma"
   ]
  },
  {
   "cell_type": "markdown",
   "metadata": {},
   "source": [
    "### Run calculation"
   ]
  },
  {
   "cell_type": "code",
   "execution_count": null,
   "metadata": {},
   "outputs": [],
   "source": [
    "pass_rates = flashgamma.gamma_pass_rate(\n",
    "    ref_dist,\n",
    "    eval_dist,\n",
    "    delta_dose=dose_criteria,\n",
    "    delta_distance=distance_criteria,\n",
    "    threshold=lower_percent_dose_cutoff,\n",
    "    local=local\n",
    ")"
   ]
  },
  {
   "cell_type": "code",
   "execution_count": null,
   "metadata": {},
   "outputs": [],
   "source": [
    "np.shape(pass_rates)"
   ]
  },
  {
   "cell_type": "markdown",
   "metadata": {},
   "source": [
    "### Create plotting function"
   ]
  },
  {
   "cell_type": "code",
   "execution_count": null,
   "metadata": {},
   "outputs": [],
   "source": [
    "def plot_passing_rates(passing_rates):\n",
    "    f = plt.figure()\n",
    "    ax1 = plt.gca()\n",
    "\n",
    "    xx, yy = np.meshgrid(distance_criteria, dose_criteria, )\n",
    "    im1 = ax1.pcolormesh(xx, yy, passing_rates, shading='nearest')\n",
    "\n",
    "    co1 = ax1.contour(distance_criteria, dose_criteria, passing_rates, colors='k', linewidth=1)\n",
    "    zc = co1.collections\n",
    "    plt.setp(zc, linewidth=1)\n",
    "    plt.clabel(co1, fontsize=10, fmt='%1.0f')\n",
    "\n",
    "    co2 = ax1.contour(distance_criteria, dose_criteria, passing_rates, colors='#f70c0c', levels=[95])\n",
    "    zc = co2.collections\n",
    "    plt.setp(zc, linewidth=2)\n",
    "    plt.clabel(co2, fontsize=12, fmt='%1.0f')\n",
    "\n",
    "    ax1.set_title('Gamma Pass Rates')\n",
    "    ax1.set_xlabel('Distance to agreement (mm)')\n",
    "    ax1.set_ylabel('Dose difference (%)')\n",
    "    c1 = plt.colorbar(im1, ax=ax1)\n",
    "    c1.set_label('Pass rate (%)', rotation=270, labelpad=12)"
   ]
  },
  {
   "cell_type": "markdown",
   "metadata": {},
   "source": [
    "### FlashGamma's pass rates"
   ]
  },
  {
   "cell_type": "code",
   "execution_count": null,
   "metadata": {},
   "outputs": [],
   "source": [
    "plot_passing_rates(pass_rates)"
   ]
  },
  {
   "cell_type": "markdown",
   "metadata": {},
   "source": [
    "## PyMedPhys"
   ]
  },
  {
   "cell_type": "markdown",
   "metadata": {},
   "source": [
    "### Calculation"
   ]
  },
  {
   "cell_type": "code",
   "execution_count": null,
   "metadata": {},
   "outputs": [],
   "source": [
    "pymedphys_gamma = pymedphys.gamma(\n",
    "    coords_ref, ref_dist_numpy,\n",
    "    coords_eval, eval_dist_numpy,\n",
    "    **pymedphys_gamma_options)"
   ]
  },
  {
   "cell_type": "code",
   "execution_count": null,
   "metadata": {},
   "outputs": [],
   "source": [
    "pymedphys_pass_rates = np.zeros_like(pass_rates)\n",
    "for key, item in pymedphys_gamma.items():\n",
    "    i = list(dose_criteria).index(key[0])\n",
    "    j = list(distance_criteria).index(key[1])\n",
    "    \n",
    "    valid_gamma = item[~np.isnan(item)]\n",
    "    passing = 100 * np.sum(valid_gamma <= 1) / len(valid_gamma)\n",
    "    pymedphys_pass_rates[i, j] = passing"
   ]
  },
  {
   "cell_type": "markdown",
   "metadata": {},
   "source": [
    "### PyMedPhys' pass rates"
   ]
  },
  {
   "cell_type": "code",
   "execution_count": null,
   "metadata": {},
   "outputs": [],
   "source": [
    "plot_passing_rates(pymedphys_pass_rates)"
   ]
  }
 ],
 "metadata": {
  "kernelspec": {
   "display_name": "pymedphys",
   "language": "python",
   "name": "pymedphys"
  },
  "language_info": {
   "codemirror_mode": {
    "name": "ipython",
    "version": 3
   },
   "file_extension": ".py",
   "mimetype": "text/x-python",
   "name": "python",
   "nbconvert_exporter": "python",
   "pygments_lexer": "ipython3",
   "version": "3.8.6"
  }
 },
 "nbformat": 4,
 "nbformat_minor": 4
}
