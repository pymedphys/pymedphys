{
 "cells": [
  {
   "cell_type": "code",
   "execution_count": null,
   "metadata": {},
   "outputs": [],
   "source": [
    "!pip install pylinac==2.3.2 pymedphys==0.36.0-dev1"
   ]
  },
  {
   "cell_type": "code",
   "execution_count": null,
   "metadata": {},
   "outputs": [],
   "source": [
    "import numpy as np\n",
    "import imageio\n",
    "import matplotlib.pyplot as plt\n",
    "\n",
    "from IPython.display import display\n",
    "\n",
    "import pymedphys\n",
    "from pymedphys._wlutz import pylinac as _pylinac_wrapper\n",
    "from pymedphys._wlutz import reporting as _reporting"
   ]
  },
  {
   "cell_type": "code",
   "execution_count": null,
   "metadata": {},
   "outputs": [],
   "source": [
    "image_filepath = pymedphys.data_path(\"pylinac_offset.png\")"
   ]
  },
  {
   "cell_type": "code",
   "execution_count": null,
   "metadata": {},
   "outputs": [],
   "source": [
    "image_filepath"
   ]
  },
  {
   "cell_type": "code",
   "execution_count": null,
   "metadata": {},
   "outputs": [],
   "source": [
    "image = imageio.imread(image_filepath)\n",
    "plt.figure(figsize=(10,10))\n",
    "plt.imshow(image)"
   ]
  },
  {
   "cell_type": "code",
   "execution_count": null,
   "metadata": {},
   "outputs": [],
   "source": [
    "def get_x_and_y(image):\n",
    "    pixels_per_mm = 4\n",
    "    shape = np.shape(image)\n",
    "    x = np.arange(-shape[1] / 2, shape[1] / 2) / pixels_per_mm\n",
    "    y = np.arange(-shape[0] / 2, shape[0] / 2) / pixels_per_mm\n",
    "    \n",
    "    display(shape)\n",
    "    display(x)\n",
    "    display(y)\n",
    "    \n",
    "    return x, y\n",
    "\n",
    "x, y = get_x_and_y(image)"
   ]
  },
  {
   "cell_type": "code",
   "execution_count": null,
   "metadata": {},
   "outputs": [],
   "source": [
    "field_centre, bb_centre = _pylinac_wrapper.run_wlutz_raw(\n",
    "    x, y, image, fill_errors_with_nan=True, pylinac_version=\"2.3.2\")\n",
    "display(field_centre)\n",
    "display(bb_centre)"
   ]
  },
  {
   "cell_type": "code",
   "execution_count": null,
   "metadata": {},
   "outputs": [],
   "source": [
    "bb_diameter = 8\n",
    "edge_lengths = [20, 26]\n",
    "penumbra = 2"
   ]
  },
  {
   "cell_type": "code",
   "execution_count": null,
   "metadata": {},
   "outputs": [],
   "source": [
    "fig, axs = _reporting.image_analysis_figure(\n",
    "    x,\n",
    "    y,\n",
    "    image,\n",
    "    bb_centre,\n",
    "    field_centre,\n",
    "    0,\n",
    "    bb_diameter,\n",
    "    edge_lengths,\n",
    "    penumbra,\n",
    ")"
   ]
  },
  {
   "cell_type": "code",
   "execution_count": null,
   "metadata": {},
   "outputs": [],
   "source": [
    "crop = 400\n",
    "\n",
    "cropped_image = image[crop:-crop, crop:-crop]\n",
    "plt.figure(figsize=(10,10))\n",
    "plt.imshow(cropped_image)"
   ]
  },
  {
   "cell_type": "code",
   "execution_count": null,
   "metadata": {},
   "outputs": [],
   "source": [
    "cropped_x, cropped_y = get_x_and_y(cropped_image)"
   ]
  },
  {
   "cell_type": "code",
   "execution_count": null,
   "metadata": {},
   "outputs": [],
   "source": [
    "cropped_field_centre, cropped_bb_centre = _pylinac_wrapper.run_wlutz_raw(\n",
    "    cropped_x, cropped_y, cropped_image, fill_errors_with_nan=True, pylinac_version=\"2.3.2\")\n",
    "display(cropped_field_centre)\n",
    "display(cropped_bb_centre)"
   ]
  },
  {
   "cell_type": "code",
   "execution_count": null,
   "metadata": {},
   "outputs": [],
   "source": [
    "fig, axs = _reporting.image_analysis_figure(\n",
    "    cropped_x,\n",
    "    cropped_y,\n",
    "    cropped_image,\n",
    "    cropped_bb_centre,\n",
    "    cropped_field_centre,\n",
    "    0,\n",
    "    bb_diameter,\n",
    "    edge_lengths,\n",
    "    penumbra,\n",
    ")"
   ]
  }
 ],
 "metadata": {
  "kernelspec": {
   "display_name": "Python 3",
   "language": "python",
   "name": "python3"
  },
  "language_info": {
   "codemirror_mode": {
    "name": "ipython",
    "version": 3
   },
   "file_extension": ".py",
   "mimetype": "text/x-python",
   "name": "python",
   "nbconvert_exporter": "python",
   "pygments_lexer": "ipython3",
   "version": "3.8.2"
  }
 },
 "nbformat": 4,
 "nbformat_minor": 4
}
