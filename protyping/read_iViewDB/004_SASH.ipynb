{
 "cells": [
  {
   "cell_type": "code",
   "execution_count": null,
   "metadata": {},
   "outputs": [],
   "source": [
    "import pathlib\n",
    "import shutil\n",
    "import os\n",
    "\n",
    "import numpy as np\n",
    "import pandas as pd\n",
    "\n",
    "import dbfread"
   ]
  },
  {
   "cell_type": "code",
   "execution_count": null,
   "metadata": {},
   "outputs": [],
   "source": [
    "original_dir = pathlib.Path(r'S:\\DataExchange\\SASH\\iViewDB')\n",
    "decoded_dir = pathlib.Path(r'S:\\DataExchange\\SASH\\iViewDB_decoded')\n",
    "\n",
    "decoded_dir.mkdir(exist_ok=True)"
   ]
  },
  {
   "cell_type": "code",
   "execution_count": null,
   "metadata": {},
   "outputs": [],
   "source": [
    "to_be_indexed_dir = decoded_dir.joinpath('to_be_indexed')\n",
    "to_be_indexed_dir.mkdir(exist_ok=True)"
   ]
  },
  {
   "cell_type": "code",
   "execution_count": null,
   "metadata": {},
   "outputs": [],
   "source": [
    "images_to_be_indexed = list(to_be_indexed_dir.glob('**/*.jpg'))\n",
    "file_image_ids = [\n",
    "    int(path.stem.split('.')[0])\n",
    "    for path in images_to_be_indexed\n",
    "]\n",
    "\n",
    "# images_to_be_indexed"
   ]
  },
  {
   "cell_type": "code",
   "execution_count": null,
   "metadata": {},
   "outputs": [],
   "source": [
    "home = pathlib.Path.home()"
   ]
  },
  {
   "cell_type": "code",
   "execution_count": null,
   "metadata": {},
   "outputs": [],
   "source": [
    "for i, encoded_image_path in enumerate(images_to_be_indexed):\n",
    "    new_dir = encoded_image_path.parent.joinpath('decoded')\n",
    "    new_dir.mkdir(exist_ok=True)\n",
    "    \n",
    "    new_path = new_dir.joinpath(f\"{encoded_image_path.stem}.png\")\n",
    "\n",
    "    \n",
    "#     new_path = indexed_dir.joinpath(f'frame_{i}.png')\n",
    "    \n",
    "    shutil.copy2(encoded_image_path, home.joinpath('temp_encoded.jpg'))\n",
    "    \n",
    "    !bash -c \"~/bin/wavelet/jpeg /mnt/c/Users/sbiggs/temp_encoded.jpg /mnt/c/Users/sbiggs/temp_decoded.jpg\"\n",
    "    !bash -c \"convert -depth 16 /mnt/c/Users/sbiggs/temp_decoded.jpg /mnt/c/Users/sbiggs/temp_decoded.png\"\n",
    "    \n",
    "    shutil.copy2(home.joinpath('temp_decoded.png'), new_path)\n",
    "#     encoded_image_path.unlink()"
   ]
  },
  {
   "cell_type": "code",
   "execution_count": null,
   "metadata": {},
   "outputs": [],
   "source": []
  }
 ],
 "metadata": {
  "kernelspec": {
   "display_name": "pymedphys-master",
   "language": "python",
   "name": "pymedphys-master"
  },
  "language_info": {
   "codemirror_mode": {
    "name": "ipython",
    "version": 3
   },
   "file_extension": ".py",
   "mimetype": "text/x-python",
   "name": "python",
   "nbconvert_exporter": "python",
   "pygments_lexer": "ipython3",
   "version": "3.7.0"
  }
 },
 "nbformat": 4,
 "nbformat_minor": 4
}
