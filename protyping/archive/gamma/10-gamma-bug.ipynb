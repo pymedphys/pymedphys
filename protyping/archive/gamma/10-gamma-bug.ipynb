{
 "cells": [
  {
   "cell_type": "code",
   "execution_count": null,
   "metadata": {},
   "outputs": [],
   "source": [
    "\n",
    "import os\n",
    "\n",
    "# import pandas as pd\n",
    "\n",
    "import numpy as np\n",
    "from pymedphys.gamma import gamma_shell"
   ]
  },
  {
   "cell_type": "code",
   "execution_count": null,
   "metadata": {},
   "outputs": [],
   "source": [
    "DATA_DIRECTORY = \"../../src/pymedphys/tests/data/gamma/dose-cutoff-bug\"\n",
    "\n",
    "REFERENCE_FILE = os.path.join(\n",
    "    DATA_DIRECTORY, 'lfs-reference.csv')\n",
    "EVALUATION_FILE = os.path.join(\n",
    "    DATA_DIRECTORY, 'lfs-evaluation.csv')\n"
   ]
  },
  {
   "cell_type": "code",
   "execution_count": null,
   "metadata": {},
   "outputs": [],
   "source": [
    "# data1_raw = pd.read_csv(REFERENCE_FILE, index_col=None, header=None).values"
   ]
  },
  {
   "cell_type": "code",
   "execution_count": null,
   "metadata": {},
   "outputs": [],
   "source": [
    "# reference_dataframe = pd.read_csv(REFERENCE_FILE)"
   ]
  },
  {
   "cell_type": "code",
   "execution_count": null,
   "metadata": {},
   "outputs": [],
   "source": [
    "data1_raw = np.genfromtxt(REFERENCE_FILE, delimiter=',')\n",
    "data1 = data1_raw.reshape((411, 534, 273))\n",
    "data2_raw = np.genfromtxt(EVALUATION_FILE, delimiter=',')\n",
    "data2 = data2_raw.reshape((411, 534, 273))\n",
    "\n"
   ]
  },
  {
   "cell_type": "code",
   "execution_count": null,
   "metadata": {},
   "outputs": [],
   "source": [
    "x = np.arange(411) * 0.1\n",
    "y = np.arange(534) * 0.1\n",
    "z = np.arange(273) * 0.1\n",
    "coords = (x, y, z)"
   ]
  },
  {
   "cell_type": "code",
   "execution_count": null,
   "metadata": {},
   "outputs": [],
   "source": [
    "gamma = gamma_shell(coords, data1, coords, data2, 3, 3, ram_fraction=-1)"
   ]
  },
  {
   "cell_type": "code",
   "execution_count": null,
   "metadata": {},
   "outputs": [],
   "source": []
  },
  {
   "cell_type": "code",
   "execution_count": null,
   "metadata": {},
   "outputs": [],
   "source": []
  }
 ],
 "metadata": {
  "kernelspec": {
   "display_name": "Python 3",
   "language": "python",
   "name": "python3"
  },
  "language_info": {
   "codemirror_mode": {
    "name": "ipython",
    "version": 3
   },
   "file_extension": ".py",
   "mimetype": "text/x-python",
   "name": "python",
   "nbconvert_exporter": "python",
   "pygments_lexer": "ipython3",
   "version": "3.6.6"
  }
 },
 "nbformat": 4,
 "nbformat_minor": 2
}
