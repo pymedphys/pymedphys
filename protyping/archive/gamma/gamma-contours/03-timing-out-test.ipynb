{
 "cells": [
  {
   "cell_type": "code",
   "execution_count": null,
   "metadata": {},
   "outputs": [],
   "source": [
    "%load_ext autoreload\n",
    "%autoreload 2"
   ]
  },
  {
   "cell_type": "code",
   "execution_count": null,
   "metadata": {},
   "outputs": [],
   "source": [
    "import numpy as np\n",
    "from pymedphys.gamma import gamma_shell, calculate_coordinates_shell"
   ]
  },
  {
   "cell_type": "code",
   "execution_count": null,
   "metadata": {},
   "outputs": [],
   "source": [
    "def get_dummy_gamma_set():\n",
    "    grid_x = np.arange(0, 1, 0.1)\n",
    "    grid_y = np.arange(0, 1.2, 0.1)\n",
    "    grid_z = np.arange(0, 1.4, 0.1)\n",
    "    dimensions = (len(grid_x), len(grid_y), len(grid_z))\n",
    "    coords = (grid_x, grid_y, grid_z)\n",
    "\n",
    "    reference = np.zeros(dimensions)\n",
    "    reference[3:-2:, 4:-2:, 5:-2:] = 1.015\n",
    "\n",
    "    evaluation = np.zeros(dimensions)\n",
    "    evaluation[2:-2:, 2:-2:, 2:-2:] = 1\n",
    "\n",
    "    expected_gamma = np.zeros(dimensions)\n",
    "    expected_gamma[2:-2:, 2:-2:, 2:-2:] = 0.4\n",
    "    expected_gamma[3:-3:, 3:-3:, 3:-3:] = 0.7\n",
    "    expected_gamma[4:-4:, 4:-4:, 4:-4:] = 1\n",
    "    expected_gamma[3:-2:, 4:-2:, 5:-2:] = 0.5\n",
    "\n",
    "    return coords, reference, evaluation, expected_gamma"
   ]
  },
  {
   "cell_type": "code",
   "execution_count": null,
   "metadata": {},
   "outputs": [],
   "source": [
    "def test_regression_of_gamma_1d():\n",
    "    \"\"\"Test for changes in expected 3D gamma.\"\"\"\n",
    "\n",
    "    coords, reference, evaluation, expected_gamma = get_dummy_gamma_set()\n",
    "\n",
    "    gamma1d = np.round(gamma_shell(\n",
    "        coords[2], reference[5, 5, :],\n",
    "        coords[2], evaluation[5, 5, :],\n",
    "        3, 0.3, lower_percent_dose_cutoff=0, quiet=True), decimals=1)\n",
    "\n",
    "    assert np.all(expected_gamma[5, 5, :] == gamma1d)"
   ]
  },
  {
   "cell_type": "code",
   "execution_count": null,
   "metadata": {},
   "outputs": [],
   "source": [
    "def test_regression_of_gamma_3d():\n",
    "    \"\"\"Test for changes in expected 3D gamma.\"\"\"\n",
    "    coords, reference, evaluation, expected_gamma = get_dummy_gamma_set()\n",
    "\n",
    "    gamma3d = np.round(gamma_shell(\n",
    "        coords, reference,\n",
    "        coords, evaluation,\n",
    "        3, 0.3, lower_percent_dose_cutoff=0, quiet=True), decimals=1)\n",
    "\n",
    "    assert np.all(expected_gamma == gamma3d)"
   ]
  },
  {
   "cell_type": "code",
   "execution_count": null,
   "metadata": {},
   "outputs": [],
   "source": [
    "# %prun test_regression_of_gamma_3d()\n",
    "\n"
   ]
  },
  {
   "cell_type": "code",
   "execution_count": null,
   "metadata": {},
   "outputs": [],
   "source": [
    "ref = [0, 1, 1.9, 2, 2.1, 3, 4, 5, 10, 10]\n",
    "coords_ref = (np.arange(len(ref)),)\n",
    "\n",
    "evl = [10]*(len(ref) + 2)\n",
    "coords_evl = (np.arange(len(evl)) - 4,)\n",
    "\n",
    "result = gamma_shell(coords_ref, ref, coords_evl, evl, 10, 1)\n",
    "\n",
    "assert np.array_equal(ref < 0.2*np.max(ref), np.isnan(result))"
   ]
  },
  {
   "cell_type": "code",
   "execution_count": null,
   "metadata": {},
   "outputs": [],
   "source": []
  },
  {
   "cell_type": "code",
   "execution_count": null,
   "metadata": {},
   "outputs": [],
   "source": []
  },
  {
   "cell_type": "code",
   "execution_count": null,
   "metadata": {},
   "outputs": [],
   "source": []
  }
 ],
 "metadata": {
  "kernelspec": {
   "display_name": "Python 3",
   "language": "python",
   "name": "python3"
  },
  "language_info": {
   "codemirror_mode": {
    "name": "ipython",
    "version": 3
   },
   "file_extension": ".py",
   "mimetype": "text/x-python",
   "name": "python",
   "nbconvert_exporter": "python",
   "pygments_lexer": "ipython3",
   "version": "3.7.1"
  }
 },
 "nbformat": 4,
 "nbformat_minor": 2
}
