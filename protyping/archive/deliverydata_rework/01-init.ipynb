{
 "cells": [
  {
   "cell_type": "code",
   "execution_count": null,
   "metadata": {},
   "outputs": [],
   "source": [
    "import os\n",
    "import copy\n",
    "from contextlib import contextmanager\n",
    "import dataclasses\n",
    "\n",
    "from DataclassInspector.inspector import Inspector\n",
    "\n",
    "import numpy as np\n",
    "import xarray as xr\n",
    "\n",
    "from pymedphys import Delivery\n",
    "from pymedphys.logfile import delivery_data_from_logfile"
   ]
  },
  {
   "cell_type": "code",
   "execution_count": null,
   "metadata": {},
   "outputs": [],
   "source": [
    "# @contextmanager \n",
    "# def mutable(obj): \n",
    "#     cls = obj.__class__ \n",
    "#     obj.__class__ = object \n",
    "#     try: \n",
    "#         yield obj \n",
    "#     finally: \n",
    "#         obj.__class__ = cls "
   ]
  },
  {
   "cell_type": "code",
   "execution_count": null,
   "metadata": {},
   "outputs": [],
   "source": [
    "logfile_path = os.path.join(\n",
    "    '..', '..',\n",
    "    'tests', 'data', 'trf', 'integrity4',\n",
    "    'INT4 18_12_12 08_28_23 Z [ICOM_ 7_03_2018 15_21_51] PF_G90..trf'\n",
    ")\n",
    "logfile_path"
   ]
  },
  {
   "cell_type": "code",
   "execution_count": null,
   "metadata": {},
   "outputs": [],
   "source": [
    "delivery_data = delivery_data_from_logfile(logfile_path)"
   ]
  },
  {
   "cell_type": "code",
   "execution_count": null,
   "metadata": {},
   "outputs": [],
   "source": [
    "MU = [0, 10, 20]\n",
    "\n",
    "MLC = [\n",
    "    [\n",
    "        [3, -3],\n",
    "        [3, -3],\n",
    "        [3, -3]\n",
    "    ],\n",
    "    [\n",
    "        [3, 3],\n",
    "        [3, 3],\n",
    "        [3, 3]\n",
    "    ],\n",
    "    [\n",
    "        [-3, 3],\n",
    "        [-3, 3],\n",
    "        [-3, 3]\n",
    "    ]\n",
    "]\n",
    "\n",
    "JAW = [\n",
    "    [3, 3],\n",
    "    [3, 3],\n",
    "    [3, 3]\n",
    "]\n",
    "\n",
    "GANTRY = [0, 0, 0]\n",
    "COLLIMATOR = [0, 0, 0]"
   ]
  },
  {
   "cell_type": "code",
   "execution_count": null,
   "metadata": {},
   "outputs": [],
   "source": [
    "from pymedphys.xarray import xarray_dataclass"
   ]
  },
  {
   "cell_type": "code",
   "execution_count": null,
   "metadata": {},
   "outputs": [],
   "source": [
    "# delivery_data"
   ]
  },
  {
   "cell_type": "code",
   "execution_count": null,
   "metadata": {},
   "outputs": [],
   "source": [
    "test = xr.Dataset({\n",
    "    'monitor_units': ('control_point', delivery_data.monitor_units),\n",
    "    'gantry': ('control_point', delivery_data.gantry),\n",
    "    'collimator': ('control_point', delivery_data.collimator),\n",
    "    'mlc': (['control_point', 'leaf_pair', 'leaf_bank'], delivery_data.mlc),\n",
    "    'jaw': (['control_point', 'jaw_bank'], delivery_data.jaw)\n",
    "})\n",
    "\n",
    "# test.__dict__"
   ]
  },
  {
   "cell_type": "code",
   "execution_count": null,
   "metadata": {},
   "outputs": [],
   "source": [
    "type(exec('1'))"
   ]
  },
  {
   "cell_type": "code",
   "execution_count": null,
   "metadata": {},
   "outputs": [],
   "source": [
    "from collections import namedtuple\n",
    "\n",
    "Delivery1 = namedtuple(\n",
    "    'Delivery',\n",
    "    ['monitor_units', 'gantry', 'collimator', 'mlc', 'jaw'])\n"
   ]
  },
  {
   "cell_type": "code",
   "execution_count": null,
   "metadata": {},
   "outputs": [],
   "source": [
    "class Foo(object):\n",
    "    pass\n",
    "\n",
    "foo = Foo()\n",
    "foo.a = 3\n",
    "Foo.b = property(lambda self: self.a + 1)\n",
    "foo.b"
   ]
  },
  {
   "cell_type": "code",
   "execution_count": null,
   "metadata": {},
   "outputs": [],
   "source": [
    "dataclasses.dataclass"
   ]
  },
  {
   "cell_type": "code",
   "execution_count": null,
   "metadata": {},
   "outputs": [],
   "source": [
    "dataclasses.dataclass()"
   ]
  },
  {
   "cell_type": "code",
   "execution_count": null,
   "metadata": {},
   "outputs": [],
   "source": [
    "\n",
    "# # https://github.com/python/cpython/blob/b9182aa7dad8991fc8768ae494b45b5f7c316aca/Lib/dataclasses.py#L364-L387\n",
    "# def _create_attribute_fn(name, body, *, globals=None, locals=None):\n",
    "#     if locals is None:\n",
    "#         locals = {}\n",
    "#     if globals is not None and '__builtins__' not in globals:\n",
    "#         globals['__builtins__'] = builtins\n",
    "\n",
    "#     body = '\\n'.join(f'    {b}' for b in body)\n",
    "#     txt = f'@property\\ndef {name}(self):\\n{body}'\n",
    "    \n",
    "#     print(txt)\n",
    "    \n",
    "#     exec(txt, globals, locals)\n",
    "#     return locals[name]\n",
    "\n",
    "\n",
    "\n",
    "def xarray_dataclass(cls):\n",
    "    def __post_init__(self, *args, **kwargs):\n",
    "        self._create_xarray()\n",
    "        \n",
    "    def _create_xarray(self):\n",
    "        xarray = xr.Dataset({\n",
    "            field.name: (field.type, getattr(self, '_' + field.name))\n",
    "            for field in dataclasses.fields(self)\n",
    "        })\n",
    "        object.__setattr__(self, '_xarray', xarray)\n",
    "        \n",
    "    def __iter__(self):\n",
    "        for field in dataclasses.fields(self):\n",
    "            yield getattr(self, field.name)\n",
    "            \n",
    "    cls.__post_init__ = __post_init__\n",
    "    cls._create_xarray = _create_xarray\n",
    "    cls.__iter__ = __iter__\n",
    "    \n",
    "    cls = dataclasses.dataclass(frozen=True)(cls)\n",
    "    \n",
    "    for field in dataclasses.fields(cls):\n",
    "        txt = '\\n'.join([\n",
    "            f'@property',\n",
    "            f'def {field.name}(self):',\n",
    "            f'    return self._xarray.{field.name}.data',\n",
    "            '',\n",
    "            f'@{field.name}.setter',\n",
    "            f'def {field.name}(self, data):',\n",
    "            f'    object.__setattr__(self, \"_{field.name}\", np.array(data))',\n",
    "            f'    try:',\n",
    "            f'        self._xarray.{field.name}.data = data',\n",
    "            f'    except AttributeError:',\n",
    "            f'        pass',\n",
    "            '',\n",
    "            f'cls.{field.name} = {field.name}'\n",
    "        ])\n",
    "        \n",
    "        exec(txt)\n",
    "    \n",
    "    def to_tuple(self):\n",
    "        return dataclasses.astuple(self)\n",
    "    \n",
    "#     def to_dict(self):\n",
    "#         return dataclasses.asdict(self)\n",
    "    \n",
    "    def to_list(self):\n",
    "        return list(self.to_tuple())\n",
    "    \n",
    "    def to_xarray(self):\n",
    "        return self.deepcopy()._xarray\n",
    "    \n",
    "    def to_dataframe(self):\n",
    "        return self.to_xarray().to_dataframe()\n",
    "\n",
    "    def to_dict(self):\n",
    "        return self.to_xarray().to_dict()\n",
    "\n",
    "    def deepcopy(self):\n",
    "        return copy.deepcopy(self)\n",
    "            \n",
    "    cls.to_tuple = to_tuple\n",
    "    cls.to_dict = to_dict\n",
    "    cls.to_xarray = to_xarray\n",
    "    cls.to_dataframe = to_dataframe\n",
    "    cls.deepcopy = deepcopy\n",
    "    \n",
    "    return cls\n",
    "\n",
    "\n",
    "@xarray_dataclass\n",
    "class Test:\n",
    "    monitor_units: 'control_point'\n",
    "    mlc: ['control_point', 'leaf_pair', 'leaf_bank']\n",
    "    jaw: ['control_point', 'jaw_bank']\n",
    "    gantry: 'control_point'\n",
    "    collimator: 'control_point'\n",
    "\n",
    "\n",
    "boo = Test(**delivery_data._asdict())\n",
    "# a,b,c, d, e = boo\n",
    "# a\n",
    "\n",
    "# boo.xarray\n",
    "\n",
    "boo.to_dataframe()"
   ]
  },
  {
   "cell_type": "code",
   "execution_count": null,
   "metadata": {},
   "outputs": [],
   "source": [
    "@xarray_dataclass\n",
    "class DummyDelivery:\n",
    "    monitor_units: 'control_point'\n",
    "    mlc: ['control_point', 'leaf_pair', 'leaf_bank']\n",
    "    jaw: ['control_point', 'jaw_bank']\n",
    "    gantry: 'control_point'\n",
    "    collimator: 'control_point'"
   ]
  },
  {
   "cell_type": "code",
   "execution_count": null,
   "metadata": {},
   "outputs": [],
   "source": [
    "new_container = DummyDelivery(MU, MLC, JAW, GANTRY, COLLIMATOR)"
   ]
  },
  {
   "cell_type": "code",
   "execution_count": null,
   "metadata": {},
   "outputs": [],
   "source": [
    "new_container.to_tuple()"
   ]
  },
  {
   "cell_type": "code",
   "execution_count": null,
   "metadata": {},
   "outputs": [],
   "source": [
    "# copy.deepcopy(boo)"
   ]
  },
  {
   "cell_type": "code",
   "execution_count": null,
   "metadata": {},
   "outputs": [],
   "source": [
    "# inspected = Inspector(boo)\n",
    "# display(inspected.code)"
   ]
  },
  {
   "cell_type": "code",
   "execution_count": null,
   "metadata": {},
   "outputs": [],
   "source": [
    "{\n",
    "    field.name: (field.type, )\n",
    "    for field in dataclasses.fields(Test)\n",
    "}"
   ]
  },
  {
   "cell_type": "code",
   "execution_count": null,
   "metadata": {},
   "outputs": [],
   "source": [
    "dataclasses.fields(Test)"
   ]
  },
  {
   "cell_type": "code",
   "execution_count": null,
   "metadata": {},
   "outputs": [],
   "source": [
    "boo.to_list()"
   ]
  },
  {
   "cell_type": "code",
   "execution_count": null,
   "metadata": {},
   "outputs": [],
   "source": [
    "def xarray_dataclass(cls, fields):\n",
    "    def wrapper(x):\n",
    "        return func(x-1)\n",
    "        \n",
    "    \n",
    "    return wrapper\n",
    "\n",
    "\n",
    "@dec\n",
    "def boo(x):\n",
    "    return x\n",
    "\n",
    "boo(3)"
   ]
  },
  {
   "cell_type": "code",
   "execution_count": null,
   "metadata": {},
   "outputs": [],
   "source": [
    "@dataclasses.dataclass(frozen=True)\n",
    "class Delivery2:\n",
    "    monitor_units: np.ndarray\n",
    "    gantry: np.ndarray\n",
    "    collimator: np.ndarray\n",
    "    mlc: np.ndarray\n",
    "    jaw: np.ndarray\n",
    "    \n",
    "    def __iter__(self):\n",
    "        for field in dataclasses.fields(self):\n",
    "            yield getattr(self, field.name)\n"
   ]
  },
  {
   "cell_type": "code",
   "execution_count": null,
   "metadata": {},
   "outputs": [],
   "source": [
    "Delivery3 = dataclasses.make_dataclass('Delivery3',\n",
    "    ['monitor_units', 'gantry', 'collimator', 'mlc', 'jaw'], frozen=True)\n",
    "\n",
    "Delivery3"
   ]
  },
  {
   "cell_type": "code",
   "execution_count": null,
   "metadata": {},
   "outputs": [],
   "source": [
    "[\n",
    "    field.name\n",
    "    for field in dataclasses.fields(Delivery3)\n",
    "]"
   ]
  },
  {
   "cell_type": "code",
   "execution_count": null,
   "metadata": {},
   "outputs": [],
   "source": [
    "test = Delivery2(*delivery_data)"
   ]
  },
  {
   "cell_type": "code",
   "execution_count": null,
   "metadata": {},
   "outputs": [],
   "source": [
    "# Delivery2(*test)"
   ]
  },
  {
   "cell_type": "code",
   "execution_count": null,
   "metadata": {},
   "outputs": [],
   "source": [
    "a,b,c,d,e = test\n",
    "# a"
   ]
  },
  {
   "cell_type": "code",
   "execution_count": null,
   "metadata": {},
   "outputs": [],
   "source": [
    "# delivery_data"
   ]
  }
 ],
 "metadata": {
  "kernelspec": {
   "display_name": "Python 3",
   "language": "python",
   "name": "python3"
  },
  "language_info": {
   "codemirror_mode": {
    "name": "ipython",
    "version": 3
   },
   "file_extension": ".py",
   "mimetype": "text/x-python",
   "name": "python",
   "nbconvert_exporter": "python",
   "pygments_lexer": "ipython3",
   "version": "3.7.1"
  }
 },
 "nbformat": 4,
 "nbformat_minor": 2
}
