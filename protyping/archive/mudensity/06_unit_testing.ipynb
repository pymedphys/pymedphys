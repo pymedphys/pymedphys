{
 "cells": [
  {
   "cell_type": "code",
   "execution_count": null,
   "metadata": {},
   "outputs": [],
   "source": [
    "import os\n",
    "\n",
    "import numpy as np\n",
    "import matplotlib.pyplot as plt\n",
    "\n",
    "from pymedphys.level1.mudensity import *\n",
    "\n",
    "from pymedphys.level1.mudensity import (\n",
    "    _determine_reference_grid_position, _determine_leaf_centres\n",
    ")"
   ]
  },
  {
   "cell_type": "code",
   "execution_count": null,
   "metadata": {},
   "outputs": [],
   "source": [
    "def single_mlc_pair(left_mlc, right_mlc, grid_resolution, time_steps=50):\n",
    "    leaf_pair_widths = [grid_resolution]\n",
    "    jaw = np.array([\n",
    "        [grid_resolution/2, grid_resolution/2],\n",
    "        [grid_resolution/2, grid_resolution/2]\n",
    "    ])\n",
    "    mlc = np.array([\n",
    "        [\n",
    "            [left_mlc[0], right_mlc[0]],\n",
    "        ],\n",
    "        [\n",
    "            [left_mlc[1], right_mlc[1]],\n",
    "        ]\n",
    "    ])\n",
    "\n",
    "    grid, mu_density = calc_single_control_point(\n",
    "        mlc, jaw, leaf_pair_widths=leaf_pair_widths,\n",
    "        grid_resolution=grid_resolution, time_steps=time_steps\n",
    "    )\n",
    "\n",
    "    return grid['mlc'], mu_density[0, :]"
   ]
  },
  {
   "cell_type": "code",
   "execution_count": null,
   "metadata": {},
   "outputs": [],
   "source": [
    "plt.plot(*single_mlc_pair((-2.3, 3.1), (0, 7.7), 1, time_steps=3), '-o')\n",
    "plt.plot(*single_mlc_pair((-2.3, 3.1), (0, 7.7), 1, time_steps=10), '-o')\n",
    "plt.plot(*single_mlc_pair((-2.3, 3.1), (0, 7.7), 1, time_steps=50), '-o')\n",
    "plt.plot(*single_mlc_pair((-2.3, 3.1), (0, 7.7), 1, time_steps=100), '-o')\n",
    "plt.plot(*single_mlc_pair((-2.3, 3.1), (0, 7.7), 1, time_steps=1000), '-o')\n",
    "plt.plot(*single_mlc_pair((-2.3, 3.1), (0, 7.7), 1, time_steps=10000), '-o')"
   ]
  },
  {
   "cell_type": "code",
   "execution_count": null,
   "metadata": {},
   "outputs": [],
   "source": [
    "plt.plot(*single_mlc_pair((-2.3, 3.1), (0, 7.7), 0.01, time_steps=3), '.')\n",
    "plt.plot(*single_mlc_pair((-2.3, 3.1), (0, 7.7), 0.01, time_steps=10), '.')\n",
    "plt.plot(*single_mlc_pair((-2.3, 3.1), (0, 7.7), 0.01, time_steps=50), '.')\n",
    "plt.plot(*single_mlc_pair((-2.3, 3.1), (0, 7.7), 0.01, time_steps=100), '.')\n",
    "plt.plot(*single_mlc_pair((-2.3, 3.1), (0, 7.7), 0.01, time_steps=1000), '.')"
   ]
  },
  {
   "cell_type": "code",
   "execution_count": null,
   "metadata": {},
   "outputs": [],
   "source": [
    "x_coarse, mu_density_coarse = single_mlc_pair((-2.3, 3.1), (0, 7.7), 1, time_steps=1000)\n",
    "plt.plot(x_coarse, mu_density_coarse, '-o')"
   ]
  },
  {
   "cell_type": "code",
   "execution_count": null,
   "metadata": {},
   "outputs": [],
   "source": [
    "x_fine, mu_density_fine = single_mlc_pair((-2.3, 3.1), (0, 7.7), 0.01, time_steps=1000)\n",
    "plt.plot(x_fine, mu_density_fine, '-o')"
   ]
  },
  {
   "cell_type": "code",
   "execution_count": null,
   "metadata": {},
   "outputs": [],
   "source": [
    "len(reference)"
   ]
  },
  {
   "cell_type": "code",
   "execution_count": null,
   "metadata": {},
   "outputs": [],
   "source": [
    "len(mu_density_fine)"
   ]
  },
  {
   "cell_type": "code",
   "execution_count": null,
   "metadata": {},
   "outputs": [],
   "source": [
    "reference = np.argmin(np.abs(x_fine[None,:] - x_coarse[:,None]), axis=0)\n",
    "\n",
    "average_mu_density_fine = []\n",
    "for i, x_val in enumerate(x_coarse):\n",
    "    average_mu_density_fine.append(\n",
    "        np.mean(mu_density_fine[reference == i]))\n",
    "    \n",
    "average_mu_density_fine = np.array(average_mu_density_fine)"
   ]
  },
  {
   "cell_type": "code",
   "execution_count": null,
   "metadata": {},
   "outputs": [],
   "source": [
    "len(x_coarse)"
   ]
  },
  {
   "cell_type": "code",
   "execution_count": null,
   "metadata": {},
   "outputs": [],
   "source": [
    "plt.plot(x_coarse[2:-2], mu_density_coarse[2:-2], '-o')\n",
    "plt.plot(x_coarse[2:-2], average_mu_density_fine[2:-2], '-o')\n",
    "\n",
    "\n",
    "np.allclose(average_mu_density_fine[2:-2], mu_density_coarse[2:-2], 0.01)"
   ]
  },
  {
   "cell_type": "code",
   "execution_count": null,
   "metadata": {},
   "outputs": [],
   "source": []
  },
  {
   "cell_type": "code",
   "execution_count": null,
   "metadata": {},
   "outputs": [],
   "source": [
    "def colormesh_grid(x, y, grid_resolution):   \n",
    "    new_x = np.concatenate([x - grid_resolution/2, [x[-1] + grid_resolution/2]])\n",
    "    new_y = np.concatenate([y - grid_resolution/2, [y[-1] + grid_resolution/2]])\n",
    "    \n",
    "    return new_x, new_y"
   ]
  },
  {
   "cell_type": "code",
   "execution_count": null,
   "metadata": {},
   "outputs": [],
   "source": [
    "leaf_pair_widths = np.array([\n",
    "    1\n",
    "])\n",
    "grid_resolution = 1"
   ]
  },
  {
   "cell_type": "code",
   "execution_count": null,
   "metadata": {},
   "outputs": [],
   "source": [
    "maximum_jaw_limit = np.sum(leaf_pair_widths)/2\n",
    "maximum_jaw_limit"
   ]
  },
  {
   "cell_type": "code",
   "execution_count": null,
   "metadata": {},
   "outputs": [],
   "source": [
    "mlc = np.array([\n",
    "    [\n",
    "        [-2.3, 0],\n",
    "    ],\n",
    "    [\n",
    "        [3.1, 7.7],\n",
    "    ]\n",
    "])"
   ]
  },
  {
   "cell_type": "code",
   "execution_count": null,
   "metadata": {},
   "outputs": [],
   "source": [
    "jaw = np.array([\n",
    "    [0.5, 0.5],\n",
    "    [0.5, 0.5]\n",
    "])"
   ]
  },
  {
   "cell_type": "code",
   "execution_count": null,
   "metadata": {},
   "outputs": [],
   "source": [
    "grid, mu_density = calc_single_control_point(\n",
    "    mlc, jaw, leaf_pair_widths=leaf_pair_widths, grid_resolution=grid_resolution\n",
    ")\n",
    "\n",
    "x, y = colormesh_grid(grid['mlc'], grid['jaw'], grid_resolution)\n",
    "\n",
    "plt.pcolormesh(x, y, mu_density)\n",
    "plt.colorbar()\n",
    "plt.title('MU density')\n",
    "plt.xlabel('MLC direction (mm)')\n",
    "plt.ylabel('Jaw direction (mm)')\n",
    "plt.axis('equal')\n",
    "plt.gca().invert_yaxis()"
   ]
  },
  {
   "cell_type": "code",
   "execution_count": null,
   "metadata": {},
   "outputs": [],
   "source": [
    "plt.plot(grid['mlc'], mu_density[0,:], 'o-')"
   ]
  },
  {
   "cell_type": "code",
   "execution_count": null,
   "metadata": {},
   "outputs": [],
   "source": []
  }
 ],
 "metadata": {
  "kernelspec": {
   "display_name": "Python 3",
   "language": "python",
   "name": "python3"
  },
  "language_info": {
   "codemirror_mode": {
    "name": "ipython",
    "version": 3
   },
   "file_extension": ".py",
   "mimetype": "text/x-python",
   "name": "python",
   "nbconvert_exporter": "python",
   "pygments_lexer": "ipython3",
   "version": "3.6.6"
  }
 },
 "nbformat": 4,
 "nbformat_minor": 2
}
