{
 "cells": [
  {
   "cell_type": "code",
   "execution_count": null,
   "metadata": {},
   "outputs": [],
   "source": [
    "import numpy as np\n",
    "\n",
    "from pymedphys.mudensity import (\n",
    "    calc_mu_density, get_grid, display_mu_density)\n",
    "\n",
    "leaf_pair_widths = (5, 5, 5)\n",
    "max_leaf_gap = 10\n",
    "mu = np.array([0, 2, 5, 10])\n",
    "mlc = np.array([\n",
    "    [\n",
    "        [1, 1],\n",
    "        [2, 2],\n",
    "        [3, 3]\n",
    "    ],\n",
    "    [\n",
    "        [2, 2],\n",
    "        [3, 3],\n",
    "        [4, 4]\n",
    "    ],\n",
    "    [\n",
    "       [-2, 3],\n",
    "        [-2, 4],\n",
    "        [-2, 5]\n",
    "    ],\n",
    "    [\n",
    "        [0, 0],\n",
    "        [0, 0],\n",
    "        [0, 0]\n",
    "    ]\n",
    "])\n",
    "jaw = np.array([\n",
    "    [7.5, 7.5],\n",
    "    [7.5, 7.5],\n",
    "    [-2, 7.5],\n",
    "    [0, 0]\n",
    "])\n",
    "\n",
    "grid = get_grid(\n",
    "   max_leaf_gap=max_leaf_gap, leaf_pair_widths=leaf_pair_widths)\n",
    "mu_density = calc_mu_density(\n",
    "   mu, mlc, jaw, max_leaf_gap=max_leaf_gap,\n",
    "   leaf_pair_widths=leaf_pair_widths)\n",
    "display_mu_density(grid, mu_density)"
   ]
  },
  {
   "cell_type": "code",
   "execution_count": null,
   "metadata": {},
   "outputs": [],
   "source": [
    "grid['mlc']"
   ]
  },
  {
   "cell_type": "code",
   "execution_count": null,
   "metadata": {},
   "outputs": [],
   "source": [
    "grid['jaw']"
   ]
  },
  {
   "cell_type": "code",
   "execution_count": null,
   "metadata": {},
   "outputs": [],
   "source": [
    "np.round(mu_density, 1)"
   ]
  },
  {
   "cell_type": "code",
   "execution_count": null,
   "metadata": {},
   "outputs": [],
   "source": [
    "from pymedphys.mudensity import (\n",
    "    calc_single_control_point, display_mu_density)\n",
    "\n",
    "leaf_pair_widths = (2, 2)\n",
    "mlc = np.array([\n",
    "    [\n",
    "        [1, 1],\n",
    "        [2, 2],\n",
    "    ],\n",
    "    [\n",
    "        [2, 2],\n",
    "        [3, 3],\n",
    "    ]\n",
    "])\n",
    "jaw = np.array([\n",
    "    [1.5, 1.2],\n",
    "    [1.5, 1.2]\n",
    "])\n",
    "grid, mu_density = calc_single_control_point(\n",
    "    mlc, jaw, leaf_pair_widths=leaf_pair_widths)\n",
    "display_mu_density(grid, mu_density)\n",
    "\n",
    "np.round(mu_density, 2)"
   ]
  },
  {
   "cell_type": "code",
   "execution_count": null,
   "metadata": {},
   "outputs": [],
   "source": [
    "grid['mlc']"
   ]
  },
  {
   "cell_type": "code",
   "execution_count": null,
   "metadata": {},
   "outputs": [],
   "source": [
    "grid['jaw']"
   ]
  },
  {
   "cell_type": "code",
   "execution_count": null,
   "metadata": {},
   "outputs": [],
   "source": [
    "import matplotlib.pyplot as plt\n",
    "\n",
    "from pymedphys.mudensity import (\n",
    "    single_mlc_pair)\n",
    "\n",
    "mlc_left = (-2.3, 3.1)  # (start position, end position)\n",
    "mlc_right = (0, 7.7)\n",
    "\n",
    "x, mu_density = single_mlc_pair(mlc_left, mlc_right)\n",
    "fig = plt.plot(x, mu_density, '-o')"
   ]
  },
  {
   "cell_type": "code",
   "execution_count": null,
   "metadata": {},
   "outputs": [],
   "source": [
    "x"
   ]
  },
  {
   "cell_type": "code",
   "execution_count": null,
   "metadata": {},
   "outputs": [],
   "source": [
    "np.round(mu_density, 3)"
   ]
  },
  {
   "cell_type": "code",
   "execution_count": null,
   "metadata": {},
   "outputs": [],
   "source": []
  }
 ],
 "metadata": {
  "kernelspec": {
   "display_name": "Python 3",
   "language": "python",
   "name": "python3"
  },
  "language_info": {
   "codemirror_mode": {
    "name": "ipython",
    "version": 3
   },
   "file_extension": ".py",
   "mimetype": "text/x-python",
   "name": "python",
   "nbconvert_exporter": "python",
   "pygments_lexer": "ipython3",
   "version": "3.6.6"
  }
 },
 "nbformat": 4,
 "nbformat_minor": 2
}
