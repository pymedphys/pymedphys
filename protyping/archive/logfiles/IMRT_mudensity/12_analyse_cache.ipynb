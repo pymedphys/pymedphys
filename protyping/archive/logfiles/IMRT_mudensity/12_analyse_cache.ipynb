{
 "cells": [
  {
   "cell_type": "code",
   "execution_count": null,
   "metadata": {},
   "outputs": [],
   "source": [
    "import os\n",
    "import json\n",
    "import yaml\n",
    "\n",
    "import numpy as np\n",
    "import pandas as pd\n",
    "\n",
    "from decode_trf import delivery_data_from_logfile\n",
    "\n",
    "from pymedphys.level1.msqconnect import mosaiq_connect\n",
    "from pymedphys.level1.configutilities import get_index, get_data_directory, get_filepath, get_gantry_tolerance\n",
    "from pymedphys.level1.mudensity import find_relevant_control_points, calc_mu_density\n",
    "from pymedphys.level2.msqdelivery import multi_fetch_and_verify_mosaiq\n",
    "from pymedphys.level3.analyselogfiles import plot_results, calc_comparison\n",
    "from pymedphys.level4.comparebygantry import (\n",
    "    get_mappings, get_comparisons_byfield, get_logfile_delivery_data_bygantry,\n",
    "    get_logfile_mu_density_bygantry, get_mosaiq_delivery_data_bygantry,\n",
    "    get_mosaiq_mu_density_bygantry, get_comparison_results, extract_angle_from_delivery_data,\n",
    "    get_field_id_from_logfile_group, calc_mosaiq_mu_density_bygantry, \n",
    "    calc_logfile_mu_density_bygantry\n",
    ")"
   ]
  },
  {
   "cell_type": "code",
   "execution_count": null,
   "metadata": {},
   "outputs": [],
   "source": [
    "with open('../config.json') as config_file:\n",
    "    config = json.load(config_file)"
   ]
  },
  {
   "cell_type": "code",
   "execution_count": null,
   "metadata": {},
   "outputs": [],
   "source": [
    "index = get_index(config)"
   ]
  },
  {
   "cell_type": "code",
   "execution_count": null,
   "metadata": {},
   "outputs": [],
   "source": [
    "data_directory = get_data_directory(config)\n",
    "\n",
    "cache_filepath = os.path.join(data_directory, 'cache', 'dmlc_comparison.yaml')\n",
    "cache_scratch_filepath = os.path.join(data_directory, 'cache', 'dmlc_comparison_scratch.yaml')\n",
    "\n",
    "with open(cache_filepath, 'r') as cache_file:\n",
    "    cache = yaml.load(cache_file)"
   ]
  },
  {
   "cell_type": "code",
   "execution_count": null,
   "metadata": {},
   "outputs": [],
   "source": [
    "patient_ids = list(cache.keys())\n",
    "len(patient_ids)"
   ]
  },
  {
   "cell_type": "code",
   "execution_count": null,
   "metadata": {},
   "outputs": [],
   "source": [
    "data = []\n",
    "\n",
    "for patient_id in patient_ids:\n",
    "    for byfield in cache[patient_id]:\n",
    "        for angle in cache[patient_id][byfield]:\n",
    "            comparison = cache[patient_id][byfield][angle]['median']\n",
    "            file_hashes = cache[patient_id][byfield][angle]['median_filehash_group']\n",
    "            data.append([\n",
    "                patient_id, byfield, angle, comparison, file_hashes\n",
    "            ])\n",
    "            \n",
    "comparisons_table = pd.DataFrame(\n",
    "    columns=[\n",
    "        'patient_id', 'field_id',\n",
    "        'gantry_angle', 'comparison',\n",
    "        'file_hashes'\n",
    "    ],\n",
    "    data=data\n",
    ")\n",
    "\n",
    "comparisons_table = comparisons_table.sort_values('comparison', ascending=False)\n",
    "top_ten = comparisons_table.iloc[0:10]\n",
    "top_ten"
   ]
  },
  {
   "cell_type": "code",
   "execution_count": null,
   "metadata": {},
   "outputs": [],
   "source": [
    "len(comparisons_table)"
   ]
  },
  {
   "cell_type": "code",
   "execution_count": null,
   "metadata": {},
   "outputs": [],
   "source": [
    "logfile_group = comparisons_table.iloc[0]['file_hashes']\n",
    "logfile_group"
   ]
  },
  {
   "cell_type": "code",
   "execution_count": null,
   "metadata": {},
   "outputs": [],
   "source": [
    "gantry_angle = comparisons_table.iloc[0]['gantry_angle']\n",
    "gantry_angle"
   ]
  },
  {
   "cell_type": "code",
   "execution_count": null,
   "metadata": {},
   "outputs": [],
   "source": [
    "field_id = get_field_id_from_logfile_group(index, logfile_group)"
   ]
  },
  {
   "cell_type": "code",
   "execution_count": null,
   "metadata": {},
   "outputs": [],
   "source": [
    "with mosaiq_connect('msqsql') as cursor:\n",
    "    mosaiq_mu_density = calc_mosaiq_mu_density_bygantry(cursor, field_id, gantry_angle)"
   ]
  },
  {
   "cell_type": "code",
   "execution_count": null,
   "metadata": {},
   "outputs": [],
   "source": [
    "logfile_mu_density = calc_logfile_mu_density_bygantry(index, config, logfile_group, gantry_angle)"
   ]
  },
  {
   "cell_type": "code",
   "execution_count": null,
   "metadata": {},
   "outputs": [],
   "source": [
    "grid_xx = logfile_mu_density[0]\n",
    "grid_yy = logfile_mu_density[1]\n",
    "\n",
    "comparison = calc_comparison(logfile_mu_density[2], mosaiq_mu_density[2])\n",
    "\n",
    "print(comparison)\n",
    "plot_results(grid_xx, grid_yy, logfile_mu_density[2], mosaiq_mu_density[2])"
   ]
  },
  {
   "cell_type": "code",
   "execution_count": null,
   "metadata": {},
   "outputs": [],
   "source": []
  }
 ],
 "metadata": {
  "kernelspec": {
   "display_name": "Python 3",
   "language": "python",
   "name": "python3"
  },
  "language_info": {
   "codemirror_mode": {
    "name": "ipython",
    "version": 3
   },
   "file_extension": ".py",
   "mimetype": "text/x-python",
   "name": "python",
   "nbconvert_exporter": "python",
   "pygments_lexer": "ipython3",
   "version": "3.5.5"
  }
 },
 "nbformat": 4,
 "nbformat_minor": 2
}
