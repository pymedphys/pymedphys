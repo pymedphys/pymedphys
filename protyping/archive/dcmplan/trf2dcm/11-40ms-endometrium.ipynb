{
 "cells": [
  {
   "cell_type": "code",
   "execution_count": null,
   "metadata": {},
   "outputs": [],
   "source": [
    "import os\n",
    "from copy import deepcopy\n",
    "\n",
    "import numpy as np\n",
    "\n",
    "import pydicom\n",
    "\n",
    "from pymedphys_core.delivery import (\n",
    "    Delivery, find_relevant_control_points)\n",
    "from pymedphys_fileformats.trf import delivery_data_from_logfile\n",
    "\n",
    "\n",
    "def trf2dcm(dcm_template_filepath, trf_filepath, gantry_angle, output_dir):\n",
    "    trf_filename = os.path.basename(trf_filepath)\n",
    "    filepath_out = os.path.join(output_dir, \"{}.dcm\".format(trf_filename))\n",
    "\n",
    "    dicom_template = pydicom.read_file(dcm_template_filepath, force=True)\n",
    "    delivery_data = delivery_data_from_logfile(trf_filepath)\n",
    "\n",
    "    delivery_data = filter_out_irrelevant_control_points(delivery_data)\n",
    "\n",
    "    delivery_data = extract_one_gantry_angle(\n",
    "        delivery_data, gantry_angle)  # abstract used gantry_angle = -120\n",
    "    mlc = np.array(delivery_data.mlc)\n",
    "    converted_mlc = convert_mlc_format(mlc)\n",
    "\n",
    "    new_jaw = np.array(delivery_data.jaw)\n",
    "    new_jaw[:, 1] = -new_jaw[:, 1]\n",
    "\n",
    "    converted_jaw = new_jaw.astype(str)\n",
    "    converted_jaw[:, 1] = new_jaw.astype(str)[:, 0]\n",
    "    converted_jaw[:, 0] = new_jaw.astype(str)[:, 1]\n",
    "    converted_jaw = converted_jaw.tolist()\n",
    "\n",
    "    diff = np.append(np.diff(delivery_data.gantry), 0)\n",
    "    movement = (np.empty_like(delivery_data.gantry)).astype(str)\n",
    "\n",
    "    movement[diff > 0] = 'CW'\n",
    "    movement[diff < 0] = 'CC'\n",
    "    movement[diff == 0] = 'NONE'\n",
    "\n",
    "    converted_gantry = np.array(delivery_data.gantry)\n",
    "    converted_gantry[converted_gantry <\n",
    "                     0] = converted_gantry[converted_gantry < 0] + 360\n",
    "\n",
    "    converted_gantry = converted_gantry.astype(str).tolist()\n",
    "\n",
    "    monitor_units = delivery_data.monitor_units\n",
    "\n",
    "    control_point_sequence = dicom_template.BeamSequence[0].ControlPointSequence\n",
    "\n",
    "    init_cp = deepcopy(control_point_sequence[0])\n",
    "    subsequent_cp = deepcopy(control_point_sequence[-1])\n",
    "\n",
    "    init_cp.GantryAngle = converted_gantry[0]\n",
    "    init_cp.GantryRotationDirection = movement[0]\n",
    "    init_cp.BeamLimitingDevicePositionSequence[0].LeafJawPositions = converted_jaw[0]\n",
    "\n",
    "    init_cp.BeamLimitingDevicePositionSequence[1].LeafJawPositions = converted_mlc[0]\n",
    "\n",
    "    remaining_cps = []\n",
    "    for i, (mu, mlc_cp, jaw_cp, move_cp, gantry_cp) in enumerate(zip(monitor_units[1::],\n",
    "                                                                     converted_mlc[1::],\n",
    "                                                                     converted_jaw[1::],\n",
    "                                                                     movement[1::],\n",
    "                                                                     converted_gantry[1::])):\n",
    "        current_cp = deepcopy(subsequent_cp)\n",
    "        current_cp.ControlPointIndex = str(i+1)\n",
    "        current_cp.GantryAngle = gantry_cp\n",
    "        current_cp.GantryRotationDirection = move_cp\n",
    "        current_cp.BeamLimitingDevicePositionSequence[0].LeafJawPositions = jaw_cp\n",
    "        current_cp.BeamLimitingDevicePositionSequence[1].LeafJawPositions = mlc_cp\n",
    "        current_cp.CumulativeMetersetWeight = np.around(\n",
    "            mu / delivery_data.monitor_units[-1], decimals=5)\n",
    "\n",
    "        remaining_cps.append(current_cp)\n",
    "\n",
    "    all_control_points = [init_cp] + remaining_cps\n",
    "\n",
    "    edited_dcm = deepcopy(dicom_template)\n",
    "\n",
    "    edited_dcm.FractionGroupSequence[0].ReferencedBeamSequence[-2].BeamMeterset = (\n",
    "        str(monitor_units[-1]))\n",
    "\n",
    "    edited_dcm.FractionGroupSequence[0].ReferencedBeamSequence = [\n",
    "        edited_dcm.FractionGroupSequence[0].ReferencedBeamSequence[-2]\n",
    "    ]\n",
    "\n",
    "    edited_dcm.BeamSequence[-2].ControlPointSequence = all_control_points\n",
    "    edited_dcm.BeamSequence[-2].NumberOfControlPoints = len(all_control_points)\n",
    "\n",
    "    edited_dcm.BeamSequence = [\n",
    "        edited_dcm.BeamSequence[-2]\n",
    "    ]\n",
    "\n",
    "    edited_dcm.save_as(filepath_out)\n",
    "\n",
    "\n",
    "def strip_delivery_data(delivery_data, skip_size):\n",
    "    new_delivery_data = []\n",
    "    for item in delivery_data:\n",
    "        new_delivery_data.append(np.array(item)[::skip_size].tolist())\n",
    "\n",
    "    return Delivery(*new_delivery_data)\n",
    "\n",
    "\n",
    "def filter_out_irrelevant_control_points(delivery_data):\n",
    "\n",
    "    relvant_control_points = find_relevant_control_points(\n",
    "        delivery_data.monitor_units)\n",
    "\n",
    "    new_delivery_data = []\n",
    "    for item in delivery_data:\n",
    "        new_delivery_data.append(\n",
    "            np.array(item)[relvant_control_points].tolist())\n",
    "\n",
    "    return Delivery(*new_delivery_data)\n",
    "\n",
    "\n",
    "def extract_one_gantry_angle(delivery_data, gantry_angle):\n",
    "    near_angle = np.abs(np.array(delivery_data.gantry) - gantry_angle) < 3\n",
    "    assert np.all(np.diff(np.where(near_angle)[0]) == 1)\n",
    "\n",
    "    new_delivery_data = []\n",
    "    for item in delivery_data:\n",
    "        new_delivery_data.append(np.array(item)[near_angle].tolist())\n",
    "\n",
    "    new_delivery_data[0] = np.round(\n",
    "        np.array(new_delivery_data[0]) - new_delivery_data[0][0], decimals=7).tolist()\n",
    "\n",
    "    return Delivery(*new_delivery_data)\n",
    "\n",
    "\n",
    "def convert_mlc_format(mlc):\n",
    "\n",
    "    dicom_mlc_format = []\n",
    "    for control_point in mlc:\n",
    "        concatenated = np.hstack(\n",
    "            [-control_point[-1::-1, 1], control_point[-1::-1, 0]])\n",
    "        dicom_mlc_format.append(concatenated.astype(str).tolist())\n",
    "\n",
    "    return dicom_mlc_format\n",
    "\n",
    "\n",
    "def convert_jaw_format(jaw):\n",
    "    dicom_jaw_format = []\n",
    "    for control_point in jaw:\n",
    "        control_point[0]\n",
    "\n",
    "\n",
    "def movement_check(angles):\n",
    "    float_angles = angles.astype(np.float64)\n",
    "    float_angles[float_angles >= 180] = float_angles[float_angles >= 180] - 360\n",
    "    diff = np.append(np.diff(float_angles), 0)\n",
    "\n",
    "    movement = (np.empty_like(angles)).astype(str)\n",
    "    movement[diff > 0] = 'CW'\n",
    "    movement[diff < 0] = 'CC'\n",
    "    movement[diff == 0] = 'NONE'\n",
    "\n",
    "    return movement\n"
   ]
  },
  {
   "cell_type": "code",
   "execution_count": null,
   "metadata": {},
   "outputs": [],
   "source": [
    "dcm_template_filepath = glob(os.path.join(data_root, '*.dcm'))[0]\n",
    "trf_filepath = glob(os.path.join('/input', '*.trf'))[0]\n",
    "gantry_angle = -120  # TODO: Make this customisable within app\n",
    "output_dir = '/output'"
   ]
  },
  {
   "cell_type": "code",
   "execution_count": null,
   "metadata": {},
   "outputs": [],
   "source": [
    "glob(os.path.join(data_root, '*.trf'))"
   ]
  },
  {
   "cell_type": "code",
   "execution_count": null,
   "metadata": {},
   "outputs": [],
   "source": [
    "logfile_path = glob(os.path.join(data_root, '*.dcm'))[0]\n",
    "\n",
    "logfile_path"
   ]
  },
  {
   "cell_type": "code",
   "execution_count": null,
   "metadata": {},
   "outputs": [],
   "source": [
    "# original = glob(os.path.join(\n",
    "#     data_root, 'original', '*'\n",
    "# ))[0]\n",
    "\n",
    "# plan_name = os.path.basename(original)"
   ]
  },
  {
   "cell_type": "code",
   "execution_count": null,
   "metadata": {},
   "outputs": [],
   "source": [
    "# filepath_out = glob(os.path.join(\n",
    "#     data_root, 'dicom_40ms', plan_name\n",
    "# ))[0]\n",
    "\n",
    "# filepath_out"
   ]
  },
  {
   "cell_type": "code",
   "execution_count": null,
   "metadata": {},
   "outputs": [],
   "source": [
    "# filepath = '../../tests/data/dcmplan/TinyVMAT/TinyFS_TinyVMAT.dcm'\n",
    "# filepath_out = '../../tests/data/dcmplan/test/test.dcm'\n",
    "dcm = pydicom.read_file(original, force=True)"
   ]
  },
  {
   "cell_type": "code",
   "execution_count": null,
   "metadata": {},
   "outputs": [],
   "source": [
    "# logfile_path = os.path.join(\n",
    "#     '..', '..',\n",
    "#     'tests', 'data', 'trf', 'elekta_reference',\n",
    "#     '17_04_24 02_23_05 Z 1-1_1ARCVMAT.trf'\n",
    "# )\n",
    "# logfile_path"
   ]
  },
  {
   "cell_type": "code",
   "execution_count": null,
   "metadata": {},
   "outputs": [],
   "source": [
    "delivery_data = delivery_data_from_logfile(logfile_path)"
   ]
  },
  {
   "cell_type": "code",
   "execution_count": null,
   "metadata": {},
   "outputs": [],
   "source": [
    "def strip_delivery_data(delivery_data, skip_size):\n",
    "    new_delivery_data = []\n",
    "    for item in delivery_data:\n",
    "        new_delivery_data.append(np.array(item)[::skip_size].tolist())\n",
    "        \n",
    "    return Delivery(*new_delivery_data)\n",
    "\n",
    "# delivery_data = strip_delivery_data(delivery_data, 6)  # make 240 ms res instead of 40 ms"
   ]
  },
  {
   "cell_type": "code",
   "execution_count": null,
   "metadata": {},
   "outputs": [],
   "source": [
    "def filter_out_irrelevant_control_points(delivery_data):\n",
    "    \n",
    "    relvant_control_points = find_relevant_control_points(\n",
    "        delivery_data.monitor_units)\n",
    "    \n",
    "    new_delivery_data = []\n",
    "    for item in delivery_data:\n",
    "        new_delivery_data.append(np.array(item)[relvant_control_points].tolist())\n",
    "        \n",
    "    return Delivery(*new_delivery_data)\n",
    "\n",
    "\n",
    "delivery_data = filter_out_irrelevant_control_points(delivery_data)"
   ]
  },
  {
   "cell_type": "code",
   "execution_count": null,
   "metadata": {},
   "outputs": [],
   "source": []
  },
  {
   "cell_type": "code",
   "execution_count": null,
   "metadata": {},
   "outputs": [],
   "source": [
    "\n",
    "# delivery_data.gantry[0:first_change]"
   ]
  },
  {
   "cell_type": "code",
   "execution_count": null,
   "metadata": {},
   "outputs": [],
   "source": []
  },
  {
   "cell_type": "code",
   "execution_count": null,
   "metadata": {},
   "outputs": [],
   "source": [
    "def extract_one_gantry_angle(delivery_data, gantry_angle):\n",
    "    near_angle = np.abs(np.array(delivery_data.gantry) - gantry_angle) < 3\n",
    "    assert np.all(np.diff(np.where(near_angle)[0]) == 1)\n",
    "    \n",
    "    new_delivery_data = []\n",
    "    for item in delivery_data:\n",
    "        new_delivery_data.append(np.array(item)[near_angle].tolist())\n",
    "        \n",
    "    new_delivery_data[0] = np.round(np.array(new_delivery_data[0]) - new_delivery_data[0][0], decimals=7).tolist()\n",
    "        \n",
    "    return Delivery(*new_delivery_data)\n",
    "\n",
    "\n",
    "delivery_data = extract_one_gantry_angle(delivery_data, -120)"
   ]
  },
  {
   "cell_type": "code",
   "execution_count": null,
   "metadata": {},
   "outputs": [],
   "source": [
    "# delivery_data"
   ]
  },
  {
   "cell_type": "code",
   "execution_count": null,
   "metadata": {},
   "outputs": [],
   "source": [
    "# delivery_data.gantry"
   ]
  },
  {
   "cell_type": "code",
   "execution_count": null,
   "metadata": {},
   "outputs": [],
   "source": [
    "# delivery_data.gantry"
   ]
  },
  {
   "cell_type": "code",
   "execution_count": null,
   "metadata": {},
   "outputs": [],
   "source": [
    "len(delivery_data.monitor_units)"
   ]
  },
  {
   "cell_type": "code",
   "execution_count": null,
   "metadata": {},
   "outputs": [],
   "source": [
    "np.shape(np.array(delivery_data.mlc))\n",
    "mlc = np.array(delivery_data.mlc)\n",
    "\n",
    "np.shape(mlc[:,:,0])"
   ]
  },
  {
   "cell_type": "code",
   "execution_count": null,
   "metadata": {},
   "outputs": [],
   "source": []
  },
  {
   "cell_type": "code",
   "execution_count": null,
   "metadata": {},
   "outputs": [],
   "source": [
    "def convert_mlc_format(mlc):\n",
    "    \n",
    "    dicom_mlc_format = []\n",
    "    for control_point in mlc:\n",
    "        concatenated = np.hstack([-control_point[-1::-1,1], control_point[-1::-1,0]])\n",
    "#         concatenated[-5::] = 1.8\n",
    "        dicom_mlc_format.append(concatenated.astype(str).tolist())\n",
    "        \n",
    "    return dicom_mlc_format\n",
    "        \n",
    "converted_mlc = convert_mlc_format(mlc)\n",
    "\n",
    "# converted_mlc[0]"
   ]
  },
  {
   "cell_type": "code",
   "execution_count": null,
   "metadata": {},
   "outputs": [],
   "source": [
    "def convert_jaw_format(jaw):\n",
    "    dicom_jaw_format = []\n",
    "    for control_point in jaw:\n",
    "        control_point[0]"
   ]
  },
  {
   "cell_type": "code",
   "execution_count": null,
   "metadata": {},
   "outputs": [],
   "source": [
    "new_jaw = np.array(delivery_data.jaw)\n",
    "new_jaw[:,1] = -new_jaw[:,1]\n",
    "\n",
    "converted_jaw = new_jaw.astype(str)\n",
    "converted_jaw[:,1] = new_jaw.astype(str)[:,0]\n",
    "converted_jaw[:,0] = new_jaw.astype(str)[:,1]\n",
    "converted_jaw = converted_jaw.tolist()"
   ]
  },
  {
   "cell_type": "code",
   "execution_count": null,
   "metadata": {},
   "outputs": [],
   "source": [
    "# converted_jaw"
   ]
  },
  {
   "cell_type": "code",
   "execution_count": null,
   "metadata": {},
   "outputs": [],
   "source": [
    "def movement_check(angles):\n",
    "    float_angles = angles.astype(np.float64)\n",
    "    float_angles[float_angles >= 180] = float_angles[float_angles >= 180] - 360\n",
    "    diff = np.append(np.diff(float_angles), 0)\n",
    "    \n",
    "    movement = (np.empty_like(angles)).astype(str)\n",
    "    movement[diff > 0] = 'CW'\n",
    "    movement[diff < 0] = 'CC'\n",
    "    movement[diff == 0] = 'NONE'\n",
    "    \n",
    "    return movement"
   ]
  },
  {
   "cell_type": "code",
   "execution_count": null,
   "metadata": {},
   "outputs": [],
   "source": []
  },
  {
   "cell_type": "code",
   "execution_count": null,
   "metadata": {},
   "outputs": [],
   "source": [
    "# delivery_data.gantry"
   ]
  },
  {
   "cell_type": "code",
   "execution_count": null,
   "metadata": {},
   "outputs": [],
   "source": [
    "diff = np.append(np.diff(delivery_data.gantry), 0)\n",
    "movement = (np.empty_like(delivery_data.gantry)).astype(str)\n",
    "\n",
    "movement[diff > 0] = 'CW'\n",
    "movement[diff < 0] = 'CC'\n",
    "movement[diff == 0] = 'NONE'\n",
    "\n",
    "# movement[:] = 'CW'\n",
    "# movement[-1] = 'NONE'"
   ]
  },
  {
   "cell_type": "code",
   "execution_count": null,
   "metadata": {},
   "outputs": [],
   "source": [
    "# movement.tolist()"
   ]
  },
  {
   "cell_type": "code",
   "execution_count": null,
   "metadata": {},
   "outputs": [],
   "source": [
    "converted_gantry = np.array(delivery_data.gantry)\n",
    "converted_gantry[converted_gantry<0] = converted_gantry[converted_gantry<0] + 360\n",
    "\n",
    "converted_gantry = converted_gantry.astype(str).tolist()\n",
    "# converted_gantry"
   ]
  },
  {
   "cell_type": "code",
   "execution_count": null,
   "metadata": {},
   "outputs": [],
   "source": [
    "# converted_mlc[0]"
   ]
  },
  {
   "cell_type": "code",
   "execution_count": null,
   "metadata": {},
   "outputs": [],
   "source": [
    "monitor_units = delivery_data.monitor_units"
   ]
  },
  {
   "cell_type": "code",
   "execution_count": null,
   "metadata": {},
   "outputs": [],
   "source": []
  },
  {
   "cell_type": "code",
   "execution_count": null,
   "metadata": {},
   "outputs": [],
   "source": [
    "# skip_step = 1\n",
    "\n",
    "# monitor_units_trim = np.concatenate(\n",
    "#     [np.array(delivery_data.monitor_units)[::skip_step],\n",
    "#      np.array(delivery_data.monitor_units)[-1::]]\n",
    "# ).tolist()\n",
    "# converted_mlc_trim = np.concatenate([\n",
    "#     converted_mlc[::skip_step], converted_mlc[-1::]\n",
    "# ]).tolist()\n",
    "\n",
    "\n",
    "# # monitor_units_trim"
   ]
  },
  {
   "cell_type": "code",
   "execution_count": null,
   "metadata": {},
   "outputs": [],
   "source": [
    "# monitor_units_trim[-1]"
   ]
  },
  {
   "cell_type": "code",
   "execution_count": null,
   "metadata": {},
   "outputs": [],
   "source": [
    "# delivery_data.monitor_units[-1]"
   ]
  },
  {
   "cell_type": "code",
   "execution_count": null,
   "metadata": {},
   "outputs": [],
   "source": []
  },
  {
   "cell_type": "code",
   "execution_count": null,
   "metadata": {},
   "outputs": [],
   "source": []
  },
  {
   "cell_type": "code",
   "execution_count": null,
   "metadata": {},
   "outputs": [],
   "source": [
    "control_point_sequence = dcm.BeamSequence[0].ControlPointSequence"
   ]
  },
  {
   "cell_type": "code",
   "execution_count": null,
   "metadata": {},
   "outputs": [],
   "source": [
    "init_cp = deepcopy(control_point_sequence[0])\n",
    "subsequent_cp = deepcopy(control_point_sequence[-1])\n",
    "\n",
    "init_cp.GantryAngle = converted_gantry[0]\n",
    "init_cp.GantryRotationDirection = movement[0]\n",
    "init_cp.BeamLimitingDevicePositionSequence[0].LeafJawPositions = converted_jaw[0]\n",
    "\n",
    "init_cp.BeamLimitingDevicePositionSequence[1].LeafJawPositions = converted_mlc[0]\n",
    "# init_cp.BeamLimitingDevicePositionSequence[1].LeafJawPositions = dummy_mlc_pos_string\n",
    "\n",
    "# subsequent_cp.GantryAngle = \"90.0\"\n",
    "# subsequent_cp.BeamLimitingDevicePositionSequence[0].LeafJawPositions = ['-130.0', '130.0']\n",
    "\n",
    "remaining_cps = []\n",
    "for i, (mu, mlc_cp, jaw_cp, move_cp, gantry_cp) in enumerate(zip(monitor_units[1::], \n",
    "                                     converted_mlc[1::],\n",
    "                                     converted_jaw[1::],\n",
    "                                     movement[1::],\n",
    "                                     converted_gantry[1::])):    \n",
    "    current_cp = deepcopy(subsequent_cp)\n",
    "    current_cp.ControlPointIndex = str(i+1)\n",
    "    current_cp.GantryAngle = gantry_cp\n",
    "    current_cp.GantryRotationDirection = move_cp\n",
    "    current_cp.BeamLimitingDevicePositionSequence[0].LeafJawPositions = jaw_cp\n",
    "    current_cp.BeamLimitingDevicePositionSequence[1].LeafJawPositions = mlc_cp\n",
    "    current_cp.CumulativeMetersetWeight = np.around(\n",
    "        mu / delivery_data.monitor_units[-1], decimals=5)\n",
    "    \n",
    "    remaining_cps.append(current_cp)\n",
    "    \n",
    "\n",
    "all_control_points = [init_cp] + remaining_cps"
   ]
  },
  {
   "cell_type": "code",
   "execution_count": null,
   "metadata": {},
   "outputs": [],
   "source": []
  },
  {
   "cell_type": "code",
   "execution_count": null,
   "metadata": {},
   "outputs": [],
   "source": [
    "# dcm = pydicom.read_file(filepath, force=True)\n",
    "# dcm.save_as(filepath_out)"
   ]
  },
  {
   "cell_type": "code",
   "execution_count": null,
   "metadata": {},
   "outputs": [],
   "source": []
  },
  {
   "cell_type": "code",
   "execution_count": null,
   "metadata": {},
   "outputs": [],
   "source": []
  },
  {
   "cell_type": "code",
   "execution_count": null,
   "metadata": {},
   "outputs": [],
   "source": []
  },
  {
   "cell_type": "code",
   "execution_count": null,
   "metadata": {},
   "outputs": [],
   "source": [
    "# edited_dcm = deepcopy(dcm)"
   ]
  },
  {
   "cell_type": "code",
   "execution_count": null,
   "metadata": {},
   "outputs": [],
   "source": [
    "\n"
   ]
  },
  {
   "cell_type": "code",
   "execution_count": null,
   "metadata": {},
   "outputs": [],
   "source": [
    "# dcm = pydicom.read_file(filepath, force=True)\n",
    "\n",
    "# edited_dcm = deepcopy(dcm)\n",
    "\n",
    "# # first_cp = edited_dcm.BeamSequence[0].ControlPointSequence[0]\n",
    "# # last_cp = edited_dcm.BeamSequence[0].ControlPointSequence[-1]\n",
    "\n",
    "# # last_cp.ControlPointIndex = \"1\"\n",
    "# # last_cp.GantryAngle = \"200.0\"\n",
    "\n",
    "\n",
    "# # # edited_dcm.FractionGroupSequence[0].ReferencedBeamSequence[0].BeamMeterset = (\n",
    "# # #     str(monitor_units_trim[-1]))\n",
    "\n",
    "\n",
    "# # edited_dcm.BeamSequence[0].ControlPointSequence = [\n",
    "# #     first_cp, last_cp\n",
    "# # ]\n",
    "# # edited_dcm.BeamSequence[0].NumberOfControlPoints = \"2\"\n",
    "\n",
    "# edited_dcm.save_as(filepath_out)\n",
    "# edited_dcm"
   ]
  },
  {
   "cell_type": "code",
   "execution_count": null,
   "metadata": {},
   "outputs": [],
   "source": []
  },
  {
   "cell_type": "code",
   "execution_count": null,
   "metadata": {},
   "outputs": [],
   "source": []
  },
  {
   "cell_type": "code",
   "execution_count": null,
   "metadata": {},
   "outputs": [],
   "source": [
    "# remaining_cps"
   ]
  },
  {
   "cell_type": "code",
   "execution_count": null,
   "metadata": {},
   "outputs": [],
   "source": [
    "edited_dcm = deepcopy(dcm)\n",
    "\n",
    "\n",
    "edited_dcm.FractionGroupSequence[0].ReferencedBeamSequence[-2].BeamMeterset = (\n",
    "    str(monitor_units[-1]))\n",
    "\n",
    "edited_dcm.FractionGroupSequence[0].ReferencedBeamSequence = [\n",
    "    edited_dcm.FractionGroupSequence[0].ReferencedBeamSequence[-2]\n",
    "]\n",
    "\n",
    "edited_dcm.BeamSequence[-2].ControlPointSequence = all_control_points\n",
    "edited_dcm.BeamSequence[-2].NumberOfControlPoints = len(all_control_points)\n",
    "\n",
    "edited_dcm.BeamSequence = [\n",
    "    edited_dcm.BeamSequence[-2]\n",
    "]\n",
    "\n",
    "edited_dcm.save_as(filepath_out)"
   ]
  },
  {
   "cell_type": "code",
   "execution_count": null,
   "metadata": {},
   "outputs": [],
   "source": [
    "# edited_dcm"
   ]
  },
  {
   "cell_type": "code",
   "execution_count": null,
   "metadata": {},
   "outputs": [],
   "source": []
  },
  {
   "cell_type": "code",
   "execution_count": null,
   "metadata": {},
   "outputs": [],
   "source": []
  },
  {
   "cell_type": "code",
   "execution_count": null,
   "metadata": {},
   "outputs": [],
   "source": []
  },
  {
   "cell_type": "code",
   "execution_count": null,
   "metadata": {},
   "outputs": [],
   "source": []
  },
  {
   "cell_type": "code",
   "execution_count": null,
   "metadata": {},
   "outputs": [],
   "source": []
  },
  {
   "cell_type": "code",
   "execution_count": null,
   "metadata": {},
   "outputs": [],
   "source": []
  }
 ],
 "metadata": {
  "kernelspec": {
   "display_name": "Python 3",
   "language": "python",
   "name": "python3"
  },
  "language_info": {
   "codemirror_mode": {
    "name": "ipython",
    "version": 3
   },
   "file_extension": ".py",
   "mimetype": "text/x-python",
   "name": "python",
   "nbconvert_exporter": "python",
   "pygments_lexer": "ipython3",
   "version": "3.7.0"
  }
 },
 "nbformat": 4,
 "nbformat_minor": 4
}
