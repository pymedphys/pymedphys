{
 "cells": [
  {
   "cell_type": "code",
   "execution_count": null,
   "metadata": {},
   "outputs": [],
   "source": [
    "from IPython.lib.deepreload import reload\n",
    "%load_ext autoreload\n",
    "%autoreload 2"
   ]
  },
  {
   "cell_type": "code",
   "execution_count": null,
   "metadata": {},
   "outputs": [],
   "source": [
    "import re\n",
    "import operator\n",
    "from pathlib import Path\n",
    "\n",
    "import numpy as np\n",
    "import matplotlib.pyplot as plt\n",
    "import pandas as pd\n",
    "\n",
    "import pydicom\n",
    "from pymedphys_dicom.dicom import dicom_dose_interpolate"
   ]
  },
  {
   "cell_type": "code",
   "execution_count": null,
   "metadata": {},
   "outputs": [],
   "source": [
    "energy = '06FFF'"
   ]
  },
  {
   "cell_type": "code",
   "execution_count": null,
   "metadata": {},
   "outputs": [],
   "source": [
    "ROOT_DIR = Path(r\"S:\\Physics\\RCCC Specific Files\\Dosimetry\\Film\\MLCs\\7SegA\")\n",
    "\n",
    "DICOM_DIR = (ROOT_DIR.joinpath(r\"DICOM Exports\")).joinpath(energy+\"_7SegA\")\n",
    "\n",
    "RESULTS = ROOT_DIR.joinpath(r\"Results\")"
   ]
  },
  {
   "cell_type": "code",
   "execution_count": null,
   "metadata": {},
   "outputs": [],
   "source": [
    "FILM_RESULTS_FILE = (RESULTS.joinpath(r\"Data_7SegA.xlsx\"))\n",
    "film_results = pd.read_excel(FILM_RESULTS_FILE, sheet_name=energy+'_export').dropna()"
   ]
  },
  {
   "cell_type": "code",
   "execution_count": null,
   "metadata": {},
   "outputs": [],
   "source": [
    "film_dose = film_results.Dose.values\n",
    "film_x = film_results.x.values"
   ]
  },
  {
   "cell_type": "code",
   "execution_count": null,
   "metadata": {},
   "outputs": [],
   "source": [
    "old_dosecheck_dose = pydicom.read_file(str(DICOM_DIR.joinpath('DoseCHECKCalculatedDose_20190724model\\dose.dcm')), force=True)\n",
    "new_dosecheck_dose = pydicom.read_file(str(DICOM_DIR.joinpath('DoseCHECKCalculatedDose\\dose.dcm')), force=True)\n",
    "monaco_dose = pydicom.read_file(str(DICOM_DIR.joinpath('RTDose\\dose.dcm')), force=True)\n",
    "dicom_plan = pydicom.read_file(str(DICOM_DIR.joinpath('RTPlan\\plan.dcm')), force=True)"
   ]
  },
  {
   "cell_type": "code",
   "execution_count": null,
   "metadata": {},
   "outputs": [],
   "source": [
    "interp_z = [0]\n",
    "interp_y = [0]\n",
    "\n",
    "interp_coords = (interp_z, interp_y, film_x)"
   ]
  },
  {
   "cell_type": "code",
   "execution_count": null,
   "metadata": {},
   "outputs": [],
   "source": [
    "monaco_profile = np.squeeze(dicom_dose_interpolate(interp_coords, monaco_dose))\n",
    "old_dosecheck_profile = np.squeeze(dicom_dose_interpolate(interp_coords, old_dosecheck_dose))\n",
    "new_dosecheck_profile = np.squeeze(dicom_dose_interpolate(interp_coords, new_dosecheck_dose))\n",
    "\n",
    "transmission_value = {\n",
    "    '06MV': 100.56/100.12,\n",
    "    '10MV': 100.87/100.11,\n",
    "    '06FFF': 100.35/100.11,\n",
    "    '10FFF': 100.32/100.13\n",
    "}"
   ]
  },
  {
   "cell_type": "code",
   "execution_count": null,
   "metadata": {},
   "outputs": [],
   "source": [
    "plt.figure(1)\n",
    "\n",
    "plt.subplot(111)\n",
    "plt.plot(film_x,monaco_profile,label='Monaco')\n",
    "plt.plot(film_x,old_dosecheck_profile,label='DoseCHECK')\n",
    "plt.plot(film_x,film_dose,label='Film')\n",
    "plt.ylabel('Dose (Gy)')\n",
    "plt.xlabel('Plane Position (mm)')\n",
    "plt.title('')\n",
    "plt.legend(loc='lower left')\n",
    "\n",
    "\n",
    "plt.subplots_adjust(top=3, bottom=0.5, left=0, right=2, hspace=0.25,\n",
    "                    wspace=0.25)\n",
    "\n",
    "plt.suptitle(('MLC Test Fields, ' + energy + ' ' + '7SegA' + ' , doses for Monaco ' + ', 20190728 DoseCHECK, and film'),fontsize=\"x-large\",x=1,y=3.2)\n",
    "\n",
    "plt.savefig(RESULTS.joinpath('7SegA_' + energy + f'_20190728_model.png'),bbox_inches='tight')"
   ]
  },
  {
   "cell_type": "code",
   "execution_count": null,
   "metadata": {},
   "outputs": [],
   "source": [
    "plt.figure(1)\n",
    "\n",
    "plt.subplot(111)\n",
    "plt.plot(film_x,monaco_profile,label='Monaco')\n",
    "plt.plot(film_x,new_dosecheck_profile,label='DoseCHECK')\n",
    "plt.plot(film_x,film_dose,label='Film')\n",
    "plt.ylabel('Dose (Gy)')\n",
    "plt.xlabel('Plane Position (mm)')\n",
    "plt.title('')\n",
    "plt.legend(loc='lower left')\n",
    "\n",
    "\n",
    "plt.subplots_adjust(top=3, bottom=0.5, left=0, right=2, hspace=0.25,\n",
    "                    wspace=0.25)\n",
    "\n",
    "plt.suptitle(('MLC Test Fields, ' + energy + ' ' + '7SegA' + ' , doses for Monaco ' + ', 20190927 DoseCHECK, and film'),fontsize=\"x-large\",x=1,y=3.2)\n",
    "\n",
    "plt.savefig(RESULTS.joinpath('7SegA_' + energy + f'_20190927_model.png'),bbox_inches='tight')"
   ]
  },
  {
   "cell_type": "code",
   "execution_count": null,
   "metadata": {},
   "outputs": [],
   "source": []
  },
  {
   "cell_type": "code",
   "execution_count": null,
   "metadata": {},
   "outputs": [],
   "source": []
  }
 ],
 "metadata": {
  "kernelspec": {
   "display_name": "Python 3",
   "language": "python",
   "name": "python3"
  },
  "language_info": {
   "codemirror_mode": {
    "name": "ipython",
    "version": 3
   },
   "file_extension": ".py",
   "mimetype": "text/x-python",
   "name": "python",
   "nbconvert_exporter": "python",
   "pygments_lexer": "ipython3",
   "version": "3.7.1"
  }
 },
 "nbformat": 4,
 "nbformat_minor": 4
}
