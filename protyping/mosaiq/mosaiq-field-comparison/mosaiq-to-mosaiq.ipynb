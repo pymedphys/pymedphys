{
 "cells": [
  {
   "cell_type": "code",
   "execution_count": null,
   "metadata": {},
   "outputs": [],
   "source": [
    "from glob import glob\n",
    "\n",
    "import numpy as np\n",
    "import matplotlib.pyplot as plt\n",
    "\n",
    "from pymedphys.msq import mosaiq_connect, delivery_data_from_mosaiq, get_patient_fields\n",
    "from pymedphys.mudensity import calc_mu_density\n",
    "from pymedphys.logfile import get_delivery_parameters\n",
    "\n",
    "from pymedphys.trf import delivery_data_from_logfile\n",
    "\n",
    "# from analyse_logfiles import get_delivery_parameters"
   ]
  },
  {
   "cell_type": "code",
   "execution_count": null,
   "metadata": {},
   "outputs": [],
   "source": [
    "clinical_server = 'physics-server:31433'  # nbcc\n",
    "qa_server = 'msqsql'  # rccc\n",
    "\n",
    "# username = 'physics'"
   ]
  },
  {
   "cell_type": "code",
   "execution_count": null,
   "metadata": {},
   "outputs": [],
   "source": [
    "patient_id = '--'\n",
    "\n",
    "with mosaiq_connect(clinical_server) as cursor:\n",
    "    fields = get_patient_fields(cursor, patient_id)\n",
    "    \n",
    "fields"
   ]
  },
  {
   "cell_type": "code",
   "execution_count": null,
   "metadata": {},
   "outputs": [],
   "source": [
    "clinical_beam_reference = (fields['field_version'] == 0) & (fields['monitor_units'] != 0)\n",
    "clinical_fields = fields[clinical_beam_reference]\n",
    "clinical_fields"
   ]
  },
  {
   "cell_type": "code",
   "execution_count": null,
   "metadata": {},
   "outputs": [],
   "source": [
    "qa_patient_id = '999994'\n",
    "\n",
    "with mosaiq_connect(qa_server) as cursor:\n",
    "    qa_fields = get_patient_fields(cursor, qa_patient_id)\n",
    "    \n",
    "site_with_patient_id = qa_fields[qa_fields['site'] == patient_id]\n",
    "site_with_patient_id"
   ]
  },
  {
   "cell_type": "code",
   "execution_count": null,
   "metadata": {},
   "outputs": [],
   "source": [
    "clinical_field_ids = list(clinical_fields['field_id'].values.astype(str))\n",
    "qa_field_ids = list(site_with_patient_id['field_id'].values.astype(str))"
   ]
  },
  {
   "cell_type": "code",
   "execution_count": null,
   "metadata": {},
   "outputs": [],
   "source": [
    "qa_field_ids"
   ]
  },
  {
   "cell_type": "code",
   "execution_count": null,
   "metadata": {},
   "outputs": [],
   "source": [
    "def determine_mu_density(server, field_id):\n",
    "    with mosaiq_connect(server) as cursor:\n",
    "        delivery_data = delivery_data_from_mosaiq(cursor, field_id)\n",
    "        \n",
    "    mu, mlc, jaw = get_delivery_parameters(delivery_data)\n",
    "    mu_density = calc_mu_density(mu, mlc, jaw)\n",
    "    \n",
    "    return mu_density"
   ]
  },
  {
   "cell_type": "code",
   "execution_count": null,
   "metadata": {},
   "outputs": [],
   "source": [
    "clinical_mu_density = np.sum([\n",
    "    determine_mu_density(clinical_server, field_id)\n",
    "    for field_id in clinical_field_ids\n",
    "], axis=0)"
   ]
  },
  {
   "cell_type": "code",
   "execution_count": null,
   "metadata": {},
   "outputs": [],
   "source": [
    "qa_mu_density = np.sum([\n",
    "    determine_mu_density(qa_server, field_id)\n",
    "    for field_id in qa_field_ids\n",
    "], axis=0)"
   ]
  },
  {
   "cell_type": "code",
   "execution_count": null,
   "metadata": {},
   "outputs": [],
   "source": [
    "plt.figure()\n",
    "plt.pcolormesh(clinical_mu_density)\n",
    "plt.colorbar()\n",
    "plt.title('Clinical MU density')\n",
    "plt.xlabel('MLC direction (mm)')\n",
    "plt.ylabel('Jaw direction (mm)')\n",
    "plt.gca().invert_yaxis()\n",
    "\n",
    "plt.figure()\n",
    "plt.pcolormesh(qa_mu_density)\n",
    "plt.colorbar()\n",
    "plt.title('QA MU density')\n",
    "plt.xlabel('MLC direction (mm)')\n",
    "plt.ylabel('Jaw direction (mm)')\n",
    "plt.gca().invert_yaxis()"
   ]
  },
  {
   "cell_type": "code",
   "execution_count": null,
   "metadata": {},
   "outputs": [],
   "source": [
    "# Verify that every pixel agrees within 0.1 MU\n",
    "np.all(np.abs(clinical_mu_density - qa_mu_density) < 0.1)"
   ]
  }
 ],
 "metadata": {
  "anaconda-cloud": {},
  "kernelspec": {
   "display_name": "pymedphys-v0.7.2",
   "language": "python",
   "name": "pymedphys-v0.7.2"
  },
  "language_info": {
   "codemirror_mode": {
    "name": "ipython",
    "version": 3
   },
   "file_extension": ".py",
   "mimetype": "text/x-python",
   "name": "python",
   "nbconvert_exporter": "python",
   "pygments_lexer": "ipython3",
   "version": "3.7.4"
  }
 },
 "nbformat": 4,
 "nbformat_minor": 4
}
