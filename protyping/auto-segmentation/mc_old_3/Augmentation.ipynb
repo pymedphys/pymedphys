{
 "cells": [
  {
   "cell_type": "code",
   "execution_count": null,
   "metadata": {},
   "outputs": [],
   "source": [
    "import glob\n",
    "import random\n",
    "from datetime import datetime\n",
    "\n",
    "import cv2\n",
    "import numpy as np\n",
    "import skimage.transform\n",
    "from matplotlib import pyplot as plt\n",
    "from scipy.ndimage.filters import gaussian_filter\n",
    "from scipy.ndimage.interpolation import map_coordinates\n"
   ]
  },
  {
   "cell_type": "code",
   "execution_count": null,
   "metadata": {},
   "outputs": [],
   "source": [
    "    def gaussian_noise(self, img, mean=0, sigma=0.003):\n",
    "        img = img.copy()\n",
    "        noise = np.random.normal(mean, sigma, img.shape)\n",
    "        mask_overflow_upper = img + noise >= 1.0\n",
    "        mask_overflow_lower = img + noise < 0\n",
    "        noise[mask_overflow_upper] = 1.0\n",
    "        noise[mask_overflow_lower] = 0\n",
    "        img = img + noise\n",
    "        return img\n",
    "\n",
    "    def random_crop_resize(self, img, label, crop_size=500):\n",
    "        size_img = img.shape\n",
    "        size_label = label.shape\n",
    "        crop_size = random.randint(crop_size, img.shape[0] - 1)\n",
    "        crop_size = (crop_size, crop_size)\n",
    "\n",
    "        # \"Crop size should be less than image size\"\n",
    "        assert crop_size[0] <= img.shape[0] and crop_size[1] <= img.shape[1]\n",
    "\n",
    "        w, h = img.shape[:2]\n",
    "        x, y = np.random.randint(h - crop_size[0]), np.random.randint(w - crop_size[1])\n",
    "\n",
    "        img = img[y : y + crop_size[0], x : x + crop_size[1], :]\n",
    "        img = skimage.transform.resize(img, size_img)\n",
    "\n",
    "        label = label[y : y + crop_size[0], x : x + crop_size[1], :]\n",
    "        label = skimage.transform.resize(label, size_label)\n",
    "        return img, label\n",
    "\n",
    "    def affine_transform(self, image, label, alpha_affine=0.5, random_state=None):\n",
    "\n",
    "        if random_state is None:\n",
    "            random_state = np.random.RandomState(None)\n",
    "\n",
    "        shape = image.shape\n",
    "        shape_size = shape[:2]\n",
    "        center_square = np.float32(shape_size) // 2\n",
    "        square_size = min(shape_size) // 3\n",
    "        pts1 = np.float32(\n",
    "            [\n",
    "                center_square + square_size,\n",
    "                [center_square[0] + square_size, center_square[1] - square_size],\n",
    "                center_square - square_size,\n",
    "            ]\n",
    "        )\n",
    "        pts2 = pts1 + random_state.uniform(\n",
    "            -alpha_affine, alpha_affine, size=pts1.shape\n",
    "        ).astype(np.float32)\n",
    "        M = cv2.getAffineTransform(pts1, pts2)\n",
    "\n",
    "        image = cv2.warpAffine(\n",
    "            image, M, shape_size[::-1], borderMode=cv2.BORDER_REFLECT_101\n",
    "        )\n",
    "        image = image[..., np.newaxis]\n",
    "        label = cv2.warpAffine(\n",
    "            label, M, shape_size[::-1], borderMode=cv2.BORDER_REFLECT_101\n",
    "        )\n",
    "        return image, label\n",
    "\n",
    "    def elastic_transform(self, image, label, alpha, sigma, random_state=None):\n",
    "\n",
    "        if random_state is None:\n",
    "            random_state = np.random.RandomState(None)\n",
    "\n",
    "        shape = image.shape\n",
    "        shape_label = label.shape\n",
    "\n",
    "        dx = (\n",
    "            gaussian_filter(\n",
    "                (random_state.rand(*shape) * 2 - 1), sigma, mode=\"constant\", cval=0\n",
    "            )\n",
    "            * alpha\n",
    "        )\n",
    "        dy = (\n",
    "            gaussian_filter(\n",
    "                (random_state.rand(*shape) * 2 - 1), sigma, mode=\"constant\", cval=0\n",
    "            )\n",
    "            * alpha\n",
    "        )\n",
    "        dz = np.zeros_like(dx)\n",
    "\n",
    "        # image\n",
    "        x, y, z = np.meshgrid(\n",
    "            np.arange(shape[0]), np.arange(shape[1]), np.arange(shape[2])\n",
    "        )\n",
    "        indices = (\n",
    "            np.reshape(y + dy, (-1, 1)),\n",
    "            np.reshape(x + dx, (-1, 1)),\n",
    "            np.reshape(z, (-1, 1)),\n",
    "        )\n",
    "        image = map_coordinates(image, indices, order=1, mode=\"reflect\").reshape(shape)\n",
    "\n",
    "        # label\n",
    "        x, y, z = np.meshgrid(\n",
    "            np.arange(shape_label[0]),\n",
    "            np.arange(shape_label[1]),\n",
    "            np.arange(shape_label[2]),\n",
    "        )\n",
    "        indices = (\n",
    "            np.reshape(y + dy, (-1, 1)),\n",
    "            np.reshape(x + dx, (-1, 1)),\n",
    "            np.reshape(z, (-1, 1)),\n",
    "        )\n",
    "        label = map_coordinates(label, indices, order=1, mode=\"reflect\").reshape(\n",
    "            shape_label\n",
    "        )\n",
    "\n",
    "        return image, label\n",
    "\n"
   ]
  },
  {
   "cell_type": "code",
   "execution_count": null,
   "metadata": {},
   "outputs": [],
   "source": [
    "    def data_augment(self, img, mask, chance=0.5):\n",
    "        # flip l/r\n",
    "        if random.uniform(0, 1) < 0.5:\n",
    "            img = cv2.flip(img, 1)\n",
    "            mask = cv2.flip(mask, 1)\n",
    "            if len(img.shape) == 2:\n",
    "                img = img[..., np.newaxis]\n",
    "            if len(mask.shape) == 2:\n",
    "                mask = mask[..., np.newaxis]\n",
    "\n",
    "        # random crop and resize\n",
    "        if random.uniform(0, 1) < chance:\n",
    "            img, mask = self.random_crop_resize(img, mask)\n",
    "            if len(img.shape) == 2:\n",
    "                img = img[..., np.newaxis]\n",
    "            if len(mask.shape) == 2:\n",
    "                label = label[..., np.newaxis]\n",
    "\n",
    "        # random affine transformation\n",
    "        if random.uniform(0, 1) < chance:\n",
    "            img, mask = self.affine_transform(img, mask, alpha_affine=20)\n",
    "            if len(img.shape) == 2:\n",
    "                img = img[..., np.newaxis]\n",
    "            if len(mask.shape) == 2:\n",
    "                mask = mask[..., np.newaxis]\n",
    "\n",
    "        if random.uniform(0, 1) < chance:\n",
    "            args = random.choice(((1201, 10), (1501, 12), (991, 8)))\n",
    "            img, mask = self.elastic_transform(img, mask, *args)\n",
    "\n",
    "        # random Gaussian noise\n",
    "        if random.uniform(0, 1) < chance:\n",
    "            sigma = random.choice(np.arange(0.1, 0.3, 0.02))\n",
    "            img = self.gaussian_noise(img, mean=0, sigma=sigma)\n",
    "\n",
    "        return img, mask\n"
   ]
  },
  {
   "cell_type": "code",
   "execution_count": null,
   "metadata": {},
   "outputs": [],
   "source": [
    "import tensorflow as tf\n",
    "physical_devices = tf.config.experimental.list_physical_devices('GPU')\n",
    "assert len(physical_devices) > 0, \"Not enough GPU hardware devices available\"\n",
    "config = tf.config.experimental.set_memory_growth(physical_devices[0], True)"
   ]
  },
  {
   "cell_type": "code",
   "execution_count": null,
   "metadata": {},
   "outputs": [],
   "source": [
    "#import train as train\n",
    "\n",
    "import loss as loss\n",
    "import unet as unet\n",
    "import random\n",
    "import paths as paths\n",
    "import numpy as np\n",
    "import glob\n",
    "\n",
    "# The meaning of lifes\n",
    "random.seed(42)  \n",
    "np.random.seed(42)"
   ]
  },
  {
   "cell_type": "code",
   "execution_count": null,
   "metadata": {},
   "outputs": [],
   "source": [
    "DATA_MEAN = 191.46748269704375\n",
    "DATA_STD = 369.2190429494859\n",
    "BATCH_SIZE = 1\n",
    "OUTPUT_CHANNELS = 3\n",
    "DATA_PATH = \"/home/matthew/masters_code/dataset_prostate_cleaned/\""
   ]
  },
  {
   "cell_type": "code",
   "execution_count": null,
   "metadata": {},
   "outputs": [],
   "source": [
    "patient_paths = paths.get_patient_paths(DATA_PATH)\n",
    "patient_paths.sort()\n",
    "\n",
    "img_paths = [glob.glob(path + \"/img/*\") for path in patient_paths]\n",
    "mask_paths = [glob.glob(path + \"/mask/*\") for path in patient_paths]\n",
    "\n",
    "valid = int(len(img_paths) * 0.15 // 1)\n",
    "test = int(len(img_paths) * 0.1 // 1)\n",
    "train = int(len(img_paths) - valid - test)\n",
    "\n",
    "train_inputs = paths.flatten_list(img_paths[0:train])\n",
    "train_truths = paths.flatten_list(mask_paths[0:train])\n",
    "\n",
    "train_inputs.sort()\n",
    "train_truths.sort()\n",
    "\n",
    "valid_inputs = paths.flatten_list(img_paths[train:train+valid])\n",
    "valid_truths = paths.flatten_list(mask_paths[train:train+valid])\n",
    "\n",
    "valid_inputs.sort()\n",
    "valid_truths.sort()\n",
    "\n",
    "test_inputs = paths.flatten_list(img_paths[train+valid:])\n",
    "test_truths = paths.flatten_list(mask_paths[train+valid:])\n",
    "\n",
    "test_inputs.sort()\n",
    "test_truths.sort()"
   ]
  },
  {
   "cell_type": "code",
   "execution_count": null,
   "metadata": {},
   "outputs": [],
   "source": [
    "test_inputs = np.array([np.load(array) for array in test_inputs])\n",
    "test_truths = np.array([np.load(array) for array in test_truths])"
   ]
  },
  {
   "cell_type": "code",
   "execution_count": null,
   "metadata": {},
   "outputs": [],
   "source": [
    "test_inputs = (test_inputs - DATA_MEAN) / DATA_STD"
   ]
  },
  {
   "cell_type": "code",
   "execution_count": null,
   "metadata": {},
   "outputs": [],
   "source": [
    "test_inputs.shape, test_truths.shape"
   ]
  },
  {
   "cell_type": "code",
   "execution_count": null,
   "metadata": {},
   "outputs": [],
   "source": [
    "img = test_inputs[0].copy()"
   ]
  },
  {
   "cell_type": "code",
   "execution_count": null,
   "metadata": {},
   "outputs": [],
   "source": [
    "from matplotlib import pyplot as plt"
   ]
  },
  {
   "cell_type": "code",
   "execution_count": null,
   "metadata": {},
   "outputs": [],
   "source": [
    "plt.imshow(img[...,0])"
   ]
  },
  {
   "cell_type": "code",
   "execution_count": null,
   "metadata": {},
   "outputs": [],
   "source": [
    "dx, dy = 64, 64\n",
    "img = test_inputs[0].copy()\n",
    "print(img.shape)\n",
    "\n",
    "grid_color = np.max(img)\n",
    "\n",
    "# Modify the image to include the grid\n",
    "img[:,::dy,:] = grid_color\n",
    "img[::dx,:,:] = grid_color\n",
    "\n",
    "# Show the result\n",
    "plt.imshow(img[...,0], cmap='gray')\n",
    "plt.show()"
   ]
  },
  {
   "cell_type": "code",
   "execution_count": null,
   "metadata": {},
   "outputs": [],
   "source": [
    "img_m, label = random_crop_resize(1, img, img)\n",
    "plt.imshow(img_m[...,0], cmap='gray')"
   ]
  },
  {
   "cell_type": "code",
   "execution_count": null,
   "metadata": {},
   "outputs": [],
   "source": [
    "sigma = random.choice(np.arange(0.1, 0.3, 0.02))\n",
    "img_m = gaussian_noise(1, img, sigma=sigma)\n",
    "plt.imshow(img_m[...,0])"
   ]
  },
  {
   "cell_type": "code",
   "execution_count": null,
   "metadata": {},
   "outputs": [],
   "source": [
    "img_m = cv2.flip(img, 1)\n",
    "plt.imshow(img_m[...], cmap='gray')"
   ]
  },
  {
   "cell_type": "code",
   "execution_count": null,
   "metadata": {},
   "outputs": [],
   "source": [
    "img_m, mask = affine_transform(1, img, img, alpha_affine=20)\n",
    "plt.imshow(img_m[...,0], cmap='gray')"
   ]
  },
  {
   "cell_type": "code",
   "execution_count": null,
   "metadata": {},
   "outputs": [],
   "source": [
    "args = random.choice(((1201, 10), (1501, 12), (991, 8)))\n",
    "img_m, mask = elastic_transform(1, img, img, *args)\n",
    "plt.imshow(img_m[...,0], cmap='gray')"
   ]
  },
  {
   "cell_type": "code",
   "execution_count": null,
   "metadata": {},
   "outputs": [],
   "source": [
    "dx, dy = 64, 64\n",
    "img = test_inputs[0].copy()\n",
    "print(img.shape)\n",
    "\n",
    "grid_color = np.max(img)\n",
    "\n",
    "# Modify the image to include the grid\n",
    "img[:,::dy,:] = grid_color\n",
    "img[::dx,:,:] = grid_color\n",
    "\n",
    "# Show the result\n",
    "plt.figure(figsize = (12,12))\n",
    "plt.imshow(img[...,0])\n",
    "plt.show()"
   ]
  },
  {
   "cell_type": "code",
   "execution_count": null,
   "metadata": {},
   "outputs": [],
   "source": [
    "img_m, label = random_crop_resize(1, img, img)\n",
    "\n",
    "sigma = random.choice(np.arange(0.1, 0.3, 0.02))\n",
    "img_m = gaussian_noise(1, img_m, sigma=sigma)\n",
    "\n",
    "img_m = cv2.flip(img_m, 1)\n",
    "\n",
    "img_m, mask = affine_transform(1, img_m, img_m, alpha_affine=20)\n",
    "\n",
    "\n",
    "args = random.choice(((1201, 10), (1501, 12), (991, 8)))\n",
    "img_m, mask = elastic_transform(1, img_m, img_m, *args)\n",
    "\n",
    "plt.figure(figsize = (12,12))\n",
    "plt.imshow(img_m[...,0])"
   ]
  },
  {
   "cell_type": "code",
   "execution_count": null,
   "metadata": {},
   "outputs": [],
   "source": [
    "dx, dy = 64, 64\n",
    "img = test_inputs[0].copy()\n",
    "print(img.shape)\n",
    "\n",
    "grid_color = np.max(img)\n",
    "\n",
    "# Modify the image to include the grid\n",
    "img[:,::dy,:] = grid_color\n",
    "img[::dx,:,:] = grid_color\n",
    "\n",
    "# Show the result\n",
    "plt.imshow(img[...,0], cmap='gray')\n",
    "plt.show()"
   ]
  },
  {
   "cell_type": "code",
   "execution_count": null,
   "metadata": {},
   "outputs": [],
   "source": [
    "from matplotlib import pyplot as plt\n",
    "import cv2\n",
    "from skimage import exposure\n",
    "\n",
    "\n",
    "fig, axs = plt.subplots(nrows=3, ncols=4, sharex=True, sharey=True,squeeze=True, figsize=(12,9))\n",
    "for index in range(3):\n",
    "    ax = axs[index]\n",
    "    \n",
    "    for a in ax:\n",
    "        a.set_xticklabels([])\n",
    "        a.set_yticklabels([])\n",
    "        a.set_xticks([])\n",
    "        a.set_yticks([])\n",
    "        \n",
    "        \n",
    "    img_c, _ = random_crop_resize(1, img, img, 470)\n",
    "    img_a, _ = affine_transform(1, img, img, alpha_affine=20)\n",
    "    \n",
    "    args = random.choice(((1201, 10), (1501, 12), (991, 8)))\n",
    "    img_e, _ = elastic_transform(1, img, img, *args)\n",
    "    \n",
    "    img_all, _ = random_crop_resize(1, img, img, 470)\n",
    "    img_all, _ = affine_transform(1, img_all, img_all, alpha_affine=20)\n",
    "    args = random.choice(((1201, 10), (1501, 12), (991, 8)))\n",
    "    img_all, _ = elastic_transform(1, img_all, img_all, *args)\n",
    "\n",
    "    \n",
    "    ax[0].imshow(img_c[...,0], cmap='gray')\n",
    "    ax[1].imshow(img_a[...,0], cmap='gray')\n",
    "    ax[2].imshow(img_e[...,0], cmap='gray')\n",
    "    ax[3].imshow(img_all[...,0], cmap='gray')\n",
    "\n",
    "plt.tight_layout()\n",
    "\n",
    "axs[0][0].set_title('Crop', fontdict={'fontsize': 23, 'fontweight': 'medium'})\n",
    "axs[0][1].set_title('Affine', fontdict={'fontsize': 23, 'fontweight': 'medium'})\n",
    "axs[0][2].set_title('Elastic', fontdict={'fontsize': 23, 'fontweight': 'medium'})\n",
    "axs[0][3].set_title('Combined', fontdict={'fontsize': 23, 'fontweight': 'medium'})\n",
    "\n",
    "axs[0][0].text(-0.2,0.5, \"A\", size=23, ha=\"center\", transform=axs[0][0].transAxes)\n",
    "axs[1][0].text(-0.2,0.5, \"B\", size=23, ha=\"center\", transform=axs[1][0].transAxes)\n",
    "axs[2][0].text(-0.2,0.5, \"C\", size=23, ha=\"center\", transform=axs[2][0].transAxes)\n",
    "#axs[3][0].text(-0.2,0.5, \"D\", size=23, ha=\"center\", transform=axs[3][0].transAxes)\n",
    "\n",
    "plt.savefig(\"augment.png\", bbox_inches='tight')"
   ]
  },
  {
   "cell_type": "code",
   "execution_count": null,
   "metadata": {},
   "outputs": [],
   "source": []
  },
  {
   "cell_type": "code",
   "execution_count": null,
   "metadata": {},
   "outputs": [],
   "source": []
  }
 ],
 "metadata": {
  "kernelspec": {
   "display_name": "Python 3",
   "language": "python",
   "name": "python3"
  },
  "language_info": {
   "codemirror_mode": {
    "name": "ipython",
    "version": 3
   },
   "file_extension": ".py",
   "mimetype": "text/x-python",
   "name": "python",
   "nbconvert_exporter": "python",
   "pygments_lexer": "ipython3",
   "version": "3.6.9"
  }
 },
 "nbformat": 4,
 "nbformat_minor": 4
}
