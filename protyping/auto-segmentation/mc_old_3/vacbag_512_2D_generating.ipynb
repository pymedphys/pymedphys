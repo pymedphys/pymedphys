{
 "cells": [
  {
   "cell_type": "code",
   "execution_count": null,
   "metadata": {},
   "outputs": [],
   "source": [
    "!pwd\n",
    "\n",
    "import config_vacbag_512_2D as config\n",
    "import paths_2D as paths\n",
    "import explore_2D as explore\n",
    "import generator_2D as generator\n",
    "import loss_2D as loss\n",
    "import model_ronneberger_512 as model"
   ]
  },
  {
   "cell_type": "markdown",
   "metadata": {},
   "source": [
    "# PREPARE DATA"
   ]
  },
  {
   "cell_type": "code",
   "execution_count": null,
   "metadata": {},
   "outputs": [],
   "source": [
    "patient_paths, input_paths, label_paths = paths.get_paths(config.DATA_PATH)\n",
    "\n",
    "train_paths, valid_paths, test_paths = paths.split_paths(input_paths, config.RATIO)\n",
    "\n",
    "print(\"Patient:\", len(patient_paths))\n",
    "print([len(x) for x in input_paths])\n",
    "print(\"Total:\", len(train_paths) + len(valid_paths) + len(test_paths))\n",
    "print(\"---------------\")\n",
    "print(\"Train:\", len(train_paths))\n",
    "print(\"Valid:\", len(valid_paths))\n",
    "print(\"Test:\", len(test_paths))"
   ]
  },
  {
   "cell_type": "code",
   "execution_count": null,
   "metadata": {},
   "outputs": [],
   "source": [
    "import numpy as np\n",
    "\n",
    "images = explore.get_images(train_paths)\n",
    "train_mean = np.mean(images)\n",
    "train_std = np.std(images)\n",
    "del(images)\n",
    "\n",
    "print(\"Mean:\", train_mean)\n",
    "print(\"Std:\", train_std)"
   ]
  },
  {
   "cell_type": "code",
   "execution_count": null,
   "metadata": {},
   "outputs": [],
   "source": [
    "train_gen = generator.make_gen(train_paths,\n",
    "                             label_paths,\n",
    "                             train_mean = train_mean,\n",
    "                             train_std = train_std,\n",
    "                             batch_size=config.BATCH_SIZE,\n",
    "                             grid_size=config.GRID_SIZE, \n",
    "                             structure_names=config.STRUCTURE_NAMES, \n",
    "                             augment=False)\n",
    "\n",
    "valid_gen = generator.make_gen(valid_paths,\n",
    "                             label_paths,\n",
    "                             train_mean = train_mean,\n",
    "                             train_std = train_std,\n",
    "                             batch_size=config.BATCH_SIZE, \n",
    "                             grid_size=config.GRID_SIZE, \n",
    "                             structure_names=config.STRUCTURE_NAMES, \n",
    "                             augment=False)\n",
    "\n",
    "test_gen = generator.make_gen(test_paths,\n",
    "                             label_paths,\n",
    "                             train_mean = train_mean,\n",
    "                             train_std = train_std,\n",
    "                             batch_size=config.BATCH_SIZE, \n",
    "                             grid_size=config.GRID_SIZE, \n",
    "                             structure_names=config.STRUCTURE_NAMES, \n",
    "                             augment=False)"
   ]
  },
  {
   "cell_type": "markdown",
   "metadata": {},
   "source": [
    "# PRE-TRAINING"
   ]
  },
  {
   "cell_type": "code",
   "execution_count": null,
   "metadata": {},
   "outputs": [],
   "source": [
    "import tensorflow as tf\n",
    "import model_ronneberger_512 as model\n",
    "\n",
    "MODEL_SAVE = \"./weights/bce_vacbag_512.{epoch:02d}.hdf5\"\n",
    "\n",
    "LOSS = tf.keras.losses.BinaryCrossentropy()\n",
    "INITIAL_LR = 1e-4\n",
    "STOPPING_PATIENCE = 50\n",
    "LR_PATIENCE = 4\n",
    "\n",
    "METRICS = [loss.dsc_loss]\n",
    "OPTIMIZER = tf.keras.optimizers.Adam(lr = INITIAL_LR)\n",
    "LR_SCALE = 0.5\n",
    "\n",
    "\n",
    "early_stopping = tf.keras.callbacks.EarlyStopping(patience=STOPPING_PATIENCE, verbose=1, restore_best_weights=True)\n",
    "reduce_lr = tf.keras.callbacks.ReduceLROnPlateau(factor=LR_SCALE, patience=LR_PATIENCE, verbose=1)\n",
    "model_checkpoint = tf.keras.callbacks.ModelCheckpoint(MODEL_SAVE, save_weights_only=True, verbose=1)\n",
    "\n",
    "model = model.model(config.GRID_SIZE, len(config.STRUCTURE_NAMES))\n",
    "\n",
    "model.compile(optimizer = OPTIMIZER, loss = LOSS ,metrics = METRICS)"
   ]
  },
  {
   "cell_type": "code",
   "execution_count": null,
   "metadata": {},
   "outputs": [],
   "source": [
    "from matplotlib import pyplot as plt\n",
    "\n",
    "y_input, y_true = train_gen.__getitem__(0)\n",
    "y_pred = model.predict(y_input)\n",
    "#y_pred = np.round(y_pred)\n",
    "\n",
    "print(\"Input shape:\", y_input.shape)\n",
    "print(\"Truth shape: \", y_true.shape)\n",
    "print(\"Predict shape:\", y_pred.shape)\n",
    "\n",
    "for batch_index in range(y_input.shape[0]):\n",
    "    fig, axs = plt.subplots(1, len(config.STRUCTURE_NAMES)+3, figsize=(10,20))\n",
    "    axs[0].imshow(y_input[batch_index,...,0])\n",
    "    axs[1].imshow(y_true[batch_index,...,0])\n",
    "    axs[2].imshow(y_pred[batch_index,...,0])\n",
    "    \n",
    "    axs[3].imshow(y_true[batch_index,...,0], alpha=0.5)\n",
    "    axs[3].imshow(y_pred[batch_index,...,0], alpha=0.5)"
   ]
  },
  {
   "cell_type": "code",
   "execution_count": null,
   "metadata": {},
   "outputs": [],
   "source": [
    "#model.save(\"./weights/bce_vacbag_512.initial_2.hdf5\")"
   ]
  },
  {
   "cell_type": "code",
   "execution_count": null,
   "metadata": {},
   "outputs": [],
   "source": [
    "EPOCHS = 1\n",
    "\n",
    "print(\"\\n Training...\")\n",
    "train_history = model.fit(train_gen,\n",
    "                          epochs=EPOCHS,\n",
    "                          steps_per_epoch=train_gen.__len__(),\n",
    "                          validation_steps=valid_gen.__len__(),\n",
    "                          validation_data=valid_gen,\n",
    "                          callbacks=[early_stopping, model_checkpoint, reduce_lr],\n",
    "                          verbose=1)"
   ]
  },
  {
   "cell_type": "code",
   "execution_count": null,
   "metadata": {},
   "outputs": [],
   "source": [
    "from matplotlib import pyplot as plt\n",
    "\n",
    "y_input, y_true = test_gen.__getitem__(0)\n",
    "y_pred = model.predict(y_true)\n",
    "y_pred = np.round(y_pred)\n",
    "\n",
    "print(\"Input shape:\", y_input.shape)\n",
    "print(\"Truth shape: \", y_true.shape)\n",
    "print(\"Predict shape:\", y_pred.shape)\n",
    "\n",
    "for batch_index in range(y_input.shape[0]):\n",
    "    fig, axs = plt.subplots(1, len(config.STRUCTURE_NAMES)+3, figsize=(10,20))\n",
    "    axs[0].imshow(y_input[batch_index,...,0])\n",
    "    axs[1].imshow(y_true[batch_index,...,0])\n",
    "    axs[2].imshow(y_pred[batch_index,...,0])\n",
    "    \n",
    "    axs[3].imshow(y_true[batch_index,...,0], alpha=0.5)\n",
    "    axs[3].imshow(y_pred[batch_index,...,0], alpha=0.5)"
   ]
  },
  {
   "cell_type": "code",
   "execution_count": null,
   "metadata": {},
   "outputs": [],
   "source": []
  },
  {
   "cell_type": "code",
   "execution_count": null,
   "metadata": {},
   "outputs": [],
   "source": [
    "model.load_weights(\"./weights/bce_vacbag_512.initial.hdf5\")\n",
    "\n",
    "from matplotlib import pyplot as plt\n",
    "\n",
    "y_input, y_true = test_gen.__getitem__(0)\n",
    "y_pred = model.predict(y_true)\n",
    "#y_pred = np.round(y_pred)\n",
    "\n",
    "print(\"Input shape:\", y_input.shape)\n",
    "print(\"Truth shape: \", y_true.shape)\n",
    "print(\"Predict shape:\", y_pred.shape)\n",
    "\n",
    "for batch_index in range(y_input.shape[0]):\n",
    "    fig, axs = plt.subplots(1, len(config.STRUCTURE_NAMES)+3, figsize=(10,20))\n",
    "    axs[0].imshow(y_input[batch_index,...,0])\n",
    "    axs[1].imshow(y_true[batch_index,...,0])\n",
    "    axs[2].imshow(y_pred[batch_index,...,0])\n",
    "    \n",
    "    diff = y_true-y_pred\n",
    "    \n",
    "#     axs[3].imshow(y_true[batch_index,...,0], alpha=0.5)\n",
    "#     axs[3].imshow(y_pred[batch_index,...,0], alpha=0.5)\n",
    "    axs[3].imshow(diff[batch_index,...,0], alpha=0.5\n"
   ]
  },
  {
   "cell_type": "code",
   "execution_count": null,
   "metadata": {},
   "outputs": [],
   "source": [
    "import tensorflow as tf\n",
    "import model_ronneberger_512 as model\n",
    "\n",
    "\n",
    "MODEL_SAVE = \"./weights/dice_vacbag_512.{epoch:02d}.hdf5\"\n",
    "\n",
    "LOSS = loss.dsc_loss\n",
    "INITIAL_LR = 1e-4\n",
    "STOPPING_PATIENCE = 50\n",
    "LR_PATIENCE = 4\n",
    "\n",
    "METRICS = [\n",
    "    loss.dice_metric,\n",
    "    tf.keras.metrics.Recall()\n",
    "]\n",
    "OPTIMIZER = tf.keras.optimizers.Adam(lr = INITIAL_LR)\n",
    "LR_SCALE = 0.5\n",
    "\n",
    "\n",
    "early_stopping = tf.keras.callbacks.EarlyStopping(patience=STOPPING_PATIENCE, verbose=1, restore_best_weights=True)\n",
    "reduce_lr = tf.keras.callbacks.ReduceLROnPlateau(factor=LR_SCALE, patience=LR_PATIENCE, verbose=1)\n",
    "model_checkpoint = tf.keras.callbacks.ModelCheckpoint(MODEL_SAVE, save_weights_only=True, verbose=1)\n",
    "\n",
    "model = model.model(config.GRID_SIZE, len(config.STRUCTURE_NAMES))\n",
    "\n",
    "model.compile(optimizer = OPTIMIZER, loss = LOSS ,metrics = METRICS)\n",
    "\n",
    "model.load_weights(\"./weights/bce_vacbag_512.initial.hdf5\")"
   ]
  },
  {
   "cell_type": "code",
   "execution_count": null,
   "metadata": {},
   "outputs": [],
   "source": [
    "EPOCHS = 10\n",
    "\n",
    "print(\"\\n Training...\")\n",
    "train_history = model.fit(train_gen,\n",
    "                          epochs=EPOCHS,\n",
    "                          steps_per_epoch=train_gen.__len__(),\n",
    "                          validation_steps=valid_gen.__len__(),\n",
    "                          validation_data=valid_gen,\n",
    "                          callbacks=[early_stopping, model_checkpoint, reduce_lr],\n",
    "                          verbose=1)"
   ]
  },
  {
   "cell_type": "code",
   "execution_count": null,
   "metadata": {},
   "outputs": [],
   "source": [
    "model.load_weights(\"./weights/dice_vacbag_512.01.hdf5\")\n",
    "\n",
    "from matplotlib import pyplot as plt\n",
    "\n",
    "y_input, y_true = train_gen.__getitem__(0)\n",
    "y_pred = model.predict(y_true)\n",
    "#y_pred = np.round(y_pred)\n",
    "\n",
    "print(\"Input shape:\", y_input.shape)\n",
    "print(\"Truth shape: \", y_true.shape)\n",
    "print(\"Predict shape:\", y_pred.shape)\n",
    "\n",
    "for batch_index in range(y_input.shape[0]):\n",
    "    fig, axs = plt.subplots(1, len(config.STRUCTURE_NAMES)+3, figsize=(10,20))\n",
    "    axs[0].imshow(y_input[batch_index,...,0])\n",
    "    axs[1].imshow(y_true[batch_index,...,0])\n",
    "    axs[2].imshow(y_pred[batch_index,...,0])\n",
    "    \n",
    "    axs[3].imshow(y_true[batch_index,...,0], alpha=0.5)\n",
    "    axs[3].imshow(y_pred[batch_index,...,0], alpha=0.5)"
   ]
  },
  {
   "cell_type": "code",
   "execution_count": null,
   "metadata": {},
   "outputs": [],
   "source": [
    "model.load_weights(\"./weights/dice_vacbag_512.02.hdf5\")\n",
    "\n",
    "from matplotlib import pyplot as plt\n",
    "\n",
    "y_input, y_true = train_gen.__getitem__(0)\n",
    "y_pred = model.predict(y_true)\n",
    "y_pred = np.round(y_pred)\n",
    "\n",
    "print(\"Input shape:\", y_input.shape)\n",
    "print(\"Truth shape: \", y_true.shape)\n",
    "print(\"Predict shape:\", y_pred.shape)\n",
    "\n",
    "for batch_index in range(y_input.shape[0]):\n",
    "    fig, axs = plt.subplots(1, len(config.STRUCTURE_NAMES)+3, figsize=(10,20))\n",
    "    axs[0].imshow(y_input[batch_index,...,0])\n",
    "    axs[1].imshow(y_true[batch_index,...,0])\n",
    "    axs[2].imshow(y_pred[batch_index,...,0])\n",
    "    \n",
    "    axs[3].imshow(y_true[batch_index,...,0], alpha=0.5)\n",
    "    axs[3].imshow(y_pred[batch_index,...,0], alpha=0.5)"
   ]
  },
  {
   "cell_type": "code",
   "execution_count": null,
   "metadata": {},
   "outputs": [],
   "source": []
  }
 ],
 "metadata": {
  "kernelspec": {
   "display_name": "Python 3",
   "language": "python",
   "name": "python3"
  },
  "language_info": {
   "codemirror_mode": {
    "name": "ipython",
    "version": 3
   },
   "file_extension": ".py",
   "mimetype": "text/x-python",
   "name": "python",
   "nbconvert_exporter": "python",
   "pygments_lexer": "ipython3",
   "version": "3.6.9"
  }
 },
 "nbformat": 4,
 "nbformat_minor": 4
}
