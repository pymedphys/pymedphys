{
 "cells": [
  {
   "cell_type": "code",
   "execution_count": null,
   "metadata": {},
   "outputs": [],
   "source": [
    "import keyring\n",
    "import getpass\n",
    "import functools\n",
    "import itertools\n",
    "import tempfile\n",
    "import io\n",
    "\n",
    "import numpy as np\n",
    "import matplotlib.pyplot as plt\n",
    "\n",
    "import imageio\n",
    "import skimage.transform\n",
    "\n",
    "import pydicom\n",
    "\n",
    "import segments"
   ]
  },
  {
   "cell_type": "code",
   "execution_count": null,
   "metadata": {},
   "outputs": [],
   "source": [
    "# Makes it so any changes in pymedphys is automatically\n",
    "# propagated into the notebook without needing a kernel reset.\n",
    "from IPython.lib.deepreload import reload\n",
    "%load_ext autoreload\n",
    "%autoreload 2"
   ]
  },
  {
   "cell_type": "code",
   "execution_count": null,
   "metadata": {},
   "outputs": [],
   "source": [
    "from pymedphys._experimental.autosegmentation import pipeline, mask"
   ]
  },
  {
   "cell_type": "code",
   "execution_count": null,
   "metadata": {},
   "outputs": [],
   "source": [
    "segments_api_key = keyring.get_password('segments-ai', 'api-key')\n",
    "\n",
    "if not segments_api_key:\n",
    "    segments_api_key = getpass.getpass()\n",
    "    keyring.set_password('segments-ai', 'api-key', segments_api_key)"
   ]
  },
  {
   "cell_type": "code",
   "execution_count": null,
   "metadata": {},
   "outputs": [],
   "source": [
    "client = segments.SegmentsClient(segments_api_key)\n",
    "dataset_name = 'SimonBiggs/AnimalContours' # Name of a dataset you've created on Segments.ai"
   ]
  },
  {
   "cell_type": "code",
   "execution_count": null,
   "metadata": {},
   "outputs": [],
   "source": [
    "dataset = client.get_dataset(dataset_name)"
   ]
  },
  {
   "cell_type": "code",
   "execution_count": null,
   "metadata": {},
   "outputs": [],
   "source": [
    "contouring_task = [item for item in dataset['tasks'] if item['name'] == 'contouring'][0]\n",
    "categories = contouring_task['attributes']['categories']\n",
    "category_id_map = {\n",
    "    item['name']: item['id']\n",
    "    for item in categories\n",
    "}\n",
    "\n",
    "category_id_map"
   ]
  },
  {
   "cell_type": "code",
   "execution_count": null,
   "metadata": {},
   "outputs": [],
   "source": [
    "samples = client.get_samples(dataset_name)\n",
    "\n",
    "ct_uid_to_upload_uuid = {\n",
    "    item['name'].replace(\".png\", \"\"): item['uuid']\n",
    "    for item in samples\n",
    "}"
   ]
  },
  {
   "cell_type": "code",
   "execution_count": null,
   "metadata": {},
   "outputs": [],
   "source": [
    "ct_uid = list(ct_uid_to_upload_uuid.keys())[0]"
   ]
  },
  {
   "cell_type": "code",
   "execution_count": null,
   "metadata": {},
   "outputs": [],
   "source": [
    "ct_uid"
   ]
  },
  {
   "cell_type": "code",
   "execution_count": null,
   "metadata": {},
   "outputs": [],
   "source": []
  },
  {
   "cell_type": "code",
   "execution_count": null,
   "metadata": {},
   "outputs": [],
   "source": [
    "# ct_uid = '1.2.840.113704.1.111.3096.1537312918.112198'"
   ]
  },
  {
   "cell_type": "code",
   "execution_count": null,
   "metadata": {},
   "outputs": [],
   "source": [
    "(\n",
    "    data_path_root,\n",
    "    structure_set_paths,\n",
    "    ct_image_paths,\n",
    "    ct_uid_to_structure_uid,\n",
    "    structure_uid_to_ct_uids,\n",
    "    names_map,\n",
    "    structure_names_by_ct_uid,\n",
    "    structure_names_by_structure_set_uid,\n",
    "    uid_to_url,\n",
    "    hash_path,\n",
    ") = pipeline.get_dataset_metadata()"
   ]
  },
  {
   "cell_type": "code",
   "execution_count": null,
   "metadata": {},
   "outputs": [],
   "source": [
    "# uid_to_url"
   ]
  },
  {
   "cell_type": "code",
   "execution_count": null,
   "metadata": {},
   "outputs": [],
   "source": []
  },
  {
   "cell_type": "code",
   "execution_count": null,
   "metadata": {},
   "outputs": [],
   "source": []
  },
  {
   "cell_type": "code",
   "execution_count": null,
   "metadata": {},
   "outputs": [],
   "source": []
  },
  {
   "cell_type": "code",
   "execution_count": null,
   "metadata": {},
   "outputs": [],
   "source": [
    "@functools.lru_cache()\n",
    "def get_dcm_ct_from_uid(ct_uid):\n",
    "    ct_path = ct_image_paths[ct_uid]\n",
    "    dcm_ct = pydicom.read_file(ct_path, force=True)\n",
    "\n",
    "    dcm_ct.file_meta.TransferSyntaxUID = pydicom.uid.ImplicitVRLittleEndian\n",
    "\n",
    "    return dcm_ct\n",
    "\n",
    "@functools.lru_cache()\n",
    "def get_dcm_structure_from_uid(structure_set_uid):\n",
    "    structure_set_path = structure_set_paths[structure_set_uid]\n",
    "\n",
    "    dcm_structure = pydicom.read_file(\n",
    "        structure_set_path,\n",
    "        force=True,\n",
    "        specific_tags=[\"ROIContourSequence\", \"StructureSetROISequence\"],\n",
    "    )\n",
    "\n",
    "    return dcm_structure\n",
    "\n",
    "@functools.lru_cache()\n",
    "def get_contours_by_ct_uid_from_structure_uid(structure_set_uid):\n",
    "    dcm_structure = get_dcm_structure_from_uid(structure_set_uid)\n",
    "\n",
    "    number_to_name_map = {\n",
    "        roi_sequence_item.ROINumber: names_map[roi_sequence_item.ROIName]\n",
    "        for roi_sequence_item in dcm_structure.StructureSetROISequence\n",
    "        if names_map[roi_sequence_item.ROIName] is not None\n",
    "    }\n",
    "\n",
    "    contours_by_ct_uid = pipeline.get_contours_by_ct_uid(dcm_structure, number_to_name_map)\n",
    "\n",
    "    return contours_by_ct_uid"
   ]
  },
  {
   "cell_type": "code",
   "execution_count": null,
   "metadata": {},
   "outputs": [],
   "source": [
    "structure_uid = ct_uid_to_structure_uid[ct_uid]"
   ]
  },
  {
   "cell_type": "code",
   "execution_count": null,
   "metadata": {},
   "outputs": [],
   "source": [
    "ct_path = pipeline.download_uid(data_path_root, ct_uid, uid_to_url, hash_path)\n",
    "structure_path = pipeline.download_uid(data_path_root, structure_uid, uid_to_url, hash_path)"
   ]
  },
  {
   "cell_type": "code",
   "execution_count": null,
   "metadata": {},
   "outputs": [],
   "source": [
    "dcm_ct = get_dcm_ct_from_uid(ct_uid)\n",
    "dcm_structure = get_dcm_structure_from_uid(structure_uid)"
   ]
  },
  {
   "cell_type": "code",
   "execution_count": null,
   "metadata": {},
   "outputs": [],
   "source": [
    "grid_x, grid_y, ct_img = pipeline.create_input_ct_image(dcm_ct)"
   ]
  },
  {
   "cell_type": "code",
   "execution_count": null,
   "metadata": {},
   "outputs": [],
   "source": [
    "contours_by_ct_uid = get_contours_by_ct_uid_from_structure_uid(\n",
    "    structure_uid\n",
    ")"
   ]
  },
  {
   "cell_type": "code",
   "execution_count": null,
   "metadata": {},
   "outputs": [],
   "source": [
    "# contours_by_ct_uid"
   ]
  },
  {
   "cell_type": "code",
   "execution_count": null,
   "metadata": {},
   "outputs": [],
   "source": [
    "expansion = 4\n",
    "\n",
    "_, _, ct_size = mask.get_grid(dcm_ct)\n",
    "ct_size = tuple(np.array(ct_size) * expansion)\n",
    "ct_size"
   ]
  },
  {
   "cell_type": "code",
   "execution_count": null,
   "metadata": {},
   "outputs": [],
   "source": [
    "contours_on_this_slice = contours_by_ct_uid[ct_uid].keys()\n",
    "contours_on_this_slice"
   ]
  },
  {
   "cell_type": "code",
   "execution_count": null,
   "metadata": {},
   "outputs": [],
   "source": [
    "masks = dict()\n",
    "\n",
    "for structure in contours_on_this_slice:\n",
    "    if structure in contours_on_this_slice:\n",
    "        masks[structure] = mask.calculate_expanded_mask(\n",
    "            contours_by_ct_uid[ct_uid][structure],\n",
    "            dcm_ct, expansion\n",
    "        )\n",
    "    else:\n",
    "        masks[structure] = np.zeros(ct_size).astype(bool)"
   ]
  },
  {
   "cell_type": "code",
   "execution_count": null,
   "metadata": {},
   "outputs": [],
   "source": [
    "plt.pcolormesh(masks['patient'])"
   ]
  },
  {
   "cell_type": "code",
   "execution_count": null,
   "metadata": {},
   "outputs": [],
   "source": [
    "plt.pcolormesh(masks['brain'])"
   ]
  },
  {
   "cell_type": "code",
   "execution_count": null,
   "metadata": {},
   "outputs": [],
   "source": [
    "def is_mask_a_subset(subset, superset):\n",
    "    return np.all(np.logical_and(subset, superset) == subset)"
   ]
  },
  {
   "cell_type": "code",
   "execution_count": null,
   "metadata": {},
   "outputs": [],
   "source": [
    "def cmp(x, y):\n",
    "    mask_x = masks[x]\n",
    "    mask_y = masks[y]\n",
    "    \n",
    "    if is_mask_a_subset(mask_x, mask_y):\n",
    "        return -1\n",
    "    if is_mask_a_subset(mask_y, mask_x):\n",
    "        return 1\n",
    "    \n",
    "    disjoint = np.logical_xor(mask_x, mask_y) == np.logical_or(mask_x, mask_y)\n",
    "    \n",
    "    if np.any(np.invert(disjoint)):\n",
    "        raise ValueError(f\"Masks ({x}, {y}) are disjoint\")\n",
    "\n",
    "    \n",
    "    return 0\n",
    "\n",
    "sorting_key = functools.cmp_to_key(cmp)\n",
    "\n",
    "sorted(list(contours_on_this_slice), key=sorting_key)"
   ]
  },
  {
   "cell_type": "code",
   "execution_count": null,
   "metadata": {},
   "outputs": [],
   "source": [
    "names = list(set(names_map.values()))\n",
    "names.remove(None)\n",
    "\n",
    "names.sort()\n",
    "\n",
    "def get_ids(structure_name):\n",
    "    index = names.index(structure_name)\n",
    "    instance_id = index + 1\n",
    "    category_id = instance_id + 1\n",
    "    \n",
    "    return instance_id, category_id"
   ]
  },
  {
   "cell_type": "code",
   "execution_count": null,
   "metadata": {},
   "outputs": [],
   "source": [
    "for i, name in enumerate(names):\n",
    "    print(i, name)"
   ]
  },
  {
   "cell_type": "code",
   "execution_count": null,
   "metadata": {},
   "outputs": [],
   "source": []
  },
  {
   "cell_type": "code",
   "execution_count": null,
   "metadata": {},
   "outputs": [],
   "source": []
  },
  {
   "cell_type": "code",
   "execution_count": null,
   "metadata": {},
   "outputs": [],
   "source": [
    "dcm_ct"
   ]
  },
  {
   "cell_type": "code",
   "execution_count": null,
   "metadata": {},
   "outputs": [],
   "source": [
    "HU = dcm_ct.pixel_array * dcm_ct.RescaleSlope + dcm_ct.RescaleIntercept"
   ]
  },
  {
   "cell_type": "code",
   "execution_count": null,
   "metadata": {},
   "outputs": [],
   "source": [
    "np.min(HU)"
   ]
  },
  {
   "cell_type": "code",
   "execution_count": null,
   "metadata": {},
   "outputs": [],
   "source": [
    "np.max(HU)"
   ]
  },
  {
   "cell_type": "code",
   "execution_count": null,
   "metadata": {},
   "outputs": [],
   "source": [
    "2048"
   ]
  },
  {
   "cell_type": "code",
   "execution_count": null,
   "metadata": {},
   "outputs": [],
   "source": [
    "expanded = skimage.transform.resize(HU, ct_size, mode='edge', preserve_range=True, anti_aliasing=False)"
   ]
  },
  {
   "cell_type": "code",
   "execution_count": null,
   "metadata": {},
   "outputs": [],
   "source": [
    "uint16_image = ((expanded + 1024) / 4096 * 2**16).astype(np.uint16)"
   ]
  },
  {
   "cell_type": "code",
   "execution_count": null,
   "metadata": {},
   "outputs": [],
   "source": [
    "plt.figure(figsize=(20,20))\n",
    "plt.imshow(uint16_image)\n",
    "plt.axis('equal')\n",
    "plt.colorbar()"
   ]
  },
  {
   "cell_type": "code",
   "execution_count": null,
   "metadata": {},
   "outputs": [],
   "source": [
    "png_file = io.BytesIO()\n",
    "\n",
    "imageio.imsave(png_file, uint16_image, format='png', prefer_uint8=False)"
   ]
  },
  {
   "cell_type": "code",
   "execution_count": null,
   "metadata": {},
   "outputs": [],
   "source": [
    "# Set up the client\n",
    "client = segments.SegmentsClient(segments_api_key)\n",
    "dataset_name = 'SimonBiggs/AnimalContours' # Name of a dataset you've created on Segments.ai\n",
    "\n",
    "sample_name = f\"{ct_uid}.png\"\n",
    "\n",
    "asset = client.upload_asset(png_file, filename=sample_name)\n",
    "image_url = asset[\"url\"]\n",
    "\n"
   ]
  },
  {
   "cell_type": "code",
   "execution_count": null,
   "metadata": {},
   "outputs": [],
   "source": [
    "# sample_name = f\"{ct_uid}.png\""
   ]
  },
  {
   "cell_type": "code",
   "execution_count": null,
   "metadata": {},
   "outputs": [],
   "source": [
    "image_url"
   ]
  },
  {
   "cell_type": "code",
   "execution_count": null,
   "metadata": {},
   "outputs": [],
   "source": [
    "attributes = {\n",
    "    \"image\": { \"url\": image_url }\n",
    "}\n",
    "result = client.add_sample(dataset_name, sample_name, attributes)"
   ]
  },
  {
   "cell_type": "code",
   "execution_count": null,
   "metadata": {},
   "outputs": [],
   "source": [
    "result"
   ]
  },
  {
   "cell_type": "code",
   "execution_count": null,
   "metadata": {},
   "outputs": [],
   "source": [
    "expanded"
   ]
  },
  {
   "cell_type": "code",
   "execution_count": null,
   "metadata": {},
   "outputs": [],
   "source": [
    "dcm_ct.pixel_array"
   ]
  },
  {
   "cell_type": "code",
   "execution_count": null,
   "metadata": {},
   "outputs": [],
   "source": []
  },
  {
   "cell_type": "code",
   "execution_count": null,
   "metadata": {},
   "outputs": [],
   "source": [
    "dcm_ct.pixel_array"
   ]
  },
  {
   "cell_type": "code",
   "execution_count": null,
   "metadata": {},
   "outputs": [],
   "source": [
    "asset = client.upload_asset(file, filename=\"violet.jpg\")\n",
    "image_url = asset[\"url\"]"
   ]
  },
  {
   "cell_type": "code",
   "execution_count": null,
   "metadata": {},
   "outputs": [],
   "source": []
  },
  {
   "cell_type": "code",
   "execution_count": null,
   "metadata": {},
   "outputs": [],
   "source": [
    "\n",
    "\n",
    "# Upload the images to Segments.ai\n",
    "for i, url in enumerate(image_urls):\n",
    "    sample_name = 'image_{:05}.jpg'.format(i)\n",
    "    attributes = {\n",
    "        \"image\": { \"url\": url }\n",
    "    }\n",
    "    result = client.add_sample(dataset_name, sample_name, attributes)"
   ]
  },
  {
   "cell_type": "code",
   "execution_count": null,
   "metadata": {},
   "outputs": [],
   "source": []
  },
  {
   "cell_type": "code",
   "execution_count": null,
   "metadata": {},
   "outputs": [],
   "source": [
    "GH_API = \"https://api.github.com\"\n",
    "GH_REPO = f\"{GH_API}/repos/pymedphys/data\"\n",
    "GH_TAGS = f\"{GH_API}/releases/tags/segments.ai\"\n",
    "AUTH = f\"Authorization: token {github_api_key}\""
   ]
  },
  {
   "cell_type": "code",
   "execution_count": null,
   "metadata": {},
   "outputs": [],
   "source": [
    "# repo = sys.argv[1]\n",
    "# tag = sys.argv[2]\n",
    "# upload_file = sys.argv[3]\n",
    "\n",
    "# token = os.environ['GITHUB_TOKEN']\n",
    "\n",
    "# url_template = 'https://{}.github.com/repos/' + repo + '/releases'\n",
    "\n",
    "# # Create.\n",
    "# _json = json.loads(urlopen(Request(\n",
    "#     url_template.format('api'),\n",
    "#     json.dumps({\n",
    "#         'tag_name': tag,\n",
    "#         'name': tag,\n",
    "#         'prerelease': True,\n",
    "#     }).encode(),\n",
    "#     headers={\n",
    "#         'Accept': 'application/vnd.github.v3+json',\n",
    "#         'Authorization': 'token ' + token,\n",
    "#     },\n",
    "# )).read().decode())\n",
    "# release_id = _json['id']\n",
    "\n",
    "# # Upload.\n",
    "# with open(upload_file, 'br') as myfile:\n",
    "#     content = myfile.read()\n",
    "# _json = json.loads(urlopen(Request(\n",
    "#     url_template.format('uploads') + '/' + str(release_id) + '/assets?' \\\n",
    "#       + urlencode({'name': os.path.split(upload_file)[1]}),\n",
    "#     content,\n",
    "#     headers={\n",
    "#         'Accept': 'application/vnd.github.v3+json',\n",
    "#         'Authorization': 'token ' + token,\n",
    "#         'Content-Type': 'application/zip',\n",
    "#     },\n",
    "# )).read().decode())"
   ]
  },
  {
   "cell_type": "code",
   "execution_count": null,
   "metadata": {},
   "outputs": [],
   "source": []
  },
  {
   "cell_type": "code",
   "execution_count": null,
   "metadata": {},
   "outputs": [],
   "source": []
  },
  {
   "cell_type": "code",
   "execution_count": null,
   "metadata": {},
   "outputs": [],
   "source": []
  },
  {
   "cell_type": "code",
   "execution_count": null,
   "metadata": {},
   "outputs": [],
   "source": []
  },
  {
   "cell_type": "code",
   "execution_count": null,
   "metadata": {},
   "outputs": [],
   "source": []
  },
  {
   "cell_type": "code",
   "execution_count": null,
   "metadata": {},
   "outputs": [],
   "source": []
  },
  {
   "cell_type": "code",
   "execution_count": null,
   "metadata": {},
   "outputs": [],
   "source": [
    "# masks['bite_block'][:, 1000:1010] = True\n",
    "\n",
    "# plt.pcolormesh(masks['bite_block'])"
   ]
  },
  {
   "cell_type": "code",
   "execution_count": null,
   "metadata": {},
   "outputs": [],
   "source": [
    "mask_a = masks['eye_left']\n",
    "mask_b = masks['brain']\n",
    "\n",
    "disjoint = np.logical_xor(mask_a, mask_b) == np.logical_or(mask_a, mask_b)\n",
    "np.any(np.invert(disjoint))\n",
    "# plt.pcolormesh()"
   ]
  },
  {
   "cell_type": "code",
   "execution_count": null,
   "metadata": {},
   "outputs": [],
   "source": [
    "for contour_labels in itertools.permutations(contours_on_this_slice, 2):\n",
    "    print(contour_labels)\n",
    "    \n",
    "    mask_a = masks[contour_labels[0]]\n",
    "    mask_b = masks[contour_labels[1]]\n",
    "    \n",
    "    disjoint = np.logical_xor(\n",
    "        np.logical_xor(mask_a, mask_b),\n",
    "        np.logical_or(mask_a, mask_b)\n",
    "    )\n",
    "    \n",
    "    print(np.any(disjoint))"
   ]
  },
  {
   "cell_type": "code",
   "execution_count": null,
   "metadata": {},
   "outputs": [],
   "source": [
    "np.all(np.logical_and(masks['brain'], masks['patient']) == masks['brain'])"
   ]
  },
  {
   "cell_type": "code",
   "execution_count": null,
   "metadata": {},
   "outputs": [],
   "source": [
    "masks"
   ]
  },
  {
   "cell_type": "code",
   "execution_count": null,
   "metadata": {},
   "outputs": [],
   "source": []
  },
  {
   "cell_type": "code",
   "execution_count": null,
   "metadata": {},
   "outputs": [],
   "source": []
  }
 ],
 "metadata": {
  "kernelspec": {
   "display_name": "pymedphys-master",
   "language": "python",
   "name": "pymedphys-master"
  },
  "language_info": {
   "codemirror_mode": {
    "name": "ipython",
    "version": 3
   },
   "file_extension": ".py",
   "mimetype": "text/x-python",
   "name": "python",
   "nbconvert_exporter": "python",
   "pygments_lexer": "ipython3",
   "version": "3.7.8"
  }
 },
 "nbformat": 4,
 "nbformat_minor": 4
}
