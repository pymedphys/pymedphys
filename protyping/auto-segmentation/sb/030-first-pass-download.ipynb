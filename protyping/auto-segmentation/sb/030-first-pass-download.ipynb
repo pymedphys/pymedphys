{
 "cells": [
  {
   "cell_type": "markdown",
   "metadata": {},
   "source": [
    "## No need to run this notebook.\n",
    "\n",
    "It will take needlessly forever."
   ]
  },
  {
   "cell_type": "code",
   "execution_count": null,
   "metadata": {},
   "outputs": [],
   "source": [
    "import json\n",
    "import pathlib"
   ]
  },
  {
   "cell_type": "code",
   "execution_count": null,
   "metadata": {},
   "outputs": [],
   "source": [
    "# Makes it so any changes in pymedphys is automatically\n",
    "# propagated into the notebook without needing a kernel reset.\n",
    "from IPython.lib.deepreload import reload\n",
    "%load_ext autoreload\n",
    "%autoreload 2"
   ]
  },
  {
   "cell_type": "code",
   "execution_count": null,
   "metadata": {},
   "outputs": [],
   "source": [
    "import pymedphys\n",
    "from pymedphys.labs.autosegmentation import indexing"
   ]
  },
  {
   "cell_type": "code",
   "execution_count": null,
   "metadata": {},
   "outputs": [],
   "source": [
    "data_path_root = pathlib.Path.home().joinpath('.data', 'dicom-ct-and-structures')\n",
    "hash_path = data_path_root.joinpath('hashes.json')\n",
    "\n",
    "(\n",
    "    ct_image_paths,\n",
    "    structure_set_paths,\n",
    "    ct_uid_to_structure_uid,\n",
    "    structure_uid_to_ct_uids,\n",
    ") = indexing.get_uid_cache(data_path_root, validate_cache=False)"
   ]
  },
  {
   "cell_type": "code",
   "execution_count": null,
   "metadata": {},
   "outputs": [],
   "source": [
    "pattern_string = 'https://github.com/pymedphys/data/releases/download/structure-dicom/{dicom_type}.{uid}_Anonymised.zip'"
   ]
  },
  {
   "cell_type": "code",
   "execution_count": null,
   "metadata": {},
   "outputs": [],
   "source": [
    "uid_to_url = {}\n",
    "\n",
    "for structure_uid, ct_uids in structure_uid_to_ct_uids.items():\n",
    "    uid_to_url[structure_uid] = pattern_string.format(dicom_type='RS', uid=structure_uid)\n",
    "    \n",
    "    for ct_uid in ct_uids:\n",
    "        uid_to_url[ct_uid] = pattern_string.format(dicom_type='CT', uid=ct_uid)"
   ]
  },
  {
   "cell_type": "code",
   "execution_count": null,
   "metadata": {},
   "outputs": [],
   "source": [
    "data_download_root = pathlib.Path('auto-segmentation-dicom')"
   ]
  },
  {
   "cell_type": "code",
   "execution_count": null,
   "metadata": {},
   "outputs": [],
   "source": []
  },
  {
   "cell_type": "code",
   "execution_count": null,
   "metadata": {},
   "outputs": [],
   "source": [
    "for uid, url in uid_to_url.items():\n",
    "    filename = url.split('/')[-1]\n",
    "    save_filename = data_download_root.joinpath(filename)\n",
    "    \n",
    "    pymedphys.zip_data_paths(\n",
    "        save_filename,\n",
    "        check_hash=True,\n",
    "        redownload_on_hash_mismatch=True,\n",
    "        delete_when_no_hash_found=False,\n",
    "        url=url,\n",
    "        hash_filepath=hash_path\n",
    "    )"
   ]
  }
 ],
 "metadata": {
  "kernelspec": {
   "display_name": "pymedphys-master",
   "language": "python",
   "name": "pymedphys-master"
  },
  "language_info": {
   "codemirror_mode": {
    "name": "ipython",
    "version": 3
   },
   "file_extension": ".py",
   "mimetype": "text/x-python",
   "name": "python",
   "nbconvert_exporter": "python",
   "pygments_lexer": "ipython3",
   "version": "3.7.7"
  }
 },
 "nbformat": 4,
 "nbformat_minor": 4
}
