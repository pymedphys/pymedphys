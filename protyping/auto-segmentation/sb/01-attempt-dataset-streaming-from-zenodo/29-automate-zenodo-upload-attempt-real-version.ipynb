{
 "cells": [
  {
   "cell_type": "code",
   "execution_count": null,
   "metadata": {},
   "outputs": [],
   "source": [
    "import pathlib"
   ]
  },
  {
   "cell_type": "code",
   "execution_count": null,
   "metadata": {},
   "outputs": [],
   "source": [
    "# Makes it so any changes in pymedphys is automatically\n",
    "# propagated into the notebook without needing a kernel reset.\n",
    "from IPython.lib.deepreload import reload\n",
    "%load_ext autoreload\n",
    "%autoreload 2"
   ]
  },
  {
   "cell_type": "code",
   "execution_count": null,
   "metadata": {},
   "outputs": [],
   "source": [
    "from pymedphys._data import zenodo, upload\n",
    "from pymedphys.labs.autosegmentation import indexing, filtering"
   ]
  },
  {
   "cell_type": "code",
   "execution_count": null,
   "metadata": {},
   "outputs": [],
   "source": [
    "data_path_root = pathlib.Path.home().joinpath('.data/dicom-ct-and-structures')\n",
    "\n",
    "name_mappings_path = data_path_root.joinpath('name_mappings.json')\n",
    "names_map = filtering.load_names_mapping(name_mappings_path)"
   ]
  },
  {
   "cell_type": "code",
   "execution_count": null,
   "metadata": {},
   "outputs": [],
   "source": [
    "(\n",
    "    ct_image_paths,\n",
    "    structure_set_paths,\n",
    "    ct_uid_to_structure_uid,\n",
    "    structure_uid_to_ct_uids,\n",
    ") = indexing.get_uid_cache(data_path_root)"
   ]
  },
  {
   "cell_type": "code",
   "execution_count": null,
   "metadata": {},
   "outputs": [],
   "source": [
    "(\n",
    "    structure_names_by_ct_uid,\n",
    "    structure_names_by_structure_set_uid,\n",
    ") = indexing.get_cached_structure_names_by_uids(\n",
    "    data_path_root, structure_set_paths, names_map\n",
    ")"
   ]
  },
  {
   "cell_type": "code",
   "execution_count": null,
   "metadata": {},
   "outputs": [],
   "source": [
    "stucture_uids = structure_uid_to_ct_uids.keys()"
   ]
  },
  {
   "cell_type": "code",
   "execution_count": null,
   "metadata": {},
   "outputs": [],
   "source": [
    "prep_for_zenodo_path = pathlib.Path().home().joinpath('Documents', 'prep-for-zenodo')\n",
    "zip_paths = list(prep_for_zenodo_path.glob('*'))\n",
    "\n",
    "len(zip_paths)"
   ]
  },
  {
   "cell_type": "code",
   "execution_count": null,
   "metadata": {},
   "outputs": [],
   "source": [
    "def get_path(uid, zip_paths):\n",
    "    filtered_path = [path for path in zip_paths if uid in path.name]\n",
    "    assert len(filtered_path) == 1\n",
    "    path = filtered_path[0]\n",
    "    \n",
    "    return path"
   ]
  },
  {
   "cell_type": "code",
   "execution_count": null,
   "metadata": {},
   "outputs": [],
   "source": [
    "author = 'PyMedPhys Contributors'\n",
    "use_sandbox = False\n",
    "\n",
    "for structure_uid in list(stucture_uids)[6::]:\n",
    "    title = f'auto-segmentation-{structure_uid}'\n",
    "    \n",
    "    filepaths = [get_path(structure_uid, zip_paths)]\n",
    "    \n",
    "    ct_uids = structure_uid_to_ct_uids[structure_uid]\n",
    "    for ct_uid in ct_uids:\n",
    "        filepaths.append(get_path(ct_uid, zip_paths))\n",
    "        \n",
    "    print(len(set(filepaths)))\n",
    "    print(len(filepaths))\n",
    "    assert len(set(filepaths)) == len(filepaths)\n",
    "        \n",
    "    upload.upload_files_to_zenodo(filepaths, title, author, use_sandbox=use_sandbox)"
   ]
  },
  {
   "cell_type": "code",
   "execution_count": null,
   "metadata": {},
   "outputs": [],
   "source": []
  },
  {
   "cell_type": "code",
   "execution_count": null,
   "metadata": {},
   "outputs": [],
   "source": []
  }
 ],
 "metadata": {
  "kernelspec": {
   "display_name": "pymedphys-master",
   "language": "python",
   "name": "pymedphys-master"
  },
  "language_info": {
   "codemirror_mode": {
    "name": "ipython",
    "version": 3
   },
   "file_extension": ".py",
   "mimetype": "text/x-python",
   "name": "python",
   "nbconvert_exporter": "python",
   "pygments_lexer": "ipython3",
   "version": "3.7.7"
  }
 },
 "nbformat": 4,
 "nbformat_minor": 4
}
