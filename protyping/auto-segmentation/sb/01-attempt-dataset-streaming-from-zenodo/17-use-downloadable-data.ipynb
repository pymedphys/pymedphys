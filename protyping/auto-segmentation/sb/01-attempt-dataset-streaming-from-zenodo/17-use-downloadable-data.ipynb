{
 "cells": [
  {
   "cell_type": "code",
   "execution_count": null,
   "metadata": {},
   "outputs": [],
   "source": [
    "import pathlib\n",
    "import shutil\n",
    "\n",
    "import numpy as np\n",
    "import matplotlib.pyplot as plt\n",
    "\n",
    "from IPython import display\n",
    "\n",
    "import pydicom"
   ]
  },
  {
   "cell_type": "code",
   "execution_count": null,
   "metadata": {},
   "outputs": [],
   "source": [
    "# Makes it so any changes in pymedphys is automatically\n",
    "# propagated into the notebook without needing a kernel reset.\n",
    "from IPython.lib.deepreload import reload\n",
    "%load_ext autoreload\n",
    "%autoreload 2"
   ]
  },
  {
   "cell_type": "code",
   "execution_count": null,
   "metadata": {},
   "outputs": [],
   "source": [
    "import pymedphys\n",
    "from pymedphys.labs.autosegmentation import pipeline, filtering, indexing, mask"
   ]
  },
  {
   "cell_type": "code",
   "execution_count": null,
   "metadata": {},
   "outputs": [],
   "source": [
    "# Put all of the DICOM data within a directory called 'dicom' \n",
    "# organised by 'training', 'validation', and 'testing' in here:\n",
    "data_path_root = pathlib.Path.home().joinpath('.data/dicom-ct-and-structures')\n",
    "dicom_directory = data_path_root.joinpath('dicom')\n",
    "\n",
    "training_directory = dicom_directory.joinpath('training')\n",
    "validation_directory = dicom_directory.joinpath('validation')\n",
    "testing_directory = dicom_directory.joinpath('testing')\n",
    "\n",
    "# Of note, the DICOM file directory structure need not have any further\n",
    "# organisation beyond being placed somewhere within one of the three\n",
    "# 'training', 'validation', or 'testing'. They can be organised into\n",
    "# directories by patient but that is not a requirement."
   ]
  },
  {
   "cell_type": "code",
   "execution_count": null,
   "metadata": {},
   "outputs": [],
   "source": [
    "name_mappings_path = data_path_root.joinpath('name_mappings.json')"
   ]
  },
  {
   "cell_type": "code",
   "execution_count": null,
   "metadata": {},
   "outputs": [],
   "source": [
    "dicom_paths = pymedphys.zenodo_data_paths(\"auto-segmentation\")\n",
    "\n",
    "for path in dicom_paths:\n",
    "    if path.suffix == '.dcm':\n",
    "        dataset_id = path.parent.name\n",
    "        parent_and_file = path.parts[-2::]\n",
    "\n",
    "        if int(dataset_id) < 4:\n",
    "            new_path = testing_directory.joinpath(*parent_and_file)\n",
    "        elif int(dataset_id) < 8:\n",
    "            new_path = validation_directory.joinpath(*parent_and_file)\n",
    "        else:\n",
    "            new_path = training_directory.joinpath(*parent_and_file)\n",
    "\n",
    "    elif path.name == 'name_mappings.json':\n",
    "        new_path = name_mappings_path\n",
    "        \n",
    "    else:\n",
    "        raise ValueError(f\"Unexpected file found. {path}.\")\n",
    "        \n",
    "    if not new_path.exists():\n",
    "        new_path.parent.mkdir(parents=True, exist_ok=True)\n",
    "        shutil.copy(path, new_path)"
   ]
  },
  {
   "cell_type": "code",
   "execution_count": null,
   "metadata": {},
   "outputs": [],
   "source": [
    "# The following names_map is used to standardise the structure names\n",
    "names_map = filtering.load_names_mapping(name_mappings_path)"
   ]
  },
  {
   "cell_type": "code",
   "execution_count": null,
   "metadata": {},
   "outputs": [],
   "source": [
    "# Create masks for the following structures, in the following order\n",
    "structures_to_learn = [\n",
    "    'lens_left', 'lens_right', 'eye_left', 'eye_right', 'patient']\n",
    "\n",
    "# Use the following to filter the slices used for training, validation,\n",
    "# and testing\n",
    "filters = {\n",
    "    \"study_set_must_have_all_of\": structures_to_learn,\n",
    "    \"slice_at_least_one_of\": [\n",
    "        'lens_left', 'lens_right', 'eye_left', 'eye_right'\n",
    "    ],\n",
    "    \"slice_must_have\": ['patient'],\n",
    "    \"slice_cannot_have\": []\n",
    "}"
   ]
  },
  {
   "cell_type": "code",
   "execution_count": null,
   "metadata": {},
   "outputs": [],
   "source": [
    "datasets = pipeline.create_datasets(\n",
    "    data_path_root, names_map, structures_to_learn, filters)"
   ]
  },
  {
   "cell_type": "code",
   "execution_count": null,
   "metadata": {},
   "outputs": [],
   "source": [
    "(\n",
    "    ct_image_paths,\n",
    "    structure_set_paths,\n",
    "    ct_uid_to_structure_uid,\n",
    "    structure_uid_to_ct_uids,\n",
    ") = indexing.get_uid_cache(data_path_root)"
   ]
  },
  {
   "cell_type": "code",
   "execution_count": null,
   "metadata": {},
   "outputs": [],
   "source": [
    "(\n",
    "    structure_names_by_ct_uid,\n",
    "    structure_names_by_structure_set_uid,\n",
    ") = indexing.get_cached_structure_names_by_uids(\n",
    "    data_path_root, structure_set_paths, names_map\n",
    ")"
   ]
  },
  {
   "cell_type": "code",
   "execution_count": null,
   "metadata": {},
   "outputs": [],
   "source": [
    "def diagnostic_plotting(x_grid, y_grid, input_array, output_array):\n",
    "    plt.figure(figsize=(15,10))\n",
    "    \n",
    "    x_grid = x_grid.numpy()\n",
    "    y_grid = y_grid.numpy()\n",
    "    input_array = input_array.numpy()[:,:,0]\n",
    "    output_array = output_array.numpy()\n",
    "    \n",
    "    for i, structure in enumerate(structures_to_learn[0:-1]):\n",
    "        if structure.endswith('left'):\n",
    "            colour = 'r'\n",
    "        elif structure.endswith('right'):\n",
    "            colour = 'b'\n",
    "        else:\n",
    "            raise ValueError(\"Expected either left or right\")\n",
    "            \n",
    "        if structure.startswith('lens'):\n",
    "            colour += '--'\n",
    "        elif structure.startswith('eye'):\n",
    "            colour += '-'\n",
    "        else:\n",
    "            raise ValueError(\"Expected either eye or lens\")\n",
    "\n",
    "        contours = mask.get_contours_from_mask(\n",
    "            x_grid, y_grid, output_array[:,:,i])\n",
    "        for contour in contours:\n",
    "            plt.plot(*contour.T, colour)\n",
    "            \n",
    "    \n",
    "    plt.axis('equal')\n",
    "    ax = plt.gca()\n",
    "    xlim = ax.get_xlim()\n",
    "    ylim = ax.get_ylim()\n",
    "    \n",
    "    contours = mask.get_contours_from_mask(\n",
    "        x_grid, y_grid, output_array[:,:,-1])\n",
    "    for contour in contours:\n",
    "        plt.plot(*contour.T, 'k--')\n",
    "    \n",
    "    windowed = np.copy(input_array)\n",
    "\n",
    "    vmin = 900\n",
    "    vmax = 1200\n",
    "    windowed[windowed<vmin] = vmin\n",
    "    windowed[windowed>vmax] = vmax\n",
    "\n",
    "    plt.contourf(x_grid, y_grid, windowed, 50)\n",
    "    plt.colorbar()\n",
    "    ax.set_xlim(xlim)\n",
    "    ax.set_ylim(ylim)"
   ]
  },
  {
   "cell_type": "code",
   "execution_count": null,
   "metadata": {},
   "outputs": [],
   "source": [
    "def display_paths(ct_uid):\n",
    "    print(ct_image_paths[ct_uid])\n",
    "    \n",
    "    structure_set_uid = ct_uid_to_structure_uid[ct_uid]\n",
    "    print(structure_set_paths[structure_set_uid])"
   ]
  },
  {
   "cell_type": "markdown",
   "metadata": {},
   "source": [
    "# Display Results"
   ]
  },
  {
   "cell_type": "code",
   "execution_count": null,
   "metadata": {},
   "outputs": [],
   "source": [
    "for (\n",
    "    ct_uid, x_grid, y_grid, input_array, output_array\n",
    ") in datasets['testing'].take(1):\n",
    "    \n",
    "    ct_uid = ct_uid.numpy().decode()\n",
    "    \n",
    "    display.display(display.Markdown(f\"## {ct_uid}\"))\n",
    "    diagnostic_plotting(x_grid, y_grid, input_array, output_array)\n",
    "    plt.show()\n",
    "    display_paths(ct_uid)"
   ]
  },
  {
   "cell_type": "code",
   "execution_count": null,
   "metadata": {},
   "outputs": [],
   "source": [
    "for (\n",
    "    ct_uid, x_grid, y_grid, input_array, output_array\n",
    ") in datasets['validation'].take(1):\n",
    "    \n",
    "    ct_uid = ct_uid.numpy().decode()\n",
    "    \n",
    "    display.display(display.Markdown(f\"## {ct_uid}\"))\n",
    "    diagnostic_plotting(x_grid, y_grid, input_array, output_array)\n",
    "    plt.show()\n",
    "    display_paths(ct_uid)"
   ]
  },
  {
   "cell_type": "code",
   "execution_count": null,
   "metadata": {},
   "outputs": [],
   "source": [
    "for (\n",
    "    ct_uid, x_grid, y_grid, input_array, output_array\n",
    ") in datasets['training'].take(10):\n",
    "    \n",
    "    ct_uid = ct_uid.numpy().decode()\n",
    "    \n",
    "    display.display(display.Markdown(f\"## {ct_uid}\"))\n",
    "    diagnostic_plotting(x_grid, y_grid, input_array, output_array)\n",
    "    plt.show()\n",
    "    display_paths(ct_uid)"
   ]
  }
 ],
 "metadata": {
  "kernelspec": {
   "display_name": "pymedphys-master",
   "language": "python",
   "name": "pymedphys-master"
  },
  "language_info": {
   "codemirror_mode": {
    "name": "ipython",
    "version": 3
   },
   "file_extension": ".py",
   "mimetype": "text/x-python",
   "name": "python",
   "nbconvert_exporter": "python",
   "pygments_lexer": "ipython3",
   "version": "3.7.7"
  }
 },
 "nbformat": 4,
 "nbformat_minor": 4
}
