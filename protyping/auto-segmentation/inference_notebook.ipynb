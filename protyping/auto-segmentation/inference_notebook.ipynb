{
 "cells": [
  {
   "cell_type": "code",
   "execution_count": null,
   "metadata": {},
   "outputs": [],
   "source": [
    "import tensorflow as tf\n",
    "physical_devices = tf.config.experimental.list_physical_devices('GPU')\n",
    "assert len(physical_devices) > 0, \"Not enough GPU hardware devices available\"\n",
    "config = tf.config.experimental.set_memory_growth(physical_devices[0], True)"
   ]
  },
  {
   "cell_type": "code",
   "execution_count": null,
   "metadata": {},
   "outputs": [],
   "source": [
    "DATA_MEAN = 168.3172158554484\n",
    "DATA_STD = 340.21625683608994\n",
    "OUTPUT_CHANNELS = 1\n",
    "DATA_PATH = \"/home/matthew/Documents/unet_model/6375_images/\"\n",
    "WEIGHTS = \"/home/matthew/Documents/unet_model/dsc_after_bce_old.hdf5\""
   ]
  },
  {
   "cell_type": "code",
   "execution_count": null,
   "metadata": {},
   "outputs": [],
   "source": [
    "import unet as unet\n",
    "\n",
    "model = unet.model(output_channels=OUTPUT_CHANNELS)\n",
    "model.compile()\n",
    "model.load_weights(WEIGHTS)"
   ]
  },
  {
   "cell_type": "code",
   "execution_count": null,
   "metadata": {},
   "outputs": [],
   "source": [
    "import glob\n",
    "\n",
    "dcm_paths = glob.glob(DATA_PATH + \"/*.dcm\")"
   ]
  },
  {
   "cell_type": "code",
   "execution_count": null,
   "metadata": {},
   "outputs": [],
   "source": [
    "import pydicom\n",
    "\n",
    "dcms = [pydicom.dcmread(path, force=True) for path in dcm_paths]"
   ]
  },
  {
   "cell_type": "code",
   "execution_count": null,
   "metadata": {},
   "outputs": [],
   "source": [
    "sorted_dcms = sorted(dcms, key=lambda dcm: dcm.SliceLocation)"
   ]
  },
  {
   "cell_type": "code",
   "execution_count": null,
   "metadata": {},
   "outputs": [],
   "source": [
    "def get_image_instance(dcm):\n",
    "    try:\n",
    "        dcm.file_meta.TransferSyntaxUID\n",
    "    except AttributeError:\n",
    "         dcm.file_meta.TransferSyntaxUID = pydicom.uid.ImplicitVRLittleEndian\n",
    "    return dcm.pixel_array"
   ]
  },
  {
   "cell_type": "code",
   "execution_count": null,
   "metadata": {},
   "outputs": [],
   "source": [
    "import numpy as np\n",
    "\n",
    "imgs = np.array([get_image_instance(dcm) for dcm in sorted_dcms])\n",
    "imgs = imgs[..., np.newaxis]\n",
    "imgs = (imgs - DATA_MEAN) / DATA_STD"
   ]
  },
  {
   "cell_type": "code",
   "execution_count": null,
   "metadata": {},
   "outputs": [],
   "source": [
    "predicts = model.predict(x=imgs, batch_size=1, verbose=1)\n",
    "predicts = np.round(predicts)"
   ]
  },
  {
   "cell_type": "code",
   "execution_count": null,
   "metadata": {},
   "outputs": [],
   "source": [
    "from pymedphys._experimental.autosegmentation import mask\n",
    "from matplotlib import pyplot as plt"
   ]
  },
  {
   "cell_type": "code",
   "execution_count": null,
   "metadata": {},
   "outputs": [],
   "source": [
    "index = 1\n",
    "dcm = sorted_dcms[index]\n",
    "pred = predicts[index]\n",
    "\n",
    "z = dcm.SliceLocation\n",
    "\n",
    "x_grid, y_grid, ct_size = mask.get_grid(dcm)\n",
    "slice_contours = mask.get_contours_from_mask(x_grid, y_grid, pred[...,0])\n",
    "\n",
    "slice_contours_xyz = []\n",
    "for roi in slice_contours:\n",
    "    roi_xyz = []\n",
    "    for xy_point in roi:\n",
    "        xyz_point = [*xy_point, z]\n",
    "        roi_xyz = roi_xyz + xyz_point\n",
    "    slice_contours_xyz.append(roi_xyz)"
   ]
  },
  {
   "cell_type": "code",
   "execution_count": null,
   "metadata": {},
   "outputs": [],
   "source": [
    "for roi in slice_contours_xyz: \n",
    "    print(roi)\n",
    "    print(\"-------------\")"
   ]
  },
  {
   "cell_type": "code",
   "execution_count": null,
   "metadata": {},
   "outputs": [],
   "source": []
  }
 ],
 "metadata": {
  "kernelspec": {
   "display_name": "pymedphys",
   "language": "python",
   "name": "pymedphys"
  },
  "language_info": {
   "codemirror_mode": {
    "name": "ipython",
    "version": 3
   },
   "file_extension": ".py",
   "mimetype": "text/x-python",
   "name": "python",
   "nbconvert_exporter": "python",
   "pygments_lexer": "ipython3",
   "version": "3.7.5"
  }
 },
 "nbformat": 4,
 "nbformat_minor": 4
}
