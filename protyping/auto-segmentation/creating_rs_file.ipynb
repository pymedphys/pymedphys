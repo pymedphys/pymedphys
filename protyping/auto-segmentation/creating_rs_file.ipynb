{
 "cells": [
  {
   "cell_type": "code",
   "execution_count": null,
   "metadata": {},
   "outputs": [],
   "source": [
    "import datetime\n",
    "import pydicom\n",
    "import glob\n",
    "from pydicom.dataset import Dataset, FileDataset, FileMetaDataset\n",
    "from pydicom.sequence import Sequence"
   ]
  },
  {
   "cell_type": "code",
   "execution_count": null,
   "metadata": {},
   "outputs": [],
   "source": [
    "#DATA_PATH = \"/home/matthew/Documents/dicom_networking/DICOM_EXAMPLE_modified\"\n",
    "DATA_PATH = \"/home/matthew/Documents/unet_model/6375_images/\""
   ]
  },
  {
   "cell_type": "code",
   "execution_count": null,
   "metadata": {},
   "outputs": [],
   "source": [
    "dcm_paths = glob.glob(DATA_PATH + \"/*\")"
   ]
  },
  {
   "cell_type": "code",
   "execution_count": null,
   "metadata": {},
   "outputs": [],
   "source": [
    "dcms = [pydicom.dcmread(path, force=False) for path in dcm_paths]\n",
    "\n",
    "try:\n",
    "    dcms = sorted(dcms, key=lambda dcm: dcm.SliceLocation)\n",
    "except AttributeError:\n",
    "    dcms = sorted(dcms, key=lambda dcm: dcm.SOPInstanceUID)\n",
    "\n",
    "dcm = dcms[0]"
   ]
  },
  {
   "cell_type": "code",
   "execution_count": null,
   "metadata": {},
   "outputs": [],
   "source": [
    "file_meta = FileMetaDataset()\n",
    "file_meta.FileMetaInformationVersion = dcm.file_meta.FileMetaInformationVersion\n",
    "file_meta.MediaStorageSOPClassUID = 'RT Structure Set Storage'\n",
    "file_meta.MediaStorageSOPInstanceUID = \"Anonymous\" # TODO\n",
    "file_meta.TransferSyntaxUID = dcm.file_meta.TransferSyntaxUID \n",
    "file_meta.ImplementationClassUID = dcm.file_meta.ImplementationClassUID \n",
    "file_meta.ImplementationVersionName = dcm.file_meta.ImplementationVersionName"
   ]
  },
  {
   "cell_type": "code",
   "execution_count": null,
   "metadata": {},
   "outputs": [],
   "source": [
    "ds = Dataset()\n",
    "ds.file_meta = file_meta\n",
    "ds.is_implicit_VR = True\n",
    "ds.is_little_endian = True\n",
    "ds.fix_meta_info(enforce_standard=True)"
   ]
  },
  {
   "cell_type": "code",
   "execution_count": null,
   "metadata": {},
   "outputs": [],
   "source": [
    "dt = datetime.datetime.now()\n",
    "\n",
    "ds.InstanceCreationDate = dt.strftime('%Y%m%d')\n",
    "ds.InstanceCreationTime = dt.strftime('%H%M%S.%f')\n",
    "ds.InstanceCreatorUID = 'Anonymous' # TODO\n",
    "ds.SOPInstanceUID = file_meta.MediaStorageSOPInstanceUID \n",
    "ds.SOPClassUID = file_meta.MediaStorageSOPClassUID\n",
    "ds.StudyDate = dcm.StudyDate\n",
    "ds.StudyTime = dcm.StudyTime \n",
    "ds.AccessionNumber = dcm.AccessionNumber \n",
    "ds.Modality = 'RTSTRUCT'\n",
    "ds.Manufacturer = dcm.Manufacturer\n",
    "ds.ReferringPhysicianName = dcm.ReferringPhysicianName\n",
    "ds.InstitutionalDepartmentName = 'Anonymous' # TODO\n",
    "ds.ManufacturerModelName = dcm.ManufacturerModelName  \n",
    "ds.PatientName = dcm.PatientName \n",
    "ds.PatientID = dcm.PatientID \n",
    "ds.PatientBirthDate = dcm.PatientBirthDate \n",
    "ds.PatientSex = dcm.PatientSex \n",
    "ds.StudyInstanceUID = dcm.StudyInstanceUID\n",
    "ds.StudyID = 'Anonymous' # TODO\n",
    "ds.SeriesNumber = \"1\" # TODO\n",
    "ds.StructureSetLabel = 'STRCTRLABEL'  \n",
    "ds.StructureSetName  = 'STRCTRNAME'\n",
    "ds.StructureSetDate = ds.InstanceCreationDate\n",
    "ds.StructureSetTime = ds.InstanceCreationTime"
   ]
  },
  {
   "cell_type": "code",
   "execution_count": null,
   "metadata": {},
   "outputs": [],
   "source": [
    "# Referenced Frame of Reference Sequence\n",
    "refd_frame_of_ref_sequence = Sequence()\n",
    "ds.ReferencedFrameOfReferenceSequence = refd_frame_of_ref_sequence\n",
    "\n",
    "# Referenced Frame of Reference Sequence: Referenced Frame of Reference 1\n",
    "refd_frame_of_ref1 = Dataset()\n",
    "refd_frame_of_ref1.FrameOfReferenceUID = dcm.FrameOfReferenceUID\n",
    "\n",
    "# RT Referenced Study Sequence\n",
    "rt_refd_study_sequence = Sequence()\n",
    "refd_frame_of_ref1.RTReferencedStudySequence = rt_refd_study_sequence\n",
    "\n",
    "# RT Referenced Study Sequence: RT Referenced Study 1\n",
    "rt_refd_study1 = Dataset()\n",
    "rt_refd_study1.ReferencedSOPClassUID = file_meta.MediaStorageSOPClassUID \n",
    "rt_refd_study1.ReferencedSOPInstanceUID = '2.25.152307708682568459392858274513677418485' # TODO\n",
    "\n",
    "# RT Referenced Series Sequence\n",
    "rt_refd_series_sequence = Sequence()\n",
    "rt_refd_study1.RTReferencedSeriesSequence = rt_refd_series_sequence\n",
    "\n",
    "# RT Referenced Series Sequence: RT Referenced Series 1\n",
    "rt_refd_series1 = Dataset()\n",
    "rt_refd_series1.SeriesInstanceUID = dcm.SeriesInstanceUID\n",
    "\n",
    "# Contour Image Sequence\n",
    "contour_image_sequence = Sequence()\n",
    "rt_refd_series1.ContourImageSequence = contour_image_sequence\n",
    "\n",
    "for dcm in dcms:\n",
    "    contour_image = Dataset()\n",
    "    contour_image.ReferencedSOPClassUID = dcm.SOPClassUID\n",
    "    contour_image.ReferencedSOPInstanceUID = dcm.SOPInstanceUID\n",
    "    contour_image_sequence.append(contour_image)\n",
    "    \n",
    "\n",
    "rt_refd_series_sequence.append(rt_refd_series1)\n",
    "rt_refd_study_sequence.append(rt_refd_study1)\n",
    "refd_frame_of_ref_sequence.append(refd_frame_of_ref1)"
   ]
  },
  {
   "cell_type": "code",
   "execution_count": null,
   "metadata": {},
   "outputs": [],
   "source": [
    "# Structure Set ROI Sequence\n",
    "structure_set_roi_sequence = Sequence()\n",
    "ds.StructureSetROISequence = structure_set_roi_sequence\n",
    "\n",
    "# Structure Set ROI Sequence: Structure Set ROI 1\n",
    "structure_set_roi1 = Dataset()\n",
    "structure_set_roi1.ROINumber = \"27\"\n",
    "structure_set_roi1.ReferencedFrameOfReferenceUID = dcm.FrameOfReferenceUID\n",
    "structure_set_roi1.ROIName = 'Vacbag'\n",
    "structure_set_roi1.ROIGenerationAlgorithm = 'AUTOMATIC'\n",
    "structure_set_roi_sequence.append(structure_set_roi1)"
   ]
  },
  {
   "cell_type": "code",
   "execution_count": null,
   "metadata": {},
   "outputs": [],
   "source": [
    "# ROI Contour Sequence\n",
    "roi_contour_sequence = Sequence()\n",
    "ds.ROIContourSequence = roi_contour_sequence\n",
    "\n",
    "# ROI Contour Sequence: ROI Contour 1\n",
    "roi_contour1 = Dataset()\n",
    "roi_contour1.ROIDisplayColor = [128, 128, 255]\n",
    "\n",
    "# Contour Sequence\n",
    "contour_sequence = Sequence()\n",
    "roi_contour1.ContourSequence = contour_sequence\n",
    "\n",
    "\n",
    "for dcm in dcms:\n",
    "    \n",
    "    z = dcm.SliceLocation\n",
    "\n",
    "    # Contour Sequence: Contour 1\n",
    "    contour1 = Dataset()\n",
    "\n",
    "    # Contour Image Sequence\n",
    "    contour_image_sequence = Sequence()\n",
    "    contour1.ContourImageSequence = contour_image_sequence\n",
    "\n",
    "    # Contour Image Sequence: Contour Image 1\n",
    "    contour_image1 = Dataset()\n",
    "    contour_image1.ReferencedSOPClassUID = 'CT Image Storage'\n",
    "    contour_image1.ReferencedSOPInstanceUID = '2.25.152306916480171479263212437161921183733.1' # TODO\n",
    "    contour_image_sequence.append(contour_image1)\n",
    "\n",
    "    contour1.ContourGeometricType = 'CLOSED_PLANAR'\n",
    "    contour1.ContourData = [-100.5, -100.5, z, -99.9, -100.5, z] # TODO - GET CONTOUR DATA FROM INFERENCE\n",
    "    contour1.NumberOfContourPoints = len(contour1.ContourData) // 3\n",
    "    contour_sequence.append(contour1)\n",
    "\n",
    "\n",
    "roi_contour1.ReferencedROINumber = structure_set_roi1.ROINumber\n",
    "roi_contour_sequence.append(roi_contour1)\n"
   ]
  },
  {
   "cell_type": "code",
   "execution_count": null,
   "metadata": {},
   "outputs": [],
   "source": [
    "# RT ROI Observations Sequence\n",
    "rtroi_observations_sequence = Sequence()\n",
    "ds.RTROIObservationsSequence = rtroi_observations_sequence\n",
    "\n",
    "# RT ROI Observations Sequence: RT ROI Observations 1\n",
    "rtroi_observations1 = Dataset()\n",
    "rtroi_observations1.ObservationNumber = structure_set_roi1.ROINumber\n",
    "rtroi_observations1.ReferencedROINumber = structure_set_roi1.ROINumber\n",
    "rtroi_observations1.RTROIInterpretedType = 'ORGAN'\n",
    "rtroi_observations1.ROIInterpreter = ''\n",
    "rtroi_observations_sequence.append(rtroi_observations1)"
   ]
  },
  {
   "cell_type": "code",
   "execution_count": null,
   "metadata": {},
   "outputs": [],
   "source": [
    "for x in ds: print(x)"
   ]
  },
  {
   "cell_type": "code",
   "execution_count": null,
   "metadata": {},
   "outputs": [],
   "source": []
  }
 ],
 "metadata": {
  "kernelspec": {
   "display_name": "pymedphys",
   "language": "python",
   "name": "pymedphys"
  },
  "language_info": {
   "codemirror_mode": {
    "name": "ipython",
    "version": 3
   },
   "file_extension": ".py",
   "mimetype": "text/x-python",
   "name": "python",
   "nbconvert_exporter": "python",
   "pygments_lexer": "ipython3",
   "version": "3.7.5"
  }
 },
 "nbformat": 4,
 "nbformat_minor": 4
}
