{
 "cells": [
  {
   "cell_type": "code",
   "execution_count": null,
   "metadata": {},
   "outputs": [],
   "source": [
    "import pathlib\n",
    "import itertools\n",
    "import functools\n",
    "\n",
    "import numpy as np\n",
    "import matplotlib.pyplot as plt\n",
    "\n",
    "from IPython import display\n",
    "\n",
    "import pydicom\n",
    "\n",
    "from pymedphys._dicom import dose as pmp_dose\n",
    "from pymedphys._dicom import rtplan as pmp_plan"
   ]
  },
  {
   "cell_type": "code",
   "execution_count": null,
   "metadata": {},
   "outputs": [],
   "source": [
    "@functools.lru_cache()\n",
    "def load_dicom_file(path):\n",
    "    return pydicom.read_file(path, force=True)"
   ]
  },
  {
   "cell_type": "code",
   "execution_count": null,
   "metadata": {},
   "outputs": [],
   "source": [
    "DATA_ROOT = pathlib.Path(r'S:\\Physics\\DoseCHECK\\Commissioning\\MLC test field Results\\DICOM Comparisons\\DICOM Exports')"
   ]
  },
  {
   "cell_type": "code",
   "execution_count": null,
   "metadata": {},
   "outputs": [],
   "source": [
    "systems = [\n",
    "    path.name for path in DATA_ROOT.glob('*')\n",
    "]\n",
    "\n",
    "systems"
   ]
  },
  {
   "cell_type": "code",
   "execution_count": null,
   "metadata": {},
   "outputs": [],
   "source": [
    "dose_check = DATA_ROOT.joinpath('DoseCHECK')\n",
    "models = [\n",
    "    path.name for path in dose_check.glob('*')\n",
    "]\n",
    "models"
   ]
  },
  {
   "cell_type": "code",
   "execution_count": null,
   "metadata": {},
   "outputs": [],
   "source": [
    "energies_to_check = {'06FFF', '10FFF'}\n",
    "fields_to_check = {'3ABUT', '7SegA', '10x10'}\n",
    "\n",
    "plans_to_check = {\n",
    "    (energy, field): f'MC{energy}_{field}'\n",
    "    for energy, field in itertools.product(energies_to_check, fields_to_check)\n",
    "}\n",
    "\n",
    "plans_to_check"
   ]
  },
  {
   "cell_type": "code",
   "execution_count": null,
   "metadata": {},
   "outputs": [],
   "source": [
    "monaco_paths = {\n",
    "    key: DATA_ROOT.joinpath('Monaco', plan_name, 'dose.dcm')\n",
    "    for key, plan_name in plans_to_check.items()\n",
    "}\n",
    "\n",
    "monaco_paths"
   ]
  },
  {
   "cell_type": "code",
   "execution_count": null,
   "metadata": {},
   "outputs": [],
   "source": [
    "plan_files = {\n",
    "    key: DATA_ROOT.joinpath('Monaco', plan_name, 'plan.dcm')\n",
    "    for key, plan_name in plans_to_check.items()\n",
    "}\n",
    "\n",
    "plan_files"
   ]
  },
  {
   "cell_type": "code",
   "execution_count": null,
   "metadata": {},
   "outputs": [],
   "source": [
    "dosecheck_paths = {\n",
    "    key: {\n",
    "        model_name: DATA_ROOT.joinpath('DoseCHECK', model_name, plan_name, 'dose.dcm')\n",
    "        for model_name in models\n",
    "    }\n",
    "    for key, plan_name in plans_to_check.items()\n",
    "}\n",
    "\n",
    "dosecheck_paths"
   ]
  },
  {
   "cell_type": "code",
   "execution_count": null,
   "metadata": {},
   "outputs": [],
   "source": [
    "depth_lookup = 100\n",
    "\n",
    "def plot_crossplane_profile_at_depth(dose_path, plan_path, depth_lookup, label):\n",
    "    try:\n",
    "        dcm_dose = load_dicom_file(dose_path)\n",
    "    except FileNotFoundError as e:\n",
    "        print(e)\n",
    "        return\n",
    "    \n",
    "    dcm_plan = load_dicom_file(plan_path)\n",
    "    \n",
    "    surface_point = pmp_plan.get_surface_entry_point_with_fallback(dcm_plan)\n",
    "    depth_adjust = surface_point.y\n",
    "    y_lookup = depth_lookup + depth_adjust\n",
    "    \n",
    "    (z, y, x), dose = pymedphys.dicom.zyx_and_dose_from_dataset(dcm_dose)\n",
    "\n",
    "    depth_index = np.where(y==y_lookup)[0][0]\n",
    "    z_index = np.where(z==0)[0][0]\n",
    "    \n",
    "    plt.plot(x, dose[z_index, depth_index, :], label=label)\n",
    "\n",
    "\n",
    "for key, monaco_path in monaco_paths.items():\n",
    "    energy = key[0]\n",
    "    plan_name = key[1]\n",
    "    display.display(display.Markdown(f\"## {energy} | {plan_name}\"))\n",
    "    \n",
    "    print(monaco_path)\n",
    "    \n",
    "    plt.figure(figsize=(12,5))    \n",
    "    plot_crossplane_profile_at_depth(monaco_path, plan_files[key], depth_lookup, \"Monaco\")\n",
    "\n",
    "    \n",
    "    for model_name, dose_check_path in dosecheck_paths[key].items():\n",
    "        print(dose_check_path)\n",
    "        plot_crossplane_profile_at_depth(dose_check_path, plan_files[key], depth_lookup, model_name)\n",
    "    \n",
    "    plt.xlim([-100, 100])\n",
    "    plt.legend()\n",
    "    plt.show()"
   ]
  },
  {
   "cell_type": "code",
   "execution_count": null,
   "metadata": {},
   "outputs": [],
   "source": []
  }
 ],
 "metadata": {
  "kernelspec": {
   "display_name": "pymedphys-master",
   "language": "python",
   "name": "pymedphys-master"
  },
  "language_info": {
   "codemirror_mode": {
    "name": "ipython",
    "version": 3
   },
   "file_extension": ".py",
   "mimetype": "text/x-python",
   "name": "python",
   "nbconvert_exporter": "python",
   "pygments_lexer": "ipython3",
   "version": "3.7.0"
  }
 },
 "nbformat": 4,
 "nbformat_minor": 4
}
