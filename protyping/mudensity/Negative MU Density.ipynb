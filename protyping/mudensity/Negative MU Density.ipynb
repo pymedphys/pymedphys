{
 "cells": [
  {
   "cell_type": "code",
   "execution_count": null,
   "metadata": {},
   "outputs": [],
   "source": [
    "import numpy as np\n",
    "import matplotlib.pyplot as plt"
   ]
  },
  {
   "cell_type": "code",
   "execution_count": null,
   "metadata": {},
   "outputs": [],
   "source": [
    "import pymedphys"
   ]
  },
  {
   "cell_type": "code",
   "execution_count": null,
   "metadata": {},
   "outputs": [],
   "source": [
    "filepath = pymedphys.data_path(\"negative-mu-density.trf\")"
   ]
  },
  {
   "cell_type": "code",
   "execution_count": null,
   "metadata": {},
   "outputs": [],
   "source": [
    "delivery = pymedphys.Delivery.from_logfile(filepath)\n",
    "delivery = delivery._filter_cps()"
   ]
  },
  {
   "cell_type": "code",
   "execution_count": null,
   "metadata": {},
   "outputs": [],
   "source": [
    "LEAF_PAIR_WIDTHS = (10,) + (5,) * 78 + (10,)\n",
    "MAX_LEAF_GAP = 410\n",
    "GRID_RESOLUTION = 1\n",
    "GRID = pymedphys.mudensity.grid(\n",
    "    max_leaf_gap=MAX_LEAF_GAP,\n",
    "    grid_resolution=GRID_RESOLUTION,\n",
    "    leaf_pair_widths=LEAF_PAIR_WIDTHS,\n",
    ")\n",
    "COORDS = (GRID[\"jaw\"], GRID[\"mlc\"])"
   ]
  },
  {
   "cell_type": "code",
   "execution_count": null,
   "metadata": {},
   "outputs": [],
   "source": [
    "mudensity = delivery.mudensity(leaf_pair_widths=LEAF_PAIR_WIDTHS, grid_resolution=GRID_RESOLUTION, max_leaf_gap=MAX_LEAF_GAP)"
   ]
  },
  {
   "cell_type": "code",
   "execution_count": null,
   "metadata": {},
   "outputs": [],
   "source": [
    "plt.figure(figsize=(10,10))\n",
    "pymedphys.mudensity.display(GRID, mudensity)"
   ]
  },
  {
   "cell_type": "code",
   "execution_count": null,
   "metadata": {},
   "outputs": [],
   "source": [
    "jaw = np.array(delivery.jaw)"
   ]
  },
  {
   "cell_type": "code",
   "execution_count": null,
   "metadata": {},
   "outputs": [],
   "source": [
    "mu = np.array(delivery.mu)"
   ]
  },
  {
   "cell_type": "code",
   "execution_count": null,
   "metadata": {},
   "outputs": [],
   "source": [
    "mlc = np.array(delivery.mlc)\n",
    "np.shape(mlc)"
   ]
  },
  {
   "cell_type": "code",
   "execution_count": null,
   "metadata": {},
   "outputs": [],
   "source": [
    "for i in range(40,80):\n",
    "    plt.figure()\n",
    "    plt.plot(mu, -mlc[:, i, 0])\n",
    "    plt.plot(mu, mlc[:, i, 1])\n",
    "    plt.title(f\"Leaf pair {i+1}\")\n",
    "    plt.xlabel('Cumulative MU')\n",
    "    plt.ylabel('MLC position according to trf logfile (mm)')\n",
    "    plt.show()"
   ]
  }
 ],
 "metadata": {
  "kernelspec": {
   "display_name": "pymedphys-master",
   "language": "python",
   "name": "pymedphys-master"
  },
  "language_info": {
   "codemirror_mode": {
    "name": "ipython",
    "version": 3
   },
   "file_extension": ".py",
   "mimetype": "text/x-python",
   "name": "python",
   "nbconvert_exporter": "python",
   "pygments_lexer": "ipython3",
   "version": "3.7.0"
  }
 },
 "nbformat": 4,
 "nbformat_minor": 4
}
