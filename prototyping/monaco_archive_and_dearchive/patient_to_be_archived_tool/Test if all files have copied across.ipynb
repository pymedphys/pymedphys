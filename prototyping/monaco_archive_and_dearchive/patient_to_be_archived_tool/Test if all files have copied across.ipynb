{
 "cells": [
  {
   "cell_type": "code",
   "execution_count": null,
   "metadata": {},
   "outputs": [],
   "source": [
    "import os\n",
    "from glob import glob"
   ]
  },
  {
   "cell_type": "code",
   "execution_count": null,
   "metadata": {},
   "outputs": [],
   "source": [
    "to_be_archived = '\\\\\\\\monacoda\\\\FocalData\\\\ToBeArchived'\n",
    "archive_location = '\\\\\\\\utilsvr\\\\PhysBack\\\\MONACO_ARCHIVE_1'"
   ]
  },
  {
   "cell_type": "code",
   "execution_count": null,
   "metadata": {},
   "outputs": [],
   "source": [
    "all_files_in_to_be_archived = glob(os.path.join(to_be_archived, '**'), recursive=True)"
   ]
  },
  {
   "cell_type": "code",
   "execution_count": null,
   "metadata": {},
   "outputs": [],
   "source": [
    "for filepath in all_files_in_to_be_archived[1::]:\n",
    "    relative_path = os.path.relpath(filepath, to_be_archived)\n",
    "    archive_path = os.path.join(archive_location, relative_path)\n",
    "    \n",
    "    if os.path.exists(archive_path):\n",
    "        if os.path.isfile(archive_path):\n",
    "            if os.path.getsize(archive_path) != os.path.getsize(filepath):\n",
    "                print(\"File size not equal: {}\".format(archive_path))\n",
    "    else:\n",
    "        print(\"Does not exist: {}\".format(archive_path))\n",
    "\n",
    "        \n",
    "print(\"Checking complete\")"
   ]
  }
 ],
 "metadata": {
  "kernelspec": {
   "display_name": "Python 3",
   "language": "python",
   "name": "python3"
  },
  "language_info": {
   "codemirror_mode": {
    "name": "ipython",
    "version": 3
   },
   "file_extension": ".py",
   "mimetype": "text/x-python",
   "name": "python",
   "nbconvert_exporter": "python",
   "pygments_lexer": "ipython3",
   "version": "3.6.6"
  }
 },
 "nbformat": 4,
 "nbformat_minor": 2
}
