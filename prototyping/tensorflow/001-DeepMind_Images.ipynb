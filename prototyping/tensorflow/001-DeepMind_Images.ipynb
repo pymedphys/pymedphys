{
 "cells": [
  {
   "cell_type": "markdown",
   "metadata": {
    "colab_type": "text",
    "id": "view-in-github"
   },
   "source": [
    "<a href=\"https://colab.research.google.com/github/pymedphys/pymedphys/blob/master/examples/protyping/tensorflow/001-DeepMind_Images.ipynb\" target=\"_parent\"><img src=\"https://colab.research.google.com/assets/colab-badge.svg\" alt=\"Open In Colab\"/></a>"
   ]
  },
  {
   "cell_type": "code",
   "execution_count": null,
   "metadata": {
    "colab": {},
    "colab_type": "code",
    "id": "smtp_dgDUB0x"
   },
   "outputs": [],
   "source": [
    "# !pip install pynrrd\n",
    "\n",
    "# !git clone https://github.com/deepmind/tcia-ct-scan-dataset.git\n",
    "\n",
    "# !curl -s https://packagecloud.io/install/repositories/github/git-lfs/script.deb.sh | sudo bash\n",
    "# !sudo apt install git-lfs\n",
    "\n",
    "# !cd tcia-ct-scan-dataset && git lfs pull"
   ]
  },
  {
   "cell_type": "code",
   "execution_count": null,
   "metadata": {
    "colab": {},
    "colab_type": "code",
    "id": "CdF_1jruFr8u"
   },
   "outputs": [],
   "source": [
    "# !pip install tf-nightly"
   ]
  },
  {
   "cell_type": "code",
   "execution_count": null,
   "metadata": {
    "colab": {
     "base_uri": "https://localhost:8080/",
     "height": 34
    },
    "colab_type": "code",
    "id": "wrodJ26tUe3S",
    "outputId": "95ba0706-94fd-497a-c911-cc735c4c8d45"
   },
   "outputs": [],
   "source": [
    "import os\n",
    "import pathlib\n",
    "import functools\n",
    "import random\n",
    "\n",
    "import tqdm\n",
    "\n",
    "import matplotlib.pyplot as plt\n",
    "import numpy as np\n",
    "\n",
    "import nrrd\n",
    "\n",
    "# %tensorflow_version 2.x\n",
    "import tensorflow as tf\n",
    "tf.__version__  # Expect '2.2.0-dev20200311'"
   ]
  },
  {
   "cell_type": "code",
   "execution_count": null,
   "metadata": {
    "colab": {
     "base_uri": "https://localhost:8080/",
     "height": 136
    },
    "colab_type": "code",
    "id": "pWpz0FLSImkl",
    "outputId": "138f0b5f-4289-497d-cb1c-35d9152b5557"
   },
   "outputs": [],
   "source": [
    "resolver = tf.distribute.cluster_resolver.TPUClusterResolver(tpu='grpc://' + os.environ['COLAB_TPU_ADDR'])\n",
    "tf.config.experimental_connect_to_cluster(resolver)\n",
    "tf.tpu.experimental.initialize_tpu_system(resolver)"
   ]
  },
  {
   "cell_type": "code",
   "execution_count": null,
   "metadata": {
    "colab": {
     "base_uri": "https://localhost:8080/",
     "height": 595
    },
    "colab_type": "code",
    "id": "kLmqnl_pIq5V",
    "outputId": "4c40ead3-094e-4bbe-e34e-c75e6f5587b1"
   },
   "outputs": [],
   "source": [
    "strategy = tf.distribute.experimental.TPUStrategy(resolver)"
   ]
  },
  {
   "cell_type": "code",
   "execution_count": null,
   "metadata": {
    "colab": {},
    "colab_type": "code",
    "id": "2hXVAX7GY8_8"
   },
   "outputs": [],
   "source": [
    "data_root = pathlib.Path('tcia-ct-scan-dataset/nrrds')\n",
    "test_data_roots = list(data_root.glob('test/*/*'))\n",
    "validation_data_roots = list(data_root.glob('validation/*/*'))"
   ]
  },
  {
   "cell_type": "code",
   "execution_count": null,
   "metadata": {
    "colab": {},
    "colab_type": "code",
    "id": "rS1odfgTZi9t"
   },
   "outputs": [],
   "source": [
    "# all_ct_files = list(data_root.glob('*/*/*/CT_IMAGE.nrrd'))\n",
    "# all_ct_shapes = []\n",
    "\n",
    "# for ct_file in tqdm.tqdm(all_ct_files):\n",
    "#     data, header = nrrd.read(ct_file)\n",
    "#     all_ct_shapes.append(np.shape(data))\n",
    "\n",
    "# all_ct_shapes"
   ]
  },
  {
   "cell_type": "code",
   "execution_count": null,
   "metadata": {
    "colab": {},
    "colab_type": "code",
    "id": "7GYTX2EFaIBt"
   },
   "outputs": [],
   "source": [
    "GRID_SIZE = 512\n",
    "Z_CONTEXT_DISTANCE = 3\n",
    "BATCH_SIZE = 8\n",
    "\n",
    "TENSOR_TYPE = tf.bfloat16"
   ]
  },
  {
   "cell_type": "code",
   "execution_count": null,
   "metadata": {
    "colab": {},
    "colab_type": "code",
    "id": "ZyvEd_sUcdqI"
   },
   "outputs": [],
   "source": [
    "# @functools.lru_cache()  # This uses too much RAM\n",
    "def load_data(path):\n",
    "    return nrrd.read(path)"
   ]
  },
  {
   "cell_type": "code",
   "execution_count": null,
   "metadata": {
    "colab": {},
    "colab_type": "code",
    "id": "ZkHgtz8ycHuw"
   },
   "outputs": [],
   "source": [
    "def get_random_dataset(paths, structure_name, z_context_distance, tensor_type):\n",
    "    while True:\n",
    "        data_path = random.choice(paths)\n",
    "        structure_data, structure_header = load_data(data_path.joinpath(f'segmentations/{structure_name}.nrrd'))\n",
    "\n",
    "        slices = np.shape(structure_data)[-1]\n",
    "        slice_choice = random.randint(z_context_distance, slices - 1 - z_context_distance)\n",
    "\n",
    "        to_contain_structure = bool(random.randint(0, 1))\n",
    "        no_structure_found = np.all(structure_data[:, :, slice_choice] == 0)\n",
    "\n",
    "        if to_contain_structure != no_structure_found:\n",
    "            break\n",
    "\n",
    "    ct_data, ct_header = load_data(data_path.joinpath('CT_IMAGE.nrrd'))\n",
    "\n",
    "    slice_to_use = slice(\n",
    "        slice_choice - z_context_distance,\n",
    "        slice_choice + z_context_distance + 1\n",
    "    )\n",
    "    ct_slices = ct_data[:, :, slice_to_use]\n",
    "    structure_slice = structure_data[:, :, slice_choice]\n",
    "\n",
    "    model_input = tf.convert_to_tensor(ct_slices[:,:,:,None], dtype=tensor_type)\n",
    "    model_output = tf.convert_to_tensor(structure_slice[:,:,None,None], dtype=tensor_type)\n",
    "\n",
    "    return model_input, model_output\n",
    "\n",
    "\n",
    "# get_random_dataset(test_data_roots, 'Spinal-Cord', Z_CONTEXT_DISTANCE, TENSOR_TYPE)"
   ]
  },
  {
   "cell_type": "code",
   "execution_count": null,
   "metadata": {
    "colab": {},
    "colab_type": "code",
    "id": "_mZcKQX1g-2i"
   },
   "outputs": [],
   "source": [
    "def create_dataset_pipeline(paths, batch_size, grid_size, structure_name, z_context_distance, tensor_type):\n",
    "    def dataset_generetor():\n",
    "        yield get_random_dataset(paths, structure_name, z_context_distance, tensor_type)\n",
    "\n",
    "    num_input_slices = z_context_distance * 2 + 1\n",
    "\n",
    "    dataset = tf.data.Dataset.from_generator(\n",
    "        dataset_generetor,\n",
    "        (tensor_type, tensor_type),\n",
    "        (\n",
    "            tf.TensorShape([grid_size, grid_size, num_input_slices, 1]), \n",
    "            tf.TensorShape([grid_size, grid_size, 1, 1])\n",
    "        )\n",
    "    )\n",
    "\n",
    "    dataset = dataset.repeat().batch(batch_size)\n",
    "\n",
    "    return dataset\n",
    "\n",
    "\n",
    "create_dataset = functools.partial(\n",
    "    create_dataset_pipeline, \n",
    "    batch_size=BATCH_SIZE,\n",
    "    grid_size=GRID_SIZE,\n",
    "    structure_name='Spinal-Cord',\n",
    "    z_context_distance=Z_CONTEXT_DISTANCE,\n",
    "    tensor_type=TENSOR_TYPE\n",
    ")\n",
    "\n",
    "\n",
    "test_dataset = create_dataset(test_data_roots)\n",
    "validation_dataset = create_dataset(validation_data_roots)"
   ]
  },
  {
   "cell_type": "code",
   "execution_count": null,
   "metadata": {
    "colab": {
     "base_uri": "https://localhost:8080/",
     "height": 1000
    },
    "colab_type": "code",
    "id": "JnD2LWrNiKWZ",
    "outputId": "95adf1c6-06db-405e-b3e8-c674b9ec577a"
   },
   "outputs": [],
   "source": [
    "for model_input, model_output in test_dataset.take(1):\n",
    "    print(f\"{model_input.shape()}, {model_output.shape()}\")"
   ]
  },
  {
   "cell_type": "code",
   "execution_count": null,
   "metadata": {
    "colab": {},
    "colab_type": "code",
    "id": "e3Hrrfzuimwi"
   },
   "outputs": [],
   "source": [
    "tf.keras.backend.clear_session()\n",
    "\n",
    "initializer = tf.random_normal_initializer(0., 0.02)\n",
    "\n",
    "\n",
    "def down_block(x, depth, m, n, channels, pool):\n",
    "    convolution_sequence = tf.keras.Sequential(name=f'down-convolution-d{depth}')\n",
    "    convolution_sequence.add(\n",
    "        tf.keras.layers.ReLU()\n",
    "    )\n",
    "    for _ in range(m):\n",
    "        convolution_sequence.add(\n",
    "            tf.keras.layers.Conv3D(\n",
    "                channels, (3, 3, 1), strides=1, padding='same',\n",
    "                kernel_initializer=initializer, use_bias=False)\n",
    "        )\n",
    "    \n",
    "    for i in range(n):\n",
    "        convolution_sequence.add(\n",
    "            tf.keras.layers.Conv3D(\n",
    "                channels, (3, 3, 1), strides=1, padding='same',\n",
    "                kernel_initializer=initializer, use_bias=False)\n",
    "        )\n",
    "        convolution_sequence.add(\n",
    "            tf.keras.layers.Conv3D(\n",
    "                channels, (1, 1, 3), strides=1, padding='valid',\n",
    "                kernel_initializer=initializer, use_bias=False)\n",
    "        )\n",
    "\n",
    "        if i != n - 1:\n",
    "            convolution_sequence.add(\n",
    "                tf.keras.layers.ReLU()\n",
    "            )\n",
    "    \n",
    "    short_circuit_sequence = tf.keras.Sequential(name=f'down-short-circuit-d{depth}')\n",
    "    short_circuit_sequence.add(tf.keras.layers.Cropping3D((0,0,n)))\n",
    "    short_circuit_sequence.add(\n",
    "        tf.keras.layers.Conv3D(\n",
    "            channels, (1, 1, 1), strides=1, padding='same',\n",
    "            kernel_initializer=tf.ones_initializer(), \n",
    "            use_bias=False)\n",
    "    )\n",
    "    \n",
    "    x = tf.keras.layers.Add()(\n",
    "        [convolution_sequence(x), short_circuit_sequence(x)]\n",
    "    )\n",
    "    \n",
    "    unet_short_circuit = x\n",
    "    \n",
    "    if pool != 0:\n",
    "        x = tf.keras.layers.AveragePooling3D((pool, pool, 1), strides=None, padding='valid')(x)\n",
    "        \n",
    "    return x, unet_short_circuit\n",
    "\n",
    "\n",
    "def fully_connected_block(x, input_size, internal_channels, output_channels):\n",
    "    x = tf.keras.layers.Conv3D(\n",
    "            internal_channels, \n",
    "            (input_size, input_size, 1),\n",
    "            strides=1,\n",
    "            padding='valid',\n",
    "            kernel_initializer=initializer,\n",
    "            use_bias=True\n",
    "    )(x)\n",
    "    \n",
    "    repeats = 2\n",
    "    for _ in range(repeats):\n",
    "        short_circuit = x\n",
    "        x = tf.keras.layers.ReLU()(x)\n",
    "        x = tf.keras.layers.Dense(internal_channels)(x)\n",
    "        x = tf.keras.layers.Add()([x, short_circuit])\n",
    "    \n",
    "    x = tf.keras.layers.ReLU()(x)\n",
    "    x = tf.keras.layers.Dense(input_size * input_size * output_channels)(x)\n",
    "    \n",
    "    x = tf.keras.layers.Reshape((input_size, input_size, 1, output_channels))(x)\n",
    "    \n",
    "    return x\n",
    "    \n",
    "\n",
    "def up_block(x, unet_short_circuit, depth, cropping, m, channels, up_scale):\n",
    "    unet_short_circuit = tf.keras.layers.Cropping3D((0,0,cropping))(\n",
    "        unet_short_circuit\n",
    "    )\n",
    "\n",
    "    if up_scale != 0:\n",
    "        x = tf.keras.layers.UpSampling3D(size=(up_scale, up_scale, 1))(x)\n",
    "        \n",
    "    x = tf.keras.layers.Concatenate(axis=-2)([x, unet_short_circuit])\n",
    "    \n",
    "    convolution_sequence = tf.keras.Sequential(name=f'up-convolution-d{depth}')\n",
    "    convolution_sequence.add(\n",
    "        tf.keras.layers.ReLU()\n",
    "    )\n",
    "    for _ in range(m):\n",
    "        convolution_sequence.add(\n",
    "            tf.keras.layers.Conv3D(\n",
    "                channels, (3, 3, 1), strides=1, padding='same',\n",
    "                kernel_initializer=initializer, use_bias=False)\n",
    "        )\n",
    "        convolution_sequence.add(\n",
    "            tf.keras.layers.ReLU()\n",
    "        )\n",
    "    \n",
    "    \n",
    "    internal_short_circuit = tf.keras.Sequential(name=f'up-short-circuit-d{depth}')\n",
    "    internal_short_circuit.add(\n",
    "        tf.keras.layers.Conv3D(\n",
    "            channels, (1, 1, 1), strides=1, padding='same',\n",
    "            kernel_initializer=tf.ones_initializer(), \n",
    "            use_bias=False)\n",
    "    )\n",
    "    \n",
    "    x = tf.keras.layers.Add()(\n",
    "        [convolution_sequence(x), internal_short_circuit(x)]\n",
    "    )\n",
    "    \n",
    "    return x\n",
    "\n",
    "\n",
    "def Model(grid_size=GRID_SIZE, z_context_distance=Z_CONTEXT_DISTANCE, batch_size=BATCH_SIZE):\n",
    "    down_block_params = [    # Start at 512, 3\n",
    "        (0, (3, 0, 32, 2)),  # 256, 3\n",
    "        (1, (3, 1, 32, 2)),  # 128, 2\n",
    "        (2, (3, 1, 64, 4)),  # 32, 1\n",
    "        (3, (3, 1, 64, 4)),  # 8, 1\n",
    "        (4, (3, 0, 128, 0)),  # 8, 0\n",
    "    ]\n",
    "    fully_connected_params = (8, 512, 128)\n",
    "    up_block_params = [\n",
    "        (4, (0, 4, 64, 0)),\n",
    "        (3, (0, 4, 64, 4)),\n",
    "        (2, (1, 4, 32, 4)),\n",
    "        (1, (2, 4, 32, 2)),\n",
    "        (0, (3, 4, 32, 2)),\n",
    "    ]\n",
    "    \n",
    "    inputs = tf.keras.layers.Input(\n",
    "        shape=[grid_size, grid_size, z_context_distance * 2 + 1, 1], \n",
    "        batch_size=batch_size\n",
    "    )\n",
    "    \n",
    "    x = inputs\n",
    "\n",
    "    unet_short_circuits = []\n",
    "    for depth, down_block_param in down_block_params:\n",
    "        m, n, channels, pool = down_block_param\n",
    "        x, unet_short_circuit = down_block(x, depth, m, n, channels, pool)\n",
    "        unet_short_circuits.append(unet_short_circuit)\n",
    "    \n",
    "    input_size, internal_channels, output_channels = fully_connected_params\n",
    "    x = fully_connected_block(x, input_size, internal_channels, output_channels)\n",
    "    \n",
    "    unet_short_circuits = reversed(unet_short_circuits)\n",
    "    \n",
    "    for unet_shot_circuit, (depth, up_block_param) in zip(unet_short_circuits, up_block_params):\n",
    "        cropping, m, channels, up_scale = up_block_param\n",
    "        x = up_block(x, unet_shot_circuit, depth, cropping, m, channels, up_scale)\n",
    "\n",
    "    x = tf.keras.layers.Conv3D(\n",
    "        1, (1, 1, 6), strides=1, padding='valid',\n",
    "        kernel_initializer=tf.ones_initializer(), \n",
    "        use_bias=False\n",
    "    )(x)\n",
    "    \n",
    "    x = tf.keras.activations.sigmoid(x)\n",
    "    \n",
    "    return tf.keras.Model(inputs=inputs, outputs=x)\n",
    "\n",
    "\n",
    "with strategy.scope():\n",
    "    model = Model()\n",
    "    model.compile(\n",
    "        optimizer='adam',\n",
    "        loss=tf.keras.losses.SparseCategoricalCrossentropy(from_logits=True),\n",
    "        metrics=['sparse_categorical_accuracy'])"
   ]
  },
  {
   "cell_type": "code",
   "execution_count": null,
   "metadata": {
    "colab": {},
    "colab_type": "code",
    "id": "1YoYCkZBAjPy"
   },
   "outputs": [],
   "source": [
    "tf.keras.utils.plot_model(model, show_shapes=True, dpi=64)"
   ]
  },
  {
   "cell_type": "code",
   "execution_count": null,
   "metadata": {
    "colab": {},
    "colab_type": "code",
    "id": "QAMLAv2a_Iic"
   },
   "outputs": [],
   "source": []
  },
  {
   "cell_type": "code",
   "execution_count": null,
   "metadata": {
    "colab": {},
    "colab_type": "code",
    "id": "JPBauA9f_Jao"
   },
   "outputs": [],
   "source": []
  },
  {
   "cell_type": "code",
   "execution_count": null,
   "metadata": {
    "colab": {},
    "colab_type": "code",
    "id": "zRDfvvFE_NKP"
   },
   "outputs": [],
   "source": []
  },
  {
   "cell_type": "code",
   "execution_count": null,
   "metadata": {
    "colab": {},
    "colab_type": "code",
    "id": "hncaH1s9_NMy"
   },
   "outputs": [],
   "source": [
    "model.fit(test_dataset, epochs=5, validation_data=validation_dataset)"
   ]
  },
  {
   "cell_type": "code",
   "execution_count": null,
   "metadata": {
    "colab": {},
    "colab_type": "code",
    "id": "r7SBTgZJ_NPR"
   },
   "outputs": [],
   "source": []
  },
  {
   "cell_type": "code",
   "execution_count": null,
   "metadata": {
    "colab": {},
    "colab_type": "code",
    "id": "b44pxFbS_NRK"
   },
   "outputs": [],
   "source": []
  },
  {
   "cell_type": "code",
   "execution_count": null,
   "metadata": {
    "colab": {},
    "colab_type": "code",
    "id": "PUef6h2YY1t8"
   },
   "outputs": [],
   "source": []
  }
 ],
 "metadata": {
  "accelerator": "TPU",
  "colab": {
   "collapsed_sections": [],
   "include_colab_link": true,
   "machine_shape": "hm",
   "name": "DeepMind Images.ipynb",
   "provenance": []
  },
  "kernelspec": {
   "display_name": "Python 3",
   "name": "python3"
  }
 },
 "nbformat": 4,
 "nbformat_minor": 0
}
