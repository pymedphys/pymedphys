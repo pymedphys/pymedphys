{
 "cells": [
  {
   "cell_type": "code",
   "execution_count": null,
   "metadata": {},
   "outputs": [],
   "source": [
    "import pathlib\n",
    "import hashlib\n",
    "import json\n",
    "import functools\n",
    "\n",
    "import requests\n",
    "import keyring"
   ]
  },
  {
   "cell_type": "code",
   "execution_count": null,
   "metadata": {},
   "outputs": [],
   "source": [
    "ACCESS_TOKEN = keyring.get_password(\"Zenodo\", \"Token\")\n",
    "ACCESS_TOKEN"
   ]
  },
  {
   "cell_type": "code",
   "execution_count": null,
   "metadata": {},
   "outputs": [],
   "source": [
    "def get_zenodo_access_token():\n",
    "    access_token = keyring.get_password(\"Zenodo\", \"Token\")\n",
    "\n",
    "    if access_token is None or access_token == \"\":\n",
    "        print(\n",
    "            \"To upload files to Zenodo you need to provide a Zenodo \"\n",
    "            \"access token. Please go to \"\n",
    "            \"<https://zenodo.org/account/settings/applications/tokens/new/>, \"\n",
    "            \"login to Zenodo and create a new access token.\\n\"\n",
    "            \"When creating the access token use the scopes `deposit:actions`, `deposit:write`, \"\n",
    "            \"and `user:email`. Once you have your token copy it into the prompt below \"\n",
    "            \"to continue with the upload.\"\n",
    "        )\n",
    "        access_token = getpass()\n",
    "        keyring.set_password(\"Zenodo\", \"Token\", access_token)\n",
    "\n",
    "    return access_token"
   ]
  },
  {
   "cell_type": "code",
   "execution_count": null,
   "metadata": {},
   "outputs": [],
   "source": [
    "def upload_zenodo_file(filepath, use_sandbox=False, access_token=None):\n",
    "    filepath = pathlib.Path(filepath)\n",
    "    \n",
    "    if use_sandbox:\n",
    "        zenodo_url = 'https://sandbox.zenodo.org/'\n",
    "    else:\n",
    "        zenodo_url = 'https://zenodo.org/'\n",
    "        \n",
    "    if access_token is None:\n",
    "        access_token = get_zenodo_access_token()\n",
    "    \n",
    "    depositions_url = f\"{zenodo_url}api/deposit/depositions\"\n",
    "    \n",
    "    headers = {\"Content-Type\": \"application/json\"}\n",
    "    r = requests.post(\n",
    "        depositions_url,\n",
    "        params={'access_token': ACCESS_TOKEN}, json={},\n",
    "        headers=headers)\n",
    "    \n",
    "    "
   ]
  },
  {
   "cell_type": "code",
   "execution_count": null,
   "metadata": {},
   "outputs": [],
   "source": []
  },
  {
   "cell_type": "code",
   "execution_count": null,
   "metadata": {},
   "outputs": [],
   "source": []
  },
  {
   "cell_type": "code",
   "execution_count": null,
   "metadata": {},
   "outputs": [],
   "source": []
  },
  {
   "cell_type": "code",
   "execution_count": null,
   "metadata": {
    "jupyter": {
     "outputs_hidden": true
    }
   },
   "outputs": [],
   "source": [
    "r = requests.get(\n",
    "    'https://zenodo.org/api/deposit/depositions',\n",
    "    params={'access_token': ACCESS_TOKEN})\n",
    "r.json()"
   ]
  },
  {
   "cell_type": "code",
   "execution_count": null,
   "metadata": {},
   "outputs": [],
   "source": [
    "headers = {\"Content-Type\": \"application/json\"}\n",
    "r = requests.post('https://zenodo.org/api/deposit/depositions',\n",
    "                  params={'access_token': ACCESS_TOKEN}, json={},\n",
    "                  headers=headers)\n",
    "r.json()"
   ]
  },
  {
   "cell_type": "code",
   "execution_count": null,
   "metadata": {},
   "outputs": [],
   "source": [
    "deposition_id = r.json()['id']\n",
    "filepath = pathlib.Path('test.txt')"
   ]
  },
  {
   "cell_type": "code",
   "execution_count": null,
   "metadata": {},
   "outputs": [],
   "source": [
    "data = {'name': filepath.name}\n",
    "\n",
    "with open(filepath, 'rb') as upload_file:\n",
    "    files = {'file': upload_file}\n",
    "    r = requests.post(f'https://zenodo.org/api/deposit/depositions/{deposition_id}/files',\n",
    "                      params={'access_token': ACCESS_TOKEN}, data=data,\n",
    "                      files=files)\n",
    "r"
   ]
  },
  {
   "cell_type": "code",
   "execution_count": null,
   "metadata": {},
   "outputs": [],
   "source": []
  },
  {
   "cell_type": "code",
   "execution_count": null,
   "metadata": {},
   "outputs": [],
   "source": [
    "m = hashlib.md5()\n",
    "\n",
    "with open(filepath, 'rb') as upload_file:\n",
    "    m.update(upload_file.read())\n",
    "    \n",
    "md5 = m.hexdigest()\n",
    "md5"
   ]
  },
  {
   "cell_type": "code",
   "execution_count": null,
   "metadata": {},
   "outputs": [],
   "source": [
    "r.json()['checksum'] == md5"
   ]
  },
  {
   "cell_type": "code",
   "execution_count": null,
   "metadata": {},
   "outputs": [],
   "source": [
    "def create_metadata(title, author='PyMedPhys Contributors'):\n",
    "    metadata = {\n",
    "        'metadata': {\n",
    "            'title': title,\n",
    "            'upload_type': 'dataset',\n",
    "            'creators': [{'name': author}],\n",
    "            'description': \"<p>This is an automated upload from the PyMedPhys library.</p>\",\n",
    "            'license': 'Apache-2.0',\n",
    "            'access_right': 'open',\n",
    "        }\n",
    "    }\n",
    "    \n",
    "    return json.dumps(metadata)\n",
    "\n",
    "\n",
    "metadata = create_metadata('a_test', 'Biggs, Simon')\n",
    "metadata"
   ]
  },
  {
   "cell_type": "code",
   "execution_count": null,
   "metadata": {},
   "outputs": [],
   "source": [
    "r = requests.put(f'https://zenodo.org/api/deposit/depositions/{deposition_id}',\n",
    "                 params={'access_token': ACCESS_TOKEN}, data=metadata,\n",
    "                 headers=headers)"
   ]
  },
  {
   "cell_type": "code",
   "execution_count": null,
   "metadata": {},
   "outputs": [],
   "source": [
    "r.json()"
   ]
  },
  {
   "cell_type": "code",
   "execution_count": null,
   "metadata": {},
   "outputs": [],
   "source": []
  },
  {
   "cell_type": "code",
   "execution_count": null,
   "metadata": {},
   "outputs": [],
   "source": []
  }
 ],
 "metadata": {
  "kernelspec": {
   "display_name": "pymedphys-master",
   "language": "python",
   "name": "pymedphys-master"
  },
  "language_info": {
   "codemirror_mode": {
    "name": "ipython",
    "version": 3
   },
   "file_extension": ".py",
   "mimetype": "text/x-python",
   "name": "python",
   "nbconvert_exporter": "python",
   "pygments_lexer": "ipython3",
   "version": "3.7.5"
  }
 },
 "nbformat": 4,
 "nbformat_minor": 4
}
