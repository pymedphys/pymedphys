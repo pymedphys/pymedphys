{
 "cells": [
  {
   "cell_type": "code",
   "execution_count": null,
   "metadata": {},
   "outputs": [],
   "source": [
    "import toml\n",
    "\n",
    "import numpy as np\n",
    "import matplotlib.pyplot as plt\n",
    "\n",
    "import pylinac\n",
    "import imageio"
   ]
  },
  {
   "cell_type": "code",
   "execution_count": null,
   "metadata": {},
   "outputs": [],
   "source": [
    "%load_ext autoreload\n",
    "%autoreload 2"
   ]
  },
  {
   "cell_type": "code",
   "execution_count": null,
   "metadata": {},
   "outputs": [],
   "source": [
    "import pymedphys\n",
    "\n",
    "from pymedphys._experimental.wlutz import reporting\n",
    "\n",
    "from pymedphys._experimental.wlutz import main as _wlutz\n",
    "from pymedphys._experimental.wlutz import imginterp as _imginterp, utilities as _utilities, pylinacwrapper as _pylinac_wrapper"
   ]
  },
  {
   "cell_type": "code",
   "execution_count": null,
   "metadata": {},
   "outputs": [],
   "source": []
  },
  {
   "cell_type": "code",
   "execution_count": null,
   "metadata": {},
   "outputs": [],
   "source": [
    "data_files = pymedphys.zip_data_paths('previously_failing_iview_images.zip')\n",
    "data_files"
   ]
  },
  {
   "cell_type": "code",
   "execution_count": null,
   "metadata": {},
   "outputs": [],
   "source": [
    "collimator_angles = toml.load([item for item in data_files if item.suffix == '.toml'][0])\n",
    "collimator_angles"
   ]
  },
  {
   "cell_type": "code",
   "execution_count": null,
   "metadata": {},
   "outputs": [],
   "source": [
    "jpg_paths = {\n",
    "    item.name: item for item in data_files if item.suffix == '.jpg'\n",
    "}\n",
    "jpg_paths"
   ]
  },
  {
   "cell_type": "code",
   "execution_count": null,
   "metadata": {},
   "outputs": [],
   "source": [
    "edge_lengths = [20, 26]\n",
    "penumbra = 2\n",
    "bb_diameter = 8\n",
    "\n",
    "algorithms = [\n",
    "    \"PyMedPhys\",\n",
    "    f\"PyLinac v{pylinac.__version__}\"\n",
    "]"
   ]
  },
  {
   "cell_type": "code",
   "execution_count": null,
   "metadata": {},
   "outputs": [],
   "source": [
    "# results = {}\n",
    "\n",
    "# for filename, full_image_path in jpg_paths.items():\n",
    "#     x, y, image = _wlutz.load_iview_image(full_image_path)\n",
    "#     icom_field_rotation = -collimator_angles[filename]\n",
    "\n",
    "#     results[filename] = {}\n",
    "#     for algorithm in algorithms:\n",
    "#         field_centre, bb_centre = _wlutz.calculate(\n",
    "#             full_image_path,\n",
    "#             algorithm,\n",
    "#             bb_diameter,\n",
    "#             edge_lengths,\n",
    "#             penumbra,\n",
    "#             icom_field_rotation,\n",
    "#         )\n",
    "        \n",
    "#         results[filename][algorithm] = {\n",
    "#             'field_centre': field_centre,\n",
    "#             'bb_centre': bb_centre\n",
    "#         }"
   ]
  },
  {
   "cell_type": "code",
   "execution_count": null,
   "metadata": {},
   "outputs": [],
   "source": [
    "# results"
   ]
  },
  {
   "cell_type": "code",
   "execution_count": null,
   "metadata": {},
   "outputs": [],
   "source": [
    "# algorithm = algorithms[1]\n",
    "filename = \"000058A7.jpg\"\n",
    "full_image_path = jpg_paths[filename]\n",
    "icom_field_rotation = -collimator_angles[filename]\n",
    "icom_field_rotation += 3.5\n",
    "\n",
    "x, y, image = _wlutz.load_iview_image(full_image_path)\n",
    "field = _imginterp.create_interpolated_field(x, y, image)\n",
    "straightened_field = _utilities.create_centralised_field(\n",
    "    field, [0,0], icom_field_rotation\n",
    ")\n",
    "\n",
    "# x = np.arange(-20,20,0.25)\n",
    "# y = x\n",
    "xx, yy = np.meshgrid(x, y)\n",
    "\n",
    "straightened_image = straightened_field(xx, yy)"
   ]
  },
  {
   "cell_type": "code",
   "execution_count": null,
   "metadata": {},
   "outputs": [],
   "source": []
  },
  {
   "cell_type": "code",
   "execution_count": null,
   "metadata": {},
   "outputs": [],
   "source": [
    "plt.figure(figsize=(10,10))\n",
    "plt.pcolormesh(xx, yy, straightened_image)\n",
    "plt.axis('equal')\n",
    "# plt.xlim([-20,20])\n",
    "# plt.ylim([-20,20])"
   ]
  },
  {
   "cell_type": "code",
   "execution_count": null,
   "metadata": {},
   "outputs": [],
   "source": [
    "# imageio.imsave(\"pylinac_offset.png\", straightened_image)"
   ]
  },
  {
   "cell_type": "code",
   "execution_count": null,
   "metadata": {},
   "outputs": [],
   "source": [
    "field_centre, bb_centre = _pylinac_wrapper.run_wlutz_raw(x, y, straightened_image, fill_errors_with_nan=True, pylinac_version=\"2.2.6\")"
   ]
  },
  {
   "cell_type": "code",
   "execution_count": null,
   "metadata": {},
   "outputs": [],
   "source": [
    "field_centre"
   ]
  },
  {
   "cell_type": "code",
   "execution_count": null,
   "metadata": {},
   "outputs": [],
   "source": [
    "bb_centre"
   ]
  },
  {
   "cell_type": "code",
   "execution_count": null,
   "metadata": {},
   "outputs": [],
   "source": [
    "fig, axs = reporting.image_analysis_figure(\n",
    "    x,\n",
    "    y,\n",
    "    straightened_image,\n",
    "    bb_centre,\n",
    "    field_centre,\n",
    "    0,\n",
    "    bb_diameter,\n",
    "    edge_lengths,\n",
    "    penumbra,\n",
    ")"
   ]
  },
  {
   "cell_type": "code",
   "execution_count": null,
   "metadata": {},
   "outputs": [],
   "source": []
  },
  {
   "cell_type": "code",
   "execution_count": null,
   "metadata": {},
   "outputs": [],
   "source": [
    "algorithm = algorithms[0]\n",
    "# filename = \"000057E2.jpg\"\n",
    "# full_image_path = jpg_paths[filename]\n",
    "\n",
    "for filename, full_image_path in jpg_paths.items():\n",
    "\n",
    "    x, y, image = _wlutz.load_iview_image(full_image_path)\n",
    "    icom_field_rotation = -collimator_angles[filename]\n",
    "\n",
    "    field_centre, bb_centre = _wlutz.calculate(\n",
    "        full_image_path,\n",
    "        algorithm,\n",
    "        bb_diameter,\n",
    "        edge_lengths,\n",
    "        penumbra,\n",
    "        icom_field_rotation,\n",
    "    )\n",
    "\n",
    "    fig, axs = reporting.image_analysis_figure(\n",
    "        x,\n",
    "        y,\n",
    "        image,\n",
    "        bb_centre,\n",
    "        field_centre,\n",
    "        icom_field_rotation,\n",
    "        bb_diameter,\n",
    "        edge_lengths,\n",
    "        penumbra,\n",
    "    )\n",
    "\n",
    "    axs[0, 0].set_title(algorithm)\n",
    "\n",
    "    print(filename)\n",
    "    print(field_centre, bb_centre)\n",
    "    \n",
    "    plt.show()\n",
    "\n",
    "    "
   ]
  },
  {
   "cell_type": "code",
   "execution_count": null,
   "metadata": {},
   "outputs": [],
   "source": []
  }
 ],
 "metadata": {
  "kernelspec": {
   "display_name": "pymedphys",
   "language": "python",
   "name": "pymedphys"
  },
  "language_info": {
   "codemirror_mode": {
    "name": "ipython",
    "version": 3
   },
   "file_extension": ".py",
   "mimetype": "text/x-python",
   "name": "python",
   "nbconvert_exporter": "python",
   "pygments_lexer": "ipython3",
   "version": "3.8.6"
  }
 },
 "nbformat": 4,
 "nbformat_minor": 4
}
