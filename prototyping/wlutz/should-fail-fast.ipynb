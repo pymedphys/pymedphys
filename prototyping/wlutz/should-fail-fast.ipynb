{
 "cells": [
  {
   "cell_type": "code",
   "execution_count": null,
   "metadata": {},
   "outputs": [],
   "source": [
    "import toml\n",
    "\n",
    "import matplotlib.pyplot as plt\n",
    "\n",
    "import pylinac"
   ]
  },
  {
   "cell_type": "code",
   "execution_count": null,
   "metadata": {},
   "outputs": [],
   "source": [
    "%load_ext autoreload\n",
    "%autoreload 2"
   ]
  },
  {
   "cell_type": "code",
   "execution_count": null,
   "metadata": {},
   "outputs": [],
   "source": [
    "import pymedphys\n",
    "from pymedphys._experimental.wlutz import reporting\n",
    "from pymedphys._experimental.wlutz import main as _wlutz"
   ]
  },
  {
   "cell_type": "code",
   "execution_count": null,
   "metadata": {},
   "outputs": [],
   "source": [
    "data_files = pymedphys.zip_data_paths('iview-images-where-wlutz-should-fail-fast.zip')"
   ]
  },
  {
   "cell_type": "code",
   "execution_count": null,
   "metadata": {},
   "outputs": [],
   "source": [
    "collimator_angles = toml.load([item for item in data_files if item.suffix == '.toml'][0])\n",
    "collimator_angles"
   ]
  },
  {
   "cell_type": "code",
   "execution_count": null,
   "metadata": {},
   "outputs": [],
   "source": [
    "jpg_paths = {\n",
    "    item.name: item for item in data_files if item.suffix == '.jpg'\n",
    "}\n",
    "jpg_paths"
   ]
  },
  {
   "cell_type": "code",
   "execution_count": null,
   "metadata": {},
   "outputs": [],
   "source": [
    "edge_lengths = [20, 26]\n",
    "penumbra = 2\n",
    "bb_diameter = 8\n",
    "\n",
    "algorithms = [\n",
    "    \"PyMedPhys\",\n",
    "    f\"PyLinac v{pylinac.__version__}\"\n",
    "]"
   ]
  },
  {
   "cell_type": "code",
   "execution_count": null,
   "metadata": {},
   "outputs": [],
   "source": [
    "algorithm = algorithms[1]\n",
    "\n",
    "for filename, full_image_path in jpg_paths.items():\n",
    "    x, y, image = _wlutz.load_iview_image(full_image_path)\n",
    "    icom_field_rotation = -collimator_angles[filename]\n",
    "\n",
    "    field_centre, bb_centre = _wlutz.calculate(\n",
    "        full_image_path,\n",
    "        algorithm,\n",
    "        bb_diameter,\n",
    "        edge_lengths,\n",
    "        penumbra,\n",
    "        icom_field_rotation,\n",
    "    )\n",
    "\n",
    "    fig, axs = reporting.image_analysis_figure(\n",
    "        x,\n",
    "        y,\n",
    "        image,\n",
    "        bb_centre,\n",
    "        field_centre,\n",
    "        icom_field_rotation,\n",
    "        bb_diameter,\n",
    "        edge_lengths,\n",
    "        penumbra,\n",
    "    )\n",
    "\n",
    "    axs[0, 0].set_title(algorithm)\n",
    "    field_centre, bb_centre\n",
    "    \n",
    "    plt.show()"
   ]
  },
  {
   "cell_type": "code",
   "execution_count": null,
   "metadata": {},
   "outputs": [],
   "source": []
  }
 ],
 "metadata": {
  "kernelspec": {
   "display_name": "pymedphys",
   "language": "python",
   "name": "pymedphys"
  },
  "language_info": {
   "codemirror_mode": {
    "name": "ipython",
    "version": 3
   },
   "file_extension": ".py",
   "mimetype": "text/x-python",
   "name": "python",
   "nbconvert_exporter": "python",
   "pygments_lexer": "ipython3",
   "version": "3.8.6"
  }
 },
 "nbformat": 4,
 "nbformat_minor": 4
}
