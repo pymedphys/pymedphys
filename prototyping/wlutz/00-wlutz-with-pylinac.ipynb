{
 "cells": [
  {
   "cell_type": "code",
   "execution_count": null,
   "metadata": {},
   "outputs": [],
   "source": [
    "import pathlib\n",
    "\n",
    "import matplotlib.pyplot as plt\n",
    "import numpy as np\n",
    "\n",
    "import pylinac"
   ]
  },
  {
   "cell_type": "code",
   "execution_count": null,
   "metadata": {},
   "outputs": [],
   "source": [
    "%load_ext autoreload\n",
    "%autoreload 2"
   ]
  },
  {
   "cell_type": "code",
   "execution_count": null,
   "metadata": {},
   "outputs": [],
   "source": [
    "from pymedphys import _losslessjpeg as lljpeg\n",
    "from pymedphys._wlutz import iview as _iview\n",
    "from pymedphys._wlutz import imginterp as _imginterp\n",
    "from pymedphys._wlutz import findfield as _findfield\n",
    "from pymedphys._wlutz import findbb as _findbb\n",
    "from pymedphys._wlutz import reporting as _reporting\n",
    "from pymedphys._wlutz import utilities as _utilities"
   ]
  },
  {
   "cell_type": "code",
   "execution_count": null,
   "metadata": {},
   "outputs": [],
   "source": [
    "def read_image(path):\n",
    "    return lljpeg.imread(path)"
   ]
  },
  {
   "cell_type": "code",
   "execution_count": null,
   "metadata": {},
   "outputs": [],
   "source": [
    "path = pathlib.Path(\n",
    "    r'\\\\tunnel-nbcc-pdc\\Physics\\NBCC-DataExchange\\iViewDB\\patient_MVISO\\MV_IMAGES\\img_1.3.46.423632.301843.1579156836.86\\00022.1.3.46.423632.301843.1579156836.86.jpg'\n",
    ")"
   ]
  },
  {
   "cell_type": "code",
   "execution_count": null,
   "metadata": {},
   "outputs": [],
   "source": [
    "edge_lengths = [20, 24]\n",
    "penumbra = 2\n",
    "bb_diameter = 8"
   ]
  },
  {
   "cell_type": "code",
   "execution_count": null,
   "metadata": {},
   "outputs": [],
   "source": [
    "pylinac_interpolated_pixel_size = 0.05"
   ]
  },
  {
   "cell_type": "code",
   "execution_count": null,
   "metadata": {},
   "outputs": [],
   "source": [
    "raw_img = read_image(path)\n",
    "x, y, img = _iview.iview_image_transform(raw_img)\n",
    "\n",
    "field = _imginterp.create_interpolated_field(x, y, img)\n",
    "initial_centre = _findfield.get_centre_of_mass(x, y, img)"
   ]
  },
  {
   "cell_type": "code",
   "execution_count": null,
   "metadata": {},
   "outputs": [],
   "source": [
    "fig, ax = plt.subplots()\n",
    "ax.pcolormesh(x, y, img, shading='nearest')\n",
    "\n",
    "ax.axis('equal')\n",
    "ax.set_xlim([-30,30])\n",
    "ax.set_ylim([-30,30])"
   ]
  },
  {
   "cell_type": "code",
   "execution_count": null,
   "metadata": {},
   "outputs": [],
   "source": [
    "field_centre, field_rotation = _findfield.field_centre_and_rotation_refining(\n",
    "    field, edge_lengths, penumbra, initial_centre\n",
    ")"
   ]
  },
  {
   "cell_type": "code",
   "execution_count": null,
   "metadata": {},
   "outputs": [],
   "source": [
    "bb_centre = _findbb.optimise_bb_centre(\n",
    "    field, bb_diameter, edge_lengths, penumbra, field_centre, field_rotation\n",
    ")"
   ]
  },
  {
   "cell_type": "code",
   "execution_count": null,
   "metadata": {},
   "outputs": [],
   "source": [
    "fig = _reporting.image_analysis_figure(\n",
    "    x,\n",
    "    y,\n",
    "    img,\n",
    "    bb_centre,\n",
    "    field_centre,\n",
    "    field_rotation,\n",
    "    bb_diameter,\n",
    "    edge_lengths,\n",
    "    penumbra,\n",
    ")"
   ]
  },
  {
   "cell_type": "code",
   "execution_count": null,
   "metadata": {},
   "outputs": [],
   "source": [
    "pylinac.winston_lutz.WLImage"
   ]
  },
  {
   "cell_type": "code",
   "execution_count": null,
   "metadata": {},
   "outputs": [],
   "source": [
    "pylinac.image.ArrayImage"
   ]
  },
  {
   "cell_type": "code",
   "execution_count": null,
   "metadata": {},
   "outputs": [],
   "source": [
    "class CustomWLImage(pylinac.image.ArrayImage):\n",
    "    def __init__(self, array, *, dpi=None, sid=None, dtype=None):\n",
    "        super().__init__(array, dpi=dpi, sid=sid, dtype=dtype)\n",
    "        self.check_inversion_by_histogram(percentiles=(0.01, 50, 99.99))\n",
    "        self._clean_edges()\n",
    "        self.ground()\n",
    "        self.normalize()\n",
    "        self._field_cax = None\n",
    "        self.rad_field_bounding_box = None\n",
    "        self._bb = None\n",
    "        \n",
    "    def _run_field_finding(self):\n",
    "        self._field_cax, self.rad_field_bounding_box = self._find_field_centroid()\n",
    "        \n",
    "    \n",
    "    @property\n",
    "    def field_cax(self):\n",
    "        if self._field_cax is None:\n",
    "            self._run_field_finding()\n",
    "            \n",
    "        return self._field_cax\n",
    "    \n",
    "    @property\n",
    "    def bb(self):\n",
    "        if self._bb is None:\n",
    "            if self.rad_field_bounding_box is None:\n",
    "                self._run_field_finding()\n",
    "            \n",
    "            self._bb = self._find_bb()\n",
    "        \n",
    "        return self._bb\n",
    "                \n",
    "        \n",
    "    __repr__ = pylinac.winston_lutz.WLImage.__repr__\n",
    "    _clean_edges = pylinac.winston_lutz.WLImage._clean_edges\n",
    "    _find_field_centroid = pylinac.winston_lutz.WLImage._find_field_centroid\n",
    "    _find_bb = pylinac.winston_lutz.WLImage._find_bb"
   ]
  },
  {
   "cell_type": "code",
   "execution_count": null,
   "metadata": {},
   "outputs": [],
   "source": [
    "centralised_straight_field = _utilities.create_centralised_field(\n",
    "    field, field_centre, field_rotation\n",
    ")\n",
    "\n",
    "half_x_range = edge_lengths[0] / 2 + penumbra * 3\n",
    "half_y_range = edge_lengths[1] / 2 + penumbra * 3\n",
    "\n",
    "pylinac_x = np.arange(-half_x_range, half_x_range + pylinac_interpolated_pixel_size, pylinac_interpolated_pixel_size)\n",
    "pylinac_y = np.arange(-half_y_range, half_y_range + pylinac_interpolated_pixel_size, pylinac_interpolated_pixel_size)\n",
    "\n",
    "pylinac_xx, pylinac_yy = np.meshgrid(pylinac_x, pylinac_y)\n",
    "centralised_image = centralised_straight_field(pylinac_xx, pylinac_yy)"
   ]
  },
  {
   "cell_type": "code",
   "execution_count": null,
   "metadata": {},
   "outputs": [],
   "source": [
    "fig, ax = plt.subplots()\n",
    "ax.pcolormesh(pylinac_x, pylinac_y, centralised_image, shading='nearest')\n",
    "\n",
    "ax.axis('equal')"
   ]
  },
  {
   "cell_type": "code",
   "execution_count": null,
   "metadata": {},
   "outputs": [],
   "source": [
    "wl_image = CustomWLImage(centralised_image)"
   ]
  },
  {
   "cell_type": "code",
   "execution_count": null,
   "metadata": {},
   "outputs": [],
   "source": [
    "centralised_pylinac_field_centre = [\n",
    "    wl_image.field_cax.x * pylinac_interpolated_pixel_size - half_x_range,\n",
    "    wl_image.field_cax.y * pylinac_interpolated_pixel_size - half_y_range,\n",
    "]"
   ]
  },
  {
   "cell_type": "code",
   "execution_count": null,
   "metadata": {},
   "outputs": [],
   "source": [
    "pylinac_field_centre = _utilities.transform_point(\n",
    "    centralised_pylinac_field_centre, field_centre, field_rotation\n",
    ")"
   ]
  },
  {
   "cell_type": "code",
   "execution_count": null,
   "metadata": {},
   "outputs": [],
   "source": [
    "centralised_pylinac_bb_centre = [\n",
    "    wl_image.bb.x * pylinac_interpolated_pixel_size - half_x_range,\n",
    "    wl_image.bb.y * pylinac_interpolated_pixel_size - half_y_range,\n",
    "]\n",
    "\n",
    "pylinac_bb_centre = _utilities.transform_point(\n",
    "    centralised_pylinac_bb_centre, field_centre, field_rotation\n",
    ")"
   ]
  },
  {
   "cell_type": "code",
   "execution_count": null,
   "metadata": {},
   "outputs": [],
   "source": [
    "fig = _reporting.image_analysis_figure(\n",
    "    x,\n",
    "    y,\n",
    "    img,\n",
    "    pylinac_bb_centre,\n",
    "    pylinac_field_centre,\n",
    "    field_rotation,\n",
    "    bb_diameter,\n",
    "    edge_lengths,\n",
    "    penumbra,\n",
    ")"
   ]
  },
  {
   "cell_type": "code",
   "execution_count": null,
   "metadata": {},
   "outputs": [],
   "source": [
    "pylinac.__version__"
   ]
  }
 ],
 "metadata": {
  "kernelspec": {
   "display_name": "pymedphys",
   "language": "python",
   "name": "pymedphys"
  },
  "language_info": {
   "codemirror_mode": {
    "name": "ipython",
    "version": 3
   },
   "file_extension": ".py",
   "mimetype": "text/x-python",
   "name": "python",
   "nbconvert_exporter": "python",
   "pygments_lexer": "ipython3",
   "version": "3.8.2"
  }
 },
 "nbformat": 4,
 "nbformat_minor": 4
}
