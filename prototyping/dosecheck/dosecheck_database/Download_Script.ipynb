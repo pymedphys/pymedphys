{
 "cells": [
  {
   "cell_type": "code",
   "execution_count": null,
   "metadata": {},
   "outputs": [],
   "source": [
    "#!/usr/bin/env python\n",
    "# coding: utf-8\n",
    "\n",
    "import gridfs\n",
    "import pymongo\n",
    "import bson\n",
    "\n",
    "import datetime\n",
    "\n",
    "start = datetime.datetime(2019, 7, 23, 0, 0, 0)\n",
    "end = datetime.datetime(2019, 7, 26, 0, 0, 0)\n",
    "\n",
    "MONGO_CLIENT = pymongo.MongoClient('mongodb://rccc-physicssvr:27017/')\n",
    "DB = MONGO_CLIENT['tqms']\n",
    "GRID_FS = gridfs.GridFS(DB, collection='FileManagerFS')\n",
    "\n",
    "doses_in_date_range = list(DB.FileManagerFS.files.find({\n",
    "    'filename': bson.regex.Regex(r'PerBeamDose.*\\.dcm'),\n",
    "    'uploadDate': {'$lt': end, '$gte': start}\n",
    "}))\n",
    "\n",
    "for result in doses_in_date_range:\n",
    "    _id = result['_id']\n",
    "    dicom_file = GRID_FS.find_one({'_id': _id})\n",
    "    save_filename = f'{str(dicom_file._id)}_{dicom_file.filename}'\n",
    "\n",
    "    with open(save_filename, 'wb') as a_file:\n",
    "        a_file.write(dicom_file.read())\n"
   ]
  },
  {
   "cell_type": "code",
   "execution_count": null,
   "metadata": {},
   "outputs": [],
   "source": []
  }
 ],
 "metadata": {
  "kernelspec": {
   "display_name": "Python 3",
   "language": "python",
   "name": "python3"
  },
  "language_info": {
   "codemirror_mode": {
    "name": "ipython",
    "version": 3
   },
   "file_extension": ".py",
   "mimetype": "text/x-python",
   "name": "python",
   "nbconvert_exporter": "python",
   "pygments_lexer": "ipython3",
   "version": "3.7.0"
  }
 },
 "nbformat": 4,
 "nbformat_minor": 4
}
