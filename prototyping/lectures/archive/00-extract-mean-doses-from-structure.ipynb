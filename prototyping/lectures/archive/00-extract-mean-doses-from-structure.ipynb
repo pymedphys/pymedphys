{
 "cells": [
  {
   "cell_type": "code",
   "execution_count": null,
   "metadata": {},
   "outputs": [],
   "source": [
    "!pip install pydicom==2.0.0\n",
    "!pip install pymedphys==0.33.0\n",
    "!pip install scikit-image==0.17.2"
   ]
  },
  {
   "cell_type": "code",
   "execution_count": null,
   "metadata": {},
   "outputs": [],
   "source": [
    "from urllib import request\n",
    "\n",
    "import numpy as np\n",
    "import matplotlib.pyplot as plt\n",
    "import skimage.draw\n",
    "\n",
    "import pydicom\n",
    "import pymedphys"
   ]
  },
  {
   "cell_type": "code",
   "execution_count": null,
   "metadata": {},
   "outputs": [],
   "source": [
    "dose_url = 'https://zenodo.org/record/4042842/files/RD.2.16.840.1.114337.1.1.1600065398.2_Anonymised.dcm?download=1'\n",
    "structure_url = 'https://zenodo.org/record/4042842/files/RS.1.2.840.10008.5.1.4.1.1.481.3.1600145017_Anonymised.dcm?download=1'\n",
    "\n",
    "dose_filepath = 'dose.dcm'\n",
    "structure_filepath = 'structure.dcm'"
   ]
  },
  {
   "cell_type": "code",
   "execution_count": null,
   "metadata": {},
   "outputs": [],
   "source": [
    "request.urlretrieve(dose_url, dose_filepath)\n",
    "request.urlretrieve(structure_url, structure_filepath)"
   ]
  },
  {
   "cell_type": "code",
   "execution_count": null,
   "metadata": {},
   "outputs": [],
   "source": [
    "dose_dataset = pydicom.read_file(dose_filepath, force=True)\n",
    "structure_dataset = pydicom.read_file(structure_filepath, force=True)"
   ]
  },
  {
   "cell_type": "code",
   "execution_count": null,
   "metadata": {},
   "outputs": [],
   "source": [
    "structure_names = [\n",
    "    item.ROIName for item in structure_dataset.StructureSetROISequence\n",
    "]\n",
    "\n",
    "structure_names"
   ]
  },
  {
   "cell_type": "code",
   "execution_count": null,
   "metadata": {},
   "outputs": [],
   "source": [
    "structure_names_to_pull = ['11', '12', '13', '14', '15', '16', '17', '18']"
   ]
  },
  {
   "cell_type": "code",
   "execution_count": null,
   "metadata": {},
   "outputs": [],
   "source": [
    "(dose_z, dose_y, dose_x), dose = pymedphys.dicom.zyx_and_dose_from_dataset(dose_dataset)"
   ]
  },
  {
   "cell_type": "code",
   "execution_count": null,
   "metadata": {},
   "outputs": [],
   "source": [
    "def pull_coords_from_contour_sequence(contour_sequence):\n",
    "    contours_by_slice_raw = [item.ContourData for item in contour_sequence]\n",
    "\n",
    "    x = [np.array(item[0::3]) for item in contours_by_slice_raw]\n",
    "    y = [np.array(item[1::3]) for item in contours_by_slice_raw]\n",
    "    z = [np.array(item[2::3]) for item in contours_by_slice_raw]\n",
    "\n",
    "    return x, y, z\n",
    "\n",
    "\n",
    "def get_roi_contour_sequence_by_name(structure_name, dcm_struct):\n",
    "    ROI_name_to_number_map = {\n",
    "        structure_set.ROIName: structure_set.ROINumber\n",
    "        for structure_set in dcm_struct.StructureSetROISequence\n",
    "    }\n",
    "\n",
    "    ROI_number_to_contour_map = {\n",
    "        contour.ReferencedROINumber: contour\n",
    "        for contour in dcm_struct.ROIContourSequence\n",
    "    }\n",
    "\n",
    "    try:\n",
    "        ROI_number = ROI_name_to_number_map[structure_name]\n",
    "    except KeyError:\n",
    "        raise ValueError(\"Structure name not found (case sensitive)\")\n",
    "\n",
    "    roi_contour_sequence = ROI_number_to_contour_map[ROI_number]\n",
    "\n",
    "    return roi_contour_sequence\n",
    "\n",
    "\n",
    "def pull_structure(structure_name, dcm_struct):\n",
    "    roi_contour_sequence = get_roi_contour_sequence_by_name(structure_name, dcm_struct)\n",
    "    contour_sequence = roi_contour_sequence.ContourSequence\n",
    "\n",
    "    x, y, z = pull_coords_from_contour_sequence(contour_sequence)\n",
    "\n",
    "    return x, y, z"
   ]
  },
  {
   "cell_type": "code",
   "execution_count": null,
   "metadata": {},
   "outputs": [],
   "source": [
    "stucture_x, structure_y, structure_z = pull_structure('11', structure_dataset)\n",
    "z_value = np.unique(structure_z[0])\n",
    "z_value"
   ]
  },
  {
   "cell_type": "code",
   "execution_count": null,
   "metadata": {},
   "outputs": [],
   "source": [
    "index = np.where(dose_z == z_value)[0][0]\n",
    "index"
   ]
  },
  {
   "cell_type": "code",
   "execution_count": null,
   "metadata": {},
   "outputs": [],
   "source": [
    "plt.contourf(dose_x, dose_y, dose[index,:,:], 100)\n",
    "\n",
    "plt.plot(stucture_x[0], structure_y[0])\n",
    "\n",
    "plt.ylim([-50, -350])\n",
    "plt.axis('equal')"
   ]
  },
  {
   "cell_type": "code",
   "execution_count": null,
   "metadata": {},
   "outputs": [],
   "source": [
    "position = dose_dataset.ImagePositionPatient\n",
    "spacing = dose_dataset.PixelSpacing\n",
    "orientation = dose_dataset.ImageOrientationPatient\n",
    "\n",
    "dx, dy = spacing\n",
    "Cx, Cy, *_ = position\n",
    "Ox, Oy = orientation[0], orientation[4]\n",
    "\n",
    "r = (y - Cy) / dy * Oy\n",
    "c = (x - Cx) / dx * Ox\n",
    "\n"
   ]
  },
  {
   "cell_type": "code",
   "execution_count": null,
   "metadata": {},
   "outputs": [],
   "source": [
    "dose_dataset.pixel_array.shape"
   ]
  },
  {
   "cell_type": "code",
   "execution_count": null,
   "metadata": {},
   "outputs": [],
   "source": [
    "skimage.draw.polygon2mask(dose_dataset.pixel_array.shape, np.array(zip(r, c)))"
   ]
  },
  {
   "cell_type": "code",
   "execution_count": null,
   "metadata": {},
   "outputs": [],
   "source": []
  }
 ],
 "metadata": {
  "kernelspec": {
   "display_name": "Python 3",
   "language": "python",
   "name": "python3"
  },
  "language_info": {
   "codemirror_mode": {
    "name": "ipython",
    "version": 3
   },
   "file_extension": ".py",
   "mimetype": "text/x-python",
   "name": "python",
   "nbconvert_exporter": "python",
   "pygments_lexer": "ipython3",
   "version": "3.7.0"
  }
 },
 "nbformat": 4,
 "nbformat_minor": 4
}
