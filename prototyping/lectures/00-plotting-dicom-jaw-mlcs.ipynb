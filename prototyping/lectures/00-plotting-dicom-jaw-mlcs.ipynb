{
 "cells": [
  {
   "cell_type": "code",
   "execution_count": null,
   "metadata": {},
   "outputs": [],
   "source": [
    "!pip install pydicom==2.0.0"
   ]
  },
  {
   "cell_type": "code",
   "execution_count": null,
   "metadata": {},
   "outputs": [],
   "source": [
    "from urllib import request\n",
    "\n",
    "import numpy as np\n",
    "import matplotlib.pyplot as plt\n",
    "\n",
    "import pydicom"
   ]
  },
  {
   "cell_type": "code",
   "execution_count": null,
   "metadata": {},
   "outputs": [],
   "source": [
    "url = 'https://zenodo.org/record/4042693/files/979797_VMAT.dcm?download=1'\n",
    "filepath = 'test.dcm'\n",
    "\n",
    "request.urlretrieve(url, filepath)"
   ]
  },
  {
   "cell_type": "code",
   "execution_count": null,
   "metadata": {},
   "outputs": [],
   "source": [
    "rtplan_dataset = pydicom.read_file(filepath, force=True)"
   ]
  },
  {
   "cell_type": "code",
   "execution_count": null,
   "metadata": {},
   "outputs": [],
   "source": [
    "# rtplan_dataset"
   ]
  },
  {
   "cell_type": "code",
   "execution_count": null,
   "metadata": {},
   "outputs": [],
   "source": [
    "# dir(rtplan_dataset)"
   ]
  },
  {
   "cell_type": "code",
   "execution_count": null,
   "metadata": {},
   "outputs": [],
   "source": [
    "# dir(rtplan_dataset.BeamSequence[0])"
   ]
  },
  {
   "cell_type": "code",
   "execution_count": null,
   "metadata": {},
   "outputs": [],
   "source": [
    "beam = rtplan_dataset.BeamSequence[0]"
   ]
  },
  {
   "cell_type": "code",
   "execution_count": null,
   "metadata": {},
   "outputs": [],
   "source": [
    "beam.ControlPointSequence[0]"
   ]
  },
  {
   "cell_type": "code",
   "execution_count": null,
   "metadata": {},
   "outputs": [],
   "source": [
    "control_point = beam.ControlPointSequence[0]\n",
    "control_point.BeamLimitingDevicePositionSequence[0].LeafJawPositions"
   ]
  },
  {
   "cell_type": "code",
   "execution_count": null,
   "metadata": {},
   "outputs": [],
   "source": [
    "control_point.BeamLimitingDevicePositionSequence[0].RTBeamLimitingDeviceType "
   ]
  },
  {
   "cell_type": "code",
   "execution_count": null,
   "metadata": {},
   "outputs": [],
   "source": [
    "control_point.GantryAngle"
   ]
  },
  {
   "cell_type": "code",
   "execution_count": null,
   "metadata": {},
   "outputs": [],
   "source": [
    "gantry_angles = []\n",
    "jaw_positions = []\n",
    "\n",
    "for control_point in beam.ControlPointSequence:\n",
    "    gantry_angles.append(control_point.GantryAngle)\n",
    "    \n",
    "    beam_limiting_device_position = control_point.BeamLimitingDevicePositionSequence[0]\n",
    "    assert beam_limiting_device_position.RTBeamLimitingDeviceType == 'ASYMY'\n",
    "    \n",
    "    jaw_positions.append(beam_limiting_device_position.LeafJawPositions)"
   ]
  },
  {
   "cell_type": "code",
   "execution_count": null,
   "metadata": {},
   "outputs": [],
   "source": [
    "plt.plot(gantry_angles, jaw_positions, '.')"
   ]
  },
  {
   "cell_type": "code",
   "execution_count": null,
   "metadata": {},
   "outputs": [],
   "source": [
    "mlc_positions = []\n",
    "num_leaf_pairs = 80\n",
    "\n",
    "for control_point in beam.ControlPointSequence:   \n",
    "    beam_limiting_device_position = control_point.BeamLimitingDevicePositionSequence[1]\n",
    "    assert beam_limiting_device_position.RTBeamLimitingDeviceType == 'MLCX'\n",
    "    \n",
    "    dicom_mlc_record = beam_limiting_device_position.LeafJawPositions\n",
    "    assert len(dicom_mlc_record) == num_leaf_pairs*2\n",
    "    \n",
    "    \n",
    "    mlc_positions.append([\n",
    "        dicom_mlc_record[0:num_leaf_pairs],\n",
    "        dicom_mlc_record[num_leaf_pairs:],\n",
    "    ])\n",
    "    \n",
    "\n",
    "mlc_positions = np.array(mlc_positions)\n",
    "mlc_positions.shape"
   ]
  },
  {
   "cell_type": "code",
   "execution_count": null,
   "metadata": {},
   "outputs": [],
   "source": [
    "plt.plot(gantry_angles, mlc_positions[:,:,40], '.')"
   ]
  }
 ],
 "metadata": {
  "kernelspec": {
   "display_name": "Python 3",
   "language": "python",
   "name": "python3"
  },
  "language_info": {
   "codemirror_mode": {
    "name": "ipython",
    "version": 3
   },
   "file_extension": ".py",
   "mimetype": "text/x-python",
   "name": "python",
   "nbconvert_exporter": "python",
   "pygments_lexer": "ipython3",
   "version": "3.7.0"
  }
 },
 "nbformat": 4,
 "nbformat_minor": 4
}
