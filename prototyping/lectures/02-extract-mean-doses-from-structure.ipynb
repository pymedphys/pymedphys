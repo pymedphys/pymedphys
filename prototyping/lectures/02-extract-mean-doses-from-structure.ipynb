{
 "cells": [
  {
   "cell_type": "code",
   "execution_count": null,
   "metadata": {},
   "outputs": [],
   "source": [
    "!pip install pydicom==2.0.0\n",
    "!pip install pymedphys==0.34.0dev1"
   ]
  },
  {
   "cell_type": "code",
   "execution_count": null,
   "metadata": {},
   "outputs": [],
   "source": [
    "from urllib import request\n",
    "\n",
    "import numpy as np\n",
    "import matplotlib.pyplot as plt\n",
    "import pandas as pd\n",
    "\n",
    "import pydicom\n",
    "import pymedphys\n",
    "\n",
    "# Private imports, not part of the stable API\n",
    "from pymedphys._dicom.dose import get_dose_grid_structure_mask\n",
    "from pymedphys._dicom.structure import pull_structure"
   ]
  },
  {
   "cell_type": "code",
   "execution_count": null,
   "metadata": {},
   "outputs": [],
   "source": [
    "dose_url = 'https://zenodo.org/record/4042842/files/RD.2.16.840.1.114337.1.1.1600065398.2_Anonymised.dcm?download=1'\n",
    "structure_url = 'https://zenodo.org/record/4042842/files/RS.1.2.840.10008.5.1.4.1.1.481.3.1600145017_Anonymised.dcm?download=1'\n",
    "\n",
    "dose_filepath = 'dose.dcm'\n",
    "structure_filepath = 'structure.dcm'"
   ]
  },
  {
   "cell_type": "code",
   "execution_count": null,
   "metadata": {},
   "outputs": [],
   "source": [
    "request.urlretrieve(dose_url, dose_filepath)\n",
    "request.urlretrieve(structure_url, structure_filepath)"
   ]
  },
  {
   "cell_type": "code",
   "execution_count": null,
   "metadata": {},
   "outputs": [],
   "source": [
    "dose_dataset = pydicom.read_file(dose_filepath, force=True)\n",
    "structure_dataset = pydicom.read_file(structure_filepath, force=True)"
   ]
  },
  {
   "cell_type": "code",
   "execution_count": null,
   "metadata": {},
   "outputs": [],
   "source": [
    "structure_names_to_pull = ['11', '12', '13', '14', '15', '16', '17', '18']"
   ]
  },
  {
   "cell_type": "code",
   "execution_count": null,
   "metadata": {},
   "outputs": [],
   "source": [
    "(dose_z, dose_y, dose_x), dose = pymedphys.dicom.zyx_and_dose_from_dataset(dose_dataset)\n",
    "\n",
    "xx, yy = np.meshgrid(dose_x, dose_y)"
   ]
  },
  {
   "cell_type": "code",
   "execution_count": null,
   "metadata": {},
   "outputs": [],
   "source": [
    "mask = get_dose_grid_structure_mask('11', structure_dataset, dose_dataset)"
   ]
  },
  {
   "cell_type": "code",
   "execution_count": null,
   "metadata": {},
   "outputs": [],
   "source": [
    "structure_x, structure_y, structure_z = pull_structure('11', structure_dataset)"
   ]
  },
  {
   "cell_type": "code",
   "execution_count": null,
   "metadata": {},
   "outputs": [],
   "source": [
    "z_slices = []\n",
    "\n",
    "for z in structure_z:\n",
    "    z = np.unique(z)\n",
    "    assert len(z) == 1\n",
    "    z_slices.append(z[0])\n",
    "    \n",
    "z_slices = np.array(z_slices)\n",
    "z_slices"
   ]
  },
  {
   "cell_type": "code",
   "execution_count": null,
   "metadata": {},
   "outputs": [],
   "source": [
    "dose_z"
   ]
  },
  {
   "cell_type": "code",
   "execution_count": null,
   "metadata": {},
   "outputs": [],
   "source": [
    "structure_index = 0\n",
    "\n",
    "z_slice = np.unique(structure_z[0])\n",
    "assert len(z_slice) == 1\n",
    "\n",
    "z_slice = z_slice[0]\n",
    "z_slice"
   ]
  },
  {
   "cell_type": "code",
   "execution_count": null,
   "metadata": {},
   "outputs": [],
   "source": [
    "dose_z_index = np.where(dose_z==z_slice)[0][0]\n",
    "dose_z_index"
   ]
  },
  {
   "cell_type": "code",
   "execution_count": null,
   "metadata": {},
   "outputs": [],
   "source": [
    "plt.scatter(xx, yy, c=mask[dose_z_index, :, :])\n",
    "plt.plot(structure_x[structure_index], structure_y[structure_index])\n",
    "\n",
    "plt.axis('equal')\n",
    "plt.ylim([-240, -220])\n",
    "plt.xlim([-20, 0])"
   ]
  },
  {
   "cell_type": "code",
   "execution_count": null,
   "metadata": {},
   "outputs": [],
   "source": [
    "dose[mask]"
   ]
  },
  {
   "cell_type": "code",
   "execution_count": null,
   "metadata": {},
   "outputs": [],
   "source": [
    "np.mean(dose[mask])"
   ]
  },
  {
   "cell_type": "code",
   "execution_count": null,
   "metadata": {},
   "outputs": [],
   "source": [
    "np.min(dose[mask])"
   ]
  },
  {
   "cell_type": "code",
   "execution_count": null,
   "metadata": {},
   "outputs": [],
   "source": [
    "np.max(dose[mask])"
   ]
  },
  {
   "cell_type": "code",
   "execution_count": null,
   "metadata": {},
   "outputs": [],
   "source": [
    "np.std(dose[mask])"
   ]
  },
  {
   "cell_type": "code",
   "execution_count": null,
   "metadata": {},
   "outputs": [],
   "source": [
    "table_data = {}\n",
    "\n",
    "for structure_name in structure_names_to_pull:\n",
    "\n",
    "    mask = get_dose_grid_structure_mask(structure_name, structure_dataset, dose_dataset)\n",
    "    _, dose = pymedphys.dicom.zyx_and_dose_from_dataset(dose_dataset)\n",
    "    \n",
    "    masked_dose = dose[mask]\n",
    "    \n",
    "    table_data[structure_name] = {}\n",
    "    \n",
    "    table_data[structure_name]['mean'] = np.mean(masked_dose)\n",
    "    table_data[structure_name]['min'] = np.min(masked_dose)\n",
    "    table_data[structure_name]['max'] = np.max(masked_dose)\n",
    "    table_data[structure_name]['std'] = np.std(masked_dose)"
   ]
  },
  {
   "cell_type": "code",
   "execution_count": null,
   "metadata": {},
   "outputs": [],
   "source": [
    "table_data"
   ]
  },
  {
   "cell_type": "code",
   "execution_count": null,
   "metadata": {},
   "outputs": [],
   "source": [
    "df = pd.DataFrame.from_dict(table_data)\n",
    "df = df.round(2)\n",
    "df"
   ]
  },
  {
   "cell_type": "code",
   "execution_count": null,
   "metadata": {},
   "outputs": [],
   "source": [
    "df.to_csv('structure_stats.csv')"
   ]
  }
 ],
 "metadata": {
  "kernelspec": {
   "display_name": "Python 3",
   "language": "python",
   "name": "python3"
  },
  "language_info": {
   "codemirror_mode": {
    "name": "ipython",
    "version": 3
   },
   "file_extension": ".py",
   "mimetype": "text/x-python",
   "name": "python",
   "nbconvert_exporter": "python",
   "pygments_lexer": "ipython3",
   "version": "3.7.0"
  }
 },
 "nbformat": 4,
 "nbformat_minor": 4
}
