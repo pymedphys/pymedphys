{
 "cells": [
  {
   "cell_type": "code",
   "execution_count": null,
   "metadata": {},
   "outputs": [],
   "source": [
    "import config\n",
    "import paths\n",
    "import data_generator\n",
    "import model\n",
    "\n",
    "import tensorflow as tf"
   ]
  },
  {
   "cell_type": "code",
   "execution_count": null,
   "metadata": {},
   "outputs": [],
   "source": [
    "input_paths, context_paths, label_paths = paths.get_paths(config.DATA_PATH, config.CONTEXT)"
   ]
  },
  {
   "cell_type": "code",
   "execution_count": null,
   "metadata": {},
   "outputs": [],
   "source": [
    "train_paths, valid_paths, test_paths = paths.split_paths(input_paths, config.RATIO)"
   ]
  },
  {
   "cell_type": "code",
   "execution_count": null,
   "metadata": {},
   "outputs": [],
   "source": [
    "train_gen = data_generator.data_gen(train_paths,\n",
    "                       context_paths,\n",
    "                       label_paths,\n",
    "                       context=config.CONTEXT,\n",
    "                       batch_size=config.BATCH_SIZE,\n",
    "                       structure_names=config.STRUCTURE_NAMES,\n",
    "                       resize=config.GRID_SIZE)\n",
    "\n",
    "valid_gen = data_generator.data_gen(valid_paths,\n",
    "                    context_paths,\n",
    "                    label_paths,\n",
    "                    context=config.CONTEXT,\n",
    "                    batch_size=config.BATCH_SIZE,\n",
    "                    structure_names=config.STRUCTURE_NAMES, \n",
    "                    resize=config.GRID_SIZE)\n",
    "\n",
    "test_gen = data_generator.data_gen(test_paths,\n",
    "                    context_paths,\n",
    "                    label_paths,\n",
    "                    context=config.CONTEXT,\n",
    "                    batch_size=config.BATCH_SIZE,\n",
    "                    structure_names=config.STRUCTURE_NAMES, \n",
    "                    resize=config.GRID_SIZE)"
   ]
  },
  {
   "cell_type": "code",
   "execution_count": null,
   "metadata": {},
   "outputs": [],
   "source": [
    "test_gen.plot_instance()"
   ]
  },
  {
   "cell_type": "code",
   "execution_count": null,
   "metadata": {},
   "outputs": [],
   "source": [
    "model = model.Model()\n",
    "\n",
    "model.compile(\n",
    "    optimizer=config.OPTIMIZER,\n",
    "    loss=config.LOSS)"
   ]
  },
  {
   "cell_type": "code",
   "execution_count": null,
   "metadata": {},
   "outputs": [],
   "source": [
    "tf.keras.utils.plot_model(model, show_shapes=True, dpi=95)"
   ]
  },
  {
   "cell_type": "code",
   "execution_count": null,
   "metadata": {},
   "outputs": [],
   "source": [
    "steps_per_epoch = len(train_paths) // config.BATCH_SIZE\n",
    "\n",
    "model.fit(\n",
    "    train_gen, \n",
    "    epochs=config.EPOCHS, \n",
    "    steps_per_epoch=steps_per_epoch, \n",
    "    validation_data=valid_gen)"
   ]
  },
  {
   "cell_type": "code",
   "execution_count": null,
   "metadata": {},
   "outputs": [],
   "source": []
  }
 ],
 "metadata": {
  "kernelspec": {
   "display_name": "Python 3",
   "language": "python",
   "name": "python3"
  },
  "language_info": {
   "codemirror_mode": {
    "name": "ipython",
    "version": 3
   },
   "file_extension": ".py",
   "mimetype": "text/x-python",
   "name": "python",
   "nbconvert_exporter": "python",
   "pygments_lexer": "ipython3",
   "version": "3.8.2"
  }
 },
 "nbformat": 4,
 "nbformat_minor": 4
}
