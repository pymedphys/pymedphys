{
 "cells": [
  {
   "cell_type": "code",
   "execution_count": null,
   "metadata": {},
   "outputs": [],
   "source": [
    "import pathlib\n",
    "\n",
    "import numpy as np\n",
    "import matplotlib.pyplot as plt\n",
    "\n",
    "import pydicom"
   ]
  },
  {
   "cell_type": "code",
   "execution_count": null,
   "metadata": {},
   "outputs": [],
   "source": [
    "# Makes it so any changes in pymedphys is automatically\n",
    "# propagated into the notebook without needing a kernel reset.\n",
    "from IPython.lib.deepreload import reload\n",
    "%load_ext autoreload\n",
    "%autoreload 2"
   ]
  },
  {
   "cell_type": "code",
   "execution_count": null,
   "metadata": {},
   "outputs": [],
   "source": [
    "from pymedphys.labs.autosegmentation import pipeline, filtering, indexing"
   ]
  },
  {
   "cell_type": "code",
   "execution_count": null,
   "metadata": {},
   "outputs": [],
   "source": [
    "# Put all of the DICOM data within a directory called 'dicom' \n",
    "# organised by 'training', 'validation', and 'testing' in here:\n",
    "data_path_root = pathlib.Path.home().joinpath('.data/dicom-ct-and-structures')\n",
    "\n",
    "# Of note, the DICOM file directory structure need not have any further\n",
    "# organisation beyond being placed somewhere within one of the three\n",
    "# 'training', 'validation', or 'testing'. They can be organised into\n",
    "# directories by patient but that is not a requirement."
   ]
  },
  {
   "cell_type": "code",
   "execution_count": null,
   "metadata": {},
   "outputs": [],
   "source": [
    "# The following names_map is used to standardise the structure names\n",
    "names_map = filtering.load_names_mapping('name_mappings.json')"
   ]
  },
  {
   "cell_type": "code",
   "execution_count": null,
   "metadata": {},
   "outputs": [],
   "source": [
    "# Create masks for the following structures, in the following order\n",
    "structures_to_learn = [\n",
    "    'lens_left', 'lens_right', 'eye_left', 'eye_right', 'patient']\n",
    "\n",
    "# Use the following to filter the slices used for training, validation, and testing\n",
    "filters = {\n",
    "    \"study_set_must_have_all_of\": structures_to_learn,\n",
    "    \"slice_at_least_one_of\": ['lens_left', 'lens_right', 'eye_left', 'eye_right'],\n",
    "    \"slice_must_have\": ['patient'],\n",
    "    \"slice_cannot_have\": []\n",
    "}"
   ]
  },
  {
   "cell_type": "code",
   "execution_count": null,
   "metadata": {},
   "outputs": [],
   "source": [
    "datasets = pipeline.create_datasets(data_path_root, names_map, structures_to_learn, filters)"
   ]
  },
  {
   "cell_type": "code",
   "execution_count": null,
   "metadata": {},
   "outputs": [],
   "source": [
    "(\n",
    "    ct_image_paths,\n",
    "    structure_set_paths,\n",
    "    ct_uid_to_structure_uid,\n",
    "    structure_uid_to_ct_uids,\n",
    ") = indexing.get_uid_cache(data_path_root)"
   ]
  },
  {
   "cell_type": "code",
   "execution_count": null,
   "metadata": {},
   "outputs": [],
   "source": [
    "(\n",
    "    structure_names_by_ct_uid,\n",
    "    structure_names_by_structure_set_uid,\n",
    ") = indexing.get_cached_structure_names_by_uids(\n",
    "    data_path_root, structure_set_paths, names_map\n",
    ")"
   ]
  },
  {
   "cell_type": "code",
   "execution_count": null,
   "metadata": {},
   "outputs": [],
   "source": [
    "def get_path_from_tensor_uid(uid):\n",
    "    return ct_image_paths[uid.numpy().decode()]"
   ]
  },
  {
   "cell_type": "code",
   "execution_count": null,
   "metadata": {},
   "outputs": [],
   "source": [
    "ct_uid, x_grid, y_grid, input_array, output_array = list(datasets['training'].take(1))[-1]\n",
    "\n",
    "ct_uid = ct_uid.numpy().decode()\n",
    "x_grid = x_grid.numpy()\n",
    "y_grid = y_grid.numpy()\n",
    "input_array = input_array.numpy()[:,:,0]\n",
    "output_array = output_array.numpy()"
   ]
  },
  {
   "cell_type": "code",
   "execution_count": null,
   "metadata": {},
   "outputs": [],
   "source": []
  },
  {
   "cell_type": "code",
   "execution_count": null,
   "metadata": {},
   "outputs": [],
   "source": [
    "structure_set_uid = ct_uid_to_structure_uid[ct_uid]\n",
    "structure_set_uid"
   ]
  },
  {
   "cell_type": "code",
   "execution_count": null,
   "metadata": {},
   "outputs": [],
   "source": [
    "structure_set_path = structure_set_paths[structure_set_uid]\n",
    "structure_set = pydicom.read_file(\n",
    "    structure_set_path,\n",
    "    force=True,\n",
    "    specific_tags=[\"ROIContourSequence\", \"StructureSetROISequence\"],\n",
    ")"
   ]
  },
  {
   "cell_type": "code",
   "execution_count": null,
   "metadata": {},
   "outputs": [],
   "source": [
    "number_to_name_map = {\n",
    "    roi_sequence_item.ROINumber: names_map[roi_sequence_item.ROIName]\n",
    "    for roi_sequence_item in structure_set.StructureSetROISequence\n",
    "    if names_map[roi_sequence_item.ROIName] is not None\n",
    "}\n",
    "\n",
    "number_to_name_map"
   ]
  },
  {
   "cell_type": "code",
   "execution_count": null,
   "metadata": {},
   "outputs": [],
   "source": [
    "structure_set.StructureSetROISequence[10]"
   ]
  },
  {
   "cell_type": "code",
   "execution_count": null,
   "metadata": {},
   "outputs": [],
   "source": [
    "structure_names_by_structure_set_uid[structure_set_uid]"
   ]
  },
  {
   "cell_type": "code",
   "execution_count": null,
   "metadata": {},
   "outputs": [],
   "source": [
    "for roi_contour_sequence_item in structure_set.ROIContourSequence:\n",
    "    try:\n",
    "        structure_name = number_to_name_map[\n",
    "            roi_contour_sequence_item.ReferencedROINumber\n",
    "        ]\n",
    "    except KeyError:\n",
    "        continue\n",
    "        \n",
    "    for contour_sequence_item in roi_contour_sequence_item.ContourSequence:\n",
    "        contour_imaging_sequence = contour_sequence_item.ContourImageSequence\n",
    "        referenced_ct_uid = contour_imaging_sequence[0].ReferencedSOPInstanceUID\n",
    "        \n",
    "        if referenced_ct_uid == ct_uid:\n",
    "            print(structure_name)\n",
    "#             print(contour_sequence_item.ContourData)"
   ]
  },
  {
   "cell_type": "code",
   "execution_count": null,
   "metadata": {},
   "outputs": [],
   "source": [
    "structure_names_by_ct_uid[ct_uid]"
   ]
  },
  {
   "cell_type": "code",
   "execution_count": null,
   "metadata": {},
   "outputs": [],
   "source": [
    "plt.contourf(x_grid, y_grid, input_array)\n",
    "plt.axis('equal')"
   ]
  },
  {
   "cell_type": "code",
   "execution_count": null,
   "metadata": {},
   "outputs": [],
   "source": [
    "for i, structure in enumerate(structures_to_learn):\n",
    "    plt.figure()\n",
    "    plt.contourf(x_grid, y_grid, output_array[:,:,i])\n",
    "    plt.title(structure)\n",
    "    plt.axis('equal')\n",
    "    plt.show()\n",
    "    \n",
    "    print(np.max(output_array[:,:,i]))"
   ]
  },
  {
   "cell_type": "code",
   "execution_count": null,
   "metadata": {},
   "outputs": [],
   "source": []
  },
  {
   "cell_type": "code",
   "execution_count": null,
   "metadata": {},
   "outputs": [],
   "source": []
  },
  {
   "cell_type": "code",
   "execution_count": null,
   "metadata": {},
   "outputs": [],
   "source": []
  }
 ],
 "metadata": {
  "kernelspec": {
   "display_name": "pymedphys-master",
   "language": "python",
   "name": "pymedphys-master"
  },
  "language_info": {
   "codemirror_mode": {
    "name": "ipython",
    "version": 3
   },
   "file_extension": ".py",
   "mimetype": "text/x-python",
   "name": "python",
   "nbconvert_exporter": "python",
   "pygments_lexer": "ipython3",
   "version": "3.7.7"
  }
 },
 "nbformat": 4,
 "nbformat_minor": 4
}
