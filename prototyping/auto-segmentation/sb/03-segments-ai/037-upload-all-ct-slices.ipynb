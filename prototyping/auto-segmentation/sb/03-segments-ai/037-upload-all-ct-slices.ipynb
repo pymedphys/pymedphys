{
 "cells": [
  {
   "cell_type": "code",
   "execution_count": null,
   "metadata": {},
   "outputs": [],
   "source": [
    "import keyring\n",
    "import getpass\n",
    "import functools\n",
    "import itertools\n",
    "import tempfile\n",
    "import io\n",
    "\n",
    "import numpy as np\n",
    "import matplotlib.pyplot as plt\n",
    "\n",
    "import imageio\n",
    "import skimage.transform\n",
    "\n",
    "import pydicom\n",
    "\n",
    "import segments"
   ]
  },
  {
   "cell_type": "code",
   "execution_count": null,
   "metadata": {},
   "outputs": [],
   "source": [
    "# Makes it so any changes in pymedphys is automatically\n",
    "# propagated into the notebook without needing a kernel reset.\n",
    "from IPython.lib.deepreload import reload\n",
    "%load_ext autoreload\n",
    "%autoreload 2"
   ]
  },
  {
   "cell_type": "code",
   "execution_count": null,
   "metadata": {},
   "outputs": [],
   "source": [
    "from pymedphys._experimental.autosegmentation import pipeline, mask"
   ]
  },
  {
   "cell_type": "code",
   "execution_count": null,
   "metadata": {},
   "outputs": [],
   "source": [
    "EXPANSION = 4"
   ]
  },
  {
   "cell_type": "code",
   "execution_count": null,
   "metadata": {},
   "outputs": [],
   "source": [
    "segments_api_key = keyring.get_password('segments-ai', 'api-key')\n",
    "\n",
    "if not segments_api_key:\n",
    "    segments_api_key = getpass.getpass()\n",
    "    keyring.set_password('segments-ai', 'api-key', segments_api_key)"
   ]
  },
  {
   "cell_type": "code",
   "execution_count": null,
   "metadata": {},
   "outputs": [],
   "source": [
    "client = segments.SegmentsClient(segments_api_key)\n",
    "dataset_name = 'SimonBiggs/AnimalContours' # Name of a dataset you've created on Segments.ai"
   ]
  },
  {
   "cell_type": "code",
   "execution_count": null,
   "metadata": {},
   "outputs": [],
   "source": [
    "samples = client.get_samples(dataset_name)\n",
    "\n",
    "ct_uid_to_upload_uuid = {\n",
    "    item['name'].replace(\".png\", \"\"): item['uuid']\n",
    "    for item in samples\n",
    "}"
   ]
  },
  {
   "cell_type": "code",
   "execution_count": null,
   "metadata": {},
   "outputs": [],
   "source": [
    "ct_uids_already_uploaded = set(ct_uid_to_upload_uuid.keys())\n",
    "# ct_uids_already_uploaded"
   ]
  },
  {
   "cell_type": "code",
   "execution_count": null,
   "metadata": {},
   "outputs": [],
   "source": [
    "(\n",
    "    data_path_root,\n",
    "    structure_set_paths,\n",
    "    ct_image_paths,\n",
    "    ct_uid_to_structure_uid,\n",
    "    structure_uid_to_ct_uids,\n",
    "    names_map,\n",
    "    structure_names_by_ct_uid,\n",
    "    structure_names_by_structure_set_uid,\n",
    "    uid_to_url,\n",
    "    hash_path,\n",
    ") = pipeline.get_dataset_metadata()"
   ]
  },
  {
   "cell_type": "code",
   "execution_count": null,
   "metadata": {},
   "outputs": [],
   "source": [
    "ct_uids = set(ct_image_paths.keys()).difference(ct_uids_already_uploaded)"
   ]
  },
  {
   "cell_type": "code",
   "execution_count": null,
   "metadata": {},
   "outputs": [],
   "source": [
    "def get_dcm_ct_from_uid(ct_uid):\n",
    "    ct_path = ct_image_paths[ct_uid]\n",
    "    dcm_ct = pydicom.read_file(ct_path, force=True)\n",
    "\n",
    "    dcm_ct.file_meta.TransferSyntaxUID = pydicom.uid.ImplicitVRLittleEndian\n",
    "\n",
    "    return dcm_ct"
   ]
  },
  {
   "cell_type": "code",
   "execution_count": null,
   "metadata": {},
   "outputs": [],
   "source": [
    "for ct_uid in ct_uids:\n",
    "    pipeline.download_uid(data_path_root, ct_uid, uid_to_url, hash_path)\n",
    "    dcm_ct = get_dcm_ct_from_uid(ct_uid)\n",
    "    \n",
    "    HU = dcm_ct.pixel_array * dcm_ct.RescaleSlope + dcm_ct.RescaleIntercept\n",
    "    \n",
    "    new_ct_size = np.array(np.shape(HU)) * EXPANSION    \n",
    "    expanded = skimage.transform.resize(HU, new_ct_size, mode='edge', preserve_range=True, anti_aliasing=False)\n",
    "    uint16_image = ((expanded + 1024) / 4096 * 2**16).astype(np.uint16)\n",
    "    png_file = io.BytesIO()\n",
    "    imageio.imsave(png_file, uint16_image, format='png', prefer_uint8=False)\n",
    "    \n",
    "    sample_name = f\"{ct_uid}.png\"\n",
    "    asset = client.upload_asset(png_file, filename=sample_name)\n",
    "    image_url = asset[\"url\"]\n",
    "    \n",
    "    attributes = {\n",
    "        \"image\": { \"url\": image_url }\n",
    "    }\n",
    "    result = client.add_sample(dataset_name, sample_name, attributes)"
   ]
  },
  {
   "cell_type": "code",
   "execution_count": null,
   "metadata": {},
   "outputs": [],
   "source": []
  }
 ],
 "metadata": {
  "kernelspec": {
   "display_name": "pymedphys-master",
   "language": "python",
   "name": "pymedphys-master"
  },
  "language_info": {
   "codemirror_mode": {
    "name": "ipython",
    "version": 3
   },
   "file_extension": ".py",
   "mimetype": "text/x-python",
   "name": "python",
   "nbconvert_exporter": "python",
   "pygments_lexer": "ipython3",
   "version": "3.7.8"
  }
 },
 "nbformat": 4,
 "nbformat_minor": 4
}
