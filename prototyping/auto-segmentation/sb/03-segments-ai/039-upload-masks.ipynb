{
 "cells": [
  {
   "cell_type": "code",
   "execution_count": null,
   "metadata": {},
   "outputs": [],
   "source": [
    "import keyring\n",
    "import getpass\n",
    "import functools\n",
    "import itertools\n",
    "import tempfile\n",
    "import io\n",
    "\n",
    "import numpy as np\n",
    "import matplotlib.pyplot as plt\n",
    "\n",
    "import imageio\n",
    "import skimage.transform\n",
    "\n",
    "import pydicom\n",
    "\n",
    "import segments"
   ]
  },
  {
   "cell_type": "code",
   "execution_count": null,
   "metadata": {},
   "outputs": [],
   "source": [
    "# Makes it so any changes in pymedphys is automatically\n",
    "# propagated into the notebook without needing a kernel reset.\n",
    "from IPython.lib.deepreload import reload\n",
    "%load_ext autoreload\n",
    "%autoreload 2"
   ]
  },
  {
   "cell_type": "code",
   "execution_count": null,
   "metadata": {},
   "outputs": [],
   "source": [
    "from pymedphys._experimental.autosegmentation import pipeline, mask"
   ]
  },
  {
   "cell_type": "code",
   "execution_count": null,
   "metadata": {},
   "outputs": [],
   "source": [
    "EXPANSION = 4"
   ]
  },
  {
   "cell_type": "code",
   "execution_count": null,
   "metadata": {},
   "outputs": [],
   "source": [
    "def get_instance_id(name):\n",
    "    # So that 0 isn't a category\n",
    "    return category_id_map[name] + 1"
   ]
  },
  {
   "cell_type": "code",
   "execution_count": null,
   "metadata": {},
   "outputs": [],
   "source": [
    "segments_api_key = keyring.get_password('segments-ai', 'api-key')\n",
    "\n",
    "if not segments_api_key:\n",
    "    segments_api_key = getpass.getpass()\n",
    "    keyring.set_password('segments-ai', 'api-key', segments_api_key)"
   ]
  },
  {
   "cell_type": "code",
   "execution_count": null,
   "metadata": {},
   "outputs": [],
   "source": [
    "client = segments.SegmentsClient(segments_api_key)\n",
    "dataset_name = 'SimonBiggs/AnimalContours' # Name of a dataset you've created on Segments.ai"
   ]
  },
  {
   "cell_type": "code",
   "execution_count": null,
   "metadata": {},
   "outputs": [],
   "source": [
    "dataset = client.get_dataset(dataset_name)\n",
    "dataset"
   ]
  },
  {
   "cell_type": "code",
   "execution_count": null,
   "metadata": {},
   "outputs": [],
   "source": [
    "contouring_task = [item for item in dataset['tasks'] if item['name'] == 'contouring'][0]\n",
    "categories = contouring_task['attributes']['categories']\n",
    "category_id_map = {\n",
    "    item['name']: item['id']\n",
    "    for item in categories\n",
    "}\n",
    "\n",
    "category_id_map"
   ]
  },
  {
   "cell_type": "code",
   "execution_count": null,
   "metadata": {},
   "outputs": [],
   "source": [
    "samples = client.get_samples(dataset_name)\n",
    "\n",
    "ct_uid_to_upload_uuid = {\n",
    "    item['name'].replace(\".png\", \"\"): item['uuid']\n",
    "    for item in samples\n",
    "}"
   ]
  },
  {
   "cell_type": "code",
   "execution_count": null,
   "metadata": {},
   "outputs": [],
   "source": [
    "samples[0]"
   ]
  },
  {
   "cell_type": "code",
   "execution_count": null,
   "metadata": {},
   "outputs": [],
   "source": [
    "client.get_label('b2b5e02a-e5a3-4cf0-a361-a2349207c930', 'contouring')"
   ]
  },
  {
   "cell_type": "code",
   "execution_count": null,
   "metadata": {},
   "outputs": [],
   "source": [
    "client.put"
   ]
  },
  {
   "cell_type": "code",
   "execution_count": null,
   "metadata": {},
   "outputs": [],
   "source": [
    "(\n",
    "    data_path_root,\n",
    "    structure_set_paths,\n",
    "    ct_image_paths,\n",
    "    ct_uid_to_structure_uid,\n",
    "    structure_uid_to_ct_uids,\n",
    "    names_map,\n",
    "    structure_names_by_ct_uid,\n",
    "    structure_names_by_structure_set_uid,\n",
    "    uid_to_url,\n",
    "    hash_path,\n",
    ") = pipeline.get_dataset_metadata()"
   ]
  },
  {
   "cell_type": "code",
   "execution_count": null,
   "metadata": {},
   "outputs": [],
   "source": [
    "def is_mask_a_subset(subset, superset):\n",
    "    return np.all(np.logical_and(subset, superset) == subset)\n",
    "\n",
    "def cmp(x, y, masks):\n",
    "    mask_x = masks[x]\n",
    "    mask_y = masks[y]\n",
    "    \n",
    "    if is_mask_a_subset(mask_x, mask_y):\n",
    "        return -1\n",
    "    if is_mask_a_subset(mask_y, mask_x):\n",
    "        return 1\n",
    "    \n",
    "    disjoint = np.logical_xor(mask_x, mask_y) == np.logical_or(mask_x, mask_y)\n",
    "    \n",
    "    if np.any(np.invert(disjoint)):\n",
    "        raise ValueError(f\"Masks ({x}, {y}) are disjoint\")\n",
    "    \n",
    "    return 0\n",
    "\n",
    "def create_sorting_key(masks):\n",
    "    return functools.cmp_to_key(\n",
    "        functools.partial(cmp, masks=masks)\n",
    "    )"
   ]
  },
  {
   "cell_type": "code",
   "execution_count": null,
   "metadata": {},
   "outputs": [],
   "source": [
    "@functools.lru_cache()\n",
    "def get_dcm_ct_from_uid(ct_uid):\n",
    "    ct_path = ct_image_paths[ct_uid]\n",
    "    dcm_ct = pydicom.read_file(ct_path, force=True)\n",
    "\n",
    "    dcm_ct.file_meta.TransferSyntaxUID = pydicom.uid.ImplicitVRLittleEndian\n",
    "\n",
    "    return dcm_ct\n",
    "\n",
    "@functools.lru_cache()\n",
    "def get_dcm_structure_from_uid(structure_set_uid):\n",
    "    structure_set_path = structure_set_paths[structure_set_uid]\n",
    "\n",
    "    dcm_structure = pydicom.read_file(\n",
    "        structure_set_path,\n",
    "        force=True,\n",
    "        specific_tags=[\"ROIContourSequence\", \"StructureSetROISequence\"],\n",
    "    )\n",
    "\n",
    "    return dcm_structure\n",
    "\n",
    "@functools.lru_cache()\n",
    "def get_contours_by_ct_uid_from_structure_uid(structure_set_uid):\n",
    "    dcm_structure = get_dcm_structure_from_uid(structure_set_uid)\n",
    "\n",
    "    number_to_name_map = {\n",
    "        roi_sequence_item.ROINumber: names_map[roi_sequence_item.ROIName]\n",
    "        for roi_sequence_item in dcm_structure.StructureSetROISequence\n",
    "        if names_map[roi_sequence_item.ROIName] is not None\n",
    "    }\n",
    "\n",
    "    contours_by_ct_uid = pipeline.get_contours_by_ct_uid(dcm_structure, number_to_name_map)\n",
    "\n",
    "    return contours_by_ct_uid"
   ]
  },
  {
   "cell_type": "code",
   "execution_count": null,
   "metadata": {},
   "outputs": [],
   "source": [
    "ct_uid, sample_uuid = list(ct_uid_to_upload_uuid.items())[0]"
   ]
  },
  {
   "cell_type": "code",
   "execution_count": null,
   "metadata": {},
   "outputs": [],
   "source": [
    "client.get_label(sample_uuid, 'contouring')"
   ]
  },
  {
   "cell_type": "code",
   "execution_count": null,
   "metadata": {},
   "outputs": [],
   "source": [
    "sample_uuid"
   ]
  },
  {
   "cell_type": "code",
   "execution_count": null,
   "metadata": {},
   "outputs": [],
   "source": [
    "client.put?"
   ]
  },
  {
   "cell_type": "code",
   "execution_count": null,
   "metadata": {},
   "outputs": [],
   "source": [
    "for ct_uid, sample_uuid in ct_uid_to_upload_uuid.items():\n",
    "    current_label_data = client.get_label(sample_uuid, 'contouring')\n",
    "    print(ct_uid, sample_uuid)\n",
    "    try:\n",
    "        if current_label_data['label_status'] in ('PRELABELED', 'REVIEWED', 'LABELED'):\n",
    "            print('Already labelled. Skipping...')            \n",
    "            continue\n",
    "        else:\n",
    "            print(current_label_data['label_status'])\n",
    "    except KeyError:\n",
    "        pass\n",
    "    \n",
    "    \n",
    "    structure_uid = ct_uid_to_structure_uid[ct_uid]\n",
    "    \n",
    "    ct_path = pipeline.download_uid(data_path_root, ct_uid, uid_to_url, hash_path)\n",
    "    structure_path = pipeline.download_uid(data_path_root, structure_uid, uid_to_url, hash_path)\n",
    "    \n",
    "    dcm_ct = get_dcm_ct_from_uid(ct_uid)\n",
    "    dcm_structure = get_dcm_structure_from_uid(structure_uid)\n",
    "    \n",
    "    grid_x, grid_y, ct_img = pipeline.create_input_ct_image(dcm_ct)\n",
    "    \n",
    "    contours_by_ct_uid = get_contours_by_ct_uid_from_structure_uid(\n",
    "        structure_uid\n",
    "    )\n",
    "    \n",
    "    _, _, ct_size = mask.get_grid(dcm_ct)\n",
    "    ct_size = tuple(np.array(ct_size) * EXPANSION)\n",
    "    \n",
    "    try:\n",
    "        contours_on_this_slice = contours_by_ct_uid[ct_uid].keys()\n",
    "    except KeyError as e:\n",
    "        print(e)\n",
    "        print(\"Key Error in contours on slice. Skipping...\")\n",
    "        continue        \n",
    "    \n",
    "    masks = dict()\n",
    "\n",
    "    for structure in contours_on_this_slice:\n",
    "        if structure in contours_on_this_slice:\n",
    "            masks[structure] = mask.calculate_expanded_mask(\n",
    "                contours_by_ct_uid[ct_uid][structure],\n",
    "                dcm_ct, EXPANSION\n",
    "            )\n",
    "        else:\n",
    "            masks[structure] = np.zeros(ct_size).astype(bool)\n",
    "    \n",
    "    try:\n",
    "        mask_assignment_order = sorted(\n",
    "            list(contours_on_this_slice), \n",
    "            key=create_sorting_key(masks), reverse=True)\n",
    "    except ValueError as e:\n",
    "        print(e)\n",
    "        print(\"Disjoint contours. Skipping...\")\n",
    "        continue\n",
    "    \n",
    "    objects_map = [\n",
    "        {\n",
    "            \"id\": get_instance_id(name),\n",
    "            \"category_id\": category_id_map[name]\n",
    "        }\n",
    "        for name in contours_on_this_slice\n",
    "    ]\n",
    "    \n",
    "    catagorised_mask = np.zeros(ct_size).astype(np.uint8)\n",
    "    for structure_name in mask_assignment_order:\n",
    "        instance_id = get_instance_id(structure_name)\n",
    "        catagorised_mask[masks[structure_name]] = instance_id\n",
    "        \n",
    "\n",
    "    png_file = io.BytesIO()\n",
    "    imageio.imsave(png_file, catagorised_mask, format='PNG-PIL', prefer_uint8=True)\n",
    "\n",
    "    sample_name = f\"{ct_uid}_mask.png\"\n",
    "    asset = client.upload_asset(png_file, filename=sample_name)\n",
    "    image_url = asset[\"url\"]\n",
    "    \n",
    "    sample_uuid = ct_uid_to_upload_uuid[ct_uid]\n",
    "    task_name = \"contouring\"\n",
    "    attributes = {\n",
    "        \"segmentation_bitmap\": {\n",
    "            \"url\": image_url\n",
    "        },\n",
    "        \"annotations\": objects_map\n",
    "    }\n",
    "\n",
    "    client.add_label(sample_uuid, task_name, attributes, label_status='REVIEWED')"
   ]
  },
  {
   "cell_type": "code",
   "execution_count": null,
   "metadata": {},
   "outputs": [],
   "source": []
  }
 ],
 "metadata": {
  "kernelspec": {
   "display_name": "pymedphys-master",
   "language": "python",
   "name": "pymedphys-master"
  },
  "language_info": {
   "codemirror_mode": {
    "name": "ipython",
    "version": 3
   },
   "file_extension": ".py",
   "mimetype": "text/x-python",
   "name": "python",
   "nbconvert_exporter": "python",
   "pygments_lexer": "ipython3",
   "version": "3.7.8"
  }
 },
 "nbformat": 4,
 "nbformat_minor": 4
}
