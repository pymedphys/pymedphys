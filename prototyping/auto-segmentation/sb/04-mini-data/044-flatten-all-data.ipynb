{
 "cells": [
  {
   "cell_type": "code",
   "execution_count": null,
   "metadata": {},
   "outputs": [],
   "source": [
    "import os\n",
    "import pathlib\n",
    "import shutil"
   ]
  },
  {
   "cell_type": "code",
   "execution_count": null,
   "metadata": {},
   "outputs": [],
   "source": [
    "data_root = pathlib.Path('/home/simon/.pymedphys/data/medical-decathlon')\n",
    "\n",
    "task_directories = [path for path in data_root.glob('Task*') if path.is_dir()]\n",
    "task_directories"
   ]
  },
  {
   "cell_type": "code",
   "execution_count": null,
   "metadata": {},
   "outputs": [],
   "source": [
    "task_names = [\n",
    "    path.name for path in task_directories\n",
    "]\n",
    "\n",
    "task_names"
   ]
  },
  {
   "cell_type": "code",
   "execution_count": null,
   "metadata": {},
   "outputs": [],
   "source": [
    "for task in task_names:\n",
    "    task_root = data_root.joinpath(task)\n",
    "    flattened_task_root = data_root.joinpath('flattened', task)\n",
    "    flattened_task_root.mkdir(exist_ok=True, parents=True)\n",
    "    \n",
    "    file_paths = [\n",
    "        path\n",
    "        for path in task_root.glob('**/*')\n",
    "        if not path.name.startswith('.') and \n",
    "        not path.name.endswith('.tar') and\n",
    "        path.is_file()\n",
    "    ]\n",
    "    \n",
    "    relative_paths = [\n",
    "        path.relative_to(task_root)\n",
    "        for path in file_paths\n",
    "    ]\n",
    "    \n",
    "    path_sep_replaced = [\n",
    "        str(path).replace(os.sep, \"--os.sep--\")\n",
    "        for path in relative_paths\n",
    "    ]\n",
    "    \n",
    "    new_file_path = [\n",
    "        flattened_task_root.joinpath(path)\n",
    "        for path in path_sep_replaced\n",
    "    ]\n",
    "    \n",
    "    for old, new in zip(file_paths, new_file_path):\n",
    "        shutil.move(old, new)"
   ]
  },
  {
   "cell_type": "code",
   "execution_count": null,
   "metadata": {},
   "outputs": [],
   "source": [
    "# for old, new in zip(new_file_path, file_paths):\n",
    "#     shutil.move(old, new)"
   ]
  }
 ],
 "metadata": {
  "kernelspec": {
   "display_name": "pymedphys-master",
   "language": "python",
   "name": "pymedphys-master"
  },
  "language_info": {
   "codemirror_mode": {
    "name": "ipython",
    "version": 3
   },
   "file_extension": ".py",
   "mimetype": "text/x-python",
   "name": "python",
   "nbconvert_exporter": "python",
   "pygments_lexer": "ipython3",
   "version": "3.7.8"
  }
 },
 "nbformat": 4,
 "nbformat_minor": 4
}
