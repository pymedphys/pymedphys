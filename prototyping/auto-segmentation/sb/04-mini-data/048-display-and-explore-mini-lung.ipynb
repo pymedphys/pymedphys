{
 "cells": [
  {
   "cell_type": "code",
   "execution_count": null,
   "metadata": {},
   "outputs": [],
   "source": [
    "import zipfile\n",
    "from urllib import request\n",
    "import pathlib\n",
    "import collections\n",
    "import warnings\n",
    "\n",
    "import numpy as np\n",
    "import matplotlib.pyplot as plt\n",
    "import imageio\n",
    "\n",
    "import ipywidgets"
   ]
  },
  {
   "cell_type": "code",
   "execution_count": null,
   "metadata": {},
   "outputs": [],
   "source": [
    "# url = 'https://github.com/pymedphys/data/releases/download/mini-lung/mini-lung-medical-decathlon.zip'\n",
    "# filename = url.split('/')[-1]"
   ]
  },
  {
   "cell_type": "code",
   "execution_count": null,
   "metadata": {},
   "outputs": [],
   "source": [
    "# request.urlretrieve(url, filename)"
   ]
  },
  {
   "cell_type": "code",
   "execution_count": null,
   "metadata": {},
   "outputs": [],
   "source": [
    "data_path = pathlib.Path('data')"
   ]
  },
  {
   "cell_type": "code",
   "execution_count": null,
   "metadata": {},
   "outputs": [],
   "source": [
    "# with zipfile.ZipFile(filename, 'r') as zip_ref:\n",
    "#     zip_ref.extractall(data_path)"
   ]
  },
  {
   "cell_type": "code",
   "execution_count": null,
   "metadata": {},
   "outputs": [],
   "source": [
    "image_paths = sorted(data_path.glob('**/*_image.png'))\n",
    "\n",
    "mask_paths = [\n",
    "    path.parent.joinpath(path.name.replace('_image.png', '_mask.png'))\n",
    "    for path in image_paths\n",
    "]"
   ]
  },
  {
   "cell_type": "code",
   "execution_count": null,
   "metadata": {},
   "outputs": [],
   "source": [
    "image_mask_pairs = collections.defaultdict(lambda: [])\n",
    "\n",
    "for image_path, mask_path in zip(image_paths, mask_paths):\n",
    "    patient_label = image_path.parent.name\n",
    "    \n",
    "    image = imageio.imread(image_path)\n",
    "    mask = imageio.imread(mask_path)\n",
    "    \n",
    "    image_mask_pairs[patient_label].append((image, mask))"
   ]
  },
  {
   "cell_type": "code",
   "execution_count": null,
   "metadata": {},
   "outputs": [],
   "source": [
    "def get_contours_from_mask(mask, contour_level=128):\n",
    "    if np.max(mask) < contour_level:\n",
    "        return []\n",
    "    \n",
    "    with warnings.catch_warnings():\n",
    "        warnings.simplefilter(\"ignore\", UserWarning)\n",
    "        fig, ax = plt.subplots()\n",
    "        cs = ax.contour(range(mask.shape[0]), range(mask.shape[0]), mask, [contour_level])\n",
    "\n",
    "    contours = [path.vertices for path in cs.collections[0].get_paths()]\n",
    "    plt.close(fig)\n",
    "\n",
    "    return contours"
   ]
  },
  {
   "cell_type": "code",
   "execution_count": null,
   "metadata": {},
   "outputs": [],
   "source": [
    "def display(patient_label, chosen_slice):\n",
    "    image = image_mask_pairs[patient_label][chosen_slice][0]\n",
    "    mask = image_mask_pairs[patient_label][chosen_slice][1]\n",
    "\n",
    "    plt.figure(figsize=(10,10))\n",
    "    plt.imshow(image, vmin=0, vmax=100)\n",
    "\n",
    "    contours = get_contours_from_mask(mask)\n",
    "    for contour in contours:\n",
    "        plt.plot(*contour.T, 'r', lw=3)"
   ]
  },
  {
   "cell_type": "code",
   "execution_count": null,
   "metadata": {},
   "outputs": [],
   "source": [
    "def view_patient(patient_label):\n",
    "    def view_slice(chosen_slice):\n",
    "        display(patient_label, chosen_slice)\n",
    "        \n",
    "    number_of_slices = len(image_mask_pairs[patient_label])\n",
    "    \n",
    "    ipywidgets.interact(view_slice, chosen_slice=ipywidgets.IntSlider(min=0, max=number_of_slices, step=1, value=0));"
   ]
  },
  {
   "cell_type": "code",
   "execution_count": null,
   "metadata": {},
   "outputs": [],
   "source": [
    "ipywidgets.interact(view_patient, patient_label=image_mask_pairs.keys());"
   ]
  },
  {
   "cell_type": "code",
   "execution_count": null,
   "metadata": {},
   "outputs": [],
   "source": []
  }
 ],
 "metadata": {
  "kernelspec": {
   "display_name": "pymedphys-master",
   "language": "python",
   "name": "pymedphys-master"
  },
  "language_info": {
   "codemirror_mode": {
    "name": "ipython",
    "version": 3
   },
   "file_extension": ".py",
   "mimetype": "text/x-python",
   "name": "python",
   "nbconvert_exporter": "python",
   "pygments_lexer": "ipython3",
   "version": "3.7.8"
  }
 },
 "nbformat": 4,
 "nbformat_minor": 4
}
