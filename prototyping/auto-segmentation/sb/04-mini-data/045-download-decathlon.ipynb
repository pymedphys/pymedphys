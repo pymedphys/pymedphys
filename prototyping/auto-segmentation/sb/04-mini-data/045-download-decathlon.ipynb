{
 "cells": [
  {
   "cell_type": "code",
   "execution_count": null,
   "metadata": {},
   "outputs": [],
   "source": [
    "import json\n",
    "import pathlib\n",
    "\n",
    "import pymedphys"
   ]
  },
  {
   "cell_type": "code",
   "execution_count": null,
   "metadata": {},
   "outputs": [],
   "source": [
    "download_root = pymedphys._config.get_config_dir().joinpath('data', 'medical-decathlon')\n",
    "download_root.mkdir(exist_ok=True, parents=True)\n",
    "\n",
    "hash_path = download_root.joinpath('hashes.json')"
   ]
  },
  {
   "cell_type": "code",
   "execution_count": null,
   "metadata": {},
   "outputs": [],
   "source": [
    "base_download_url = 'https://github.com/pymedphys/data/releases/download'"
   ]
  },
  {
   "cell_type": "code",
   "execution_count": null,
   "metadata": {},
   "outputs": [],
   "source": [
    "tasks = [\n",
    "    \"Task01_BrainTumour\",\n",
    "    \"Task02_Heart\",\n",
    "    \"Task03_Liver\",\n",
    "    \"Task04_Hippocampus\",\n",
    "    \"Task05_Prostate\",\n",
    "    \"Task06_Lung\",\n",
    "    \"Task07_Pancreas\",\n",
    "    \"Task08_HepaticVessel\",\n",
    "    \"Task09_Spleen\",\n",
    "    \"Task10_Colon\"\n",
    "]\n",
    "\n",
    "tasks"
   ]
  },
  {
   "cell_type": "code",
   "execution_count": null,
   "metadata": {},
   "outputs": [],
   "source": [
    "metadata_paths = {}\n",
    "\n",
    "for task in tasks:\n",
    "    download_url = f\"{base_download_url}/{task}/dataset.json\"\n",
    "    metadata_paths[task] = pymedphys.data_path(\n",
    "        f\"medical-decathlon/{task}/dataset.json\",\n",
    "        url=download_url,\n",
    "        hash_filepath=hash_path\n",
    "    )"
   ]
  },
  {
   "cell_type": "code",
   "execution_count": null,
   "metadata": {},
   "outputs": [],
   "source": [
    "metadata_paths"
   ]
  },
  {
   "cell_type": "code",
   "execution_count": null,
   "metadata": {},
   "outputs": [],
   "source": [
    "metadata = {}\n",
    "\n",
    "for task in tasks:\n",
    "    with open(metadata_paths[task]) as f:\n",
    "        metadata[task] = json.load(f)"
   ]
  },
  {
   "cell_type": "code",
   "execution_count": null,
   "metadata": {},
   "outputs": [],
   "source": [
    "metadata[tasks[0]]['training'][0]"
   ]
  },
  {
   "cell_type": "code",
   "execution_count": null,
   "metadata": {},
   "outputs": [],
   "source": [
    "for task in tasks:\n",
    "    for paths in metadata[task]['training']:\n",
    "        image_path = paths['image']\n",
    "        label_path = paths['label']\n",
    "        \n",
    "        image_url = f\"{base_download_url}/{task}/{image_path[2:].replace('/', '--os.sep--')}\"\n",
    "        label_url = f\"{base_download_url}/{task}/{label_path[2:].replace('/', '--os.sep--')}\"\n",
    "        \n",
    "        pymedphys.data_path(\n",
    "            pathlib.Path(f\"medical-decathlon/{task}\").joinpath(image_path),\n",
    "            url=image_url,\n",
    "            hash_filepath=hash_path,\n",
    "            delete_when_no_hash_found=False\n",
    "        )\n",
    "        \n",
    "        pymedphys.data_path(\n",
    "            pathlib.Path(f\"medical-decathlon/{task}\").joinpath(label_path),\n",
    "            url=label_url,\n",
    "            hash_filepath=hash_path,\n",
    "            delete_when_no_hash_found=False\n",
    "        )"
   ]
  },
  {
   "cell_type": "code",
   "execution_count": null,
   "metadata": {},
   "outputs": [],
   "source": []
  }
 ],
 "metadata": {
  "kernelspec": {
   "display_name": "pymedphys-master",
   "language": "python",
   "name": "pymedphys-master"
  },
  "language_info": {
   "codemirror_mode": {
    "name": "ipython",
    "version": 3
   },
   "file_extension": ".py",
   "mimetype": "text/x-python",
   "name": "python",
   "nbconvert_exporter": "python",
   "pygments_lexer": "ipython3",
   "version": "3.7.8"
  }
 },
 "nbformat": 4,
 "nbformat_minor": 4
}
