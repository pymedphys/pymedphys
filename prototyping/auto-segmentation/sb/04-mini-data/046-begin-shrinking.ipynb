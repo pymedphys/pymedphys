{
 "cells": [
  {
   "cell_type": "code",
   "execution_count": null,
   "metadata": {},
   "outputs": [],
   "source": [
    "import os\n",
    "import json\n",
    "import warnings\n",
    "import pathlib\n",
    "\n",
    "import numpy as np\n",
    "import matplotlib.pyplot as plt\n",
    "from skimage import transform\n",
    "import imageio\n",
    "\n",
    "import nibabel\n",
    "\n",
    "import pymedphys"
   ]
  },
  {
   "cell_type": "code",
   "execution_count": null,
   "metadata": {},
   "outputs": [],
   "source": [
    "download_root = pymedphys._config.get_config_dir().joinpath('data', 'medical-decathlon')\n",
    "download_root.mkdir(exist_ok=True, parents=True)\n",
    "\n",
    "hash_path = download_root.joinpath('hashes.json')"
   ]
  },
  {
   "cell_type": "code",
   "execution_count": null,
   "metadata": {},
   "outputs": [],
   "source": [
    "base_download_url = 'https://github.com/pymedphys/data/releases/download'"
   ]
  },
  {
   "cell_type": "code",
   "execution_count": null,
   "metadata": {},
   "outputs": [],
   "source": [
    "tasks = [\n",
    "    \"Task01_BrainTumour\",\n",
    "    \"Task02_Heart\",\n",
    "#     \"Task03_Liver\",\n",
    "#     \"Task04_Hippocampus\",\n",
    "#     \"Task05_Prostate\",\n",
    "#     \"Task06_Lung\",\n",
    "#     \"Task07_Pancreas\",\n",
    "#     \"Task08_HepaticVessel\",\n",
    "#     \"Task09_Spleen\",\n",
    "#     \"Task10_Colon\"\n",
    "]\n",
    "\n",
    "tasks"
   ]
  },
  {
   "cell_type": "code",
   "execution_count": null,
   "metadata": {},
   "outputs": [],
   "source": [
    "def get_metadata(task):\n",
    "    download_url = f\"{base_download_url}/{task}/dataset.json\"\n",
    "    metadata_path = pymedphys.data_path(\n",
    "        f\"medical-decathlon/{task}/dataset.json\",\n",
    "        url=download_url,\n",
    "        hash_filepath=hash_path\n",
    "    )\n",
    "    \n",
    "    with open(metadata_path) as f:\n",
    "        metadata = json.load(f)\n",
    "        \n",
    "    return metadata"
   ]
  },
  {
   "cell_type": "code",
   "execution_count": null,
   "metadata": {},
   "outputs": [],
   "source": [
    "def download_task_path(task, path):\n",
    "    url = f\"{base_download_url}/{task}/{path[2:].replace('/', '--os.sep--')}\"\n",
    "    full_path = pathlib.Path(f\"medical-decathlon/{task}\").joinpath(path)\n",
    "    \n",
    "    return pymedphys.data_path(\n",
    "        full_path,\n",
    "        url=url,\n",
    "        hash_filepath=hash_path,\n",
    "        delete_when_no_hash_found=False\n",
    "    )\n",
    "\n",
    "\n",
    "def get_filepaths_for_task(task):\n",
    "    metadata = get_metadata(task)\n",
    "        \n",
    "    for paths in metadata['training']:\n",
    "        image_path = download_task_path(task, paths['image'])\n",
    "        label_path = download_task_path(task, paths['label'])\n",
    "        \n",
    "        yield image_path, label_path"
   ]
  },
  {
   "cell_type": "code",
   "execution_count": null,
   "metadata": {},
   "outputs": [],
   "source": [
    "task = 'Task06_Lung'"
   ]
  },
  {
   "cell_type": "code",
   "execution_count": null,
   "metadata": {},
   "outputs": [],
   "source": [
    "gen = get_filepaths_for_task(task)"
   ]
  },
  {
   "cell_type": "code",
   "execution_count": null,
   "metadata": {},
   "outputs": [],
   "source": [
    "image_path, label_path = next(gen)"
   ]
  },
  {
   "cell_type": "code",
   "execution_count": null,
   "metadata": {},
   "outputs": [],
   "source": [
    "image_path.name.split('.')[0]"
   ]
  },
  {
   "cell_type": "code",
   "execution_count": null,
   "metadata": {},
   "outputs": [],
   "source": [
    "image = nibabel.load(image_path).get_fdata()\n",
    "label = nibabel.load(label_path).get_fdata()"
   ]
  },
  {
   "cell_type": "code",
   "execution_count": null,
   "metadata": {},
   "outputs": [],
   "source": [
    "image.shape"
   ]
  },
  {
   "cell_type": "code",
   "execution_count": null,
   "metadata": {},
   "outputs": [],
   "source": [
    "label.shape"
   ]
  },
  {
   "cell_type": "code",
   "execution_count": null,
   "metadata": {},
   "outputs": [],
   "source": [
    "# np.unique(label.get_fdata())"
   ]
  },
  {
   "cell_type": "code",
   "execution_count": null,
   "metadata": {},
   "outputs": [],
   "source": [
    "def get_contours_from_mask(x_grid, y_grid, mask, contour_level=0.5):\n",
    "    with warnings.catch_warnings():\n",
    "        warnings.simplefilter(\"ignore\", UserWarning)\n",
    "        fig, ax = plt.subplots()\n",
    "        cs = ax.contour(x_grid, y_grid, mask, [contour_level])\n",
    "\n",
    "    contours = [path.vertices for path in cs.collections[0].get_paths()]\n",
    "    plt.close(fig)\n",
    "\n",
    "    return contours"
   ]
  },
  {
   "cell_type": "code",
   "execution_count": null,
   "metadata": {},
   "outputs": [],
   "source": [
    "max_hu = 4095\n",
    "min_hu = 0\n",
    "\n",
    "hu_scale = (max_hu + 1) / 256\n",
    "\n",
    "dimension_downscale = int(8)"
   ]
  },
  {
   "cell_type": "code",
   "execution_count": null,
   "metadata": {},
   "outputs": [],
   "source": [
    "def hu_transform(hu):\n",
    "    new_hu = (hu + 1024)\n",
    "    if np.any(new_hu < 0):\n",
    "        raise ValueError()\n",
    "    \n",
    "    new_hu[new_hu > max_hu] = max_hu\n",
    "    \n",
    "    return (new_hu / hu_scale).astype(np.uint8)"
   ]
  },
  {
   "cell_type": "code",
   "execution_count": null,
   "metadata": {},
   "outputs": [],
   "source": [
    "# str(i).zfill(6)"
   ]
  },
  {
   "cell_type": "code",
   "execution_count": null,
   "metadata": {},
   "outputs": [],
   "source": [
    "patient_identifier = image_path.name.split('.')[0]\n",
    "patient_directory = f\"data/{patient_identifier}\"\n",
    "try:\n",
    "    os.mkdir(patient_directory)\n",
    "except FileExistsError:\n",
    "    pass\n",
    "\n",
    "i = 190\n",
    "\n",
    "filename_base = f\"{patient_directory}/{str(i).zfill(6)}\"\n",
    "\n",
    "x, y = np.arange(512), np.arange(512)\n",
    "\n",
    "current_image = image[:,-1::-1,i].T\n",
    "current_mask = label[:,-1::-1,i].T\n",
    "\n",
    "\n",
    "\n",
    "contours = get_contours_from_mask(\n",
    "    x, y, current_mask)\n",
    "\n",
    "\n",
    "plt.figure(figsize=(12,12))\n",
    "plt.pcolormesh(x, y, current_image, shading='nearest')\n",
    "plt.colorbar()\n",
    "plt.axis('equal')\n",
    "\n",
    "for contour in contours:\n",
    "    plt.plot(*contour.T, 'k')\n",
    "\n",
    "plt.gca().invert_yaxis()\n",
    "plt.show()\n",
    "\n",
    "\n",
    "shrunk_image = transform.downscale_local_mean(current_image, (dimension_downscale, dimension_downscale))\n",
    "shrunk_mask = transform.downscale_local_mean(current_mask, (dimension_downscale, dimension_downscale))\n",
    "\n",
    "shrunk_image[shrunk_image > max_hu] = max_hu\n",
    "hu_scaled_to_uint8 = hu_transform(shrunk_image)\n",
    "masks_scaled_to_uint8 = (shrunk_mask * 255).astype(np.uint8)\n",
    "\n",
    "print(np.max(hu_scaled_to_uint8))\n",
    "\n",
    "shrunk_x = x[dimension_downscale//2::dimension_downscale]\n",
    "shrunk_y = y[dimension_downscale//2::dimension_downscale]\n",
    "\n",
    "shrunk_contours = get_contours_from_mask(\n",
    "    shrunk_x, shrunk_y, masks_scaled_to_uint8, contour_level=128)\n",
    "\n",
    "plt.figure(figsize=(12,12))\n",
    "plt.pcolormesh(shrunk_x, shrunk_y, hu_scaled_to_uint8, shading='nearest')\n",
    "plt.colorbar()\n",
    "plt.axis('equal')\n",
    "\n",
    "for contour in shrunk_contours:\n",
    "    plt.plot(*contour.T, 'k')\n",
    "    \n",
    "for contour in contours:\n",
    "    plt.plot(*contour.T, 'k--')\n",
    "\n",
    "plt.gca().invert_yaxis()\n",
    "    \n",
    "imageio.imwrite(f'{filename_base}_image.png', hu_scaled_to_uint8)\n",
    "imageio.imwrite(f'{filename_base}_mask.png', masks_scaled_to_uint8)"
   ]
  },
  {
   "cell_type": "code",
   "execution_count": null,
   "metadata": {},
   "outputs": [],
   "source": []
  },
  {
   "cell_type": "code",
   "execution_count": null,
   "metadata": {},
   "outputs": [],
   "source": [
    "2**12"
   ]
  },
  {
   "cell_type": "code",
   "execution_count": null,
   "metadata": {},
   "outputs": [],
   "source": []
  },
  {
   "cell_type": "code",
   "execution_count": null,
   "metadata": {},
   "outputs": [],
   "source": []
  },
  {
   "cell_type": "code",
   "execution_count": null,
   "metadata": {},
   "outputs": [],
   "source": [
    "for ct_uid, x_grid, y_grid, input_array, output_array in dataset:\n",
    "    ct_uid = ct_uid.numpy().decode()\n",
    "    \n",
    "#     display.display(display.Markdown(f\"## {ct_uid}\"))\n",
    "#     diagnostic_plotting(x_grid, y_grid, input_array, output_array)\n",
    "#     plt.show()\n",
    "    \n",
    "    \n",
    "    scaled_input_array = tf.convert_to_tensor(transform.downscale_local_mean(input_array, (dimension_downscale, dimension_downscale, 1)))\n",
    "    scaled_output_array = tf.convert_to_tensor(transform.downscale_local_mean(output_array, (dimension_downscale, dimension_downscale, 1)))\n",
    "    \n",
    "    new_x_grid = tf.convert_to_tensor(x_grid[dimension_downscale//2::dimension_downscale])\n",
    "    new_y_grid = tf.convert_to_tensor(y_grid[dimension_downscale//2::dimension_downscale])\n",
    "    \n",
    "#     diagnostic_plotting(new_x_grid, new_y_grid, scaled_input_array, scaled_output_array)\n",
    "#     plt.show()\n",
    "    \n",
    "    new_input_array = scaled_input_array.numpy()[:, :, 0]\n",
    "    new_input_array[new_input_array > max_hu] = max_hu\n",
    "    \n",
    "    hu_scaled_to_uint8 = (new_input_array / hu_scale).astype(np.uint8)\n",
    "    masks_scaled_to_uint8 = ((scaled_output_array.numpy() + 1)/2 * 255).astype(np.uint8)\n",
    "    \n",
    "#     plt.imshow(hu_scaled_to_uint8)\n",
    "#     plt.show()\n",
    "#     plt.imshow(masks_scaled_to_uint8)\n",
    "#     plt.show()\n",
    "\n",
    "    ct_uid_split = ct_uid.split('.')\n",
    "    patient_component = \".\".join(ct_uid_split[0:-2])\n",
    "    slice_component = \".\".join(ct_uid_split[-2:])\n",
    "\n",
    "    try:\n",
    "        os.mkdir(f'data/{patient_component}')\n",
    "    except FileExistsError:\n",
    "        pass\n",
    "    \n",
    "    imageio.imwrite(f'data/{patient_component}/{slice_component}_image.png', hu_scaled_to_uint8)\n",
    "    imageio.imwrite(f'data/{patient_component}/{slice_component}_mask.png', masks_scaled_to_uint8)"
   ]
  },
  {
   "cell_type": "code",
   "execution_count": null,
   "metadata": {},
   "outputs": [],
   "source": [
    "get_metadata(task)"
   ]
  },
  {
   "cell_type": "code",
   "execution_count": null,
   "metadata": {},
   "outputs": [],
   "source": []
  },
  {
   "cell_type": "code",
   "execution_count": null,
   "metadata": {},
   "outputs": [],
   "source": []
  },
  {
   "cell_type": "code",
   "execution_count": null,
   "metadata": {},
   "outputs": [],
   "source": []
  },
  {
   "cell_type": "code",
   "execution_count": null,
   "metadata": {},
   "outputs": [],
   "source": []
  },
  {
   "cell_type": "code",
   "execution_count": null,
   "metadata": {},
   "outputs": [],
   "source": []
  },
  {
   "cell_type": "code",
   "execution_count": null,
   "metadata": {},
   "outputs": [],
   "source": []
  },
  {
   "cell_type": "code",
   "execution_count": null,
   "metadata": {},
   "outputs": [],
   "source": []
  },
  {
   "cell_type": "code",
   "execution_count": null,
   "metadata": {},
   "outputs": [],
   "source": []
  }
 ],
 "metadata": {
  "kernelspec": {
   "display_name": "pymedphys-master",
   "language": "python",
   "name": "pymedphys-master"
  },
  "language_info": {
   "codemirror_mode": {
    "name": "ipython",
    "version": 3
   },
   "file_extension": ".py",
   "mimetype": "text/x-python",
   "name": "python",
   "nbconvert_exporter": "python",
   "pygments_lexer": "ipython3",
   "version": "3.7.8"
  }
 },
 "nbformat": 4,
 "nbformat_minor": 4
}
