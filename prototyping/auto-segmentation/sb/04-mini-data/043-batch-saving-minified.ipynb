{
 "cells": [
  {
   "cell_type": "code",
   "execution_count": null,
   "metadata": {},
   "outputs": [],
   "source": [
    "import os\n",
    "import json\n",
    "import pathlib\n",
    "import random\n",
    "\n",
    "import numpy as np\n",
    "import matplotlib.pyplot as plt\n",
    "\n",
    "import imageio\n",
    "from skimage import transform\n",
    "\n",
    "from IPython import display"
   ]
  },
  {
   "cell_type": "code",
   "execution_count": null,
   "metadata": {},
   "outputs": [],
   "source": [
    "try:\n",
    "    os.mkdir('data')\n",
    "except FileExistsError:\n",
    "    pass"
   ]
  },
  {
   "cell_type": "code",
   "execution_count": null,
   "metadata": {},
   "outputs": [],
   "source": [
    "import tensorflow as tf"
   ]
  },
  {
   "cell_type": "code",
   "execution_count": null,
   "metadata": {},
   "outputs": [],
   "source": [
    "# Makes it so any changes in pymedphys is automatically\n",
    "# propagated into the notebook without needing a kernel reset.\n",
    "from IPython.lib.deepreload import reload\n",
    "%load_ext autoreload\n",
    "%autoreload 2"
   ]
  },
  {
   "cell_type": "code",
   "execution_count": null,
   "metadata": {},
   "outputs": [],
   "source": [
    "import pymedphys\n",
    "from pymedphys._experimental.autosegmentation import indexing, filtering, pipeline, mask"
   ]
  },
  {
   "cell_type": "code",
   "execution_count": null,
   "metadata": {},
   "outputs": [],
   "source": [
    "mask_expansion = 5"
   ]
  },
  {
   "cell_type": "code",
   "execution_count": null,
   "metadata": {},
   "outputs": [],
   "source": [
    "# Create masks for the following structures, in the following order\n",
    "structures_to_learn = [\n",
    "    'eye_left', 'eye_right', 'patient']\n",
    "\n",
    "# Use the following to filter the slices used for training, validation,\n",
    "# and testing\n",
    "filters = {\n",
    "    \"study_set_must_have_all_of\": structures_to_learn,\n",
    "    \"slice_at_least_one_of\": None,\n",
    "    \"slice_must_have\": ['patient'],\n",
    "    \"slice_cannot_have\": []\n",
    "}"
   ]
  },
  {
   "cell_type": "code",
   "execution_count": null,
   "metadata": {},
   "outputs": [],
   "source": [
    "structure_uids, ct_uids = pipeline.get_filtered_uids(filters)"
   ]
  },
  {
   "cell_type": "code",
   "execution_count": null,
   "metadata": {},
   "outputs": [],
   "source": [
    "dataset = pipeline.create_dataset(ct_uids, structures_to_learn, expansion=mask_expansion)"
   ]
  },
  {
   "cell_type": "code",
   "execution_count": null,
   "metadata": {},
   "outputs": [],
   "source": []
  },
  {
   "cell_type": "code",
   "execution_count": null,
   "metadata": {},
   "outputs": [],
   "source": [
    "def diagnostic_plotting(x_grid, y_grid, input_array, output_array):\n",
    "    plt.figure(figsize=(15,10))\n",
    "    \n",
    "    x_grid = x_grid.numpy()\n",
    "    y_grid = y_grid.numpy()\n",
    "    input_array = input_array.numpy()[:,:,0]\n",
    "    output_array = output_array.numpy()\n",
    "    \n",
    "    for i, structure in enumerate(structures_to_learn[0:-1]):\n",
    "        if structure.endswith('left'):\n",
    "            colour = 'r'\n",
    "        elif structure.endswith('right'):\n",
    "            colour = 'b'\n",
    "        else:\n",
    "            raise ValueError(\"Expected either left or right\")\n",
    "            \n",
    "        if structure.startswith('lens'):\n",
    "            colour += '--'\n",
    "        elif structure.startswith('eye'):\n",
    "            colour += '-'\n",
    "        else:\n",
    "            raise ValueError(\"Expected either eye or lens\")\n",
    "\n",
    "        contours = mask.get_contours_from_mask(\n",
    "            x_grid, y_grid, output_array[:,:,i])\n",
    "        for contour in contours:\n",
    "            plt.plot(*contour.T, colour)\n",
    "            \n",
    "    \n",
    "    contours = mask.get_contours_from_mask(\n",
    "        x_grid, y_grid, output_array[:,:,-1])\n",
    "    for contour in contours:\n",
    "        plt.plot(*contour.T, 'k--')\n",
    "        \n",
    "    plt.axis('equal')\n",
    "    ax = plt.gca()\n",
    "    xlim = ax.get_xlim()\n",
    "    ylim = ax.get_ylim()\n",
    "    \n",
    "#     windowed = np.copy(input_array)\n",
    "\n",
    "#     vmin = 900\n",
    "#     vmax = 1200\n",
    "#     windowed[windowed<vmin] = vmin\n",
    "#     windowed[windowed>vmax] = vmax\n",
    "\n",
    "    plt.pcolormesh(x_grid, y_grid, input_array, shading=\"nearest\")\n",
    "    plt.colorbar()\n",
    "    ax.set_xlim(xlim)\n",
    "    ax.set_ylim(ylim)"
   ]
  },
  {
   "cell_type": "code",
   "execution_count": null,
   "metadata": {},
   "outputs": [],
   "source": [
    "max_hu = 4095\n",
    "min_hu = 0\n",
    "\n",
    "hu_scale = (max_hu + 1) / 256\n",
    "\n",
    "dimension_downscale = int(8)"
   ]
  },
  {
   "cell_type": "code",
   "execution_count": null,
   "metadata": {},
   "outputs": [],
   "source": [
    "for ct_uid, x_grid, y_grid, input_array, output_array in dataset:\n",
    "    ct_uid = ct_uid.numpy().decode()\n",
    "    \n",
    "#     display.display(display.Markdown(f\"## {ct_uid}\"))\n",
    "#     diagnostic_plotting(x_grid, y_grid, input_array, output_array)\n",
    "#     plt.show()\n",
    "    \n",
    "    \n",
    "    scaled_input_array = tf.convert_to_tensor(transform.downscale_local_mean(input_array, (dimension_downscale, dimension_downscale, 1)))\n",
    "    scaled_output_array = tf.convert_to_tensor(transform.downscale_local_mean(output_array, (dimension_downscale, dimension_downscale, 1)))\n",
    "    \n",
    "    new_x_grid = tf.convert_to_tensor(x_grid[dimension_downscale//2::dimension_downscale])\n",
    "    new_y_grid = tf.convert_to_tensor(y_grid[dimension_downscale//2::dimension_downscale])\n",
    "    \n",
    "#     diagnostic_plotting(new_x_grid, new_y_grid, scaled_input_array, scaled_output_array)\n",
    "#     plt.show()\n",
    "    \n",
    "    new_input_array = scaled_input_array.numpy()[:, :, 0]\n",
    "    new_input_array[new_input_array > max_hu] = max_hu\n",
    "    \n",
    "    hu_scaled_to_uint8 = (new_input_array / hu_scale).astype(np.uint8)\n",
    "    masks_scaled_to_uint8 = ((scaled_output_array.numpy() + 1)/2 * 255).astype(np.uint8)\n",
    "    \n",
    "#     plt.imshow(hu_scaled_to_uint8)\n",
    "#     plt.show()\n",
    "#     plt.imshow(masks_scaled_to_uint8)\n",
    "#     plt.show()\n",
    "\n",
    "    ct_uid_split = ct_uid.split('.')\n",
    "    patient_component = \".\".join(ct_uid_split[0:-2])\n",
    "    slice_component = \".\".join(ct_uid_split[-2:])\n",
    "\n",
    "    try:\n",
    "        os.mkdir(f'data/{patient_component}')\n",
    "    except FileExistsError:\n",
    "        pass\n",
    "    \n",
    "    imageio.imwrite(f'data/{patient_component}/{slice_component}_image.png', hu_scaled_to_uint8)\n",
    "    imageio.imwrite(f'data/{patient_component}/{slice_component}_mask.png', masks_scaled_to_uint8)"
   ]
  },
  {
   "cell_type": "code",
   "execution_count": null,
   "metadata": {},
   "outputs": [],
   "source": []
  }
 ],
 "metadata": {
  "kernelspec": {
   "display_name": "pymedphys-master",
   "language": "python",
   "name": "pymedphys-master"
  },
  "language_info": {
   "codemirror_mode": {
    "name": "ipython",
    "version": 3
   },
   "file_extension": ".py",
   "mimetype": "text/x-python",
   "name": "python",
   "nbconvert_exporter": "python",
   "pygments_lexer": "ipython3",
   "version": "3.7.8"
  }
 },
 "nbformat": 4,
 "nbformat_minor": 4
}
