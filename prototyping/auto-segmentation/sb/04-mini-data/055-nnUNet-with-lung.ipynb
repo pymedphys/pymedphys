{
 "cells": [
  {
   "cell_type": "code",
   "execution_count": null,
   "metadata": {
    "id": "btI97_sgVZgb"
   },
   "outputs": [],
   "source": [
    "import json\n",
    "from urllib import request\n",
    "import pathlib\n",
    "import zipfile\n",
    "import os\n",
    "\n",
    "import pymedphys"
   ]
  },
  {
   "cell_type": "code",
   "execution_count": null,
   "metadata": {},
   "outputs": [],
   "source": [
    "task = 'Task06_Lung'"
   ]
  },
  {
   "cell_type": "code",
   "execution_count": null,
   "metadata": {},
   "outputs": [],
   "source": [
    "data_root = pymedphys._config.get_config_dir().joinpath('data')\n",
    "\n",
    "nnUNet_data_root = data_root.joinpath('nnUNet')\n",
    "nnUNet_data_root.mkdir(exist_ok=True, parents=True)\n",
    "\n",
    "nnUNet_raw_data_base = nnUNet_data_root.joinpath('nnUNet_raw_data_base')\n",
    "\n",
    "raw_data_dir = nnUNet_raw_data_base.joinpath('nnUNet_raw_data')\n",
    "raw_data_dir.mkdir(exist_ok=True, parents=True)"
   ]
  },
  {
   "cell_type": "code",
   "execution_count": null,
   "metadata": {},
   "outputs": [],
   "source": [
    "relative_raw_data_dir = raw_data_dir.relative_to(data_root)\n",
    "relative_raw_data_dir"
   ]
  },
  {
   "cell_type": "code",
   "execution_count": null,
   "metadata": {},
   "outputs": [],
   "source": [
    "here = pathlib.Path('.')\n",
    "\n",
    "nnUNet_preprocessed = here.joinpath('nnUNet_preprocessed')\n",
    "results_folder = here.joinpath('results')"
   ]
  },
  {
   "cell_type": "code",
   "execution_count": null,
   "metadata": {},
   "outputs": [],
   "source": [
    "hash_path = nnUNet_data_root.joinpath('hashes.json')\n",
    "\n",
    "if not hash_path.exists():\n",
    "    with open(hash_path, \"w\") as f:\n",
    "        f.write(\"{}\")"
   ]
  },
  {
   "cell_type": "code",
   "execution_count": null,
   "metadata": {},
   "outputs": [],
   "source": [
    "base_download_url = 'https://github.com/pymedphys/data/releases/download'"
   ]
  },
  {
   "cell_type": "code",
   "execution_count": null,
   "metadata": {},
   "outputs": [],
   "source": [
    "def get_metadata_path(task):\n",
    "    return relative_raw_data_dir.joinpath(task, \"dataset.json\")"
   ]
  },
  {
   "cell_type": "code",
   "execution_count": null,
   "metadata": {},
   "outputs": [],
   "source": [
    "def get_metadata(task):\n",
    "    download_url = f\"{base_download_url}/{task}/dataset.json\"\n",
    "    metadata_path = pymedphys.data_path(\n",
    "        get_metadata_path(task),\n",
    "        url=download_url,\n",
    "        hash_filepath=hash_path\n",
    "    )\n",
    "    \n",
    "    with open(metadata_path) as f:\n",
    "        metadata = json.load(f)\n",
    "        \n",
    "    return metadata"
   ]
  },
  {
   "cell_type": "code",
   "execution_count": null,
   "metadata": {},
   "outputs": [],
   "source": [
    "def download_task_path(task, path):\n",
    "    url = f\"{base_download_url}/{task}/{path[2:].replace('/', '--os.sep--')}\"\n",
    "    full_path = relative_raw_data_dir.joinpath(task).joinpath(path)\n",
    "    \n",
    "    return pymedphys.data_path(\n",
    "        full_path,\n",
    "        url=url,\n",
    "        hash_filepath=hash_path,\n",
    "        delete_when_no_hash_found=False\n",
    "    )\n",
    "\n",
    "\n",
    "def get_filepaths_for_task(task):\n",
    "    metadata = get_metadata(task)\n",
    "        \n",
    "    for paths in metadata['training']:\n",
    "        image_path = download_task_path(task, paths['image'])\n",
    "        label_path = download_task_path(task, paths['label'])\n",
    "        \n",
    "        yield image_path, label_path"
   ]
  },
  {
   "cell_type": "code",
   "execution_count": null,
   "metadata": {},
   "outputs": [],
   "source": []
  },
  {
   "cell_type": "code",
   "execution_count": null,
   "metadata": {},
   "outputs": [],
   "source": [
    "gen = get_filepaths_for_task(task)\n",
    "list(gen);"
   ]
  },
  {
   "cell_type": "code",
   "execution_count": null,
   "metadata": {},
   "outputs": [],
   "source": [
    "task_path = raw_data_dir.joinpath(task)\n",
    "task_path"
   ]
  },
  {
   "cell_type": "code",
   "execution_count": null,
   "metadata": {},
   "outputs": [],
   "source": [
    "metadata_path = data_root.joinpath(get_metadata_path(task))"
   ]
  },
  {
   "cell_type": "code",
   "execution_count": null,
   "metadata": {},
   "outputs": [],
   "source": [
    "metadata = get_metadata(task)\n",
    "metadata['test'] = []\n",
    "# metadata"
   ]
  },
  {
   "cell_type": "code",
   "execution_count": null,
   "metadata": {},
   "outputs": [],
   "source": [
    "with open(metadata_path, 'w') as f:\n",
    "    json.dump(metadata, f)"
   ]
  },
  {
   "cell_type": "code",
   "execution_count": null,
   "metadata": {},
   "outputs": [],
   "source": [
    "ts_path = task_path.joinpath('imagesTs')\n",
    "ts_path.mkdir(exist_ok=True)"
   ]
  },
  {
   "cell_type": "code",
   "execution_count": null,
   "metadata": {
    "id": "Dt8CM7yaWjSM"
   },
   "outputs": [],
   "source": [
    "os.environ[\"nnUNet_raw_data_base\"] = str(nnUNet_raw_data_base)\n",
    "os.environ[\"nnUNet_preprocessed\"] = str(nnUNet_preprocessed)\n",
    "os.environ[\"RESULTS_FOLDER\"] = str(results_folder)"
   ]
  },
  {
   "cell_type": "code",
   "execution_count": null,
   "metadata": {},
   "outputs": [],
   "source": [
    "!nnUNet_convert_decathlon_task -i {str(task_path)} -p 1"
   ]
  },
  {
   "cell_type": "code",
   "execution_count": null,
   "metadata": {
    "colab": {
     "base_uri": "https://localhost:8080/",
     "height": 1000
    },
    "id": "35uSX0aPWu-c",
    "outputId": "28ff0cca-e8a9-4344-ff5f-f529994c0a0c"
   },
   "outputs": [],
   "source": [
    "!nnUNet_plan_and_preprocess -t 006 --verify_dataset_integrity"
   ]
  },
  {
   "cell_type": "code",
   "execution_count": null,
   "metadata": {
    "colab": {
     "base_uri": "https://localhost:8080/",
     "height": 921
    },
    "id": "3D3OZgqCXJw9",
    "outputId": "558a8db0-ba6d-4af2-a992-477480f9ca9a"
   },
   "outputs": [],
   "source": [
    "!nnUNet_train 2d nnUNetTrainerV2 Task006_Lung 0"
   ]
  },
  {
   "cell_type": "code",
   "execution_count": null,
   "metadata": {},
   "outputs": [],
   "source": [
    "!nnUNet_train 2d nnUNetTrainerV2 Task006_Lung 1"
   ]
  },
  {
   "cell_type": "code",
   "execution_count": null,
   "metadata": {},
   "outputs": [],
   "source": [
    "!nnUNet_train 2d nnUNetTrainerV2 Task006_Lung 2"
   ]
  },
  {
   "cell_type": "code",
   "execution_count": null,
   "metadata": {},
   "outputs": [],
   "source": [
    "!nnUNet_train 2d nnUNetTrainerV2 Task006_Lung 3"
   ]
  },
  {
   "cell_type": "code",
   "execution_count": null,
   "metadata": {},
   "outputs": [],
   "source": [
    "!nnUNet_train 2d nnUNetTrainerV2 Task006_Lung 4"
   ]
  },
  {
   "cell_type": "code",
   "execution_count": null,
   "metadata": {},
   "outputs": [],
   "source": [
    "!nnUNet_train 3d_fullres nnUNetTrainerV2 Task006_Lung 0"
   ]
  },
  {
   "cell_type": "code",
   "execution_count": null,
   "metadata": {},
   "outputs": [],
   "source": []
  }
 ],
 "metadata": {
  "colab": {
   "collapsed_sections": [],
   "name": "nnUNet with mini-lung.ipynb",
   "provenance": []
  },
  "kernelspec": {
   "display_name": "pymedphys-master",
   "language": "python",
   "name": "pymedphys-master"
  },
  "language_info": {
   "codemirror_mode": {
    "name": "ipython",
    "version": 3
   },
   "file_extension": ".py",
   "mimetype": "text/x-python",
   "name": "python",
   "nbconvert_exporter": "python",
   "pygments_lexer": "ipython3",
   "version": "3.7.8"
  }
 },
 "nbformat": 4,
 "nbformat_minor": 4
}
