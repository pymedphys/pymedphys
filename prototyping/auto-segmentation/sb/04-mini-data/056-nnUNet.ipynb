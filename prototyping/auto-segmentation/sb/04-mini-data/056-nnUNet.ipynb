{
 "cells": [
  {
   "cell_type": "code",
   "execution_count": null,
   "metadata": {
    "id": "IPXGsf_tXPWK"
   },
   "outputs": [],
   "source": [
    "!pip install nnunet"
   ]
  },
  {
   "cell_type": "code",
   "execution_count": null,
   "metadata": {
    "id": "btI97_sgVZgb"
   },
   "outputs": [],
   "source": [
    "from urllib import request\n",
    "import pathlib\n",
    "import zipfile\n",
    "import os"
   ]
  },
  {
   "cell_type": "code",
   "execution_count": null,
   "metadata": {
    "id": "K3dkzefcVfkM"
   },
   "outputs": [],
   "source": [
    "url = 'https://github.com/pymedphys/data/releases/download/nifti-mini-lung/Task106_MiniLung.zip'\n",
    "filename = url.split('/')[-1]"
   ]
  },
  {
   "cell_type": "code",
   "execution_count": null,
   "metadata": {
    "id": "JoLdP5jzVwIk"
   },
   "outputs": [],
   "source": [
    "if not pathlib.Path(filename).exists():\n",
    "    request.urlretrieve(url, filename)"
   ]
  },
  {
   "cell_type": "code",
   "execution_count": null,
   "metadata": {
    "id": "L9X-JEF5VwYU"
   },
   "outputs": [],
   "source": [
    "here = pathlib.Path('.').resolve()"
   ]
  },
  {
   "cell_type": "code",
   "execution_count": null,
   "metadata": {
    "id": "8DiI2dPBV8n7"
   },
   "outputs": [],
   "source": [
    "nnUNet_raw_data_base = here.joinpath('nnUNet_raw_data_base')\n",
    "nnUNet_preprocessed = here.joinpath('nnUNet_preprocessed')\n",
    "results_folder = here.joinpath('results')"
   ]
  },
  {
   "cell_type": "code",
   "execution_count": null,
   "metadata": {
    "id": "5VhaRN2nXkKc"
   },
   "outputs": [],
   "source": [
    "raw_data_dir = nnUNet_raw_data_base.joinpath('nnUNet_raw_data')\n",
    "raw_data_dir.mkdir(exist_ok=True, parents=True)"
   ]
  },
  {
   "cell_type": "code",
   "execution_count": null,
   "metadata": {
    "id": "uS6_iY3hXuFs"
   },
   "outputs": [],
   "source": [
    "with zipfile.ZipFile(filename, 'r') as zip_ref:\n",
    "    zip_ref.extractall(raw_data_dir)"
   ]
  },
  {
   "cell_type": "code",
   "execution_count": null,
   "metadata": {
    "id": "Dt8CM7yaWjSM"
   },
   "outputs": [],
   "source": [
    "os.environ[\"nnUNet_raw_data_base\"] = str(nnUNet_raw_data_base)\n",
    "os.environ[\"nnUNet_preprocessed\"] = str(nnUNet_preprocessed)\n",
    "os.environ[\"RESULTS_FOLDER\"] = str(results_folder)"
   ]
  },
  {
   "cell_type": "code",
   "execution_count": null,
   "metadata": {
    "colab": {
     "base_uri": "https://localhost:8080/",
     "height": 1000
    },
    "id": "35uSX0aPWu-c",
    "outputId": "28ff0cca-e8a9-4344-ff5f-f529994c0a0c"
   },
   "outputs": [],
   "source": [
    "!nnUNet_plan_and_preprocess -t 106 --verify_dataset_integrity"
   ]
  },
  {
   "cell_type": "code",
   "execution_count": null,
   "metadata": {
    "colab": {
     "base_uri": "https://localhost:8080/",
     "height": 921
    },
    "id": "3D3OZgqCXJw9",
    "outputId": "558a8db0-ba6d-4af2-a992-477480f9ca9a"
   },
   "outputs": [],
   "source": [
    "!nnUNet_train 2d nnUNetTrainerV2 Task106_MiniLung 0"
   ]
  }
 ],
 "metadata": {
  "colab": {
   "collapsed_sections": [],
   "name": "nnUNet with mini-lung.ipynb",
   "provenance": []
  },
  "kernelspec": {
   "display_name": "Python 3",
   "language": "python",
   "name": "python3"
  },
  "language_info": {
   "codemirror_mode": {
    "name": "ipython",
    "version": 3
   },
   "file_extension": ".py",
   "mimetype": "text/x-python",
   "name": "python",
   "nbconvert_exporter": "python",
   "pygments_lexer": "ipython3",
   "version": "3.7.8"
  }
 },
 "nbformat": 4,
 "nbformat_minor": 4
}
