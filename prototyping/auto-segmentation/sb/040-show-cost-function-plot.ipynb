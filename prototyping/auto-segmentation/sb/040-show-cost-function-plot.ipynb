{
 "cells": [
  {
   "cell_type": "code",
   "execution_count": null,
   "metadata": {},
   "outputs": [],
   "source": [
    "import json\n",
    "import pathlib\n",
    "import random\n",
    "import functools\n",
    "\n",
    "import numpy as np\n",
    "import matplotlib.pyplot as plt\n",
    "\n",
    "import skimage.filters\n",
    "\n",
    "from IPython import display"
   ]
  },
  {
   "cell_type": "code",
   "execution_count": null,
   "metadata": {},
   "outputs": [],
   "source": [
    "import tensorflow as tf"
   ]
  },
  {
   "cell_type": "code",
   "execution_count": null,
   "metadata": {},
   "outputs": [],
   "source": [
    "# Makes it so any changes in pymedphys is automatically\n",
    "# propagated into the notebook without needing a kernel reset.\n",
    "from IPython.lib.deepreload import reload\n",
    "%load_ext autoreload\n",
    "%autoreload 2"
   ]
  },
  {
   "cell_type": "code",
   "execution_count": null,
   "metadata": {},
   "outputs": [],
   "source": [
    "!pip install \"pymedphys>=0.33.0\"\n",
    "!pip install \"pydicom>=2\""
   ]
  },
  {
   "cell_type": "code",
   "execution_count": null,
   "metadata": {},
   "outputs": [],
   "source": [
    "import pydicom"
   ]
  },
  {
   "cell_type": "code",
   "execution_count": null,
   "metadata": {},
   "outputs": [],
   "source": [
    "import pymedphys\n",
    "from pymedphys._experimental.autosegmentation import indexing, filtering, pipeline, mask, softdice"
   ]
  },
  {
   "cell_type": "code",
   "execution_count": null,
   "metadata": {},
   "outputs": [],
   "source": [
    "ct_uid_to_use = '1.2.840.113704.1.111.3096.1537312918.112198'"
   ]
  },
  {
   "cell_type": "code",
   "execution_count": null,
   "metadata": {},
   "outputs": [],
   "source": [
    "# Create masks for the following structures, in the following order\n",
    "structures_to_learn = [\n",
    "    'lens_left', 'lens_right', 'eye_left', 'eye_right', 'patient']\n",
    "\n",
    "# Use the following to filter the slices used for training, validation,\n",
    "# and testing\n",
    "filters = {\n",
    "    \"study_set_must_have_all_of\": structures_to_learn,\n",
    "    \"slice_at_least_one_of\": [\n",
    "        'lens_left', 'lens_right', 'eye_left', 'eye_right'\n",
    "    ],\n",
    "    \"slice_must_have\": ['patient'],\n",
    "    \"slice_cannot_have\": []\n",
    "}"
   ]
  },
  {
   "cell_type": "code",
   "execution_count": null,
   "metadata": {},
   "outputs": [],
   "source": [
    "(\n",
    "    data_path_root,\n",
    "    structure_set_paths,\n",
    "    ct_image_paths,\n",
    "    ct_uid_to_structure_uid,\n",
    "    _,\n",
    "    names_map,\n",
    "    _,\n",
    "    _,\n",
    "    uid_to_url,\n",
    "    hash_path,\n",
    ") = pipeline.get_dataset_metadata()"
   ]
  },
  {
   "cell_type": "code",
   "execution_count": null,
   "metadata": {},
   "outputs": [],
   "source": [
    "@functools.lru_cache()\n",
    "def get_dcm_ct_from_uid(ct_uid):\n",
    "    ct_path = ct_image_paths[ct_uid]\n",
    "    dcm_ct = pydicom.read_file(ct_path, force=True)\n",
    "\n",
    "    dcm_ct.file_meta.TransferSyntaxUID = pydicom.uid.ImplicitVRLittleEndian\n",
    "\n",
    "    return dcm_ct"
   ]
  },
  {
   "cell_type": "code",
   "execution_count": null,
   "metadata": {},
   "outputs": [],
   "source": [
    "binary_mask_dataset = pipeline.create_dataset(\n",
    "    [ct_uid_to_use], structures_to_learn, expansion=1)\n",
    "\n",
    "floating_point_edge_dataset = pipeline.create_dataset(\n",
    "    [ct_uid_to_use], structures_to_learn, expansion=5)"
   ]
  },
  {
   "cell_type": "code",
   "execution_count": null,
   "metadata": {},
   "outputs": [],
   "source": [
    "def diagnostic_plotting(x_grid, y_grid, input_array, output_array):\n",
    "    plt.figure(figsize=(15,10))\n",
    "    \n",
    "    x_grid = x_grid.numpy()\n",
    "    y_grid = y_grid.numpy()\n",
    "    input_array = input_array.numpy()[:,:,0]\n",
    "    output_array = output_array.numpy()\n",
    "    \n",
    "    for i, structure in enumerate(structures_to_learn[0:-1]):\n",
    "        if structure.endswith('left'):\n",
    "            colour = 'r'\n",
    "        elif structure.endswith('right'):\n",
    "            colour = 'b'\n",
    "        else:\n",
    "            raise ValueError(\"Expected either left or right\")\n",
    "            \n",
    "        if structure.startswith('lens'):\n",
    "            colour += '--'\n",
    "        elif structure.startswith('eye'):\n",
    "            colour += '-'\n",
    "        else:\n",
    "            raise ValueError(\"Expected either eye or lens\")\n",
    "\n",
    "        contours = mask.get_contours_from_mask(\n",
    "            x_grid, y_grid, output_array[:,:,i])\n",
    "        for contour in contours:\n",
    "            plt.plot(*contour.T, colour)\n",
    "                        \n",
    "    \n",
    "    plt.axis('equal')\n",
    "    ax = plt.gca()\n",
    "    xlim = ax.get_xlim()\n",
    "    ylim = ax.get_ylim()\n",
    "    \n",
    "    contours = mask.get_contours_from_mask(\n",
    "        x_grid, y_grid, output_array[:,:,-1])\n",
    "    for contour in contours:\n",
    "        plt.plot(*contour.T, 'k--')\n",
    "    \n",
    "    windowed = np.copy(input_array)\n",
    "\n",
    "    vmin = 900\n",
    "    vmax = 1200\n",
    "    windowed[windowed<vmin] = vmin\n",
    "    windowed[windowed>vmax] = vmax\n",
    "\n",
    "    plt.contourf(x_grid, y_grid, windowed, 50)\n",
    "    plt.colorbar()\n",
    "    ax.set_xlim(xlim)\n",
    "    ax.set_ylim(ylim)"
   ]
  },
  {
   "cell_type": "markdown",
   "metadata": {},
   "source": [
    "## Contours produced from binary masks"
   ]
  },
  {
   "cell_type": "code",
   "execution_count": null,
   "metadata": {},
   "outputs": [],
   "source": [
    "for ct_uid, x_grid, y_grid, input_array, output_array in binary_mask_dataset:    \n",
    "    ct_uid = ct_uid.numpy().decode()\n",
    "    \n",
    "    binary_mask_lens = output_array[:,:,0]\n",
    "    \n",
    "    display.display(display.Markdown(f\"## {ct_uid}\"))\n",
    "    diagnostic_plotting(x_grid, y_grid, input_array, output_array)\n",
    "    plt.show()"
   ]
  },
  {
   "cell_type": "markdown",
   "metadata": {},
   "source": [
    "## Contours produced where the edge pixel of a mask is able to be a floating point"
   ]
  },
  {
   "cell_type": "code",
   "execution_count": null,
   "metadata": {},
   "outputs": [],
   "source": [
    "for ct_uid, x_grid, y_grid, input_array, output_array in floating_point_edge_dataset:    \n",
    "    ct_uid = ct_uid.numpy().decode()\n",
    "    \n",
    "    floating_point_mask_lens = output_array[:,:,0]\n",
    "    \n",
    "    display.display(display.Markdown(f\"## {ct_uid}\"))\n",
    "    diagnostic_plotting(x_grid, y_grid, input_array, output_array)\n",
    "    plt.show()"
   ]
  },
  {
   "cell_type": "code",
   "execution_count": null,
   "metadata": {},
   "outputs": [],
   "source": [
    "contours = mask.get_contours_from_mask(\n",
    "    x_grid, y_grid, binary_mask_lens[:,:])\n",
    "\n",
    "for contour in contours:\n",
    "    plt.plot(*contour.T)\n",
    "\n",
    "plt.axis('equal')"
   ]
  },
  {
   "cell_type": "code",
   "execution_count": null,
   "metadata": {},
   "outputs": [],
   "source": [
    "contours = mask.get_contours_from_mask(\n",
    "    x_grid, y_grid, floating_point_mask_lens[:,:])\n",
    "\n",
    "for contour in contours:\n",
    "    plt.plot(*contour.T)\n",
    "\n",
    "plt.axis('equal')"
   ]
  },
  {
   "cell_type": "code",
   "execution_count": null,
   "metadata": {},
   "outputs": [],
   "source": [
    "new_contour = contour.copy()\n",
    "new_contour[5,0] -= 0.1\n",
    "new_contour[6,0] -= 0.1\n",
    "new_contour[7,0] -= 0.1"
   ]
  },
  {
   "cell_type": "code",
   "execution_count": null,
   "metadata": {},
   "outputs": [],
   "source": [
    "plt.plot(*contour.T)\n",
    "plt.plot(*new_contour.T)\n",
    "\n",
    "lims = plt.axis('equal')"
   ]
  },
  {
   "cell_type": "code",
   "execution_count": null,
   "metadata": {},
   "outputs": [],
   "source": [
    "dcm_ct = get_dcm_ct_from_uid(ct_uid)"
   ]
  },
  {
   "cell_type": "code",
   "execution_count": null,
   "metadata": {},
   "outputs": [],
   "source": [
    "def mock_dicom_contour(input_contour):\n",
    "    contour_numpy = np.zeros((np.shape(input_contour)[0], 3))\n",
    "    contour_numpy[:,:-1] = input_contour\n",
    "    dicom_contour = np.ravel(contour_numpy)\n",
    "\n",
    "    return [dicom_contour]"
   ]
  },
  {
   "cell_type": "code",
   "execution_count": null,
   "metadata": {},
   "outputs": [],
   "source": [
    "binary_mask_original = mask.calculate_anti_aliased_mask(mock_dicom_contour(contour), dcm_ct, expansion=1)\n",
    "binary_mask_edited = mask.calculate_anti_aliased_mask(mock_dicom_contour(new_contour), dcm_ct, expansion=1)"
   ]
  },
  {
   "cell_type": "code",
   "execution_count": null,
   "metadata": {},
   "outputs": [],
   "source": [
    "x_grid, y_grid = binary_mask_original[0:2]"
   ]
  },
  {
   "cell_type": "code",
   "execution_count": null,
   "metadata": {},
   "outputs": [],
   "source": [
    "plt.pcolormesh(*binary_mask_original)\n",
    "plt.axis('equal')\n",
    "plt.xlim(lims[0:2])\n",
    "plt.ylim(lims[2:])"
   ]
  },
  {
   "cell_type": "code",
   "execution_count": null,
   "metadata": {},
   "outputs": [],
   "source": [
    "plt.pcolormesh(*binary_mask_edited)\n",
    "plt.axis('equal')\n",
    "plt.xlim(lims[0:2])\n",
    "plt.ylim(lims[2:])"
   ]
  },
  {
   "cell_type": "code",
   "execution_count": null,
   "metadata": {},
   "outputs": [],
   "source": [
    "diff = binary_mask_original[-1] - binary_mask_edited[-1]"
   ]
  },
  {
   "cell_type": "code",
   "execution_count": null,
   "metadata": {},
   "outputs": [],
   "source": [
    "plt.pcolormesh(x_grid, y_grid, diff)\n",
    "plt.axis('equal')\n",
    "plt.xlim(lims[0:2])\n",
    "plt.ylim(lims[2:])"
   ]
  },
  {
   "cell_type": "code",
   "execution_count": null,
   "metadata": {},
   "outputs": [],
   "source": [
    "floating_mask_original = mask.calculate_anti_aliased_mask(mock_dicom_contour(contour), dcm_ct, expansion=5)\n",
    "floating_mask_edited = mask.calculate_anti_aliased_mask(mock_dicom_contour(new_contour), dcm_ct, expansion=5)"
   ]
  },
  {
   "cell_type": "code",
   "execution_count": null,
   "metadata": {},
   "outputs": [],
   "source": [
    "plt.pcolormesh(*floating_mask_original)\n",
    "plt.axis('equal')\n",
    "plt.xlim(lims[0:2])\n",
    "plt.ylim(lims[2:])"
   ]
  },
  {
   "cell_type": "code",
   "execution_count": null,
   "metadata": {},
   "outputs": [],
   "source": [
    "plt.pcolormesh(*floating_mask_edited)\n",
    "plt.axis('equal')\n",
    "plt.xlim(lims[0:2])\n",
    "plt.ylim(lims[2:])"
   ]
  },
  {
   "cell_type": "code",
   "execution_count": null,
   "metadata": {},
   "outputs": [],
   "source": [
    "floating_diff = floating_mask_original[-1] - floating_mask_edited[-1]"
   ]
  },
  {
   "cell_type": "code",
   "execution_count": null,
   "metadata": {},
   "outputs": [],
   "source": [
    "plt.pcolormesh(x_grid, y_grid, floating_diff)\n",
    "plt.axis('equal')\n",
    "plt.xlim(lims[0:2])\n",
    "plt.ylim(lims[2:])"
   ]
  },
  {
   "cell_type": "code",
   "execution_count": null,
   "metadata": {},
   "outputs": [],
   "source": [
    "binary_returned_contours = mask.get_contours_from_mask(x_grid, y_grid, binary_mask_edited[-1])\n",
    "returned_contours = mask.get_contours_from_mask(x_grid, y_grid, floating_mask_edited[-1])"
   ]
  },
  {
   "cell_type": "code",
   "execution_count": null,
   "metadata": {},
   "outputs": [],
   "source": [
    "plt.plot(*contour.T, '--', alpha=0.8)\n",
    "plt.plot(*new_contour.T)\n",
    "plt.plot(*returned_contours[-1].T)\n",
    "plt.plot(*binary_returned_contours[-1].T, '--', alpha=0.8)\n",
    "\n",
    "plt.axis('equal')"
   ]
  },
  {
   "cell_type": "code",
   "execution_count": null,
   "metadata": {},
   "outputs": [],
   "source": [
    "edge_reference = skimage.filters.scharr(floating_mask_original[-1])\n",
    "\n",
    "plt.pcolormesh(x_grid, y_grid, edge_reference)\n",
    "plt.axis('equal')\n",
    "plt.xlim(lims[0:2])\n",
    "plt.ylim(lims[2:])"
   ]
  },
  {
   "cell_type": "code",
   "execution_count": null,
   "metadata": {},
   "outputs": [],
   "source": [
    "edge_evaluation = skimage.filters.scharr(floating_mask_edited[-1])\n",
    "\n",
    "plt.pcolormesh(x_grid, y_grid, edge_evaluation)\n",
    "plt.axis('equal')\n",
    "plt.xlim(lims[0:2])\n",
    "plt.ylim(lims[2:])"
   ]
  },
  {
   "cell_type": "code",
   "execution_count": null,
   "metadata": {},
   "outputs": [],
   "source": [
    "cost_diff = edge_evaluation - edge_reference\n",
    "\n",
    "plt.pcolormesh(x_grid, y_grid, cost_diff)\n",
    "plt.axis('equal')\n",
    "plt.xlim(lims[0:2])\n",
    "plt.ylim(lims[2:])"
   ]
  },
  {
   "cell_type": "code",
   "execution_count": null,
   "metadata": {},
   "outputs": [],
   "source": [
    "score = np.sum(np.abs(edge_evaluation - edge_reference)) / np.sum(\n",
    "    edge_evaluation + edge_reference\n",
    ")\n",
    "\n",
    "softdice = 1 - score\n",
    "\n",
    "softdice"
   ]
  }
 ],
 "metadata": {
  "kernelspec": {
   "display_name": "pymedphys-master",
   "language": "python",
   "name": "pymedphys-master"
  },
  "language_info": {
   "codemirror_mode": {
    "name": "ipython",
    "version": 3
   },
   "file_extension": ".py",
   "mimetype": "text/x-python",
   "name": "python",
   "nbconvert_exporter": "python",
   "pygments_lexer": "ipython3",
   "version": "3.7.0"
  }
 },
 "nbformat": 4,
 "nbformat_minor": 4
}
