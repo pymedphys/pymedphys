{
 "cells": [
  {
   "cell_type": "code",
   "execution_count": null,
   "metadata": {},
   "outputs": [],
   "source": [
    "import functools\n",
    "import pathlib\n",
    "\n",
    "import numpy as np\n",
    "import matplotlib.pyplot as plt\n",
    "\n",
    "import shapely.geometry\n",
    "import skimage.draw\n",
    "import skimage.filters\n",
    "\n",
    "import tensorflow as tf\n",
    "\n",
    "import pydicom\n",
    "\n",
    "import pymedphys\n",
    "import pymedphys._dicom.structure as dcm_struct\n",
    "\n",
    "from names import names_map"
   ]
  },
  {
   "cell_type": "code",
   "execution_count": null,
   "metadata": {},
   "outputs": [],
   "source": [
    "# Put all of the DICOM data here, file structure doesn't matter:\n",
    "data_path_root = pathlib.Path.home().joinpath('.data/dicom-ct-and-structures')\n",
    "\n",
    "dcm_paths = list(data_path_root.rglob('**/*.dcm'))"
   ]
  },
  {
   "cell_type": "code",
   "execution_count": null,
   "metadata": {},
   "outputs": [],
   "source": [
    "dcm_headers = []\n",
    "\n",
    "for dcm_path in dcm_paths:\n",
    "    dcm_headers.append(pydicom.read_file(\n",
    "        dcm_path, force=True, specific_tags=['SOPInstanceUID', 'SOPClassUID']))"
   ]
  },
  {
   "cell_type": "code",
   "execution_count": null,
   "metadata": {},
   "outputs": [],
   "source": [
    "ct_image_paths = {\n",
    "    header.SOPInstanceUID: path\n",
    "    for header, path in zip(dcm_headers, dcm_paths)\n",
    "    if header.SOPClassUID.name == \"CT Image Storage\"\n",
    "}"
   ]
  },
  {
   "cell_type": "code",
   "execution_count": null,
   "metadata": {},
   "outputs": [],
   "source": [
    "structure_set_paths = {\n",
    "    header.SOPInstanceUID: path\n",
    "    for header, path in zip(dcm_headers, dcm_paths)\n",
    "    if header.SOPClassUID.name == \"RT Structure Set Storage\"\n",
    "}"
   ]
  },
  {
   "cell_type": "code",
   "execution_count": null,
   "metadata": {},
   "outputs": [],
   "source": [
    "# structure_uid = list(structure_set_paths.items())[0][0]\n",
    "structure_uid = '1.2.840.10008.5.1.4.1.1.481.3.1574822743'"
   ]
  },
  {
   "cell_type": "code",
   "execution_count": null,
   "metadata": {},
   "outputs": [],
   "source": [
    "structure_set_path = structure_set_paths[structure_uid]\n",
    "structure_set_path\n",
    "\n",
    "structure_set = pydicom.read_file(\n",
    "    structure_set_path, \n",
    "    force=True, \n",
    "    specific_tags=['ROIContourSequence', 'StructureSetROISequence'])"
   ]
  },
  {
   "cell_type": "code",
   "execution_count": null,
   "metadata": {},
   "outputs": [],
   "source": [
    "number_to_name_map = {\n",
    "    roi_sequence_item.ROINumber: names_map[roi_sequence_item.ROIName]\n",
    "    for roi_sequence_item in structure_set.StructureSetROISequence\n",
    "    if names_map[roi_sequence_item.ROIName] is not None\n",
    "}\n",
    "\n",
    "number_to_name_map"
   ]
  },
  {
   "cell_type": "code",
   "execution_count": null,
   "metadata": {},
   "outputs": [],
   "source": [
    "contours_by_ct_uid = {}\n",
    "\n",
    "for roi_contour_sequence_item in structure_set.ROIContourSequence:\n",
    "    try:\n",
    "        structure_name = number_to_name_map[roi_contour_sequence_item.ReferencedROINumber]\n",
    "    except KeyError:\n",
    "        continue\n",
    "        \n",
    "    for contour_sequence_item in roi_contour_sequence_item.ContourSequence:\n",
    "        ct_uid = contour_sequence_item.ContourImageSequence[0].ReferencedSOPInstanceUID\n",
    "        \n",
    "        try:\n",
    "            _ = contours_by_ct_uid[ct_uid]\n",
    "        except KeyError:\n",
    "            contours_by_ct_uid[ct_uid] = dict()\n",
    "                    \n",
    "        try:\n",
    "            contours_by_ct_uid[ct_uid][structure_name].append(contour_sequence_item.ContourData)\n",
    "        except KeyError:\n",
    "            contours_by_ct_uid[ct_uid][structure_name] = [contour_sequence_item.ContourData]"
   ]
  },
  {
   "cell_type": "code",
   "execution_count": null,
   "metadata": {},
   "outputs": [],
   "source": [
    "# ct_uid = list(contours_by_ct_uid.keys())[50]\n",
    "ct_uid = '1.2.840.113704.1.111.2804.1556591059.12956'"
   ]
  },
  {
   "cell_type": "code",
   "execution_count": null,
   "metadata": {},
   "outputs": [],
   "source": [
    "ct_path = ct_image_paths[ct_uid]\n",
    "dcm_ct = pydicom.read_file(ct_path, force=True)\n",
    "dcm_ct.file_meta.TransferSyntaxUID = pydicom.uid.ImplicitVRLittleEndian"
   ]
  },
  {
   "cell_type": "code",
   "execution_count": null,
   "metadata": {},
   "outputs": [],
   "source": [
    "def get_image_transformation_parameters(dcm_ct):\n",
    "    # From Matthew Coopers work in ../old/data_generator.py\n",
    "    \n",
    "    position = dcm_ct.ImagePositionPatient\n",
    "    spacing = [x for x in dcm_ct.PixelSpacing] + [dcm_ct.SliceThickness]\n",
    "    orientation = dcm_ct.ImageOrientationPatient\n",
    "\n",
    "    dx, dy, *_ = spacing\n",
    "    Cx, Cy, *_ = position\n",
    "    Ox, Oy = orientation[0], orientation[4]\n",
    "    \n",
    "    return dx, dy, Cx, Cy, Ox, Oy\n"
   ]
  },
  {
   "cell_type": "code",
   "execution_count": null,
   "metadata": {},
   "outputs": [],
   "source": [
    "contours_by_ct_uid[ct_uid].keys()"
   ]
  },
  {
   "cell_type": "code",
   "execution_count": null,
   "metadata": {},
   "outputs": [],
   "source": [
    "organ = 'rectum'"
   ]
  },
  {
   "cell_type": "code",
   "execution_count": null,
   "metadata": {},
   "outputs": [],
   "source": [
    "original_contours = contours_by_ct_uid[ct_uid][organ]"
   ]
  },
  {
   "cell_type": "code",
   "execution_count": null,
   "metadata": {},
   "outputs": [],
   "source": [
    "def reduce_expanded_mask(expanded_mask, img_size, expansion):\n",
    "    return np.mean(np.mean(\n",
    "        tf.reshape(expanded_mask, (img_size, expansion, img_size, expansion)),\n",
    "        axis=1), axis=2)"
   ]
  },
  {
   "cell_type": "code",
   "execution_count": null,
   "metadata": {},
   "outputs": [],
   "source": [
    "def calculate_aliased_mask(contours, dcm_ct, expansion=5):\n",
    "    dx, dy, Cx, Cy, Ox, Oy = get_image_transformation_parameters(dcm_ct)\n",
    "    \n",
    "    ct_size = np.shape(dcm_ct.pixel_array)\n",
    "    x_grid = np.arange(Cx, Cx + ct_size[0]*dx*Ox, dx*Ox)\n",
    "    y_grid = np.arange(Cy, Cy + ct_size[1]*dy*Oy, dy*Oy)\n",
    "    \n",
    "    new_ct_size = np.array(ct_size) * expansion\n",
    "    \n",
    "    expanded_mask = np.zeros(new_ct_size)\n",
    "    \n",
    "    for xyz in contours:\n",
    "        x = np.array(xyz[0::3])\n",
    "        y = np.array(xyz[1::3])\n",
    "        z = xyz[2::3]\n",
    "\n",
    "        assert len(set(z)) == 1\n",
    "\n",
    "        r = (((y - Cy) / dy * Oy)) * expansion + (expansion - 1) * 0.5\n",
    "        c = (((x - Cx) / dx * Ox)) * expansion + (expansion - 1) * 0.5\n",
    "\n",
    "        expanded_mask = np.logical_or(expanded_mask, skimage.draw.polygon2mask(new_ct_size, np.array(list(zip(r, c)))))\n",
    "        \n",
    "    mask = reduce_expanded_mask(expanded_mask, ct_size[0], expansion)\n",
    "    mask = 2 * mask - 1\n",
    "    \n",
    "    return x_grid, y_grid, mask"
   ]
  },
  {
   "cell_type": "code",
   "execution_count": null,
   "metadata": {},
   "outputs": [],
   "source": [
    "def get_contours_from_mask(x_grid, y_grid, mask):\n",
    "    cs = plt.contour(x_grid, y_grid, mask, [0]);\n",
    "    \n",
    "    contours = [\n",
    "        path.vertices for path in cs.collections[0].get_paths()\n",
    "    ]\n",
    "    \n",
    "    plt.close()\n",
    "    \n",
    "    return contours"
   ]
  },
  {
   "cell_type": "code",
   "execution_count": null,
   "metadata": {},
   "outputs": [],
   "source": [
    "x_grid, y_grid, mask_with_aliasing = calculate_aliased_mask(original_contours, dcm_ct)\n",
    "_, _, mask_without_aliasing = calculate_aliased_mask(original_contours, dcm_ct, expansion=1)"
   ]
  },
  {
   "cell_type": "code",
   "execution_count": null,
   "metadata": {},
   "outputs": [],
   "source": [
    "x_grid, y_grid, mask_with_shift = calculate_aliased_mask(np.array(original_contours) + 20, dcm_ct)"
   ]
  },
  {
   "cell_type": "code",
   "execution_count": null,
   "metadata": {},
   "outputs": [],
   "source": [
    "# original_contours"
   ]
  },
  {
   "cell_type": "code",
   "execution_count": null,
   "metadata": {},
   "outputs": [],
   "source": [
    "contours_with_aliasing = get_contours_from_mask(x_grid, y_grid, mask_with_aliasing)\n",
    "contours_without_aliasing = get_contours_from_mask(x_grid, y_grid, mask_without_aliasing)"
   ]
  },
  {
   "cell_type": "code",
   "execution_count": null,
   "metadata": {},
   "outputs": [],
   "source": [
    "plt.figure(figsize=(10,10))\n",
    "\n",
    "for contour in contours_with_aliasing:\n",
    "    plt.plot(contour[:,0], contour[:,1])\n",
    "    plt.plot(contour[:,0], contour[:,1])\n",
    "\n",
    "for xyz in original_contours:\n",
    "    x = np.array(xyz[0::3])\n",
    "    y = np.array(xyz[1::3])\n",
    "    \n",
    "    plt.plot(x, y)\n",
    "    \n",
    "plt.axis('equal')   "
   ]
  },
  {
   "cell_type": "code",
   "execution_count": null,
   "metadata": {},
   "outputs": [],
   "source": [
    "plt.figure(figsize=(10,10))\n",
    "\n",
    "for contour in contours_without_aliasing:\n",
    "    plt.plot(contour[:,0], contour[:,1])\n",
    "    plt.plot(contour[:,0], contour[:,1])\n",
    "\n",
    "for xyz in original_contours:\n",
    "    x = np.array(xyz[0::3])\n",
    "    y = np.array(xyz[1::3])\n",
    "    \n",
    "    plt.plot(x, y)\n",
    "    \n",
    "plt.axis('equal')   "
   ]
  },
  {
   "cell_type": "code",
   "execution_count": null,
   "metadata": {},
   "outputs": [],
   "source": [
    "def soft_surface_dice(reference, evaluation):\n",
    "    edge_reference = skimage.filters.scharr(reference)\n",
    "    edge_evaluation = skimage.filters.scharr(evaluation)\n",
    "    \n",
    "    score = (\n",
    "        np.sum(np.abs(edge_evaluation - edge_reference)) /\n",
    "        np.sum(edge_evaluation + edge_reference)\n",
    "    )\n",
    "    \n",
    "    return score"
   ]
  },
  {
   "cell_type": "code",
   "execution_count": null,
   "metadata": {},
   "outputs": [],
   "source": [
    "soft_surface_dice(mask_with_aliasing, mask_without_aliasing)"
   ]
  },
  {
   "cell_type": "code",
   "execution_count": null,
   "metadata": {},
   "outputs": [],
   "source": [
    "soft_surface_dice(mask_with_aliasing, mask_with_aliasing)"
   ]
  },
  {
   "cell_type": "code",
   "execution_count": null,
   "metadata": {},
   "outputs": [],
   "source": [
    "soft_surface_dice(mask_with_aliasing, mask_with_shift)"
   ]
  },
  {
   "cell_type": "code",
   "execution_count": null,
   "metadata": {},
   "outputs": [],
   "source": [
    "mask_with_aliasing"
   ]
  },
  {
   "cell_type": "code",
   "execution_count": null,
   "metadata": {},
   "outputs": [],
   "source": [
    "mask_without_aliasing"
   ]
  },
  {
   "cell_type": "code",
   "execution_count": null,
   "metadata": {},
   "outputs": [],
   "source": [
    "edge_detection_with_aliasing = skimage.filters.scharr(mask_with_aliasing)\n",
    "edge_detection_without_aliasing = skimage.filters.scharr(mask_without_aliasing)\n",
    "edge_detection_with_shift = skimage.filters.scharr(mask_with_shift)\n",
    "\n",
    "# mask_with_shift"
   ]
  },
  {
   "cell_type": "code",
   "execution_count": null,
   "metadata": {},
   "outputs": [],
   "source": [
    "plt.contourf(x_grid, y_grid, edge_detection_with_aliasing)\n",
    "plt.colorbar()\n",
    "plt.axis('equal')"
   ]
  },
  {
   "cell_type": "code",
   "execution_count": null,
   "metadata": {},
   "outputs": [],
   "source": [
    "plt.contourf(x_grid, y_grid, edge_detection_without_aliasing)\n",
    "plt.colorbar()\n",
    "plt.axis('equal')"
   ]
  },
  {
   "cell_type": "code",
   "execution_count": null,
   "metadata": {},
   "outputs": [],
   "source": [
    "plt.contourf(x_grid, y_grid, edge_detection_with_shift)\n",
    "plt.colorbar()\n",
    "plt.axis('equal')"
   ]
  },
  {
   "cell_type": "code",
   "execution_count": null,
   "metadata": {},
   "outputs": [],
   "source": [
    "(\n",
    "    np.sum(np.abs(edge_detection_with_aliasing - edge_detection_without_aliasing)) /\n",
    "    np.sum(edge_detection_with_aliasing + edge_detection_without_aliasing)\n",
    ")"
   ]
  },
  {
   "cell_type": "code",
   "execution_count": null,
   "metadata": {},
   "outputs": [],
   "source": [
    "(\n",
    "    np.sum(np.abs(edge_detection_with_aliasing - edge_detection_with_shift)) /\n",
    "    np.sum(edge_detection_with_aliasing + edge_detection_with_shift)\n",
    ")"
   ]
  }
 ],
 "metadata": {
  "kernelspec": {
   "display_name": "pymedphys-master",
   "language": "python",
   "name": "pymedphys-master"
  },
  "language_info": {
   "codemirror_mode": {
    "name": "ipython",
    "version": 3
   },
   "file_extension": ".py",
   "mimetype": "text/x-python",
   "name": "python",
   "nbconvert_exporter": "python",
   "pygments_lexer": "ipython3",
   "version": "3.7.7"
  }
 },
 "nbformat": 4,
 "nbformat_minor": 4
}
