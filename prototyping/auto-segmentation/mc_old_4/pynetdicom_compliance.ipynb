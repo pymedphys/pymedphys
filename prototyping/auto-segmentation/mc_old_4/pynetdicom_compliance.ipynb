{
 "cells": [
  {
   "cell_type": "code",
   "execution_count": null,
   "metadata": {},
   "outputs": [],
   "source": [
    "import glob\n",
    "import os\n",
    "import pydicom"
   ]
  },
  {
   "cell_type": "code",
   "execution_count": null,
   "metadata": {},
   "outputs": [],
   "source": [
    "DATA_PATH = \"/home/matthew/Documents/dicom_networking/DICOM_EXAMPLE\""
   ]
  },
  {
   "cell_type": "code",
   "execution_count": null,
   "metadata": {},
   "outputs": [],
   "source": [
    "dcm_paths = glob.glob(DATA_PATH + \"/*\")"
   ]
  },
  {
   "cell_type": "code",
   "execution_count": null,
   "metadata": {},
   "outputs": [],
   "source": [
    "save_path = DATA_PATH + \"_modified\"\n",
    "\n",
    "if not os.path.exists(save_path):\n",
    "    os.mkdir(save_path)\n",
    "\n",
    "\n",
    "for dcm_path in dcm_paths:\n",
    "    try:\n",
    "        ds = pydicom.dcmread(dcm_path, force=False)\n",
    "    except:\n",
    "        ds = pydicom.dcmread(dcm_path, force=True)\n",
    "        try:\n",
    "            dcm.file_meta.TransferSyntaxUID\n",
    "        except AttributeError:\n",
    "            ds.file_meta.TransferSyntaxUID = pydicom.uid.ImplicitVRLittleEndian\n",
    "            \n",
    "    ds.fix_meta_info(enforce_standard=True)\n",
    "    print(save_path + \"/\" + ds.SOPInstanceUID)\n",
    "    ds.save_as(save_path + \"/\" + ds.SOPInstanceUID, write_like_original=False)"
   ]
  },
  {
   "cell_type": "code",
   "execution_count": null,
   "metadata": {},
   "outputs": [],
   "source": []
  }
 ],
 "metadata": {
  "kernelspec": {
   "display_name": "pymedphys",
   "language": "python",
   "name": "pymedphys"
  },
  "language_info": {
   "codemirror_mode": {
    "name": "ipython",
    "version": 3
   },
   "file_extension": ".py",
   "mimetype": "text/x-python",
   "name": "python",
   "nbconvert_exporter": "python",
   "pygments_lexer": "ipython3",
   "version": "3.8.2"
  }
 },
 "nbformat": 4,
 "nbformat_minor": 4
}
