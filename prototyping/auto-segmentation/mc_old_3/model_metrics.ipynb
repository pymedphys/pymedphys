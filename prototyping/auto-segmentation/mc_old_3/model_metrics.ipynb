{
 "cells": [
  {
   "cell_type": "code",
   "execution_count": null,
   "metadata": {},
   "outputs": [],
   "source": [
    "from matplotlib import pyplot as plt\n",
    "import numpy as np"
   ]
  },
  {
   "cell_type": "code",
   "execution_count": null,
   "metadata": {},
   "outputs": [],
   "source": [
    "import pandas as pd"
   ]
  },
  {
   "cell_type": "code",
   "execution_count": null,
   "metadata": {},
   "outputs": [],
   "source": [
    "!pwd"
   ]
  },
  {
   "cell_type": "markdown",
   "metadata": {},
   "source": [
    "# Prostate"
   ]
  },
  {
   "cell_type": "code",
   "execution_count": null,
   "metadata": {},
   "outputs": [],
   "source": [
    "#prostate_data = pd.read_csv(\"~/masters_code/prostate_wdsc/wdsc_after_bce_csv_log\") \n",
    "prostate_data = pd.read_csv(\"/home/matthew/masters_code/prostate_tversky/tvsky_csv_log\") "
   ]
  },
  {
   "cell_type": "code",
   "execution_count": null,
   "metadata": {},
   "outputs": [],
   "source": [
    "epochs = prostate_data['epoch']\n",
    "\n",
    "loss = prostate_data['loss']\n",
    "val_loss = prostate_data['val_loss']\n",
    "\n",
    "prec = prostate_data['precision']\n",
    "val_prec = prostate_data['val_precision']\n",
    "\n",
    "dice_met = prostate_data['dice_metric']\n",
    "val_dice_met = prostate_data['val_dice_metric']\n",
    "\n",
    "recall = prostate_data['recall']\n",
    "val_recall = prostate_data['val_recall']\n"
   ]
  },
  {
   "cell_type": "code",
   "execution_count": null,
   "metadata": {},
   "outputs": [],
   "source": [
    "fig, axs = plt.subplots(nrows=1, ncols=4, sharey=False, squeeze=True, figsize=(12,3), dpi=150, tight_layout=True)\n",
    "\n",
    "ep_low = 0\n",
    "ep_up = 180\n",
    "\n",
    "axs[0].plot(epochs[ep_low:ep_up], loss[ep_low:ep_up], color='blue', label='Train')\n",
    "axs[0].plot(epochs[ep_low:ep_up], val_loss[ep_low:ep_up], color='red', label='Valid')\n",
    "v_line = np.arange(0,1.1,0.01)\n",
    "ones = np.ones_like(v_line)\n",
    "# axs[0].plot(140*ones, v_line, color='black', label='Selected model')\n",
    "\n",
    "axs[1].plot(epochs[ep_low:ep_up], val_dice_met[ep_low:ep_up], color='red',  label='Valid')\n",
    "axs[1].plot(epochs[ep_low:ep_up], dice_met[ep_low:ep_up],  color='blue',   label='Train')\n",
    "v_line = np.arange(0.7,1.01,0.01)\n",
    "ones = np.ones_like(v_line)\n",
    "# axs[1].plot(140*ones, v_line,  color='black', label='Selected model')\n",
    "\n",
    "axs[2].plot(epochs[ep_low:ep_up], val_prec[ep_low:ep_up], color='red', label='Valid')\n",
    "axs[2].plot(epochs[ep_low:ep_up], prec[ep_low:ep_up],  color='blue',  label='Train')\n",
    "v_line = np.arange(0.5,1.05,0.01)\n",
    "ones = np.ones_like(v_line)\n",
    "# axs[2].plot(140*ones, v_line,  color='black',  label='Selected model')\n",
    "\n",
    "axs[3].plot(epochs[ep_low:ep_up], val_recall[ep_low:ep_up],  color='red', label='Valid')\n",
    "axs[3].plot(epochs[ep_low:ep_up], recall[ep_low:ep_up],  color='blue', label='Train')\n",
    "v_line = np.arange(0.965,1.001,0.001)\n",
    "ones = np.ones_like(v_line)\n",
    "# axs[3].plot(140*ones, v_line,  color='black', label='Selected model')\n",
    "\n",
    "\n",
    "axs[0].set_title('Loss (Focal Tversky)', fontdict={'fontsize': 15, 'fontweight': 'medium'})\n",
    "axs[1].set_title('DSC', fontdict={'fontsize': 15, 'fontweight': 'medium'})\n",
    "axs[2].set_title('Precision', fontdict={'fontsize': 15, 'fontweight': 'medium'})\n",
    "axs[3].set_title('Sensitivity', fontdict={'fontsize': 15, 'fontweight': 'medium'})\n",
    "\n",
    "for ax in axs:\n",
    "    ax.set_xlabel(\"Epoch\", fontsize=12)\n",
    "    ax.tick_params(direction='in', labelsize=11)\n",
    "    ax.tick_params(bottom=1, top=1, left=1, right=1)\n",
    "    ax.legend(facecolor='white', framealpha=1, edgecolor='white')\n",
    "\n",
    "#plt.ticklabel_format(style='sci', axis='both', scilimits=(0,1), useMathText=False)\n",
    "\n",
    "axs[2].legend(loc=4, facecolor='white', framealpha=1, edgecolor='white')\n",
    "\n",
    "fig.savefig('prostate_metrics_tversky.png', dpi=150, pad_inches=0.1, bbox_inches='tight')"
   ]
  },
  {
   "cell_type": "code",
   "execution_count": null,
   "metadata": {},
   "outputs": [],
   "source": [
    "objects = ('Patient', 'Bladder', 'Rectum')\n",
    "y_pos = np.arange(len(objects))\n",
    "performance = [5.2, 0.081, 0.021]\n",
    "\n",
    "plt.bar(y_pos, performance, align='center', alpha=0.5)\n",
    "plt.xticks(y_pos, objects)\n",
    "plt.ylabel('Percentage (%)')\n",
    "plt.title('Pixel wise class imablance')\n",
    "\n",
    "plt.show()"
   ]
  },
  {
   "cell_type": "markdown",
   "metadata": {},
   "source": [
    "# Vacbag"
   ]
  },
  {
   "cell_type": "code",
   "execution_count": null,
   "metadata": {},
   "outputs": [],
   "source": [
    "vacbag_data = pd.read_csv(\"/home/matthew/masters_code/vacbag_tversky/tversky_csv_log\") "
   ]
  },
  {
   "cell_type": "code",
   "execution_count": null,
   "metadata": {},
   "outputs": [],
   "source": [
    "epochs = vacbag_data['epoch']\n",
    "loss = vacbag_data['loss']\n",
    "val_loss = vacbag_data['val_loss']\n",
    "\n",
    "prec = vacbag_data['precision']\n",
    "val_prec = vacbag_data['val_precision']\n",
    "\n",
    "dice_met = vacbag_data['dice_metric']\n",
    "val_dice_met = vacbag_data['val_dice_metric']\n",
    "\n",
    "recall = vacbag_data['recall']\n",
    "val_recall = vacbag_data['val_recall']"
   ]
  },
  {
   "cell_type": "code",
   "execution_count": null,
   "metadata": {},
   "outputs": [],
   "source": [
    "print(epochs)"
   ]
  },
  {
   "cell_type": "code",
   "execution_count": null,
   "metadata": {},
   "outputs": [],
   "source": [
    "fig, axs = plt.subplots(nrows=1, ncols=4, sharey=False, squeeze=True, figsize=(12,3), dpi=150, tight_layout=True)\n",
    "\n",
    "ep_low = 0\n",
    "ep_up = 33\n",
    "\n",
    "axs[0].plot(epochs[ep_low:ep_up], loss[ep_low:ep_up], color='blue', label='Train')\n",
    "axs[0].plot(epochs[ep_low:ep_up], val_loss[ep_low:ep_up], color='red', label='Valid')\n",
    "v_line = np.arange(0,0.6,0.1)\n",
    "ones = np.ones_like(v_line)\n",
    "# axs[0].plot(100*ones, v_line, color='black', label='Selected model')\n",
    "\n",
    "axs[1].plot(epochs[ep_low:ep_up], val_dice_met[ep_low:ep_up], color='red',  label='Valid')\n",
    "axs[1].plot(epochs[ep_low:ep_up], dice_met[ep_low:ep_up],  color='blue',   label='Train')\n",
    "v_line = np.arange(0.5,1.01,0.01)\n",
    "ones = np.ones_like(v_line)\n",
    "# axs[1].plot(100*ones, v_line,  color='black', label='Selected model')\n",
    "\n",
    "axs[2].plot(epochs[ep_low:ep_up], val_prec[ep_low:ep_up], color='red', label='Valid')\n",
    "axs[2].plot(epochs[ep_low:ep_up], prec[ep_low:ep_up],  color='blue',  label='Train')\n",
    "v_line = np.arange(0.85,1.01,0.01)\n",
    "ones = np.ones_like(v_line)\n",
    "# axs[2].plot(100*ones, v_line,  color='black',  label='Selected model')\n",
    "\n",
    "axs[3].plot(epochs[ep_low:ep_up], val_recall[ep_low:ep_up],  color='red', label='Valid')\n",
    "axs[3].plot(epochs[ep_low:ep_up], recall[ep_low:ep_up],  color='blue', label='Train')\n",
    "v_line = np.arange(0.9,1.001,0.001)\n",
    "ones = np.ones_like(v_line)\n",
    "# axs[3].plot(100*ones, v_line,  color='black', label='Selected model')\n",
    "\n",
    "\n",
    "for ax in axs:\n",
    "    ax.set_xlabel(\"Epoch\", fontsize=13)\n",
    "    ax.tick_params(direction='in', labelsize=11)\n",
    "    ax.tick_params(bottom=1, top=1, left=1, right=1)\n",
    "    ax.legend(facecolor='white', framealpha=1, edgecolor='white')\n",
    "    \n",
    "axs[0].set_title('Loss (Focal Tversky)', fontdict={'fontsize': 15, 'fontweight': 'medium'})\n",
    "axs[1].set_title('DSC', fontdict={'fontsize': 15, 'fontweight': 'medium'})\n",
    "axs[2].set_title('Precision', fontdict={'fontsize': 15, 'fontweight': 'medium'})\n",
    "axs[3].set_title('Sensitivity', fontdict={'fontsize': 15, 'fontweight': 'medium'})\n",
    "\n",
    "    #ax.ticklabel_format(style='sci', axis='both', scilimits=(0,1), useMathText=False)\n",
    "\n",
    "axs[3].legend(loc=4, facecolor='white', framealpha=1, edgecolor='white')\n",
    "\n",
    "# fig.savefig('vacbag_metrics.svg', dpi=150, pad_inches=0.1, bbox_inches='tight')\n",
    "fig.savefig('vacbag_metrics_tversky.png', bbox_inches='tight')"
   ]
  },
  {
   "cell_type": "code",
   "execution_count": null,
   "metadata": {},
   "outputs": [],
   "source": []
  },
  {
   "cell_type": "code",
   "execution_count": null,
   "metadata": {},
   "outputs": [],
   "source": []
  }
 ],
 "metadata": {
  "kernelspec": {
   "display_name": "Python 3",
   "language": "python",
   "name": "python3"
  },
  "language_info": {
   "codemirror_mode": {
    "name": "ipython",
    "version": 3
   },
   "file_extension": ".py",
   "mimetype": "text/x-python",
   "name": "python",
   "nbconvert_exporter": "python",
   "pygments_lexer": "ipython3",
   "version": "3.6.9"
  }
 },
 "nbformat": 4,
 "nbformat_minor": 2
}
