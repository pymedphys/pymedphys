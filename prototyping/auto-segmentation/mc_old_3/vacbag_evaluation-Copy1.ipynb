{
 "cells": [
  {
   "cell_type": "code",
   "execution_count": null,
   "metadata": {},
   "outputs": [],
   "source": [
    "import tensorflow as tf\n",
    "physical_devices = tf.config.experimental.list_physical_devices('GPU')\n",
    "assert len(physical_devices) > 0, \"Not enough GPU hardware devices available\"\n",
    "config = tf.config.experimental.set_memory_growth(physical_devices[0], True)"
   ]
  },
  {
   "cell_type": "code",
   "execution_count": null,
   "metadata": {},
   "outputs": [],
   "source": [
    "#import train as train\n",
    "\n",
    "import loss as loss\n",
    "import unet as unet\n",
    "import random\n",
    "import paths as paths\n",
    "import numpy as np\n",
    "import glob\n",
    "\n",
    "# The meaning of life\n",
    "random.seed(42)  \n",
    "np.random.seed(42)"
   ]
  },
  {
   "cell_type": "code",
   "execution_count": null,
   "metadata": {},
   "outputs": [],
   "source": [
    "DATA_MEAN = 168.3172158554484\n",
    "DATA_STD = 340.21625683608994\n",
    "BATCH_SIZE = 1\n",
    "OUTPUT_CHANNELS = 1\n",
    "DATA_PATH = \"/home/matthew/masters_code/dataset_vet_cleaned/\""
   ]
  },
  {
   "cell_type": "code",
   "execution_count": null,
   "metadata": {},
   "outputs": [],
   "source": [
    "#WEIGHTS = \"/home/matthew/masters_code/vacbag_dsc/dsc_after_bce_epoch_\" + \"80\" + \".hdf5\"\n",
    "#WEIGHTS = \"/home/matthew/masters_code/vacbag_tversky/tversky_epoch_\" + \"34\" + \".hdf5\"\n",
    "WEIGHTS = \"/home/matthew/masters_code/vacbag_bce/bce_epoch_60.hdf5\"\n",
    "INITIAL_LR = 1e-6\n",
    "OPTIMIZER = tf.keras.optimizers.Adam(lr = INITIAL_LR)\n",
    "LOSS = loss.dsc_loss\n",
    "METRICS = [loss.dice_metric, loss.dsc, \n",
    "        tf.keras.metrics.Precision(), \n",
    "        tf.keras.metrics.Recall()]\n",
    "\n",
    "model = unet.model(output_channels=OUTPUT_CHANNELS)\n",
    "model.compile(OPTIMIZER, LOSS, METRICS)\n",
    "model.load_weights(WEIGHTS)"
   ]
  },
  {
   "cell_type": "code",
   "execution_count": null,
   "metadata": {},
   "outputs": [],
   "source": [
    "patient_paths = paths.get_patient_paths(DATA_PATH)\n",
    "patient_paths.sort()\n",
    "\n",
    "img_paths = [glob.glob(path + \"/img/*\") for path in patient_paths]\n",
    "mask_paths = [glob.glob(path + \"/mask/*\") for path in patient_paths]\n",
    "\n",
    "valid = int(len(img_paths) * 0.15 // 1)\n",
    "test = int(len(img_paths) * 0.1 // 1)\n",
    "train = int(len(img_paths) - valid - test)\n",
    "\n",
    "train_inputs = paths.flatten_list(img_paths[0:train])\n",
    "train_truths = paths.flatten_list(mask_paths[0:train])\n",
    "\n",
    "train_inputs.sort()\n",
    "train_truths.sort()\n",
    "\n",
    "valid_inputs = paths.flatten_list(img_paths[train:train+valid])\n",
    "valid_truths = paths.flatten_list(mask_paths[train:train+valid])\n",
    "\n",
    "valid_inputs.sort()\n",
    "valid_truths.sort()\n",
    "\n",
    "test_inputs = paths.flatten_list(img_paths[train+valid:])\n",
    "test_truths = paths.flatten_list(mask_paths[train+valid:])\n",
    "\n",
    "test_inputs.sort()\n",
    "test_truths.sort()"
   ]
  },
  {
   "cell_type": "code",
   "execution_count": null,
   "metadata": {},
   "outputs": [],
   "source": [
    "test_inputs = np.array([np.load(array) for array in test_inputs])\n",
    "test_truths = np.array([np.load(array) for array in test_truths])"
   ]
  },
  {
   "cell_type": "code",
   "execution_count": null,
   "metadata": {},
   "outputs": [],
   "source": [
    "all_truths = paths.flatten_list(mask_paths)\n",
    "all_truths = np.array([np.load(array) for array in all_truths])\n",
    "print(all_truths.shape)\n",
    "img_size = 512*512\n",
    "images = all_truths.shape[0]"
   ]
  },
  {
   "cell_type": "code",
   "execution_count": null,
   "metadata": {},
   "outputs": [],
   "source": [
    "def perc_images(outputs, organ_index):\n",
    "    images = outputs.shape[0]\n",
    "    occurs = 0\n",
    "    for x in outputs[...,organ_index]:\n",
    "        if x.any() == 1:\n",
    "            occurs += 1\n",
    "    return (occurs / images) * 100\n",
    "\n",
    "def mask_image_perc(outputs, organ_index):\n",
    "    pixels = 0\n",
    "    occurs = 0\n",
    "    for x in outputs[...,organ_index]:\n",
    "        if x.any() == 1:\n",
    "            occurs += 1\n",
    "            pixels += np.sum(x==1)\n",
    "    return (pixels / (occurs * 512 * 512))*100\n",
    "\n",
    "def mask_output_perc(outputs, organ_index):\n",
    "    return mask_image_perc(outputs, organ_index) / outputs.shape[-1]\n",
    "\n",
    "def pixels_total_perc(outputs, organ_index):\n",
    "    pixels = 0\n",
    "    for x in outputs[...,organ_index]:\n",
    "        pixels += np.sum(x==1)\n",
    "    return (pixels / np.prod(outputs.shape))*100"
   ]
  },
  {
   "cell_type": "code",
   "execution_count": null,
   "metadata": {},
   "outputs": [],
   "source": [
    "print(perc_images(all_truths, 0))\n",
    "print(mask_image_perc(all_truths, 0))\n",
    "print(mask_output_perc(all_truths, 0))\n",
    "print(pixels_total_perc(all_truths, 0))"
   ]
  },
  {
   "cell_type": "code",
   "execution_count": null,
   "metadata": {},
   "outputs": [],
   "source": [
    "test_inputs = (test_inputs - DATA_MEAN) / DATA_STD"
   ]
  },
  {
   "cell_type": "code",
   "execution_count": null,
   "metadata": {},
   "outputs": [],
   "source": [
    "test_inputs.shape, test_truths.shape"
   ]
  },
  {
   "cell_type": "code",
   "execution_count": null,
   "metadata": {},
   "outputs": [],
   "source": [
    "# valid_inputs = np.array([np.load(array) for array in valid_inputs])\n",
    "# valid_truths = np.array([np.load(array) for array in valid_truths])\n",
    "# valid_inputs = (valid_inputs - DATA_MEAN) / DATA_STD"
   ]
  },
  {
   "cell_type": "code",
   "execution_count": null,
   "metadata": {},
   "outputs": [],
   "source": [
    "# train_inputs = np.array([np.load(array) for array in train_inputs])\n",
    "# train_truths = np.array([np.load(array) for array in train_truths])\n",
    "# train_inputs = (train_inputs - DATA_MEAN) / DATA_STD"
   ]
  },
  {
   "cell_type": "code",
   "execution_count": null,
   "metadata": {},
   "outputs": [],
   "source": [
    "model.evaluate(x=test_inputs, y=test_truths, batch_size=3)"
   ]
  },
  {
   "cell_type": "raw",
   "metadata": {},
   "source": [
    "from matplotlib import pyplot as plt\n",
    "plt.rcParams['figure.figsize'] = [20, 20]\n",
    "\n",
    "for index in range(len(test_inputs)):\n",
    "#     img = test_inputs[index:index+1]\n",
    "#     truth = test_truths[index:index+1]\n",
    "    img = train_inputs[index:index+1]\n",
    "    truth = train_truths[index:index+1]\n",
    "    pred = model.predict(img)\n",
    "    pred = np.round(pred)\n",
    "\n",
    "    plt.figure(figsize=(5,5))\n",
    "    plt.imshow(img[0,...,0], cmap='gray')\n",
    "    plt.contour(truth[0,...,0], colors='yellow', alpha=0.5)\n",
    "    plt.contour(pred[0,...,0], colors='red', alpha=0.5)\n",
    "    plt.show()"
   ]
  },
  {
   "cell_type": "code",
   "execution_count": null,
   "metadata": {},
   "outputs": [],
   "source": [
    "from matplotlib import pyplot as plt\n",
    "\n",
    "#random_indexes = np.random.randint(0, test_inputs.shape[0], number)\n",
    "random_indexes = [107, 120, 61, 95, 185]\n",
    "number = len(random_indexes)\n",
    "print(random_indexes)\n",
    "fig, axs = plt.subplots(nrows=number, ncols=4, sharex=True, sharey=True, squeeze=True, figsize=(12,15))\n",
    "for j, index in enumerate(random_indexes):\n",
    "    ax = axs[j]\n",
    "    \n",
    "    for a in ax:\n",
    "        a.set_xticklabels([])\n",
    "        a.set_yticklabels([])\n",
    "        a.set_xticks([])\n",
    "        a.set_yticks([])\n",
    "        \n",
    "    img = test_inputs[index:index+1]\n",
    "    truth = test_truths[index:index+1]\n",
    "    pred = model.predict(img)\n",
    "    pred = np.round(pred)\n",
    "    diff = truth - pred\n",
    "    \n",
    "    ax[0].imshow(np.log(1+img[0,...,0]))\n",
    "    ax[1].imshow(truth[0,...,0])\n",
    "    ax[2].imshow(pred[0,...,0])\n",
    "    ax[3].imshow(diff[0,...,0])\n",
    "plt.tight_layout()\n",
    "\n",
    "axs[0][0].set_title('Input', fontdict={'fontsize': 15, 'fontweight': 'medium'})\n",
    "axs[0][1].set_title('Truth', fontdict={'fontsize': 15, 'fontweight': 'medium'})\n",
    "axs[0][2].set_title('Output', fontdict={'fontsize': 15, 'fontweight': 'medium'})\n",
    "axs[0][3].set_title('Difference', fontdict={'fontsize': 15, 'fontweight': 'medium'})\n",
    "\n",
    "#plt.savefig(\"vacbag.svg\", bbox_inches='tight')"
   ]
  },
  {
   "cell_type": "code",
   "execution_count": null,
   "metadata": {},
   "outputs": [],
   "source": [
    "spacing_mm=[0.85, 0.85, 1.907]\n",
    "\n",
    "from metrics import *\n",
    "\n",
    "def google_metrics(y_true, y_pred, spacing_mm, organ_tol_mm, organ_index=None):\n",
    "    if organ_index == None:\n",
    "        y_pred = np.array(y_pred, dtype=bool)\n",
    "        y_true = np.array(y_true, dtype=bool)\n",
    "    else:\n",
    "        y_pred = np.array(y_pred[...,organ_index], dtype=bool)\n",
    "        y_true = np.array(y_true[...,organ_index], dtype=bool)\n",
    "    surface_dice_list = []\n",
    "    msd_list = []\n",
    "    dice_list = []\n",
    "\n",
    "    for true, pred in zip(y_true, y_pred):\n",
    "\n",
    "        \n",
    "        if np.max(true) >= 1 and np.max(pred) >= 1:\n",
    "            surface_distances = compute_surface_distances(pred, true, spacing_mm)   \n",
    "            surface_dice = compute_surface_dice_at_tolerance(surface_distances, organ_tol_mm)\n",
    "            surface_dice_list.append(surface_dice)\n",
    "            msd = np.mean(np.absolute(compute_average_surface_distance(surface_distances)))\n",
    "            msd_list.append(msd)\n",
    "            \n",
    "            dice = compute_dice_coefficient(true, pred)\n",
    "            dice_list.append(dice)\n",
    "            \n",
    "            \n",
    "        elif np.max(true) >= 1 and np.max(pred) <= 1:\n",
    "            msd_list.append(9999)\n",
    "            surface_dice_list.append(0.00)\n",
    "            dice_list.append(0.00)\n",
    "            \n",
    "        elif np.max(true) <= 1 and np.max(pred) <= 1:\n",
    "            msd_list.append(0.00)\n",
    "            surface_dice_list.append(1.00)          \n",
    "            dice_list.append(1.00)\n",
    "            \n",
    "            \n",
    "    return dice_list, surface_dice_list, msd_list"
   ]
  },
  {
   "cell_type": "code",
   "execution_count": null,
   "metadata": {},
   "outputs": [],
   "source": [
    "from matplotlib import pyplot as plt\n",
    "\n",
    "# number=5\n",
    "# random_indexes = np.random.randint(0, test_inputs.shape[0], number)\n",
    "# print(random_indexes)\n",
    "\n",
    "\n",
    "organ_name = \"vacbag\"\n",
    "organ_num = 0\n",
    "random_indexes = [107, 120, 61, 95, 185]\n",
    "number = len(random_indexes)\n",
    "tol = 0.0\n",
    "l=5\n",
    "\n",
    "\n",
    "\n",
    "\n",
    "\n",
    "fig, axs = plt.subplots(nrows=number, ncols=4, sharex=True, sharey=True,squeeze=True, figsize=(12,12))\n",
    "for j, index in enumerate(random_indexes):\n",
    "    ax = axs[j]\n",
    "    \n",
    "    for a in ax:\n",
    "        a.set_xticklabels([])\n",
    "        a.set_yticklabels([])\n",
    "        a.set_xticks([])\n",
    "        a.set_yticks([])\n",
    "        \n",
    "    img = test_inputs[index:index+1,...]\n",
    "    truth = test_truths[index:index+1,...,organ_num:organ_num+1]\n",
    "    pred = model.predict(img)\n",
    "    pred = np.round(pred[...,organ_num:organ_num+1])\n",
    "    diff = truth - pred\n",
    "    \n",
    "    if np.max(truth) >= 1 and np.max(pred) >= 1:\n",
    "        stats = google_metrics(truth, pred, spacing_mm, tol)\n",
    "        print(stats)   \n",
    "        stats = \"DSC: {0:.3f} \\nMSD: {1:.3f}\".format(stats[0][0], stats[2][0])\n",
    "        ax[3].text(1.05, 0.4, stats, size=18, ha=\"left\", transform=ax[3].transAxes)\n",
    "\n",
    "    \n",
    "    ax[0].imshow(np.log(1+img[0,...,0][l:-l, l:-l]), cmap='gray')\n",
    "    ax[0].contour(truth[0,...,0][l:-l, l:-l], colors='yellow', alpha=.25)\n",
    "    ax[0].contour(pred[0,...,0][l:-l, l:-l],colors='red', alpha=.25)\n",
    "    ax[1].imshow(truth[0,...,0][l:-l, l:-l])\n",
    "    ax[2].imshow(pred[0,...,0][l:-l, l:-l])\n",
    "    ax[3].imshow(diff[0,...,0][l:-l, l:-l])\n",
    "\n",
    "\n",
    "\n",
    "axs[0][0].set_title('Input', fontdict={'fontsize': 23, 'fontweight': 'medium'})\n",
    "axs[0][1].set_title('Truth (Y)', fontdict={'fontsize': 23, 'fontweight': 'medium'})\n",
    "axs[0][2].set_title('Prediction (R)', fontdict={'fontsize': 23, 'fontweight': 'medium'})\n",
    "axs[0][3].set_title('Difference', fontdict={'fontsize': 23, 'fontweight': 'medium'})\n",
    "\n",
    "axs[0][0].text(-0.1,0.5, \"A\", size=23, ha=\"center\", transform=axs[0][0].transAxes)\n",
    "axs[1][0].text(-0.1,0.5, \"B\", size=23, ha=\"center\", transform=axs[1][0].transAxes)\n",
    "axs[2][0].text(-0.1,0.5, \"C\", size=23, ha=\"center\", transform=axs[2][0].transAxes)\n",
    "axs[3][0].text(-0.1,0.5, \"D\", size=23, ha=\"center\", transform=axs[3][0].transAxes)\n",
    "axs[4][0].text(-0.1,0.5, \"E\", size=23, ha=\"center\", transform=axs[4][0].transAxes)\n",
    "plt.tight_layout()\n",
    "plt.savefig(\"/home/matthew/masters_presentation/images/vet_\" + organ_name + \".png\", bbox_inches='tight')\n"
   ]
  },
  {
   "cell_type": "code",
   "execution_count": null,
   "metadata": {},
   "outputs": [],
   "source": [
    "# from metrics import *\n",
    "\n",
    "# def google_metrics(y_true, y_pred, spacing_mm, organ_tol_mm=0):\n",
    "#     y_pred = np.array(y_pred, dtype=bool)\n",
    "#     y_true = np.array(y_true, dtype=bool)\n",
    "    \n",
    "#     surface_dice_list = []\n",
    "#     msd_list = []\n",
    "#     hd95_list = []\n",
    "#     dice_list = []\n",
    "\n",
    "#     for batch_index in range(y_true.shape[0]):\n",
    "#         dice = compute_dice_coefficient(y_true, y_pred)\n",
    "#         dice_list.append(dice)\n",
    "#         if np.max(y_true[batch_index])> 0 or np.max(y_pred[batch_index]) > 0:\n",
    "#             surface_distances = compute_surface_distances(y_pred[batch_index], y_true[batch_index], spacing_mm)\n",
    "            \n",
    "#             surface_dice = compute_surface_dice_at_tolerance(surface_distances, organ_tol_mm)\n",
    "#             surface_dice_list.append(surface_dice)\n",
    "            \n",
    "#         if np.max(y_true[batch_index]) > 0 and np.max(y_pred[batch_index]) > 0:\n",
    "#             msd = compute_average_surface_distance(surface_distances)\n",
    "#             msd_list.append(msd)\n",
    "            \n",
    "#             hd95 = compute_robust_hausdorff(surface_distances, 0.95)\n",
    "#             hd95_list.append(hd95)\n",
    "            \n",
    "            \n",
    "            \n",
    "            \n",
    "#     return surface_dice_list, msd_list, hd95_list, dice_list"
   ]
  },
  {
   "cell_type": "code",
   "execution_count": null,
   "metadata": {},
   "outputs": [],
   "source": [
    "preds = []\n",
    "for index in range(len(test_inputs)):\n",
    "    img = test_inputs[index:index+1]\n",
    "    pred = model.predict(img)\n",
    "    preds.append(pred[0])\n",
    "    \n",
    "preds = np.array(preds)\n",
    "preds = np.round(preds)"
   ]
  },
  {
   "cell_type": "code",
   "execution_count": null,
   "metadata": {},
   "outputs": [],
   "source": [
    "stats_patient = google_metrics(test_truths, preds, spacing_mm=[0.85, 0.85, 1.907], organ_tol_mm= 0)"
   ]
  },
  {
   "cell_type": "code",
   "execution_count": null,
   "metadata": {},
   "outputs": [],
   "source": [
    "np.mean(stats_patient[0]), np.mean(stats_patient[1]), np.mean(stats_patient[2])"
   ]
  },
  {
   "cell_type": "code",
   "execution_count": null,
   "metadata": {},
   "outputs": [],
   "source": [
    "plt.figure()\n",
    "plt.imshow(test_truths[0,...,-1])\n",
    "plt.figure()\n",
    "plt.imshow(preds[0,...,-1])"
   ]
  },
  {
   "cell_type": "code",
   "execution_count": null,
   "metadata": {},
   "outputs": [],
   "source": [
    "import medpy.metric.binary"
   ]
  },
  {
   "cell_type": "code",
   "execution_count": null,
   "metadata": {},
   "outputs": [],
   "source": [
    "print(medpy.metric.binary.dc(preds, test_truths))\n",
    "print(medpy.metric.binary.sensitivity(preds, test_truths))\n",
    "print(medpy.metric.binary.specificity(preds, test_truths))\n"
   ]
  },
  {
   "cell_type": "code",
   "execution_count": null,
   "metadata": {},
   "outputs": [],
   "source": []
  },
  {
   "cell_type": "code",
   "execution_count": null,
   "metadata": {},
   "outputs": [],
   "source": []
  },
  {
   "cell_type": "code",
   "execution_count": null,
   "metadata": {},
   "outputs": [],
   "source": []
  },
  {
   "cell_type": "code",
   "execution_count": null,
   "metadata": {},
   "outputs": [],
   "source": []
  },
  {
   "cell_type": "code",
   "execution_count": null,
   "metadata": {},
   "outputs": [],
   "source": []
  },
  {
   "cell_type": "code",
   "execution_count": null,
   "metadata": {},
   "outputs": [],
   "source": []
  },
  {
   "cell_type": "code",
   "execution_count": null,
   "metadata": {},
   "outputs": [],
   "source": []
  }
 ],
 "metadata": {
  "kernelspec": {
   "display_name": "Python 3",
   "language": "python",
   "name": "python3"
  },
  "language_info": {
   "codemirror_mode": {
    "name": "ipython",
    "version": 3
   },
   "file_extension": ".py",
   "mimetype": "text/x-python",
   "name": "python",
   "nbconvert_exporter": "python",
   "pygments_lexer": "ipython3",
   "version": "3.8.2"
  }
 },
 "nbformat": 4,
 "nbformat_minor": 4
}
