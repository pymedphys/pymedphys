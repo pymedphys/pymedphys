{
 "cells": [
  {
   "cell_type": "code",
   "execution_count": null,
   "metadata": {},
   "outputs": [],
   "source": [
    "from glob import glob\n",
    "\n",
    "import numpy as np\n",
    "import matplotlib.pyplot as plt\n",
    "\n",
    "from scipy.interpolate import RegularGridInterpolator\n",
    "\n",
    "import pydicom\n",
    "\n",
    "from pymedphys.dicom import (\n",
    "    xyz_axes_from_dataset, dose_from_dataset)\n",
    "from pymedphys.plt import pcolormesh_grid"
   ]
  },
  {
   "cell_type": "code",
   "execution_count": null,
   "metadata": {},
   "outputs": [],
   "source": [
    "filepaths = glob(\n",
    "    r'S:\\Physics\\Programming\\data\\FilmProcessing\\SBRT\\014368\\Raw\\*Dose.dcm')\n",
    "assert len(filepaths) == 1\n",
    "\n",
    "filepath = filepaths[0]\n",
    "dcm = pydicom.dcmread(filepath, force=True)"
   ]
  },
  {
   "cell_type": "code",
   "execution_count": null,
   "metadata": {},
   "outputs": [],
   "source": [
    "left_right_axes, ant_post_axes, sup_inf_axes = xyz_axes_from_dataset(dcm)\n",
    "dose = dose_from_dataset(dcm, reshape=False)"
   ]
  },
  {
   "cell_type": "code",
   "execution_count": null,
   "metadata": {},
   "outputs": [],
   "source": [
    "interpolation = RegularGridInterpolator(\n",
    "    (sup_inf_axes, ant_post_axes, left_right_axes), dose)"
   ]
  },
  {
   "cell_type": "code",
   "execution_count": null,
   "metadata": {},
   "outputs": [],
   "source": [
    "left_right_interp = np.arange(-60, 60.1, 0.1)\n",
    "ant_post_interp = np.arange(-70, 70.1, 0.1)\n",
    "sup_inf_interp = np.array([0,])\n",
    "\n",
    "result = interpolation((\n",
    "    sup_inf_interp[:, None, None], \n",
    "    ant_post_interp[None, :, None], \n",
    "    left_right_interp[None, None, :]\n",
    "))\n",
    "result = result[0,:,:]"
   ]
  },
  {
   "cell_type": "code",
   "execution_count": null,
   "metadata": {},
   "outputs": [],
   "source": [
    "np.shape(result)"
   ]
  },
  {
   "cell_type": "code",
   "execution_count": null,
   "metadata": {},
   "outputs": [],
   "source": [
    "plt.figure(figsize=(8,8))\n",
    "\n",
    "x, y = pcolormesh_grid(left_right_interp, ant_post_interp)\n",
    "\n",
    "plt.pcolormesh(x, y, result)\n",
    "plt.axis('equal')\n",
    "plt.gca().invert_yaxis()\n",
    "plt.colorbar(label='Dose (Gy)')\n",
    "plt.xlabel('Left Right (mm)')\n",
    "plt.ylabel('Ant Post (mm)')"
   ]
  }
 ],
 "metadata": {
  "kernelspec": {
   "display_name": "Python 3",
   "language": "python",
   "name": "python3"
  },
  "language_info": {
   "codemirror_mode": {
    "name": "ipython",
    "version": 3
   },
   "file_extension": ".py",
   "mimetype": "text/x-python",
   "name": "python",
   "nbconvert_exporter": "python",
   "pygments_lexer": "ipython3",
   "version": "3.7.0"
  }
 },
 "nbformat": 4,
 "nbformat_minor": 4
}
