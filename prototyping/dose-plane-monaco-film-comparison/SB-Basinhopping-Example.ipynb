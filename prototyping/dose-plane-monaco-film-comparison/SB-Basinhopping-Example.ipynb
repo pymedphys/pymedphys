{
 "cells": [
  {
   "cell_type": "code",
   "execution_count": null,
   "metadata": {},
   "outputs": [],
   "source": [
    "import os\n",
    "from glob import glob\n",
    "\n",
    "import imageio\n",
    "\n",
    "import numpy as np\n",
    "import matplotlib.pyplot as plt\n",
    "\n",
    "from scipy.interpolate import RectBivariateSpline\n",
    "from scipy.special import erf, erfinv\n",
    "from scipy.optimize import basinhopping"
   ]
  },
  {
   "cell_type": "code",
   "execution_count": null,
   "metadata": {},
   "outputs": [],
   "source": [
    "# Copied from https://github.com/pymedphys/pymedphys/blob/07f451894eed84ae77ffec8f106ec2b45fd24e0a/packages/pymedphys_analysis/src/pymedphys_analysis/mocks/profiles.py\n",
    "def gaussian_cdf(x, mu=0, sig=1):\n",
    "    x = np.array(x, copy=False)\n",
    "    return 0.5 * (1 + erf((x - mu) / (sig * np.sqrt(2))))\n",
    "\n",
    "\n",
    "def scaled_penumbra_sig(profile_shoulder_edge=0.8):\n",
    "    sig = 1 / (2 * np.sqrt(2) * erfinv(profile_shoulder_edge * 2 - 1))\n",
    "\n",
    "    return sig\n",
    "\n",
    "\n",
    "def create_profile_function(centre, field_width, penumbra_width):\n",
    "    sig = scaled_penumbra_sig() * penumbra_width\n",
    "    mu = [centre - field_width/2, centre + field_width/2]\n",
    "\n",
    "    def profile(x):\n",
    "        x = np.array(x, copy=False)\n",
    "        return gaussian_cdf(x, mu[0], sig) * gaussian_cdf(-x, -mu[1], sig)  # pylint: disable=invalid-unary-operand-type\n",
    "\n",
    "    return profile\n",
    "\n",
    "\n",
    "def rotate_coords(x, y, theta):\n",
    "    x_prime = x * np.cos(theta) + y * np.sin(theta)\n",
    "    y_prime = -x * np.sin(theta) + y * np.cos(theta)\n",
    "\n",
    "    return x_prime, y_prime\n",
    "\n",
    "\n",
    "def create_rectangular_field_function(centre, side_lengths, penumbra_width,\n",
    "                                      rotation=0):\n",
    "    width_profile = create_profile_function(\n",
    "        0, side_lengths[0], penumbra_width)\n",
    "    length_profile = create_profile_function(\n",
    "        0, side_lengths[1], penumbra_width)\n",
    "\n",
    "    theta = -rotation / 180 * np.pi\n",
    "\n",
    "    def field(x, y):\n",
    "        x = np.array(x, copy=False)\n",
    "        y = np.array(y, copy=False)\n",
    "        x_shifted = x - centre[0]\n",
    "        y_shifted = y - centre[1]\n",
    "        x_rotated, y_rotated = rotate_coords(x_shifted, y_shifted, theta)\n",
    "\n",
    "        return width_profile(x_rotated) * length_profile(y_rotated)\n",
    "\n",
    "    return field\n",
    "\n",
    "\n",
    "def create_square_field_function(centre, side_length, penumbra_width,\n",
    "                                 rotation=0):\n",
    "\n",
    "    side_lengths = [side_length, side_length]\n",
    "    return create_rectangular_field_function(\n",
    "        centre, side_lengths, penumbra_width, rotation)"
   ]
  },
  {
   "cell_type": "code",
   "execution_count": null,
   "metadata": {},
   "outputs": [],
   "source": [
    "rect_1 = create_rectangular_field_function((1.5, 2.1), (5,7), 0.6, rotation=45)\n",
    "rect_2 = create_rectangular_field_function((-0.5, 1.8), (5,7), 1, rotation=45)"
   ]
  },
  {
   "cell_type": "code",
   "execution_count": null,
   "metadata": {},
   "outputs": [],
   "source": [
    "size = (-20, 21)"
   ]
  },
  {
   "cell_type": "code",
   "execution_count": null,
   "metadata": {},
   "outputs": [],
   "source": [
    "x_grid = np.linspace(-20, 20, 100)\n",
    "y_grid = np.linspace(-20, 20, 100)\n",
    "\n",
    "xx, yy = np.meshgrid(x_grid, y_grid)\n",
    "\n",
    "shape = np.shape(xx)\n",
    "\n",
    "image_1 = rect_1(xx, yy)\n",
    "image_2 = rect_2(xx, yy)\n",
    "\n",
    "image_1 = image_1 + np.random.normal(0, 0.05, shape)\n",
    "image_2 = image_2 + np.random.normal(0, 0.05, shape)"
   ]
  },
  {
   "cell_type": "code",
   "execution_count": null,
   "metadata": {},
   "outputs": [],
   "source": [
    "plt.pcolor(xx, yy, image_1)\n",
    "plt.axis('equal')"
   ]
  },
  {
   "cell_type": "code",
   "execution_count": null,
   "metadata": {},
   "outputs": [],
   "source": [
    "plt.pcolor(xx, yy, image_2)\n",
    "plt.axis('equal')"
   ]
  },
  {
   "cell_type": "code",
   "execution_count": null,
   "metadata": {},
   "outputs": [],
   "source": [
    "interp_1 = RectBivariateSpline(x_grid, y_grid, image_1, kx=1, ky=1)\n",
    "interp_2 = RectBivariateSpline(x_grid, y_grid, image_2, kx=1, ky=1)"
   ]
  },
  {
   "cell_type": "code",
   "execution_count": null,
   "metadata": {},
   "outputs": [],
   "source": [
    "x_shift = -1.5\n",
    "y_shift = -2.1\n",
    "\n",
    "interp_x = np.linspace(-10, 10) - x_shift\n",
    "interp_y = np.linspace(-10, 10) - y_shift\n",
    "\n",
    "interp_xx, interp_yy = np.meshgrid(interp_x, interp_y)\n",
    "\n",
    "interpolated_1 = interp_1(interp_y, interp_x)\n",
    "\n",
    "plt.pcolor(np.linspace(-10, 10), np.linspace(-10, 10), interpolated_1)\n",
    "plt.axis('equal')"
   ]
  },
  {
   "cell_type": "code",
   "execution_count": null,
   "metadata": {},
   "outputs": [],
   "source": [
    "x_shift = 0.8\n",
    "y_shift = -1.8\n",
    "\n",
    "interp_x = np.linspace(-10, 10) - x_shift\n",
    "interp_y = np.linspace(-10, 10) - y_shift\n",
    "\n",
    "interp_xx, interp_yy = np.meshgrid(interp_x, interp_y)\n",
    "\n",
    "interpolated_2 = interp_2(interp_y, interp_x)\n",
    "\n",
    "plt.pcolor(np.linspace(-10, 10),np.linspace(-10, 10), interpolated_2)\n",
    "plt.axis('equal')"
   ]
  },
  {
   "cell_type": "code",
   "execution_count": null,
   "metadata": {},
   "outputs": [],
   "source": [
    "init_grid = np.linspace(-10, 10)\n",
    "interpolated_1 = interp_1(init_grid, init_grid)\n",
    "\n",
    "x_shift = 2\n",
    "y_shift = 0.3\n",
    "\n",
    "interp_x = init_grid - x_shift\n",
    "interp_y = init_grid - y_shift\n",
    "\n",
    "interp_xx, interp_yy = np.meshgrid(interp_x, interp_y)\n",
    "interpolated_2 = interp_2(interp_y, interp_x)\n",
    "\n",
    "plt.pcolor(np.linspace(-10, 10),np.linspace(-10, 10), interpolated_2 - interpolated_1)\n",
    "plt.axis('equal')\n",
    "\n",
    "plt.colorbar()"
   ]
  },
  {
   "cell_type": "code",
   "execution_count": null,
   "metadata": {},
   "outputs": [],
   "source": [
    "def create_to_minimise():\n",
    "    init_grid = np.linspace(-10, 10)\n",
    "    interpolated_1 = interp_1(init_grid, init_grid)\n",
    "    \n",
    "    def to_minimise(input_vals):\n",
    "        x_shift = input_vals[0]\n",
    "        y_shift = input_vals[1]\n",
    "\n",
    "        interp_x = init_grid - x_shift\n",
    "        interp_y = init_grid - y_shift\n",
    "\n",
    "        interpolated_2 = interp_2(interp_y, interp_x)\n",
    "        return np.sum((interpolated_2 - interpolated_1)**2)\n",
    "    \n",
    "    return to_minimise\n",
    "        \n",
    "        \n",
    "to_minimise = create_to_minimise()\n",
    "\n",
    "to_minimise((2, 0.3))"
   ]
  },
  {
   "cell_type": "code",
   "execution_count": null,
   "metadata": {},
   "outputs": [],
   "source": [
    "to_minimise((2, 0.3))"
   ]
  },
  {
   "cell_type": "code",
   "execution_count": null,
   "metadata": {},
   "outputs": [],
   "source": [
    "to_minimise((2, 0.5))"
   ]
  },
  {
   "cell_type": "code",
   "execution_count": null,
   "metadata": {},
   "outputs": [],
   "source": [
    "to_minimise((2.2, 0.5))"
   ]
  },
  {
   "cell_type": "code",
   "execution_count": null,
   "metadata": {},
   "outputs": [],
   "source": [
    "initial_conditions = (0,0)\n",
    "\n",
    "result = basinhopping(\n",
    "    to_minimise, initial_conditions,\n",
    "    minimizer_kwargs={\n",
    "        'method': 'L-BFGS-B',\n",
    "        'bounds': ((-3,3), (-3,3))\n",
    "    }\n",
    ")"
   ]
  },
  {
   "cell_type": "code",
   "execution_count": null,
   "metadata": {},
   "outputs": [],
   "source": [
    "result.x"
   ]
  }
 ],
 "metadata": {
  "kernelspec": {
   "display_name": "Python 3",
   "language": "python",
   "name": "python3"
  },
  "language_info": {
   "codemirror_mode": {
    "name": "ipython",
    "version": 3
   },
   "file_extension": ".py",
   "mimetype": "text/x-python",
   "name": "python",
   "nbconvert_exporter": "python",
   "pygments_lexer": "ipython3",
   "version": "3.7.0"
  }
 },
 "nbformat": 4,
 "nbformat_minor": 4
}
