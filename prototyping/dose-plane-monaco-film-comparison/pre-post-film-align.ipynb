{
 "cells": [
  {
   "cell_type": "code",
   "execution_count": null,
   "metadata": {},
   "outputs": [],
   "source": [
    "import os\n",
    "from pathlib import Path\n",
    "\n",
    "import numpy as np\n",
    "import matplotlib.pyplot as plt\n",
    "\n",
    "import imageio"
   ]
  },
  {
   "cell_type": "code",
   "execution_count": null,
   "metadata": {},
   "outputs": [],
   "source": [
    "data_dir = Path(r'S:\\Physics\\Programming\\data\\FilmProcessing\\SBRT\\014368\\DatasetA')"
   ]
  },
  {
   "cell_type": "code",
   "execution_count": null,
   "metadata": {},
   "outputs": [],
   "source": [
    "DEFAULT_CAL_STRING_END = ' cGy.tif'\n",
    "\n",
    "def load_cal_scans(path, cal_string_ending=DEFAULT_CAL_STRING_END):\n",
    "    cal_pattern = '*' + cal_string_end\n",
    "    filepaths = pre_scan_cals_dir.glob(cal_pattern)\n",
    "\n",
    "    calibrations = {\n",
    "        float(path.name.rstrip(cal_string_end)): skimage.io.imread(str(path), plugin='tifffile')\n",
    "        for path in filepaths\n",
    "    }\n",
    "    \n",
    "    return calibrations\n",
    "\n",
    "\n",
    "pre_scan_cals_dir = data_dir.joinpath(r'prescans\\calibration')\n",
    "post_scan_cals_dir = data_dir.joinpath(r'postscans\\calibration')\n",
    "\n",
    "pre_cals = load_cal_scans(pre_scan_cals_dir)\n",
    "post_cals = load_cal_scans(post_scan_cals_dir)"
   ]
  },
  {
   "cell_type": "code",
   "execution_count": null,
   "metadata": {},
   "outputs": [],
   "source": [
    "pre_cals[0].dtype"
   ]
  },
  {
   "cell_type": "code",
   "execution_count": null,
   "metadata": {},
   "outputs": [],
   "source": [
    "new = np.array(pre_cals[0], copy=True)\n",
    "new[0:50,:,3] = \n",
    "plt.imshow(new)"
   ]
  },
  {
   "cell_type": "code",
   "execution_count": null,
   "metadata": {},
   "outputs": [],
   "source": [
    "transparent = new[:,:,3] < 10\n"
   ]
  },
  {
   "cell_type": "code",
   "execution_count": null,
   "metadata": {},
   "outputs": [],
   "source": [
    "np.shape(new)"
   ]
  },
  {
   "cell_type": "code",
   "execution_count": null,
   "metadata": {},
   "outputs": [],
   "source": [
    "new[:,:,3] = 0\n",
    "plt.imshow(new)"
   ]
  },
  {
   "cell_type": "code",
   "execution_count": null,
   "metadata": {},
   "outputs": [],
   "source": []
  }
 ],
 "metadata": {
  "kernelspec": {
   "display_name": "Python 3",
   "language": "python",
   "name": "python3"
  },
  "language_info": {
   "codemirror_mode": {
    "name": "ipython",
    "version": 3
   },
   "file_extension": ".py",
   "mimetype": "text/x-python",
   "name": "python",
   "nbconvert_exporter": "python",
   "pygments_lexer": "ipython3",
   "version": "3.7.0"
  }
 },
 "nbformat": 4,
 "nbformat_minor": 4
}
