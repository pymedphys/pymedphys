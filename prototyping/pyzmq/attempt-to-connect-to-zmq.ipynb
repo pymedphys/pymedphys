{
 "cells": [
  {
   "cell_type": "code",
   "execution_count": null,
   "metadata": {},
   "outputs": [],
   "source": [
    "import zmq"
   ]
  },
  {
   "cell_type": "code",
   "execution_count": null,
   "metadata": {},
   "outputs": [],
   "source": [
    "context = zmq.Context()\n",
    "\n",
    "#  Socket to talk to server\n",
    "socket = context.socket(zmq.REQ)\n",
    "socket.connect(\"tcp://192.168.100.200:5555\")\n",
    "\n",
    "# #  Do 10 requests, waiting each time for a response\n",
    "# for request in range(10):\n",
    "#     print(\"Sending request %s …\" % request)\n",
    "#     socket.send(b\"Hello\")\n",
    "\n",
    "#     #  Get the reply.\n",
    "#     message = socket.recv()\n",
    "#     print(\"Received reply %s [ %s ]\" % (request, message))"
   ]
  },
  {
   "cell_type": "code",
   "execution_count": null,
   "metadata": {},
   "outputs": [],
   "source": [
    "socket.send(b\"Hello\")"
   ]
  },
  {
   "cell_type": "code",
   "execution_count": null,
   "metadata": {},
   "outputs": [],
   "source": [
    "message = socket.recv()"
   ]
  }
 ],
 "metadata": {
  "kernelspec": {
   "display_name": "pymedphys-master",
   "language": "python",
   "name": "pymedphys-master"
  },
  "language_info": {
   "codemirror_mode": {
    "name": "ipython",
    "version": 3
   },
   "file_extension": ".py",
   "mimetype": "text/x-python",
   "name": "python",
   "nbconvert_exporter": "python",
   "pygments_lexer": "ipython3",
   "version": "3.7.0"
  }
 },
 "nbformat": 4,
 "nbformat_minor": 4
}
