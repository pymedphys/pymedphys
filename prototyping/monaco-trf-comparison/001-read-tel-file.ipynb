{
 "cells": [
  {
   "cell_type": "code",
   "execution_count": null,
   "metadata": {},
   "outputs": [],
   "source": [
    "import re\n",
    "import sys\n",
    "\n",
    "import numpy as np\n",
    "\n",
    "import pydicom"
   ]
  },
  {
   "cell_type": "code",
   "execution_count": null,
   "metadata": {},
   "outputs": [],
   "source": [
    "# Makes it so any changes in pymedphys is automatically\n",
    "# propagate into the notebook without needing a kernel reset.\n",
    "from IPython.lib.deepreload import reload\n",
    "%load_ext autoreload\n",
    "%autoreload 2"
   ]
  },
  {
   "cell_type": "code",
   "execution_count": null,
   "metadata": {},
   "outputs": [],
   "source": [
    "import pymedphys\n",
    "import pymedphys._utilities.transforms"
   ]
  },
  {
   "cell_type": "code",
   "execution_count": null,
   "metadata": {},
   "outputs": [],
   "source": [
    "if sys.platform == 'win32':\n",
    "    import os\n",
    "    import win32file\n",
    "    import msvcrt\n",
    "    \n",
    "    def read_trf_contents(filepath):\n",
    "        handle = win32file.CreateFile(\n",
    "            str(filepath),\n",
    "            win32file.GENERIC_READ,\n",
    "            win32file.FILE_SHARE_DELETE |\n",
    "            win32file.FILE_SHARE_READ |\n",
    "            win32file.FILE_SHARE_WRITE,\n",
    "            None,\n",
    "            win32file.OPEN_EXISTING,\n",
    "            0,\n",
    "            None)\n",
    "\n",
    "\n",
    "        detached_handle = handle.Detach()\n",
    "\n",
    "        file_descriptor = msvcrt.open_osfhandle(\n",
    "            detached_handle, os.O_RDONLY)\n",
    "\n",
    "        with open(file_descriptor) as file:\n",
    "            data = file.read()\n",
    "            \n",
    "        return data\n",
    "    \n",
    "else:\n",
    "    def read_trf_contents(filepath):\n",
    "        with open(filepath, 'r') as file:\n",
    "            data = file.read()\n",
    "            \n",
    "        return data"
   ]
  },
  {
   "cell_type": "code",
   "execution_count": null,
   "metadata": {},
   "outputs": [],
   "source": [
    "data_paths = pymedphys.zip_data_paths(\"monaco_trf_compare.zip\")\n",
    "data_paths"
   ]
  },
  {
   "cell_type": "code",
   "execution_count": null,
   "metadata": {},
   "outputs": [],
   "source": [
    "vmat_with_col_paths = [path for path in data_paths if path.parent.name == \"StaticAnglesNoCol\"]\n",
    "vmat_with_col_paths"
   ]
  },
  {
   "cell_type": "code",
   "execution_count": null,
   "metadata": {},
   "outputs": [],
   "source": [
    "def get_file_type(input_paths, file_type):\n",
    "    paths = [path for path in input_paths if file_type in path.name]\n",
    "    assert len(paths) == 1\n",
    "    return paths[0]\n",
    "    \n",
    "\n",
    "tel_path = get_file_type(vmat_with_col_paths, \"tel\")\n",
    "dcm_path = get_file_type(vmat_with_col_paths, \"dcm\")\n",
    "# dcm_path"
   ]
  },
  {
   "cell_type": "code",
   "execution_count": null,
   "metadata": {},
   "outputs": [],
   "source": [
    "delivery_dcm = pymedphys.Delivery.from_dicom(\n",
    "    pydicom.read_file(str(dcm_path), force=True))"
   ]
  },
  {
   "cell_type": "code",
   "execution_count": null,
   "metadata": {},
   "outputs": [],
   "source": []
  },
  {
   "cell_type": "code",
   "execution_count": null,
   "metadata": {},
   "outputs": [],
   "source": [
    "data = read_trf_contents(tel_path)"
   ]
  },
  {
   "cell_type": "code",
   "execution_count": null,
   "metadata": {},
   "outputs": [],
   "source": [
    "mlc_pos_pattern = ' *-?\\d+\\.\\d'\n",
    "ten_mlc_pos_pattern = \",\".join([mlc_pos_pattern,]*10)\n",
    "sixteen_rows_of_mlcs_pattern = \"\\n\".join([ten_mlc_pos_pattern,]*16)"
   ]
  },
  {
   "cell_type": "code",
   "execution_count": null,
   "metadata": {},
   "outputs": [],
   "source": [
    "weird_ones = \"\\n\".join([\",\".join([\"1\",]*6),]*13)\n",
    "\n",
    "decimal_param = \"-?\\d+\\.\\d+\"\n",
    "optional_decimal_param = \"-?\\d+(?:\\.\\d+)?\"\n",
    "\n",
    "parameters = (\n",
    "    \"1,1\\n\"\n",
    "    f\"{decimal_param},({optional_decimal_param})\\n\"\n",
    "    f\"0\\n{decimal_param},{decimal_param},{decimal_param},{decimal_param}\\n\"\n",
    "    f\"({decimal_param}),{decimal_param},{decimal_param},{decimal_param}\\n\"\n",
    "    f\"{optional_decimal_param},({optional_decimal_param}),{optional_decimal_param},({optional_decimal_param})\"\n",
    ")\n",
    "\n",
    "weird_zeros = \"       0\\n0\\n0\""
   ]
  },
  {
   "cell_type": "code",
   "execution_count": null,
   "metadata": {},
   "outputs": [],
   "source": [
    "# total_pattern = f\"({sixteen_rows_of_mlcs_pattern})\\n{weird_ones}\\n({parameters})\\n{weird_zeros}\"\n",
    "total_pattern = f\"({sixteen_rows_of_mlcs_pattern})\\n{weird_ones}\\n{parameters}\"\n",
    "all_controlpoint_results = re.findall(total_pattern, data)"
   ]
  },
  {
   "cell_type": "code",
   "execution_count": null,
   "metadata": {},
   "outputs": [],
   "source": [
    "# all_controlpoint_results"
   ]
  },
  {
   "cell_type": "code",
   "execution_count": null,
   "metadata": {},
   "outputs": [],
   "source": []
  },
  {
   "cell_type": "code",
   "execution_count": null,
   "metadata": {},
   "outputs": [],
   "source": [
    "delivery_dcm.mu"
   ]
  },
  {
   "cell_type": "code",
   "execution_count": null,
   "metadata": {},
   "outputs": [],
   "source": [
    "mu = np.cumsum([float(result[2]) for result in all_controlpoint_results])\n",
    "mu"
   ]
  },
  {
   "cell_type": "code",
   "execution_count": null,
   "metadata": {},
   "outputs": [],
   "source": [
    "np.allclose(mu, delivery_dcm.mu)"
   ]
  },
  {
   "cell_type": "code",
   "execution_count": null,
   "metadata": {},
   "outputs": [],
   "source": []
  },
  {
   "cell_type": "code",
   "execution_count": null,
   "metadata": {},
   "outputs": [],
   "source": [
    "iec_gantry_angle = [float(result[1]) for result in all_controlpoint_results]\n",
    "iec_gantry_angle"
   ]
  },
  {
   "cell_type": "code",
   "execution_count": null,
   "metadata": {},
   "outputs": [],
   "source": [
    "bipolar_gantry_angle = pymedphys._utilities.transforms.convert_IEC_angle_to_bipolar(iec_gantry_angle)\n",
    "bipolar_gantry_angle"
   ]
  },
  {
   "cell_type": "code",
   "execution_count": null,
   "metadata": {},
   "outputs": [],
   "source": [
    "np.allclose(bipolar_gantry_angle, delivery_dcm.gantry)"
   ]
  },
  {
   "cell_type": "code",
   "execution_count": null,
   "metadata": {},
   "outputs": [],
   "source": []
  },
  {
   "cell_type": "code",
   "execution_count": null,
   "metadata": {},
   "outputs": [],
   "source": [
    "# jaws = [(float(result[3]), float(result[4])) for result in all_controlpoint_results]\n",
    "# jaws"
   ]
  },
  {
   "cell_type": "code",
   "execution_count": null,
   "metadata": {},
   "outputs": [],
   "source": [
    "jaw_gap = np.array([float(result[3]) for result in all_controlpoint_results])\n",
    "jaw_field_centre = np.array([float(result[4]) for result in all_controlpoint_results])"
   ]
  },
  {
   "cell_type": "code",
   "execution_count": null,
   "metadata": {},
   "outputs": [],
   "source": [
    "jaw_a = jaw_field_centre + jaw_gap/2\n",
    "jaw_a"
   ]
  },
  {
   "cell_type": "code",
   "execution_count": null,
   "metadata": {},
   "outputs": [],
   "source": [
    "jaw_b = -(jaw_field_centre - jaw_gap/2)\n",
    "jaw_b"
   ]
  },
  {
   "cell_type": "code",
   "execution_count": null,
   "metadata": {},
   "outputs": [],
   "source": [
    "jaws = np.vstack([jaw_a, jaw_b]).T\n",
    "jaws"
   ]
  },
  {
   "cell_type": "code",
   "execution_count": null,
   "metadata": {},
   "outputs": [],
   "source": [
    "np.allclose(jaws, delivery_dcm.jaw)"
   ]
  },
  {
   "cell_type": "code",
   "execution_count": null,
   "metadata": {},
   "outputs": [],
   "source": []
  },
  {
   "cell_type": "code",
   "execution_count": null,
   "metadata": {},
   "outputs": [],
   "source": [
    "mlc_strings = [result[0] for result in all_controlpoint_results]\n",
    "an_mlc_string = mlc_strings[0]"
   ]
  },
  {
   "cell_type": "code",
   "execution_count": null,
   "metadata": {},
   "outputs": [],
   "source": [
    "def convert_mlc_string(mlc_string):\n",
    "    mlcs = np.array(mlc_string.replace(' ', '').replace('\\n',',').split(',')).astype(float)\n",
    "    mlcs = mlcs.reshape((80,2))\n",
    "\n",
    "    mlcs[:,0] = -mlcs[:,0]\n",
    "    mlcs = np.fliplr(np.flipud(mlcs))\n",
    "    \n",
    "    return mlcs\n",
    "\n",
    "\n",
    "mlcs = [convert_mlc_string(result[0]) for result in all_controlpoint_results]"
   ]
  },
  {
   "cell_type": "code",
   "execution_count": null,
   "metadata": {},
   "outputs": [],
   "source": [
    "np.allclose(mlcs, delivery_dcm.mlc)"
   ]
  }
 ],
 "metadata": {
  "kernelspec": {
   "display_name": "pymedphys-master",
   "language": "python",
   "name": "pymedphys-master"
  },
  "language_info": {
   "codemirror_mode": {
    "name": "ipython",
    "version": 3
   },
   "file_extension": ".py",
   "mimetype": "text/x-python",
   "name": "python",
   "nbconvert_exporter": "python",
   "pygments_lexer": "ipython3",
   "version": "3.6.9"
  }
 },
 "nbformat": 4,
 "nbformat_minor": 4
}
