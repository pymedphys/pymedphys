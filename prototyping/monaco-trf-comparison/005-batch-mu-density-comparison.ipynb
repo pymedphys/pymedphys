{
 "cells": [
  {
   "cell_type": "code",
   "execution_count": null,
   "metadata": {},
   "outputs": [],
   "source": [
    "import re\n",
    "import sys\n",
    "import pathlib\n",
    "\n",
    "import numpy as np\n",
    "import matplotlib.pyplot as plt\n",
    "\n",
    "import IPython.display\n",
    "\n",
    "import pydicom"
   ]
  },
  {
   "cell_type": "code",
   "execution_count": null,
   "metadata": {},
   "outputs": [],
   "source": [
    "# Makes it so any changes in pymedphys is automatically\n",
    "# propagated into the notebook without needing a kernel reset.\n",
    "from IPython.lib.deepreload import reload\n",
    "%load_ext autoreload\n",
    "%autoreload 2"
   ]
  },
  {
   "cell_type": "code",
   "execution_count": null,
   "metadata": {},
   "outputs": [],
   "source": [
    "import pymedphys"
   ]
  },
  {
   "cell_type": "code",
   "execution_count": null,
   "metadata": {},
   "outputs": [],
   "source": [
    "percent_deviation = 2\n",
    "mm_dist_threshold = 0.5"
   ]
  },
  {
   "cell_type": "code",
   "execution_count": null,
   "metadata": {},
   "outputs": [],
   "source": [
    "data_paths = list(pathlib.Path(r'C:\\Users\\sbiggs\\Desktop\\20191223_logfile_compare').glob('*/*'))\n",
    "data_paths"
   ]
  },
  {
   "cell_type": "code",
   "execution_count": null,
   "metadata": {},
   "outputs": [],
   "source": [
    "def get_file_type(input_paths, file_type):\n",
    "    paths = [path for path in input_paths if file_type in path.name]\n",
    "    assert len(paths) == 1\n",
    "    return paths[0]"
   ]
  },
  {
   "cell_type": "code",
   "execution_count": null,
   "metadata": {},
   "outputs": [],
   "source": [
    "def plot_gamma_hist(gamma, percent, dist):\n",
    "    valid_gamma = gamma[~np.isnan(gamma)]\n",
    "\n",
    "    plt.hist(valid_gamma, 50, density=True)\n",
    "    pass_ratio = np.sum(valid_gamma <= 1) / len(valid_gamma)\n",
    "\n",
    "    plt.title(\"Local Gamma ({0}%/{1}mm) | Percent Pass: {2:.2f} % | Max Gamma: {3:.2f}\".format(percent, dist, pass_ratio*100, np.max(valid_gamma)))"
   ]
  },
  {
   "cell_type": "code",
   "execution_count": null,
   "metadata": {},
   "outputs": [],
   "source": [
    "def markdown_print(string):\n",
    "    IPython.display.display(IPython.display.Markdown(string))"
   ]
  },
  {
   "cell_type": "code",
   "execution_count": null,
   "metadata": {},
   "outputs": [],
   "source": [
    "def plot_and_save_results(mu_density_angles, mudensity_tel, mudensity_trf, gammas, output_dir):\n",
    "    for gantry_angle, tel_result, trf_result, gamma in zip(mu_density_angles, mudensity_tel, mudensity_trf, gammas):\n",
    "        markdown_print(f\"### Gantry Angle: {gantry_angle}\")\n",
    "\n",
    "        plt.figure()\n",
    "        pymedphys.mudensity.display(grid, tel_result)\n",
    "        plt.title(\"Monaco Plan\")\n",
    "        plt.savefig(output_dir.joinpath(f\"G{gantry_angle}_001_monaco.png\"))\n",
    "\n",
    "        plt.figure()\n",
    "        pymedphys.mudensity.display(grid, tel_result)\n",
    "        plt.title(\"Logfile Result\")\n",
    "        plt.savefig(output_dir.joinpath(f\"G{gantry_angle}_002_logfile.png\"))\n",
    "\n",
    "        diff = trf_result - tel_result\n",
    "        largest_item = np.max(np.abs(diff))\n",
    "\n",
    "        plt.figure()\n",
    "        pymedphys.mudensity.display(grid, diff, cmap=\"seismic\", vmin=-largest_item, vmax=largest_item)\n",
    "        plt.title(\"Logfile - Monaco\")\n",
    "        plt.savefig(output_dir.joinpath(f\"G{gantry_angle}_003_diff.png\"))\n",
    "\n",
    "        plt.figure()\n",
    "        pymedphys.mudensity.display(grid, gamma, cmap=\"coolwarm\", vmin=0, vmax=2)\n",
    "        plt.title(f\"Local Gamma | {percent_deviation}%/{mm_dist_threshold}mm\")\n",
    "        plt.savefig(output_dir.joinpath(f\"G{gantry_angle}_004_gamma_map.png\"))\n",
    "\n",
    "        plt.figure()\n",
    "        plot_gamma_hist(gamma, percent_deviation, mm_dist_threshold)\n",
    "        plt.savefig(output_dir.joinpath(f\"G{gantry_angle}_005_gamma_hist.png\"))\n",
    "\n",
    "        plt.show()"
   ]
  },
  {
   "cell_type": "code",
   "execution_count": null,
   "metadata": {},
   "outputs": [],
   "source": [
    "patient_ids = {path.parent.name for path in data_paths}\n",
    "patient_ids"
   ]
  },
  {
   "cell_type": "code",
   "execution_count": null,
   "metadata": {},
   "outputs": [],
   "source": [
    "grid = pymedphys.mudensity.grid()\n",
    "coords = (grid['jaw'], grid['mlc'])\n",
    "\n",
    "for patient_id in patient_ids:\n",
    "    markdown_print(f\"## Patient ID: {patient_id}\")\n",
    "    current_paths = [path for path in data_paths if path.parent.name == patient_id]\n",
    "    \n",
    "    tel_path = get_file_type(current_paths, \"tel\")\n",
    "    trf_path = get_file_type(current_paths, \"trf\")\n",
    "    \n",
    "    results = trf_path.parent.joinpath(\"results\")\n",
    "    results.mkdir(exist_ok=True)\n",
    "    \n",
    "    delivery_tel = pymedphys.Delivery.from_monaco(tel_path)\n",
    "    delivery_trf = pymedphys.Delivery.from_logfile(trf_path)\n",
    "    \n",
    "    mu_density_angles = set(delivery_tel.gantry)\n",
    "    mudensity_tel = delivery_tel.mudensity(gantry_angles=mu_density_angles)\n",
    "    mudensity_trf = delivery_trf.mudensity(gantry_angles=mu_density_angles)\n",
    "    \n",
    "    gammas = []\n",
    "    for tel_result, trf_result in zip(mudensity_tel, mudensity_trf):\n",
    "        gammas.append(\n",
    "            pymedphys.gamma(coords, tel_result, coords, trf_result, percent_deviation, mm_dist_threshold, local_gamma=True))\n",
    "        \n",
    "    plot_and_save_results(mu_density_angles, mudensity_tel, mudensity_trf, gammas, results)"
   ]
  },
  {
   "cell_type": "code",
   "execution_count": null,
   "metadata": {},
   "outputs": [],
   "source": []
  }
 ],
 "metadata": {
  "kernelspec": {
   "display_name": "pymedphys-master",
   "language": "python",
   "name": "pymedphys-master"
  },
  "language_info": {
   "codemirror_mode": {
    "name": "ipython",
    "version": 3
   },
   "file_extension": ".py",
   "mimetype": "text/x-python",
   "name": "python",
   "nbconvert_exporter": "python",
   "pygments_lexer": "ipython3",
   "version": "3.7.0"
  }
 },
 "nbformat": 4,
 "nbformat_minor": 4
}
