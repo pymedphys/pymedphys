{
 "cells": [
  {
   "cell_type": "code",
   "execution_count": null,
   "metadata": {},
   "outputs": [],
   "source": [
    "import re\n",
    "import sys\n",
    "import pathlib\n",
    "import functools\n",
    "import traceback\n",
    "\n",
    "import numpy as np\n",
    "import matplotlib.pyplot as plt\n",
    "import pandas as pd\n",
    "\n",
    "import IPython.display\n",
    "\n",
    "import pydicom"
   ]
  },
  {
   "cell_type": "code",
   "execution_count": null,
   "metadata": {},
   "outputs": [],
   "source": [
    "# Makes it so any changes in pymedphys is automatically\n",
    "# propagated into the notebook without needing a kernel reset.\n",
    "from IPython.lib.deepreload import reload\n",
    "%load_ext autoreload\n",
    "%autoreload 2"
   ]
  },
  {
   "cell_type": "code",
   "execution_count": null,
   "metadata": {},
   "outputs": [],
   "source": [
    "import pymedphys"
   ]
  },
  {
   "cell_type": "code",
   "execution_count": null,
   "metadata": {},
   "outputs": [],
   "source": [
    "percent_deviation = 2\n",
    "mm_dist_threshold = 0.5\n",
    "\n",
    "logfile_directory = pathlib.Path(r'D:\\LinacLogFiles')\n",
    "monaco_directory = pathlib.Path(r'\\\\monacoda\\FocalData\\RCCC\\1~Clinical')\n",
    "output_directory = pathlib.Path(r'S:\\Physics\\Patient Specific Logfile Fluence')"
   ]
  },
  {
   "cell_type": "code",
   "execution_count": null,
   "metadata": {},
   "outputs": [],
   "source": [
    "def get_incomplete_qcls(cursor, location):\n",
    "    data = pymedphys.mosaiq.execute(\n",
    "        cursor,\n",
    "        \"\"\"\n",
    "        SELECT\n",
    "            Ident.IDA,\n",
    "            Patient.Last_Name,\n",
    "            Patient.First_Name,\n",
    "            Chklist.Due_DtTm,\n",
    "            Chklist.Instructions,\n",
    "            Chklist.Notes,\n",
    "            QCLTask.Description\n",
    "        FROM Chklist, Staff, QCLTask, Ident, Patient\n",
    "        WHERE\n",
    "            Chklist.Pat_ID1 = Ident.Pat_ID1 AND\n",
    "            Patient.Pat_ID1 = Ident.Pat_ID1 AND\n",
    "            QCLTask.TSK_ID = Chklist.TSK_ID AND\n",
    "            Staff.Staff_ID = Chklist.Rsp_Staff_ID AND\n",
    "            Staff.Last_Name = %(location)s AND\n",
    "            Chklist.Complete = 0\n",
    "        \"\"\",\n",
    "        {\"location\": location},\n",
    "    )\n",
    "\n",
    "    results = pd.DataFrame(\n",
    "        data=data,\n",
    "        columns=[\n",
    "            \"patient_id\",\n",
    "            \"last_name\",\n",
    "            \"first_name\",\n",
    "            \"due\",\n",
    "            \"instructions\",\n",
    "            \"comment\",\n",
    "            \"task\",\n",
    "        ],\n",
    "    )\n",
    "\n",
    "    results = results.sort_values(by=[\"due\"], ascending=False)\n",
    "\n",
    "    return results"
   ]
  },
  {
   "cell_type": "code",
   "execution_count": null,
   "metadata": {},
   "outputs": [],
   "source": [
    "with pymedphys.mosaiq.connect('msqsql') as cursor:\n",
    "    qcls = get_incomplete_qcls(cursor, 'Physics_Check')"
   ]
  },
  {
   "cell_type": "code",
   "execution_count": null,
   "metadata": {},
   "outputs": [],
   "source": [
    "qcls"
   ]
  },
  {
   "cell_type": "code",
   "execution_count": null,
   "metadata": {},
   "outputs": [],
   "source": [
    "patient_ids = qcls['patient_id']"
   ]
  },
  {
   "cell_type": "code",
   "execution_count": null,
   "metadata": {},
   "outputs": [],
   "source": [
    "logfile_paths = {}\n",
    "\n",
    "for patient_id in patient_ids:\n",
    "    paths = list(logfile_directory.joinpath('indexed').glob(f'*/{patient_id}_*/*/*/*/*.trf'))\n",
    "    if paths:\n",
    "        logfile_paths[patient_id] = paths"
   ]
  },
  {
   "cell_type": "code",
   "execution_count": null,
   "metadata": {},
   "outputs": [],
   "source": [
    "logfile_paths"
   ]
  },
  {
   "cell_type": "code",
   "execution_count": null,
   "metadata": {},
   "outputs": [],
   "source": [
    "patiend_ids_with_logfiles = list(logfile_paths.keys())"
   ]
  },
  {
   "cell_type": "code",
   "execution_count": null,
   "metadata": {},
   "outputs": [],
   "source": [
    "patient_id = patiend_ids_with_logfiles[0]"
   ]
  },
  {
   "cell_type": "code",
   "execution_count": null,
   "metadata": {},
   "outputs": [],
   "source": [
    "monaco_approval_comments = {}\n",
    "\n",
    "for patient_id in patiend_ids_with_logfiles:\n",
    "    paths = list(monaco_directory.glob(f'*~{patient_id}/plan/*/*plan_comment'))\n",
    "    if paths:\n",
    "        monaco_approval_comments[patient_id] = paths"
   ]
  },
  {
   "cell_type": "code",
   "execution_count": null,
   "metadata": {},
   "outputs": [],
   "source": [
    "monaco_approval_comments"
   ]
  },
  {
   "cell_type": "code",
   "execution_count": null,
   "metadata": {},
   "outputs": [],
   "source": [
    "patient_ids_with_approved_plans = list(monaco_approval_comments.keys())"
   ]
  },
  {
   "cell_type": "code",
   "execution_count": null,
   "metadata": {},
   "outputs": [],
   "source": [
    "tel_files = {}\n",
    "\n",
    "for patient_id in patient_ids_with_approved_plans:\n",
    "    paths = list(monaco_directory.glob(f'*~{patient_id}/plan/*/tel.1'))\n",
    "    if paths:\n",
    "        tel_files[patient_id] = paths"
   ]
  },
  {
   "cell_type": "code",
   "execution_count": null,
   "metadata": {},
   "outputs": [],
   "source": [
    "tel_files"
   ]
  },
  {
   "cell_type": "code",
   "execution_count": null,
   "metadata": {},
   "outputs": [],
   "source": [
    "patient_ids_to_check = list(tel_files.keys())"
   ]
  },
  {
   "cell_type": "code",
   "execution_count": null,
   "metadata": {},
   "outputs": [],
   "source": []
  },
  {
   "cell_type": "code",
   "execution_count": null,
   "metadata": {},
   "outputs": [],
   "source": []
  },
  {
   "cell_type": "code",
   "execution_count": null,
   "metadata": {},
   "outputs": [],
   "source": []
  },
  {
   "cell_type": "code",
   "execution_count": null,
   "metadata": {},
   "outputs": [],
   "source": []
  },
  {
   "cell_type": "code",
   "execution_count": null,
   "metadata": {},
   "outputs": [],
   "source": []
  },
  {
   "cell_type": "code",
   "execution_count": null,
   "metadata": {},
   "outputs": [],
   "source": []
  },
  {
   "cell_type": "code",
   "execution_count": null,
   "metadata": {},
   "outputs": [],
   "source": []
  },
  {
   "cell_type": "code",
   "execution_count": null,
   "metadata": {},
   "outputs": [],
   "source": []
  },
  {
   "cell_type": "code",
   "execution_count": null,
   "metadata": {},
   "outputs": [],
   "source": []
  },
  {
   "cell_type": "code",
   "execution_count": null,
   "metadata": {},
   "outputs": [],
   "source": [
    "# data_paths = list(pathlib.Path(r'C:\\Users\\sbiggs\\Desktop\\20191223_logfile_compare').glob('*/*'))\n",
    "# data_paths"
   ]
  },
  {
   "cell_type": "code",
   "execution_count": null,
   "metadata": {},
   "outputs": [],
   "source": [
    "# def get_file_type(input_paths, file_type):\n",
    "#     paths = [path for path in input_paths if file_type in path.name]\n",
    "#     assert len(paths) == 1\n",
    "#     return paths[0]"
   ]
  },
  {
   "cell_type": "code",
   "execution_count": null,
   "metadata": {},
   "outputs": [],
   "source": [
    "def plot_gamma_hist(gamma, percent, dist):\n",
    "    valid_gamma = gamma[~np.isnan(gamma)]\n",
    "\n",
    "    plt.hist(valid_gamma, 50, density=True)\n",
    "    pass_ratio = np.sum(valid_gamma <= 1) / len(valid_gamma)\n",
    "\n",
    "    plt.title(\"Local Gamma ({0}%/{1}mm) | Percent Pass: {2:.2f} % | Max Gamma: {3:.2f}\".format(percent, dist, pass_ratio*100, np.max(valid_gamma)))"
   ]
  },
  {
   "cell_type": "code",
   "execution_count": null,
   "metadata": {},
   "outputs": [],
   "source": [
    "def markdown_print(string):\n",
    "    IPython.display.display(IPython.display.Markdown(string))"
   ]
  },
  {
   "cell_type": "code",
   "execution_count": null,
   "metadata": {},
   "outputs": [],
   "source": [
    "grid = pymedphys.mudensity.grid()\n",
    "\n",
    "def plot_and_save_results(mudensity_tel, mudensity_trf, gamma, output_dir):\n",
    "    plt.figure()\n",
    "    pymedphys.mudensity.display(grid, mudensity_tel)\n",
    "    plt.title(\"Monaco Plan\")\n",
    "    plt.savefig(output_dir.joinpath(\"001_monaco.png\"))\n",
    "\n",
    "    plt.figure()\n",
    "    pymedphys.mudensity.display(grid, mudensity_trf)\n",
    "    plt.title(\"Logfile Result\")\n",
    "    plt.savefig(output_dir.joinpath(\"002_logfile.png\"))\n",
    "\n",
    "    diff = mudensity_trf - mudensity_tel\n",
    "    largest_item = np.max(np.abs(diff))\n",
    "\n",
    "    plt.figure()\n",
    "    pymedphys.mudensity.display(grid, diff, cmap=\"seismic\", vmin=-largest_item, vmax=largest_item)\n",
    "    plt.title(\"Logfile - Monaco\")\n",
    "    plt.savefig(output_dir.joinpath(\"003_diff.png\"))\n",
    "\n",
    "    plt.figure()\n",
    "    pymedphys.mudensity.display(grid, gamma, cmap=\"coolwarm\", vmin=0, vmax=2)\n",
    "    plt.title(f\"Local Gamma | {percent_deviation}%/{mm_dist_threshold}mm\")\n",
    "    plt.savefig(output_dir.joinpath(\"004_gamma_map.png\"))\n",
    "\n",
    "    plt.figure()\n",
    "    plot_gamma_hist(gamma, percent_deviation, mm_dist_threshold)\n",
    "    plt.savefig(output_dir.joinpath(\"005_gamma_hist.png\"))\n",
    "\n",
    "    plt.show()"
   ]
  },
  {
   "cell_type": "code",
   "execution_count": null,
   "metadata": {},
   "outputs": [],
   "source": [
    "@functools.lru_cache()\n",
    "def get_delivery_tel_file(filepath):\n",
    "    delivery_tel = pymedphys.Delivery.from_monaco(filepath)\n",
    "    \n",
    "    return delivery_tel\n",
    "\n",
    "\n",
    "@functools.lru_cache()\n",
    "def get_delivery_trf_file(filepath):\n",
    "    delivery_trf = pymedphys.Delivery.from_logfile(filepath)\n",
    "    \n",
    "    return delivery_trf"
   ]
  },
  {
   "cell_type": "code",
   "execution_count": null,
   "metadata": {},
   "outputs": [],
   "source": [
    "@functools.lru_cache()\n",
    "def get_mu_density_from_file(filepath):\n",
    "    if filepath.suffix == '.trf':\n",
    "        delivery = get_delivery_trf_file(filepath)\n",
    "    elif filepath.name == 'tel.1':\n",
    "        delivery = pymedphys.Delivery.from_monaco(filepath)\n",
    "    else:\n",
    "        raise ValueError(\"Not appropriate file type found\")\n",
    "        \n",
    "    mudensity = delivery.mudensity()\n",
    "    \n",
    "    return mudensity"
   ]
  },
  {
   "cell_type": "code",
   "execution_count": null,
   "metadata": {},
   "outputs": [],
   "source": [
    "coords = (grid['jaw'], grid['mlc'])\n",
    "\n",
    "@functools.lru_cache()\n",
    "def calc_gamma(mudensity_tel, mudensity_trf):\n",
    "    gamma = pymedphys.gamma(\n",
    "        coords, mudensity_tel, coords, mudensity_trf, percent_deviation, mm_dist_threshold, \n",
    "        local_gamma=True, quiet=True\n",
    "    )\n",
    "    \n",
    "    return gamma"
   ]
  },
  {
   "cell_type": "code",
   "execution_count": null,
   "metadata": {},
   "outputs": [],
   "source": [
    "def to_tuple(array):\n",
    "    return tuple(map(tuple, array))\n",
    "\n",
    "# coords"
   ]
  },
  {
   "cell_type": "code",
   "execution_count": null,
   "metadata": {},
   "outputs": [],
   "source": [
    "def run_for_a_patient_id(patient_id):\n",
    "    markdown_print(f\"# {patient_id}\")\n",
    "    \n",
    "    for tel_file in tel_files[patient_id]:\n",
    "        markdown_print(f\"## `{tel_file}`\")\n",
    "        \n",
    "        try:\n",
    "            mudensity_tel = get_mu_density_from_file(tel_file)\n",
    "\n",
    "            for trf_file in logfile_paths[patient_id]:\n",
    "                markdown_print(f\"### `{trf_file}`\")\n",
    "\n",
    "                mudensity_trf = get_mu_density_from_file(trf_file)\n",
    "\n",
    "                gamma = calc_gamma(to_tuple(mudensity_tel), to_tuple(mudensity_trf))\n",
    "\n",
    "                results_dir = output_directory.joinpath(patient_id, tel_file.parent.name, trf_file.stem)\n",
    "                results_dir.mkdir(exist_ok=True, parents=True)\n",
    "                plot_and_save_results(mudensity_tel, mudensity_trf, gamma, results_dir)\n",
    "        \n",
    "        except Exception as e:\n",
    "            traceback.print_exc()\n",
    "\n",
    "\n",
    "for patient_id in patient_ids_to_check:\n",
    "    run_for_a_patient_id(patient_id)"
   ]
  },
  {
   "cell_type": "code",
   "execution_count": null,
   "metadata": {},
   "outputs": [],
   "source": []
  }
 ],
 "metadata": {
  "kernelspec": {
   "display_name": "pymedphys-master",
   "language": "python",
   "name": "pymedphys-master"
  },
  "language_info": {
   "codemirror_mode": {
    "name": "ipython",
    "version": 3
   },
   "file_extension": ".py",
   "mimetype": "text/x-python",
   "name": "python",
   "nbconvert_exporter": "python",
   "pygments_lexer": "ipython3",
   "version": "3.7.5"
  }
 },
 "nbformat": 4,
 "nbformat_minor": 4
}
