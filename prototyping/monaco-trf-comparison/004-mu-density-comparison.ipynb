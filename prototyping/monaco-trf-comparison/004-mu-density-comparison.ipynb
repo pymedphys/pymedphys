{
 "cells": [
  {
   "cell_type": "code",
   "execution_count": null,
   "metadata": {},
   "outputs": [],
   "source": [
    "import re\n",
    "import sys\n",
    "\n",
    "import numpy as np\n",
    "import matplotlib.pyplot as plt\n",
    "\n",
    "import pydicom"
   ]
  },
  {
   "cell_type": "code",
   "execution_count": null,
   "metadata": {},
   "outputs": [],
   "source": [
    "# Makes it so any changes in pymedphys is automatically\n",
    "# propagated into the notebook without needing a kernel reset.\n",
    "from IPython.lib.deepreload import reload\n",
    "%load_ext autoreload\n",
    "%autoreload 2"
   ]
  },
  {
   "cell_type": "code",
   "execution_count": null,
   "metadata": {},
   "outputs": [],
   "source": [
    "import pymedphys"
   ]
  },
  {
   "cell_type": "code",
   "execution_count": null,
   "metadata": {},
   "outputs": [],
   "source": [
    "data_paths = pymedphys.zip_data_paths(\"monaco_trf_compare.zip\")\n",
    "static_angles = [path for path in data_paths if path.parent.name == \"StaticAnglesNoCol\"]"
   ]
  },
  {
   "cell_type": "code",
   "execution_count": null,
   "metadata": {},
   "outputs": [],
   "source": [
    "def get_file_type(input_paths, file_type):\n",
    "    paths = [path for path in input_paths if file_type in path.name]\n",
    "    assert len(paths) == 1\n",
    "    return paths[0]\n",
    "    \n",
    "    \n",
    "tel_path = get_file_type(static_angles, \"tel\")\n",
    "trf_path = get_file_type(static_angles, \"trf\")"
   ]
  },
  {
   "cell_type": "code",
   "execution_count": null,
   "metadata": {},
   "outputs": [],
   "source": [
    "delivery_tel = pymedphys.Delivery.from_monaco(tel_path)\n",
    "delivery_trf = pymedphys.Delivery.from_logfile(trf_path)"
   ]
  },
  {
   "cell_type": "code",
   "execution_count": null,
   "metadata": {},
   "outputs": [],
   "source": [
    "mu_density_angles = set(delivery_tel.gantry)"
   ]
  },
  {
   "cell_type": "code",
   "execution_count": null,
   "metadata": {},
   "outputs": [],
   "source": [
    "mudensity_tel = delivery_tel.mudensity(gantry_angles=mu_density_angles)"
   ]
  },
  {
   "cell_type": "code",
   "execution_count": null,
   "metadata": {},
   "outputs": [],
   "source": [
    "mudensity_trf = delivery_trf.mudensity(gantry_angles=mu_density_angles)"
   ]
  },
  {
   "cell_type": "code",
   "execution_count": null,
   "metadata": {},
   "outputs": [],
   "source": [
    "coords = (grid['jaw'], grid['mlc'])"
   ]
  },
  {
   "cell_type": "code",
   "execution_count": null,
   "metadata": {},
   "outputs": [],
   "source": [
    "gammas = []\n",
    "percent_deviation = 1\n",
    "mm_dist_threshold = 0.2\n",
    "\n",
    "for tel_result, trf_result in zip(mudensity_tel, mudensity_trf):\n",
    "    gammas.append(\n",
    "        pymedphys.gamma(coords, tel_result, coords, trf_result, percent_deviation, mm_dist_threshold, local_gamma=True))"
   ]
  },
  {
   "cell_type": "code",
   "execution_count": null,
   "metadata": {},
   "outputs": [],
   "source": [
    "def plot_gamma_hist(gamma, percent, dist):\n",
    "    valid_gamma = gamma[~np.isnan(gamma)]\n",
    "\n",
    "    plt.hist(valid_gamma, 50, density=True)\n",
    "    pass_ratio = np.sum(valid_gamma <= 1) / len(valid_gamma)\n",
    "\n",
    "    plt.title(\"Local Gamma ({0}%/{1}mm) | Percent Pass: {2:.2f} % | Max Gamma: {3:.2f}\".format(percent, dist, pass_ratio*100, np.max(valid_gamma)))"
   ]
  },
  {
   "cell_type": "code",
   "execution_count": null,
   "metadata": {},
   "outputs": [],
   "source": [
    "grid = pymedphys.mudensity.grid()"
   ]
  },
  {
   "cell_type": "code",
   "execution_count": null,
   "metadata": {},
   "outputs": [],
   "source": [
    "for gantry_angle, tel_result, trf_result, gamma in zip(mu_density_angles, mudensity_tel, mudensity_trf, gammas):\n",
    "    print(f\"Gantry Angle = {gantry_angle}\")\n",
    "    \n",
    "    plt.figure()\n",
    "    pymedphys.mudensity.display(grid, tel_result)\n",
    "    plt.title(\"Monaco Plan\")\n",
    "    \n",
    "    plt.figure()\n",
    "    pymedphys.mudensity.display(grid, tel_result)\n",
    "    plt.title(\"Logfile Result\")\n",
    "    \n",
    "    diff = trf_result - tel_result\n",
    "    largest_item = np.max(np.abs(diff))\n",
    "    \n",
    "    plt.figure()\n",
    "    pymedphys.mudensity.display(grid, diff, cmap=\"seismic\", vmin=-largest_item, vmax=largest_item)\n",
    "    plt.title(\"Logfile - Monaco\")\n",
    "    \n",
    "    plt.figure()\n",
    "    pymedphys.mudensity.display(grid, gamma, cmap=\"coolwarm\", vmin=0, vmax=2)\n",
    "    plt.title(f\"Local Gamma | {percent_deviation}%/{mm_dist_threshold}mm\")\n",
    "    \n",
    "    plt.figure()\n",
    "    plot_gamma_hist(gamma, percent_deviation, mm_dist_threshold)\n",
    "    \n",
    "    plt.show()"
   ]
  }
 ],
 "metadata": {
  "kernelspec": {
   "display_name": "pymedphys-master",
   "language": "python",
   "name": "pymedphys-master"
  },
  "language_info": {
   "codemirror_mode": {
    "name": "ipython",
    "version": 3
   },
   "file_extension": ".py",
   "mimetype": "text/x-python",
   "name": "python",
   "nbconvert_exporter": "python",
   "pygments_lexer": "ipython3",
   "version": "3.7.0"
  }
 },
 "nbformat": 4,
 "nbformat_minor": 4
}
