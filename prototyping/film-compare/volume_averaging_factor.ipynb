{
 "cells": [
  {
   "cell_type": "code",
   "execution_count": null,
   "metadata": {},
   "outputs": [],
   "source": [
    "from IPython.lib.deepreload import reload\n",
    "%load_ext autoreload\n",
    "%autoreload 2"
   ]
  },
  {
   "cell_type": "code",
   "execution_count": null,
   "metadata": {},
   "outputs": [],
   "source": [
    "import re\n",
    "import operator\n",
    "from pathlib import Path\n",
    "\n",
    "import numpy as np\n",
    "import matplotlib.pyplot as plt\n",
    "import pandas as pd\n",
    "import scipy.integrate\n",
    "import scipy.special\n",
    "import scipy.interpolate\n",
    "\n",
    "import pydicom"
   ]
  },
  {
   "cell_type": "code",
   "execution_count": null,
   "metadata": {},
   "outputs": [],
   "source": [
    "NE2571 = {\n",
    "    'cavity': {\n",
    "        'length': 24.0,\n",
    "        'radius': 3.20\n",
    "    },\n",
    "    'electrode': {\n",
    "        'length': 20.6,\n",
    "        'radius': 1\n",
    "    }\n",
    "}\n",
    "\n",
    "PTW30010 = {\n",
    "    'cavity': {\n",
    "        'length': 23.0,\n",
    "        'radius': 3.05\n",
    "    },\n",
    "    'electrode': {\n",
    "        'length': 20.6,\n",
    "        'radius': 1\n",
    "    }\n",
    "}\n",
    "\n",
    "\n",
    "chamber = NE2571"
   ]
  },
  {
   "cell_type": "code",
   "execution_count": null,
   "metadata": {},
   "outputs": [],
   "source": [
    "DATA_DIR = Path(r\"S:\\Physics\\RCCC Specific Files\\Linac Beam Data Record\\Synergy 2619\\Absolute Dose Calibration\\20191111 Absolute Calibration JM\")\n",
    "\n",
    "DATA_RESULTS_FILE = DATA_DIR.joinpath(f\"2619_Measurements.xlsm\")\n",
    "\n",
    "data_results = pd.read_excel(DATA_RESULTS_FILE, sheet_name='6FFF_2').dropna()"
   ]
  },
  {
   "cell_type": "code",
   "execution_count": null,
   "metadata": {},
   "outputs": [],
   "source": [
    "x = data_results['in-plane position'].values\n",
    "profile_x = data_results['in-plane OAR'].values\n",
    "y = data_results['cross-plane position'].values\n",
    "profile_y = data_results['cross-plane OAR'].values"
   ]
  },
  {
   "cell_type": "code",
   "execution_count": null,
   "metadata": {},
   "outputs": [],
   "source": [
    "xx, yy = np.meshgrid(x, y)"
   ]
  },
  {
   "cell_type": "code",
   "execution_count": null,
   "metadata": {},
   "outputs": [],
   "source": [
    "def create_profile_func(x, profile_x, y, profile_y):\n",
    "    x_interp = scipy.interpolate.interp1d(x, profile_x)\n",
    "    y_interp = scipy.interpolate.interp1d(y, profile_y)\n",
    "    \n",
    "    def profile(xx, yy):\n",
    "        return x_interp(xx) * y_interp(yy)\n",
    "    \n",
    "    return profile\n",
    "\n",
    "\n",
    "profile = create_profile_func(x, profile_x, y, profile_y)\n",
    "\n",
    "def weight_model_A(xx, yy):  \n",
    "    result = np.ones_like(xx)\n",
    "        \n",
    "    return result\n",
    "\n",
    "def weight_model_B(xx, yy):\n",
    "    \n",
    "    results = np.zeros_like(xx)\n",
    "    assert np.shape(results) == np.shape(yy)\n",
    "    \n",
    "    \n",
    "    results = np.sqrt(chamber['cavity']['radius']**2 - xx**2)\n",
    "    \n",
    "    return results\n",
    "\n",
    "# def weight_model_C(xx, yy):\n",
    "    \n",
    "#     results = np.ones_like(xx) * np.nan\n",
    "    \n",
    "#     ref_1 = np.logical_and(\n",
    "#         -chamber['cavity']['length']/2 <= yy,\n",
    "#         yy < (chamber['electrode']['length'] - chamber['cavity']['length']/2),\n",
    "#         xx <= chamber['cavity']['radius']\n",
    "#     )\n",
    "    \n",
    "#     ref_2 = np.logical_and(\n",
    "#        (chamber['electrode']['length'] - chamber['cavity']['length']/2) <= yy,\n",
    "#         yy < chamber['cavity']['length']/2,\n",
    "#         xx <= (chamber['cavity']['radius'] * ((yy-chamber['cavity']['length']/2)/(chamber['electrode']['length']-chamber['cavity']['length']))\n",
    "#     )\n",
    "    \n",
    "#     results = np.sqrt(chamber['cavity']['radius']**2 - xx[ref_1]**2)\n",
    "    \n",
    "#     results = np.sqrt(((chamber['cavity']['radius']**2) * (((yy[ref_2]-chamber['cavity']['length']/2)**2)/(chamber['electrode']['length']-chamber['cavity']['length'])**2))- xx[ref_2]**2)\n",
    "    \n",
    "#     return results\n",
    "\n",
    "weight = weight_model_A\n",
    "\n",
    "def weighted_profile(xx, yy):\n",
    "    return weight(xx, yy) * profile(xx, yy)\n",
    "\n",
    "weight(xx,yy)"
   ]
  },
  {
   "cell_type": "code",
   "execution_count": null,
   "metadata": {},
   "outputs": [],
   "source": [
    " -chamber['cavity']['length']/2"
   ]
  },
  {
   "cell_type": "code",
   "execution_count": null,
   "metadata": {},
   "outputs": [],
   "source": [
    "plt.contourf(xx, yy, profile(xx, yy), 50)\n",
    "plt.axis('equal')\n",
    "plt.colorbar()"
   ]
  },
  {
   "cell_type": "code",
   "execution_count": null,
   "metadata": {},
   "outputs": [],
   "source": [
    "plt.contourf(xx, yy, weighted_profile(xx, yy), 100)\n",
    "# plt.xlim([-5, 5])\n",
    "# plt.ylim()\n",
    "\n",
    "plt.colorbar()"
   ]
  },
  {
   "cell_type": "code",
   "execution_count": null,
   "metadata": {},
   "outputs": [],
   "source": [
    "integral_bounds = [-chamber['cavity']['radius'], chamber['cavity']['radius']], [-chamber['cavity']['length']/2, chamber['cavity']['length']/2]\n",
    "\n",
    "kvol_numerator = scipy.integrate.nquad(weight, integral_bounds)[0] \n",
    "kvol_denominator = scipy.integrate.nquad(weighted_profile, integral_bounds)[0]\n",
    "\n",
    "kvol = kvol_numerator / kvol_denominator\n",
    "\n",
    "kvol"
   ]
  },
  {
   "cell_type": "code",
   "execution_count": null,
   "metadata": {},
   "outputs": [],
   "source": []
  },
  {
   "cell_type": "code",
   "execution_count": null,
   "metadata": {},
   "outputs": [],
   "source": [
    "kvol_denominator"
   ]
  },
  {
   "cell_type": "code",
   "execution_count": null,
   "metadata": {},
   "outputs": [],
   "source": []
  },
  {
   "cell_type": "code",
   "execution_count": null,
   "metadata": {},
   "outputs": [],
   "source": [
    "plt.figure(1)\n",
    "\n",
    "plt.subplot(111)\n",
    "plt.plot(y,profile_y,label='inplane')\n",
    "plt.plot(x,profile_x,label='crossplane')\n",
    "plt.ylabel('Normalised OAR')\n",
    "plt.xlabel('Plane Position (cm)')\n",
    "plt.title('')\n",
    "plt.legend(loc='lower left')\n",
    "\n",
    "\n",
    "plt.subplots_adjust(top=3, bottom=0.5, left=0, right=2, hspace=0.25,\n",
    "                    wspace=0.25)"
   ]
  },
  {
   "cell_type": "code",
   "execution_count": null,
   "metadata": {},
   "outputs": [],
   "source": []
  },
  {
   "cell_type": "code",
   "execution_count": null,
   "metadata": {},
   "outputs": [],
   "source": []
  }
 ],
 "metadata": {
  "kernelspec": {
   "display_name": "Python 3",
   "language": "python",
   "name": "python3"
  },
  "language_info": {
   "codemirror_mode": {
    "name": "ipython",
    "version": 3
   },
   "file_extension": ".py",
   "mimetype": "text/x-python",
   "name": "python",
   "nbconvert_exporter": "python",
   "pygments_lexer": "ipython3",
   "version": "3.7.1"
  }
 },
 "nbformat": 4,
 "nbformat_minor": 2
}
