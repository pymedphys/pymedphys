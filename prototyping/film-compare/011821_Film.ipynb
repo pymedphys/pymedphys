{
 "cells": [
  {
   "cell_type": "code",
   "execution_count": null,
   "metadata": {},
   "outputs": [],
   "source": [
    "from IPython.lib.deepreload import reload\n",
    "%load_ext autoreload\n",
    "%autoreload 2"
   ]
  },
  {
   "cell_type": "code",
   "execution_count": null,
   "metadata": {},
   "outputs": [],
   "source": [
    "import re\n",
    "import operator\n",
    "from pathlib import Path\n",
    "\n",
    "import numpy as np\n",
    "import matplotlib.pyplot as plt\n",
    "import pandas as pd\n",
    "\n",
    "import pydicom\n",
    "from pymedphys_dicom.dicom import dicom_dose_interpolate"
   ]
  },
  {
   "cell_type": "code",
   "execution_count": null,
   "metadata": {},
   "outputs": [],
   "source": []
  },
  {
   "cell_type": "code",
   "execution_count": null,
   "metadata": {},
   "outputs": [],
   "source": [
    "ROOT_DIR = Path(r\"S:\\Physics\\RCCC Specific Files\\Dosimetry\\Film\\011821\\20190920\")\n",
    "\n",
    "MONACO_DICOM_DIR = (ROOT_DIR.joinpath(r\"DICOM Exports\"))\n",
    "\n",
    "RESULTS = ROOT_DIR.joinpath(r\"Results\")\n",
    "\n",
    "MONACO_DICOM_DIR"
   ]
  },
  {
   "cell_type": "code",
   "execution_count": null,
   "metadata": {},
   "outputs": [],
   "source": [
    "FILM_RESULTS_FILE = (ROOT_DIR.joinpath(r\"Data.xlsx\"))\n",
    "\n",
    "# film_results = pd.read_csv(FILM_RESULTS_FILE)"
   ]
  },
  {
   "cell_type": "code",
   "execution_count": null,
   "metadata": {},
   "outputs": [],
   "source": [
    "film_results = pd.read_excel(FILM_RESULTS_FILE, sheet_name='export').dropna()"
   ]
  },
  {
   "cell_type": "code",
   "execution_count": null,
   "metadata": {},
   "outputs": [],
   "source": [
    "# pd.read_excel?"
   ]
  },
  {
   "cell_type": "code",
   "execution_count": null,
   "metadata": {},
   "outputs": [],
   "source": [
    "film_dose = film_results.Dose.values\n",
    "film_x = film_results.x.values"
   ]
  },
  {
   "cell_type": "code",
   "execution_count": null,
   "metadata": {},
   "outputs": [],
   "source": [
    "monaco_dose = pydicom.read_file(str(MONACO_DICOM_DIR.joinpath('dose.dcm')), force=True)\n",
    "dicom_plan = pydicom.read_file(str(MONACO_DICOM_DIR.joinpath('plan.dcm')), force=True)"
   ]
  },
  {
   "cell_type": "code",
   "execution_count": null,
   "metadata": {},
   "outputs": [],
   "source": [
    "interp_z = [0]\n",
    "interp_y = [37]\n",
    "\n",
    "interp_coords = (interp_z, interp_y, film_x)"
   ]
  },
  {
   "cell_type": "code",
   "execution_count": null,
   "metadata": {},
   "outputs": [],
   "source": [
    "monaco_profile = np.squeeze(dicom_dose_interpolate(interp_coords, monaco_dose))\n",
    "monaco_profile"
   ]
  },
  {
   "cell_type": "code",
   "execution_count": null,
   "metadata": {},
   "outputs": [],
   "source": [
    "plt.figure(1)\n",
    "\n",
    "plt.subplot(111)\n",
    "plt.plot(film_x,monaco_profile,label='Monaco')\n",
    "plt.plot(film_x,film_dose,label='Film')\n",
    "plt.ylabel('Dose (Gy)')\n",
    "plt.xlabel('Plane Position (mm)')\n",
    "plt.title('')\n",
    "plt.legend(loc='lower left')\n",
    "\n",
    "\n",
    "plt.subplots_adjust(top=3, bottom=0.5, left=0, right=2, hspace=0.25,\n",
    "                    wspace=0.25)\n",
    "\n",
    "# plt.suptitle(('MLC Test Fields, ' + energy + ' ' + test_field + ' , Doses for Monaco ' + algorithm_full + ', DoseCHECK, and film'),fontsize=\"x-large\",x=1,y=3.2)\n",
    "\n",
    "# plt.savefig(RESULTS.joinpath(filename + f'_1.png'),bbox_inches='tight')"
   ]
  },
  {
   "cell_type": "code",
   "execution_count": null,
   "metadata": {},
   "outputs": [],
   "source": [
    "shift = 0.4\n",
    "\n",
    "plt.figure(1)\n",
    "\n",
    "plt.subplot(111)\n",
    "plt.plot(film_x,monaco_profile,label='Monaco')\n",
    "plt.plot(film_x-shift,film_dose,label='Film')\n",
    "plt.ylabel('Dose (Gy)')\n",
    "plt.xlabel('Plane Position (mm)')\n",
    "plt.title('')\n",
    "plt.legend(loc='lower left')\n",
    "\n",
    "\n",
    "plt.subplots_adjust(top=3, bottom=0.5, left=0, right=2, hspace=0.25,\n",
    "                    wspace=0.25)\n",
    "\n",
    "# plt.suptitle(('MLC Test Fields, ' + energy + ' ' + test_field + ' , Doses for Monaco ' + algorithm_full + ', DoseCHECK, and film'),fontsize=\"x-large\",x=1,y=3.2)\n",
    "\n",
    "# plt.savefig(RESULTS.joinpath(filename + f'_1.png'),bbox_inches='tight')"
   ]
  },
  {
   "cell_type": "code",
   "execution_count": null,
   "metadata": {},
   "outputs": [],
   "source": []
  }
 ],
 "metadata": {
  "kernelspec": {
   "display_name": "Python 3",
   "language": "python",
   "name": "python3"
  },
  "language_info": {
   "codemirror_mode": {
    "name": "ipython",
    "version": 3
   },
   "file_extension": ".py",
   "mimetype": "text/x-python",
   "name": "python",
   "nbconvert_exporter": "python",
   "pygments_lexer": "ipython3",
   "version": "3.7.1"
  }
 },
 "nbformat": 4,
 "nbformat_minor": 4
}
