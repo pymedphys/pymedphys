{
 "cells": [
  {
   "cell_type": "code",
   "execution_count": null,
   "metadata": {},
   "outputs": [],
   "source": [
    "from IPython.lib.deepreload import reload\n",
    "%load_ext autoreload\n",
    "%autoreload 2"
   ]
  },
  {
   "cell_type": "code",
   "execution_count": null,
   "metadata": {},
   "outputs": [],
   "source": [
    "import re\n",
    "import operator\n",
    "from pathlib import Path\n",
    "\n",
    "import numpy as np\n",
    "import matplotlib.pyplot as plt\n",
    "import pandas as pd\n",
    "\n",
    "import pydicom\n",
    "\n",
    "from pymedphys_dicom.dicom import depth_dose, profile"
   ]
  },
  {
   "cell_type": "code",
   "execution_count": null,
   "metadata": {},
   "outputs": [],
   "source": [
    "algorithm = 'MC'\n",
    "energy = '06MV'\n",
    "test_field = 'TandG_Odd'\n",
    "\n",
    "filename = algorithm + energy + '_' + test_field\n",
    "\n",
    "filename"
   ]
  },
  {
   "cell_type": "code",
   "execution_count": null,
   "metadata": {},
   "outputs": [],
   "source": [
    "if algorithm == 'MC':\n",
    "    algorithm_full = 'Monte Carlo'\n",
    "    \n",
    "if algorithm == 'CC':\n",
    "    algorithm_full = 'Collapsed Cone'\n",
    "    \n",
    "algorithm_full"
   ]
  },
  {
   "cell_type": "code",
   "execution_count": null,
   "metadata": {},
   "outputs": [],
   "source": [
    "ROOT_DIR = Path(r\"S:\\Physics\\DoseCHECK\\Commissioning\\MLC test field Results\\DICOM Comparisons\")\n",
    "\n",
    "MONACO_DICOM_DIR = (ROOT_DIR.joinpath(r\"DICOM Exports\\Monaco\")).joinpath(filename)\n",
    "DOSECHECK_DICOM_DIR = (ROOT_DIR.joinpath(r\"DICOM Exports\\DoseCHECK\")).joinpath(filename)\n",
    "RESULTS = ROOT_DIR.joinpath(r\"Results\")\n",
    "\n",
    "MONACO_DICOM_DIR"
   ]
  },
  {
   "cell_type": "code",
   "execution_count": null,
   "metadata": {},
   "outputs": [],
   "source": [
    "FILM_DIR = Path(r\"S:\\Physics\\RCCC Specific Files\\Dosimetry\\Film\\TandG\\20190903\")\n",
    "\n",
    "FILM_RESULTS_FILE = FILM_DIR.joinpath(f\"{test_field}.csv\")\n",
    "\n",
    "film_results = pd.read_csv(FILM_RESULTS_FILE)"
   ]
  },
  {
   "cell_type": "code",
   "execution_count": null,
   "metadata": {},
   "outputs": [],
   "source": [
    "film_dose = film_results.Dose.values"
   ]
  },
  {
   "cell_type": "code",
   "execution_count": null,
   "metadata": {},
   "outputs": [],
   "source": [
    "monaco_dose = pydicom.read_file(str(MONACO_DICOM_DIR.joinpath('dose.dcm')), force=True)\n",
    "dosecheck_dose = pydicom.read_file(str(DOSECHECK_DICOM_DIR.joinpath('dose.dcm')), force=True)\n",
    "dicom_plan = pydicom.read_file(str(MONACO_DICOM_DIR.joinpath('plan.dcm')), force=True)"
   ]
  },
  {
   "cell_type": "code",
   "execution_count": null,
   "metadata": {},
   "outputs": [],
   "source": [
    "plane_dimensions = np.arange(-150,150,0.1)"
   ]
  },
  {
   "cell_type": "code",
   "execution_count": null,
   "metadata": {},
   "outputs": [],
   "source": [
    "# depth_dimensions = np.arange(0,160,1)"
   ]
  },
  {
   "cell_type": "code",
   "execution_count": null,
   "metadata": {},
   "outputs": [],
   "source": [
    "monaco_inplane_profile_0 = profile(plane_dimensions,20,'inplane',monaco_dose,dicom_plan)\n",
    "monaco_inplane_profile_1 = profile(plane_dimensions,50,'inplane',monaco_dose,dicom_plan)\n",
    "monaco_inplane_profile_2 = profile(plane_dimensions,100,'inplane',monaco_dose,dicom_plan)\n",
    "monaco_inplane_profile_3 = profile(plane_dimensions,150,'inplane',monaco_dose,dicom_plan)\n",
    "\n",
    "dosecheck_inplane_profile_0 = profile(plane_dimensions,20,'inplane',dosecheck_dose,dicom_plan)\n",
    "dosecheck_inplane_profile_1 = profile(plane_dimensions,50,'inplane',dosecheck_dose,dicom_plan)\n",
    "dosecheck_inplane_profile_2 = profile(plane_dimensions,100,'inplane',dosecheck_dose,dicom_plan)\n",
    "dosecheck_inplane_profile_3 = profile(plane_dimensions,150,'inplane',dosecheck_dose,dicom_plan)\n",
    "\n",
    "monaco_crossplane_profile_0 = profile(plane_dimensions,20,'crossplane',monaco_dose,dicom_plan)\n",
    "monaco_crossplane_profile_1 = profile(plane_dimensions,50,'crossplane',monaco_dose,dicom_plan)\n",
    "monaco_crossplane_profile_2 = profile(plane_dimensions,100,'crossplane',monaco_dose,dicom_plan)\n",
    "monaco_crossplane_profile_3 = profile(plane_dimensions,150,'crossplane',monaco_dose,dicom_plan)\n",
    "\n",
    "dosecheck_crossplane_profile_0 = profile(plane_dimensions,20,'crossplane',dosecheck_dose,dicom_plan)\n",
    "dosecheck_crossplane_profile_1 = profile(plane_dimensions,50,'crossplane',dosecheck_dose,dicom_plan)\n",
    "dosecheck_crossplane_profile_2 = profile(plane_dimensions,100,'crossplane',dosecheck_dose,dicom_plan)\n",
    "dosecheck_crossplane_profile_3 = profile(plane_dimensions,150,'crossplane',dosecheck_dose,dicom_plan)"
   ]
  },
  {
   "cell_type": "code",
   "execution_count": null,
   "metadata": {},
   "outputs": [],
   "source": [
    "monaco_DD = depth_dose(depth_dimensions,monaco_dose,dicom_plan)\n",
    "dosecheck_DD = depth_dose(depth_dimensions,dosecheck_dose,dicom_plan)"
   ]
  },
  {
   "cell_type": "code",
   "execution_count": null,
   "metadata": {},
   "outputs": [],
   "source": [
    "# DD_diff = 100 * (monaco_DD - dosecheck_DD) / monaco_DD\n",
    "\n",
    "# diff_inplane_1 = 100 * (monaco_inplane_profile_1 - dosecheck_inplane_profile_1) / monaco_inplane_profile_1\n",
    "# diff_inplane_2 = 100 * (monaco_inplane_profile_2 - dosecheck_inplane_profile_2) / monaco_inplane_profile_2\n",
    "# diff_inplane_3 = 100 * (monaco_inplane_profile_3 - dosecheck_inplane_profile_3) / monaco_inplane_profile_3\n",
    "# diff_inplane_4 = 100 * (monaco_inplane_profile_4 - dosecheck_inplane_profile_4) / monaco_inplane_profile_4\n",
    "\n",
    "# diff_crossplane_1 = 100 * (monaco_crossplane_profile_1 - dosecheck_crossplane_profile_1) / monaco_crossplane_profile_1\n",
    "# diff_crossplane_2 = 100 * (monaco_crossplane_profile_2 - dosecheck_crossplane_profile_2) / monaco_crossplane_profile_2\n",
    "# diff_crossplane_3 = 100 * (monaco_crossplane_profile_3 - dosecheck_crossplane_profile_3) / monaco_crossplane_profile_3\n",
    "# diff_crossplane_4 = 100 * (monaco_crossplane_profile_4 - dosecheck_crossplane_profile_4) / monaco_crossplane_profile_4"
   ]
  },
  {
   "cell_type": "code",
   "execution_count": null,
   "metadata": {},
   "outputs": [],
   "source": [
    "plt.figure(1)\n",
    "\n",
    "plt.subplot(111)\n",
    "plt.plot(plane_dimensions,monaco_inplane_profile_1,label='Monaco')\n",
    "plt.plot(plane_dimensions,dosecheck_inplane_profile_1,label='DoseCHECK')\n",
    "plt.ylabel('Dose (Gy / 100 MU)')\n",
    "plt.xlabel('Plane Position (mm)')\n",
    "plt.title('Inplane Profiles at Depth of 20 mm')\n",
    "plt.legend(loc='lower left')\n",
    "\n",
    "# plt.subplot(222)\n",
    "# plt.plot(plane_dimensions,monaco_inplane_profile_1,label='Monaco')\n",
    "# plt.plot(plane_dimensions,dosecheck_inplane_profile_1,label='DoseCHECK')\n",
    "# plt.ylabel('Dose (Gy / 100 MU)')\n",
    "# plt.xlabel('Plane Position (mm)')\n",
    "# plt.title('Inplane Profiles at Depth of 50 mm')\n",
    "# plt.legend(loc='lower left')\n",
    "\n",
    "# plt.subplot(223)\n",
    "# plt.plot(plane_dimensions,monaco_inplane_profile_2,label='Monaco')\n",
    "# plt.plot(plane_dimensions,dosecheck_inplane_profile_2,label='DoseCHECK')\n",
    "# plt.ylabel('Dose (Gy / 100 MU)')\n",
    "# plt.xlabel('Plane Position (mm)')\n",
    "# plt.title('Inplane Profiles at Depth of 100 mm')\n",
    "# plt.legend(loc='lower left')\n",
    "\n",
    "# plt.subplot(224)\n",
    "# plt.plot(plane_dimensions,monaco_inplane_profile_3,label='Monaco')\n",
    "# plt.plot(plane_dimensions,dosecheck_inplane_profile_3,label='DoseCHECK')\n",
    "# plt.ylabel('Dose (Gy / 100 MU)')\n",
    "# plt.xlabel('Plane Position (mm)')\n",
    "# plt.title('Inplane Profiles at Depth of 150 mm')\n",
    "# plt.legend(loc='lower left')\n",
    "\n",
    "\n",
    "plt.subplots_adjust(top=3, bottom=0.5, left=0, right=2, hspace=0.25,\n",
    "                    wspace=0.25)\n",
    "\n",
    "plt.suptitle(('MLC Test Fields, ' + energy + ' ' + test_field + ' , Abdsolute Doses for Monaco ' + algorithm_full + ' and DoseCHECK'),fontsize=\"x-large\",x=1,y=3.2)\n",
    "\n",
    "\n",
    "# plt.savefig(RESULTS.joinpath(filename + f'_1.png'),bbox_inches='tight')\n",
    "\n",
    "\n",
    "# plt.figure(2)\n",
    "\n",
    "# plt.subplot(111)\n",
    "# plt.plot(plane_dimensions,monaco_crossplane_profile_1,label='Monaco')\n",
    "# plt.plot(plane_dimensions,dosecheck_crossplane_profile_1,label='DoseCHECK')\n",
    "# plt.ylabel('Dose (Gy / 100 MU)')\n",
    "# plt.xlabel('Plane Position (mm)')\n",
    "# plt.title('Crossplane Profiles at Depth of 20 mm')\n",
    "# plt.legend(loc='lower left')\n",
    "\n",
    "# plt.subplot(222)\n",
    "# plt.plot(plane_dimensions,monaco_crossplane_profile_1,label='Monaco')\n",
    "# plt.plot(plane_dimensions,dosecheck_crossplane_profile_1,label='DoseCHECK')\n",
    "# plt.ylabel('Dose (Gy / 100 MU)')\n",
    "# plt.xlabel('Plane Position (mm)')\n",
    "# plt.title('Crossplane Profiles at Depth of 50 mm')\n",
    "# plt.legend(loc='lower left')\n",
    "\n",
    "# plt.subplot(223)\n",
    "# plt.plot(plane_dimensions,monaco_crossplane_profile_2,label='Monaco')\n",
    "# plt.plot(plane_dimensions,dosecheck_crossplane_profile_2,label='DoseCHECK')\n",
    "# plt.ylabel('Dose (Gy / 100 MU)')\n",
    "# plt.xlabel('Plane Position (mm)')\n",
    "# plt.title('Crossplane Profiles at Depth of 100 mm')\n",
    "# plt.legend(loc='lower left')\n",
    "\n",
    "# plt.subplot(224)\n",
    "# plt.plot(plane_dimensions,monaco_crossplane_profile_3,label='Monaco')\n",
    "# plt.plot(plane_dimensions,dosecheck_crossplane_profile_3,label='DoseCHECK')\n",
    "# plt.ylabel('Dose (Gy / 100 MU)')\n",
    "# plt.xlabel('Plane Position (mm)')\n",
    "# plt.title('Crossplane Profiles at Depth of 150 mm')\n",
    "# plt.legend(loc='lower left')\n",
    "\n",
    "plt.subplots_adjust(top=3, bottom=0.5, left=0, right=2, hspace=0.25,\n",
    "                    wspace=0.25)\n",
    "\n",
    "# plt.savefig(RESULTS.joinpath(filename + f'_2.png'),bbox_inches='tight')\n",
    "\n",
    "# plt.figure(3)\n",
    "\n",
    "# plt.subplot(111)\n",
    "# plt.plot(depth_dimensions,monaco_DD,label='Monaco')\n",
    "# plt.plot(depth_dimensions,dosecheck_DD,label='DoseCHECK')\n",
    "# plt.ylabel('Dose (Gy / 100 MU)')\n",
    "# plt.xlabel('Depth (mm)')\n",
    "# plt.title('Monaco and DoseCHECK Depth Doses')\n",
    "# plt.legend(loc='lower left')\n",
    "\n",
    "# plt.subplots_adjust(top=2, bottom=0.5, left=0, right=2, hspace=0.25,\n",
    "#                     wspace=0.25)\n",
    "\n",
    "# plt.savefig(RESULTS.joinpath(filename + f'_3.png'),bbox_inches='tight')\n",
    "\n",
    "# plt.figure(4)\n",
    "\n",
    "# plt.suptitle('MLC Test Fields, ' + energy + ' ' + test_field + ' , % Dose Difference for Monaco ' + algorithm_full + ' and DoseCHECK',fontsize=\"x-large\",x=1,y=2.2)\n",
    "\n",
    "# plt.subplot(131)\n",
    "# plt.plot(depth_dimensions,DD_diff,label='% Difference')\n",
    "# plt.ylabel('100 * (Monaco - DoseCHECK / Monaco)')\n",
    "# plt.xlabel('Depth (mm)')\n",
    "# plt.title('% Difference, depth doses')\n",
    "# plt.legend(loc='lower left')\n",
    "# plt.ylim([-50, 50])\n",
    "\n",
    "# plt.subplot(132)\n",
    "# plt.plot(plane_dimensions,diff_inplane_1,label='% Difference, 50 mm')\n",
    "# plt.plot(plane_dimensions,diff_inplane_2,label='% Difference, 100 mm')\n",
    "# plt.plot(plane_dimensions,diff_inplane_3,label='% Difference, 150 mm')\n",
    "# plt.plot(plane_dimensions,diff_inplane_4,label='% Difference, 200 mm')\n",
    "# plt.ylabel('100 * (Monaco - DoseCHECK / Monaco)')\n",
    "# plt.xlabel('Plane Position (mm)')\n",
    "# plt.title('% Difference, inplane profiles')\n",
    "# plt.legend(loc='lower left')\n",
    "# plt.ylim([-50, 50])\n",
    "\n",
    "# plt.subplot(133)\n",
    "# plt.plot(plane_dimensions,diff_crossplane_1,label='% Difference, 50 mm')\n",
    "# plt.plot(plane_dimensions,diff_crossplane_2,label='% Difference, 100 mm')\n",
    "# plt.plot(plane_dimensions,diff_crossplane_3,label='% Difference, 150 mm')\n",
    "# plt.plot(plane_dimensions,diff_crossplane_4,label='% Difference, 200 mm')\n",
    "# plt.ylabel('100 * (Monaco - DoseCHECK / Monaco)')\n",
    "# plt.xlabel('Plane Position (mm)')\n",
    "# plt.title('% Difference, crossplane profiles')\n",
    "# plt.legend(loc='lower left')\n",
    "# plt.ylim([-50, 50])\n",
    "\n",
    "# plt.subplots_adjust(top=2, bottom=0.5, left=0, right=2, hspace=0.25,\n",
    "#                     wspace=0.33)\n",
    "\n",
    "# plt.savefig(RESULTS.joinpath(filename + f'_4.png'),bbox_inches='tight')\n",
    "\n",
    "plt.show()"
   ]
  },
  {
   "cell_type": "code",
   "execution_count": null,
   "metadata": {},
   "outputs": [],
   "source": []
  },
  {
   "cell_type": "code",
   "execution_count": null,
   "metadata": {},
   "outputs": [],
   "source": []
  }
 ],
 "metadata": {
  "kernelspec": {
   "display_name": "Python 3",
   "language": "python",
   "name": "python3"
  },
  "language_info": {
   "codemirror_mode": {
    "name": "ipython",
    "version": 3
   },
   "file_extension": ".py",
   "mimetype": "text/x-python",
   "name": "python",
   "nbconvert_exporter": "python",
   "pygments_lexer": "ipython3",
   "version": "3.7.1"
  }
 },
 "nbformat": 4,
 "nbformat_minor": 4
}
