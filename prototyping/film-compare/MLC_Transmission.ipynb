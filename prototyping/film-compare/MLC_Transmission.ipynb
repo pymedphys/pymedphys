{
 "cells": [
  {
   "cell_type": "code",
   "execution_count": null,
   "metadata": {},
   "outputs": [],
   "source": [
    "from IPython.lib.deepreload import reload\n",
    "%load_ext autoreload\n",
    "%autoreload 2"
   ]
  },
  {
   "cell_type": "code",
   "execution_count": null,
   "metadata": {},
   "outputs": [],
   "source": [
    "import re\n",
    "import operator\n",
    "from pathlib import Path\n",
    "\n",
    "import numpy as np\n",
    "import matplotlib.pyplot as plt\n",
    "import pandas as pd\n",
    "\n",
    "import pydicom\n",
    "from pymedphys_dicom.dicom import dicom_dose_interpolate"
   ]
  },
  {
   "cell_type": "code",
   "execution_count": null,
   "metadata": {},
   "outputs": [],
   "source": [
    "energy = '06FFF'"
   ]
  },
  {
   "cell_type": "code",
   "execution_count": null,
   "metadata": {},
   "outputs": [],
   "source": [
    "ROOT_DIR = Path(r\"S:\\Physics\\RCCC Specific Files\\Dosimetry\\Film\\MLCs\\Transmission\")\n",
    "\n",
    "OPEN_DICOM_DIR = (ROOT_DIR.joinpath(r\"DICOM Exports\")).joinpath(energy+\"_10x10\")\n",
    "CLOSED_DICOM_DIR = (ROOT_DIR.joinpath(r\"DICOM Exports\")).joinpath(energy+\"_Closed\")\n",
    "\n",
    "RESULTS = ROOT_DIR.joinpath(r\"Results\")"
   ]
  },
  {
   "cell_type": "code",
   "execution_count": null,
   "metadata": {},
   "outputs": [],
   "source": [
    "OPEN_FILM_RESULTS_FILE = (RESULTS.joinpath(r\"Data_Open.xlsx\"))\n",
    "open_film_results = pd.read_excel(OPEN_FILM_RESULTS_FILE, sheet_name=energy+'_export').dropna()\n",
    "\n",
    "CLOSED_FILM_RESULTS_FILE = (RESULTS.joinpath(r\"Data_Closed.xlsx\"))\n",
    "closed_film_results = pd.read_excel(CLOSED_FILM_RESULTS_FILE, sheet_name=energy+'_export').dropna()"
   ]
  },
  {
   "cell_type": "code",
   "execution_count": null,
   "metadata": {},
   "outputs": [],
   "source": [
    "open_film_dose = open_film_results.Dose.values\n",
    "open_film_z = open_film_results.z.values\n",
    "\n",
    "closed_film_dose = closed_film_results.Dose.values\n",
    "closed_film_z = closed_film_results.z.values"
   ]
  },
  {
   "cell_type": "code",
   "execution_count": null,
   "metadata": {},
   "outputs": [],
   "source": [
    "open_dosecheck_dose = pydicom.read_file(str(OPEN_DICOM_DIR.joinpath('DoseCHECKCalculatedDose\\dose.dcm')), force=True)\n",
    "open_monaco_dose = pydicom.read_file(str(OPEN_DICOM_DIR.joinpath('RTDose\\dose.dcm')), force=True)\n",
    "open_dicom_plan = pydicom.read_file(str(OPEN_DICOM_DIR.joinpath('RTPlan\\plan.dcm')), force=True)\n",
    "\n",
    "closed_dosecheck_dose = pydicom.read_file(str(CLOSED_DICOM_DIR.joinpath('DoseCHECKCalculatedDose\\dose.dcm')), force=True)\n",
    "closed_monaco_dose = pydicom.read_file(str(CLOSED_DICOM_DIR.joinpath('RTDose\\dose.dcm')), force=True)\n",
    "closed_dicom_plan = pydicom.read_file(str(CLOSED_DICOM_DIR.joinpath('RTPlan\\plan.dcm')), force=True)"
   ]
  },
  {
   "cell_type": "code",
   "execution_count": null,
   "metadata": {},
   "outputs": [],
   "source": [
    "depth_maximum = {\n",
    "    '06MV': -66,\n",
    "    '10MV': -64,\n",
    "    '06FFF': -59,\n",
    "    '10FFF': -56\n",
    "}\n",
    "\n",
    "interp_x = [0]\n",
    "open_interp_y = [depth_maximum[energy]]\n",
    "closed_interp_y = [-69]\n",
    "\n",
    "open_interp_coords = (open_film_z, open_interp_y, interp_x)\n",
    "closed_interp_coords = (closed_film_z, closed_interp_y, interp_x)"
   ]
  },
  {
   "cell_type": "code",
   "execution_count": null,
   "metadata": {},
   "outputs": [],
   "source": [
    "open_monaco_profile = np.squeeze(dicom_dose_interpolate(open_interp_coords, open_monaco_dose))\n",
    "open_dosecheck_profile = np.squeeze(dicom_dose_interpolate(open_interp_coords, open_dosecheck_dose))\n",
    "\n",
    "closed_monaco_profile = np.squeeze(dicom_dose_interpolate(closed_interp_coords, closed_monaco_dose))\n",
    "closed_dosecheck_profile = np.squeeze(dicom_dose_interpolate(closed_interp_coords, closed_dosecheck_dose))"
   ]
  },
  {
   "cell_type": "code",
   "execution_count": null,
   "metadata": {},
   "outputs": [],
   "source": [
    "plt.figure(1)\n",
    "\n",
    "plt.subplot(111)\n",
    "plt.plot(open_film_z,open_monaco_profile,label='Monaco')\n",
    "plt.plot(open_film_z,open_dosecheck_profile,label='DoseCHECK')\n",
    "plt.plot(open_film_z,open_film_dose*1.05,label='Film')\n",
    "plt.ylabel('Dose (Gy)')\n",
    "plt.xlabel('Plane Position (mm)')\n",
    "plt.title('')\n",
    "plt.legend(loc='lower left')\n",
    "\n",
    "\n",
    "plt.subplots_adjust(top=3, bottom=0.5, left=0, right=2, hspace=0.25,\n",
    "                    wspace=0.25)\n",
    "\n",
    "# plt.suptitle(('MLC Test Fields, ' + energy + ' ' + test_field + ' , Doses for Monaco ' + algorithm_full + ', DoseCHECK, and film'),fontsize=\"x-large\",x=1,y=3.2)\n",
    "\n",
    "# plt.savefig(RESULTS.joinpath(filename + f'_1.png'),bbox_inches='tight')"
   ]
  },
  {
   "cell_type": "code",
   "execution_count": null,
   "metadata": {},
   "outputs": [],
   "source": [
    "plt.figure(1)\n",
    "\n",
    "plt.subplot(111)\n",
    "plt.plot(closed_film_z,closed_monaco_profile,label='Monaco')\n",
    "plt.plot(closed_film_z,closed_dosecheck_profile,label='DoseCHECK')\n",
    "plt.plot(closed_film_z,closed_film_dose*1.05,label='Film')\n",
    "plt.ylabel('Dose (Gy)')\n",
    "plt.xlabel('Plane Position (mm)')\n",
    "plt.title('')\n",
    "plt.legend(loc='lower left')\n",
    "plt.ylim([0,None])\n",
    "\n",
    "plt.subplots_adjust(top=3, bottom=0.5, left=0, right=2, hspace=0.25,\n",
    "                    wspace=0.25)\n",
    "# plt.suptitle(('MLC Test Fields, ' + energy + ' ' + test_field + ' , Doses for Monaco ' + algorithm_full + ', DoseCHECK, and film'),fontsize=\"x-large\",x=1,y=3.2)\n",
    "\n",
    "plt.suptitle(('MLC Transmission, ' + energy + ', Monaco, DoseCHECK, and film dose for 5000 MU'),fontsize=\"x-large\",x=1,y=3.2)\n",
    "\n",
    "plt.savefig(RESULTS.joinpath('Transmission_' + energy + f'_20190927_model.png'),bbox_inches='tight')"
   ]
  },
  {
   "cell_type": "code",
   "execution_count": null,
   "metadata": {},
   "outputs": [],
   "source": [
    "[np.median(closed_film_dose)/50,np.median(closed_monaco_profile)/50,np.median(closed_dosecheck_profile)/50]"
   ]
  },
  {
   "cell_type": "code",
   "execution_count": null,
   "metadata": {},
   "outputs": [],
   "source": [
    "current_leakage_monaco_value = {\n",
    "    '06MV': 0.005,\n",
    "    '10MV': 0.003,\n",
    "    '06FFF': 0.005,\n",
    "    '10FFF': 0.005\n",
    "}"
   ]
  },
  {
   "cell_type": "code",
   "execution_count": null,
   "metadata": {},
   "outputs": [],
   "source": [
    "unaccounted_for_monaco_factor = np.median(closed_monaco_profile)/50 / current_leakage_monaco_value[energy]"
   ]
  },
  {
   "cell_type": "code",
   "execution_count": null,
   "metadata": {},
   "outputs": [],
   "source": [
    "np.median(closed_film_dose)/50 / unaccounted_for_monaco_factor"
   ]
  },
  {
   "cell_type": "code",
   "execution_count": null,
   "metadata": {},
   "outputs": [],
   "source": [
    "np.median(closed_film_dose)"
   ]
  },
  {
   "cell_type": "code",
   "execution_count": null,
   "metadata": {},
   "outputs": [],
   "source": [
    "100*((np.median(closed_monaco_profile)/50)/np.median(open_monaco_profile))"
   ]
  },
  {
   "cell_type": "code",
   "execution_count": null,
   "metadata": {},
   "outputs": [],
   "source": [
    "100*((np.median(closed_dosecheck_profile)/50)/np.median(open_dosecheck_profile))"
   ]
  },
  {
   "cell_type": "code",
   "execution_count": null,
   "metadata": {},
   "outputs": [],
   "source": [
    "np.max(open_film_dose)*1.05"
   ]
  },
  {
   "cell_type": "code",
   "execution_count": null,
   "metadata": {},
   "outputs": [],
   "source": []
  }
 ],
 "metadata": {
  "kernelspec": {
   "display_name": "Python 3",
   "language": "python",
   "name": "python3"
  },
  "language_info": {
   "codemirror_mode": {
    "name": "ipython",
    "version": 3
   },
   "file_extension": ".py",
   "mimetype": "text/x-python",
   "name": "python",
   "nbconvert_exporter": "python",
   "pygments_lexer": "ipython3",
   "version": "3.7.1"
  }
 },
 "nbformat": 4,
 "nbformat_minor": 4
}
