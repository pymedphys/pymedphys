{
 "cells": [
  {
   "cell_type": "code",
   "execution_count": null,
   "metadata": {},
   "outputs": [],
   "source": [
    "from IPython.lib.deepreload import reload\n",
    "%load_ext autoreload\n",
    "%autoreload 2"
   ]
  },
  {
   "cell_type": "code",
   "execution_count": null,
   "metadata": {},
   "outputs": [],
   "source": [
    "import re\n",
    "import operator\n",
    "from pathlib import Path\n",
    "\n",
    "import numpy as np\n",
    "import matplotlib.pyplot as plt\n",
    "import pandas as pd\n",
    "\n",
    "import pydicom\n",
    "\n",
    "from pymedphys.dicom import depth_dose, profile"
   ]
  },
  {
   "cell_type": "code",
   "execution_count": null,
   "metadata": {},
   "outputs": [],
   "source": [
    "algorithm = 'MC'\n",
    "energy = '10FFF'\n",
    "test_field = 'TandG_Odd'\n",
    "\n",
    "filename = algorithm + energy + '_' + test_field\n",
    "\n",
    "filename"
   ]
  },
  {
   "cell_type": "code",
   "execution_count": null,
   "metadata": {},
   "outputs": [],
   "source": [
    "if algorithm == 'MC':\n",
    "    algorithm_full = 'Monte Carlo'\n",
    "    \n",
    "if algorithm == 'CC':\n",
    "    algorithm_full = 'Collapsed Cone'\n",
    "    \n",
    "algorithm_full"
   ]
  },
  {
   "cell_type": "code",
   "execution_count": null,
   "metadata": {},
   "outputs": [],
   "source": [
    "ROOT_DIR = Path(r\"S:\\Physics\\DoseCHECK\\Commissioning\\MLC test field Results\\DICOM Comparisons\")\n",
    "\n",
    "MONACO_DICOM_DIR = (ROOT_DIR.joinpath(r\"DICOM Exports\\Monaco\")).joinpath(filename)\n",
    "DOSECHECK_DICOM_DIR = (ROOT_DIR.joinpath(r\"DICOM Exports\\DoseCHECK\")).joinpath(filename)\n",
    "RESULTS = ROOT_DIR.joinpath(r\"Results\")\n",
    "\n",
    "MONACO_DICOM_DIR"
   ]
  },
  {
   "cell_type": "code",
   "execution_count": null,
   "metadata": {},
   "outputs": [],
   "source": [
    "FILM_DIR = Path(r\"S:\\Physics\\RCCC Specific Files\\Dosimetry\\Film\\TandG\\20190904\")\n",
    "\n",
    "FILM_RESULTS_FILE = FILM_DIR.joinpath(f\"{energy + '_' + test_field}.csv\")\n",
    "\n",
    "film_results = pd.read_csv(FILM_RESULTS_FILE)"
   ]
  },
  {
   "cell_type": "code",
   "execution_count": null,
   "metadata": {},
   "outputs": [],
   "source": [
    "film_dose = film_results.Dose.values"
   ]
  },
  {
   "cell_type": "code",
   "execution_count": null,
   "metadata": {},
   "outputs": [],
   "source": [
    "monaco_dose = pydicom.read_file(str(MONACO_DICOM_DIR.joinpath('dose.dcm')), force=True)\n",
    "dosecheck_dose = pydicom.read_file(str(DOSECHECK_DICOM_DIR.joinpath('dose.dcm')), force=True)\n",
    "dicom_plan = pydicom.read_file(str(MONACO_DICOM_DIR.joinpath('plan.dcm')), force=True)"
   ]
  },
  {
   "cell_type": "code",
   "execution_count": null,
   "metadata": {},
   "outputs": [],
   "source": [
    "start_cache = {\n",
    "    '06FFF': -127,\n",
    "    '06MV': -125,\n",
    "    '10FFF': -123,\n",
    "    '10MV': -124\n",
    "}\n",
    "\n",
    "start = start_cache[energy]\n",
    "step = 0.1\n",
    "end = start + step * len(film_dose)\n",
    "\n",
    "plane_dimensions = np.arange(start,end,step)\n",
    "\n",
    "len(plane_dimensions)"
   ]
  },
  {
   "cell_type": "code",
   "execution_count": null,
   "metadata": {},
   "outputs": [],
   "source": [
    "monaco_inplane_profile = profile(plane_dimensions,20,'inplane',monaco_dose,dicom_plan)\n",
    "\n",
    "dosecheck_inplane_profile = profile(plane_dimensions,20,'inplane',dosecheck_dose,dicom_plan)"
   ]
  },
  {
   "cell_type": "code",
   "execution_count": null,
   "metadata": {},
   "outputs": [],
   "source": [
    "plt.figure(1)\n",
    "\n",
    "plt.subplot(111)\n",
    "plt.plot(plane_dimensions,monaco_inplane_profile,label='Monaco')\n",
    "plt.plot(plane_dimensions,dosecheck_inplane_profile,label='DoseCHECK')\n",
    "plt.plot(plane_dimensions,film_dose[::-1]/100,label='Film')\n",
    "plt.ylabel('Dose (Gy / 100 MU)')\n",
    "plt.xlabel('Plane Position (mm)')\n",
    "plt.title('Inplane Profiles at Depth of 20 mm')\n",
    "plt.legend(loc='lower left')\n",
    "\n",
    "\n",
    "plt.subplots_adjust(top=3, bottom=0.5, left=0, right=2, hspace=0.25,\n",
    "                    wspace=0.25)\n",
    "\n",
    "plt.suptitle(('MLC Test Fields, ' + energy + ' ' + test_field + ' , Doses for Monaco ' + algorithm_full + ', DoseCHECK, and film'),fontsize=\"x-large\",x=1,y=3.2)\n",
    "\n",
    "plt.savefig(RESULTS.joinpath(filename + f'_1.png'),bbox_inches='tight')"
   ]
  },
  {
   "cell_type": "code",
   "execution_count": null,
   "metadata": {},
   "outputs": [],
   "source": [
    "[100 * np.min(monaco_inplane_profile),100 * np.min(dosecheck_inplane_profile)]"
   ]
  },
  {
   "cell_type": "code",
   "execution_count": null,
   "metadata": {},
   "outputs": [],
   "source": [
    "[100 * np.max(monaco_inplane_profile),100 * np.max(dosecheck_inplane_profile)]"
   ]
  },
  {
   "cell_type": "code",
   "execution_count": null,
   "metadata": {},
   "outputs": [],
   "source": []
  }
 ],
 "metadata": {
  "kernelspec": {
   "display_name": "Python 3",
   "language": "python",
   "name": "python3"
  },
  "language_info": {
   "codemirror_mode": {
    "name": "ipython",
    "version": 3
   },
   "file_extension": ".py",
   "mimetype": "text/x-python",
   "name": "python",
   "nbconvert_exporter": "python",
   "pygments_lexer": "ipython3",
   "version": "3.7.1"
  }
 },
 "nbformat": 4,
 "nbformat_minor": 4
}
