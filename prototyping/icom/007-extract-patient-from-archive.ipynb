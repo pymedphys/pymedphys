{
 "cells": [
  {
   "cell_type": "code",
   "execution_count": null,
   "metadata": {},
   "outputs": [],
   "source": [
    "import pathlib\n",
    "import lzma\n",
    "import re\n",
    "import os\n",
    "import datetime\n",
    "import copy\n",
    "import functools\n",
    "\n",
    "import numpy as np\n",
    "import pandas as pd"
   ]
  },
  {
   "cell_type": "code",
   "execution_count": null,
   "metadata": {},
   "outputs": [],
   "source": [
    "# Makes it so any changes in pymedphys is automatically\n",
    "# propagated into the notebook without needing a kernel reset.\n",
    "from IPython.lib.deepreload import reload\n",
    "%load_ext autoreload\n",
    "%autoreload 2"
   ]
  },
  {
   "cell_type": "code",
   "execution_count": null,
   "metadata": {},
   "outputs": [],
   "source": [
    "import pymedphys._icom.extract\n",
    "import pymedphys.mudensity\n",
    "import pymedphys"
   ]
  },
  {
   "cell_type": "code",
   "execution_count": null,
   "metadata": {},
   "outputs": [],
   "source": [
    "patient_id = '008566'"
   ]
  },
  {
   "cell_type": "code",
   "execution_count": null,
   "metadata": {},
   "outputs": [],
   "source": [
    "patients_dir = pathlib.Path(r'\\\\physics-server\\iComLogFiles\\patients')\n",
    "patient_data_paths = list(patients_dir.glob(f'{patient_id}_*/*.xz'))\n",
    "patient_data_paths"
   ]
  },
  {
   "cell_type": "code",
   "execution_count": null,
   "metadata": {},
   "outputs": [],
   "source": [
    "patient_data_path = patient_data_paths[0]\n",
    "with lzma.open(patient_data_path, 'r') as f:\n",
    "    patient_data = f.read()"
   ]
  },
  {
   "cell_type": "code",
   "execution_count": null,
   "metadata": {},
   "outputs": [],
   "source": [
    "DATE_PATTERN = re.compile(rb\"\\d\\d\\d\\d-\\d\\d-\\d\\d\\d\\d:\\d\\d:\\d\\d.\")\n",
    "\n",
    "def get_data_points(data):\n",
    "    date_index = [m.span() for m in DATE_PATTERN.finditer(data)]\n",
    "    start_points = [span[0] - 8 for span in date_index]\n",
    "\n",
    "    end_points = start_points[1::] + [None]\n",
    "\n",
    "    data_points = [data[start:end] for start, end in zip(start_points, end_points)]\n",
    "    return data_points"
   ]
  },
  {
   "cell_type": "code",
   "execution_count": null,
   "metadata": {},
   "outputs": [],
   "source": [
    "patient_data_list = get_data_points(patient_data)\n",
    "len(patient_data_list)"
   ]
  },
  {
   "cell_type": "code",
   "execution_count": null,
   "metadata": {},
   "outputs": [],
   "source": [
    "@functools.lru_cache()\n",
    "def get_coll_regex(label, number):\n",
    "    header = rb\"0\\xb8\\x00DS\\x00R.\\x00\\x00\\x00\" + label + b\"\\n\"\n",
    "    item = rb\"0\\x1c\\x01DS\\x00R.\\x00\\x00\\x00(-?\\d+\\.\\d+)\"\n",
    "\n",
    "    regex = re.compile(header + b\"\\n\".join([item] * number))\n",
    "    return regex\n",
    "\n",
    "\n",
    "def extract_coll(data, label, number):\n",
    "    regex = get_coll_regex(label, number)\n",
    "\n",
    "    match = regex.search(data)\n",
    "    span = match.span()\n",
    "\n",
    "    data = data[0 : span[0]] + data[span[1] + 1 : :]\n",
    "    items = np.array([float(item) for item in match.groups()])\n",
    "\n",
    "    return data, items"
   ]
  },
  {
   "cell_type": "code",
   "execution_count": null,
   "metadata": {},
   "outputs": [],
   "source": [
    "def get_delivery_data_items(single_icom_stream):\n",
    "    shrunk_stream, mu = pymedphys._icom.extract.extract(single_icom_stream, \"Delivery MU\")\n",
    "    shrunk_stream, gantry = pymedphys._icom.extract.extract(shrunk_stream, \"Gantry\")\n",
    "    shrunk_stream, collimator = pymedphys._icom.extract.extract(shrunk_stream, \"Collimator\")\n",
    "    \n",
    "    shrunk_stream, mlc = extract_coll(shrunk_stream, b\"MLCX\", 160)\n",
    "    mlc = mlc.reshape((80,2))\n",
    "    mlc = np.fliplr(np.flipud(mlc * 10))\n",
    "    mlc[:,1] = -mlc[:,1]\n",
    "    mlc = np.round(mlc,10)\n",
    "#     shrunk_stream, result[\"ASYMX\"] = extract_coll(shrunk_stream, b\"ASYMX\", 2)\n",
    "    shrunk_stream, jaw = extract_coll(shrunk_stream, b\"ASYMY\", 2)\n",
    "    jaw = np.round(np.array(jaw) * 10, 10)\n",
    "    jaw = np.flipud(jaw)\n",
    "    \n",
    "    return mu, gantry, collimator, mlc, jaw"
   ]
  },
  {
   "cell_type": "code",
   "execution_count": null,
   "metadata": {},
   "outputs": [],
   "source": [
    "mu, gantry, collimator, mlc, jaw = get_delivery_data_items(patient_data_list[250])"
   ]
  },
  {
   "cell_type": "code",
   "execution_count": null,
   "metadata": {},
   "outputs": [],
   "source": [
    "gantry"
   ]
  },
  {
   "cell_type": "code",
   "execution_count": null,
   "metadata": {},
   "outputs": [],
   "source": [
    "collimator"
   ]
  },
  {
   "cell_type": "code",
   "execution_count": null,
   "metadata": {},
   "outputs": [],
   "source": [
    "mu"
   ]
  },
  {
   "cell_type": "code",
   "execution_count": null,
   "metadata": {},
   "outputs": [],
   "source": [
    "jaw"
   ]
  },
  {
   "cell_type": "code",
   "execution_count": null,
   "metadata": {},
   "outputs": [],
   "source": [
    "len(patient_data_list)"
   ]
  },
  {
   "cell_type": "code",
   "execution_count": null,
   "metadata": {},
   "outputs": [],
   "source": [
    "delivery_raw = [\n",
    "    get_delivery_data_items(single_icom_stream)\n",
    "    for single_icom_stream in patient_data_list\n",
    "]"
   ]
  },
  {
   "cell_type": "code",
   "execution_count": null,
   "metadata": {},
   "outputs": [],
   "source": [
    "mu = np.array([item[0] for item in delivery_raw])\n",
    "diff_mu = np.concatenate([[0], np.diff(mu)])\n",
    "diff_mu[diff_mu<0] = 0\n",
    "mu = np.cumsum(diff_mu)"
   ]
  },
  {
   "cell_type": "code",
   "execution_count": null,
   "metadata": {},
   "outputs": [],
   "source": [
    "gantry = np.array([item[1] for item in delivery_raw])\n",
    "collimator = np.array([item[2] for item in delivery_raw])\n",
    "mlc = np.array([item[3] for item in delivery_raw])\n",
    "jaw = np.array([item[4] for item in delivery_raw])"
   ]
  },
  {
   "cell_type": "code",
   "execution_count": null,
   "metadata": {},
   "outputs": [],
   "source": [
    "icom_delivery = pymedphys.Delivery(mu, gantry, collimator, mlc, jaw)\n",
    "icom_delivery = icom_delivery._filter_cps()"
   ]
  },
  {
   "cell_type": "code",
   "execution_count": null,
   "metadata": {},
   "outputs": [],
   "source": [
    "monaco_directory = pathlib.Path(r'\\\\monacoda\\FocalData\\RCCC\\1~Clinical')"
   ]
  },
  {
   "cell_type": "code",
   "execution_count": null,
   "metadata": {},
   "outputs": [],
   "source": [
    "tel_path = list(monaco_directory.glob(f'*~{patient_id}/plan/*/tel.1'))[-1]\n",
    "tel_path"
   ]
  },
  {
   "cell_type": "code",
   "execution_count": null,
   "metadata": {},
   "outputs": [],
   "source": [
    "GRID = pymedphys.mudensity.grid()\n",
    "\n",
    "delivery_tel = pymedphys.Delivery.from_monaco(tel_path)\n",
    "mudensity_tel = delivery_tel.mudensity()\n",
    "pymedphys.mudensity.display(GRID, mudensity_tel)"
   ]
  },
  {
   "cell_type": "code",
   "execution_count": null,
   "metadata": {},
   "outputs": [],
   "source": [
    "mudensity_icom = icom_delivery.mudensity()\n",
    "pymedphys.mudensity.display(GRID, mudensity_icom)"
   ]
  },
  {
   "cell_type": "code",
   "execution_count": null,
   "metadata": {},
   "outputs": [],
   "source": [
    "icom_delivery.mu[16]"
   ]
  },
  {
   "cell_type": "code",
   "execution_count": null,
   "metadata": {},
   "outputs": [],
   "source": [
    "delivery_tel.mu[1]"
   ]
  },
  {
   "cell_type": "code",
   "execution_count": null,
   "metadata": {},
   "outputs": [],
   "source": [
    "delivery_tel.mlc[1]"
   ]
  },
  {
   "cell_type": "code",
   "execution_count": null,
   "metadata": {},
   "outputs": [],
   "source": [
    "icom_delivery.mlc[16]"
   ]
  },
  {
   "cell_type": "code",
   "execution_count": null,
   "metadata": {},
   "outputs": [],
   "source": [
    "delivery_tel.jaw[1]"
   ]
  },
  {
   "cell_type": "code",
   "execution_count": null,
   "metadata": {},
   "outputs": [],
   "source": [
    "icom_delivery.jaw[16]"
   ]
  },
  {
   "cell_type": "code",
   "execution_count": null,
   "metadata": {},
   "outputs": [],
   "source": []
  },
  {
   "cell_type": "code",
   "execution_count": null,
   "metadata": {},
   "outputs": [],
   "source": [
    "# new_mlc = np.fliplr(np.flipud(np.array(icom_delivery.mlc[16]) * 10))\n",
    "# new_mlc[:,1] = -new_mlc[:,1]\n",
    "# new_mlc"
   ]
  },
  {
   "cell_type": "code",
   "execution_count": null,
   "metadata": {},
   "outputs": [],
   "source": []
  }
 ],
 "metadata": {
  "kernelspec": {
   "display_name": "pymedphys-master",
   "language": "python",
   "name": "pymedphys-master"
  },
  "language_info": {
   "codemirror_mode": {
    "name": "ipython",
    "version": 3
   },
   "file_extension": ".py",
   "mimetype": "text/x-python",
   "name": "python",
   "nbconvert_exporter": "python",
   "pygments_lexer": "ipython3",
   "version": "3.7.0"
  }
 },
 "nbformat": 4,
 "nbformat_minor": 4
}
