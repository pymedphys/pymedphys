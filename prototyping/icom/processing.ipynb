{
 "cells": [
  {
   "cell_type": "code",
   "execution_count": null,
   "metadata": {},
   "outputs": [],
   "source": [
    "import pathlib\n",
    "import lzma\n",
    "import re\n",
    "import datetime\n",
    "\n",
    "import numpy as np\n",
    "import pandas as pd"
   ]
  },
  {
   "cell_type": "code",
   "execution_count": null,
   "metadata": {},
   "outputs": [],
   "source": [
    "root = pathlib.Path(r'\\\\physics-server\\iComLogFiles')\n",
    "compressed_files = sorted(list(root.glob('compressed/*.xz')))\n",
    "compressed_files"
   ]
  },
  {
   "cell_type": "code",
   "execution_count": null,
   "metadata": {},
   "outputs": [],
   "source": [
    "data = b\"\"\n",
    "\n",
    "for path in compressed_files:\n",
    "    with lzma.open(path, 'r') as f:\n",
    "        data += f.read()"
   ]
  },
  {
   "cell_type": "code",
   "execution_count": null,
   "metadata": {},
   "outputs": [],
   "source": [
    "pattern = re.compile(b'\\d\\d\\d\\d-\\d\\d-\\d\\d\\d\\d:\\d\\d:\\d\\d.')\n",
    "date_index = [m.span() for m in pattern.finditer(data)]"
   ]
  },
  {
   "cell_type": "code",
   "execution_count": null,
   "metadata": {},
   "outputs": [],
   "source": [
    "data[slice(*date_index[0])]"
   ]
  },
  {
   "cell_type": "code",
   "execution_count": null,
   "metadata": {},
   "outputs": [],
   "source": [
    "results = [data[slice(*span)] for span in date_index]\n",
    "\n",
    "counter = [result[-1] for result in results]\n",
    "counter_diff = np.diff(counter)\n",
    "np.unique(counter_diff)"
   ]
  },
  {
   "cell_type": "code",
   "execution_count": null,
   "metadata": {},
   "outputs": [],
   "source": [
    "np.array(counter)[np.where(counter_diff == 2)[0]]"
   ]
  },
  {
   "cell_type": "code",
   "execution_count": null,
   "metadata": {},
   "outputs": [],
   "source": [
    "b'\\x09'"
   ]
  },
  {
   "cell_type": "code",
   "execution_count": null,
   "metadata": {},
   "outputs": [],
   "source": [
    "times = pd.to_datetime([datetime.datetime.strptime(result[:-1].decode(), '%Y-%m-%d%H:%M:%S') for result in results]).array"
   ]
  },
  {
   "cell_type": "code",
   "execution_count": null,
   "metadata": {},
   "outputs": [],
   "source": [
    "np.unique(np.diff(times).astype('timedelta64[s]'))"
   ]
  },
  {
   "cell_type": "code",
   "execution_count": null,
   "metadata": {},
   "outputs": [],
   "source": [
    "len(control_points)"
   ]
  },
  {
   "cell_type": "code",
   "execution_count": null,
   "metadata": {},
   "outputs": [],
   "source": [
    "len(times)"
   ]
  },
  {
   "cell_type": "code",
   "execution_count": null,
   "metadata": {},
   "outputs": [],
   "source": [
    "len(times)*2"
   ]
  },
  {
   "cell_type": "code",
   "execution_count": null,
   "metadata": {},
   "outputs": [],
   "source": [
    "data[0:50]"
   ]
  },
  {
   "cell_type": "code",
   "execution_count": null,
   "metadata": {},
   "outputs": [],
   "source": [
    "start_points = [\n",
    "    span[0] - 8 for span in date_index\n",
    "]\n",
    "\n",
    "end_points = start_points[1::] + [None]\n",
    "\n",
    "data_points = [data[start:end] for start, end in zip(start_points, end_points)]"
   ]
  },
  {
   "cell_type": "code",
   "execution_count": null,
   "metadata": {},
   "outputs": [],
   "source": [
    "np.max([len(data_point) for data_point in data_points])"
   ]
  },
  {
   "cell_type": "code",
   "execution_count": null,
   "metadata": {},
   "outputs": [],
   "source": [
    "def initial_results_parse(data_point):\n",
    "    pattern = re.compile(b'\\x00\\x00\\x00([a-zA-Z0-9 \\.-]+)')\n",
    "\n",
    "    results = pattern.findall(data_point)\n",
    "    results = np.array(results).astype(str)\n",
    "    \n",
    "    return results\n",
    "\n",
    "\n",
    "def pull_header(tag, length, results_dict, results_scrape):\n",
    "    index = np.where(results_scrape == tag)[0]\n",
    "\n",
    "    for i, ref in enumerate(index):\n",
    "        asymx = results_scrape[ref+1:ref+length+1]\n",
    "        asymx = np.array(asymx).astype(float)\n",
    "        asymx[(asymx == -32767) | (asymx == 32767)] = None\n",
    "        results_dict[\"{}-{}\".format(tag, i)] = asymx\n",
    "\n",
    "    for ref in index[-1::-1]:\n",
    "        results_scrape = np.delete(results_scrape, np.arange(ref,ref+length+1))\n",
    "        \n",
    "    return results_dict, results_scrape\n",
    "\n",
    "\n",
    "def organise_by_tags(results):\n",
    "    results_dict = dict()\n",
    "    results_scrape = results.copy()\n",
    "\n",
    "    results_dict, results_scrape = pull_header('ASYMX', 2, results_dict, results_scrape)\n",
    "    results_dict, results_scrape = pull_header('ASYMY', 2, results_dict, results_scrape)\n",
    "    results_dict, results_scrape = pull_header('MLCX', 160, results_dict, results_scrape)\n",
    "\n",
    "    pattern = re.compile('[a-zA-Z][a-zA-Z0-9 -]+')\n",
    "\n",
    "    alpha_numeric = np.array([\n",
    "        pattern.match(value)\n",
    "        for value in results_scrape\n",
    "    ]).astype(bool)\n",
    "    results_dict[\"Text-tags\"] = results_scrape[alpha_numeric].tolist()\n",
    "    results_scrape = np.delete(results_scrape, np.where(alpha_numeric)[0])\n",
    "\n",
    "    left_overs = results_scrape.astype(str)\n",
    "    left_overs[(left_overs == '-32767') | (left_overs == '32767')] = None\n",
    "\n",
    "    results_dict[\"Left-overs\"] = left_overs.tolist()\n",
    "    \n",
    "    return results_dict\n",
    "\n",
    "\n",
    "def convert(data_point):\n",
    "    results = initial_results_parse(data_point)\n",
    "    results_dict = organise_by_tags(results)\n",
    "    \n",
    "    return results_dict"
   ]
  },
  {
   "cell_type": "code",
   "execution_count": null,
   "metadata": {},
   "outputs": [],
   "source": [
    "convert(data_points[10000])"
   ]
  }
 ],
 "metadata": {
  "kernelspec": {
   "display_name": "pymedphys-master",
   "language": "python",
   "name": "pymedphys-master"
  },
  "language_info": {
   "codemirror_mode": {
    "name": "ipython",
    "version": 3
   },
   "file_extension": ".py",
   "mimetype": "text/x-python",
   "name": "python",
   "nbconvert_exporter": "python",
   "pygments_lexer": "ipython3",
   "version": "3.7.5"
  }
 },
 "nbformat": 4,
 "nbformat_minor": 4
}
