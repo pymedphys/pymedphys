{
 "cells": [
  {
   "cell_type": "code",
   "execution_count": null,
   "metadata": {},
   "outputs": [],
   "source": [
    "import pathlib\n",
    "import lzma\n",
    "import re\n",
    "import os\n",
    "import datetime\n",
    "import copy\n",
    "import json\n",
    "import base64\n",
    "import shutil\n",
    "\n",
    "import numpy as np\n",
    "import pandas as pd"
   ]
  },
  {
   "cell_type": "code",
   "execution_count": null,
   "metadata": {},
   "outputs": [],
   "source": [
    "# Makes it so any changes in pymedphys is automatically\n",
    "# propagated into the notebook without needing a kernel reset.\n",
    "from IPython.lib.deepreload import reload\n",
    "%load_ext autoreload\n",
    "%autoreload 2"
   ]
  },
  {
   "cell_type": "code",
   "execution_count": null,
   "metadata": {},
   "outputs": [],
   "source": [
    "import pymedphys._utilities.filesystem\n",
    "from prototyping import *"
   ]
  },
  {
   "cell_type": "code",
   "execution_count": null,
   "metadata": {},
   "outputs": [],
   "source": [
    "patient_dir = pathlib.Path(r'\\\\physics-server\\iComLogFiles\\patients')\n",
    "archive_dir = patient_dir.joinpath('archive')\n",
    "json_format_paths = list(archive_dir.glob('**/*.json'))\n",
    "new_paths = [\n",
    "    patient_dir.joinpath(path.relative_to(archive_dir)).with_suffix('.xz')\n",
    "    for path in json_format_paths\n",
    "]\n",
    "# new_paths"
   ]
  },
  {
   "cell_type": "code",
   "execution_count": null,
   "metadata": {},
   "outputs": [],
   "source": [
    "for old, new in zip(json_format_paths, new_paths):\n",
    "    print(old)\n",
    "    new.parent.mkdir(parents=True, exist_ok=True)\n",
    "    with open(old, \"r\") as f:\n",
    "        json_data = json.load(f)\n",
    "    \n",
    "    data = b\"\"\n",
    "    for item in json_data:\n",
    "        data += base64.b64decode(item)\n",
    "\n",
    "    with lzma.open(new, \"w\") as f:\n",
    "        f.write(data)"
   ]
  },
  {
   "cell_type": "code",
   "execution_count": null,
   "metadata": {},
   "outputs": [],
   "source": [
    "for new in new_paths:\n",
    "    adjusted_filename = new.name.replace('-', '').replace('T', '_')\n",
    "    adjusted_path = new.parent.joinpath(adjusted_filename)\n",
    "    \n",
    "    shutil.move(new, adjusted_path)"
   ]
  }
 ],
 "metadata": {
  "kernelspec": {
   "display_name": "pymedphys-master",
   "language": "python",
   "name": "pymedphys-master"
  },
  "language_info": {
   "codemirror_mode": {
    "name": "ipython",
    "version": 3
   },
   "file_extension": ".py",
   "mimetype": "text/x-python",
   "name": "python",
   "nbconvert_exporter": "python",
   "pygments_lexer": "ipython3",
   "version": "3.7.0"
  }
 },
 "nbformat": 4,
 "nbformat_minor": 4
}
