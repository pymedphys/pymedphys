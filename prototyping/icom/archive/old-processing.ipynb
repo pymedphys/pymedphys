{
 "cells": [
  {
   "cell_type": "code",
   "execution_count": null,
   "metadata": {},
   "outputs": [],
   "source": [
    "import pathlib\n",
    "import re\n",
    "\n",
    "import numpy as np"
   ]
  },
  {
   "cell_type": "code",
   "execution_count": null,
   "metadata": {},
   "outputs": [],
   "source": [
    "root = pathlib.Path(r'D:\\iComLogFiles')\n",
    "\n",
    "holding_dir = root.joinpath('holding')\n",
    "processing_dir = root.joinpath('processing')"
   ]
  },
  {
   "cell_type": "code",
   "execution_count": null,
   "metadata": {},
   "outputs": [],
   "source": [
    "ip = '192.168.100.200'"
   ]
  },
  {
   "cell_type": "code",
   "execution_count": null,
   "metadata": {},
   "outputs": [],
   "source": [
    "files_to_process = sorted(list(processing_dir.glob(f'{ip}*.txt')))\n",
    "files_to_process"
   ]
  },
  {
   "cell_type": "code",
   "execution_count": null,
   "metadata": {},
   "outputs": [],
   "source": [
    "def parse_datetime(data):\n",
    "    pattern = re.compile(b'(\\d+-\\d+-\\d\\d)(\\d\\d:\\d+:\\d+)')\n",
    "    datetime = pattern.findall(data)\n",
    "    datetime = np.array(datetime).astype(str)\n",
    "    date_val = datetime[0][0]\n",
    "    time_val = datetime[0][1]\n",
    "    utc_datetime_str = \"{}T{}\".format(date_val, time_val)\n",
    "    filename_tag = re.sub('[-|:]', '',utc_datetime_str)\n",
    "    \n",
    "    return filename_tag"
   ]
  },
  {
   "cell_type": "code",
   "execution_count": null,
   "metadata": {},
   "outputs": [],
   "source": [
    "def initial_results_parse(data):\n",
    "    pattern = re.compile(b'\\x00\\x00\\x00([a-zA-Z0-9 \\.-]+)')\n",
    "\n",
    "    results = pattern.findall(data)\n",
    "    results = np.array(results).astype(str)\n",
    "    \n",
    "    return results"
   ]
  },
  {
   "cell_type": "code",
   "execution_count": null,
   "metadata": {},
   "outputs": [],
   "source": [
    "def pull_header(tag, length, results_dict, results_scrape):\n",
    "    index = np.where(results_scrape == tag)[0]\n",
    "\n",
    "    for i, ref in enumerate(index):\n",
    "        asymx = results_scrape[ref+1:ref+length+1]\n",
    "        asymx = np.array(asymx).astype(float)\n",
    "        asymx[(asymx == -32767) | (asymx == 32767)] = None\n",
    "        results_dict[\"{}-{}\".format(tag, i)] = asymx\n",
    "\n",
    "    for ref in index[-1::-1]:\n",
    "        results_scrape = np.delete(results_scrape, np.arange(ref,ref+length+1))\n",
    "        \n",
    "    return results_dict, results_scrape"
   ]
  },
  {
   "cell_type": "code",
   "execution_count": null,
   "metadata": {},
   "outputs": [],
   "source": [
    "def organise_by_tags(results):\n",
    "    results_dict = dict()\n",
    "    results_scrape = results.copy()\n",
    "\n",
    "    results_dict, results_scrape = pull_header('ASYMX', 2, results_dict, results_scrape)\n",
    "    results_dict, results_scrape = pull_header('ASYMY', 2, results_dict, results_scrape)\n",
    "    results_dict, results_scrape = pull_header('MLCX', 160, results_dict, results_scrape)\n",
    "\n",
    "    pattern = re.compile('[a-zA-Z][a-zA-Z0-9 -]+')\n",
    "\n",
    "    alpha_numeric = np.array([\n",
    "        pattern.match(value)\n",
    "        for value in results_scrape\n",
    "    ]).astype(bool)\n",
    "    results_dict[\"Text-tags\"] = results_scrape[alpha_numeric].tolist()\n",
    "    results_scrape = np.delete(results_scrape, np.where(alpha_numeric)[0])\n",
    "\n",
    "    left_overs = results_scrape.astype(str)\n",
    "    left_overs[(left_overs == '-32767') | (left_overs == '32767')] = None\n",
    "\n",
    "    results_dict[\"Left-overs\"] = left_overs.tolist()\n",
    "    \n",
    "    return results_dict"
   ]
  },
  {
   "cell_type": "code",
   "execution_count": null,
   "metadata": {},
   "outputs": [],
   "source": []
  },
  {
   "cell_type": "code",
   "execution_count": null,
   "metadata": {},
   "outputs": [],
   "source": [
    "data_left_over = b''\n",
    "\n",
    "for path in files_to_process:\n",
    "    print('new_file')\n",
    "    with open(path, 'rb') as a_file:\n",
    "        data = data_left_over + a_file.read()\n",
    "        \n",
    "    control_point_split = data.split(b'\\x00\\x00\\x04\\x04')\n",
    "    \n",
    "    \n",
    "    \n",
    "    for control_point in control_point_split[:-1]:\n",
    "        print(len(control_point))\n",
    "        print(len(control_point.split(b'\\n')[-1]))\n",
    "#         if len(control_point) != 8047:\n",
    "#             print(control_point[0:10])\n",
    "#             print(control_point[-10::])\n",
    "        \n",
    "    data_left_over = control_point_split[-1]\n",
    "#         results = initial_results_parse(control_point_split[1])\n",
    "#         results_dict = organise_by_tags(results)\n",
    "        \n",
    "#         if not 'Settings Not Confirmed' in results_dict['Text-tags']:\n",
    "#             print(results_dict['Text-tags'])"
   ]
  }
 ],
 "metadata": {
  "kernelspec": {
   "display_name": "pymedphys-master",
   "language": "python",
   "name": "pymedphys-master"
  },
  "language_info": {
   "codemirror_mode": {
    "name": "ipython",
    "version": 3
   },
   "file_extension": ".py",
   "mimetype": "text/x-python",
   "name": "python",
   "nbconvert_exporter": "python",
   "pygments_lexer": "ipython3",
   "version": "3.7.0"
  }
 },
 "nbformat": 4,
 "nbformat_minor": 4
}
