{
 "cells": [
  {
   "cell_type": "code",
   "execution_count": null,
   "metadata": {},
   "outputs": [],
   "source": [
    "import pathlib\n",
    "import lzma\n",
    "import re\n",
    "import os\n",
    "import datetime\n",
    "import copy\n",
    "\n",
    "import numpy as np\n",
    "import pandas as pd"
   ]
  },
  {
   "cell_type": "code",
   "execution_count": null,
   "metadata": {},
   "outputs": [],
   "source": [
    "# Makes it so any changes in pymedphys is automatically\n",
    "# propagated into the notebook without needing a kernel reset.\n",
    "from IPython.lib.deepreload import reload\n",
    "%load_ext autoreload\n",
    "%autoreload 2"
   ]
  },
  {
   "cell_type": "code",
   "execution_count": null,
   "metadata": {},
   "outputs": [],
   "source": [
    "import pymedphys._utilities.filesystem\n",
    "from prototyping import *"
   ]
  },
  {
   "cell_type": "code",
   "execution_count": null,
   "metadata": {},
   "outputs": [],
   "source": [
    "root = pathlib.Path(r'\\\\physics-server\\iComLogFiles\\patients')\n",
    "compressed_files = sorted(list(root.glob('**/*.xz')))\n",
    "# compressed_files"
   ]
  },
  {
   "cell_type": "code",
   "execution_count": null,
   "metadata": {},
   "outputs": [],
   "source": [
    "mechanical_output = root.parent.joinpath('mechanical/4299/20200116.csv')\n",
    "mechanical_output.parent.mkdir(exist_ok=True)"
   ]
  },
  {
   "cell_type": "code",
   "execution_count": null,
   "metadata": {},
   "outputs": [],
   "source": [
    "data = b\"\"\n",
    "\n",
    "for path in compressed_files:\n",
    "    with lzma.open(path, 'r') as f:\n",
    "        data += f.read()"
   ]
  },
  {
   "cell_type": "code",
   "execution_count": null,
   "metadata": {},
   "outputs": [],
   "source": [
    "data_points = get_data_points(data)"
   ]
  },
  {
   "cell_type": "code",
   "execution_count": null,
   "metadata": {},
   "outputs": [],
   "source": [
    "mechanical_data = {}\n",
    "for data_point in data_points:\n",
    "    _, result = strict_extract(data_point)\n",
    "    machine_id = result['Machine ID']\n",
    "    \n",
    "    try:\n",
    "        machine_record = mechanical_data[machine_id]\n",
    "    except KeyError:\n",
    "        machine_record = {}\n",
    "        mechanical_data[machine_id] = machine_record\n",
    "        \n",
    "    timestamp = result['Timestamp']\n",
    "    try:\n",
    "        timestamp_record = machine_record[timestamp]\n",
    "    except KeyError:\n",
    "        timestamp_record = {}\n",
    "        machine_record[timestamp] = timestamp_record\n",
    "    \n",
    "    counter = result['Counter']\n",
    "    \n",
    "    mlc = result['MLCX']\n",
    "    mlc_a = mlc[0::2]\n",
    "    mlc_b = mlc[1::2]\n",
    "    width_at_cra = np.mean(mlc_b[39:41] - mlc_a[39:41])\n",
    "    jaw = result['ASYMY']\n",
    "    length = np.sum(jaw)\n",
    "    \n",
    "    timestamp_record[counter] = {\n",
    "        'Energy': result['Energy'],\n",
    "        'Monitor Units': result['Total MU'],\n",
    "        'Gantry': result['Gantry'],\n",
    "        'Collimator': result['Collimator'],\n",
    "        'Table Column': result['Table Column'],\n",
    "        'Table Isocentric': result['Table Isocentric'],\n",
    "        'Table Vertical': result['Table Vertical'],\n",
    "        'Table Longitudinal': result['Table Longitudinal'],\n",
    "        'Table Lateral': result['Table Lateral'],\n",
    "        'MLC distance at CRA': width_at_cra,\n",
    "        'Jaw distance': length \n",
    "    }"
   ]
  },
  {
   "cell_type": "code",
   "execution_count": null,
   "metadata": {},
   "outputs": [],
   "source": [
    "# pd.Timestamp('2020-01-16T17:08:45')"
   ]
  },
  {
   "cell_type": "code",
   "execution_count": null,
   "metadata": {},
   "outputs": [],
   "source": [
    "table_record = pd.DataFrame(\n",
    "    columns=[\n",
    "        'Timestamp', 'Counter', 'Energy', 'Monitor Units', 'Gantry', 'Collimator', 'Table Column',\n",
    "        'Table Isocentric', 'Table Vertical', 'Table Longitudinal',\n",
    "        'Table Lateral', 'MLC distance at CRA', 'Jaw distance'\n",
    "    ]\n",
    ")"
   ]
  },
  {
   "cell_type": "code",
   "execution_count": null,
   "metadata": {},
   "outputs": [],
   "source": [
    "for timestamp, timestamp_record in mechanical_data[4299].items():\n",
    "    for counter, record in timestamp_record.items():\n",
    "        table_record = table_record.append({\n",
    "            **{\n",
    "                'Timestamp': pd.Timestamp(timestamp),\n",
    "                'Counter': counter\n",
    "            },\n",
    "            **record\n",
    "        }, ignore_index=True)"
   ]
  },
  {
   "cell_type": "code",
   "execution_count": null,
   "metadata": {},
   "outputs": [],
   "source": [
    "table_record.to_csv(mechanical_output, index=False)"
   ]
  }
 ],
 "metadata": {
  "kernelspec": {
   "display_name": "pymedphys-master",
   "language": "python",
   "name": "pymedphys-master"
  },
  "language_info": {
   "codemirror_mode": {
    "name": "ipython",
    "version": 3
   },
   "file_extension": ".py",
   "mimetype": "text/x-python",
   "name": "python",
   "nbconvert_exporter": "python",
   "pygments_lexer": "ipython3",
   "version": "3.7.0"
  }
 },
 "nbformat": 4,
 "nbformat_minor": 4
}
