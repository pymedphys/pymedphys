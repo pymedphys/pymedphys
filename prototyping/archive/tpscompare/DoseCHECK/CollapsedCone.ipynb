{
 "cells": [
  {
   "cell_type": "code",
   "execution_count": null,
   "metadata": {},
   "outputs": [],
   "source": [
    "from IPython.lib.deepreload import reload\n",
    "%load_ext autoreload\n",
    "%autoreload 2"
   ]
  },
  {
   "cell_type": "code",
   "execution_count": null,
   "metadata": {},
   "outputs": [],
   "source": [
    "import re\n",
    "import operator\n",
    "from pathlib import Path\n",
    "\n",
    "import numpy as np\n",
    "import matplotlib.pyplot as plt\n",
    "import pandas as pd\n",
    "\n",
    "import pydicom\n",
    "\n",
    "from pymedphys_analysis.tpscompare import load_and_normalise_mephysto\n",
    "from pymedphys_dicom.dicom import depth_dose, profile"
   ]
  },
  {
   "cell_type": "code",
   "execution_count": null,
   "metadata": {},
   "outputs": [],
   "source": [
    "ROOT_DIR = Path(r\"S:\\Physics\\Monaco\\Model vs Measurement Comparisons\")\n",
    "\n",
    "MONACO_DICOM_DIR = ROOT_DIR.joinpath(r\"Beam Models\\CCA Monaco Collapsed Cone\")\n",
    "DOSECHECK_DICOM_DIR = ROOT_DIR.joinpath(r\"Beam Models\\DoseCHECK\")\n",
    "MEASUREMENTS_DIR = ROOT_DIR.joinpath(r\"Measurements\\RCCC\\Photons\")\n",
    "RESULTS = ROOT_DIR.joinpath(r\"Results\\RCCC\\dosecheck\\Collapsed Cone\")\n",
    "\n",
    "MONACO_DOSE_DIR = MONACO_DICOM_DIR.joinpath(\"DICOM dose exports\")"
   ]
  },
  {
   "cell_type": "code",
   "execution_count": null,
   "metadata": {},
   "outputs": [],
   "source": [
    "calibrated_doses_table = pd.read_csv(MEASUREMENTS_DIR.joinpath('AbsoluteDose.csv'), index_col=0)\n",
    "calibrated_doses = calibrated_doses_table['d10 @ 90 SSD']\n",
    "calibrated_doses"
   ]
  },
  {
   "cell_type": "code",
   "execution_count": null,
   "metadata": {},
   "outputs": [],
   "source": [
    "wedge_transmission_table = pd.read_csv(MEASUREMENTS_DIR.joinpath('WedgeTransmissionFactors.csv'), index_col=0)\n",
    "data_column_name = wedge_transmission_table.columns[0]\n",
    "wedge_transmissions = wedge_transmission_table[data_column_name]\n",
    "wedge_transmissions"
   ]
  },
  {
   "cell_type": "code",
   "execution_count": null,
   "metadata": {},
   "outputs": [],
   "source": [
    "output_factors = pd.read_csv(MEASUREMENTS_DIR.joinpath('OutputFactors.csv'), index_col=0)\n",
    "output_factors"
   ]
  },
  {
   "cell_type": "code",
   "execution_count": null,
   "metadata": {},
   "outputs": [],
   "source": [
    "keys = [\n",
    "    path.stem\n",
    "    for path in MONACO_DOSE_DIR.glob('*.dcm')\n",
    "]\n",
    "\n",
    "keys"
   ]
  },
  {
   "cell_type": "code",
   "execution_count": null,
   "metadata": {},
   "outputs": [],
   "source": [
    "regex_string = r'(\\d\\dMV(\\bFFF\\b)?) (\\d\\dx\\d\\d) ((\\bOpen\\b)|(\\bWedge\\b))'\n",
    "\n",
    "def get_energy_field_block(key):\n",
    "    match = re.match(regex_string, key)\n",
    "    return match.group(1), match.group(3), match.group(4)"
   ]
  },
  {
   "cell_type": "code",
   "execution_count": null,
   "metadata": {},
   "outputs": [],
   "source": [
    "absolute_doses = {}\n",
    "\n",
    "for key in keys:\n",
    "    energy, field, block = get_energy_field_block(key)\n",
    "        \n",
    "    if block == 'Wedge':\n",
    "        wtf = wedge_transmissions[energy]\n",
    "    else:\n",
    "        wtf = 1\n",
    "        \n",
    "    output_factor = output_factors[f'{field} {block}'][energy]\n",
    "    calibrated_dose = calibrated_doses[energy]\n",
    "    \n",
    "    absolute_dose = calibrated_dose * output_factor * wtf\n",
    "    absolute_doses[key] = absolute_dose\n",
    "    \n",
    "\n",
    "absolute_doses"
   ]
  },
  {
   "cell_type": "code",
   "execution_count": null,
   "metadata": {},
   "outputs": [],
   "source": [
    "getter = operator.itemgetter('displacement', 'dose')"
   ]
  },
  {
   "cell_type": "code",
   "execution_count": null,
   "metadata": {},
   "outputs": [],
   "source": [
    "absolute_scans_per_field = load_and_normalise_mephysto(\n",
    "    MEASUREMENTS_DIR, r'(\\d\\dMV(\\bFFF\\b)? \\d\\dx\\d\\d ((\\bOpen\\b)|(\\bWedge\\b)))\\.mcc', absolute_doses, 100)"
   ]
  },
  {
   "cell_type": "code",
   "execution_count": null,
   "metadata": {},
   "outputs": [],
   "source": [
    "new_keys = list(absolute_scans_per_field.keys())\n",
    "new_keys"
   ]
  },
  {
   "cell_type": "code",
   "execution_count": null,
   "metadata": {},
   "outputs": [],
   "source": [
    "assert new_keys == keys"
   ]
  },
  {
   "cell_type": "code",
   "execution_count": null,
   "metadata": {},
   "outputs": [],
   "source": [
    "def load_dicom_files(directory, keys):\n",
    "    dicom_file_map = {\n",
    "        key: directory.joinpath(f'{key}.dcm')\n",
    "        for key in keys\n",
    "    }\n",
    "    \n",
    "    dicom_dataset_map = {\n",
    "        key: pydicom.read_file(str(dicom_file_map[key]), force=True)\n",
    "        for key in keys\n",
    "    }\n",
    "    \n",
    "    return dicom_dataset_map"
   ]
  },
  {
   "cell_type": "code",
   "execution_count": null,
   "metadata": {},
   "outputs": [],
   "source": [
    "monaco_dicom_dataset_map = load_dicom_files(MONACO_DOSE_DIR, keys)\n",
    "dosecheck_dicom_dataset_map = load_dicom_files(DOSECHECK_DICOM_DIR, keys)"
   ]
  },
  {
   "cell_type": "code",
   "execution_count": null,
   "metadata": {},
   "outputs": [],
   "source": [
    "dicom_plan = pydicom.read_file(str(MONACO_DICOM_DIR.joinpath('plan.dcm')), force=True)"
   ]
  },
  {
   "cell_type": "code",
   "execution_count": null,
   "metadata": {},
   "outputs": [],
   "source": [
    "def plot_one_axis(ax, displacement, meas_dose, model_dose):\n",
    "    diff = 100 * (model_dose - meas_dose) / meas_dose\n",
    "    \n",
    "    lines = []\n",
    "    \n",
    "    lines += ax.plot(displacement, meas_dose, label='Measured Dose')\n",
    "    lines += ax.plot(displacement, model_dose, label='Model Dose')\n",
    "    ax.set_ylabel('Dose (Gy / 100 MU)')\n",
    "    \n",
    "    x_bounds = [np.min(displacement), np.max(displacement)]\n",
    "    ax.set_xlim(x_bounds)\n",
    "\n",
    "    ax_twin = ax.twinx()\n",
    "\n",
    "    lines += ax_twin.plot(displacement, diff, color='C3', alpha=0.5, label=r'% Residuals [100 $\\times$ (Model - Meas) / Meas]')\n",
    "    ax_twin.plot(x_bounds, [0, 0], '--', color='C3', lw=0.5)\n",
    "    ax_twin.set_ylabel(r'% Dose difference [100 $\\times$ (Model - Meas) / Meas]')\n",
    "\n",
    "    labels = [l.get_label() for l in lines]\n",
    "    \n",
    "    ax.legend(lines, labels, loc='lower left')\n",
    "    \n",
    "    return ax_twin\n",
    "\n",
    "\n",
    "\n",
    "def plot_tps_meas_diff(displacement, meas_dose, internal_tps_dose, external_tps_dose):\n",
    "    fig, ax = plt.subplots(1, 2, figsize=(16,6), sharey=True)\n",
    "    ax[1].yaxis.set_tick_params(which='both', labelbottom=True)\n",
    "\n",
    "    ax_twin = list()\n",
    "    \n",
    "    ax_twin.append(plot_one_axis(ax[0], displacement, meas_dose, internal_tps_dose))\n",
    "    ax_twin.append(plot_one_axis(ax[1], displacement, meas_dose, external_tps_dose))\n",
    "    \n",
    "    ax_twin[1].get_shared_y_axes().join(ax_twin[1], ax_twin[0])\n",
    "    ax_twin[1].set_ylim([-5, 5])\n",
    "    plt.tight_layout()\n",
    "    plt.subplots_adjust(wspace=0.4, top=0.86)\n",
    "    \n",
    "    return fig, ax\n",
    "\n",
    "\n",
    "def plot_pdd_diff(key, dicom_plan):\n",
    "    depth, meas_dose = getter(absolute_scans_per_field[key]['depth_dose'])\n",
    "    internal_tps_dose = depth_dose(depth, monaco_dicom_dataset_map[key], dicom_plan) / 10\n",
    "    external_tps_dose = depth_dose(depth, dosecheck_dicom_dataset_map[key], dicom_plan) / 10\n",
    "\n",
    "    fig, ax = plot_tps_meas_diff(depth, meas_dose, internal_tps_dose, external_tps_dose)\n",
    "    fig.suptitle(f'Depth Dose Comparisons | {key}', fontsize=\"x-large\")\n",
    "    ax[0].set_title(\"Monaco Collapsed Cone\")\n",
    "    ax[1].set_title(\"DoseCHECK\")\n",
    "    \n",
    "\n",
    "for key in keys:\n",
    "    plot_pdd_diff(key, dicom_plan)\n",
    "    filename = RESULTS.joinpath(f'{key}_pdd.png')\n",
    "    plt.savefig(filename)\n",
    "    plt.show()"
   ]
  },
  {
   "cell_type": "code",
   "execution_count": null,
   "metadata": {},
   "outputs": [],
   "source": [
    "def plot_profile_diff(key, depth, direction):\n",
    "    displacement, meas_dose = getter(absolute_scans_per_field[key]['profiles'][depth][direction])\n",
    "    \n",
    "    internal_tps_dose = profile(displacement, depth, direction, monaco_dicom_dataset_map[key], dicom_plan) / 10\n",
    "    external_tps_dose = profile(displacement, depth, direction, dosecheck_dicom_dataset_map[key], dicom_plan) / 10\n",
    "\n",
    "    fig, ax = plot_tps_meas_diff(displacement, meas_dose, internal_tps_dose, external_tps_dose)\n",
    "    fig.suptitle(f'{direction.capitalize()} Profile Comparisons | {key} | Depth: {depth} mm', fontsize=\"x-large\")\n",
    "    ax[0].set_title(\"Monaco Collapsed Cone\")\n",
    "    ax[1].set_title(\"DoseCHECK\")\n",
    "    \n",
    "\n",
    "for key in keys:\n",
    "    depths = absolute_scans_per_field[key]['profiles'].keys()\n",
    "    for depth in depths:\n",
    "        for direction in ['inplane', 'crossplane']:\n",
    "            plot_profile_diff(key, depth, direction)\n",
    "            filename = RESULTS.joinpath(f'{key}_profile_{depth}mm_{direction}.png')\n",
    "            plt.savefig(filename)\n",
    "            plt.show()"
   ]
  },
  {
   "cell_type": "code",
   "execution_count": null,
   "metadata": {},
   "outputs": [],
   "source": []
  }
 ],
 "metadata": {
  "kernelspec": {
   "display_name": "Python 3",
   "language": "python",
   "name": "python3"
  },
  "language_info": {
   "codemirror_mode": {
    "name": "ipython",
    "version": 3
   },
   "file_extension": ".py",
   "mimetype": "text/x-python",
   "name": "python",
   "nbconvert_exporter": "python",
   "pygments_lexer": "ipython3",
   "version": "3.7.1"
  }
 },
 "nbformat": 4,
 "nbformat_minor": 4
}
