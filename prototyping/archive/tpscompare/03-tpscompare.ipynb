{
 "cells": [
  {
   "cell_type": "code",
   "execution_count": null,
   "metadata": {},
   "outputs": [],
   "source": [
    "from IPython.lib.deepreload import reload\n",
    "%load_ext autoreload\n",
    "%autoreload 2"
   ]
  },
  {
   "cell_type": "code",
   "execution_count": null,
   "metadata": {},
   "outputs": [],
   "source": [
    "import re\n",
    "import operator\n",
    "from pathlib import Path\n",
    "\n",
    "import numpy as np\n",
    "import matplotlib.pyplot as plt\n",
    "import pandas as pd\n",
    "\n",
    "import pydicom\n",
    "\n",
    "from pymedphys_analysis.tpscompare import load_and_normalise_mephysto\n",
    "from pymedphys_dicom.dicom import depth_dose, profile"
   ]
  },
  {
   "cell_type": "code",
   "execution_count": null,
   "metadata": {},
   "outputs": [],
   "source": [
    "ROOT_DIR = Path(r\"S:\\Physics\\Monaco\\Model vs Measurement Comparisons\")\n",
    "\n",
    "INTERNAL_DICOM_DIR = ROOT_DIR.joinpath(r\"Beam Models\\Photon Monte Carlo with Flattening Filter\")\n",
    "EXTERNAL_DICOM_DIR = next(ROOT_DIR.glob(r\"Beam Models\\External *\\DICOM Dose Exports\"))\n",
    "MEASUREMENTS_DIR = ROOT_DIR.joinpath(r\"Measurements\\RCCC\\Photons\\With Flattening Filter\")\n",
    "RESULTS = ROOT_DIR.joinpath(r\"Results\\RCCC\\compare\")"
   ]
  },
  {
   "cell_type": "code",
   "execution_count": null,
   "metadata": {},
   "outputs": [],
   "source": [
    "absolute_dose_table = pd.read_csv(MEASUREMENTS_DIR.joinpath('AbsoluteDose.csv'), index_col=0)\n",
    "absolute_dose = absolute_dose_table['d10 @ 90 SSD']['6 MV']\n",
    "absolute_dose"
   ]
  },
  {
   "cell_type": "code",
   "execution_count": null,
   "metadata": {},
   "outputs": [],
   "source": [
    "output_factors = pd.read_csv(MEASUREMENTS_DIR.joinpath('OutputFactors.csv'), index_col=0)\n",
    "output_factors"
   ]
  },
  {
   "cell_type": "code",
   "execution_count": null,
   "metadata": {},
   "outputs": [],
   "source": [
    "absolute_doses = {\n",
    "    key: output_factors[key]['6 MV'] * absolute_dose\n",
    "    for key in output_factors.columns\n",
    "}\n",
    "\n",
    "absolute_doses"
   ]
  },
  {
   "cell_type": "code",
   "execution_count": null,
   "metadata": {},
   "outputs": [],
   "source": [
    "absolute_scans_per_field = load_and_normalise_mephysto(\n",
    "    MEASUREMENTS_DIR, r'06MV (\\d\\dx\\d\\d) Open\\.mcc', absolute_doses, 100)\n",
    "\n",
    "getter = operator.itemgetter('displacement', 'dose')"
   ]
  },
  {
   "cell_type": "code",
   "execution_count": null,
   "metadata": {},
   "outputs": [],
   "source": [
    "keys = absolute_scans_per_field.keys()"
   ]
  },
  {
   "cell_type": "code",
   "execution_count": null,
   "metadata": {},
   "outputs": [],
   "source": [
    "def load_dicom_files(directory, keys):\n",
    "    dicom_file_map = {\n",
    "        key: directory.joinpath(f'06MV_{key}.dcm')\n",
    "        for key in keys\n",
    "    }\n",
    "    \n",
    "    dicom_dataset_map = {\n",
    "        key: pydicom.read_file(str(dicom_file_map[key]), force=True)\n",
    "        for key in keys\n",
    "    }\n",
    "    \n",
    "    return dicom_dataset_map"
   ]
  },
  {
   "cell_type": "code",
   "execution_count": null,
   "metadata": {},
   "outputs": [],
   "source": [
    "internal_dicom_dataset_map = load_dicom_files(INTERNAL_DICOM_DIR, keys)\n",
    "external_dicom_dataset_map = load_dicom_files(EXTERNAL_DICOM_DIR, keys)"
   ]
  },
  {
   "cell_type": "code",
   "execution_count": null,
   "metadata": {},
   "outputs": [],
   "source": [
    "internal_dicom_plan = pydicom.read_file(str(INTERNAL_DICOM_DIR.joinpath('06MV_plan.dcm')), force=True)\n",
    "external_dicom_plan = pydicom.read_file(str(EXTERNAL_DICOM_DIR.joinpath('06MV_plan.dcm')), force=True)"
   ]
  },
  {
   "cell_type": "code",
   "execution_count": null,
   "metadata": {},
   "outputs": [],
   "source": [
    "def plot_one_axis(ax, displacement, meas_dose, tps_dose):\n",
    "    diff = tps_dose - meas_dose\n",
    "    \n",
    "    lines = []\n",
    "    \n",
    "    lines += ax.plot(displacement, meas_dose, label='Measured Dose')\n",
    "    lines += ax.plot(displacement, tps_dose, label='TPS Dose')\n",
    "    ax.set_ylabel('Dose (Gy / 100 MU)')\n",
    "    \n",
    "    x_bounds = [np.min(displacement), np.max(displacement)]\n",
    "    ax.set_xlim(x_bounds)\n",
    "\n",
    "    ax_twin = ax.twinx()\n",
    "\n",
    "    lines += ax_twin.plot(displacement, diff, color='C3', alpha=0.5, label='Residuals [TPS - Meas]')\n",
    "    ax_twin.plot(x_bounds, [0, 0], '--', color='C3', lw=0.5)\n",
    "    ax_twin.set_ylabel('Dose difference [TPS - Meas] (Gy / 100 MU)')\n",
    "\n",
    "    labels = [l.get_label() for l in lines]\n",
    "    \n",
    "    ax.legend(lines, labels)\n",
    "    \n",
    "    return ax_twin\n",
    "\n",
    "\n",
    "\n",
    "def plot_tps_meas_diff(displacement, meas_dose, internal_tps_dose, external_tps_dose):\n",
    "    fig, ax = plt.subplots(1, 2, figsize=(16,6), sharey=True)\n",
    "    ax[1].yaxis.set_tick_params(which='both', labelbottom=True)\n",
    "\n",
    "    ax_twin = list()\n",
    "    \n",
    "    ax_twin.append(plot_one_axis(ax[0], displacement, meas_dose, internal_tps_dose))\n",
    "    ax_twin.append(plot_one_axis(ax[1], displacement, meas_dose, external_tps_dose))\n",
    "    \n",
    "    ax_twin[1].get_shared_y_axes().join(ax_twin[1], ax_twin[0])\n",
    "    ax_twin[1].autoscale(axis='y')\n",
    "    plt.tight_layout()\n",
    "    plt.subplots_adjust(wspace=0.4, top=0.86)\n",
    "    \n",
    "    return fig, ax\n",
    "\n",
    "\n",
    "def plot_pdd_diff(key):\n",
    "    depth, meas_dose = getter(absolute_scans_per_field[key]['depth_dose'])\n",
    "    internal_tps_dose = depth_dose(depth, internal_dicom_dataset_map[key], internal_dicom_plan) / 10\n",
    "    external_tps_dose = depth_dose(depth, external_dicom_dataset_map[key], external_dicom_plan) / 10\n",
    "\n",
    "    fig, ax = plot_tps_meas_diff(depth, meas_dose, internal_tps_dose, external_tps_dose)\n",
    "    fig.suptitle(f'Depth Dose Comparisons | {key} field', fontsize=\"x-large\")\n",
    "    ax[0].set_title(\"Internal Beam Model\")\n",
    "    ax[1].set_title(\"External Beam Model\")\n",
    "    \n",
    "\n",
    "for key in keys:\n",
    "    plot_pdd_diff(key)\n",
    "    filename = RESULTS.joinpath(f'{key}_pdd.png')\n",
    "    plt.savefig(filename)\n",
    "    plt.show()"
   ]
  },
  {
   "cell_type": "code",
   "execution_count": null,
   "metadata": {},
   "outputs": [],
   "source": [
    "def plot_profile_diff(key, depth, direction):\n",
    "    displacement, meas_dose = getter(absolute_scans_per_field[key]['profiles'][depth][direction])\n",
    "    \n",
    "    internal_tps_dose = profile(displacement, depth, direction, internal_dicom_dataset_map[key], internal_dicom_plan) / 10\n",
    "    external_tps_dose = profile(displacement, depth, direction, external_dicom_dataset_map[key], external_dicom_plan) / 10\n",
    "\n",
    "    fig, ax = plot_tps_meas_diff(displacement, meas_dose, internal_tps_dose, external_tps_dose)\n",
    "    fig.suptitle(f'{direction.capitalize()} Profile Comparisons | {key} field | Depth: {depth} mm', fontsize=\"x-large\")\n",
    "    ax[0].set_title(\"Internal Beam Model\")\n",
    "    ax[1].set_title(\"External Beam Model\")\n",
    "    \n",
    "\n",
    "for key in keys:\n",
    "    depths = absolute_scans_per_field[key]['profiles'].keys()\n",
    "    for depth in depths:\n",
    "        for direction in ['inplane', 'crossplane']:\n",
    "            plot_profile_diff(key, depth, direction)\n",
    "            filename = RESULTS.joinpath(f'{key}_profile_{depth}mm_{direction}.png')\n",
    "            plt.savefig(filename)\n",
    "            plt.show()"
   ]
  }
 ],
 "metadata": {
  "kernelspec": {
   "display_name": "Python 3",
   "language": "python",
   "name": "python3"
  },
  "language_info": {
   "codemirror_mode": {
    "name": "ipython",
    "version": 3
   },
   "file_extension": ".py",
   "mimetype": "text/x-python",
   "name": "python",
   "nbconvert_exporter": "python",
   "pygments_lexer": "ipython3",
   "version": "3.7.0"
  }
 },
 "nbformat": 4,
 "nbformat_minor": 4
}
