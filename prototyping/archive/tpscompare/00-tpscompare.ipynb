{
 "cells": [
  {
   "cell_type": "code",
   "execution_count": null,
   "metadata": {},
   "outputs": [],
   "source": [
    "from IPython.lib.deepreload import reload\n",
    "%load_ext autoreload\n",
    "%autoreload 2"
   ]
  },
  {
   "cell_type": "code",
   "execution_count": null,
   "metadata": {},
   "outputs": [],
   "source": [
    "import re\n",
    "import operator\n",
    "from pathlib import Path\n",
    "\n",
    "import numpy as np\n",
    "import matplotlib.pyplot as plt\n",
    "import pandas as pd\n",
    "\n",
    "import pydicom\n",
    "\n",
    "from pymedphys_analysis.tpscompare import absolute_scans_from_mephysto\n",
    "from pymedphys_dicom.dicom.dose import dicom_dose_interpolate"
   ]
  },
  {
   "cell_type": "code",
   "execution_count": null,
   "metadata": {},
   "outputs": [],
   "source": [
    "ROOT_DIR = Path(r\"S:\\Physics\\Monaco\\Model vs Measurement Comparisons\")\n",
    "\n",
    "DICOM_DIR = next(ROOT_DIR.glob(r\"Beam Models\\External *\\DICOM Dose Exports\"))\n",
    "MEASUREMENTS_DIR = ROOT_DIR.joinpath(r\"Measurements\\RCCC\\Photons\\With Flattening Filter\")\n",
    "RESULTS = ROOT_DIR.joinpath(r\"Results\\RCCC\\external\")"
   ]
  },
  {
   "cell_type": "code",
   "execution_count": null,
   "metadata": {},
   "outputs": [],
   "source": [
    "mephysto_files = list(MEASUREMENTS_DIR.glob('06MV * Open.mcc'))\n",
    "keys = [\n",
    "    re.match('06MV (\\d\\dx\\d\\d) Open.mcc', filepath.name).group(1)\n",
    "    for filepath in mephysto_files\n",
    "]\n",
    "\n",
    "mephysto_file_map = {\n",
    "    key: filepath for key, filepath in zip(keys, mephysto_files)\n",
    "}\n",
    "\n",
    "mephysto_file_map"
   ]
  },
  {
   "cell_type": "code",
   "execution_count": null,
   "metadata": {},
   "outputs": [],
   "source": [
    "dicom_file_map = {\n",
    "    key: DICOM_DIR.joinpath(f'06MV_{key}.dcm')\n",
    "    for key in keys\n",
    "}\n",
    "\n",
    "dicom_file_map"
   ]
  },
  {
   "cell_type": "code",
   "execution_count": null,
   "metadata": {},
   "outputs": [],
   "source": [
    "dicom_dataset_map = {\n",
    "    key: pydicom.read_file(str(dicom_file_map[key]), force=True)\n",
    "    for key in keys\n",
    "}"
   ]
  },
  {
   "cell_type": "code",
   "execution_count": null,
   "metadata": {},
   "outputs": [],
   "source": [
    "absolute_dose_table = pd.read_csv(MEASUREMENTS_DIR.joinpath('AbsoluteDose.csv'), index_col=0)\n",
    "absolute_dose = absolute_dose_table['d10 @ 90 SSD']['6 MV']\n",
    "absolute_dose"
   ]
  },
  {
   "cell_type": "code",
   "execution_count": null,
   "metadata": {},
   "outputs": [],
   "source": [
    "output_factors = pd.read_csv(MEASUREMENTS_DIR.joinpath('OutputFactors.csv'), index_col=0)\n",
    "output_factors"
   ]
  },
  {
   "cell_type": "code",
   "execution_count": null,
   "metadata": {},
   "outputs": [],
   "source": [
    "absolute_dose_per_field = {\n",
    "    key: output_factors[key]['6 MV'] * absolute_dose\n",
    "    for key in keys\n",
    "}\n",
    "\n",
    "absolute_dose_per_field"
   ]
  },
  {
   "cell_type": "code",
   "execution_count": null,
   "metadata": {},
   "outputs": [],
   "source": [
    "absolute_scans_per_field = {\n",
    "    key: absolute_scans_from_mephysto(\n",
    "        mephysto_file_map[key], \n",
    "        absolute_dose_per_field[key], 100)\n",
    "    for key in keys\n",
    "}\n",
    "\n",
    "# absolute_scans_per_field"
   ]
  },
  {
   "cell_type": "code",
   "execution_count": null,
   "metadata": {},
   "outputs": [],
   "source": [
    "getter = operator.itemgetter('displacement', 'dose')"
   ]
  },
  {
   "cell_type": "code",
   "execution_count": null,
   "metadata": {},
   "outputs": [],
   "source": [
    "for key in keys:\n",
    "    plt.plot(*getter(absolute_scans_per_field[key]['depth_dose']))"
   ]
  },
  {
   "cell_type": "code",
   "execution_count": null,
   "metadata": {},
   "outputs": [],
   "source": [
    "def plot_tps_meas_diff(displacement, meas_dose, tps_dose):\n",
    "    diff = tps_dose - meas_dose\n",
    "    diff_range = np.max(np.abs(diff))\n",
    "    \n",
    "    lines = []\n",
    "\n",
    "    fig, ax1 = plt.subplots(figsize=(12,6))\n",
    "\n",
    "    lines += ax1.plot(displacement, meas_dose, label='Measured Dose')\n",
    "    lines += ax1.plot(displacement, tps_dose, label='TPS Dose')\n",
    "    ax1.set_ylabel('Dose (Gy)')\n",
    "    \n",
    "    x_bounds = [np.min(displacement), np.max(displacement)]\n",
    "    ax1.set_xlim(x_bounds)\n",
    "\n",
    "    ax2 = ax1.twinx()\n",
    "\n",
    "    lines += ax2.plot(displacement, diff, color='C3', alpha=0.5, label='Residuals [TPS - Meas]')\n",
    "    ax2.plot(x_bounds, [0, 0], '--', color='C3', lw=0.5)\n",
    "    ax2.set_ylim([-diff_range, diff_range])\n",
    "    ax2.set_ylabel('Dose difference [TPS - Meas] (Gy)')\n",
    "\n",
    "    labels = [l.get_label() for l in lines]\n",
    "    ax1.legend(lines, labels)\n",
    "\n",
    "#     fig.tight_layout()"
   ]
  },
  {
   "cell_type": "code",
   "execution_count": null,
   "metadata": {},
   "outputs": [],
   "source": [
    "def plot_pdd_diff(key):\n",
    "    depth, meas_dose = getter(absolute_scans_per_field[key]['depth_dose'])\n",
    "\n",
    "    y = depth - 300\n",
    "    tps_dose = np.squeeze(dicom_dose_interpolate(dicom_dataset_map[key], ([0], y, [0]))) / 10\n",
    "\n",
    "    plot_tps_meas_diff(depth, meas_dose, tps_dose)\n",
    "    plt.title(f'Depth Dose Comparisons | {key} field')\n",
    "    \n",
    "\n",
    "for key in keys:\n",
    "    plot_pdd_diff(key)\n",
    "    filename = RESULTS.joinpath(f'{key}_pdd.png')\n",
    "    plt.savefig(filename)\n",
    "    plt.show()"
   ]
  },
  {
   "cell_type": "code",
   "execution_count": null,
   "metadata": {},
   "outputs": [],
   "source": [
    "def plot_profile_diff(key, depth, direction):\n",
    "    displacement, meas_dose = getter(absolute_scans_per_field[key]['profiles'][depth][direction])\n",
    "    y = [depth - 300]\n",
    "    \n",
    "    if direction is 'inplane':\n",
    "        grid = (displacement, y, [0])\n",
    "    elif direction is 'crossplane':\n",
    "        grid = ([0], y, displacement)\n",
    "    else:\n",
    "        raise ValueError(\"Expected direction to be equal to 'inplane' or 'crossplane'\")\n",
    "\n",
    "    tps_dose = np.squeeze(dicom_dose_interpolate(dicom_dataset_map[key], grid)) / 10\n",
    "    plot_tps_meas_diff(displacement, meas_dose, tps_dose)\n",
    "    plt.title(f'{direction.capitalize()} Profile Comparisons | {key} field | Depth: {depth} mm')\n",
    "    \n",
    "\n",
    "for key in keys:\n",
    "    depths = absolute_scans_per_field[key]['profiles'].keys()\n",
    "    for depth in depths:\n",
    "        for direction in ['inplane', 'crossplane']:\n",
    "            plot_profile_diff(key, depth, direction)\n",
    "            filename = RESULTS.joinpath(f'{key}_profile_{depth}mm_{direction}.png')\n",
    "            plt.savefig(filename)\n",
    "            plt.show()"
   ]
  }
 ],
 "metadata": {
  "kernelspec": {
   "display_name": "Python 3",
   "language": "python",
   "name": "python3"
  },
  "language_info": {
   "codemirror_mode": {
    "name": "ipython",
    "version": 3
   },
   "file_extension": ".py",
   "mimetype": "text/x-python",
   "name": "python",
   "nbconvert_exporter": "python",
   "pygments_lexer": "ipython3",
   "version": "3.7.0"
  }
 },
 "nbformat": 4,
 "nbformat_minor": 4
}
