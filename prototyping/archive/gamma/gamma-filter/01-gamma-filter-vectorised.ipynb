{
 "cells": [
  {
   "cell_type": "code",
   "execution_count": null,
   "metadata": {},
   "outputs": [],
   "source": [
    "import numpy as np\n",
    "import matplotlib.pyplot as plt\n",
    "\n",
    "from pymedphys.dicom import coords_and_dose_from_dcm"
   ]
  },
  {
   "cell_type": "code",
   "execution_count": null,
   "metadata": {},
   "outputs": [],
   "source": []
  },
  {
   "cell_type": "code",
   "execution_count": null,
   "metadata": {},
   "outputs": [],
   "source": [
    "distance_mm_threshold = 3\n",
    "dose_percent_threshold = 3\n",
    "\n",
    "lower_percent_dose_cutoff = 20\n",
    "\n",
    "normalisation = None"
   ]
  },
  {
   "cell_type": "code",
   "execution_count": null,
   "metadata": {},
   "outputs": [],
   "source": [
    "dcm_ref_filepath = \"../../../../Documents/RD.Ecl_WOmask.dcm\"\n",
    "dcm_eval_filepath = \"../../../../Documents/RD.Pin.dcm\"\n",
    "\n",
    "coords_reference, dose_reference = coords_and_dose_from_dcm(\n",
    "    dcm_ref_filepath)\n",
    "coords_evaluation, dose_evaluation = coords_and_dose_from_dcm(\n",
    "    dcm_eval_filepath)"
   ]
  },
  {
   "cell_type": "code",
   "execution_count": null,
   "metadata": {},
   "outputs": [],
   "source": [
    "if normalisation is None:\n",
    "    normalisation = np.max(dose_reference)\n",
    "\n",
    "dose_threshold = dose_percent_threshold / 100 * normalisation\n",
    "lower_dose_cutoff = lower_percent_dose_cutoff / 100 * normalisation"
   ]
  },
  {
   "cell_type": "code",
   "execution_count": null,
   "metadata": {},
   "outputs": [],
   "source": [
    "for _ in range(10):\n",
    "    lower_dose_cutoff = lower_percent_dose_cutoff / 100 * normalisation\n",
    "    \n",
    "    sorted_ref_dose = np.sort(np.ravel(dose_reference))\n",
    "    sorted_ref_dose = sorted_ref_dose[sorted_ref_dose > lower_dose_cutoff]\n",
    "    ref_98 = np.floor(len(sorted_ref_dose) * 0.98).astype(int)\n",
    "    normalisation = sorted_ref_dose[ref_98]\n",
    "    \n",
    "\n",
    "normalisation"
   ]
  },
  {
   "cell_type": "code",
   "execution_count": null,
   "metadata": {},
   "outputs": [],
   "source": [
    "dose_threshold = dose_percent_threshold / 100 * normalisation\n",
    "lower_dose_cutoff = lower_percent_dose_cutoff / 100 * normalisation"
   ]
  },
  {
   "cell_type": "code",
   "execution_count": null,
   "metadata": {},
   "outputs": [],
   "source": [
    "len(coords_evaluation[2])"
   ]
  },
  {
   "cell_type": "code",
   "execution_count": null,
   "metadata": {},
   "outputs": [],
   "source": [
    "mesh_index = np.meshgrid(*[\n",
    "    np.arange(len(coord_eval))\n",
    "    for coord_eval in coords_evaluation\n",
    "])\n",
    "\n",
    "eval_index = np.reshape(np.array(mesh_index), (3,-1))\n",
    "eval_index"
   ]
  },
  {
   "cell_type": "code",
   "execution_count": null,
   "metadata": {},
   "outputs": [],
   "source": [
    "len(coords_evaluation[0])"
   ]
  },
  {
   "cell_type": "code",
   "execution_count": null,
   "metadata": {},
   "outputs": [],
   "source": [
    "len(coords_evaluation[1])"
   ]
  },
  {
   "cell_type": "code",
   "execution_count": null,
   "metadata": {},
   "outputs": [],
   "source": [
    "len(coords_evaluation[2])"
   ]
  },
  {
   "cell_type": "code",
   "execution_count": null,
   "metadata": {},
   "outputs": [],
   "source": [
    "np.shape(dose_evaluation)"
   ]
  },
  {
   "cell_type": "code",
   "execution_count": null,
   "metadata": {},
   "outputs": [],
   "source": [
    "np.shape(eval_index)"
   ]
  },
  {
   "cell_type": "code",
   "execution_count": null,
   "metadata": {},
   "outputs": [],
   "source": [
    "eval_index[0,:]"
   ]
  },
  {
   "cell_type": "code",
   "execution_count": null,
   "metadata": {},
   "outputs": [],
   "source": [
    "# [\n",
    "#     [\n",
    "#         in_vicinity[0][point_index_axis == in_vicinity[1]]\n",
    "#         for point_index_axis, in_vicinity in zip(point_index, all_in_vicinity)\n",
    "#     ]\n",
    "#     for point_index in eval_index\n",
    "# ]"
   ]
  },
  {
   "cell_type": "code",
   "execution_count": null,
   "metadata": {},
   "outputs": [],
   "source": [
    "# [\n",
    "#     i for i in eval_index\n",
    "# ]"
   ]
  },
  {
   "cell_type": "code",
   "execution_count": null,
   "metadata": {},
   "outputs": [],
   "source": [
    "# all_in_vicinity[0]"
   ]
  },
  {
   "cell_type": "code",
   "execution_count": null,
   "metadata": {},
   "outputs": [],
   "source": [
    "# all_in_vicinity[1]"
   ]
  },
  {
   "cell_type": "code",
   "execution_count": null,
   "metadata": {},
   "outputs": [],
   "source": [
    "# all_in_vicinity[2]"
   ]
  },
  {
   "cell_type": "code",
   "execution_count": null,
   "metadata": {},
   "outputs": [],
   "source": [
    "# coord_diffs"
   ]
  },
  {
   "cell_type": "code",
   "execution_count": null,
   "metadata": {},
   "outputs": [],
   "source": [
    "coord_diffs = [\n",
    "    coord_ref[:,None] - coord_eval[None,:]\n",
    "    for coord_ref, coord_eval in zip(coords_reference, coords_evaluation)\n",
    "]\n",
    "\n",
    "all_in_vicinity = [\n",
    "    np.where(np.abs(diff) < distance_mm_threshold)\n",
    "    for diff in coord_diffs\n",
    "]\n",
    "\n",
    "coord_comparison_in_vicinity = [\n",
    "    (coord_ref[in_vicinity[0]], coord_eval[in_vicinity[1]])\n",
    "    for coord_ref, coord_eval, in_vicinity\n",
    "    in zip(coords_reference, coords_evaluation, all_in_vicinity)\n",
    "]\n",
    "\n",
    "# dose_comparison_in_vicinity = [\n",
    "#     (dose_ref[in_vicinity[0]], dose_eval[in_vicinity[1]])\n",
    "#     for dose_ref, dose_eval, in_vicinity\n",
    "#     in zip(dose_reference, dose_evaluation, all_in_vicinity)\n",
    "# ]\n",
    "\n",
    "# coords_reference[0][np.where(in_vicinity[0])[0]]"
   ]
  },
  {
   "cell_type": "code",
   "execution_count": null,
   "metadata": {},
   "outputs": [],
   "source": [
    "def create_point_combination(coords):\n",
    "    mesh_index = np.meshgrid(*coords)\n",
    "    point_combination = np.reshape(np.array(mesh_index), (3,-1))\n",
    "    \n",
    "    return point_combination"
   ]
  },
  {
   "cell_type": "code",
   "execution_count": null,
   "metadata": {},
   "outputs": [],
   "source": [
    "# mesh_index = np.meshgrid(*[\n",
    "#     np.arange(len(coord_eval))\n",
    "#     for coord_eval in coords_evaluation\n",
    "# ])\n",
    "\n",
    "# eval_index = np.reshape(np.array(mesh_index), (3,-1))\n",
    "# eval_index"
   ]
  },
  {
   "cell_type": "code",
   "execution_count": null,
   "metadata": {},
   "outputs": [],
   "source": [
    "ref_coord_points = create_point_combination([\n",
    "    in_vicinity[0] for in_vicinity in all_in_vicinity\n",
    "])\n",
    "\n",
    "eval_coord_points = create_point_combination([\n",
    "    in_vicinity[1] for in_vicinity in all_in_vicinity\n",
    "])\n",
    "\n",
    "distances = np.sqrt(np.sum([\n",
    "    coord_diff[ref_points, eval_points]**2\n",
    "    for ref_points, eval_points, coord_diff\n",
    "    in zip(ref_coord_points, eval_coord_points, coord_diffs)\n",
    "], axis=0))\n",
    "\n",
    "within_distance_threshold = distances < distance_mm_threshold\n",
    "\n",
    "distances = distances[within_distance_threshold]\n",
    "ref_coord_points = ref_coord_points[:, within_distance_threshold]\n",
    "eval_coord_points = eval_coord_points[:, within_distance_threshold]"
   ]
  },
  {
   "cell_type": "code",
   "execution_count": null,
   "metadata": {},
   "outputs": [],
   "source": [
    "dose_diff = (\n",
    "    dose_evaluation[\n",
    "        eval_coord_points[0,:], eval_coord_points[1,:], eval_coord_points[2,:]\n",
    "    ] - \n",
    "    dose_reference[\n",
    "        ref_coord_points[0,:], ref_coord_points[1,:], ref_coord_points[2,:]\n",
    "    ]\n",
    ")"
   ]
  },
  {
   "cell_type": "code",
   "execution_count": null,
   "metadata": {},
   "outputs": [],
   "source": [
    "# plt.plot(dose_diff)"
   ]
  },
  {
   "cell_type": "code",
   "execution_count": null,
   "metadata": {},
   "outputs": [],
   "source": [
    "gamma = np.sqrt((dose_diff / dose_threshold)**2 + (distances / distance_mm_threshold)**2)"
   ]
  },
  {
   "cell_type": "code",
   "execution_count": null,
   "metadata": {},
   "outputs": [],
   "source": [
    "# plt.plot(gamma)"
   ]
  },
  {
   "cell_type": "code",
   "execution_count": null,
   "metadata": {},
   "outputs": [],
   "source": [
    "# plt.plot(distances)"
   ]
  },
  {
   "cell_type": "code",
   "execution_count": null,
   "metadata": {},
   "outputs": [],
   "source": []
  },
  {
   "cell_type": "code",
   "execution_count": null,
   "metadata": {},
   "outputs": [],
   "source": [
    "gamma_pass = gamma < 1\n",
    "eval_pass = eval_coord_points[:, gamma_pass]"
   ]
  },
  {
   "cell_type": "code",
   "execution_count": null,
   "metadata": {},
   "outputs": [],
   "source": [
    "np.shape(eval_pass)"
   ]
  },
  {
   "cell_type": "code",
   "execution_count": null,
   "metadata": {},
   "outputs": [],
   "source": [
    "eval_pass"
   ]
  },
  {
   "cell_type": "code",
   "execution_count": null,
   "metadata": {},
   "outputs": [],
   "source": []
  },
  {
   "cell_type": "code",
   "execution_count": null,
   "metadata": {},
   "outputs": [],
   "source": [
    "# gamma_pass_array"
   ]
  },
  {
   "cell_type": "code",
   "execution_count": null,
   "metadata": {},
   "outputs": [],
   "source": [
    "# np.mean(gamma_pass_array)"
   ]
  },
  {
   "cell_type": "code",
   "execution_count": null,
   "metadata": {},
   "outputs": [],
   "source": []
  },
  {
   "cell_type": "code",
   "execution_count": null,
   "metadata": {},
   "outputs": [],
   "source": [
    "np.shape(eval_coord_points)"
   ]
  },
  {
   "cell_type": "code",
   "execution_count": null,
   "metadata": {},
   "outputs": [],
   "source": [
    "mesh_index = np.meshgrid(*[\n",
    "    np.arange(len(coord_eval))\n",
    "    for coord_eval in coords_evaluation\n",
    "])\n",
    "\n",
    "eval_index = np.reshape(np.array(mesh_index), (3,-1))\n",
    "np.shape(eval_index)"
   ]
  },
  {
   "cell_type": "code",
   "execution_count": null,
   "metadata": {},
   "outputs": [],
   "source": [
    "\n",
    "\n",
    "# convert_to_ravel_index(eval_index)\n",
    "\n",
    "# np.mean(np.arange(np.shape(eval_index)[1]) == convert_to_ravel_index(eval_index))"
   ]
  },
  {
   "cell_type": "code",
   "execution_count": null,
   "metadata": {},
   "outputs": [],
   "source": [
    "# ravel_index"
   ]
  },
  {
   "cell_type": "code",
   "execution_count": null,
   "metadata": {},
   "outputs": [],
   "source": [
    "[0,1,2]\n",
    "[0,2,1]\n",
    "[1,0,2]\n",
    "[1,2,0]\n",
    "[2,0,1]\n",
    "[2,1,0]"
   ]
  },
  {
   "cell_type": "code",
   "execution_count": null,
   "metadata": {},
   "outputs": [],
   "source": [
    "def convert_to_ravel_index(points):\n",
    "    ravel_index = (\n",
    "        points[2,:] + \n",
    "        (points[2,-1] + 1) * points[1,:] + \n",
    "        (points[2,-1] + 1) * (points[1,-1] + 1) * points[0,:])\n",
    "    \n",
    "    return ravel_index\n",
    "\n",
    "\n",
    "ravel_index = convert_to_ravel_index(eval_pass)\n",
    "gamma_pass_array = np.zeros_like(dose_evaluation).astype(np.bool)\n",
    "\n",
    "gamma_pass_array = np.ravel(gamma_pass_array)\n",
    "dose_above_cut_off = np.ravel(dose_evaluation) > lower_dose_cutoff\n",
    "\n",
    "gamma_pass_array[ravel_index] = True\n",
    "\n",
    "print(np.mean(gamma_pass_array[dose_above_cut_off]))\n",
    "\n",
    "gamma_pass_array = np.reshape(gamma_pass_array, np.shape(dose_evaluation))\n",
    "\n",
    "index = 60\n",
    "plt.figure()\n",
    "plt.pcolormesh(gamma_pass_array[index,:,:])\n",
    "\n",
    "plt.figure()\n",
    "plt.pcolormesh(dose_evaluation[index,:,:] > lower_dose_cutoff)\n",
    "\n",
    "plt.figure()\n",
    "plt.pcolormesh(dose_evaluation[index,:,:])\n",
    "\n",
    "plt.figure()\n",
    "plt.pcolormesh(dose_reference[index,:,:])"
   ]
  },
  {
   "cell_type": "code",
   "execution_count": null,
   "metadata": {},
   "outputs": [],
   "source": [
    "index = 60\n",
    "plt.figure()\n",
    "plt.pcolormesh(gamma_pass_array[index,:,:])\n",
    "\n",
    "plt.figure()\n",
    "plt.pcolormesh(dose_evaluation[index,:,:])\n",
    "\n",
    "print(coords_evaluation[0][60])\n",
    "\n",
    "plt.figure()\n",
    "plt.pcolormesh(dose_reference[index,:,:])\n",
    "\n",
    "print(coords_reference[0][60])"
   ]
  },
  {
   "cell_type": "code",
   "execution_count": null,
   "metadata": {},
   "outputs": [],
   "source": []
  },
  {
   "cell_type": "code",
   "execution_count": null,
   "metadata": {},
   "outputs": [],
   "source": [
    "np.mean(gamma_pass_array)"
   ]
  },
  {
   "cell_type": "code",
   "execution_count": null,
   "metadata": {},
   "outputs": [],
   "source": [
    "gamma_pass_array"
   ]
  }
 ],
 "metadata": {
  "kernelspec": {
   "display_name": "Python 3",
   "language": "python",
   "name": "python3"
  },
  "language_info": {
   "codemirror_mode": {
    "name": "ipython",
    "version": 3
   },
   "file_extension": ".py",
   "mimetype": "text/x-python",
   "name": "python",
   "nbconvert_exporter": "python",
   "pygments_lexer": "ipython3",
   "version": "3.6.6"
  }
 },
 "nbformat": 4,
 "nbformat_minor": 2
}
