{
 "cells": [
  {
   "cell_type": "code",
   "execution_count": null,
   "metadata": {},
   "outputs": [],
   "source": [
    "%load_ext autoreload\n",
    "%autoreload 2"
   ]
  },
  {
   "cell_type": "code",
   "execution_count": null,
   "metadata": {},
   "outputs": [],
   "source": [
    "import sys\n",
    "import os\n",
    "from glob import glob\n",
    "\n",
    "import numpy as np\n",
    "import matplotlib.pyplot as plt\n",
    "\n",
    "import pydicom\n",
    "\n",
    "from pymedphys.gamma import gamma_shell, GammaInternalFixedOptions, calculate_min_dose_difference, convert_to_percent_pass"
   ]
  },
  {
   "cell_type": "code",
   "execution_count": null,
   "metadata": {},
   "outputs": [],
   "source": [
    "DATA_DIRECTORY = \"../../../tests/data/gamma/agnew_mcgarry_images\"\n",
    "glob(DATA_DIRECTORY)"
   ]
  },
  {
   "cell_type": "code",
   "execution_count": null,
   "metadata": {},
   "outputs": [],
   "source": [
    "REF_VMAT_1mm = os.path.abspath(os.path.join(\n",
    "    DATA_DIRECTORY, 'H&N_VMAT_Reference_1mmPx.dcm'))\n",
    "EVAL_VMAT_1mm = os.path.abspath(os.path.join(\n",
    "    DATA_DIRECTORY, 'H&N_VMAT_Evaluated_1mmPx.dcm'))\n",
    "\n",
    "REF_VMAT_0_25mm = os.path.abspath(os.path.join(\n",
    "    DATA_DIRECTORY, 'H&N_VMAT_Reference_0_25mmPx.dcm'))\n",
    "EVAL_VMAT_0_25mm = os.path.abspath(os.path.join(\n",
    "    DATA_DIRECTORY, 'H&N_VMAT_Evaluated_0_25mmPx.dcm'))"
   ]
  },
  {
   "cell_type": "code",
   "execution_count": null,
   "metadata": {},
   "outputs": [],
   "source": [
    "def load_dose_from_dicom(dcm):\n",
    "    pixels = dcm.pixel_array\n",
    "    dose = pixels * dcm.DoseGridScaling\n",
    "\n",
    "    return dose\n",
    "\n",
    "\n",
    "def load_yx_from_dicom(dcm):\n",
    "    resolution = np.array(\n",
    "        dcm.PixelSpacing).astype(float)\n",
    "    dx = resolution[0]\n",
    "    x = (\n",
    "        dcm.ImagePositionPatient[0] +\n",
    "        np.arange(0, dcm.Columns * dx, dx))\n",
    "\n",
    "    dy = resolution[1]\n",
    "    y = (\n",
    "        dcm.ImagePositionPatient[1] +\n",
    "        np.arange(0, dcm.Rows * dy, dy))\n",
    "\n",
    "    return y, x"
   ]
  },
  {
   "cell_type": "code",
   "execution_count": null,
   "metadata": {},
   "outputs": [],
   "source": [
    "dcm_ref = pydicom.read_file(REF_VMAT_0_25mm)\n",
    "dcm_eval = pydicom.read_file(EVAL_VMAT_0_25mm)\n",
    "\n",
    "coords_reference = load_yx_from_dicom(dcm_ref)\n",
    "dose_reference = load_dose_from_dicom(dcm_ref)\n",
    "\n",
    "coords_evaluation = load_yx_from_dicom(dcm_eval)\n",
    "dose_evaluation = load_dose_from_dicom(dcm_eval)"
   ]
  },
  {
   "cell_type": "code",
   "execution_count": null,
   "metadata": {},
   "outputs": [],
   "source": []
  },
  {
   "cell_type": "code",
   "execution_count": null,
   "metadata": {},
   "outputs": [],
   "source": [
    "%%timeit\n",
    "\n",
    "dose_thresholds = 0.5\n",
    "distance_thresholds = 0.5\n",
    "\n",
    "gamma = gamma_shell(\n",
    "    coords_reference, dose_reference,\n",
    "    coords_evaluation, dose_evaluation,\n",
    "    dose_thresholds, distance_thresholds, \n",
    "    max_gamma=1.0001, skip_once_passed=True, quiet=True)"
   ]
  },
  {
   "cell_type": "code",
   "execution_count": null,
   "metadata": {},
   "outputs": [],
   "source": [
    "dose_thresholds = np.arange(0.5,3,0.2)\n",
    "distance_thresholds = np.arange(0.5,4,0.2)\n",
    "\n",
    "print(\"Num Gamma threshold combos = {}\".format(len(dose_thresholds) * len(distance_thresholds)))"
   ]
  },
  {
   "cell_type": "code",
   "execution_count": null,
   "metadata": {},
   "outputs": [],
   "source": [
    "%%timeit\n",
    "\n",
    "gamma = gamma_shell(\n",
    "    coords_reference, dose_reference,\n",
    "    coords_evaluation, dose_evaluation,\n",
    "    dose_thresholds, distance_thresholds, \n",
    "    max_gamma=1.0001, skip_once_passed=True)"
   ]
  },
  {
   "cell_type": "code",
   "execution_count": null,
   "metadata": {},
   "outputs": [],
   "source": [
    "gamma = gamma_shell(\n",
    "    coords_reference, dose_reference,\n",
    "    coords_evaluation, dose_evaluation,\n",
    "    [1, 0.2], [1, 4], \n",
    "    max_gamma=1.1, skip_once_passed=True, local_gamma=True, quiet=True, interp_fraction=10)\n",
    "\n",
    "baseline = {\n",
    "    (1, 1): 96.9,\n",
    "    (1, 4): 99.9,\n",
    "    (0.2, 1): 91.8,\n",
    "    (0.2, 4): 99.6\n",
    "}\n",
    "\n",
    "for key, value in gamma.items():\n",
    "    print(baseline[key])\n",
    "    print(convert_to_percent_pass(value))"
   ]
  },
  {
   "cell_type": "code",
   "execution_count": null,
   "metadata": {},
   "outputs": [],
   "source": [
    "8.861 / 0.122"
   ]
  },
  {
   "cell_type": "code",
   "execution_count": null,
   "metadata": {},
   "outputs": [],
   "source": [
    "def to_be_profiled():\n",
    "    gamma_shell(\n",
    "        coords_reference, dose_reference,\n",
    "        coords_evaluation, dose_evaluation,\n",
    "        dose_thresholds, distance_thresholds, \n",
    "        max_gamma=1.0001, skip_once_passed=True, quiet=True)\n",
    "    \n",
    "%prun to_be_profiled()"
   ]
  },
  {
   "cell_type": "code",
   "execution_count": null,
   "metadata": {},
   "outputs": [],
   "source": [
    "# gamma = gamma_shell(\n",
    "#     coords_reference, dose_reference,\n",
    "#     coords_evaluation, dose_evaluation,\n",
    "#     dose_thresholds, distance_thresholds, \n",
    "#     max_gamma=1.0001, skip_once_passed=True, quiet=True)"
   ]
  },
  {
   "cell_type": "code",
   "execution_count": null,
   "metadata": {},
   "outputs": [],
   "source": [
    "9.76 / 0.745"
   ]
  },
  {
   "cell_type": "code",
   "execution_count": null,
   "metadata": {},
   "outputs": [],
   "source": [
    "pass_rates = []\n",
    "\n",
    "for key, value in gamma.items():\n",
    "    pass_rates.append(convert_to_percent_pass(value))\n",
    "    \n",
    "pass_rates = np.reshape(pass_rates, (len(dose_thresholds), len(distance_thresholds)))\n",
    "    \n",
    "plt.contourf(distance_thresholds, dose_thresholds, pass_rates, 100, vmin=90, vmax=100, cmap='coolwarm_r')\n",
    "\n",
    "plt.title('Gamma pass-rate space')\n",
    "plt.xlabel('Distance Threshold (mm)')\n",
    "plt.ylabel('Dose Threshold (%)')\n",
    "plt.colorbar(label='Gamma pass rate (gamma <= 1)')"
   ]
  },
  {
   "cell_type": "code",
   "execution_count": null,
   "metadata": {},
   "outputs": [],
   "source": []
  },
  {
   "cell_type": "code",
   "execution_count": null,
   "metadata": {},
   "outputs": [],
   "source": []
  },
  {
   "cell_type": "code",
   "execution_count": null,
   "metadata": {},
   "outputs": [],
   "source": []
  },
  {
   "cell_type": "code",
   "execution_count": null,
   "metadata": {},
   "outputs": [],
   "source": [
    "def get_dummy_gamma_set():\n",
    "    grid_x = np.arange(0, 1, 0.1)\n",
    "    grid_y = np.arange(0, 1.2, 0.1)\n",
    "    grid_z = np.arange(0, 1.4, 0.1)\n",
    "    dimensions = (len(grid_x), len(grid_y), len(grid_z))\n",
    "    coords = (grid_x, grid_y, grid_z)\n",
    "\n",
    "    reference = np.zeros(dimensions)\n",
    "    reference[3:-2:, 4:-2:, 5:-2:] = 1.015\n",
    "\n",
    "    evaluation = np.zeros(dimensions)\n",
    "    evaluation[2:-2:, 2:-2:, 2:-2:] = 1\n",
    "\n",
    "    expected_gamma = np.zeros(dimensions)\n",
    "    expected_gamma[2:-2:, 2:-2:, 2:-2:] = 0.4\n",
    "    expected_gamma[3:-3:, 3:-3:, 3:-3:] = 0.7\n",
    "    expected_gamma[4:-4:, 4:-4:, 4:-4:] = 1\n",
    "    expected_gamma[3:-2:, 4:-2:, 5:-2:] = 0.5\n",
    "\n",
    "    return coords, reference, evaluation, expected_gamma"
   ]
  },
  {
   "cell_type": "code",
   "execution_count": null,
   "metadata": {},
   "outputs": [],
   "source": [
    "def test_regression_of_gamma_3d():\n",
    "    \"\"\"Test for changes in expected 3D gamma.\"\"\"\n",
    "    coords, reference, evaluation, expected_gamma = get_dummy_gamma_set()\n",
    "\n",
    "    dose_thresholds = np.arange(1,3,0.5)\n",
    "    distance_thresholds = np.arange(0.1,0.35,0.05)\n",
    "    \n",
    "    gamma3d = gamma_shell(\n",
    "        coords, reference,\n",
    "        coords, evaluation,\n",
    "        dose_thresholds, distance_thresholds, lower_percent_dose_cutoff=0, quiet=True)\n",
    "\n",
    "#     assert np.all(expected_gamma == gamma3d)"
   ]
  },
  {
   "cell_type": "code",
   "execution_count": null,
   "metadata": {},
   "outputs": [],
   "source": [
    "%prun test_regression_of_gamma_3d()"
   ]
  },
  {
   "cell_type": "code",
   "execution_count": null,
   "metadata": {},
   "outputs": [],
   "source": []
  }
 ],
 "metadata": {
  "kernelspec": {
   "display_name": "Python 3",
   "language": "python",
   "name": "python3"
  },
  "language_info": {
   "codemirror_mode": {
    "name": "ipython",
    "version": 3
   },
   "file_extension": ".py",
   "mimetype": "text/x-python",
   "name": "python",
   "nbconvert_exporter": "python",
   "pygments_lexer": "ipython3",
   "version": "3.7.1"
  }
 },
 "nbformat": 4,
 "nbformat_minor": 2
}
