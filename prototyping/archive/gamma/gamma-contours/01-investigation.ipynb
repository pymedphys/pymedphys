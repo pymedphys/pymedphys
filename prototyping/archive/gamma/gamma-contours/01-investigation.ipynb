{
 "cells": [
  {
   "cell_type": "code",
   "execution_count": null,
   "metadata": {},
   "outputs": [],
   "source": [
    "import sys\n",
    "import numpy as np\n",
    "\n",
    "import matplotlib.pyplot as plt\n",
    "\n",
    "from pymedphys.gamma import GammaInternalFixedOptions, calculate_min_dose_difference, convert_to_percent_pass"
   ]
  },
  {
   "cell_type": "code",
   "execution_count": null,
   "metadata": {},
   "outputs": [],
   "source": [
    "def get_dummy_gamma_set():\n",
    "    grid_x = np.arange(0, 1, 0.1)\n",
    "    grid_y = np.arange(0, 1.2, 0.1)\n",
    "    grid_z = np.arange(0, 1.4, 0.1)\n",
    "    dimensions = (len(grid_x), len(grid_y), len(grid_z))\n",
    "    coords = (grid_x, grid_y, grid_z)\n",
    "\n",
    "    reference = np.zeros(dimensions)\n",
    "    reference[3:-2:, 4:-2:, 5:-2:] = 1.015\n",
    "\n",
    "    evaluation = np.zeros(dimensions)\n",
    "    evaluation[2:-2:, 2:-2:, 2:-2:] = 1\n",
    "\n",
    "    expected_gamma = np.zeros(dimensions)\n",
    "    expected_gamma[2:-2:, 2:-2:, 2:-2:] = 0.4\n",
    "    expected_gamma[3:-3:, 3:-3:, 3:-3:] = 0.7\n",
    "    expected_gamma[4:-4:, 4:-4:, 4:-4:] = 1\n",
    "    expected_gamma[3:-2:, 4:-2:, 5:-2:] = 0.5\n",
    "\n",
    "    return coords, reference, evaluation, expected_gamma\n",
    "\n",
    "\n",
    "coords, reference, evaluation, _ = get_dummy_gamma_set()"
   ]
  },
  {
   "cell_type": "code",
   "execution_count": null,
   "metadata": {},
   "outputs": [],
   "source": []
  },
  {
   "cell_type": "code",
   "execution_count": null,
   "metadata": {},
   "outputs": [],
   "source": []
  },
  {
   "cell_type": "code",
   "execution_count": null,
   "metadata": {},
   "outputs": [],
   "source": [
    "def calc_gamma_for_case(distance, threshold_ratio):\n",
    "    options = GammaInternalFixedOptions.from_user_inputs(\n",
    "        coords, reference,\n",
    "        coords, evaluation,\n",
    "        distance * threshold_ratio, distance, lower_percent_dose_cutoff=0, quiet=True\n",
    "    )\n",
    "\n",
    "    still_searching_for_gamma = np.ones_like(\n",
    "        options.flat_dose_reference).astype(bool)\n",
    "    current_gamma = np.inf * np.ones_like(options.flat_dose_reference)\n",
    "    distance = 0.0\n",
    "\n",
    "    while distance <= options.maximum_test_distance:\n",
    "        to_be_checked = (\n",
    "            options.reference_points_to_calc & still_searching_for_gamma)\n",
    "\n",
    "        min_relative_dose_difference = calculate_min_dose_difference(\n",
    "            options, distance, to_be_checked)\n",
    "\n",
    "        gamma_at_distance = np.sqrt(\n",
    "            (min_relative_dose_difference /\n",
    "             (options.dose_percent_threshold / 100)) ** 2\n",
    "            + (distance / options.distance_mm_threshold) ** 2)\n",
    "\n",
    "        current_gamma[to_be_checked] = np.min(\n",
    "            np.vstack((\n",
    "                gamma_at_distance, current_gamma[to_be_checked]\n",
    "            )), axis=0)\n",
    "\n",
    "        still_searching_for_gamma = (\n",
    "            current_gamma > distance / options.distance_mm_threshold)\n",
    "\n",
    "        if options.skip_once_passed:\n",
    "            still_searching_for_gamma = (\n",
    "                still_searching_for_gamma & (current_gamma >= 1))\n",
    "\n",
    "        distance += options.distance_step_size\n",
    "\n",
    "        if np.sum(to_be_checked) == 0:\n",
    "            break\n",
    "\n",
    "    gamma = np.reshape(\n",
    "        current_gamma, np.shape(reference))\n",
    "    gamma[np.isinf(gamma)] = np.nan\n",
    "    \n",
    "    return gamma"
   ]
  },
  {
   "cell_type": "code",
   "execution_count": null,
   "metadata": {},
   "outputs": [],
   "source": []
  },
  {
   "cell_type": "code",
   "execution_count": null,
   "metadata": {},
   "outputs": [],
   "source": [
    "base_dist = 0.3\n",
    "threshold_ratios = np.arange(1,7)\n",
    "\n",
    "gamma_store = {}\n",
    "for ratio in threshold_ratios:\n",
    "    gamma = calc_gamma_for_case(base_dist, ratio)\n",
    "    gamma_store[ratio] = gamma\n",
    "\n",
    "\n",
    "\n",
    "# convert_to_percent_pass\n"
   ]
  },
  {
   "cell_type": "code",
   "execution_count": null,
   "metadata": {},
   "outputs": [],
   "source": [
    "# convert_to_percent_pass(gamma_store[5])"
   ]
  },
  {
   "cell_type": "code",
   "execution_count": null,
   "metadata": {},
   "outputs": [],
   "source": [
    "gamma_scaling = np.arange(1, 5, 0.1)\n",
    "\n",
    "distance_thresholds = []\n",
    "dose_thresholds = []\n",
    "pass_rates = []\n",
    "\n",
    "for scale in gamma_scaling:\n",
    "    for threshold_ratio, gamma in gamma_store.items():\n",
    "        pass_rates.append(convert_to_percent_pass(gamma_store[threshold_ratio] / scale))\n",
    "        distance_thresholds.append(base_dist * scale)\n",
    "        dose_thresholds.append(distance_thresholds[-1] * threshold_ratio)\n",
    "        \n",
    "\n",
    "plt.scatter(distance_thresholds, dose_thresholds, c=pass_rates, vmin=90, vmax=100, cmap='coolwarm_r')\n",
    "plt.colorbar()\n",
    "plt.xlim([0.3, 1.5])\n",
    "plt.ylim([0.2, 3])\n",
    "\n",
    "plt.xlabel('Distance Threshold')\n",
    "plt.ylabel('Dose Threshold')\n",
    "\n"
   ]
  },
  {
   "cell_type": "code",
   "execution_count": null,
   "metadata": {},
   "outputs": [],
   "source": [
    "# pass_rates"
   ]
  },
  {
   "cell_type": "code",
   "execution_count": null,
   "metadata": {},
   "outputs": [],
   "source": [
    "dose_thresholds"
   ]
  },
  {
   "cell_type": "code",
   "execution_count": null,
   "metadata": {},
   "outputs": [],
   "source": [
    "plt.contourf(threshold_ratios, )"
   ]
  },
  {
   "cell_type": "code",
   "execution_count": null,
   "metadata": {},
   "outputs": [],
   "source": []
  },
  {
   "cell_type": "code",
   "execution_count": null,
   "metadata": {},
   "outputs": [],
   "source": []
  },
  {
   "cell_type": "code",
   "execution_count": null,
   "metadata": {},
   "outputs": [],
   "source": [
    "plt.pcolormesh(gamma[5,:,:])\n",
    "plt.colorbar()"
   ]
  },
  {
   "cell_type": "code",
   "execution_count": null,
   "metadata": {},
   "outputs": [],
   "source": []
  }
 ],
 "metadata": {
  "kernelspec": {
   "display_name": "Python 3",
   "language": "python",
   "name": "python3"
  },
  "language_info": {
   "codemirror_mode": {
    "name": "ipython",
    "version": 3
   },
   "file_extension": ".py",
   "mimetype": "text/x-python",
   "name": "python",
   "nbconvert_exporter": "python",
   "pygments_lexer": "ipython3",
   "version": "3.7.1"
  }
 },
 "nbformat": 4,
 "nbformat_minor": 2
}
