{
 "cells": [
  {
   "cell_type": "code",
   "execution_count": null,
   "metadata": {},
   "outputs": [],
   "source": [
    "%load_ext autoreload\n",
    "%autoreload 2"
   ]
  },
  {
   "cell_type": "code",
   "execution_count": null,
   "metadata": {},
   "outputs": [],
   "source": [
    "import psutil"
   ]
  },
  {
   "cell_type": "code",
   "execution_count": null,
   "metadata": {},
   "outputs": [],
   "source": [
    "memory = psutil.virtual_memory()\n",
    "memory.total"
   ]
  },
  {
   "cell_type": "code",
   "execution_count": null,
   "metadata": {},
   "outputs": [],
   "source": [
    "16759816192 / 1000 / 1000 / 1000"
   ]
  },
  {
   "cell_type": "code",
   "execution_count": null,
   "metadata": {},
   "outputs": [],
   "source": [
    "import re\n",
    "from glob import glob\n",
    "\n",
    "from IPython.display import display\n",
    "\n",
    "from itertools import product"
   ]
  },
  {
   "cell_type": "code",
   "execution_count": null,
   "metadata": {},
   "outputs": [],
   "source": [
    "import numpy as np\n",
    "import pandas as pd\n",
    "import matplotlib.pyplot as plt\n",
    "\n",
    "from scipy.interpolate import RegularGridInterpolator\n",
    "\n",
    "from pymedphys.dicom import coords_and_dose_from_dcm\n",
    "from pymedphys.gamma import gamma_percent_pass"
   ]
  },
  {
   "cell_type": "code",
   "execution_count": null,
   "metadata": {},
   "outputs": [],
   "source": [
    "# x and y labels within this notebook are likely wrong"
   ]
  },
  {
   "cell_type": "code",
   "execution_count": null,
   "metadata": {},
   "outputs": [],
   "source": [
    "lower_percent_dose_cutoff = 20"
   ]
  },
  {
   "cell_type": "code",
   "execution_count": null,
   "metadata": {},
   "outputs": [],
   "source": [
    "gamma_base_options = {\n",
    "    'dose_percent_threshold': 3,\n",
    "    'distance_mm_threshold': 3,\n",
    "    'interp_fraction': 10,\n",
    "    'max_gamma': 1.1,\n",
    "    'lower_percent_dose_cutoff': lower_percent_dose_cutoff,\n",
    "    'skip_once_passed': True\n",
    "}"
   ]
  },
  {
   "cell_type": "code",
   "execution_count": null,
   "metadata": {},
   "outputs": [],
   "source": [
    "ids = [6283, 1871, 5062]\n",
    "# tps = ['Ecl', 'Pin']\n",
    "# options = ['', '-masked']"
   ]
  },
  {
   "cell_type": "code",
   "execution_count": null,
   "metadata": {},
   "outputs": [],
   "source": [
    "def get_filename(an_id, a_tps, an_option):\n",
    "    return 'RD.{0}_{1}{2}.dcm'.format(an_id, a_tps, an_option)\n",
    "\n",
    "\n",
    "def get_filepath(an_id, a_tps, an_option):\n",
    "    filename = get_filename(an_id, a_tps, an_option)\n",
    "    return '/home/simon/Dropbox/Shared/MedPhysData/{}/{}'.format(an_id, filename)"
   ]
  },
  {
   "cell_type": "code",
   "execution_count": null,
   "metadata": {},
   "outputs": [],
   "source": [
    "combos = np.concatenate([\n",
    "    [((an_id, 'Pin', ''), (an_id, 'Ecl', ''),),\n",
    "    ((an_id, 'Pin', ''), (an_id, 'Ecl', '-masked'),),\n",
    "    ((an_id, 'Pin', '-masked'), (an_id, 'Ecl', '-masked'),)]\n",
    "    for an_id in ids\n",
    "])\n",
    "\n",
    "combos"
   ]
  },
  {
   "cell_type": "code",
   "execution_count": null,
   "metadata": {},
   "outputs": [],
   "source": [
    "def get_comparison_files(compare_array):\n",
    "    evaluate = get_filepath(*compare_array[0])\n",
    "    reference = get_filepath(*compare_array[1])\n",
    "    \n",
    "    return evaluate, reference\n",
    "\n",
    "\n",
    "get_comparison_files(combos[0])"
   ]
  },
  {
   "cell_type": "code",
   "execution_count": null,
   "metadata": {},
   "outputs": [],
   "source": [
    "columns=[\n",
    "    'reference',\n",
    "    'evaluation',\n",
    "    'gamma_shell_local_gamma_no_mask_evaluation',\n",
    "    'gamma_shell_local_gamma_mask_evaluation',\n",
    "    'gamma_shell_no_mask_evaluation',\n",
    "    'gamma_shell_with_mask_evaluation'\n",
    "]\n",
    "\n",
    "df = pd.DataFrame(\n",
    "    columns=columns\n",
    ")\n",
    "\n",
    "\n",
    "row = pd.Series(\n",
    "    index=columns,\n",
    "    data=[None,]*6\n",
    ")\n",
    "# df.append(row, ignore_index=True)\n",
    "row\n",
    "row['reference'] = 'a'\n",
    "\n",
    "row\n",
    "\n",
    "df.append(row, ignore_index=True)"
   ]
  },
  {
   "cell_type": "code",
   "execution_count": null,
   "metadata": {},
   "outputs": [],
   "source": [
    "options_map = {\n",
    "    'gamma_shell_local_gamma_no_mask_evaluation': {\n",
    "        'method': 'shell',\n",
    "        'mask_evaluation': False,\n",
    "        'local_gamma': True\n",
    "    },\n",
    "    'gamma_shell_local_gamma_mask_evaluation': {\n",
    "        'method': 'shell',\n",
    "        'mask_evaluation': True,\n",
    "        'local_gamma': True\n",
    "    },\n",
    "    'gamma_shell_no_mask_evaluation': {\n",
    "        'method': 'shell',\n",
    "        'mask_evaluation': False,\n",
    "        'local_gamma': False\n",
    "    },\n",
    "    'gamma_shell_with_mask_evaluation': {\n",
    "        'method': 'shell',\n",
    "        'mask_evaluation': True,\n",
    "        'local_gamma': False\n",
    "    }\n",
    "}\n",
    "\n",
    "def get_options(combo, column_name):\n",
    "    filepath_compare = get_comparison_files(combo)\n",
    "    \n",
    "    return {\n",
    "        **gamma_base_options, \n",
    "        **{\n",
    "            'dcm_ref_filepath': filepath_compare[1],\n",
    "            'dcm_eval_filepath': filepath_compare[0],\n",
    "        },\n",
    "        **options_map[column_name]\n",
    "    }"
   ]
  },
  {
   "cell_type": "code",
   "execution_count": null,
   "metadata": {},
   "outputs": [],
   "source": [
    "df = pd.DataFrame(\n",
    "    columns=columns\n",
    ")\n",
    "\n",
    "for combo in combos:\n",
    "    row = pd.Series(\n",
    "        index=columns,\n",
    "        data=[None,]*6\n",
    "    )\n",
    "    row['reference'] = get_filename(*combo[1])\n",
    "    row['evaluation'] = get_filename(*combo[0])\n",
    "    \n",
    "    for column_name in options_map:\n",
    "        gamma_options = get_options(combo, column_name)\n",
    "        print('Calcing {}'.format(column_name))\n",
    "        percent_pass = gamma_percent_pass(**gamma_options)\n",
    "        print(' | DONE') \n",
    "        \n",
    "        row[column_name] = percent_pass\n",
    "        \n",
    "        display(row)\n",
    "        \n",
    "    df = df.append(row, ignore_index=True)\n",
    "    display(df)"
   ]
  },
  {
   "cell_type": "code",
   "execution_count": null,
   "metadata": {},
   "outputs": [],
   "source": [
    "df"
   ]
  },
  {
   "cell_type": "code",
   "execution_count": null,
   "metadata": {},
   "outputs": [],
   "source": []
  },
  {
   "cell_type": "code",
   "execution_count": null,
   "metadata": {},
   "outputs": [],
   "source": []
  },
  {
   "cell_type": "code",
   "execution_count": null,
   "metadata": {},
   "outputs": [],
   "source": []
  },
  {
   "cell_type": "code",
   "execution_count": null,
   "metadata": {},
   "outputs": [],
   "source": []
  }
 ],
 "metadata": {
  "kernelspec": {
   "display_name": "Python 3",
   "language": "python",
   "name": "python3"
  },
  "language_info": {
   "codemirror_mode": {
    "name": "ipython",
    "version": 3
   },
   "file_extension": ".py",
   "mimetype": "text/x-python",
   "name": "python",
   "nbconvert_exporter": "python",
   "pygments_lexer": "ipython3",
   "version": "3.6.6"
  }
 },
 "nbformat": 4,
 "nbformat_minor": 2
}
