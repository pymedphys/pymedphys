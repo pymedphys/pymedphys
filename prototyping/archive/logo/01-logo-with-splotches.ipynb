{
 "cells": [
  {
   "cell_type": "code",
   "execution_count": null,
   "metadata": {},
   "outputs": [],
   "source": [
    "import random\n",
    "\n",
    "import numpy as np\n",
    "import matplotlib.pyplot as plt\n",
    "%matplotlib inline\n",
    "\n",
    "import shapely.geometry as geo\n",
    "import shapely.affinity as aff\n",
    "from descartes.patch import PolygonPatch"
   ]
  },
  {
   "cell_type": "code",
   "execution_count": null,
   "metadata": {},
   "outputs": [],
   "source": [
    "random.seed(1618)"
   ]
  },
  {
   "cell_type": "code",
   "execution_count": null,
   "metadata": {},
   "outputs": [],
   "source": [
    "colours = plt.cm.viridis(np.linspace(0,1,10))\n",
    "golden_ratio = (1 + np.sqrt(5)) / 2"
   ]
  },
  {
   "cell_type": "code",
   "execution_count": null,
   "metadata": {},
   "outputs": [],
   "source": [
    "bound = 4\n",
    "body_buffer = 0.14\n",
    "head_buffer = body_buffer * golden_ratio\n",
    "head_stretch = 1.3\n",
    "\n",
    "expected_x_bounds = np.array([-bound - body_buffer, bound + head_buffer])\n",
    "length = np.diff(expected_x_bounds)\n",
    "height = length / golden_ratio\n",
    "desired_amplitude = height / 2 - body_buffer\n",
    "\n",
    "def snake_wave_packet(x):\n",
    "    x = np.array(x)\n",
    "    return desired_amplitude * np.exp(-x**2/2) * np.sin(2 * np.pi * x) \n",
    "\n",
    "expected_y_bounds = np.ravel([-height/2, height/2])\n",
    "\n",
    "assert np.diff(expected_x_bounds) / np.diff(expected_y_bounds) == golden_ratio"
   ]
  },
  {
   "cell_type": "code",
   "execution_count": null,
   "metadata": {},
   "outputs": [],
   "source": []
  },
  {
   "cell_type": "code",
   "execution_count": null,
   "metadata": {},
   "outputs": [],
   "source": [
    "epsilon = 0.1\n",
    "x_init = bound - head_buffer * head_stretch\n",
    "\n",
    "y_vals = snake_wave_packet([x_init, x_init + epsilon])\n",
    "ydiff = np.diff(y_vals)\n",
    "y_init = y_vals[0]\n",
    "\n",
    "head_shift = head_buffer * head_stretch\n",
    "hypot = np.sqrt(epsilon**2 + ydiff**2)\n",
    "num_shifts = head_shift / hypot\n",
    "neck_shring = 1\n",
    "\n",
    "head_angle = np.arctan(ydiff / epsilon) / np.pi * 180\n",
    "head_middle_x = x_init + epsilon * num_shifts * neck_shring\n",
    "head_middle_y = y_init + ydiff * num_shifts * neck_shring"
   ]
  },
  {
   "cell_type": "code",
   "execution_count": null,
   "metadata": {},
   "outputs": [],
   "source": [
    "tongue_length = 0.1\n",
    "tongue_buffer = 0.02\n",
    "fork_angles = 35\n",
    "\n",
    "tongue_init_x = head_middle_x + epsilon * num_shifts\n",
    "tongue_init_y = head_middle_y + ydiff * num_shifts\n",
    "\n",
    "tongue_shift_num = tongue_length / hypot\n",
    "\n",
    "tongue_shift_x = epsilon * tongue_shift_num\n",
    "tongue_shift_y = ydiff * tongue_shift_num\n",
    "\n",
    "tongue_fork_x = tongue_init_x + tongue_shift_x\n",
    "tongue_fork_y = tongue_init_y + tongue_shift_y\n",
    "\n",
    "tongue_base = geo.LineString(\n",
    "    [(tongue_init_x, tongue_init_y), (tongue_fork_x, tongue_fork_y)]\n",
    ").buffer(tongue_buffer)\n",
    "\n",
    "tongue_base\n",
    "\n",
    "tongue_top_fork = aff.rotate(tongue_base, fork_angles, origin=(tongue_init_x, tongue_init_y))\n",
    "tongue_top_fork = aff.translate(tongue_top_fork, tongue_shift_x, tongue_shift_y)\n",
    "\n",
    "tongue_bot_fork = aff.rotate(tongue_base, -fork_angles, origin=(tongue_init_x, tongue_init_y))\n",
    "tongue_bot_fork = aff.translate(tongue_bot_fork, tongue_shift_x, tongue_shift_y)\n",
    "\n",
    "\n",
    "tongue = tongue_base.union(tongue_top_fork).union(tongue_bot_fork)\n",
    "tongue"
   ]
  },
  {
   "cell_type": "code",
   "execution_count": null,
   "metadata": {},
   "outputs": [],
   "source": []
  },
  {
   "cell_type": "code",
   "execution_count": null,
   "metadata": {},
   "outputs": [],
   "source": [
    "# head_angle"
   ]
  },
  {
   "cell_type": "code",
   "execution_count": null,
   "metadata": {},
   "outputs": [],
   "source": [
    "# ydiff"
   ]
  },
  {
   "cell_type": "code",
   "execution_count": null,
   "metadata": {},
   "outputs": [],
   "source": [
    "# np.arctan(ydiff / epsilon) / np.pi * 180"
   ]
  },
  {
   "cell_type": "code",
   "execution_count": null,
   "metadata": {},
   "outputs": [],
   "source": [
    "point = geo.Point(head_middle_x, head_middle_y)\n",
    "head = point.buffer(head_buffer)\n",
    "head = aff.scale(head, head_stretch, 1, origin=point)\n",
    "head = aff.rotate(head, head_angle, origin=point)\n",
    "head = head.union(tongue)\n",
    "\n",
    "head"
   ]
  },
  {
   "cell_type": "code",
   "execution_count": null,
   "metadata": {},
   "outputs": [],
   "source": [
    "x = np.linspace(-bound, x_init, 1000)\n",
    "y = snake_wave_packet(x)\n",
    "linestring = geo.LineString(zip(x, y))\n",
    "body = linestring.buffer(body_buffer)\n",
    "body"
   ]
  },
  {
   "cell_type": "code",
   "execution_count": null,
   "metadata": {},
   "outputs": [],
   "source": [
    "snake = body.union(head)\n",
    "snake"
   ]
  },
  {
   "cell_type": "code",
   "execution_count": null,
   "metadata": {},
   "outputs": [],
   "source": [
    "xmin, ymin, xmax, ymax = snake.bounds"
   ]
  },
  {
   "cell_type": "code",
   "execution_count": null,
   "metadata": {},
   "outputs": [],
   "source": [
    "def create_splotch(snake, body_buffer):\n",
    "    xmin, ymin, xmax, ymax = snake.bounds\n",
    "    x = np.random.uniform(xmin, xmax)\n",
    "    y = np.random.uniform(ymin, ymax)\n",
    "    size = np.random.uniform(body_buffer/2, body_buffer*5)\n",
    "    \n",
    "    circle = geo.Point(x, y).buffer(size)\n",
    "    \n",
    "    if circle.intersects(snake):\n",
    "        return circle.intersection(snake)\n",
    "    else:\n",
    "        return create_splotch(snake, body_buffer)"
   ]
  },
  {
   "cell_type": "code",
   "execution_count": null,
   "metadata": {},
   "outputs": [],
   "source": [
    "num_splotches = 100\n",
    "\n",
    "splotches = [\n",
    "    create_splotch(snake, body_buffer)\n",
    "    for i in range(num_splotches)\n",
    "]"
   ]
  },
  {
   "cell_type": "code",
   "execution_count": null,
   "metadata": {},
   "outputs": [],
   "source": [
    "splotches_x = np.random.uniform(xmin, xmax, size=num_splotches)\n",
    "splotches_y = np.random.uniform(ymin, ymax, size=num_splotches)\n",
    "\n",
    "splotch_size = np.random.uniform(body_buffer/10, body_buffer*2, size=num_splotches)\n",
    "\n",
    "# splotches = [\n",
    "#     geo.Point(xi, yi).buffer(size).intersection(snake) for xi, yi, size in zip(splotches_x, splotches_y, splotch_size)\n",
    "# ]\n",
    "\n",
    "splotch_colours = colours[np.random.choice(np.arange(len(colours)), size=num_splotches)]\n",
    "\n",
    "# splotch_colour"
   ]
  },
  {
   "cell_type": "code",
   "execution_count": null,
   "metadata": {},
   "outputs": [],
   "source": [
    "# splotches[2]"
   ]
  },
  {
   "cell_type": "code",
   "execution_count": null,
   "metadata": {},
   "outputs": [],
   "source": []
  },
  {
   "cell_type": "code",
   "execution_count": null,
   "metadata": {},
   "outputs": [],
   "source": []
  },
  {
   "cell_type": "code",
   "execution_count": null,
   "metadata": {},
   "outputs": [],
   "source": [
    "def plot_bounds():\n",
    "    plt.plot([expected_x_bounds[0], expected_x_bounds[1]], [expected_y_bounds[0], expected_y_bounds[0]], 'k', linewidth=0.5)\n",
    "    plt.plot([expected_x_bounds[0], expected_x_bounds[1]], [expected_y_bounds[1], expected_y_bounds[1]], 'k', linewidth=0.5)\n",
    "    \n",
    "    plt.plot([expected_x_bounds[0], expected_x_bounds[0]], [expected_y_bounds[0], expected_y_bounds[1]], 'k', linewidth=0.5)\n",
    "    plt.plot([expected_x_bounds[1], expected_x_bounds[1]], [expected_y_bounds[0], expected_y_bounds[1]], 'k', linewidth=0.5)"
   ]
  },
  {
   "cell_type": "code",
   "execution_count": null,
   "metadata": {},
   "outputs": [],
   "source": [
    "fig = plt.figure(1, figsize=(10,10), dpi=90)\n",
    "fig.set_frameon(True)\n",
    "ax = fig.add_subplot(111)\n",
    "\n",
    "patch = PolygonPatch(snake, facecolor=colours[6])\n",
    "ax.add_patch(patch)\n",
    "\n",
    "plt.xlim(-bound-1, bound+1)\n",
    "plt.ylim(-bound-1, bound+1)\n",
    "\n",
    "for splotch, splotch_colour in zip(splotches, splotch_colours):\n",
    "    patch = PolygonPatch(splotch, facecolor=splotch_colour)\n",
    "    ax.add_patch(patch)\n",
    "\n",
    "#     plot_bounds()\n",
    "\n",
    "#     plt.plot(x,y, color='white')\n",
    "\n",
    "plt.show()"
   ]
  },
  {
   "cell_type": "code",
   "execution_count": null,
   "metadata": {},
   "outputs": [],
   "source": [
    "# for colour in colours:\n",
    "#     fig = plt.figure(1, figsize=(10,10), dpi=90)\n",
    "#     fig.set_frameon(True)\n",
    "#     ax = fig.add_subplot(111)\n",
    "\n",
    "#     patch = PolygonPatch(snake, facecolor=colour)\n",
    "#     ax.add_patch(patch)\n",
    "\n",
    "#     plt.xlim(-bound-1, bound+1)\n",
    "#     plt.ylim(-bound-1, bound+1)\n",
    "    \n",
    "#     for splotch, splotch_colour in zip(splotches, splotch_colours):\n",
    "#         patch = PolygonPatch(splotch, facecolor=splotch_colour)\n",
    "#         ax.add_patch(patch)\n",
    "    \n",
    "# #     plot_bounds()\n",
    "    \n",
    "# #     plt.plot(x,y, color='white')\n",
    "    \n",
    "#     plt.show()"
   ]
  },
  {
   "cell_type": "code",
   "execution_count": null,
   "metadata": {},
   "outputs": [],
   "source": []
  },
  {
   "cell_type": "code",
   "execution_count": null,
   "metadata": {},
   "outputs": [],
   "source": []
  },
  {
   "cell_type": "code",
   "execution_count": null,
   "metadata": {},
   "outputs": [],
   "source": []
  },
  {
   "cell_type": "code",
   "execution_count": null,
   "metadata": {},
   "outputs": [],
   "source": []
  }
 ],
 "metadata": {
  "kernelspec": {
   "display_name": "Python 3",
   "language": "python",
   "name": "python3"
  },
  "language_info": {
   "codemirror_mode": {
    "name": "ipython",
    "version": 3
   },
   "file_extension": ".py",
   "mimetype": "text/x-python",
   "name": "python",
   "nbconvert_exporter": "python",
   "pygments_lexer": "ipython3",
   "version": "3.6.6"
  }
 },
 "nbformat": 4,
 "nbformat_minor": 2
}
