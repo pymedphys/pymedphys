{
 "cells": [
  {
   "cell_type": "code",
   "execution_count": null,
   "metadata": {},
   "outputs": [],
   "source": [
    "import os\n",
    "from glob import glob\n",
    "from copy import deepcopy\n",
    "\n",
    "import numpy as np\n",
    "import matplotlib.pyplot as plt\n",
    "\n",
    "import pydicom\n",
    "from pymedphys.type import Delivery\n",
    "from pymedphys.dicom import anonymise_dicom\n",
    "from pymedphys.coll import find_relevant_control_points\n",
    "from pymedphys.logfile import delivery_data_from_logfile\n",
    "from pymedphys.gamma import gamma_dcm, convert_to_percent_pass"
   ]
  },
  {
   "cell_type": "code",
   "execution_count": null,
   "metadata": {},
   "outputs": [],
   "source": [
    "data_root = r'C:\\Users\\sbiggs\\logfile2dicom'"
   ]
  },
  {
   "cell_type": "code",
   "execution_count": null,
   "metadata": {},
   "outputs": [],
   "source": [
    "logfile_dose_dicom_path = glob(os.path.join(\n",
    "    data_root, 'calced_dose', '*Logfile*.dcm'\n",
    "))[0]\n",
    "\n",
    "logfile_dose_dicom_path"
   ]
  },
  {
   "cell_type": "code",
   "execution_count": null,
   "metadata": {},
   "outputs": [],
   "source": [
    "patient_dose_dicom_path = glob(os.path.join(\n",
    "    data_root, 'calced_dose', '*BREAST*.dcm'\n",
    "))[0]\n",
    "\n",
    "patient_dose_dicom_path"
   ]
  },
  {
   "cell_type": "code",
   "execution_count": null,
   "metadata": {},
   "outputs": [],
   "source": [
    "gamma_dcm?"
   ]
  },
  {
   "cell_type": "code",
   "execution_count": null,
   "metadata": {},
   "outputs": [],
   "source": [
    "def calc_and_plot(dose_threshold, distance_threshold, random_subset=None):\n",
    "    gamma = gamma_dcm(\n",
    "        patient_dose_dicom_path, logfile_dose_dicom_path, \n",
    "        dose_threshold, distance_threshold, local_gamma=True, random_subset=random_subset)\n",
    "    \n",
    "    valid_gamma = gamma[~np.isnan(gamma)]\n",
    "\n",
    "    num_points = len(valid_gamma)\n",
    "    weights = np.ones(num_points)/num_points\n",
    "\n",
    "    plt.hist(valid_gamma, 20, weights=weights)\n",
    "    plt.title('Gamma histogram 2% / {} mm | 20% lower dose cutoff'.format(distance_threshold))\n",
    "    plt.xlabel('Local Gamma')\n",
    "    plt.ylabel('Normalised bin count')\n",
    "\n",
    "    max_x_axis = np.ceil(np.max(valid_gamma))\n",
    "\n",
    "    plt.xlim([0, max_x_axis])\n",
    "    plt.show()\n",
    "    \n",
    "    return gamma"
   ]
  },
  {
   "cell_type": "code",
   "execution_count": null,
   "metadata": {},
   "outputs": [],
   "source": [
    "gamma = []\n",
    "\n",
    "for i in range(3):\n",
    "    gamma.append(calc_and_plot(2, i + 1))\n",
    "    \n",
    "save_filepath = os.path.join(\n",
    "    data_root, 'gamma_calcs_2percent.npz'\n",
    ")\n",
    "\n",
    "gamma_dict = {\n",
    "    '1': gamma[0],\n",
    "    '2': gamma[1],\n",
    "    '3': gamma[2]\n",
    "}\n",
    "\n",
    "np.savez_compressed(save_filepath, **gamma_dict)"
   ]
  },
  {
   "cell_type": "code",
   "execution_count": null,
   "metadata": {},
   "outputs": [],
   "source": [
    "gamma = []\n",
    "\n",
    "for i in range(3):\n",
    "    gamma.append(calc_and_plot(1, i + 1))\n",
    "    \n",
    "save_filepath = os.path.join(\n",
    "    data_root, 'gamma_calcs_1percent.npz'\n",
    ")\n",
    "\n",
    "gamma_dict = {\n",
    "    '1': gamma[0],\n",
    "    '2': gamma[1],\n",
    "    '3': gamma[2]\n",
    "}\n",
    "\n",
    "np.savez_compressed(save_filepath, **gamma_dict)"
   ]
  },
  {
   "cell_type": "code",
   "execution_count": null,
   "metadata": {},
   "outputs": [],
   "source": []
  },
  {
   "cell_type": "code",
   "execution_count": null,
   "metadata": {},
   "outputs": [],
   "source": []
  },
  {
   "cell_type": "code",
   "execution_count": null,
   "metadata": {},
   "outputs": [],
   "source": []
  },
  {
   "cell_type": "code",
   "execution_count": null,
   "metadata": {},
   "outputs": [],
   "source": []
  },
  {
   "cell_type": "code",
   "execution_count": null,
   "metadata": {},
   "outputs": [],
   "source": []
  },
  {
   "cell_type": "code",
   "execution_count": null,
   "metadata": {},
   "outputs": [],
   "source": []
  },
  {
   "cell_type": "code",
   "execution_count": null,
   "metadata": {},
   "outputs": [],
   "source": []
  },
  {
   "cell_type": "code",
   "execution_count": null,
   "metadata": {},
   "outputs": [],
   "source": []
  },
  {
   "cell_type": "code",
   "execution_count": null,
   "metadata": {},
   "outputs": [],
   "source": []
  },
  {
   "cell_type": "code",
   "execution_count": null,
   "metadata": {},
   "outputs": [],
   "source": []
  }
 ],
 "metadata": {
  "kernelspec": {
   "display_name": "Python 3",
   "language": "python",
   "name": "python3"
  },
  "language_info": {
   "codemirror_mode": {
    "name": "ipython",
    "version": 3
   },
   "file_extension": ".py",
   "mimetype": "text/x-python",
   "name": "python",
   "nbconvert_exporter": "python",
   "pygments_lexer": "ipython3",
   "version": "3.7.0"
  }
 },
 "nbformat": 4,
 "nbformat_minor": 2
}
