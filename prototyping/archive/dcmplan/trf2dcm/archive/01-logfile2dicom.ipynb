{
 "cells": [
  {
   "cell_type": "code",
   "execution_count": null,
   "metadata": {},
   "outputs": [],
   "source": [
    "import os\n",
    "from copy import deepcopy\n",
    "\n",
    "import numpy as np\n",
    "\n",
    "import pydicom\n",
    "from pymedphys import Delivery\n",
    "from pymedphys.dicom import anonymise_dicom\n",
    "from pymedphys.coll import find_relevant_control_points"
   ]
  },
  {
   "cell_type": "code",
   "execution_count": null,
   "metadata": {},
   "outputs": [],
   "source": [
    "# from decode_trf import *"
   ]
  },
  {
   "cell_type": "code",
   "execution_count": null,
   "metadata": {},
   "outputs": [],
   "source": [
    "from pymedphys.logfile import delivery_data_from_logfile"
   ]
  },
  {
   "cell_type": "code",
   "execution_count": null,
   "metadata": {},
   "outputs": [],
   "source": [
    "logfile_path = os.path.join(\n",
    "    '..', '..',\n",
    "    'tests', 'data', 'trf', 'integrity4',\n",
    "    'INT4 18_12_12 08_28_23 Z [ICOM_ 7_03_2018 15_21_51] PF_G90..trf'\n",
    ")\n",
    "logfile_path"
   ]
  },
  {
   "cell_type": "code",
   "execution_count": null,
   "metadata": {},
   "outputs": [],
   "source": [
    "delivery_data = delivery_data_from_logfile(logfile_path)"
   ]
  },
  {
   "cell_type": "code",
   "execution_count": null,
   "metadata": {},
   "outputs": [],
   "source": [
    "# relevant_cp = find_relevant_control_points(delivery_data.monitor_units)\n",
    "\n",
    "# remove_irrelevant_control_points(*delivery_data)"
   ]
  },
  {
   "cell_type": "code",
   "execution_count": null,
   "metadata": {},
   "outputs": [],
   "source": [
    "def filter_out_irrelevant_control_points(delivery_data):\n",
    "    \n",
    "    relvant_control_points = find_relevant_control_points(\n",
    "        delivery_data.monitor_units)\n",
    "    \n",
    "    new_delivery_data = []\n",
    "    for item in delivery_data:\n",
    "        new_delivery_data.append(np.array(item)[relvant_control_points].tolist())\n",
    "        \n",
    "    return Delivery(*new_delivery_data)\n",
    "\n",
    "\n",
    "delivery_data = filter_out_irrelevant_control_points(delivery_data)\n",
    "\n"
   ]
  },
  {
   "cell_type": "code",
   "execution_count": null,
   "metadata": {},
   "outputs": [],
   "source": [
    "# delivery_data"
   ]
  },
  {
   "cell_type": "code",
   "execution_count": null,
   "metadata": {},
   "outputs": [],
   "source": [
    "np.shape(np.array(delivery_data.mlc))\n",
    "\n",
    "\n",
    "mlc = np.array(delivery_data.mlc)\n",
    "\n",
    "np.shape(mlc[:,:,0])"
   ]
  },
  {
   "cell_type": "code",
   "execution_count": null,
   "metadata": {},
   "outputs": [],
   "source": [
    "def convert_mlc_format(mlc):\n",
    "    \n",
    "    dicom_mlc_format = []\n",
    "    for control_point in mlc:\n",
    "        concatenated = np.hstack([-control_point[:,0], control_point[:,1]])\n",
    "        dicom_mlc_format.append(concatenated.astype(str).tolist())\n",
    "        \n",
    "    return dicom_mlc_format\n",
    "        \n",
    "converted_mlc = convert_mlc_format(mlc)"
   ]
  },
  {
   "cell_type": "code",
   "execution_count": null,
   "metadata": {},
   "outputs": [],
   "source": [
    "# delivery_data.jaw"
   ]
  },
  {
   "cell_type": "code",
   "execution_count": null,
   "metadata": {},
   "outputs": [],
   "source": [
    "# converted_mlc"
   ]
  },
  {
   "cell_type": "code",
   "execution_count": null,
   "metadata": {},
   "outputs": [],
   "source": []
  },
  {
   "cell_type": "code",
   "execution_count": null,
   "metadata": {},
   "outputs": [],
   "source": []
  },
  {
   "cell_type": "code",
   "execution_count": null,
   "metadata": {},
   "outputs": [],
   "source": []
  },
  {
   "cell_type": "code",
   "execution_count": null,
   "metadata": {},
   "outputs": [],
   "source": []
  },
  {
   "cell_type": "code",
   "execution_count": null,
   "metadata": {},
   "outputs": [],
   "source": [
    "# delivery_data.jaw"
   ]
  },
  {
   "cell_type": "code",
   "execution_count": null,
   "metadata": {},
   "outputs": [],
   "source": [
    "# for item in mlc:\n",
    "#     print(np.shape(item))"
   ]
  },
  {
   "cell_type": "code",
   "execution_count": null,
   "metadata": {},
   "outputs": [],
   "source": []
  },
  {
   "cell_type": "code",
   "execution_count": null,
   "metadata": {},
   "outputs": [],
   "source": [
    "filepath = '../../tests/data/dcmplan/TinyVMAT/TinyFS_TinyVMAT.dcm'\n",
    "filepath_out = '../../tests/data/dcmplan/test/test.dcm'\n",
    "dcm = pydicom.read_file(filepath, force=True)"
   ]
  },
  {
   "cell_type": "code",
   "execution_count": null,
   "metadata": {},
   "outputs": [],
   "source": [
    "# dcm = anonymise_dicom(dcm)"
   ]
  },
  {
   "cell_type": "code",
   "execution_count": null,
   "metadata": {},
   "outputs": [],
   "source": [
    "# dcm"
   ]
  },
  {
   "cell_type": "code",
   "execution_count": null,
   "metadata": {},
   "outputs": [],
   "source": [
    "# dcm"
   ]
  },
  {
   "cell_type": "code",
   "execution_count": null,
   "metadata": {},
   "outputs": [],
   "source": [
    "# dcm"
   ]
  },
  {
   "cell_type": "code",
   "execution_count": null,
   "metadata": {},
   "outputs": [],
   "source": [
    "control_point_sequence = dcm.BeamSequence[0].ControlPointSequence"
   ]
  },
  {
   "cell_type": "code",
   "execution_count": null,
   "metadata": {},
   "outputs": [],
   "source": [
    "# control_point_sequence[0]"
   ]
  },
  {
   "cell_type": "code",
   "execution_count": null,
   "metadata": {},
   "outputs": [],
   "source": [
    "# [\n",
    "#     controlpoint.GantryAngle\n",
    "#     for controlpoint in control_point_sequence\n",
    "# ]"
   ]
  },
  {
   "cell_type": "code",
   "execution_count": null,
   "metadata": {},
   "outputs": [],
   "source": [
    "# converted_mlc[0]"
   ]
  },
  {
   "cell_type": "code",
   "execution_count": null,
   "metadata": {},
   "outputs": [],
   "source": [
    "dummy_mlc_pos_neg = [-1.8,]*30 + [-100,]*20 + [-1.8,]*30\n",
    "dummy_mlc_pos_floats = dummy_mlc_pos_neg + (-1 * np.array(dummy_mlc_pos_neg)).tolist()\n",
    "dummy_mlc_pos_string = np.array(dummy_mlc_pos_floats).astype(str).tolist()"
   ]
  },
  {
   "cell_type": "code",
   "execution_count": null,
   "metadata": {},
   "outputs": [],
   "source": [
    "skip_step = 1\n",
    "\n",
    "monitor_units_trim = np.array(delivery_data.monitor_units)[::skip_step]\n",
    "converted_mlc_trim = converted_mlc[::skip_step]\n",
    "\n",
    "# monitor_units_trim"
   ]
  },
  {
   "cell_type": "code",
   "execution_count": null,
   "metadata": {},
   "outputs": [],
   "source": []
  },
  {
   "cell_type": "code",
   "execution_count": null,
   "metadata": {},
   "outputs": [],
   "source": [
    "# init_cp = deepcopy(control_point_sequence[0])\n",
    "# subsequent_cp = deepcopy(control_point_sequence[-1])\n",
    "\n",
    "# init_cp.GantryAngle = \"90.0\"\n",
    "# init_cp.GantryRotationDirection = \"NONE\"\n",
    "# init_cp.BeamLimitingDevicePositionSequence[0].LeafJawPositions = ['-100.0', '100.0']\n",
    "\n",
    "# # init_cp.BeamLimitingDevicePositionSequence[1].LeafJawPositions = converted_mlc_trim[0]\n",
    "# init_cp.BeamLimitingDevicePositionSequence[1].LeafJawPositions = dummy_mlc_pos_string\n",
    "\n",
    "# subsequent_cp.GantryAngle = \"90.0\"\n",
    "# subsequent_cp.BeamLimitingDevicePositionSequence[0].LeafJawPositions = ['-100.0', '100.0']\n",
    "\n",
    "# current_cp = deepcopy(subsequent_cp)\n",
    "# current_cp.ControlPointIndex = \"1\"\n",
    "# #     current_cp.BeamLimitingDevicePositionSequence[1].LeafJawPositions = mlc_cp\n",
    "# current_cp.BeamLimitingDevicePositionSequence[1].LeafJawPositions = dummy_mlc_pos_string\n",
    "# current_cp.CumulativeMetersetWeight = \"1.000000\"\n",
    "\n",
    "\n",
    "# all_control_points = [init_cp] + [current_cp]"
   ]
  },
  {
   "cell_type": "code",
   "execution_count": null,
   "metadata": {},
   "outputs": [],
   "source": []
  },
  {
   "cell_type": "code",
   "execution_count": null,
   "metadata": {},
   "outputs": [],
   "source": []
  },
  {
   "cell_type": "code",
   "execution_count": null,
   "metadata": {},
   "outputs": [],
   "source": [
    "converted_mlc_trim[0]"
   ]
  },
  {
   "cell_type": "code",
   "execution_count": null,
   "metadata": {},
   "outputs": [],
   "source": [
    "init_cp = deepcopy(control_point_sequence[0])\n",
    "subsequent_cp = deepcopy(control_point_sequence[-1])\n",
    "\n",
    "init_cp.GantryAngle = \"90.0\"\n",
    "init_cp.GantryRotationDirection = \"NONE\"\n",
    "init_cp.BeamLimitingDevicePositionSequence[0].LeafJawPositions = ['-100.0', '100.0']\n",
    "\n",
    "init_cp.BeamLimitingDevicePositionSequence[1].LeafJawPositions = converted_mlc_trim[0]\n",
    "# init_cp.BeamLimitingDevicePositionSequence[1].LeafJawPositions = dummy_mlc_pos_string\n",
    "\n",
    "subsequent_cp.GantryAngle = \"90.0\"\n",
    "subsequent_cp.BeamLimitingDevicePositionSequence[0].LeafJawPositions = ['-100.0', '100.0']\n",
    "\n",
    "remaining_cps = []\n",
    "for i, (mu, mlc_cp) in enumerate(zip(monitor_units_trim, converted_mlc_trim[1::])):    \n",
    "    current_cp = deepcopy(subsequent_cp)\n",
    "    current_cp.ControlPointIndex = str(i+1)\n",
    "    current_cp.BeamLimitingDevicePositionSequence[1].LeafJawPositions = mlc_cp\n",
    "#     current_cp.BeamLimitingDevicePositionSequence[1].LeafJawPositions = dummy_mlc_pos_string\n",
    "    current_cp.CumulativeMetersetWeight = np.around(\n",
    "        mu / delivery_data.monitor_units[-1], decimals=5)\n",
    "    \n",
    "    remaining_cps.append(current_cp)\n",
    "    \n",
    "\n",
    "all_control_points = [init_cp] + remaining_cps"
   ]
  },
  {
   "cell_type": "code",
   "execution_count": null,
   "metadata": {},
   "outputs": [],
   "source": []
  },
  {
   "cell_type": "code",
   "execution_count": null,
   "metadata": {},
   "outputs": [],
   "source": [
    "# dcm = pydicom.read_file(filepath, force=True)\n",
    "# dcm.save_as(filepath_out)"
   ]
  },
  {
   "cell_type": "code",
   "execution_count": null,
   "metadata": {},
   "outputs": [],
   "source": []
  },
  {
   "cell_type": "code",
   "execution_count": null,
   "metadata": {},
   "outputs": [],
   "source": []
  },
  {
   "cell_type": "code",
   "execution_count": null,
   "metadata": {},
   "outputs": [],
   "source": []
  },
  {
   "cell_type": "code",
   "execution_count": null,
   "metadata": {},
   "outputs": [],
   "source": [
    "# edited_dcm = deepcopy(dcm)"
   ]
  },
  {
   "cell_type": "code",
   "execution_count": null,
   "metadata": {},
   "outputs": [],
   "source": [
    "\n"
   ]
  },
  {
   "cell_type": "code",
   "execution_count": null,
   "metadata": {},
   "outputs": [],
   "source": [
    "# dcm = pydicom.read_file(filepath, force=True)\n",
    "\n",
    "# edited_dcm = deepcopy(dcm)\n",
    "\n",
    "# # first_cp = edited_dcm.BeamSequence[0].ControlPointSequence[0]\n",
    "# # last_cp = edited_dcm.BeamSequence[0].ControlPointSequence[-1]\n",
    "\n",
    "# # last_cp.ControlPointIndex = \"1\"\n",
    "# # last_cp.GantryAngle = \"200.0\"\n",
    "\n",
    "\n",
    "# # # edited_dcm.FractionGroupSequence[0].ReferencedBeamSequence[0].BeamMeterset = (\n",
    "# # #     str(monitor_units_trim[-1]))\n",
    "\n",
    "\n",
    "# # edited_dcm.BeamSequence[0].ControlPointSequence = [\n",
    "# #     first_cp, last_cp\n",
    "# # ]\n",
    "# # edited_dcm.BeamSequence[0].NumberOfControlPoints = \"2\"\n",
    "\n",
    "# edited_dcm.save_as(filepath_out)\n",
    "# edited_dcm"
   ]
  },
  {
   "cell_type": "code",
   "execution_count": null,
   "metadata": {},
   "outputs": [],
   "source": []
  },
  {
   "cell_type": "code",
   "execution_count": null,
   "metadata": {},
   "outputs": [],
   "source": []
  },
  {
   "cell_type": "code",
   "execution_count": null,
   "metadata": {},
   "outputs": [],
   "source": [
    "# remaining_cps"
   ]
  },
  {
   "cell_type": "code",
   "execution_count": null,
   "metadata": {},
   "outputs": [],
   "source": [
    "edited_dcm = deepcopy(dcm)\n",
    "\n",
    "\n",
    "edited_dcm.FractionGroupSequence[0].ReferencedBeamSequence[0].BeamMeterset = (\n",
    "    str(monitor_units_trim[-1]))\n",
    "\n",
    "\n",
    "edited_dcm.BeamSequence[0].ControlPointSequence = all_control_points\n",
    "edited_dcm.BeamSequence[0].NumberOfControlPoints = len(all_control_points)\n",
    "\n",
    "edited_dcm.save_as(filepath_out)"
   ]
  },
  {
   "cell_type": "code",
   "execution_count": null,
   "metadata": {},
   "outputs": [],
   "source": [
    "edited_dcm"
   ]
  },
  {
   "cell_type": "code",
   "execution_count": null,
   "metadata": {},
   "outputs": [],
   "source": []
  },
  {
   "cell_type": "code",
   "execution_count": null,
   "metadata": {},
   "outputs": [],
   "source": []
  },
  {
   "cell_type": "code",
   "execution_count": null,
   "metadata": {},
   "outputs": [],
   "source": []
  },
  {
   "cell_type": "code",
   "execution_count": null,
   "metadata": {},
   "outputs": [],
   "source": []
  },
  {
   "cell_type": "code",
   "execution_count": null,
   "metadata": {},
   "outputs": [],
   "source": [
    "DataElement = pydicom.dataelem.DataElement\n",
    "Dataset = pydicom.dataset.Dataset"
   ]
  },
  {
   "cell_type": "code",
   "execution_count": null,
   "metadata": {},
   "outputs": [],
   "source": [
    "dummy_mlc_pos_neg = [-1.8,]*30 + [-100,]*20 + [-1.8,]*30\n",
    "dummy_mlc_pos_floats = dummy_mlc_pos_neg + (-1 * np.array(dummy_mlc_pos_neg)).tolist()\n",
    "dummy_mlc_pos_string = np.array(dummy_mlc_pos).astype(str).tolist()"
   ]
  },
  {
   "cell_type": "code",
   "execution_count": null,
   "metadata": {},
   "outputs": [],
   "source": [
    "def create_control_point(index, gantry_angle, gantry_rotation, mu):\n",
    "\n",
    "    ds = Dataset()\n",
    "    ds.ControlPointIndex = str(index)\n",
    "\n",
    "    ds.NominalBeamEnergy = '6.0'\n",
    "\n",
    "    asymy = Dataset()\n",
    "    asymy.RTBeamLimitingDeviceType = 'ASYMY'\n",
    "    asymy.LeafJawPositions = ['-100.0', '100.0']\n",
    "\n",
    "    mlcx = Dataset()\n",
    "    mlcx.RTBeamLimitingDeviceType = 'MLCX'\n",
    "    mlcx.LeafJawPositions = dummy_mlc_pos_string\n",
    "\n",
    "    ds.BeamLimitingDevicePositionSequence = [asymy, mlcx]\n",
    "\n",
    "    ds.GantryAngle = str(float(gantry_angle))\n",
    "    ds.GantryRotationDirection = gantry_rotation\n",
    "\n",
    "    ds.BeamLimitingDeviceAngle = '0.0'\n",
    "    ds.BeamLimitingDeviceRotationDirection = 'NONE'\n",
    "\n",
    "    ds.CumulativeMetersetWeight = str(float(mu))\n",
    "\n",
    "    return ds\n",
    "\n",
    "\n",
    "beam_sequence = Dataset()\n",
    "beam_sequence.BeamNumber = \"1\"\n",
    "beam_sequence.NumberOfControlPoints = \"2\"\n",
    "beam_sequence.ControlPointSequence = [\n",
    "    create_control_point(0, 270, 'CW', 0),\n",
    "    create_control_point(1, 90, 'NONE', 1)\n",
    "]\n",
    "\n",
    "beam_sequence\n",
    "\n",
    "\n",
    "edited_dcm.BeamSequence = [beam_sequence]\n",
    "edited_dcm\n",
    "\n",
    "edited_dcm.save_as(filepath_out)"
   ]
  },
  {
   "cell_type": "code",
   "execution_count": null,
   "metadata": {},
   "outputs": [],
   "source": [
    "# pydicom.uid.generate_uid()"
   ]
  },
  {
   "cell_type": "code",
   "execution_count": null,
   "metadata": {},
   "outputs": [],
   "source": [
    "# pydicom.dataset.Dataset({\n",
    "#     (0x300a, 0x0112): DataElement(0x300a0112, 'IS', '1')\n",
    "# })"
   ]
  },
  {
   "cell_type": "code",
   "execution_count": null,
   "metadata": {},
   "outputs": [],
   "source": [
    "pydicom.dataset.Dataset?"
   ]
  },
  {
   "cell_type": "code",
   "execution_count": null,
   "metadata": {},
   "outputs": [],
   "source": []
  },
  {
   "cell_type": "code",
   "execution_count": null,
   "metadata": {},
   "outputs": [],
   "source": []
  }
 ],
 "metadata": {
  "kernelspec": {
   "display_name": "Python 3",
   "language": "python",
   "name": "python3"
  },
  "language_info": {
   "codemirror_mode": {
    "name": "ipython",
    "version": 3
   },
   "file_extension": ".py",
   "mimetype": "text/x-python",
   "name": "python",
   "nbconvert_exporter": "python",
   "pygments_lexer": "ipython3",
   "version": "3.7.0"
  }
 },
 "nbformat": 4,
 "nbformat_minor": 2
}
