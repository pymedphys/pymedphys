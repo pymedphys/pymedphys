{
 "cells": [
  {
   "cell_type": "code",
   "execution_count": null,
   "metadata": {},
   "outputs": [],
   "source": [
    "import pydicom\n",
    "import numpy as np\n",
    "\n"
   ]
  },
  {
   "cell_type": "code",
   "execution_count": null,
   "metadata": {},
   "outputs": [],
   "source": [
    "rtstruct_path = r\"C:\\Users\\mjenni03\\PythonProjects\\pymedphys\\data\\dcmplan\\RS1.2.752.243.1.1.20190116114733452.2000.57371.tem\"\n",
    "ds = pydicom.dcmread(rtstruct_path)\n",
    "\n",
    "np.set_printoptions(suppress=True)\n",
    "\n",
    "x_new = [250.5, 250.5, -250.5, -250.5]\n",
    "y_new = [501, 0, 0, 501]\n",
    "\n",
    "i=0\n",
    "for contour in ds.ROIContourSequence[0].ContourSequence:\n",
    "    data = np.array(contour.ContourData)\n",
    "    x = data[0::3]\n",
    "    y = data[1::3]\n",
    "    z = data[2::3]\n",
    "    z_new = z[0:4]  \n",
    "    \n",
    "    data_new = np.empty(12)\n",
    "         \n",
    "    np.put(data_new, range(0, len(data_new), 3), x_new)\n",
    "    np.put(data_new, range(1, len(data_new), 3), y_new)\n",
    "    np.put(data_new, range(2, len(data_new), 3), z_new)\n",
    "    \n",
    "    \n",
    "    contour.NumberOfContourPoints = 4\n",
    "    contour.ContourData = data_new.tolist()\n",
    "    print(ds.ROIContourSequence[0].ContourSequence[i].ContourData)\n",
    "    i +=1\n",
    "\n",
    "print(ds.save_as(rtstruct_path[0:-4] + \"__new.dcm\"))"
   ]
  },
  {
   "cell_type": "code",
   "execution_count": null,
   "metadata": {},
   "outputs": [],
   "source": []
  }
 ],
 "metadata": {
  "kernelspec": {
   "display_name": "Python 3",
   "language": "python",
   "name": "python3"
  },
  "language_info": {
   "codemirror_mode": {
    "name": "ipython",
    "version": 3
   },
   "file_extension": ".py",
   "mimetype": "text/x-python",
   "name": "python",
   "nbconvert_exporter": "python",
   "pygments_lexer": "ipython3",
   "version": "3.7.1"
  }
 },
 "nbformat": 4,
 "nbformat_minor": 2
}
