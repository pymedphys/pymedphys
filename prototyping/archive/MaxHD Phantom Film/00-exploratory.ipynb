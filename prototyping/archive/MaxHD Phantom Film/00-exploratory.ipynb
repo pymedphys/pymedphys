{
 "cells": [
  {
   "cell_type": "markdown",
   "metadata": {},
   "source": [
    "## TO DO\n",
    "\n",
    "2018-11-07\n",
    "\n",
    "* Should draw the numbers at the correct positions and orientations within the TPS.\n",
    "* Then burn those numbers in to the dose distribution as a verification of the orientation.\n",
    "\n",
    "* Rescan maxphan\n",
    "* Replan\n",
    "* Remeaure film\n",
    "* Rescan film\n",
    "* Compare doses and spatial accuracy"
   ]
  },
  {
   "cell_type": "code",
   "execution_count": null,
   "metadata": {},
   "outputs": [],
   "source": [
    "import os\n",
    "from glob import glob\n",
    "\n",
    "import numpy as np\n",
    "import matplotlib.pyplot as plt\n",
    "from mpl_toolkits.mplot3d import Axes3D\n",
    "\n",
    "from scipy.interpolate import RegularGridInterpolator\n",
    "\n",
    "import imageio\n",
    "\n",
    "import pydicom\n",
    "\n",
    "from pymedphys.dicom import (\n",
    "    load_xyz_from_dicom, load_dose_from_dicom,\n",
    "    get_structure_aligned_cube,\n",
    "    pull_structure\n",
    ")\n",
    "\n",
    "from pymedphys.film import get_interpolated_dose\n",
    "from pymedphys.geometry import plot_cube, cubify_cube_definition\n",
    "\n",
    "from pymedphys.plt import pcolormesh_grid"
   ]
  },
  {
   "cell_type": "code",
   "execution_count": null,
   "metadata": {},
   "outputs": [],
   "source": [
    "data_dir = r'S:\\Physics\\Programming\\data\\FilmProcessing\\SRS\\experimentation'"
   ]
  },
  {
   "cell_type": "code",
   "execution_count": null,
   "metadata": {},
   "outputs": [],
   "source": [
    "save_path_2_4 = os.path.join(data_dir, 'dose_2_4.png')\n",
    "save_path_1_3 = os.path.join(data_dir, 'dose_1_3.png')"
   ]
  },
  {
   "cell_type": "code",
   "execution_count": null,
   "metadata": {},
   "outputs": [],
   "source": [
    "glob(os.path.join(data_dir, '*'))"
   ]
  },
  {
   "cell_type": "code",
   "execution_count": null,
   "metadata": {},
   "outputs": [],
   "source": [
    "glob(os.path.join(data_dir, '*.dcm'))"
   ]
  },
  {
   "cell_type": "code",
   "execution_count": null,
   "metadata": {},
   "outputs": [],
   "source": [
    "dose_file = 'ZZ654329_MS_Dose.dcm'\n",
    "dose_path = os.path.join(data_dir, dose_file)"
   ]
  },
  {
   "cell_type": "code",
   "execution_count": null,
   "metadata": {},
   "outputs": [],
   "source": [
    "struct_file = 'ZZ654329_StrctrSets.dcm'\n",
    "struct_path = os.path.join(data_dir, struct_file)"
   ]
  },
  {
   "cell_type": "code",
   "execution_count": null,
   "metadata": {},
   "outputs": [],
   "source": [
    "dcm_dose = pydicom.dcmread(dose_path, force=True)\n",
    "dcm_struct = pydicom.dcmread(struct_path, force=True)"
   ]
  },
  {
   "cell_type": "code",
   "execution_count": null,
   "metadata": {},
   "outputs": [],
   "source": [
    "dose = load_dose_from_dicom(dcm_dose)\n",
    "x_dose, y_dose, z_dose = load_xyz_from_dicom(dcm_dose)"
   ]
  },
  {
   "cell_type": "code",
   "execution_count": null,
   "metadata": {},
   "outputs": [],
   "source": [
    "structure_name = 'ANT Box'"
   ]
  },
  {
   "cell_type": "code",
   "execution_count": null,
   "metadata": {},
   "outputs": [],
   "source": [
    "box_x, box_y, box_z = pull_structure(structure_name, dcm_struct)"
   ]
  },
  {
   "cell_type": "code",
   "execution_count": null,
   "metadata": {},
   "outputs": [],
   "source": [
    "min_x = np.min(np.concatenate(box_x))\n",
    "max_x = np.max(np.concatenate(box_x))\n",
    "\n",
    "min_y = np.min(np.concatenate(box_y))\n",
    "max_y = np.max(np.concatenate(box_y))\n",
    "\n",
    "min_z = np.min(np.concatenate(box_z))\n",
    "max_z = np.max(np.concatenate(box_z))"
   ]
  },
  {
   "cell_type": "code",
   "execution_count": null,
   "metadata": {},
   "outputs": [],
   "source": [
    "xx=np.concatenate(box_x)\n",
    "# print(xx)"
   ]
  },
  {
   "cell_type": "code",
   "execution_count": null,
   "metadata": {},
   "outputs": [],
   "source": [
    "x0 = np.array([\n",
    "    (min_y, min_x, min_z),\n",
    "    (min_y, max_x, min_z), \n",
    "    (max_y, min_x, max_z)\n",
    "])\n",
    "\n",
    "cube_definition = cubify_cube_definition(x0)\n",
    "cube = cubify_cube_definition(cube_definition)\n",
    "\n",
    "ax = plot_cube(cube)\n",
    "\n",
    "for x, y, z in zip(box_x, box_y, box_z):\n",
    "    ax.plot(x, y, z, 'b-')"
   ]
  },
  {
   "cell_type": "code",
   "execution_count": null,
   "metadata": {},
   "outputs": [],
   "source": [
    "cube_definition_array, vectors = get_structure_aligned_cube(x0, structure_name, dcm_struct)"
   ]
  },
  {
   "cell_type": "code",
   "execution_count": null,
   "metadata": {},
   "outputs": [],
   "source": [
    "cube_definition_array"
   ]
  },
  {
   "cell_type": "code",
   "execution_count": null,
   "metadata": {},
   "outputs": [],
   "source": [
    "ax = plot_cube(cube_definition_array)\n",
    "\n",
    "for x, y, z in zip(box_x, box_y, box_z):\n",
    "    ax.plot(x, y, z, 'b-')"
   ]
  },
  {
   "cell_type": "code",
   "execution_count": null,
   "metadata": {},
   "outputs": [],
   "source": [
    "ax = plot_cube(cube_definition_array)\n",
    "colour = iter(['C0', 'C1', 'C2', 'C3', 'C4', 'C5', 'C6', 'C7', 'C8', 'C9'])\n",
    "\n",
    "structures = ['Number1', 'Number2', 'Number3', 'Number4']\n",
    "for structure_name in structures:\n",
    "    this_colour = next(colour)\n",
    "    struct_x, struct_y, struct_z = pull_structure(structure_name, dcm_struct)\n",
    "    for x, y, z in zip(struct_x, struct_y, struct_z):\n",
    "        ax.plot(x, y, z, c=this_colour)\n",
    "\n",
    "# ax.legend()"
   ]
  },
  {
   "cell_type": "code",
   "execution_count": null,
   "metadata": {},
   "outputs": [],
   "source": [
    "dose"
   ]
  },
  {
   "cell_type": "code",
   "execution_count": null,
   "metadata": {},
   "outputs": [],
   "source": [
    "vertices_1_3 = (\n",
    "    0.5 * vectors[0] + cube_definition_array[0],\n",
    "    0.5 * vectors[0] + vectors[1] + cube_definition_array[0],\n",
    "    0.5 * vectors[0] + vectors[1] + vectors[2] + cube_definition_array[0],\n",
    "    0.5 * vectors[0] + vectors[2] + cube_definition_array[0],\n",
    ")\n",
    "\n",
    "vertices_2_4 = (\n",
    "    0.5 * vectors[1] + cube_definition_array[0],\n",
    "    0.5 * vectors[1] + vectors[2] + cube_definition_array[0],\n",
    "    0.5 * vectors[1] + vectors[2] + vectors[0] + cube_definition_array[0],\n",
    "    0.5 * vectors[1] + vectors[0] + cube_definition_array[0],\n",
    ")"
   ]
  },
  {
   "cell_type": "code",
   "execution_count": null,
   "metadata": {},
   "outputs": [],
   "source": [
    "vertices_1_3"
   ]
  },
  {
   "cell_type": "code",
   "execution_count": null,
   "metadata": {},
   "outputs": [],
   "source": [
    "side_length = np.sqrt(np.sum(vectors[0]**2))\n",
    "\n",
    "film_side_length = 56.73  # measured manually on the film image\n",
    "resolution = 0.1\n",
    "number_of_points = int(film_side_length / resolution + 1)\n",
    "margin = (side_length - film_side_length) / 2\n",
    "\n",
    "margin_ratio = margin / side_length\n",
    "margin_ratio"
   ]
  },
  {
   "cell_type": "code",
   "execution_count": null,
   "metadata": {},
   "outputs": [],
   "source": [
    "coords_grid_1_3 = np.array([\n",
    "    [\n",
    "        vertices_1_3[0] + vectors[1] * step_i + vectors[2] * step_j\n",
    "        for step_i in np.linspace(1 - margin_ratio, margin_ratio, number_of_points)\n",
    "    ]\n",
    "    for step_j in np.linspace( 1 - margin_ratio, margin_ratio, number_of_points)\n",
    "])\n",
    "\n",
    "coords_grid_2_4 = np.array([\n",
    "    [\n",
    "        vertices_2_4[0] + vectors[2] * step_i + vectors[0] * step_j\n",
    "        for step_i in np.linspace(margin_ratio, 1 - margin_ratio, number_of_points)\n",
    "    ]\n",
    "    for step_j in np.linspace(margin_ratio, 1 - margin_ratio, number_of_points)\n",
    "])"
   ]
  },
  {
   "cell_type": "code",
   "execution_count": null,
   "metadata": {},
   "outputs": [],
   "source": [
    "dose_ij_indexing = np.swapaxes(dose, 0, 1)\n",
    "\n",
    "# https://docs.scipy.org/doc/scipy/reference/generated/scipy.interpolate.RegularGridInterpolator.html\n",
    "dose_interpolation = RegularGridInterpolator(\n",
    "    (x_dose, y_dose, z_dose), dose_ij_indexing)"
   ]
  },
  {
   "cell_type": "code",
   "execution_count": null,
   "metadata": {},
   "outputs": [],
   "source": [
    "dose_1_3 = get_interpolated_dose(coords_grid_1_3, dose_interpolation)\n",
    "dose_2_4 = get_interpolated_dose(coords_grid_2_4, dose_interpolation)"
   ]
  },
  {
   "cell_type": "code",
   "execution_count": null,
   "metadata": {},
   "outputs": [],
   "source": [
    "# Burn orientation and scale markers into the image\n",
    "\n",
    "dose_2_4[0:11,0:41] = 0\n",
    "dose_2_4[0:10,0:40] = 10\n",
    "\n",
    "dose_2_4[-41::,-11::] = 10\n",
    "dose_2_4[-40::,-10::] = 0\n",
    "\n",
    "\n",
    "dose_1_3[0:11,0:41] = 0\n",
    "dose_1_3[0:10,0:40] = 10\n",
    "\n",
    "dose_1_3[-41::,-11::] = 10\n",
    "dose_1_3[-40::,-10::] = 0"
   ]
  },
  {
   "cell_type": "code",
   "execution_count": null,
   "metadata": {},
   "outputs": [],
   "source": [
    "film_edge_vector = coords_grid_1_3[0,-1,:] - coords_grid_1_3[-1,-1,:]\n",
    "calced_film_edge = np.sqrt(np.sum(film_edge_vector**2))\n",
    "calced_film_edge"
   ]
  },
  {
   "cell_type": "code",
   "execution_count": null,
   "metadata": {},
   "outputs": [],
   "source": [
    "dim = np.shape(coords_grid_1_3)\n",
    "\n",
    "film_x = np.linspace(0, calced_film_edge, dim[0])\n",
    "film_y = np.linspace(0, calced_film_edge, dim[1])\n",
    "\n",
    "x, y = pcolormesh_grid(film_x, film_y, resolution)\n",
    "\n",
    "plt.figure(figsize=(12,10))\n",
    "plt.pcolormesh(x, y, np.swapaxes(dose_1_3, 0, 1))\n",
    "plt.gca().invert_yaxis()\n",
    "plt.colorbar()\n",
    "\n",
    "plt.axis('equal')"
   ]
  },
  {
   "cell_type": "code",
   "execution_count": null,
   "metadata": {},
   "outputs": [],
   "source": [
    "dim = np.shape(coords_grid_2_4)\n",
    "\n",
    "film_x = np.linspace(0, calced_film_edge, dim[0])\n",
    "film_y = np.linspace(0, calced_film_edge, dim[1])\n",
    "\n",
    "x, y = pcolormesh_grid(film_x, film_y, resolution)\n",
    "\n",
    "plt.figure(figsize=(12,10))\n",
    "plt.pcolormesh(x, y, np.swapaxes(dose_2_4, 0, 1))\n",
    "plt.gca().invert_yaxis()\n",
    "plt.colorbar()\n",
    "\n",
    "plt.axis('equal')"
   ]
  },
  {
   "cell_type": "code",
   "execution_count": null,
   "metadata": {},
   "outputs": [],
   "source": [
    "# imageio.imwrite(save_path_2_4, np.swapaxes(dose_2_4, 0, 1))"
   ]
  },
  {
   "cell_type": "code",
   "execution_count": null,
   "metadata": {},
   "outputs": [],
   "source": [
    "# imageio.imwrite(save_path_1_3, np.swapaxes(dose_1_3, 0, 1))"
   ]
  }
 ],
 "metadata": {
  "kernelspec": {
   "display_name": "Python 3",
   "language": "python",
   "name": "python3"
  },
  "language_info": {
   "codemirror_mode": {
    "name": "ipython",
    "version": 3
   },
   "file_extension": ".py",
   "mimetype": "text/x-python",
   "name": "python",
   "nbconvert_exporter": "python",
   "pygments_lexer": "ipython3",
   "version": "3.7.0"
  }
 },
 "nbformat": 4,
 "nbformat_minor": 2
}
