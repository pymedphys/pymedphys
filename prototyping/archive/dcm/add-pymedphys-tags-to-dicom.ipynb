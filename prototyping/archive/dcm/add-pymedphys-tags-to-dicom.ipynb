{
 "cells": [
  {
   "cell_type": "code",
   "execution_count": null,
   "metadata": {},
   "outputs": [],
   "source": [
    "import errno\n",
    "import pydicom as dcm\n",
    "from pydicom.uid import generate_uid\n",
    "import glob, os\n",
    "import numpy as np\n",
    "import shutil\n",
    "from datetime import datetime\n",
    "\n",
    "DATA_DIR = os.path.join(os.path.dirname(os.path.dirname(os.getcwd())),\"data\")\n",
    "\n",
    "dicom_dir = os.path.join(DATA_DIR, \"dcmplan\")\n",
    "adjusted_dicom_dir = os.path.join(dicom_dir, \"adjusted\")\n",
    "\n",
    "os.chdir(dicom_dir)\n",
    "os.makedirs(adjusted_dicom_dir, exist_ok=True)"
   ]
  },
  {
   "cell_type": "code",
   "execution_count": null,
   "metadata": {},
   "outputs": [],
   "source": [
    "for file in glob.glob(\"*.dcm\"):\n",
    "    \n",
    "    ds = dcm.dcmread(file)    \n",
    "    \n",
    "    ds.Manufacturer = \"PyMedPhys\"\n",
    "    ds.ManufacturerModelName = \"0.5.0\"\n",
    "    ds.TimezoneOffsetFromUTC = \"+0930\"\n",
    "    \n",
    "    if ds.Modality == \"CT\":    \n",
    "        ds.DerivationDescription = \"Generated using PyDICOM & RaySearch's dicomutils.\"\n",
    "    else:\n",
    "        ds.DerivationDescription = \"Generated using PyDICOM.\"\n",
    "        \n",
    "    ds.SoftwareVersions = \"0.5.0\"\n",
    "    ds.PatientName = \"Phantom^Water\"\n",
    "    ds.PatientID = \"WATER\"\n",
    "    ds.PatientSex = \"O\"\n",
    "    ds.save_as(\"adjusted\\\\\" + file)"
   ]
  },
  {
   "cell_type": "code",
   "execution_count": null,
   "metadata": {},
   "outputs": [],
   "source": [
    "shutil.make_archive(\"lfs-water_phantom\", 'zip', adjusted_dicom_dir)"
   ]
  },
  {
   "cell_type": "code",
   "execution_count": null,
   "metadata": {},
   "outputs": [],
   "source": []
  }
 ],
 "metadata": {
  "kernelspec": {
   "display_name": "Python 3",
   "language": "python",
   "name": "python3"
  },
  "language_info": {
   "codemirror_mode": {
    "name": "ipython",
    "version": 3
   },
   "file_extension": ".py",
   "mimetype": "text/x-python",
   "name": "python",
   "nbconvert_exporter": "python",
   "pygments_lexer": "ipython3",
   "version": "3.7.1"
  }
 },
 "nbformat": 4,
 "nbformat_minor": 2
}
