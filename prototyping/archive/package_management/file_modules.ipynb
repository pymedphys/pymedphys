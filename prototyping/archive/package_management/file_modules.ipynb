{
 "cells": [
  {
   "cell_type": "code",
   "execution_count": null,
   "metadata": {},
   "outputs": [],
   "source": [
    "%load_ext autoreload\n",
    "%autoreload 2"
   ]
  },
  {
   "cell_type": "code",
   "execution_count": null,
   "metadata": {},
   "outputs": [],
   "source": [
    "import os\n",
    "from pymedphys_monomanage.tree import PackageTree\n",
    "from pymedphys_monomanage.draw.utilities import get_levels, remove_prefix, remove_postfix, convert_path_to_package\n",
    "import networkx as nx\n",
    "from copy import copy\n",
    "import textwrap"
   ]
  },
  {
   "cell_type": "code",
   "execution_count": null,
   "metadata": {},
   "outputs": [],
   "source": [
    "package_tree = PackageTree('../../packages')\n",
    "\n",
    "internal_packages = copy(package_tree.roots)\n",
    "internal_packages.remove('pymedphys')\n",
    "\n",
    "directory_module_paths = [\n",
    "    module_path\n",
    "    for package in internal_packages\n",
    "    for module_path in package_tree.digraph.neighbors(package)\n",
    "]\n",
    "\n",
    "file_module_paths = [\n",
    "    item\n",
    "    for directory_module_path in directory_module_paths\n",
    "    for item in package_tree.digraph.neighbors(directory_module_path)\n",
    "]\n",
    "\n",
    "module_map = {\n",
    "    item: convert_path_to_package(item)\n",
    "    for item in directory_module_paths + file_module_paths\n",
    "}\n",
    "\n",
    "dependencies = {\n",
    "    convert_path_to_package(module): {\n",
    "        key: [\n",
    "            convert_path_to_package(item)\n",
    "            for item in descendants_dependencies\n",
    "        ]\n",
    "        for key, descendants_dependencies in package_tree.imports[module].items()\n",
    "    }\n",
    "    for module in module_map.keys()\n",
    "}"
   ]
  },
  {
   "cell_type": "code",
   "execution_count": null,
   "metadata": {},
   "outputs": [],
   "source": [
    "directory_module_paths"
   ]
  },
  {
   "cell_type": "code",
   "execution_count": null,
   "metadata": {},
   "outputs": [],
   "source": [
    "dependents = {\n",
    "    key: [] for key in dependencies.keys()\n",
    "}\n",
    "for file_module, dependency_map in dependencies.items():\n",
    "    for where, values in dependency_map.items():\n",
    "        for item in values:\n",
    "            try:\n",
    "                dependents[item].append(file_module)\n",
    "            except KeyError:\n",
    "                pass"
   ]
  },
  {
   "cell_type": "code",
   "execution_count": null,
   "metadata": {},
   "outputs": [],
   "source": [
    "directory_module_path = 'pymedphys_analysis/mudensity'\n",
    "directory_module = convert_path_to_package(directory_module_path)\n",
    "\n",
    "directory_module"
   ]
  },
  {
   "cell_type": "code",
   "execution_count": null,
   "metadata": {},
   "outputs": [],
   "source": [
    "package_name = directory_module.split('.')[0]\n",
    "package_name"
   ]
  },
  {
   "cell_type": "code",
   "execution_count": null,
   "metadata": {},
   "outputs": [],
   "source": [
    "current_modules = [\n",
    "    convert_path_to_package(item)\n",
    "    for item in package_tree.digraph.neighbors(directory_module_path)\n",
    "] + [directory_module]\n",
    "\n",
    "current_modules"
   ]
  },
  {
   "cell_type": "code",
   "execution_count": null,
   "metadata": {},
   "outputs": [],
   "source": [
    "all_current_dependencies = {\n",
    "    module: dependencies[module]\n",
    "    for module in current_modules\n",
    "}\n",
    "\n",
    "all_current_dependencies\n",
    "\n",
    "keys_to_keep = {'internal_package', 'internal_module', 'internal_file'}\n",
    "\n",
    "current_dependencies = {\n",
    "    module: [\n",
    "        item\n",
    "        for key, values in dependencies[module].items()\n",
    "        if key in keys_to_keep\n",
    "        for item in values\n",
    "    ]\n",
    "    for module in current_modules\n",
    "}\n",
    "\n",
    "current_dependencies"
   ]
  },
  {
   "cell_type": "code",
   "execution_count": null,
   "metadata": {},
   "outputs": [],
   "source": [
    "current_dependents = {\n",
    "    module: dependents[module]\n",
    "    for module in current_modules\n",
    "}\n",
    "\n",
    "current_dependents"
   ]
  },
  {
   "cell_type": "code",
   "execution_count": null,
   "metadata": {},
   "outputs": [],
   "source": [
    "all_nodes = set([\n",
    "    *current_dependencies.keys(),\n",
    "    *[\n",
    "        item \n",
    "        for a_list in current_dependencies.values()\n",
    "        for item in a_list],\n",
    "    *current_dependents.keys(),\n",
    "    *[\n",
    "        item \n",
    "        for a_list in current_dependents.values()\n",
    "        for item in a_list]\n",
    "])\n",
    "\n",
    "all_nodes"
   ]
  },
  {
   "cell_type": "code",
   "execution_count": null,
   "metadata": {},
   "outputs": [],
   "source": [
    "internal_dependencies = {\n",
    "    key: [\n",
    "        value\n",
    "        for value in values\n",
    "        if value in current_modules\n",
    "    ]\n",
    "    for key, values in current_dependencies.items()\n",
    "    if key in current_modules\n",
    "}\n",
    "\n"
   ]
  },
  {
   "cell_type": "code",
   "execution_count": null,
   "metadata": {},
   "outputs": [],
   "source": [
    "internal_ranks = \"\"\n",
    "\n",
    "levels = get_levels(internal_dependencies)\n",
    "\n",
    "for level in range(max(levels.keys()) + 1):\n",
    "    if levels[level]:\n",
    "        grouped_packages = '\"; \"'.join(sorted(list(levels[level])))\n",
    "        internal_ranks += textwrap.dedent(\"\"\"\\\n",
    "            {{ rank = same; \"{}\"; }}\n",
    "        \"\"\".format(grouped_packages))\n",
    "        \n",
    "print(internal_ranks)"
   ]
  },
  {
   "cell_type": "code",
   "execution_count": null,
   "metadata": {},
   "outputs": [],
   "source": [
    "in_same_module_other_dir = [\n",
    "    node\n",
    "    for node in all_nodes\n",
    "    if node.startswith(package_name)\n",
    "    and not node.startswith(directory_module)] \n",
    "\n",
    "in_same_module_other_dir_string = '\"{}\";'.format('\";\\n\"'.join(in_same_module_other_dir))\n",
    "print(in_same_module_other_dir_string)"
   ]
  },
  {
   "cell_type": "code",
   "execution_count": null,
   "metadata": {},
   "outputs": [],
   "source": [
    "def simplify(text):\n",
    "    text = remove_prefix(text, \"{}.\".format(package_name))\n",
    "    text = remove_prefix(text, 'pymedphys_')\n",
    "\n",
    "    return text\n",
    "\n",
    "label_map = {\n",
    "    node: simplify(node)\n",
    "    for node in all_nodes\n",
    "}"
   ]
  },
  {
   "cell_type": "code",
   "execution_count": null,
   "metadata": {},
   "outputs": [],
   "source": [
    "label_map"
   ]
  },
  {
   "cell_type": "code",
   "execution_count": null,
   "metadata": {},
   "outputs": [],
   "source": [
    "label_map_str = \"\"\n",
    "for node, label in label_map.items():\n",
    "    label_map_str += '\"{}\" [label=\"{}\"];\\n'.format(node, label)\n",
    "    \n",
    "print(label_map_str)"
   ]
  },
  {
   "cell_type": "code",
   "execution_count": null,
   "metadata": {},
   "outputs": [],
   "source": []
  },
  {
   "cell_type": "code",
   "execution_count": null,
   "metadata": {},
   "outputs": [],
   "source": [
    "edges = \"\"\n",
    "\n",
    "for module in sorted(current_modules):\n",
    "    for dependency in sorted(list(current_dependencies[module])):\n",
    "        edges += '\"{}\" -> \"{}\";\\n'.format(module, dependency)\n",
    "\n",
    "    for dependent in sorted(list(current_dependents[module])):\n",
    "        edges += '\"{}\" -> \"{}\";\\n'.format(dependent, module)\n",
    "        \n",
    "print(edges)"
   ]
  },
  {
   "cell_type": "code",
   "execution_count": null,
   "metadata": {},
   "outputs": [],
   "source": [
    "dotfile_contents = textwrap.dedent(\"\"\"\\\n",
    "strict digraph  {{\n",
    "    rankdir = LR;\n",
    "\n",
    "    subgraph cluster_0 {{\n",
    "        {}\n",
    "        label = \"{}\";\n",
    "        style = dashed;\n",
    "\n",
    "        subgraph cluster_1 {{\n",
    "{}\n",
    "            label = \"{}\"\n",
    "        }}\n",
    "    }}\n",
    "\n",
    "{}\n",
    "{}}}\n",
    "\"\"\").format(\n",
    "    in_same_module_other_dir_string, \n",
    "    package_name, \n",
    "    textwrap.indent(internal_ranks, ' '*12),\n",
    "    directory_module,\n",
    "    textwrap.indent(label_map_str, ' '*4),\n",
    "    textwrap.indent(edges, ' '*4))\n",
    "\n",
    "\n",
    "print(dotfile_contents)"
   ]
  }
 ],
 "metadata": {
  "kernelspec": {
   "display_name": "Python 3",
   "language": "python",
   "name": "python3"
  },
  "language_info": {
   "codemirror_mode": {
    "name": "ipython",
    "version": 3
   },
   "file_extension": ".py",
   "mimetype": "text/x-python",
   "name": "python",
   "nbconvert_exporter": "python",
   "pygments_lexer": "ipython3",
   "version": "3.7.1"
  }
 },
 "nbformat": 4,
 "nbformat_minor": 2
}
