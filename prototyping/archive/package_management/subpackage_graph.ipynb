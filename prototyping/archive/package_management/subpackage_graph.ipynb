{
 "cells": [
  {
   "cell_type": "code",
   "execution_count": null,
   "metadata": {},
   "outputs": [],
   "source": [
    "%load_ext autoreload\n",
    "%autoreload 2\n",
    "\n",
    "from pymedphys_monomanage.tree import PackageTree\n",
    "import networkx as nx\n",
    "from copy import copy"
   ]
  },
  {
   "cell_type": "code",
   "execution_count": null,
   "metadata": {},
   "outputs": [],
   "source": [
    "package_tree = PackageTree('../../packages')"
   ]
  },
  {
   "cell_type": "code",
   "execution_count": null,
   "metadata": {},
   "outputs": [],
   "source": [
    "package_tree.package_dependencies_digraph"
   ]
  },
  {
   "cell_type": "code",
   "execution_count": null,
   "metadata": {},
   "outputs": [],
   "source": [
    "package_tree.roots"
   ]
  },
  {
   "cell_type": "code",
   "execution_count": null,
   "metadata": {},
   "outputs": [],
   "source": [
    "modules = list(package_tree.digraph.neighbors('pymedphys_analysis'))\n",
    "modules"
   ]
  },
  {
   "cell_type": "code",
   "execution_count": null,
   "metadata": {},
   "outputs": [],
   "source": [
    "internal_packages = copy(package_tree.roots)\n",
    "internal_packages.remove('pymedphys')"
   ]
  },
  {
   "cell_type": "code",
   "execution_count": null,
   "metadata": {},
   "outputs": [],
   "source": [
    "module_paths = [\n",
    "    item\n",
    "    for package in internal_packages\n",
    "    for item in package_tree.digraph.neighbors(package)\n",
    "]\n",
    "\n",
    "modules = {\n",
    "    item: os.path.splitext(item)[0].replace(os.sep, '.')\n",
    "    for item in module_paths\n",
    "}\n",
    "\n",
    "modules"
   ]
  },
  {
   "cell_type": "code",
   "execution_count": null,
   "metadata": {},
   "outputs": [],
   "source": [
    "module_digraph = nx.DiGraph()\n",
    "\n",
    "\n",
    "\n"
   ]
  },
  {
   "cell_type": "code",
   "execution_count": null,
   "metadata": {},
   "outputs": [],
   "source": [
    "dependencies = {\n",
    "    module.replace(os.sep, '.'): [\n",
    "        '.'.join(item.split('.')[0:2])\n",
    "        for item in\n",
    "        package_tree.descendants_dependencies(module)['internal_module'] + package_tree.descendants_dependencies(module)['internal_package']\n",
    "    ]\n",
    "    for module in modules.keys()\n",
    "}\n",
    "\n",
    "dependencies"
   ]
  },
  {
   "cell_type": "code",
   "execution_count": null,
   "metadata": {},
   "outputs": [],
   "source": [
    "dependents = {\n",
    "    key: [] for key in dependencies.keys()\n",
    "}\n",
    "for key, values in dependencies.items():\n",
    "    for item in values:\n",
    "        dependents[item].append(key)\n",
    "        \n",
    "dependents"
   ]
  },
  {
   "cell_type": "code",
   "execution_count": null,
   "metadata": {},
   "outputs": [],
   "source": [
    "current_modules = [\n",
    "    item.replace(os.sep, '.')\n",
    "    for item in package_tree.digraph.neighbors('pymedphys_analysis')\n",
    "]\n",
    "current_modules"
   ]
  },
  {
   "cell_type": "code",
   "execution_count": null,
   "metadata": {},
   "outputs": [],
   "source": [
    "def remove_prefix(text, prefix):\n",
    "    if text.startswith(prefix):\n",
    "        return text[len(prefix):]\n",
    "    else:\n",
    "        return text\n"
   ]
  },
  {
   "cell_type": "code",
   "execution_count": null,
   "metadata": {},
   "outputs": [],
   "source": [
    "graphed_module = 'pymedphys_monomanage'\n",
    "\n",
    "\n",
    "current_modules = [\n",
    "    item.replace(os.sep, '.')\n",
    "    for item in package_tree.digraph.neighbors(graphed_module)\n",
    "]\n",
    "current_modules\n",
    "\n",
    "\n",
    "def simplify(text):\n",
    "    text = remove_prefix(text, \"{}.\".format(graphed_module))\n",
    "    text = remove_prefix(text, 'pymedphys_')\n",
    "    \n",
    "    return text"
   ]
  },
  {
   "cell_type": "code",
   "execution_count": null,
   "metadata": {},
   "outputs": [],
   "source": [
    "current_modules"
   ]
  },
  {
   "cell_type": "code",
   "execution_count": null,
   "metadata": {},
   "outputs": [],
   "source": [
    "module_internal_relationships = {\n",
    "    module.replace(os.sep, '.'): [\n",
    "        '.'.join(item.split('.')[0:2])\n",
    "        for item in\n",
    "        package_tree.descendants_dependencies(module)['internal_module']\n",
    "    ]\n",
    "    for module in package_tree.digraph.neighbors(graphed_module)\n",
    "}\n",
    "\n",
    "module_internal_relationships"
   ]
  },
  {
   "cell_type": "code",
   "execution_count": null,
   "metadata": {},
   "outputs": [],
   "source": [
    "dag = nx.DiGraph()\n",
    "\n",
    "for key, values in module_internal_relationships.items():\n",
    "    dag.add_node(key)\n",
    "    dag.add_nodes_from(values)\n",
    "    edge_tuples = [\n",
    "        (key, value) for value in values\n",
    "    ]\n",
    "    dag.add_edges_from(edge_tuples)\n",
    "    \n",
    "\n",
    "dag.edges()\n"
   ]
  },
  {
   "cell_type": "code",
   "execution_count": null,
   "metadata": {},
   "outputs": [],
   "source": [
    "def get_levels(dag):\n",
    "\n",
    "    topological = list(nx.topological_sort(dag))\n",
    "\n",
    "    level_map = {}\n",
    "    for package in topological[::-1]:\n",
    "        depencencies = nx.descendants(dag, package)\n",
    "        levels = {0}\n",
    "        for dependency in depencencies:\n",
    "            try:\n",
    "                levels.add(level_map[dependency])\n",
    "            except KeyError:\n",
    "                pass\n",
    "        max_level = max(levels)\n",
    "        level_map[package] = max_level + 1\n",
    "\n",
    "    levels = {\n",
    "        level: []\n",
    "        for level in range(max(level_map.values()) + 1)\n",
    "    }\n",
    "    for package, level in level_map.items():\n",
    "        levels[level].append(package)\n",
    "    \n",
    "    return levels\n",
    "    \n",
    "levels = get_levels(dag)\n",
    "levels"
   ]
  },
  {
   "cell_type": "code",
   "execution_count": null,
   "metadata": {},
   "outputs": [],
   "source": [
    "nodes = \"\"\n",
    "\n",
    "for level in range(max(levels.keys()) + 1):\n",
    "    if levels[level]:\n",
    "        trimmed_nodes = [\n",
    "            simplify(node) for node in levels[level]\n",
    "        ]\n",
    "\n",
    "        grouped_packages = '\"; \"'.join(trimmed_nodes)\n",
    "        nodes += \"\"\"\n",
    "        {{ rank = same; \"{}\"; }}\n",
    "        \"\"\".format(grouped_packages)\n",
    "        \n",
    "print(nodes)"
   ]
  },
  {
   "cell_type": "code",
   "execution_count": null,
   "metadata": {},
   "outputs": [],
   "source": [
    "edges = \"\"\n",
    "current_packages = \"\"\n",
    "\n",
    "current_dependents = set()\n",
    "current_dependencies = set()\n",
    "\n",
    "\n",
    "for module in current_modules:\n",
    "    module_repr = simplify(module)\n",
    "    current_packages += '\"{}\";\\n'.format(module_repr)\n",
    "    \n",
    "    for dependency in dependencies[module]:\n",
    "        simplified = simplify(dependency)\n",
    "        edges += '\"{}\" -> \"{}\";\\n'.format(module_repr, simplified)\n",
    "        if not dependency in current_modules:\n",
    "            current_dependencies.add(simplified)\n",
    "        \n",
    "    for dependent in dependents[module]:\n",
    "        simplified = simplify(dependent)\n",
    "        edges += '\"{}\" -> \"{}\";\\n'.format(simplified, module_repr)\n",
    "        if not dependent in current_modules:\n",
    "            current_dependents.add(simplified)\n",
    "        \n",
    "\n",
    "external_ranks = \"\"\n",
    "if current_dependents:\n",
    "    grouped_dependents = '\"; \"'.join(current_dependents)\n",
    "    external_ranks += '{{ rank = same; \"{}\"; }}\\n'.format(grouped_dependents)\n",
    "\n",
    "if current_dependencies:\n",
    "    grouped_dependencies = '\"; \"'.join(current_dependencies)\n",
    "    external_ranks += '{{ rank = same; \"{}\"; }}\\n'.format(grouped_dependencies)\n",
    "        \n",
    "print(edges)"
   ]
  },
  {
   "cell_type": "code",
   "execution_count": null,
   "metadata": {},
   "outputs": [],
   "source": [
    "dot_file_contents = \"\"\"\n",
    "    strict digraph  {{\n",
    "        rankdir = LR;\n",
    "        \n",
    "    \n",
    "    {}\n",
    "        \n",
    "        subgraph cluster_0 {{\n",
    "            {}\n",
    "            label = \"{}\";\n",
    "            style = dashed;\n",
    "            {}\n",
    "        }}\n",
    "        \n",
    "        {}\n",
    "    }}\n",
    "\"\"\".format(external_ranks, current_packages, graphed_module, nodes, edges)\n",
    "print(dot_file_contents)"
   ]
  },
  {
   "cell_type": "code",
   "execution_count": null,
   "metadata": {},
   "outputs": [],
   "source": [
    "\tsubgraph cluster_0 {\n",
    "\t\tstyle=filled;\n",
    "\t\tcolor=lightgrey;\n",
    "\t\tnode [style=filled,color=white];\n",
    "\t\ta0 -> a1 -> a2 -> a3;\n",
    "\t\tlabel = \"process #1\";\n",
    "\t}"
   ]
  },
  {
   "cell_type": "code",
   "execution_count": null,
   "metadata": {},
   "outputs": [],
   "source": []
  },
  {
   "cell_type": "code",
   "execution_count": null,
   "metadata": {},
   "outputs": [],
   "source": []
  },
  {
   "cell_type": "code",
   "execution_count": null,
   "metadata": {},
   "outputs": [],
   "source": [
    "package_tree.descendants_dependencies('pymedphys_monomanage/parse')"
   ]
  },
  {
   "cell_type": "code",
   "execution_count": null,
   "metadata": {},
   "outputs": [],
   "source": [
    "package_tree.imports"
   ]
  },
  {
   "cell_type": "code",
   "execution_count": null,
   "metadata": {},
   "outputs": [],
   "source": [
    "list(package_tree.digraph.nodes)"
   ]
  },
  {
   "cell_type": "code",
   "execution_count": null,
   "metadata": {},
   "outputs": [],
   "source": []
  }
 ],
 "metadata": {
  "kernelspec": {
   "display_name": "Python 3",
   "language": "python",
   "name": "python3"
  },
  "language_info": {
   "codemirror_mode": {
    "name": "ipython",
    "version": 3
   },
   "file_extension": ".py",
   "mimetype": "text/x-python",
   "name": "python",
   "nbconvert_exporter": "python",
   "pygments_lexer": "ipython3",
   "version": "3.7.1"
  }
 },
 "nbformat": 4,
 "nbformat_minor": 2
}
