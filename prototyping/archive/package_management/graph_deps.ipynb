{
 "cells": [
  {
   "cell_type": "code",
   "execution_count": null,
   "metadata": {},
   "outputs": [],
   "source": [
    "import os\n",
    "from glob import glob\n",
    "import subprocess \n",
    "import json\n",
    "from copy import copy\n",
    "\n",
    "import networkx as nx"
   ]
  },
  {
   "cell_type": "code",
   "execution_count": null,
   "metadata": {},
   "outputs": [],
   "source": [
    "ROOT = '../..'"
   ]
  },
  {
   "cell_type": "code",
   "execution_count": null,
   "metadata": {},
   "outputs": [],
   "source": [
    "package_dirs = list(map(os.path.dirname, glob(os.path.join(ROOT, 'packages/pymedphys*/src/pymedphys*/__init__.py'))))\n",
    "package_dirs"
   ]
  },
  {
   "cell_type": "code",
   "execution_count": null,
   "metadata": {},
   "outputs": [],
   "source": [
    "internal_packages = [os.path.basename(directory) for directory in package_dirs]\n",
    "subpackages = copy(internal_packages)\n",
    "subpackages.remove('pymedphys')\n",
    "subpackages"
   ]
  },
  {
   "cell_type": "code",
   "execution_count": null,
   "metadata": {},
   "outputs": [],
   "source": [
    "dependencies = {} \n",
    "for directory in package_dirs: \n",
    "    package = os.path.basename(directory) \n",
    "    dependencies[package] = json.loads(subprocess.run(\n",
    "        [\"pydeps\", directory, \"--external\"], stdout=subprocess.PIPE).stdout) \n",
    "    \n"
   ]
  },
  {
   "cell_type": "code",
   "execution_count": null,
   "metadata": {},
   "outputs": [],
   "source": [
    "dependencies['pymedphys'] += subpackages\n",
    "dependencies['pymedphys']"
   ]
  },
  {
   "cell_type": "code",
   "execution_count": null,
   "metadata": {},
   "outputs": [],
   "source": [
    "all_modules = set()\n",
    "\n",
    "for dependency_list in dependencies.values(): \n",
    "    for item in dependency_list: \n",
    "        all_modules.add(item) \n"
   ]
  },
  {
   "cell_type": "code",
   "execution_count": null,
   "metadata": {},
   "outputs": [],
   "source": [
    "all_conversion = { \n",
    "    module: module \n",
    "    for module in all_modules \n",
    "}   "
   ]
  },
  {
   "cell_type": "code",
   "execution_count": null,
   "metadata": {},
   "outputs": [],
   "source": [
    "conversion = { \n",
    "    **all_conversion, \n",
    "    'attr': 'attrs', \n",
    "    'PIL': 'Pillow', \n",
    "    'Image': 'Pillow', \n",
    "    'mpl_toolkits': 'matplotlib', \n",
    "    'docker': None, \n",
    "    'collections': None, \n",
    "    'dateutil': None \n",
    "}   "
   ]
  },
  {
   "cell_type": "code",
   "execution_count": null,
   "metadata": {},
   "outputs": [],
   "source": [
    "dependencies_set = { \n",
    "    package: {conversion[module] for module in dependency_list if conversion[module] is not None} \n",
    "    for package, dependency_list in dependencies.items() \n",
    "}\n",
    "dependencies_set"
   ]
  },
  {
   "cell_type": "code",
   "execution_count": null,
   "metadata": {},
   "outputs": [],
   "source": [
    "dag = nx.DiGraph()\n",
    "\n",
    "for key, values in dependencies_set.items(): \n",
    "    dag.add_node(key) \n",
    "    dag.add_nodes_from(values) \n",
    "    edge_tuples = [ \n",
    "        (key, value) for value in values \n",
    "    ] \n",
    "    dag.add_edges_from(edge_tuples) \n",
    "\n",
    "assert nx.is_directed_acyclic_graph(dag)"
   ]
  },
  {
   "cell_type": "code",
   "execution_count": null,
   "metadata": {},
   "outputs": [],
   "source": [
    "topological = list(nx.topological_sort(dag))\n",
    "topological"
   ]
  },
  {
   "cell_type": "code",
   "execution_count": null,
   "metadata": {},
   "outputs": [],
   "source": [
    "minimal_deps = {}\n",
    "\n",
    "for package in topological[::-1]:\n",
    "    if package in internal_packages:\n",
    "        already_dependend_on = set()\n",
    "        package_decendants = nx.descendants(dag, package)\n",
    "        for dependency in package_decendants:\n",
    "            if dependency in minimal_deps.keys():\n",
    "                for already_in in nx.descendants(dag, dependency):\n",
    "                    already_dependend_on.add(already_in)\n",
    "        \n",
    "        minimal_deps[package] = package_decendants.difference(already_dependend_on)\n",
    "        \n",
    "minimal_deps"
   ]
  },
  {
   "cell_type": "code",
   "execution_count": null,
   "metadata": {},
   "outputs": [],
   "source": [
    "tree = {}\n",
    "for package, dependencies in minimal_deps.items():\n",
    "    external = [\n",
    "        dependency for dependency in dependencies \n",
    "        if dependency not in internal_packages\n",
    "    ]\n",
    "    internal = [\n",
    "        dependency for dependency in dependencies \n",
    "        if dependency in internal_packages\n",
    "    ]\n",
    "    tree[package] = {\n",
    "        \"external\": external,\n",
    "        \"internal\": internal\n",
    "    }\n",
    "\n",
    "tree"
   ]
  },
  {
   "cell_type": "code",
   "execution_count": null,
   "metadata": {},
   "outputs": [],
   "source": [
    "dependency_json_filepath = os.path.join(ROOT, 'dependencies.json')\n",
    "\n",
    "with open(dependency_json_filepath, 'r') as file:\n",
    "    data = json.load(file)\n",
    "    \n",
    "data['tree'] = tree\n",
    "\n",
    "with open(dependency_json_filepath, 'w') as file:\n",
    "    json.dump(data, file, indent=2, sort_keys=True)"
   ]
  }
 ],
 "metadata": {
  "kernelspec": {
   "display_name": "Python 3",
   "language": "python",
   "name": "python3"
  },
  "language_info": {
   "codemirror_mode": {
    "name": "ipython",
    "version": 3
   },
   "file_extension": ".py",
   "mimetype": "text/x-python",
   "name": "python",
   "nbconvert_exporter": "python",
   "pygments_lexer": "ipython3",
   "version": "3.7.1"
  }
 },
 "nbformat": 4,
 "nbformat_minor": 2
}
