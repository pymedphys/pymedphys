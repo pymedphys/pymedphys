{
 "cells": [
  {
   "cell_type": "code",
   "execution_count": null,
   "metadata": {},
   "outputs": [],
   "source": [
    "import os\n",
    "import json\n",
    "import yaml\n",
    "\n",
    "from IPython.display import display, Markdown\n",
    "\n",
    "import numpy as np\n",
    "import pandas as pd\n",
    "\n",
    "# from decode_trf import delivery_data_from_logfile\n",
    "\n",
    "from pymedphys.msq import mosaiq_connect\n",
    "from pymedphys.utilities import get_index, get_data_directory, get_filepath, get_gantry_tolerance\n",
    "from pymedphys.logfile import *\n",
    "\n",
    "from pymedphys.plt import pcolormesh_grid"
   ]
  },
  {
   "cell_type": "code",
   "execution_count": null,
   "metadata": {},
   "outputs": [],
   "source": [
    "with open('../config.json') as config_file:\n",
    "    config = json.load(config_file)"
   ]
  },
  {
   "cell_type": "code",
   "execution_count": null,
   "metadata": {},
   "outputs": [],
   "source": [
    "index = get_index(config)"
   ]
  },
  {
   "cell_type": "code",
   "execution_count": null,
   "metadata": {},
   "outputs": [],
   "source": [
    "data_directory = get_data_directory(config)\n",
    "\n",
    "cache_filepath = os.path.join(data_directory, 'cache', 'dmlc_comparison.yaml')\n",
    "cache_scratch_filepath = os.path.join(data_directory, 'cache', 'dmlc_comparison_scratch.yaml')\n",
    "\n",
    "with open(cache_filepath, 'r') as cache_file:\n",
    "    cache = yaml.load(cache_file)"
   ]
  },
  {
   "cell_type": "code",
   "execution_count": null,
   "metadata": {},
   "outputs": [],
   "source": [
    "patient_ids = list(cache.keys())\n",
    "len(patient_ids)"
   ]
  },
  {
   "cell_type": "code",
   "execution_count": null,
   "metadata": {},
   "outputs": [],
   "source": [
    "data = []\n",
    "\n",
    "for patient_id in patient_ids:\n",
    "    for byfield in cache[patient_id]:\n",
    "        for angle in cache[patient_id][byfield]:\n",
    "#             print(cache[patient_id][byfield][angle].keys())\n",
    "            comparison = cache[patient_id][byfield][angle]['median']\n",
    "            file_hashes = cache[patient_id][byfield][angle]['median_filehash_group']\n",
    "            all_comparisons = cache[patient_id][byfield][angle]['comparisons']\n",
    "            all_file_hashes = cache[patient_id][byfield][angle]['filehash_groups']\n",
    "            all_comparisons_flat = []\n",
    "            for key, value in all_comparisons.items():\n",
    "                all_comparisons_flat.append(value)\n",
    "            \n",
    "            data.append([\n",
    "                patient_id, byfield, angle, comparison, file_hashes, tuple(all_comparisons_flat), tuple(all_file_hashes)\n",
    "            ])\n",
    "            \n",
    "comparisons_table = pd.DataFrame(\n",
    "    columns=[\n",
    "        'patient_id', 'field_id',\n",
    "        'gantry_angle', 'comparison',\n",
    "        'file_hashes', 'all_comparisons',\n",
    "        'all_file_hashes'\n",
    "    ],\n",
    "    data=data\n",
    ")\n",
    "\n",
    "comparisons_table = comparisons_table.sort_values('comparison', ascending=False)\n",
    "top_ten = comparisons_table.iloc[0:10]\n",
    "top_ten"
   ]
  },
  {
   "cell_type": "code",
   "execution_count": null,
   "metadata": {},
   "outputs": [],
   "source": [
    "field_id = 77630"
   ]
  },
  {
   "cell_type": "code",
   "execution_count": null,
   "metadata": {},
   "outputs": [],
   "source": [
    "field_ref = comparisons_table['field_id'] == field_id\n",
    "comparisons_table[field_ref]"
   ]
  },
  {
   "cell_type": "code",
   "execution_count": null,
   "metadata": {},
   "outputs": [],
   "source": [
    "worst_row_of_field = comparisons_table[field_ref].iloc[0]"
   ]
  },
  {
   "cell_type": "code",
   "execution_count": null,
   "metadata": {},
   "outputs": [],
   "source": [
    "gantry_angle = worst_row_of_field['gantry_angle']\n",
    "gantry_angle"
   ]
  },
  {
   "cell_type": "code",
   "execution_count": null,
   "metadata": {},
   "outputs": [],
   "source": [
    "gantry_angles = comparisons_table[field_ref]['gantry_angle'].values\n",
    "gantry_angles"
   ]
  },
  {
   "cell_type": "code",
   "execution_count": null,
   "metadata": {},
   "outputs": [],
   "source": [
    "worst_row_of_field['all_file_hashes']"
   ]
  },
  {
   "cell_type": "code",
   "execution_count": null,
   "metadata": {},
   "outputs": [],
   "source": [
    "worst_file_ref = np.argmax(worst_row_of_field['all_comparisons'])\n",
    "logfile_group = worst_row_of_field['all_file_hashes'][worst_file_ref]\n",
    "logfile_group"
   ]
  },
  {
   "cell_type": "code",
   "execution_count": null,
   "metadata": {},
   "outputs": [],
   "source": [
    "file_hash = logfile_group[0]\n",
    "file_hash"
   ]
  },
  {
   "cell_type": "code",
   "execution_count": null,
   "metadata": {},
   "outputs": [],
   "source": [
    "# with mosaiq_connect('msqsql') as cursor:\n",
    "#     comparison = compare_logfile_group_bygantry(\n",
    "#         index, config, cursor, logfile_group, gantry_angle)"
   ]
  },
  {
   "cell_type": "code",
   "execution_count": null,
   "metadata": {},
   "outputs": [],
   "source": [
    "filepath = get_filepath(index, config, file_hash)\n",
    "filepath"
   ]
  },
  {
   "cell_type": "code",
   "execution_count": null,
   "metadata": {},
   "outputs": [],
   "source": [
    "with mosaiq_connect('msqsql') as cursor:\n",
    "    mosaiq_delivery_data = multi_fetch_and_verify_mosaiq(cursor, field_id)"
   ]
  },
  {
   "cell_type": "code",
   "execution_count": null,
   "metadata": {},
   "outputs": [],
   "source": [
    "grid_resolution = 0.25"
   ]
  },
  {
   "cell_type": "code",
   "execution_count": null,
   "metadata": {},
   "outputs": [],
   "source": [
    "mosaiq_mu_density = calc_mu_density_bygantry(\n",
    "    mosaiq_delivery_data, gantry_angle, grid_resolution)\n",
    "\n",
    "normalisation = calc_normalisation(mosaiq_delivery_data)\n",
    "\n",
    "logfile_mu_density = calc_logfile_mu_density_bygantry(\n",
    "    index, config, logfile_group, gantry_angle, grid_resolution)\n",
    "\n",
    "grid_xx = logfile_mu_density[0]\n",
    "grid_yy = logfile_mu_density[1]\n",
    "\n",
    "logfile_mu_density = logfile_mu_density[2]\n",
    "mosaiq_mu_density = mosaiq_mu_density[2]"
   ]
  },
  {
   "cell_type": "code",
   "execution_count": null,
   "metadata": {},
   "outputs": [],
   "source": [
    "min_val = np.min([logfile_mu_density, mosaiq_mu_density])\n",
    "max_val = np.max([logfile_mu_density, mosaiq_mu_density])"
   ]
  },
  {
   "cell_type": "code",
   "execution_count": null,
   "metadata": {},
   "outputs": [],
   "source": [
    "x = grid_xx[0,:]\n",
    "y = grid_yy[:,0]\n",
    "\n",
    "x, y = pcolormesh_grid(x, y)\n",
    "\n",
    "x = -x"
   ]
  },
  {
   "cell_type": "code",
   "execution_count": null,
   "metadata": {},
   "outputs": [],
   "source": [
    "x"
   ]
  },
  {
   "cell_type": "code",
   "execution_count": null,
   "metadata": {},
   "outputs": [],
   "source": [
    "import json"
   ]
  },
  {
   "cell_type": "code",
   "execution_count": null,
   "metadata": {},
   "outputs": [],
   "source": [
    "np.round(logfile_mu_density, 2).tolist()"
   ]
  },
  {
   "cell_type": "code",
   "execution_count": null,
   "metadata": {},
   "outputs": [],
   "source": [
    "to_save = {\n",
    "    'x': x.tolist(),\n",
    "    'y': y.tolist(),\n",
    "    'logfile': np.round(logfile_mu_density, 2).tolist(),\n",
    "    'mosaiq': np.round(mosaiq_mu_density, 2).tolist()\n",
    "}"
   ]
  },
  {
   "cell_type": "code",
   "execution_count": null,
   "metadata": {},
   "outputs": [],
   "source": [
    "save_file_path = r'S:\\Physics\\Programming\\data\\LinacLogFiles\\results\\EPSM2018_77630_investigation.json'"
   ]
  },
  {
   "cell_type": "code",
   "execution_count": null,
   "metadata": {},
   "outputs": [],
   "source": [
    "with open(save_file_path, 'w') as save_file:\n",
    "    json.dump(to_save, save_file)"
   ]
  },
  {
   "cell_type": "code",
   "execution_count": null,
   "metadata": {},
   "outputs": [],
   "source": []
  },
  {
   "cell_type": "code",
   "execution_count": null,
   "metadata": {},
   "outputs": [],
   "source": [
    "plt.figure(figsize=(10,7))\n",
    "plt.pcolormesh(x, y, logfile_mu_density, vmin=min_val, vmax=max_val)\n",
    "plt.colorbar(label='hello')\n",
    "plt.title('Logfile MU density')\n",
    "plt.xlabel('MLC direction (mm)')\n",
    "plt.ylabel('Jaw direction (mm)')\n",
    "\n",
    "plt.axis('equal')\n",
    "\n",
    "plt.xlim([-67, 60])\n",
    "plt.ylim([60, -75])"
   ]
  },
  {
   "cell_type": "code",
   "execution_count": null,
   "metadata": {},
   "outputs": [],
   "source": []
  },
  {
   "cell_type": "code",
   "execution_count": null,
   "metadata": {},
   "outputs": [],
   "source": []
  },
  {
   "cell_type": "code",
   "execution_count": null,
   "metadata": {},
   "outputs": [],
   "source": []
  },
  {
   "cell_type": "code",
   "execution_count": null,
   "metadata": {},
   "outputs": [],
   "source": []
  },
  {
   "cell_type": "code",
   "execution_count": null,
   "metadata": {},
   "outputs": [],
   "source": []
  },
  {
   "cell_type": "code",
   "execution_count": null,
   "metadata": {},
   "outputs": [],
   "source": [
    "get_logfile_delivery_data_bygantry(\n",
    "    index, config, [logfile_group], gantry_angles)"
   ]
  },
  {
   "cell_type": "code",
   "execution_count": null,
   "metadata": {},
   "outputs": [],
   "source": []
  }
 ],
 "metadata": {
  "kernelspec": {
   "display_name": "Python 3",
   "language": "python",
   "name": "python3"
  },
  "language_info": {
   "codemirror_mode": {
    "name": "ipython",
    "version": 3
   },
   "file_extension": ".py",
   "mimetype": "text/x-python",
   "name": "python",
   "nbconvert_exporter": "python",
   "pygments_lexer": "ipython3",
   "version": "3.7.0"
  }
 },
 "nbformat": 4,
 "nbformat_minor": 2
}
