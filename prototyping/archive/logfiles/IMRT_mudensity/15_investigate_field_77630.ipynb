{
 "cells": [
  {
   "cell_type": "code",
   "execution_count": null,
   "metadata": {},
   "outputs": [],
   "source": [
    "%load_ext autoreload\n",
    "%autoreload 2"
   ]
  },
  {
   "cell_type": "code",
   "execution_count": null,
   "metadata": {},
   "outputs": [],
   "source": [
    "import os\n",
    "import json\n",
    "import yaml\n",
    "\n",
    "from IPython.display import display, Markdown\n",
    "\n",
    "import numpy as np\n",
    "import pandas as pd\n",
    "\n",
    "from scipy.interpolate import interp1d\n",
    "# from decode_trf import delivery_data_from_logfile\n",
    "\n",
    "from pymedphys.msq import mosaiq_connect\n",
    "from pymedphys.utilities import get_index, get_data_directory, get_filepath, get_gantry_tolerance\n",
    "from pymedphys.logfile import *\n",
    "from pymedphys.trf import *\n",
    "\n",
    "from pymedphys.mudensity import *\n",
    "\n",
    "from pymedphys.plt import pcolormesh_grid"
   ]
  },
  {
   "cell_type": "code",
   "execution_count": null,
   "metadata": {},
   "outputs": [],
   "source": [
    "with open('../config.json') as config_file:\n",
    "    config = json.load(config_file)"
   ]
  },
  {
   "cell_type": "code",
   "execution_count": null,
   "metadata": {},
   "outputs": [],
   "source": [
    "index = get_index(config)"
   ]
  },
  {
   "cell_type": "code",
   "execution_count": null,
   "metadata": {},
   "outputs": [],
   "source": [
    "data_directory = get_data_directory(config)\n",
    "\n",
    "cache_filepath = os.path.join(data_directory, 'cache', 'dmlc_comparison.yaml')\n",
    "cache_scratch_filepath = os.path.join(data_directory, 'cache', 'dmlc_comparison_scratch.yaml')\n",
    "\n",
    "with open(cache_filepath, 'r') as cache_file:\n",
    "    cache = yaml.load(cache_file)"
   ]
  },
  {
   "cell_type": "code",
   "execution_count": null,
   "metadata": {},
   "outputs": [],
   "source": [
    "patient_ids = list(cache.keys())\n",
    "len(patient_ids)"
   ]
  },
  {
   "cell_type": "code",
   "execution_count": null,
   "metadata": {},
   "outputs": [],
   "source": [
    "data = []\n",
    "\n",
    "for patient_id in patient_ids:\n",
    "    for byfield in cache[patient_id]:\n",
    "        for angle in cache[patient_id][byfield]:\n",
    "#             print(cache[patient_id][byfield][angle].keys())\n",
    "            comparison = cache[patient_id][byfield][angle]['median']\n",
    "            file_hashes = cache[patient_id][byfield][angle]['median_filehash_group']\n",
    "            all_comparisons = cache[patient_id][byfield][angle]['comparisons']\n",
    "            all_file_hashes = cache[patient_id][byfield][angle]['filehash_groups']\n",
    "            all_comparisons_flat = []\n",
    "            for key, value in all_comparisons.items():\n",
    "                all_comparisons_flat.append(value)\n",
    "            \n",
    "            data.append([\n",
    "                patient_id, byfield, angle, comparison, file_hashes, tuple(all_comparisons_flat), tuple(all_file_hashes)\n",
    "            ])\n",
    "            \n",
    "comparisons_table = pd.DataFrame(\n",
    "    columns=[\n",
    "        'patient_id', 'field_id',\n",
    "        'gantry_angle', 'comparison',\n",
    "        'file_hashes', 'all_comparisons',\n",
    "        'all_file_hashes'\n",
    "    ],\n",
    "    data=data\n",
    ")\n",
    "\n",
    "comparisons_table = comparisons_table.sort_values('comparison', ascending=False)\n",
    "top_ten = comparisons_table.iloc[0:10]\n",
    "top_ten"
   ]
  },
  {
   "cell_type": "code",
   "execution_count": null,
   "metadata": {},
   "outputs": [],
   "source": [
    "field_id = 77630"
   ]
  },
  {
   "cell_type": "code",
   "execution_count": null,
   "metadata": {},
   "outputs": [],
   "source": [
    "field_ref = comparisons_table['field_id'] == field_id\n",
    "comparisons_table[field_ref]"
   ]
  },
  {
   "cell_type": "code",
   "execution_count": null,
   "metadata": {},
   "outputs": [],
   "source": [
    "worst_row_of_field = comparisons_table[field_ref].iloc[0]"
   ]
  },
  {
   "cell_type": "code",
   "execution_count": null,
   "metadata": {},
   "outputs": [],
   "source": [
    "gantry_angle = worst_row_of_field['gantry_angle']\n",
    "gantry_angle"
   ]
  },
  {
   "cell_type": "code",
   "execution_count": null,
   "metadata": {},
   "outputs": [],
   "source": [
    "gantry_angles = comparisons_table[field_ref]['gantry_angle'].values\n",
    "gantry_angles"
   ]
  },
  {
   "cell_type": "code",
   "execution_count": null,
   "metadata": {},
   "outputs": [],
   "source": [
    "worst_row_of_field['all_file_hashes']"
   ]
  },
  {
   "cell_type": "code",
   "execution_count": null,
   "metadata": {},
   "outputs": [],
   "source": [
    "worst_file_ref = np.argmax(worst_row_of_field['all_comparisons'])\n",
    "logfile_group = worst_row_of_field['all_file_hashes'][worst_file_ref]\n",
    "logfile_group"
   ]
  },
  {
   "cell_type": "code",
   "execution_count": null,
   "metadata": {},
   "outputs": [],
   "source": [
    "file_hash = logfile_group[0]\n",
    "file_hash"
   ]
  },
  {
   "cell_type": "code",
   "execution_count": null,
   "metadata": {},
   "outputs": [],
   "source": [
    "# with mosaiq_connect('msqsql') as cursor:\n",
    "#     comparison = compare_logfile_group_bygantry(\n",
    "#         index, config, cursor, logfile_group, gantry_angle)"
   ]
  },
  {
   "cell_type": "code",
   "execution_count": null,
   "metadata": {},
   "outputs": [],
   "source": [
    "filepath = get_filepath(index, config, file_hash)\n",
    "filepath"
   ]
  },
  {
   "cell_type": "code",
   "execution_count": null,
   "metadata": {},
   "outputs": [],
   "source": [
    "logfile_delivery_data = delivery_data_from_logfile(filepath)\n",
    "full_logfile = decode_trf(filepath)"
   ]
  },
  {
   "cell_type": "code",
   "execution_count": null,
   "metadata": {},
   "outputs": [],
   "source": [
    "len(logfile_delivery_data.monitor_units)"
   ]
  },
  {
   "cell_type": "code",
   "execution_count": null,
   "metadata": {},
   "outputs": [],
   "source": []
  },
  {
   "cell_type": "code",
   "execution_count": null,
   "metadata": {},
   "outputs": [],
   "source": [
    "control_point_label = full_logfile.columns[0]\n",
    "control_point_label"
   ]
  },
  {
   "cell_type": "code",
   "execution_count": null,
   "metadata": {},
   "outputs": [],
   "source": [
    "\n",
    "mu_label = 'Step Dose/Actual Value (Mu)'"
   ]
  },
  {
   "cell_type": "code",
   "execution_count": null,
   "metadata": {},
   "outputs": [],
   "source": [
    "np.cumsum([0,1,2,0,0,2])"
   ]
  },
  {
   "cell_type": "code",
   "execution_count": null,
   "metadata": {},
   "outputs": [],
   "source": [
    "diff = np.diff(\n",
    "    np.concatenate([[0], full_logfile[mu_label].values])\n",
    ")\n",
    "\n",
    "diff[diff < 0] = 0\n",
    "\n",
    "mu_test = np.cumsum(diff)"
   ]
  },
  {
   "cell_type": "code",
   "execution_count": null,
   "metadata": {},
   "outputs": [],
   "source": [
    "# mu_test = np.cumsum(\n",
    "#     np.diff(\n",
    "#         np.concatenate([[0], full_logfile[mu_label].values])\n",
    "#     )\n",
    "# # )"
   ]
  },
  {
   "cell_type": "code",
   "execution_count": null,
   "metadata": {},
   "outputs": [],
   "source": [
    "monitor_units = np.array(logfile_delivery_data.monitor_units)\n",
    "monitor_units"
   ]
  },
  {
   "cell_type": "code",
   "execution_count": null,
   "metadata": {},
   "outputs": [],
   "source": [
    "plt.plot(mu_test)\n",
    "plt.plot(monitor_units)"
   ]
  },
  {
   "cell_type": "code",
   "execution_count": null,
   "metadata": {},
   "outputs": [],
   "source": [
    "np.allclose(mu_test, monitor_units)"
   ]
  },
  {
   "cell_type": "code",
   "execution_count": null,
   "metadata": {},
   "outputs": [],
   "source": [
    "np.sum(find_relevant_control_points(monitor_units))"
   ]
  },
  {
   "cell_type": "code",
   "execution_count": null,
   "metadata": {},
   "outputs": [],
   "source": [
    "jaw_pos_error_label = 'X1 Diaphragm/Positional Error (mm)'"
   ]
  },
  {
   "cell_type": "code",
   "execution_count": null,
   "metadata": {},
   "outputs": [],
   "source": [
    "jaw_pos_error[3249]"
   ]
  },
  {
   "cell_type": "code",
   "execution_count": null,
   "metadata": {},
   "outputs": [],
   "source": [
    "full_logfile[mu_label].values[3249]"
   ]
  },
  {
   "cell_type": "code",
   "execution_count": null,
   "metadata": {},
   "outputs": [],
   "source": [
    "# jaw_pos_error_label = 'Dlg Y2/Positional Error (mm)'\n",
    "\n",
    "# gantry_angles = np.array(delivery_data.gantry)\n",
    "# jaw_pos_error = full_logfile[jaw_pos_error_label].values\n",
    "\n",
    "# gantry_angle_within_tolerance = (\n",
    "#     np.abs(gantry_angles - gantry_angle) <= gantry_tolerance)\n",
    "\n",
    "# np.max(np.abs(jaw_pos_error[gantry_angle_within_tolerance]))"
   ]
  },
  {
   "cell_type": "code",
   "execution_count": null,
   "metadata": {},
   "outputs": [],
   "source": [
    "delivery_data = logfile_delivery_data\n",
    "gantry_tolerance = 0.5\n",
    "\n",
    "\n",
    "monitor_units = np.array(delivery_data.monitor_units)\n",
    "relevant_control_points = find_relevant_control_points(monitor_units)\n",
    "\n",
    "mu = monitor_units[relevant_control_points]\n",
    "mlc = np.array(delivery_data.mlc)[relevant_control_points]\n",
    "jaw = np.array(delivery_data.jaw)[relevant_control_points]\n",
    "gantry_angles = np.array(delivery_data.gantry)[relevant_control_points]\n",
    "\n",
    "control_points = full_logfile[control_point_label].values[relevant_control_points]\n",
    "jaw_pos_error = full_logfile[jaw_pos_error_label].values[relevant_control_points]\n",
    "\n",
    "gantry_angle_within_tolerance = (\n",
    "    np.abs(gantry_angles - gantry_angle) <= gantry_tolerance)\n",
    "diff_mu = np.concatenate([[0], np.diff(mu)])[gantry_angle_within_tolerance]\n",
    "mu = np.cumsum(diff_mu)\n",
    "\n",
    "mlc = mlc[gantry_angle_within_tolerance]\n",
    "jaw = jaw[gantry_angle_within_tolerance]\n",
    "\n",
    "control_points = control_points[gantry_angle_within_tolerance]\n",
    "jaw_pos_error = jaw_pos_error[gantry_angle_within_tolerance]\n",
    "\n",
    "\n",
    "logfile_mu, logfile_mlc, logfile_jaw = mu, mlc, jaw"
   ]
  },
  {
   "cell_type": "code",
   "execution_count": null,
   "metadata": {},
   "outputs": [],
   "source": [
    "# logfile_mu, logfile_mlc, logfile_jaw = extract_angle_from_delivery_data(logfile_delivery_data, gantry_angle, gantry_tolerance=0.5)"
   ]
  },
  {
   "cell_type": "code",
   "execution_count": null,
   "metadata": {},
   "outputs": [],
   "source": [
    "with mosaiq_connect('msqsql') as cursor:\n",
    "    mosaiq_delivery_data = multi_fetch_and_verify_mosaiq(cursor, field_id)\n",
    "    \n",
    "mosaiq_mu, mosaiq_mlc, mosaiq_jaw = extract_angle_from_delivery_data(mosaiq_delivery_data, gantry_angle)"
   ]
  },
  {
   "cell_type": "code",
   "execution_count": null,
   "metadata": {},
   "outputs": [],
   "source": []
  },
  {
   "cell_type": "code",
   "execution_count": null,
   "metadata": {},
   "outputs": [],
   "source": [
    "# logfile_delivery_data"
   ]
  },
  {
   "cell_type": "code",
   "execution_count": null,
   "metadata": {},
   "outputs": [],
   "source": []
  },
  {
   "cell_type": "code",
   "execution_count": null,
   "metadata": {},
   "outputs": [],
   "source": [
    "grid_resolution = 0.25"
   ]
  },
  {
   "cell_type": "code",
   "execution_count": null,
   "metadata": {},
   "outputs": [],
   "source": [
    "# mosaiq_mu_density = calc_mu_density_bygantry(\n",
    "#     mosaiq_delivery_data, gantry_angle, grid_resolution)\n",
    "\n",
    "# normalisation = calc_normalisation(mosaiq_delivery_data)\n",
    "\n",
    "# logfile_mu_density = calc_logfile_mu_density_bygantry(\n",
    "#     index, config, logfile_group, gantry_angle, grid_resolution)\n",
    "\n",
    "# grid_xx = logfile_mu_density[0]\n",
    "# grid_yy = logfile_mu_density[1]\n",
    "\n",
    "# logfile_mu_density = logfile_mu_density[2]\n",
    "# mosaiq_mu_density = mosaiq_mu_density[2]"
   ]
  },
  {
   "cell_type": "code",
   "execution_count": null,
   "metadata": {},
   "outputs": [],
   "source": [
    "save_file_path = r'S:\\Physics\\Programming\\data\\LinacLogFiles\\results\\EPSM2018_77630_investigation.json'\n",
    "\n",
    "\n",
    "with open(save_file_path, 'r') as save_file:\n",
    "    loaded_data = json.load(save_file)\n",
    "    \n",
    "x = np.array(loaded_data['x'])\n",
    "y = np.array(loaded_data['y'])\n",
    "\n",
    "logfile_mu_density = np.array(loaded_data['logfile'])\n",
    "mosaiq_mu_density = np.array(loaded_data['mosaiq'])"
   ]
  },
  {
   "cell_type": "code",
   "execution_count": null,
   "metadata": {},
   "outputs": [],
   "source": [
    "min_val = np.min([logfile_mu_density, mosaiq_mu_density])\n",
    "max_val = np.max([logfile_mu_density, mosaiq_mu_density])"
   ]
  },
  {
   "cell_type": "code",
   "execution_count": null,
   "metadata": {},
   "outputs": [],
   "source": [
    "# x = grid_xx[0,:]\n",
    "# y = grid_yy[:,0]\n",
    "\n",
    "# x, y = pcolormesh_grid(x, y)\n",
    "\n",
    "# x = -x"
   ]
  },
  {
   "cell_type": "code",
   "execution_count": null,
   "metadata": {},
   "outputs": [],
   "source": [
    "# x"
   ]
  },
  {
   "cell_type": "code",
   "execution_count": null,
   "metadata": {},
   "outputs": [],
   "source": []
  },
  {
   "cell_type": "code",
   "execution_count": null,
   "metadata": {},
   "outputs": [],
   "source": [
    "# to_save = {\n",
    "#     'x': x.tolist(),\n",
    "#     'y': y.tolist(),\n",
    "#     'logfile': np.round(logfile_mu_density, 2).tolist(),\n",
    "#     'mosaiq': np.round(mosaiq_mu_density, 2).tolist()\n",
    "# }"
   ]
  },
  {
   "cell_type": "code",
   "execution_count": null,
   "metadata": {},
   "outputs": [],
   "source": [
    "# save_file_path = r'S:\\Physics\\Programming\\data\\LinacLogFiles\\results\\EPSM2018_77630_investigation.json'"
   ]
  },
  {
   "cell_type": "code",
   "execution_count": null,
   "metadata": {},
   "outputs": [],
   "source": [
    "# with open(save_file_path, 'w') as save_file:\n",
    "#     json.dump(to_save, save_file)"
   ]
  },
  {
   "cell_type": "code",
   "execution_count": null,
   "metadata": {},
   "outputs": [],
   "source": [
    "figsize = (6.5, 9.5)"
   ]
  },
  {
   "cell_type": "code",
   "execution_count": null,
   "metadata": {},
   "outputs": [],
   "source": [
    "plt.figure(figsize=figsize)\n",
    "plt.pcolormesh(x, y, logfile_mu_density, vmin=min_val, vmax=max_val)\n",
    "plt.colorbar(label='MU density')\n",
    "plt.title('Logfile MU density')\n",
    "plt.xlabel('MLC direction (mm)')\n",
    "plt.ylabel('Jaw direction (mm)')\n",
    "\n",
    "plt.axis('equal')\n",
    "\n",
    "plt.xlim([-67, 60])\n",
    "plt.ylim([60, -75])\n",
    "\n",
    "plt.savefig('logfile.png')"
   ]
  },
  {
   "cell_type": "code",
   "execution_count": null,
   "metadata": {},
   "outputs": [],
   "source": [
    "plt.figure(figsize=figsize)\n",
    "plt.pcolormesh(x, y, mosaiq_mu_density, vmin=min_val, vmax=max_val)\n",
    "plt.colorbar(label='MU density')\n",
    "plt.title('Mosaiq MU density')\n",
    "plt.xlabel('MLC direction (mm)')\n",
    "plt.ylabel('Jaw direction (mm)')\n",
    "\n",
    "plt.axis('equal')\n",
    "\n",
    "plt.xlim([-67, 60])\n",
    "plt.ylim([60, -75])\n",
    "\n",
    "plt.savefig('mosaiq.png')"
   ]
  },
  {
   "cell_type": "code",
   "execution_count": null,
   "metadata": {},
   "outputs": [],
   "source": [
    "difference = logfile_mu_density - mosaiq_mu_density\n",
    "max_range = np.max(np.abs(difference))"
   ]
  },
  {
   "cell_type": "code",
   "execution_count": null,
   "metadata": {},
   "outputs": [],
   "source": [
    "plt.figure(figsize=figsize)\n",
    "plt.pcolormesh(x, y, difference, vmin=-max_range, vmax=max_range, cmap='bwr')\n",
    "plt.colorbar(label='Logfile - Mosaiq MU density')\n",
    "plt.title('MU density difference')\n",
    "plt.xlabel('MLC direction (mm)')\n",
    "plt.ylabel('Jaw direction (mm)')\n",
    "\n",
    "plt.axis('equal')\n",
    "\n",
    "plt.xlim([-67, 60])\n",
    "plt.ylim([60, -75])\n",
    "\n",
    "plt.savefig('diff.png')"
   ]
  },
  {
   "cell_type": "code",
   "execution_count": null,
   "metadata": {},
   "outputs": [],
   "source": [
    "figsize2 = (8.5, 9.5)\n",
    "\n",
    "\n",
    "plt.figure(figsize=figsize2)\n",
    "plt.pcolormesh(x, y, difference, vmin=-max_range, vmax=max_range, cmap='bwr')\n",
    "plt.colorbar(label='Logfile - Mosaiq MU density')\n",
    "plt.title('MU density difference')\n",
    "plt.xlabel('MLC direction (mm)')\n",
    "plt.ylabel('Jaw direction (mm)')\n",
    "\n",
    "plt.axis('equal')\n",
    "\n",
    "plt.xlim([-67, 60])\n",
    "plt.ylim([60, -75])\n",
    "\n",
    "plt.savefig('diff.png')"
   ]
  },
  {
   "cell_type": "code",
   "execution_count": null,
   "metadata": {},
   "outputs": [],
   "source": [
    "np.shape(mosaiq_mu)"
   ]
  },
  {
   "cell_type": "code",
   "execution_count": null,
   "metadata": {},
   "outputs": [],
   "source": [
    "np.shape(mosaiq_jaw)"
   ]
  },
  {
   "cell_type": "code",
   "execution_count": null,
   "metadata": {},
   "outputs": [],
   "source": [
    "new_control_point = logfile_mu[np.diff(np.concatenate([[-1], control_points])) != 0]\n",
    "new_control_point"
   ]
  },
  {
   "cell_type": "code",
   "execution_count": null,
   "metadata": {},
   "outputs": [],
   "source": [
    "jaw_interp = interp1d(mosaiq_mu, mosaiq_jaw[:,0])\n",
    "mosaiq_resampled = jaw_interp(logfile_mu)\n",
    "\n",
    "\n",
    "np.max(np.abs(logfile_jaw[:,0] - mosaiq_resampled))"
   ]
  },
  {
   "cell_type": "code",
   "execution_count": null,
   "metadata": {},
   "outputs": [],
   "source": [
    "np.max(np.abs(jaw_pos_error))"
   ]
  },
  {
   "cell_type": "code",
   "execution_count": null,
   "metadata": {},
   "outputs": [],
   "source": [
    "plt.plot(mosaiq_mu, mosaiq_jaw[:,0])\n",
    "plt.plot(logfile_mu, logfile_jaw[:,0])\n",
    "\n",
    "# plt.plot(logfile_mu, control_points)\n",
    "\n",
    "for mu in new_control_point:\n",
    "    plt.plot([mu,mu], [40,65], 'k--', alpha=0.2)\n",
    "    \n",
    "plt.ylim([44,61])"
   ]
  },
  {
   "cell_type": "code",
   "execution_count": null,
   "metadata": {},
   "outputs": [],
   "source": [
    "plot_new_control_point = np.concatenate([new_control_point, [np.max(mosaiq_mu)]])"
   ]
  },
  {
   "cell_type": "code",
   "execution_count": null,
   "metadata": {},
   "outputs": [],
   "source": [
    "jaw_pos_error"
   ]
  },
  {
   "cell_type": "code",
   "execution_count": null,
   "metadata": {},
   "outputs": [],
   "source": [
    "np.max(np.abs(jaw_pos_error))"
   ]
  },
  {
   "cell_type": "code",
   "execution_count": null,
   "metadata": {},
   "outputs": [],
   "source": [
    "plt.figure(figsize=figsize)\n",
    "\n",
    "plt.title('Jaw vs MU')\n",
    "plt.xlabel('Cumulative Monitor Units')\n",
    "plt.ylabel('Jaw position (mm)')\n",
    "\n",
    "plt.plot(mosaiq_mu, mosaiq_jaw[:,0], label='Mosaiq Record')\n",
    "plt.plot(logfile_mu, logfile_jaw[:,0], label='Logfile Record')\n",
    "\n",
    "plt.plot(logfile_mu, logfile_jaw[:,0] + jaw_pos_error, label='Logfile Record')\n",
    "\n",
    "for mu in plot_new_control_point:\n",
    "    plt.plot([mu,mu], [40,65], 'k--', alpha=0.2)\n",
    "\n",
    "plt.plot([mu,mu], [100,100], 'k--', alpha=0.2, label='Control Point Boundaries')\n",
    "# plt.plot([mu2,mu2], [40,65], 'k-', alpha=0.5)\n",
    "\n",
    "plt.ylim([44,61])\n",
    "\n",
    "plt.legend()\n",
    "\n",
    "plt.savefig('jaw.png')\n",
    "\n",
    "plt.show()"
   ]
  },
  {
   "cell_type": "code",
   "execution_count": null,
   "metadata": {},
   "outputs": [],
   "source": [
    "\n",
    "\n",
    "# plt.plot(logfile_mu, control_points)\n",
    "\n",
    "# for mu in new_control_point:\n",
    "#     plt.plot([mu,mu], [40,65], 'k--', alpha=0.2)\n",
    "    \n",
    "\n",
    "\n",
    "for i, (mu1, mu2) in enumerate(zip(plot_new_control_point[0:-1], plot_new_control_point[1::])):\n",
    "    plt.figure()\n",
    "    \n",
    "    plt.title('Jaw vs MU')\n",
    "    plt.xlabel('Cumulative Monitor Units')\n",
    "    plt.ylabel('Jaw position (mm)')\n",
    "    \n",
    "    plt.plot(mosaiq_mu, mosaiq_jaw[:,0])\n",
    "    plt.plot(logfile_mu, logfile_jaw[:,0])\n",
    "    \n",
    "    for mu in plot_new_control_point:\n",
    "        plt.plot([mu,mu], [40,65], 'k--', alpha=0.2)\n",
    "    \n",
    "    plt.plot([mu1,mu1], [40,65], 'k-', alpha=0.5)\n",
    "    plt.plot([mu2,mu2], [40,65], 'k-', alpha=0.5)\n",
    "    \n",
    "    plt.ylim([44,61])\n",
    "    \n",
    "    plt.savefig('{}_jaw.png'.format(i))\n",
    "    \n",
    "    plt.show()"
   ]
  },
  {
   "cell_type": "code",
   "execution_count": null,
   "metadata": {},
   "outputs": [],
   "source": [
    "len(new_control_point)"
   ]
  },
  {
   "cell_type": "code",
   "execution_count": null,
   "metadata": {},
   "outputs": [],
   "source": [
    "np.sort(np.unique(control_points))"
   ]
  },
  {
   "cell_type": "code",
   "execution_count": null,
   "metadata": {},
   "outputs": [],
   "source": [
    "# slice_ref = control_point == control_points\n",
    "# index_ref = np.where(slice_ref)[0]\n",
    "\n",
    "# index_ref"
   ]
  },
  {
   "cell_type": "code",
   "execution_count": null,
   "metadata": {},
   "outputs": [],
   "source": [
    "# slice_ref = control_point == control_points\n",
    "# index_ref = np.where(slice_ref)[0]\n",
    "# if index_ref[0] != 0:\n",
    "#     index_ref = np.concatenate([[index_ref[0] - 1], index_ref])\n",
    "    \n",
    "# index_ref"
   ]
  },
  {
   "cell_type": "code",
   "execution_count": null,
   "metadata": {},
   "outputs": [],
   "source": []
  },
  {
   "cell_type": "code",
   "execution_count": null,
   "metadata": {},
   "outputs": [],
   "source": [
    "mosaiq_cp_mu = []\n",
    "logfile_cp_mu = []\n",
    "\n",
    "\n",
    "for i, control_point in enumerate(np.sort(np.unique(control_points))):\n",
    "    a_slice = slice(i, i + 2, 1)\n",
    "    slice_ref = control_point == control_points\n",
    "    index_ref = np.where(slice_ref)[0]\n",
    "    if index_ref[0] != 0:\n",
    "        index_ref = np.concatenate([[index_ref[0] - 1], index_ref])\n",
    "    \n",
    "    mosaiq_cp_mu.append(np.max(mosaiq_mu[a_slice]) - np.min(mosaiq_mu[a_slice]))\n",
    "    logfile_cp_mu.append(np.max(logfile_mu[index_ref]) - np.min(logfile_mu[index_ref]))\n",
    "\n",
    "    \n",
    "plt.plot(mosaiq_cp_mu)\n",
    "plt.plot(logfile_cp_mu)"
   ]
  },
  {
   "cell_type": "code",
   "execution_count": null,
   "metadata": {},
   "outputs": [],
   "source": [
    "mu_density_by_slice = []\n",
    "\n",
    "for i, control_point in enumerate(np.sort(np.unique(control_points))):\n",
    "    results = dict()\n",
    "    \n",
    "    a_slice = slice(i, i + 2, 1)\n",
    "    slice_ref = control_point == control_points\n",
    "    index_ref = np.where(slice_ref)[0]\n",
    "    if index_ref[0] != 0:\n",
    "        index_ref = np.concatenate([[index_ref[0] - 1], index_ref])\n",
    "    \n",
    "    results['mosaiq'] = calc_mu_density(\n",
    "        mosaiq_mu[a_slice], mosaiq_mlc[a_slice, :, :], \n",
    "        mosaiq_jaw[a_slice, :], grid_resolution=grid_resolution)\n",
    "\n",
    "    results['logfile'] = calc_mu_density(\n",
    "        logfile_mu[index_ref], logfile_mlc[index_ref, :, :],\n",
    "        logfile_jaw[index_ref, :], grid_resolution=grid_resolution)\n",
    "    \n",
    "    mu_density_by_slice.append(results)"
   ]
  },
  {
   "cell_type": "code",
   "execution_count": null,
   "metadata": {},
   "outputs": [],
   "source": [
    "# a_slice = slice(0, 2, 1)\n",
    "\n",
    "# mu = mosaiq_mu[a_slice]\n",
    "# mlc = mosaiq_mlc[a_slice, :, :]\n",
    "# jaw = mosaiq_jaw[a_slice, :]\n",
    "\n",
    "# mosaiq_control_point_mu_density = calc_mu_density(mu, mlc, jaw, grid_resolution=grid_resolution)"
   ]
  },
  {
   "cell_type": "code",
   "execution_count": null,
   "metadata": {},
   "outputs": [],
   "source": [
    "# slice_ref = control_points[0] == control_points\n",
    "\n",
    "# mu = logfile_mu[slice_ref]\n",
    "# mlc = logfile_mlc[slice_ref, :, :]\n",
    "# jaw = logfile_jaw[slice_ref, :]\n",
    "\n",
    "# logfile_control_point_mu_density = calc_mu_density(mu, mlc, jaw, grid_resolution=grid_resolution)"
   ]
  },
  {
   "cell_type": "code",
   "execution_count": null,
   "metadata": {},
   "outputs": [],
   "source": [
    "# mosaiq_control_point_mu_density"
   ]
  },
  {
   "cell_type": "code",
   "execution_count": null,
   "metadata": {},
   "outputs": [],
   "source": [
    "max_all = np.array([\n",
    "    np.max([a_mu_slice['logfile'], a_mu_slice['mosaiq']])\n",
    "    for a_mu_slice in mu_density_by_slice\n",
    "])\n"
   ]
  },
  {
   "cell_type": "code",
   "execution_count": null,
   "metadata": {},
   "outputs": [],
   "source": [
    "max_val = np.max(max_all)"
   ]
  },
  {
   "cell_type": "code",
   "execution_count": null,
   "metadata": {},
   "outputs": [],
   "source": [
    "differences = [\n",
    "    a_mu_slice['logfile'] - a_mu_slice['mosaiq']\n",
    "    for a_mu_slice in mu_density_by_slice\n",
    "]"
   ]
  },
  {
   "cell_type": "code",
   "execution_count": null,
   "metadata": {},
   "outputs": [],
   "source": [
    "max_diff_per_control_point = np.max(np.abs(differences))"
   ]
  },
  {
   "cell_type": "code",
   "execution_count": null,
   "metadata": {},
   "outputs": [],
   "source": [
    "def plot_and_save_per_control_point(i):\n",
    "    logfile_control_point_mu_density = mu_density_by_slice[i]['logfile']\n",
    "    mosaiq_control_point_mu_density = mu_density_by_slice[i]['mosaiq']\n",
    "    slice_difference = differences[i]\n",
    "\n",
    "    figsize = (6.5, 9.5)\n",
    "\n",
    "\n",
    "    plt.figure(figsize=figsize)\n",
    "    plt.pcolormesh(x, y, logfile_control_point_mu_density, vmin=0, vmax=max_val)\n",
    "    plt.colorbar(label='MU density')\n",
    "    plt.title('Logfile MU density')\n",
    "    plt.xlabel('MLC direction (mm)')\n",
    "    plt.ylabel('Jaw direction (mm)')\n",
    "\n",
    "    plt.axis('equal')\n",
    "\n",
    "    plt.xlim([-67, 60])\n",
    "    plt.ylim([60, -75])\n",
    "\n",
    "    plt.savefig(\"{}_logfile.png\".format(i))\n",
    "\n",
    "    plt.show()\n",
    "\n",
    "\n",
    "    plt.figure(figsize=figsize)\n",
    "    plt.pcolormesh(x, y, mosaiq_control_point_mu_density, vmin=0, vmax=max_val)\n",
    "    plt.colorbar(label='MU density')\n",
    "    plt.title('Mosaiq MU density')\n",
    "    plt.xlabel('MLC direction (mm)')\n",
    "    plt.ylabel('Jaw direction (mm)')\n",
    "\n",
    "    plt.axis('equal')\n",
    "\n",
    "    plt.xlim([-67, 60])\n",
    "    plt.ylim([60, -75])\n",
    "\n",
    "    plt.savefig(\"{}_mosaiq.png\".format(i))\n",
    "\n",
    "    plt.show()\n",
    "\n",
    "\n",
    "    plt.figure(figsize=figsize)\n",
    "    plt.pcolormesh(\n",
    "        x, y, slice_difference, \n",
    "        vmin=-max_diff_per_control_point, vmax=max_diff_per_control_point,\n",
    "        cmap='bwr'\n",
    "    )\n",
    "    plt.colorbar(label='Logfile - Mosaiq MU density')\n",
    "    plt.title('MU density difference')\n",
    "    plt.xlabel('MLC direction (mm)')\n",
    "    plt.ylabel('Jaw direction (mm)')\n",
    "\n",
    "    plt.axis('equal')\n",
    "\n",
    "    plt.xlim([-67, 60])\n",
    "    plt.ylim([60, -75])\n",
    "\n",
    "    plt.savefig(\"{}_diff.png\".format(i))\n",
    "\n",
    "    plt.show()"
   ]
  },
  {
   "cell_type": "code",
   "execution_count": null,
   "metadata": {},
   "outputs": [],
   "source": [
    "for i in range(19):\n",
    "    plot_and_save_per_control_point(i)\n",
    "\n"
   ]
  },
  {
   "cell_type": "code",
   "execution_count": null,
   "metadata": {},
   "outputs": [],
   "source": [
    "# plot_and_save_per_control_point(1)"
   ]
  },
  {
   "cell_type": "code",
   "execution_count": null,
   "metadata": {},
   "outputs": [],
   "source": []
  },
  {
   "cell_type": "code",
   "execution_count": null,
   "metadata": {},
   "outputs": [],
   "source": []
  },
  {
   "cell_type": "code",
   "execution_count": null,
   "metadata": {},
   "outputs": [],
   "source": []
  },
  {
   "cell_type": "code",
   "execution_count": null,
   "metadata": {},
   "outputs": [],
   "source": []
  },
  {
   "cell_type": "code",
   "execution_count": null,
   "metadata": {},
   "outputs": [],
   "source": []
  },
  {
   "cell_type": "code",
   "execution_count": null,
   "metadata": {},
   "outputs": [],
   "source": [
    "plt.plot(mosaiq_mu, mosaiq_jaw[:,1])\n",
    "plt.plot(logfile_mu, logfile_jaw[:,1])"
   ]
  },
  {
   "cell_type": "code",
   "execution_count": null,
   "metadata": {},
   "outputs": [],
   "source": [
    "# logfile_delivery_data"
   ]
  },
  {
   "cell_type": "code",
   "execution_count": null,
   "metadata": {},
   "outputs": [],
   "source": [
    "control_points"
   ]
  },
  {
   "cell_type": "code",
   "execution_count": null,
   "metadata": {},
   "outputs": [],
   "source": [
    "control_points"
   ]
  },
  {
   "cell_type": "code",
   "execution_count": null,
   "metadata": {},
   "outputs": [],
   "source": []
  }
 ],
 "metadata": {
  "kernelspec": {
   "display_name": "Python 3",
   "language": "python",
   "name": "python3"
  },
  "language_info": {
   "codemirror_mode": {
    "name": "ipython",
    "version": 3
   },
   "file_extension": ".py",
   "mimetype": "text/x-python",
   "name": "python",
   "nbconvert_exporter": "python",
   "pygments_lexer": "ipython3",
   "version": "3.7.0"
  }
 },
 "nbformat": 4,
 "nbformat_minor": 2
}
