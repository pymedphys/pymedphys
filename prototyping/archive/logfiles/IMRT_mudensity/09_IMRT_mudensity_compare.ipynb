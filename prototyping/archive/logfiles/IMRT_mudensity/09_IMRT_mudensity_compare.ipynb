{
 "cells": [
  {
   "cell_type": "code",
   "execution_count": null,
   "metadata": {},
   "outputs": [],
   "source": [
    "import os\n",
    "import json\n",
    "\n",
    "import numpy as np\n",
    "\n",
    "from pymedphys.level1.msqconnect import mosaiq_connect\n",
    "from pymedphys.level1.configutilities import get_index, get_data_directory\n",
    "from pymedphys.level2.msqdelivery import multi_fetch_and_verify_mosaiq\n",
    "\n",
    "from pymedphys.level4.comparebygantry import (\n",
    "    group_consecutive_logfiles, assert_array_agreement, get_gantry_tolerance,\n",
    "    get_logfile_delivery_data_bygantry, get_logfile_mu_density_bygantry,\n",
    "    get_mosaiq_delivery_data_bygantry, get_mosaiq_mu_density_bygantry,\n",
    "    get_comparison_results, get_mappings, get_comparisons_byfield\n",
    ")"
   ]
  },
  {
   "cell_type": "code",
   "execution_count": null,
   "metadata": {},
   "outputs": [],
   "source": [
    "with open('../config.json') as config_file:\n",
    "    config = json.load(config_file)"
   ]
  },
  {
   "cell_type": "code",
   "execution_count": null,
   "metadata": {},
   "outputs": [],
   "source": [
    "data_directory = get_data_directory(config)\n",
    "\n",
    "cache_filepath = os.path.join(data_directory, 'cache', 'dmlc_comparison.json')\n",
    "cache_scratch_filepath = os.path.join(data_directory, 'cache', 'dmlc_comparison_scratch.json')\n",
    "\n",
    "with open(cache_filepath, 'r') as cache_file:\n",
    "    cache = json.load(cache_file)"
   ]
  },
  {
   "cell_type": "code",
   "execution_count": null,
   "metadata": {},
   "outputs": [],
   "source": [
    "index = get_index(config)\n",
    "file_hashes = np.array(list(index.keys()))\n",
    "\n",
    "field_types = np.array([\n",
    "    index[file_hash]['delivery_details']['field_type']\n",
    "    for file_hash in file_hashes\n",
    "])\n",
    "\n",
    "file_hashes = file_hashes[field_types == 'DMLC']\n",
    "\n",
    "is_qa = np.array([\n",
    "    index[file_hash]['delivery_details']['qa_mode']\n",
    "    for file_hash in file_hashes\n",
    "])\n",
    "\n",
    "file_hashes = file_hashes[np.invert(is_qa)]\n",
    "\n",
    "machine = np.array([\n",
    "    index[file_hash]['logfile_header']['machine']\n",
    "    for file_hash in file_hashes\n",
    "])\n",
    "\n",
    "# limit to RCCC for now\n",
    "file_hashes = file_hashes[(machine == '2619') | (machine == '2694')]\n",
    "np.random.shuffle(file_hashes)\n",
    "\n",
    "# might need course information\n",
    "index[file_hashes[0]]"
   ]
  },
  {
   "cell_type": "code",
   "execution_count": null,
   "metadata": {},
   "outputs": [],
   "source": [
    "patient_grouped_fields, field_id_grouped_hashes = get_mappings(index, file_hashes)"
   ]
  },
  {
   "cell_type": "code",
   "execution_count": null,
   "metadata": {},
   "outputs": [],
   "source": [
    "patient_ids = list(patient_grouped_fields.keys())"
   ]
  },
  {
   "cell_type": "code",
   "execution_count": null,
   "metadata": {},
   "outputs": [],
   "source": [
    "patient_id = patient_ids[0]\n",
    "field_ids = patient_grouped_fields[patient_id]"
   ]
  },
  {
   "cell_type": "code",
   "execution_count": null,
   "metadata": {},
   "outputs": [],
   "source": [
    "patient_id"
   ]
  },
  {
   "cell_type": "code",
   "execution_count": null,
   "metadata": {},
   "outputs": [],
   "source": [
    "# for field_id in field_ids:\n",
    "#     print(field_id_grouped_hashes[field_id])"
   ]
  },
  {
   "cell_type": "code",
   "execution_count": null,
   "metadata": {},
   "outputs": [],
   "source": []
  },
  {
   "cell_type": "code",
   "execution_count": null,
   "metadata": {},
   "outputs": [],
   "source": [
    "def get_comparisons_byfield(index, config, field_ids, field_id_grouped_hashes):    \n",
    "    mosaiq_delivery_data_byfield = dict()\n",
    "\n",
    "    with mosaiq_connect('msqsql') as cursor:\n",
    "        for field_id in field_ids:\n",
    "            mosaiq_delivery_data_byfield[field_id] = multi_fetch_and_verify_mosaiq(\n",
    "                cursor, field_id)\n",
    "\n",
    "    comparisons_byfield = dict()\n",
    "\n",
    "    for field_id in field_ids:\n",
    "        keys = np.array(field_id_grouped_hashes[field_id])\n",
    "        logfile_groups = group_consecutive_logfiles(keys, index)\n",
    "        logfile_groups = [\n",
    "            tuple(group)\n",
    "            for group in logfile_groups\n",
    "        ]\n",
    "\n",
    "        mosaiq_delivery_data = mosaiq_delivery_data_byfield[field_id]\n",
    "        mosaiq_gantry_angles = np.unique(mosaiq_delivery_data.gantry)\n",
    "\n",
    "        logfile_delivery_data_bygantry = get_logfile_delivery_data_bygantry(\n",
    "            index, config, logfile_groups, mosaiq_gantry_angles)\n",
    "        logfile_mu_density_bygantry = get_logfile_mu_density_bygantry(\n",
    "            logfile_groups, mosaiq_gantry_angles, logfile_delivery_data_bygantry)\n",
    "        mosaiq_delivery_data_bygantry = get_mosaiq_delivery_data_bygantry(\n",
    "            mosaiq_delivery_data)\n",
    "        mosaiq_mu_density_bygantry = get_mosaiq_mu_density_bygantry(\n",
    "            mosaiq_delivery_data_bygantry)\n",
    "        comparison_results = get_comparison_results(\n",
    "            mosaiq_mu_density_bygantry, logfile_mu_density_bygantry)\n",
    "\n",
    "        comparisons_byfield[field_id] = comparison_results\n",
    "    \n",
    "    return comparisons_byfield\n",
    "        \n",
    "comparisons_byfield = get_comparisons_byfield(index, config, field_ids, field_id_grouped_hashes)"
   ]
  },
  {
   "cell_type": "code",
   "execution_count": null,
   "metadata": {},
   "outputs": [],
   "source": [
    "comparisons_byfield"
   ]
  },
  {
   "cell_type": "code",
   "execution_count": null,
   "metadata": {},
   "outputs": [],
   "source": []
  },
  {
   "cell_type": "code",
   "execution_count": null,
   "metadata": {},
   "outputs": [],
   "source": []
  },
  {
   "cell_type": "code",
   "execution_count": null,
   "metadata": {},
   "outputs": [],
   "source": []
  },
  {
   "cell_type": "code",
   "execution_count": null,
   "metadata": {},
   "outputs": [],
   "source": []
  },
  {
   "cell_type": "code",
   "execution_count": null,
   "metadata": {},
   "outputs": [],
   "source": []
  }
 ],
 "metadata": {
  "kernelspec": {
   "display_name": "Python 3",
   "language": "python",
   "name": "python3"
  },
  "language_info": {
   "codemirror_mode": {
    "name": "ipython",
    "version": 3
   },
   "file_extension": ".py",
   "mimetype": "text/x-python",
   "name": "python",
   "nbconvert_exporter": "python",
   "pygments_lexer": "ipython3",
   "version": "3.5.5"
  }
 },
 "nbformat": 4,
 "nbformat_minor": 2
}
