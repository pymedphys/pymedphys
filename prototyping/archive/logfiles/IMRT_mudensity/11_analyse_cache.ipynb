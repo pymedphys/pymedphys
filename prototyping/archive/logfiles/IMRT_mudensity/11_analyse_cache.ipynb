{
 "cells": [
  {
   "cell_type": "code",
   "execution_count": null,
   "metadata": {},
   "outputs": [],
   "source": [
    "import os\n",
    "import json\n",
    "import yaml\n",
    "\n",
    "import numpy as np\n",
    "import pandas as pd\n",
    "\n",
    "from decode_trf import delivery_data_from_logfile\n",
    "\n",
    "from pymedphys.level1.msqconnect import mosaiq_connect\n",
    "from pymedphys.level1.configutilities import get_index, get_data_directory, get_filepath, get_gantry_tolerance\n",
    "from pymedphys.level1.mudensity import find_relevant_control_points, calc_mu_density\n",
    "from pymedphys.level2.msqdelivery import multi_fetch_and_verify_mosaiq\n",
    "from pymedphys.level3.analyselogfiles import plot_results, calc_comparison\n",
    "from pymedphys.level4.comparebygantry import (\n",
    "    get_mappings, get_comparisons_byfield, get_logfile_delivery_data_bygantry,\n",
    "    get_logfile_mu_density_bygantry, get_mosaiq_delivery_data_bygantry,\n",
    "    get_mosaiq_mu_density_bygantry, get_comparison_results\n",
    ")"
   ]
  },
  {
   "cell_type": "code",
   "execution_count": null,
   "metadata": {},
   "outputs": [],
   "source": [
    "with open('../config.json') as config_file:\n",
    "    config = json.load(config_file)"
   ]
  },
  {
   "cell_type": "code",
   "execution_count": null,
   "metadata": {},
   "outputs": [],
   "source": [
    "index = get_index(config)"
   ]
  },
  {
   "cell_type": "code",
   "execution_count": null,
   "metadata": {},
   "outputs": [],
   "source": [
    "data_directory = get_data_directory(config)\n",
    "\n",
    "cache_filepath = os.path.join(data_directory, 'cache', 'dmlc_comparison.yaml')\n",
    "cache_scratch_filepath = os.path.join(data_directory, 'cache', 'dmlc_comparison_scratch.yaml')\n",
    "\n",
    "with open(cache_filepath, 'r') as cache_file:\n",
    "    cache = yaml.load(cache_file)"
   ]
  },
  {
   "cell_type": "code",
   "execution_count": null,
   "metadata": {},
   "outputs": [],
   "source": [
    "patient_ids = list(cache.keys())\n",
    "len(patient_ids)"
   ]
  },
  {
   "cell_type": "code",
   "execution_count": null,
   "metadata": {},
   "outputs": [],
   "source": [
    "index = get_index(config)\n",
    "file_hashes = np.array(list(index.keys()))\n",
    "\n",
    "field_types = np.array([\n",
    "    index[file_hash]['delivery_details']['field_type']\n",
    "    for file_hash in file_hashes\n",
    "])\n",
    "\n",
    "file_hashes = file_hashes[field_types == 'DMLC']\n",
    "\n",
    "is_qa = np.array([\n",
    "    index[file_hash]['delivery_details']['qa_mode']\n",
    "    for file_hash in file_hashes\n",
    "])\n",
    "\n",
    "file_hashes = file_hashes[np.invert(is_qa)]\n",
    "\n",
    "machine = np.array([\n",
    "    index[file_hash]['logfile_header']['machine']\n",
    "    for file_hash in file_hashes\n",
    "])\n",
    "\n",
    "# limit to RCCC for now\n",
    "file_hashes = file_hashes[(machine == '2619') | (machine == '2694')]\n",
    "np.random.shuffle(file_hashes)\n",
    "\n",
    "# might need course information\n",
    "index[file_hashes[0]]"
   ]
  },
  {
   "cell_type": "code",
   "execution_count": null,
   "metadata": {},
   "outputs": [],
   "source": [
    "patient_grouped_fields, field_id_grouped_hashes = get_mappings(index, file_hashes)"
   ]
  },
  {
   "cell_type": "code",
   "execution_count": null,
   "metadata": {},
   "outputs": [],
   "source": [
    "data = []\n",
    "\n",
    "for patient_id in patient_ids:\n",
    "    for byfield in cache[patient_id]:\n",
    "        for angle in cache[patient_id][byfield]:\n",
    "            comparison = cache[patient_id][byfield][angle]['median']\n",
    "            file_hashes = cache[patient_id][byfield][angle]['median_filehash_group']\n",
    "            data.append([\n",
    "                patient_id, byfield, angle, comparison, file_hashes\n",
    "            ])\n",
    "            \n",
    "comparisons_table = pd.DataFrame(\n",
    "    columns=[\n",
    "        'patient_id', 'field_id',\n",
    "        'gantry_angle', 'comparison',\n",
    "        'file_hashes'\n",
    "    ],\n",
    "    data=data\n",
    ")\n",
    "\n",
    "comparisons_table = comparisons_table.sort_values('comparison', ascending=False)\n",
    "top_ten = comparisons_table.iloc[0:10]\n",
    "top_ten"
   ]
  },
  {
   "cell_type": "code",
   "execution_count": null,
   "metadata": {},
   "outputs": [],
   "source": [
    "len(comparisons_table)"
   ]
  },
  {
   "cell_type": "code",
   "execution_count": null,
   "metadata": {},
   "outputs": [],
   "source": [
    "# field_id = int(comparisons_table.iloc[0]['field_id'])\n",
    "# field_id"
   ]
  },
  {
   "cell_type": "code",
   "execution_count": null,
   "metadata": {},
   "outputs": [],
   "source": [
    "logfile_group = comparisons_table.iloc[0]['file_hashes']\n",
    "logfile_group"
   ]
  },
  {
   "cell_type": "code",
   "execution_count": null,
   "metadata": {},
   "outputs": [],
   "source": [
    "gantry_angle = comparisons_table.iloc[0]['gantry_angle']\n",
    "gantry_angle"
   ]
  },
  {
   "cell_type": "code",
   "execution_count": null,
   "metadata": {},
   "outputs": [],
   "source": []
  },
  {
   "cell_type": "code",
   "execution_count": null,
   "metadata": {},
   "outputs": [],
   "source": [
    "field_ids = []\n",
    "\n",
    "for logfile_hash in logfile_group:\n",
    "    field_ids.append(index[logfile_hash]['delivery_details']['field_id'])\n",
    "\n",
    "assert len(np.unique(field_ids)) == 1\n",
    "\n",
    "field_id = field_ids[0]\n",
    "field_id"
   ]
  },
  {
   "cell_type": "code",
   "execution_count": null,
   "metadata": {},
   "outputs": [],
   "source": [
    "with mosaiq_connect('msqsql') as cursor:\n",
    "    mosaiq_delivery_data = multi_fetch_and_verify_mosaiq(\n",
    "        cursor, field_id)"
   ]
  },
  {
   "cell_type": "code",
   "execution_count": null,
   "metadata": {},
   "outputs": [],
   "source": [
    "def extract_angle_from_delivery_data(delivery_data, gantry_angle, gantry_tolerance=0):\n",
    "    monitor_units = np.array(delivery_data.monitor_units)\n",
    "    relevant_control_points = find_relevant_control_points(monitor_units)\n",
    "    \n",
    "    mu = monitor_units[relevant_control_points]\n",
    "    mlc = np.array(delivery_data.mlc)[relevant_control_points]\n",
    "    jaw = np.array(delivery_data.jaw)[relevant_control_points]\n",
    "    gantry_angles = np.array(delivery_data.gantry)[relevant_control_points]\n",
    "    \n",
    "    gantry_angle_within_tolerance = (\n",
    "        np.abs(gantry_angles - gantry_angle) <= gantry_tolerance)\n",
    "    diff_mu = np.concatenate([[0], np.diff(mu)])[gantry_angle_within_tolerance]\n",
    "    mu = np.cumsum(diff_mu)\n",
    "    \n",
    "    mlc = mlc[gantry_angle_within_tolerance]\n",
    "    jaw = jaw[gantry_angle_within_tolerance]\n",
    "    \n",
    "    return mu, mlc, jaw"
   ]
  },
  {
   "cell_type": "code",
   "execution_count": null,
   "metadata": {},
   "outputs": [],
   "source": [
    "mosaiq_mu_density = calc_mu_density(\n",
    "    *extract_angle_from_delivery_data(mosaiq_delivery_data, gantry_angle)\n",
    ")"
   ]
  },
  {
   "cell_type": "code",
   "execution_count": null,
   "metadata": {},
   "outputs": [],
   "source": [
    "logfile_mu_density = None\n",
    "\n",
    "for filehash in logfile_group:\n",
    "    filepath = get_filepath(index, config, filehash)\n",
    "    logfile_delivery_data = delivery_data_from_logfile(filepath)\n",
    "    \n",
    "    gantry_tolerance = get_gantry_tolerance(index, filehash, config)\n",
    "    \n",
    "    a_logfile_mu_density = calc_mu_density(\n",
    "        *extract_angle_from_delivery_data(logfile_delivery_data, gantry_angle, gantry_tolerance)\n",
    "    )\n",
    "    \n",
    "    if logfile_mu_density is None:\n",
    "        logfile_mu_density = a_logfile_mu_density\n",
    "    else:\n",
    "        assert np.all(logfile_mu_density[0] == a_logfile_mu_density[0])\n",
    "        assert np.all(logfile_mu_density[1] == a_logfile_mu_density[1])\n",
    "        logfile_mu_density[2] += a_logfile_mu_density[2]"
   ]
  },
  {
   "cell_type": "code",
   "execution_count": null,
   "metadata": {},
   "outputs": [],
   "source": [
    "grid_xx = logfile_mu_density[0]\n",
    "grid_yy = logfile_mu_density[1]\n",
    "\n",
    "comparison = calc_comparison(logfile_mu_density[2], mosaiq_mu_density[2])\n",
    "\n",
    "print(comparison)\n",
    "plot_results(grid_xx, grid_yy, logfile_mu_density[2], mosaiq_mu_density[2])"
   ]
  },
  {
   "cell_type": "code",
   "execution_count": null,
   "metadata": {},
   "outputs": [],
   "source": []
  }
 ],
 "metadata": {
  "kernelspec": {
   "display_name": "Python 3",
   "language": "python",
   "name": "python3"
  },
  "language_info": {
   "codemirror_mode": {
    "name": "ipython",
    "version": 3
   },
   "file_extension": ".py",
   "mimetype": "text/x-python",
   "name": "python",
   "nbconvert_exporter": "python",
   "pygments_lexer": "ipython3",
   "version": "3.6.6"
  }
 },
 "nbformat": 4,
 "nbformat_minor": 2
}
