{
 "cells": [
  {
   "cell_type": "code",
   "execution_count": null,
   "metadata": {},
   "outputs": [],
   "source": [
    "%load_ext autoreload\n",
    "%autoreload 2"
   ]
  },
  {
   "cell_type": "code",
   "execution_count": null,
   "metadata": {},
   "outputs": [],
   "source": [
    "import numpy as np\n",
    "import pandas as pd\n",
    "import matplotlib.pyplot as plt\n",
    "\n",
    "from IPython.display import display, Markdown\n",
    "\n",
    "from pymedphys.logfile import (\n",
    "    get_mappings, get_mu_densities_for_file_hashes\n",
    ")\n",
    "\n",
    "from pymedphys.msq import mosaiq_connect\n",
    "from pymedphys.utilities import get_index\n",
    "\n",
    "from pymedphys.plt import pcolormesh_grid"
   ]
  },
  {
   "cell_type": "code",
   "execution_count": null,
   "metadata": {},
   "outputs": [],
   "source": [
    "config = {\n",
    "    \"linac_logfile_data_directory\": \"S:\\\\Physics\\\\Programming\\\\data\\\\LinacLogFiles\",\n",
    "    \"machine_map\": {\n",
    "    \"2619\": {\n",
    "          \"centre\": \"rccc\",\n",
    "          \"type\": \"elekta-agility\"\n",
    "        },\n",
    "    \"2694\": {\n",
    "          \"centre\": \"rccc\",\n",
    "          \"type\": \"elekta-agility\"\n",
    "        }\n",
    "    },\n",
    "    \"centres\": {\n",
    "        \"rccc\": {\n",
    "          \"timezone\": \"Australia/Sydney\",\n",
    "          \"ois\": \"mosaiq\",\n",
    "          \"ois_specific_data\": {\n",
    "            \"sql_server\": \"msqsql:1433\"\n",
    "          }\n",
    "        }\n",
    "    },\n",
    "    \"machine_types\": {\n",
    "    \"elekta-agility\": {\n",
    "      \"gantry_tolerance\": 0.5\n",
    "    }\n",
    "  },\n",
    "}"
   ]
  },
  {
   "cell_type": "code",
   "execution_count": null,
   "metadata": {},
   "outputs": [],
   "source": [
    "index = get_index(config)\n",
    "file_hashes = np.array(list(index.keys()))\n",
    "\n",
    "field_types = np.array([\n",
    "    index[file_hash]['delivery_details']['field_type']\n",
    "    for file_hash in file_hashes\n",
    "])\n",
    "\n",
    "file_hashes = file_hashes[field_types == 'DMLC']\n",
    "\n",
    "is_qa = np.array([\n",
    "    index[file_hash]['delivery_details']['qa_mode']\n",
    "    for file_hash in file_hashes\n",
    "])\n",
    "\n",
    "file_hashes = file_hashes[np.invert(is_qa)]\n",
    "\n",
    "machine = np.array([\n",
    "    index[file_hash]['logfile_header']['machine']\n",
    "    for file_hash in file_hashes\n",
    "])\n",
    "\n",
    "# limit to RCCC for now\n",
    "file_hashes = file_hashes[(machine == '2619') | (machine == '2694')]\n",
    "np.random.shuffle(file_hashes)\n",
    "\n",
    "# might need course information\n",
    "# index[file_hashes[0]]\n"
   ]
  },
  {
   "cell_type": "code",
   "execution_count": null,
   "metadata": {},
   "outputs": [],
   "source": [
    "# filepath = get_filepath(index, config, file_hash)"
   ]
  },
  {
   "cell_type": "code",
   "execution_count": null,
   "metadata": {},
   "outputs": [],
   "source": [
    "patient_grouped_fields, field_id_grouped_hashes = get_mappings(index, file_hashes)"
   ]
  },
  {
   "cell_type": "code",
   "execution_count": null,
   "metadata": {},
   "outputs": [],
   "source": [
    "# patient_id = ''\n",
    "# cache = {}\n",
    "# field_ids = patient_grouped_fields[patient_id]\n",
    "\n",
    "# field_ids"
   ]
  },
  {
   "cell_type": "code",
   "execution_count": null,
   "metadata": {},
   "outputs": [],
   "source": [
    "field_id = 83306"
   ]
  },
  {
   "cell_type": "code",
   "execution_count": null,
   "metadata": {},
   "outputs": [],
   "source": [
    "file_hashes = np.array(field_id_grouped_hashes[field_id])\n",
    "\n",
    "local_time = np.array([\n",
    "    index[file_hash]['local_time']\n",
    "    for file_hash in file_hashes\n",
    "]).astype(np.datetime64)\n",
    "\n",
    "df = pd.DataFrame(data={'local_time': local_time, 'file_hashes': file_hashes})\n",
    "\n",
    "df = df.sort_values('local_time')\n",
    "df"
   ]
  },
  {
   "cell_type": "code",
   "execution_count": null,
   "metadata": {},
   "outputs": [],
   "source": [
    "date_to_check = '2019-02-21 09:49'\n",
    "surrounding_number_of_hours = 48\n",
    "\n",
    "date = np.array(date_to_check, dtype=np.datetime64)\n",
    "lookup = np.abs(df['local_time'] - date) < np.timedelta64(surrounding_number_of_hours, 'h')\n",
    "\n",
    "file_hashes = df[lookup]['file_hashes'].values\n",
    "file_hashes"
   ]
  },
  {
   "cell_type": "code",
   "execution_count": null,
   "metadata": {},
   "outputs": [],
   "source": [
    "with mosaiq_connect('msqsql') as cursor:\n",
    "    mu_densities = get_mu_densities_for_file_hashes(index, config, cursor, file_hashes)"
   ]
  },
  {
   "cell_type": "code",
   "execution_count": null,
   "metadata": {},
   "outputs": [],
   "source": [
    "mosaiq, logfile, normalisation = mu_densities"
   ]
  },
  {
   "cell_type": "code",
   "execution_count": null,
   "metadata": {},
   "outputs": [],
   "source": [
    "gantry_angles = list(mosaiq.keys())\n",
    "gantry_angles"
   ]
  },
  {
   "cell_type": "code",
   "execution_count": null,
   "metadata": {},
   "outputs": [],
   "source": [
    "figsize = (15, 5)\n",
    "\n",
    "def plot_mu_density(logfile_mu_density, mosaiq_mu_density):\n",
    "    grid_xx = logfile_mu_density[0]\n",
    "    grid_yy = logfile_mu_density[1]\n",
    "\n",
    "    logfile_mu_density = logfile_mu_density[2]\n",
    "    mosaiq_mu_density = mosaiq_mu_density[2]\n",
    "    \n",
    "    min_val = np.min([logfile_mu_density, mosaiq_mu_density])\n",
    "    max_val = np.max([logfile_mu_density, mosaiq_mu_density])\n",
    "    \n",
    "    x = grid_xx[0,:]\n",
    "    y = grid_yy[:,0]\n",
    "\n",
    "    x, y = pcolormesh_grid(x, y)\n",
    "\n",
    "    x = -x\n",
    "    \n",
    "    \n",
    "    fig, (ax1, ax2, ax3) = plt.subplots(1, 3, sharey=True, figsize=figsize);\n",
    "    \n",
    "    plt.figure(figsize=figsize)\n",
    "    im1 = ax1.pcolormesh(x, y, logfile_mu_density, vmin=min_val, vmax=max_val)\n",
    "    fig.colorbar(im1, ax=ax1, label='MU density')\n",
    "    ax1.set_title('Logfile MU density')\n",
    "    ax1.set_xlabel('MLC direction (mm)')\n",
    "    ax1.set_ylabel('Jaw direction (mm)')\n",
    "\n",
    "    ax1.axis('equal')\n",
    "    \n",
    "    im2 = ax2.pcolormesh(x, y, mosaiq_mu_density, vmin=min_val, vmax=max_val)\n",
    "    fig.colorbar(im2, ax=ax2, label='MU density')\n",
    "    ax2.set_title('Mosaiq MU density')\n",
    "    ax2.set_xlabel('MLC direction (mm)')\n",
    "    ax2.set_ylabel('Jaw direction (mm)')\n",
    "\n",
    "    ax2.axis('equal')\n",
    "    \n",
    "    difference = logfile_mu_density - mosaiq_mu_density\n",
    "    max_range = np.max(np.abs(difference))\n",
    "    \n",
    "    im3 = ax3.pcolormesh(x, y, difference, vmin=-max_range, vmax=max_range, cmap='bwr')\n",
    "    fig.colorbar(im3, ax=ax3, label='Logfile - Mosaiq MU density')\n",
    "    ax3.set_title('MU density difference')\n",
    "    ax3.set_xlabel('MLC direction (mm)')\n",
    "    ax3.set_ylabel('Jaw direction (mm)')\n",
    "\n",
    "    ax3.axis('equal');"
   ]
  },
  {
   "cell_type": "code",
   "execution_count": null,
   "metadata": {},
   "outputs": [],
   "source": [
    "for logfile_group in list(logfile.keys()):\n",
    "    for file_hash in logfile_group:\n",
    "        time_stamp = index[file_hash]['local_time']\n",
    "        display(Markdown('## Time Stamp = {}'.format(time_stamp)))\n",
    "\n",
    "    for gantry_angle in gantry_angles:\n",
    "        display(Markdown('### Gantry Angle = {}'.format(gantry_angle)))\n",
    "        mosaiq_mu_density = mosaiq[gantry_angle]\n",
    "        logfile_mu_density = logfile[logfile_group][gantry_angle]\n",
    "\n",
    "        plot_mu_density(logfile_mu_density, mosaiq_mu_density);\n",
    "\n",
    "        plt.show()"
   ]
  }
 ],
 "metadata": {
  "kernelspec": {
   "display_name": "Python 3",
   "language": "python",
   "name": "python3"
  },
  "language_info": {
   "codemirror_mode": {
    "name": "ipython",
    "version": 3
   },
   "file_extension": ".py",
   "mimetype": "text/x-python",
   "name": "python",
   "nbconvert_exporter": "python",
   "pygments_lexer": "ipython3",
   "version": "3.7.0"
  }
 },
 "nbformat": 4,
 "nbformat_minor": 2
}
