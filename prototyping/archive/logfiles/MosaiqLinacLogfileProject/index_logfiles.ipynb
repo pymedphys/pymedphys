{
 "cells": [
  {
   "cell_type": "code",
   "execution_count": null,
   "metadata": {},
   "outputs": [],
   "source": [
    "%load_ext autoreload\n",
    "%autoreload 2"
   ]
  },
  {
   "cell_type": "code",
   "execution_count": null,
   "metadata": {},
   "outputs": [],
   "source": [
    "import json\n",
    "\n",
    "from pymedphys.logfile import index_logfiles"
   ]
  },
  {
   "cell_type": "code",
   "execution_count": null,
   "metadata": {},
   "outputs": [],
   "source": [
    "config_rccc_only = {\n",
    "    \"linac_logfile_data_directory\": \"S:\\\\Physics\\\\Programming\\\\data\\\\LinacLogFiles\",\n",
    "    \"machine_map\": {\n",
    "    \"2619\": {\n",
    "          \"centre\": \"rccc\",\n",
    "          \"type\": \"elekta-agility\"\n",
    "        },\n",
    "    \"2694\": {\n",
    "          \"centre\": \"rccc\",\n",
    "          \"type\": \"elekta-agility\"\n",
    "        }\n",
    "    },\n",
    "    \"centres\": {\n",
    "        \"rccc\": {\n",
    "          \"timezone\": \"Australia/Sydney\",\n",
    "          \"ois\": \"mosaiq\",\n",
    "          \"ois_specific_data\": {\n",
    "            \"sql_server\": \"msqsql:1433\"\n",
    "          }\n",
    "        }\n",
    "    }\n",
    "}"
   ]
  },
  {
   "cell_type": "code",
   "execution_count": null,
   "metadata": {},
   "outputs": [],
   "source": [
    "# with open(r'S:\\Physics\\Programming\\data\\LinacLogFiles\\configuration.json') as config_file:\n",
    "#     config = json.load(config_file)"
   ]
  },
  {
   "cell_type": "code",
   "execution_count": null,
   "metadata": {},
   "outputs": [],
   "source": [
    "index_logfiles(config_rccc_only)"
   ]
  }
 ],
 "metadata": {
  "kernelspec": {
   "display_name": "Python 3",
   "language": "python",
   "name": "python3"
  },
  "language_info": {
   "codemirror_mode": {
    "name": "ipython",
    "version": 3
   },
   "file_extension": ".py",
   "mimetype": "text/x-python",
   "name": "python",
   "nbconvert_exporter": "python",
   "pygments_lexer": "ipython3",
   "version": "3.7.0"
  }
 },
 "nbformat": 4,
 "nbformat_minor": 2
}
