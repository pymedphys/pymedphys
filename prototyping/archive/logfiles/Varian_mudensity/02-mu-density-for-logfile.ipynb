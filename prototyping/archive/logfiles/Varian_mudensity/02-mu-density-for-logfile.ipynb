{
 "cells": [
  {
   "cell_type": "code",
   "execution_count": null,
   "metadata": {},
   "outputs": [],
   "source": [
    "import io\n",
    "import zipfile\n",
    "\n",
    "from glob import glob\n",
    "\n",
    "import numpy as np\n",
    "import matplotlib.pyplot as plt\n",
    "import pandas as pd\n",
    "\n",
    "import pydicom\n",
    "from pydicom.filebase import DicomBytesIO\n",
    "\n",
    "from pymedphys.coll import calc_mu_density, get_grid"
   ]
  },
  {
   "cell_type": "code",
   "execution_count": null,
   "metadata": {},
   "outputs": [],
   "source": [
    "zip_filepath = glob('../../../tests/data/logfiles/Trilogy/*')[0]"
   ]
  },
  {
   "cell_type": "code",
   "execution_count": null,
   "metadata": {},
   "outputs": [],
   "source": [
    "with open(zip_filepath, 'rb') as input_file:\n",
    "    data = io.BytesIO(input_file.read())"
   ]
  },
  {
   "cell_type": "code",
   "execution_count": null,
   "metadata": {},
   "outputs": [],
   "source": [
    "data_zip = zipfile.ZipFile(data)"
   ]
  },
  {
   "cell_type": "code",
   "execution_count": null,
   "metadata": {},
   "outputs": [],
   "source": [
    "data_zip.namelist()"
   ]
  },
  {
   "cell_type": "code",
   "execution_count": null,
   "metadata": {},
   "outputs": [],
   "source": [
    "# pd.read_csv?"
   ]
  },
  {
   "cell_type": "code",
   "execution_count": null,
   "metadata": {},
   "outputs": [],
   "source": [
    "with data_zip.open('VMAT_TS4_2-field_H&N/A20190110141052_Anonymous.dlg') as fp:\n",
    "    dfA = pd.read_csv(fp, skiprows=6, header=None)\n",
    "    \n",
    "with data_zip.open('VMAT_TS4_2-field_H&N/B20190110141052_Anonymous.dlg') as fp:\n",
    "    dfB = pd.read_csv(fp, skiprows=6, header=None)"
   ]
  },
  {
   "cell_type": "code",
   "execution_count": null,
   "metadata": {},
   "outputs": [],
   "source": [
    "# dfA"
   ]
  },
  {
   "cell_type": "code",
   "execution_count": null,
   "metadata": {},
   "outputs": [],
   "source": [
    "dynalog_arrayA = dfA.values\n",
    "dynalog_arrayB = dfB.values\n",
    "# dynalog_arrayA[-1,:]"
   ]
  },
  {
   "cell_type": "code",
   "execution_count": null,
   "metadata": {},
   "outputs": [],
   "source": [
    "Y1A = dynalog_arrayA[:,8]\n",
    "Y1B = dynalog_arrayB[:,8]\n",
    "\n",
    "assert np.all(Y1A == Y1B)\n",
    "\n",
    "Y2A = dynalog_arrayA[:,9]\n",
    "Y2B = dynalog_arrayB[:,9]\n",
    "\n",
    "assert np.all(Y2A == Y2B)\n",
    "\n",
    "\n",
    "jaw = np.array([Y1A, Y2A]).T\n",
    "np.shape(jaw)\n",
    "\n",
    "# jaw"
   ]
  },
  {
   "cell_type": "code",
   "execution_count": null,
   "metadata": {},
   "outputs": [],
   "source": [
    "# mlc_1 = dynalog_array[:,14::4]\n",
    "mlc_A = dynalog_arrayA[:,15::4] / 100\n",
    "mlc_B = dynalog_arrayB[:,15::4] / 100\n",
    "# mlc_3 = dynalog_array[:,16::4]\n",
    "# mlc_4 = dynalog_array[:,17::4]"
   ]
  },
  {
   "cell_type": "markdown",
   "metadata": {},
   "source": [
    "## Couldn't find total MU with Logfile"
   ]
  },
  {
   "cell_type": "code",
   "execution_count": null,
   "metadata": {},
   "outputs": [],
   "source": [
    "### COULDN'T FIND TOTAL MU WITHIN LOGFILE ###\n",
    "assumed_total_mu = 295"
   ]
  },
  {
   "cell_type": "code",
   "execution_count": null,
   "metadata": {},
   "outputs": [],
   "source": [
    "muA = dynalog_arrayA[:,0] / np.max(dynalog_arrayA[:,0]) * assumed_total_mu\n",
    "muB = dynalog_arrayB[:,0] / np.max(dynalog_arrayB[:,0]) * assumed_total_mu\n",
    "\n",
    "assert np.all(muA == muB)\n",
    "\n",
    "mu = muA\n",
    "\n",
    "np.shape(mu)"
   ]
  },
  {
   "cell_type": "code",
   "execution_count": null,
   "metadata": {},
   "outputs": [],
   "source": [
    "# mlc_1"
   ]
  },
  {
   "cell_type": "code",
   "execution_count": null,
   "metadata": {},
   "outputs": [],
   "source": [
    "mlcs = np.swapaxes(np.array([mlc_A, mlc_B]).T, 0, 1)\n",
    "mlcs = mlcs\n",
    "np.shape(mlcs)"
   ]
  },
  {
   "cell_type": "code",
   "execution_count": null,
   "metadata": {},
   "outputs": [],
   "source": [
    "# for i in range(60):\n",
    "#     plt.figure()\n",
    "#     plt.plot(mlc_A[:,i])\n",
    "#     plt.plot(-mlc_B[:,i])\n",
    "\n",
    "#     plt.title(i)\n",
    "#     plt.show()"
   ]
  },
  {
   "cell_type": "code",
   "execution_count": null,
   "metadata": {},
   "outputs": [],
   "source": [
    "leaf_widths = np.array([10., 10., 10., 10., 10., 10., 10., 10., 10., 10.,  5.,  5.,  5.,\n",
    "        5.,  5.,  5.,  5.,  5.,  5.,  5.,  5.,  5.,  5.,  5.,  5.,  5.,\n",
    "        5.,  5.,  5.,  5.,  5.,  5.,  5.,  5.,  5.,  5.,  5.,  5.,  5.,\n",
    "        5.,  5.,  5.,  5.,  5.,  5.,  5.,  5.,  5.,  5.,  5., 10., 10.,\n",
    "       10., 10., 10., 10., 10., 10., 10., 10.])"
   ]
  },
  {
   "cell_type": "code",
   "execution_count": null,
   "metadata": {},
   "outputs": [],
   "source": [
    "mu_density = calc_mu_density(mu, mlcs, jaw, leaf_pair_widths=leaf_widths)"
   ]
  },
  {
   "cell_type": "code",
   "execution_count": null,
   "metadata": {},
   "outputs": [],
   "source": [
    "grid = get_grid(leaf_pair_widths=leaf_widths)"
   ]
  },
  {
   "cell_type": "code",
   "execution_count": null,
   "metadata": {},
   "outputs": [],
   "source": [
    "plt.figure(figsize=(10,8.5))\n",
    "plt.pcolormesh(grid['mlc'][-1::-1], grid['jaw'][-1::-1], mu_density)\n",
    "plt.colorbar()\n",
    "plt.xlabel('MLCX direction (mm)')\n",
    "plt.ylabel('ASYMY travel direction (mm)')\n",
    "\n",
    "plt.axis('equal')"
   ]
  },
  {
   "cell_type": "code",
   "execution_count": null,
   "metadata": {},
   "outputs": [],
   "source": []
  }
 ],
 "metadata": {
  "kernelspec": {
   "display_name": "Python 3",
   "language": "python",
   "name": "python3"
  },
  "language_info": {
   "codemirror_mode": {
    "name": "ipython",
    "version": 3
   },
   "file_extension": ".py",
   "mimetype": "text/x-python",
   "name": "python",
   "nbconvert_exporter": "python",
   "pygments_lexer": "ipython3",
   "version": "3.7.0"
  }
 },
 "nbformat": 4,
 "nbformat_minor": 2
}
