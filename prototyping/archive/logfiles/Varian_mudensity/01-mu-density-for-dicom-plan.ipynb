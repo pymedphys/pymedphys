{
 "cells": [
  {
   "cell_type": "code",
   "execution_count": null,
   "metadata": {},
   "outputs": [],
   "source": [
    "import io\n",
    "import zipfile\n",
    "\n",
    "from glob import glob\n",
    "\n",
    "import numpy as np\n",
    "import matplotlib.pyplot as plt\n",
    "\n",
    "import pydicom\n",
    "from pydicom.filebase import DicomBytesIO\n",
    "\n",
    "from pymedphys.coll import calc_mu_density, get_grid"
   ]
  },
  {
   "cell_type": "code",
   "execution_count": null,
   "metadata": {},
   "outputs": [],
   "source": [
    "zip_filepath = glob('../../../tests/data/logfiles/Trilogy/*')[0]"
   ]
  },
  {
   "cell_type": "code",
   "execution_count": null,
   "metadata": {},
   "outputs": [],
   "source": [
    "with open(zip_filepath, 'rb') as input_file:\n",
    "    data = io.BytesIO(input_file.read())"
   ]
  },
  {
   "cell_type": "code",
   "execution_count": null,
   "metadata": {},
   "outputs": [],
   "source": [
    "data_zip = zipfile.ZipFile(data)"
   ]
  },
  {
   "cell_type": "code",
   "execution_count": null,
   "metadata": {},
   "outputs": [],
   "source": [
    "data_zip.namelist()"
   ]
  },
  {
   "cell_type": "code",
   "execution_count": null,
   "metadata": {},
   "outputs": [],
   "source": [
    "with data_zip.open('VMAT_TS4_2-field_H&N/RP.VMAT_TS4_2-field.dcm') as fp:\n",
    "    raw = DicomBytesIO(fp.read())\n",
    "    dcm = pydicom.dcmread(raw)"
   ]
  },
  {
   "cell_type": "code",
   "execution_count": null,
   "metadata": {},
   "outputs": [],
   "source": [
    "beam_sequence = dcm.BeamSequence[0]"
   ]
  },
  {
   "cell_type": "code",
   "execution_count": null,
   "metadata": {},
   "outputs": [],
   "source": [
    "leaf_boundaries = beam_sequence.BeamLimitingDeviceSequence[2].LeafPositionBoundaries\n",
    "leaf_widths = np.diff(leaf_boundaries)\n",
    "leaf_widths"
   ]
  },
  {
   "cell_type": "code",
   "execution_count": null,
   "metadata": {},
   "outputs": [],
   "source": [
    "np.sum(leaf_widths)"
   ]
  },
  {
   "cell_type": "code",
   "execution_count": null,
   "metadata": {},
   "outputs": [],
   "source": [
    "assert beam_sequence.BeamLimitingDeviceSequence[2].NumberOfLeafJawPairs == len(leaf_widths)\n",
    "\n",
    "num_leaves = len(leaf_widths)"
   ]
  },
  {
   "cell_type": "code",
   "execution_count": null,
   "metadata": {},
   "outputs": [],
   "source": [
    "control_points = beam_sequence.ControlPointSequence"
   ]
  },
  {
   "cell_type": "code",
   "execution_count": null,
   "metadata": {},
   "outputs": [],
   "source": [
    "mlcs = [\n",
    "    control_point.BeamLimitingDevicePositionSequence[-1].LeafJawPositions\n",
    "    for control_point in control_points\n",
    "]\n",
    "\n",
    "mlcs = [\n",
    "    np.array([mlc[num_leaves::], -np.array(mlc[0:num_leaves])]).T\n",
    "    for mlc in mlcs\n",
    "]\n",
    "\n",
    "mlcs = np.array(mlcs)\n",
    "np.shape(mlcs)"
   ]
  },
  {
   "cell_type": "code",
   "execution_count": null,
   "metadata": {},
   "outputs": [],
   "source": [
    "control_points[0].BeamLimitingDevicePositionSequence[1]"
   ]
  },
  {
   "cell_type": "code",
   "execution_count": null,
   "metadata": {},
   "outputs": [],
   "source": [
    "dicom_jaw = control_points[0].BeamLimitingDevicePositionSequence[1].LeafJawPositions\n",
    "\n",
    "jaw = np.array(dicom_jaw)[-1::-1]\n",
    "jaw[1] = -jaw[1]\n",
    "\n",
    "jaw = jaw[None,:] + np.zeros([50,1])\n",
    "\n",
    "np.shape(jaw)"
   ]
  },
  {
   "cell_type": "code",
   "execution_count": null,
   "metadata": {},
   "outputs": [],
   "source": [
    "total_mu = np.array(dcm.FractionGroupSequence[0].ReferencedBeamSequence[0].BeamMeterset)\n",
    "total_mu"
   ]
  },
  {
   "cell_type": "code",
   "execution_count": null,
   "metadata": {},
   "outputs": [],
   "source": [
    "final_mu_weight = np.array(beam_sequence.FinalCumulativeMetersetWeight)\n",
    "final_mu_weight"
   ]
  },
  {
   "cell_type": "code",
   "execution_count": null,
   "metadata": {},
   "outputs": [],
   "source": [
    "mu = [\n",
    "    total_mu * np.array(control_point.CumulativeMetersetWeight) / final_mu_weight\n",
    "    for control_point in control_points\n",
    "]\n",
    "mu = np.array(mu)\n",
    "np.shape(mu)"
   ]
  },
  {
   "cell_type": "code",
   "execution_count": null,
   "metadata": {},
   "outputs": [],
   "source": [
    "mu_density = calc_mu_density(mu, mlcs, jaw, leaf_pair_widths=leaf_widths)"
   ]
  },
  {
   "cell_type": "code",
   "execution_count": null,
   "metadata": {},
   "outputs": [],
   "source": [
    "grid = get_grid(leaf_pair_widths=leaf_widths)"
   ]
  },
  {
   "cell_type": "code",
   "execution_count": null,
   "metadata": {},
   "outputs": [],
   "source": [
    "plt.figure(figsize=(10,8.5))\n",
    "plt.pcolormesh(grid['mlc'][-1::-1], grid['jaw'][-1::-1], mu_density)\n",
    "plt.colorbar()\n",
    "plt.xlabel('MLCX direction (mm)')\n",
    "plt.ylabel('ASYMY travel direction (mm)')\n",
    "\n",
    "plt.axis('equal')\n",
    "# plt.gca().invert_yaxis()"
   ]
  },
  {
   "cell_type": "code",
   "execution_count": null,
   "metadata": {},
   "outputs": [],
   "source": []
  }
 ],
 "metadata": {
  "kernelspec": {
   "display_name": "Python 3",
   "language": "python",
   "name": "python3"
  },
  "language_info": {
   "codemirror_mode": {
    "name": "ipython",
    "version": 3
   },
   "file_extension": ".py",
   "mimetype": "text/x-python",
   "name": "python",
   "nbconvert_exporter": "python",
   "pygments_lexer": "ipython3",
   "version": "3.7.0"
  }
 },
 "nbformat": 4,
 "nbformat_minor": 2
}
