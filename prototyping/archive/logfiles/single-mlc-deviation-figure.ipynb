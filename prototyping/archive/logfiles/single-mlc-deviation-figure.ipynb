{
 "cells": [
  {
   "cell_type": "code",
   "execution_count": null,
   "metadata": {},
   "outputs": [],
   "source": [
    "import os\n",
    "import json\n",
    "import collections\n",
    "from glob import glob\n",
    "\n",
    "import numpy as np\n",
    "import matplotlib.pyplot as plt\n",
    "import matplotlib.transforms as mtransforms\n",
    "\n",
    "from scipy.interpolate import interp1d\n",
    "\n",
    "from pymedphys.msq import mosaiq_connect\n",
    "from pymedphys import Delivery\n",
    "from pymedphys_databases.msq.delivery import delivery_data_from_mosaiq"
   ]
  },
  {
   "cell_type": "code",
   "execution_count": null,
   "metadata": {},
   "outputs": [],
   "source": [
    "field_id = 77695\n",
    "\n",
    "trf_file = glob(\n",
    "    r'S:\\Physics\\Programming\\data\\LinacLogFiles\\indexed\\rccc\\00*\\clinical\\{}_3-1_2ARCVMAT_VMAT\\2017-05-15_141343_2694\\*.trf'.format(\n",
    "    field_id))[0]\n",
    "trf_file"
   ]
  },
  {
   "cell_type": "code",
   "execution_count": null,
   "metadata": {},
   "outputs": [],
   "source": [
    "logfile_delivery = Delivery.from_logfile(trf_file)"
   ]
  },
  {
   "cell_type": "code",
   "execution_count": null,
   "metadata": {},
   "outputs": [],
   "source": [
    "with mosaiq_connect('msqsql') as cursor:\n",
    "    mosaiq_dd = delivery_data_from_mosaiq(cursor, field_id)"
   ]
  },
  {
   "cell_type": "code",
   "execution_count": null,
   "metadata": {},
   "outputs": [],
   "source": [
    "colour = iter(['C0', 'C1', 'C2', 'C3', 'C4', 'C5', 'C6', 'C7', 'C8', 'C9'])\n",
    "\n",
    "fig, ax = plt.subplots(figsize=(7,4))\n",
    "\n",
    "mlc_num = 48\n",
    "leaf_bank = 1\n",
    "\n",
    "jaw = np.array(logfile_delivery.jaw)\n",
    "\n",
    "leaf_pos = (mlc_num - 40) * 5 - 2.5  # Not sufficiently tested\n",
    "is_blocked = np.invert((-jaw[:,0] <= leaf_pos) & (jaw[:,1] >= leaf_pos))\n",
    "\n",
    "ax.plot(mosaiq_dd.monitor_units, np.array(mosaiq_dd.mlc)[:, mlc_num, leaf_bank], next(colour), label='Planned MLC position', alpha=0.8)\n",
    "ax.plot(logfile_delivery.monitor_units, np.array(logfile_delivery.mlc)[:, mlc_num, leaf_bank], next(colour), label='Logfile reported MLC position', alpha=0.8)\n",
    "\n",
    "trans = mtransforms.blended_transform_factory(ax.transData, ax.transAxes)\n",
    "behind_marker = ax.fill_between(\n",
    "    logfile_delivery.monitor_units, 0, 1, \n",
    "    where=is_blocked, facecolor='grey', alpha=0.2, \n",
    "    transform=trans, label='Behind diaphragm')\n",
    "\n",
    "plt.xlabel('Cumulative Monitor Units (MU)')\n",
    "plt.ylabel('Leaf position (mm)')\n",
    "plt.title('A planned and reported leaf position during a VMAT treatment')\n",
    "\n",
    "plt.legend()\n",
    "\n",
    "plt.xlim([0, logfile_delivery.monitor_units[-1]])\n",
    "plt.savefig('mlc_deviation.png',dpi=300)"
   ]
  }
 ],
 "metadata": {
  "kernelspec": {
   "display_name": "Python 3",
   "language": "python",
   "name": "python3"
  },
  "language_info": {
   "codemirror_mode": {
    "name": "ipython",
    "version": 3
   },
   "file_extension": ".py",
   "mimetype": "text/x-python",
   "name": "python",
   "nbconvert_exporter": "python",
   "pygments_lexer": "ipython3",
   "version": "3.7.0"
  }
 },
 "nbformat": 4,
 "nbformat_minor": 4
}
