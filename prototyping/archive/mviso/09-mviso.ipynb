{
 "cells": [
  {
   "cell_type": "code",
   "execution_count": null,
   "metadata": {},
   "outputs": [],
   "source": [
    "import os\n",
    "import datetime\n",
    "from glob import glob\n",
    "import IPython.display\n",
    "\n",
    "import numpy as np\n",
    "import pandas as pd\n",
    "import matplotlib.pyplot as plt\n",
    "\n",
    "import scipy.optimize\n",
    "import scipy.interpolate\n",
    "\n",
    "import pydicom"
   ]
  },
  {
   "cell_type": "code",
   "execution_count": null,
   "metadata": {},
   "outputs": [],
   "source": [
    "data_root = r'S:\\Physics\\Programming\\data\\MVISO\\NBCC\\4299\\20190415'"
   ]
  },
  {
   "cell_type": "code",
   "execution_count": null,
   "metadata": {},
   "outputs": [],
   "source": [
    "output_csv = os.path.join(data_root, 'results.csv')"
   ]
  },
  {
   "cell_type": "code",
   "execution_count": null,
   "metadata": {},
   "outputs": [],
   "source": [
    "data_record = glob(os.path.join(data_root, 'iView*.xlsx'))[0]\n",
    "dicom_files = np.array(glob(os.path.join(data_root, '*.dcm')))"
   ]
  },
  {
   "cell_type": "code",
   "execution_count": null,
   "metadata": {},
   "outputs": [],
   "source": [
    "record = pd.read_excel(data_record, skiprows=4)\n",
    "timestamps_initial = record['Datetime']\n",
    "timestamps = timestamps_initial[timestamps_initial.notnull()].values\n",
    "gantry = record['Gantry'][timestamps_initial.notnull()].values\n",
    "collimator = record['Col'][timestamps_initial.notnull()].values\n",
    "turntable = record['TT'][timestamps_initial.notnull()].values\n",
    "beam = record['Energy'][timestamps_initial.notnull()].values"
   ]
  },
  {
   "cell_type": "code",
   "execution_count": null,
   "metadata": {},
   "outputs": [],
   "source": [
    "datasets = np.array([\n",
    "    pydicom.read_file(dicom_file, force=True)\n",
    "    for dicom_file in dicom_files\n",
    "])"
   ]
  },
  {
   "cell_type": "code",
   "execution_count": null,
   "metadata": {},
   "outputs": [],
   "source": [
    "acquisition_datetimes = np.array([\n",
    "    datetime.datetime.strptime(dataset.AcquisitionDate + dataset.AcquisitionTime, '%Y%m%d%H%M%S.%f')\n",
    "    for dataset in datasets\n",
    "], dtype=np.datetime64)"
   ]
  },
  {
   "cell_type": "code",
   "execution_count": null,
   "metadata": {},
   "outputs": [],
   "source": [
    "diff_map = np.abs(acquisition_datetimes[None,:] - timestamps[:, None]) < np.timedelta64(2, 's')\n",
    "timestamp_index, acquisition_index = np.where(diff_map)"
   ]
  },
  {
   "cell_type": "code",
   "execution_count": null,
   "metadata": {},
   "outputs": [],
   "source": [
    "assert len(set(acquisition_index)) == len(acquisition_index)\n",
    "assert len(acquisition_index) == len(acquisition_datetimes)"
   ]
  },
  {
   "cell_type": "code",
   "execution_count": null,
   "metadata": {},
   "outputs": [],
   "source": [
    "datasets = datasets[acquisition_index]\n",
    "dicom_files = dicom_files[acquisition_index]\n",
    "timestamps = timestamps[timestamp_index]\n",
    "gantry = gantry[timestamp_index]\n",
    "collimator = collimator[timestamp_index]\n",
    "turntable = turntable[timestamp_index]\n",
    "beam = beam[timestamp_index]\n",
    "\n",
    "acquisition_datetimes = np.array([\n",
    "    datetime.datetime.strptime(dataset.AcquisitionDate + dataset.AcquisitionTime, '%Y%m%d%H%M%S.%f')\n",
    "    for dataset in datasets\n",
    "], dtype=np.datetime64)\n",
    "\n",
    "diff_map = np.abs(acquisition_datetimes[None,:] - timestamps[:, None]) < np.timedelta64(2, 's')\n",
    "timestamp_index, acquisition_index = np.where(diff_map)\n",
    "\n",
    "assert np.all(timestamp_index == acquisition_index)"
   ]
  },
  {
   "cell_type": "code",
   "execution_count": null,
   "metadata": {},
   "outputs": [],
   "source": [
    "flipped_pixel_arrays = np.array([\n",
    "    dataset.pixel_array[::-1,:]\n",
    "    for dataset in datasets\n",
    "], copy=True)\n",
    "\n",
    "flipped_pixel_arrays = 1 - flipped_pixel_arrays/2**16"
   ]
  },
  {
   "cell_type": "code",
   "execution_count": null,
   "metadata": {},
   "outputs": [],
   "source": [
    "axis_distance = np.arange(-512, 512)/4\n",
    "\n",
    "initial_mask_distance = 20  # mm\n",
    "\n",
    "first = np.where(axis_distance >= -initial_mask_distance)[0][0]\n",
    "last = np.where(axis_distance > initial_mask_distance)[0][0]\n",
    "\n",
    "mask = slice(first, last)\n",
    "\n",
    "axis_distance = axis_distance[mask]\n",
    "\n",
    "masked_arrays = np.array([\n",
    "    pixel_array[mask, mask]\n",
    "    for pixel_array in flipped_pixel_arrays\n",
    "])"
   ]
  },
  {
   "cell_type": "code",
   "execution_count": null,
   "metadata": {},
   "outputs": [],
   "source": [
    "square_field_side_length = 20  # mm\n",
    "\n",
    "penumbra_width = 3  # mm\n",
    "ball_bearing_diameter = 8 # mm"
   ]
  },
  {
   "cell_type": "code",
   "execution_count": null,
   "metadata": {},
   "outputs": [],
   "source": [
    "dx = 0.05\n",
    "interpolated_distances = np.arange(-initial_mask_distance, initial_mask_distance+dx, dx)\n",
    "\n",
    "xx, yy = np.meshgrid(interpolated_distances, interpolated_distances)\n",
    "xx_flat = np.ravel(xx)\n",
    "yy_flat = np.ravel(yy)"
   ]
  },
  {
   "cell_type": "code",
   "execution_count": null,
   "metadata": {},
   "outputs": [],
   "source": [
    "import numpy as np\n",
    "from scipy.special import erf, erfinv  # pylint: disable=no-name-in-module\n",
    "\n",
    "\n",
    "def gaussian_cdf(x, mu=0, sig=1):\n",
    "    x = np.array(x, copy=False)\n",
    "    return 0.5 * (1 + erf((x - mu) / (sig * np.sqrt(2))))\n",
    "\n",
    "\n",
    "def scaled_penumbra_sig(profile_shoulder_edge=0.8):\n",
    "    sig = 1 / (2 * np.sqrt(2) * erfinv(profile_shoulder_edge * 2 - 1))\n",
    "\n",
    "    return sig\n",
    "\n",
    "\n",
    "def create_dummy_profile_function(centre, field_width, penumbra_width):\n",
    "    sig = scaled_penumbra_sig() * penumbra_width\n",
    "    mu = [centre - field_width/2, centre + field_width/2]\n",
    "\n",
    "    def dummy_profile(x):\n",
    "        return gaussian_cdf(x, mu[0], sig) * gaussian_cdf(-x, -mu[1], sig)\n",
    "\n",
    "    return dummy_profile"
   ]
  },
  {
   "cell_type": "code",
   "execution_count": null,
   "metadata": {},
   "outputs": [],
   "source": [
    "x = np.linspace(-10, 10, 1000)\n",
    "\n",
    "dummy_profile = create_dummy_profile_function(1, 12, 0.5)\n",
    "\n",
    "plt.plot(x, dummy_profile(x))"
   ]
  },
  {
   "cell_type": "code",
   "execution_count": null,
   "metadata": {},
   "outputs": [],
   "source": [
    "from pymedphys_analysis.mocks.profiles import create_dummy_profile_function\n",
    "from pymedphys_analysis.winstonlutz.profiles import penumbra_flip_diff\n",
    "\n",
    "\n",
    "profile_centre = 1.7\n",
    "field_width = 10\n",
    "penumbra_width = 0.3\n",
    "\n",
    "dummy_profile = create_dummy_profile_function(\n",
    "    profile_centre, field_width, penumbra_width)\n",
    "\n",
    "x = np.linspace(-10, 10, 100)\n",
    "y = dummy_profile(x)\n",
    "\n",
    "np.round(y, 2)"
   ]
  },
  {
   "cell_type": "code",
   "execution_count": null,
   "metadata": {},
   "outputs": [],
   "source": [
    "type(dum)"
   ]
  },
  {
   "cell_type": "code",
   "execution_count": null,
   "metadata": {},
   "outputs": [],
   "source": [
    "import scipy.special\n",
    "\n",
    "x = np.linspace(-2.5,2.5)\n",
    "mu = 0\n",
    "sig = 1\n",
    "\n",
    "\n",
    "def gaussian_cdf(x, mu=0, sig=1):\n",
    "    return 0.5 * (1 + scipy.special.erf((x - mu) / (sig * np.sqrt(2))))\n",
    "\n",
    "\n",
    "plt.plot(x, gauss_cdf(x, mu, sig))\n"
   ]
  },
  {
   "cell_type": "code",
   "execution_count": null,
   "metadata": {},
   "outputs": [],
   "source": [
    "def scaled_penumbra_sig(penumbra_shoulder=0.8):\n",
    "    sig = 2 * np.sqrt(2) * scipy.special.erfinv(penumbra_shoulder * 2 - 1)\n",
    "    \n",
    "    return sig"
   ]
  },
  {
   "cell_type": "code",
   "execution_count": null,
   "metadata": {},
   "outputs": [],
   "source": [
    "def create_dummy_profile_function(centre, field_width, penumbra_width):  \n",
    "    sig = scaled_penumbra_sig()\n",
    "    \n",
    "    \n",
    "    \n",
    "    "
   ]
  },
  {
   "cell_type": "code",
   "execution_count": null,
   "metadata": {},
   "outputs": [],
   "source": [
    "sig = scaled_penumbra_sig(0.8)\n",
    "sig"
   ]
  },
  {
   "cell_type": "code",
   "execution_count": null,
   "metadata": {},
   "outputs": [],
   "source": [
    "gaussian_cdf(0.5, sig=sig)"
   ]
  },
  {
   "cell_type": "code",
   "execution_count": null,
   "metadata": {},
   "outputs": [],
   "source": [
    "def edge_normalisation()"
   ]
  },
  {
   "cell_type": "code",
   "execution_count": null,
   "metadata": {},
   "outputs": [],
   "source": [
    "x = np.linspace(-10, 10, 1000)\n",
    "\n",
    "penumb_bound = (sig*np.sqrt(2) * scipy.special.erfinv(0.6) + mu) * 2\n",
    "\n",
    "plt.plot(x, gauss_cdf(x, mu-2, sig/penumb_bound))"
   ]
  },
  {
   "cell_type": "code",
   "execution_count": null,
   "metadata": {},
   "outputs": [],
   "source": [
    "x = np.linspace(-2.5,2.5, 1000)\n",
    "y = gauss_cdf(x, mu, sig)\n",
    "\n",
    "i = 332\n",
    "j = 668\n",
    "\n",
    "x[332]"
   ]
  },
  {
   "cell_type": "code",
   "execution_count": null,
   "metadata": {},
   "outputs": [],
   "source": [
    "gauss_cdf(0, mu, sig/penumb_bound)"
   ]
  },
  {
   "cell_type": "code",
   "execution_count": null,
   "metadata": {},
   "outputs": [],
   "source": [
    "gauss_cdf(-0.84165, mu, sig)"
   ]
  },
  {
   "cell_type": "code",
   "execution_count": null,
   "metadata": {},
   "outputs": [],
   "source": [
    "x[668]"
   ]
  },
  {
   "cell_type": "code",
   "execution_count": null,
   "metadata": {},
   "outputs": [],
   "source": [
    "\n",
    "import os\n",
    "import datetime\n",
    "from glob import glob\n",
    "import IPython.display\n",
    "\n",
    "import numpy as np\n",
    "import pandas as pd\n",
    "import matplotlib.pyplot as plt\n",
    "\n",
    "import scipy.optimize\n",
    "import scipy.interpolate\n",
    "\n",
    "import pydicom\n",
    "\n",
    "from pymedphys_analysis.mocks.profiles import create_square_field_function"
   ]
  },
  {
   "cell_type": "code",
   "execution_count": null,
   "metadata": {},
   "outputs": [],
   "source": [
    "field = create_square_field_function([5,5], 2, 0.3, 10)"
   ]
  },
  {
   "cell_type": "code",
   "execution_count": null,
   "metadata": {},
   "outputs": [],
   "source": [
    "    xx, yy = np.meshgrid(\n",
    "        np.linspace(3, 7, 10),\n",
    "        [4, 5, 6]\n",
    "    )"
   ]
  },
  {
   "cell_type": "code",
   "execution_count": null,
   "metadata": {},
   "outputs": [],
   "source": [
    "np.round(field(xx, yy), 2)"
   ]
  },
  {
   "cell_type": "code",
   "execution_count": null,
   "metadata": {},
   "outputs": [],
   "source": [
    "np.round(field(np.linspace(3,7,10), [5] * 10), 2)"
   ]
  },
  {
   "cell_type": "code",
   "execution_count": null,
   "metadata": {},
   "outputs": [],
   "source": []
  },
  {
   "cell_type": "code",
   "execution_count": null,
   "metadata": {},
   "outputs": [],
   "source": [
    "np.round(field(np.linspace(3,7,10), [4] * 10), 2)"
   ]
  },
  {
   "cell_type": "code",
   "execution_count": null,
   "metadata": {},
   "outputs": [],
   "source": [
    "np.round(field(np.linspace(3,7,10), [6] * 10), 2)"
   ]
  },
  {
   "cell_type": "code",
   "execution_count": null,
   "metadata": {},
   "outputs": [],
   "source": [
    "x = np.linspace(3, 7)\n",
    "xx, yy = np.meshgrid(x, x)\n",
    "\n",
    "zz = field(xx, yy)"
   ]
  },
  {
   "cell_type": "code",
   "execution_count": null,
   "metadata": {},
   "outputs": [],
   "source": [
    "plt.contour(xx, yy, zz, 10)\n",
    "plt.axis('equal')\n",
    "plt.grid()"
   ]
  },
  {
   "cell_type": "code",
   "execution_count": null,
   "metadata": {},
   "outputs": [],
   "source": []
  },
  {
   "cell_type": "code",
   "execution_count": null,
   "metadata": {},
   "outputs": [],
   "source": []
  },
  {
   "cell_type": "code",
   "execution_count": null,
   "metadata": {},
   "outputs": [],
   "source": [
    "x = np.linspace(-10,10)\n",
    "y = np"
   ]
  },
  {
   "cell_type": "code",
   "execution_count": null,
   "metadata": {},
   "outputs": [],
   "source": [
    "penumbra_range = np.linspace(-penumbra_width/2, penumbra_width/2, 11)\n",
    "half_field_range = np.linspace(-square_field_side_length/4, square_field_side_length/4, 51)\n",
    "\n",
    "def get_sum_of_square_penumbra_flip(centre_x, centre_y, interpolation_func):\n",
    "    left_lookup = centre_x - square_field_side_length/2 + penumbra_range\n",
    "    right_lookup = centre_x + square_field_side_length/2 + penumbra_range\n",
    "    x_lookup = np.concatenate([left_lookup, right_lookup])\n",
    "\n",
    "    y_lookup = centre_y + half_field_range\n",
    "\n",
    "    xx_lookup, yy_lookup = np.meshgrid(x_lookup, y_lookup)\n",
    "    xx_lookup_flat = np.ravel(xx_lookup)\n",
    "    yy_lookup_flat = np.ravel(yy_lookup)\n",
    "\n",
    "    penumbra_values_flat = interpolation_func(yy_lookup_flat, xx_lookup_flat)\n",
    "    penumbra_values = np.reshape(penumbra_values_flat, np.shape(xx_lookup))\n",
    "    \n",
    "    weighted_diff = 2*(penumbra_values - penumbra_values[:, ::-1]) / (penumbra_values + penumbra_values[:, ::-1])\n",
    "    \n",
    "    return np.sum((weighted_diff)**2)\n",
    "    \n",
    "    \n",
    "def get_sum_of_square_penumbra_flip_transpose(centre_x, centre_y, interpolation_func):\n",
    "    def transposed_interp_func(y, x):\n",
    "        return interpolation_func(x, y)\n",
    "        \n",
    "    return get_sum_of_square_penumbra_flip(centre_y, centre_x, transposed_interp_func)\n",
    "\n",
    "\n",
    "def get_sum_of_square_both_penumbra_flips(centre_x, centre_y, interpolation):\n",
    "    interpolation_func = interpolation.ev\n",
    "    \n",
    "    return (\n",
    "        get_sum_of_square_penumbra_flip(centre_x, centre_y, interpolation_func) + \n",
    "        get_sum_of_square_penumbra_flip_transpose(centre_x, centre_y, interpolation_func)\n",
    "    )\n",
    "\n",
    "\n",
    "def create_penumbra_minimisation(interpolation):\n",
    "    def to_minimise(centre):\n",
    "        return get_sum_of_square_both_penumbra_flips(centre[1], centre[0], interpolation)\n",
    "    \n",
    "    return to_minimise"
   ]
  },
  {
   "cell_type": "code",
   "execution_count": null,
   "metadata": {},
   "outputs": [],
   "source": [
    "def show_image(pixel_array):\n",
    "    plt.pcolormesh(interpolated_distances, interpolated_distances, pixel_array, clim=[0, 1])\n",
    "    plt.colorbar()\n",
    "    plt.axis('equal')"
   ]
  },
  {
   "cell_type": "code",
   "execution_count": null,
   "metadata": {},
   "outputs": [],
   "source": [
    "def create_print_func(image_to_search):\n",
    "    def print_fun(centre, f, accepted):\n",
    "        print(centre)\n",
    "        print(f)\n",
    "        print(accepted)\n",
    "        \n",
    "        show_image_with_square(image_to_search, centre, square_field_side_length)\n",
    "        \n",
    "    return print_fun"
   ]
  },
  {
   "cell_type": "code",
   "execution_count": null,
   "metadata": {},
   "outputs": [],
   "source": [
    "def create_points_to_check():\n",
    "    number_in_circle = 31\n",
    "    dtheta = 2*np.pi / number_in_circle\n",
    "    t = np.arange(0, 2*np.pi, dtheta)\n",
    "    diameters = ball_bearing_diameter * np.arange(0.1, 0.5, 0.05)\n",
    "\n",
    "    def points_to_check(bb_centre):\n",
    "        x = []\n",
    "        y = []\n",
    "        weight = []\n",
    "        for i, diameter in enumerate(diameters):        \n",
    "            x.append(diameter/2 * np.sin(t + i*dtheta/3) + bb_centre[1])\n",
    "            y.append(diameter/2 * np.cos(t + i*dtheta/3) + bb_centre[0])\n",
    "            \n",
    "            weight.append(np.repeat(np.cos(np.arcsin(diameter/ball_bearing_diameter)), number_in_circle))\n",
    "            \n",
    "        x = np.vstack(x)\n",
    "        y = np.vstack(y)\n",
    "        weight = np.vstack(weight)\n",
    "        \n",
    "        return x, y, weight\n",
    "    \n",
    "    return points_to_check\n",
    "\n",
    "    \n",
    "points_to_check = create_points_to_check()\n",
    "x, y, weight = points_to_check([0,0])\n",
    "\n",
    "\n",
    "plt.plot(x.T, y.T, '.')\n",
    "plt.axis('equal')"
   ]
  },
  {
   "cell_type": "code",
   "execution_count": null,
   "metadata": {},
   "outputs": [],
   "source": [
    "def check_points_by_value(bb_centre, field_centre, interpolation):\n",
    "    x, y, weight = points_to_check(bb_centre)\n",
    "    \n",
    "    results = weight * interpolation.ev(y, x)\n",
    "    results_cost = 10 * np.mean(results)\n",
    "\n",
    "    return results_cost\n",
    "\n",
    "\n",
    "def check_points_by_symmetry(bb_centre, field_centre, interpolation):\n",
    "    x, y, weight = points_to_check(bb_centre)\n",
    "    \n",
    "    results = weight * interpolation.ev(y, x)  \n",
    "    results_mean = np.mean(results, axis=1)\n",
    "    \n",
    "    symmetry = np.mean(((results - results_mean[:,None])/results_mean[:,None])**2)\n",
    "    gradient = np.sum(-np.diff(results_mean) / results_mean[1::])\n",
    "    \n",
    "    return symmetry + gradient\n",
    "\n",
    "def create_circle_to_minimise_stage_1(field_centre, interpolation):\n",
    "    def circle_to_minimise(bb_centre):\n",
    "        return check_points_by_value(bb_centre, field_centre, interpolation)\n",
    "    \n",
    "    return circle_to_minimise\n",
    "\n",
    "\n",
    "def create_circle_to_minimise_stage_2(field_centre, interpolation):\n",
    "    def circle_to_minimise(bb_centre):\n",
    "        return check_points_by_symmetry(bb_centre, field_centre, interpolation)\n",
    "    \n",
    "    return circle_to_minimise"
   ]
  },
  {
   "cell_type": "code",
   "execution_count": null,
   "metadata": {},
   "outputs": [],
   "source": [
    "field_axis_bound = initial_mask_distance - square_field_side_length/2\n",
    "\n",
    "field_bounds = [\n",
    "    (-field_axis_bound, field_axis_bound), (-field_axis_bound, field_axis_bound)\n",
    "]"
   ]
  },
  {
   "cell_type": "code",
   "execution_count": null,
   "metadata": {},
   "outputs": [],
   "source": [
    "def find_ballbearing_centre(field_centre, interpolation):\n",
    "    circle_bounds = [\n",
    "        (\n",
    "            field_centre[0] - square_field_side_length*0.8 / 2 + ball_bearing_diameter/2,\n",
    "            field_centre[0] + square_field_side_length*0.8 / 2 - ball_bearing_diameter/2\n",
    "        ),\n",
    "        (\n",
    "            field_centre[1] - square_field_side_length*0.8 / 2 + ball_bearing_diameter/2,\n",
    "            field_centre[1] + square_field_side_length*0.8 / 2 - ball_bearing_diameter/2\n",
    "        ),\n",
    "    ]\n",
    "    \n",
    "    circle_to_minimise_stage_1 = create_circle_to_minimise_stage_1(field_centre, interpolation)\n",
    "    \n",
    "    bb_results = scipy.optimize.basinhopping(\n",
    "        circle_to_minimise_stage_1, field_centre, T=1, niter=200, niter_success=5, stepsize=0.25,\n",
    "        minimizer_kwargs={\n",
    "            'method': 'L-BFGS-B',\n",
    "            'bounds': circle_bounds\n",
    "        }\n",
    "    )\n",
    "    bb_centre = bb_results.x\n",
    "    \n",
    "#     circle_to_minimise_stage_2 = create_circle_to_minimise_stage_2(field_centre, interpolation)\n",
    "    \n",
    "#     bb_results = scipy.optimize.minimize(\n",
    "#         circle_to_minimise_stage_2, bb_centre, method='L-BFGS-B', bounds=circle_bounds)\n",
    "#     bb_centre = bb_results.x\n",
    "    \n",
    "    \n",
    "    if np.any(np.array(bb_centre)[:,None,None] == np.array(circle_bounds)[None,:,:]):\n",
    "        print(\"BB found at bounds, retrying...\")\n",
    "        bb_centre = find_ballbearing_centre(field_centre, interpolation)\n",
    "    \n",
    "    return bb_centre\n",
    "    "
   ]
  },
  {
   "cell_type": "code",
   "execution_count": null,
   "metadata": {},
   "outputs": [],
   "source": [
    "interpolations = []\n",
    "field_centres = []\n",
    "bb_centres = []\n",
    "field_displacements = []\n",
    "\n",
    "for i, masked_array in enumerate(masked_arrays):  \n",
    "    interpolation = scipy.interpolate.RectBivariateSpline(axis_distance, axis_distance, masked_array, kx=1, ky=1)\n",
    "    interpolations.append(interpolation)\n",
    "    \n",
    "    field_to_minimise = create_penumbra_minimisation(interpolation)\n",
    "    \n",
    "    field_results = scipy.optimize.basinhopping(\n",
    "        field_to_minimise, [0,0], T=1, niter=200, niter_success=5, stepsize=0.25, \n",
    "        minimizer_kwargs={\n",
    "            'method': 'L-BFGS-B',\n",
    "            'bounds': field_bounds\n",
    "        }\n",
    "    )\n",
    "    field_centre = field_results.x\n",
    "    \n",
    "    field_centres.append(field_centre)\n",
    "    \n",
    "    bb_centre = find_ballbearing_centre(field_centre, interpolation)\n",
    "    bb_centres.append(bb_centre)\n",
    "    \n",
    "    field_displacement = (field_centre[0] - bb_centre[0], field_centre[1] - bb_centre[1])\n",
    "    field_displacements.append(field_displacement)"
   ]
  },
  {
   "cell_type": "code",
   "execution_count": null,
   "metadata": {},
   "outputs": [],
   "source": [
    "field_centres = np.array(field_centres)\n",
    "bb_centres = np.array(bb_centres)\n",
    "field_displacements = np.array(field_displacements)"
   ]
  },
  {
   "cell_type": "code",
   "execution_count": null,
   "metadata": {},
   "outputs": [],
   "source": [
    "def plot_square_and_circle_at_field(ax, bb_centre, field_centre, edge_length):    \n",
    "    ax.plot(\n",
    "        [\n",
    "            field_centre[1] - edge_length/2, \n",
    "            field_centre[1] - edge_length/2, \n",
    "            field_centre[1] + edge_length/2,\n",
    "            field_centre[1] + edge_length/2,\n",
    "            field_centre[1] - edge_length/2],\n",
    "        [\n",
    "            field_centre[0] - edge_length/2, \n",
    "            field_centre[0] + edge_length/2, \n",
    "            field_centre[0] + edge_length/2,  \n",
    "            field_centre[0] - edge_length/2, \n",
    "            field_centre[0] - edge_length/2],\n",
    "        'k', lw=2\n",
    "    )\n",
    "    \n",
    "    ax.plot([field_centre[1], bb_centre[1]], [field_centre[0], bb_centre[0]], 'r-', lw=2)\n",
    "\n",
    "    ax.plot(\n",
    "        [field_centre[1]-square_field_side_length/2, field_centre[1]+square_field_side_length/2],\n",
    "        [field_centre[0]-square_field_side_length/2, field_centre[0]+square_field_side_length/2],\n",
    "        'k', lw=0.5\n",
    "    )\n",
    "\n",
    "    ax.plot(\n",
    "        [field_centre[1]-square_field_side_length/2, field_centre[1]+square_field_side_length/2],\n",
    "        [field_centre[0]+square_field_side_length/2, field_centre[0]-square_field_side_length/2],\n",
    "        'k', lw=0.5\n",
    "    )\n",
    "\n",
    "    ax.plot(\n",
    "        [bb_centre[1]-ball_bearing_diameter/2, bb_centre[1]+ball_bearing_diameter/2],\n",
    "        [bb_centre[0], bb_centre[0]],\n",
    "        'k', lw=0.5\n",
    "    )\n",
    "\n",
    "    ax.plot(\n",
    "        [bb_centre[1], bb_centre[1]],\n",
    "        [bb_centre[0]+ball_bearing_diameter/2, bb_centre[0]-ball_bearing_diameter/2],\n",
    "        'k', lw=0.5\n",
    "    )\n",
    "    \n",
    "    t = np.linspace(0, 2*np.pi)\n",
    "    circle_x = ball_bearing_diameter/2 * np.sin(t) + bb_centre[1]\n",
    "    circle_y = ball_bearing_diameter/2 * np.cos(t) + bb_centre[0]\n",
    "    \n",
    "    ax.plot(circle_x, circle_y, 'k', lw=2)"
   ]
  },
  {
   "cell_type": "code",
   "execution_count": null,
   "metadata": {},
   "outputs": [],
   "source": [
    "# i = 0\n",
    "\n",
    "# (\n",
    "#     interpolation, field_centre, bb_centre, field_displacement\n",
    "# ) = interpolations[i], field_centres[i], bb_centres[i], field_displacements[i]\n",
    "\n",
    "\n",
    "# def full_plot(interpolation, field_centre, bb_centre, field_displacement):\n",
    "#     plt.figure(figsize=(10,10))\n",
    "\n",
    "#     plot_circle_at_bb(bb_centre)\n",
    "\n",
    "#     interpolated_image_flat = interpolation.ev(yy_flat, xx_flat)\n",
    "#     interpolated_image = np.reshape(interpolated_image_flat, np.shape(xx))\n",
    "\n",
    "#     show_image_with_square(interpolated_image, field_centre, square_field_side_length)\n",
    "#     plt.plot([field_centre[1], bb_centre[1]], [field_centre[0], bb_centre[0]], 'r-', lw=2)\n",
    "\n",
    "#     plt.plot(\n",
    "#         [field_centre[1]-square_field_side_length/2, field_centre[1]+square_field_side_length/2],\n",
    "#         [field_centre[0]-square_field_side_length/2, field_centre[0]+square_field_side_length/2],\n",
    "#         'k', lw=0.5\n",
    "#     )\n",
    "\n",
    "#     plt.plot(\n",
    "#         [field_centre[1]-square_field_side_length/2, field_centre[1]+square_field_side_length/2],\n",
    "#         [field_centre[0]+square_field_side_length/2, field_centre[0]-square_field_side_length/2],\n",
    "#         'k', lw=0.5\n",
    "#     )\n",
    "\n",
    "#     plt.plot(\n",
    "#         [bb_centre[1]-ball_bearing_diameter/2, bb_centre[1]+ball_bearing_diameter/2],\n",
    "#         [bb_centre[0], bb_centre[0]],\n",
    "#         'k', lw=0.5\n",
    "#     )\n",
    "\n",
    "#     plt.plot(\n",
    "#         [bb_centre[1], bb_centre[1]],\n",
    "#         [bb_centre[0]+ball_bearing_diameter/2, bb_centre[0]-ball_bearing_diameter/2],\n",
    "#         'k', lw=0.5\n",
    "#     )\n",
    "\n",
    "\n",
    "#     assert np.all(field_displacement == (field_centre[0] - bb_centre[0], field_centre[1] - bb_centre[1]))\n",
    "\n",
    "#     title_text = (\n",
    "#         \"Beam: {} | Gantry: {:.0f} | Collimator: {:.0f} | TurnTable: {:.0f} | Displacement (x, y): ({:.2f}, {:.2f})\".format(\n",
    "#             beam[i], gantry[i], collimator[i], turntable[i], field_displacement[1], field_displacement[0])\n",
    "#     )\n",
    "#     plt.title(title_text)\n",
    "    \n",
    "\n",
    "# full_plot(interpolation, field_centre, bb_centre, field_displacement)"
   ]
  },
  {
   "cell_type": "code",
   "execution_count": null,
   "metadata": {},
   "outputs": [],
   "source": [
    "tabulated_data = pd.DataFrame(\n",
    "    index=timestamps,\n",
    "    data=np.array([\n",
    "        beam, gantry, collimator, turntable, \n",
    "        field_centres[:, 1], field_centres[:, 0],\n",
    "        bb_centres[:, 1], bb_centres[:, 0],\n",
    "        field_displacements[:, 1], field_displacements[:, 0]\n",
    "    ]).T,\n",
    "    columns=[\n",
    "        'Beam', 'Gantry', 'Collimator', 'Turn Table', \n",
    "        'Field Centre x (mm)', 'Field Centre y (mm)',\n",
    "        'BB Centre x (mm)', 'BB Centre y (mm)',\n",
    "        'Field - BB x (mm)', 'Field - BB y (mm)',\n",
    "    ]\n",
    ")"
   ]
  },
  {
   "cell_type": "code",
   "execution_count": null,
   "metadata": {},
   "outputs": [],
   "source": [
    "tabulated_data.to_csv(output_csv)"
   ]
  },
  {
   "cell_type": "code",
   "execution_count": null,
   "metadata": {},
   "outputs": [],
   "source": [
    "string_timestamps = tabulated_data.index.strftime('%Y%m%d_%H%M%S').values"
   ]
  },
  {
   "cell_type": "code",
   "execution_count": null,
   "metadata": {},
   "outputs": [],
   "source": [
    "def create_combined_inspection_image(masked_array, interpolation, field_centre, bb_centre, field_displacement):\n",
    "    centres = np.hstack([field_centres, bb_centres])\n",
    "    closest_image_indices = np.argmin(\n",
    "        np.abs(axis_distance[:,None,None] - centres[None,:,:]), axis=0)\n",
    "    \n",
    "    closest_image_index = closest_image_indices[i]\n",
    "    \n",
    "    interpolated_image_flat = interpolation.ev(yy_flat, xx_flat)\n",
    "    interpolated_image = np.reshape(interpolated_image_flat, np.shape(xx))\n",
    "\n",
    "    fig, ((ax11, ax12), (ax21, ax22), (ax31, ax32)) = plt.subplots(3, 2, figsize=(12,15))\n",
    "\n",
    "    title_text = (\n",
    "        \"Beam: {} | Gantry: {:.0f} | Collimator: {:.0f} | TurnTable: {:.0f} | Displacement (x, y): ({:.2f}, {:.2f})\".format(\n",
    "            beam[i], gantry[i], collimator[i], turntable[i], field_displacement[1], field_displacement[0])\n",
    "    )\n",
    "    fig.suptitle(title_text, fontsize=16)\n",
    "\n",
    "    c11 = ax11.pcolormesh(axis_distance, axis_distance, masked_array, clim=[0, 1])\n",
    "    fig.colorbar(c11, ax=ax11, label='Scaled image pixel value')\n",
    "    ax11.axis('equal')\n",
    "    ax11.set_title('Original image resolution')\n",
    "    ax11.set_xlabel('x (mm)')\n",
    "    ax11.set_ylabel('y (mm)')\n",
    "\n",
    "    c12 = ax12.pcolormesh(interpolated_distances, interpolated_distances, interpolated_image, clim=[0, 1])\n",
    "    fig.colorbar(c12, ax=ax12, label='Scaled image pixel value')\n",
    "\n",
    "    plot_square_and_circle_at_field(ax12, bb_centre, field_centre, square_field_side_length)\n",
    "    ax12.set_title('Interpolated image with field and BB overlay')\n",
    "    ax12.axis('equal')\n",
    "    ax12.set_xlabel('x (mm)')\n",
    "    ax12.set_ylabel('y (mm)')\n",
    "\n",
    "    ax21.set_title(\"x centred and flipped about field centre\")\n",
    "    ax21.plot(axis_distance - field_centre[1], masked_array[closest_image_index[0],:])\n",
    "    ax21.plot(field_centre[1] - axis_distance, masked_array[closest_image_index[0],:])\n",
    "    ax21.set_xlabel('x (mm)')\n",
    "    ax21.set_ylabel('Scaled image pixel value')\n",
    "\n",
    "    ax22.set_title(\"y centred and flipped about field centre\")\n",
    "    ax22.plot(axis_distance - field_centre[0], masked_array[:,closest_image_index[1]])\n",
    "    ax22.plot(field_centre[0] - axis_distance, masked_array[:,closest_image_index[1]])\n",
    "    ax22.set_xlabel('y (mm)')\n",
    "    ax22.set_ylabel('Scaled image pixel value')\n",
    "\n",
    "    ax31.set_title(\"x centred and flipped about ball bearing centre\")\n",
    "    ax31.plot(axis_distance - bb_centre[1], masked_array[closest_image_index[2],:])\n",
    "    ax31.plot(bb_centre[1] - axis_distance, masked_array[closest_image_index[2],:])\n",
    "    ax31.set_xlabel('x (mm)')\n",
    "    ax31.set_ylabel('Scaled image pixel value')\n",
    "\n",
    "    ax32.set_title(\"y centred and flipped about ball bearing centre\")\n",
    "    ax32.plot(axis_distance - bb_centre[0], masked_array[:,closest_image_index[3]])\n",
    "    ax32.plot(bb_centre[0] - axis_distance, masked_array[:,closest_image_index[3]])\n",
    "    ax32.set_xlabel('y (mm)')\n",
    "    ax32.set_ylabel('Scaled image pixel value')\n",
    "    \n",
    "\n",
    "    \n",
    "# i = 0\n",
    "\n",
    "# # axis_distance\n",
    "# masked_array = masked_arrays[i]\n",
    "# bb_centre = bb_centres[i]\n",
    "# field_centre = field_centres[i]\n",
    "# interpolation = interpolations[i]\n",
    "# field_displacement = field_displacements[i]\n",
    "\n",
    "# create_combined_inspection_image(masked_array, interpolation, field_centre, bb_centre, field_displacement)"
   ]
  },
  {
   "cell_type": "code",
   "execution_count": null,
   "metadata": {},
   "outputs": [],
   "source": [
    "# fff_6MV_ref = (tabulated_data['Beam'] == '6FFF') | (tabulated_data['Beam'] == '6fff')\n",
    "\n",
    "# fff_6MV = tabulated_data[fff_6MV_ref]\n",
    "# plt.scatter(fff_6MV['Gantry'], fff_6MV['Field - BB x (mm)'], label='x deviation')\n",
    "# plt.scatter(fff_6MV['Gantry'], fff_6MV['Field - BB y (mm)'], label='y deviation')\n",
    "\n",
    "# plt.xlabel('Gantry Angle')\n",
    "# plt.ylabel('Field - BB iView Imaging Plane Deviation (mm)')\n",
    "\n",
    "# plt.legend()\n",
    "# plt.title('6MV FFF')"
   ]
  },
  {
   "cell_type": "code",
   "execution_count": null,
   "metadata": {},
   "outputs": [],
   "source": [
    "# def plot_a_subset(tabulated_data, beam, colour_gen):\n",
    "#     ref = tabulated_data['Beam'] == beam\n",
    "#     subset = tabulated_data[ref]\n",
    "#     sorted_subset = subset.sort_values('Gantry')\n",
    "    \n",
    "#     colour = next(colour_gen)\n",
    "    \n",
    "#     plt.plot(sorted_subset['Gantry'], sorted_subset['Field - BB x (mm)'], 'o--', label='{} (x)'.format(beam), c=colour)\n",
    "# #     plt.plot(sorted_subset['Gantry'], sorted_subset['Field - BB y (mm)'], 's-.', label='{} (y)'.format(beam), c=colour)\n",
    "\n"
   ]
  },
  {
   "cell_type": "code",
   "execution_count": null,
   "metadata": {},
   "outputs": [],
   "source": [
    "# def colours():\n",
    "#     cycle = plt.rcParams['axes.prop_cycle'].by_key()['color']\n",
    "#     for colour in cycle:\n",
    "#         yield colour"
   ]
  },
  {
   "cell_type": "code",
   "execution_count": null,
   "metadata": {},
   "outputs": [],
   "source": [
    "# colour_gen = colours()\n",
    "# plt.figure(figsize=(15,10))\n",
    "\n",
    "# plot_a_subset(tabulated_data, '6Flat', colour_gen)\n",
    "# plot_a_subset(tabulated_data, '10Flat', colour_gen)\n",
    "# plot_a_subset(tabulated_data, '6FFF', colour_gen)\n",
    "# plot_a_subset(tabulated_data, '10FFF', colour_gen)\n",
    "\n",
    "# plt.xlabel('Gantry Angle (degrees)')\n",
    "# plt.ylabel('Field - BB iView Imaging Plane Deviation (mm)')\n",
    "\n",
    "# plt.grid(which='major')\n",
    "# plt.grid(which='minor', linestyle='--')\n",
    "# plt.minorticks_on()\n",
    "\n",
    "# plt.legend()\n",
    "# plt.title('6MV Flat and 6MV FFF, varying gantry. Colimator 0, TT 0.')"
   ]
  },
  {
   "cell_type": "code",
   "execution_count": null,
   "metadata": {},
   "outputs": [],
   "source": [
    "for i, (interpolation, field_centre, bb_centre) in enumerate(zip(interpolations, field_centres, bb_centres)):   \n",
    "\n",
    "    create_combined_inspection_image(\n",
    "        masked_arrays[i], interpolation, field_centre, bb_centre, field_displacements[i])\n",
    "    file_name = \"{}_{}_G{:+04.0f}_C{:+04.0f}_TT{:+03.0f}\".format(\n",
    "        string_timestamps[i], beam[i], gantry[i], collimator[i], turntable[i])\n",
    "    \n",
    "    file_path = os.path.join(data_root, file_name)\n",
    "    \n",
    "    plt.savefig(file_path)    \n",
    "\n",
    "    plt.show()"
   ]
  },
  {
   "cell_type": "code",
   "execution_count": null,
   "metadata": {},
   "outputs": [],
   "source": []
  },
  {
   "cell_type": "code",
   "execution_count": null,
   "metadata": {},
   "outputs": [],
   "source": []
  },
  {
   "cell_type": "code",
   "execution_count": null,
   "metadata": {},
   "outputs": [],
   "source": []
  },
  {
   "cell_type": "code",
   "execution_count": null,
   "metadata": {},
   "outputs": [],
   "source": []
  },
  {
   "cell_type": "code",
   "execution_count": null,
   "metadata": {},
   "outputs": [],
   "source": []
  },
  {
   "cell_type": "code",
   "execution_count": null,
   "metadata": {},
   "outputs": [],
   "source": []
  }
 ],
 "metadata": {
  "kernelspec": {
   "display_name": "Python 3",
   "language": "python",
   "name": "python3"
  },
  "language_info": {
   "codemirror_mode": {
    "name": "ipython",
    "version": 3
   },
   "file_extension": ".py",
   "mimetype": "text/x-python",
   "name": "python",
   "nbconvert_exporter": "python",
   "pygments_lexer": "ipython3",
   "version": "3.7.0"
  }
 },
 "nbformat": 4,
 "nbformat_minor": 4
}
