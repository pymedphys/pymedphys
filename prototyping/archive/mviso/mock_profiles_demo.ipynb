{
 "cells": [
  {
   "cell_type": "code",
   "execution_count": null,
   "metadata": {},
   "outputs": [],
   "source": [
    "from pymedphys_analysis.mocks import profiles\n",
    "import numpy as np\n",
    "from matplotlib import pyplot as plt"
   ]
  },
  {
   "cell_type": "markdown",
   "metadata": {},
   "source": [
    "# Experiment with `create_profile_function()`"
   ]
  },
  {
   "cell_type": "code",
   "execution_count": null,
   "metadata": {},
   "outputs": [],
   "source": [
    "CENTRE = 0\n",
    "WIDTH = 2\n",
    "PENUMBRA_WIDTH = 0.3\n",
    "\n",
    "l50 = CENTRE - WIDTH/2\n",
    "r50 = CENTRE + WIDTH/2\n",
    "\n",
    "l = l50 - 4*PENUMBRA_WIDTH\n",
    "r = r50 + 4*PENUMBRA_WIDTH\n",
    "\n",
    "x = np.linspace(l, r, 1000)\n",
    "f = profiles.create_profile_function(CENTRE, WIDTH, PENUMBRA_WIDTH)\n",
    "D = f(x)\n",
    "\n",
    "print(f(l50))\n",
    "print(f(r50))\n",
    "\n",
    "plt.plot(x, D)\n",
    "plt.axvline(l50, color='red', linestyle='--')\n",
    "plt.axvline(r50, color='red', linestyle='--')\n",
    "plt.show()"
   ]
  },
  {
   "cell_type": "markdown",
   "metadata": {},
   "source": [
    "# Experiment with `create_rectangular_field_function()`"
   ]
  },
  {
   "cell_type": "code",
   "execution_count": null,
   "metadata": {},
   "outputs": [],
   "source": [
    "X_CENTRE = 0\n",
    "Y_CENTRE = 0\n",
    "X_WIDTH = 2\n",
    "Y_WIDTH = 4\n",
    "PENUMBRA_WIDTH = 0.5\n",
    "ROTATION = 0\n",
    "\n",
    "x50_1 = CENTRE - X_WIDTH/2\n",
    "x50_2 = CENTRE + X_WIDTH/2\n",
    "y50_1 = CENTRE - Y_WIDTH/2\n",
    "y50_2 = CENTRE + Y_WIDTH/2\n",
    "\n",
    "x_i = x50_1 - 4*PENUMBRA_WIDTH\n",
    "x_f = x50_2 + 4*PENUMBRA_WIDTH\n",
    "y_i = y50_1 - 4*PENUMBRA_WIDTH\n",
    "y_f = y50_2 + 4*PENUMBRA_WIDTH\n",
    "\n",
    "x = np.linspace(x_i, x_f, 1000)\n",
    "y = np.linspace(y_i, y_f, 1000)\n",
    "X, Y = np.meshgrid(x, y)\n",
    "f = profiles.create_rectangular_field_function(centre=(X_CENTRE, Y_CENTRE), side_lengths=(X_WIDTH, Y_WIDTH),\n",
    "                                               penumbra_width=PENUMBRA_WIDTH, rotation=ROTATION)\n",
    "\n",
    "D = f(X, Y)\n",
    "\n",
    "print(f(x50_1, CENTRE))\n",
    "print(f(x50_2, CENTRE))\n",
    "print(f(CENTRE, y50_1))\n",
    "print(f(CENTRE, y50_2))\n",
    "\n",
    "plt.imshow(D, extent=(x_i, x_f, y_i, y_f), cmap='jet')\n",
    "plt.axvline(x50_1, color='silver', linestyle='--')\n",
    "plt.axvline(x50_2, color='silver', linestyle='--')\n",
    "plt.axhline(y50_1, color='silver', linestyle='--')\n",
    "plt.axhline(y50_2, color='silver', linestyle='--')\n",
    "plt.show()"
   ]
  },
  {
   "cell_type": "markdown",
   "metadata": {},
   "source": [
    "# Investigate rotation in `create_rectangular_field_function()`"
   ]
  },
  {
   "cell_type": "code",
   "execution_count": null,
   "metadata": {},
   "outputs": [],
   "source": [
    "ROTATION = 30\n",
    "f = profiles.create_rectangular_field_function(centre=(X_CENTRE, Y_CENTRE), side_lengths=(X_WIDTH, Y_WIDTH),\n",
    "                                               penumbra_width=PENUMBRA_WIDTH, rotation=ROTATION)\n",
    "\n",
    "D = f(X, Y)\n",
    "\n",
    "print(f(x50_1, CENTRE))\n",
    "print(f(x50_2, CENTRE))\n",
    "print(f(CENTRE, y50_1))\n",
    "print(f(CENTRE, y50_2))\n",
    "\n",
    "plt.imshow(D, extent=(x_i, x_f, y_i, y_f), cmap='jet')\n",
    "plt.axvline(x50_1, color='silver', linestyle='--')\n",
    "plt.axvline(x50_2, color='silver', linestyle='--')\n",
    "plt.axhline(y50_1, color='silver', linestyle='--')\n",
    "plt.axhline(y50_2, color='silver', linestyle='--')\n",
    "plt.show()\n"
   ]
  },
  {
   "cell_type": "code",
   "execution_count": null,
   "metadata": {},
   "outputs": [],
   "source": []
  }
 ],
 "metadata": {
  "kernelspec": {
   "display_name": "Python (myenv)",
   "language": "python",
   "name": "myenv"
  },
  "language_info": {
   "codemirror_mode": {
    "name": "ipython",
    "version": 3
   },
   "file_extension": ".py",
   "mimetype": "text/x-python",
   "name": "python",
   "nbconvert_exporter": "python",
   "pygments_lexer": "ipython3",
   "version": "3.7.3"
  }
 },
 "nbformat": 4,
 "nbformat_minor": 2
}
