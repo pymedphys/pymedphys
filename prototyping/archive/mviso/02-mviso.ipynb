{
 "cells": [
  {
   "cell_type": "code",
   "execution_count": null,
   "metadata": {},
   "outputs": [],
   "source": [
    "import os\n",
    "import datetime\n",
    "from glob import glob\n",
    "\n",
    "import numpy as np\n",
    "import pandas as pd\n",
    "import matplotlib.pyplot as plt\n",
    "\n",
    "import scipy.optimize\n",
    "import scipy.interpolate\n",
    "\n",
    "import pydicom"
   ]
  },
  {
   "cell_type": "code",
   "execution_count": null,
   "metadata": {},
   "outputs": [],
   "source": [
    "data_root = r'S:\\Physics\\Programming\\data\\MVISO'"
   ]
  },
  {
   "cell_type": "code",
   "execution_count": null,
   "metadata": {},
   "outputs": [],
   "source": [
    "data_record = glob(os.path.join(data_root, 'iView*.xlsx'))[0]\n",
    "dicom_files = np.array(glob(os.path.join(data_root, '*.dcm')))"
   ]
  },
  {
   "cell_type": "code",
   "execution_count": null,
   "metadata": {},
   "outputs": [],
   "source": [
    "record = pd.read_excel(data_record, skiprows=4)\n",
    "timestamps_initial = record['Datetime']\n",
    "timestamps = timestamps_initial[timestamps_initial.notnull()].values\n",
    "gantry = record['Gantry'][timestamps_initial.notnull()].values\n",
    "colimator = record['Col'][timestamps_initial.notnull()].values\n",
    "turntable = record['TT'][timestamps_initial.notnull()].values\n",
    "beam = record['Energy'][timestamps_initial.notnull()].values"
   ]
  },
  {
   "cell_type": "code",
   "execution_count": null,
   "metadata": {},
   "outputs": [],
   "source": [
    "datasets = np.array([\n",
    "    pydicom.read_file(dicom_file, force=True)\n",
    "    for dicom_file in dicom_files\n",
    "])"
   ]
  },
  {
   "cell_type": "code",
   "execution_count": null,
   "metadata": {},
   "outputs": [],
   "source": [
    "acquisition_datetimes = np.array([\n",
    "    datetime.datetime.strptime(dataset.AcquisitionDate + dataset.AcquisitionTime, '%Y%m%d%H%M%S.%f')\n",
    "    for dataset in datasets\n",
    "], dtype=np.datetime64)"
   ]
  },
  {
   "cell_type": "code",
   "execution_count": null,
   "metadata": {},
   "outputs": [],
   "source": [
    "diff_map = np.abs(acquisition_datetimes[None,:] - timestamps[:, None]) < np.timedelta64(2, 's')\n",
    "timestamp_index, acquisition_index = np.where(diff_map)"
   ]
  },
  {
   "cell_type": "code",
   "execution_count": null,
   "metadata": {},
   "outputs": [],
   "source": [
    "assert len(set(acquisition_index)) == len(acquisition_index)\n",
    "assert len(acquisition_index) == len(acquisition_datetimes)"
   ]
  },
  {
   "cell_type": "code",
   "execution_count": null,
   "metadata": {},
   "outputs": [],
   "source": [
    "datasets = datasets[acquisition_index]\n",
    "dicom_files = dicom_files[acquisition_index]\n",
    "timestamps = timestamps[timestamp_index]\n",
    "gantry = gantry[timestamp_index]\n",
    "colimator = colimator[timestamp_index]\n",
    "turntable = turntable[timestamp_index]\n",
    "beam = beam[timestamp_index]\n",
    "\n",
    "acquisition_datetimes = np.array([\n",
    "    datetime.datetime.strptime(dataset.AcquisitionDate + dataset.AcquisitionTime, '%Y%m%d%H%M%S.%f')\n",
    "    for dataset in datasets\n",
    "], dtype=np.datetime64)\n",
    "\n",
    "diff_map = np.abs(acquisition_datetimes[None,:] - timestamps[:, None]) < np.timedelta64(2, 's')\n",
    "timestamp_index, acquisition_index = np.where(diff_map)\n",
    "\n",
    "assert np.all(timestamp_index == acquisition_index)"
   ]
  },
  {
   "cell_type": "code",
   "execution_count": null,
   "metadata": {},
   "outputs": [],
   "source": [
    "pixel_arrays = np.array([\n",
    "    dataset.pixel_array\n",
    "    for dataset in datasets\n",
    "], copy=True)\n",
    "\n",
    "pixel_arrays = 1 - pixel_arrays/2**16"
   ]
  },
  {
   "cell_type": "code",
   "execution_count": null,
   "metadata": {},
   "outputs": [],
   "source": [
    "axis_distance = np.arange(-512, 512)/4\n",
    "\n",
    "initial_mask_distance = 20  # mm\n",
    "\n",
    "first = np.where(axis_distance >= -initial_mask_distance)[0][0]\n",
    "last = np.where(axis_distance > initial_mask_distance)[0][0]\n",
    "\n",
    "mask = slice(first, last)\n",
    "\n",
    "axis_distance = axis_distance[mask]\n",
    "\n",
    "masked_arrays = np.array([\n",
    "    pixel_array[mask, mask]\n",
    "    for pixel_array in pixel_arrays\n",
    "])"
   ]
  },
  {
   "cell_type": "code",
   "execution_count": null,
   "metadata": {},
   "outputs": [],
   "source": [
    "axis_distance"
   ]
  },
  {
   "cell_type": "code",
   "execution_count": null,
   "metadata": {},
   "outputs": [],
   "source": [
    "interpolation = scipy.interpolate.RectBivariateSpline(axis_distance, axis_distance, masked_arrays[0], kx=1, ky=1)"
   ]
  },
  {
   "cell_type": "code",
   "execution_count": null,
   "metadata": {},
   "outputs": [],
   "source": [
    "square_field_side_length = 20  # mm\n",
    "\n",
    "penumbra_width = 3  # mm\n",
    "ball_bearing_diameter = 8 # mm"
   ]
  },
  {
   "cell_type": "code",
   "execution_count": null,
   "metadata": {},
   "outputs": [],
   "source": [
    "penumbra_range = np.linspace(-penumbra_width/2, penumbra_width/2, 11)\n",
    "half_field_range = np.linspace(-square_field_side_length/4, square_field_side_length/4, 51)\n",
    "\n",
    "def get_sum_of_square_penumbra_flip(centre_x, centre_y, interpolation_func):\n",
    "    left_lookup = centre_x - square_field_side_length/2 + penumbra_range\n",
    "    right_lookup = centre_x + square_field_side_length/2 + penumbra_range\n",
    "    x_lookup = np.concatenate([left_lookup, right_lookup])\n",
    "\n",
    "    y_lookup = centre_y + half_field_range\n",
    "\n",
    "    xx_lookup, yy_lookup = np.meshgrid(x_lookup, y_lookup)\n",
    "    xx_lookup_flat = np.ravel(xx_lookup)\n",
    "    yy_lookup_flat = np.ravel(yy_lookup)\n",
    "\n",
    "    penumbra_values_flat = interpolation_func(yy_lookup_flat, xx_lookup_flat)\n",
    "    penumbra_values = np.reshape(penumbra_values_flat, np.shape(xx_lookup))\n",
    "    return np.sum((penumbra_values - penumbra_values[:, ::-1])**2)\n",
    "    \n",
    "    \n",
    "def get_sum_of_square_penumbra_flip_transpose(centre_x, centre_y, interpolation_func):\n",
    "    def transposed_interp_func(y, x):\n",
    "        return interpolation_func(x, y)\n",
    "        \n",
    "    return get_sum_of_square_penumbra_flip(centre_y, centre_x, transposed_interp_func)\n",
    "\n",
    "\n",
    "def get_sum_of_square_both_penumbra_flips(centre_x, centre_y, interpolation):\n",
    "    interpolation_func = interpolation.ev\n",
    "    \n",
    "    return (\n",
    "        get_sum_of_square_penumbra_flip(centre_x, centre_y, interpolation_func) + \n",
    "        get_sum_of_square_penumbra_flip_transpose(centre_x, centre_y, interpolation_func)\n",
    "    )\n",
    "\n",
    "\n",
    "def create_penumbra_minimisation(interpolation):\n",
    "    def to_minimise(centre):\n",
    "        return get_sum_of_square_both_penumbra_flips(centre[1], centre[0], interpolation)\n",
    "    \n",
    "    return to_minimise"
   ]
  },
  {
   "cell_type": "code",
   "execution_count": null,
   "metadata": {},
   "outputs": [],
   "source": []
  },
  {
   "cell_type": "code",
   "execution_count": null,
   "metadata": {},
   "outputs": [],
   "source": []
  },
  {
   "cell_type": "code",
   "execution_count": null,
   "metadata": {},
   "outputs": [],
   "source": []
  },
  {
   "cell_type": "code",
   "execution_count": null,
   "metadata": {},
   "outputs": [],
   "source": []
  },
  {
   "cell_type": "code",
   "execution_count": null,
   "metadata": {},
   "outputs": [],
   "source": [
    "dx = 0.05\n",
    "interpolated_distances = np.arange(-initial_mask_distance, initial_mask_distance+dx, dx)\n",
    "\n",
    "xx, yy = np.meshgrid(interpolated_distances, interpolated_distances)\n",
    "xx_flat = np.ravel(xx)\n",
    "yy_flat = np.ravel(yy)\n",
    "\n",
    "interpolated_image_flat = interpolation.ev(yy_flat, xx_flat)\n",
    "interpolated_image = np.reshape(interpolated_image_flat, np.shape(xx))"
   ]
  },
  {
   "cell_type": "code",
   "execution_count": null,
   "metadata": {},
   "outputs": [],
   "source": [
    "def show_image(pixel_array):\n",
    "    plt.pcolormesh(interpolated_distances, interpolated_distances, pixel_array, clim=[0, 1])\n",
    "    plt.colorbar()\n",
    "    plt.axis('equal')\n",
    "    \n",
    "show_image(interpolated_image)"
   ]
  },
  {
   "cell_type": "code",
   "execution_count": null,
   "metadata": {},
   "outputs": [],
   "source": [
    "def show_image_with_square(image, centre, edge_length):\n",
    "    x = centre[1]\n",
    "    y = centre[0]\n",
    "    \n",
    "    plt.plot(\n",
    "        [x - edge_length/2, x - edge_length/2, x + edge_length/2,  x + edge_length/2, x - edge_length/2],\n",
    "        [y - edge_length/2, y + edge_length/2, y + edge_length/2,  y - edge_length/2, y - edge_length/2],\n",
    "        'k', lw=2\n",
    "    )\n",
    "    \n",
    "    show_image(image)\n",
    "    plt.show()"
   ]
  },
  {
   "cell_type": "code",
   "execution_count": null,
   "metadata": {},
   "outputs": [],
   "source": []
  },
  {
   "cell_type": "code",
   "execution_count": null,
   "metadata": {},
   "outputs": [],
   "source": [
    "def create_print_func(image_to_search):\n",
    "    def print_fun(centre, f, accepted):\n",
    "        print(centre)\n",
    "        print(f)\n",
    "        print(accepted)\n",
    "        \n",
    "        show_image_with_square(image_to_search, centre, square_field_side_length)\n",
    "        \n",
    "    return print_fun\n",
    "\n",
    "\n",
    "to_minimise = create_penumbra_minimisation(interpolation)\n",
    "print_fun = create_print_func(interpolated_image)"
   ]
  },
  {
   "cell_type": "code",
   "execution_count": null,
   "metadata": {},
   "outputs": [],
   "source": [
    "centre = [0.86680572, -0.04818984]\n",
    "\n",
    "show_image_with_square(interpolated_image, centre, square_field_side_length)\n",
    "print(to_minimise(centre))"
   ]
  },
  {
   "cell_type": "code",
   "execution_count": null,
   "metadata": {},
   "outputs": [],
   "source": []
  },
  {
   "cell_type": "code",
   "execution_count": null,
   "metadata": {},
   "outputs": [],
   "source": []
  },
  {
   "cell_type": "code",
   "execution_count": null,
   "metadata": {},
   "outputs": [],
   "source": [
    "results = scipy.optimize.basinhopping(to_minimise, [2,0], T=1, niter=5, stepsize=1)\n",
    "field_centre = results.x\n",
    "\n",
    "print(field_centre)\n",
    "\n",
    "plt.figure(figsize=(15,15))\n",
    "show_image_with_square(interpolated_image, np.array(field_centre), 18)"
   ]
  },
  {
   "cell_type": "code",
   "execution_count": null,
   "metadata": {},
   "outputs": [],
   "source": [
    "results"
   ]
  },
  {
   "cell_type": "code",
   "execution_count": null,
   "metadata": {},
   "outputs": [],
   "source": [
    "plt.figure(figsize=(10,10))\n",
    "show_image_with_square(interpolated_image, field_centre, square_field_side_length*0.8)"
   ]
  },
  {
   "cell_type": "code",
   "execution_count": null,
   "metadata": {},
   "outputs": [],
   "source": [
    "# ballbearing_find_mask = (\n",
    "#     (xx < field_centre[1] - square_field_side_length*0.8 / 2) |\n",
    "#     (xx > field_centre[1] + square_field_side_length*0.8 / 2) |\n",
    "#     (yy < field_centre[0] - square_field_side_length*0.8 / 2) |\n",
    "#     (yy > field_centre[0] + square_field_side_length*0.8 / 2)\n",
    "# )\n",
    "\n",
    "# interpolated_image[ballbearing_find_mask] = 1\n",
    "\n",
    "# show_image_with_square(interpolated_image, initial_centre, square_field_side_length*0.8)"
   ]
  },
  {
   "cell_type": "code",
   "execution_count": null,
   "metadata": {},
   "outputs": [],
   "source": [
    "def plot_circle_at_bb(bb_centre):\n",
    "    t = np.linspace(0, 2*np.pi)\n",
    "    x = ball_bearing_diameter/2 * np.sin(t) + bb_centre[1]\n",
    "    y = ball_bearing_diameter/2 * np.cos(t) + bb_centre[0]\n",
    "    \n",
    "    plt.plot(x, y, 'k', lw=2)\n",
    "    \n",
    "\n",
    "    \n",
    "plot_circle_at_bb([1.5,0])\n",
    "show_image_with_square(interpolated_image, field_centre, square_field_side_length*0.8)"
   ]
  },
  {
   "cell_type": "code",
   "execution_count": null,
   "metadata": {},
   "outputs": [],
   "source": [
    "def create_points_to_check():\n",
    "    dtheta = 2*np.pi / 21\n",
    "    t = np.arange(0, 2*np.pi, dtheta)\n",
    "    diameters = ball_bearing_diameter * np.arange(0.1, 1, 0.1)\n",
    "\n",
    "    def points_to_check(bb_centre):  \n",
    "        x = []\n",
    "        y = []\n",
    "        weight = []\n",
    "        for i, diameter in enumerate(diameters):        \n",
    "            x.append(diameter/2 * np.sin(t + i*dtheta/5) + bb_centre[1])\n",
    "            y.append(diameter/2 * np.cos(t + i*dtheta/5) + bb_centre[0])\n",
    "            \n",
    "            weight.append(np.repeat(np.cos(np.arcsin(diameter/ball_bearing_diameter)), 21))\n",
    "            \n",
    "        x = np.concatenate(x)\n",
    "        y = np.concatenate(y)\n",
    "        weight = np.concatenate(weight)\n",
    "        \n",
    "        return x, y, weight\n",
    "    \n",
    "    return points_to_check\n",
    "\n",
    "    \n",
    "points_to_check = create_points_to_check()\n",
    "x, y, weight = points_to_check([0,0])\n",
    "\n",
    "plt.plot(x, y, '.')"
   ]
  },
  {
   "cell_type": "code",
   "execution_count": null,
   "metadata": {},
   "outputs": [],
   "source": [
    "def check_points(bb_centre, field_centre, interpolation):\n",
    "    x, y, weight = points_to_check(bb_centre)\n",
    "    \n",
    "    results = weight * interpolation.ev(y, x)\n",
    "    \n",
    "    point_outside_of_field_centre = (\n",
    "        (x < field_centre[1] - square_field_side_length*0.8 / 2) |\n",
    "        (x > field_centre[1] + square_field_side_length*0.8 / 2) |\n",
    "        (y < field_centre[0] - square_field_side_length*0.8 / 2) |\n",
    "        (y > field_centre[0] + square_field_side_length*0.8 / 2)\n",
    "    )\n",
    "    \n",
    "    results[point_outside_of_field_centre] = 1\n",
    "    \n",
    "    return np.mean(results)\n",
    "\n",
    "def create_circle_to_minimise(field_centre, interpolation):\n",
    "    def circle_to_minimise(bb_centre):\n",
    "        return check_points(bb_centre, field_centre, interpolation)\n",
    "    \n",
    "    return circle_to_minimise\n",
    "    \n",
    "\n",
    "# check_points([0.25060408, -1.80120831], field_centre, interpolation)"
   ]
  },
  {
   "cell_type": "code",
   "execution_count": null,
   "metadata": {},
   "outputs": [],
   "source": [
    "circle_to_minimise = create_circle_to_minimise(field_centre, interpolation)\n",
    "\n",
    "bb_results = scipy.optimize.basinhopping(circle_to_minimise, [0,0], T=0.1, niter=5, stepsize=1)\n",
    "bb_results"
   ]
  },
  {
   "cell_type": "code",
   "execution_count": null,
   "metadata": {},
   "outputs": [],
   "source": [
    "plt.figure(figsize=(10,10))\n",
    "\n",
    "plot_circle_at_bb(bb_results.x)\n",
    "show_image_with_square(interpolated_image, field_centre, square_field_side_length)"
   ]
  }
 ],
 "metadata": {
  "kernelspec": {
   "display_name": "Python 3",
   "language": "python",
   "name": "python3"
  },
  "language_info": {
   "codemirror_mode": {
    "name": "ipython",
    "version": 3
   },
   "file_extension": ".py",
   "mimetype": "text/x-python",
   "name": "python",
   "nbconvert_exporter": "python",
   "pygments_lexer": "ipython3",
   "version": "3.7.0"
  }
 },
 "nbformat": 4,
 "nbformat_minor": 2
}
