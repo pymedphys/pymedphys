{
 "cells": [
  {
   "cell_type": "code",
   "execution_count": null,
   "metadata": {},
   "outputs": [],
   "source": [
    "%load_ext autoreload\n",
    "%autoreload 2"
   ]
  },
  {
   "cell_type": "code",
   "execution_count": null,
   "metadata": {},
   "outputs": [],
   "source": [
    "import lzma\n",
    "from pathlib import Path\n",
    "\n",
    "import numpy as np\n",
    "import matplotlib.pyplot as plt\n",
    "\n",
    "import imageio\n",
    "\n",
    "from scipy.optimize import basinhopping\n",
    "from scipy.ndimage import median_filter\n",
    "from scipy.stats import linregress\n",
    "from scipy.interpolate import RegularGridInterpolator\n",
    "\n",
    "import pydicom\n",
    "\n",
    "from pymedphys.film import (\n",
    "    calc_calibration_points, load_cal_scans, \n",
    "    create_dose_function, calc_net_od, create_axes)\n",
    "\n",
    "from pymedphys.dicom import xyz_axes_from_dataset, dose_from_dataset"
   ]
  },
  {
   "cell_type": "code",
   "execution_count": null,
   "metadata": {},
   "outputs": [],
   "source": [
    "data_dir = Path('../../packages/pymedphys_analysis/tests/film/data/spine_case/DatasetB')\n",
    "\n",
    "calibration_alignments = {650.0: (-0.03693119837922606, -0.0947635537173132, -0.37783221426724356),\n",
    " 200.0: (-0.10040063983494804, -0.12169175795144278, 0.08348855748332341),\n",
    " 1250.0: (-0.3032988411889664, 0.03641656353978792, 0.18968972666517137),\n",
    " 1000.0: (0.26492510731092084, 0.14060820397579227, -2.7193448468631343),\n",
    " 400.0: (-0.08179282402379366, -0.0679576959847175, 0.3154216316864221),\n",
    " 800.0: (0.18816305442327136, 0.07207526506185861, -0.9586838845463561),\n",
    " 0.0: (-0.09484272563570335, 0.12621856065409, -0.7927960758287966),\n",
    " 550.0: (-0.21896673466613484, -0.3278034483394189, -2.275540688446474),\n",
    " 300.0: (-0.06648768945080456, -0.0075448105213691595, -0.4383480611779579),\n",
    " 1400.0: (0.21542726392752917, 0.2342317915525293, 0.031818297008679844),\n",
    " 700.0: (0.04596862036224883, -0.1862675492795798, -0.5631021348448653),\n",
    " 620.0: (0.045973899659790485, 0.008418383396753638, 0.056398167284774),\n",
    " 500.0: (0.0157791792147568, 0.14108835739889178, -0.7097770417159057),\n",
    " 900.0: (-0.1973165785177423, 0.06716167826823238, 0.09585676472845489),\n",
    " 600.0: (0.0655280798391002, 0.010254562005567824, -0.04182894414171261),\n",
    " 750.0: (-0.13149497704528673, 0.08891070049242197, 1.0078733699651568),\n",
    " 580.0: (0.09292906883636731, -0.18062150972708307, -0.3395879590451904),\n",
    " 1100.0: (-0.05951520624559155, -0.1508183573554567, 0.2423935149180743)}\n",
    "\n",
    "\n",
    "# alignments = None  # Uncomment this line to recalc the alignments (slow)\n",
    "\n",
    "treatment_alignment = (-0.09021456658200089, -0.1541382806538466, -0.07098367045728018)\n",
    "\n",
    "# treatment_alignment = None  # Uncomment this line to recalc the alignment (slow)"
   ]
  },
  {
   "cell_type": "code",
   "execution_count": null,
   "metadata": {},
   "outputs": [],
   "source": [
    "prescans_dir = data_dir.joinpath('prescans/calibration')\n",
    "postscans_dir = data_dir.joinpath('postscans/calibration')"
   ]
  },
  {
   "cell_type": "code",
   "execution_count": null,
   "metadata": {},
   "outputs": [],
   "source": [
    "treatment_prescan_filepath = data_dir.joinpath('prescans/treatment.tif')\n",
    "treatment_postscan_filepath = data_dir.joinpath('postscans/treatment.tif')\n",
    "treatment_lasers_filepath = data_dir.joinpath('postscans/treatment_with_laser_markers.tif')"
   ]
  },
  {
   "cell_type": "code",
   "execution_count": null,
   "metadata": {},
   "outputs": [],
   "source": [
    "dose_zip_path = next(data_dir.glob('../Raw/*.dcm.xz'))\n",
    "                     \n",
    "with lzma.open(dose_zip_path) as a_file:\n",
    "    dicom_dose_dataset = pydicom.dcmread(a_file, force=True)"
   ]
  },
  {
   "cell_type": "code",
   "execution_count": null,
   "metadata": {},
   "outputs": [],
   "source": [
    "prescans = load_cal_scans(prescans_dir)\n",
    "postscans = load_cal_scans(postscans_dir)"
   ]
  },
  {
   "cell_type": "code",
   "execution_count": null,
   "metadata": {},
   "outputs": [],
   "source": [
    "points, alignments = calc_calibration_points(prescans, postscans, alignments=calibration_alignments, figures=True, pixel_trim=60)\n",
    "# calibration_alignments"
   ]
  },
  {
   "cell_type": "code",
   "execution_count": null,
   "metadata": {},
   "outputs": [],
   "source": [
    "dose_cal = []\n",
    "net_od_cal = []\n",
    "\n",
    "for key, item in points.items():\n",
    "    net_od_cal.append(item)\n",
    "    dose_cal.append(key)"
   ]
  },
  {
   "cell_type": "code",
   "execution_count": null,
   "metadata": {},
   "outputs": [],
   "source": [
    "index = np.argsort(net_od_cal)\n",
    "dose_cal = np.array(dose_cal)[index]\n",
    "net_od_cal = np.array(net_od_cal)[index]"
   ]
  },
  {
   "cell_type": "code",
   "execution_count": null,
   "metadata": {},
   "outputs": [],
   "source": [
    "dose_function = create_dose_function(net_od_cal, dose_cal)"
   ]
  },
  {
   "cell_type": "code",
   "execution_count": null,
   "metadata": {},
   "outputs": [],
   "source": [
    "x = np.linspace(np.min(net_od_cal), np.max(net_od_cal))\n",
    "y = dose_function(x)\n",
    "\n",
    "plt.plot(net_od_cal, dose_cal, '.')\n",
    "plt.plot(x, y)"
   ]
  },
  {
   "cell_type": "code",
   "execution_count": null,
   "metadata": {},
   "outputs": [],
   "source": [
    "treatment_prescan = imageio.imread(treatment_prescan_filepath)\n",
    "treatment_postscan = imageio.imread(treatment_postscan_filepath)"
   ]
  },
  {
   "cell_type": "code",
   "execution_count": null,
   "metadata": {},
   "outputs": [],
   "source": [
    "treatment_net_od, treatment_alignment = calc_net_od(\n",
    "    treatment_prescan, treatment_postscan, alignment=treatment_alignment)\n",
    "# treatment_alignment"
   ]
  },
  {
   "cell_type": "code",
   "execution_count": null,
   "metadata": {},
   "outputs": [],
   "source": [
    "treatment_dose = dose_function(treatment_net_od)\n",
    "\n",
    "make_nan = treatment_dose > np.max(dose_cal)*1.2\n",
    "treatment_dose[make_nan] = np.nan"
   ]
  },
  {
   "cell_type": "code",
   "execution_count": null,
   "metadata": {},
   "outputs": [],
   "source": [
    "plt.figure(figsize=(10,10))\n",
    "plt.pcolormesh(treatment_dose)\n",
    "plt.colorbar()\n",
    "plt.axis('equal')"
   ]
  },
  {
   "cell_type": "code",
   "execution_count": null,
   "metadata": {},
   "outputs": [],
   "source": [
    "filtered_dose = median_filter(treatment_dose, size=10)"
   ]
  },
  {
   "cell_type": "code",
   "execution_count": null,
   "metadata": {},
   "outputs": [],
   "source": [
    "plt.figure(figsize=(10,10))\n",
    "plt.pcolormesh(filtered_dose)\n",
    "plt.colorbar()\n",
    "plt.axis('equal')"
   ]
  },
  {
   "cell_type": "code",
   "execution_count": null,
   "metadata": {},
   "outputs": [],
   "source": [
    "treatment_lasers = imageio.imread(treatment_lasers_filepath)"
   ]
  },
  {
   "cell_type": "code",
   "execution_count": null,
   "metadata": {},
   "outputs": [],
   "source": [
    "horizontal_line = (\n",
    "    (treatment_lasers[:,:,1] == 255) &\n",
    "    (treatment_lasers[:,:,0] == 0) & \n",
    "    (treatment_lasers[:,:,2] == 0)\n",
    ")\n",
    "plt.imshow(horizontal_line)"
   ]
  },
  {
   "cell_type": "code",
   "execution_count": null,
   "metadata": {},
   "outputs": [],
   "source": [
    "vertical_line = (\n",
    "    (treatment_lasers[:,:,2] == 255) &\n",
    "    (treatment_lasers[:,:,1] == 0) & \n",
    "    (treatment_lasers[:,:,0] == 0)\n",
    ")\n",
    "plt.imshow(vertical_line)"
   ]
  },
  {
   "cell_type": "code",
   "execution_count": null,
   "metadata": {},
   "outputs": [],
   "source": [
    "plt.figure(figsize=(10,10))\n",
    "plt.imshow(treatment_lasers[:,:,2])\n",
    "plt.colorbar()\n",
    "plt.axis('equal')"
   ]
  },
  {
   "cell_type": "code",
   "execution_count": null,
   "metadata": {},
   "outputs": [],
   "source": [
    "# plt.pcolormesh?"
   ]
  },
  {
   "cell_type": "code",
   "execution_count": null,
   "metadata": {},
   "outputs": [],
   "source": [
    "axes = create_axes(treatment_lasers)\n",
    "y, x = axes[0][-1::-1], axes[1]\n",
    "\n",
    "plt.figure(figsize=(10,10))\n",
    "plt.pcolormesh(x, y, treatment_lasers[:,:,0])\n",
    "plt.axis('equal')"
   ]
  },
  {
   "cell_type": "code",
   "execution_count": null,
   "metadata": {},
   "outputs": [],
   "source": [
    "xx, yy = np.meshgrid(x, y)\n",
    "\n",
    "x_hrz, y_hrz = xx[horizontal_line], yy[horizontal_line]\n",
    "x_vert, y_vert = xx[vertical_line], yy[vertical_line]\n",
    "\n",
    "hrz = linregress(x_hrz, y_hrz)\n",
    "vert = linregress(x_vert, y_vert)\n",
    "\n",
    "hrz_angle = np.arctan(hrz.slope) * 180 / np.pi\n",
    "vert_angle = np.arctan(vert.slope) * 180 / np.pi"
   ]
  },
  {
   "cell_type": "code",
   "execution_count": null,
   "metadata": {},
   "outputs": [],
   "source": [
    "hrz_angle"
   ]
  },
  {
   "cell_type": "code",
   "execution_count": null,
   "metadata": {},
   "outputs": [],
   "source": [
    "vert_angle"
   ]
  },
  {
   "cell_type": "code",
   "execution_count": null,
   "metadata": {},
   "outputs": [],
   "source": [
    "hrz_angle_from_vert = np.arctan(-1/vert.slope) * 180 / np.pi\n",
    "\n",
    "average_hrz_angle = (hrz_angle_from_vert + hrz_angle) / 2\n",
    "average_hrz_angle"
   ]
  },
  {
   "cell_type": "code",
   "execution_count": null,
   "metadata": {},
   "outputs": [],
   "source": [
    "iso_x = -(vert.intercept - hrz.intercept) / (vert.slope - hrz.slope)\n",
    "iso_y = iso_x * vert.slope + vert.intercept"
   ]
  },
  {
   "cell_type": "code",
   "execution_count": null,
   "metadata": {},
   "outputs": [],
   "source": [
    "new_horz_m = np.tan(np.pi * average_hrz_angle/180)\n",
    "new_vert_m = -1 / new_horz_m\n",
    "\n",
    "new_horz_c = iso_y - new_horz_m * iso_x\n",
    "new_vert_c = iso_y - new_vert_m * iso_x"
   ]
  },
  {
   "cell_type": "code",
   "execution_count": null,
   "metadata": {},
   "outputs": [],
   "source": [
    "max_y = np.max(yy)\n",
    "min_y = np.min(yy)\n",
    "\n",
    "vert_pair_x = [\n",
    "    (min_y - new_vert_c)/new_vert_m, \n",
    "    (max_y - new_vert_c)/new_vert_m\n",
    "]\n",
    "vert_pair_y = [min_y, max_y]\n",
    "\n",
    "max_x = np.max(xx)\n",
    "min_x = np.min(xx)\n",
    "\n",
    "hrz_pair_x = [min_x, max_x]\n",
    "hrz_pair_y = [\n",
    "    min_x * new_horz_m + new_horz_c,\n",
    "    max_x * new_horz_m + new_horz_c,\n",
    "]\n"
   ]
  },
  {
   "cell_type": "code",
   "execution_count": null,
   "metadata": {},
   "outputs": [],
   "source": [
    "plt.figure(figsize=(13,13))\n",
    "plt.contourf(xx, yy, treatment_dose, 20)\n",
    "plt.colorbar()\n",
    "\n",
    "plt.plot(vert_pair_x, vert_pair_y)\n",
    "plt.plot(hrz_pair_x, hrz_pair_y)\n",
    "plt.plot(iso_x, iso_y, 'o', markeredgecolor='k', markersize=20)\n",
    "\n",
    "plt.axis('equal')"
   ]
  },
  {
   "cell_type": "code",
   "execution_count": null,
   "metadata": {},
   "outputs": [],
   "source": [
    "p1 = np.array([vert_pair_x[1], vert_pair_y[1]])\n",
    "p2 = np.array([vert_pair_x[0], vert_pair_y[0]])\n",
    "p3 = np.vstack([np.ravel(xx), np.ravel(yy)]).T\n",
    "\n",
    "vert_d = np.cross(p2 - p1, p3 - p1) / np.linalg.norm(p2 - p1)\n",
    "x_rotated = np.reshape(vert_d, np.shape(xx))\n",
    "\n",
    "x_rotated"
   ]
  },
  {
   "cell_type": "code",
   "execution_count": null,
   "metadata": {},
   "outputs": [],
   "source": [
    "p1 = np.array([hrz_pair_x[0], hrz_pair_y[0]])\n",
    "p2 = np.array([hrz_pair_x[1], hrz_pair_y[1]])\n",
    "p3 = np.vstack([np.ravel(xx), np.ravel(yy)]).T\n",
    "\n",
    "horz_d = np.cross(p2 - p1, p3 - p1) / np.linalg.norm(p2 - p1)\n",
    "y_rotated = np.reshape(horz_d, np.shape(yy))\n",
    "\n",
    "y_rotated"
   ]
  },
  {
   "cell_type": "code",
   "execution_count": null,
   "metadata": {},
   "outputs": [],
   "source": [
    "num_contours = 20\n",
    "\n",
    "diff = np.ceil(np.nanmax(treatment_dose) / ((num_contours - 1) * 10)) * 10\n",
    "levels = np.arange(0, diff * num_contours, diff).astype(int)\n",
    "levels"
   ]
  },
  {
   "cell_type": "code",
   "execution_count": null,
   "metadata": {},
   "outputs": [],
   "source": [
    "plt.figure(figsize=(13,13))\n",
    "plt.contourf(x_rotated, y_rotated, treatment_dose, levels=levels)\n",
    "plt.colorbar()\n",
    "\n",
    "cs = plt.contour(x_rotated, y_rotated, filtered_dose, levels=levels, colors='k', alpha=1)\n",
    "plt.clabel(cs, inline=1)\n",
    "\n",
    "\n",
    "plt.plot([0, 0], [-90, 50])\n",
    "plt.plot([-60, 60], [0, 0])\n",
    "plt.plot(0, 0, 'o', markeredgecolor='k', markersize=20)\n",
    "\n",
    "plt.axis('equal')"
   ]
  },
  {
   "cell_type": "code",
   "execution_count": null,
   "metadata": {},
   "outputs": [],
   "source": [
    "x, y, z = xyz_axes_from_dataset(dicom_dose_dataset)  # pylint: disable=invalid-name\n",
    "dose = dose_from_dataset(dicom_dose_dataset, reshape=False)\n",
    "\n",
    "interpolation = RegularGridInterpolator((z, y, x), dose)\n",
    "\n",
    "interpolated = interpolation(\n",
    "    np.vstack([np.ravel(np.zeros_like(y_rotated)), -np.ravel(y_rotated + 20), np.ravel(x_rotated)]).T)\n",
    "\n",
    "interpolated = np.reshape(interpolated, np.shape(y_rotated)) * 100"
   ]
  },
  {
   "cell_type": "code",
   "execution_count": null,
   "metadata": {},
   "outputs": [],
   "source": [
    "plt.figure(figsize=(13,13))\n",
    "plt.contourf(x_rotated, y_rotated, interpolated, levels=levels)\n",
    "plt.colorbar()\n",
    "\n",
    "plt.contour(x_rotated, y_rotated, interpolated, levels=levels, colors='k', alpha=0.4)\n",
    "\n",
    "\n",
    "plt.plot([0, 0], [-90, 50])\n",
    "plt.plot([-60, 60], [0, 0])\n",
    "plt.plot(0, 0, 'o', markeredgecolor='k', markersize=20)\n",
    "\n",
    "plt.axis('equal')"
   ]
  },
  {
   "cell_type": "code",
   "execution_count": null,
   "metadata": {},
   "outputs": [],
   "source": [
    "diff = filtered_dose - interpolated\n",
    "\n",
    "trim_margin = 100\n",
    "trim_ref = (slice(trim_margin,-trim_margin), slice(trim_margin,-trim_margin))\n",
    "\n",
    "max_diff = np.nanmax(np.abs(diff[trim_ref]))\n",
    "\n",
    "plt.figure(figsize=(13,13))\n",
    "plt.contourf(x_rotated[trim_ref], y_rotated[trim_ref], diff[trim_ref], 40, cmap='seismic', vmin=-max_diff, vmax=max_diff)\n",
    "plt.colorbar()"
   ]
  },
  {
   "cell_type": "code",
   "execution_count": null,
   "metadata": {},
   "outputs": [],
   "source": [
    "diff = treatment_dose - interpolated\n",
    "diff[diff<-max_diff] = -max_diff\n",
    "diff[diff>max_diff] = max_diff\n",
    "\n",
    "trim_margin = 100\n",
    "trim_ref = (slice(trim_margin,-trim_margin), slice(trim_margin,-trim_margin))\n",
    "\n",
    "plt.figure(figsize=(13,13))\n",
    "plt.contourf(x_rotated[trim_ref], y_rotated[trim_ref], diff[trim_ref], 40, cmap='seismic', vmin=-max_diff, vmax=max_diff)\n",
    "plt.colorbar(label='Dose Difference [measured - monaco] (cGy)')\n",
    "\n",
    "plt.xlabel('Patient Right/Left (mm)')\n",
    "plt.ylabel('Patient Post/Ant (mm)')"
   ]
  },
  {
   "cell_type": "code",
   "execution_count": null,
   "metadata": {},
   "outputs": [],
   "source": [
    "point_x = 0\n",
    "point_y = -0.5\n",
    "distance = 0.5\n",
    "\n",
    "x_near = np.abs(x_rotated - point_x) < distance\n",
    "y_near = np.abs(y_rotated - point_y) < distance\n",
    "\n",
    "near_ref = x_near & y_near\n",
    "\n",
    "num_points = np.sum(near_ref)\n",
    "np.mean(filtered_dose[near_ref])"
   ]
  }
 ],
 "metadata": {
  "kernelspec": {
   "display_name": "Python 3",
   "language": "python",
   "name": "python3"
  },
  "language_info": {
   "codemirror_mode": {
    "name": "ipython",
    "version": 3
   },
   "file_extension": ".py",
   "mimetype": "text/x-python",
   "name": "python",
   "nbconvert_exporter": "python",
   "pygments_lexer": "ipython3",
   "version": "3.7.0"
  }
 },
 "nbformat": 4,
 "nbformat_minor": 4
}
