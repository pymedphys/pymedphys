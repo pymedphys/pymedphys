{
 "cells": [
  {
   "cell_type": "code",
   "execution_count": null,
   "metadata": {},
   "outputs": [],
   "source": [
    "import os\n",
    "from glob import glob"
   ]
  },
  {
   "cell_type": "code",
   "execution_count": null,
   "metadata": {},
   "outputs": [],
   "source": [
    "import numpy as np\n",
    "import matplotlib.pyplot as plt\n",
    "from scipy.interpolate import interp1d"
   ]
  },
  {
   "cell_type": "code",
   "execution_count": null,
   "metadata": {},
   "outputs": [],
   "source": [
    "from ipywidgets import interact, interactive, fixed, interact_manual"
   ]
  },
  {
   "cell_type": "code",
   "execution_count": null,
   "metadata": {},
   "outputs": [],
   "source": [
    "from decode_trf import decode_trf, hash_file\n",
    "\n",
    "from mosaiq_connection import mosaiq_connect\n",
    "from mosaiq_field_export import (\n",
    "    Delivery, get_bipolar_msq_data, use_mlc_missing_byte_workaround)\n",
    "use_mlc_missing_byte_workaround()"
   ]
  },
  {
   "cell_type": "code",
   "execution_count": null,
   "metadata": {},
   "outputs": [],
   "source": [
    "config = {\n",
    "    \"linac_logfile_data_directory\": \"S:\\\\Physics\\\\Programming\\\\data\\\\LinacLogFiles\",\n",
    "    \"machine_map\": {\n",
    "        \"2619\": {\n",
    "            \"centre\": \"rccc\",\n",
    "            \"type\": \"elekta-agility\"\n",
    "        },\n",
    "        \"2694\": {\n",
    "            \"centre\": \"rccc\",\n",
    "            \"type\": \"elekta-agility\"\n",
    "        },\n",
    "        \"4299\": {\n",
    "            \"centre\": \"nbccc\",\n",
    "            \"type\": \"elekta-agility\"\n",
    "        }\n",
    "    },\n",
    "    \"machine_types\": {\n",
    "        \"elekta-agility\": {\n",
    "            \"max_leaf_gap\": 400,\n",
    "            \"leaf_pair_widths\": [\n",
    "                5, 5, 5, 5, 5, 5, 5, 5, 5, 5, 5, 5, 5, 5, 5, 5, 5, 5, 5, 5,\n",
    "                5, 5, 5, 5, 5, 5, 5, 5, 5, 5, 5, 5, 5, 5, 5, 5, 5, 5, 5, 5,\n",
    "                5, 5, 5, 5, 5, 5, 5, 5, 5, 5, 5, 5, 5, 5, 5, 5, 5, 5, 5, 5,\n",
    "                5, 5, 5, 5, 5, 5, 5, 5, 5, 5, 5, 5, 5, 5, 5, 5, 5, 5, 5, 5\n",
    "            ]\n",
    "        }\n",
    "    },\n",
    "    \"centres\": {\n",
    "        \"rccc\": {\n",
    "            \"timezone\": \"Australia/Sydney\",\n",
    "            \"ois\": \"mosaiq\",\n",
    "            \"ois_specific_data\": {\n",
    "                \"sql_user\": \"physics\",\n",
    "                \"sql_server\": \"msqsql\"\n",
    "            }\n",
    "        },\n",
    "        \"nbccc\": {\n",
    "            \"timezone\": \"Australia/Sydney\",\n",
    "            \"ois\": \"mosaiq\",\n",
    "            \"ois_specific_data\": {\n",
    "                \"sql_user\": \"physics\",\n",
    "                \"sql_server\": \"nbccc-msq\"\n",
    "            }\n",
    "        }\n",
    "    }\n",
    "}"
   ]
  },
  {
   "cell_type": "code",
   "execution_count": null,
   "metadata": {},
   "outputs": [],
   "source": [
    "Y1_LEAF_BANK_NAMES = [\n",
    "    'Y1 Leaf {}/Scaled Actual (mm)'.format(item)\n",
    "    for item in range(1, 81)\n",
    "]\n",
    "\n",
    "Y2_LEAF_BANK_NAMES = [\n",
    "    'Y2 Leaf {}/Scaled Actual (mm)'.format(item)\n",
    "    for item in range(1, 81)\n",
    "]\n",
    "\n",
    "JAW_NAMES = [\n",
    "    'X1 Diaphragm/Scaled Actual (mm)', 'X2 Diaphragm/Scaled Actual (mm)']\n",
    "\n",
    "GANTRY_NAME = 'Step Gantry/Scaled Actual (deg)'\n",
    "COLLIMATOR_NAME = 'Step Collimator/Scaled Actual (deg)'\n",
    "\n",
    "\n",
    "\n",
    "def _pull_single_logfile(logfile_path):\n",
    "    logfile_dataframe = decode_trf(logfile_path)\n",
    "    raw_monitor_units = logfile_dataframe[\n",
    "        'Step Dose/Actual Value (Mu)'].values.tolist()\n",
    "\n",
    "    diff = np.append([0], np.diff(raw_monitor_units))\n",
    "    diff[diff < 0] = 0\n",
    "\n",
    "    monitor_units = np.cumsum(diff).tolist()\n",
    "\n",
    "    gantry = logfile_dataframe[GANTRY_NAME].values.tolist()\n",
    "    collimator = logfile_dataframe[COLLIMATOR_NAME].values.tolist()\n",
    "\n",
    "    y1_bank = [\n",
    "        logfile_dataframe[name].values.tolist()\n",
    "        for name in Y1_LEAF_BANK_NAMES\n",
    "    ]\n",
    "\n",
    "    y2_bank = [\n",
    "        logfile_dataframe[name].values.tolist()\n",
    "        for name in Y2_LEAF_BANK_NAMES\n",
    "    ]\n",
    "\n",
    "    mlc = [y1_bank, y2_bank]\n",
    "\n",
    "    jaw = [\n",
    "        logfile_dataframe[name].values.tolist()\n",
    "        for name in JAW_NAMES\n",
    "    ]\n",
    "\n",
    "    logfile_delivery_data = Delivery(\n",
    "        monitor_units, gantry, collimator, mlc, jaw\n",
    "    )\n",
    "\n",
    "    return logfile_delivery_data"
   ]
  },
  {
   "cell_type": "code",
   "execution_count": null,
   "metadata": {},
   "outputs": [],
   "source": [
    "test_files = glob(os.path.join(\n",
    "    config[\"linac_logfile_data_directory\"],\n",
    "    'indexed', '*', '012194*', 'clinical', '*_VMAT', '*', '*.trf'\n",
    "))\n",
    "\n",
    "test_files"
   ]
  },
  {
   "cell_type": "code",
   "execution_count": null,
   "metadata": {},
   "outputs": [],
   "source": [
    "delivery_data = _pull_single_logfile(test_files[0])"
   ]
  },
  {
   "cell_type": "code",
   "execution_count": null,
   "metadata": {},
   "outputs": [],
   "source": [
    "grid_resolution = 1  # mm\n",
    "mu_resolution = 1\n",
    "\n",
    "\n",
    "machine_type = 'elekta-agility'\n",
    "\n",
    "max_leaf_gap = config['machine_types'][machine_type]['max_leaf_gap']\n",
    "leaf_pair_widths = np.array(config['machine_types'][machine_type]['leaf_pair_widths'])\n",
    "\n",
    "# assert np.sum(leaf_pair_widths) == max_leaf_gap, 'non-equal max field-edge sizes not currently supported'\n",
    "\n",
    "# num_leaf_pairs = len(leaf_pair_widths)\n",
    "\n",
    "# assert np.all(leaf_pair_widths[0] == leaf_pair_widths), 'non-uniform leaf widths not currently supported'\n",
    "\n",
    "# mu_density_options = {\n",
    "#     'max_field_size': max_field_size,\n",
    "#     'grid_resolution': grid_resolution,\n",
    "#     'num_leaf_pairs': num_leaf_pairs,\n",
    "#     'leaf_width': leaf_pair_widths[0],\n",
    "#     'mu_resolution': mu_resolution\n",
    "# }"
   ]
  },
  {
   "cell_type": "code",
   "execution_count": null,
   "metadata": {},
   "outputs": [],
   "source": [
    "# # max_distance_from_centre = max_leaf_gap / 2\n",
    "# grid_resolution = mu_density_options['grid_resolution']\n",
    "# # num_leaf_pairs = mu_density_options['num_leaf_pairs']\n",
    "# # leaf_width = mu_density_options['leaf_width']\n",
    "# mu_resolution = mu_density_options['mu_resolution']"
   ]
  },
  {
   "cell_type": "code",
   "execution_count": null,
   "metadata": {},
   "outputs": [],
   "source": [
    "mu_raw = np.array(delivery_data.monitor_units)\n",
    "mlc_raw = np.swapaxes(delivery_data.mlc, 0, 2)\n",
    "jaw_raw = np.swapaxes(delivery_data.jaw, 0, 1)"
   ]
  },
  {
   "cell_type": "code",
   "execution_count": null,
   "metadata": {},
   "outputs": [],
   "source": [
    "leaf_x = np.arange(\n",
    "    -max_leaf_gap/2,\n",
    "    max_leaf_gap/2 + grid_resolution,\n",
    "    grid_resolution).astype('float')\n",
    "\n",
    "total_leaf_widths = np.sum(leaf_pair_widths)\n",
    "leaf_y = np.cumsum(leaf_pair_widths) - leaf_pair_widths/2 - total_leaf_widths/2"
   ]
  },
  {
   "cell_type": "code",
   "execution_count": null,
   "metadata": {},
   "outputs": [],
   "source": [
    "leaf_xx, leaf_yy = np.meshgrid(leaf_x, leaf_y)"
   ]
  },
  {
   "cell_type": "code",
   "execution_count": null,
   "metadata": {},
   "outputs": [],
   "source": [
    "leaf_y"
   ]
  },
  {
   "cell_type": "code",
   "execution_count": null,
   "metadata": {},
   "outputs": [],
   "source": [
    "np.shape(mlc_raw)[0]"
   ]
  },
  {
   "cell_type": "code",
   "execution_count": null,
   "metadata": {},
   "outputs": [],
   "source": [
    "mlc_raw[0,:,0]"
   ]
  },
  {
   "cell_type": "code",
   "execution_count": null,
   "metadata": {},
   "outputs": [],
   "source": [
    "def plot_mlc_jaw(i):\n",
    "    plt.scatter(-mlc_raw[i,:,0], leaf_y)\n",
    "    plt.scatter(mlc_raw[i,:,1], leaf_y)\n",
    "    plt.scatter(0,-jaw_raw[i,0])\n",
    "    plt.scatter(0,jaw_raw[i,1])\n",
    "\n",
    "    plt.xlim([-200, 200])\n",
    "    plt.ylim([-200, 200])\n",
    "    \n",
    "    plt.grid()\n",
    "    \n",
    "\n",
    "plot_mlc_jaw(0)"
   ]
  },
  {
   "cell_type": "code",
   "execution_count": null,
   "metadata": {},
   "outputs": [],
   "source": [
    "interact(plot_mlc_jaw, i=(0, np.shape(mlc_raw)[0]-1))"
   ]
  },
  {
   "cell_type": "code",
   "execution_count": null,
   "metadata": {},
   "outputs": [],
   "source": []
  },
  {
   "cell_type": "code",
   "execution_count": null,
   "metadata": {},
   "outputs": [],
   "source": [
    "test_positions = [400, 500]\n",
    "\n",
    "plt.figure()\n",
    "plot_mlc_jaw(test_positions[0])\n",
    "\n",
    "plt.figure()\n",
    "plot_mlc_jaw(test_positions[1])"
   ]
  },
  {
   "cell_type": "code",
   "execution_count": null,
   "metadata": {},
   "outputs": [],
   "source": []
  },
  {
   "cell_type": "code",
   "execution_count": null,
   "metadata": {},
   "outputs": [],
   "source": [
    "leaf_xx"
   ]
  },
  {
   "cell_type": "code",
   "execution_count": null,
   "metadata": {},
   "outputs": [],
   "source": [
    "# start_left_leaf_diffs = leaf_xx - mlc_raw[test_positions[0],:,0][:,None]\n",
    "# end_left_leaf_diffs = leaf_xx - mlc_raw[test_positions[1],:,0][:,None]\n",
    "\n",
    "# start_right_leaf_diffs = leaf_xx - mlc_raw[test_positions[0],:,1][:,None]\n",
    "# end_right_leaf_diffs = leaf_xx - mlc_raw[test_positions[1],:,1][:,None]"
   ]
  },
  {
   "cell_type": "code",
   "execution_count": null,
   "metadata": {},
   "outputs": [],
   "source": [
    "# mu = mu_raw[test_positions[1]] - mu_raw[test_positions[0]]"
   ]
  },
  {
   "cell_type": "code",
   "execution_count": null,
   "metadata": {},
   "outputs": [],
   "source": [
    "# leaf_y[47]"
   ]
  },
  {
   "cell_type": "code",
   "execution_count": null,
   "metadata": {},
   "outputs": [],
   "source": [
    "# start_left_leaf_diffs[47, 200]"
   ]
  },
  {
   "cell_type": "code",
   "execution_count": null,
   "metadata": {},
   "outputs": [],
   "source": [
    "# end_left_leaf_diffs[47, 200]"
   ]
  },
  {
   "cell_type": "code",
   "execution_count": null,
   "metadata": {},
   "outputs": [],
   "source": [
    "# left_leaf_travel_dist = np.abs(start_left_leaf_diffs - end_left_leaf_diffs)\n",
    "# left_leaf_travel_dist[47, 200]"
   ]
  },
  {
   "cell_type": "code",
   "execution_count": null,
   "metadata": {},
   "outputs": [],
   "source": [
    "# start_right_leaf_diffs[47, 200]"
   ]
  },
  {
   "cell_type": "code",
   "execution_count": null,
   "metadata": {},
   "outputs": [],
   "source": [
    "# end_right_leaf_diffs[47, 200]"
   ]
  },
  {
   "cell_type": "code",
   "execution_count": null,
   "metadata": {},
   "outputs": [],
   "source": [
    "# right_leaf_travel_dist = np.abs(start_right_leaf_diffs - end_right_leaf_diffs)\n",
    "# right_leaf_travel_dist[47, 200]"
   ]
  },
  {
   "cell_type": "code",
   "execution_count": null,
   "metadata": {},
   "outputs": [],
   "source": [
    "   "
   ]
  },
  {
   "cell_type": "code",
   "execution_count": null,
   "metadata": {},
   "outputs": [],
   "source": [
    "initial_leaf_grid_y_pos = leaf_y[len(leaf_y)//2]\n",
    "\n",
    "top_grid_pos = (\n",
    "    (total_leaf_widths/2 - initial_leaf_grid_y_pos) // grid_resolution *\n",
    "    grid_resolution + initial_leaf_grid_y_pos)\n",
    "\n",
    "bot_grid_pos = (\n",
    "    initial_leaf_grid_y_pos -\n",
    "    (total_leaf_widths/2 + initial_leaf_grid_y_pos) // grid_resolution *\n",
    "    grid_resolution)\n",
    "\n",
    "grid_y = np.arange(\n",
    "    bot_grid_pos, top_grid_pos + grid_resolution, grid_resolution)\n",
    "\n",
    "grid_leaf_map = np.argmin(np.abs(grid_y[:,None] - leaf_y[None,:]), axis=1)"
   ]
  },
  {
   "cell_type": "code",
   "execution_count": null,
   "metadata": {},
   "outputs": [],
   "source": [
    "def calc_a_single_blocked_fraction(start_diffs, end_diffs,\n",
    "                                   start_blocked, end_blocked):    \n",
    "    blocked_fraction = np.ones(np.shape(start_diffs)) * np.nan\n",
    "    all_open = ~start_blocked & ~end_blocked\n",
    "    blocked_fraction[all_open] = 0\n",
    "\n",
    "    all_blocked = start_blocked & end_blocked\n",
    "    blocked_fraction[all_blocked] = 1\n",
    "\n",
    "    start_blocked_fraction = np.copy(blocked_fraction)\n",
    "    end_blocked_fraction = np.copy(blocked_fraction)\n",
    "    \n",
    "    partial_blocked = start_blocked != end_blocked\n",
    "    travel = np.abs(\n",
    "        start_diffs[partial_blocked] - \n",
    "        end_diffs[partial_blocked])\n",
    "    \n",
    "    start_partial_blocked_ref = start_blocked[partial_blocked]\n",
    "    end_partial_blocked_ref = end_blocked[partial_blocked]\n",
    "    \n",
    "    start_blocked_fraction[partial_blocked & start_blocked] = np.abs(\n",
    "        start_diffs[partial_blocked][start_partial_blocked_ref] / \n",
    "        travel[start_partial_blocked_ref]\n",
    "    )\n",
    "    start_blocked_fraction[partial_blocked & end_blocked] = 0\n",
    "    \n",
    "    end_blocked_fraction[partial_blocked & end_blocked] = np.abs(\n",
    "        end_diffs[partial_blocked][end_partial_blocked_ref] / \n",
    "        travel[end_partial_blocked_ref]\n",
    "    )\n",
    "    end_blocked_fraction[partial_blocked & start_blocked] = 0\n",
    "    \n",
    "    assert np.all(~np.isnan(start_blocked_fraction))\n",
    "    assert np.all(~np.isnan(end_blocked_fraction))\n",
    "    \n",
    "    return start_blocked_fraction, end_blocked_fraction\n",
    "\n",
    "\n",
    "def calc_leaf_blocked_fractions(leaf_xx, mlc_raw, grid_leaf_map, test_positions):\n",
    "    start_left_diffs = leaf_xx - -mlc_raw[test_positions[0],:,0][:,None]\n",
    "    end_left_diffs = leaf_xx - -mlc_raw[test_positions[1],:,0][:,None]\n",
    "    \n",
    "    start_left_blocked = start_left_diffs <= 0\n",
    "    end_left_blocked = end_left_diffs <= 0\n",
    "    \n",
    "    (\n",
    "        start_left_blocked_fraction, end_left_blocked_fraction\n",
    "    ) = calc_a_single_blocked_fraction(\n",
    "        start_left_diffs, end_left_diffs,\n",
    "        start_left_blocked, end_left_blocked)\n",
    "\n",
    "    start_right_diffs = leaf_xx - mlc_raw[test_positions[0],:,1][:,None]\n",
    "    end_right_diffs = leaf_xx - mlc_raw[test_positions[1],:,1][:,None]\n",
    "    \n",
    "    start_right_blocked = start_right_diffs >= 0\n",
    "    end_right_blocked = end_right_diffs >= 0\n",
    "    \n",
    "    (\n",
    "        start_right_blocked_fraction, end_right_blocked_fraction\n",
    "    ) = calc_a_single_blocked_fraction(\n",
    "        start_right_diffs, end_right_diffs,\n",
    "        start_right_blocked, end_right_blocked)\n",
    "    \n",
    "    return {\n",
    "        'start_left_blocked_fraction': start_left_blocked_fraction[grid_leaf_map],\n",
    "        'end_left_blocked_fraction': end_left_blocked_fraction[grid_leaf_map],\n",
    "        'start_right_blocked_fraction': start_right_blocked_fraction[grid_leaf_map],\n",
    "        'end_right_blocked_fraction': end_right_blocked_fraction[grid_leaf_map]\n",
    "    }\n",
    "\n",
    "\n",
    "def calc_jaw_blocked_fraction(grid_y, jaw_raw, repeats, test_positions):\n",
    "    start_top_diffs = grid_y - jaw_raw[test_positions[0],1]\n",
    "    end_top_diffs = grid_y - jaw_raw[test_positions[1],1]\n",
    "    \n",
    "    start_top_blocked = start_top_diffs >= 0\n",
    "    end_top_blocked = end_top_diffs >= 0\n",
    "    \n",
    "    (\n",
    "        start_top_blocked_fraction, end_top_blocked_fraction\n",
    "    ) = calc_a_single_blocked_fraction(\n",
    "        start_top_diffs, end_top_diffs,\n",
    "        start_top_blocked, end_top_blocked)\n",
    "    \n",
    "    start_bottom_diffs = grid_y - -jaw_raw[test_positions[0],0]\n",
    "    end_bottom_diffs = grid_y - -jaw_raw[test_positions[1],0]\n",
    "    \n",
    "    start_bottom_blocked = start_bottom_diffs <= 0\n",
    "    end_bottom_blocked = end_bottom_diffs <= 0\n",
    "    \n",
    "    (\n",
    "        start_bottom_blocked_fraction, end_bottom_blocked_fraction\n",
    "    ) = calc_a_single_blocked_fraction(\n",
    "        start_bottom_diffs, end_bottom_diffs,\n",
    "        start_bottom_blocked, end_bottom_blocked)\n",
    "    \n",
    "    return {\n",
    "        'start_top_blocked_fraction': np.repeat(\n",
    "            start_top_blocked_fraction[:,None], repeats, axis=1),\n",
    "        'end_top_blocked_fraction': np.repeat(\n",
    "            end_top_blocked_fraction[:,None], repeats, axis=1),\n",
    "        'start_bottom_blocked_fraction': np.repeat(\n",
    "            start_bottom_blocked_fraction[:,None], repeats, axis=1),\n",
    "        'end_bottom_blocked_fraction': np.repeat(\n",
    "            end_bottom_blocked_fraction[:,None], repeats, axis=1)\n",
    "    }\n",
    "    \n",
    "\n",
    "leaf_blocked_fractions = calc_leaf_blocked_fractions(\n",
    "    leaf_xx, mlc_raw, grid_leaf_map, test_positions)\n",
    "\n",
    "jaw_blocked_fractions = calc_jaw_blocked_fraction(\n",
    "    grid_y, jaw_raw, len(leaf_x), test_positions)"
   ]
  },
  {
   "cell_type": "code",
   "execution_count": null,
   "metadata": {},
   "outputs": [],
   "source": [
    "plt.figure()\n",
    "plot_mlc_jaw(test_positions[0])\n",
    "\n",
    "plt.figure()\n",
    "plt.pcolor(leaf_x, grid_y, jaw_blocked_fractions['start_top_blocked_fraction'])\n",
    "plt.colorbar()\n",
    "\n",
    "plt.figure()\n",
    "plt.pcolor(leaf_x, grid_y, jaw_blocked_fractions['start_bottom_blocked_fraction'])\n",
    "plt.colorbar()"
   ]
  },
  {
   "cell_type": "code",
   "execution_count": null,
   "metadata": {},
   "outputs": [],
   "source": [
    "plt.figure()\n",
    "plot_mlc_jaw(test_positions[1])\n",
    "\n",
    "plt.figure()\n",
    "plt.pcolor(leaf_x, grid_y, jaw_blocked_fractions['end_top_blocked_fraction'])\n",
    "plt.colorbar()\n",
    "\n",
    "plt.figure()\n",
    "plt.pcolor(leaf_x, grid_y, jaw_blocked_fractions['end_bottom_blocked_fraction'])\n",
    "plt.colorbar()"
   ]
  },
  {
   "cell_type": "code",
   "execution_count": null,
   "metadata": {},
   "outputs": [],
   "source": [
    "np.shape(jaw_blocked_fractions['start_top_blocked_fraction'])"
   ]
  },
  {
   "cell_type": "code",
   "execution_count": null,
   "metadata": {},
   "outputs": [],
   "source": [
    "np.shape(leaf_blocked_fractions['start_left_blocked_fraction'])"
   ]
  },
  {
   "cell_type": "code",
   "execution_count": null,
   "metadata": {},
   "outputs": [],
   "source": [
    "plt.figure()\n",
    "plot_mlc_jaw(test_positions[0])\n",
    "\n",
    "plt.figure()\n",
    "plt.pcolor(leaf_x, grid_y, leaf_blocked_fractions['start_left_blocked_fraction'])\n",
    "plt.colorbar()\n",
    "plot_mlc_jaw(test_positions[0])\n",
    "\n",
    "plt.figure()\n",
    "plt.pcolor(leaf_blocked_fractions['start_right_blocked_fraction'])\n",
    "plt.colorbar()"
   ]
  },
  {
   "cell_type": "code",
   "execution_count": null,
   "metadata": {},
   "outputs": [],
   "source": [
    "plt.figure()\n",
    "plot_mlc_jaw(test_positions[1])\n",
    "\n",
    "plt.figure()\n",
    "plt.pcolor(leaf_blocked_fractions['end_left_blocked_fraction'])\n",
    "plt.colorbar()\n",
    "\n",
    "plt.figure()\n",
    "plt.pcolor(leaf_blocked_fractions['end_right_blocked_fraction'])\n",
    "plt.colorbar()"
   ]
  },
  {
   "cell_type": "code",
   "execution_count": null,
   "metadata": {},
   "outputs": [],
   "source": []
  },
  {
   "cell_type": "code",
   "execution_count": null,
   "metadata": {},
   "outputs": [],
   "source": [
    "def calc_blocked_fraction(leaf_xx, mlc_raw, grid_leaf_map, \n",
    "                          grid_y, jaw_raw, test_positions):\n",
    "    \n",
    "    leaf_blocked_fractions = calc_leaf_blocked_fractions(\n",
    "        leaf_xx, mlc_raw, grid_leaf_map, test_positions)\n",
    "\n",
    "    jaw_blocked_fractions = calc_jaw_blocked_fraction(\n",
    "        grid_y, jaw_raw, np.shape(leaf_xx)[1], test_positions)\n",
    "\n",
    "    start_blocked_fraction = np.max(\n",
    "        [\n",
    "            leaf_blocked_fractions['start_left_blocked_fraction'],\n",
    "            leaf_blocked_fractions['start_right_blocked_fraction'],\n",
    "            jaw_blocked_fractions['start_top_blocked_fraction'],\n",
    "            jaw_blocked_fractions['start_bottom_blocked_fraction']\n",
    "        ], axis=0\n",
    "    )\n",
    "\n",
    "    end_blocked_fraction = np.max(\n",
    "        [\n",
    "            leaf_blocked_fractions['end_left_blocked_fraction'],\n",
    "            leaf_blocked_fractions['end_right_blocked_fraction'],\n",
    "            jaw_blocked_fractions['end_top_blocked_fraction'],\n",
    "            jaw_blocked_fractions['end_bottom_blocked_fraction']\n",
    "        ], axis=0\n",
    "    )\n",
    "\n",
    "    blocked_fraction = start_blocked_fraction + end_blocked_fraction\n",
    "    blocked_fraction[blocked_fraction > 1] = 1\n",
    "    \n",
    "    return blocked_fraction\n",
    "\n",
    "\n",
    "blocked_fraction = calc_blocked_fraction(\n",
    "    leaf_xx, mlc_raw, grid_leaf_map, \n",
    "    grid_y, jaw_raw, test_positions)\n",
    "plt.pcolor(blocked_fraction)\n",
    "plt.colorbar()\n",
    "\n",
    "plt.figure()\n",
    "plot_mlc_jaw(test_positions[0])\n",
    "\n",
    "plt.figure()\n",
    "plot_mlc_jaw(test_positions[1])"
   ]
  },
  {
   "cell_type": "code",
   "execution_count": null,
   "metadata": {},
   "outputs": [],
   "source": [
    "np.shape(mu_raw)"
   ]
  },
  {
   "cell_type": "code",
   "execution_count": null,
   "metadata": {},
   "outputs": [],
   "source": [
    "mu_raw[0]"
   ]
  },
  {
   "cell_type": "code",
   "execution_count": null,
   "metadata": {},
   "outputs": [],
   "source": [
    "np.shape(mlc_raw)"
   ]
  },
  {
   "cell_type": "code",
   "execution_count": null,
   "metadata": {},
   "outputs": [],
   "source": [
    "grid_xx, grid_yy = np.meshgrid(leaf_x, grid_y)"
   ]
  },
  {
   "cell_type": "code",
   "execution_count": null,
   "metadata": {},
   "outputs": [],
   "source": [
    "tell_me = len(mu_raw[1::]) // 10\n",
    "307 // tell_me == 307 / tell_me"
   ]
  },
  {
   "cell_type": "code",
   "execution_count": null,
   "metadata": {},
   "outputs": [],
   "source": [
    "np.diff(mu_raw)"
   ]
  },
  {
   "cell_type": "code",
   "execution_count": null,
   "metadata": {},
   "outputs": [],
   "source": [
    "mu_fluence = np.zeros_like(grid_xx)\n",
    "tell_me = len(mu_raw[1::]) // 10\n",
    "\n",
    "\n",
    "for i, mu in enumerate(np.diff(mu_raw)):\n",
    "    test_positions = (i, i + 1)\n",
    "    if mu != 0:\n",
    "        mu_fluence += mu * (1 - calc_blocked_fraction(\n",
    "            leaf_xx, mlc_raw, grid_leaf_map, \n",
    "            grid_y, jaw_raw, test_positions))\n",
    "        \n",
    "    if (i // tell_me == i / tell_me):\n",
    "        print(i/len(mu_raw[1::]))\n",
    "        \n",
    "    "
   ]
  },
  {
   "cell_type": "code",
   "execution_count": null,
   "metadata": {},
   "outputs": [],
   "source": [
    "plt.pcolormesh(grid_xx, grid_yy, mu_fluence)\n",
    "plt.colorbar()"
   ]
  },
  {
   "cell_type": "code",
   "execution_count": null,
   "metadata": {},
   "outputs": [],
   "source": [
    "mu_raw"
   ]
  },
  {
   "cell_type": "code",
   "execution_count": null,
   "metadata": {},
   "outputs": [],
   "source": [
    "# mu_raw[1::].tolist()"
   ]
  },
  {
   "cell_type": "code",
   "execution_count": null,
   "metadata": {},
   "outputs": [],
   "source": []
  },
  {
   "cell_type": "code",
   "execution_count": null,
   "metadata": {},
   "outputs": [],
   "source": []
  },
  {
   "cell_type": "code",
   "execution_count": null,
   "metadata": {},
   "outputs": [],
   "source": [
    "# np.any(end_blocked_fraction > 1)"
   ]
  },
  {
   "cell_type": "code",
   "execution_count": null,
   "metadata": {},
   "outputs": [],
   "source": []
  }
 ],
 "metadata": {
  "kernelspec": {
   "display_name": "Python 3",
   "language": "python",
   "name": "python3"
  },
  "language_info": {
   "codemirror_mode": {
    "name": "ipython",
    "version": 3
   },
   "file_extension": ".py",
   "mimetype": "text/x-python",
   "name": "python",
   "nbconvert_exporter": "python",
   "pygments_lexer": "ipython3",
   "version": "3.5.5"
  }
 },
 "nbformat": 4,
 "nbformat_minor": 2
}
