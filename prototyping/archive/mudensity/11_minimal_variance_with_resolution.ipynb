{
 "cells": [
  {
   "cell_type": "code",
   "execution_count": null,
   "metadata": {},
   "outputs": [],
   "source": [
    "import numpy as np\n",
    "import matplotlib.pyplot as plt\n",
    "\n",
    "from pymedphys.mudensity import single_mlc_pair\n",
    "\n",
    "mlc_left = (-2.3, 3.1)\n",
    "mlc_right = (0, 7.7)\n",
    "\n",
    "x_coarse, mu_density_coarse = single_mlc_pair(\n",
    "    mlc_left, mlc_right, 1)\n",
    "x_fine, mu_density_fine = single_mlc_pair(\n",
    "    mlc_left, mlc_right, 0.01)\n",
    "\n",
    "reference = np.argmin(np.abs(x_fine[None, :] - x_coarse[:, None]), axis=0)\n",
    "\n",
    "average_mu_density_fine = []\n",
    "for i in range(2, len(x_coarse) - 2):\n",
    "    average_mu_density_fine.append(\n",
    "        np.mean(mu_density_fine[reference == i]))\n",
    "\n",
    "average_mu_density_fine = np.array(average_mu_density_fine)"
   ]
  },
  {
   "cell_type": "code",
   "execution_count": null,
   "metadata": {},
   "outputs": [],
   "source": [
    "plt.plot(x_coarse[2:-2], average_mu_density_fine)\n",
    "plt.plot(x_coarse[2:-2], mu_density_coarse[2:-2])"
   ]
  },
  {
   "cell_type": "code",
   "execution_count": null,
   "metadata": {},
   "outputs": [],
   "source": [
    "(mu_density_coarse[2:-2] - average_mu_density_fine) / average_mu_density_fine"
   ]
  }
 ],
 "metadata": {
  "kernelspec": {
   "display_name": "Python 3",
   "language": "python",
   "name": "python3"
  },
  "language_info": {
   "codemirror_mode": {
    "name": "ipython",
    "version": 3
   },
   "file_extension": ".py",
   "mimetype": "text/x-python",
   "name": "python",
   "nbconvert_exporter": "python",
   "pygments_lexer": "ipython3",
   "version": "3.7.0"
  }
 },
 "nbformat": 4,
 "nbformat_minor": 2
}
