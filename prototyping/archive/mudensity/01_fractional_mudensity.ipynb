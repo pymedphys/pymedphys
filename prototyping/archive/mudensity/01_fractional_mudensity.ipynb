{
 "cells": [
  {
   "cell_type": "code",
   "execution_count": null,
   "metadata": {},
   "outputs": [],
   "source": [
    "import os\n",
    "\n",
    "import numpy as np\n",
    "import matplotlib.pyplot as plt\n",
    "\n",
    "from pymedphys.level1.mudensity import *\n",
    "\n",
    "\n",
    "DATA_DIRECTORY = \"../../tests/data\"\n",
    "DELIVERY_DATA_FILEPATH = os.path.join(DATA_DIRECTORY, 'mu_density_example_arrays.npz')\n",
    "\n",
    "def test_regression(plot=False):\n",
    "    \"\"\"The results of MU Density calculation should not change\n",
    "    \"\"\"\n",
    "    regress_test_arrays = np.load(DELIVERY_DATA_FILEPATH)\n",
    "\n",
    "    mu = regress_test_arrays['mu']\n",
    "    mlc = regress_test_arrays['mlc']\n",
    "    jaw = regress_test_arrays['jaw']\n",
    "\n",
    "    cached_grid_xx, cached_grid_yy, cached_mu_density = regress_test_arrays['mu_density']\n",
    "\n",
    "    grid_xx, grid_yy, mu_density = calc_mu_density(mu, mlc, jaw)\n",
    "\n",
    "    assert np.all(grid_xx == cached_grid_xx)\n",
    "    assert np.all(grid_yy == cached_grid_yy)\n",
    "    assert np.allclose(mu_density, cached_mu_density)\n",
    "\n",
    "    if plot:\n",
    "        plt.pcolormesh(grid_xx, grid_yy, mu_density)\n",
    "        plt.colorbar()\n",
    "        plt.title('MU density')\n",
    "        plt.xlabel('MLC direction (mm)')\n",
    "        plt.ylabel('Jaw direction (mm)')\n",
    "        plt.gca().invert_yaxis()\n"
   ]
  },
  {
   "cell_type": "code",
   "execution_count": null,
   "metadata": {},
   "outputs": [],
   "source": [
    "test_regression(plot=True)"
   ]
  },
  {
   "cell_type": "code",
   "execution_count": null,
   "metadata": {},
   "outputs": [],
   "source": [
    "regress_test_arrays = np.load(DELIVERY_DATA_FILEPATH)"
   ]
  },
  {
   "cell_type": "code",
   "execution_count": null,
   "metadata": {},
   "outputs": [],
   "source": []
  },
  {
   "cell_type": "code",
   "execution_count": null,
   "metadata": {},
   "outputs": [],
   "source": [
    "# mu"
   ]
  },
  {
   "cell_type": "code",
   "execution_count": null,
   "metadata": {},
   "outputs": [],
   "source": [
    "# np.diff(mu)"
   ]
  },
  {
   "cell_type": "code",
   "execution_count": null,
   "metadata": {},
   "outputs": [],
   "source": [
    "mu = regress_test_arrays['mu']\n",
    "mlc = regress_test_arrays['mlc']\n",
    "jaw = regress_test_arrays['jaw']\n",
    "\n",
    "leaf_pair_widths = np.array(AGILITY_LEAF_PAIR_WIDTHS)\n",
    "max_leaf_gap=400\n",
    "grid_resolution=1\n",
    "\n",
    "mu, mlc, jaw = remove_irrelevant_control_points(mu, mlc, jaw)\n",
    "\n",
    "(\n",
    "    grid_xx, grid_yy, grid_leaf_map, mlc,\n",
    "    leaf_xx\n",
    ") = determine_calc_grid_and_adjustments(\n",
    "    mlc, jaw, leaf_pair_widths, grid_resolution)"
   ]
  },
  {
   "cell_type": "code",
   "execution_count": null,
   "metadata": {},
   "outputs": [],
   "source": []
  },
  {
   "cell_type": "code",
   "execution_count": null,
   "metadata": {},
   "outputs": [],
   "source": [
    "i = 3\n",
    "slice_to_check = slice(i, i + 2, 1)\n",
    "\n",
    "blocked_fraction = calc_blocked_fraction(\n",
    "    leaf_xx, mlc[slice_to_check, :, :], grid_leaf_map,\n",
    "    grid_yy, jaw[slice_to_check, :])\n",
    "\n",
    "mu_density = np.sum(\n",
    "    np.diff(mu[slice_to_check])[:, None, None] *\n",
    "    (1 - blocked_fraction), axis=0)\n",
    "\n",
    "plt.figure(figsize=(18,22))\n",
    "plt.pcolormesh(grid_xx, grid_yy, mu_density)\n",
    "plt.colorbar()\n",
    "plt.title('MU density')\n",
    "plt.xlabel('MLC direction (mm)')\n",
    "plt.ylabel('Jaw direction (mm)')\n",
    "plt.axis('equal')\n",
    "plt.gca().invert_yaxis()"
   ]
  },
  {
   "cell_type": "code",
   "execution_count": null,
   "metadata": {},
   "outputs": [],
   "source": [
    "x = np.linspace(-10,10, 21)\n",
    "left_mlc_pos_start = [-2.3]\n",
    "left_mlc_pos_end = [3.1]\n",
    "\n",
    "right_mlc_pos_start = [0]\n",
    "right_mlc_pos_end = [7.7]\n",
    "\n",
    "left_start_diffs = x - left_mlc_pos_start\n",
    "left_end_diffs = x - left_mlc_pos_end\n",
    "left_start_blocked = left_start_diffs <= 0\n",
    "left_end_blocked = left_end_diffs <= 0\n",
    "\n",
    "right_start_diffs = x - right_mlc_pos_start\n",
    "right_end_diffs = x - right_mlc_pos_end\n",
    "right_start_blocked = right_start_diffs >= 0\n",
    "right_end_blocked = right_end_diffs >= 0\n",
    "\n",
    "start_left_blocked_fraction, end_left_blocked_fraction = calc_a_single_blocked_fraction(\n",
    "    left_start_diffs, left_end_diffs, left_start_blocked, left_end_blocked)\n",
    "\n",
    "start_right_blocked_fraction, end_right_blocked_fraction = calc_a_single_blocked_fraction(\n",
    "    right_start_diffs, right_end_diffs, right_start_blocked, right_end_blocked)"
   ]
  },
  {
   "cell_type": "code",
   "execution_count": null,
   "metadata": {},
   "outputs": [],
   "source": [
    "start_left_blocked_fraction"
   ]
  },
  {
   "cell_type": "code",
   "execution_count": null,
   "metadata": {},
   "outputs": [],
   "source": [
    "end_left_blocked_fraction"
   ]
  },
  {
   "cell_type": "code",
   "execution_count": null,
   "metadata": {},
   "outputs": [],
   "source": [
    "start_right_blocked_fraction"
   ]
  },
  {
   "cell_type": "code",
   "execution_count": null,
   "metadata": {},
   "outputs": [],
   "source": [
    "end_right_blocked_fraction"
   ]
  },
  {
   "cell_type": "code",
   "execution_count": null,
   "metadata": {},
   "outputs": [],
   "source": [
    "all_start_blocked_fractions = np.concatenate([\n",
    "    np.expand_dims(start_left_blocked_fraction, axis=0), \n",
    "    np.expand_dims(start_right_blocked_fraction, axis=0)\n",
    "], axis=0)\n",
    "\n",
    "all_end_blocked_fractions = np.concatenate([\n",
    "    np.expand_dims(end_left_blocked_fraction, axis=0),\n",
    "    np.expand_dims(end_right_blocked_fraction, axis=0)\n",
    "], axis=0)\n",
    "\n",
    "start_blocked_fraction = np.max(all_start_blocked_fractions, axis=0)\n",
    "end_blocked_fraction = np.max(all_end_blocked_fractions, axis=0)\n",
    "\n",
    "blocked_fraction = start_blocked_fraction + end_blocked_fraction\n",
    "blocked_fraction[blocked_fraction > 1] = 1"
   ]
  },
  {
   "cell_type": "code",
   "execution_count": null,
   "metadata": {},
   "outputs": [],
   "source": [
    "blocked_fraction"
   ]
  },
  {
   "cell_type": "code",
   "execution_count": null,
   "metadata": {},
   "outputs": [],
   "source": [
    "plt.plot(x, 1 - blocked_fraction, '-o')"
   ]
  },
  {
   "cell_type": "code",
   "execution_count": null,
   "metadata": {},
   "outputs": [],
   "source": [
    "def a_single_mlc_pair(x, left_mlc_pos_start, left_mlc_pos_end, right_mlc_pos_start, right_mlc_pos_end):\n",
    "    left_start_diffs = x - left_mlc_pos_start\n",
    "    left_end_diffs = x - left_mlc_pos_end\n",
    "    left_start_blocked = left_start_diffs <= 0\n",
    "    left_end_blocked = left_end_diffs <= 0\n",
    "\n",
    "    right_start_diffs = x - right_mlc_pos_start\n",
    "    right_end_diffs = x - right_mlc_pos_end\n",
    "    right_start_blocked = right_start_diffs >= 0\n",
    "    right_end_blocked = right_end_diffs >= 0\n",
    "\n",
    "    start_left_blocked_fraction, end_left_blocked_fraction = calc_a_single_blocked_fraction(\n",
    "        left_start_diffs, left_end_diffs, left_start_blocked, left_end_blocked)\n",
    "\n",
    "    start_right_blocked_fraction, end_right_blocked_fraction = calc_a_single_blocked_fraction(\n",
    "        right_start_diffs, right_end_diffs, right_start_blocked, right_end_blocked)\n",
    "    \n",
    "    all_start_blocked_fractions = np.concatenate([\n",
    "        np.expand_dims(start_left_blocked_fraction, axis=0), \n",
    "        np.expand_dims(start_right_blocked_fraction, axis=0)\n",
    "    ], axis=0)\n",
    "\n",
    "    all_end_blocked_fractions = np.concatenate([\n",
    "        np.expand_dims(end_left_blocked_fraction, axis=0),\n",
    "        np.expand_dims(end_right_blocked_fraction, axis=0)\n",
    "    ], axis=0)\n",
    "\n",
    "    start_blocked_fraction = np.max(all_start_blocked_fractions, axis=0)\n",
    "    end_blocked_fraction = np.max(all_end_blocked_fractions, axis=0)\n",
    "\n",
    "    blocked_fraction = start_blocked_fraction + end_blocked_fraction\n",
    "    blocked_fraction[blocked_fraction > 1] = 1\n",
    "    \n",
    "    return blocked_fraction\n",
    "\n"
   ]
  },
  {
   "cell_type": "code",
   "execution_count": null,
   "metadata": {},
   "outputs": [],
   "source": [
    "left_mlc_pos_start = -2.3\n",
    "left_mlc_pos_end = 3.1\n",
    "\n",
    "right_mlc_pos_start = 0\n",
    "right_mlc_pos_end = 7.7"
   ]
  },
  {
   "cell_type": "code",
   "execution_count": null,
   "metadata": {},
   "outputs": [],
   "source": [
    "x_coarse = np.linspace(-10, 10, 21)\n",
    "\n",
    "blocked_fraction_coarse = a_single_mlc_pair(\n",
    "    x_coarse, left_mlc_pos_start, left_mlc_pos_end, right_mlc_pos_start, right_mlc_pos_end)\n",
    "\n",
    "plt.plot(x_coarse, 1 - blocked_fraction_coarse, '-o')"
   ]
  },
  {
   "cell_type": "code",
   "execution_count": null,
   "metadata": {},
   "outputs": [],
   "source": [
    "x_fine = np.linspace(-10, 10, 2001)\n",
    "\n",
    "blocked_fraction_fine = a_single_mlc_pair(\n",
    "    x_fine, left_mlc_pos_start, left_mlc_pos_end, right_mlc_pos_start, right_mlc_pos_end)\n",
    "\n",
    "plt.plot(x_fine, 1 - blocked_fraction_fine, '-o')"
   ]
  },
  {
   "cell_type": "code",
   "execution_count": null,
   "metadata": {},
   "outputs": [],
   "source": [
    "reference = np.argmin(np.abs(x_fine[None,:] - x_coarse[:,None]), axis=0)\n",
    "\n",
    "average_blocked_fine = []\n",
    "for i, x_val in enumerate(x_coarse):\n",
    "    average_blocked_fine.append(\n",
    "        np.mean(blocked_fraction_fine[reference == i]))\n",
    "    \n",
    "average_blocked_fine = np.array(average_blocked_fine)"
   ]
  },
  {
   "cell_type": "code",
   "execution_count": null,
   "metadata": {},
   "outputs": [],
   "source": [
    "plt.plot(x_coarse, 1 - average_blocked_fine, '-o')"
   ]
  },
  {
   "cell_type": "code",
   "execution_count": null,
   "metadata": {},
   "outputs": [],
   "source": [
    "diff = (\n",
    "    (1 - average_blocked_fine) -\n",
    "    (1 - blocked_fraction_coarse)\n",
    ")\n",
    "\n",
    "# plt.plot(x_coarse, 1 - average_blocked_fine, '-o')\n",
    "plt.plot(x_coarse, diff, '-o')"
   ]
  },
  {
   "cell_type": "code",
   "execution_count": null,
   "metadata": {},
   "outputs": [],
   "source": []
  }
 ],
 "metadata": {
  "kernelspec": {
   "display_name": "Python 3",
   "language": "python",
   "name": "python3"
  },
  "language_info": {
   "codemirror_mode": {
    "name": "ipython",
    "version": 3
   },
   "file_extension": ".py",
   "mimetype": "text/x-python",
   "name": "python",
   "nbconvert_exporter": "python",
   "pygments_lexer": "ipython3",
   "version": "3.5.5"
  }
 },
 "nbformat": 4,
 "nbformat_minor": 2
}
