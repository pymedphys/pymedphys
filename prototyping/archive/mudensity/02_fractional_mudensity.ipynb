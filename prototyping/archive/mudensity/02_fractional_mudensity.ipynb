{
 "cells": [
  {
   "cell_type": "code",
   "execution_count": null,
   "metadata": {},
   "outputs": [],
   "source": [
    "import os\n",
    "\n",
    "import numpy as np\n",
    "import matplotlib.pyplot as plt\n",
    "\n",
    "from pymedphys.level1.mudensity import *\n",
    "\n",
    "\n",
    "DATA_DIRECTORY = \"../../tests/data\"\n",
    "DELIVERY_DATA_FILEPATH = os.path.join(DATA_DIRECTORY, 'mu_density_example_arrays.npz')\n",
    "\n",
    "def test_regression(plot=False):\n",
    "    \"\"\"The results of MU Density calculation should not change\n",
    "    \"\"\"\n",
    "    regress_test_arrays = np.load(DELIVERY_DATA_FILEPATH)\n",
    "\n",
    "    mu = regress_test_arrays['mu']\n",
    "    mlc = regress_test_arrays['mlc']\n",
    "    jaw = regress_test_arrays['jaw']\n",
    "\n",
    "    cached_grid_xx, cached_grid_yy, cached_mu_density = regress_test_arrays['mu_density']\n",
    "\n",
    "    grid_xx, grid_yy, mu_density = calc_mu_density(mu, mlc, jaw)\n",
    "\n",
    "    assert np.all(grid_xx == cached_grid_xx)\n",
    "    assert np.all(grid_yy == cached_grid_yy)\n",
    "    assert np.allclose(mu_density, cached_mu_density)\n",
    "\n",
    "    if plot:\n",
    "        plt.pcolormesh(grid_xx, grid_yy, mu_density)\n",
    "        plt.colorbar()\n",
    "        plt.title('MU density')\n",
    "        plt.xlabel('MLC direction (mm)')\n",
    "        plt.ylabel('Jaw direction (mm)')\n",
    "        plt.gca().invert_yaxis()\n"
   ]
  },
  {
   "cell_type": "code",
   "execution_count": null,
   "metadata": {},
   "outputs": [],
   "source": [
    "test_regression(plot=True)"
   ]
  },
  {
   "cell_type": "code",
   "execution_count": null,
   "metadata": {},
   "outputs": [],
   "source": [
    "regress_test_arrays = np.load(DELIVERY_DATA_FILEPATH)"
   ]
  },
  {
   "cell_type": "code",
   "execution_count": null,
   "metadata": {},
   "outputs": [],
   "source": []
  },
  {
   "cell_type": "code",
   "execution_count": null,
   "metadata": {},
   "outputs": [],
   "source": [
    "# mu"
   ]
  },
  {
   "cell_type": "code",
   "execution_count": null,
   "metadata": {},
   "outputs": [],
   "source": [
    "# np.diff(mu)"
   ]
  },
  {
   "cell_type": "code",
   "execution_count": null,
   "metadata": {},
   "outputs": [],
   "source": [
    "mu = regress_test_arrays['mu']\n",
    "mlc = regress_test_arrays['mlc']\n",
    "jaw = regress_test_arrays['jaw']\n",
    "\n",
    "leaf_pair_widths = np.array(AGILITY_LEAF_PAIR_WIDTHS)\n",
    "max_leaf_gap=400\n",
    "grid_resolution=1\n",
    "\n",
    "mu, mlc, jaw = remove_irrelevant_control_points(mu, mlc, jaw)\n",
    "\n",
    "(\n",
    "    grid_xx, grid_yy, grid_leaf_map, mlc,\n",
    "    leaf_xx\n",
    ") = determine_calc_grid_and_adjustments(\n",
    "    mlc, jaw, leaf_pair_widths, grid_resolution)"
   ]
  },
  {
   "cell_type": "code",
   "execution_count": null,
   "metadata": {},
   "outputs": [],
   "source": []
  },
  {
   "cell_type": "code",
   "execution_count": null,
   "metadata": {},
   "outputs": [],
   "source": [
    "i = 3\n",
    "slice_to_check = slice(i, i + 2, 1)\n",
    "\n",
    "blocked_fraction = calc_blocked_fraction(\n",
    "    leaf_xx, mlc[slice_to_check, :, :], grid_leaf_map,\n",
    "    grid_yy, jaw[slice_to_check, :])\n",
    "\n",
    "mu_density = np.sum(\n",
    "    np.diff(mu[slice_to_check])[:, None, None] *\n",
    "    (1 - blocked_fraction), axis=0)\n",
    "\n",
    "plt.figure(figsize=(18,22))\n",
    "plt.pcolormesh(grid_xx, grid_yy, mu_density)\n",
    "plt.colorbar()\n",
    "plt.title('MU density')\n",
    "plt.xlabel('MLC direction (mm)')\n",
    "plt.ylabel('Jaw direction (mm)')\n",
    "plt.axis('equal')\n",
    "plt.gca().invert_yaxis()"
   ]
  },
  {
   "cell_type": "code",
   "execution_count": null,
   "metadata": {},
   "outputs": [],
   "source": [
    "def calc_a_single_blocked_fraction(start_diffs, end_diffs,\n",
    "                                   start_blocked, end_blocked):\n",
    "    blocked_fraction = np.ones(np.shape(start_diffs)) * np.nan\n",
    "    all_open = ~start_blocked & ~end_blocked\n",
    "    blocked_fraction[all_open] = 0\n",
    "\n",
    "    all_blocked = start_blocked & end_blocked\n",
    "    blocked_fraction[all_blocked] = 1\n",
    "\n",
    "    start_blocked_fraction = np.copy(blocked_fraction)\n",
    "    end_blocked_fraction = np.copy(blocked_fraction)\n",
    "\n",
    "    partial_blocked = start_blocked != end_blocked\n",
    "    travel = np.abs(\n",
    "        start_diffs[partial_blocked] -\n",
    "        end_diffs[partial_blocked])\n",
    "\n",
    "    start_partial_blocked_ref = start_blocked[partial_blocked]\n",
    "    end_partial_blocked_ref = end_blocked[partial_blocked]\n",
    "\n",
    "    start_blocked_fraction[partial_blocked & start_blocked] = np.abs(\n",
    "        start_diffs[partial_blocked][start_partial_blocked_ref] /\n",
    "        travel[start_partial_blocked_ref]\n",
    "    )\n",
    "    start_blocked_fraction[partial_blocked & end_blocked] = 0\n",
    "\n",
    "    end_blocked_fraction[partial_blocked & end_blocked] = np.abs(\n",
    "        end_diffs[partial_blocked][end_partial_blocked_ref] /\n",
    "        travel[end_partial_blocked_ref]\n",
    "    )\n",
    "    end_blocked_fraction[partial_blocked & start_blocked] = 0\n",
    "\n",
    "    assert np.all(~np.isnan(start_blocked_fraction))\n",
    "    assert np.all(~np.isnan(end_blocked_fraction))\n",
    "\n",
    "    return start_blocked_fraction, end_blocked_fraction"
   ]
  },
  {
   "cell_type": "code",
   "execution_count": null,
   "metadata": {},
   "outputs": [],
   "source": [
    "x = np.linspace(-10,10, 21)\n",
    "left_mlc_pos_start = [-2.3]\n",
    "left_mlc_pos_end = [3.1]\n",
    "\n",
    "right_mlc_pos_start = [0]\n",
    "right_mlc_pos_end = [7.7]\n",
    "\n",
    "left_start_diffs = x - left_mlc_pos_start\n",
    "left_end_diffs = x - left_mlc_pos_end\n",
    "left_start_blocked = left_start_diffs <= 0\n",
    "left_end_blocked = left_end_diffs <= 0\n",
    "\n",
    "right_start_diffs = x - right_mlc_pos_start\n",
    "right_end_diffs = x - right_mlc_pos_end\n",
    "right_start_blocked = right_start_diffs >= 0\n",
    "right_end_blocked = right_end_diffs >= 0\n",
    "\n",
    "start_left_blocked_fraction, end_left_blocked_fraction = calc_a_single_blocked_fraction(\n",
    "    left_start_diffs, left_end_diffs, left_start_blocked, left_end_blocked)\n",
    "\n",
    "start_right_blocked_fraction, end_right_blocked_fraction = calc_a_single_blocked_fraction(\n",
    "    right_start_diffs, right_end_diffs, right_start_blocked, right_end_blocked)"
   ]
  },
  {
   "cell_type": "code",
   "execution_count": null,
   "metadata": {},
   "outputs": [],
   "source": [
    "grid_resolution = 1"
   ]
  },
  {
   "cell_type": "code",
   "execution_count": null,
   "metadata": {},
   "outputs": [],
   "source": [
    "np.abs(left_start_diffs) < grid_resolution/2"
   ]
  },
  {
   "cell_type": "code",
   "execution_count": null,
   "metadata": {},
   "outputs": [],
   "source": [
    "start_left_blocked_fraction"
   ]
  },
  {
   "cell_type": "code",
   "execution_count": null,
   "metadata": {},
   "outputs": [],
   "source": [
    "end_left_blocked_fraction"
   ]
  },
  {
   "cell_type": "code",
   "execution_count": null,
   "metadata": {},
   "outputs": [],
   "source": [
    "start_right_blocked_fraction"
   ]
  },
  {
   "cell_type": "code",
   "execution_count": null,
   "metadata": {},
   "outputs": [],
   "source": [
    "end_right_blocked_fraction"
   ]
  },
  {
   "cell_type": "code",
   "execution_count": null,
   "metadata": {},
   "outputs": [],
   "source": [
    "all_start_blocked_fractions = np.concatenate([\n",
    "    np.expand_dims(start_left_blocked_fraction, axis=0), \n",
    "    np.expand_dims(start_right_blocked_fraction, axis=0)\n",
    "], axis=0)\n",
    "\n",
    "all_end_blocked_fractions = np.concatenate([\n",
    "    np.expand_dims(end_left_blocked_fraction, axis=0),\n",
    "    np.expand_dims(end_right_blocked_fraction, axis=0)\n",
    "], axis=0)\n",
    "\n",
    "start_blocked_fraction = np.max(all_start_blocked_fractions, axis=0)\n",
    "end_blocked_fraction = np.max(all_end_blocked_fractions, axis=0)\n",
    "\n",
    "blocked_fraction = start_blocked_fraction + end_blocked_fraction\n",
    "blocked_fraction[blocked_fraction > 1] = 1"
   ]
  },
  {
   "cell_type": "code",
   "execution_count": null,
   "metadata": {},
   "outputs": [],
   "source": [
    "blocked_fraction"
   ]
  },
  {
   "cell_type": "code",
   "execution_count": null,
   "metadata": {},
   "outputs": [],
   "source": [
    "plt.plot(x, 1 - blocked_fraction, '-o')"
   ]
  },
  {
   "cell_type": "code",
   "execution_count": null,
   "metadata": {},
   "outputs": [],
   "source": [
    "def a_single_mlc_pair(x, left_mlc_pos_start, left_mlc_pos_end, right_mlc_pos_start, right_mlc_pos_end):\n",
    "    left_start_diffs = x - left_mlc_pos_start\n",
    "    left_end_diffs = x - left_mlc_pos_end\n",
    "    left_start_blocked = left_start_diffs <= 0\n",
    "    left_end_blocked = left_end_diffs <= 0\n",
    "\n",
    "    right_start_diffs = x - right_mlc_pos_start\n",
    "    right_end_diffs = x - right_mlc_pos_end\n",
    "    right_start_blocked = right_start_diffs >= 0\n",
    "    right_end_blocked = right_end_diffs >= 0\n",
    "\n",
    "    start_left_blocked_fraction, end_left_blocked_fraction = calc_a_single_blocked_fraction(\n",
    "        left_start_diffs, left_end_diffs, left_start_blocked, left_end_blocked)\n",
    "\n",
    "    start_right_blocked_fraction, end_right_blocked_fraction = calc_a_single_blocked_fraction(\n",
    "        right_start_diffs, right_end_diffs, right_start_blocked, right_end_blocked)\n",
    "    \n",
    "    all_start_blocked_fractions = np.concatenate([\n",
    "        np.expand_dims(start_left_blocked_fraction, axis=0), \n",
    "        np.expand_dims(start_right_blocked_fraction, axis=0)\n",
    "    ], axis=0)\n",
    "\n",
    "    all_end_blocked_fractions = np.concatenate([\n",
    "        np.expand_dims(end_left_blocked_fraction, axis=0),\n",
    "        np.expand_dims(end_right_blocked_fraction, axis=0)\n",
    "    ], axis=0)\n",
    "\n",
    "    start_blocked_fraction = np.max(all_start_blocked_fractions, axis=0)\n",
    "    end_blocked_fraction = np.max(all_end_blocked_fractions, axis=0)\n",
    "\n",
    "    blocked_fraction = start_blocked_fraction + end_blocked_fraction\n",
    "    blocked_fraction[blocked_fraction > 1] = 1\n",
    "    \n",
    "    return blocked_fraction\n",
    "\n"
   ]
  },
  {
   "cell_type": "code",
   "execution_count": null,
   "metadata": {},
   "outputs": [],
   "source": [
    "left_mlc_pos_start = -4\n",
    "left_mlc_pos_end = 1\n",
    "\n",
    "right_mlc_pos_start = -3.99\n",
    "right_mlc_pos_end = 1.01"
   ]
  },
  {
   "cell_type": "code",
   "execution_count": null,
   "metadata": {},
   "outputs": [],
   "source": [
    "x_coarse = np.linspace(-10, 10, 21)\n",
    "\n",
    "blocked_fraction_coarse = a_single_mlc_pair(\n",
    "    x_coarse, left_mlc_pos_start, left_mlc_pos_end, right_mlc_pos_start, right_mlc_pos_end)\n",
    "\n",
    "plt.plot(x_coarse, 1 - blocked_fraction_coarse, '-o')"
   ]
  },
  {
   "cell_type": "code",
   "execution_count": null,
   "metadata": {},
   "outputs": [],
   "source": [
    "blocked_fraction_coarse"
   ]
  },
  {
   "cell_type": "code",
   "execution_count": null,
   "metadata": {},
   "outputs": [],
   "source": [
    "x_fine = np.linspace(-10, 10, 2001)\n",
    "\n",
    "blocked_fraction_fine = a_single_mlc_pair(\n",
    "    x_fine, left_mlc_pos_start, left_mlc_pos_end, right_mlc_pos_start, right_mlc_pos_end)\n",
    "\n",
    "plt.plot(x_fine, 1 - blocked_fraction_fine, '-o')"
   ]
  },
  {
   "cell_type": "code",
   "execution_count": null,
   "metadata": {},
   "outputs": [],
   "source": [
    "reference = np.argmin(np.abs(x_fine[None,:] - x_coarse[:,None]), axis=0)\n",
    "\n",
    "average_blocked_fine = []\n",
    "for i, x_val in enumerate(x_coarse):\n",
    "    average_blocked_fine.append(\n",
    "        np.mean(blocked_fraction_fine[reference == i]))\n",
    "    \n",
    "average_blocked_fine = np.array(average_blocked_fine)"
   ]
  },
  {
   "cell_type": "code",
   "execution_count": null,
   "metadata": {},
   "outputs": [],
   "source": [
    "plt.plot(x_coarse, 1 - average_blocked_fine, '-o')\n",
    "plt.plot(x_coarse, 1 - blocked_fraction_coarse, '-o')"
   ]
  },
  {
   "cell_type": "code",
   "execution_count": null,
   "metadata": {},
   "outputs": [],
   "source": [
    "diff = (\n",
    "    (1 - average_blocked_fine) -\n",
    "    (1 - blocked_fraction_coarse)\n",
    ")\n",
    "\n",
    "# plt.plot(x_coarse, 1 - average_blocked_fine, '-o')\n",
    "plt.plot(x_coarse, diff, '-o')\n",
    "plt.plot(x_coarse, np.zeros_like(x_coarse), '-')"
   ]
  },
  {
   "cell_type": "code",
   "execution_count": null,
   "metadata": {},
   "outputs": [],
   "source": []
  },
  {
   "cell_type": "code",
   "execution_count": null,
   "metadata": {},
   "outputs": [],
   "source": [
    "test = np.linspace(0, 1, 100)\n",
    "\n",
    "xx, yy = np.meshgrid(test, test)"
   ]
  },
  {
   "cell_type": "code",
   "execution_count": null,
   "metadata": {},
   "outputs": [],
   "source": [
    "zz = np.ones_like(xx) / np.size(xx)\n",
    "np.sum(zz)"
   ]
  },
  {
   "cell_type": "code",
   "execution_count": null,
   "metadata": {},
   "outputs": [],
   "source": [
    "result = []\n",
    "for value in test:\n",
    "    result.append(np.sum(zz[(xx >= value) & (yy >= value)]))\n",
    "    \n",
    "plt.plot(test, result)\n",
    "plt.plot(test, (test-1)**2)"
   ]
  },
  {
   "cell_type": "code",
   "execution_count": null,
   "metadata": {},
   "outputs": [],
   "source": []
  },
  {
   "cell_type": "code",
   "execution_count": null,
   "metadata": {},
   "outputs": [],
   "source": []
  },
  {
   "cell_type": "code",
   "execution_count": null,
   "metadata": {},
   "outputs": [],
   "source": [
    "#### Proposed new method prototype"
   ]
  },
  {
   "cell_type": "code",
   "execution_count": null,
   "metadata": {},
   "outputs": [],
   "source": [
    "grid_spacing = 1"
   ]
  },
  {
   "cell_type": "code",
   "execution_count": null,
   "metadata": {},
   "outputs": [],
   "source": [
    "grid = {\n",
    "    'mlc': np.arange(0.5,3, grid_spacing),\n",
    "    'jaw': np.arange(0.5,5, grid_spacing)\n",
    "}"
   ]
  },
  {
   "cell_type": "code",
   "execution_count": null,
   "metadata": {},
   "outputs": [],
   "source": [
    "positions = {\n",
    "    'mlc': {\n",
    "        -1: (2, 0), # right\n",
    "        1: (1.66667, 0) # left\n",
    "    },\n",
    "    'jaw': {\n",
    "        1: (0, 3), # top\n",
    "        -1: (1, 5) # bot\n",
    "    }\n",
    "}"
   ]
  },
  {
   "cell_type": "code",
   "execution_count": null,
   "metadata": {},
   "outputs": [],
   "source": []
  },
  {
   "cell_type": "code",
   "execution_count": null,
   "metadata": {},
   "outputs": [],
   "source": [
    "def calc_blocked_t(travel_diff, grid_spacing):\n",
    "    blocked_t = np.ones_like(travel_diff) * np.nan\n",
    "\n",
    "    fully_blocked = travel_diff <= -grid_spacing/2\n",
    "    fully_open = travel_diff >= grid_spacing/2\n",
    "    blocked_t[fully_blocked] = 1\n",
    "    blocked_t[fully_open] = 0\n",
    "\n",
    "    transient = ~fully_blocked & ~fully_open\n",
    "\n",
    "    blocked_t[transient] = (\n",
    "        (-travel_diff[transient] + grid_spacing/2) / \n",
    "        grid_spacing)\n",
    "\n",
    "    assert np.all(~np.isnan(blocked_t))\n",
    "    \n",
    "    return blocked_t"
   ]
  },
  {
   "cell_type": "code",
   "execution_count": null,
   "metadata": {},
   "outputs": [],
   "source": [
    "blocked_by_device = {}\n",
    "\n",
    "for device, value in positions.items():\n",
    "    blocked_by_device[device] = dict()\n",
    "    \n",
    "    for multiplier, (start, end) in value.items():\n",
    "        travel = np.linspace(start, end)\n",
    "        travel_diff = multiplier * (grid[device][:,None] - travel[None,:])\n",
    "        \n",
    "        blocked_by_device[device][multiplier] = calc_blocked_t(\n",
    "            travel_diff, grid_spacing)"
   ]
  },
  {
   "cell_type": "code",
   "execution_count": null,
   "metadata": {},
   "outputs": [],
   "source": [
    "plt.plot(1 - blocked_by_device['mlc'][-1][1])\n",
    "plt.ylim([-0.1,1.1])"
   ]
  },
  {
   "cell_type": "code",
   "execution_count": null,
   "metadata": {},
   "outputs": [],
   "source": [
    "plt.plot(1 - blocked_by_device['mlc'][1][1])\n",
    "plt.ylim([-0.1,1.1])"
   ]
  },
  {
   "cell_type": "code",
   "execution_count": null,
   "metadata": {},
   "outputs": [],
   "source": [
    "plt.plot(1 - blocked_by_device['jaw'][1][1])\n",
    "plt.ylim([-0.1,1.1])"
   ]
  },
  {
   "cell_type": "code",
   "execution_count": null,
   "metadata": {},
   "outputs": [],
   "source": [
    "plt.plot(1 - blocked_by_device['jaw'][-1][1])\n",
    "plt.ylim([-0.1,1.1])"
   ]
  },
  {
   "cell_type": "code",
   "execution_count": null,
   "metadata": {},
   "outputs": [],
   "source": [
    "device_open = {}\n",
    "\n",
    "for device, value in blocked_by_device.items():\n",
    "    device_sum = np.sum(np.concatenate([\n",
    "        np.expand_dims(blocked, axis=0)\n",
    "        for _, blocked in value.items()\n",
    "    ], axis=0), axis=0)\n",
    "    \n",
    "    device_open[device] = 1 - device_sum\n",
    "    \n",
    "# device_sums"
   ]
  },
  {
   "cell_type": "code",
   "execution_count": null,
   "metadata": {},
   "outputs": [],
   "source": [
    "plt.plot(device_open['mlc'][1])\n",
    "plt.plot(\n",
    "    1 - (\n",
    "        blocked_by_device['mlc'][1][1] +\n",
    "        blocked_by_device['mlc'][-1][1])\n",
    ")\n",
    "plt.ylim([-0.1,1.1])"
   ]
  },
  {
   "cell_type": "code",
   "execution_count": null,
   "metadata": {},
   "outputs": [],
   "source": [
    "plt.plot(device_open['jaw'][1])\n",
    "plt.plot(\n",
    "    1 - (\n",
    "        blocked_by_device['jaw'][1][1] +\n",
    "        blocked_by_device['jaw'][-1][1])\n",
    ")\n",
    "plt.ylim([-0.1,1.1])"
   ]
  },
  {
   "cell_type": "code",
   "execution_count": null,
   "metadata": {},
   "outputs": [],
   "source": [
    "open_t = device_open['mlc'][:, None, :] * device_open['jaw'][None, :, :]\n",
    "np.shape(open_t)"
   ]
  },
  {
   "cell_type": "code",
   "execution_count": null,
   "metadata": {},
   "outputs": [],
   "source": [
    "plt.plot(open_t[1,1,:])\n",
    "plt.plot(device_open['jaw'][1] * device_open['mlc'][1])\n",
    "plt.ylim([-0.1,1.1])"
   ]
  },
  {
   "cell_type": "code",
   "execution_count": null,
   "metadata": {},
   "outputs": [],
   "source": [
    "open_fraction = np.mean(open_t, axis=2)\n",
    "open_fraction"
   ]
  },
  {
   "cell_type": "code",
   "execution_count": null,
   "metadata": {},
   "outputs": [],
   "source": []
  }
 ],
 "metadata": {
  "kernelspec": {
   "display_name": "Python 3",
   "language": "python",
   "name": "python3"
  },
  "language_info": {
   "codemirror_mode": {
    "name": "ipython",
    "version": 3
   },
   "file_extension": ".py",
   "mimetype": "text/x-python",
   "name": "python",
   "nbconvert_exporter": "python",
   "pygments_lexer": "ipython3",
   "version": "3.5.5"
  }
 },
 "nbformat": 4,
 "nbformat_minor": 2
}
