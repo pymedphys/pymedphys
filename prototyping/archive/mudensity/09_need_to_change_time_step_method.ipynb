{
 "cells": [
  {
   "cell_type": "code",
   "execution_count": null,
   "metadata": {},
   "outputs": [],
   "source": [
    "from pymedphys.mudensity import single_mlc_pair"
   ]
  },
  {
   "cell_type": "code",
   "execution_count": null,
   "metadata": {},
   "outputs": [],
   "source": [
    "import numpy as np"
   ]
  },
  {
   "cell_type": "code",
   "execution_count": null,
   "metadata": {},
   "outputs": [],
   "source": [
    ">>> import matplotlib.pyplot as plt\n",
    "\n",
    ">>> from pymedphys.mudensity import single_mlc_pair\n",
    "\n",
    ">>> mlc_left = (-2.3, 3.1)  # (start position, end position)\n",
    ">>> mlc_right = (0, 7.7)\n",
    "\n",
    ">>> x, mu_density = single_mlc_pair(mlc_left, mlc_right)\n",
    ">>> fig = plt.plot(x, mu_density, '-o')\n",
    "\n",
    ">>> x\n",
    "\n",
    ">>> np.round(mu_density, 3)"
   ]
  },
  {
   "cell_type": "code",
   "execution_count": null,
   "metadata": {},
   "outputs": [],
   "source": [
    "# Need to make a min_step_per_pixel, have it default to 10."
   ]
  },
  {
   "cell_type": "code",
   "execution_count": null,
   "metadata": {},
   "outputs": [],
   "source": [
    "x, mu_density = single_mlc_pair(\n",
    "    (-400, 400), (400, 400)\n",
    ")\n",
    "fig = plt.plot(x[0:-1], mu_density[0:-1], '-o')"
   ]
  },
  {
   "cell_type": "code",
   "execution_count": null,
   "metadata": {},
   "outputs": [],
   "source": [
    "fig = plt.plot(x[0:-1], mu_density[0:-1])\n",
    "\n",
    "linear = (x[0:-1] + 400) / 800\n",
    "\n",
    "plt.plot(x[0:-1], linear)"
   ]
  },
  {
   "cell_type": "code",
   "execution_count": null,
   "metadata": {},
   "outputs": [],
   "source": [
    "x"
   ]
  },
  {
   "cell_type": "code",
   "execution_count": null,
   "metadata": {},
   "outputs": [],
   "source": [
    "x[-2]"
   ]
  },
  {
   "cell_type": "code",
   "execution_count": null,
   "metadata": {},
   "outputs": [],
   "source": [
    "np.allclose(linear, mu_density[0:-1], atol=0.001)"
   ]
  },
  {
   "cell_type": "code",
   "execution_count": null,
   "metadata": {},
   "outputs": [],
   "source": [
    "mu_density[-2]"
   ]
  },
  {
   "cell_type": "code",
   "execution_count": null,
   "metadata": {},
   "outputs": [],
   "source": [
    "x, mu_density = single_mlc_pair(\n",
    "    (-400, 400), (-200, 400)\n",
    ")"
   ]
  },
  {
   "cell_type": "code",
   "execution_count": null,
   "metadata": {},
   "outputs": [],
   "source": [
    "mu_density"
   ]
  },
  {
   "cell_type": "code",
   "execution_count": null,
   "metadata": {},
   "outputs": [],
   "source": [
    "min_step_per_pixel = 10\n",
    "start = np.array([-400, -300])\n",
    "end = np.array([400, 400])\n",
    "grid_resolution = 0.1"
   ]
  },
  {
   "cell_type": "code",
   "execution_count": null,
   "metadata": {},
   "outputs": [],
   "source": [
    "maximum_travel = np.max(np.abs(end - start))\n",
    "number_of_pixels = np.ceil(maximum_travel / grid_resolution)\n",
    "time_steps = number_of_pixels * min_step_per_pixel\n",
    "time_steps"
   ]
  },
  {
   "cell_type": "code",
   "execution_count": null,
   "metadata": {},
   "outputs": [],
   "source": [
    ">>> leaf_pair_widths = (2, 2)\n",
    ">>> mlc = np.array([\n",
    "...     [\n",
    "...         [-400, 400],\n",
    "...         [-400, 300],\n",
    "...     ],\n",
    "...     [\n",
    "...         [400, 400],\n",
    "...         [400, 400],\n",
    "...     ]\n",
    "... ])\n",
    ">>> jaw = np.array([\n",
    "...     [-400, -400],\n",
    "...     [400, 400]\n",
    "... ])"
   ]
  },
  {
   "cell_type": "code",
   "execution_count": null,
   "metadata": {},
   "outputs": [],
   "source": [
    "positions = {\n",
    "    'mlc': {\n",
    "        1: (-mlc[0, :, 0], -mlc[1, :, 0]),  # left\n",
    "        -1: (mlc[0, :, 1], mlc[1, :, 1])  # right\n",
    "    },\n",
    "    'jaw': {\n",
    "        1: (-jaw[0::-1, 0], -jaw[1::, 0]),  # bot\n",
    "        -1: (jaw[0::-1, 1], jaw[1::, 1])  # top\n",
    "    }\n",
    "}"
   ]
  },
  {
   "cell_type": "code",
   "execution_count": null,
   "metadata": {},
   "outputs": [],
   "source": [
    "def calc_time_steps(positions):\n",
    "    maximum_travel = []\n",
    "    for _, value in positions.items():\n",
    "        for _, (start, end) in value.items():\n",
    "            maximum_travel.append(np.max(np.abs(end - start)))\n",
    "    \n",
    "    maximum_travel = np.max(maximum_travel)\n",
    "    number_of_pixels = np.ceil(maximum_travel / grid_resolution)\n",
    "    time_steps = number_of_pixels * min_step_per_pixel\n",
    "    \n",
    "    return time_steps\n",
    "\n",
    "calc_time_steps(positions)"
   ]
  }
 ],
 "metadata": {
  "kernelspec": {
   "display_name": "Python 3",
   "language": "python",
   "name": "python3"
  },
  "language_info": {
   "codemirror_mode": {
    "name": "ipython",
    "version": 3
   },
   "file_extension": ".py",
   "mimetype": "text/x-python",
   "name": "python",
   "nbconvert_exporter": "python",
   "pygments_lexer": "ipython3",
   "version": "3.6.6"
  }
 },
 "nbformat": 4,
 "nbformat_minor": 2
}
