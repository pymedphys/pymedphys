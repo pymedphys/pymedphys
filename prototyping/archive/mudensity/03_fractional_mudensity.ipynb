{
 "cells": [
  {
   "cell_type": "code",
   "execution_count": null,
   "metadata": {},
   "outputs": [],
   "source": [
    "import os\n",
    "\n",
    "import numpy as np\n",
    "import matplotlib.pyplot as plt\n",
    "\n",
    "from pymedphys.level1.mudensity import *\n",
    "\n",
    "DATA_DIRECTORY = \"../../tests/data\"\n",
    "DELIVERY_DATA_FILEPATH = os.path.join(DATA_DIRECTORY, 'mu_density_example_arrays.npz')\n",
    "regress_test_arrays = np.load(DELIVERY_DATA_FILEPATH)"
   ]
  },
  {
   "cell_type": "code",
   "execution_count": null,
   "metadata": {},
   "outputs": [],
   "source": [
    "mu = regress_test_arrays['mu']\n",
    "mlc = regress_test_arrays['mlc']\n",
    "jaw = regress_test_arrays['jaw']\n",
    "\n",
    "leaf_pair_widths = np.array(AGILITY_LEAF_PAIR_WIDTHS)\n",
    "max_leaf_gap=400\n",
    "grid_resolution=2.5\n",
    "time_steps=50\n",
    "\n",
    "mu, mlc, jaw = remove_irrelevant_control_points(mu, mlc, jaw)"
   ]
  },
  {
   "cell_type": "code",
   "execution_count": null,
   "metadata": {},
   "outputs": [],
   "source": [
    "def determine_full_grid(max_leaf_gap, grid_resolution, leaf_pair_widths):\n",
    "    leaf_x = np.arange(\n",
    "        -max_leaf_gap/2,\n",
    "        max_leaf_gap/2 + grid_resolution,\n",
    "        grid_resolution).astype('float')\n",
    "\n",
    "    _, initial_leaf_grid_y_pos = determine_leaf_y(leaf_pair_widths)\n",
    "\n",
    "    total_leaf_widths = np.sum(leaf_pair_widths)\n",
    "    top_grid_pos = (\n",
    "        np.ceil((total_leaf_widths/2 - initial_leaf_grid_y_pos) / grid_resolution) *\n",
    "        grid_resolution + initial_leaf_grid_y_pos)\n",
    "\n",
    "    bot_grid_pos = (\n",
    "        initial_leaf_grid_y_pos -\n",
    "        np.ceil((total_leaf_widths/2 + initial_leaf_grid_y_pos) / grid_resolution) *\n",
    "        grid_resolution)\n",
    "\n",
    "    grid_y = np.arange(\n",
    "        bot_grid_pos, top_grid_pos + grid_resolution, grid_resolution)\n",
    "\n",
    "    grid_xx, grid_yy = np.meshgrid(leaf_x, grid_y)\n",
    "\n",
    "    return grid_xx, grid_yy"
   ]
  },
  {
   "cell_type": "code",
   "execution_count": null,
   "metadata": {},
   "outputs": [],
   "source": [
    "def determine_calc_grid_and_adjustments(mlc, jaw, leaf_pair_widths,\n",
    "                                        grid_resolution):\n",
    "    min_y = np.min(-jaw[:, 0])\n",
    "    max_y = np.max(jaw[:, 1])\n",
    "\n",
    "    leaf_y, initial_leaf_grid_y_pos = determine_leaf_y(leaf_pair_widths)\n",
    "\n",
    "    top_grid_pos = (\n",
    "        np.ceil((max_y - initial_leaf_grid_y_pos) / grid_resolution) *\n",
    "        grid_resolution + initial_leaf_grid_y_pos)\n",
    "\n",
    "    bot_grid_pos = (\n",
    "        initial_leaf_grid_y_pos -\n",
    "        np.ceil((-min_y + initial_leaf_grid_y_pos) / grid_resolution) *\n",
    "        grid_resolution)\n",
    "\n",
    "    grid = dict()\n",
    "    grid['jaw'] = np.arange(\n",
    "        bot_grid_pos, top_grid_pos + grid_resolution, grid_resolution\n",
    "    ).astype('float')\n",
    "\n",
    "    grid_leaf_map = np.argmin(\n",
    "        np.abs(grid['jaw'][:, None] - leaf_y[None, :]), axis=1)\n",
    "\n",
    "    adjusted_grid_leaf_map = grid_leaf_map - np.min(grid_leaf_map)\n",
    "\n",
    "    leaves_to_be_calced = np.unique(grid_leaf_map)\n",
    "    adjusted_mlc = mlc[:, leaves_to_be_calced, :]\n",
    "\n",
    "    min_x = np.floor(\n",
    "        np.min(-adjusted_mlc[:, :, 0]) / grid_resolution) * grid_resolution\n",
    "    max_x = np.ceil(\n",
    "        np.max(adjusted_mlc[:, :, 1]) / grid_resolution) * grid_resolution\n",
    "\n",
    "    grid['mlc'] = np.arange(\n",
    "        min_x, max_x + grid_resolution, grid_resolution\n",
    "    ).astype('float')\n",
    "\n",
    "    return grid, adjusted_grid_leaf_map, adjusted_mlc"
   ]
  },
  {
   "cell_type": "code",
   "execution_count": null,
   "metadata": {},
   "outputs": [],
   "source": [
    "i = 3\n",
    "control_point_slice = slice(i, i + 2, 1)\n",
    "\n",
    "current_mlc = mlc[control_point_slice, :, :]\n",
    "# current_jaw = jaw[control_point_slice, :]\n",
    "\n",
    "current_jaw = np.array([\n",
    "    [2, 1],\n",
    "    [16, -4]\n",
    "])\n",
    "\n",
    "delivered_mu = np.diff(mu[control_point_slice])\n",
    "\n",
    "(\n",
    "    grid, grid_leaf_map, current_mlc\n",
    ") = determine_calc_grid_and_adjustments(\n",
    "    current_mlc, current_jaw, \n",
    "    leaf_pair_widths, grid_resolution)"
   ]
  },
  {
   "cell_type": "code",
   "execution_count": null,
   "metadata": {},
   "outputs": [],
   "source": [
    "current_mlc"
   ]
  },
  {
   "cell_type": "code",
   "execution_count": null,
   "metadata": {},
   "outputs": [],
   "source": [
    "current_jaw"
   ]
  },
  {
   "cell_type": "code",
   "execution_count": null,
   "metadata": {},
   "outputs": [],
   "source": [
    "delivered_mu"
   ]
  },
  {
   "cell_type": "code",
   "execution_count": null,
   "metadata": {},
   "outputs": [],
   "source": [
    "grid"
   ]
  },
  {
   "cell_type": "code",
   "execution_count": null,
   "metadata": {},
   "outputs": [],
   "source": [
    "grid_leaf_map"
   ]
  },
  {
   "cell_type": "code",
   "execution_count": null,
   "metadata": {},
   "outputs": [],
   "source": [
    "positions = {\n",
    "    'mlc': {\n",
    "        1: (-current_mlc[0, :, 0], -current_mlc[1, :, 0]), # left\n",
    "        -1: (current_mlc[0, :, 1], current_mlc[1, :, 1]) # right\n",
    "    },\n",
    "    'jaw': {\n",
    "        1: (-current_jaw[0::-1, 0], -current_jaw[1::, 0]), # bot\n",
    "        -1: (current_jaw[0::-1, 1], current_jaw[1::, 1]) # top\n",
    "    }\n",
    "}\n",
    "\n",
    "positions"
   ]
  },
  {
   "cell_type": "code",
   "execution_count": null,
   "metadata": {},
   "outputs": [],
   "source": [
    "def calc_blocked_t(travel_diff, grid_resolution):\n",
    "    blocked_t = np.ones_like(travel_diff) * np.nan\n",
    "\n",
    "    fully_blocked = travel_diff <= -grid_resolution/2\n",
    "    fully_open = travel_diff >= grid_resolution/2\n",
    "    blocked_t[fully_blocked] = 1\n",
    "    blocked_t[fully_open] = 0\n",
    "\n",
    "    transient = ~fully_blocked & ~fully_open\n",
    "\n",
    "    blocked_t[transient] = (\n",
    "        (-travel_diff[transient] + grid_resolution/2) / \n",
    "        grid_resolution)\n",
    "\n",
    "    assert np.all(~np.isnan(blocked_t))\n",
    "    \n",
    "    return blocked_t"
   ]
  },
  {
   "cell_type": "code",
   "execution_count": null,
   "metadata": {},
   "outputs": [],
   "source": [
    "multiplier = -1\n",
    "device = 'mlc'\n",
    "start, end = positions[device][multiplier]\n",
    "\n",
    "\n",
    "dt = (end - start) / (time_steps - 1)\n",
    "travel = start[None, :] + np.arange(0,time_steps)[:, None] * dt[None, :]\n",
    "\n",
    "np.shape(travel)\n",
    "np.shape(multiplier * (grid[device][None,None, :] - travel[:, :, None]))"
   ]
  },
  {
   "cell_type": "code",
   "execution_count": null,
   "metadata": {},
   "outputs": [],
   "source": [
    "blocked_by_device = {}\n",
    "\n",
    "for device, value in positions.items():\n",
    "    blocked_by_device[device] = dict()\n",
    "    \n",
    "    for multiplier, (start, end) in value.items():\n",
    "        dt = (end - start) / 49\n",
    "        travel = start[None, :] + np.arange(0,time_steps)[:, None] * dt[None, :]\n",
    "        travel_diff = multiplier * (grid[device][None, None, :] - travel[:, :, None])\n",
    "        \n",
    "        blocked_by_device[device][multiplier] = calc_blocked_t(\n",
    "            travel_diff, grid_resolution)"
   ]
  },
  {
   "cell_type": "code",
   "execution_count": null,
   "metadata": {},
   "outputs": [],
   "source": [
    "device_open = {}\n",
    "\n",
    "for device, value in blocked_by_device.items():\n",
    "    device_sum = np.sum(np.concatenate([\n",
    "        np.expand_dims(blocked, axis=0)\n",
    "        for _, blocked in value.items()\n",
    "    ], axis=0), axis=0)\n",
    "    \n",
    "    device_open[device] = 1 - device_sum\n"
   ]
  },
  {
   "cell_type": "code",
   "execution_count": null,
   "metadata": {},
   "outputs": [],
   "source": [
    "np.shape(device_open['mlc'])"
   ]
  },
  {
   "cell_type": "code",
   "execution_count": null,
   "metadata": {},
   "outputs": [],
   "source": [
    "np.shape(device_open['jaw'])"
   ]
  },
  {
   "cell_type": "code",
   "execution_count": null,
   "metadata": {},
   "outputs": [],
   "source": [
    "mlc_open = device_open['mlc'][:, grid_leaf_map, :]\n",
    "jaw_open = device_open['jaw'][:, 0, :]"
   ]
  },
  {
   "cell_type": "code",
   "execution_count": null,
   "metadata": {},
   "outputs": [],
   "source": [
    "np.shape(mlc_open)"
   ]
  },
  {
   "cell_type": "code",
   "execution_count": null,
   "metadata": {},
   "outputs": [],
   "source": [
    "np.shape(jaw_open)"
   ]
  },
  {
   "cell_type": "code",
   "execution_count": null,
   "metadata": {},
   "outputs": [],
   "source": [
    "open_t = mlc_open * jaw_open[:, :, None]"
   ]
  },
  {
   "cell_type": "code",
   "execution_count": null,
   "metadata": {},
   "outputs": [],
   "source": [
    "open_fraction = np.mean(open_t, axis=0)\n",
    "np.shape(open_fraction)"
   ]
  },
  {
   "cell_type": "code",
   "execution_count": null,
   "metadata": {},
   "outputs": [],
   "source": [
    "grid['mlc']"
   ]
  },
  {
   "cell_type": "code",
   "execution_count": null,
   "metadata": {},
   "outputs": [],
   "source": [
    "grid['jaw']"
   ]
  },
  {
   "cell_type": "code",
   "execution_count": null,
   "metadata": {},
   "outputs": [],
   "source": [
    "plt.pcolormesh(grid['mlc'], grid['jaw'], open_fraction)\n",
    "plt.colorbar()\n",
    "plt.title('MU density')\n",
    "plt.xlabel('MLC direction (mm)')\n",
    "plt.ylabel('Jaw direction (mm)')\n",
    "plt.axis('equal')\n",
    "plt.gca().invert_yaxis()"
   ]
  },
  {
   "cell_type": "code",
   "execution_count": null,
   "metadata": {},
   "outputs": [],
   "source": [
    "current_mlc"
   ]
  },
  {
   "cell_type": "code",
   "execution_count": null,
   "metadata": {},
   "outputs": [],
   "source": [
    "current_jaw"
   ]
  },
  {
   "cell_type": "code",
   "execution_count": null,
   "metadata": {},
   "outputs": [],
   "source": []
  }
 ],
 "metadata": {
  "kernelspec": {
   "display_name": "Python 3",
   "language": "python",
   "name": "python3"
  },
  "language_info": {
   "codemirror_mode": {
    "name": "ipython",
    "version": 3
   },
   "file_extension": ".py",
   "mimetype": "text/x-python",
   "name": "python",
   "nbconvert_exporter": "python",
   "pygments_lexer": "ipython3",
   "version": "3.6.6"
  }
 },
 "nbformat": 4,
 "nbformat_minor": 2
}
