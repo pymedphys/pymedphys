{
 "cells": [
  {
   "cell_type": "code",
   "execution_count": null,
   "metadata": {},
   "outputs": [],
   "source": [
    "import os\n",
    "\n",
    "import numpy as np\n",
    "import matplotlib.pyplot as plt\n",
    "\n",
    "from pymedphys.level1.mudensity import *\n",
    "\n",
    "DATA_DIRECTORY = \"../../tests/data\"\n",
    "DELIVERY_DATA_FILEPATH = os.path.join(DATA_DIRECTORY, 'mu_density_example_arrays.npz')\n",
    "regress_test_arrays = np.load(DELIVERY_DATA_FILEPATH)"
   ]
  },
  {
   "cell_type": "code",
   "execution_count": null,
   "metadata": {},
   "outputs": [],
   "source": [
    "mu = regress_test_arrays['mu']\n",
    "mlc = regress_test_arrays['mlc']\n",
    "jaw = regress_test_arrays['jaw']\n",
    "\n",
    "leaf_pair_widths = np.array(AGILITY_LEAF_PAIR_WIDTHS)\n",
    "max_leaf_gap=400\n",
    "grid_resolution=1\n",
    "time_steps=50\n",
    "\n",
    "mu, mlc, jaw = remove_irrelevant_control_points(mu, mlc, jaw)"
   ]
  },
  {
   "cell_type": "code",
   "execution_count": null,
   "metadata": {},
   "outputs": [],
   "source": [
    "full_grid = get_grid(\n",
    "    max_leaf_gap, grid_resolution, leaf_pair_widths)"
   ]
  },
  {
   "cell_type": "code",
   "execution_count": null,
   "metadata": {},
   "outputs": [],
   "source": [
    "len(full_grid['mlc'])"
   ]
  },
  {
   "cell_type": "code",
   "execution_count": null,
   "metadata": {},
   "outputs": [],
   "source": [
    "len(full_grid['jaw'])"
   ]
  },
  {
   "cell_type": "code",
   "execution_count": null,
   "metadata": {},
   "outputs": [],
   "source": [
    "mu_density = np.zeros((len(full_grid['jaw']), len(full_grid['mlc'])))\n",
    "\n",
    "\n",
    "for i in range(len(mu) - 1):\n",
    "    control_point_slice = slice(i, i + 2, 1)\n",
    "    current_mlc = mlc[control_point_slice, :, :]\n",
    "    current_jaw = jaw[control_point_slice, :]\n",
    "    delivered_mu = np.diff(mu[control_point_slice])\n",
    "    \n",
    "    (\n",
    "        grid, grid_leaf_map, current_mlc\n",
    "    ) = determine_calc_grid_and_adjustments(\n",
    "        current_mlc, current_jaw, \n",
    "        leaf_pair_widths, grid_resolution)\n",
    "    \n",
    "    positions = {\n",
    "        'mlc': {\n",
    "            1: (-current_mlc[0, :, 0], -current_mlc[1, :, 0]), # left\n",
    "            -1: (current_mlc[0, :, 1], current_mlc[1, :, 1]) # right\n",
    "        },\n",
    "        'jaw': {\n",
    "            1: (-current_jaw[0::-1, 0], -current_jaw[1::, 0]), # bot\n",
    "            -1: (current_jaw[0::-1, 1], current_jaw[1::, 1]) # top\n",
    "        }\n",
    "    }\n",
    "    \n",
    "    blocked_by_device = calc_blocked_by_device(\n",
    "        grid, positions, grid_resolution, time_steps)\n",
    "    device_open = calc_device_open(blocked_by_device)\n",
    "    mlc_open, jaw_open = remap_mlc_and_jaw(device_open, grid_leaf_map)\n",
    "    open_fraction = calc_open_fraction(mlc_open, jaw_open)\n",
    "    \n",
    "    mu_density_of_slice = open_fraction * delivered_mu\n",
    "    full_grid_mu_density_of_slice = convert_to_full_grid(\n",
    "        grid, full_grid, mu_density_of_slice)\n",
    "    \n",
    "    mu_density += full_grid_mu_density_of_slice"
   ]
  },
  {
   "cell_type": "code",
   "execution_count": null,
   "metadata": {},
   "outputs": [],
   "source": [
    "plt.pcolormesh(full_grid['mlc'], full_grid['jaw'], mu_density)\n",
    "plt.colorbar()\n",
    "plt.title('MU density')\n",
    "plt.xlabel('MLC direction (mm)')\n",
    "plt.ylabel('Jaw direction (mm)')\n",
    "plt.axis('equal')\n",
    "plt.gca().invert_yaxis()"
   ]
  },
  {
   "cell_type": "code",
   "execution_count": null,
   "metadata": {},
   "outputs": [],
   "source": []
  },
  {
   "cell_type": "code",
   "execution_count": null,
   "metadata": {},
   "outputs": [],
   "source": []
  },
  {
   "cell_type": "code",
   "execution_count": null,
   "metadata": {},
   "outputs": [],
   "source": [
    "i = 3\n",
    "control_point_slice = slice(i, i + 2, 1)\n",
    "\n",
    "current_mlc = mlc[control_point_slice, :, :]\n",
    "# current_jaw = jaw[control_point_slice, :]\n",
    "\n",
    "current_jaw = np.array([\n",
    "    [0.1, 5],\n",
    "    [13.2, -4.5]\n",
    "])\n",
    "\n",
    "delivered_mu = np.diff(mu[control_point_slice])\n",
    "\n",
    "(\n",
    "    grid, grid_leaf_map, current_mlc\n",
    ") = determine_calc_grid_and_adjustments(\n",
    "    current_mlc, current_jaw, \n",
    "    leaf_pair_widths, grid_resolution)"
   ]
  },
  {
   "cell_type": "code",
   "execution_count": null,
   "metadata": {},
   "outputs": [],
   "source": [
    "current_mlc"
   ]
  },
  {
   "cell_type": "code",
   "execution_count": null,
   "metadata": {},
   "outputs": [],
   "source": [
    "current_jaw"
   ]
  },
  {
   "cell_type": "code",
   "execution_count": null,
   "metadata": {},
   "outputs": [],
   "source": [
    "delivered_mu"
   ]
  },
  {
   "cell_type": "code",
   "execution_count": null,
   "metadata": {},
   "outputs": [],
   "source": [
    "grid"
   ]
  },
  {
   "cell_type": "code",
   "execution_count": null,
   "metadata": {},
   "outputs": [],
   "source": [
    "grid_leaf_map"
   ]
  },
  {
   "cell_type": "code",
   "execution_count": null,
   "metadata": {},
   "outputs": [],
   "source": [
    "positions = {\n",
    "    'mlc': {\n",
    "        1: (-current_mlc[0, :, 0], -current_mlc[1, :, 0]), # left\n",
    "        -1: (current_mlc[0, :, 1], current_mlc[1, :, 1]) # right\n",
    "    },\n",
    "    'jaw': {\n",
    "        1: (-current_jaw[0::-1, 0], -current_jaw[1::, 0]), # bot\n",
    "        -1: (current_jaw[0::-1, 1], current_jaw[1::, 1]) # top\n",
    "    }\n",
    "}\n",
    "\n",
    "positions"
   ]
  },
  {
   "cell_type": "code",
   "execution_count": null,
   "metadata": {},
   "outputs": [],
   "source": [
    "blocked_by_device = calc_blocked_by_device(grid, positions, grid_resolution, time_steps)"
   ]
  },
  {
   "cell_type": "code",
   "execution_count": null,
   "metadata": {},
   "outputs": [],
   "source": [
    "device_open = calc_device_open(blocked_by_device)"
   ]
  },
  {
   "cell_type": "code",
   "execution_count": null,
   "metadata": {},
   "outputs": [],
   "source": [
    "np.shape(device_open['mlc'])"
   ]
  },
  {
   "cell_type": "code",
   "execution_count": null,
   "metadata": {},
   "outputs": [],
   "source": [
    "np.shape(device_open['jaw'])"
   ]
  },
  {
   "cell_type": "code",
   "execution_count": null,
   "metadata": {},
   "outputs": [],
   "source": [
    "mlc_open, jaw_open = remap_mlc_and_jaw(device_open, grid_leaf_map)"
   ]
  },
  {
   "cell_type": "code",
   "execution_count": null,
   "metadata": {},
   "outputs": [],
   "source": [
    "np.shape(mlc_open)"
   ]
  },
  {
   "cell_type": "code",
   "execution_count": null,
   "metadata": {},
   "outputs": [],
   "source": [
    "np.shape(jaw_open)"
   ]
  },
  {
   "cell_type": "code",
   "execution_count": null,
   "metadata": {},
   "outputs": [],
   "source": [
    "open_fraction = calc_open_fraction(mlc_open, jaw_open)\n",
    "np.shape(open_fraction)"
   ]
  },
  {
   "cell_type": "code",
   "execution_count": null,
   "metadata": {},
   "outputs": [],
   "source": []
  },
  {
   "cell_type": "code",
   "execution_count": null,
   "metadata": {},
   "outputs": [],
   "source": [
    "mu_density = open_fraction * delivered_mu"
   ]
  },
  {
   "cell_type": "code",
   "execution_count": null,
   "metadata": {},
   "outputs": [],
   "source": [
    "grid['mlc']"
   ]
  },
  {
   "cell_type": "code",
   "execution_count": null,
   "metadata": {},
   "outputs": [],
   "source": [
    "grid['jaw']"
   ]
  },
  {
   "cell_type": "code",
   "execution_count": null,
   "metadata": {},
   "outputs": [],
   "source": [
    "plt.pcolormesh(grid['mlc'], grid['jaw'], mu_density)\n",
    "plt.colorbar()\n",
    "plt.title('MU density')\n",
    "plt.xlabel('MLC direction (mm)')\n",
    "plt.ylabel('Jaw direction (mm)')\n",
    "plt.axis('equal')\n",
    "plt.gca().invert_yaxis()"
   ]
  },
  {
   "cell_type": "code",
   "execution_count": null,
   "metadata": {},
   "outputs": [],
   "source": [
    "full_grid_mu_density = convert_to_full_grid(grid, full_grid, mu_density)"
   ]
  },
  {
   "cell_type": "code",
   "execution_count": null,
   "metadata": {},
   "outputs": [],
   "source": [
    "plt.pcolormesh(full_grid['mlc'], full_grid['jaw'], full_grid_mu_density)\n",
    "plt.colorbar()\n",
    "plt.title('MU density')\n",
    "plt.xlabel('MLC direction (mm)')\n",
    "plt.ylabel('Jaw direction (mm)')\n",
    "plt.axis('equal')\n",
    "plt.gca().invert_yaxis()"
   ]
  },
  {
   "cell_type": "code",
   "execution_count": null,
   "metadata": {},
   "outputs": [],
   "source": [
    "current_mlc"
   ]
  },
  {
   "cell_type": "code",
   "execution_count": null,
   "metadata": {},
   "outputs": [],
   "source": [
    "current_jaw"
   ]
  },
  {
   "cell_type": "code",
   "execution_count": null,
   "metadata": {},
   "outputs": [],
   "source": []
  },
  {
   "cell_type": "code",
   "execution_count": null,
   "metadata": {},
   "outputs": [],
   "source": [
    "AGILITY_LEAF_PAIR_WIDTHS = np.array([\n",
    "    5, 5, 5, 5, 5, 5, 5, 5, 5, 5, 10, 5, 5, 2.5, 5, 5, 5, 5, 5, 5,\n",
    "    5, 5, 5, 5, 5, 5, 5, 5, 5, 5, 5, 5, 5, 5, 5, 5, 5, 5, 5, 5,\n",
    "    5, 5, 5, 5, 5, 5, 5, 5, 5, 5, 5, 5, 5, 5, 5, 5, 5, 5, 5, 5,\n",
    "    5, 5, 5, 5, 5, 5, 5, 5, 5, 5, 5, 5, 5, 2.5, 5, 5, 5, 5, 5, 5\n",
    "])"
   ]
  },
  {
   "cell_type": "code",
   "execution_count": null,
   "metadata": {},
   "outputs": [],
   "source": [
    "res = 2\n",
    "leaf_division = AGILITY_LEAF_PAIR_WIDTHS / res\n",
    "assert np.all(leaf_division.astype(int) == leaf_division)"
   ]
  },
  {
   "cell_type": "code",
   "execution_count": null,
   "metadata": {},
   "outputs": [],
   "source": []
  }
 ],
 "metadata": {
  "kernelspec": {
   "display_name": "Python 3",
   "language": "python",
   "name": "python3"
  },
  "language_info": {
   "codemirror_mode": {
    "name": "ipython",
    "version": 3
   },
   "file_extension": ".py",
   "mimetype": "text/x-python",
   "name": "python",
   "nbconvert_exporter": "python",
   "pygments_lexer": "ipython3",
   "version": "3.6.6"
  }
 },
 "nbformat": 4,
 "nbformat_minor": 2
}
