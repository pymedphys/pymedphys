{
 "cells": [
  {
   "cell_type": "code",
   "execution_count": null,
   "metadata": {},
   "outputs": [],
   "source": [
    "import os\n",
    "\n",
    "import numpy as np\n",
    "import matplotlib.pyplot as plt\n",
    "\n",
    "from pymedphys.mudensity import single_mlc_pair\n",
    "\n",
    "# from pymedphys.mudensity import (\n",
    "#     _determine_reference_grid_position, _determine_leaf_centres\n",
    "# )"
   ]
  },
  {
   "cell_type": "code",
   "execution_count": null,
   "metadata": {},
   "outputs": [],
   "source": [
    "# def single_mlc_pair(left_mlc, right_mlc, grid_resolution, time_steps=50):\n",
    "#     leaf_pair_widths = [grid_resolution]\n",
    "#     jaw = np.array([\n",
    "#         [grid_resolution/2, grid_resolution/2],\n",
    "#         [grid_resolution/2, grid_resolution/2]\n",
    "#     ])\n",
    "#     mlc = np.array([\n",
    "#         [\n",
    "#             [-left_mlc[0], right_mlc[0]],\n",
    "#         ],\n",
    "#         [\n",
    "#             [-left_mlc[1], right_mlc[1]],\n",
    "#         ]\n",
    "#     ])\n",
    "\n",
    "#     grid, mu_density = calc_single_control_point(\n",
    "#         mlc, jaw, leaf_pair_widths=leaf_pair_widths,\n",
    "#         grid_resolution=grid_resolution, time_steps=time_steps\n",
    "#     )\n",
    "\n",
    "#     return grid['mlc'], mu_density[0, :]"
   ]
  },
  {
   "cell_type": "code",
   "execution_count": null,
   "metadata": {},
   "outputs": [],
   "source": [
    "plt.plot(*single_mlc_pair((-1, -1), (2.7, 2.7), 1), '-o')"
   ]
  },
  {
   "cell_type": "code",
   "execution_count": null,
   "metadata": {},
   "outputs": [],
   "source": [
    "single_mlc_pair((-1, -1), (2.7, 2.7), 1)"
   ]
  },
  {
   "cell_type": "code",
   "execution_count": null,
   "metadata": {},
   "outputs": [],
   "source": []
  },
  {
   "cell_type": "code",
   "execution_count": null,
   "metadata": {},
   "outputs": [],
   "source": []
  },
  {
   "cell_type": "code",
   "execution_count": null,
   "metadata": {},
   "outputs": [],
   "source": []
  },
  {
   "cell_type": "code",
   "execution_count": null,
   "metadata": {},
   "outputs": [],
   "source": []
  },
  {
   "cell_type": "code",
   "execution_count": null,
   "metadata": {},
   "outputs": [],
   "source": [
    "leaf_pair_widths = [2, 2]\n",
    "\n",
    "mlc = np.array([\n",
    "    [\n",
    "        [1, 1],\n",
    "        [2, 2],\n",
    "    ],\n",
    "    [\n",
    "        [2, 2],\n",
    "        [3, 3],\n",
    "    ]\n",
    "])\n",
    "jaw = np.array([\n",
    "    [1.5, 1.2],\n",
    "    [1.5, 1.2]\n",
    "])\n",
    "\n",
    "_, mu_density = calc_single_control_point(\n",
    "    mlc, jaw, leaf_pair_widths=leaf_pair_widths\n",
    ")"
   ]
  },
  {
   "cell_type": "code",
   "execution_count": null,
   "metadata": {},
   "outputs": [],
   "source": [
    "np.round(mu_density, 2)"
   ]
  },
  {
   "cell_type": "code",
   "execution_count": null,
   "metadata": {},
   "outputs": [],
   "source": []
  }
 ],
 "metadata": {
  "kernelspec": {
   "display_name": "Python 3",
   "language": "python",
   "name": "python3"
  },
  "language_info": {
   "codemirror_mode": {
    "name": "ipython",
    "version": 3
   },
   "file_extension": ".py",
   "mimetype": "text/x-python",
   "name": "python",
   "nbconvert_exporter": "python",
   "pygments_lexer": "ipython3",
   "version": "3.6.6"
  }
 },
 "nbformat": 4,
 "nbformat_minor": 2
}
