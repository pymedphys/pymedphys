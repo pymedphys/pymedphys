{
 "cells": [
  {
   "cell_type": "code",
   "execution_count": null,
   "metadata": {},
   "outputs": [],
   "source": [
    "import os\n",
    "\n",
    "import numpy as np\n",
    "import matplotlib.pyplot as plt\n",
    "\n",
    "from pymedphys.mudensity import *\n",
    "\n",
    "DATA_DIRECTORY = \"../../tests/data\"\n",
    "DELIVERY_DATA_FILEPATH = os.path.join(DATA_DIRECTORY, 'mu_density_example_arrays.npz')\n",
    "regress_test_arrays = np.load(DELIVERY_DATA_FILEPATH)"
   ]
  },
  {
   "cell_type": "code",
   "execution_count": null,
   "metadata": {},
   "outputs": [],
   "source": [
    "mu = regress_test_arrays['mu'][0:10]\n",
    "mlc = regress_test_arrays['mlc'][0:10]\n",
    "jaw = regress_test_arrays['jaw'][0:10]\n",
    "\n",
    "# mu_density = calc_mu_density(mu, mlc, jaw)\n",
    "# grid = get_grid()"
   ]
  },
  {
   "cell_type": "code",
   "execution_count": null,
   "metadata": {},
   "outputs": [],
   "source": [
    "len(mu)"
   ]
  },
  {
   "cell_type": "code",
   "execution_count": null,
   "metadata": {},
   "outputs": [],
   "source": [
    "mu_density = calc_mu_density(mu, mlc, jaw, min_step_per_pixel=50)\n",
    "grid = get_grid()"
   ]
  },
  {
   "cell_type": "code",
   "execution_count": null,
   "metadata": {},
   "outputs": [],
   "source": [
    "# mu_density = calc_mu_density(mu, mlc, jaw)"
   ]
  },
  {
   "cell_type": "code",
   "execution_count": null,
   "metadata": {},
   "outputs": [],
   "source": [
    "min_step_array = range(3,20)"
   ]
  },
  {
   "cell_type": "code",
   "execution_count": null,
   "metadata": {},
   "outputs": [],
   "source": [
    "mu_density_array = dict()\n",
    "\n",
    "for i in min_step_array:\n",
    "    mu_density_array[i] = calc_mu_density(mu, mlc, jaw, min_step_per_pixel=i)"
   ]
  },
  {
   "cell_type": "code",
   "execution_count": null,
   "metadata": {},
   "outputs": [],
   "source": [
    "max_error = []\n",
    "\n",
    "for i in min_step_array:\n",
    "    max_error.append(np.nanmax(np.abs(mu_density_array[i] - mu_density) / mu_density))\n",
    "\n",
    "\n",
    "plt.plot(min_step_array, max_error)"
   ]
  },
  {
   "cell_type": "code",
   "execution_count": null,
   "metadata": {},
   "outputs": [],
   "source": [
    "dict_to_save = {\n",
    "    'mu': mu, 'mlc': mlc, 'jaw': jaw,\n",
    "    'mu_density': mu_density\n",
    "}"
   ]
  },
  {
   "cell_type": "code",
   "execution_count": null,
   "metadata": {},
   "outputs": [],
   "source": [
    "np.savez(DELIVERY_DATA_FILEPATH, **dict_to_save)"
   ]
  },
  {
   "cell_type": "code",
   "execution_count": null,
   "metadata": {},
   "outputs": [],
   "source": [
    "plt.pcolormesh(grid['mlc'], grid['jaw'], mu_density)\n",
    "plt.colorbar()\n",
    "plt.title('MU density')\n",
    "plt.xlabel('MLC direction (mm)')\n",
    "plt.ylabel('Jaw direction (mm)')\n",
    "plt.axis('equal')\n",
    "plt.gca().invert_yaxis()"
   ]
  },
  {
   "cell_type": "code",
   "execution_count": null,
   "metadata": {},
   "outputs": [],
   "source": []
  }
 ],
 "metadata": {
  "kernelspec": {
   "display_name": "Python 3",
   "language": "python",
   "name": "python3"
  },
  "language_info": {
   "codemirror_mode": {
    "name": "ipython",
    "version": 3
   },
   "file_extension": ".py",
   "mimetype": "text/x-python",
   "name": "python",
   "nbconvert_exporter": "python",
   "pygments_lexer": "ipython3",
   "version": "3.6.6"
  }
 },
 "nbformat": 4,
 "nbformat_minor": 2
}
