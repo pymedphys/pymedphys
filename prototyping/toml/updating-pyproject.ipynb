{
 "cells": [
  {
   "cell_type": "code",
   "execution_count": null,
   "metadata": {},
   "outputs": [],
   "source": [
    "import pathlib\n",
    "\n",
    "import json\n",
    "import tomlkit\n",
    "\n",
    "PYPROJECT_TOML_PATH = (\n",
    "    pathlib.Path.cwd().parent.parent.joinpath(\"pyproject.toml\")\n",
    ")\n",
    "PYPROJECT_TOML_PATH"
   ]
  },
  {
   "cell_type": "code",
   "execution_count": null,
   "metadata": {},
   "outputs": [],
   "source": [
    "with open(PYPROJECT_TOML_PATH) as f:\n",
    "    pyproject_contents = tomlkit.loads(f.read())"
   ]
  },
  {
   "cell_type": "code",
   "execution_count": null,
   "metadata": {},
   "outputs": [],
   "source": [
    "print(tomlkit.dumps(pyproject_contents[\"tool\"][\"poetry\"][\"dependencies\"]))"
   ]
  },
  {
   "cell_type": "code",
   "execution_count": null,
   "metadata": {},
   "outputs": [],
   "source": [
    "deps = pyproject_contents[\"tool\"][\"poetry\"][\"dependencies\"]"
   ]
  },
  {
   "cell_type": "code",
   "execution_count": null,
   "metadata": {},
   "outputs": [],
   "source": [
    "deps.as_string()"
   ]
  },
  {
   "cell_type": "code",
   "execution_count": null,
   "metadata": {},
   "outputs": [],
   "source": [
    "deps.fromkeys"
   ]
  },
  {
   "cell_type": "code",
   "execution_count": null,
   "metadata": {},
   "outputs": [],
   "source": [
    "for key in deps:\n",
    "    value = deps[key]\n",
    "    print(key)\n",
    "    print(value)\n",
    "    print(value.trivia.comment)"
   ]
  },
  {
   "cell_type": "code",
   "execution_count": null,
   "metadata": {},
   "outputs": [],
   "source": [
    "# extras = pyproject_contents[\"tool\"][\"poetry\"][\"extras\"]\n",
    "extras = {}\n",
    "\n",
    "for key in deps:\n",
    "    value = deps[key]\n",
    "    comment = value.trivia.comment\n",
    "    \n",
    "    if comment.startswith(\"# groups\"):\n",
    "        split = comment.split(\"=\")\n",
    "        assert len(split) == 2\n",
    "        groups = json.loads(split[-1])\n",
    "        \n",
    "        for group in groups:\n",
    "            try:\n",
    "                extras[group].append(key)\n",
    "            except KeyError:\n",
    "                extras[group] = [key]"
   ]
  },
  {
   "cell_type": "code",
   "execution_count": null,
   "metadata": {},
   "outputs": [],
   "source": [
    "pyproject_contents[\"tool\"][\"poetry\"][\"extras\"] = extras"
   ]
  },
  {
   "cell_type": "code",
   "execution_count": null,
   "metadata": {},
   "outputs": [],
   "source": [
    "print(tomlkit.dumps(pyproject_contents))"
   ]
  },
  {
   "cell_type": "code",
   "execution_count": null,
   "metadata": {},
   "outputs": [],
   "source": [
    "with open(PYPROJECT_TOML_PATH, \"w\") as f:\n",
    "    f.write(tomlkit.dumps(pyproject_contents))"
   ]
  }
 ],
 "metadata": {
  "kernelspec": {
   "display_name": "pymedphys-master",
   "language": "python",
   "name": "pymedphys-master"
  },
  "language_info": {
   "codemirror_mode": {
    "name": "ipython",
    "version": 3
   },
   "file_extension": ".py",
   "mimetype": "text/x-python",
   "name": "python",
   "nbconvert_exporter": "python",
   "pygments_lexer": "ipython3",
   "version": "3.7.8"
  }
 },
 "nbformat": 4,
 "nbformat_minor": 4
}
