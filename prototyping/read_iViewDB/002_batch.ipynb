{
 "cells": [
  {
   "cell_type": "code",
   "execution_count": null,
   "metadata": {},
   "outputs": [],
   "source": [
    "import pathlib\n",
    "import shutil\n",
    "import os\n",
    "\n",
    "import numpy as np\n",
    "import pandas as pd\n",
    "\n",
    "import dbfread"
   ]
  },
  {
   "cell_type": "code",
   "execution_count": null,
   "metadata": {},
   "outputs": [],
   "source": [
    "original_dir = pathlib.Path(r'S:\\DataExchange\\SASH\\iViewDB')\n",
    "decoded_dir = pathlib.Path(r'S:\\DataExchange\\SASH\\iViewDB_decoded')\n",
    "\n",
    "decoded_dir.mkdir(exist_ok=True)"
   ]
  },
  {
   "cell_type": "code",
   "execution_count": null,
   "metadata": {},
   "outputs": [],
   "source": [
    "table_copies_dir = decoded_dir.joinpath('table_copies')\n",
    "table_copies_dir.mkdir(exist_ok=True)\n",
    "to_be_indexed_dir = decoded_dir.joinpath('to_be_indexed')\n",
    "to_be_indexed_dir.mkdir(exist_ok=True)\n",
    "indexed_dir = decoded_dir.joinpath('indexed')\n",
    "indexed_dir.mkdir(exist_ok=True)"
   ]
  },
  {
   "cell_type": "code",
   "execution_count": null,
   "metadata": {},
   "outputs": [],
   "source": [
    "original_database_files = list(original_dir.glob('*.DBF')) + list(original_dir.glob('*.MDX')) + list(original_dir.glob('*.DBT'))\n",
    "for filepath in original_database_files:\n",
    "    new_path = table_copies_dir.joinpath(filepath.name)\n",
    "    shutil.copy2(filepath, new_path)"
   ]
  },
  {
   "cell_type": "code",
   "execution_count": null,
   "metadata": {},
   "outputs": [],
   "source": [
    "table_paths = {\n",
    "    'patient': table_copies_dir.joinpath('PATIENT.DBF'),\n",
    "    'treatment': table_copies_dir.joinpath('TRTMNT.DBF'),\n",
    "    'port': table_copies_dir.joinpath('PORT.DBF'),\n",
    "    'patient_image': table_copies_dir.joinpath('PATIMG.DBF'),\n",
    "    'frame': table_copies_dir.joinpath('PORT_N.DBF'),\n",
    "}"
   ]
  },
  {
   "cell_type": "code",
   "execution_count": null,
   "metadata": {},
   "outputs": [],
   "source": [
    "table_records = {\n",
    "    key: list(dbfread.DBF(table_path))\n",
    "    for key, table_path in table_paths.items()\n",
    "}"
   ]
  },
  {
   "cell_type": "code",
   "execution_count": null,
   "metadata": {},
   "outputs": [],
   "source": [
    "images_to_be_indexed = list(to_be_indexed_dir.glob('*.jpg'))\n",
    "file_image_ids = [\n",
    "    int(path.stem.split('.')[0])\n",
    "    for path in images_to_be_indexed\n",
    "]\n",
    "\n",
    "# image_ids"
   ]
  },
  {
   "cell_type": "code",
   "execution_count": null,
   "metadata": {},
   "outputs": [],
   "source": [
    "table_ids = {\n",
    "    key: [record['DBID'] for record in records]\n",
    "    for key, records in table_records.items()\n",
    "}\n",
    "# table_ids"
   ]
  },
  {
   "cell_type": "code",
   "execution_count": null,
   "metadata": {},
   "outputs": [],
   "source": [
    "pimg_ids = [record['PIMG_DBID'] for record in table_records['frame']]\n",
    "pimg_id_unique, pimg_id_first_index, pimg_id_counts = np.unique(pimg_ids, return_index=True, return_counts=True)\n",
    "\n",
    "pimg_id_unique = pimg_id_unique.tolist()\n",
    "pimg_id_first_index = pimg_id_first_index.tolist()\n",
    "pimg_id_counts = pimg_id_counts.tolist()"
   ]
  },
  {
   "cell_type": "code",
   "execution_count": null,
   "metadata": {},
   "outputs": [],
   "source": [
    "home = pathlib.Path.home()"
   ]
  },
  {
   "cell_type": "code",
   "execution_count": null,
   "metadata": {},
   "outputs": [],
   "source": [
    "for i, encoded_image_path in enumerate(images_to_be_indexed):\n",
    "\n",
    "    \n",
    "    new_path = indexed_dir.joinpath(f'frame_{i}.png')\n",
    "    \n",
    "    shutil.copy2(encoded_image_path, home.joinpath('temp_encoded.jpg'))\n",
    "    \n",
    "    !bash -c \"~/bin/wavelet/jpeg /mnt/c/Users/sbiggs/temp_encoded.jpg /mnt/c/Users/sbiggs/temp_decoded.jpg\"\n",
    "    !bash -c \"convert -depth 16 /mnt/c/Users/sbiggs/temp_decoded.jpg /mnt/c/Users/sbiggs/temp_decoded.png\"\n",
    "    \n",
    "    shutil.copy2(home.joinpath('temp_decoded.png'), new_path)\n",
    "    encoded_image_path.unlink()"
   ]
  },
  {
   "cell_type": "code",
   "execution_count": null,
   "metadata": {},
   "outputs": [],
   "source": []
  }
 ],
 "metadata": {
  "kernelspec": {
   "display_name": "pymedphys-master",
   "language": "python",
   "name": "pymedphys-master"
  },
  "language_info": {
   "codemirror_mode": {
    "name": "ipython",
    "version": 3
   },
   "file_extension": ".py",
   "mimetype": "text/x-python",
   "name": "python",
   "nbconvert_exporter": "python",
   "pygments_lexer": "ipython3",
   "version": "3.7.0"
  }
 },
 "nbformat": 4,
 "nbformat_minor": 4
}
