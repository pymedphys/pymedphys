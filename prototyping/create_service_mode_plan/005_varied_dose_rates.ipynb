{
 "cells": [
  {
   "cell_type": "code",
   "execution_count": null,
   "metadata": {},
   "outputs": [],
   "source": [
    "%load_ext autoreload\n",
    "%autoreload 2"
   ]
  },
  {
   "cell_type": "code",
   "execution_count": null,
   "metadata": {},
   "outputs": [],
   "source": [
    "import pydicom\n",
    "import pynetdicom\n",
    "\n",
    "import pymedphys.labs.serviceplans.create\n",
    "import pymedphys._dicom.header"
   ]
  },
  {
   "cell_type": "code",
   "execution_count": null,
   "metadata": {},
   "outputs": [],
   "source": [
    "machine_map = {\n",
    "    '2619': {\n",
    "        'sender_ae_title': b'CMS_SCU',\n",
    "        'ip': '192.168.100.200',\n",
    "        'port': 104\n",
    "    },\n",
    "    '2694': {\n",
    "        'sender_ae_title': b'CMS_SCU',\n",
    "        'ip': '192.168.100.201',\n",
    "        'port': 104\n",
    "    },\n",
    "    '4299': {\n",
    "        'sender_ae_title': b'PYMEDPHYS',\n",
    "        'ip': '127.0.0.1',\n",
    "        'port': 44104\n",
    "    },\n",
    "    '9002': {\n",
    "        'sender_ae_title': b'PYMEDPHYS',\n",
    "        'ip': '127.0.0.1',\n",
    "        'port': 43104\n",
    "    },\n",
    "}"
   ]
  },
  {
   "cell_type": "code",
   "execution_count": null,
   "metadata": {},
   "outputs": [],
   "source": [
    "full_dose_rates = {\n",
    "    '00_06MV': 600,\n",
    "    '01_10MV': 480,\n",
    "    '02_06FFF': 1560,\n",
    "    '03_10FFF': 2300\n",
    "}\n",
    "\n",
    "half_dose_rates = {\n",
    "    key: item // 2 for key, item in full_dose_rates.items()\n",
    "}\n",
    "eighth_dose_rates = {\n",
    "    key: item // 8 for key, item in full_dose_rates.items()\n",
    "}\n",
    "\n",
    "dose_rate_options = [full_dose_rates, half_dose_rates, eighth_dose_rates]"
   ]
  },
  {
   "cell_type": "code",
   "execution_count": null,
   "metadata": {},
   "outputs": [],
   "source": [
    "plans = {}\n",
    "\n",
    "for dose_rate_lookup in dose_rate_options:\n",
    "    for key, dose_rate in dose_rate_lookup.items():\n",
    "        prepend, energy = key.split('_')\n",
    "        plans[(energy, dose_rate)] = pymedphys.labs.serviceplans.create.main(energy, dose_rate, prepend=prepend)"
   ]
  },
  {
   "cell_type": "code",
   "execution_count": null,
   "metadata": {},
   "outputs": [],
   "source": [
    "for machine_id, settings in machine_map.items():\n",
    "    print(f\"\\n\\n========\\n  {machine_id}  \\n========\\n\")\n",
    "    \n",
    "    ae = pynetdicom.AE(ae_title=settings['sender_ae_title'])\n",
    "    ae.requested_contexts = pynetdicom.VerificationPresentationContexts\n",
    "    ae.add_requested_context(\n",
    "        pynetdicom.sop_class.RTPlanStorage,\n",
    "        transfer_syntax=pydicom.uid.ExplicitVRLittleEndian\n",
    "    )\n",
    "    \n",
    "    for key, plan in plans.items():\n",
    "        print(key)\n",
    "        \n",
    "        adjusted_plan = pymedphys._dicom.header.adjust_machine_name(plan, machine_id)\n",
    "\n",
    "        adjusted_plan.TransferSyntaxUID = pydicom.uid.ExplicitVRLittleEndian\n",
    "        adjusted_plan.fix_meta_info(enforce_standard=True)\n",
    "\n",
    "        assoc = ae.associate(settings['ip'], settings['port'], ae_title=b'EOS_RTD')\n",
    "        status = assoc.send_c_store(adjusted_plan)\n",
    "        assoc.release()\n",
    "        print(pynetdicom.status.code_to_category(status.Status))"
   ]
  }
 ],
 "metadata": {
  "anaconda-cloud": {},
  "kernelspec": {
   "display_name": "pymedphys-master",
   "language": "python",
   "name": "pymedphys-master"
  },
  "language_info": {
   "codemirror_mode": {
    "name": "ipython",
    "version": 3
   },
   "file_extension": ".py",
   "mimetype": "text/x-python",
   "name": "python",
   "nbconvert_exporter": "python",
   "pygments_lexer": "ipython3",
   "version": "3.7.0"
  }
 },
 "nbformat": 4,
 "nbformat_minor": 4
}
