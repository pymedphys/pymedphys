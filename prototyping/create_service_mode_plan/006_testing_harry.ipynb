{
 "cells": [
  {
   "cell_type": "code",
   "execution_count": null,
   "metadata": {},
   "outputs": [],
   "source": [
    "%load_ext autoreload\n",
    "%autoreload 2"
   ]
  },
  {
   "cell_type": "code",
   "execution_count": null,
   "metadata": {},
   "outputs": [],
   "source": [
    "import pydicom\n",
    "import pynetdicom\n",
    "\n",
    "import pymedphys._dicom.header\n",
    "\n",
    "# import pymedphys.labs.serviceplans.create"
   ]
  },
  {
   "cell_type": "code",
   "execution_count": null,
   "metadata": {},
   "outputs": [],
   "source": [
    "plan_file_name = r'C:\\Users\\sbiggs\\temp\\014089_TSPINE.dcm'\n",
    "new_plan_file_name = r'C:\\Users\\sbiggs\\temp\\014089_TSPINE_adjusted.dcm'"
   ]
  },
  {
   "cell_type": "code",
   "execution_count": null,
   "metadata": {},
   "outputs": [],
   "source": [
    "plan = pydicom.read_file(plan_file_name, force=True)"
   ]
  },
  {
   "cell_type": "code",
   "execution_count": null,
   "metadata": {},
   "outputs": [],
   "source": [
    "new_plan = pymedphys._dicom.header.adjust_machine_name(plan, '2694')"
   ]
  },
  {
   "cell_type": "code",
   "execution_count": null,
   "metadata": {},
   "outputs": [],
   "source": [
    "new_plan.save_as(new_plan_file_name)"
   ]
  },
  {
   "cell_type": "code",
   "execution_count": null,
   "metadata": {},
   "outputs": [],
   "source": [
    "!dcmsend 192.168.100.201 104 {new_plan_file_name} --read-dataset --aetitle CMS_SCU --call EOS_RTD -d"
   ]
  },
  {
   "cell_type": "code",
   "execution_count": null,
   "metadata": {},
   "outputs": [],
   "source": [
    "# full_dose_rates = {\n",
    "#     '00_06MV': 600,\n",
    "#     '01_10MV': 480,\n",
    "#     '02_06FFF': 1560,\n",
    "#     '03_10FFF': 2300\n",
    "# }\n",
    "\n",
    "# half_dose_rates = {\n",
    "#     key: item // 2 for key, item in full_dose_rates.items()\n",
    "# }\n",
    "# eighth_dose_rates = {\n",
    "#     key: item // 8 for key, item in full_dose_rates.items()\n",
    "# }\n",
    "\n",
    "# dose_rate_options = [full_dose_rates, half_dose_rates, eighth_dose_rates]"
   ]
  },
  {
   "cell_type": "code",
   "execution_count": null,
   "metadata": {},
   "outputs": [],
   "source": [
    "# plans = {}\n",
    "\n",
    "# for dose_rate_lookup in dose_rate_options:\n",
    "#     for key, dose_rate in dose_rate_lookup.items():\n",
    "#         prepend, energy = key.split('_')\n",
    "#         plans[(energy, dose_rate)] = pymedphys.labs.serviceplans.create.main(energy, dose_rate, prepend=prepend)"
   ]
  },
  {
   "cell_type": "code",
   "execution_count": null,
   "metadata": {},
   "outputs": [],
   "source": [
    "# ae = pynetdicom.AE(ae_title=b'CMS_SCU')\n",
    "# ae.requested_contexts = pynetdicom .VerificationPresentationContexts\n",
    "# ae.add_requested_context(\n",
    "#     pynetdicom.sop_class.RTPlanStorage,\n",
    "#     transfer_syntax=pydicom.uid.ExplicitVRLittleEndian\n",
    "# )"
   ]
  },
  {
   "cell_type": "code",
   "execution_count": null,
   "metadata": {},
   "outputs": [],
   "source": [
    "# for key, plan in plans.items():\n",
    "#     print(key)\n",
    "    \n",
    "#     plan.TransferSyntaxUID = pydicom.uid.ExplicitVRLittleEndian\n",
    "#     plan.fix_meta_info(enforce_standard=True)\n",
    "    \n",
    "#     assoc = ae.associate('192.168.100.200', 104, ae_title='EOS_RTD')\n",
    "#     status = assoc.send_c_store(plan)\n",
    "#     assoc.release()\n",
    "#     print(pynetdicom.status.code_to_category(status.Status))"
   ]
  }
 ],
 "metadata": {
  "anaconda-cloud": {},
  "kernelspec": {
   "display_name": "pymedphys-master",
   "language": "python",
   "name": "pymedphys-master"
  },
  "language_info": {
   "codemirror_mode": {
    "name": "ipython",
    "version": 3
   },
   "file_extension": ".py",
   "mimetype": "text/x-python",
   "name": "python",
   "nbconvert_exporter": "python",
   "pygments_lexer": "ipython3",
   "version": "3.7.0"
  }
 },
 "nbformat": 4,
 "nbformat_minor": 4
}
