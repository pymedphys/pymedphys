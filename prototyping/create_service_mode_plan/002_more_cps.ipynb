{
 "cells": [
  {
   "cell_type": "code",
   "execution_count": null,
   "metadata": {},
   "outputs": [],
   "source": [
    "import pydicom\n",
    "from glob import glob\n",
    "from random import randint\n",
    "from copy import deepcopy\n",
    "from datetime import datetime\n",
    "\n",
    "import numpy as np\n",
    "import pandas as pd"
   ]
  },
  {
   "cell_type": "code",
   "execution_count": null,
   "metadata": {},
   "outputs": [],
   "source": [
    "pydicom.config.enforce_valid_values = True"
   ]
  },
  {
   "cell_type": "code",
   "execution_count": null,
   "metadata": {},
   "outputs": [],
   "source": [
    "pd.set_option('display.max_rows', 500)"
   ]
  },
  {
   "cell_type": "code",
   "execution_count": null,
   "metadata": {},
   "outputs": [],
   "source": [
    "multi_arc_plan = pydicom.read_file('MVISO_VMATNEWSPLIT.dcm', force=True)\n",
    "beam_collimation_plan = pydicom.read_file('TinyFS_Rectangle.dcm', force=True)"
   ]
  },
  {
   "cell_type": "code",
   "execution_count": null,
   "metadata": {},
   "outputs": [],
   "source": [
    "pydicom.Sequence"
   ]
  },
  {
   "cell_type": "code",
   "execution_count": null,
   "metadata": {},
   "outputs": [],
   "source": [
    "beam_collimation = beam_collimation_plan.BeamSequence[0].ControlPointSequence[0].BeamLimitingDevicePositionSequence"
   ]
  },
  {
   "cell_type": "code",
   "execution_count": null,
   "metadata": {},
   "outputs": [],
   "source": [
    "def display_control_points(dcm, beam_index):\n",
    "    control_point_sequence = dcm.BeamSequence[beam_index].ControlPointSequence\n",
    "    \n",
    "    gantry_angles = [\n",
    "        sequence.GantryAngle \n",
    "        for sequence in control_point_sequence\n",
    "    ]\n",
    "\n",
    "    gantry_rotation = [\n",
    "        sequence.GantryRotationDirection \n",
    "        for sequence in control_point_sequence\n",
    "    ]\n",
    "\n",
    "    collimator_angles = [\n",
    "        sequence.BeamLimitingDeviceAngle \n",
    "        for sequence in control_point_sequence\n",
    "    ]\n",
    "\n",
    "    collimator_rotation = [\n",
    "        sequence.BeamLimitingDeviceRotationDirection \n",
    "        for sequence in control_point_sequence\n",
    "    ]\n",
    "\n",
    "    cumulative_meterset_weight = [\n",
    "        sequence.CumulativeMetersetWeight \n",
    "        for sequence in control_point_sequence\n",
    "    ]\n",
    "\n",
    "    data = np.vstack([\n",
    "        gantry_angles, gantry_rotation, \n",
    "        collimator_angles, collimator_rotation,\n",
    "        cumulative_meterset_weight]).T\n",
    "    return pd.DataFrame(data=data, columns=[\n",
    "        'Gantry', 'Gantry Rotation', \n",
    "        'Collimator', 'Collimator Rotation', 'Meterset Weight'])"
   ]
  },
  {
   "cell_type": "code",
   "execution_count": null,
   "metadata": {},
   "outputs": [],
   "source": [
    "def from_bipolar(angles: np.ndarray):\n",
    "    ref = angles<0\n",
    "    angles[ref] = angles[ref] + 360\n",
    "    \n",
    "    return angles"
   ]
  },
  {
   "cell_type": "code",
   "execution_count": null,
   "metadata": {},
   "outputs": [],
   "source": [
    "gantry_step_size = 5.0"
   ]
  },
  {
   "cell_type": "code",
   "execution_count": null,
   "metadata": {},
   "outputs": [],
   "source": [
    "gantry_beam_1 = from_bipolar(np.arange(-180, 181, gantry_step_size))\n",
    "gantry_beam_1[0] = 180.1\n",
    "gantry_beam_1[-1] = 179.9\n",
    "gantry_beam_1"
   ]
  },
  {
   "cell_type": "code",
   "execution_count": null,
   "metadata": {},
   "outputs": [],
   "source": [
    "coll_beam_1 = from_bipolar(np.arange(-180, 1, gantry_step_size/2))\n",
    "coll_beam_1[0] = 180.1\n",
    "coll_beam_1"
   ]
  },
  {
   "cell_type": "code",
   "execution_count": null,
   "metadata": {},
   "outputs": [],
   "source": [
    "gantry_beam_2 = from_bipolar(np.arange(180, -181, -gantry_step_size))\n",
    "gantry_beam_2[-1] = 180.1\n",
    "gantry_beam_2[0] = 179.9\n",
    "gantry_beam_2"
   ]
  },
  {
   "cell_type": "code",
   "execution_count": null,
   "metadata": {},
   "outputs": [],
   "source": [
    "coll_beam_2 = from_bipolar(np.arange(180, -1, -gantry_step_size/2))\n",
    "coll_beam_2[0] = 179.9\n",
    "coll_beam_2"
   ]
  },
  {
   "cell_type": "code",
   "execution_count": null,
   "metadata": {},
   "outputs": [],
   "source": [
    "num_cps = len(gantry_beam_2)\n",
    "num_cps\n",
    "\n",
    "meterset_weight = np.linspace(0, 1, num_cps)\n",
    "meterset_weight"
   ]
  },
  {
   "cell_type": "code",
   "execution_count": null,
   "metadata": {},
   "outputs": [],
   "source": [
    "total_mu = \"300.000000\"\n",
    "dose_rate = \"300\""
   ]
  },
  {
   "cell_type": "code",
   "execution_count": null,
   "metadata": {},
   "outputs": [],
   "source": [
    "meterset_weight * float(total_mu)"
   ]
  },
  {
   "cell_type": "code",
   "execution_count": null,
   "metadata": {},
   "outputs": [],
   "source": [
    "cpfirst_beam1 = multi_arc_plan.BeamSequence[0].ControlPointSequence[0]\n",
    "cpmid_beam1 = multi_arc_plan.BeamSequence[0].ControlPointSequence[1]\n",
    "cplast_beam1 = multi_arc_plan.BeamSequence[0].ControlPointSequence[-1]\n",
    "\n",
    "cpfirst_beam1.BeamLimitingDevicePositionSequence = beam_collimation\n",
    "cpmid_beam1.BeamLimitingDevicePositionSequence = beam_collimation\n",
    "cplast_beam1.BeamLimitingDevicePositionSequence = beam_collimation"
   ]
  },
  {
   "cell_type": "code",
   "execution_count": null,
   "metadata": {},
   "outputs": [],
   "source": [
    "cpfirst_beam1.BeamLimitingDeviceRotationDirection = 'CC'\n",
    "cpmid_beam1.BeamLimitingDeviceRotationDirection = 'CC'"
   ]
  },
  {
   "cell_type": "code",
   "execution_count": null,
   "metadata": {},
   "outputs": [],
   "source": [
    "cpfirst_beam1.DoseRateSet = dose_rate\n",
    "cpmid_beam1.DoseRateSet = dose_rate\n",
    "cplast_beam1.DoseRateSet = dose_rate"
   ]
  },
  {
   "cell_type": "code",
   "execution_count": null,
   "metadata": {},
   "outputs": [],
   "source": [
    "cpfirst_beam2 = multi_arc_plan.BeamSequence[1].ControlPointSequence[0]\n",
    "cpmid_beam2 = multi_arc_plan.BeamSequence[1].ControlPointSequence[1]\n",
    "cplast_beam2 = multi_arc_plan.BeamSequence[1].ControlPointSequence[-1]\n",
    "\n",
    "cpfirst_beam2.BeamLimitingDevicePositionSequence = beam_collimation\n",
    "cpmid_beam2.BeamLimitingDevicePositionSequence = beam_collimation\n",
    "cplast_beam2.BeamLimitingDevicePositionSequence = beam_collimation"
   ]
  },
  {
   "cell_type": "code",
   "execution_count": null,
   "metadata": {},
   "outputs": [],
   "source": [
    "cpfirst_beam2.BeamLimitingDeviceRotationDirection = 'CW'\n",
    "cpmid_beam2.BeamLimitingDeviceRotationDirection = 'CW'"
   ]
  },
  {
   "cell_type": "code",
   "execution_count": null,
   "metadata": {},
   "outputs": [],
   "source": [
    "cpfirst_beam2.DoseRateSet = dose_rate\n",
    "cpmid_beam2.DoseRateSet = dose_rate\n",
    "cplast_beam2.DoseRateSet = dose_rate"
   ]
  },
  {
   "cell_type": "code",
   "execution_count": null,
   "metadata": {},
   "outputs": [],
   "source": [
    "beam1 = pydicom.Sequence([])\n",
    "beam2 = pydicom.Sequence([])\n",
    "\n",
    "\n",
    "cpfirst_beam1.GantryAngle = str(gantry_beam_1[0])\n",
    "cpfirst_beam2.GantryAngle = str(gantry_beam_2[0])\n",
    "\n",
    "cpfirst_beam1.BeamLimitingDeviceAngle = str(coll_beam_1[0])\n",
    "cpfirst_beam2.BeamLimitingDeviceAngle = str(coll_beam_2[0])\n",
    "\n",
    "beam1.append(cpfirst_beam1)\n",
    "beam2.append(cpfirst_beam2)\n",
    "\n",
    "for i in range(1, num_cps - 1):\n",
    "    cpmid_beam1.GantryAngle = str(gantry_beam_1[i])\n",
    "    cpmid_beam2.GantryAngle = str(gantry_beam_2[i])\n",
    "\n",
    "    cpmid_beam1.BeamLimitingDeviceAngle = str(coll_beam_1[i])\n",
    "    cpmid_beam2.BeamLimitingDeviceAngle = str(coll_beam_2[i])\n",
    "    \n",
    "    cpmid_beam1.CumulativeMetersetWeight = str(round(meterset_weight[i], 6))\n",
    "    cpmid_beam2.CumulativeMetersetWeight = str(round(meterset_weight[i], 6))\n",
    "    \n",
    "    cpmid_beam1.ControlPointIndex = str(i)\n",
    "    cpmid_beam2.ControlPointIndex = str(i)\n",
    "    \n",
    "    beam1.append(deepcopy(cpmid_beam1))\n",
    "    beam2.append(deepcopy(cpmid_beam2))\n",
    "  \n",
    "\n",
    "cplast_beam1.GantryAngle = str(gantry_beam_1[-1])\n",
    "cplast_beam2.GantryAngle = str(gantry_beam_2[-1])\n",
    "\n",
    "cplast_beam1.BeamLimitingDeviceAngle = str(coll_beam_1[-1])\n",
    "cplast_beam2.BeamLimitingDeviceAngle = str(coll_beam_2[-1])\n",
    "\n",
    "cplast_beam1.ControlPointIndex = str(num_cps-1)\n",
    "cplast_beam2.ControlPointIndex = str(num_cps-1)\n",
    "\n",
    "beam1.append(cplast_beam1)\n",
    "beam2.append(cplast_beam2)"
   ]
  },
  {
   "cell_type": "code",
   "execution_count": null,
   "metadata": {},
   "outputs": [],
   "source": [
    "new_plan = deepcopy(multi_arc_plan)"
   ]
  },
  {
   "cell_type": "code",
   "execution_count": null,
   "metadata": {},
   "outputs": [],
   "source": [
    "new_plan.BeamSequence[0].ControlPointSequence = beam1\n",
    "new_plan.BeamSequence[1].ControlPointSequence = beam2"
   ]
  },
  {
   "cell_type": "code",
   "execution_count": null,
   "metadata": {},
   "outputs": [],
   "source": [
    "new_plan.BeamSequence[0].NumberOfControlPoints = str(num_cps)\n",
    "new_plan.BeamSequence[1].NumberOfControlPoints = str(num_cps)"
   ]
  },
  {
   "cell_type": "code",
   "execution_count": null,
   "metadata": {},
   "outputs": [],
   "source": []
  },
  {
   "cell_type": "code",
   "execution_count": null,
   "metadata": {},
   "outputs": [],
   "source": [
    "new_plan.BeamSequence[0].BeamName = \"WLutz-6MV-CW\"\n",
    "new_plan.BeamSequence[1].BeamName = \"WLutz-6MV-CC\""
   ]
  },
  {
   "cell_type": "code",
   "execution_count": null,
   "metadata": {},
   "outputs": [],
   "source": []
  },
  {
   "cell_type": "code",
   "execution_count": null,
   "metadata": {},
   "outputs": [],
   "source": [
    "new_plan"
   ]
  },
  {
   "cell_type": "code",
   "execution_count": null,
   "metadata": {},
   "outputs": [],
   "source": [
    "display_control_points(new_plan, 0)"
   ]
  },
  {
   "cell_type": "code",
   "execution_count": null,
   "metadata": {},
   "outputs": [],
   "source": [
    "display_control_points(new_plan, 1)"
   ]
  },
  {
   "cell_type": "code",
   "execution_count": null,
   "metadata": {},
   "outputs": [],
   "source": [
    "new_plan.FractionGroupSequence[0].ReferencedBeamSequence[0].BeamMeterset = total_mu\n",
    "new_plan.FractionGroupSequence[0].ReferencedBeamSequence[1].BeamMeterset = total_mu"
   ]
  },
  {
   "cell_type": "code",
   "execution_count": null,
   "metadata": {},
   "outputs": [],
   "source": [
    "new_plan.RTPlanLabel = 'WLutzArc'\n",
    "new_plan.RTPlanName = 'WLutzArc'"
   ]
  },
  {
   "cell_type": "code",
   "execution_count": null,
   "metadata": {},
   "outputs": [],
   "source": [
    "# new_plan"
   ]
  },
  {
   "cell_type": "code",
   "execution_count": null,
   "metadata": {},
   "outputs": [],
   "source": [
    "timestamp = datetime.now().isoformat(sep='_').split('.')[0].replace('-', '').replace(':', '')\n",
    "plan_file_name = f\"VMAT_MVISO_{timestamp}.dcm\"\n",
    "plan_file_name"
   ]
  },
  {
   "cell_type": "code",
   "execution_count": null,
   "metadata": {},
   "outputs": [],
   "source": [
    "new_plan.save_as(plan_file_name)"
   ]
  },
  {
   "cell_type": "code",
   "execution_count": null,
   "metadata": {},
   "outputs": [],
   "source": [
    "!echo {plan_file_name}"
   ]
  },
  {
   "cell_type": "code",
   "execution_count": null,
   "metadata": {},
   "outputs": [],
   "source": [
    "!dcmsend 192.168.100.200 104 {plan_file_name} --read-dataset --aetitle CMS_SCU --call EOS_RTD -d"
   ]
  },
  {
   "cell_type": "code",
   "execution_count": null,
   "metadata": {},
   "outputs": [],
   "source": [
    "# !dcmsend --help"
   ]
  }
 ],
 "metadata": {
  "anaconda-cloud": {},
  "kernelspec": {
   "display_name": "Python 3",
   "language": "python",
   "name": "python3"
  },
  "language_info": {
   "codemirror_mode": {
    "name": "ipython",
    "version": 3
   },
   "file_extension": ".py",
   "mimetype": "text/x-python",
   "name": "python",
   "nbconvert_exporter": "python",
   "pygments_lexer": "ipython3",
   "version": "3.7.0"
  }
 },
 "nbformat": 4,
 "nbformat_minor": 4
}
