{
 "cells": [
  {
   "cell_type": "code",
   "execution_count": null,
   "metadata": {},
   "outputs": [],
   "source": [
    "import numpy as np\n",
    "import matplotlib.pyplot as plt\n",
    "\n",
    "from pymedphys.msq import mosaiq_connect\n",
    "from pymedphys_databases.msq.helpers import get_patient_fields\n",
    "from pymedphys_databases.msq import delivery_data_from_mosaiq\n",
    "\n",
    "from pymedphys import Delivery"
   ]
  },
  {
   "cell_type": "code",
   "execution_count": null,
   "metadata": {},
   "outputs": [],
   "source": [
    "patient_id = '--'\n",
    "\n",
    "mosaiq_server = 'msqsql'"
   ]
  },
  {
   "cell_type": "code",
   "execution_count": null,
   "metadata": {},
   "outputs": [],
   "source": [
    "with mosaiq_connect(mosaiq_server) as cursor:\n",
    "    fields = get_patient_fields(cursor, patient_id)"
   ]
  },
  {
   "cell_type": "code",
   "execution_count": null,
   "metadata": {},
   "outputs": [],
   "source": [
    "fields"
   ]
  },
  {
   "cell_type": "code",
   "execution_count": null,
   "metadata": {},
   "outputs": [],
   "source": [
    "field_map = {\n",
    "    '1-1': 85279,\n",
    "    '1-3': 85258,\n",
    "    '1-4': 85318,\n",
    "    '1-6': 85319\n",
    "}"
   ]
  },
  {
   "cell_type": "code",
   "execution_count": null,
   "metadata": {},
   "outputs": [],
   "source": [
    "field_ids = [85279, 85258, 85318, 85319]"
   ]
  },
  {
   "cell_type": "code",
   "execution_count": null,
   "metadata": {},
   "outputs": [],
   "source": [
    "deliveries = {}\n",
    "\n",
    "with mosaiq_connect(mosaiq_server) as cursor:\n",
    "    for field_id in field_ids:\n",
    "        deliveries[field_id] = Delivery(*delivery_data_from_mosaiq(cursor, field_id=field_id))"
   ]
  },
  {
   "cell_type": "code",
   "execution_count": null,
   "metadata": {},
   "outputs": [],
   "source": [
    "mu_densities = {}\n",
    "\n",
    "for field_id in field_ids:\n",
    "    mu_densities[field_id] = deliveries[field_id].mudensity()"
   ]
  },
  {
   "cell_type": "code",
   "execution_count": null,
   "metadata": {},
   "outputs": [],
   "source": [
    "for field_id in field_ids:\n",
    "\n",
    "    plt.contourf(mu_densities[field_id], 50)\n",
    "    plt.show()"
   ]
  },
  {
   "cell_type": "code",
   "execution_count": null,
   "metadata": {},
   "outputs": [],
   "source": [
    "diff_main = mu_densities[field_map['1-4']] - mu_densities[field_map['1-1']]\n",
    "diff_boost = mu_densities[field_map['1-6']] - mu_densities[field_map['1-3']]"
   ]
  },
  {
   "cell_type": "code",
   "execution_count": null,
   "metadata": {},
   "outputs": [],
   "source": [
    "plt.contourf(diff_main, 50)\n",
    "plt.colorbar()"
   ]
  },
  {
   "cell_type": "code",
   "execution_count": null,
   "metadata": {},
   "outputs": [],
   "source": [
    "plt.contourf(diff_boost, 50)\n",
    "plt.colorbar()"
   ]
  }
 ],
 "metadata": {
  "anaconda-cloud": {},
  "kernelspec": {
   "display_name": "Python 3",
   "language": "python",
   "name": "python3"
  },
  "language_info": {
   "codemirror_mode": {
    "name": "ipython",
    "version": 3
   },
   "file_extension": ".py",
   "mimetype": "text/x-python",
   "name": "python",
   "nbconvert_exporter": "python",
   "pygments_lexer": "ipython3",
   "version": "3.7.0"
  }
 },
 "nbformat": 4,
 "nbformat_minor": 4
}
