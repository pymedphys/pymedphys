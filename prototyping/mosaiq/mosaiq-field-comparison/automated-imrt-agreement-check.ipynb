{
 "cells": [
  {
   "cell_type": "code",
   "execution_count": null,
   "metadata": {},
   "outputs": [],
   "source": [
    "from glob import glob\n",
    "\n",
    "import numpy as np\n",
    "import pandas as pd\n",
    "import matplotlib.pyplot as plt\n",
    "\n",
    "from IPython.display import display, Markdown"
   ]
  },
  {
   "cell_type": "code",
   "execution_count": null,
   "metadata": {},
   "outputs": [],
   "source": [
    "%load_ext autoreload\n",
    "%autoreload 2"
   ]
  },
  {
   "cell_type": "code",
   "execution_count": null,
   "metadata": {},
   "outputs": [],
   "source": [
    "from pymedphys.msq import (\n",
    "    mosaiq_connect, delivery_data_from_mosaiq, get_patient_fields,\n",
    "    get_qcls_by_date, multi_mosaiq_connect, get_incomplete_qcls_across_sites,\n",
    "    get_recently_completed_qcls_across_sites\n",
    ")\n",
    "from pymedphys.coll import calc_mu_density\n",
    "from pymedphys.type import get_delivery_parameters"
   ]
  },
  {
   "cell_type": "code",
   "execution_count": null,
   "metadata": {},
   "outputs": [],
   "source": [
    "qa_centre = 'rccc'\n",
    "treatment_centres = ['nbcc', 'sash']\n",
    "\n",
    "centres = [qa_centre] + treatment_centres\n",
    "\n",
    "qa_patient_ids = ['999999', '999998', '999997', '999996']\n",
    "\n",
    "servers = {\n",
    "    'rccc': 'msqsql', \n",
    "    'nbcc': 'physics-server:31433',  # nbccc-msq  or  physics-server:31433\n",
    "    'sash': 'physics-server'\n",
    "}\n",
    "\n",
    "servers_list = [\n",
    "    item for _, item in servers.items()\n",
    "]\n",
    "\n",
    "physics_location = {\n",
    "    'rccc': 'Physics_Check',\n",
    "    'nbcc': 'Physics',\n",
    "    'sash': 'Physics_Check'\n",
    "}\n",
    "\n",
    "imrt_task_names = {\n",
    "    'nbcc': 'Physics Check IMRT',\n",
    "    'rccc': 'IMRT Physics Check',\n",
    "    'sash': 'Physics QA           '\n",
    "}\n",
    "\n",
    "comparison_field_types = [\n",
    "    'DMLC', 'VMAT'\n",
    "]"
   ]
  },
  {
   "cell_type": "code",
   "execution_count": null,
   "metadata": {},
   "outputs": [],
   "source": [
    "with multi_mosaiq_connect(servers_list) as cursors:\n",
    "    incomplete_qcls = get_incomplete_qcls_across_sites(cursors, servers, centres, physics_location)\n",
    "    recently_completed_qcls = get_recently_completed_qcls_across_sites(cursors, servers, centres, physics_location)\n",
    "    \n",
    "display(incomplete_qcls)\n",
    "display(recently_completed_qcls)"
   ]
  },
  {
   "cell_type": "code",
   "execution_count": null,
   "metadata": {},
   "outputs": [],
   "source": []
  },
  {
   "cell_type": "code",
   "execution_count": null,
   "metadata": {},
   "outputs": [],
   "source": [
    "plans_to_verify = pd.DataFrame()\n",
    "\n",
    "for centre in treatment_centres:\n",
    "    plans_to_verify = plans_to_verify.append(incomplete_qcls[(\n",
    "        (incomplete_qcls['centre'] == centre) &\n",
    "        (incomplete_qcls['task'] == imrt_task_names[centre])\n",
    "    )], sort=False)\n",
    "    \n",
    "    plans_to_verify = plans_to_verify.append(recently_completed_qcls[(\n",
    "        (recently_completed_qcls['centre'] == centre) &\n",
    "        (recently_completed_qcls['task'] == imrt_task_names[centre])\n",
    "    )], sort=False)\n",
    "\n",
    "plans_to_verify"
   ]
  },
  {
   "cell_type": "code",
   "execution_count": null,
   "metadata": {},
   "outputs": [],
   "source": [
    "patient_ids = plans_to_verify['patient_id'].values\n",
    "patient_ids"
   ]
  },
  {
   "cell_type": "code",
   "execution_count": null,
   "metadata": {},
   "outputs": [],
   "source": [
    "all_qa_fields = pd.DataFrame()\n",
    "\n",
    "with mosaiq_connect(servers[qa_centre]) as cursor:\n",
    "    for qa_patient_id in qa_patient_ids:\n",
    "        qa_fields = get_patient_fields(cursor, qa_patient_id)\n",
    "        qa_fields['patient_id'] = [qa_patient_id] * len(qa_fields)\n",
    "        \n",
    "        all_qa_fields = all_qa_fields.append(qa_fields)\n",
    "        \n",
    "# all_qa_fields"
   ]
  },
  {
   "cell_type": "code",
   "execution_count": null,
   "metadata": {},
   "outputs": [],
   "source": [
    "clinical_field_ids = {}\n",
    "clinical_field_tables = {}\n",
    "\n",
    "with multi_mosaiq_connect(servers_list) as cursors:\n",
    "    for qcl in plans_to_verify.itertuples():\n",
    "        patient_id = qcl.patient_id\n",
    "        centre = qcl.centre\n",
    "        \n",
    "        display(Markdown('### Centre: {}, Patient ID: {}'.format(centre, patient_id)))\n",
    "        \n",
    "        cursor = cursors[servers[centre]]\n",
    "\n",
    "        clinical_fields = get_patient_fields(cursor, patient_id)\n",
    "        clinical_beam_reference = (\n",
    "            (clinical_fields['field_version'] == 0) & \n",
    "            (clinical_fields['monitor_units'] != 0) &\n",
    "            (clinical_fields['field_type'].isin(comparison_field_types))\n",
    "        )\n",
    "        clinical_fields = clinical_fields[clinical_beam_reference]\n",
    "        \n",
    "        clinical_field_tables[(centre, patient_id)] = clinical_fields\n",
    "        \n",
    "        display(clinical_fields)\n",
    "        \n",
    "        clinical_field_ids[(centre, patient_id)] = clinical_fields['field_id'].values.astype(str)\n",
    "\n",
    "\n",
    "clinical_field_ids"
   ]
  },
  {
   "cell_type": "code",
   "execution_count": null,
   "metadata": {},
   "outputs": [],
   "source": [
    "centre_patient_id_tuples = list(clinical_field_ids.keys())\n",
    "centre_patient_id_tuples"
   ]
  },
  {
   "cell_type": "code",
   "execution_count": null,
   "metadata": {},
   "outputs": [],
   "source": [
    "qa_field_site_agreeing = {\n",
    "    (centre, patient_id): all_qa_fields[(\n",
    "        (all_qa_fields['site'] == patient_id)\n",
    "    )]\n",
    "    for centre, patient_id in centre_patient_id_tuples\n",
    "}\n",
    "\n",
    "for centre, patient_id in centre_patient_id_tuples:\n",
    "    display(Markdown('### Centre: {}, Patient ID: {}'.format(centre, patient_id)))\n",
    "    display(qa_field_site_agreeing[(centre, patient_id)])"
   ]
  },
  {
   "cell_type": "code",
   "execution_count": null,
   "metadata": {},
   "outputs": [],
   "source": [
    "qa_field_ids = {\n",
    "    key: qa_field_site_agreeing[key]['field_id'].values.astype(str)\n",
    "    for key in centre_patient_id_tuples\n",
    "}\n",
    "\n",
    "qa_field_ids"
   ]
  },
  {
   "cell_type": "code",
   "execution_count": null,
   "metadata": {},
   "outputs": [],
   "source": [
    "def determine_mu_density(cursor, field_id):\n",
    "\n",
    "    delivery_data = delivery_data_from_mosaiq(cursor, field_id)\n",
    "        \n",
    "    mu, mlc, jaw = get_delivery_parameters(delivery_data)\n",
    "    mu_density = calc_mu_density(mu, mlc, jaw)\n",
    "    \n",
    "    return mu_density"
   ]
  },
  {
   "cell_type": "code",
   "execution_count": null,
   "metadata": {},
   "outputs": [],
   "source": [
    "with multi_mosaiq_connect(servers_list) as cursors:\n",
    "\n",
    "    for centre, patient_id in centre_patient_id_tuples:\n",
    "        display(Markdown('### Centre: {}, Patient ID: {}'.format(centre, patient_id)))\n",
    "        \n",
    "        display(Markdown('#### Clinical Fields'))\n",
    "        display(clinical_field_tables[(centre, patient_id)])\n",
    "        \n",
    "        display(Markdown('#### QA Fields'))\n",
    "        display(qa_field_site_agreeing[(centre, patient_id)])\n",
    "        \n",
    "        clinical_cursor = cursors[servers[centre]]\n",
    "        qa_cursor = cursors[servers[qa_centre]]\n",
    "        \n",
    "        key = (centre, patient_id)\n",
    "        \n",
    "        display(Markdown('#### Comparison'))\n",
    "        \n",
    "        if len(clinical_field_ids[key]) == 0 or len(qa_field_ids[key]) == 0:\n",
    "            print('missing fields')\n",
    "            continue\n",
    "        \n",
    "        clinical_mu_density = np.sum([\n",
    "            determine_mu_density(clinical_cursor, field_id)\n",
    "            for field_id in clinical_field_ids[key]\n",
    "        ], axis=0)\n",
    "\n",
    "        qa_mu_density = np.sum([\n",
    "            determine_mu_density(qa_cursor, field_id)\n",
    "            for field_id in qa_field_ids[key]\n",
    "        ], axis=0)\n",
    "\n",
    "        plt.figure()\n",
    "        plt.pcolormesh(clinical_mu_density)\n",
    "        plt.colorbar()\n",
    "        plt.title('Clinical MU density')\n",
    "        plt.xlabel('MLC direction (mm)')\n",
    "        plt.ylabel('Jaw direction (mm)')\n",
    "        plt.gca().invert_yaxis()\n",
    "\n",
    "        plt.figure()\n",
    "        plt.pcolormesh(qa_mu_density)\n",
    "        plt.colorbar()\n",
    "        plt.title('QA MU density')\n",
    "        plt.xlabel('MLC direction (mm)')\n",
    "        plt.ylabel('Jaw direction (mm)')\n",
    "        plt.gca().invert_yaxis()\n",
    "        \n",
    "        plt.show()\n",
    "        \n",
    "        # Verify that every pixel agrees within 0.1 MU\n",
    "        maximum_deviation = np.max(np.abs(clinical_mu_density - qa_mu_density))\n",
    "        print(\"Maximum MU Density deviation between fields: {}\".format(maximum_deviation))"
   ]
  },
  {
   "cell_type": "code",
   "execution_count": null,
   "metadata": {},
   "outputs": [],
   "source": []
  },
  {
   "cell_type": "code",
   "execution_count": null,
   "metadata": {},
   "outputs": [],
   "source": []
  }
 ],
 "metadata": {
  "anaconda-cloud": {},
  "kernelspec": {
   "display_name": "Python 3",
   "language": "python",
   "name": "python3"
  },
  "language_info": {
   "codemirror_mode": {
    "name": "ipython",
    "version": 3
   },
   "file_extension": ".py",
   "mimetype": "text/x-python",
   "name": "python",
   "nbconvert_exporter": "python",
   "pygments_lexer": "ipython3",
   "version": "3.7.0"
  }
 },
 "nbformat": 4,
 "nbformat_minor": 4
}
