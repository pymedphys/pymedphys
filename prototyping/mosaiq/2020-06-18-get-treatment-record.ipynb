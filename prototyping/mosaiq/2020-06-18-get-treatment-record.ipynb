{
 "cells": [
  {
   "cell_type": "code",
   "execution_count": null,
   "metadata": {},
   "outputs": [],
   "source": [
    "import pymedphys\n",
    "from pymedphys.labs.managelogfiles import identify"
   ]
  },
  {
   "cell_type": "code",
   "execution_count": null,
   "metadata": {},
   "outputs": [],
   "source": [
    "mosaiq_string_time, _ = identify.date_convert('20/06/18 16:40:00 Z', 'UTC')\n",
    "mosaiq_string_time"
   ]
  },
  {
   "cell_type": "code",
   "execution_count": null,
   "metadata": {},
   "outputs": [],
   "source": [
    "machine = '2619'"
   ]
  },
  {
   "cell_type": "code",
   "execution_count": null,
   "metadata": {},
   "outputs": [],
   "source": [
    "execute_string = \"\"\"\n",
    "    SELECT\n",
    "        Ident.IDA,\n",
    "        TxField.FLD_ID,\n",
    "        Patient.Last_Name,\n",
    "        Patient.First_Name,\n",
    "        Tracktreatment.WasQAMode,\n",
    "        TxField.Type_Enum,\n",
    "        Tracktreatment.WasBeamComplete,\n",
    "        TrackTreatment.Create_DtTm,\n",
    "        TrackTreatment.Sent_DtTm,\n",
    "        TrackTreatment.Edit_DtTm,\n",
    "        TrackTreatment.Resolved_DtTm,\n",
    "        TrackTreatment.WasBeamOn,\n",
    "        TrackTreatment.WasCanceled,\n",
    "        TrackTreatment.WasRecorded,\n",
    "        TrackTreatment.Edit_ID,\n",
    "        TrackTreatment.Create_ID,\n",
    "        TrackTreatment.DHS_ID\n",
    "    FROM TrackTreatment, Ident, Patient, TxField, Staff\n",
    "    WHERE\n",
    "        TrackTreatment.Pat_ID1 = Ident.Pat_ID1 AND\n",
    "        Patient.Pat_ID1 = Ident.Pat_ID1 AND\n",
    "        TrackTreatment.FLD_ID = TxField.FLD_ID AND\n",
    "        Staff.Staff_ID = TrackTreatment.Machine_ID_Staff_ID AND\n",
    "        REPLACE(Staff.Last_Name, ' ', '') = %(machine)s AND\n",
    "        TrackTreatment.Create_DtTm <= DATEADD(second, %(buffer)d, %(delivery_time)s) AND\n",
    "        TrackTreatment.Edit_DtTm >= DATEADD(second, -%(buffer)d, %(delivery_time)s) AND\n",
    "        TxField.Field_Label = %(field_label)s AND\n",
    "        TxField.Field_Name = %(field_name)s\n",
    "    \"\"\"\n",
    "\n",
    "parameters = {\n",
    "    \"buffer\": 12000,\n",
    "    \"machine\": machine,\n",
    "    \"delivery_time\": mosaiq_string_time,\n",
    "    \"field_label\": '1-3',\n",
    "    \"field_name\": '2 ARC VMAT #3-20',\n",
    "}\n",
    "\n",
    "with pymedphys.mosaiq.connect('msqsql') as cursor:\n",
    "    sql_result = pymedphys.mosaiq.execute(cursor, execute_string, parameters)\n",
    "\n",
    "    \n",
    "sql_result"
   ]
  },
  {
   "cell_type": "code",
   "execution_count": null,
   "metadata": {},
   "outputs": [],
   "source": []
  },
  {
   "cell_type": "code",
   "execution_count": null,
   "metadata": {},
   "outputs": [],
   "source": [
    "execute_string = \"\"\"\n",
    "    SELECT\n",
    "        Ident.IDA,\n",
    "        FLD_HST.FHS_ID,\n",
    "        FLD_HST.Create_DtTm,\n",
    "        FLD_HST.Edit_DtTm,\n",
    "        FLD_HST.Tx_DtTm,\n",
    "        FLD_HST.Control_Points,\n",
    "        FLD_HST.Meterset,\n",
    "        FLD_HST.Arc_Mu,\n",
    "        FLD_HST.SecondaryMeterset\n",
    "    FROM Ident, FLD_HST\n",
    "    WHERE\n",
    "        Ident.IDA = %(patient_id)s AND\n",
    "        FLD_HST.Pat_ID1 = Ident.Pat_ID1 AND\n",
    "        FLD_HST.Create_DtTm <= DATEADD(second, %(buffer)d, %(delivery_time)s) AND\n",
    "        FLD_HST.Edit_DtTm >= DATEADD(second, -%(buffer)d, %(delivery_time)s)\n",
    "    \"\"\"\n",
    "\n",
    "parameters = {\n",
    "    \"patient_id\": '015075',\n",
    "    \"buffer\": 12000,\n",
    "    \"machine\": machine,\n",
    "    \"delivery_time\": mosaiq_string_time,\n",
    "    \"field_label\": '1-3',\n",
    "    \"field_name\": '2 ARC VMAT #3-20',\n",
    "}\n",
    "\n",
    "with pymedphys.mosaiq.connect('msqsql') as cursor:\n",
    "    sql_result = pymedphys.mosaiq.execute(cursor, execute_string, parameters)\n",
    "\n",
    "    \n",
    "sql_result"
   ]
  },
  {
   "cell_type": "code",
   "execution_count": null,
   "metadata": {},
   "outputs": [],
   "source": [
    "execute_string = \"\"\"\n",
    "    SELECT\n",
    "        Ident.IDA,\n",
    "        FLD_HST.FHS_ID,\n",
    "        FLD_HST.Create_DtTm,\n",
    "        FLD_HST.Edit_DtTm,\n",
    "        FLD_HST.Tx_DtTm,\n",
    "        TxFieldPoint_Hst.Create_DtTm,\n",
    "        TxFieldPoint_Hst.Edit_DtTm,\n",
    "        TxFieldPoint_Hst.Tx_DtTm,\n",
    "        TxFieldPoint_Hst.Couch_Lat,\n",
    "        TxFieldPoint_Hst.Couch_Lng,\n",
    "        TxFieldPoint_Hst.Couch_Vrt\n",
    "    FROM Ident, FLD_HST, TxFieldPoint_Hst\n",
    "    WHERE\n",
    "        Ident.IDA = %(patient_id)s AND\n",
    "        FLD_HST.Pat_ID1 = Ident.Pat_ID1 AND\n",
    "        TxFieldPoint_Hst.FHS_ID = FLD_HST.FHS_ID AND\n",
    "        FLD_HST.Create_DtTm <= DATEADD(second, %(buffer)d, %(delivery_time)s) AND\n",
    "        FLD_HST.Edit_DtTm >= DATEADD(second, -%(buffer)d, %(delivery_time)s)\n",
    "    \"\"\"\n",
    "\n",
    "parameters = {\n",
    "    \"patient_id\": '015075',\n",
    "    \"buffer\": 12000,\n",
    "    \"machine\": 'machine',\n",
    "    \"delivery_time\": mosaiq_string_time,\n",
    "    \"field_label\": '1-3',\n",
    "    \"field_name\": '2 ARC VMAT #3-20',\n",
    "}\n",
    "\n",
    "with pymedphys.mosaiq.connect('msqsql') as cursor:\n",
    "    sql_result = pymedphys.mosaiq.execute(cursor, execute_string, parameters)\n",
    "\n",
    "    \n",
    "sql_result"
   ]
  },
  {
   "cell_type": "code",
   "execution_count": null,
   "metadata": {},
   "outputs": [],
   "source": []
  }
 ],
 "metadata": {
  "kernelspec": {
   "display_name": "pymedphys-master",
   "language": "python",
   "name": "pymedphys-master"
  },
  "language_info": {
   "codemirror_mode": {
    "name": "ipython",
    "version": 3
   },
   "file_extension": ".py",
   "mimetype": "text/x-python",
   "name": "python",
   "nbconvert_exporter": "python",
   "pygments_lexer": "ipython3",
   "version": "3.7.0"
  }
 },
 "nbformat": 4,
 "nbformat_minor": 4
}
