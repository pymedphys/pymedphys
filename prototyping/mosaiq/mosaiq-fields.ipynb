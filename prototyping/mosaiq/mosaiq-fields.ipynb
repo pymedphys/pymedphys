{
 "cells": [
  {
   "cell_type": "code",
   "execution_count": null,
   "metadata": {},
   "outputs": [],
   "source": [
    "!pip install pymedphys[user]==0.33.0"
   ]
  },
  {
   "cell_type": "code",
   "execution_count": null,
   "metadata": {},
   "outputs": [],
   "source": [
    "import numpy as np\n",
    "import pandas as pd\n",
    "import matplotlib.pyplot as plt\n",
    "\n",
    "import pymedphys"
   ]
  },
  {
   "cell_type": "code",
   "execution_count": null,
   "metadata": {},
   "outputs": [],
   "source": [
    "FIELD_TYPES = {\n",
    "    0: \"Unspecified\",\n",
    "    1: \"Static\",\n",
    "    2: \"StepNShoot\",\n",
    "    3: \"Setup\",\n",
    "    4: \"kV Setup\",\n",
    "    5: \"CT\",\n",
    "    6: \"Port\",\n",
    "    7: \"Fixed\",\n",
    "    8: \"Dynamic\",\n",
    "    9: \"MV CT\",\n",
    "    11: \"Arc\",\n",
    "    12: \"Skip Arcs\",\n",
    "    13: \"VMAT\",\n",
    "    14: \"DMLC\",\n",
    "    15: \"Helical\",\n",
    "    16: \"Fixed Angle\",\n",
    "    17: \"Path\",\n",
    "    18: \"Shot\",\n",
    "    20: \"User Defined\",\n",
    "    21: \"PDR\",\n",
    "}"
   ]
  },
  {
   "cell_type": "code",
   "execution_count": null,
   "metadata": {},
   "outputs": [],
   "source": [
    "def get_patient_name(cursor, patient_id):\n",
    "    patient_id = str(patient_id)\n",
    "\n",
    "    patient_name_results = pymedphys.mosaiq.execute(\n",
    "        cursor,\n",
    "        \"\"\"\n",
    "        SELECT\n",
    "            Patient.Last_Name,\n",
    "            Patient.First_Name\n",
    "        FROM Ident, Patient\n",
    "        WHERE\n",
    "            Patient.Pat_ID1 = Ident.Pat_ID1 AND\n",
    "            Ident.IDA = %(patient_id)s\n",
    "        \"\"\",\n",
    "        {\"patient_id\": patient_id},\n",
    "    )\n",
    "\n",
    "    table = pd.DataFrame(data=patient_name_results, columns=[\"last_name\", \"first_name\"])\n",
    "    table.drop_duplicates(inplace=True)\n",
    "\n",
    "    if len(table.index) < 1:\n",
    "        raise ValueError(\"No patient found with that ID\")\n",
    "\n",
    "    if len(table.index) > 1:\n",
    "        raise ValueError(\"Multiple patients were found with that ID\")\n",
    "\n",
    "    series = table.iloc[0]\n",
    "\n",
    "    last_name = series[\"last_name\"]\n",
    "    first_name = series[\"first_name\"]\n",
    "\n",
    "    return last_name, first_name"
   ]
  },
  {
   "cell_type": "code",
   "execution_count": null,
   "metadata": {},
   "outputs": [],
   "source": [
    "def get_patient_fields(cursor, patient_id):\n",
    "    \"\"\"Returns all of the patient fields for a given Patient ID.\n",
    "    \"\"\"\n",
    "    patient_id = str(patient_id)\n",
    "\n",
    "    patient_field_results = pymedphys.mosaiq.execute(\n",
    "        cursor,\n",
    "        \"\"\"\n",
    "        SELECT\n",
    "            TxField.FLD_ID,\n",
    "            TxField.Field_Label,\n",
    "            TxField.Field_Name,\n",
    "            TxField.Version,\n",
    "            TxField.Meterset,\n",
    "            TxField.Type_Enum,\n",
    "            Site.Site_Name\n",
    "        FROM Ident, TxField, Site\n",
    "        WHERE\n",
    "            TxField.Pat_ID1 = Ident.Pat_ID1 AND\n",
    "            TxField.SIT_Set_ID = Site.SIT_Set_ID AND\n",
    "            Ident.IDA = %(patient_id)s\n",
    "        \"\"\",\n",
    "        {\"patient_id\": patient_id},\n",
    "    )\n",
    "\n",
    "    table = pd.DataFrame(\n",
    "        data=patient_field_results,\n",
    "        columns=[\n",
    "            \"field_id\",\n",
    "            \"field_label\",\n",
    "            \"field_name\",\n",
    "            \"field_version\",\n",
    "            \"monitor_units\",\n",
    "            \"field_type\",\n",
    "            \"site\",\n",
    "        ],\n",
    "    )\n",
    "\n",
    "    table.drop_duplicates(inplace=True)\n",
    "\n",
    "    table[\"field_type\"] = [FIELD_TYPES[item] for item in table[\"field_type\"]]\n",
    "\n",
    "    return table"
   ]
  },
  {
   "cell_type": "code",
   "execution_count": null,
   "metadata": {},
   "outputs": [],
   "source": [
    "mosaiq_hostname = 'msqsql'\n",
    "patient_id = '979797'"
   ]
  },
  {
   "cell_type": "code",
   "execution_count": null,
   "metadata": {},
   "outputs": [],
   "source": [
    "with pymedphys.mosaiq.connect(mosaiq_hostname) as cursor:\n",
    "    patient_name = get_patient_name(cursor, patient_id)\n",
    "    fields = get_patient_fields(cursor, patient_id)"
   ]
  },
  {
   "cell_type": "code",
   "execution_count": null,
   "metadata": {},
   "outputs": [],
   "source": [
    "patient_name"
   ]
  },
  {
   "cell_type": "code",
   "execution_count": null,
   "metadata": {},
   "outputs": [],
   "source": [
    "fields"
   ]
  },
  {
   "cell_type": "code",
   "execution_count": null,
   "metadata": {},
   "outputs": [],
   "source": [
    "field_id = str(fields.field_id[0])\n",
    "field_id"
   ]
  },
  {
   "cell_type": "code",
   "execution_count": null,
   "metadata": {},
   "outputs": [],
   "source": [
    "with pymedphys.mosaiq.connect(mosaiq_hostname) as cursor:\n",
    "    delivery = pymedphys.Delivery.from_mosaiq(cursor, field_id)"
   ]
  },
  {
   "cell_type": "code",
   "execution_count": null,
   "metadata": {},
   "outputs": [],
   "source": [
    "plt.plot(delivery.mu, delivery.gantry)"
   ]
  },
  {
   "cell_type": "code",
   "execution_count": null,
   "metadata": {},
   "outputs": [],
   "source": [
    "mu = np.array(delivery.mu)\n",
    "mu.shape"
   ]
  },
  {
   "cell_type": "code",
   "execution_count": null,
   "metadata": {},
   "outputs": [],
   "source": [
    "mlc = np.array(delivery.mlc)"
   ]
  },
  {
   "cell_type": "code",
   "execution_count": null,
   "metadata": {},
   "outputs": [],
   "source": [
    "mlc.shape"
   ]
  },
  {
   "cell_type": "code",
   "execution_count": null,
   "metadata": {},
   "outputs": [],
   "source": [
    "leaves_to_plot = [10, 36, 40, 55, 70]\n",
    "\n",
    "for leaf_pair_number in leaves_to_plot:\n",
    "    plt.figure()\n",
    "    plt.title(f\"Leaf pair number {leaf_pair_number}\")\n",
    "    plt.plot(mu, mlc[:,leaf_pair_number - 1, 0])\n",
    "    plt.plot(mu, -mlc[:,leaf_pair_number - 1, 1])"
   ]
  },
  {
   "cell_type": "code",
   "execution_count": null,
   "metadata": {},
   "outputs": [],
   "source": [
    "jaw = np.array(delivery.jaw)\n",
    "plt.plot(mu, jaw[:,0])\n",
    "plt.plot(mu, -jaw[:,1])"
   ]
  },
  {
   "cell_type": "code",
   "execution_count": null,
   "metadata": {},
   "outputs": [],
   "source": [
    "mudensity = delivery.mudensity()"
   ]
  },
  {
   "cell_type": "code",
   "execution_count": null,
   "metadata": {},
   "outputs": [],
   "source": [
    "grid = pymedphys.mudensity.grid()\n",
    "pymedphys.mudensity.display(grid, mudensity)"
   ]
  }
 ],
 "metadata": {
  "kernelspec": {
   "display_name": "Python 3",
   "language": "python",
   "name": "python3"
  },
  "language_info": {
   "codemirror_mode": {
    "name": "ipython",
    "version": 3
   },
   "file_extension": ".py",
   "mimetype": "text/x-python",
   "name": "python",
   "nbconvert_exporter": "python",
   "pygments_lexer": "ipython3",
   "version": "3.7.0"
  }
 },
 "nbformat": 4,
 "nbformat_minor": 4
}
