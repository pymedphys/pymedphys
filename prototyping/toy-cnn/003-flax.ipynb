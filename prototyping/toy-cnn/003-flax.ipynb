{
 "cells": [
  {
   "cell_type": "code",
   "execution_count": null,
   "metadata": {},
   "outputs": [],
   "source": [
    "# From https://flax.readthedocs.io/en/latest/|annotated_mnist.html\n",
    "\n",
    "import jax\n",
    "import flax"
   ]
  },
  {
   "cell_type": "code",
   "execution_count": null,
   "metadata": {},
   "outputs": [],
   "source": [
    "import numpy as onp"
   ]
  },
  {
   "cell_type": "code",
   "execution_count": null,
   "metadata": {},
   "outputs": [],
   "source": [
    "import jax.numpy as jnp"
   ]
  },
  {
   "cell_type": "code",
   "execution_count": null,
   "metadata": {},
   "outputs": [],
   "source": [
    "import tensorflow as tf\n",
    "import tensorflow_datasets as tfds"
   ]
  },
  {
   "cell_type": "code",
   "execution_count": null,
   "metadata": {},
   "outputs": [],
   "source": []
  },
  {
   "cell_type": "code",
   "execution_count": null,
   "metadata": {},
   "outputs": [],
   "source": []
  },
  {
   "cell_type": "code",
   "execution_count": null,
   "metadata": {},
   "outputs": [],
   "source": []
  },
  {
   "cell_type": "code",
   "execution_count": null,
   "metadata": {},
   "outputs": [],
   "source": []
  },
  {
   "cell_type": "code",
   "execution_count": null,
   "metadata": {},
   "outputs": [],
   "source": []
  },
  {
   "cell_type": "code",
   "execution_count": null,
   "metadata": {},
   "outputs": [],
   "source": [
    "class CNN(flax.nn.Module):\n",
    "    def apply(self, x):\n",
    "        x = flax.nn.Conv(x, features=32, kernel_size=(3, 3))\n",
    "        x = flax.nn.relu(x)\n",
    "        x = flax.nn.avg_pool(x, window_shape=(2, 2), strides=(2, 2))\n",
    "        x = flax.nn.Conv(x, features=64, kernel_size=(3, 3))\n",
    "        x = flax.nn.relu(x)\n",
    "        x = flax.nn.avg_pool(x, window_shape=(2, 2), strides=(2, 2))\n",
    "        x = x.reshape((x.shape[0], -1))\n",
    "        x = flax.nn.Dense(x, features=256)\n",
    "        x = flax.nn.relu(x)\n",
    "        x = flax.nn.Dense(x, features=10)\n",
    "        x = flax.nn.log_softmax(x)\n",
    "        return x"
   ]
  },
  {
   "cell_type": "code",
   "execution_count": null,
   "metadata": {},
   "outputs": [],
   "source": [
    "@jax.vmap\n",
    "def cross_entropy_loss(logits, label):\n",
    "    return -logits[label]"
   ]
  },
  {
   "cell_type": "code",
   "execution_count": null,
   "metadata": {},
   "outputs": [],
   "source": [
    "def compute_metrics(logits, labels):\n",
    "    loss = jnp.mean(cross_entropy_loss(logits, labels))\n",
    "    accuracy = jnp.mean(jnp.argmax(logits, -1) == labels)\n",
    "    return {'loss': loss, 'accuracy': accuracy}"
   ]
  },
  {
   "cell_type": "code",
   "execution_count": null,
   "metadata": {},
   "outputs": [],
   "source": [
    "@jax.jit\n",
    "def train_step(optimizer, batch):\n",
    "    def loss_fn(model):\n",
    "        logits = model(batch['image'])\n",
    "        loss = jnp.mean(cross_entropy_loss(\n",
    "            logits, batch['label']))\n",
    "        return loss\n",
    "    grad = jax.grad(loss_fn)(optimizer.target)\n",
    "    optimizer = optimizer.apply_gradient(grad)\n",
    "    return optimizer"
   ]
  },
  {
   "cell_type": "code",
   "execution_count": null,
   "metadata": {},
   "outputs": [],
   "source": [
    "@jax.jit\n",
    "def eval(model, eval_ds):\n",
    "    logits = model(eval_ds['image'] / 255.0)\n",
    "    return compute_metrics(logits, eval_ds['label'])"
   ]
  },
  {
   "cell_type": "code",
   "execution_count": null,
   "metadata": {},
   "outputs": [],
   "source": [
    "train_ds = tfds.load('mnist', split=tfds.Split.TRAIN)\n",
    "train_ds = train_ds.map(\n",
    "    lambda x: {\n",
    "        'image': tf.cast(x['image'], tf.float32),\n",
    "        'label': tf.cast(x['label'], tf.int32)\n",
    "    })\n",
    "\n",
    "train_ds = train_ds.cache().shuffle(1000).batch(128)\n",
    "test_ds = tfds.as_numpy(tfds.load(\n",
    "    'mnist', split=tfds.Split.TEST, batch_size=-1))\n",
    "test_ds = {\n",
    "    'image': test_ds['image'].astype(jnp.float32),\n",
    "    'label': test_ds['label'].astype(jnp.int32)\n",
    "}"
   ]
  },
  {
   "cell_type": "code",
   "execution_count": null,
   "metadata": {},
   "outputs": [],
   "source": [
    "_, initial_params = CNN.init_by_shape(\n",
    "    jax.random.PRNGKey(0),\n",
    "    [((1, 28, 28, 1), jnp.float32)]\n",
    ")\n",
    "\n",
    "model = flax.nn.Model(CNN, initial_params)\n",
    "\n",
    "optimizer = flax.optim.Momentum(\n",
    "    learning_rate=0.1, beta=0.9).create(model)"
   ]
  },
  {
   "cell_type": "code",
   "execution_count": null,
   "metadata": {},
   "outputs": [],
   "source": [
    "for epoch in range(10):\n",
    "    for batch in tfds.as_numpy(train_ds):\n",
    "        batch['image'] = batch['image'] / 255.0\n",
    "        optimizer = train_step(optimizer, batch)\n",
    "\n",
    "    metrics = eval(optimizer.target, test_ds)\n",
    "\n",
    "    print(\n",
    "        'eval epoch: %d, loss: %.4f, accuracy: %.2f'\n",
    "         % (\n",
    "             epoch+1, \n",
    "             metrics['loss'], metrics['accuracy'] * 100\n",
    "         )\n",
    "    )"
   ]
  },
  {
   "cell_type": "code",
   "execution_count": null,
   "metadata": {},
   "outputs": [],
   "source": []
  }
 ],
 "metadata": {
  "kernelspec": {
   "display_name": "pymedphys-master",
   "language": "python",
   "name": "pymedphys-master"
  },
  "language_info": {
   "codemirror_mode": {
    "name": "ipython",
    "version": 3
   },
   "file_extension": ".py",
   "mimetype": "text/x-python",
   "name": "python",
   "nbconvert_exporter": "python",
   "pygments_lexer": "ipython3",
   "version": "3.7.8"
  }
 },
 "nbformat": 4,
 "nbformat_minor": 4
}
