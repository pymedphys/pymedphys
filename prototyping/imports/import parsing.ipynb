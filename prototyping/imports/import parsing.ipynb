{
 "cells": [
  {
   "cell_type": "code",
   "execution_count": null,
   "metadata": {},
   "outputs": [],
   "source": [
    "import ast"
   ]
  },
  {
   "cell_type": "code",
   "execution_count": null,
   "metadata": {},
   "outputs": [],
   "source": [
    "import_with_from = \"\"\"\n",
    "from boo import hoo\n",
    "\"\"\""
   ]
  },
  {
   "cell_type": "code",
   "execution_count": null,
   "metadata": {},
   "outputs": [],
   "source": [
    "import_string = \"\"\"\n",
    "import attr\n",
    "import dateutil\n",
    "import dbfread\n",
    "import keyring\n",
    "import libjpeg\n",
    "import packaging\n",
    "import pymssql\n",
    "import pynetdicom\n",
    "import requests\n",
    "import shapely\n",
    "import shapely.affinity\n",
    "import shapely.geometry\n",
    "import shapely.ops\n",
    "import streamlit\n",
    "import timeago\n",
    "import tkinter\n",
    "import tkinter.filedialog\n",
    "import toml\n",
    "import tqdm\n",
    "import watchdog\n",
    "import watchdog.events\n",
    "import watchdog.observers\n",
    "import watchdog.observers.polling\n",
    "import yaml\n",
    "\n",
    "import numpy\n",
    "import pandas\n",
    "import scipy\n",
    "import scipy.interpolate\n",
    "import scipy.ndimage\n",
    "import scipy.ndimage.measurements\n",
    "import scipy.optimize\n",
    "import scipy.signal\n",
    "import scipy.special\n",
    "\n",
    "import matplotlib\n",
    "import matplotlib.patches\n",
    "import matplotlib.path\n",
    "import matplotlib.pyplot\n",
    "import matplotlib.pyplot as plt\n",
    "import matplotlib.transforms\n",
    "import mpl_toolkits\n",
    "import mpl_toolkits.mplot3d.art3d\n",
    "\n",
    "import imageio\n",
    "import PIL\n",
    "import skimage\n",
    "import skimage.draw\n",
    "import skimage.measure\n",
    "\n",
    "import pydicom\n",
    "import pydicom.dataset\n",
    "import pydicom.filebase\n",
    "import pydicom.sequence\n",
    "import pydicom.uid\n",
    "\"\"\""
   ]
  },
  {
   "cell_type": "code",
   "execution_count": null,
   "metadata": {},
   "outputs": [],
   "source": [
    "ast.Import"
   ]
  },
  {
   "cell_type": "code",
   "execution_count": null,
   "metadata": {},
   "outputs": [],
   "source": [
    "ast.alias"
   ]
  },
  {
   "cell_type": "code",
   "execution_count": null,
   "metadata": {},
   "outputs": [],
   "source": [
    "for node in ast.parse(import_with_from).body:\n",
    "    if not isinstance(node, ast.Import):\n",
    "        raise ValueError(\"Only direct import statements are supported\")\n",
    "        \n",
    "    print(ast.dump(node))"
   ]
  },
  {
   "cell_type": "code",
   "execution_count": null,
   "metadata": {},
   "outputs": [],
   "source": [
    "imports_for_apipkg = {}\n",
    "\n",
    "for node in ast.parse(import_string).body:\n",
    "    if not isinstance(node, ast.Import):\n",
    "        raise ValueError(\"Only direct import statements are supported\")\n",
    "        \n",
    "    aliased = list(node.names)\n",
    "    if len(aliased) != 1:\n",
    "        raise ValueError(\"Only one alias per import supported\")\n",
    "        \n",
    "    alias = aliased[0]\n",
    "    asname = alias.asname\n",
    "    \n",
    "    if asname is None:\n",
    "        asname = alias.name\n",
    "        \n",
    "    imports_for_apipkg[asname] = alias.name\n",
    "    \n",
    "    \n",
    "imports_for_apipkg"
   ]
  },
  {
   "cell_type": "code",
   "execution_count": null,
   "metadata": {},
   "outputs": [],
   "source": []
  }
 ],
 "metadata": {
  "kernelspec": {
   "display_name": "pymedphys-master",
   "language": "python",
   "name": "pymedphys-master"
  },
  "language_info": {
   "codemirror_mode": {
    "name": "ipython",
    "version": 3
   },
   "file_extension": ".py",
   "mimetype": "text/x-python",
   "name": "python",
   "nbconvert_exporter": "python",
   "pygments_lexer": "ipython3",
   "version": "3.7.8"
  }
 },
 "nbformat": 4,
 "nbformat_minor": 4
}
