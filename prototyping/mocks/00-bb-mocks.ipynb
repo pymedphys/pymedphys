{
 "cells": [
  {
   "cell_type": "code",
   "execution_count": null,
   "metadata": {},
   "outputs": [],
   "source": [
    "import warnings"
   ]
  },
  {
   "cell_type": "code",
   "execution_count": null,
   "metadata": {},
   "outputs": [],
   "source": [
    "import numpy as np\n",
    "import matplotlib.pyplot as plt"
   ]
  },
  {
   "cell_type": "code",
   "execution_count": null,
   "metadata": {},
   "outputs": [],
   "source": [
    "# Makes it so any changes in pymedphys is automatically\n",
    "# propagated into the notebook without needing a kernel reset.\n",
    "from IPython.lib.deepreload import reload\n",
    "%load_ext autoreload\n",
    "%autoreload 2"
   ]
  },
  {
   "cell_type": "code",
   "execution_count": null,
   "metadata": {},
   "outputs": [],
   "source": [
    "from pymedphys._mocks import profiles"
   ]
  },
  {
   "cell_type": "code",
   "execution_count": null,
   "metadata": {},
   "outputs": [],
   "source": [
    "field_centre = [0, 0]\n",
    "side_lengths = [20, 24]\n",
    "penumbra_width = 2\n",
    "rotation = 20\n",
    "\n",
    "field = profiles.create_rectangular_field_function(\n",
    "    field_centre, side_lengths, penumbra_width, rotation)"
   ]
  },
  {
   "cell_type": "code",
   "execution_count": null,
   "metadata": {},
   "outputs": [],
   "source": [
    "def show_field_with_profiles(field):\n",
    "    x = np.arange(-20, 20.1, 0.1)\n",
    "    xx, yy = np.meshgrid(x, x)\n",
    "    \n",
    "    plt.figure()\n",
    "    plt.pcolormesh(xx, yy, field(xx, yy))\n",
    "    plt.axis('equal')\n",
    "    \n",
    "    plt.figure()\n",
    "    plt.plot(x, field(x, 0))\n",
    "    \n",
    "    plt.figure()\n",
    "    plt.plot(x, field(0, x))\n",
    "    \n",
    "    \n",
    "show_field_with_profiles(field)"
   ]
  },
  {
   "cell_type": "code",
   "execution_count": null,
   "metadata": {},
   "outputs": [],
   "source": [
    "t = np.linspace(0, 2*np.pi)\n",
    "plt.plot(np.sin(t), np.cos(t))\n",
    "plt.axis('equal')"
   ]
  },
  {
   "cell_type": "code",
   "execution_count": null,
   "metadata": {},
   "outputs": [],
   "source": [
    "x = np.linspace(-1, 1, 100)\n",
    "y = np.sqrt(1 - x**2)\n",
    "\n",
    "plt.plot(x, y)\n",
    "plt.axis('equal')"
   ]
  },
  {
   "cell_type": "code",
   "execution_count": null,
   "metadata": {},
   "outputs": [],
   "source": [
    "bb_diameter = 8\n",
    "\n",
    "x = np.linspace(0, bb_diameter + 4, 1000)\n",
    "y = np.sqrt(bb_diameter**2 - x**2) / bb_diameter\n",
    "\n",
    "y[np.isnan(y)] = 0\n",
    "\n",
    "plt.plot(x, y)\n",
    "plt.plot(x + penumbra_width/3, y)"
   ]
  },
  {
   "cell_type": "code",
   "execution_count": null,
   "metadata": {},
   "outputs": [],
   "source": [
    "import sympy"
   ]
  },
  {
   "cell_type": "code",
   "execution_count": null,
   "metadata": {},
   "outputs": [],
   "source": [
    "# From https://codereview.stackexchange.com/a/202614\n",
    "def convolve(f, g, t, lower_limit=-sympy.oo, upper_limit=sympy.oo):\n",
    "    tau = sympy.Symbol('__very_unlikely_name__', real=True)\n",
    "    return sympy.integrate(f.subs(t, tau) * g.subs(t, t - tau), \n",
    "                     (tau, lower_limit, upper_limit))"
   ]
  },
  {
   "cell_type": "code",
   "execution_count": null,
   "metadata": {},
   "outputs": [],
   "source": [
    "x = sympy.Symbol('x')\n",
    "r = sympy.Symbol('r')\n",
    "circle = sympy.sqrt(r - x**2)\n",
    "\n",
    "y = sympy.Symbol('y')\n",
    "sig = sympy.Symbol('\\sigma')\n",
    "mu = sympy.Symbol('\\mu')\n",
    "\n",
    "gauss = 1/(sig * sympy.sqrt(2*sympy.pi)) * sympy.exp(-1/2 * ((y - mu) / sig)**2)\n",
    "\n",
    "\n",
    "gauss"
   ]
  },
  {
   "cell_type": "code",
   "execution_count": null,
   "metadata": {},
   "outputs": [],
   "source": [
    "circle"
   ]
  },
  {
   "cell_type": "code",
   "execution_count": null,
   "metadata": {},
   "outputs": [],
   "source": [
    "# convolve(circle, gauss, 0.5, 0, 1)"
   ]
  },
  {
   "cell_type": "code",
   "execution_count": null,
   "metadata": {},
   "outputs": [],
   "source": [
    "import scipy.ndimage"
   ]
  },
  {
   "cell_type": "code",
   "execution_count": null,
   "metadata": {},
   "outputs": [],
   "source": [
    "def create_bb_attenuation_func(diameter, penumbra, max_attenuation):\n",
    "    dx = diameter / 100\n",
    "    radius = diameter / 2\n",
    "    image_half_width = penumbra * 2 + radius\n",
    "    \n",
    "    x = np.arange(-image_half_width, image_half_width + dx, dx)\n",
    "    xx, yy = np.meshgrid(x, x)\n",
    "    \n",
    "    with warnings.catch_warnings():\n",
    "        warnings.simplefilter(\"ignore\")\n",
    "        z = np.sqrt(bb_radius**2 - xx**2 - yy**2) / bb_radius\n",
    "\n",
    "    z[np.isnan(z)] = 0\n",
    "    \n",
    "    sig = profiles.scaled_penumbra_sig() * penumbra\n",
    "    sig_pixel = sig / dx\n",
    "    \n",
    "    filtered = scipy.ndimage.gaussian_filter(z, sig_pixel)\n",
    "    interp = scipy.interpolate.RegularGridInterpolator((x, x), filtered, bounds_error=False, fill_value=None)\n",
    "    \n",
    "    def bb_attenuation(x, y):        \n",
    "        return 1 - bb_interp((x, y)) * max_attenuation\n",
    "    \n",
    "    return bb_attenuation"
   ]
  },
  {
   "cell_type": "code",
   "execution_count": null,
   "metadata": {},
   "outputs": [],
   "source": [
    "dx = 0.1\n",
    "\n",
    "bb_radius = bb_diameter / 2\n",
    "bb_penumbra = penumbra_width / 3\n",
    "image_half_width = bb_penumbra * 2 + bb_radius\n",
    "\n",
    "x = np.arange(-image_half_width, image_half_width + dx, dx)\n",
    "xx, yy = np.meshgrid(x, x)\n",
    "\n",
    "z = np.sqrt(bb_radius**2 - xx**2 - yy**2) / bb_radius\n",
    "z[np.isnan(z)] = 0\n",
    "\n",
    "plt.pcolormesh(xx, yy, z)\n",
    "plt.axis('equal')\n",
    "plt.colorbar()"
   ]
  },
  {
   "cell_type": "code",
   "execution_count": null,
   "metadata": {},
   "outputs": [],
   "source": [
    "sig = profiles.scaled_penumbra_sig() * bb_penumbra\n",
    "sig_pixel = sig / dx"
   ]
  },
  {
   "cell_type": "code",
   "execution_count": null,
   "metadata": {},
   "outputs": [],
   "source": [
    "filtered = scipy.ndimage.gaussian_filter(z, sig_pixel)\n",
    "plt.pcolormesh(xx, yy, filtered)\n",
    "plt.axis('equal')"
   ]
  },
  {
   "cell_type": "code",
   "execution_count": null,
   "metadata": {},
   "outputs": [],
   "source": [
    "bb_interp = scipy.interpolate.RegularGridInterpolator((x, x), filtered, bounds_error=False, fill_value=None)"
   ]
  },
  {
   "cell_type": "code",
   "execution_count": null,
   "metadata": {},
   "outputs": [],
   "source": [
    "result = bb_interp((xx, yy))\n",
    "plt.pcolormesh(xx, yy, result)\n",
    "plt.colorbar()\n",
    "plt.axis('equal')"
   ]
  },
  {
   "cell_type": "code",
   "execution_count": null,
   "metadata": {},
   "outputs": [],
   "source": [
    "bb_attenuation = 0.3\n",
    "result = 1 - bb_interp((xx, yy)) * bb_attenuation\n",
    "\n",
    "plt.pcolormesh(xx, yy, result)\n",
    "plt.colorbar()\n",
    "plt.axis('equal')"
   ]
  },
  {
   "cell_type": "code",
   "execution_count": null,
   "metadata": {},
   "outputs": [],
   "source": [
    "bb_attenuation_map = create_bb_attenuation_func(bb_diameter, penumbra_width/3, bb_attenuation)\n",
    "\n",
    "result = bb_attenuation_map(xx, yy)\n",
    "\n",
    "plt.pcolormesh(xx, yy, result)\n",
    "plt.colorbar()\n",
    "plt.axis('equal')"
   ]
  },
  {
   "cell_type": "code",
   "execution_count": null,
   "metadata": {},
   "outputs": [],
   "source": [
    "field_centre = [0, 0]\n",
    "side_lengths = [20, 24]\n",
    "penumbra_width = 2\n",
    "rotation = 20\n",
    "\n",
    "bb_centre = [2, 2]\n",
    "bb_diameter = 8\n",
    "bb_attenuation = 0.3\n",
    "\n",
    "\n",
    "def create_field_with_bb_func(field_centre, bb_centre, side_lengths, bb_diameter, penumbra_width, rotation, bb_attenuation):\n",
    "    field = profiles.create_rectangular_field_function(\n",
    "        field_centre, side_lengths, penumbra_width, rotation)\n",
    "    \n",
    "    bb_penumbra = penumbra_width / 3\n",
    "    bb_attenuation_map = create_bb_attenuation_func(bb_diameter, bb_penumbra, bb_attenuation)\n",
    "    \n",
    "    def field_with_bb(x, y):\n",
    "        return field(x, y) * bb_attenuation_map(x - bb_centre[0], y - bb_centre[1])\n",
    "    \n",
    "    return field_with_bb\n",
    "\n",
    "\n",
    "field_with_bb = create_field_with_bb_func(field_centre, bb_centre, side_lengths, bb_diameter, penumbra_width, rotation, bb_attenuation)"
   ]
  },
  {
   "cell_type": "code",
   "execution_count": null,
   "metadata": {},
   "outputs": [],
   "source": [
    "show_field_with_profiles(field_with_bb)"
   ]
  }
 ],
 "metadata": {
  "kernelspec": {
   "display_name": "pymedphys-master",
   "language": "python",
   "name": "pymedphys-master"
  },
  "language_info": {
   "codemirror_mode": {
    "name": "ipython",
    "version": 3
   },
   "file_extension": ".py",
   "mimetype": "text/x-python",
   "name": "python",
   "nbconvert_exporter": "python",
   "pygments_lexer": "ipython3",
   "version": "3.8.2"
  }
 },
 "nbformat": 4,
 "nbformat_minor": 4
}
