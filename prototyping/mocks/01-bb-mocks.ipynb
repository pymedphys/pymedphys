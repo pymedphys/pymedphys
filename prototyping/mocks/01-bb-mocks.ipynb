{
 "cells": [
  {
   "cell_type": "code",
   "execution_count": null,
   "metadata": {},
   "outputs": [],
   "source": [
    "import warnings"
   ]
  },
  {
   "cell_type": "code",
   "execution_count": null,
   "metadata": {},
   "outputs": [],
   "source": [
    "import numpy as np\n",
    "import matplotlib.pyplot as plt"
   ]
  },
  {
   "cell_type": "code",
   "execution_count": null,
   "metadata": {},
   "outputs": [],
   "source": [
    "# Makes it so any changes in pymedphys is automatically\n",
    "# propagated into the notebook without needing a kernel reset.\n",
    "from IPython.lib.deepreload import reload\n",
    "%load_ext autoreload\n",
    "%autoreload 2"
   ]
  },
  {
   "cell_type": "code",
   "execution_count": null,
   "metadata": {},
   "outputs": [],
   "source": [
    "from pymedphys._mocks import profiles, bb"
   ]
  },
  {
   "cell_type": "code",
   "execution_count": null,
   "metadata": {},
   "outputs": [],
   "source": [
    "def show_field_with_profiles(field):\n",
    "    x = np.arange(-20, 20.1, 0.1)\n",
    "    xx, yy = np.meshgrid(x, x)\n",
    "    \n",
    "    plt.figure()\n",
    "    plt.pcolormesh(xx, yy, field(xx, yy))\n",
    "    plt.axis('equal')\n",
    "    \n",
    "    plt.figure()\n",
    "    plt.plot(x, field(x, 0))\n",
    "    \n",
    "    plt.figure()\n",
    "    plt.plot(x, field(0, x))"
   ]
  },
  {
   "cell_type": "code",
   "execution_count": null,
   "metadata": {},
   "outputs": [],
   "source": [
    "field_centre = [0, 0]\n",
    "field_side_lengths = [20, 24]\n",
    "field_penumbra = 2\n",
    "field_rotation = 20\n",
    "\n",
    "bb_centre = [2, 2]\n",
    "bb_diameter = 8\n",
    "bb_max_attenuation = 0.3\n",
    "\n",
    "field_with_bb = bb.create_field_with_bb_func(\n",
    "    field_centre,\n",
    "    field_side_lengths,\n",
    "    field_penumbra,\n",
    "    field_rotation,\n",
    "    bb_centre,\n",
    "    bb_diameter,\n",
    "    bb_max_attenuation,\n",
    ")\n",
    "show_field_with_profiles(field_with_bb)"
   ]
  },
  {
   "cell_type": "code",
   "execution_count": null,
   "metadata": {},
   "outputs": [],
   "source": []
  }
 ],
 "metadata": {
  "kernelspec": {
   "display_name": "pymedphys-master",
   "language": "python",
   "name": "pymedphys-master"
  },
  "language_info": {
   "codemirror_mode": {
    "name": "ipython",
    "version": 3
   },
   "file_extension": ".py",
   "mimetype": "text/x-python",
   "name": "python",
   "nbconvert_exporter": "python",
   "pygments_lexer": "ipython3",
   "version": "3.8.2"
  }
 },
 "nbformat": 4,
 "nbformat_minor": 4
}
