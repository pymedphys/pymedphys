{
 "cells": [
  {
   "cell_type": "code",
   "execution_count": null,
   "metadata": {},
   "outputs": [],
   "source": [
    "import numpy as np\n",
    "import matplotlib.pyplot as plt\n",
    "\n",
    "import shapely.geometry\n",
    "\n",
    "from pymedphys._dicom.create import dicom_dataset_from_dict\n",
    "from pymedphys._dicom.coords import xyz_axes_from_dataset\n",
    "from pymedphys._dicom.dose import get_dose_grid_structure_mask"
   ]
  },
  {
   "cell_type": "code",
   "execution_count": null,
   "metadata": {},
   "outputs": [],
   "source": [
    "dx = 0.1\n",
    "dy = 0.2\n",
    "\n",
    "x0 = -1\n",
    "y0 = -1\n",
    "\n",
    "x_grid = np.arange(x0, 2, dx)\n",
    "y_grid = np.arange(y0, 3, dy)\n",
    "\n",
    "xx, yy = np.meshgrid(x_grid, y_grid)"
   ]
  },
  {
   "cell_type": "code",
   "execution_count": null,
   "metadata": {},
   "outputs": [],
   "source": [
    "xx_flat, yy_flat = xx.ravel(), yy.ravel()\n",
    "points = shapely.geometry.MultiPoint(list(zip(xx_flat, yy_flat)))\n",
    "points"
   ]
  },
  {
   "cell_type": "code",
   "execution_count": null,
   "metadata": {},
   "outputs": [],
   "source": [
    "contour_x = [0, 0, 1, 1]\n",
    "contour_y = [0, 2, 2, 0]\n",
    "\n",
    "contours = np.vstack([contour_x, contour_y]).T\n",
    "contours"
   ]
  },
  {
   "cell_type": "code",
   "execution_count": null,
   "metadata": {},
   "outputs": [],
   "source": [
    "rectangle = shapely.geometry.Polygon(contours)\n",
    "rectangle"
   ]
  },
  {
   "cell_type": "code",
   "execution_count": null,
   "metadata": {},
   "outputs": [],
   "source": [
    "points_within_rectangle = points.intersection(rectangle)\n",
    "points_within_rectangle"
   ]
  },
  {
   "cell_type": "code",
   "execution_count": null,
   "metadata": {},
   "outputs": [],
   "source": [
    "assert points_within_rectangle.within(rectangle)"
   ]
  },
  {
   "cell_type": "code",
   "execution_count": null,
   "metadata": {},
   "outputs": [],
   "source": [
    "mask = np.zeros_like(xx).astype('bool')\n",
    "\n",
    "for point in points_within_rectangle:\n",
    "    coord = point.coords.xy\n",
    "    mask[np.logical_and(xx==coord[0], yy==coord[1])] = True\n",
    "    \n",
    "plt.scatter(xx, yy, c=mask)\n",
    "plt.plot(contour_x, contour_y, lw=2)"
   ]
  },
  {
   "cell_type": "code",
   "execution_count": null,
   "metadata": {},
   "outputs": [],
   "source": [
    "buffered_rectangle = rectangle.buffer(0.001)\n",
    "buffered_rectangle"
   ]
  },
  {
   "cell_type": "code",
   "execution_count": null,
   "metadata": {},
   "outputs": [],
   "source": [
    "points_within_buffered_rectangle = points.intersection(buffered_rectangle)\n",
    "\n",
    "buffered_mask = np.zeros_like(xx).astype('bool')\n",
    "\n",
    "for point in points_within_buffered_rectangle:\n",
    "    coord = point.coords.xy\n",
    "    buffered_mask[np.logical_and(xx==coord[0], yy==coord[1])] = True\n",
    "    \n",
    "plt.scatter(xx, yy, c=buffered_mask)\n",
    "plt.plot(contour_x, contour_y, lw=2)"
   ]
  },
  {
   "cell_type": "code",
   "execution_count": null,
   "metadata": {},
   "outputs": [],
   "source": [
    "contour_z = [0, 1, 2]\n",
    "\n",
    "contour_data = []\n",
    "\n",
    "for z in contour_z:\n",
    "    concatenated_contours = []\n",
    "    for x, y in zip(contour_x, contour_y):\n",
    "        concatenated_contours.append(x)\n",
    "        concatenated_contours.append(y)\n",
    "        concatenated_contours.append(z)\n",
    "        \n",
    "    contour_data.append(concatenated_contours)\n",
    "    \n",
    "\n",
    "contour_data"
   ]
  },
  {
   "cell_type": "code",
   "execution_count": null,
   "metadata": {},
   "outputs": [],
   "source": [
    "contour_name = 'rectangle'\n",
    "\n",
    "structure_dataset = dicom_dataset_from_dict(\n",
    "    {\n",
    "        'StructureSetROISequence': [\n",
    "            {\n",
    "                'ROINumber': 1,\n",
    "                'ROIName': contour_name\n",
    "            }\n",
    "        ],\n",
    "        'ROIContourSequence': [\n",
    "            {\n",
    "                'ReferencedROINumber': 1,\n",
    "                'ContourSequence': [\n",
    "                    {\n",
    "                        'ContourData': contour_data[0],\n",
    "                    },\n",
    "                    {\n",
    "                        'ContourData': contour_data[1],\n",
    "                    },\n",
    "                    {\n",
    "                        'ContourData': contour_data[2],\n",
    "                    }\n",
    "                ]\n",
    "            }\n",
    "        ]\n",
    "    }\n",
    ")\n",
    "\n",
    "structure_dataset"
   ]
  },
  {
   "cell_type": "code",
   "execution_count": null,
   "metadata": {},
   "outputs": [],
   "source": [
    "dose_dataset = dicom_dataset_from_dict(\n",
    "    {\n",
    "        'Columns': len(x_grid),\n",
    "        'Rows': len(y_grid),\n",
    "        'PixelSpacing': [dx, dy],\n",
    "        'ImagePositionPatient': [x0, y0, contour_z[0]],\n",
    "        'ImageOrientationPatient': [1, 0, 0, 0, 1, 0],  # HFS\n",
    "        'GridFrameOffsetVector': contour_z\n",
    "    }\n",
    ")\n",
    "\n",
    "dose_dataset"
   ]
  },
  {
   "cell_type": "code",
   "execution_count": null,
   "metadata": {},
   "outputs": [],
   "source": [
    "x_dicom, y_dicom, z_dicom = xyz_axes_from_dataset(dose_dataset)"
   ]
  },
  {
   "cell_type": "code",
   "execution_count": null,
   "metadata": {},
   "outputs": [],
   "source": [
    "assert np.allclose(x_dicom, x_grid)"
   ]
  },
  {
   "cell_type": "code",
   "execution_count": null,
   "metadata": {},
   "outputs": [],
   "source": [
    "assert np.allclose(y_dicom, y_grid)"
   ]
  },
  {
   "cell_type": "code",
   "execution_count": null,
   "metadata": {},
   "outputs": [],
   "source": [
    "assert np.allclose(z_dicom, contour_z)"
   ]
  },
  {
   "cell_type": "code",
   "execution_count": null,
   "metadata": {},
   "outputs": [],
   "source": [
    "dicom_mask = get_dose_grid_structure_mask(contour_name, structure_dataset, dose_dataset)"
   ]
  },
  {
   "cell_type": "code",
   "execution_count": null,
   "metadata": {},
   "outputs": [],
   "source": [
    "plt.scatter(xx, yy, c=dicom_mask[0,:,:])\n",
    "plt.plot(contour_x, contour_y, lw=2)"
   ]
  },
  {
   "cell_type": "code",
   "execution_count": null,
   "metadata": {},
   "outputs": [],
   "source": [
    "plt.scatter(xx, yy, c=dicom_mask[1,:,:])\n",
    "plt.plot(contour_x, contour_y, lw=2)"
   ]
  },
  {
   "cell_type": "code",
   "execution_count": null,
   "metadata": {},
   "outputs": [],
   "source": [
    "plt.scatter(xx, yy, c=dicom_mask[2,:,:])\n",
    "plt.plot(contour_x, contour_y, lw=2)"
   ]
  }
 ],
 "metadata": {
  "kernelspec": {
   "display_name": "pymedphys-master",
   "language": "python",
   "name": "pymedphys-master"
  },
  "language_info": {
   "codemirror_mode": {
    "name": "ipython",
    "version": 3
   },
   "file_extension": ".py",
   "mimetype": "text/x-python",
   "name": "python",
   "nbconvert_exporter": "python",
   "pygments_lexer": "ipython3",
   "version": "3.7.0"
  }
 },
 "nbformat": 4,
 "nbformat_minor": 4
}
