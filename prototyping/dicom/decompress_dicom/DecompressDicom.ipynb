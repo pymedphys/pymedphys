{
 "cells": [
  {
   "cell_type": "code",
   "execution_count": null,
   "metadata": {},
   "outputs": [],
   "source": [
    "# Install the following https://github.com/malaterre/GDCM/releases\n",
    "# Make sure to add C:\\Program Files\\GDCM 2.8\\bin (or equivalent) to your PATH\n",
    "# To edit path open \"edit environment variables for your account\"\n",
    "\n",
    "# Need at least Python 3.5 to use the code below"
   ]
  },
  {
   "cell_type": "code",
   "execution_count": null,
   "metadata": {},
   "outputs": [],
   "source": [
    "import os\n",
    "import pathlib\n",
    "from glob import glob"
   ]
  },
  {
   "cell_type": "code",
   "execution_count": null,
   "metadata": {},
   "outputs": [],
   "source": [
    "# working_directory = r'/mnt/pdc/Shared/RT/Decompress Dicom'"
   ]
  },
  {
   "cell_type": "code",
   "execution_count": null,
   "metadata": {},
   "outputs": [],
   "source": [
    "working_directory = r'\\\\pdc\\Shared\\RT\\Decompress Dicom'"
   ]
  },
  {
   "cell_type": "code",
   "execution_count": null,
   "metadata": {},
   "outputs": [],
   "source": [
    "compressed_directory = os.path.join(working_directory, 'compressed')\n",
    "decompressed_directory = os.path.join(working_directory, 'decompressed')"
   ]
  },
  {
   "cell_type": "code",
   "execution_count": null,
   "metadata": {},
   "outputs": [],
   "source": [
    "def get_all_files(directory):\n",
    "    paths = glob(os.path.join(directory, '**'), recursive=True)\n",
    "    files = list(filter(lambda path: os.path.isfile(path), paths))\n",
    "    \n",
    "    relative_files = [os.path.relpath(file, directory) for file in files]\n",
    "    \n",
    "    return relative_files\n",
    "\n",
    "\n",
    "compressed_files = set(get_all_files(compressed_directory))\n",
    "decompressed_files = set(get_all_files(decompressed_directory))\n",
    "\n",
    "relative_files_to_be_decompressed = list(compressed_files.difference(decompressed_files))\n",
    "abs_paths_to_be_decompressed = [\n",
    "    os.path.join(compressed_directory, file) \n",
    "    for file in relative_files_to_be_decompressed]\n",
    "\n",
    "abs_paths_to_be_decompressed"
   ]
  },
  {
   "cell_type": "code",
   "execution_count": null,
   "metadata": {},
   "outputs": [],
   "source": [
    "def run_decompress(compressed_directory, decompressed_directory, compressed):\n",
    "    relative_path = os.path.relpath(compressed, compressed_directory)\n",
    "    decompressed = os.path.join(decompressed_directory, relative_path)\n",
    "    \n",
    "    decompressed_directory = os.path.split(decompressed)[0]\n",
    "    pathlib.Path(decompressed_directory).mkdir(parents=True, exist_ok=True)\n",
    "    \n",
    "    print('{compressed} --> {decompressed}'.format(compressed=compressed, decompressed=decompressed))\n",
    "    !gdcmconv -w \"{compressed}\" \"{decompressed}\"\n",
    "    \n",
    "\n",
    "for compressed in abs_paths_to_be_decompressed:\n",
    "    run_decompress(compressed_directory, decompressed_directory, compressed)"
   ]
  },
  {
   "cell_type": "code",
   "execution_count": null,
   "metadata": {},
   "outputs": [],
   "source": []
  }
 ],
 "metadata": {
  "anaconda-cloud": {},
  "kernelspec": {
   "display_name": "Python 3",
   "language": "python",
   "name": "python3"
  },
  "language_info": {
   "codemirror_mode": {
    "name": "ipython",
    "version": 3
   },
   "file_extension": ".py",
   "mimetype": "text/x-python",
   "name": "python",
   "nbconvert_exporter": "python",
   "pygments_lexer": "ipython3",
   "version": "3.7.0"
  }
 },
 "nbformat": 4,
 "nbformat_minor": 4
}
