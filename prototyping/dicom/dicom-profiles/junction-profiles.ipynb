{
 "cells": [
  {
   "cell_type": "code",
   "execution_count": null,
   "metadata": {},
   "outputs": [],
   "source": [
    "import os\n",
    "from glob import glob\n",
    "\n",
    "from IPython.display import display, Markdown\n",
    "\n",
    "import numpy as np\n",
    "import matplotlib.pyplot as plt\n",
    "\n",
    "import pydicom\n",
    "\n",
    "import pymedphys"
   ]
  },
  {
   "cell_type": "code",
   "execution_count": null,
   "metadata": {},
   "outputs": [],
   "source": [
    "DATA_ROOT = r'S:\\Physics\\Programming\\data\\DiaphragmInvestigation\\MultiGantryJunctions'"
   ]
  },
  {
   "cell_type": "code",
   "execution_count": null,
   "metadata": {},
   "outputs": [],
   "source": [
    "distance_from_image_iso_to_phantom_surface = 80\n",
    "depth = 80\n",
    "averaging_distance = 0\n",
    "\n",
    "\n",
    "def compare_files(collapsed_cone, monte_carlo):\n",
    "    display(Markdown('**CC File:** `{}`\\n\\n**MC File:** `{}`'.format(\n",
    "        collapsed_cone, monte_carlo)))\n",
    "    \n",
    "    dcm_cc = pydicom.read_file(collapsed_cone, force=True)\n",
    "    dcm_mc = pydicom.read_file(monte_carlo, force=True)\n",
    "    \n",
    "    inplane_cc, inplane_dose_cc, _, _ = pymedphys.dcm.extract_profiles(\n",
    "        dcm_cc, distance_from_image_iso_to_phantom_surface,\n",
    "        depth, averaging_distance=averaging_distance\n",
    "    )\n",
    "    \n",
    "    inplane_mc, inplane_dose_mc, _, _ = pymedphys.dcm.extract_profiles(\n",
    "        dcm_mc, distance_from_image_iso_to_phantom_surface,\n",
    "        depth, averaging_distance=averaging_distance\n",
    "    )\n",
    "    \n",
    "    fig, ax1 = plt.subplots()\n",
    "    \n",
    "   \n",
    "    line1, = ax1.plot(inplane_cc, inplane_dose_cc)\n",
    "    line2, = ax1.plot(inplane_mc, inplane_dose_mc)\n",
    "    \n",
    "    assert np.all(inplane_cc == inplane_mc)\n",
    "    \n",
    "    ax2 = ax1.twinx()\n",
    "    \n",
    "    difference = inplane_dose_mc - inplane_dose_cc\n",
    "    max_diff = np.max(np.abs(difference))\n",
    "    \n",
    "    line3, = ax2.plot(inplane_cc, inplane_dose_mc - inplane_dose_cc, c='C2')\n",
    "    ax2.set_ylim([-max_diff, max_diff])\n",
    "    \n",
    "    plt.legend(\n",
    "        handles=(line1, line2, line3), \n",
    "        labels=(\n",
    "            'Collapsed Cone', 'Monte Carlo', 'Difference (MC - CC)'\n",
    "        ),\n",
    "        loc='lower right'\n",
    "    )\n",
    "    \n",
    "    image_path = \"{}.png\".format(\n",
    "        os.path.splitext(monte_carlo)[0], '.png'\n",
    "    )\n",
    "    \n",
    "    plt.savefig(image_path)\n",
    "    \n",
    "    plt.show()"
   ]
  },
  {
   "cell_type": "code",
   "execution_count": null,
   "metadata": {},
   "outputs": [],
   "source": [
    "def get_comparison_map(data_root):\n",
    "    reference_paths = glob(os.path.join(\n",
    "        data_root, '**', 'reference', '*.dcm'\n",
    "    ), recursive=True)\n",
    "    \n",
    "    comparison_map = {\n",
    "        reference_path: glob(os.path.join(\n",
    "            os.path.split(os.path.split(reference_path)[0])[0],\n",
    "            'evaluation', '*.dcm'\n",
    "        ))\n",
    "        for reference_path in reference_paths\n",
    "    }\n",
    "    \n",
    "    return comparison_map"
   ]
  },
  {
   "cell_type": "code",
   "execution_count": null,
   "metadata": {},
   "outputs": [],
   "source": [
    "comparison_map = get_comparison_map(DATA_ROOT)\n",
    "\n",
    "for reference_path, evaluation_paths in comparison_map.items():\n",
    "    for evaluation_path in evaluation_paths:\n",
    "        compare_files(reference_path, evaluation_path)"
   ]
  },
  {
   "cell_type": "code",
   "execution_count": null,
   "metadata": {},
   "outputs": [],
   "source": []
  }
 ],
 "metadata": {
  "kernelspec": {
   "display_name": "Python 3",
   "language": "python",
   "name": "python3"
  },
  "language_info": {
   "codemirror_mode": {
    "name": "ipython",
    "version": 3
   },
   "file_extension": ".py",
   "mimetype": "text/x-python",
   "name": "python",
   "nbconvert_exporter": "python",
   "pygments_lexer": "ipython3",
   "version": "3.7.0"
  }
 },
 "nbformat": 4,
 "nbformat_minor": 2
}
