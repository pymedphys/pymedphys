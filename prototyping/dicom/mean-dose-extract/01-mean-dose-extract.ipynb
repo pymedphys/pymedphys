{
 "cells": [
  {
   "cell_type": "code",
   "execution_count": null,
   "metadata": {},
   "outputs": [],
   "source": [
    "import pathlib\n",
    "\n",
    "import numpy as np\n",
    "import pandas as pd\n",
    "\n",
    "import pydicom\n",
    "\n",
    "import pymedphys._dicom.dose as dcmdose"
   ]
  },
  {
   "cell_type": "code",
   "execution_count": null,
   "metadata": {},
   "outputs": [],
   "source": [
    "root = pathlib.Path(r'P:\\RT\\sheridan\\ARPANSA Audit 2020\\IMRT Cases 6 to 8 Dicom Files')\n",
    "total_dose_paths = list(root.glob('*_Dose.dcm'))"
   ]
  },
  {
   "cell_type": "code",
   "execution_count": null,
   "metadata": {},
   "outputs": [],
   "source": [
    "cases = [\n",
    "    path.name[:-9]\n",
    "    for path in total_dose_paths\n",
    "]\n",
    "\n",
    "cases"
   ]
  },
  {
   "cell_type": "code",
   "execution_count": null,
   "metadata": {},
   "outputs": [],
   "source": [
    "total_dose_paths_by_case = {\n",
    "    case: path for case, path in zip(cases, total_dose_paths)\n",
    "}\n",
    "\n",
    "total_dose_paths_by_case"
   ]
  },
  {
   "cell_type": "code",
   "execution_count": null,
   "metadata": {},
   "outputs": [],
   "source": [
    "dicom_doses = {\n",
    "    case: pydicom.read_file(total_dose_paths_by_case[case], force=True)\n",
    "    for case in cases\n",
    "}"
   ]
  },
  {
   "cell_type": "code",
   "execution_count": null,
   "metadata": {},
   "outputs": [],
   "source": []
  },
  {
   "cell_type": "code",
   "execution_count": null,
   "metadata": {},
   "outputs": [],
   "source": [
    "plan_paths_by_case = {\n",
    "    case: root.joinpath(f\"{case}.dcm\")\n",
    "    for case in cases\n",
    "}\n",
    "\n",
    "plan_paths_by_case"
   ]
  },
  {
   "cell_type": "code",
   "execution_count": null,
   "metadata": {},
   "outputs": [],
   "source": [
    "dicom_structure = pydicom.read_file(root.joinpath('SUP3018v1_StrctrSets.dcm'), force=True)"
   ]
  },
  {
   "cell_type": "code",
   "execution_count": null,
   "metadata": {},
   "outputs": [],
   "source": [
    "structure_names = ['11', '12', '13', '14', '15', '16', '17', '18']"
   ]
  },
  {
   "cell_type": "code",
   "execution_count": null,
   "metadata": {},
   "outputs": [],
   "source": [
    "mean_doses = {}\n",
    "\n",
    "for case in cases:\n",
    "    mean_doses[case] = {}\n",
    "    for structure_name in structure_names:\n",
    "        \n",
    "        mask = dcmdose.get_dose_grid_structure_mask(structure_name, dicom_structure, dicom_doses[case])\n",
    "#         print(mask.shape)\n",
    "        new_mask = np.swapaxes(mask, 0, 1)\n",
    "        new_mask = np.swapaxes(new_mask, 0, 2)\n",
    "#         print(new_mask.shape)\n",
    "        \n",
    "        dose = dcmdose.dose_from_dataset(dicom_doses[case])\n",
    "        \n",
    "        mean_doses[case][structure_name] = np.mean(dose[new_mask])\n",
    "\n",
    "mean_doses"
   ]
  },
  {
   "cell_type": "code",
   "execution_count": null,
   "metadata": {},
   "outputs": [],
   "source": [
    "pd.DataFrame.from_dict(mean_doses).to_csv('test.csv')"
   ]
  }
 ],
 "metadata": {
  "kernelspec": {
   "display_name": "pymedphys-master",
   "language": "python",
   "name": "pymedphys-master"
  },
  "language_info": {
   "codemirror_mode": {
    "name": "ipython",
    "version": 3
   },
   "file_extension": ".py",
   "mimetype": "text/x-python",
   "name": "python",
   "nbconvert_exporter": "python",
   "pygments_lexer": "ipython3",
   "version": "3.7.0"
  }
 },
 "nbformat": 4,
 "nbformat_minor": 4
}
