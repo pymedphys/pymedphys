{
 "cells": [
  {
   "cell_type": "code",
   "execution_count": null,
   "metadata": {},
   "outputs": [],
   "source": [
    "import numpy as np\n",
    "from dicomutils.builders import StudyBuilder"
   ]
  },
  {
   "cell_type": "code",
   "execution_count": null,
   "metadata": {},
   "outputs": [],
   "source": [
    "study_builder = StudyBuilder()\n",
    "\n",
    "study_builder.current_study['PatientPosition'] = 'HFP'\n",
    "study_builder.current_study['PatientID'] = 'CoordTestHFP'\n",
    "study_builder.current_study['PatientsName'] = 'PHANTOM^CoordTestHFP'\n",
    "\n",
    "ct_builder = study_builder.build_ct(\n",
    "    num_voxels=[10, 15, 20],\n",
    "    voxel_size=[20.0, 15.0, 25.0],\n",
    "    pixel_representation=1,\n",
    "    rescale_slope=1.0,\n",
    "    rescale_intercept=0,\n",
    "    center=np.array([15,20,30])\n",
    ")\n",
    "\n",
    "x, y, z = ct_builder.mgrid()\n",
    "print np.min(x), np.max(x)\n",
    "print np.min(y), np.max(y)\n",
    "print np.min(z), np.max(z)\n",
    "\n",
    "ct_builder.pixel_array[:,:,:] = -1024.0\n",
    "ct_builder.pixel_array[1:-1, 1:-1, 1:-1] = 0.0\n",
    "\n",
    "ct_builder.build()\n",
    "\n",
    "study_builder.write('coords_test')"
   ]
  },
  {
   "cell_type": "code",
   "execution_count": null,
   "metadata": {},
   "outputs": [],
   "source": []
  },
  {
   "cell_type": "code",
   "execution_count": null,
   "metadata": {},
   "outputs": [],
   "source": []
  }
 ],
 "metadata": {
  "anaconda-cloud": {},
  "kernelspec": {
   "display_name": "Python 2",
   "language": "python",
   "name": "python2"
  },
  "language_info": {
   "codemirror_mode": {
    "name": "ipython",
    "version": 2
   },
   "file_extension": ".py",
   "mimetype": "text/x-python",
   "name": "python",
   "nbconvert_exporter": "python",
   "pygments_lexer": "ipython2",
   "version": "2.7.15"
  }
 },
 "nbformat": 4,
 "nbformat_minor": 2
}
