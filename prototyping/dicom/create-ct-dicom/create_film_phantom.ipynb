{
 "cells": [
  {
   "cell_type": "code",
   "execution_count": null,
   "metadata": {},
   "outputs": [],
   "source": [
    "import numpy as np\n",
    "from dicomutils.builders import StudyBuilder"
   ]
  },
  {
   "cell_type": "code",
   "execution_count": null,
   "metadata": {},
   "outputs": [],
   "source": [
    "study_builder = StudyBuilder()\n",
    "\n",
    "study_builder.current_study['PatientPosition'] = 'HFS'\n",
    "study_builder.current_study['PatientID'] = 'FilmPhantom'\n",
    "study_builder.current_study['PatientsName'] = 'PHANTOM^FILM'\n",
    "\n",
    "ct_builder = study_builder.build_ct(\n",
    "    num_voxels=[152, 72, 302],\n",
    "    voxel_size=[2.0, 2.0, 2.0],\n",
    "    pixel_representation=1,\n",
    "    rescale_slope=1.0,\n",
    "    rescale_intercept=0,\n",
    "    center=np.array([0,0,0])\n",
    ")\n",
    "\n",
    "x, y, z = ct_builder.mgrid()\n",
    "print np.min(x), np.max(x)\n",
    "print np.min(y), np.max(y)\n",
    "print np.min(z), np.max(z)\n",
    "\n",
    "print np.min(x[1:-1, 1:-1, 1:-1]), np.max(x[1:-1, 1:-1, 1:-1])\n",
    "print np.min(y[1:-1, 1:-1, 1:-1]), np.max(y[1:-1, 1:-1, 1:-1])\n",
    "print np.min(z[1:-1, 1:-1, 1:-1]), np.max(z[1:-1, 1:-1, 1:-1])\n",
    "\n",
    "ct_builder.pixel_array[:,:,:] = -1024.0\n",
    "ct_builder.pixel_array[1:-1, 1:-1, 1:-1] = 0.0\n",
    "\n",
    "ct_builder.build()\n",
    "\n",
    "study_builder.write('results')"
   ]
  },
  {
   "cell_type": "code",
   "execution_count": null,
   "metadata": {},
   "outputs": [],
   "source": []
  }
 ],
 "metadata": {
  "anaconda-cloud": {},
  "kernelspec": {
   "display_name": "Python 2",
   "language": "python",
   "name": "python2"
  },
  "language_info": {
   "codemirror_mode": {
    "name": "ipython",
    "version": 2
   },
   "file_extension": ".py",
   "mimetype": "text/x-python",
   "name": "python",
   "nbconvert_exporter": "python",
   "pygments_lexer": "ipython2",
   "version": "2.7.15"
  }
 },
 "nbformat": 4,
 "nbformat_minor": 4
}
