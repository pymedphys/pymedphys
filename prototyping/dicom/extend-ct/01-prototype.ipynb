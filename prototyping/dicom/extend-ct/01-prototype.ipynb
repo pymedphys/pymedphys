{
 "cells": [
  {
   "cell_type": "code",
   "execution_count": null,
   "metadata": {},
   "outputs": [],
   "source": [
    "import re\n",
    "import os\n",
    "from copy import deepcopy\n",
    "from glob import glob\n",
    "import datetime\n",
    "import random\n",
    "from collections import deque\n",
    "\n",
    "import numpy as np\n",
    "\n",
    "import pydicom\n",
    "from pymedphys_dicom.dicom.collection import PYMEDPHYS_ROOT_UID"
   ]
  },
  {
   "cell_type": "code",
   "execution_count": null,
   "metadata": {},
   "outputs": [],
   "source": [
    "DATA_DIR = r'S:\\Physics\\Programming\\data\\DICOM_manipulation\\ct-slice-extension\\original'\n",
    "filepaths = glob(os.path.join(DATA_DIR, '*'))\n",
    "# filepaths"
   ]
  },
  {
   "cell_type": "code",
   "execution_count": null,
   "metadata": {},
   "outputs": [],
   "source": [
    "dicom_datasets_initial_read = [\n",
    "    pydicom.dcmread(filepath, force=True)\n",
    "    for filepath in filepaths\n",
    "]\n",
    "\n",
    "def instance_number(dicom_dataset):\n",
    "    return dicom_dataset.InstanceNumber\n",
    "\n",
    "\n",
    "dicom_datasets = deque()\n",
    "\n",
    "for dicom_dataset in sorted(dicom_datasets_initial_read, key=instance_number):\n",
    "    dicom_datasets.append(dicom_dataset)"
   ]
  },
  {
   "cell_type": "code",
   "execution_count": null,
   "metadata": {},
   "outputs": [],
   "source": [
    "keys_to_view = ['SOPInstanceUID', 'InstanceNumber', 'SliceLocation', 'ImagePositionPatient']\n",
    "\n",
    "def display(dicom_dataset):\n",
    "    return [\n",
    "        {\n",
    "            key: getattr(dicom_dataset, key)\n",
    "            for key in keys_to_view\n",
    "        }\n",
    "        for dicom_dataset in dicom_datasets\n",
    "    ]\n",
    "    \n",
    "\n",
    "# display(dicom_dataset)"
   ]
  },
  {
   "cell_type": "code",
   "execution_count": null,
   "metadata": {},
   "outputs": [],
   "source": [
    "# PYMEDPHYS_ROOT_UID"
   ]
  },
  {
   "cell_type": "code",
   "execution_count": null,
   "metadata": {},
   "outputs": [],
   "source": [
    "def generate_UIDs(number_of_UIDs, randomisation_length=10, root=PYMEDPHYS_ROOT_UID):\n",
    "    num_of_digits = len(str(number_of_UIDs))\n",
    "    \n",
    "    middle_item = str(random.randint(0, 10**randomisation_length)).zfill(randomisation_length)\n",
    "    time_stamp_item = datetime.datetime.utcnow().strftime(\"%Y%m%d%H%M%S%f\")\n",
    "    \n",
    "    last_item = [\n",
    "        str(i).zfill(num_of_digits) for i in range(number_of_UIDs)\n",
    "    ]\n",
    "    \n",
    "    UIDs = [\n",
    "        '.'.join([root, middle_item, time_stamp_item, item])\n",
    "        for item in last_item\n",
    "    ]\n",
    "    \n",
    "    return UIDs\n",
    "\n",
    "# generate_UIDs(30)"
   ]
  },
  {
   "cell_type": "code",
   "execution_count": null,
   "metadata": {},
   "outputs": [],
   "source": [
    "# UIDs = [\n",
    "#     dicom_dataset.SOPInstanceUID\n",
    "#     for dicom_dataset in dicom_datasets\n",
    "# ]\n",
    "\n",
    "# # UIDs"
   ]
  },
  {
   "cell_type": "code",
   "execution_count": null,
   "metadata": {},
   "outputs": [],
   "source": [
    "# instance_numbers = [\n",
    "#     dicom_dataset.InstanceNumber\n",
    "#     for dicom_dataset in dicom_datasets\n",
    "# ]\n",
    "\n",
    "# # instance_numbers"
   ]
  },
  {
   "cell_type": "code",
   "execution_count": null,
   "metadata": {},
   "outputs": [],
   "source": [
    "# slice_locations = [\n",
    "#     dicom_dataset.SliceLocation\n",
    "#     for dicom_dataset in dicom_datasets\n",
    "# ]\n",
    "\n",
    "# # slice_locations"
   ]
  },
  {
   "cell_type": "code",
   "execution_count": null,
   "metadata": {},
   "outputs": [],
   "source": [
    "# image_positions = [\n",
    "#     dicom_dataset.ImagePositionPatient\n",
    "#     for dicom_dataset in dicom_datasets\n",
    "# ]\n",
    "\n",
    "# # image_positions"
   ]
  },
  {
   "cell_type": "code",
   "execution_count": null,
   "metadata": {},
   "outputs": [],
   "source": [
    "def generate_new_slice_locations(dicom_datasets, index_to_copy, number_of_slices):\n",
    "    if index_to_copy == 0:\n",
    "        slice_diff = dicom_datasets[0].SliceLocation - dicom_datasets[1].SliceLocation\n",
    "    elif index_to_copy == len(dicom_datasets) or index_to_copy == -1:\n",
    "        slice_diff = dicom_datasets[-1].SliceLocation - dicom_datasets[-2].SliceLocation\n",
    "    else:\n",
    "        raise ValueError('index_to_copy must be first or last slice')    \n",
    "    \n",
    "    new_slice_locations = [dicom_datasets[index_to_copy].SliceLocation + slice_diff]\n",
    "    for _ in range(number_of_slices - 1):\n",
    "        new_slice_locations.append(new_slice_locations[-1] + slice_diff)\n",
    "        \n",
    "    return new_slice_locations\n",
    "    \n",
    "    "
   ]
  },
  {
   "cell_type": "code",
   "execution_count": null,
   "metadata": {},
   "outputs": [],
   "source": [
    "def get_append_method(dicom_datasets, index_to_copy):\n",
    "    if index_to_copy == 0:\n",
    "        return 'appendleft'\n",
    "    elif index_to_copy == len(dicom_datasets) or index_to_copy == -1:\n",
    "        return 'append'\n",
    "    else:\n",
    "        raise ValueError('index_to_copy must be first or last slice')    "
   ]
  },
  {
   "cell_type": "code",
   "execution_count": null,
   "metadata": {},
   "outputs": [],
   "source": [
    "def copy_slices_and_append(dicom_datasets, index_to_copy, number_of_slices):\n",
    "    append_method = get_append_method(dicom_datasets, index_to_copy)\n",
    "    new_slice_locations = generate_new_slice_locations(dicom_datasets, index_to_copy, number_of_slices)\n",
    "    \n",
    "    dataset_to_copy = deepcopy(dicom_datasets[index_to_copy])\n",
    "    \n",
    "    append = getattr(dicom_datasets, append_method)\n",
    "    \n",
    "    for slice_location in new_slice_locations:\n",
    "        new_slice = deepcopy(dataset_to_copy)\n",
    "        \n",
    "        new_slice.SliceLocation = str(slice_location)\n",
    "        \n",
    "        image_position_patient_to_copy = deepcopy(dicom_datasets[index_to_copy].ImagePositionPatient)       \n",
    "        image_position_patient_to_copy[-1] = str(slice_location)\n",
    "        new_slice.ImagePositionPatient = image_position_patient_to_copy\n",
    "        \n",
    "        append(new_slice)\n",
    "        \n",
    "\n",
    "def refresh_instance_numbers(dicom_datasets):\n",
    "    for i, dicom_dataset in enumerate(dicom_datasets):\n",
    "        dicom_dataset.InstanceNumber = str(i)\n",
    "    \n",
    "    \n",
    "def generate_new_uids(dicom_datasets):\n",
    "    new_UIDs = generate_UIDs(len(dicom_datasets))\n",
    "    \n",
    "    for dicom_dataset, UID in zip(dicom_datasets, new_UIDs):\n",
    "        dicom_dataset.SOPInstanceUID = UID        \n",
    "        \n",
    "\n",
    "def extend(dicom_datasets, index_to_copy, number_of_slices):\n",
    "    copy_slices_and_append(dicom_datasets, index_to_copy, number_of_slices)\n",
    "    refresh_instance_numbers(dicom_datasets)\n",
    "    generate_new_uids(dicom_datasets)\n",
    "        \n",
    "    \n",
    "def extend_left(dicom_datasets, number_of_slices):\n",
    "    index_to_copy = 0\n",
    "    extend(dicom_datasets, index_to_copy, number_of_slices)\n",
    "    \n",
    "    \n",
    "def extend_right(dicom_datasets, number_of_slices):\n",
    "    index_to_copy = -1\n",
    "    extend(dicom_datasets, index_to_copy, number_of_slices)\n"
   ]
  },
  {
   "cell_type": "code",
   "execution_count": null,
   "metadata": {},
   "outputs": [],
   "source": [
    "extend_left(dicom_datasets, 50)"
   ]
  },
  {
   "cell_type": "code",
   "execution_count": null,
   "metadata": {},
   "outputs": [],
   "source": [
    "display(dicom_dataset)"
   ]
  },
  {
   "cell_type": "code",
   "execution_count": null,
   "metadata": {},
   "outputs": [],
   "source": [
    "common_prefix = os.path.commonprefix(filepaths)\n",
    "\n",
    "split_prefix = common_prefix.split(os.path.sep)\n",
    "assert split_prefix[-2] == 'original'\n",
    "split_prefix[-2] = 'processed'\n",
    "\n",
    "processed_common_prefix = os.path.sep.join(split_prefix)\n",
    "# processed_common_prefixphysics"
   ]
  },
  {
   "cell_type": "code",
   "execution_count": null,
   "metadata": {},
   "outputs": [],
   "source": [
    "number_of_digits = len(str(len(dicom_dataset)))\n",
    "\n",
    "new_file_names = [\n",
    "    \"{}{}.dcm\".format(\n",
    "        processed_common_prefix, \n",
    "        str(dicom_dataset.InstanceNumber).zfill(number_of_digits)\n",
    "    ) \n",
    "    for dicom_dataset in dicom_datasets\n",
    "]\n",
    "\n",
    "# new_file_names"
   ]
  },
  {
   "cell_type": "code",
   "execution_count": null,
   "metadata": {},
   "outputs": [],
   "source": [
    "for dicom_dataset, new_file_name in zip(dicom_datasets, new_file_names):\n",
    "    dicom_dataset.save_as(new_file_name)"
   ]
  },
  {
   "cell_type": "code",
   "execution_count": null,
   "metadata": {},
   "outputs": [],
   "source": [
    "# for dcm, filename in zip(new_slices, new_ct_slice_filenames):\n",
    "#     dcm.save_as(filename=filename)"
   ]
  },
  {
   "cell_type": "code",
   "execution_count": null,
   "metadata": {},
   "outputs": [],
   "source": [
    "# structure_dcm.save_as(filename=structure_set_file)"
   ]
  },
  {
   "cell_type": "code",
   "execution_count": null,
   "metadata": {},
   "outputs": [],
   "source": []
  }
 ],
 "metadata": {
  "kernelspec": {
   "display_name": "Python 3",
   "language": "python",
   "name": "python3"
  },
  "language_info": {
   "codemirror_mode": {
    "name": "ipython",
    "version": 3
   },
   "file_extension": ".py",
   "mimetype": "text/x-python",
   "name": "python",
   "nbconvert_exporter": "python",
   "pygments_lexer": "ipython3",
   "version": "3.7.0"
  }
 },
 "nbformat": 4,
 "nbformat_minor": 4
}
