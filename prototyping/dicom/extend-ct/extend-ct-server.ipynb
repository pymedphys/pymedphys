{
 "cells": [
  {
   "cell_type": "code",
   "execution_count": null,
   "metadata": {},
   "outputs": [],
   "source": [
    "import pynetdicom\n",
    "import pydicom\n",
    "\n",
    "import copy\n",
    "\n",
    "from pymedphys._dicom.ct import extend"
   ]
  },
  {
   "cell_type": "code",
   "execution_count": null,
   "metadata": {},
   "outputs": [],
   "source": [
    "INCOMING_PORT = 33304\n",
    "# TPS_PORT = 35104\n",
    "\n",
    "# TPS_IP = '127.0.0.1'\n",
    "\n",
    "TPS_PORT = 104\n",
    "TPS_IP = 'rccc-monacoda'"
   ]
  },
  {
   "cell_type": "code",
   "execution_count": null,
   "metadata": {},
   "outputs": [],
   "source": [
    "pynetdicom.debug_logger()"
   ]
  },
  {
   "cell_type": "code",
   "execution_count": null,
   "metadata": {},
   "outputs": [],
   "source": [
    "def extend_datasets(datasets, number_of_slices=20):\n",
    "    deque_datasets = extend.convert_datasets_to_deque(datasets)\n",
    "    extend.extend_datasets(deque_datasets, 0, number_of_slices)\n",
    "    extend.extend_datasets(deque_datasets, -1, number_of_slices)\n",
    "    \n",
    "    return deque_datasets"
   ]
  },
  {
   "cell_type": "code",
   "execution_count": null,
   "metadata": {},
   "outputs": [],
   "source": [
    "def send_datasets(datasets, ae):\n",
    "    ae.add_requested_context(pynetdicom.sop_class.CTImageStorage)\n",
    "\n",
    "    assoc = ae.associate(TPS_IP, TPS_PORT)\n",
    "    if assoc.is_established:\n",
    "        for ds in datasets:\n",
    "            ds.TransferSyntaxUID = pydicom.uid.ExplicitVRLittleEndian\n",
    "            ds.fix_meta_info(enforce_standard=True)\n",
    "            status = assoc.send_c_store(ds)\n",
    "            \n",
    "        assoc.release()"
   ]
  },
  {
   "cell_type": "code",
   "execution_count": null,
   "metadata": {},
   "outputs": [],
   "source": [
    "# debugging\n",
    "\n",
    "# datasets = list(dicom_store.values())[0]\n",
    "# extended = extend_datasets(datasets)\n",
    "\n",
    "# send_datasets(extended, ae)"
   ]
  },
  {
   "cell_type": "code",
   "execution_count": null,
   "metadata": {},
   "outputs": [],
   "source": [
    "dicom_store = {}\n",
    "\n",
    "\n",
    "def handle_open(event):\n",
    "    return 0x0000\n",
    "\n",
    "\n",
    "def handle_accepted(event): \n",
    "    dicom_store[event.assoc] = []\n",
    "    \n",
    "    return 0x0000\n",
    "\n",
    "\n",
    "def handle_store(event):\n",
    "    dicom_store[event.assoc].append(event.dataset)\n",
    "    \n",
    "    return 0x0000\n",
    "\n",
    "\n",
    "def handle_release(event, ae):\n",
    "    datasets = extend_datasets(dicom_store[event.assoc])\n",
    "    send_datasets(datasets, ae)\n",
    "    \n",
    "    return 0x0000"
   ]
  },
  {
   "cell_type": "code",
   "execution_count": null,
   "metadata": {},
   "outputs": [],
   "source": [
    "ae = pynetdicom.AE()\n",
    "\n",
    "handlers = [\n",
    "    (pynetdicom.evt.EVT_CONN_OPEN, handle_open),\n",
    "    (pynetdicom.evt.EVT_ACCEPTED, handle_accepted),\n",
    "    (pynetdicom.evt.EVT_C_STORE, handle_store), \n",
    "    (pynetdicom.evt.EVT_RELEASED, handle_release, [ae])\n",
    "]\n",
    "\n",
    "ae.network_timeout = None\n",
    "ae.acse_timeout = None\n",
    "ae.dimse_timeout = None\n",
    "ae.maximum_pdu_size = 0\n",
    "\n",
    "storage_sop_classes = [cx.abstract_syntax for cx in pynetdicom.AllStoragePresentationContexts]\n",
    "for uid in storage_sop_classes:\n",
    "    ae.add_supported_context(uid, pynetdicom.ALL_TRANSFER_SYNTAXES)\n",
    "    \n",
    "ae.start_server((\"\", INCOMING_PORT), block=True, evt_handlers=handlers)"
   ]
  }
 ],
 "metadata": {
  "kernelspec": {
   "display_name": "pymedphys-master",
   "language": "python",
   "name": "pymedphys-master"
  },
  "language_info": {
   "codemirror_mode": {
    "name": "ipython",
    "version": 3
   },
   "file_extension": ".py",
   "mimetype": "text/x-python",
   "name": "python",
   "nbconvert_exporter": "python",
   "pygments_lexer": "ipython3",
   "version": "3.7.5"
  }
 },
 "nbformat": 4,
 "nbformat_minor": 4
}
