{
 "cells": [
  {
   "cell_type": "markdown",
   "metadata": {},
   "source": [
    "# Prototype\n",
    "\n",
    "This whole file assumes that the extension is from the bottom slice.\n",
    "Will need to re-work to handle the more general case.\n",
    "\n",
    "It is explicitly a prototype. This code will have to be re-addressed to make it work for another set of patient data."
   ]
  },
  {
   "cell_type": "markdown",
   "metadata": {},
   "source": [
    "## Description of method\n",
    "\n",
    "This notebook takes a set of CT slices and a structure set file and appends extra CT slices to the bottom. To achieve this the following needs to be done:\n",
    "\n",
    "* New UIDs need to be created for the new dicom slices\n",
    "* New slice locations and patient position tags need to be created\n",
    "* New CT instance numbers need to be created\n",
    "* All new CT slice UIDs need to be added to the structure set file\n",
    "\n",
    "Each relevant section is highlighted below."
   ]
  },
  {
   "cell_type": "markdown",
   "metadata": {},
   "source": [
    "## Initialisation"
   ]
  },
  {
   "cell_type": "code",
   "execution_count": null,
   "metadata": {},
   "outputs": [],
   "source": [
    "import re\n",
    "from copy import deepcopy\n",
    "from glob import glob\n",
    "\n",
    "import numpy as np\n",
    "\n",
    "import pydicom"
   ]
  },
  {
   "cell_type": "code",
   "execution_count": null,
   "metadata": {},
   "outputs": [],
   "source": [
    "y_coord_to_copy = -200\n",
    "copy_up_till = -300  # won't include this position\n",
    "copy_increments = -5\n",
    "\n",
    "new_y_positons = np.arange(\n",
    "    y_coord_to_copy + copy_increments, copy_up_till, copy_increments)\n",
    "\n",
    "number_of_new_slices = len(new_y_positons)\n",
    "new_y_positons"
   ]
  },
  {
   "cell_type": "code",
   "execution_count": null,
   "metadata": {},
   "outputs": [],
   "source": [
    "ct_image_files_not_sorted = np.array(glob('../../../Scratch/extend-ct-patient-data/*image*.dcm'))\n",
    "structure_set_file = glob('../../../Scratch/extend-ct-patient-data/*strctr*.dcm')[0]"
   ]
  },
  {
   "cell_type": "code",
   "execution_count": null,
   "metadata": {},
   "outputs": [],
   "source": [
    "last_file_name = np.sort(ct_image_files_not_sorted)[-1]\n",
    "re_result = re.match(r'(^.*_image)(\\d\\d\\d\\d\\d)(\\.DCM$)', last_file_name)\n",
    "reference_filename_number = int(re_result.group(2))\n",
    "\n",
    "new_filename_numbers = reference_filename_number + np.arange(0, number_of_new_slices) + 1\n",
    "new_ct_slice_filenames = [\n",
    "    ''.join([re_result.group(1), str(number).zfill(5), re_result.group(3)])\n",
    "    for number in new_filename_numbers\n",
    "]\n",
    "\n",
    "new_ct_slice_filenames"
   ]
  },
  {
   "cell_type": "code",
   "execution_count": null,
   "metadata": {},
   "outputs": [],
   "source": [
    "ct_image_dcm_not_sorted = np.array([\n",
    "    pydicom.read_file(file, force=True)\n",
    "    for file in ct_image_files_not_sorted\n",
    "])\n",
    "\n",
    "# ct_image_dcm"
   ]
  },
  {
   "cell_type": "markdown",
   "metadata": {},
   "source": [
    "### Dicom tags for reference"
   ]
  },
  {
   "cell_type": "code",
   "execution_count": null,
   "metadata": {},
   "outputs": [],
   "source": [
    "ct_image_dcm_not_sorted[0].dir()"
   ]
  },
  {
   "cell_type": "markdown",
   "metadata": {},
   "source": [
    "### Loading data"
   ]
  },
  {
   "cell_type": "code",
   "execution_count": null,
   "metadata": {},
   "outputs": [],
   "source": [
    "instance_numbers_not_sorted = np.array([\n",
    "    dcm.InstanceNumber\n",
    "    for dcm in ct_image_dcm_not_sorted\n",
    "]).astype(int)\n",
    "\n",
    "sorting_index = np.argsort(instance_numbers_not_sorted)\n",
    "\n",
    "ct_image_files = ct_image_files_not_sorted[sorting_index]\n",
    "ct_image_dcm = ct_image_dcm_not_sorted[sorting_index]"
   ]
  },
  {
   "cell_type": "code",
   "execution_count": null,
   "metadata": {},
   "outputs": [],
   "source": [
    "uid = np.array([\n",
    "    dcm.SOPInstanceUID\n",
    "    for dcm in ct_image_dcm\n",
    "])"
   ]
  },
  {
   "cell_type": "markdown",
   "metadata": {},
   "source": [
    "## Finding the slice to be copied"
   ]
  },
  {
   "cell_type": "code",
   "execution_count": null,
   "metadata": {},
   "outputs": [],
   "source": [
    "image_position = np.array([\n",
    "    dcm.ImagePositionPatient\n",
    "    for dcm in ct_image_dcm\n",
    "])\n",
    "\n",
    "y_coord = image_position[:, 2]\n",
    "slice_to_copy_ref = y_coord == y_coord_to_copy\n",
    "slice_to_copy = ct_image_dcm[slice_to_copy_ref][0]"
   ]
  },
  {
   "cell_type": "markdown",
   "metadata": {},
   "source": [
    "## Creating the new UIDs"
   ]
  },
  {
   "cell_type": "code",
   "execution_count": null,
   "metadata": {},
   "outputs": [],
   "source": [
    "original_uid = uid[slice_to_copy_ref][0]\n",
    "original_uid_start = original_uid[0:-29]\n",
    "original_uid_end = original_uid[-29::]\n",
    "\n",
    "new_end_uid_numbers = np.arange(number_of_new_slices) + int(original_uid_end) + 1\n",
    "new_uids = [\n",
    "    ''.join([original_uid_start, str(number)])\n",
    "    for number in new_end_uid_numbers\n",
    "]\n",
    "\n",
    "new_uids"
   ]
  },
  {
   "cell_type": "markdown",
   "metadata": {},
   "source": [
    "## Creating the new slice locations"
   ]
  },
  {
   "cell_type": "code",
   "execution_count": null,
   "metadata": {},
   "outputs": [],
   "source": [
    "new_slice_locations = list(new_y_positons.astype(str))\n",
    "new_slice_locations"
   ]
  },
  {
   "cell_type": "markdown",
   "metadata": {},
   "source": [
    "## Creating the new image positions"
   ]
  },
  {
   "cell_type": "code",
   "execution_count": null,
   "metadata": {},
   "outputs": [],
   "source": [
    "reference_image_position = slice_to_copy.ImagePositionPatient\n",
    "\n",
    "new_image_positions = [\n",
    "    [\n",
    "        str(reference_image_position[0]), \n",
    "        str(reference_image_position[1]), \n",
    "        str(y_pos)]\n",
    "    for y_pos in new_y_positons\n",
    "]\n",
    "\n",
    "new_image_positions"
   ]
  },
  {
   "cell_type": "markdown",
   "metadata": {},
   "source": [
    "## Creating the new instance numbers"
   ]
  },
  {
   "cell_type": "code",
   "execution_count": null,
   "metadata": {},
   "outputs": [],
   "source": [
    "reference_instance_number = slice_to_copy.InstanceNumber\n",
    "\n",
    "new_instance_numbers = list((\n",
    "    int(slice_to_copy.InstanceNumber) + np.arange(len(new_y_positons)) + 1\n",
    ").astype(str))\n",
    "\n",
    "new_instance_numbers"
   ]
  },
  {
   "cell_type": "markdown",
   "metadata": {},
   "source": [
    "## Creating the new CT slices\n",
    "\n",
    "Deep copy must be used here otherwise all slices will end up the same as each other."
   ]
  },
  {
   "cell_type": "code",
   "execution_count": null,
   "metadata": {},
   "outputs": [],
   "source": [
    "new_slices = []\n",
    "\n",
    "for uid, instance, slice_location, position in zip(\n",
    "    new_uids, new_instance_numbers, new_slice_locations, new_image_positions\n",
    "):\n",
    "    new_slice = deepcopy(slice_to_copy)\n",
    "    new_slice.SOPInstanceUID = uid\n",
    "    new_slice.InstanceNumber = instance\n",
    "    new_slice.SliceLocation = slice_location\n",
    "    new_slice.ImagePositionPatient = position\n",
    "    \n",
    "    new_slices.append(new_slice)\n",
    "    "
   ]
  },
  {
   "cell_type": "markdown",
   "metadata": {},
   "source": [
    "## Updating the structure set dicom file with the new CT slices"
   ]
  },
  {
   "cell_type": "code",
   "execution_count": null,
   "metadata": {},
   "outputs": [],
   "source": [
    "structure_dcm = pydicom.read_file(structure_set_file, force=True)\n",
    "contour_image_sequence = structure_dcm.ReferencedFrameOfReferenceSequence[0].RTReferencedStudySequence[0].RTReferencedSeriesSequence[0].ContourImageSequence\n",
    "\n",
    "for uid in new_uids:\n",
    "    reference_dataset = deepcopy(contour_image_sequence[0])\n",
    "    reference_dataset.ReferencedSOPInstanceUID = uid\n",
    "    contour_image_sequence.append(reference_dataset)\n",
    "\n",
    "    \n",
    "contour_image_sequence"
   ]
  },
  {
   "cell_type": "markdown",
   "metadata": {},
   "source": [
    "## Saving the new files"
   ]
  },
  {
   "cell_type": "code",
   "execution_count": null,
   "metadata": {},
   "outputs": [],
   "source": [
    "for dcm, filename in zip(new_slices, new_ct_slice_filenames):\n",
    "    dcm.save_as(filename=filename)"
   ]
  },
  {
   "cell_type": "code",
   "execution_count": null,
   "metadata": {},
   "outputs": [],
   "source": [
    "structure_dcm.save_as(filename=structure_set_file)"
   ]
  },
  {
   "cell_type": "code",
   "execution_count": null,
   "metadata": {},
   "outputs": [],
   "source": []
  }
 ],
 "metadata": {
  "kernelspec": {
   "display_name": "Python 3",
   "language": "python",
   "name": "python3"
  },
  "language_info": {
   "codemirror_mode": {
    "name": "ipython",
    "version": 3
   },
   "file_extension": ".py",
   "mimetype": "text/x-python",
   "name": "python",
   "nbconvert_exporter": "python",
   "pygments_lexer": "ipython3",
   "version": "3.7.0"
  }
 },
 "nbformat": 4,
 "nbformat_minor": 4
}
