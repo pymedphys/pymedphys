{
 "cells": [
  {
   "cell_type": "markdown",
   "metadata": {},
   "source": [
    "# MU Density from trf logfile\n",
    "\n",
    "PyMedPhys exposes tools to read in trf logfiles into objects which can be easily passed around. In this example we will be reading a logfile directly from disk into a `Delivery` object, then using the values within this object to calculate an MU Density."
   ]
  },
  {
   "cell_type": "code",
   "execution_count": null,
   "metadata": {},
   "outputs": [],
   "source": [
    "from glob import glob\n",
    "\n",
    "import numpy as np\n",
    "import matplotlib.pyplot as plt\n",
    "\n",
    "import pymedphys"
   ]
  },
  {
   "cell_type": "markdown",
   "metadata": {},
   "source": [
    "For the purpose of this exercise one of the log files used for constancy testing within PyMedPhys will be used. Any trf log file path can be provided in the string below. "
   ]
  },
  {
   "cell_type": "code",
   "execution_count": null,
   "metadata": {},
   "outputs": [],
   "source": [
    "logfile_path_search_string = '../../../tests/fileformats/trf/data/*/*VMAT*.trf'\n",
    "\n",
    "example_logfile_from_tests = glob(logfile_path_search_string)[0]\n",
    "example_logfile_from_tests"
   ]
  },
  {
   "cell_type": "markdown",
   "metadata": {},
   "source": [
    "## Delivery Data from a Log File\n",
    "\n",
    "`Delivery` is an object within PyMedPhys which holds monitor units, gantry angles, collimator angles, as well as MLC and Jaw positions. It can be parameterised by control points, or by time interval. This particular object is a likely candiated for being adjusted in the future.\n",
    "\n",
    "Helper functions are provided within PyMedPhys to extract `Delivery` from Mosaiq SQL queries as well as log files. In the future DICOM RT plan files are also expected to be supported.\n",
    "\n",
    "The API for creating and interacting with `Delivery` is likely to change in the future."
   ]
  },
  {
   "cell_type": "code",
   "execution_count": null,
   "metadata": {},
   "outputs": [],
   "source": [
    "delivery_data = pymedphys.Delivery.from_logfile(example_logfile_from_tests)"
   ]
  },
  {
   "cell_type": "code",
   "execution_count": null,
   "metadata": {},
   "outputs": [],
   "source": [
    "mu = delivery_data.monitor_units\n",
    "mlc = delivery_data.mlc\n",
    "jaw = delivery_data.jaw"
   ]
  },
  {
   "cell_type": "markdown",
   "metadata": {},
   "source": [
    "## Calculating and displaying the MU Density\n",
    "\n",
    "Once MU, MLC, and Jaw parameters are known these can be used to calculate an MU Density."
   ]
  },
  {
   "cell_type": "code",
   "execution_count": null,
   "metadata": {},
   "outputs": [],
   "source": [
    "first_10_seconds = slice(0, 10 * 25, 1)"
   ]
  },
  {
   "cell_type": "code",
   "execution_count": null,
   "metadata": {},
   "outputs": [],
   "source": [
    "mu_density = pymedphys.mudensity.calculate(\n",
    "    mu[first_10_seconds], mlc[first_10_seconds], \n",
    "    jaw[first_10_seconds])"
   ]
  },
  {
   "cell_type": "code",
   "execution_count": null,
   "metadata": {},
   "outputs": [],
   "source": [
    "grid = pymedphys.mudensity.grid()\n",
    "\n",
    "plt.figure(figsize=(6,4))\n",
    "pymedphys.mudensity.display(grid, mu_density)\n",
    "plt.xlim([-60, 60])\n",
    "plt.ylim([50, -60])"
   ]
  }
 ],
 "metadata": {
  "kernelspec": {
   "display_name": "Python 3",
   "language": "python",
   "name": "python3"
  },
  "language_info": {
   "codemirror_mode": {
    "name": "ipython",
    "version": 3
   },
   "file_extension": ".py",
   "mimetype": "text/x-python",
   "name": "python",
   "nbconvert_exporter": "python",
   "pygments_lexer": "ipython3",
   "version": "3.7.4"
  }
 },
 "nbformat": 4,
 "nbformat_minor": 4
}
