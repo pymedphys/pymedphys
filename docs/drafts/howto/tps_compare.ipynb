{
 "cells": [
  {
   "cell_type": "markdown",
   "metadata": {},
   "source": [
    "# Comparing Mephysto measurements to TPS DICOM dose exports\n",
    "\n",
    "PyMedPhys contains within it tools to read Mephysto files as well as tools to extract profiles out of DICOM dose files. This example combines these two features together to compare beam models from both the TPS and the independent check software to measurement.\n",
    "\n",
    "So that the exported doses can be directly compared the Mephysto profiles are normalised by absolute dose and output factors so that the profile units of both the DICOM files and the measurements both end up as Gy / 100 MU."
   ]
  },
  {
   "cell_type": "code",
   "execution_count": null,
   "metadata": {},
   "outputs": [],
   "source": [
    "# Makes it so any changes in pymedphys is automatically\n",
    "# propagate into the notebook without needing a kernel reset.\n",
    "from IPython.lib.deepreload import reload\n",
    "%load_ext autoreload\n",
    "%autoreload 2"
   ]
  },
  {
   "cell_type": "code",
   "execution_count": null,
   "metadata": {},
   "outputs": [],
   "source": [
    "import re\n",
    "import operator\n",
    "import pathlib\n",
    "import zipfile\n",
    "import urllib.request\n",
    "\n",
    "import numpy as np\n",
    "import matplotlib.pyplot as plt\n",
    "import pandas as pd\n",
    "\n",
    "import pydicom\n",
    "\n",
    "import pymedphys.dicom\n",
    "import pymedphys.labs.tpscompare"
   ]
  },
  {
   "cell_type": "markdown",
   "metadata": {},
   "source": [
    "## Download and extract the data\n",
    "\n",
    "For this example we will be using a 350 MB zip file which contains a range of DICOM dose files as well as mephysto measurement files. We will now download these if the `data/tpscompare` directory doesn't already exist"
   ]
  },
  {
   "cell_type": "code",
   "execution_count": null,
   "metadata": {},
   "outputs": [],
   "source": [
    "DATA_DIR = pathlib.Path('data')\n",
    "DATA_DIR.mkdir(exist_ok=True)\n",
    "ROOT_DIR = DATA_DIR.joinpath(\"tpscompare\")\n",
    "\n",
    "if not ROOT_DIR.exists():\n",
    "    zip_filepath = DATA_DIR.joinpath('tpscompare.zip')\n",
    "    \n",
    "    url = 'https://zenodo.org/record/3351939/files/tpscompare.zip?download=1'\n",
    "    urllib.request.urlretrieve(url, zip_filepath)\n",
    "    \n",
    "    with zipfile.ZipFile(zip_filepath, 'r') as zip_ref:\n",
    "        zip_ref.extractall(DATA_DIR)"
   ]
  },
  {
   "cell_type": "markdown",
   "metadata": {},
   "source": [
    "## Defining the data directories\n",
    "\n",
    "The data we just extracted is stored in the following way: \n",
    "\n",
    "![](./img/file-tree.png)\n",
    "\n",
    "There are two locations where there are DICOM dose files, `Beam Models/DoseCHECK` and `Beam Models/Monaco`. There is also a plan file placed at `Beam Models/plan.dcm` which is the plan file that was used to create those doses.\n",
    "\n",
    "Under `Measurements` are a range of Mephysto `.mcc` files, as well as three `.csv` files."
   ]
  },
  {
   "cell_type": "code",
   "execution_count": null,
   "metadata": {},
   "outputs": [],
   "source": [
    "BEAM_MODELS_DIR = ROOT_DIR.joinpath(\"Beam Models\")\n",
    "\n",
    "PLAN_FILEPATH = BEAM_MODELS_DIR.joinpath(\"plan.dcm\")\n",
    "MONACO_DICOM_DIR = BEAM_MODELS_DIR.joinpath(\"Monaco\")\n",
    "DOSECHECK_DICOM_DIR = BEAM_MODELS_DIR.joinpath(\"DoseCHECK\")\n",
    "\n",
    "MEASUREMENTS_DIR = ROOT_DIR.joinpath(\"Measurements\")\n",
    "\n",
    "RESULTS = ROOT_DIR.joinpath(\"Results\")"
   ]
  },
  {
   "cell_type": "markdown",
   "metadata": {},
   "source": [
    "## The dose normalisation definitions\n",
    "\n",
    "To rescale the measurements to be `Gy / 100 MU` the absolute dose calibration, the total output factors, and any wedge transmission factors need to be supplied. In this example these are provided within `Calibration.csv`, `OutputFactors.csv` and `WedgeTransmissionFactors.csv`.\n",
    "\n",
    "Here are the contents of those files:"
   ]
  },
  {
   "cell_type": "code",
   "execution_count": null,
   "metadata": {},
   "outputs": [],
   "source": [
    "calibrated_doses_table = pd.read_csv(\n",
    "    MEASUREMENTS_DIR.joinpath('Calibration.csv'), index_col=0)\n",
    "calibrated_doses = calibrated_doses_table['d10 @ 90 SSD']\n",
    "\n",
    "calibrated_doses_table"
   ]
  },
  {
   "cell_type": "code",
   "execution_count": null,
   "metadata": {},
   "outputs": [],
   "source": [
    "output_factors = pd.read_csv(\n",
    "    MEASUREMENTS_DIR.joinpath('OutputFactors.csv'), index_col=0)\n",
    "output_factors"
   ]
  },
  {
   "cell_type": "code",
   "execution_count": null,
   "metadata": {},
   "outputs": [],
   "source": [
    "wedge_transmission_table = pd.read_csv(\n",
    "    MEASUREMENTS_DIR.joinpath('WedgeTransmissionFactors.csv'), index_col=0)\n",
    "data_column_name = wedge_transmission_table.columns[0]\n",
    "wedge_transmissions = wedge_transmission_table[data_column_name]\n",
    "\n",
    "wedge_transmission_table"
   ]
  },
  {
   "cell_type": "markdown",
   "metadata": {},
   "source": [
    "## Creating a list of beams to check\n",
    "\n",
    "To know which beams we want to check we need to create a list. Since we have a list already in our `Beam Models` directories, lets use those to make a list"
   ]
  },
  {
   "cell_type": "code",
   "execution_count": null,
   "metadata": {},
   "outputs": [],
   "source": [
    "keys = [\n",
    "    path.stem\n",
    "    for path in MONACO_DICOM_DIR.glob('*.dcm')\n",
    "]\n",
    "\n",
    "keys"
   ]
  },
  {
   "cell_type": "markdown",
   "metadata": {},
   "source": [
    "## Defining the absolute doses at 100 mm depth for 90 SSD\n",
    "\n",
    "For each profile and depth dose we want to compare we need to determine the absolute dose to normalise to. Here we are using the keys defined above to look up the `.csv` files loaded above to create a dictionary from each key to it's corresponding absolute dose at 100 mm depth @ 90 SSD."
   ]
  },
  {
   "cell_type": "code",
   "execution_count": null,
   "metadata": {},
   "outputs": [],
   "source": [
    "regex_string = r'(\\d\\dMV(FFF)?) (\\d\\dx\\d\\d) ((\\bOpen\\b)|(\\bWedge\\b))'\n",
    "\n",
    "def get_energy_field_block(key):\n",
    "    match = re.match(regex_string, key)\n",
    "    return match.group(1), match.group(3), match.group(4)"
   ]
  },
  {
   "cell_type": "code",
   "execution_count": null,
   "metadata": {},
   "outputs": [],
   "source": [
    "absolute_doses = {}\n",
    "\n",
    "for key in keys:\n",
    "    energy, field, block = get_energy_field_block(key)\n",
    "        \n",
    "    if block == 'Wedge':\n",
    "        wtf = wedge_transmissions[energy]\n",
    "    else:\n",
    "        wtf = 1\n",
    "        \n",
    "    output_factor = output_factors[f'{field} {block}'][energy]\n",
    "    calibrated_dose = calibrated_doses[energy]\n",
    "    \n",
    "    absolute_dose = calibrated_dose * output_factor * wtf\n",
    "    absolute_doses[key] = absolute_dose\n",
    "    \n",
    "\n",
    "absolute_doses"
   ]
  },
  {
   "cell_type": "markdown",
   "metadata": {},
   "source": [
    "## The `load_and_normalise_mephysto` function\n",
    "\n",
    "PyMedPhys exports a function `load_and_normalise_mephysto`. The docstring for this function is printed below."
   ]
  },
  {
   "cell_type": "code",
   "execution_count": null,
   "metadata": {},
   "outputs": [],
   "source": [
    "print(pymedphys.labs.tpscompare.load_and_normalise_mephysto.__doc__)"
   ]
  },
  {
   "cell_type": "markdown",
   "metadata": {},
   "source": [
    "### Using `load_and_normalise_mephysto`\n",
    "\n",
    "To use this function we must pass a directory, a regex string, an the absolute dose dictionary provided above as well as the normalisation depth defined in mm. We do this below:"
   ]
  },
  {
   "cell_type": "code",
   "execution_count": null,
   "metadata": {},
   "outputs": [],
   "source": [
    "absolute_scans_per_field = pymedphys.labs.tpscompare.load_and_normalise_mephysto(\n",
    "    MEASUREMENTS_DIR, \n",
    "    r'(\\d\\dMV(FFF)? \\d\\dx\\d\\d ((\\bOpen\\b)|(\\bWedge\\b)))\\.mcc', \n",
    "    absolute_doses, 100)"
   ]
  },
  {
   "cell_type": "markdown",
   "metadata": {},
   "source": [
    "Of note is the regex string. To get an understanding of what this string is doing see https://regex101.com/r/DgC3MZ/1."
   ]
  },
  {
   "cell_type": "code",
   "execution_count": null,
   "metadata": {},
   "outputs": [],
   "source": [
    "mephysto_keys = list(absolute_scans_per_field.keys())\n",
    "assert set(mephysto_keys) == set(keys), (\n",
    "    f'Mephysto keys do not agree.\\nMephysto Keys: f{mephysto_keys}\\nOriginal Keys: f{keys}')"
   ]
  },
  {
   "cell_type": "markdown",
   "metadata": {},
   "source": [
    "## Loading DICOM Files\n",
    "\n",
    "Next we wish to load up our DICOM files. We will do this based upon the keys we have defined."
   ]
  },
  {
   "cell_type": "code",
   "execution_count": null,
   "metadata": {},
   "outputs": [],
   "source": [
    "def load_dicom_files(directory, keys):\n",
    "    dicom_file_map = {\n",
    "        key: directory.joinpath(f'{key}.dcm')\n",
    "        for key in keys\n",
    "    }\n",
    "    \n",
    "    dicom_dataset_map = {\n",
    "        key: pydicom.read_file(str(dicom_file_map[key]), force=True)\n",
    "        for key in keys\n",
    "    }\n",
    "    \n",
    "    return dicom_dataset_map"
   ]
  },
  {
   "cell_type": "code",
   "execution_count": null,
   "metadata": {},
   "outputs": [],
   "source": [
    "monaco_dicom_dataset_map = load_dicom_files(MONACO_DICOM_DIR, keys)\n",
    "dosecheck_dicom_dataset_map = load_dicom_files(DOSECHECK_DICOM_DIR, keys)"
   ]
  },
  {
   "cell_type": "code",
   "execution_count": null,
   "metadata": {},
   "outputs": [],
   "source": [
    "dicom_plan = pydicom.read_file(str(PLAN_FILEPATH), force=True)"
   ]
  },
  {
   "cell_type": "markdown",
   "metadata": {},
   "source": [
    "## Plotting\n",
    "\n",
    "### Creating the plotting functions\n",
    "\n",
    "Here we create a set of functions which will be reused to display the overlayed doses and their dose differences."
   ]
  },
  {
   "cell_type": "code",
   "execution_count": null,
   "metadata": {},
   "outputs": [],
   "source": [
    "getter = operator.itemgetter('displacement', 'dose')\n",
    "\n",
    "def plot_one_axis(ax, displacement, meas_dose, model_dose):\n",
    "    diff = 100 * (model_dose - meas_dose) / meas_dose\n",
    "    \n",
    "    lines = []\n",
    "    \n",
    "    lines += ax.plot(displacement, meas_dose, label='Measured Dose')\n",
    "    lines += ax.plot(displacement, model_dose, label='Model Dose')\n",
    "    ax.set_ylabel('Dose (Gy / 100 MU)')\n",
    "    \n",
    "    x_bounds = [np.min(displacement), np.max(displacement)]\n",
    "    ax.set_xlim(x_bounds)\n",
    "\n",
    "    ax_twin = ax.twinx()\n",
    "\n",
    "    lines += ax_twin.plot(\n",
    "        displacement, diff, color='C3', lw=0.5,\n",
    "        label=r'% Residuals [100 $\\times$ (Model - Meas) / Meas]')\n",
    "    ax_twin.plot(x_bounds, [0, 0], '--', color='C3', lw=0.5)\n",
    "    ax_twin.set_ylabel(r'% Dose difference [100 $\\times$ (Model - Meas) / Meas]')\n",
    "\n",
    "    labels = [l.get_label() for l in lines]\n",
    "    \n",
    "    ax.legend(lines, labels, loc='lower left')\n",
    "    \n",
    "    return ax_twin\n",
    "\n",
    "\n",
    "\n",
    "def plot_tps_meas_diff(displacement, meas_dose, monaco_dose, dosecheck_dose):\n",
    "    fig, ax = plt.subplots(1, 2, figsize=(10.5,6), sharey=True)\n",
    "    ax[1].yaxis.set_tick_params(which='both', labelbottom=True)\n",
    "\n",
    "    ax_twin = list()\n",
    "    \n",
    "    ax_twin.append(plot_one_axis(ax[0], displacement, meas_dose, monaco_dose))\n",
    "    ax_twin.append(plot_one_axis(ax[1], displacement, meas_dose, dosecheck_dose))\n",
    "    \n",
    "    ax_twin[1].get_shared_y_axes().join(ax_twin[1], ax_twin[0])\n",
    "    ax_twin[1].set_ylim([-5, 5])\n",
    "    plt.tight_layout()\n",
    "    plt.subplots_adjust(wspace=0.4, top=0.86)\n",
    "    \n",
    "    return fig, ax"
   ]
  },
  {
   "cell_type": "markdown",
   "metadata": {},
   "source": [
    "### Creating the depth dose plotting function\n",
    "\n",
    "Here we create the `plot_depth_dose_diff` function.\n",
    "\n",
    "Of note it can be seen that there is a `/ 10` at the end of each dose loading section. This is because 1000 MU was used per beam to generate the doses in the dose files. By diving by 10 this scales these doses to `Gy / 100 MU`."
   ]
  },
  {
   "cell_type": "code",
   "execution_count": null,
   "metadata": {},
   "outputs": [],
   "source": [
    "def plot_depth_dose_diff(key, absolute_scans_per_field, \n",
    "                         monaco_dicom_dataset_map, dosecheck_dicom_dataset_map, \n",
    "                         dicom_plan):\n",
    "    depth, meas_dose = getter(absolute_scans_per_field[key]['depth_dose'])\n",
    "    \n",
    "    monaco_dose = pymedphys.dicom.depth_dose(\n",
    "        depth, monaco_dicom_dataset_map[key], dicom_plan) / 10\n",
    "    dosecheck_dose = pymedphys.dicom.depth_dose(\n",
    "        depth, dosecheck_dicom_dataset_map[key], dicom_plan) / 10\n",
    "\n",
    "    fig, ax = plot_tps_meas_diff(depth, meas_dose, monaco_dose, dosecheck_dose)\n",
    "    fig.suptitle(f'Depth Dose Comparisons | {key}', fontsize=\"x-large\")\n",
    "    ax[0].set_title(\"Monaco\")\n",
    "    ax[1].set_title(\"DoseCHECK\")\n",
    "    \n",
    "    ax[0].set_xlabel(\"Depth (mm)\")\n",
    "    ax[1].set_xlabel(\"Depth (mm)\")"
   ]
  },
  {
   "cell_type": "markdown",
   "metadata": {},
   "source": [
    "In the above function `pymedphys.dicom.depth_dose` was used. See below for its docstring."
   ]
  },
  {
   "cell_type": "code",
   "execution_count": null,
   "metadata": {},
   "outputs": [],
   "source": [
    "print(pymedphys.dicom.depth_dose.__doc__)"
   ]
  },
  {
   "cell_type": "markdown",
   "metadata": {},
   "source": [
    "### Plotting the depth doses\n",
    "\n",
    "Now we have defined our functions, let's step through each of our keys, plot and save the results as png images in the results directory."
   ]
  },
  {
   "cell_type": "code",
   "execution_count": null,
   "metadata": {},
   "outputs": [],
   "source": [
    "for key in keys:\n",
    "    plot_depth_dose_diff(key, absolute_scans_per_field, \n",
    "                         monaco_dicom_dataset_map, dosecheck_dicom_dataset_map, \n",
    "                         dicom_plan)\n",
    "    filename = RESULTS.joinpath(f'{key}_pdd.png')\n",
    "    plt.savefig(filename)\n",
    "    plt.show()"
   ]
  },
  {
   "cell_type": "markdown",
   "metadata": {},
   "source": [
    "### Creating the profile plotting function\n",
    "\n",
    "Here we create the `plot_profile_diff` function.\n"
   ]
  },
  {
   "cell_type": "code",
   "execution_count": null,
   "metadata": {},
   "outputs": [],
   "source": [
    "def plot_profile_diff(key, depth, direction, absolute_scans_per_field, \n",
    "                      monaco_dicom_dataset_map, dosecheck_dicom_dataset_map, \n",
    "                      dicom_plan):\n",
    "    displacement, meas_dose = getter(\n",
    "        absolute_scans_per_field[key]['profiles'][depth][direction])\n",
    "    \n",
    "    monaco_dose = pymedphys.dicom.profile(\n",
    "        displacement, depth, direction, \n",
    "        monaco_dicom_dataset_map[key], dicom_plan) / 10\n",
    "    dosecheck_dose = pymedphys.dicom.profile(\n",
    "        displacement, depth, direction, \n",
    "        dosecheck_dicom_dataset_map[key], dicom_plan) / 10\n",
    "\n",
    "    fig, ax = plot_tps_meas_diff(displacement, meas_dose, monaco_dose, dosecheck_dose)\n",
    "    fig.suptitle(\n",
    "        f'{direction.capitalize()} Profile Comparisons | {key} | Depth: {depth} mm',\n",
    "        fontsize=\"x-large\")\n",
    "    ax[0].set_title(\"Monaco\")\n",
    "    ax[1].set_title(\"DoseCHECK\")\n",
    "    \n",
    "    ax[0].set_xlabel(\"Displacement from CRA (mm)\")\n",
    "    ax[1].set_xlabel(\"Displacement from CRA (mm)\")"
   ]
  },
  {
   "cell_type": "markdown",
   "metadata": {},
   "source": [
    "In the above function `pymedphys.dicom.profile` was used. See below for its docstring."
   ]
  },
  {
   "cell_type": "code",
   "execution_count": null,
   "metadata": {},
   "outputs": [],
   "source": [
    "print(pymedphys.dicom.profile.__doc__)"
   ]
  },
  {
   "cell_type": "markdown",
   "metadata": {},
   "source": [
    "### Plotting the profiles\n",
    "\n",
    "For the profiles we need to both step through our keys, depths, and our directions. Once we have done that, plot the profile and save the result with an appropriately named filename."
   ]
  },
  {
   "cell_type": "code",
   "execution_count": null,
   "metadata": {},
   "outputs": [],
   "source": [
    "for key in keys:\n",
    "    depths = absolute_scans_per_field[key]['profiles'].keys()\n",
    "    for depth in depths:\n",
    "        for direction in ['inplane', 'crossplane']:\n",
    "            plot_profile_diff(key, depth, direction, absolute_scans_per_field, \n",
    "                              monaco_dicom_dataset_map, dosecheck_dicom_dataset_map, \n",
    "                              dicom_plan)\n",
    "            filename = RESULTS.joinpath(f'{key}_profile_{depth}mm_{direction}.png')\n",
    "            plt.savefig(filename)\n",
    "            plt.show()"
   ]
  }
 ],
 "metadata": {
  "kernelspec": {
   "display_name": "Python 3",
   "language": "python",
   "name": "python3"
  },
  "language_info": {
   "codemirror_mode": {
    "name": "ipython",
    "version": 3
   },
   "file_extension": ".py",
   "mimetype": "text/x-python",
   "name": "python",
   "nbconvert_exporter": "python",
   "pygments_lexer": "ipython3",
   "version": "3.7.3"
  },
  "nbsphinx": {
   "timeout": 600
  }
 },
 "nbformat": 4,
 "nbformat_minor": 4
}
