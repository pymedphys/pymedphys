{
 "cells": [
  {
   "cell_type": "markdown",
   "metadata": {},
   "source": [
    "# Pinnacle Export to DICOM Example"
   ]
  },
  {
   "cell_type": "markdown",
   "metadata": {},
   "source": [
    "### Import libraries requried"
   ]
  },
  {
   "cell_type": "code",
   "execution_count": null,
   "metadata": {},
   "outputs": [],
   "source": [
    "import os\n",
    "import tarfile\n",
    "import shutil\n",
    "\n",
    "from pymedphys.labs.pinnacle import PinnacleExport"
   ]
  },
  {
   "cell_type": "markdown",
   "metadata": {},
   "source": [
    "### Configure Paths"
   ]
  },
  {
   "cell_type": "code",
   "execution_count": null,
   "metadata": {},
   "outputs": [],
   "source": [
    "from pathlib import Path # with pathlib we get the user home directory\n",
    "working_path = os.path.join(str(Path.home()), 'pinnacle', 'working') # Directory to extract TAR and export DICOM (should be empty!)\n",
    "pinn_path = 'Institution_2812/Mount_0/Patient_16218' # Path to Patient directory within TAR\n",
    "pinn_archive = '../../../../tests/labs/pinnacle/data/pinn/test_pinnacle_16.0.tar.gz' # Path to TAR archive\n",
    "\n",
    "archive_path = os.path.join(working_path, 'pinn')\n",
    "export_path = os.path.join(working_path, 'output')\n",
    "\n",
    "shutil.rmtree(export_path, ignore_errors=True)\n",
    "os.makedirs(export_path)\n",
    "\n",
    "print(\"Files will be exported to: {0}\".format(export_path))"
   ]
  },
  {
   "cell_type": "markdown",
   "metadata": {},
   "source": [
    "### Extract Tar Archive"
   ]
  },
  {
   "cell_type": "code",
   "execution_count": null,
   "metadata": {},
   "outputs": [],
   "source": [
    "t=tarfile.open(pinn_archive)\n",
    "\n",
    "for m in t.getmembers():\n",
    "    if not ':' in m.name:\n",
    "        t.extract(m, path=archive_path)\n",
    "pinn_extracted = os.path.join(archive_path, pinn_path)"
   ]
  },
  {
   "cell_type": "markdown",
   "metadata": {},
   "source": [
    "### Initialize Pinnacle object"
   ]
  },
  {
   "cell_type": "code",
   "execution_count": null,
   "metadata": {},
   "outputs": [],
   "source": [
    "pinn = PinnacleExport(pinn_extracted, None)\n",
    "pinn.logger.setLevel('INFO') # Set the log level to DEBUG to see much more verbose log output"
   ]
  },
  {
   "cell_type": "markdown",
   "metadata": {},
   "source": [
    "### Find the desired Plan object"
   ]
  },
  {
   "cell_type": "code",
   "execution_count": null,
   "metadata": {},
   "outputs": [],
   "source": [
    "# Find the plan we want to export in the list of plans\n",
    "plan_name = 'Plan_2'\n",
    "export_plan = None\n",
    "for p in pinn.plans:\n",
    "    if p.plan_info['PlanName'] == plan_name:\n",
    "        export_plan = p\n",
    "        break\n",
    "\n",
    "if not export_plan:\n",
    "    print(\"Plan not found. Plans available are: \")\n",
    "    for p in plans:\n",
    "        print(p.plan_info['PlanName'])"
   ]
  },
  {
   "cell_type": "markdown",
   "metadata": {},
   "source": [
    "### Export primary image of plan"
   ]
  },
  {
   "cell_type": "code",
   "execution_count": null,
   "metadata": {},
   "outputs": [],
   "source": [
    "pinn.export_image(export_plan.primary_image, export_path=export_path)"
   ]
  },
  {
   "cell_type": "markdown",
   "metadata": {},
   "source": [
    "### Export RTSTRUCT"
   ]
  },
  {
   "cell_type": "code",
   "execution_count": null,
   "metadata": {},
   "outputs": [],
   "source": [
    "pinn.export_struct(export_plan, export_path)"
   ]
  },
  {
   "cell_type": "markdown",
   "metadata": {},
   "source": [
    "### Export RTPLAN"
   ]
  },
  {
   "cell_type": "code",
   "execution_count": null,
   "metadata": {},
   "outputs": [],
   "source": [
    "pinn.export_plan(export_plan, export_path)"
   ]
  },
  {
   "cell_type": "markdown",
   "metadata": {},
   "source": [
    "### Export RTDOSE"
   ]
  },
  {
   "cell_type": "code",
   "execution_count": null,
   "metadata": {},
   "outputs": [],
   "source": [
    "pinn.export_dose(export_plan, export_path)"
   ]
  },
  {
   "cell_type": "markdown",
   "metadata": {},
   "source": [
    "### Export a different image series (not the primary image for the plan)"
   ]
  },
  {
   "cell_type": "code",
   "execution_count": null,
   "metadata": {},
   "outputs": [],
   "source": [
    "series_uid = '1.2.840.113704.1.111.7500.1496636105.13'\n",
    "for image in pinn.images:\n",
    "    if series_uid == image.image_header['series_UID']:\n",
    "        pinn.export_image(image, export_path=export_path)"
   ]
  },
  {
   "cell_type": "code",
   "execution_count": null,
   "metadata": {},
   "outputs": [],
   "source": []
  }
 ],
 "metadata": {
  "kernelspec": {
   "display_name": "Python 3",
   "language": "python",
   "name": "python3"
  },
  "language_info": {
   "codemirror_mode": {
    "name": "ipython",
    "version": 3
   },
   "file_extension": ".py",
   "mimetype": "text/x-python",
   "name": "python",
   "nbconvert_exporter": "python",
   "pygments_lexer": "ipython3",
   "version": "3.7.4"
  }
 },
 "nbformat": 4,
 "nbformat_minor": 4
}
