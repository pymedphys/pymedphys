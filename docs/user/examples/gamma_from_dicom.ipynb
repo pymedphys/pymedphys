{
 "cells": [
  {
   "cell_type": "markdown",
   "metadata": {},
   "source": [
    "# Gamma from DICOM\n",
    "\n",
    "PyMedPhys has multiple ways to calculate Gamma. There are also a range of interfaces that can be used. Presented here is a simplified interface which receives as its input two DICOM file paths for the purpose of directly calculating Gamma from a pair of RT DICOM dose files."
   ]
  },
  {
   "cell_type": "code",
   "execution_count": null,
   "metadata": {},
   "outputs": [],
   "source": [
    "import os\n",
    "import warnings\n",
    "from glob import glob\n",
    "import zipfile\n",
    "\n",
    "import numpy as np\n",
    "import matplotlib.pyplot as plt\n",
    "\n",
    "import pydicom\n",
    "\n",
    "from pymedphys.gamma import gamma_dicom\n",
    "from pymedphys.dicom import zyx_and_dose_from_dataset"
   ]
  },
  {
   "cell_type": "markdown",
   "metadata": {},
   "source": [
    "## Getting the demo DICOM files\n",
    "\n",
    "Over at https://app.pymedphys.com there are some demo files which can be used. Let's grab those here for the purpose of demonstrating `gamma_dicom` usage."
   ]
  },
  {
   "cell_type": "code",
   "execution_count": null,
   "metadata": {},
   "outputs": [],
   "source": [
    "pymedphys_app_demo_files_zip = '../../../app/src/data/demo-files.zip'\n",
    "\n",
    "with zipfile.ZipFile(pymedphys_app_demo_files_zip) as myzip:\n",
    "    with myzip.open('original_dose_beam_4.dcm', 'r') as myfile:\n",
    "        reference = pydicom.dcmread(myfile, force=True)\n",
    "        \n",
    "    with myzip.open('logfile_dose_beam_4.dcm', 'r') as myfile:\n",
    "        evaluation = pydicom.dcmread(myfile, force=True)"
   ]
  },
  {
   "cell_type": "markdown",
   "metadata": {},
   "source": [
    "## Calculate and display Gamma\n",
    "\n",
    "Due to the time it takes to run a full Gamma calculation we have chosen here to pass the parameter `random_subset`. This drastically speeds up the calculation at the cost of introducing uncertainty into reported pass rates. Each time these docs are built online the code is run, we don't want to bog the documentation building down in a Gamma calc, so we apply this parameter here.\n",
    "\n",
    "A second optional parameter is also passed, `max_gamma`. This informs the Gamma calculation to not search for Gamma values greater than `1.1`, this also speeds up the calculation at the expense of losing some information.\n",
    "\n",
    "The required parameters to `gamma_dicom` are `dicom_dataset_ref`, `dicom_dataset_eval`, `dose_percent_threshold`, and `distance_mm_threshold`."
   ]
  },
  {
   "cell_type": "code",
   "execution_count": null,
   "metadata": {},
   "outputs": [],
   "source": [
    "gamma_options = {\n",
    "    'dose_percent_threshold': 2,\n",
    "    'distance_mm_threshold': 2,\n",
    "    'lower_percent_dose_cutoff': 20,\n",
    "    'interp_fraction': 10,  # Should be about 10 for more accurate results\n",
    "    'max_gamma': 2,\n",
    "    'random_subset': None,\n",
    "    'local_gamma': False,\n",
    "    'ram_available': 2**29  # 1/2 GB\n",
    "}\n",
    "    \n",
    "gamma = gamma_dicom(\n",
    "    reference, evaluation, **gamma_options)"
   ]
  },
  {
   "cell_type": "code",
   "execution_count": null,
   "metadata": {},
   "outputs": [],
   "source": [
    "valid_gamma = gamma[~np.isnan(gamma)]\n",
    "\n",
    "num_bins = (\n",
    "    gamma_options['interp_fraction'] * gamma_options['max_gamma'])\n",
    "bins = np.linspace(0, gamma_options['max_gamma'], num_bins + 1)\n",
    "\n",
    "plt.hist(valid_gamma, bins, density=True)\n",
    "plt.xlim([0, gamma_options['max_gamma']])\n",
    "\n",
    "pass_ratio = np.sum(valid_gamma <= 1) / len(valid_gamma)\n",
    "\n",
    "plt.title(\"Gamma Percent Pass: {0:.2f} %\".format(pass_ratio*100))"
   ]
  },
  {
   "cell_type": "markdown",
   "metadata": {},
   "source": [
    "## Plotting the Dose and the Gamma"
   ]
  },
  {
   "cell_type": "code",
   "execution_count": null,
   "metadata": {},
   "outputs": [],
   "source": [
    "(z_ref, y_ref, x_ref), dose_reference = zyx_and_dose_from_dataset(reference)\n",
    "(z_eval, y_eval, x_eval), dose_evaluation = zyx_and_dose_from_dataset(evaluation)"
   ]
  },
  {
   "cell_type": "code",
   "execution_count": null,
   "metadata": {},
   "outputs": [],
   "source": [
    "lower_dose_cutoff = gamma_options['lower_percent_dose_cutoff'] / 100 * np.max(dose_reference)\n",
    "\n",
    "relevant_slice = (\n",
    "    np.max(dose_reference, axis=(1, 2)) > \n",
    "    lower_dose_cutoff)\n",
    "slice_start = np.max([\n",
    "        np.where(relevant_slice)[0][0], \n",
    "        0])\n",
    "slice_end = np.min([\n",
    "        np.where(relevant_slice)[0][-1], \n",
    "        len(z_ref)])"
   ]
  },
  {
   "cell_type": "code",
   "execution_count": null,
   "metadata": {},
   "outputs": [],
   "source": [
    "max_ref_dose = np.max(dose_reference)\n",
    "\n",
    "z_vals = z_ref[slice(slice_start, slice_end, 5)]\n",
    "\n",
    "eval_slices = [\n",
    "    dose_evaluation[np.where(z_i == z_eval)[0][0], :, :]\n",
    "    for z_i in z_vals\n",
    "]\n",
    "\n",
    "ref_slices = [\n",
    "    dose_reference[np.where(z_i == z_ref)[0][0], :, :]\n",
    "    for z_i in z_vals\n",
    "]\n",
    "\n",
    "gamma_slices = [\n",
    "    gamma[np.where(z_i == z_ref)[0][0], :, :]\n",
    "    for z_i in z_vals\n",
    "]\n",
    "\n",
    "diffs = [\n",
    "    eval_slice - ref_slice\n",
    "    for eval_slice, ref_slice \n",
    "    in zip(eval_slices, ref_slices)\n",
    "]\n",
    "\n",
    "max_diff = np.max(np.abs(diffs))\n",
    "\n",
    "\n",
    "\n",
    "for eval_slice, ref_slice, diff, gamma_slice in zip(eval_slices, ref_slices, diffs, gamma_slices):    \n",
    "    fig, ax = plt.subplots(figsize=(13,10), nrows=2, ncols=2)\n",
    "   \n",
    "    c00 = ax[0,0].contourf(\n",
    "        x_eval, y_eval, eval_slice, 30, \n",
    "        vmin=0, vmax=max_ref_dose, cmap=plt.get_cmap('viridis'))\n",
    "    ax[0,0].set_title(\"Evaluation\")\n",
    "    fig.colorbar(c00, ax=ax[0,0])\n",
    "    ax[0,0].invert_yaxis()\n",
    "    \n",
    "    c01 = ax[0,1].contourf(\n",
    "        x_ref, y_ref, ref_slice, 30, \n",
    "        vmin=0, vmax=max_ref_dose, cmap=plt.get_cmap('viridis'))\n",
    "    ax[0,1].set_title(\"Reference\")  \n",
    "    fig.colorbar(c01, ax=ax[0,1])\n",
    "    ax[0,1].invert_yaxis()\n",
    "\n",
    "    c10 = ax[1,0].contourf(\n",
    "        x_ref, y_ref, diff, 30, \n",
    "        vmin=-max_diff, vmax=max_diff, cmap=plt.get_cmap('seismic'))\n",
    "    ax[1,0].set_title(\"Dose difference\")    \n",
    "    fig.colorbar(c10, ax=ax[1,0])\n",
    "    ax[1,0].invert_yaxis()\n",
    "    \n",
    "    c11 = ax[1,1].contourf(\n",
    "        x_ref, y_ref, gamma_slice, 30, \n",
    "        vmin=0, vmax=2, cmap=plt.get_cmap('seismic'))\n",
    "    ax[1,1].set_title(\"Gamma\")    \n",
    "    fig.colorbar(c11, ax=ax[1,1])\n",
    "    ax[1,1].invert_yaxis()\n",
    "    \n",
    "    plt.show()\n",
    "    print(\"\\n\")"
   ]
  }
 ],
 "metadata": {
  "kernelspec": {
   "display_name": "Python 3",
   "language": "python",
   "name": "python3"
  },
  "language_info": {
   "codemirror_mode": {
    "name": "ipython",
    "version": 3
   },
   "file_extension": ".py",
   "mimetype": "text/x-python",
   "name": "python",
   "nbconvert_exporter": "python",
   "pygments_lexer": "ipython3",
   "version": "3.7.0"
  }
 },
 "nbformat": 4,
 "nbformat_minor": 4
}
