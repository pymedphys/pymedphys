{
 "cells": [
  {
   "cell_type": "code",
   "execution_count": null,
   "metadata": {},
   "outputs": [],
   "source": [
    "import os\n",
    "from copy import deepcopy\n",
    "\n",
    "import numpy as np\n",
    "\n",
    "import pydicom\n",
    "from pymedphys import Delivery\n",
    "from pymedphys.dicom import anonymise_dicom\n",
    "from pymedphys.coll import find_relevant_control_points"
   ]
  },
  {
   "cell_type": "code",
   "execution_count": null,
   "metadata": {},
   "outputs": [],
   "source": [
    "from pymedphys.logfile import delivery_data_from_logfile"
   ]
  },
  {
   "cell_type": "code",
   "execution_count": null,
   "metadata": {},
   "outputs": [],
   "source": [
    "logfile_path = os.path.join(\n",
    "    '..', '..',\n",
    "    'tests', 'data', 'trf', 'elekta_reference',\n",
    "    '17_04_24 02_23_05 Z 1-1_1ARCVMAT.trf'\n",
    ")\n",
    "logfile_path"
   ]
  },
  {
   "cell_type": "code",
   "execution_count": null,
   "metadata": {},
   "outputs": [],
   "source": [
    "delivery_data = delivery_data_from_logfile(logfile_path)"
   ]
  },
  {
   "cell_type": "code",
   "execution_count": null,
   "metadata": {},
   "outputs": [],
   "source": [
    "def filter_out_irrelevant_control_points(delivery_data):\n",
    "    \n",
    "    relvant_control_points = find_relevant_control_points(\n",
    "        delivery_data.monitor_units)\n",
    "    \n",
    "    new_delivery_data = []\n",
    "    for item in delivery_data:\n",
    "        new_delivery_data.append(np.array(item)[relvant_control_points].tolist())\n",
    "        \n",
    "    return Delivery(*new_delivery_data)\n",
    "\n",
    "\n",
    "delivery_data = filter_out_irrelevant_control_points(delivery_data)"
   ]
  },
  {
   "cell_type": "code",
   "execution_count": null,
   "metadata": {},
   "outputs": [],
   "source": [
    "def strip_delivery_data(delivery_data, skip_size):\n",
    "    new_delivery_data = []\n",
    "    for item in delivery_data:\n",
    "        new_delivery_data.append(np.array(item)[::skip_size].tolist())\n",
    "        \n",
    "    return Delivery(*new_delivery_data)\n",
    "\n",
    "delivery_data = strip_delivery_data(delivery_data, 50)"
   ]
  },
  {
   "cell_type": "code",
   "execution_count": null,
   "metadata": {},
   "outputs": [],
   "source": [
    "len(delivery_data.monitor_units)"
   ]
  },
  {
   "cell_type": "code",
   "execution_count": null,
   "metadata": {},
   "outputs": [],
   "source": [
    "np.shape(np.array(delivery_data.mlc))\n",
    "mlc = np.array(delivery_data.mlc)\n",
    "\n",
    "np.shape(mlc[:,:,0])"
   ]
  },
  {
   "cell_type": "code",
   "execution_count": null,
   "metadata": {},
   "outputs": [],
   "source": []
  },
  {
   "cell_type": "code",
   "execution_count": null,
   "metadata": {},
   "outputs": [],
   "source": [
    "def convert_mlc_format(mlc):\n",
    "    \n",
    "    dicom_mlc_format = []\n",
    "    for control_point in mlc:\n",
    "        concatenated = np.hstack([-control_point[:,0], control_point[:,1]])\n",
    "#         concatenated[-5::] = 1.8\n",
    "        dicom_mlc_format.append(concatenated.astype(str).tolist())\n",
    "        \n",
    "    return dicom_mlc_format\n",
    "        \n",
    "converted_mlc = convert_mlc_format(mlc)\n",
    "\n",
    "# converted_mlc[0]"
   ]
  },
  {
   "cell_type": "code",
   "execution_count": null,
   "metadata": {},
   "outputs": [],
   "source": [
    "def convert_jaw_format(jaw):\n",
    "    dicom_jaw_format = []\n",
    "    for control_point in jaw:\n",
    "        control_point[0]"
   ]
  },
  {
   "cell_type": "code",
   "execution_count": null,
   "metadata": {},
   "outputs": [],
   "source": [
    "new_jaw = np.array(delivery_data.jaw)\n",
    "new_jaw[:,0] = -new_jaw[:,0]\n",
    "\n",
    "converted_jaw = new_jaw.astype(str).tolist()"
   ]
  },
  {
   "cell_type": "code",
   "execution_count": null,
   "metadata": {},
   "outputs": [],
   "source": [
    "def movement_check(angles):\n",
    "    float_angles = angles.astype(np.float64)\n",
    "    float_angles[float_angles >= 180] = float_angles[float_angles >= 180] - 360\n",
    "    diff = np.append(np.diff(float_angles), 0)\n",
    "    \n",
    "    movement = (np.empty_like(angles)).astype(str)\n",
    "    movement[diff > 0] = 'CW'\n",
    "    movement[diff < 0] = 'CC'\n",
    "    movement[diff == 0] = 'NONE'\n",
    "    \n",
    "    return movement"
   ]
  },
  {
   "cell_type": "code",
   "execution_count": null,
   "metadata": {},
   "outputs": [],
   "source": [
    "diff = np.append(np.diff(delivery_data.gantry), 0)\n",
    "movement = (np.empty_like(delivery_data.gantry)).astype(str)\n",
    "\n",
    "movement[diff > 0] = 'CW'\n",
    "movement[diff < 0] = 'CC'\n",
    "movement[diff == 0] = 'NONE'\n",
    "\n",
    "movement"
   ]
  },
  {
   "cell_type": "code",
   "execution_count": null,
   "metadata": {},
   "outputs": [],
   "source": [
    "converted_gantry = np.array(delivery_data.gantry)\n",
    "converted_gantry[converted_gantry<0] = converted_gantry[converted_gantry<0] + 360\n",
    "\n",
    "converted_gantry = converted_gantry.astype(str).tolist()\n",
    "# converted_gantry"
   ]
  },
  {
   "cell_type": "code",
   "execution_count": null,
   "metadata": {},
   "outputs": [],
   "source": [
    "# converted_mlc[0]"
   ]
  },
  {
   "cell_type": "code",
   "execution_count": null,
   "metadata": {},
   "outputs": [],
   "source": [
    "monitor_units = delivery_data.monitor_units"
   ]
  },
  {
   "cell_type": "code",
   "execution_count": null,
   "metadata": {},
   "outputs": [],
   "source": [
    "filepath = '../../tests/data/dcmplan/TinyVMAT/TinyFS_TinyVMAT.dcm'\n",
    "filepath_out = '../../tests/data/dcmplan/test/test.dcm'\n",
    "dcm = pydicom.read_file(filepath, force=True)"
   ]
  },
  {
   "cell_type": "code",
   "execution_count": null,
   "metadata": {},
   "outputs": [],
   "source": [
    "# skip_step = 1\n",
    "\n",
    "# monitor_units_trim = np.concatenate(\n",
    "#     [np.array(delivery_data.monitor_units)[::skip_step],\n",
    "#      np.array(delivery_data.monitor_units)[-1::]]\n",
    "# ).tolist()\n",
    "# converted_mlc_trim = np.concatenate([\n",
    "#     converted_mlc[::skip_step], converted_mlc[-1::]\n",
    "# ]).tolist()\n",
    "\n",
    "\n",
    "# # monitor_units_trim"
   ]
  },
  {
   "cell_type": "code",
   "execution_count": null,
   "metadata": {},
   "outputs": [],
   "source": [
    "# monitor_units_trim[-1]"
   ]
  },
  {
   "cell_type": "code",
   "execution_count": null,
   "metadata": {},
   "outputs": [],
   "source": [
    "# delivery_data.monitor_units[-1]"
   ]
  },
  {
   "cell_type": "code",
   "execution_count": null,
   "metadata": {},
   "outputs": [],
   "source": []
  },
  {
   "cell_type": "code",
   "execution_count": null,
   "metadata": {},
   "outputs": [],
   "source": []
  },
  {
   "cell_type": "code",
   "execution_count": null,
   "metadata": {},
   "outputs": [],
   "source": [
    "control_point_sequence = dcm.BeamSequence[0].ControlPointSequence"
   ]
  },
  {
   "cell_type": "code",
   "execution_count": null,
   "metadata": {},
   "outputs": [],
   "source": [
    "init_cp = deepcopy(control_point_sequence[0])\n",
    "subsequent_cp = deepcopy(control_point_sequence[-1])\n",
    "\n",
    "init_cp.GantryAngle = converted_gantry[0]\n",
    "init_cp.GantryRotationDirection = movement[0]\n",
    "init_cp.BeamLimitingDevicePositionSequence[0].LeafJawPositions = converted_jaw[0]\n",
    "\n",
    "init_cp.BeamLimitingDevicePositionSequence[1].LeafJawPositions = converted_mlc[0]\n",
    "# init_cp.BeamLimitingDevicePositionSequence[1].LeafJawPositions = dummy_mlc_pos_string\n",
    "\n",
    "# subsequent_cp.GantryAngle = \"90.0\"\n",
    "# subsequent_cp.BeamLimitingDevicePositionSequence[0].LeafJawPositions = ['-130.0', '130.0']\n",
    "\n",
    "remaining_cps = []\n",
    "for i, (mu, mlc_cp, jaw_cp, move_cp, gantry_cp) in enumerate(zip(monitor_units[1::], \n",
    "                                     converted_mlc[1::],\n",
    "                                     converted_jaw[1::],\n",
    "                                     movement[1::],\n",
    "                                     converted_gantry[1::])):    \n",
    "    current_cp = deepcopy(subsequent_cp)\n",
    "    current_cp.ControlPointIndex = str(i+1)\n",
    "    current_cp.GantryAngle = gantry_cp\n",
    "    current_cp.GantryRotationDirection = move_cp\n",
    "    current_cp.BeamLimitingDevicePositionSequence[0].LeafJawPositions = jaw_cp\n",
    "    current_cp.BeamLimitingDevicePositionSequence[1].LeafJawPositions = mlc_cp\n",
    "    current_cp.CumulativeMetersetWeight = np.around(\n",
    "        mu / delivery_data.monitor_units[-1], decimals=5)\n",
    "    \n",
    "    remaining_cps.append(current_cp)\n",
    "    \n",
    "\n",
    "all_control_points = [init_cp] + remaining_cps"
   ]
  },
  {
   "cell_type": "code",
   "execution_count": null,
   "metadata": {},
   "outputs": [],
   "source": []
  },
  {
   "cell_type": "code",
   "execution_count": null,
   "metadata": {},
   "outputs": [],
   "source": [
    "# dcm = pydicom.read_file(filepath, force=True)\n",
    "# dcm.save_as(filepath_out)"
   ]
  },
  {
   "cell_type": "code",
   "execution_count": null,
   "metadata": {},
   "outputs": [],
   "source": []
  },
  {
   "cell_type": "code",
   "execution_count": null,
   "metadata": {},
   "outputs": [],
   "source": []
  },
  {
   "cell_type": "code",
   "execution_count": null,
   "metadata": {},
   "outputs": [],
   "source": []
  },
  {
   "cell_type": "code",
   "execution_count": null,
   "metadata": {},
   "outputs": [],
   "source": [
    "# edited_dcm = deepcopy(dcm)"
   ]
  },
  {
   "cell_type": "code",
   "execution_count": null,
   "metadata": {},
   "outputs": [],
   "source": [
    "\n"
   ]
  },
  {
   "cell_type": "code",
   "execution_count": null,
   "metadata": {},
   "outputs": [],
   "source": [
    "# dcm = pydicom.read_file(filepath, force=True)\n",
    "\n",
    "# edited_dcm = deepcopy(dcm)\n",
    "\n",
    "# # first_cp = edited_dcm.BeamSequence[0].ControlPointSequence[0]\n",
    "# # last_cp = edited_dcm.BeamSequence[0].ControlPointSequence[-1]\n",
    "\n",
    "# # last_cp.ControlPointIndex = \"1\"\n",
    "# # last_cp.GantryAngle = \"200.0\"\n",
    "\n",
    "\n",
    "# # # edited_dcm.FractionGroupSequence[0].ReferencedBeamSequence[0].BeamMeterset = (\n",
    "# # #     str(monitor_units_trim[-1]))\n",
    "\n",
    "\n",
    "# # edited_dcm.BeamSequence[0].ControlPointSequence = [\n",
    "# #     first_cp, last_cp\n",
    "# # ]\n",
    "# # edited_dcm.BeamSequence[0].NumberOfControlPoints = \"2\"\n",
    "\n",
    "# edited_dcm.save_as(filepath_out)\n",
    "# edited_dcm"
   ]
  },
  {
   "cell_type": "code",
   "execution_count": null,
   "metadata": {},
   "outputs": [],
   "source": []
  },
  {
   "cell_type": "code",
   "execution_count": null,
   "metadata": {},
   "outputs": [],
   "source": []
  },
  {
   "cell_type": "code",
   "execution_count": null,
   "metadata": {},
   "outputs": [],
   "source": [
    "# remaining_cps"
   ]
  },
  {
   "cell_type": "code",
   "execution_count": null,
   "metadata": {},
   "outputs": [],
   "source": [
    "edited_dcm = deepcopy(dcm)\n",
    "\n",
    "\n",
    "edited_dcm.FractionGroupSequence[0].ReferencedBeamSequence[0].BeamMeterset = (\n",
    "    str(monitor_units[-1]))\n",
    "\n",
    "\n",
    "edited_dcm.BeamSequence[0].ControlPointSequence = all_control_points\n",
    "edited_dcm.BeamSequence[0].NumberOfControlPoints = len(all_control_points)\n",
    "\n",
    "edited_dcm.save_as(filepath_out)"
   ]
  },
  {
   "cell_type": "code",
   "execution_count": null,
   "metadata": {},
   "outputs": [],
   "source": [
    "# edited_dcm"
   ]
  },
  {
   "cell_type": "code",
   "execution_count": null,
   "metadata": {},
   "outputs": [],
   "source": []
  },
  {
   "cell_type": "code",
   "execution_count": null,
   "metadata": {},
   "outputs": [],
   "source": []
  },
  {
   "cell_type": "code",
   "execution_count": null,
   "metadata": {},
   "outputs": [],
   "source": []
  },
  {
   "cell_type": "code",
   "execution_count": null,
   "metadata": {},
   "outputs": [],
   "source": []
  },
  {
   "cell_type": "code",
   "execution_count": null,
   "metadata": {},
   "outputs": [],
   "source": []
  },
  {
   "cell_type": "code",
   "execution_count": null,
   "metadata": {},
   "outputs": [],
   "source": []
  }
 ],
 "metadata": {
  "kernelspec": {
   "display_name": "Python 3",
   "language": "python",
   "name": "python3"
  },
  "language_info": {
   "codemirror_mode": {
    "name": "ipython",
    "version": 3
   },
   "file_extension": ".py",
   "mimetype": "text/x-python",
   "name": "python",
   "nbconvert_exporter": "python",
   "pygments_lexer": "ipython3",
   "version": "3.7.0"
  }
 },
 "nbformat": 4,
 "nbformat_minor": 2
}
