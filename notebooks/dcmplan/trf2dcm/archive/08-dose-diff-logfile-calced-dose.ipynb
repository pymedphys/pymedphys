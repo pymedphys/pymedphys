{
 "cells": [
  {
   "cell_type": "code",
   "execution_count": null,
   "metadata": {},
   "outputs": [],
   "source": [
    "import os\n",
    "from glob import glob\n",
    "from copy import deepcopy\n",
    "\n",
    "import numpy as np\n",
    "import matplotlib.pyplot as plt\n",
    "\n",
    "import pydicom\n",
    "from pymedphys.type import Delivery\n",
    "from pymedphys.dicom import anonymise_dicom, coords_and_dose_from_dcm\n",
    "from pymedphys.coll import find_relevant_control_points\n",
    "from pymedphys.logfile import delivery_data_from_logfile\n",
    "from pymedphys.gamma import gamma_dcm, convert_to_percent_pass\n",
    "\n",
    "from pymedphys.plt import pcolormesh_grid"
   ]
  },
  {
   "cell_type": "code",
   "execution_count": null,
   "metadata": {},
   "outputs": [],
   "source": [
    "data_root = r'C:\\Users\\sbiggs\\logfile2dicom'"
   ]
  },
  {
   "cell_type": "code",
   "execution_count": null,
   "metadata": {},
   "outputs": [],
   "source": [
    "logfile_dose_dicom_path = glob(os.path.join(\n",
    "    data_root, 'calced_dose', '*Logfile*.dcm'\n",
    "))[0]\n",
    "\n",
    "logfile_dose_dicom_path"
   ]
  },
  {
   "cell_type": "code",
   "execution_count": null,
   "metadata": {},
   "outputs": [],
   "source": [
    "patient_dose_dicom_path = glob(os.path.join(\n",
    "    data_root, 'calced_dose', '*BREAST*.dcm'\n",
    "))[0]\n",
    "\n",
    "patient_dose_dicom_path"
   ]
  },
  {
   "cell_type": "code",
   "execution_count": null,
   "metadata": {},
   "outputs": [],
   "source": [
    "coords_reference, dose_reference = coords_and_dose_from_dcm(\n",
    "    patient_dose_dicom_path)\n",
    "coords_evaluation, dose_evaluation = coords_and_dose_from_dcm(\n",
    "    logfile_dose_dicom_path)"
   ]
  },
  {
   "cell_type": "code",
   "execution_count": null,
   "metadata": {},
   "outputs": [],
   "source": [
    "load_filepath = os.path.join(\n",
    "    data_root, 'gamma_calcs_2percent.npz'\n",
    ")"
   ]
  },
  {
   "cell_type": "code",
   "execution_count": null,
   "metadata": {},
   "outputs": [],
   "source": [
    "gamma_load = np.load(load_filepath)"
   ]
  },
  {
   "cell_type": "code",
   "execution_count": null,
   "metadata": {},
   "outputs": [],
   "source": [
    "gamma = gamma_load['2']"
   ]
  },
  {
   "cell_type": "code",
   "execution_count": null,
   "metadata": {},
   "outputs": [],
   "source": [
    "distance_threshold = 2"
   ]
  },
  {
   "cell_type": "code",
   "execution_count": null,
   "metadata": {},
   "outputs": [],
   "source": [
    "valid_gamma = gamma[~np.isnan(gamma)]\n",
    "\n",
    "num_points = len(valid_gamma)\n",
    "weights = np.ones(num_points)/num_points\n",
    "\n",
    "plt.hist(valid_gamma, 20, weights=weights)\n",
    "plt.title('Gamma histogram 2% / {} mm | 20% lower dose cutoff'.format(distance_threshold))\n",
    "plt.xlabel('Local Gamma')\n",
    "plt.ylabel('Normalised bin count')\n",
    "\n",
    "max_x_axis = np.ceil(np.max(valid_gamma))\n",
    "\n",
    "plt.xlim([0, max_x_axis])\n",
    "plt.show()"
   ]
  },
  {
   "cell_type": "code",
   "execution_count": null,
   "metadata": {},
   "outputs": [],
   "source": [
    "np.mean(valid_gamma<1)"
   ]
  },
  {
   "cell_type": "code",
   "execution_count": null,
   "metadata": {},
   "outputs": [],
   "source": [
    "max_gamma = np.max(valid_gamma)\n",
    "indices = np.where(gamma == max_gamma)\n",
    "lookup = [coord[index] for coord, index in zip(coords_reference, indices)]\n",
    "lookup"
   ]
  },
  {
   "cell_type": "code",
   "execution_count": null,
   "metadata": {},
   "outputs": [],
   "source": [
    "indices"
   ]
  },
  {
   "cell_type": "code",
   "execution_count": null,
   "metadata": {},
   "outputs": [],
   "source": [
    "x, y = pcolormesh_grid(coords_reference[0], coords_reference[1])\n",
    "plt.pcolormesh(x, y, gamma[:,:,54].T, vmin=0, vmax=2, cmap='coolwarm')\n",
    "plt.axis('equal')\n",
    "plt.xlim([-400,-200])\n",
    "plt.ylim([-20,200])\n",
    "plt.colorbar()"
   ]
  },
  {
   "cell_type": "code",
   "execution_count": null,
   "metadata": {},
   "outputs": [],
   "source": [
    "np.nanstd(diff / dose_reference)"
   ]
  },
  {
   "cell_type": "code",
   "execution_count": null,
   "metadata": {},
   "outputs": [],
   "source": [
    "diff = dose_evaluation - dose_reference\n",
    "max_diff = np.max(np.abs(diff))\n",
    "max_dose = np.max([np.max(dose_evaluation), np.max(dose_reference)])\n",
    "\n",
    "i = 54\n",
    "\n",
    "nanned_dose_evaluation == 0\n",
    "\n",
    "\n",
    "x, y = pcolormesh_grid(coords_reference[0], coords_reference[1])\n",
    "\n",
    "plt.pcolormesh(x, y, dose_reference[:,:,i].T, vmin=0, vmax=max_dose)\n",
    "plt.axis('equal')\n",
    "plt.xlim([-400,-200])\n",
    "plt.ylim([-20,200])\n",
    "plt.colorbar()\n",
    "plt.show()\n",
    "\n",
    "plt.pcolormesh(x, y, dose_evaluation[:,:,i].T, vmin=0, vmax=max_dose)\n",
    "plt.axis('equal')\n",
    "plt.xlim([-400,-200])\n",
    "plt.ylim([-20,200])\n",
    "plt.colorbar()\n",
    "plt.show()\n",
    "\n",
    "plt.pcolormesh(x, y, diff[:,:,i].T, vmin=-max_diff, vmax=max_diff, cmap='bwr')\n",
    "plt.axis('equal')\n",
    "plt.xlim([-400,-200])\n",
    "plt.ylim([-20,200])\n",
    "plt.colorbar()\n",
    "plt.show()\n"
   ]
  },
  {
   "cell_type": "code",
   "execution_count": null,
   "metadata": {},
   "outputs": [],
   "source": [
    "coords_evaluation"
   ]
  },
  {
   "cell_type": "code",
   "execution_count": null,
   "metadata": {},
   "outputs": [],
   "source": [
    "coords_reference"
   ]
  },
  {
   "cell_type": "code",
   "execution_count": null,
   "metadata": {},
   "outputs": [],
   "source": []
  },
  {
   "cell_type": "code",
   "execution_count": null,
   "metadata": {},
   "outputs": [],
   "source": []
  },
  {
   "cell_type": "code",
   "execution_count": null,
   "metadata": {},
   "outputs": [],
   "source": []
  }
 ],
 "metadata": {
  "kernelspec": {
   "display_name": "Python 3",
   "language": "python",
   "name": "python3"
  },
  "language_info": {
   "codemirror_mode": {
    "name": "ipython",
    "version": 3
   },
   "file_extension": ".py",
   "mimetype": "text/x-python",
   "name": "python",
   "nbconvert_exporter": "python",
   "pygments_lexer": "ipython3",
   "version": "3.7.0"
  }
 },
 "nbformat": 4,
 "nbformat_minor": 2
}
