{
 "cells": [
  {
   "cell_type": "code",
   "execution_count": null,
   "metadata": {},
   "outputs": [],
   "source": [
    "import os\n",
    "from glob import glob\n",
    "from copy import deepcopy\n",
    "\n",
    "import numpy as np\n",
    "import matplotlib.pyplot as plt\n",
    "\n",
    "import pydicom\n",
    "from pymedphys import Delivery\n",
    "from pymedphys.dicom import anonymise_dicom, coords_and_dose_from_dcm\n",
    "from pymedphys.mudensity import find_relevant_control_points, calc_mu_density, get_grid\n",
    "from pymedphys.logfile import delivery_data_from_logfile\n",
    "from pymedphys.gamma import gamma_dcm, convert_to_percent_pass, gamma_shell\n",
    "\n",
    "from pymedphys.plt import pcolormesh_grid"
   ]
  },
  {
   "cell_type": "code",
   "execution_count": null,
   "metadata": {},
   "outputs": [],
   "source": [
    "data_root = r'C:\\Users\\sbiggs\\logfile2dicom\\endometrium'"
   ]
  },
  {
   "cell_type": "code",
   "execution_count": null,
   "metadata": {},
   "outputs": [],
   "source": [
    "original = glob(os.path.join(\n",
    "    data_root, 'original', '*'\n",
    "))[0]\n",
    "\n",
    "plan_name = os.path.basename(original)\n",
    "\n",
    "filepath_out = glob(os.path.join(\n",
    "    data_root, 'dicom_40ms', plan_name\n",
    "))[0]\n",
    "\n",
    "# filepath_out"
   ]
  },
  {
   "cell_type": "code",
   "execution_count": null,
   "metadata": {},
   "outputs": [],
   "source": [
    "single_beam_plan = original = glob(os.path.join(\n",
    "    data_root, 'single_beam_plan', '*'\n",
    "))[0]"
   ]
  },
  {
   "cell_type": "code",
   "execution_count": null,
   "metadata": {},
   "outputs": [],
   "source": [
    "original_dcm = pydicom.read_file(single_beam_plan, force=True)\n",
    "\n",
    "logfile_dcm = pydicom.read_file(filepath_out, force=True)"
   ]
  },
  {
   "cell_type": "code",
   "execution_count": null,
   "metadata": {},
   "outputs": [],
   "source": [
    "# logfile_dcm"
   ]
  },
  {
   "cell_type": "code",
   "execution_count": null,
   "metadata": {},
   "outputs": [],
   "source": [
    "logfile_40ms_dose_dicom_path = glob(os.path.join(\n",
    "    data_root, 'calced_dose', '*LogfileCalc40msLow*.dcm'\n",
    "))[0]\n",
    "\n",
    "logfile_40ms_dose_dicom_path"
   ]
  },
  {
   "cell_type": "code",
   "execution_count": null,
   "metadata": {},
   "outputs": [],
   "source": [
    "# logfile_240ms_dose_dicom_path = glob(os.path.join(\n",
    "#     data_root, 'calced_dose', '*LogfileCalc240msLow*.dcm'\n",
    "# ))[0]\n",
    "\n",
    "# logfile_240ms_dose_dicom_path"
   ]
  },
  {
   "cell_type": "code",
   "execution_count": null,
   "metadata": {},
   "outputs": [],
   "source": [
    "patient_dose_dicom_path = glob(os.path.join(\n",
    "    data_root, 'calced_dose', '*OneBeam*.dcm'\n",
    "))[0]\n",
    "\n",
    "patient_dose_dicom_path"
   ]
  },
  {
   "cell_type": "code",
   "execution_count": null,
   "metadata": {},
   "outputs": [],
   "source": [
    "beam_sequence = logfile_dcm.BeamSequence[0]\n",
    "control_point = beam_sequence.ControlPointSequence[0]\n",
    "control_point.IsocenterPosition"
   ]
  },
  {
   "cell_type": "code",
   "execution_count": null,
   "metadata": {},
   "outputs": [],
   "source": [
    "def mudensity_from_dcm(dcm):\n",
    "    beam_sequence = dcm.BeamSequence[0]\n",
    "    leaf_boundaries = beam_sequence.BeamLimitingDeviceSequence[-1].LeafPositionBoundaries\n",
    "    leaf_widths = np.diff(leaf_boundaries)\n",
    "#     print(leaf_widths)\n",
    "\n",
    "    assert beam_sequence.BeamLimitingDeviceSequence[-1].NumberOfLeafJawPairs == len(leaf_widths)\n",
    "    num_leaves = len(leaf_widths)\n",
    "\n",
    "    control_points = beam_sequence.ControlPointSequence\n",
    "    num_control_points = len(control_points)\n",
    "\n",
    "    mlcs = [\n",
    "        control_point.BeamLimitingDevicePositionSequence[-1].LeafJawPositions\n",
    "        for control_point in control_points\n",
    "    ]\n",
    "\n",
    "    mlcs = [\n",
    "        np.array([mlc[num_leaves::], -np.array(mlc[0:num_leaves])]).T\n",
    "        for mlc in mlcs\n",
    "    ]\n",
    "\n",
    "    mlcs = np.array(mlcs)\n",
    "#     print(np.shape(mlcs))\n",
    "\n",
    "    dicom_jaw = [\n",
    "        control_point.BeamLimitingDevicePositionSequence[0].LeafJawPositions\n",
    "        for control_point in control_points\n",
    "    ]\n",
    "    \n",
    "#     print(dicom_jaw)\n",
    "\n",
    "    jaw = np.array(dicom_jaw)[-1::-1]\n",
    "    \n",
    "    second_col = deepcopy(jaw[:,1])\n",
    "    jaw[:,1] = jaw[:,0]\n",
    "    jaw[:,0] = second_col\n",
    "    \n",
    "    jaw[:,1] = -jaw[:,1]\n",
    "\n",
    "#     jaw = jaw[None,:] + np.zeros([num_control_points,1])\n",
    "#     print(np.shape(jaw))\n",
    "#     print(jaw)\n",
    "\n",
    "    total_mu = np.array(dcm.FractionGroupSequence[0].ReferencedBeamSequence[0].BeamMeterset)\n",
    "    final_mu_weight = np.array(beam_sequence.FinalCumulativeMetersetWeight)\n",
    "\n",
    "    mu = [\n",
    "        total_mu * np.array(control_point.CumulativeMetersetWeight) / final_mu_weight\n",
    "        for control_point in control_points\n",
    "    ]\n",
    "    mu = np.array(mu)\n",
    "#     print(np.shape(mu))\n",
    "\n",
    "    mu_density = calc_mu_density(mu, mlcs, jaw)\n",
    "    grid = get_grid()\n",
    "    \n",
    "    plt.figure(figsize=(10, 8.5))\n",
    "    plt.pcolormesh(grid['mlc'][-1::-1], grid['jaw'], mu_density)\n",
    "    plt.colorbar()\n",
    "    plt.xlabel('MLCX direction (mm)')\n",
    "    plt.ylabel('ASYMY travel direction (mm)')\n",
    "\n",
    "    plt.axis('equal')\n",
    "    plt.show()\n",
    "    \n",
    "    return grid, mu_density\n",
    "\n",
    "\n",
    "grid_original, mu_density_original = mudensity_from_dcm(original_dcm)\n",
    "grid_logfile, mu_density_logfile = mudensity_from_dcm(logfile_dcm)"
   ]
  },
  {
   "cell_type": "code",
   "execution_count": null,
   "metadata": {},
   "outputs": [],
   "source": [
    "# calc_mu_density?"
   ]
  },
  {
   "cell_type": "code",
   "execution_count": null,
   "metadata": {},
   "outputs": [],
   "source": [
    "# gamma_shell?"
   ]
  },
  {
   "cell_type": "code",
   "execution_count": null,
   "metadata": {},
   "outputs": [],
   "source": [
    "# mu_density_diff = mu_density_logfile - mu_density_original\n",
    "\n",
    "# max_diff = np.max(np.abs(mu_density_diff))\n",
    "\n",
    "# plt.figure(figsize=(6, 5.25))\n",
    "# plt.pcolormesh(grid_original['mlc'][-1::-1], grid_original['jaw'], mu_density_diff, vmin=-max_diff, vmax=max_diff, cmap='bwr')\n",
    "# cbar = plt.colorbar()\n",
    "# cbar.set_label('MU Density Difference')\n",
    "# plt.xlabel('MLCX direction (mm)')\n",
    "# plt.ylabel('ASYMY travel direction (mm)')\n",
    "\n",
    "# plt.axis('equal')\n",
    "# # plt.grid()\n",
    "# # plt.plot([-150, 150], [70.5, 70.5])\n",
    "# plt.title('MU Density Difference (Logfile - Original)')\n",
    "\n",
    "# plt.plot([-150, 150], [68, 68], 'k--', lw=0.5, label='Presented Slice')\n",
    "# plt.legend()\n",
    "\n",
    "# plt.show()"
   ]
  },
  {
   "cell_type": "code",
   "execution_count": null,
   "metadata": {},
   "outputs": [],
   "source": [
    "to_be_plotted = np.where(np.abs(coords_reference[2] - 114) < 1)[0]\n",
    "\n",
    "mu_density_diff = mu_density_logfile - mu_density_original\n",
    "\n",
    "max_diff = np.max(np.abs(mu_density_diff))\n",
    "\n",
    "plt.figure(figsize=(6, 5.25))\n",
    "plt.pcolormesh(grid_original['mlc'][-1::-1], grid_original['jaw'], mu_density_diff, vmin=-max_diff, vmax=max_diff, cmap='bwr')\n",
    "cbar = plt.colorbar()\n",
    "cbar.set_label('MU Density Difference')\n",
    "plt.xlabel('MLCX direction (mm)')\n",
    "plt.ylabel('ASYMY travel direction (mm)')\n",
    "\n",
    "plt.axis('equal')\n",
    "# plt.grid()\n",
    "# plt.plot([-150, 150], [70.5, 70.5])\n",
    "plt.title('MU Density Difference (Logfile - Original)')\n",
    "\n",
    "for i in to_be_plotted:\n",
    "    coord = coords_reference[2][i] - isocentre[2]\n",
    "    plt.plot([-150, 150], [coord, coord], 'k--', lw=0.5, label='Presented Slice')\n",
    "plt.legend()\n",
    "\n",
    "plt.show()"
   ]
  },
  {
   "cell_type": "code",
   "execution_count": null,
   "metadata": {},
   "outputs": [],
   "source": [
    "mu_max_where = np.where(max_diff == np.abs(mu_density_diff))\n",
    "\n",
    "grid_original['jaw'][mu_max_where[0]]"
   ]
  },
  {
   "cell_type": "code",
   "execution_count": null,
   "metadata": {},
   "outputs": [],
   "source": []
  },
  {
   "cell_type": "code",
   "execution_count": null,
   "metadata": {},
   "outputs": [],
   "source": [
    "# dose_percent_threshold = 2\n",
    "# distance_threshold = 2\n",
    "\n",
    "# gamma = gamma_dcm(\n",
    "#     logfile_240ms_dose_dicom_path, patient_dose_dicom_path,\n",
    "#     dose_percent_threshold, distance_threshold, local_gamma=True, random_subset=10000, max_gamma=1.1)\n",
    "\n",
    "# valid_gamma = gamma[~np.isnan(gamma)]\n",
    "# print(np.mean(valid_gamma < 1))\n",
    "\n",
    "# num_points = len(valid_gamma)\n",
    "# weights = np.ones(num_points)/num_points\n",
    "\n",
    "# plt.hist(valid_gamma, 20, weights=weights)\n",
    "# plt.title('Gamma histogram {}% / {} mm | 20% lower dose cutoff'.format(dose_percent_threshold, distance_threshold))\n",
    "# plt.xlabel('Local Gamma')\n",
    "# plt.ylabel('Normalised bin count')\n",
    "\n",
    "# max_x_axis = np.ceil(np.max(valid_gamma))\n",
    "\n",
    "# plt.xlim([0, max_x_axis])\n",
    "# plt.show()"
   ]
  },
  {
   "cell_type": "code",
   "execution_count": null,
   "metadata": {},
   "outputs": [],
   "source": [
    "# dose_percent_threshold = 2\n",
    "# distance_threshold = 2\n",
    "\n",
    "\n",
    "# gamma = gamma_dcm(\n",
    "#     logfile_40ms_dose_dicom_path, patient_dose_dicom_path, \n",
    "#     dose_percent_threshold, distance_threshold, local_gamma=True)\n",
    "\n",
    "# valid_gamma = gamma[~np.isnan(gamma)]\n",
    "# print(np.mean(valid_gamma < 1))\n",
    "\n",
    "# num_points = len(valid_gamma)\n",
    "# weights = np.ones(num_points)/num_points\n",
    "\n",
    "# plt.hist(valid_gamma, 20, weights=weights)\n",
    "# plt.title('Gamma histogram {}% / {} mm | 20% lower dose cutoff'.format(dose_percent_threshold, distance_threshold))\n",
    "# plt.xlabel('Local Gamma')\n",
    "# plt.ylabel('Normalised bin count')\n",
    "\n",
    "# max_x_axis = np.ceil(np.max(valid_gamma))\n",
    "\n",
    "# plt.xlim([0, max_x_axis])\n",
    "# plt.show()"
   ]
  },
  {
   "cell_type": "code",
   "execution_count": null,
   "metadata": {},
   "outputs": [],
   "source": []
  },
  {
   "cell_type": "code",
   "execution_count": null,
   "metadata": {},
   "outputs": [],
   "source": []
  },
  {
   "cell_type": "code",
   "execution_count": null,
   "metadata": {},
   "outputs": [],
   "source": [
    "coords_reference, dose_reference = coords_and_dose_from_dcm(\n",
    "    patient_dose_dicom_path)\n",
    "# coords_evaluation_240, dose_evaluation_240 = coords_and_dose_from_dcm(\n",
    "#     logfile_240ms_dose_dicom_path)\n",
    "\n",
    "coords_evaluation_40, dose_evaluation_40 = coords_and_dose_from_dcm(\n",
    "    logfile_40ms_dose_dicom_path)"
   ]
  },
  {
   "cell_type": "code",
   "execution_count": null,
   "metadata": {},
   "outputs": [],
   "source": [
    "np.where(np.abs(coords_reference[2] - 70.5) < 10)[0]"
   ]
  },
  {
   "cell_type": "code",
   "execution_count": null,
   "metadata": {},
   "outputs": [],
   "source": [
    "keep = dose_reference > 0.2*np.max(dose_reference)\n",
    "num_points = np.sum(keep)\n",
    "weights = np.ones(num_points)/num_points\n",
    "\n",
    "# diff_240 = (dose_evaluation_240 - dose_reference)[keep]\n",
    "diff_40 = (dose_evaluation_40 - dose_reference)[keep]"
   ]
  },
  {
   "cell_type": "code",
   "execution_count": null,
   "metadata": {},
   "outputs": [],
   "source": [
    "# plt.hist(diff_40, 100, weights=weights)\n",
    "# np.std(diff_40)"
   ]
  },
  {
   "cell_type": "code",
   "execution_count": null,
   "metadata": {},
   "outputs": [],
   "source": [
    "# plt.hist(diff_240, 100, weights=weights)\n",
    "# np.std(diff_240)"
   ]
  },
  {
   "cell_type": "code",
   "execution_count": null,
   "metadata": {},
   "outputs": [],
   "source": []
  },
  {
   "cell_type": "code",
   "execution_count": null,
   "metadata": {},
   "outputs": [],
   "source": []
  },
  {
   "cell_type": "code",
   "execution_count": null,
   "metadata": {},
   "outputs": [],
   "source": [
    "dose_percent_threshold = 1\n",
    "distance_threshold = 1\n",
    "lower_percent_dose_cutoff = 5\n",
    "\n",
    "gamma = gamma_dcm(\n",
    "    patient_dose_dicom_path, logfile_40ms_dose_dicom_path,\n",
    "    dose_percent_threshold, distance_threshold, local_gamma=True, random_subset=None, lower_percent_dose_cutoff=lower_percent_dose_cutoff)\n",
    "\n",
    "valid_gamma = gamma[~np.isnan(gamma)]\n",
    "print(np.mean(valid_gamma < 1))\n",
    "\n",
    "num_points = len(valid_gamma)\n",
    "weights = np.ones(num_points)/num_points\n",
    "\n",
    "plt.hist(valid_gamma, 20, weights=weights)\n",
    "plt.title('Gamma histogram {}% / {} mm | {}% lower dose cutoff'.format(dose_percent_threshold, distance_threshold, lower_percent_dose_cutoff))\n",
    "plt.xlabel('Local Gamma')\n",
    "plt.ylabel('Normalised bin count')\n",
    "\n",
    "max_x_axis = np.ceil(np.max(valid_gamma))\n",
    "\n",
    "plt.xlim([0, max_x_axis])\n",
    "plt.show()"
   ]
  },
  {
   "cell_type": "code",
   "execution_count": null,
   "metadata": {},
   "outputs": [],
   "source": []
  },
  {
   "cell_type": "code",
   "execution_count": null,
   "metadata": {},
   "outputs": [],
   "source": [
    "# to_be_plotted = np.where(np.abs(coords_reference[2] - 114) < 1)[0]\n",
    "\n",
    "# mu_density_diff = mu_density_logfile - mu_density_original\n",
    "\n",
    "\n",
    "\n",
    "plt.show()"
   ]
  },
  {
   "cell_type": "code",
   "execution_count": null,
   "metadata": {},
   "outputs": [],
   "source": [
    "# mu_density_diff"
   ]
  },
  {
   "cell_type": "code",
   "execution_count": null,
   "metadata": {},
   "outputs": [],
   "source": [
    "\n",
    "fig = plt.figure(figsize=(6.12,5))\n",
    "\n",
    "ax1 = plt.gca()\n",
    "# ax2 = plt.subplot(122)\n",
    "\n",
    "\n",
    "max_diff = np.max(np.abs(mu_density_diff))\n",
    "\n",
    "# plt.figure(figsize=(6, 5.25))\n",
    "mesh = ax1.pcolormesh(grid_original['mlc'][-1::-1], grid_original['jaw'], mu_density_diff, vmin=-max_diff, vmax=max_diff, cmap='bwr')\n",
    "cbar = fig.colorbar(mesh, ax=ax1)\n",
    "cbar.set_label('MU density difference')\n",
    "ax1.set_xlabel('MLCX direction (mm)')\n",
    "ax1.set_ylabel('ASYMY travel direction (mm)')\n",
    "\n",
    "ax1.axis('equal')\n",
    "# plt.grid()\n",
    "# plt.plot([-150, 150], [70.5, 70.5])\n",
    "ax1.set_title('MU density difference map (logfile - planned)')\n",
    "\n",
    "for i in to_be_plotted:\n",
    "    coord = coords_reference[2][i] - isocentre[2]\n",
    "    ax1.plot([-150, 150], [coord, coord], 'k--', lw=0.5, label='Presented slice')\n",
    "ax1.legend()\n",
    "\n",
    "plt.tight_layout()\n",
    "\n",
    "fig.savefig('figure1.png', dpi=300)\n",
    "\n",
    "\n",
    "# num_points = len(valid_gamma)\n",
    "# weights = np.ones(num_points)/num_points\n",
    "\n",
    "# pass_rate = np.round(np.mean(valid_gamma < 1) * 100, decimals=1)\n",
    "\n",
    "\n",
    "\n",
    "# ax2.hist(valid_gamma, 40, weights=weights, label=\"Gamma pass = {}%\".format(pass_rate))\n",
    "# ax2.set_title('Local gamma histogram {}% / {} mm | {}% lower dose cutoff'.format(dose_percent_threshold, distance_threshold, lower_percent_dose_cutoff))\n",
    "# ax2.set_xlabel('Local Gamma')\n",
    "# ax2.set_ylabel('Normalised bin count')\n",
    "\n",
    "# max_x_axis = np.ceil(np.max(valid_gamma))\n",
    "\n",
    "# ax2.set_xlim([0, 2])\n",
    "# ax2.legend()\n",
    "# plt.show()"
   ]
  },
  {
   "cell_type": "code",
   "execution_count": null,
   "metadata": {},
   "outputs": [],
   "source": [
    "beam_sequence = logfile_dcm.BeamSequence[0]\n",
    "control_point = beam_sequence.ControlPointSequence[0]\n",
    "isocentre = np.array(control_point.IsocenterPosition)"
   ]
  },
  {
   "cell_type": "code",
   "execution_count": null,
   "metadata": {},
   "outputs": [],
   "source": [
    "# # to_be_plotted = np.where(np.abs(coords_reference[2] - 70.5) < 60)[0]\n",
    "# to_be_plotted = np.where(np.abs(coords_reference[2] - 114) < 1)[0]\n",
    "\n",
    "# mu_density_diff = mu_density_logfile - mu_density_original\n",
    "\n",
    "# max_diff = np.max(np.abs(mu_density_diff))\n",
    "\n",
    "# # plt.figure(figsize=(5, 4.25))\n",
    "# plt.figure(figsize=(10, 9.5))\n",
    "# plt.pcolormesh(grid_original['mlc'][-1::-1], grid_original['jaw'], mu_density_diff, vmin=-max_diff, vmax=max_diff, cmap='bwr')\n",
    "# cbar = plt.colorbar()\n",
    "# cbar.set_label('MU Density Difference')\n",
    "# plt.xlabel('MLCX direction (mm)')\n",
    "# plt.ylabel('ASYMY travel direction (mm)')\n",
    "\n",
    "# plt.axis('equal')\n",
    "# # plt.grid()\n",
    "# # plt.plot([-150, 150], [70.5, 70.5])\n",
    "# plt.title('MU Density Difference (Logfile - Original)')\n",
    "\n",
    "# for i in to_be_plotted:\n",
    "#     coord = coords_reference[2][i] - isocentre[2]\n",
    "#     plt.plot([-150, 150], [coord, coord], 'k', lw=0.5, label='Presented Slice')\n",
    "# # plt.legend()\n",
    "\n",
    "# plt.show()\n"
   ]
  },
  {
   "cell_type": "code",
   "execution_count": null,
   "metadata": {},
   "outputs": [],
   "source": [
    "# https://stackoverflow.com/questions/35710931/remove-a-section-of-a-colormap\n",
    "\n",
    "# import numpy as np\n",
    "# import matplotlib.pyplot as plt\n",
    "from matplotlib.colors import LinearSegmentedColormap\n",
    "\n",
    "# Remove the middle 40% of the RdBu_r colormap\n",
    "interval = np.hstack([np.linspace(0, 0.35), np.linspace(0.65, 1)])\n",
    "colors = plt.cm.coolwarm(interval)\n",
    "cmap = LinearSegmentedColormap.from_list('name', colors)\n",
    "\n",
    "# Plot a comparison of the two colormaps\n",
    "fig, axes = plt.subplots(ncols=2)\n",
    "data = np.random.random((10, 10))\n",
    "\n",
    "im = axes[0].imshow(data, cmap=plt.cm.RdBu_r, vmin=0, vmax=1)\n",
    "fig.colorbar(im, ax=axes[0], orientation='horizontal', ticks=[0, 0.5, 1])\n",
    "axes[0].set(title='Original Colormap')\n",
    "\n",
    "im = axes[1].imshow(data, cmap=cmap, vmin=0, vmax=1)\n",
    "fig.colorbar(im, ax=axes[1], orientation='horizontal', ticks=[0, 0.5, 1])\n",
    "axes[1].set(title='New Colormap')\n",
    "\n",
    "plt.show()"
   ]
  },
  {
   "cell_type": "code",
   "execution_count": null,
   "metadata": {},
   "outputs": [],
   "source": []
  },
  {
   "cell_type": "code",
   "execution_count": null,
   "metadata": {},
   "outputs": [],
   "source": []
  },
  {
   "cell_type": "code",
   "execution_count": null,
   "metadata": {},
   "outputs": [],
   "source": [
    "np.max(np.abs(diff[:,:,i])) / np.max([np.max(dose_evaluation_40), np.max(dose_reference)])"
   ]
  },
  {
   "cell_type": "code",
   "execution_count": null,
   "metadata": {},
   "outputs": [],
   "source": [
    "lower_percent_dose_cutoff\n",
    "\n",
    "new_dose_cutoff = 20 * 0.7603567305000001 / 100\n",
    "make_nan = dose_evaluation_40 < new_dose_cutoff\n",
    "\n",
    "new_gamma = deepcopy(gamma)\n",
    "new_gamma[make_nan] = np.nan\n"
   ]
  },
  {
   "cell_type": "code",
   "execution_count": null,
   "metadata": {},
   "outputs": [],
   "source": [
    "i = to_be_plotted[0]\n",
    "diff = dose_evaluation_40 - dose_reference\n",
    "# max_diff = np.max(np.abs(diff))\n",
    "# max_dose = np.max([np.max(dose_evaluation_40), np.max(dose_reference)])\n",
    "\n",
    "max_diff = np.max(np.abs(diff[:,:,i]))\n",
    "max_dose = np.max([np.max(dose_evaluation_40[:,:,i]), np.max(dose_reference[:,:,i])])\n",
    "\n",
    "y, x = pcolormesh_grid(coords_reference[0], coords_reference[1])\n",
    "\n",
    "fig = plt.figure(figsize=(15,8.2))\n",
    "\n",
    "ax1 = plt.subplot(221, aspect='equal')\n",
    "ax2 = plt.subplot(222, sharex=ax1, sharey=ax1, aspect='equal')\n",
    "ax3 = plt.subplot(223, sharex=ax1, sharey=ax1, aspect='equal')\n",
    "ax4 = plt.subplot(224, sharex=ax1, sharey=ax1, aspect='equal')\n",
    "\n",
    "\n",
    "mesh1 = ax1.pcolormesh(x, y, dose_reference[:,:,i], vmin=0, vmax=max_dose)\n",
    "cbar1 = fig.colorbar(mesh1, ax=ax1)\n",
    "cbar1.set_label('Single fraction dose (Gy)')\n",
    "ax1.invert_yaxis()\n",
    "ax1.set_title('Planned dose')\n",
    "ax1.set_xlabel('x (mm)')\n",
    "ax1.set_ylabel('z (mm)')\n",
    "\n",
    "\n",
    "\n",
    "mesh2 = ax2.pcolormesh(x, y, dose_evaluation_40[:,:,i], vmin=0, vmax=max_dose)\n",
    "\n",
    "cbar2 = fig.colorbar(mesh2, ax=ax2)\n",
    "cbar2.set_label('Single fraction dose (Gy)')\n",
    "\n",
    "ax2.set_title('Logfile generated dose')\n",
    "ax2.set_xlabel('x (mm)')\n",
    "ax2.set_ylabel('z (mm)')\n",
    "\n",
    "\n",
    "\n",
    "mesh3 = ax3.pcolormesh(x, y, diff[:,:,i], vmin=-max_diff, vmax=max_diff, cmap='bwr')\n",
    "\n",
    "cbar3 = plt.colorbar(mesh3, ax=ax3)\n",
    "cbar3.set_label('Single fraction dose difference (Gy)')\n",
    "\n",
    "ax3.set_title('Dose difference (logfile - planned)')\n",
    "ax3.set_xlabel('x (mm)')\n",
    "ax3.set_ylabel('z (mm)')\n",
    "\n",
    "\n",
    "\n",
    "mesh4 = ax4.pcolormesh(x, y, new_gamma[:,:,i], vmin=0, vmax=2, cmap=cmap)\n",
    "\n",
    "cbar = fig.colorbar(mesh4, ax=ax4)\n",
    "cbar.set_label('Gamma')\n",
    "\n",
    "ax4.set_title('Local gamma distribution {}% / {} mm'.format(dose_percent_threshold, distance_threshold))\n",
    "ax4.set_xlabel('x (mm)')\n",
    "ax4.set_ylabel('z (mm)')\n",
    "\n",
    "plt.tight_layout()\n",
    "\n",
    "fig.savefig('figure2.png', dpi=300)\n"
   ]
  },
  {
   "cell_type": "code",
   "execution_count": null,
   "metadata": {},
   "outputs": [],
   "source": [
    "\n",
    "\n",
    "valid_gamma = new_gamma[:,:,i][~np.isnan(new_gamma[:,:,i])]\n",
    "print(np.mean(valid_gamma < 1))"
   ]
  },
  {
   "cell_type": "code",
   "execution_count": null,
   "metadata": {},
   "outputs": [],
   "source": [
    "# np.where(np.abs(diff) == max_diff)"
   ]
  },
  {
   "cell_type": "code",
   "execution_count": null,
   "metadata": {},
   "outputs": [],
   "source": [
    "\n",
    "\n",
    "# i = 54\n",
    "\n",
    "# nanned_dose_evaluation == 0\n",
    "\n",
    "\n",
    "\n",
    "\n",
    "def create_plots(i):\n",
    "    print(i)\n",
    "    \n",
    "\n",
    "    \n",
    "    \n",
    "\n",
    "    \n",
    "    \n",
    "    \n",
    "\n",
    "    \n",
    "\n",
    "for i in to_be_plotted:\n",
    "    print(coords_reference[2][i])\n",
    "    create_plots(i)\n",
    "\n",
    "# for i in np.where(np.abs(coords_reference[2] - 68) < 1)[0]:\n",
    "#     print(coords_reference[2][i])\n",
    "#     create_plots(i)"
   ]
  },
  {
   "cell_type": "code",
   "execution_count": null,
   "metadata": {},
   "outputs": [],
   "source": []
  },
  {
   "cell_type": "code",
   "execution_count": null,
   "metadata": {},
   "outputs": [],
   "source": []
  },
  {
   "cell_type": "code",
   "execution_count": null,
   "metadata": {},
   "outputs": [],
   "source": []
  }
 ],
 "metadata": {
  "kernelspec": {
   "display_name": "Python 3",
   "language": "python",
   "name": "python3"
  },
  "language_info": {
   "codemirror_mode": {
    "name": "ipython",
    "version": 3
   },
   "file_extension": ".py",
   "mimetype": "text/x-python",
   "name": "python",
   "nbconvert_exporter": "python",
   "pygments_lexer": "ipython3",
   "version": "3.7.0"
  }
 },
 "nbformat": 4,
 "nbformat_minor": 4
}
