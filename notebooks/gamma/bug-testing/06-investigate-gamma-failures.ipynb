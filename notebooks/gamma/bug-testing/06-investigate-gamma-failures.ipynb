{
 "cells": [
  {
   "cell_type": "code",
   "execution_count": null,
   "metadata": {},
   "outputs": [],
   "source": [
    "%load_ext autoreload\n",
    "%autoreload 2"
   ]
  },
  {
   "cell_type": "code",
   "execution_count": null,
   "metadata": {},
   "outputs": [],
   "source": [
    "import numpy as np\n",
    "import matplotlib.pyplot as plt\n",
    "\n",
    "from scipy.interpolate import RegularGridInterpolator\n",
    "\n",
    "from pymedphys.dicom import coords_and_dose_from_dcm\n",
    "from pymedphys.gamma import gamma_dcm, determine_gamma_inputs"
   ]
  },
  {
   "cell_type": "code",
   "execution_count": null,
   "metadata": {},
   "outputs": [],
   "source": [
    "# x and y labels within this notebook are likely wrong"
   ]
  },
  {
   "cell_type": "code",
   "execution_count": null,
   "metadata": {},
   "outputs": [],
   "source": [
    "lower_percent_dose_cutoff = 20"
   ]
  },
  {
   "cell_type": "code",
   "execution_count": null,
   "metadata": {},
   "outputs": [],
   "source": [
    "gamma_options = {\n",
    "    'dcm_ref_filepath': \"../../../../Downloads/RD.Ecl_WOmask.dcm\",\n",
    "    'dcm_eval_filepath': \"../../../../Downloads/RD.Pin.dcm\",\n",
    "    'dose_percent_threshold': 3,\n",
    "    'distance_mm_threshold': 3,\n",
    "    'interp_fraction': 10,\n",
    "    'max_gamma': 1.1,\n",
    "    'lower_percent_dose_cutoff': lower_percent_dose_cutoff,\n",
    "    'skip_once_passed': True\n",
    "}"
   ]
  },
  {
   "cell_type": "code",
   "execution_count": null,
   "metadata": {},
   "outputs": [],
   "source": [
    "gamma = gamma_dcm(**gamma_options)\n",
    "\n",
    "valid_gamma = gamma[np.invert(np.isnan(gamma))]\n",
    "\n",
    "100*np.sum(valid_gamma <= 1) / len(valid_gamma)"
   ]
  },
  {
   "cell_type": "code",
   "execution_count": null,
   "metadata": {},
   "outputs": [],
   "source": [
    "gamma_options = {\n",
    "    'dcm_ref_filepath': \"../../../../Downloads/RD.Ecl_WOmask.dcm\",\n",
    "    'dcm_eval_filepath': \"../../../../Downloads/RD.Pin.dcm\",\n",
    "    'dose_percent_threshold': 3,\n",
    "    'distance_mm_threshold': 3,\n",
    "    'interp_fraction': 10,\n",
    "    'max_gamma': 1.1,\n",
    "    'lower_percent_dose_cutoff': lower_percent_dose_cutoff,\n",
    "    'skip_once_passed': True,\n",
    "    'local_gamma': True\n",
    "}\n",
    "\n",
    "\n",
    "gamma = gamma_dcm(**gamma_options)\n",
    "\n",
    "valid_gamma = gamma[np.invert(np.isnan(gamma))]\n",
    "\n",
    "100*np.sum(valid_gamma <= 1) / len(valid_gamma)"
   ]
  },
  {
   "cell_type": "code",
   "execution_count": null,
   "metadata": {},
   "outputs": [],
   "source": [
    "kwargs = determine_gamma_inputs(**gamma_options)\n",
    "\n",
    "coords_reference = kwargs['coords_reference']\n",
    "coords_evaluation = kwargs['coords_evaluation']\n",
    "\n",
    "# coords_reference = coords_reference[1], coords_reference[0], coords_reference[2]\n",
    "# coords_evaluation = coords_evaluation[1], coords_evaluation[0], coords_evaluation[2]\n",
    "\n",
    "x_reference, y_reference, z_reference = coords_reference\n",
    "x_evaluation, y_evaluation, z_evaluation = coords_evaluation\n",
    "\n",
    "dose_reference = kwargs['dose_reference']\n",
    "dose_evaluation = kwargs['dose_evaluation']\n",
    "lower_dose_cutoff = kwargs['lower_dose_cutoff']"
   ]
  },
  {
   "cell_type": "code",
   "execution_count": null,
   "metadata": {},
   "outputs": [],
   "source": [
    "reference_interpolation = RegularGridInterpolator(\n",
    "    coords_reference, np.array(dose_reference),\n",
    "    bounds_error=False, fill_value=np.inf\n",
    ")"
   ]
  },
  {
   "cell_type": "code",
   "execution_count": null,
   "metadata": {},
   "outputs": [],
   "source": [
    "xx, yy = np.meshgrid(x_evaluation, y_evaluation)\n",
    "\n",
    "xx_flat = np.ravel(xx)\n",
    "yy_flat = np.ravel(yy)"
   ]
  },
  {
   "cell_type": "code",
   "execution_count": null,
   "metadata": {},
   "outputs": [],
   "source": [
    "lower_dose_cutoff"
   ]
  },
  {
   "cell_type": "code",
   "execution_count": null,
   "metadata": {},
   "outputs": [],
   "source": [
    "relevant_slice = (\n",
    "    np.max(dose_evaluation, axis=(0, 1)) > \n",
    "    lower_dose_cutoff)\n",
    "slice_start = np.max([\n",
    "        np.where(relevant_slice)[0][0], \n",
    "        0])\n",
    "slice_end = np.min([\n",
    "        np.where(relevant_slice)[0][-1], \n",
    "        len(z_evaluation)])"
   ]
  },
  {
   "cell_type": "code",
   "execution_count": null,
   "metadata": {},
   "outputs": [],
   "source": [
    "max_ref_dose = np.max(dose_reference)\n",
    "\n",
    "cut_off_gamma = gamma.copy()\n",
    "greater_than_2_ref = (cut_off_gamma > 2) & ~np.isnan(cut_off_gamma)\n",
    "cut_off_gamma[greater_than_2_ref] = 2\n",
    "\n",
    "for z_i in z_evaluation[slice_start:slice_end:1]:\n",
    "    i = np.where(z_i == z_evaluation)[0][0]\n",
    "    \n",
    "    reshaped_interpolatied_reference_dose = np.reshape(\n",
    "        reference_interpolation(np.array([xx_flat, yy_flat, np.ones_like(xx_flat) * z_i]).T),\n",
    "        np.shape(xx)\n",
    "    )\n",
    "\n",
    "    reshaped_interpolatied_reference_dose[reshaped_interpolatied_reference_dose == np.inf] = np.nan\n",
    "    \n",
    "    print(\"======================================================================\")\n",
    "    print(\"Slice = {0}\".format(z_i))  \n",
    "   \n",
    "    plt.contourf(\n",
    "        x_evaluation, y_evaluation, dose_evaluation[:, :, i].T, 100, \n",
    "        vmin=0, vmax=max_ref_dose, cmap=plt.get_cmap('viridis'))\n",
    "    plt.title(\"Evaluation\")\n",
    "    plt.colorbar()\n",
    "    plt.show()\n",
    "    \n",
    "    plt.contourf(\n",
    "        x_evaluation, y_evaluation, reshaped_interpolatied_reference_dose, 100, \n",
    "        vmin=0, vmax=max_ref_dose, cmap=plt.get_cmap('viridis'))\n",
    "    plt.title(\"Reference\")  \n",
    "    plt.colorbar()\n",
    "    plt.show()\n",
    "    \n",
    "    plt.contourf(\n",
    "        x_evaluation, y_evaluation, cut_off_gamma[:, :, i].T, 100, \n",
    "        vmin=0, vmax=2, cmap=plt.get_cmap('coolwarm'))\n",
    "    plt.title(\"Gamma\")\n",
    "    plt.colorbar()\n",
    "    plt.show()\n",
    "    \n",
    "    plt.contourf(\n",
    "        x_evaluation, y_evaluation, dose_evaluation[:, :, i].T - reshaped_interpolatied_reference_dose, 100, \n",
    "        vmin=-max_ref_dose, vmax=max_ref_dose, cmap=plt.get_cmap('seismic'))\n",
    "    plt.title(\"Dose Diff\")\n",
    "    plt.colorbar()\n",
    "    plt.show()\n",
    "    \n",
    "    print(\"\\n\")"
   ]
  }
 ],
 "metadata": {
  "kernelspec": {
   "display_name": "Python 3",
   "language": "python",
   "name": "python3"
  },
  "language_info": {
   "codemirror_mode": {
    "name": "ipython",
    "version": 3
   },
   "file_extension": ".py",
   "mimetype": "text/x-python",
   "name": "python",
   "nbconvert_exporter": "python",
   "pygments_lexer": "ipython3",
   "version": "3.6.6"
  }
 },
 "nbformat": 4,
 "nbformat_minor": 2
}
