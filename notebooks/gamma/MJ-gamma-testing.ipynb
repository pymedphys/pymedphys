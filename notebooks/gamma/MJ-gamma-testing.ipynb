{
 "cells": [
  {
   "cell_type": "code",
   "execution_count": null,
   "metadata": {},
   "outputs": [],
   "source": [
    "import os\n",
    "from os.path import abspath, dirname, basename, join as pjoin, exists as pexists\n",
    "from timeit import default_timer as timer\n",
    "import psutil\n",
    "import numpy as np\n",
    "import pydicom\n",
    "import lzma\n",
    "from pymedphys.gamma._level2.gammashell import gamma_shell, gamma_loop, calculate_min_dose_difference, interpolate_evaluation_dose_at_distance, multi_thresholds_gamma_calc, add_shells_to_eval_coords\n",
    "from pymedphys.dicom import coords_and_dose_from_dicom\n",
    "from scipy.interpolate import RegularGridInterpolator\n",
    "\n",
    "%load_ext line_profiler"
   ]
  },
  {
   "cell_type": "code",
   "execution_count": null,
   "metadata": {},
   "outputs": [],
   "source": [
    "mem = psutil.virtual_memory()\n",
    "print(mem.total)\n",
    "print(mem.available)\n",
    "print(mem.percent)\n",
    "print(\"Available RAM: {:.1f}%\".format(100*mem.available/mem.total))"
   ]
  },
  {
   "cell_type": "code",
   "execution_count": null,
   "metadata": {},
   "outputs": [],
   "source": [
    "DATA_DIR = pjoin(dirname(dirname(os.getcwd())), \"tests\", \"data\")\n",
    "\n",
    "dicom_dir = r'E:\\Workspace\\DICOM test files\\6283'\n",
    "\n",
    "path_eval = pjoin(dicom_dir, \"RD.6283_Pin.dcm\")\n",
    "path_ref = pjoin(dicom_dir, \"RD.6283_Ecl.dcm\")\n",
    "\n",
    "coords_eval, dose_eval = coords_and_dose_from_dicom(path_eval)\n",
    "coords_ref, dose_ref = coords_and_dose_from_dicom(path_ref)\n",
    "\n",
    "dose_ref_valid = np.ma.masked_where(dose_ref <= 0.1*np.max(dose_ref), dose_ref)\n",
    "\n",
    "print(\"Number of dose points: {}\".format(dose_ref.size))\n",
    "print(\"Number of dose points above 10% threshold: {}\".format(dose_ref_valid[~dose_ref_valid.mask].size))"
   ]
  },
  {
   "cell_type": "code",
   "execution_count": null,
   "metadata": {},
   "outputs": [],
   "source": [
    "count=5000\n",
    "def run_gamma(random_point_count=count):\n",
    "    # Gamma shell, 10,000 random subset, max gamma = 1\n",
    "    gamma = gamma_shell(coords_ref,\n",
    "                        dose_ref,\n",
    "                        coords_eval,\n",
    "                        dose_eval,\n",
    "                        dose_percent_threshold=3,\n",
    "                        distance_mm_threshold=3,\n",
    "                        lower_percent_dose_cutoff=10,\n",
    "                        random_subset=random_point_count,\n",
    "                        ram_available=2000000000                    \n",
    "    )\n",
    "    print(\"\\nGamma with 10,000 random points and max gamma of 1 took {:.1f}s\".format(end-start))\n",
    "    print(\"Pass rate = {:.3f}%\\n\".format(calculate_pass_rate(gamma)))"
   ]
  },
  {
   "cell_type": "code",
   "execution_count": null,
   "metadata": {},
   "outputs": [],
   "source": [
    "\n",
    "%lprun -f gamma_loop -f calculate_min_dose_difference -f interpolate_evaluation_dose_at_distance -f add_shells_to_eval_coords gamma_shell(coords_ref, dose_ref,coords_eval,dose_eval,dose_percent_threshold=3,distance_mm_threshold=3,lower_percent_dose_cutoff=10,max_gamma = 1.1,random_subset=count,ram_available=2000000000)"
   ]
  }
 ],
 "metadata": {
  "kernelspec": {
   "display_name": "Python 3",
   "language": "python",
   "name": "python3"
  },
  "language_info": {
   "codemirror_mode": {
    "name": "ipython",
    "version": 3
   },
   "file_extension": ".py",
   "mimetype": "text/x-python",
   "name": "python",
   "nbconvert_exporter": "python",
   "pygments_lexer": "ipython3",
   "version": "3.7.1"
  }
 },
 "nbformat": 4,
 "nbformat_minor": 2
}
