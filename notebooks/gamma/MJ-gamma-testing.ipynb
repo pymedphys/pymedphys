{
 "cells": [
  {
   "cell_type": "code",
   "execution_count": null,
   "metadata": {},
   "outputs": [],
   "source": [
    "import os\n",
    "from os.path import abspath, dirname, basename, join as pjoin, exists as pexists\n",
    "from timeit import default_timer as timer\n",
    "import psutil\n",
    "import numpy as np\n",
    "import pydicom\n",
    "from pymedphys.dicom import coords_and_dose_from_dcm\n",
    "from pymedphys.gamma import gamma_shell, convert_to_percent_pass"
   ]
  },
  {
   "cell_type": "code",
   "execution_count": null,
   "metadata": {},
   "outputs": [],
   "source": [
    "mem = psutil.virtual_memory()\n",
    "print(mem.total)\n",
    "print(mem.available)\n",
    "print(mem.percent)\n",
    "print(\"Available RAM: {:.1f}%\".format(100*mem.available/mem.total))"
   ]
  },
  {
   "cell_type": "code",
   "execution_count": null,
   "metadata": {},
   "outputs": [],
   "source": [
    "DATA_DIR = pjoin(dirname(dirname(os.getcwd())), \"tests\", \"data\")\n",
    "\n",
    "dicom_dir = pjoin(DATA_DIR, \"gamma\", \"500054496\")\n",
    "\n",
    "path_eval = pjoin(dicom_dir, \"RD.2.16.840.1.113669.2.931128.796599805.20190125092745.231607.dcm\")\n",
    "path_ref = pjoin(dicom_dir, \"RD.500054496.Dose_brain-wbu TS3.dcm\")\n",
    "\n",
    "coords_eval, dose_eval = coords_and_dose_from_dcm(path_eval)\n",
    "coords_ref, dose_ref = coords_and_dose_from_dcm(path_ref)\n",
    "\n",
    "dose_ref_valid = np.ma.masked_where(dose_ref <= 0.1*np.max(dose_ref), dose_ref)\n",
    "\n",
    "print(\"Number of dose points: {}\".format(dose_ref.size))\n",
    "print(\"Number of dose points above 10% threshold: {}\".format(dose_ref_valid[~dose_ref_valid.mask].size))"
   ]
  },
  {
   "cell_type": "code",
   "execution_count": null,
   "metadata": {},
   "outputs": [],
   "source": [
    "# Gamma shell, 10,000 random subset, max gamma = 1\n",
    "random_point_count = 10000\n",
    "start = timer()\n",
    "gamma = gamma_shell(coords_ref,\n",
    "                    dose_ref,\n",
    "                    coords_eval,\n",
    "                    dose_eval,\n",
    "                    dose_percent_threshold=3,\n",
    "                    distance_mm_threshold=3,\n",
    "                    lower_percent_dose_cutoff=10,\n",
    "                    max_gamma = 1.1,\n",
    "                    random_subset=random_point_count,\n",
    "                    ram_available=int(0.8*mem.available)                    \n",
    ")\n",
    "end = timer()\n",
    "print(\"\\nGamma with 10,000 random points and max gamma of 1 took {:.1f}s\".format(end-start))\n",
    "print(\"Pass rate = {:.3f}%\\n\".format(convert_to_percent_pass(gamma)))"
   ]
  },
  {
   "cell_type": "code",
   "execution_count": null,
   "metadata": {},
   "outputs": [],
   "source": [
    "# Gamma shell, 50,000 random subset, max gamma = 1\n",
    "random_point_count = 50000\n",
    "start = timer()\n",
    "gamma = gamma_shell(coords_ref,\n",
    "                    dose_ref,\n",
    "                    coords_eval,\n",
    "                    dose_eval,\n",
    "                    dose_percent_threshold=3,\n",
    "                    distance_mm_threshold=3,\n",
    "                    lower_percent_dose_cutoff=10,\n",
    "                    max_gamma = 1.1,\n",
    "                    random_subset=random_point_count,\n",
    "                    ram_available=int(0.8*mem.available)                    \n",
    ")\n",
    "end = timer()\n",
    "print(\"\\nGamma with 50,000 random points and max gamma of 1 took {:.1f}s\".format(end-start))\n",
    "print(\"Pass rate = {:.3f}%\\n\".format(convert_to_percent_pass(gamma)))"
   ]
  },
  {
   "cell_type": "code",
   "execution_count": null,
   "metadata": {},
   "outputs": [],
   "source": [
    "# Gamma shell, 10,000 random subset, max gamma = 2\n",
    "random_point_count = 10000\n",
    "start = timer()\n",
    "gamma = gamma_shell(coords_ref,\n",
    "                    dose_ref,\n",
    "                    coords_eval,\n",
    "                    dose_eval,\n",
    "                    dose_percent_threshold=3,\n",
    "                    distance_mm_threshold=3,\n",
    "                    lower_percent_dose_cutoff=10,\n",
    "                    max_gamma = 2.2,\n",
    "                    random_subset=random_point_count,\n",
    "                    ram_available=int(0.8*mem.available)                    \n",
    ")\n",
    "end = timer()\n",
    "print(\"\\nGamma with 10,000 random points and max gamma of 2 took {:.1f}s\".format(end-start))\n",
    "print(\"Pass rate = {:.3f}%\\n\".format(convert_to_percent_pass(gamma)))"
   ]
  },
  {
   "cell_type": "code",
   "execution_count": null,
   "metadata": {},
   "outputs": [],
   "source": [
    "# Gamma shell, 10,000 random subset, max gamma = 1, interp_fraction = 5\n",
    "random_point_count = 10000\n",
    "start = timer()\n",
    "gamma = gamma_shell(coords_ref,\n",
    "                    dose_ref,\n",
    "                    coords_eval,\n",
    "                    dose_eval,\n",
    "                    dose_percent_threshold=3,\n",
    "                    distance_mm_threshold=3,\n",
    "                    lower_percent_dose_cutoff=10,\n",
    "                    interp_fraction=5,\n",
    "                    max_gamma = 1.1,\n",
    "                    random_subset=random_point_count,\n",
    "                    ram_available=int(0.8*mem.available)                    \n",
    ")\n",
    "end = timer()\n",
    "print(\"\\nGamma with 10,000 random points, interp_fraction=5 and max gamma of 1 took {:.1f}s\".format(end-start))\n",
    "print(\"Pass rate = {:.3f}%\\n\".format(convert_to_percent_pass(gamma)))"
   ]
  },
  {
   "cell_type": "code",
   "execution_count": null,
   "metadata": {},
   "outputs": [],
   "source": [
    "# Gamma shell, all points, max gamma = 1\n",
    "start = timer()\n",
    "gamma = gamma_shell(coords_ref,\n",
    "                    dose_ref,\n",
    "                    coords_eval,\n",
    "                    dose_eval,\n",
    "                    dose_percent_threshold=3,\n",
    "                    distance_mm_threshold=3,\n",
    "                    lower_percent_dose_cutoff=10,\n",
    "                    max_gamma = 1.1,\n",
    "                    ram_available=int(0.8*mem.available)                    \n",
    ")\n",
    "end = timer()\n",
    "print(\"\\nGamma with all points and max gamma of 1 took {:.1f}s\".format(end-start))\n",
    "print(\"Pass rate = {:.3f}%\\n\".format(convert_to_percent_pass(gamma)))"
   ]
  },
  {
   "cell_type": "code",
   "execution_count": null,
   "metadata": {},
   "outputs": [],
   "source": []
  }
 ],
 "metadata": {
  "kernelspec": {
   "display_name": "Python 3",
   "language": "python",
   "name": "python3"
  },
  "language_info": {
   "codemirror_mode": {
    "name": "ipython",
    "version": 3
   },
   "file_extension": ".py",
   "mimetype": "text/x-python",
   "name": "python",
   "nbconvert_exporter": "python",
   "pygments_lexer": "ipython3",
   "version": "3.7.1"
  }
 },
 "nbformat": 4,
 "nbformat_minor": 2
}
