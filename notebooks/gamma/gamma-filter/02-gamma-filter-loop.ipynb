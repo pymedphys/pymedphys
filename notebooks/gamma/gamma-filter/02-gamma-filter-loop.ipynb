{
 "cells": [
  {
   "cell_type": "code",
   "execution_count": null,
   "metadata": {},
   "outputs": [],
   "source": [
    "import matplotlib.pyplot as plt\n",
    "\n",
    "from pymedphys.dicom import coords_and_dose_from_dcm\n",
    "\n",
    "from IPython.display import clear_output"
   ]
  },
  {
   "cell_type": "code",
   "execution_count": null,
   "metadata": {},
   "outputs": [],
   "source": [
    "import numpy as np"
   ]
  },
  {
   "cell_type": "code",
   "execution_count": null,
   "metadata": {},
   "outputs": [],
   "source": [
    "distance_mm_threshold = 3\n",
    "dose_percent_threshold = 3\n",
    "\n",
    "lower_percent_dose_cutoff = 20\n",
    "\n",
    "normalisation = None"
   ]
  },
  {
   "cell_type": "code",
   "execution_count": null,
   "metadata": {},
   "outputs": [],
   "source": [
    "dcm_ref_filepath = \"../../../../Documents/RD.Ecl_WOmask.dcm\"\n",
    "dcm_eval_filepath = \"../../../../Documents/RD.Pin.dcm\"\n",
    "\n",
    "coords_reference, dose_reference = coords_and_dose_from_dcm(\n",
    "    dcm_ref_filepath)\n",
    "coords_evaluation, dose_evaluation = coords_and_dose_from_dcm(\n",
    "    dcm_eval_filepath)\n",
    "\n",
    "coords_evaluation = [\n",
    "    coord[1:-1]\n",
    "    for coord in coords_evaluation\n",
    "]\n",
    "\n",
    "dose_evaluation = dose_evaluation[1:-1,1:-1,1:-1]\n",
    "\n",
    "# coords_reference = list(coords_reference)\n",
    "# coords_reference[0] = coords_reference[0] + 20"
   ]
  },
  {
   "cell_type": "code",
   "execution_count": null,
   "metadata": {},
   "outputs": [],
   "source": [
    "np.shape(dose_reference)"
   ]
  },
  {
   "cell_type": "code",
   "execution_count": null,
   "metadata": {},
   "outputs": [],
   "source": [
    "len(coords_reference[0])"
   ]
  },
  {
   "cell_type": "code",
   "execution_count": null,
   "metadata": {},
   "outputs": [],
   "source": [
    "len(coords_reference[1])"
   ]
  },
  {
   "cell_type": "code",
   "execution_count": null,
   "metadata": {},
   "outputs": [],
   "source": [
    "len(coords_reference[2])"
   ]
  },
  {
   "cell_type": "code",
   "execution_count": null,
   "metadata": {},
   "outputs": [],
   "source": [
    "xx_ref, yy_ref, zz_ref = np.meshgrid(*coords_reference, indexing='ij')"
   ]
  },
  {
   "cell_type": "code",
   "execution_count": null,
   "metadata": {},
   "outputs": [],
   "source": [
    "np.mean(dose_reference)"
   ]
  },
  {
   "cell_type": "code",
   "execution_count": null,
   "metadata": {},
   "outputs": [],
   "source": [
    "if normalisation is None:\n",
    "    normalisation = np.max(dose_reference)\n",
    "\n",
    "dose_threshold = dose_percent_threshold / 100 * normalisation\n",
    "lower_dose_cutoff = lower_percent_dose_cutoff / 100 * normalisation"
   ]
  },
  {
   "cell_type": "code",
   "execution_count": null,
   "metadata": {},
   "outputs": [],
   "source": [
    "for _ in range(10):\n",
    "    lower_dose_cutoff = lower_percent_dose_cutoff / 100 * normalisation\n",
    "    \n",
    "    sorted_ref_dose = np.sort(np.ravel(dose_reference))\n",
    "    sorted_ref_dose = sorted_ref_dose[sorted_ref_dose > lower_dose_cutoff]\n",
    "    ref_98 = np.floor(len(sorted_ref_dose) * 0.98).astype(int)\n",
    "    normalisation = sorted_ref_dose[ref_98]\n",
    "    \n",
    "\n",
    "normalisation"
   ]
  },
  {
   "cell_type": "code",
   "execution_count": null,
   "metadata": {},
   "outputs": [],
   "source": [
    "dose_threshold = dose_percent_threshold / 100 * normalisation\n",
    "lower_dose_cutoff = lower_percent_dose_cutoff / 100 * normalisation"
   ]
  },
  {
   "cell_type": "code",
   "execution_count": null,
   "metadata": {},
   "outputs": [],
   "source": []
  },
  {
   "cell_type": "code",
   "execution_count": null,
   "metadata": {},
   "outputs": [],
   "source": [
    "gamma_array = np.ones_like(dose_evaluation).astype(np.float) * np.nan"
   ]
  },
  {
   "cell_type": "code",
   "execution_count": null,
   "metadata": {},
   "outputs": [],
   "source": [
    "len(coords_evaluation[0])"
   ]
  },
  {
   "cell_type": "code",
   "execution_count": null,
   "metadata": {},
   "outputs": [],
   "source": [
    "len(coords_evaluation[1])"
   ]
  },
  {
   "cell_type": "code",
   "execution_count": null,
   "metadata": {},
   "outputs": [],
   "source": []
  },
  {
   "cell_type": "code",
   "execution_count": null,
   "metadata": {},
   "outputs": [],
   "source": [
    "mesh_index = np.meshgrid(*[\n",
    "    np.arange(len(coord_eval))\n",
    "    for coord_eval in coords_evaluation\n",
    "])\n",
    "\n",
    "eval_index = np.reshape(np.array(mesh_index), (3,-1))\n",
    "run_index = np.arange(np.shape(eval_index)[1])\n",
    "np.random.shuffle(run_index)\n",
    "run_index"
   ]
  },
  {
   "cell_type": "code",
   "execution_count": null,
   "metadata": {},
   "outputs": [],
   "source": [
    "i, j, k = eval_index[:, 0]\n",
    "i"
   ]
  },
  {
   "cell_type": "code",
   "execution_count": null,
   "metadata": {},
   "outputs": [],
   "source": []
  },
  {
   "cell_type": "code",
   "execution_count": null,
   "metadata": {},
   "outputs": [],
   "source": [
    "run_index = np.arange(np.shape(eval_index)[1])\n",
    "np.random.shuffle(run_index)\n",
    "run_index\n",
    "\n",
    "gamma_array = np.ones_like(dose_evaluation).astype(np.float) * np.nan\n",
    "\n",
    "for counter, point_index in enumerate(run_index):\n",
    "    i, j, k = eval_index[:, point_index]\n",
    "    eval_x = coords_evaluation[0][i]\n",
    "    eval_y = coords_evaluation[1][j]\n",
    "    eval_z = coords_evaluation[2][k]\n",
    "    \n",
    "    if dose_evaluation[i, j, k] < lower_dose_cutoff:\n",
    "        continue\n",
    "    \n",
    "    distance = np.sqrt(\n",
    "        (xx_ref - eval_x)**2 +\n",
    "        (yy_ref - eval_y)**2 +\n",
    "        (zz_ref - eval_z)**2\n",
    "    )\n",
    "    \n",
    "    dose_diff = dose_evaluation[i, j, k] - dose_reference\n",
    "\n",
    "    gamma = np.min(np.sqrt((dose_diff/dose_threshold)**2 + (distance/distance_mm_threshold)**2))\n",
    "\n",
    "    gamma_array[i,j,k] = gamma\n",
    "    \n",
    "    valid_gamma = gamma_array[np.invert(np.isnan(gamma_array))]\n",
    "    percent_pass = 100 * np.sum(valid_gamma < 1) / len(valid_gamma)\n",
    "    \n",
    "    if counter // 30 == counter / 30:\n",
    "        clear_output()\n",
    "    print(\"complete percent, i, j, k, gamma, pass_rate = {}\".format((\n",
    "        counter / np.shape(eval_index)[1] * 100,\n",
    "        i, j, k, \n",
    "        gamma, percent_pass)))"
   ]
  },
  {
   "cell_type": "code",
   "execution_count": null,
   "metadata": {},
   "outputs": [],
   "source": [
    "# for i, eval_x in enumerate(coords_evaluation[0]):\n",
    "#     print('i = {}'.format(i))\n",
    "#     for j, eval_y in enumerate(coords_evaluation[1]):\n",
    "#         print('j = {}'.format(j))\n",
    "#         for k, eval_z in enumerate(coords_evaluation[2]):\n",
    "#             distance = np.sqrt(\n",
    "#                 (xx_ref - eval_x)**2 +\n",
    "#                 (yy_ref - eval_y)**2 +\n",
    "#                 (zz_ref - eval_z)**2\n",
    "#             )\n",
    "            \n",
    "#             dose_diff = dose_evaluation[i, j, k] - dose_reference\n",
    "            \n",
    "#             gamma = np.min(np.sqrt((dose_diff/dose_threshold)**2 + (distance/distance_mm_threshold)**2))\n",
    "            \n",
    "#             gamma_array[i,j,k] = gamma\n",
    "            \n",
    "#         gamma_just_calced = gamma_array[i,j,:]\n",
    "#         print(\"min: {}, max: {}, mean: {}\".format(\n",
    "#             np.min(gamma_just_calced),\n",
    "#             np.max(gamma_just_calced),\n",
    "#             np.mean(gamma_just_calced)))\n",
    "            "
   ]
  },
  {
   "cell_type": "code",
   "execution_count": null,
   "metadata": {},
   "outputs": [],
   "source": [
    "gamma_above_threshold = gamma_array[dose_evaluation>lower_dose_cutoff]"
   ]
  },
  {
   "cell_type": "code",
   "execution_count": null,
   "metadata": {},
   "outputs": [],
   "source": [
    "100*np.sum(gamma_above_threshold < 1) / len(gamma_above_threshold)"
   ]
  },
  {
   "cell_type": "code",
   "execution_count": null,
   "metadata": {},
   "outputs": [],
   "source": []
  },
  {
   "cell_type": "code",
   "execution_count": null,
   "metadata": {},
   "outputs": [],
   "source": []
  },
  {
   "cell_type": "code",
   "execution_count": null,
   "metadata": {},
   "outputs": [],
   "source": []
  },
  {
   "cell_type": "code",
   "execution_count": null,
   "metadata": {},
   "outputs": [],
   "source": []
  },
  {
   "cell_type": "code",
   "execution_count": null,
   "metadata": {},
   "outputs": [],
   "source": []
  },
  {
   "cell_type": "code",
   "execution_count": null,
   "metadata": {},
   "outputs": [],
   "source": []
  },
  {
   "cell_type": "code",
   "execution_count": null,
   "metadata": {},
   "outputs": [],
   "source": []
  }
 ],
 "metadata": {
  "kernelspec": {
   "display_name": "Python 3",
   "language": "python",
   "name": "python3"
  },
  "language_info": {
   "codemirror_mode": {
    "name": "ipython",
    "version": 3
   },
   "file_extension": ".py",
   "mimetype": "text/x-python",
   "name": "python",
   "nbconvert_exporter": "python",
   "pygments_lexer": "ipython3",
   "version": "3.6.6"
  }
 },
 "nbformat": 4,
 "nbformat_minor": 2
}
