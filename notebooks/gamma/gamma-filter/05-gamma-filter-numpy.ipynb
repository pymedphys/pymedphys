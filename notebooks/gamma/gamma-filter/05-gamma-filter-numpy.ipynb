{
 "cells": [
  {
   "cell_type": "code",
   "execution_count": null,
   "metadata": {},
   "outputs": [],
   "source": [
    "%load_ext autoreload\n",
    "%autoreload 2\n",
    "\n",
    "import numpy as np\n",
    "import matplotlib.pyplot as plt\n",
    "\n",
    "from pymedphys.dicom import coords_and_dose_from_dcm\n",
    "from pymedphys.gamma import gamma_filter_numpy"
   ]
  },
  {
   "cell_type": "code",
   "execution_count": null,
   "metadata": {},
   "outputs": [],
   "source": [
    "distance_mm_threshold = 3\n",
    "dose_percent_threshold = 3\n",
    "\n",
    "lower_percent_dose_cutoff = 20\n",
    "\n",
    "normalisation = None"
   ]
  },
  {
   "cell_type": "code",
   "execution_count": null,
   "metadata": {},
   "outputs": [],
   "source": [
    "dcm_ref_filepath = \"../../../../Documents/RD.Ecl_WOmask.dcm\"\n",
    "dcm_eval_filepath = \"../../../../Documents/RD.Pin.dcm\"\n",
    "\n",
    "coords_reference, dose_reference = coords_and_dose_from_dcm(\n",
    "    dcm_ref_filepath)\n",
    "coords_evaluation, dose_evaluation = coords_and_dose_from_dcm(\n",
    "    dcm_eval_filepath)"
   ]
  },
  {
   "cell_type": "code",
   "execution_count": null,
   "metadata": {},
   "outputs": [],
   "source": [
    "if normalisation is None:\n",
    "    normalisation = np.max(dose_reference)\n",
    "\n",
    "dose_threshold = dose_percent_threshold / 100 * normalisation\n",
    "lower_dose_cutoff = lower_percent_dose_cutoff / 100 * normalisation"
   ]
  },
  {
   "cell_type": "code",
   "execution_count": null,
   "metadata": {},
   "outputs": [],
   "source": [
    "for _ in range(10):\n",
    "    lower_dose_cutoff = lower_percent_dose_cutoff / 100 * normalisation\n",
    "    \n",
    "    sorted_ref_dose = np.sort(np.ravel(dose_reference))\n",
    "    sorted_ref_dose = sorted_ref_dose[sorted_ref_dose > lower_dose_cutoff]\n",
    "    ref_98 = np.floor(len(sorted_ref_dose) * 0.98).astype(int)\n",
    "    normalisation = sorted_ref_dose[ref_98]\n",
    "    \n",
    "\n",
    "normalisation"
   ]
  },
  {
   "cell_type": "code",
   "execution_count": null,
   "metadata": {},
   "outputs": [],
   "source": [
    "dose_threshold = dose_percent_threshold / 100 * normalisation\n",
    "lower_dose_cutoff = lower_percent_dose_cutoff / 100 * normalisation"
   ]
  },
  {
   "cell_type": "code",
   "execution_count": null,
   "metadata": {},
   "outputs": [],
   "source": [
    "gamma_pass_percentage = gamma_filter_numpy(\n",
    "    coords_reference, dose_reference,\n",
    "    coords_evaluation, dose_evaluation,\n",
    "    distance_mm_threshold, dose_threshold,\n",
    "    lower_dose_cutoff=lower_dose_cutoff)\n",
    "\n",
    "gamma_pass_percentage"
   ]
  },
  {
   "cell_type": "code",
   "execution_count": null,
   "metadata": {},
   "outputs": [],
   "source": []
  }
 ],
 "metadata": {
  "kernelspec": {
   "display_name": "Python 3",
   "language": "python",
   "name": "python3"
  },
  "language_info": {
   "codemirror_mode": {
    "name": "ipython",
    "version": 3
   },
   "file_extension": ".py",
   "mimetype": "text/x-python",
   "name": "python",
   "nbconvert_exporter": "python",
   "pygments_lexer": "ipython3",
   "version": "3.6.6"
  }
 },
 "nbformat": 4,
 "nbformat_minor": 2
}
