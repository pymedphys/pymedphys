{
 "cells": [
  {
   "cell_type": "code",
   "execution_count": null,
   "metadata": {},
   "outputs": [],
   "source": [
    "import numpy as np\n",
    "from timeit import timeit\n",
    "%alias_magic t timeit"
   ]
  },
  {
   "cell_type": "code",
   "execution_count": null,
   "metadata": {},
   "outputs": [],
   "source": [
    "NPIS = 2022348\n",
    "TBC = np.random.choice(2, size=15159231).astype('bool')\n",
    "ND = 3\n",
    "\n",
    "def ram_calc_old_speed_test(num_points_in_shell=NPIS, to_be_checked=TBC, num_dimensions=ND):\n",
    "    estimated_ram_needed = (np.uint64(num_points_in_shell)\n",
    "                            * np.sum(to_be_checked).astype(np.uint64)\n",
    "                            * np.uint64(32)\n",
    "                            * np.uint64(num_dimensions)\n",
    "                            * np.uint64(2))"
   ]
  },
  {
   "cell_type": "code",
   "execution_count": null,
   "metadata": {},
   "outputs": [],
   "source": [
    "def ram_calc_less_casting_speed_test(num_points_in_shell=NPIS, to_be_checked=TBC, num_dimensions=ND):\n",
    "    estimated_ram_needed = (np.uint64(num_points_in_shell)\n",
    "                            * np.sum(to_be_checked)\n",
    "                            * 32\n",
    "                            * num_dimensions\n",
    "                            * 2)"
   ]
  },
  {
   "cell_type": "code",
   "execution_count": null,
   "metadata": {},
   "outputs": [],
   "source": [
    "def ram_calc_use_countnonzero_speed_test(num_points_in_shell=NPIS, to_be_checked=TBC, num_dimensions=ND):\n",
    "    estimated_ram_needed = (np.uint64(num_points_in_shell)\n",
    "                            * np.uint64(np.count_nonzero(to_be_checked))\n",
    "                            * np.uint64(32)\n",
    "                            * np.uint64(num_dimensions)\n",
    "                            * np.uint64(2))"
   ]
  },
  {
   "cell_type": "code",
   "execution_count": null,
   "metadata": {},
   "outputs": [],
   "source": [
    "def ram_calc_use_countnonzero_and_less_casting_speed_test(num_points_in_shell=NPIS, to_be_checked=TBC, num_dimensions=ND):\n",
    "    estimated_ram_needed = (np.uint64(num_points_in_shell)\n",
    "                            * np.count_nonzero(to_be_checked)\n",
    "                            * 32\n",
    "                            * num_dimensions\n",
    "                            * 2)"
   ]
  },
  {
   "cell_type": "code",
   "execution_count": null,
   "metadata": {},
   "outputs": [],
   "source": [
    "def ram_calc_use_ndarraycountnonzero_speed_test(num_points_in_shell=NPIS, to_be_checked=TBC, num_dimensions=ND):\n",
    "    estimated_ram_needed = (np.uint64(num_points_in_shell)\n",
    "                            * np.uint64(to_be_checked.count_nonzero())\n",
    "                            * np.uint64(32)\n",
    "                            * np.uint64(num_dimensions)\n",
    "                            * np.uint64(2))"
   ]
  },
  {
   "cell_type": "code",
   "execution_count": null,
   "metadata": {},
   "outputs": [],
   "source": [
    "def ram_calc_use_ndarraycountnonzero_and_less_casting_speed_test(num_points_in_shell=NPIS, to_be_checked=TBC, num_dimensions=ND):\n",
    "    estimated_ram_needed = (num_points_in_shell\n",
    "                            * to_be_checked.count_nonzero()\n",
    "                            * 32\n",
    "                            * num_dimensions\n",
    "                            * np.uint64(2))"
   ]
  },
  {
   "cell_type": "code",
   "execution_count": null,
   "metadata": {},
   "outputs": [],
   "source": [
    "%t -n1000000 -r100 ram_calc_old_speed_test"
   ]
  },
  {
   "cell_type": "code",
   "execution_count": null,
   "metadata": {},
   "outputs": [],
   "source": [
    "%t -n1000000 -r100 ram_calc_less_casting_speed_test"
   ]
  },
  {
   "cell_type": "code",
   "execution_count": null,
   "metadata": {},
   "outputs": [],
   "source": [
    "%t -n1000000 -r100 ram_calc_use_countnonzero_speed_test"
   ]
  },
  {
   "cell_type": "code",
   "execution_count": null,
   "metadata": {},
   "outputs": [],
   "source": [
    "%t -n1000000 -r100 ram_calc_use_countnonzero_and_less_casting_speed_test"
   ]
  },
  {
   "cell_type": "code",
   "execution_count": null,
   "metadata": {},
   "outputs": [],
   "source": [
    "%t -n1000000 -r100 ram_calc_use_ndarraycountnonzero_speed_test"
   ]
  },
  {
   "cell_type": "code",
   "execution_count": null,
   "metadata": {},
   "outputs": [],
   "source": [
    "%t -n1000000 -r100 ram_calc_use_ndarraycountnonzero_and_less_casting_speed_test"
   ]
  }
 ],
 "metadata": {
  "kernelspec": {
   "display_name": "Python 3",
   "language": "python",
   "name": "python3"
  },
  "language_info": {
   "codemirror_mode": {
    "name": "ipython",
    "version": 3
   },
   "file_extension": ".py",
   "mimetype": "text/x-python",
   "name": "python",
   "nbconvert_exporter": "python",
   "pygments_lexer": "ipython3",
   "version": "3.7.1"
  }
 },
 "nbformat": 4,
 "nbformat_minor": 2
}
