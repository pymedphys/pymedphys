{
 "cells": [
  {
   "cell_type": "code",
   "execution_count": null,
   "metadata": {},
   "outputs": [],
   "source": [
    "import os\n",
    "from os.path import abspath, dirname, basename, join as pjoin, exists as pexists\n",
    "from pymedphys.dicom import anonymise_dicom\n",
    "import pydicom"
   ]
  },
  {
   "cell_type": "code",
   "execution_count": null,
   "metadata": {},
   "outputs": [],
   "source": [
    "DATA_DIR = pjoin(dirname(dirname(os.getcwd())),\"tests\", \"data\")\n",
    "dicom_rootdir = pjoin(DATA_DIR, \"gamma\", \"500054496\")\n",
    "\n",
    "in_paths = []\n",
    "\n",
    "for root, dirs, files in os.walk(abspath(dicom_rootdir)):\n",
    "    for file in files:\n",
    "        filepath = pjoin(root, file)\n",
    "        name = basename(filepath)\n",
    "        if name.endswith('.dcm'):\n",
    "            in_paths.append(filepath)\n",
    "print(len(in_paths))\n",
    "\n",
    "# Second for loop permits tracking\n",
    "file_count = len(in_paths)\n",
    "for i in range(file_count):\n",
    "    path = in_paths[i]\n",
    "    dir_anon = pjoin(dirname(path), \"anon\")\n",
    "    path_anon = pjoin(dir_anon, basename(path))\n",
    "    \n",
    "    if not pexists(dir_anon):\n",
    "        os.mkdir(dir_anon)\n",
    "    \n",
    "    ds = pydicom.dcmread(path)\n",
    "    ds_anon = anonymise_dicom(ds)\n",
    "    ds_anon.save_as(path_anon)\n",
    "    print(\"Completed {} of {} files\".format(i+1, file_count))\n",
    "    "
   ]
  },
  {
   "cell_type": "code",
   "execution_count": null,
   "metadata": {},
   "outputs": [],
   "source": []
  }
 ],
 "metadata": {
  "kernelspec": {
   "display_name": "Python 3",
   "language": "python",
   "name": "python3"
  },
  "language_info": {
   "codemirror_mode": {
    "name": "ipython",
    "version": 3
   },
   "file_extension": ".py",
   "mimetype": "text/x-python",
   "name": "python",
   "nbconvert_exporter": "python",
   "pygments_lexer": "ipython3",
   "version": "3.7.1"
  }
 },
 "nbformat": 4,
 "nbformat_minor": 2
}
