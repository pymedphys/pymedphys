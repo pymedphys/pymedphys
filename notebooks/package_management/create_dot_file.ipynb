{
 "cells": [
  {
   "cell_type": "code",
   "execution_count": null,
   "metadata": {},
   "outputs": [],
   "source": [
    "import os\n",
    "from glob import glob\n",
    "import subprocess \n",
    "import json\n",
    "from copy import copy, deepcopy\n",
    "\n",
    "import networkx as nx"
   ]
  },
  {
   "cell_type": "code",
   "execution_count": null,
   "metadata": {},
   "outputs": [],
   "source": [
    "ROOT = '../..'"
   ]
  },
  {
   "cell_type": "code",
   "execution_count": null,
   "metadata": {},
   "outputs": [],
   "source": [
    "package_dirs = list(map(os.path.dirname, glob(os.path.join(ROOT, 'packages/pymedphys_*/src/pymedphys_*/__init__.py'))))\n",
    "package_dirs"
   ]
  },
  {
   "cell_type": "code",
   "execution_count": null,
   "metadata": {},
   "outputs": [],
   "source": [
    "internal_packages = [os.path.basename(directory) for directory in package_dirs]\n",
    "internal_packages"
   ]
  },
  {
   "cell_type": "code",
   "execution_count": null,
   "metadata": {},
   "outputs": [],
   "source": [
    "module_globs = {}\n",
    "\n",
    "for package in internal_packages:\n",
    "    module_globs[package] = list(\n",
    "        map(os.path.dirname, glob(os.path.join(ROOT, 'packages', package, 'src', package, '*', '__init__.py'))))\n",
    "    \n",
    "\n",
    "module_globs"
   ]
  },
  {
   "cell_type": "code",
   "execution_count": null,
   "metadata": {},
   "outputs": [],
   "source": [
    "glob('../../packages/pymedphys_fileformats/src/pymedphys_fileformats/trf/*.py')"
   ]
  },
  {
   "cell_type": "code",
   "execution_count": null,
   "metadata": {},
   "outputs": [],
   "source": [
    "package_dirs = list(map(os.path.dirname, glob(os.path.join(ROOT, 'packages/pymedphys_*/src/pymedphys_logfiles/*/__init__.py'))))\n",
    "package_dirs"
   ]
  },
  {
   "cell_type": "code",
   "execution_count": null,
   "metadata": {},
   "outputs": [],
   "source": [
    "internal_packages = [os.path.basename(directory) for directory in package_dirs]\n",
    "internal_packages"
   ]
  },
  {
   "cell_type": "code",
   "execution_count": null,
   "metadata": {},
   "outputs": [],
   "source": [
    "dependencies_from_pydeps = {} \n",
    "for directory in package_dirs: \n",
    "    package = os.path.basename(directory) \n",
    "    dependencies_from_pydeps[package] = json.loads(subprocess.run(\n",
    "        [\"pydeps\", directory, \"--external\"], stdout=subprocess.PIPE).stdout) "
   ]
  },
  {
   "cell_type": "code",
   "execution_count": null,
   "metadata": {},
   "outputs": [],
   "source": [
    "dependencies_set = { \n",
    "    package: {dependency for dependency in dependency_list if dependency in internal_packages} \n",
    "    for package, dependency_list in dependencies_from_pydeps.items() \n",
    "}\n",
    "dependencies_set"
   ]
  },
  {
   "cell_type": "code",
   "execution_count": null,
   "metadata": {},
   "outputs": [],
   "source": [
    "dag = nx.DiGraph()\n",
    "\n",
    "for key, values in dependencies_set.items(): \n",
    "    dag.add_node(key) \n",
    "    dag.add_nodes_from(values) \n",
    "    edge_tuples = [ \n",
    "        (key, value) for value in values \n",
    "    ] \n",
    "    dag.add_edges_from(edge_tuples) \n",
    "\n",
    "assert nx.is_directed_acyclic_graph(dag)"
   ]
  },
  {
   "cell_type": "code",
   "execution_count": null,
   "metadata": {},
   "outputs": [],
   "source": [
    "topological = list(nx.topological_sort(dag))\n",
    "topological"
   ]
  },
  {
   "cell_type": "code",
   "execution_count": null,
   "metadata": {},
   "outputs": [],
   "source": [
    "minimal_deps = {}\n",
    "\n",
    "for package in topological[::-1]:\n",
    "    if package in internal_packages:\n",
    "        already_dependend_on = set()\n",
    "        package_decendants = nx.descendants(dag, package)\n",
    "        for dependency in package_decendants:\n",
    "            if dependency in minimal_deps.keys():\n",
    "                for already_in in nx.descendants(dag, dependency):\n",
    "                    already_dependend_on.add(already_in)\n",
    "        \n",
    "        minimal_deps[package] = package_decendants.difference(already_dependend_on)\n",
    "        \n",
    "minimal_deps"
   ]
  },
  {
   "cell_type": "code",
   "execution_count": null,
   "metadata": {},
   "outputs": [],
   "source": []
  },
  {
   "cell_type": "code",
   "execution_count": null,
   "metadata": {},
   "outputs": [],
   "source": [
    "minimal_dag = nx.DiGraph()\n",
    "\n",
    "for package in minimal_deps.keys():\n",
    "    minimal_dag.add_node(package) \n",
    "    \n",
    "for package, dependencies in minimal_deps.items(): \n",
    "    \n",
    "    edge_tuples = [\n",
    "        (package, dependency) for dependency in dependencies\n",
    "    ]\n",
    "\n",
    "    minimal_dag.add_edges_from(edge_tuples) "
   ]
  },
  {
   "cell_type": "code",
   "execution_count": null,
   "metadata": {},
   "outputs": [],
   "source": [
    "topological = list(nx.topological_sort(minimal_dag))\n",
    "topological"
   ]
  },
  {
   "cell_type": "code",
   "execution_count": null,
   "metadata": {},
   "outputs": [],
   "source": [
    "level_map = {}\n",
    "for package in topological[::-1]:\n",
    "    depencencies = nx.descendants(minimal_dag, package)\n",
    "    levels = {0}\n",
    "    for dependency in depencencies:\n",
    "        try:\n",
    "            levels.add(level_map[dependency])\n",
    "        except KeyError:\n",
    "            pass\n",
    "    max_level = max(levels)\n",
    "    level_map[package] = max_level + 1\n",
    "\n",
    "\n",
    "level_map"
   ]
  },
  {
   "cell_type": "code",
   "execution_count": null,
   "metadata": {},
   "outputs": [],
   "source": [
    "levels = {\n",
    "    i + 1: []\n",
    "    for i in range(max(level_map.values()))\n",
    "}\n",
    "for package, level in level_map.items():\n",
    "    levels[level].append(package)\n",
    "    \n",
    "levels"
   ]
  },
  {
   "cell_type": "code",
   "execution_count": null,
   "metadata": {},
   "outputs": [],
   "source": [
    "for level in levels.values():\n",
    "    level.sort()"
   ]
  },
  {
   "cell_type": "code",
   "execution_count": null,
   "metadata": {},
   "outputs": [],
   "source": [
    "clusters = \"\"\n",
    "\n",
    "for i in range(max(level_map.values())):\n",
    "    level = i + 1\n",
    "    cluster_packages = ';\\n        '.join(levels[level])\n",
    "    clusters += \"\"\"\n",
    "    subgraph cluster_{} {{\n",
    "        {};\n",
    "        label = \"Level {}\";\n",
    "        style = dashed;\n",
    "        color = grey80;\n",
    "    }}\n",
    "    \"\"\".format(i, cluster_packages, level)\n",
    "    \n",
    "print(clusters)"
   ]
  },
  {
   "cell_type": "code",
   "execution_count": null,
   "metadata": {},
   "outputs": [],
   "source": [
    "edges = \"\"\n",
    "\n",
    "for edge in minimal_dag.edges():\n",
    "    edges += \"    {} -> {};\\n\".format(*edge)\n",
    "\n",
    "print(edges)"
   ]
  },
  {
   "cell_type": "code",
   "execution_count": null,
   "metadata": {},
   "outputs": [],
   "source": [
    "dot_file_contents = \"\"\"\n",
    "strict digraph  {{\n",
    "\n",
    "    rankdir = LR;\n",
    "    node [\n",
    "        shape = box;\n",
    "        width = 3;\n",
    "    ];\n",
    "    splines = polyline;\n",
    "    \n",
    "{}\n",
    "{}\n",
    "}}\n",
    "\"\"\".format(clusters, edges)\n",
    "\n",
    "print(dot_file_contents)"
   ]
  },
  {
   "cell_type": "code",
   "execution_count": null,
   "metadata": {},
   "outputs": [],
   "source": []
  },
  {
   "cell_type": "code",
   "execution_count": null,
   "metadata": {},
   "outputs": [],
   "source": []
  }
 ],
 "metadata": {
  "kernelspec": {
   "display_name": "Python 3",
   "language": "python",
   "name": "python3"
  },
  "language_info": {
   "codemirror_mode": {
    "name": "ipython",
    "version": 3
   },
   "file_extension": ".py",
   "mimetype": "text/x-python",
   "name": "python",
   "nbconvert_exporter": "python",
   "pygments_lexer": "ipython3",
   "version": "3.7.1"
  }
 },
 "nbformat": 4,
 "nbformat_minor": 2
}
