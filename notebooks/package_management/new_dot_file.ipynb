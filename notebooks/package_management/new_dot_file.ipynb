{
 "cells": [
  {
   "cell_type": "code",
   "execution_count": null,
   "metadata": {},
   "outputs": [],
   "source": [
    "import sys\n",
    "sys.path.insert(0, '../../scripts')"
   ]
  },
  {
   "cell_type": "code",
   "execution_count": null,
   "metadata": {},
   "outputs": [],
   "source": [
    "from build_dependency_tree import *\n",
    "from create_dot_files import *"
   ]
  },
  {
   "cell_type": "code",
   "execution_count": null,
   "metadata": {},
   "outputs": [],
   "source": [
    "trimmed_graph()\n",
    "full_graph()"
   ]
  },
  {
   "cell_type": "code",
   "execution_count": null,
   "metadata": {},
   "outputs": [],
   "source": [
    "tree = build_tree()"
   ]
  },
  {
   "cell_type": "code",
   "execution_count": null,
   "metadata": {},
   "outputs": [],
   "source": [
    "internal_packages = tuple(tree.keys())\n",
    "internal_packages"
   ]
  },
  {
   "cell_type": "code",
   "execution_count": null,
   "metadata": {},
   "outputs": [],
   "source": [
    "dag = nx.DiGraph()\n",
    "\n",
    "for key, values in tree.items():\n",
    "    dag.add_node(key)\n",
    "    dag.add_nodes_from(values['internal'])\n",
    "    dag.add_nodes_from(values['external'])\n",
    "    edge_tuples = [\n",
    "        (key, value) for value in values['internal']\n",
    "    ]\n",
    "    dag.add_edges_from(edge_tuples)\n",
    "    edge_tuples = [\n",
    "        (key, value) for value in values['external']\n",
    "    ]\n",
    "    dag.add_edges_from(edge_tuples)\n",
    "    \n",
    "topological = list(nx.topological_sort(dag))\n",
    "topological"
   ]
  },
  {
   "cell_type": "code",
   "execution_count": null,
   "metadata": {},
   "outputs": [],
   "source": [
    "level_map = {}\n",
    "for package in topological[::-1]:\n",
    "    if package not in internal_packages:\n",
    "        level_map[package] = 0\n",
    "    else:\n",
    "        depencencies = nx.descendants(dag, package)\n",
    "        levels = {0}\n",
    "        for dependency in depencencies:\n",
    "            if dependency in internal_packages:\n",
    "                try:\n",
    "                    levels.add(level_map[dependency])\n",
    "                except KeyError:\n",
    "                    pass\n",
    "        max_level = max(levels)\n",
    "        level_map[package] = max_level + 1"
   ]
  },
  {
   "cell_type": "code",
   "execution_count": null,
   "metadata": {},
   "outputs": [],
   "source": [
    "levels = {\n",
    "    level: []\n",
    "    for level in range(max(level_map.values()) + 1)\n",
    "}\n",
    "for package, level in level_map.items():\n",
    "    levels[level].append(package)\n",
    "    \n",
    "levels"
   ]
  },
  {
   "cell_type": "code",
   "execution_count": null,
   "metadata": {},
   "outputs": [],
   "source": [
    "clusters = \"\"\n",
    "\n",
    "for level in range(max(level_map.values()) + 1):\n",
    "    cluster_packages = ';\\n        '.join(levels[level])\n",
    "    clusters += \"\"\"\n",
    "    subgraph cluster_{0} {{\n",
    "        {1};\n",
    "        label = \"Level {0}\";\n",
    "        style = dashed;\n",
    "        color = grey80;\n",
    "    }}\n",
    "    \"\"\".format(level, cluster_packages)\n",
    "\n",
    "edges = \"\"\n",
    "\n",
    "for edge in dag.edges():\n",
    "    edges += \"    {} -> {};\\n\".format(*edge)\n",
    "\n",
    "dot_file_contents = \"\"\"\n",
    "strict digraph  {{\n",
    "\n",
    "    rankdir = LR;\n",
    "    node [\n",
    "        shape = box;\n",
    "        width = 3;\n",
    "    ];\n",
    "    splines = spline;\n",
    "\n",
    "{}\n",
    "{}\n",
    "}}\n",
    "\"\"\".format(clusters, edges)\n",
    "\n",
    "print(dot_file_contents)"
   ]
  },
  {
   "cell_type": "code",
   "execution_count": null,
   "metadata": {},
   "outputs": [],
   "source": []
  }
 ],
 "metadata": {
  "kernelspec": {
   "display_name": "Python 3",
   "language": "python",
   "name": "python3"
  },
  "language_info": {
   "codemirror_mode": {
    "name": "ipython",
    "version": 3
   },
   "file_extension": ".py",
   "mimetype": "text/x-python",
   "name": "python",
   "nbconvert_exporter": "python",
   "pygments_lexer": "ipython3",
   "version": "3.7.1"
  }
 },
 "nbformat": 4,
 "nbformat_minor": 2
}
