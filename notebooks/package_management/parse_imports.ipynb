{
 "cells": [
  {
   "cell_type": "code",
   "execution_count": null,
   "metadata": {},
   "outputs": [],
   "source": [
    "import ast\n",
    "from glob import glob\n",
    "import sys\n",
    "import os\n",
    "from copy import deepcopy\n",
    "\n",
    "import networkx as nx\n",
    "\n",
    "from stdlib_list import stdlib_list\n",
    "STDLIB = set(stdlib_list())\n",
    "\n",
    "CONVERSIONS = {\n",
    "    'attr': 'attrs',\n",
    "    'PIL': 'Pillow',\n",
    "    'Image': 'Pillow',\n",
    "    'mpl_toolkits': 'matplotlib',\n",
    "    'dateutil': 'python-dateutil'\n",
    "}"
   ]
  },
  {
   "cell_type": "code",
   "execution_count": null,
   "metadata": {},
   "outputs": [],
   "source": [
    "dirtree = nx.DiGraph()\n",
    "\n",
    "exclude_dirs = {'node_modules', '__pycache__', 'dist'}\n",
    "exclude_files = {'__init__.py', '_version.py', '_install_requires.py'}\n",
    "packages_dir = os.path.join(ROOT, 'packages')\n",
    "\n",
    "for root, dirs, files in os.walk(packages_dir, topdown=True):\n",
    "    dirs[:] = [d for d in dirs if d not in exclude_dirs]\n",
    "    \n",
    "    if '__init__.py' in files:\n",
    "        module_init = os.path.join(root, '__init__.py')\n",
    "        files[:] = [f for f in files if f not in exclude_files]\n",
    "        \n",
    "        dirtree.add_node(module_init)\n",
    "        parent_init = os.path.join(os.path.dirname(root), '__init__.py')\n",
    "        if os.path.exists(parent_init):\n",
    "            dirtree.add_edge(parent_init, module_init)\n",
    "\n",
    "        for f in files:\n",
    "            if f.endswith('.py'):\n",
    "                filepath = os.path.join(root, f)\n",
    "                dirtree.add_node(filepath)\n",
    "                dirtree.add_edge(module_init, filepath)"
   ]
  },
  {
   "cell_type": "code",
   "execution_count": null,
   "metadata": {},
   "outputs": [],
   "source": [
    "package_roots = [n for n, d in dirtree.in_degree() if d == 0]\n",
    "package_root_map = {\n",
    "    os.path.basename(os.path.dirname(package_root)): package_root\n",
    "    for package_root in package_roots\n",
    "}\n",
    "\n",
    "internal_packages = list(package_root_map.keys())\n",
    "internal_packages"
   ]
  },
  {
   "cell_type": "code",
   "execution_count": null,
   "metadata": {},
   "outputs": [],
   "source": [
    "import_types = {\n",
    "    type(ast.parse('import george').body[0]),\n",
    "    type(ast.parse('import george as macdonald').body[0])}\n",
    "\n",
    "import_from_types = {\n",
    "    type(ast.parse('from george import macdonald').body[0])\n",
    "}\n",
    "\n",
    "all_import_types = import_types.union(import_from_types)\n",
    "\n",
    "all_import_types"
   ]
  },
  {
   "cell_type": "code",
   "execution_count": null,
   "metadata": {},
   "outputs": [],
   "source": [
    "def get_imports(filepath):\n",
    "    with open(filepath, 'r') as file:\n",
    "        data = file.read()\n",
    "\n",
    "    parsed = ast.parse(data)\n",
    "    imports = [node for node in ast.walk(parsed) if type(node) in all_import_types]\n",
    "\n",
    "    stdlib_imports = set()\n",
    "    external_imports = set()\n",
    "    internal_imports = set()\n",
    "    near_relative_imports = set()\n",
    "    far_relative_imports = set()\n",
    "    \n",
    "    def get_base_converted_module(name):\n",
    "        name = name.split('.')[0]\n",
    "        \n",
    "        try:\n",
    "            name = CONVERSIONS[name]\n",
    "        except KeyError:\n",
    "            pass\n",
    "        \n",
    "        return name\n",
    "    \n",
    "    def add_level_0(name):\n",
    "        if name in STDLIB:\n",
    "            stdlib_imports.add(name)\n",
    "        elif name in internal_packages:\n",
    "            internal_imports.add(name)\n",
    "        else:\n",
    "            external_imports.add(name)\n",
    "\n",
    "    for an_import in imports:\n",
    "        \n",
    "        if type(an_import) in import_types:\n",
    "            for alias in an_import.names:\n",
    "                name = get_base_converted_module(alias.name)\n",
    "                add_level_0(name)\n",
    "                \n",
    "        elif type(an_import) in import_from_types:\n",
    "            name = get_base_converted_module(an_import.module)\n",
    "            if an_import.level == 0:\n",
    "                add_level_0(name)\n",
    "            elif an_import.level == 1:\n",
    "                near_relative_imports.add(name)\n",
    "            else:\n",
    "                far_relative_imports.add(name)\n",
    "                \n",
    "        else:\n",
    "            raise\n",
    "            \n",
    "    \n",
    "            \n",
    "    return {\n",
    "        'stdlib': stdlib_imports,\n",
    "        'external': external_imports,\n",
    "        'internal': internal_imports,\n",
    "        'near_relative': near_relative_imports,\n",
    "        'far_relative': far_relative_imports}"
   ]
  },
  {
   "cell_type": "code",
   "execution_count": null,
   "metadata": {},
   "outputs": [],
   "source": [
    "all_imports = {\n",
    "    filepath: get_imports(filepath)\n",
    "    for filepath in dirtree.nodes()\n",
    "}"
   ]
  },
  {
   "cell_type": "code",
   "execution_count": null,
   "metadata": {},
   "outputs": [],
   "source": [
    "def get_descendants_dependencies(filepath):\n",
    "    dependencies = deepcopy(all_imports[filepath])\n",
    "    \n",
    "    for descendant in nx.descendants(dirtree, filepath):\n",
    "        for key, item in all_imports[descendant].items():\n",
    "            dependencies[key] |= item\n",
    "            \n",
    "    return dependencies"
   ]
  },
  {
   "cell_type": "code",
   "execution_count": null,
   "metadata": {},
   "outputs": [],
   "source": [
    "package_dependencies = {\n",
    "    package: get_descendants_dependencies(root)\n",
    "    for package, root in package_root_map.items()\n",
    "}\n",
    "\n",
    "package_dependencies"
   ]
  },
  {
   "cell_type": "code",
   "execution_count": null,
   "metadata": {},
   "outputs": [],
   "source": []
  },
  {
   "cell_type": "code",
   "execution_count": null,
   "metadata": {},
   "outputs": [],
   "source": [
    "get_descendants_dependencies(package_roots[0])"
   ]
  },
  {
   "cell_type": "code",
   "execution_count": null,
   "metadata": {},
   "outputs": [],
   "source": [
    "list(nx.neighbors(dirtree, package_roots[4]))"
   ]
  },
  {
   "cell_type": "code",
   "execution_count": null,
   "metadata": {},
   "outputs": [],
   "source": [
    "nx.descendants(dirtree, '/home/simon/git/pymedphys/packages/pymedphys/src/pymedphys/__init__.py')"
   ]
  },
  {
   "cell_type": "code",
   "execution_count": null,
   "metadata": {},
   "outputs": [],
   "source": [
    "# nx.neighbors()"
   ]
  },
  {
   "cell_type": "code",
   "execution_count": null,
   "metadata": {},
   "outputs": [],
   "source": [
    "imports = [node for node in ast.walk(table) if type(node) in all_import_types]\n",
    "imports"
   ]
  },
  {
   "cell_type": "code",
   "execution_count": null,
   "metadata": {},
   "outputs": [],
   "source": [
    "# external_imports = set()\n",
    "# near_internal_imports = set()\n",
    "# far_internal_imports = set()\n",
    "\n",
    "# for an_import in imports:\n",
    "#     if type(an_import) in import_types:\n",
    "#         for alias in an_import.names:\n",
    "#             external_imports.add(alias.name)\n",
    "#     elif type(an_import) in import_from_types:\n",
    "#         if an_import.level == 0:\n",
    "#             external_imports.add(an_import.module)\n",
    "#         elif an_import.level == 1:\n",
    "#             near_internal_imports.add(an_import.module)\n",
    "#         else:\n",
    "#             far_internal_imports.add(an_import.module)\n",
    "#     else:\n",
    "#         raise\n",
    "        \n",
    "#     print(ast.dump(an_import))"
   ]
  },
  {
   "cell_type": "code",
   "execution_count": null,
   "metadata": {},
   "outputs": [],
   "source": [
    "external_imports"
   ]
  },
  {
   "cell_type": "code",
   "execution_count": null,
   "metadata": {},
   "outputs": [],
   "source": [
    "near_internal_imports"
   ]
  },
  {
   "cell_type": "code",
   "execution_count": null,
   "metadata": {},
   "outputs": [],
   "source": [
    "far_internal_imports"
   ]
  },
  {
   "cell_type": "code",
   "execution_count": null,
   "metadata": {},
   "outputs": [],
   "source": []
  }
 ],
 "metadata": {
  "kernelspec": {
   "display_name": "Python 3",
   "language": "python",
   "name": "python3"
  },
  "language_info": {
   "codemirror_mode": {
    "name": "ipython",
    "version": 3
   },
   "file_extension": ".py",
   "mimetype": "text/x-python",
   "name": "python",
   "nbconvert_exporter": "python",
   "pygments_lexer": "ipython3",
   "version": "3.7.1"
  }
 },
 "nbformat": 4,
 "nbformat_minor": 2
}
