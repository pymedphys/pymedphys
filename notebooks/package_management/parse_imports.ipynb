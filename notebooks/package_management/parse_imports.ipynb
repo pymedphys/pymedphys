{
 "cells": [
  {
   "cell_type": "code",
   "execution_count": null,
   "metadata": {},
   "outputs": [],
   "source": [
    "import ast"
   ]
  },
  {
   "cell_type": "code",
   "execution_count": null,
   "metadata": {},
   "outputs": [],
   "source": [
    "import_types = {\n",
    "    type(ast.parse('import boo').body[0]),\n",
    "    type(ast.parse('import boo as hoo').body[0])}\n",
    "\n",
    "import_from_types = {\n",
    "    type(ast.parse('from boo import hoo').body[0])\n",
    "}\n",
    "\n",
    "all_import_types = import_types.union(import_from_types)\n",
    "\n",
    "all_import_types"
   ]
  },
  {
   "cell_type": "code",
   "execution_count": null,
   "metadata": {},
   "outputs": [],
   "source": [
    "with open('table.py', 'r') as file:\n",
    "    data = file.read()\n",
    "    \n",
    "table = ast.parse(data)"
   ]
  },
  {
   "cell_type": "code",
   "execution_count": null,
   "metadata": {},
   "outputs": [],
   "source": [
    "imports = [node for node in ast.walk(table) if type(node) in all_import_types]\n",
    "imports"
   ]
  },
  {
   "cell_type": "code",
   "execution_count": null,
   "metadata": {},
   "outputs": [],
   "source": [
    "external_imports = set()\n",
    "near_internal_imports = set()\n",
    "far_internal_imports = set()\n",
    "\n",
    "for an_import in imports:\n",
    "    if type(an_import) in import_types:\n",
    "        for alias in an_import.names:\n",
    "            external_imports.add(alias.name)\n",
    "    elif type(an_import) in import_from_types:\n",
    "        if an_import.level == 0:\n",
    "            external_imports.add(an_import.module)\n",
    "        elif an_import.level == 1:\n",
    "            near_internal_imports.add(an_import.module)\n",
    "        else:\n",
    "            far_internal_imports.add(an_import.module)\n",
    "    else:\n",
    "        raise\n",
    "        \n",
    "    print(ast.dump(an_import))"
   ]
  },
  {
   "cell_type": "code",
   "execution_count": null,
   "metadata": {},
   "outputs": [],
   "source": [
    "external_imports"
   ]
  },
  {
   "cell_type": "code",
   "execution_count": null,
   "metadata": {},
   "outputs": [],
   "source": [
    "near_internal_imports"
   ]
  },
  {
   "cell_type": "code",
   "execution_count": null,
   "metadata": {},
   "outputs": [],
   "source": [
    "far_internal_imports"
   ]
  },
  {
   "cell_type": "code",
   "execution_count": null,
   "metadata": {},
   "outputs": [],
   "source": []
  }
 ],
 "metadata": {
  "kernelspec": {
   "display_name": "Python 3",
   "language": "python",
   "name": "python3"
  },
  "language_info": {
   "codemirror_mode": {
    "name": "ipython",
    "version": 3
   },
   "file_extension": ".py",
   "mimetype": "text/x-python",
   "name": "python",
   "nbconvert_exporter": "python",
   "pygments_lexer": "ipython3",
   "version": "3.7.1"
  }
 },
 "nbformat": 4,
 "nbformat_minor": 2
}
