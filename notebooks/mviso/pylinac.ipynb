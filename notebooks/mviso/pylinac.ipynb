{
 "cells": [
  {
   "cell_type": "markdown",
   "metadata": {},
   "source": [
    "# An investigation of PyLinac's MV kV iso code\n",
    "\n",
    "From https://github.com/jrkerns/pylinac/blob/95d3ea6b8f853beb4c9729f36b5451bbc4e7e2a7/pylinac/winston_lutz.py\n",
    "\n",
    "PyLinac has the following license:"
   ]
  },
  {
   "cell_type": "raw",
   "metadata": {},
   "source": [
    "Copyright (c) 2014-2019 James Kerns\n",
    "\n",
    "Permission is hereby granted, free of charge, to any person obtaining a copy of this software and associated\n",
    "documentation files (the \"Software\"), to deal in the Software without restriction, including without limitation\n",
    "the rights to use, copy, modify, merge, publish, distribute, sublicense, and/or sell copies of the Software,\n",
    "and to permit persons to whom the Software is furnished to do so, subject to the following conditions:\n",
    "\n",
    "The above copyright notice and this permission notice shall be included in all copies or substantial portions\n",
    "of the Software.\n",
    "\n",
    "THE SOFTWARE IS PROVIDED \"AS IS\", WITHOUT WARRANTY OF ANY KIND, EXPRESS OR IMPLIED, INCLUDING BUT NOT LIMITED\n",
    "TO THE WARRANTIES OF MERCHANTABILITY, FITNESS FOR A PARTICULAR PURPOSE AND NONINFRINGEMENT. IN NO EVENT SHALL\n",
    "THE AUTHORS OR COPYRIGHT HOLDERS BE LIABLE FOR ANY CLAIM, DAMAGES OR OTHER LIABILITY, WHETHER IN AN ACTION OF\n",
    "CONTRACT, TORT OR OTHERWISE, ARISING FROM, OUT OF OR IN CONNECTION WITH THE SOFTWARE OR THE USE OR OTHER DEALINGS\n",
    "IN THE SOFTWARE."
   ]
  },
  {
   "cell_type": "markdown",
   "metadata": {},
   "source": [
    "Modifications have been made to the PyLinac code. Please see the original repository (https://github.com/jrkerns/pylinac) for the original code."
   ]
  },
  {
   "cell_type": "code",
   "execution_count": null,
   "metadata": {},
   "outputs": [],
   "source": [
    "import os\n",
    "import datetime\n",
    "from glob import glob\n",
    "from collections import namedtuple\n",
    "\n",
    "import numpy as np\n",
    "import pandas as pd\n",
    "import scipy.ndimage\n",
    "\n",
    "import pydicom\n",
    "from pylinac import WinstonLutz"
   ]
  },
  {
   "cell_type": "code",
   "execution_count": null,
   "metadata": {},
   "outputs": [],
   "source": [
    "data_root = r'S:\\Physics\\Programming\\data\\MVISO'"
   ]
  },
  {
   "cell_type": "code",
   "execution_count": null,
   "metadata": {},
   "outputs": [],
   "source": [
    "data_record = glob(os.path.join(data_root, 'iView*.xlsx'))[0]\n",
    "dicom_files = np.array(glob(os.path.join(data_root, '*.dcm')))"
   ]
  },
  {
   "cell_type": "code",
   "execution_count": null,
   "metadata": {},
   "outputs": [],
   "source": [
    "record = pd.read_excel(data_record, skiprows=4)\n",
    "timestamps_initial = record['Datetime']\n",
    "timestamps = timestamps_initial[timestamps_initial.notnull()].values\n",
    "gantry = record['Gantry'][timestamps_initial.notnull()].values\n",
    "colimator = record['Col'][timestamps_initial.notnull()].values\n",
    "turntable = record['TT'][timestamps_initial.notnull()].values\n",
    "beam = record['Energy'][timestamps_initial.notnull()].values"
   ]
  },
  {
   "cell_type": "code",
   "execution_count": null,
   "metadata": {},
   "outputs": [],
   "source": [
    "datasets = np.array([\n",
    "    pydicom.read_file(dicom_file, force=True)\n",
    "    for dicom_file in dicom_files\n",
    "])"
   ]
  },
  {
   "cell_type": "code",
   "execution_count": null,
   "metadata": {},
   "outputs": [],
   "source": [
    "# np.random.shuffle(datasets)"
   ]
  },
  {
   "cell_type": "code",
   "execution_count": null,
   "metadata": {},
   "outputs": [],
   "source": [
    "acquisition_datetimes = np.array([\n",
    "    datetime.datetime.strptime(dataset.AcquisitionDate + dataset.AcquisitionTime, '%Y%m%d%H%M%S.%f')\n",
    "    for dataset in datasets\n",
    "], dtype=np.datetime64)"
   ]
  },
  {
   "cell_type": "code",
   "execution_count": null,
   "metadata": {},
   "outputs": [],
   "source": [
    "diff_map = np.abs(acquisition_datetimes[None,:] - timestamps[:, None]) < np.timedelta64(2, 's')\n",
    "timestamp_index, acquisition_index = np.where(diff_map)"
   ]
  },
  {
   "cell_type": "code",
   "execution_count": null,
   "metadata": {},
   "outputs": [],
   "source": [
    "assert len(set(acquisition_index)) == len(acquisition_index)\n",
    "assert len(acquisition_index) == len(acquisition_datetimes)"
   ]
  },
  {
   "cell_type": "code",
   "execution_count": null,
   "metadata": {},
   "outputs": [],
   "source": [
    "datasets = datasets[acquisition_index]\n",
    "dicom_files = dicom_files[acquisition_index]\n",
    "timestamps = timestamps[timestamp_index]\n",
    "gantry = gantry[timestamp_index]\n",
    "colimator = colimator[timestamp_index]\n",
    "turntable = turntable[timestamp_index]\n",
    "beam = beam[timestamp_index]\n",
    "\n",
    "acquisition_datetimes = np.array([\n",
    "    datetime.datetime.strptime(dataset.AcquisitionDate + dataset.AcquisitionTime, '%Y%m%d%H%M%S.%f')\n",
    "    for dataset in datasets\n",
    "], dtype=np.datetime64)\n",
    "\n",
    "diff_map = np.abs(acquisition_datetimes[None,:] - timestamps[:, None]) < np.timedelta64(2, 's')\n",
    "timestamp_index, acquisition_index = np.where(diff_map)\n",
    "\n",
    "assert np.all(timestamp_index == acquisition_index)"
   ]
  },
  {
   "cell_type": "code",
   "execution_count": null,
   "metadata": {},
   "outputs": [],
   "source": [
    "pixel_arrays = [\n",
    "    dataset.pixel_array\n",
    "    for dataset in datasets\n",
    "]"
   ]
  },
  {
   "cell_type": "code",
   "execution_count": null,
   "metadata": {},
   "outputs": [],
   "source": [
    "# https://github.com/jrkerns/pylinac/blob/95d3ea6b8f853beb4c9729f36b5451bbc4e7e2a7/pylinac/core/image.py#L358-L377\n",
    "    \n",
    "def crop(pixel_array, pixels):    \n",
    "    pixel_array = pixel_array[pixels:, :]\n",
    "    pixel_array = pixel_array[:-pixels, :]\n",
    "    pixel_array = pixel_array[:, pixels:]\n",
    "    pixel_array = pixel_array[:, :-pixels]"
   ]
  },
  {
   "cell_type": "code",
   "execution_count": null,
   "metadata": {},
   "outputs": [],
   "source": [
    "# https://github.com/jrkerns/pylinac/blob/95d3ea6b8f853beb4c9729f36b5451bbc4e7e2a7/pylinac/winston_lutz.py#L570-L591\n",
    "\n",
    "def clean_edges(pixel_array, window_size):\n",
    "    \n",
    "    def has_noise(pixel_array, window_size):\n",
    "        near_min, near_max = np.percentile(pixel_array, [5, 99.5])\n",
    "        img_range = near_max - near_min\n",
    "        \n",
    "        top = pixel_array[:window_size, :]\n",
    "        left = pixel_array[:, :window_size]\n",
    "        bottom = pixel_array[-window_size:, :]\n",
    "        right = pixel_array[:, -window_size:]\n",
    "        \n",
    "        edge_array = np.concatenate((top.flatten(), left.flatten(), bottom.flatten(), right.flatten()))\n",
    "        edge_too_low = edge_array.min() < (near_min - img_range / 10)\n",
    "        edge_too_high = edge_array.max() > (near_max + img_range / 10)\n",
    "        \n",
    "        return edge_too_low or edge_too_high\n",
    "\n",
    "    safety_stop = np.min(pixel_array.shape)/10\n",
    "    \n",
    "    while has_noise(pixel_array, window_size) and safety_stop > 0:\n",
    "        crop(pixel_array, window_size)\n",
    "        safety_stop -= 1"
   ]
  },
  {
   "cell_type": "code",
   "execution_count": null,
   "metadata": {},
   "outputs": [],
   "source": [
    "# https://github.com/jrkerns/pylinac/blob/95d3ea6b8f853beb4c9729f36b5451bbc4e7e2a7/pylinac/core/image.py#L446-L459\n",
    "\n",
    "def as_binary(pixel_array, threshold):\n",
    "    return np.where(pixel_array >= threshold, 1, 0)"
   ]
  },
  {
   "cell_type": "code",
   "execution_count": null,
   "metadata": {},
   "outputs": [],
   "source": [
    "Point = namedtuple('x', 'y')"
   ]
  },
  {
   "cell_type": "code",
   "execution_count": null,
   "metadata": {},
   "outputs": [],
   "source": [
    "# https://github.com/jrkerns/pylinac/blob/95d3ea6b8f853beb4c9729f36b5451bbc4e7e2a7/pylinac/winston_lutz.py#L593-L614\n",
    "\n",
    "def find_field_centroid(pixel_array):\n",
    "    min, max = np.percentile(pixel_array, [5, 99.9])\n",
    "    threshold_array = as_binary(pixel_array, (max - min)/2 + min)\n",
    "\n",
    "    cleaned_img = scipy.ndimage.binary_erosion(threshold_array)\n",
    "    [*edges] = bounding_box(cleaned_img)\n",
    "    edges[0] -= 10\n",
    "    edges[1] += 10\n",
    "    edges[2] -= 10\n",
    "    edges[3] += 10\n",
    "    coords = scipy.ndimage.measurements.center_of_mass(threshold_img)\n",
    "    p = Point(x=coords[-1], y=coords[0])\n",
    "\n",
    "    return p, edges"
   ]
  },
  {
   "cell_type": "code",
   "execution_count": null,
   "metadata": {},
   "outputs": [],
   "source": [
    "# https://github.com/jrkerns/pylinac/blob/95d3ea6b8f853beb4c9729f36b5451bbc4e7e2a7/pylinac/core/profile.py#L931-L1089\n",
    "\n",
    "def peak_detect(values: np.ndarray, threshold: Union[float, int]=None, min_distance: Union[float, int]=10,\n",
    "                max_number: int=None, search_region: Tuple[float, float]=(0.0, 1.0),\n",
    "                find_min_instead: bool=False) -> Tuple[np.ndarray, np.ndarray]:\n",
    "    \"\"\"Find the peaks or valleys of a 1D signal.\n",
    "    Uses the difference (np.diff) in signal to find peaks. Current limitations include:\n",
    "        1) Only for use in 1-D data; 2D may be possible with the gradient function.\n",
    "        2) Will not detect peaks at the very edge of array (i.e. 0 or -1 index)\n",
    "    Parameters\n",
    "    ----------\n",
    "    values : array-like\n",
    "        Signal values to search for peaks within.\n",
    "    threshold : int, float\n",
    "        The value the peak must be above to be considered a peak. This removes \"peaks\"\n",
    "        that are in a low-value region.\n",
    "        If passed an int, the actual value is the threshold.\n",
    "        E.g. when passed 15, any peak less with a value <15 is removed.\n",
    "        If passed a float, it will threshold as a percent. Must be between 0 and 1.\n",
    "        E.g. when passed 0.4, any peak <40% of the maximum value will be removed.\n",
    "    min_distance : int, float\n",
    "        If passed an int, parameter is the number of elements apart a peak must be from neighboring peaks.\n",
    "        If passed a float, must be between 0 and 1 and represents the ratio of the profile to exclude.\n",
    "        E.g. if passed 0.05 with a 1000-element profile, the minimum peak width will be 0.05*1000 = 50 elements.\n",
    "    max_number : int\n",
    "        Specify up to how many peaks will be returned. E.g. if 3 is passed in and 5 peaks are found, only the 3 largest\n",
    "        peaks will be returned.\n",
    "    find_min_instead : bool\n",
    "        If False (default), peaks will be returned.\n",
    "        If True, valleys will be returned.\n",
    "    Returns\n",
    "    -------\n",
    "    max_vals : numpy.array\n",
    "        The values of the peaks found.\n",
    "    max_idxs : numpy.array\n",
    "        The x-indices (locations) of the peaks.\n",
    "    Raises\n",
    "    ------\n",
    "    ValueError\n",
    "        If float not between 0 and 1 passed to threshold.\n",
    "    \"\"\"\n",
    "    peak_vals = []  # a list to hold the y-values of the peaks. Will be converted to a numpy array\n",
    "    peak_idxs = []  # ditto for x-values (index) of y data.\n",
    "\n",
    "    if find_min_instead:\n",
    "        values = -values\n",
    "\n",
    "    \"\"\"Limit search to search region\"\"\"\n",
    "    left_end = search_region[0]\n",
    "    if is_float_like(left_end):\n",
    "        left_index = int(left_end*len(values))\n",
    "    elif is_int_like(left_end):\n",
    "        left_index = left_end\n",
    "    else:\n",
    "        raise ValueError(f\"{left_end} must be a float or int\")\n",
    "\n",
    "    right_end = search_region[1]\n",
    "    if is_float_like(right_end):\n",
    "        right_index = int(right_end * len(values))\n",
    "    elif is_int_like(right_end):\n",
    "        right_index = right_end\n",
    "    else:\n",
    "        raise ValueError(f\"{right_end} must be a float or int\")\n",
    "\n",
    "    # minimum peak spacing calc\n",
    "    if isinstance(min_distance, float):\n",
    "        if 0 > min_distance >= 1:\n",
    "            raise ValueError(\"When min_peak_width is passed a float, value must be between 0 and 1\")\n",
    "        else:\n",
    "            min_distance = int(min_distance * len(values))\n",
    "\n",
    "    values = values[left_index:right_index]\n",
    "\n",
    "    \"\"\"Determine threshold value\"\"\"\n",
    "    if isinstance(threshold, float) and threshold < 1:\n",
    "        data_range = values.max() - values.min()\n",
    "        threshold = threshold * data_range + values.min()\n",
    "    elif isinstance(threshold, float) and threshold >= 1:\n",
    "        raise ValueError(\"When threshold is passed a float, value must be less than 1\")\n",
    "    elif threshold is None:\n",
    "        threshold = values.min()\n",
    "\n",
    "    \"\"\"Take difference\"\"\"\n",
    "    values_diff = np.diff(values.astype(float))  # y and y_diff must be converted to signed type.\n",
    "\n",
    "    \"\"\"Find all potential peaks\"\"\"\n",
    "    for idx in range(len(values_diff) - 1):\n",
    "        # For each item of the diff array, check if:\n",
    "        # 1) The y-value is above the threshold.\n",
    "        # 2) The value of y_diff is positive (negative for valley search), it means the y-value changed upward.\n",
    "        # 3) The next y_diff value is zero or negative (or positive for valley search); a positive-then-negative diff value means the value\n",
    "        # is a peak of some kind. If the diff is zero it could be a flat peak, which still counts.\n",
    "\n",
    "        # 1)\n",
    "        if values[idx + 1] < threshold:\n",
    "            continue\n",
    "\n",
    "        y1_gradient = values_diff[idx] > 0\n",
    "        y2_gradient = values_diff[idx + 1] <= 0\n",
    "\n",
    "        # 2) & 3)\n",
    "        if y1_gradient and y2_gradient:\n",
    "            # If the next value isn't zero it's a single-pixel peak. Easy enough.\n",
    "            if values_diff[idx + 1] != 0:\n",
    "                peak_vals.append(values[idx + 1])\n",
    "                peak_idxs.append(idx + 1 + left_index)\n",
    "            # elif idx >= len(y_diff) - 1:\n",
    "            #     pass\n",
    "            # Else if the diff value is zero, it could be a flat peak, or it could keep going up; we don't know yet.\n",
    "            else:\n",
    "                # Continue on until we find the next nonzero diff value.\n",
    "                try:\n",
    "                    shift = 0\n",
    "                    while values_diff[(idx + 1) + shift] == 0:\n",
    "                        shift += 1\n",
    "                        if (idx + 1 + shift) >= (len(values_diff) - 1):\n",
    "                            break\n",
    "                    # If the next diff is negative (or positive for min), we've found a peak. Also put the peak at the center of the flat\n",
    "                    # region.\n",
    "                    is_a_peak = values_diff[(idx + 1) + shift] < 0\n",
    "                    if is_a_peak:\n",
    "                        peak_vals.append(values[int((idx + 1) + np.round(shift / 2))])\n",
    "                        peak_idxs.append((idx + 1 + left_index) + np.round(shift / 2))\n",
    "                except IndexError:\n",
    "                    pass\n",
    "\n",
    "    # convert to numpy arrays\n",
    "    peak_vals = np.array(peak_vals)\n",
    "    peak_idxs = np.array(peak_idxs)\n",
    "\n",
    "    \"\"\"Enforce the min_peak_distance by removing smaller peaks.\"\"\"\n",
    "    # For each peak, determine if the next peak is within the min peak width range.\n",
    "    index = 0\n",
    "    while index < len(peak_idxs) - 1:\n",
    "\n",
    "        # If the second peak is closer than min_peak_distance to the first peak, find the larger peak and remove the other one.\n",
    "        if peak_idxs[index] > peak_idxs[index + 1] - min_distance:\n",
    "            if peak_vals[index] > peak_vals[index + 1]:\n",
    "                idx2del = index + 1\n",
    "            else:\n",
    "                idx2del = index\n",
    "            peak_vals = np.delete(peak_vals, idx2del)\n",
    "            peak_idxs = np.delete(peak_idxs, idx2del)\n",
    "        else:\n",
    "            index += 1\n",
    "\n",
    "    \"\"\"If Maximum Number passed, return only up to number given based on a sort of peak values.\"\"\"\n",
    "    if max_number is not None and len(peak_idxs) > max_number:\n",
    "        sorted_peak_vals = peak_vals.argsort()  # sorts low to high\n",
    "        peak_vals = peak_vals[sorted_peak_vals[-max_number:]]\n",
    "        peak_idxs = peak_idxs[sorted_peak_vals[-max_number:]]\n",
    "\n",
    "    # If we were looking for minimums, convert the values back to the original sign\n",
    "    if find_min_instead:\n",
    "        peak_vals = -peak_vals\n",
    "\n",
    "    return peak_vals, peak_idxs"
   ]
  },
  {
   "cell_type": "code",
   "execution_count": null,
   "metadata": {},
   "outputs": [],
   "source": [
    "# https://github.com/jrkerns/pylinac/blob/95d3ea6b8f853beb4c9729f36b5451bbc4e7e2a7/pylinac/core/profile.py#L221-L248\n",
    "\n",
    "def get_initial_peak(values):\n",
    "    lf_edge = 0.2\n",
    "    rt_edge = 0.8\n",
    "    while True:\n",
    "        _, initial_peak_arr = peak_detect(values, max_number=1, search_region=(lf_edge, rt_edge))\n",
    "        try:\n",
    "            initial_peak = initial_peak_arr[0]\n",
    "            break\n",
    "        except IndexError:\n",
    "            lf_edge -= 0.01\n",
    "            rt_edge -= 0.01\n",
    "            if lf_edge < 0:\n",
    "                raise ValueError(\"A reasonable initial peak was not found in the profile. Ensure peak is not at profile edge\")\n",
    "\n",
    "    return initial_peak"
   ]
  },
  {
   "cell_type": "code",
   "execution_count": null,
   "metadata": {},
   "outputs": [],
   "source": [
    "# https://github.com/jrkerns/pylinac/blob/95d3ea6b8f853beb4c9729f36b5451bbc4e7e2a7/pylinac/core/profile.py#L309-L323\n",
    "\n",
    "def values_left_interp(self):\n",
    "    ydata_f = interp1d(self._indices, self._values_left, kind=self.interpolation_type)\n",
    "    y_data = ydata_f(self._indices_interp)\n",
    "    return y_data\n",
    "\n",
    "def values_right_interp(self):\n",
    "    ydata_f = interp1d(self._indices, self._values_right, kind=self.interpolation_type)\n",
    "    y_data = ydata_f(self._indices_interp)\n",
    "    return y_data"
   ]
  },
  {
   "cell_type": "code",
   "execution_count": null,
   "metadata": {},
   "outputs": [],
   "source": [
    "# https://github.com/jrkerns/pylinac/blob/95d3ea6b8f853beb4c9729f36b5451bbc4e7e2a7/pylinac/core/profile.py#L250-L307\n",
    "\n",
    "interpolation_factor = 100\n",
    "\n",
    "def penumbra_point(self, side: str='left', x: int=50, kind: str='index'):\n",
    "    # get peak\n",
    "    peak = get_initial_peak(values)\n",
    "    \n",
    "    search_index = int(peak * interpolation_factor)\n",
    "\n",
    "    # get y-data\n",
    "    if side == LEFT:\n",
    "        y_data = self._values_left_interp\n",
    "    else:\n",
    "        y_data = self._values_right_interp\n",
    "\n",
    "    # get threshold\n",
    "    max_point = y_data.max()\n",
    "    threshold = max_point * (x / 100)\n",
    "\n",
    "    # find the index, moving 1 element at a time until the value is encountered\n",
    "    found = False\n",
    "    at_end = False\n",
    "    try:\n",
    "        while not found and not at_end:\n",
    "            if y_data[search_index] < threshold:\n",
    "                found = True\n",
    "                search_index -= 1 if side == RIGHT else -1\n",
    "            elif search_index == 0:\n",
    "                at_end = True\n",
    "            search_index += 1 if side == RIGHT else -1\n",
    "    except IndexError:\n",
    "        raise IndexError(\"The point of interest was beyond the profile; i.e. the profile may be cut off on the side\")\n",
    "\n",
    "    search_index /= interpolation_factor\n",
    "\n",
    "    return search_index"
   ]
  },
  {
   "cell_type": "code",
   "execution_count": null,
   "metadata": {},
   "outputs": [],
   "source": [
    "# https://github.com/jrkerns/pylinac/blob/95d3ea6b8f853beb4c9729f36b5451bbc4e7e2a7/pylinac/core/profile.py#L343-L362\n",
    "\n",
    "def fwxm(self, x: int=50) -> float:\n",
    "    li = self._penumbra_point(LEFT, x)\n",
    "    ri = self._penumbra_point(RIGHT, x)\n",
    "    fwxm = np.abs(ri - li)\n",
    "    return fwxm"
   ]
  },
  {
   "cell_type": "code",
   "execution_count": null,
   "metadata": {},
   "outputs": [],
   "source": [
    "# https://github.com/jrkerns/pylinac/blob/95d3ea6b8f853beb4c9729f36b5451bbc4e7e2a7/pylinac/core/profile.py#L364-L379\n",
    "    \n",
    "def fwxm_center(pixel_array, x: int=50, interpolate: bool=False, kind: str='index') -> float:\n",
    "    \"\"\"Return the center index of the FWXM.\n",
    "    See Also\n",
    "    --------\n",
    "    fwxm() : Further parameter info\n",
    "    \"\"\"\n",
    "    fwxm = self.fwxm(x, interpolate=interpolate)\n",
    "    li = self._penumbra_point(LEFT, x, interpolate)\n",
    "    fwxmcen = np.abs(li + fwxm / 2)\n",
    "    if not interpolate:\n",
    "        fwxmcen = int(round(fwxmcen))\n",
    "    if kind == VALUE:\n",
    "        return self.values[fwxmcen] if not interpolate else self._values_interp[int(fwxmcen*self.interpolation_factor)]\n",
    "    else:\n",
    "        return fwxmcen"
   ]
  },
  {
   "cell_type": "code",
   "execution_count": null,
   "metadata": {},
   "outputs": [],
   "source": [
    "# https://github.com/jrkerns/pylinac/blob/95d3ea6b8f853beb4c9729f36b5451bbc4e7e2a7/pylinac/core/image.py#L397-L400\n",
    "\n",
    "def invert(pixel_array):\n",
    "    return -pixel_array + pixel_array.max() + pixel_array.min()"
   ]
  },
  {
   "cell_type": "code",
   "execution_count": null,
   "metadata": {},
   "outputs": [],
   "source": [
    "# https://github.com/jrkerns/pylinac/blob/95d3ea6b8f853beb4c9729f36b5451bbc4e7e2a7/pylinac/winston_lutz.py#L616-L659\n",
    "\n",
    "def find_bb(pixel_array):\n",
    "    # get initial starting conditions\n",
    "    hmin, hmax = np.percentile(pixel_array, [5, 99.9])\n",
    "    spread = hmax - hmin\n",
    "    max_thresh = hmax\n",
    "    lower_thresh = hmax - spread / 1.5\n",
    "    # search for the BB by iteratively lowering the low-pass threshold value until the BB is found.\n",
    "    found = False\n",
    "    while not found:\n",
    "        try:\n",
    "            binary_arr = np.logical_and((max_thresh > pixel_array), (pixel_array >= lower_thresh))\n",
    "            labeled_arr, num_roi = ndimage.measurements.label(binary_arr)\n",
    "            roi_sizes, bin_edges = np.histogram(labeled_arr, bins=num_roi + 1)\n",
    "            bw_bb_img = np.where(labeled_arr == np.argsort(roi_sizes)[-3], 1, 0)\n",
    "\n",
    "            if not is_round(bw_bb_img):\n",
    "                raise ValueError\n",
    "            if not is_modest_size(bw_bb_img, find_field_centroid(pixel_array)):\n",
    "                raise ValueError\n",
    "            if not is_symmetric(bw_bb_img):\n",
    "                raise ValueError\n",
    "        except (IndexError, ValueError):\n",
    "            max_thresh -= 0.05 * spread\n",
    "            if max_thresh < hmin:\n",
    "                raise ValueError(\"Unable to locate the BB. Make sure the field edges do not obscure the BB and that there is no artifacts in the images.\")\n",
    "        else:\n",
    "            found = True\n",
    "\n",
    "    # determine the center of mass of the BB\n",
    "    inv_img = invert(pixel_array)\n",
    "    \n",
    "    x_arr = np.abs(np.average(bw_bb_img, weights=inv_img, axis=0))\n",
    "    x_com = SingleProfile(x_arr).fwxm_center(interpolate=True)\n",
    "    y_arr = np.abs(np.average(bw_bb_img, weights=inv_img, axis=1))\n",
    "    y_com = SingleProfile(y_arr).fwxm_center(interpolate=True)\n",
    "    \n",
    "    return Point(x_com, y_com)"
   ]
  },
  {
   "cell_type": "code",
   "execution_count": null,
   "metadata": {},
   "outputs": [],
   "source": []
  },
  {
   "cell_type": "code",
   "execution_count": null,
   "metadata": {},
   "outputs": [],
   "source": [
    "diff_map"
   ]
  },
  {
   "cell_type": "code",
   "execution_count": null,
   "metadata": {},
   "outputs": [],
   "source": [
    "diff_map"
   ]
  },
  {
   "cell_type": "code",
   "execution_count": null,
   "metadata": {},
   "outputs": [],
   "source": [
    "acquisition_datetimes[29]\n",
    "timestamps.values[0]"
   ]
  },
  {
   "cell_type": "code",
   "execution_count": null,
   "metadata": {},
   "outputs": [],
   "source": [
    "np.timedelta64(1, 's')"
   ]
  },
  {
   "cell_type": "code",
   "execution_count": null,
   "metadata": {},
   "outputs": [],
   "source": [
    "acquisition_times"
   ]
  },
  {
   "cell_type": "code",
   "execution_count": null,
   "metadata": {},
   "outputs": [],
   "source": [
    "np.array(timestamps.values)"
   ]
  },
  {
   "cell_type": "code",
   "execution_count": null,
   "metadata": {},
   "outputs": [],
   "source": []
  },
  {
   "cell_type": "code",
   "execution_count": null,
   "metadata": {},
   "outputs": [],
   "source": []
  },
  {
   "cell_type": "code",
   "execution_count": null,
   "metadata": {},
   "outputs": [],
   "source": []
  },
  {
   "cell_type": "markdown",
   "metadata": {},
   "source": [
    "## Notes\n",
    "\n",
    "\"values left\" and and \"values right\" don't actually return the left and right values. https://github.com/jrkerns/pylinac/blob/95d3ea6b8f853beb4c9729f36b5451bbc4e7e2a7/pylinac/core/profile.py#L186-L200"
   ]
  },
  {
   "cell_type": "code",
   "execution_count": null,
   "metadata": {},
   "outputs": [],
   "source": []
  }
 ],
 "metadata": {
  "kernelspec": {
   "display_name": "Python 3",
   "language": "python",
   "name": "python3"
  },
  "language_info": {
   "codemirror_mode": {
    "name": "ipython",
    "version": 3
   },
   "file_extension": ".py",
   "mimetype": "text/x-python",
   "name": "python",
   "nbconvert_exporter": "python",
   "pygments_lexer": "ipython3",
   "version": "3.7.0"
  }
 },
 "nbformat": 4,
 "nbformat_minor": 2
}
