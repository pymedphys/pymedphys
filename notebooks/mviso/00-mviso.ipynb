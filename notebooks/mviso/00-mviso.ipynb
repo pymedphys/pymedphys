{
 "cells": [
  {
   "cell_type": "code",
   "execution_count": null,
   "metadata": {},
   "outputs": [],
   "source": [
    "import os\n",
    "import datetime\n",
    "from glob import glob\n",
    "\n",
    "import numpy as np\n",
    "import pandas as pd\n",
    "import matplotlib.pyplot as plt\n",
    "\n",
    "import scipy.optimize\n",
    "import scipy.interpolate\n",
    "\n",
    "import pydicom"
   ]
  },
  {
   "cell_type": "code",
   "execution_count": null,
   "metadata": {},
   "outputs": [],
   "source": [
    "data_root = r'S:\\Physics\\Programming\\data\\MVISO'"
   ]
  },
  {
   "cell_type": "code",
   "execution_count": null,
   "metadata": {},
   "outputs": [],
   "source": [
    "data_record = glob(os.path.join(data_root, 'iView*.xlsx'))[0]\n",
    "dicom_files = np.array(glob(os.path.join(data_root, '*.dcm')))"
   ]
  },
  {
   "cell_type": "code",
   "execution_count": null,
   "metadata": {},
   "outputs": [],
   "source": [
    "record = pd.read_excel(data_record, skiprows=4)\n",
    "timestamps_initial = record['Datetime']\n",
    "timestamps = timestamps_initial[timestamps_initial.notnull()].values\n",
    "gantry = record['Gantry'][timestamps_initial.notnull()].values\n",
    "colimator = record['Col'][timestamps_initial.notnull()].values\n",
    "turntable = record['TT'][timestamps_initial.notnull()].values\n",
    "beam = record['Energy'][timestamps_initial.notnull()].values"
   ]
  },
  {
   "cell_type": "code",
   "execution_count": null,
   "metadata": {},
   "outputs": [],
   "source": [
    "datasets = np.array([\n",
    "    pydicom.read_file(dicom_file, force=True)\n",
    "    for dicom_file in dicom_files\n",
    "])"
   ]
  },
  {
   "cell_type": "code",
   "execution_count": null,
   "metadata": {},
   "outputs": [],
   "source": [
    "acquisition_datetimes = np.array([\n",
    "    datetime.datetime.strptime(dataset.AcquisitionDate + dataset.AcquisitionTime, '%Y%m%d%H%M%S.%f')\n",
    "    for dataset in datasets\n",
    "], dtype=np.datetime64)"
   ]
  },
  {
   "cell_type": "code",
   "execution_count": null,
   "metadata": {},
   "outputs": [],
   "source": [
    "diff_map = np.abs(acquisition_datetimes[None,:] - timestamps[:, None]) < np.timedelta64(2, 's')\n",
    "timestamp_index, acquisition_index = np.where(diff_map)"
   ]
  },
  {
   "cell_type": "code",
   "execution_count": null,
   "metadata": {},
   "outputs": [],
   "source": [
    "assert len(set(acquisition_index)) == len(acquisition_index)\n",
    "assert len(acquisition_index) == len(acquisition_datetimes)"
   ]
  },
  {
   "cell_type": "code",
   "execution_count": null,
   "metadata": {},
   "outputs": [],
   "source": [
    "datasets = datasets[acquisition_index]\n",
    "dicom_files = dicom_files[acquisition_index]\n",
    "timestamps = timestamps[timestamp_index]\n",
    "gantry = gantry[timestamp_index]\n",
    "colimator = colimator[timestamp_index]\n",
    "turntable = turntable[timestamp_index]\n",
    "beam = beam[timestamp_index]\n",
    "\n",
    "acquisition_datetimes = np.array([\n",
    "    datetime.datetime.strptime(dataset.AcquisitionDate + dataset.AcquisitionTime, '%Y%m%d%H%M%S.%f')\n",
    "    for dataset in datasets\n",
    "], dtype=np.datetime64)\n",
    "\n",
    "diff_map = np.abs(acquisition_datetimes[None,:] - timestamps[:, None]) < np.timedelta64(2, 's')\n",
    "timestamp_index, acquisition_index = np.where(diff_map)\n",
    "\n",
    "assert np.all(timestamp_index == acquisition_index)"
   ]
  },
  {
   "cell_type": "code",
   "execution_count": null,
   "metadata": {},
   "outputs": [],
   "source": [
    "pixel_arrays = np.array([\n",
    "    dataset.pixel_array\n",
    "    for dataset in datasets\n",
    "], copy=True)\n",
    "\n",
    "pixel_arrays = 1 - pixel_arrays/2**16"
   ]
  },
  {
   "cell_type": "code",
   "execution_count": null,
   "metadata": {},
   "outputs": [],
   "source": [
    "axis_distance = np.arange(-512, 512)/4\n",
    "\n",
    "initial_mask_distance = 20  # mm\n",
    "\n",
    "first = np.where(axis_distance >= -initial_mask_distance)[0][0]\n",
    "last = np.where(axis_distance > initial_mask_distance)[0][0]\n",
    "\n",
    "mask = slice(first, last)\n",
    "\n",
    "axis_distance = axis_distance[mask]\n",
    "\n",
    "masked_arrays = np.array([\n",
    "    pixel_array[mask, mask]\n",
    "    for pixel_array in pixel_arrays\n",
    "])"
   ]
  },
  {
   "cell_type": "code",
   "execution_count": null,
   "metadata": {},
   "outputs": [],
   "source": [
    "axis_distance"
   ]
  },
  {
   "cell_type": "code",
   "execution_count": null,
   "metadata": {},
   "outputs": [],
   "source": [
    "dx = 0.05\n",
    "interpolated_distances = np.arange(-initial_mask_distance, initial_mask_distance+dx, dx)\n",
    "\n",
    "xx, yy = np.meshgrid(interpolated_distances, interpolated_distances)\n",
    "xx_flat = np.ravel(xx)\n",
    "yy_flat = np.ravel(yy)\n",
    "# interpolated_distances"
   ]
  },
  {
   "cell_type": "code",
   "execution_count": null,
   "metadata": {},
   "outputs": [],
   "source": [
    "interpolated_distances\n",
    "\n",
    "interpolation = scipy.interpolate.RectBivariateSpline(axis_distance, axis_distance, masked_arrays[0], kx=1, ky=1)\n",
    "\n",
    "interpolated_image_flat = interpolation.ev(yy_flat, xx_flat)\n",
    "interpolated_image = np.reshape(interpolated_image_flat, np.shape(xx))"
   ]
  },
  {
   "cell_type": "code",
   "execution_count": null,
   "metadata": {},
   "outputs": [],
   "source": [
    "scipy.interpolate.RectBivariateSpline(axis_distance, axis_distance, masked_arrays[0], kx=1, ky=1).ev"
   ]
  },
  {
   "cell_type": "code",
   "execution_count": null,
   "metadata": {},
   "outputs": [],
   "source": [
    "# xx, yy = np.meshgrid(axis_distance, axis_distance)"
   ]
  },
  {
   "cell_type": "code",
   "execution_count": null,
   "metadata": {},
   "outputs": [],
   "source": [
    "def show_image(pixel_array):\n",
    "    plt.pcolormesh(interpolated_distances, interpolated_distances, pixel_array, clim=[0, 1])\n",
    "    plt.colorbar()\n",
    "    plt.axis('equal')\n",
    "    \n",
    "show_image(interpolated_image)"
   ]
  },
  {
   "cell_type": "code",
   "execution_count": null,
   "metadata": {},
   "outputs": [],
   "source": [
    "square_field_side_length = 20  # mm\n",
    "penumbra_width = 3  # mm\n",
    "ball_bearing_diameter = 8 # mm"
   ]
  },
  {
   "cell_type": "code",
   "execution_count": null,
   "metadata": {},
   "outputs": [],
   "source": [
    "# show_image(masked_arrays[0])"
   ]
  },
  {
   "cell_type": "code",
   "execution_count": null,
   "metadata": {},
   "outputs": [],
   "source": [
    "def show_image_with_square(image, centre, edge_length):\n",
    "    x = centre[0]\n",
    "    y = centre[1]\n",
    "    \n",
    "    plt.plot(\n",
    "        [x - edge_length/2, x - edge_length/2, x + edge_length/2,  x + edge_length/2, x - edge_length/2],\n",
    "        [y - edge_length/2, y + edge_length/2, y + edge_length/2,  y - edge_length/2, y - edge_length/2],\n",
    "        'k', lw=2\n",
    "    )\n",
    "    \n",
    "    show_image(image)\n",
    "    plt.show()\n",
    "    \n",
    "\n",
    "show_image_with_square(interpolated_image, [0,3], square_field_side_length)"
   ]
  },
  {
   "cell_type": "code",
   "execution_count": null,
   "metadata": {},
   "outputs": [],
   "source": []
  },
  {
   "cell_type": "code",
   "execution_count": null,
   "metadata": {},
   "outputs": [],
   "source": [
    "def mean_inside_square_take_outside(x, y, side_length, image):\n",
    "    is_inside_square = (\n",
    "        (xx > x - side_length/2) & \n",
    "        (xx < x + side_length/2) &\n",
    "        (yy > y - side_length/2) &\n",
    "        (yy < y + side_length/2)\n",
    "    )\n",
    "    \n",
    "    return np.mean(image[is_inside_square]) - np.mean(image[np.invert(is_inside_square)])"
   ]
  },
  {
   "cell_type": "code",
   "execution_count": null,
   "metadata": {},
   "outputs": [],
   "source": [
    "def create_field_minimisation(square_field_side_length, image_to_search):\n",
    "    def field_to_minimise(coords):\n",
    "        x = coords[0]\n",
    "        y = coords[1]\n",
    "        side_length = square_field_side_length\n",
    "        image = image_to_search\n",
    "        \n",
    "        return -mean_inside_square_take_outside(x, y, side_length, image)\n",
    "    \n",
    "    return field_to_minimise\n",
    "\n",
    "\n",
    "def create_print_func(square_field_side_length, image_to_search):\n",
    "    def print_fun(centre, f, accepted):\n",
    "        show_image_with_square(image_to_search, centre, square_field_side_length)\n",
    "        \n",
    "    return print_fun\n",
    "\n",
    "\n",
    "to_minimise = create_field_minimisation(square_field_side_length, interpolated_image)\n",
    "print_fun = create_print_func(square_field_side_length, interpolated_image)"
   ]
  },
  {
   "cell_type": "code",
   "execution_count": null,
   "metadata": {},
   "outputs": [],
   "source": [
    "results = scipy.optimize.basinhopping(to_minimise, [0,0], T=0.01, niter=100, stepsize=1)\n",
    "initial_centre = results.x\n",
    "\n",
    "print(initial_centre)\n",
    "\n",
    "plt.figure(figsize=(15,15))\n",
    "show_image_with_square(interpolated_image, initial_centre, 18)"
   ]
  },
  {
   "cell_type": "code",
   "execution_count": null,
   "metadata": {},
   "outputs": [],
   "source": []
  },
  {
   "cell_type": "code",
   "execution_count": null,
   "metadata": {},
   "outputs": [],
   "source": []
  },
  {
   "cell_type": "code",
   "execution_count": null,
   "metadata": {},
   "outputs": [],
   "source": []
  },
  {
   "cell_type": "code",
   "execution_count": null,
   "metadata": {},
   "outputs": [],
   "source": []
  },
  {
   "cell_type": "code",
   "execution_count": null,
   "metadata": {},
   "outputs": [],
   "source": [
    "np.shape(interpolated_image)"
   ]
  },
  {
   "cell_type": "code",
   "execution_count": null,
   "metadata": {},
   "outputs": [],
   "source": [
    "plt.figure(figsize=(10,10))\n",
    "\n",
    "plt.plot([centre[0]-10, centre[0]-10], [0,0.7])\n",
    "plt.plot([centre[0]+10, centre[0]+10], [0,0.7])\n",
    "\n",
    "for i in range(300, 500):\n",
    "\n",
    "    plt.plot(interpolated_distances, interpolated_image[i,:])\n",
    "    plt.plot(centre[0] - interpolated_distances, interpolated_image[i,:])"
   ]
  },
  {
   "cell_type": "code",
   "execution_count": null,
   "metadata": {},
   "outputs": [],
   "source": [
    "plt.plot(interpolated_distances, interpolated_image[400,:])\n",
    "plt.plot(centre[0] - interpolated_distances, interpolated_image[400,:])"
   ]
  },
  {
   "cell_type": "code",
   "execution_count": null,
   "metadata": {},
   "outputs": [],
   "source": [
    "average_cross_profile"
   ]
  },
  {
   "cell_type": "code",
   "execution_count": null,
   "metadata": {},
   "outputs": [],
   "source": [
    "average_cross_profile = np.mean(interpolated_image[300:500,:], axis=0)\n",
    "maximum = np.max(average_cross_profile)\n",
    "\n",
    "mid = maximum / 2"
   ]
  },
  {
   "cell_type": "code",
   "execution_count": null,
   "metadata": {},
   "outputs": [],
   "source": [
    "scipy.interpolate.interp1d(interpolated_distances, average_cross_profile)([centre[0]-10, centre[0]+10])"
   ]
  },
  {
   "cell_type": "code",
   "execution_count": null,
   "metadata": {},
   "outputs": [],
   "source": [
    "mid"
   ]
  },
  {
   "cell_type": "code",
   "execution_count": null,
   "metadata": {},
   "outputs": [],
   "source": [
    "plt.plot(interpolated_distances, np.mean(interpolated_image[300:500,:], axis=0))"
   ]
  },
  {
   "cell_type": "code",
   "execution_count": null,
   "metadata": {},
   "outputs": [],
   "source": [
    "results"
   ]
  },
  {
   "cell_type": "code",
   "execution_count": null,
   "metadata": {},
   "outputs": [],
   "source": [
    "centre"
   ]
  },
  {
   "cell_type": "code",
   "execution_count": null,
   "metadata": {},
   "outputs": [],
   "source": []
  },
  {
   "cell_type": "code",
   "execution_count": null,
   "metadata": {},
   "outputs": [],
   "source": [
    "\n",
    "\n",
    "    \n",
    "for pixel_array in masked_arrays:\n",
    "    show_image(pixel_array)"
   ]
  },
  {
   "cell_type": "code",
   "execution_count": null,
   "metadata": {},
   "outputs": [],
   "source": []
  }
 ],
 "metadata": {
  "kernelspec": {
   "display_name": "Python 3",
   "language": "python",
   "name": "python3"
  },
  "language_info": {
   "codemirror_mode": {
    "name": "ipython",
    "version": 3
   },
   "file_extension": ".py",
   "mimetype": "text/x-python",
   "name": "python",
   "nbconvert_exporter": "python",
   "pygments_lexer": "ipython3",
   "version": "3.7.0"
  }
 },
 "nbformat": 4,
 "nbformat_minor": 2
}
