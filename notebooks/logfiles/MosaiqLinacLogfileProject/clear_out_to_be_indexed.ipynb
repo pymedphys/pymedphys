{
 "cells": [
  {
   "cell_type": "code",
   "execution_count": null,
   "metadata": {},
   "outputs": [],
   "source": [
    "import os\n",
    "\n",
    "path = r'S:\\\\Physics\\\\Programming\\\\data\\\\LinacLogFiles\\\\to_be_indexed'\n",
    "\n",
    "def removeEmptyfolders(path):\n",
    "    for (_path, _dirs, _files) in os.walk(path, topdown=False):\n",
    "        if _files: \n",
    "            continue # skip remove\n",
    "        try:\n",
    "            os.rmdir(_path)\n",
    "            print('Remove :', _path)\n",
    "        except OSError as ex:\n",
    "            print('Error :', ex)\n",
    "            \n",
    "            \n",
    "removeEmptyfolders(path)"
   ]
  },
  {
   "cell_type": "code",
   "execution_count": null,
   "metadata": {},
   "outputs": [],
   "source": []
  }
 ],
 "metadata": {
  "kernelspec": {
   "display_name": "Python 3",
   "language": "python",
   "name": "python3"
  },
  "language_info": {
   "codemirror_mode": {
    "name": "ipython",
    "version": 3
   },
   "file_extension": ".py",
   "mimetype": "text/x-python",
   "name": "python",
   "nbconvert_exporter": "python",
   "pygments_lexer": "ipython3",
   "version": "3.7.0"
  }
 },
 "nbformat": 4,
 "nbformat_minor": 2
}
