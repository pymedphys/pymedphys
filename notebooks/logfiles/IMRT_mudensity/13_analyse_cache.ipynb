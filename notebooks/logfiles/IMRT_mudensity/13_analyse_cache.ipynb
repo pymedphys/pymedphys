{
 "cells": [
  {
   "cell_type": "code",
   "execution_count": null,
   "metadata": {},
   "outputs": [],
   "source": [
    "import os\n",
    "import json\n",
    "import yaml\n",
    "\n",
    "from IPython.display import display, Markdown\n",
    "\n",
    "import numpy as np\n",
    "import pandas as pd\n",
    "\n",
    "# from decode_trf import delivery_data_from_logfile\n",
    "\n",
    "from pymedphys.msq import mosaiq_connect\n",
    "from pymedphys.utilities import get_index, get_data_directory, get_filepath, get_gantry_tolerance\n",
    "from pymedphys.logfile import (\n",
    "    compare_logfile_group_bygantry\n",
    ")"
   ]
  },
  {
   "cell_type": "code",
   "execution_count": null,
   "metadata": {},
   "outputs": [],
   "source": [
    "with open('../config.json') as config_file:\n",
    "    config = json.load(config_file)"
   ]
  },
  {
   "cell_type": "code",
   "execution_count": null,
   "metadata": {},
   "outputs": [],
   "source": [
    "index = get_index(config)"
   ]
  },
  {
   "cell_type": "code",
   "execution_count": null,
   "metadata": {},
   "outputs": [],
   "source": [
    "data_directory = get_data_directory(config)\n",
    "\n",
    "cache_filepath = os.path.join(data_directory, 'cache', 'dmlc_comparison.yaml')\n",
    "cache_scratch_filepath = os.path.join(data_directory, 'cache', 'dmlc_comparison_scratch.yaml')\n",
    "\n",
    "with open(cache_filepath, 'r') as cache_file:\n",
    "    cache = yaml.load(cache_file)"
   ]
  },
  {
   "cell_type": "code",
   "execution_count": null,
   "metadata": {},
   "outputs": [],
   "source": [
    "patient_ids = list(cache.keys())\n",
    "len(patient_ids)"
   ]
  },
  {
   "cell_type": "code",
   "execution_count": null,
   "metadata": {},
   "outputs": [],
   "source": [
    "data = []\n",
    "\n",
    "for patient_id in patient_ids:\n",
    "    for byfield in cache[patient_id]:\n",
    "        for angle in cache[patient_id][byfield]:\n",
    "            comparison = cache[patient_id][byfield][angle]['median']\n",
    "            file_hashes = cache[patient_id][byfield][angle]['median_filehash_group']\n",
    "            all_comparisons = cache[patient_id][byfield][angle]['comparisons']\n",
    "            all_comparisons_flat = []\n",
    "            for key, value in all_comparisons.items():\n",
    "                all_comparisons_flat.append(value)\n",
    "            \n",
    "            data.append([\n",
    "                patient_id, byfield, angle, comparison, file_hashes, tuple(all_comparisons_flat)\n",
    "            ])\n",
    "            \n",
    "comparisons_table = pd.DataFrame(\n",
    "    columns=[\n",
    "        'patient_id', 'field_id',\n",
    "        'gantry_angle', 'comparison',\n",
    "        'file_hashes', 'all_comparisons'\n",
    "    ],\n",
    "    data=data\n",
    ")\n",
    "\n",
    "comparisons_table = comparisons_table.sort_values('comparison', ascending=False)\n",
    "top_ten = comparisons_table.iloc[0:10]\n",
    "top_ten"
   ]
  },
  {
   "cell_type": "code",
   "execution_count": null,
   "metadata": {},
   "outputs": [],
   "source": [
    "len(comparisons_table)"
   ]
  },
  {
   "cell_type": "code",
   "execution_count": null,
   "metadata": {},
   "outputs": [],
   "source": []
  },
  {
   "cell_type": "code",
   "execution_count": null,
   "metadata": {},
   "outputs": [],
   "source": [
    "with mosaiq_connect('msqsql') as cursor:\n",
    "    for row in top_ten.itertuples():\n",
    "        display(Markdown(\n",
    "            \"### Patient ID: {}\\n\\n\"\n",
    "            \"Field ID: {}\\n\\n\"\n",
    "            \"Gantry Angle: {}\\n\\n\"\n",
    "            \"Cached Median Comparison: {}\\n\\n\"\n",
    "            \"All Comparisons: {}\".format(\n",
    "                row.patient_id,\n",
    "                row.field_id,\n",
    "                row.gantry_angle,\n",
    "                row.comparison,\n",
    "                row.all_comparisons\n",
    "            )\n",
    "        ))\n",
    "        logfile_group = row.file_hashes\n",
    "        gantry_angle = row.gantry_angle\n",
    "        \n",
    "        comparison = compare_logfile_group_bygantry(\n",
    "            index, config, cursor, logfile_group, gantry_angle)"
   ]
  },
  {
   "cell_type": "code",
   "execution_count": null,
   "metadata": {},
   "outputs": [],
   "source": []
  },
  {
   "cell_type": "code",
   "execution_count": null,
   "metadata": {},
   "outputs": [],
   "source": []
  },
  {
   "cell_type": "code",
   "execution_count": null,
   "metadata": {},
   "outputs": [],
   "source": []
  }
 ],
 "metadata": {
  "kernelspec": {
   "display_name": "Python 3",
   "language": "python",
   "name": "python3"
  },
  "language_info": {
   "codemirror_mode": {
    "name": "ipython",
    "version": 3
   },
   "file_extension": ".py",
   "mimetype": "text/x-python",
   "name": "python",
   "nbconvert_exporter": "python",
   "pygments_lexer": "ipython3",
   "version": "3.7.0"
  }
 },
 "nbformat": 4,
 "nbformat_minor": 2
}
