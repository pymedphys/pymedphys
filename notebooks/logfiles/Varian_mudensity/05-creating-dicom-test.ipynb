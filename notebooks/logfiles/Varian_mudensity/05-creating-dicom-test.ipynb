{
 "cells": [
  {
   "cell_type": "code",
   "execution_count": null,
   "metadata": {},
   "outputs": [],
   "source": [
    "import io\n",
    "import zipfile\n",
    "\n",
    "from glob import glob\n",
    "\n",
    "import numpy as np\n",
    "import matplotlib.pyplot as plt\n",
    "import pandas as pd\n",
    "\n",
    "import pydicom\n",
    "from pydicom.filebase import DicomBytesIO\n",
    "\n",
    "from pymedphys.mudensity import calc_mu_density, get_grid\n",
    "from pymedphys.dicom import dcm_from_dict"
   ]
  },
  {
   "cell_type": "code",
   "execution_count": null,
   "metadata": {},
   "outputs": [],
   "source": [
    "zip_filepath = glob('../../../tests/data/logfiles/Trilogy/*')[0]"
   ]
  },
  {
   "cell_type": "code",
   "execution_count": null,
   "metadata": {},
   "outputs": [],
   "source": [
    "with open(zip_filepath, 'rb') as input_file:\n",
    "    data = io.BytesIO(input_file.read())"
   ]
  },
  {
   "cell_type": "code",
   "execution_count": null,
   "metadata": {},
   "outputs": [],
   "source": [
    "data_zip = zipfile.ZipFile(data)"
   ]
  },
  {
   "cell_type": "code",
   "execution_count": null,
   "metadata": {},
   "outputs": [],
   "source": [
    "data_zip.namelist()"
   ]
  },
  {
   "cell_type": "code",
   "execution_count": null,
   "metadata": {},
   "outputs": [],
   "source": [
    "namelist = data_zip.namelist()\n",
    "\n",
    "dicom_files = [path for path in namelist if path.endswith('.dcm')]\n",
    "dicom_files"
   ]
  },
  {
   "cell_type": "code",
   "execution_count": null,
   "metadata": {},
   "outputs": [],
   "source": [
    "with data_zip.open('VMAT_TS4_2-field_H&N/RP.VMAT_TS4_2-field.dcm') as fp:\n",
    "    raw = DicomBytesIO(fp.read())\n",
    "    dcm_original = pydicom.dcmread(raw)"
   ]
  },
  {
   "cell_type": "code",
   "execution_count": null,
   "metadata": {},
   "outputs": [],
   "source": [
    "leaf_widths = [5,5,5]"
   ]
  },
  {
   "cell_type": "code",
   "execution_count": null,
   "metadata": {},
   "outputs": [],
   "source": [
    "# calc_mu_density?"
   ]
  },
  {
   "cell_type": "code",
   "execution_count": null,
   "metadata": {},
   "outputs": [],
   "source": []
  },
  {
   "cell_type": "code",
   "execution_count": null,
   "metadata": {},
   "outputs": [],
   "source": [
    "MU = [0, 10, 20]\n",
    "\n",
    "\n",
    "MLC = np.array([\n",
    "    [\n",
    "        [3, -3],\n",
    "        [3, -3],\n",
    "        [3, -3]\n",
    "    ],\n",
    "    [\n",
    "        [3, 3],\n",
    "        [3, 3],\n",
    "        [3, 3]\n",
    "    ],\n",
    "    [\n",
    "        [-3, 3],\n",
    "        [-3, 3],\n",
    "        [-3, 3]\n",
    "    ]\n",
    "])\n",
    "\n",
    "JAW = np.array([\n",
    "    [3, 3],\n",
    "    [3, 3],\n",
    "    [3, 3]\n",
    "])\n",
    "\n",
    "LEAF_PAIR_WIDTHS = [2, 2, 2]\n",
    "\n",
    "MAX_LEAF_GAP = 8\n",
    "\n",
    "mu_density = calc_mu_density(MU, MLC, JAW, leaf_pair_widths=LEAF_PAIR_WIDTHS, max_leaf_gap=MAX_LEAF_GAP, grid_resolution=2)\n",
    "\n",
    "mu_density"
   ]
  },
  {
   "cell_type": "code",
   "execution_count": null,
   "metadata": {},
   "outputs": [],
   "source": [
    "get_grid(leaf_pair_widths=LEAF_PAIR_WIDTHS, max_leaf_gap=MAX_LEAF_GAP, grid_resolution=2)"
   ]
  },
  {
   "cell_type": "code",
   "execution_count": null,
   "metadata": {},
   "outputs": [],
   "source": [
    "leaf_boundaries = [0] + np.cumsum(LEAF_PAIR_WIDTHS).tolist()\n",
    "leaf_boundaries = np.array(leaf_boundaries) - np.mean(leaf_boundaries)\n",
    "\n",
    "dcm = dcm_from_dict({\n",
    "    'BeamSequence': [\n",
    "        {\n",
    "            'BeamLimitingDeviceSequence': [\n",
    "                {\n",
    "                    'RTBeamLimitingDeviceType': 'MLCX',\n",
    "                    'LeafPositionBoundaries': leaf_boundaries,\n",
    "                    'NumberOfLeafJawPairs': len(leaf_boundaries) - 1\n",
    "                }\n",
    "            ]\n",
    "        }\n",
    "    ]\n",
    "})"
   ]
  },
  {
   "cell_type": "code",
   "execution_count": null,
   "metadata": {},
   "outputs": [],
   "source": [
    "MU[0]"
   ]
  },
  {
   "cell_type": "code",
   "execution_count": null,
   "metadata": {},
   "outputs": [],
   "source": [
    "dcm"
   ]
  },
  {
   "cell_type": "code",
   "execution_count": null,
   "metadata": {},
   "outputs": [],
   "source": [
    "dcm_original"
   ]
  },
  {
   "cell_type": "code",
   "execution_count": null,
   "metadata": {},
   "outputs": [],
   "source": []
  },
  {
   "cell_type": "code",
   "execution_count": null,
   "metadata": {},
   "outputs": [],
   "source": [
    "# dcm"
   ]
  },
  {
   "cell_type": "code",
   "execution_count": null,
   "metadata": {},
   "outputs": [],
   "source": [
    "beam_sequence = dcm.BeamSequence[0]"
   ]
  },
  {
   "cell_type": "code",
   "execution_count": null,
   "metadata": {},
   "outputs": [],
   "source": [
    "mlc_beam_limiting_device = beam_sequence.BeamLimitingDeviceSequence[2]"
   ]
  },
  {
   "cell_type": "code",
   "execution_count": null,
   "metadata": {},
   "outputs": [],
   "source": [
    "leaf_boundaries = mlc_beam_limiting_device.LeafPositionBoundaries\n",
    "leaf_widths = np.diff(leaf_boundaries)\n",
    "leaf_widths"
   ]
  },
  {
   "cell_type": "code",
   "execution_count": null,
   "metadata": {},
   "outputs": [],
   "source": [
    "beam_sequence.SourceAxisDistance"
   ]
  },
  {
   "cell_type": "code",
   "execution_count": null,
   "metadata": {},
   "outputs": [],
   "source": [
    "mlc_beam_limiting_device"
   ]
  },
  {
   "cell_type": "code",
   "execution_count": null,
   "metadata": {},
   "outputs": [],
   "source": [
    "mlc_pos_scaling_factor = beam_sequence.SourceAxisDistance / mlc_beam_limiting_device.SourceToBeamLimitingDeviceDistance\n",
    "mlc_pos_scaling_factor"
   ]
  },
  {
   "cell_type": "code",
   "execution_count": null,
   "metadata": {},
   "outputs": [],
   "source": [
    "# https://github.com/jrkerns/pylinac/blob/master/pylinac/log_analyzer.py#L781\n",
    "pylinac_dynalog_leaf_conversion = 1.96614"
   ]
  },
  {
   "cell_type": "code",
   "execution_count": null,
   "metadata": {},
   "outputs": [],
   "source": [
    "assert beam_sequence.BeamLimitingDeviceSequence[2].NumberOfLeafJawPairs == len(leaf_widths)\n",
    "\n",
    "num_leaves = len(leaf_widths)"
   ]
  },
  {
   "cell_type": "code",
   "execution_count": null,
   "metadata": {},
   "outputs": [],
   "source": [
    "control_points = beam_sequence.ControlPointSequence"
   ]
  },
  {
   "cell_type": "code",
   "execution_count": null,
   "metadata": {},
   "outputs": [],
   "source": [
    "dcm_mlcs = [\n",
    "    control_point.BeamLimitingDevicePositionSequence[-1].LeafJawPositions\n",
    "    for control_point in control_points\n",
    "]\n",
    "\n",
    "dcm_mlcs = [\n",
    "    np.array([mlc[num_leaves::], -np.array(mlc[0:num_leaves])]).T\n",
    "    for mlc in dcm_mlcs\n",
    "]\n",
    "\n",
    "dcm_mlcs = np.array(dcm_mlcs)\n",
    "np.shape(dcm_mlcs)"
   ]
  },
  {
   "cell_type": "code",
   "execution_count": null,
   "metadata": {},
   "outputs": [],
   "source": [
    "control_points[0].BeamLimitingDevicePositionSequence[1]"
   ]
  },
  {
   "cell_type": "code",
   "execution_count": null,
   "metadata": {},
   "outputs": [],
   "source": [
    "dicom_jaw = control_points[0].BeamLimitingDevicePositionSequence[1].LeafJawPositions\n",
    "\n",
    "dcm_jaw = np.array(dicom_jaw)[-1::-1]\n",
    "dcm_jaw[1] = -dcm_jaw[1]\n",
    "\n",
    "dcm_jaw = dcm_jaw[None,:] + np.zeros([50,1])\n",
    "\n",
    "np.shape(dcm_jaw)"
   ]
  },
  {
   "cell_type": "code",
   "execution_count": null,
   "metadata": {},
   "outputs": [],
   "source": [
    "total_mu = np.array(dcm.FractionGroupSequence[0].ReferencedBeamSequence[0].BeamMeterset)\n",
    "total_mu"
   ]
  },
  {
   "cell_type": "code",
   "execution_count": null,
   "metadata": {},
   "outputs": [],
   "source": [
    "final_mu_weight = np.array(beam_sequence.FinalCumulativeMetersetWeight)\n",
    "final_mu_weight"
   ]
  },
  {
   "cell_type": "code",
   "execution_count": null,
   "metadata": {},
   "outputs": [],
   "source": [
    "dcm_mu = [\n",
    "    total_mu * np.array(control_point.CumulativeMetersetWeight) / final_mu_weight\n",
    "    for control_point in control_points\n",
    "]\n",
    "dcm_mu = np.array(dcm_mu)\n",
    "np.shape(dcm_mu)"
   ]
  },
  {
   "cell_type": "code",
   "execution_count": null,
   "metadata": {},
   "outputs": [],
   "source": [
    "dcm_mu_density = calc_mu_density(dcm_mu, dcm_mlcs, dcm_jaw, leaf_pair_widths=leaf_widths, grid_resolution=5)"
   ]
  },
  {
   "cell_type": "code",
   "execution_count": null,
   "metadata": {},
   "outputs": [],
   "source": [
    "# pd.read_csv?"
   ]
  },
  {
   "cell_type": "code",
   "execution_count": null,
   "metadata": {},
   "outputs": [],
   "source": [
    "with data_zip.open('VMAT_TS4_2-field_H&N/A20190110141052_Anonymous.dlg') as fp:\n",
    "    dfA = pd.read_csv(fp, skiprows=6, header=None)\n",
    "    \n",
    "with data_zip.open('VMAT_TS4_2-field_H&N/B20190110141052_Anonymous.dlg') as fp:\n",
    "    dfB = pd.read_csv(fp, skiprows=6, header=None)"
   ]
  },
  {
   "cell_type": "code",
   "execution_count": null,
   "metadata": {},
   "outputs": [],
   "source": [
    "# dfA"
   ]
  },
  {
   "cell_type": "code",
   "execution_count": null,
   "metadata": {},
   "outputs": [],
   "source": [
    "dynalog_arrayA = dfA.values\n",
    "dynalog_arrayB = dfB.values\n",
    "# dynalog_arrayA[-1,:]"
   ]
  },
  {
   "cell_type": "code",
   "execution_count": null,
   "metadata": {},
   "outputs": [],
   "source": [
    "Y1A = dynalog_arrayA[:,8]\n",
    "Y1B = dynalog_arrayB[:,8]\n",
    "\n",
    "assert np.all(Y1A == Y1B)\n",
    "\n",
    "Y2A = dynalog_arrayA[:,9]\n",
    "Y2B = dynalog_arrayB[:,9]\n",
    "\n",
    "assert np.all(Y2A == Y2B)\n",
    "\n",
    "\n",
    "jaw = np.array([Y1A, Y2A]).T\n",
    "np.shape(jaw)\n",
    "\n",
    "# jaw"
   ]
  },
  {
   "cell_type": "code",
   "execution_count": null,
   "metadata": {},
   "outputs": [],
   "source": [
    "# mlc_1 = dynalog_array[:,14::4]\n",
    "mlc_A = dynalog_arrayA[:,15::4] / 100\n",
    "mlc_B = dynalog_arrayB[:,15::4] / 100\n",
    "# mlc_3 = dynalog_array[:,16::4]\n",
    "# mlc_4 = dynalog_array[:,17::4]"
   ]
  },
  {
   "cell_type": "markdown",
   "metadata": {},
   "source": [
    "## Couldn't find total MU with Logfile"
   ]
  },
  {
   "cell_type": "code",
   "execution_count": null,
   "metadata": {},
   "outputs": [],
   "source": [
    "### COULDN'T FIND TOTAL MU WITHIN LOGFILE ###\n",
    "assumed_total_mu = total_mu"
   ]
  },
  {
   "cell_type": "code",
   "execution_count": null,
   "metadata": {},
   "outputs": [],
   "source": [
    "muA = dynalog_arrayA[:,0] / np.max(dynalog_arrayA[:,0]) * assumed_total_mu\n",
    "muB = dynalog_arrayB[:,0] / np.max(dynalog_arrayB[:,0]) * assumed_total_mu\n",
    "\n",
    "assert np.all(muA == muB)\n",
    "\n",
    "mu = muA\n",
    "\n",
    "np.shape(mu)"
   ]
  },
  {
   "cell_type": "code",
   "execution_count": null,
   "metadata": {},
   "outputs": [],
   "source": [
    "# mlc_1"
   ]
  },
  {
   "cell_type": "code",
   "execution_count": null,
   "metadata": {},
   "outputs": [],
   "source": [
    "mlcs = np.swapaxes(np.array([mlc_A, mlc_B]).T, 0, 1)\n",
    "mlcs = mlcs\n",
    "\n",
    "mlcs = pylinac_dynalog_leaf_conversion * mlcs\n",
    "np.shape(mlcs)"
   ]
  },
  {
   "cell_type": "code",
   "execution_count": null,
   "metadata": {},
   "outputs": [],
   "source": [
    "# for i in range(60):\n",
    "#     plt.figure()\n",
    "#     plt.plot(mlc_A[:,i])\n",
    "#     plt.plot(-mlc_B[:,i])\n",
    "\n",
    "#     plt.title(i)\n",
    "#     plt.show()"
   ]
  },
  {
   "cell_type": "code",
   "execution_count": null,
   "metadata": {},
   "outputs": [],
   "source": [
    "# calc_mu_density?"
   ]
  },
  {
   "cell_type": "code",
   "execution_count": null,
   "metadata": {},
   "outputs": [],
   "source": [
    "mu_density = calc_mu_density(mu, mlcs, jaw, leaf_pair_widths=leaf_widths, grid_resolution=5)"
   ]
  },
  {
   "cell_type": "code",
   "execution_count": null,
   "metadata": {},
   "outputs": [],
   "source": [
    "grid = get_grid(leaf_pair_widths=leaf_widths,grid_resolution=5)"
   ]
  },
  {
   "cell_type": "code",
   "execution_count": null,
   "metadata": {},
   "outputs": [],
   "source": [
    "plt.figure(figsize=(10,8.5))\n",
    "plt.pcolormesh(grid['mlc'][-1::-1], grid['jaw'][-1::-1], mu_density)\n",
    "plt.colorbar()\n",
    "plt.xlabel('MLCX direction (mm)')\n",
    "plt.ylabel('ASYMY travel direction (mm)')\n",
    "\n",
    "plt.axis('equal')"
   ]
  },
  {
   "cell_type": "code",
   "execution_count": null,
   "metadata": {},
   "outputs": [],
   "source": [
    "plt.figure(figsize=(10,8.5))\n",
    "plt.pcolormesh(grid['mlc'][-1::-1], grid['jaw'][-1::-1], dcm_mu_density)\n",
    "plt.colorbar()\n",
    "plt.xlabel('MLCX direction (mm)')\n",
    "plt.ylabel('ASYMY travel direction (mm)')\n",
    "\n",
    "plt.axis('equal')"
   ]
  },
  {
   "cell_type": "code",
   "execution_count": null,
   "metadata": {},
   "outputs": [],
   "source": [
    "np.shape(dcm_mu_density)"
   ]
  },
  {
   "cell_type": "code",
   "execution_count": null,
   "metadata": {},
   "outputs": [],
   "source": [
    "diff = mu_density - dcm_mu_density\n",
    "max_range = np.max(np.abs(diff))\n",
    "\n",
    "\n",
    "plt.figure(figsize=(10,8.5))\n",
    "plt.pcolormesh(grid['mlc'][-1::-1], grid['jaw'][-1::-1], diff, vmin=-max_range, vmax=max_range, cmap='bwr')\n",
    "plt.colorbar()\n",
    "plt.xlabel('MLCX direction (mm)')\n",
    "plt.ylabel('ASYMY travel direction (mm)')\n",
    "\n",
    "plt.axis('equal')"
   ]
  },
  {
   "cell_type": "code",
   "execution_count": null,
   "metadata": {},
   "outputs": [],
   "source": [
    "dicom_colour = '#1f77b4'\n",
    "logfile_colour = '#ff7f0e'\n",
    "\n",
    "\n",
    "for i in range(60):\n",
    "    plt.figure()\n",
    "    plt.title(\"Leaf #{}\".format(i+1))\n",
    "    plt.plot(dcm_mu, dcm_mlcs[:,i,0], c=dicom_colour, label='dicom')\n",
    "    plt.plot(mu, mlcs[:,i,0], c=logfile_colour, label='logfile')\n",
    "    \n",
    "    plt.legend()\n",
    "    \n",
    "    plt.plot(dcm_mu, -dcm_mlcs[:,i,1], c=dicom_colour)\n",
    "    plt.plot(mu, -mlcs[:,i,1], c=logfile_colour)\n",
    "    plt.show()"
   ]
  },
  {
   "cell_type": "code",
   "execution_count": null,
   "metadata": {},
   "outputs": [],
   "source": []
  },
  {
   "cell_type": "code",
   "execution_count": null,
   "metadata": {},
   "outputs": [],
   "source": []
  },
  {
   "cell_type": "code",
   "execution_count": null,
   "metadata": {},
   "outputs": [],
   "source": []
  }
 ],
 "metadata": {
  "kernelspec": {
   "display_name": "Python 3",
   "language": "python",
   "name": "python3"
  },
  "language_info": {
   "codemirror_mode": {
    "name": "ipython",
    "version": 3
   },
   "file_extension": ".py",
   "mimetype": "text/x-python",
   "name": "python",
   "nbconvert_exporter": "python",
   "pygments_lexer": "ipython3",
   "version": "3.6.6"
  }
 },
 "nbformat": 4,
 "nbformat_minor": 2
}
