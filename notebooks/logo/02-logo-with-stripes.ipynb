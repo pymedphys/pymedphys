{
 "cells": [
  {
   "cell_type": "code",
   "execution_count": null,
   "metadata": {},
   "outputs": [],
   "source": [
    "import random\n",
    "\n",
    "import numpy as np\n",
    "import matplotlib.pyplot as plt\n",
    "%matplotlib inline\n",
    "\n",
    "import shapely.geometry as geo\n",
    "import shapely.affinity as aff\n",
    "from descartes.patch import PolygonPatch"
   ]
  },
  {
   "cell_type": "code",
   "execution_count": null,
   "metadata": {},
   "outputs": [],
   "source": [
    "random.seed(1618)"
   ]
  },
  {
   "cell_type": "code",
   "execution_count": null,
   "metadata": {},
   "outputs": [],
   "source": [
    "colours = plt.cm.viridis(np.linspace(0,1,10))\n",
    "golden_ratio = (1 + np.sqrt(5)) / 2"
   ]
  },
  {
   "cell_type": "code",
   "execution_count": null,
   "metadata": {},
   "outputs": [],
   "source": [
    "bound = 4\n",
    "body_buffer = 0.14\n",
    "head_buffer = body_buffer * golden_ratio\n",
    "head_stretch = 1.3\n",
    "\n",
    "expected_x_bounds = np.array([-bound - body_buffer, bound + head_buffer])\n",
    "length = np.diff(expected_x_bounds)\n",
    "height = length / golden_ratio\n",
    "desired_amplitude = height / 2 - body_buffer\n",
    "\n",
    "def snake_wave_packet(x):\n",
    "    x = np.array(x)\n",
    "    return desired_amplitude * np.exp(-x**2/2) * np.sin(2 * np.pi * x) \n",
    "\n",
    "expected_y_bounds = np.ravel([-height/2, height/2])\n",
    "\n",
    "assert np.diff(expected_x_bounds) / np.diff(expected_y_bounds) == golden_ratio"
   ]
  },
  {
   "cell_type": "code",
   "execution_count": null,
   "metadata": {},
   "outputs": [],
   "source": []
  },
  {
   "cell_type": "code",
   "execution_count": null,
   "metadata": {},
   "outputs": [],
   "source": [
    "epsilon = 0.1\n",
    "x_init = bound - head_buffer * head_stretch\n",
    "\n",
    "y_vals = snake_wave_packet([x_init, x_init + epsilon])\n",
    "ydiff = np.diff(y_vals)\n",
    "y_init = y_vals[0]\n",
    "\n",
    "head_shift = head_buffer * head_stretch\n",
    "hypot = np.sqrt(epsilon**2 + ydiff**2)\n",
    "num_shifts = head_shift / hypot\n",
    "neck_shring = 1\n",
    "\n",
    "head_angle = np.arctan(ydiff / epsilon) / np.pi * 180\n",
    "head_middle_x = x_init + epsilon * num_shifts * neck_shring\n",
    "head_middle_y = y_init + ydiff * num_shifts * neck_shring"
   ]
  },
  {
   "cell_type": "code",
   "execution_count": null,
   "metadata": {},
   "outputs": [],
   "source": [
    "tongue_length = 0.1\n",
    "tongue_buffer = 0.02\n",
    "fork_angles = 35\n",
    "\n",
    "tongue_init_x = head_middle_x + epsilon * num_shifts\n",
    "tongue_init_y = head_middle_y + ydiff * num_shifts\n",
    "\n",
    "tongue_shift_num = tongue_length / hypot\n",
    "\n",
    "tongue_shift_x = epsilon * tongue_shift_num\n",
    "tongue_shift_y = ydiff * tongue_shift_num\n",
    "\n",
    "tongue_fork_x = tongue_init_x + tongue_shift_x\n",
    "tongue_fork_y = tongue_init_y + tongue_shift_y\n",
    "\n",
    "tongue_base = geo.LineString(\n",
    "    [(tongue_init_x, tongue_init_y), (tongue_fork_x, tongue_fork_y)]\n",
    ").buffer(tongue_buffer)\n",
    "\n",
    "tongue_base\n",
    "\n",
    "tongue_top_fork = aff.rotate(tongue_base, fork_angles, origin=(tongue_init_x, tongue_init_y))\n",
    "tongue_top_fork = aff.translate(tongue_top_fork, tongue_shift_x, tongue_shift_y)\n",
    "\n",
    "tongue_bot_fork = aff.rotate(tongue_base, -fork_angles, origin=(tongue_init_x, tongue_init_y))\n",
    "tongue_bot_fork = aff.translate(tongue_bot_fork, tongue_shift_x, tongue_shift_y)\n",
    "\n",
    "\n",
    "tongue = tongue_base.union(tongue_top_fork).union(tongue_bot_fork)\n",
    "tongue"
   ]
  },
  {
   "cell_type": "code",
   "execution_count": null,
   "metadata": {},
   "outputs": [],
   "source": []
  },
  {
   "cell_type": "code",
   "execution_count": null,
   "metadata": {},
   "outputs": [],
   "source": [
    "# head_angle"
   ]
  },
  {
   "cell_type": "code",
   "execution_count": null,
   "metadata": {},
   "outputs": [],
   "source": [
    "# ydiff"
   ]
  },
  {
   "cell_type": "code",
   "execution_count": null,
   "metadata": {},
   "outputs": [],
   "source": [
    "# np.arctan(ydiff / epsilon) / np.pi * 180"
   ]
  },
  {
   "cell_type": "code",
   "execution_count": null,
   "metadata": {},
   "outputs": [],
   "source": [
    "point = geo.Point(head_middle_x, head_middle_y)\n",
    "head = point.buffer(head_buffer)\n",
    "head = aff.scale(head, head_stretch, 1, origin=point)\n",
    "head = aff.rotate(head, head_angle, origin=point)\n",
    "head = head.union(tongue)\n",
    "\n",
    "head"
   ]
  },
  {
   "cell_type": "code",
   "execution_count": null,
   "metadata": {},
   "outputs": [],
   "source": [
    "x = np.linspace(-bound, x_init, 1000)\n",
    "y = snake_wave_packet(x)\n",
    "centre_line = geo.LineString(zip(x, y))\n",
    "centre_line"
   ]
  },
  {
   "cell_type": "code",
   "execution_count": null,
   "metadata": {},
   "outputs": [],
   "source": [
    "body = centre_line.buffer(body_buffer)\n",
    "body"
   ]
  },
  {
   "cell_type": "code",
   "execution_count": null,
   "metadata": {},
   "outputs": [],
   "source": [
    "snake = body.union(head)\n",
    "snake"
   ]
  },
  {
   "cell_type": "code",
   "execution_count": null,
   "metadata": {},
   "outputs": [],
   "source": [
    "# def plot_bounds():\n",
    "#     plt.plot([expected_x_bounds[0], expected_x_bounds[1]], [expected_y_bounds[0], expected_y_bounds[0]], 'k', linewidth=0.5)\n",
    "#     plt.plot([expected_x_bounds[0], expected_x_bounds[1]], [expected_y_bounds[1], expected_y_bounds[1]], 'k', linewidth=0.5)\n",
    "    \n",
    "#     plt.plot([expected_x_bounds[0], expected_x_bounds[0]], [expected_y_bounds[0], expected_y_bounds[1]], 'k', linewidth=0.5)\n",
    "#     plt.plot([expected_x_bounds[1], expected_x_bounds[1]], [expected_y_bounds[0], expected_y_bounds[1]], 'k', linewidth=0.5)"
   ]
  },
  {
   "cell_type": "code",
   "execution_count": null,
   "metadata": {},
   "outputs": [],
   "source": [
    "xmin, ymin, xmax, ymax = snake.bounds"
   ]
  },
  {
   "cell_type": "code",
   "execution_count": null,
   "metadata": {},
   "outputs": [],
   "source": [
    "number_of_stripes = 100\n",
    "\n",
    "stripe_x = np.random.uniform(xmin, xmax, size=number_of_stripes)\n",
    "stripe_thickness = np.random.uniform(body_buffer/2, body_buffer, size=number_of_stripes)\n",
    "stripe_x_next = stipe_x + epsilon\n",
    "\n",
    "stripe_y = snake_wave_packet(stipe_x)\n",
    "stripe_y_next = snake_wave_packet(stripe_x_next)\n",
    "\n",
    "gradient = (stripe_y_next - stripe_y) / (stripe_x_next - stipe_x)\n",
    "perp = -1/gradient\n",
    "# norm = np.sqrt(np.sum(perp**2, axis=1))\n",
    "# perp = perp / norm[:, None]\n",
    "\n",
    "norm = np.sqrt((epsilon * perp)**2 + epsilon**2)\n",
    "\n",
    "x_shifts = epsilon / norm\n",
    "y_shifts = epsilon * perp / norm\n",
    "\n",
    "coords_stripe_a_x = stripe_x + x_shifts\n",
    "coords_stripe_a_y = stripe_y + y_shifts\n",
    "coords_stripe_a = zip(coords_stripe_a_x, coords_stripe_a_y)\n",
    "\n",
    "coords_stripe_b_x = stripe_x - x_shifts\n",
    "coords_stripe_b_y = stripe_y - y_shifts\n",
    "coords_stripe_b = zip(coords_stripe_b_x, coords_stripe_b_y)\n",
    "\n",
    "stripes = [\n",
    "    geo.LineString([a, b]).buffer(thickness).intersection(snake)\n",
    "    for a, b, thickness in zip(coords_stripe_a, coords_stripe_b, stripe_thickness)\n",
    "]\n",
    "\n",
    "\n",
    "stripes[0]"
   ]
  },
  {
   "cell_type": "code",
   "execution_count": null,
   "metadata": {},
   "outputs": [],
   "source": [
    "number_of_stripes = 400\n",
    "\n",
    "resampled = geo.LineString([\n",
    "    centre_line.interpolate(i, normalized=True) \n",
    "    for i in np.linspace(0,1, number_of_stripes*10)])\n",
    "\n",
    "coords = resampled.coords\n",
    "\n",
    "x_coords = np.array(coords)[:,0]"
   ]
  },
  {
   "cell_type": "code",
   "execution_count": null,
   "metadata": {},
   "outputs": [],
   "source": [
    "\n",
    "\n",
    "\n",
    "def create_stripe(snake, body_buffer):\n",
    "\n",
    "    \n",
    "    \n",
    "    \n",
    "    stripe_length = body_buffer * 0.5\n",
    "    epsilon = 0.001\n",
    "    xmin, ymin, xmax, ymax = snake.bounds\n",
    "    \n",
    "#     stripe_x = np.random.uniform(xmin, xmax)\n",
    "    stripe_x = np.random.choice(x_coords)\n",
    "    \n",
    "    \n",
    "    stripe_thickness = np.random.uniform(body_buffer/3, body_buffer*0.8)\n",
    "    stripe_x_next = stripe_x + epsilon\n",
    "\n",
    "    stripe_y = snake_wave_packet(stripe_x)\n",
    "    stripe_y_next = snake_wave_packet(stripe_x_next)\n",
    "\n",
    "    gradient = (stripe_y_next - stripe_y) / (stripe_x_next - stripe_x)\n",
    "    perp = -1/gradient\n",
    "\n",
    "    norm = np.sqrt((epsilon * perp)**2 + epsilon**2)\n",
    "\n",
    "    x_shift = epsilon / norm * stripe_length\n",
    "    y_shift = epsilon * perp / norm * stripe_length\n",
    "\n",
    "    coords_stripe_a_x = stripe_x + x_shift\n",
    "    coords_stripe_a_y = stripe_y + y_shift\n",
    "    coords_stripe_a = (coords_stripe_a_x, coords_stripe_a_y)\n",
    "#     print(coords_stripe_a)\n",
    "\n",
    "    coords_stripe_b_x = stripe_x - x_shift\n",
    "    coords_stripe_b_y = stripe_y - y_shift\n",
    "    coords_stripe_b = (coords_stripe_b_x, coords_stripe_b_y)\n",
    "\n",
    "    stripe = geo.LineString(\n",
    "        [coords_stripe_a, coords_stripe_b]).buffer(stripe_thickness, cap_style=2)\n",
    "    \n",
    "    if stripe.intersects(snake):\n",
    "        return stripe.intersection(snake)\n",
    "    else:\n",
    "        return create_stripe(snake, body_buffer)\n",
    "\n",
    "\n",
    "stripes = [\n",
    "    create_stripe(snake, body_buffer)\n",
    "    for i in range(number_of_stripes)\n",
    "]\n",
    "\n",
    "stripe_colours = colours[np.random.choice(np.arange(len(colours)), size=len(stripes))]"
   ]
  },
  {
   "cell_type": "code",
   "execution_count": null,
   "metadata": {},
   "outputs": [],
   "source": [
    "\n",
    "\n",
    "# stripe_thickness = np.random.uniform(body_buffer/2, body_buffer*5, size=number_of_stripes)\n",
    "# stripe_length = body_buffer * 5\n",
    "\n",
    "# resampled = geo.LineString([\n",
    "#     centre_line.interpolate(i, normalized=True) \n",
    "#     for i in np.linspace(0,1, number_of_stripes)])\n",
    "\n",
    "# gradient = np.diff(resampled.coords, axis=0)\n",
    "# perp = -1/gradient\n",
    "\n",
    "# norm = np.sqrt(np.sum(perp**2, axis=1))\n",
    "\n",
    "# perp = perp / norm[:, None]\n",
    "\n",
    "# coords_stripe_mid = resampled.coords[0:-1]\n",
    "# coords_stripe_a = coords_stripe_mid - perp * stripe_length\n",
    "# coords_stripe_b = coords_stripe_mid + perp * stripe_length\n",
    "\n",
    "# stripes = [\n",
    "#     geo.LineString([a, b]).buffer(thickness).intersection(snake)\n",
    "#     for a, b, thickness in zip(coords_stripe_a, coords_stripe_b, stripe_thickness)\n",
    "# ]\n",
    "\n",
    "# stripe_colours = colours[np.random.choice(np.arange(len(colours)), size=len(stripes))]\n",
    "\n",
    "# stripes[0]"
   ]
  },
  {
   "cell_type": "code",
   "execution_count": null,
   "metadata": {},
   "outputs": [],
   "source": [
    "fig = plt.figure(1, figsize=(10,10), dpi=90)\n",
    "fig.set_frameon(True)\n",
    "ax = fig.add_subplot(111)\n",
    "\n",
    "patch = PolygonPatch(snake, facecolor=colours[4])\n",
    "ax.add_patch(patch)\n",
    "\n",
    "plt.xlim(-bound-1, bound+1)\n",
    "plt.ylim(-bound-1, bound+1)\n",
    "\n",
    "to_be_shuffled = np.array(list(zip(stripes, stripe_colours)))\n",
    "np.random.shuffle(to_be_shuffled)\n",
    "\n",
    "for stripe, stripe_colour in to_be_shuffled:\n",
    "    patch = PolygonPatch(stripe, facecolor=stripe_colour, edgecolor=stripe_colour)\n",
    "    ax.add_patch(patch)\n",
    "\n",
    "#     plot_bounds()\n",
    "\n",
    "#     plt.plot(x,y, color='white')\n",
    "\n",
    "plt.show()"
   ]
  },
  {
   "cell_type": "code",
   "execution_count": null,
   "metadata": {},
   "outputs": [],
   "source": []
  },
  {
   "cell_type": "code",
   "execution_count": null,
   "metadata": {},
   "outputs": [],
   "source": []
  },
  {
   "cell_type": "code",
   "execution_count": null,
   "metadata": {},
   "outputs": [],
   "source": []
  },
  {
   "cell_type": "code",
   "execution_count": null,
   "metadata": {},
   "outputs": [],
   "source": []
  }
 ],
 "metadata": {
  "kernelspec": {
   "display_name": "Python 3",
   "language": "python",
   "name": "python3"
  },
  "language_info": {
   "codemirror_mode": {
    "name": "ipython",
    "version": 3
   },
   "file_extension": ".py",
   "mimetype": "text/x-python",
   "name": "python",
   "nbconvert_exporter": "python",
   "pygments_lexer": "ipython3",
   "version": "3.7.1"
  }
 },
 "nbformat": 4,
 "nbformat_minor": 2
}
