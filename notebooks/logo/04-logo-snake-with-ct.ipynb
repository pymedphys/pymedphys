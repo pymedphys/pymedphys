{
 "cells": [
  {
   "cell_type": "code",
   "execution_count": null,
   "metadata": {},
   "outputs": [],
   "source": [
    "import random\n",
    "\n",
    "import numpy as np\n",
    "import matplotlib.pyplot as plt\n",
    "\n",
    "import shapely.geometry as geo\n",
    "import shapely.affinity as aff\n",
    "from descartes.patch import PolygonPatch"
   ]
  },
  {
   "cell_type": "code",
   "execution_count": null,
   "metadata": {},
   "outputs": [],
   "source": [
    "random.seed(1618)"
   ]
  },
  {
   "cell_type": "code",
   "execution_count": null,
   "metadata": {},
   "outputs": [],
   "source": [
    "colours = plt.cm.viridis(np.linspace(0,1,1000))\n",
    "golden_ratio = (1 + np.sqrt(5)) / 2"
   ]
  },
  {
   "cell_type": "code",
   "execution_count": null,
   "metadata": {},
   "outputs": [],
   "source": [
    "bound = 4\n",
    "body_buffer = 0.14\n",
    "head_buffer = body_buffer * golden_ratio\n",
    "head_stretch = 1.3\n",
    "\n",
    "expected_x_bounds = np.array([-bound - body_buffer, bound + head_buffer])\n",
    "length = np.diff(expected_x_bounds)\n",
    "height = length / golden_ratio\n",
    "desired_amplitude = height / 2 - body_buffer\n",
    "\n",
    "def snake_wave_packet(x):\n",
    "    x = np.array(x)\n",
    "    return desired_amplitude * np.exp(-x**2/2) * np.sin(2 * np.pi * x) \n",
    "\n",
    "expected_y_bounds = np.ravel([-height/2, height/2])"
   ]
  },
  {
   "cell_type": "code",
   "execution_count": null,
   "metadata": {},
   "outputs": [],
   "source": [
    "epsilon = 0.1\n",
    "x_init = bound - head_buffer * head_stretch\n",
    "\n",
    "y_vals = snake_wave_packet([x_init, x_init + epsilon])\n",
    "ydiff = np.diff(y_vals)\n",
    "y_init = y_vals[0]\n",
    "\n",
    "head_shift = head_buffer * head_stretch\n",
    "hypot = np.sqrt(epsilon**2 + ydiff**2)\n",
    "num_shifts = head_shift / hypot\n",
    "neck_shring = 1\n",
    "# assert np.diff(expected_x_bounds) / np.diff(expected_y_bounds) == golden_ratio\n",
    "\n",
    "head_angle = np.arctan(ydiff / epsilon) / np.pi * 180\n",
    "head_middle_x = x_init + epsilon * num_shifts * neck_shring\n",
    "head_middle_y = y_init + ydiff * num_shifts * neck_shring"
   ]
  },
  {
   "cell_type": "code",
   "execution_count": null,
   "metadata": {},
   "outputs": [],
   "source": [
    "tongue_length = 0.1\n",
    "tongue_buffer = 0.02\n",
    "fork_angles = 35\n",
    "\n",
    "tongue_init_x = head_middle_x + epsilon * num_shifts\n",
    "tongue_init_y = head_middle_y + ydiff * num_shifts\n",
    "\n",
    "tongue_shift_num = tongue_length / hypot\n",
    "\n",
    "tongue_shift_x = epsilon * tongue_shift_num\n",
    "tongue_shift_y = ydiff * tongue_shift_num\n",
    "\n",
    "tongue_fork_x = tongue_init_x + tongue_shift_x\n",
    "tongue_fork_y = tongue_init_y + tongue_shift_y\n",
    "\n",
    "tongue_base = geo.LineString(\n",
    "    [(tongue_init_x, tongue_init_y), (tongue_fork_x, tongue_fork_y)]\n",
    ").buffer(tongue_buffer)\n",
    "\n",
    "tongue_base\n",
    "\n",
    "tongue_top_fork = aff.rotate(tongue_base, fork_angles, origin=(tongue_init_x, tongue_init_y))\n",
    "tongue_top_fork = aff.translate(tongue_top_fork, tongue_shift_x, tongue_shift_y)\n",
    "\n",
    "tongue_bot_fork = aff.rotate(tongue_base, -fork_angles, origin=(tongue_init_x, tongue_init_y))\n",
    "tongue_bot_fork = aff.translate(tongue_bot_fork, tongue_shift_x, tongue_shift_y)\n",
    "\n",
    "\n",
    "tongue = tongue_base.union(tongue_top_fork).union(tongue_bot_fork)\n",
    "tongue"
   ]
  },
  {
   "cell_type": "code",
   "execution_count": null,
   "metadata": {},
   "outputs": [],
   "source": [
    "point = geo.Point(head_middle_x, head_middle_y)\n",
    "head = point.buffer(head_buffer)\n",
    "head = aff.scale(head, head_stretch, 1, origin=point)\n",
    "head = aff.rotate(head, head_angle, origin=point)\n",
    "head = head.union(tongue)\n",
    "\n",
    "head"
   ]
  },
  {
   "cell_type": "code",
   "execution_count": null,
   "metadata": {},
   "outputs": [],
   "source": [
    "x = np.linspace(-bound, x_init, 1000)\n",
    "y = snake_wave_packet(x)\n",
    "centre_line = geo.LineString(zip(x, y))\n",
    "centre_line"
   ]
  },
  {
   "cell_type": "code",
   "execution_count": null,
   "metadata": {},
   "outputs": [],
   "source": [
    "body = centre_line.buffer(body_buffer)\n",
    "body"
   ]
  },
  {
   "cell_type": "code",
   "execution_count": null,
   "metadata": {},
   "outputs": [],
   "source": [
    "snake = body.union(head)\n",
    "snake"
   ]
  },
  {
   "cell_type": "code",
   "execution_count": null,
   "metadata": {},
   "outputs": [],
   "source": [
    "xmin, ymin, xmax, ymax = snake.bounds"
   ]
  },
  {
   "cell_type": "code",
   "execution_count": null,
   "metadata": {},
   "outputs": [],
   "source": [
    "ring_thickness = 2\n",
    "bound_diff = 0.1\n",
    "ring_outside = bound - bound_diff\n",
    "ring_inside = ring_outside - ring_thickness\n",
    "\n",
    "ring = geo.Point(0,0).buffer(ring_outside).difference(geo.Point(0,0).buffer(ring_inside))\n",
    "ring"
   ]
  },
  {
   "cell_type": "code",
   "execution_count": null,
   "metadata": {},
   "outputs": [],
   "source": [
    "def make_logo(snake_colour, ring_colour):\n",
    "    fig = plt.figure(1, figsize=(10,10), dpi=90)\n",
    "    fig.set_frameon(True)\n",
    "    ax = fig.add_subplot(111)\n",
    "\n",
    "\n",
    "    patch_ring = PolygonPatch(ring, facecolor=ring_colour)\n",
    "    ax.add_patch(patch_ring)\n",
    "\n",
    "    patch_snake = PolygonPatch(snake, facecolor=snake_colour)\n",
    "    ax.add_patch(patch_snake)\n",
    "\n",
    "    plt.xlim(-bound-1, bound+1)\n",
    "    plt.ylim(-bound-1, bound+1)\n",
    "\n",
    "    plt.show()\n",
    "    \n",
    "\n",
    "make_logo(colours[600], colours[400])"
   ]
  },
  {
   "cell_type": "code",
   "execution_count": null,
   "metadata": {},
   "outputs": [],
   "source": [
    "make_logo(colours[600], colours[300])"
   ]
  },
  {
   "cell_type": "code",
   "execution_count": null,
   "metadata": {},
   "outputs": [],
   "source": [
    "make_logo(colours[700], colours[500])"
   ]
  },
  {
   "cell_type": "code",
   "execution_count": null,
   "metadata": {},
   "outputs": [],
   "source": [
    "make_logo(colours[800], colours[500])"
   ]
  },
  {
   "cell_type": "code",
   "execution_count": null,
   "metadata": {},
   "outputs": [],
   "source": [
    "make_logo(colours[650], colours[400])"
   ]
  },
  {
   "cell_type": "code",
   "execution_count": null,
   "metadata": {},
   "outputs": [],
   "source": [
    "make_logo(colours[700], colours[400])"
   ]
  },
  {
   "cell_type": "code",
   "execution_count": null,
   "metadata": {},
   "outputs": [],
   "source": [
    "make_logo(colours[500], colours[400])"
   ]
  },
  {
   "cell_type": "code",
   "execution_count": null,
   "metadata": {},
   "outputs": [],
   "source": [
    "make_logo(colours[630], colours[400])"
   ]
  },
  {
   "cell_type": "code",
   "execution_count": null,
   "metadata": {},
   "outputs": [],
   "source": [
    "def make_logo(snake_colour, ring_colour):\n",
    "    fig = plt.figure(1, figsize=(10,10), dpi=90)\n",
    "    fig.set_frameon(True)\n",
    "    ax = fig.add_subplot(111)\n",
    "\n",
    "\n",
    "    patch_ring = PolygonPatch(ring, facecolor=ring_colour)\n",
    "    ax.add_patch(patch_ring)\n",
    "\n",
    "    patch_snake = PolygonPatch(snake, facecolor=snake_colour, linewidth=golden_ratio)\n",
    "    ax.add_patch(patch_snake)\n",
    "\n",
    "    plt.xlim(-bound-1, bound+1)\n",
    "    plt.ylim(-bound-1, bound+1)\n",
    "    \n",
    "    plt.axis('off')\n",
    "    plt.gca().set_position([0, 0, 1, 1])\n",
    "    plt.savefig(\"logo.svg\", transparent=True)\n",
    "\n",
    "    plt.show()\n",
    "    \n",
    "\n",
    "make_logo(colours[630], colours[400])"
   ]
  }
 ],
 "metadata": {
  "kernelspec": {
   "display_name": "Python 3",
   "language": "python",
   "name": "python3"
  },
  "language_info": {
   "codemirror_mode": {
    "name": "ipython",
    "version": 3
   },
   "file_extension": ".py",
   "mimetype": "text/x-python",
   "name": "python",
   "nbconvert_exporter": "python",
   "pygments_lexer": "ipython3",
   "version": "3.7.1"
  }
 },
 "nbformat": 4,
 "nbformat_minor": 2
}
