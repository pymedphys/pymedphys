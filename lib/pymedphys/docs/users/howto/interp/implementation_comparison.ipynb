{
 "cells": [
  {
   "cell_type": "markdown",
   "metadata": {},
   "source": [
    "# Multilinear Interpolation Comparison"
   ]
  },
  {
   "cell_type": "markdown",
   "metadata": {},
   "source": [
    "### Imports"
   ]
  },
  {
   "cell_type": "code",
   "execution_count": null,
   "metadata": {},
   "outputs": [],
   "source": [
    "from pymedphys._imports import numpy as np\n",
    "from pymedphys._interp import interp"
   ]
  },
  {
   "cell_type": "markdown",
   "metadata": {},
   "source": [
    "### Set up known data"
   ]
  },
  {
   "cell_type": "code",
   "execution_count": null,
   "metadata": {},
   "outputs": [],
   "source": [
    "INTERP_MULTIPLE = 20\n",
    "\n",
    "x_num = 11\n",
    "y_num = 6\n",
    "z_num = 31\n",
    "\n",
    "x = np.linspace(0, 10, x_num)\n",
    "y = np.linspace(10, 20, y_num)\n",
    "z = np.linspace(-20, 10, z_num)\n",
    "\n",
    "X, Y, Z = np.meshgrid(x, y, z, indexing=\"ij\")\n",
    "values = X**2 + Y**2 + Z**2"
   ]
  },
  {
   "cell_type": "markdown",
   "metadata": {},
   "source": [
    "### Set up points for which to interpolate values"
   ]
  },
  {
   "cell_type": "code",
   "execution_count": null,
   "metadata": {},
   "outputs": [],
   "source": [
    "xi = np.linspace(x[0], x[-1], x_num * INTERP_MULTIPLE - 1)\n",
    "yi = np.linspace(y[0], y[-1], y_num * INTERP_MULTIPLE - 1)\n",
    "zi = np.linspace(z[0], z[-1], z_num * INTERP_MULTIPLE - 1)"
   ]
  },
  {
   "cell_type": "markdown",
   "metadata": {},
   "source": [
    "### Interpolate using PyMedPhys interpolator"
   ]
  },
  {
   "cell_type": "code",
   "execution_count": null,
   "metadata": {},
   "outputs": [],
   "source": [
    "values_interp = interp.multilinear_interp(\n",
    "    (x, y, z), values, axes_interp=(xi, yi, zi), algo=\"pymedphys\"\n",
    ").reshape((xi.size, yi.size, zi.size))"
   ]
  },
  {
   "cell_type": "markdown",
   "metadata": {},
   "source": [
    "### Plot a slice"
   ]
  },
  {
   "cell_type": "code",
   "execution_count": null,
   "metadata": {},
   "outputs": [],
   "source": [
    "interp.plot_interp_comparison_heatmap(\n",
    "    values=values,\n",
    "    values_interp=values_interp,\n",
    "    slice_axis=2,\n",
    "    slice_number=0,\n",
    "    slice_number_interp=0,\n",
    ")"
   ]
  },
  {
   "cell_type": "markdown",
   "metadata": {},
   "source": [
    "### Time comparisons"
   ]
  },
  {
   "cell_type": "markdown",
   "metadata": {},
   "source": [
    "PyMedPhys"
   ]
  },
  {
   "cell_type": "code",
   "execution_count": null,
   "metadata": {},
   "outputs": [],
   "source": [
    "%%timeit\n",
    "\n",
    "interp.multilinear_interp(\n",
    "    (x, y, z), values, axes_interp=(xi, yi, zi), algo=\"pymedphys\"\n",
    ").reshape((xi.size, yi.size, zi.size))"
   ]
  },
  {
   "cell_type": "markdown",
   "metadata": {},
   "source": [
    "EconForge"
   ]
  },
  {
   "cell_type": "code",
   "execution_count": null,
   "metadata": {},
   "outputs": [],
   "source": [
    "%%timeit\n",
    "\n",
    "interp.multilinear_interp(\n",
    "    (x, y, z), values, axes_interp=(xi, yi, zi), algo=\"econforge\"\n",
    ").reshape((xi.size, yi.size, zi.size))"
   ]
  },
  {
   "cell_type": "markdown",
   "metadata": {},
   "source": [
    "Scipy"
   ]
  },
  {
   "cell_type": "code",
   "execution_count": null,
   "metadata": {},
   "outputs": [],
   "source": [
    "%%timeit\n",
    "\n",
    "interp.multilinear_interp(\n",
    "    (x, y, z), values, axes_interp=(xi, yi, zi), algo=\"scipy\"\n",
    ").reshape((xi.size, yi.size, zi.size))"
   ]
  }
 ],
 "metadata": {
  "kernelspec": {
   "display_name": "Python 3",
   "language": "python",
   "name": "python3"
  },
  "language_info": {
   "codemirror_mode": {
    "name": "ipython",
    "version": 3
   },
   "file_extension": ".py",
   "mimetype": "text/x-python",
   "name": "python",
   "nbconvert_exporter": "python",
   "pygments_lexer": "ipython3",
   "version": "3.12.3"
  }
 },
 "nbformat": 4,
 "nbformat_minor": 2
}
